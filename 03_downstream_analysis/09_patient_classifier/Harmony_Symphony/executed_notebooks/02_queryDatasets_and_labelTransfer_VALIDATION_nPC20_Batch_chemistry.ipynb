{
 "cells": [
  {
   "cell_type": "code",
   "execution_count": 1,
   "id": "26d8ed69",
   "metadata": {
    "execution": {
     "iopub.execute_input": "2024-06-19T17:27:53.726418Z",
     "iopub.status.busy": "2024-06-19T17:27:53.726011Z",
     "iopub.status.idle": "2024-06-19T17:27:53.731656Z",
     "shell.execute_reply": "2024-06-19T17:27:53.731175Z"
    },
    "papermill": {
     "duration": 0.017283,
     "end_time": "2024-06-19T17:27:53.732745",
     "exception": false,
     "start_time": "2024-06-19T17:27:53.715462",
     "status": "completed"
    },
    "tags": [
     "injected-parameters"
    ]
   },
   "outputs": [],
   "source": [
    "# Parameters\n",
    "nPC = 20\n",
    "batchKeys = \"chemistry\"\n",
    "queryDataset = \"VALIDATION\"\n"
   ]
  },
  {
   "cell_type": "raw",
   "id": "2c824816-2fbb-43a3-9807-722d9facfef3",
   "metadata": {
    "execution": {
     "iopub.execute_input": "2024-06-11T07:53:10.263964Z",
     "iopub.status.busy": "2024-06-11T07:53:10.263681Z",
     "iopub.status.idle": "2024-06-11T07:53:10.269000Z",
     "shell.execute_reply": "2024-06-11T07:53:10.268634Z",
     "shell.execute_reply.started": "2024-06-11T07:53:10.263945Z"
    },
    "papermill": {
     "duration": 0.008538,
     "end_time": "2024-06-19T17:27:53.751164",
     "exception": false,
     "start_time": "2024-06-19T17:27:53.742626",
     "status": "completed"
    },
    "tags": []
   },
   "source": [
    "nPC = 100\n",
    "batchKeys = 'libraryID,chemistry,sex,binned_age'\n",
    "queryDataset = 'VALIDATION'"
   ]
  },
  {
   "cell_type": "code",
   "execution_count": 2,
   "id": "3044cc6c-ce26-4de6-8b7b-f8f9af090921",
   "metadata": {
    "execution": {
     "iopub.execute_input": "2024-06-19T17:27:53.767559Z",
     "iopub.status.busy": "2024-06-19T17:27:53.767299Z",
     "iopub.status.idle": "2024-06-19T17:27:53.770653Z",
     "shell.execute_reply": "2024-06-19T17:27:53.770257Z"
    },
    "papermill": {
     "duration": 0.011595,
     "end_time": "2024-06-19T17:27:53.771567",
     "exception": false,
     "start_time": "2024-06-19T17:27:53.759972",
     "status": "completed"
    },
    "tags": []
   },
   "outputs": [
    {
     "name": "stdout",
     "output_type": "stream",
     "text": [
      "nPC = 20\n",
      "batchKeys = chemistry\n",
      "queryDataset = VALIDATION\n"
     ]
    }
   ],
   "source": [
    "for v in ['nPC','batchKeys', 'queryDataset']:\n",
    "    if v in locals() or v in globals():\n",
    "        print(f\"{v} = {eval(v)}\")\n",
    "    else:\n",
    "        raise Exception(f\"{v} not specified\")"
   ]
  },
  {
   "cell_type": "code",
   "execution_count": 3,
   "id": "a9a81822-a7c1-4b2c-9419-c1df388c8d1f",
   "metadata": {
    "execution": {
     "iopub.execute_input": "2024-06-19T17:27:53.788330Z",
     "iopub.status.busy": "2024-06-19T17:27:53.788048Z",
     "iopub.status.idle": "2024-06-19T17:28:16.760798Z",
     "shell.execute_reply": "2024-06-19T17:28:16.760268Z"
    },
    "papermill": {
     "duration": 22.981348,
     "end_time": "2024-06-19T17:28:16.762013",
     "exception": false,
     "start_time": "2024-06-19T17:27:53.780665",
     "status": "completed"
    },
    "tags": []
   },
   "outputs": [],
   "source": [
    "import os\n",
    "import sys\n",
    "\n",
    "import scanpy as sc\n",
    "import pandas as pd\n",
    "import numpy as np\n",
    "\n",
    "import symphonypy as sp\n",
    "\n",
    "from sklearn.metrics import balanced_accuracy_score\n",
    "\n",
    "from pyprojroot import here\n",
    "\n",
    "sys.path.insert(1, str(here('bin')))\n",
    "# Import custom functions\n",
    "from customPythonFunctions import aggregating_features, train_patient_classifier, vote_patient_disease\n",
    "\n",
    "random_seed = 42"
   ]
  },
  {
   "cell_type": "markdown",
   "id": "bd323da1-8446-4ffc-91ac-c737ce081412",
   "metadata": {
    "papermill": {
     "duration": 0.008502,
     "end_time": "2024-06-19T17:28:16.785323",
     "exception": false,
     "start_time": "2024-06-19T17:28:16.776821",
     "status": "completed"
    },
    "tags": []
   },
   "source": [
    "### Parameters"
   ]
  },
  {
   "cell_type": "code",
   "execution_count": 4,
   "id": "3f81fe70-a960-401d-a05d-9d9199edd620",
   "metadata": {
    "execution": {
     "iopub.execute_input": "2024-06-19T17:28:16.816581Z",
     "iopub.status.busy": "2024-06-19T17:28:16.816219Z",
     "iopub.status.idle": "2024-06-19T17:28:16.821567Z",
     "shell.execute_reply": "2024-06-19T17:28:16.821193Z"
    },
    "papermill": {
     "duration": 0.015528,
     "end_time": "2024-06-19T17:28:16.822454",
     "exception": false,
     "start_time": "2024-06-19T17:28:16.806926",
     "status": "completed"
    },
    "tags": []
   },
   "outputs": [
    {
     "data": {
      "text/plain": [
       "['chemistry']"
      ]
     },
     "execution_count": 4,
     "metadata": {},
     "output_type": "execute_result"
    }
   ],
   "source": [
    "batch_key_query = batchKeys.split(',')\n",
    "batch_key_query"
   ]
  },
  {
   "cell_type": "markdown",
   "id": "008170b2-f7e2-4c59-b434-b682dacf1110",
   "metadata": {
    "papermill": {
     "duration": 0.00846,
     "end_time": "2024-06-19T17:28:16.845689",
     "exception": false,
     "start_time": "2024-06-19T17:28:16.837229",
     "status": "completed"
    },
    "tags": []
   },
   "source": [
    "### Loading dataset"
   ]
  },
  {
   "cell_type": "markdown",
   "id": "c96cf9da-e2ed-4800-903c-316f4805e559",
   "metadata": {
    "papermill": {
     "duration": 0.007982,
     "end_time": "2024-06-19T17:28:16.863067",
     "exception": false,
     "start_time": "2024-06-19T17:28:16.855085",
     "status": "completed"
    },
    "tags": []
   },
   "source": [
    "**Integrated object**"
   ]
  },
  {
   "cell_type": "code",
   "execution_count": 5,
   "id": "8e361302-99f5-48fe-989b-f196e18ae0dd",
   "metadata": {
    "execution": {
     "iopub.execute_input": "2024-06-19T17:28:16.878147Z",
     "iopub.status.busy": "2024-06-19T17:28:16.877787Z",
     "iopub.status.idle": "2024-06-19T17:28:50.206333Z",
     "shell.execute_reply": "2024-06-19T17:28:50.205823Z"
    },
    "papermill": {
     "duration": 33.414226,
     "end_time": "2024-06-19T17:28:50.284363",
     "exception": false,
     "start_time": "2024-06-19T17:28:16.870137",
     "status": "completed"
    },
    "tags": []
   },
   "outputs": [
    {
     "data": {
      "text/plain": [
       "AnnData object with n_obs × n_vars = 4435922 × 8253 backed at '/scratch_isilon/groups/singlecell/shared/projects/Inflammation-PBMCs-Atlas/03_downstream_analysis/08_PatientClassifier/Harmony_Symphony/results/01_MAIN_HarmonyIntegrated_20nPC_Batch_chemistry.h5ad'\n",
       "    obs: 'studyID', 'libraryID', 'sampleID', 'chemistry', 'disease', 'sex', 'binned_age', 'Level1', 'Level2'\n",
       "    var: 'hgnc_id', 'symbol', 'locus_group', 'HUGO_status', 'highly_variable', 'mean', 'std'\n",
       "    uns: 'harmony', 'log1p', 'pca'\n",
       "    obsm: 'X_pca', 'X_pca_harmony'\n",
       "    varm: 'PCs'"
      ]
     },
     "execution_count": 5,
     "metadata": {},
     "output_type": "execute_result"
    }
   ],
   "source": [
    "adataR = sc.read_h5ad(here(f\"03_downstream_analysis/08_PatientClassifier/Harmony_Symphony/results/01_MAIN_HarmonyIntegrated_{nPC}nPC_Batch_{batchKeys}.h5ad\"), backed='r')\n",
    "adataR"
   ]
  },
  {
   "cell_type": "markdown",
   "id": "7a8289b7-ae48-40bd-a8bf-b8a61d6fea7c",
   "metadata": {
    "papermill": {
     "duration": 0.007342,
     "end_time": "2024-06-19T17:28:50.299514",
     "exception": false,
     "start_time": "2024-06-19T17:28:50.292172",
     "status": "completed"
    },
    "tags": []
   },
   "source": [
    "**Query dataset**"
   ]
  },
  {
   "cell_type": "code",
   "execution_count": 6,
   "id": "f8922a45-9d49-4b6e-be13-48cecafe227d",
   "metadata": {
    "execution": {
     "iopub.execute_input": "2024-06-19T17:28:50.318799Z",
     "iopub.status.busy": "2024-06-19T17:28:50.318445Z",
     "iopub.status.idle": "2024-06-19T17:29:05.652560Z",
     "shell.execute_reply": "2024-06-19T17:29:05.652123Z"
    },
    "papermill": {
     "duration": 15.345338,
     "end_time": "2024-06-19T17:29:05.653599",
     "exception": false,
     "start_time": "2024-06-19T17:28:50.308261",
     "status": "completed"
    },
    "tags": []
   },
   "outputs": [
    {
     "data": {
      "text/plain": [
       "AnnData object with n_obs × n_vars = 849922 × 8253\n",
       "    obs: 'studyID', 'libraryID', 'sampleID', 'chemistry', 'technology', 'disease', 'sex', 'binned_age'\n",
       "    var: 'hgnc_id', 'symbol', 'locus_group', 'HUGO_status'"
      ]
     },
     "execution_count": 6,
     "metadata": {},
     "output_type": "execute_result"
    }
   ],
   "source": [
    "adataQ = sc.read_h5ad(here(f'03_downstream_analysis/02_gene_universe_definition/results/05_{queryDataset}_geneUniverse.h5ad'))\n",
    "adataQ"
   ]
  },
  {
   "cell_type": "markdown",
   "id": "0be9f746-fd30-4f97-9ec7-1a1e1f831776",
   "metadata": {
    "papermill": {
     "duration": 0.007048,
     "end_time": "2024-06-19T17:29:05.669863",
     "exception": false,
     "start_time": "2024-06-19T17:29:05.662815",
     "status": "completed"
    },
    "tags": []
   },
   "source": [
    "### Preprocessing"
   ]
  },
  {
   "cell_type": "code",
   "execution_count": 7,
   "id": "db7e0e86-4cfc-44f7-a6f1-1fa3795ad5a3",
   "metadata": {
    "execution": {
     "iopub.execute_input": "2024-06-19T17:29:05.689761Z",
     "iopub.status.busy": "2024-06-19T17:29:05.689512Z",
     "iopub.status.idle": "2024-06-19T17:29:40.023885Z",
     "shell.execute_reply": "2024-06-19T17:29:40.023314Z"
    },
    "papermill": {
     "duration": 34.343985,
     "end_time": "2024-06-19T17:29:40.025343",
     "exception": false,
     "start_time": "2024-06-19T17:29:05.681358",
     "status": "completed"
    },
    "tags": []
   },
   "outputs": [],
   "source": [
    "sc.pp.normalize_total(adataQ, target_sum=1e4)\n",
    "sc.pp.log1p(adataQ)"
   ]
  },
  {
   "cell_type": "markdown",
   "id": "3109c878-d7d1-4372-9462-0ccdb78070dc",
   "metadata": {
    "papermill": {
     "duration": 1.232069,
     "end_time": "2024-06-19T17:30:01.034267",
     "exception": false,
     "start_time": "2024-06-19T17:29:59.802198",
     "status": "completed"
    },
    "tags": []
   },
   "source": [
    "### Projection with Symphony"
   ]
  },
  {
   "cell_type": "code",
   "execution_count": 8,
   "id": "d2e7eed3-c2e1-4031-a49f-89e32fe17130",
   "metadata": {
    "execution": {
     "iopub.execute_input": "2024-06-19T17:30:05.022666Z",
     "iopub.status.busy": "2024-06-19T17:30:05.022364Z",
     "iopub.status.idle": "2024-06-19T17:34:10.620098Z",
     "shell.execute_reply": "2024-06-19T17:34:10.619179Z"
    },
    "papermill": {
     "duration": 247.908364,
     "end_time": "2024-06-19T17:34:10.621644",
     "exception": false,
     "start_time": "2024-06-19T17:30:02.713280",
     "status": "completed"
    },
    "tags": []
   },
   "outputs": [],
   "source": [
    "sp.tl.map_embedding(adataQ, adataR, key=batch_key_query)"
   ]
  },
  {
   "cell_type": "raw",
   "id": "9205924b-4e03-45d1-92af-b95346636a03",
   "metadata": {
    "papermill": {
     "duration": 1.263274,
     "end_time": "2024-06-19T17:34:22.845905",
     "exception": false,
     "start_time": "2024-06-19T17:34:21.582631",
     "status": "completed"
    },
    "tags": []
   },
   "source": [
    "sp.tl.per_cell_confidence(adataQ, adataR)"
   ]
  },
  {
   "cell_type": "raw",
   "id": "46a6bb72-921f-4385-bac9-4c6b138b00f0",
   "metadata": {
    "papermill": {
     "duration": 0.016804,
     "end_time": "2024-06-19T17:34:22.883489",
     "exception": false,
     "start_time": "2024-06-19T17:34:22.866685",
     "status": "completed"
    },
    "tags": []
   },
   "source": [
    "adataQ.obs.symphony_per_cell_dist.hist(bins=100)"
   ]
  },
  {
   "cell_type": "code",
   "execution_count": 9,
   "id": "2ee17ce6-f8c5-4a1e-b93e-9fc70ab7edb9",
   "metadata": {
    "execution": {
     "iopub.execute_input": "2024-06-19T17:34:24.010686Z",
     "iopub.status.busy": "2024-06-19T17:34:24.010170Z",
     "iopub.status.idle": "2024-06-19T17:34:24.014274Z",
     "shell.execute_reply": "2024-06-19T17:34:24.013882Z"
    },
    "papermill": {
     "duration": 0.022334,
     "end_time": "2024-06-19T17:34:24.015210",
     "exception": false,
     "start_time": "2024-06-19T17:34:23.992876",
     "status": "completed"
    },
    "tags": []
   },
   "outputs": [
    {
     "data": {
      "text/plain": [
       "AnnData object with n_obs × n_vars = 849922 × 8253\n",
       "    obs: 'studyID', 'libraryID', 'sampleID', 'chemistry', 'technology', 'disease', 'sex', 'binned_age'\n",
       "    var: 'hgnc_id', 'symbol', 'locus_group', 'HUGO_status'\n",
       "    uns: 'log1p'\n",
       "    obsm: 'X_pca_reference', 'X_pca_harmony', 'X_pca_harmony_symphony_R'"
      ]
     },
     "execution_count": 9,
     "metadata": {},
     "output_type": "execute_result"
    }
   ],
   "source": [
    "adataQ"
   ]
  },
  {
   "cell_type": "markdown",
   "id": "51e25a69-c8f9-43c8-b50c-e2b4aa826a6b",
   "metadata": {
    "papermill": {
     "duration": 0.301879,
     "end_time": "2024-06-19T17:34:24.332276",
     "exception": false,
     "start_time": "2024-06-19T17:34:24.030397",
     "status": "completed"
    },
    "tags": []
   },
   "source": [
    "### Label transfer"
   ]
  },
  {
   "cell_type": "code",
   "execution_count": 10,
   "id": "81d61d37-fdfa-4071-aace-eff99e9d6787",
   "metadata": {
    "execution": {
     "iopub.execute_input": "2024-06-19T17:34:24.365215Z",
     "iopub.status.busy": "2024-06-19T17:34:24.364920Z",
     "iopub.status.idle": "2024-06-19T17:34:24.367012Z",
     "shell.execute_reply": "2024-06-19T17:34:24.366642Z"
    },
    "papermill": {
     "duration": 0.019695,
     "end_time": "2024-06-19T17:34:24.367906",
     "exception": false,
     "start_time": "2024-06-19T17:34:24.348211",
     "status": "completed"
    },
    "tags": []
   },
   "outputs": [],
   "source": [
    "# common embedded space -> adataQ.obsm['X_pca_harmony']"
   ]
  },
  {
   "cell_type": "markdown",
   "id": "9482b233-08d7-4ed8-ad0f-729f59e05024",
   "metadata": {
    "papermill": {
     "duration": 0.00879,
     "end_time": "2024-06-19T17:34:24.385047",
     "exception": false,
     "start_time": "2024-06-19T17:34:24.376257",
     "status": "completed"
    },
    "tags": []
   },
   "source": [
    "**Level1 Annotation**"
   ]
  },
  {
   "cell_type": "code",
   "execution_count": 11,
   "id": "1016b8d2-0480-409a-aac4-1e521a1397b0",
   "metadata": {
    "execution": {
     "iopub.execute_input": "2024-06-19T17:34:24.402944Z",
     "iopub.status.busy": "2024-06-19T17:34:24.402710Z",
     "iopub.status.idle": "2024-06-19T17:55:13.463215Z",
     "shell.execute_reply": "2024-06-19T17:55:13.462447Z"
    },
    "papermill": {
     "duration": 1249.072049,
     "end_time": "2024-06-19T17:55:13.466359",
     "exception": false,
     "start_time": "2024-06-19T17:34:24.394310",
     "status": "completed"
    },
    "tags": []
   },
   "outputs": [],
   "source": [
    "sp.tl.transfer_labels_kNN(adataQ, adataR, 'Level1', ref_basis = 'X_pca_harmony', query_basis = 'X_pca_harmony')"
   ]
  },
  {
   "cell_type": "markdown",
   "id": "69eb76ae-aa03-4807-b680-a7423fb55458",
   "metadata": {
    "papermill": {
     "duration": 0.033948,
     "end_time": "2024-06-19T17:55:14.976912",
     "exception": false,
     "start_time": "2024-06-19T17:55:14.942964",
     "status": "completed"
    },
    "tags": []
   },
   "source": [
    "**Disease**"
   ]
  },
  {
   "cell_type": "code",
   "execution_count": 12,
   "id": "20429eca-9c43-4db8-b1da-94434c4c99c2",
   "metadata": {
    "execution": {
     "iopub.execute_input": "2024-06-19T17:55:15.770945Z",
     "iopub.status.busy": "2024-06-19T17:55:15.770660Z",
     "iopub.status.idle": "2024-06-19T17:55:15.774582Z",
     "shell.execute_reply": "2024-06-19T17:55:15.774076Z"
    },
    "papermill": {
     "duration": 0.779163,
     "end_time": "2024-06-19T17:55:15.775662",
     "exception": false,
     "start_time": "2024-06-19T17:55:14.996499",
     "status": "completed"
    },
    "tags": []
   },
   "outputs": [],
   "source": [
    "adataQ.obs.rename({'disease':'disease_true'}, axis=1, inplace=True)"
   ]
  },
  {
   "cell_type": "code",
   "execution_count": 13,
   "id": "7b72f7c3-af64-4a22-ab6b-8d5e5dbd4af3",
   "metadata": {
    "execution": {
     "iopub.execute_input": "2024-06-19T17:55:15.805613Z",
     "iopub.status.busy": "2024-06-19T17:55:15.805323Z",
     "iopub.status.idle": "2024-06-19T18:17:13.849549Z",
     "shell.execute_reply": "2024-06-19T18:17:13.848587Z"
    },
    "papermill": {
     "duration": 1318.066933,
     "end_time": "2024-06-19T18:17:13.851357",
     "exception": false,
     "start_time": "2024-06-19T17:55:15.784424",
     "status": "completed"
    },
    "tags": []
   },
   "outputs": [],
   "source": [
    "sp.tl.transfer_labels_kNN(adataQ, adataR, 'disease', ref_basis = 'X_pca_harmony', query_basis = 'X_pca_harmony')"
   ]
  },
  {
   "cell_type": "code",
   "execution_count": 14,
   "id": "2e1ad1d0-8a52-46a8-ae97-15dc2984f08e",
   "metadata": {
    "execution": {
     "iopub.execute_input": "2024-06-19T18:17:52.069826Z",
     "iopub.status.busy": "2024-06-19T18:17:52.069237Z",
     "iopub.status.idle": "2024-06-19T18:17:52.073336Z",
     "shell.execute_reply": "2024-06-19T18:17:52.072833Z"
    },
    "papermill": {
     "duration": 4.95111,
     "end_time": "2024-06-19T18:17:52.074439",
     "exception": false,
     "start_time": "2024-06-19T18:17:47.123329",
     "status": "completed"
    },
    "tags": []
   },
   "outputs": [],
   "source": [
    "adataQ.obs.rename({'disease':'disease_pred'}, axis=1, inplace=True)"
   ]
  },
  {
   "cell_type": "code",
   "execution_count": 15,
   "id": "0eb1c5d7-97fd-4c42-9b7b-8cddd8e22987",
   "metadata": {
    "execution": {
     "iopub.execute_input": "2024-06-19T18:17:53.791454Z",
     "iopub.status.busy": "2024-06-19T18:17:53.791095Z",
     "iopub.status.idle": "2024-06-19T18:18:01.753897Z",
     "shell.execute_reply": "2024-06-19T18:18:01.753182Z"
    },
    "papermill": {
     "duration": 8.16893,
     "end_time": "2024-06-19T18:18:01.949800",
     "exception": false,
     "start_time": "2024-06-19T18:17:53.780870",
     "status": "completed"
    },
    "tags": []
   },
   "outputs": [
    {
     "name": "stderr",
     "output_type": "stream",
     "text": [
      "/scratch_isilon/groups/singlecell/shared/conda_env/inflammation_atlas_R1/lib/python3.10/site-packages/sklearn/metrics/_classification.py:2458: UserWarning: y_pred contains classes not in y_true\n",
      "  warnings.warn(\"y_pred contains classes not in y_true\")\n"
     ]
    },
    {
     "data": {
      "text/plain": [
       "0.38627400896008024"
      ]
     },
     "execution_count": 15,
     "metadata": {},
     "output_type": "execute_result"
    }
   ],
   "source": [
    "balanced_accuracy_score(y_true = adataQ.obs.disease_true, y_pred=adataQ.obs.disease_pred)"
   ]
  },
  {
   "cell_type": "code",
   "execution_count": 16,
   "id": "0e4bc21f-ed6a-41d9-8254-1eb2bc58c1a1",
   "metadata": {
    "execution": {
     "iopub.execute_input": "2024-06-19T18:18:02.100039Z",
     "iopub.status.busy": "2024-06-19T18:18:02.099802Z",
     "iopub.status.idle": "2024-06-19T18:18:02.147849Z",
     "shell.execute_reply": "2024-06-19T18:18:02.147303Z"
    },
    "papermill": {
     "duration": 0.10703,
     "end_time": "2024-06-19T18:18:02.149042",
     "exception": false,
     "start_time": "2024-06-19T18:18:02.042012",
     "status": "completed"
    },
    "tags": []
   },
   "outputs": [
    {
     "data": {
      "text/html": [
       "<div>\n",
       "<style scoped>\n",
       "    .dataframe tbody tr th:only-of-type {\n",
       "        vertical-align: middle;\n",
       "    }\n",
       "\n",
       "    .dataframe tbody tr th {\n",
       "        vertical-align: top;\n",
       "    }\n",
       "\n",
       "    .dataframe thead th {\n",
       "        text-align: right;\n",
       "    }\n",
       "</style>\n",
       "<table border=\"1\" class=\"dataframe\">\n",
       "  <thead>\n",
       "    <tr style=\"text-align: right;\">\n",
       "      <th></th>\n",
       "      <th>studyID</th>\n",
       "      <th>libraryID</th>\n",
       "      <th>sampleID</th>\n",
       "      <th>chemistry</th>\n",
       "      <th>technology</th>\n",
       "      <th>disease_true</th>\n",
       "      <th>sex</th>\n",
       "      <th>binned_age</th>\n",
       "      <th>Level1</th>\n",
       "      <th>disease_pred</th>\n",
       "    </tr>\n",
       "    <tr>\n",
       "      <th>cellID</th>\n",
       "      <th></th>\n",
       "      <th></th>\n",
       "      <th></th>\n",
       "      <th></th>\n",
       "      <th></th>\n",
       "      <th></th>\n",
       "      <th></th>\n",
       "      <th></th>\n",
       "      <th></th>\n",
       "      <th></th>\n",
       "    </tr>\n",
       "  </thead>\n",
       "  <tbody>\n",
       "    <tr>\n",
       "      <th>SCGT00_L051_I51.3P_T0_AAACCCACAATCAGCT</th>\n",
       "      <td>SCGT00</td>\n",
       "      <td>SCGT00_L051</td>\n",
       "      <td>SCGT00_I51.3P_T0</td>\n",
       "      <td>3_GEX_V3</td>\n",
       "      <td>3_GEX_V3_GenoHashed</td>\n",
       "      <td>RA</td>\n",
       "      <td>female</td>\n",
       "      <td>41-50</td>\n",
       "      <td>ILC</td>\n",
       "      <td>RA</td>\n",
       "    </tr>\n",
       "    <tr>\n",
       "      <th>SCGT00_L051_I51.3P_T0_AAACCCAGTACAATAG</th>\n",
       "      <td>SCGT00</td>\n",
       "      <td>SCGT00_L051</td>\n",
       "      <td>SCGT00_I51.3P_T0</td>\n",
       "      <td>3_GEX_V3</td>\n",
       "      <td>3_GEX_V3_GenoHashed</td>\n",
       "      <td>RA</td>\n",
       "      <td>female</td>\n",
       "      <td>41-50</td>\n",
       "      <td>Mono</td>\n",
       "      <td>SLE</td>\n",
       "    </tr>\n",
       "    <tr>\n",
       "      <th>SCGT00_L051_I51.3P_T0_AAACGAACAACAGATA</th>\n",
       "      <td>SCGT00</td>\n",
       "      <td>SCGT00_L051</td>\n",
       "      <td>SCGT00_I51.3P_T0</td>\n",
       "      <td>3_GEX_V3</td>\n",
       "      <td>3_GEX_V3_GenoHashed</td>\n",
       "      <td>RA</td>\n",
       "      <td>female</td>\n",
       "      <td>41-50</td>\n",
       "      <td>ILC</td>\n",
       "      <td>RA</td>\n",
       "    </tr>\n",
       "    <tr>\n",
       "      <th>SCGT00_L051_I51.3P_T0_AAACGAAGTGATACCT</th>\n",
       "      <td>SCGT00</td>\n",
       "      <td>SCGT00_L051</td>\n",
       "      <td>SCGT00_I51.3P_T0</td>\n",
       "      <td>3_GEX_V3</td>\n",
       "      <td>3_GEX_V3_GenoHashed</td>\n",
       "      <td>RA</td>\n",
       "      <td>female</td>\n",
       "      <td>41-50</td>\n",
       "      <td>ILC</td>\n",
       "      <td>RA</td>\n",
       "    </tr>\n",
       "    <tr>\n",
       "      <th>SCGT00_L051_I51.3P_T0_AAACGAAGTTCTAACG</th>\n",
       "      <td>SCGT00</td>\n",
       "      <td>SCGT00_L051</td>\n",
       "      <td>SCGT00_I51.3P_T0</td>\n",
       "      <td>3_GEX_V3</td>\n",
       "      <td>3_GEX_V3_GenoHashed</td>\n",
       "      <td>RA</td>\n",
       "      <td>female</td>\n",
       "      <td>41-50</td>\n",
       "      <td>T_CD4_NonNaive</td>\n",
       "      <td>UC</td>\n",
       "    </tr>\n",
       "    <tr>\n",
       "      <th>...</th>\n",
       "      <td>...</td>\n",
       "      <td>...</td>\n",
       "      <td>...</td>\n",
       "      <td>...</td>\n",
       "      <td>...</td>\n",
       "      <td>...</td>\n",
       "      <td>...</td>\n",
       "      <td>...</td>\n",
       "      <td>...</td>\n",
       "      <td>...</td>\n",
       "    </tr>\n",
       "    <tr>\n",
       "      <th>Ren2021_L065_PS052_T0_TTTGTCAAGTGTACCT</th>\n",
       "      <td>Ren2021</td>\n",
       "      <td>Ren2021_L065</td>\n",
       "      <td>Ren2021_PS052_T0</td>\n",
       "      <td>5_GEX_V2</td>\n",
       "      <td>5_GEX_V2</td>\n",
       "      <td>COVID</td>\n",
       "      <td>female</td>\n",
       "      <td>&gt;80</td>\n",
       "      <td>T_CD4_Naive</td>\n",
       "      <td>COVID</td>\n",
       "    </tr>\n",
       "    <tr>\n",
       "      <th>Ren2021_L065_PS052_T0_TTTGTCACAGGACCCT</th>\n",
       "      <td>Ren2021</td>\n",
       "      <td>Ren2021_L065</td>\n",
       "      <td>Ren2021_PS052_T0</td>\n",
       "      <td>5_GEX_V2</td>\n",
       "      <td>5_GEX_V2</td>\n",
       "      <td>COVID</td>\n",
       "      <td>female</td>\n",
       "      <td>&gt;80</td>\n",
       "      <td>T_CD4_Naive</td>\n",
       "      <td>COVID</td>\n",
       "    </tr>\n",
       "    <tr>\n",
       "      <th>Ren2021_L065_PS052_T0_TTTGTCAGTCCGTCAG</th>\n",
       "      <td>Ren2021</td>\n",
       "      <td>Ren2021_L065</td>\n",
       "      <td>Ren2021_PS052_T0</td>\n",
       "      <td>5_GEX_V2</td>\n",
       "      <td>5_GEX_V2</td>\n",
       "      <td>COVID</td>\n",
       "      <td>female</td>\n",
       "      <td>&gt;80</td>\n",
       "      <td>T_CD4_Naive</td>\n",
       "      <td>COVID</td>\n",
       "    </tr>\n",
       "    <tr>\n",
       "      <th>Ren2021_L065_PS052_T0_TTTGTCAGTCGCGTGT</th>\n",
       "      <td>Ren2021</td>\n",
       "      <td>Ren2021_L065</td>\n",
       "      <td>Ren2021_PS052_T0</td>\n",
       "      <td>5_GEX_V2</td>\n",
       "      <td>5_GEX_V2</td>\n",
       "      <td>COVID</td>\n",
       "      <td>female</td>\n",
       "      <td>&gt;80</td>\n",
       "      <td>Mono</td>\n",
       "      <td>COVID</td>\n",
       "    </tr>\n",
       "    <tr>\n",
       "      <th>Ren2021_L065_PS052_T0_TTTGTCATCCACGAAT</th>\n",
       "      <td>Ren2021</td>\n",
       "      <td>Ren2021_L065</td>\n",
       "      <td>Ren2021_PS052_T0</td>\n",
       "      <td>5_GEX_V2</td>\n",
       "      <td>5_GEX_V2</td>\n",
       "      <td>COVID</td>\n",
       "      <td>female</td>\n",
       "      <td>&gt;80</td>\n",
       "      <td>T_CD8_NonNaive</td>\n",
       "      <td>COVID</td>\n",
       "    </tr>\n",
       "  </tbody>\n",
       "</table>\n",
       "<p>849922 rows × 10 columns</p>\n",
       "</div>"
      ],
      "text/plain": [
       "                                        studyID     libraryID  \\\n",
       "cellID                                                          \n",
       "SCGT00_L051_I51.3P_T0_AAACCCACAATCAGCT   SCGT00   SCGT00_L051   \n",
       "SCGT00_L051_I51.3P_T0_AAACCCAGTACAATAG   SCGT00   SCGT00_L051   \n",
       "SCGT00_L051_I51.3P_T0_AAACGAACAACAGATA   SCGT00   SCGT00_L051   \n",
       "SCGT00_L051_I51.3P_T0_AAACGAAGTGATACCT   SCGT00   SCGT00_L051   \n",
       "SCGT00_L051_I51.3P_T0_AAACGAAGTTCTAACG   SCGT00   SCGT00_L051   \n",
       "...                                         ...           ...   \n",
       "Ren2021_L065_PS052_T0_TTTGTCAAGTGTACCT  Ren2021  Ren2021_L065   \n",
       "Ren2021_L065_PS052_T0_TTTGTCACAGGACCCT  Ren2021  Ren2021_L065   \n",
       "Ren2021_L065_PS052_T0_TTTGTCAGTCCGTCAG  Ren2021  Ren2021_L065   \n",
       "Ren2021_L065_PS052_T0_TTTGTCAGTCGCGTGT  Ren2021  Ren2021_L065   \n",
       "Ren2021_L065_PS052_T0_TTTGTCATCCACGAAT  Ren2021  Ren2021_L065   \n",
       "\n",
       "                                                sampleID chemistry  \\\n",
       "cellID                                                               \n",
       "SCGT00_L051_I51.3P_T0_AAACCCACAATCAGCT  SCGT00_I51.3P_T0  3_GEX_V3   \n",
       "SCGT00_L051_I51.3P_T0_AAACCCAGTACAATAG  SCGT00_I51.3P_T0  3_GEX_V3   \n",
       "SCGT00_L051_I51.3P_T0_AAACGAACAACAGATA  SCGT00_I51.3P_T0  3_GEX_V3   \n",
       "SCGT00_L051_I51.3P_T0_AAACGAAGTGATACCT  SCGT00_I51.3P_T0  3_GEX_V3   \n",
       "SCGT00_L051_I51.3P_T0_AAACGAAGTTCTAACG  SCGT00_I51.3P_T0  3_GEX_V3   \n",
       "...                                                  ...       ...   \n",
       "Ren2021_L065_PS052_T0_TTTGTCAAGTGTACCT  Ren2021_PS052_T0  5_GEX_V2   \n",
       "Ren2021_L065_PS052_T0_TTTGTCACAGGACCCT  Ren2021_PS052_T0  5_GEX_V2   \n",
       "Ren2021_L065_PS052_T0_TTTGTCAGTCCGTCAG  Ren2021_PS052_T0  5_GEX_V2   \n",
       "Ren2021_L065_PS052_T0_TTTGTCAGTCGCGTGT  Ren2021_PS052_T0  5_GEX_V2   \n",
       "Ren2021_L065_PS052_T0_TTTGTCATCCACGAAT  Ren2021_PS052_T0  5_GEX_V2   \n",
       "\n",
       "                                                 technology disease_true  \\\n",
       "cellID                                                                     \n",
       "SCGT00_L051_I51.3P_T0_AAACCCACAATCAGCT  3_GEX_V3_GenoHashed           RA   \n",
       "SCGT00_L051_I51.3P_T0_AAACCCAGTACAATAG  3_GEX_V3_GenoHashed           RA   \n",
       "SCGT00_L051_I51.3P_T0_AAACGAACAACAGATA  3_GEX_V3_GenoHashed           RA   \n",
       "SCGT00_L051_I51.3P_T0_AAACGAAGTGATACCT  3_GEX_V3_GenoHashed           RA   \n",
       "SCGT00_L051_I51.3P_T0_AAACGAAGTTCTAACG  3_GEX_V3_GenoHashed           RA   \n",
       "...                                                     ...          ...   \n",
       "Ren2021_L065_PS052_T0_TTTGTCAAGTGTACCT             5_GEX_V2        COVID   \n",
       "Ren2021_L065_PS052_T0_TTTGTCACAGGACCCT             5_GEX_V2        COVID   \n",
       "Ren2021_L065_PS052_T0_TTTGTCAGTCCGTCAG             5_GEX_V2        COVID   \n",
       "Ren2021_L065_PS052_T0_TTTGTCAGTCGCGTGT             5_GEX_V2        COVID   \n",
       "Ren2021_L065_PS052_T0_TTTGTCATCCACGAAT             5_GEX_V2        COVID   \n",
       "\n",
       "                                           sex binned_age          Level1  \\\n",
       "cellID                                                                      \n",
       "SCGT00_L051_I51.3P_T0_AAACCCACAATCAGCT  female      41-50             ILC   \n",
       "SCGT00_L051_I51.3P_T0_AAACCCAGTACAATAG  female      41-50            Mono   \n",
       "SCGT00_L051_I51.3P_T0_AAACGAACAACAGATA  female      41-50             ILC   \n",
       "SCGT00_L051_I51.3P_T0_AAACGAAGTGATACCT  female      41-50             ILC   \n",
       "SCGT00_L051_I51.3P_T0_AAACGAAGTTCTAACG  female      41-50  T_CD4_NonNaive   \n",
       "...                                        ...        ...             ...   \n",
       "Ren2021_L065_PS052_T0_TTTGTCAAGTGTACCT  female        >80     T_CD4_Naive   \n",
       "Ren2021_L065_PS052_T0_TTTGTCACAGGACCCT  female        >80     T_CD4_Naive   \n",
       "Ren2021_L065_PS052_T0_TTTGTCAGTCCGTCAG  female        >80     T_CD4_Naive   \n",
       "Ren2021_L065_PS052_T0_TTTGTCAGTCGCGTGT  female        >80            Mono   \n",
       "Ren2021_L065_PS052_T0_TTTGTCATCCACGAAT  female        >80  T_CD8_NonNaive   \n",
       "\n",
       "                                       disease_pred  \n",
       "cellID                                               \n",
       "SCGT00_L051_I51.3P_T0_AAACCCACAATCAGCT           RA  \n",
       "SCGT00_L051_I51.3P_T0_AAACCCAGTACAATAG          SLE  \n",
       "SCGT00_L051_I51.3P_T0_AAACGAACAACAGATA           RA  \n",
       "SCGT00_L051_I51.3P_T0_AAACGAAGTGATACCT           RA  \n",
       "SCGT00_L051_I51.3P_T0_AAACGAAGTTCTAACG           UC  \n",
       "...                                             ...  \n",
       "Ren2021_L065_PS052_T0_TTTGTCAAGTGTACCT        COVID  \n",
       "Ren2021_L065_PS052_T0_TTTGTCACAGGACCCT        COVID  \n",
       "Ren2021_L065_PS052_T0_TTTGTCAGTCCGTCAG        COVID  \n",
       "Ren2021_L065_PS052_T0_TTTGTCAGTCGCGTGT        COVID  \n",
       "Ren2021_L065_PS052_T0_TTTGTCATCCACGAAT        COVID  \n",
       "\n",
       "[849922 rows x 10 columns]"
      ]
     },
     "execution_count": 16,
     "metadata": {},
     "output_type": "execute_result"
    }
   ],
   "source": [
    "adataQ.obs"
   ]
  },
  {
   "cell_type": "markdown",
   "id": "604b824a-321a-4ebe-802f-39ac50ec5238",
   "metadata": {
    "papermill": {
     "duration": 0.013419,
     "end_time": "2024-06-19T18:18:02.186018",
     "exception": false,
     "start_time": "2024-06-19T18:18:02.172599",
     "status": "completed"
    },
    "tags": []
   },
   "source": [
    "### Generating pseudobulk from latent space for Q dataset"
   ]
  },
  {
   "cell_type": "code",
   "execution_count": 17,
   "id": "995ab0a0-f978-4667-a85a-72b4757305c5",
   "metadata": {
    "execution": {
     "iopub.execute_input": "2024-06-19T18:18:02.281015Z",
     "iopub.status.busy": "2024-06-19T18:18:02.280376Z",
     "iopub.status.idle": "2024-06-19T18:18:02.620408Z",
     "shell.execute_reply": "2024-06-19T18:18:02.619676Z"
    },
    "papermill": {
     "duration": 0.388384,
     "end_time": "2024-06-19T18:18:02.621845",
     "exception": false,
     "start_time": "2024-06-19T18:18:02.233461",
     "status": "completed"
    },
    "tags": []
   },
   "outputs": [],
   "source": [
    "emb_pseudobulk_Q = aggregating_features(Z = adataQ.obsm['X_pca_harmony'], obsDF = adataQ.obs[['sampleID','Level1','disease_true']], mode = 'mean', obs_names_col=['sampleID','Level1'])"
   ]
  },
  {
   "cell_type": "code",
   "execution_count": 18,
   "id": "841534d1-d593-4372-b4d1-3133ae9180d8",
   "metadata": {
    "execution": {
     "iopub.execute_input": "2024-06-19T18:18:02.890043Z",
     "iopub.status.busy": "2024-06-19T18:18:02.889695Z",
     "iopub.status.idle": "2024-06-19T18:18:02.897587Z",
     "shell.execute_reply": "2024-06-19T18:18:02.897133Z"
    },
    "papermill": {
     "duration": 0.055743,
     "end_time": "2024-06-19T18:18:02.898593",
     "exception": false,
     "start_time": "2024-06-19T18:18:02.842850",
     "status": "completed"
    },
    "tags": []
   },
   "outputs": [
    {
     "data": {
      "text/html": [
       "<div>\n",
       "<style scoped>\n",
       "    .dataframe tbody tr th:only-of-type {\n",
       "        vertical-align: middle;\n",
       "    }\n",
       "\n",
       "    .dataframe tbody tr th {\n",
       "        vertical-align: top;\n",
       "    }\n",
       "\n",
       "    .dataframe thead th {\n",
       "        text-align: right;\n",
       "    }\n",
       "</style>\n",
       "<table border=\"1\" class=\"dataframe\">\n",
       "  <thead>\n",
       "    <tr style=\"text-align: right;\">\n",
       "      <th></th>\n",
       "      <th>sampleID</th>\n",
       "      <th>Level1</th>\n",
       "      <th>disease_true</th>\n",
       "      <th>n_observation</th>\n",
       "    </tr>\n",
       "  </thead>\n",
       "  <tbody>\n",
       "    <tr>\n",
       "      <th>COMBAT2022_G05073_T0_B</th>\n",
       "      <td>COMBAT2022_G05073_T0</td>\n",
       "      <td>B</td>\n",
       "      <td>COVID</td>\n",
       "      <td>519</td>\n",
       "    </tr>\n",
       "    <tr>\n",
       "      <th>COMBAT2022_G05073_T0_Cycling_cells</th>\n",
       "      <td>COMBAT2022_G05073_T0</td>\n",
       "      <td>Cycling_cells</td>\n",
       "      <td>COVID</td>\n",
       "      <td>58</td>\n",
       "    </tr>\n",
       "    <tr>\n",
       "      <th>COMBAT2022_G05073_T0_DC</th>\n",
       "      <td>COMBAT2022_G05073_T0</td>\n",
       "      <td>DC</td>\n",
       "      <td>COVID</td>\n",
       "      <td>108</td>\n",
       "    </tr>\n",
       "    <tr>\n",
       "      <th>COMBAT2022_G05073_T0_ILC</th>\n",
       "      <td>COMBAT2022_G05073_T0</td>\n",
       "      <td>ILC</td>\n",
       "      <td>COVID</td>\n",
       "      <td>337</td>\n",
       "    </tr>\n",
       "    <tr>\n",
       "      <th>COMBAT2022_G05073_T0_Mono</th>\n",
       "      <td>COMBAT2022_G05073_T0</td>\n",
       "      <td>Mono</td>\n",
       "      <td>COVID</td>\n",
       "      <td>1673</td>\n",
       "    </tr>\n",
       "    <tr>\n",
       "      <th>...</th>\n",
       "      <td>...</td>\n",
       "      <td>...</td>\n",
       "      <td>...</td>\n",
       "      <td>...</td>\n",
       "    </tr>\n",
       "    <tr>\n",
       "      <th>Terekhova2023_FE05_T0_T_CD4_NonNaive</th>\n",
       "      <td>Terekhova2023_FE05_T0</td>\n",
       "      <td>T_CD4_NonNaive</td>\n",
       "      <td>healthy</td>\n",
       "      <td>958</td>\n",
       "    </tr>\n",
       "    <tr>\n",
       "      <th>Terekhova2023_FE05_T0_T_CD8_Naive</th>\n",
       "      <td>Terekhova2023_FE05_T0</td>\n",
       "      <td>T_CD8_Naive</td>\n",
       "      <td>healthy</td>\n",
       "      <td>266</td>\n",
       "    </tr>\n",
       "    <tr>\n",
       "      <th>Terekhova2023_FE05_T0_T_CD8_NonNaive</th>\n",
       "      <td>Terekhova2023_FE05_T0</td>\n",
       "      <td>T_CD8_NonNaive</td>\n",
       "      <td>healthy</td>\n",
       "      <td>1216</td>\n",
       "    </tr>\n",
       "    <tr>\n",
       "      <th>Terekhova2023_FE05_T0_UTC</th>\n",
       "      <td>Terekhova2023_FE05_T0</td>\n",
       "      <td>UTC</td>\n",
       "      <td>healthy</td>\n",
       "      <td>134</td>\n",
       "    </tr>\n",
       "    <tr>\n",
       "      <th>Terekhova2023_FE05_T0_pDC</th>\n",
       "      <td>Terekhova2023_FE05_T0</td>\n",
       "      <td>pDC</td>\n",
       "      <td>healthy</td>\n",
       "      <td>57</td>\n",
       "    </tr>\n",
       "  </tbody>\n",
       "</table>\n",
       "<p>1977 rows × 4 columns</p>\n",
       "</div>"
      ],
      "text/plain": [
       "                                                   sampleID          Level1  \\\n",
       "COMBAT2022_G05073_T0_B                 COMBAT2022_G05073_T0               B   \n",
       "COMBAT2022_G05073_T0_Cycling_cells     COMBAT2022_G05073_T0   Cycling_cells   \n",
       "COMBAT2022_G05073_T0_DC                COMBAT2022_G05073_T0              DC   \n",
       "COMBAT2022_G05073_T0_ILC               COMBAT2022_G05073_T0             ILC   \n",
       "COMBAT2022_G05073_T0_Mono              COMBAT2022_G05073_T0            Mono   \n",
       "...                                                     ...             ...   \n",
       "Terekhova2023_FE05_T0_T_CD4_NonNaive  Terekhova2023_FE05_T0  T_CD4_NonNaive   \n",
       "Terekhova2023_FE05_T0_T_CD8_Naive     Terekhova2023_FE05_T0     T_CD8_Naive   \n",
       "Terekhova2023_FE05_T0_T_CD8_NonNaive  Terekhova2023_FE05_T0  T_CD8_NonNaive   \n",
       "Terekhova2023_FE05_T0_UTC             Terekhova2023_FE05_T0             UTC   \n",
       "Terekhova2023_FE05_T0_pDC             Terekhova2023_FE05_T0             pDC   \n",
       "\n",
       "                                     disease_true  n_observation  \n",
       "COMBAT2022_G05073_T0_B                      COVID            519  \n",
       "COMBAT2022_G05073_T0_Cycling_cells          COVID             58  \n",
       "COMBAT2022_G05073_T0_DC                     COVID            108  \n",
       "COMBAT2022_G05073_T0_ILC                    COVID            337  \n",
       "COMBAT2022_G05073_T0_Mono                   COVID           1673  \n",
       "...                                           ...            ...  \n",
       "Terekhova2023_FE05_T0_T_CD4_NonNaive      healthy            958  \n",
       "Terekhova2023_FE05_T0_T_CD8_Naive         healthy            266  \n",
       "Terekhova2023_FE05_T0_T_CD8_NonNaive      healthy           1216  \n",
       "Terekhova2023_FE05_T0_UTC                 healthy            134  \n",
       "Terekhova2023_FE05_T0_pDC                 healthy             57  \n",
       "\n",
       "[1977 rows x 4 columns]"
      ]
     },
     "execution_count": 18,
     "metadata": {},
     "output_type": "execute_result"
    }
   ],
   "source": [
    "emb_pseudobulk_Q.obs"
   ]
  },
  {
   "cell_type": "markdown",
   "id": "a43a1514-ec0f-4b9e-ac54-a48dbabc0fff",
   "metadata": {
    "execution": {
     "iopub.execute_input": "2024-06-07T16:00:22.779422Z",
     "iopub.status.busy": "2024-06-07T16:00:22.778939Z",
     "iopub.status.idle": "2024-06-07T16:00:22.782415Z",
     "shell.execute_reply": "2024-06-07T16:00:22.781982Z",
     "shell.execute_reply.started": "2024-06-07T16:00:22.779405Z"
    },
    "papermill": {
     "duration": 0.028593,
     "end_time": "2024-06-19T18:18:03.019956",
     "exception": false,
     "start_time": "2024-06-19T18:18:02.991363",
     "status": "completed"
    },
    "tags": []
   },
   "source": [
    "**Loading training pseudobulk**"
   ]
  },
  {
   "cell_type": "code",
   "execution_count": 19,
   "id": "b759518f-cc41-406e-8919-c72d6a6925e6",
   "metadata": {
    "execution": {
     "iopub.execute_input": "2024-06-19T18:18:03.257748Z",
     "iopub.status.busy": "2024-06-19T18:18:03.257514Z",
     "iopub.status.idle": "2024-06-19T18:18:03.418183Z",
     "shell.execute_reply": "2024-06-19T18:18:03.417499Z"
    },
    "papermill": {
     "duration": 0.293807,
     "end_time": "2024-06-19T18:18:03.419865",
     "exception": false,
     "start_time": "2024-06-19T18:18:03.126058",
     "status": "completed"
    },
    "tags": []
   },
   "outputs": [],
   "source": [
    "emb_pseudobulk_train = sc.read_h5ad(here(f\"03_downstream_analysis/08_PatientClassifier/Harmony_Symphony/results/01_MAIN_HarmonyIntegrated_PSEUDOBULK_{nPC}nPC_Batch_{batchKeys}.h5ad\"))"
   ]
  },
  {
   "cell_type": "markdown",
   "id": "fa0cf8df-f0dd-449c-87c8-b9207e94207b",
   "metadata": {
    "papermill": {
     "duration": 0.027902,
     "end_time": "2024-06-19T18:18:03.648475",
     "exception": false,
     "start_time": "2024-06-19T18:18:03.620573",
     "status": "completed"
    },
    "tags": []
   },
   "source": [
    "#### Remove unwanted cell types"
   ]
  },
  {
   "cell_type": "code",
   "execution_count": 20,
   "id": "b477252c-4cdb-4f89-8ec2-1d3dbc4a7655",
   "metadata": {
    "execution": {
     "iopub.execute_input": "2024-06-19T18:18:03.880574Z",
     "iopub.status.busy": "2024-06-19T18:18:03.880282Z",
     "iopub.status.idle": "2024-06-19T18:18:03.886395Z",
     "shell.execute_reply": "2024-06-19T18:18:03.885882Z"
    },
    "papermill": {
     "duration": 0.075473,
     "end_time": "2024-06-19T18:18:03.887579",
     "exception": false,
     "start_time": "2024-06-19T18:18:03.812106",
     "status": "completed"
    },
    "tags": []
   },
   "outputs": [],
   "source": [
    "emb_pseudobulk_train = emb_pseudobulk_train[~emb_pseudobulk_train.obs.Level1.isin(['Cycling_cells','RBC','Progenitors','Platelets']),]"
   ]
  },
  {
   "cell_type": "code",
   "execution_count": 21,
   "id": "25ead359-02da-4eec-a2e8-040415f31ca8",
   "metadata": {
    "execution": {
     "iopub.execute_input": "2024-06-19T18:18:03.945907Z",
     "iopub.status.busy": "2024-06-19T18:18:03.945381Z",
     "iopub.status.idle": "2024-06-19T18:18:03.949735Z",
     "shell.execute_reply": "2024-06-19T18:18:03.949273Z"
    },
    "papermill": {
     "duration": 0.019026,
     "end_time": "2024-06-19T18:18:03.951027",
     "exception": false,
     "start_time": "2024-06-19T18:18:03.932001",
     "status": "completed"
    },
    "tags": []
   },
   "outputs": [],
   "source": [
    "emb_pseudobulk_Q = emb_pseudobulk_Q[~emb_pseudobulk_Q.obs.Level1.isin(['Cycling_cells','RBC','Progenitors','Platelets']),]"
   ]
  },
  {
   "cell_type": "markdown",
   "id": "4faaceec-8aac-4c89-ac43-9093c0fe7c16",
   "metadata": {
    "papermill": {
     "duration": 0.011885,
     "end_time": "2024-06-19T18:18:03.979639",
     "exception": false,
     "start_time": "2024-06-19T18:18:03.967754",
     "status": "completed"
    },
    "tags": []
   },
   "source": [
    "### Saving query dataset and pseudobulks"
   ]
  },
  {
   "cell_type": "code",
   "execution_count": 22,
   "id": "40487ef8-ad5d-4236-a652-2d90cf76c77b",
   "metadata": {
    "execution": {
     "iopub.execute_input": "2024-06-19T18:18:04.053287Z",
     "iopub.status.busy": "2024-06-19T18:18:04.052912Z",
     "iopub.status.idle": "2024-06-19T18:21:52.806362Z",
     "shell.execute_reply": "2024-06-19T18:21:52.805534Z"
    },
    "papermill": {
     "duration": 228.794788,
     "end_time": "2024-06-19T18:21:52.808099",
     "exception": false,
     "start_time": "2024-06-19T18:18:04.013311",
     "status": "completed"
    },
    "tags": []
   },
   "outputs": [],
   "source": [
    "adataQ.write(here(f\"03_downstream_analysis/08_PatientClassifier/Harmony_Symphony/results/02_{queryDataset}_SymphonyProjected_{nPC}nPC_Batch_{batchKeys}.h5ad\"), \n",
    "             compression='gzip')"
   ]
  },
  {
   "cell_type": "code",
   "execution_count": 23,
   "id": "052a1401-1f68-49ed-a900-dda39c09e68b",
   "metadata": {
    "execution": {
     "iopub.execute_input": "2024-06-19T18:21:52.829978Z",
     "iopub.status.busy": "2024-06-19T18:21:52.829708Z",
     "iopub.status.idle": "2024-06-19T18:21:52.868700Z",
     "shell.execute_reply": "2024-06-19T18:21:52.868176Z"
    },
    "papermill": {
     "duration": 0.050811,
     "end_time": "2024-06-19T18:21:52.869856",
     "exception": false,
     "start_time": "2024-06-19T18:21:52.819045",
     "status": "completed"
    },
    "tags": []
   },
   "outputs": [
    {
     "name": "stderr",
     "output_type": "stream",
     "text": [
      "/scratch_isilon/groups/singlecell/shared/conda_env/inflammation_atlas_R1/lib/python3.10/site-packages/anndata/_core/anndata.py:1301: ImplicitModificationWarning: Trying to modify attribute `.obs` of view, initializing view as actual.\n",
      "  df[key] = c\n",
      "/scratch_isilon/groups/singlecell/shared/conda_env/inflammation_atlas_R1/lib/python3.10/site-packages/anndata/_core/anndata.py:1301: ImplicitModificationWarning: Trying to modify attribute `.obs` of view, initializing view as actual.\n",
      "  df[key] = c\n",
      "/scratch_isilon/groups/singlecell/shared/conda_env/inflammation_atlas_R1/lib/python3.10/site-packages/anndata/_core/anndata.py:1301: ImplicitModificationWarning: Trying to modify attribute `.obs` of view, initializing view as actual.\n",
      "  df[key] = c\n"
     ]
    }
   ],
   "source": [
    "emb_pseudobulk_Q.write(here(f\"03_downstream_analysis/08_PatientClassifier/Harmony_Symphony/results/02_{queryDataset}_SymphonyProjected_PSEUDOBULK{nPC}nPC_Batch_{batchKeys}.h5ad\"), \n",
    "             compression='gzip')"
   ]
  },
  {
   "cell_type": "markdown",
   "id": "8226f8d2-30b5-41a4-8efd-943e08f2d048",
   "metadata": {
    "papermill": {
     "duration": 0.009507,
     "end_time": "2024-06-19T18:21:52.889101",
     "exception": false,
     "start_time": "2024-06-19T18:21:52.879594",
     "status": "completed"
    },
    "tags": []
   },
   "source": [
    "### Training linear classifiers"
   ]
  },
  {
   "cell_type": "code",
   "execution_count": 24,
   "id": "b2f802a7-0a43-413b-8bee-03a900836009",
   "metadata": {
    "execution": {
     "iopub.execute_input": "2024-06-19T18:21:52.909645Z",
     "iopub.status.busy": "2024-06-19T18:21:52.909285Z",
     "iopub.status.idle": "2024-06-19T18:21:53.861145Z",
     "shell.execute_reply": "2024-06-19T18:21:53.860474Z"
    },
    "papermill": {
     "duration": 0.963464,
     "end_time": "2024-06-19T18:21:53.862339",
     "exception": false,
     "start_time": "2024-06-19T18:21:52.898875",
     "status": "completed"
    },
    "tags": []
   },
   "outputs": [
    {
     "name": "stderr",
     "output_type": "stream",
     "text": [
      "\r",
      "  0%|          | 0/11 [00:00<?, ?it/s]"
     ]
    },
    {
     "name": "stderr",
     "output_type": "stream",
     "text": [
      "\r",
      "  9%|▉         | 1/11 [00:00<00:01,  8.59it/s]"
     ]
    },
    {
     "name": "stderr",
     "output_type": "stream",
     "text": [
      "\r",
      " 27%|██▋       | 3/11 [00:00<00:01,  7.25it/s]"
     ]
    },
    {
     "name": "stderr",
     "output_type": "stream",
     "text": [
      "\r",
      " 45%|████▌     | 5/11 [00:00<00:00,  9.95it/s]"
     ]
    },
    {
     "name": "stderr",
     "output_type": "stream",
     "text": [
      "\r",
      " 64%|██████▎   | 7/11 [00:00<00:00, 11.62it/s]"
     ]
    },
    {
     "name": "stderr",
     "output_type": "stream",
     "text": [
      "\r",
      " 82%|████████▏ | 9/11 [00:00<00:00, 12.61it/s]"
     ]
    },
    {
     "name": "stderr",
     "output_type": "stream",
     "text": [
      "\r",
      "100%|██████████| 11/11 [00:00<00:00, 13.43it/s]"
     ]
    },
    {
     "name": "stderr",
     "output_type": "stream",
     "text": [
      "\r",
      "100%|██████████| 11/11 [00:00<00:00, 11.72it/s]"
     ]
    },
    {
     "name": "stderr",
     "output_type": "stream",
     "text": [
      "\n"
     ]
    }
   ],
   "source": [
    "clfList = train_patient_classifier(adataTrain = emb_pseudobulk_train, cell_type_col = 'Level1', y_true_col = 'disease', max_iter=-1, random_state = 25, model = 'KNeighborsClassifier', \n",
    "                           kargs_model={'n_neighbors':2, 'weights':'uniform', 'metric':'cosine','n_jobs':-1})"
   ]
  },
  {
   "cell_type": "code",
   "execution_count": 25,
   "id": "184e7805-037a-48ab-bdde-b80d084b46cd",
   "metadata": {
    "execution": {
     "iopub.execute_input": "2024-06-19T18:21:53.886446Z",
     "iopub.status.busy": "2024-06-19T18:21:53.885833Z",
     "iopub.status.idle": "2024-06-19T18:21:53.894800Z",
     "shell.execute_reply": "2024-06-19T18:21:53.894310Z"
    },
    "papermill": {
     "duration": 0.020711,
     "end_time": "2024-06-19T18:21:53.895813",
     "exception": false,
     "start_time": "2024-06-19T18:21:53.875102",
     "status": "completed"
    },
    "tags": []
   },
   "outputs": [
    {
     "data": {
      "text/plain": [
       "{'B': {'clf': KNeighborsClassifier(metric='cosine', n_jobs=-1, n_neighbors=2),\n",
       "  'bAcc': 0.893909913186229,\n",
       "  'nObs': 814},\n",
       " 'DC': {'clf': KNeighborsClassifier(metric='cosine', n_jobs=-1, n_neighbors=2),\n",
       "  'bAcc': 0.8484375597011713,\n",
       "  'nObs': 801},\n",
       " 'ILC': {'clf': KNeighborsClassifier(metric='cosine', n_jobs=-1, n_neighbors=2),\n",
       "  'bAcc': 0.8243337202566261,\n",
       "  'nObs': 817},\n",
       " 'Mono': {'clf': KNeighborsClassifier(metric='cosine', n_jobs=-1, n_neighbors=2),\n",
       "  'bAcc': 0.8433445704146223,\n",
       "  'nObs': 817},\n",
       " 'Plasma': {'clf': KNeighborsClassifier(metric='cosine', n_jobs=-1, n_neighbors=2),\n",
       "  'bAcc': 0.811216097575144,\n",
       "  'nObs': 727},\n",
       " 'T_CD4_Naive': {'clf': KNeighborsClassifier(metric='cosine', n_jobs=-1, n_neighbors=2),\n",
       "  'bAcc': 0.880433455562023,\n",
       "  'nObs': 814},\n",
       " 'T_CD4_NonNaive': {'clf': KNeighborsClassifier(metric='cosine', n_jobs=-1, n_neighbors=2),\n",
       "  'bAcc': 0.8790256347104011,\n",
       "  'nObs': 816},\n",
       " 'T_CD8_Naive': {'clf': KNeighborsClassifier(metric='cosine', n_jobs=-1, n_neighbors=2),\n",
       "  'bAcc': 0.8854603390116734,\n",
       "  'nObs': 805},\n",
       " 'T_CD8_NonNaive': {'clf': KNeighborsClassifier(metric='cosine', n_jobs=-1, n_neighbors=2),\n",
       "  'bAcc': 0.8237388519217651,\n",
       "  'nObs': 817},\n",
       " 'UTC': {'clf': KNeighborsClassifier(metric='cosine', n_jobs=-1, n_neighbors=2),\n",
       "  'bAcc': 0.8328305810560639,\n",
       "  'nObs': 813},\n",
       " 'pDC': {'clf': KNeighborsClassifier(metric='cosine', n_jobs=-1, n_neighbors=2),\n",
       "  'bAcc': 0.8516362122276856,\n",
       "  'nObs': 775}}"
      ]
     },
     "execution_count": 25,
     "metadata": {},
     "output_type": "execute_result"
    }
   ],
   "source": [
    "clfList"
   ]
  },
  {
   "cell_type": "markdown",
   "id": "8140578c-927e-4a12-84c1-809c70d2387c",
   "metadata": {
    "papermill": {
     "duration": 0.010385,
     "end_time": "2024-06-19T18:21:53.916344",
     "exception": false,
     "start_time": "2024-06-19T18:21:53.905959",
     "status": "completed"
    },
    "tags": []
   },
   "source": [
    "### Predicting diseases"
   ]
  },
  {
   "cell_type": "code",
   "execution_count": 26,
   "id": "ba47d364-9407-4d4a-9a9c-a02d374a9932",
   "metadata": {
    "execution": {
     "iopub.execute_input": "2024-06-19T18:21:53.938603Z",
     "iopub.status.busy": "2024-06-19T18:21:53.938232Z",
     "iopub.status.idle": "2024-06-19T18:21:53.946085Z",
     "shell.execute_reply": "2024-06-19T18:21:53.945547Z"
    },
    "papermill": {
     "duration": 0.020969,
     "end_time": "2024-06-19T18:21:53.947848",
     "exception": false,
     "start_time": "2024-06-19T18:21:53.926879",
     "status": "completed"
    },
    "tags": []
   },
   "outputs": [
    {
     "data": {
      "text/html": [
       "<div>\n",
       "<style scoped>\n",
       "    .dataframe tbody tr th:only-of-type {\n",
       "        vertical-align: middle;\n",
       "    }\n",
       "\n",
       "    .dataframe tbody tr th {\n",
       "        vertical-align: top;\n",
       "    }\n",
       "\n",
       "    .dataframe thead th {\n",
       "        text-align: right;\n",
       "    }\n",
       "</style>\n",
       "<table border=\"1\" class=\"dataframe\">\n",
       "  <thead>\n",
       "    <tr style=\"text-align: right;\">\n",
       "      <th></th>\n",
       "      <th>sampleID</th>\n",
       "      <th>Level1</th>\n",
       "      <th>disease_true</th>\n",
       "      <th>n_observation</th>\n",
       "    </tr>\n",
       "  </thead>\n",
       "  <tbody>\n",
       "    <tr>\n",
       "      <th>COMBAT2022_G05073_T0_B</th>\n",
       "      <td>COMBAT2022_G05073_T0</td>\n",
       "      <td>B</td>\n",
       "      <td>COVID</td>\n",
       "      <td>519</td>\n",
       "    </tr>\n",
       "    <tr>\n",
       "      <th>COMBAT2022_G05073_T0_DC</th>\n",
       "      <td>COMBAT2022_G05073_T0</td>\n",
       "      <td>DC</td>\n",
       "      <td>COVID</td>\n",
       "      <td>108</td>\n",
       "    </tr>\n",
       "    <tr>\n",
       "      <th>COMBAT2022_G05073_T0_ILC</th>\n",
       "      <td>COMBAT2022_G05073_T0</td>\n",
       "      <td>ILC</td>\n",
       "      <td>COVID</td>\n",
       "      <td>337</td>\n",
       "    </tr>\n",
       "    <tr>\n",
       "      <th>COMBAT2022_G05073_T0_Mono</th>\n",
       "      <td>COMBAT2022_G05073_T0</td>\n",
       "      <td>Mono</td>\n",
       "      <td>COVID</td>\n",
       "      <td>1673</td>\n",
       "    </tr>\n",
       "    <tr>\n",
       "      <th>COMBAT2022_G05073_T0_Plasma</th>\n",
       "      <td>COMBAT2022_G05073_T0</td>\n",
       "      <td>Plasma</td>\n",
       "      <td>COVID</td>\n",
       "      <td>19</td>\n",
       "    </tr>\n",
       "    <tr>\n",
       "      <th>...</th>\n",
       "      <td>...</td>\n",
       "      <td>...</td>\n",
       "      <td>...</td>\n",
       "      <td>...</td>\n",
       "    </tr>\n",
       "    <tr>\n",
       "      <th>Terekhova2023_FE05_T0_T_CD4_NonNaive</th>\n",
       "      <td>Terekhova2023_FE05_T0</td>\n",
       "      <td>T_CD4_NonNaive</td>\n",
       "      <td>healthy</td>\n",
       "      <td>958</td>\n",
       "    </tr>\n",
       "    <tr>\n",
       "      <th>Terekhova2023_FE05_T0_T_CD8_Naive</th>\n",
       "      <td>Terekhova2023_FE05_T0</td>\n",
       "      <td>T_CD8_Naive</td>\n",
       "      <td>healthy</td>\n",
       "      <td>266</td>\n",
       "    </tr>\n",
       "    <tr>\n",
       "      <th>Terekhova2023_FE05_T0_T_CD8_NonNaive</th>\n",
       "      <td>Terekhova2023_FE05_T0</td>\n",
       "      <td>T_CD8_NonNaive</td>\n",
       "      <td>healthy</td>\n",
       "      <td>1216</td>\n",
       "    </tr>\n",
       "    <tr>\n",
       "      <th>Terekhova2023_FE05_T0_UTC</th>\n",
       "      <td>Terekhova2023_FE05_T0</td>\n",
       "      <td>UTC</td>\n",
       "      <td>healthy</td>\n",
       "      <td>134</td>\n",
       "    </tr>\n",
       "    <tr>\n",
       "      <th>Terekhova2023_FE05_T0_pDC</th>\n",
       "      <td>Terekhova2023_FE05_T0</td>\n",
       "      <td>pDC</td>\n",
       "      <td>healthy</td>\n",
       "      <td>57</td>\n",
       "    </tr>\n",
       "  </tbody>\n",
       "</table>\n",
       "<p>1555 rows × 4 columns</p>\n",
       "</div>"
      ],
      "text/plain": [
       "                                                   sampleID          Level1  \\\n",
       "COMBAT2022_G05073_T0_B                 COMBAT2022_G05073_T0               B   \n",
       "COMBAT2022_G05073_T0_DC                COMBAT2022_G05073_T0              DC   \n",
       "COMBAT2022_G05073_T0_ILC               COMBAT2022_G05073_T0             ILC   \n",
       "COMBAT2022_G05073_T0_Mono              COMBAT2022_G05073_T0            Mono   \n",
       "COMBAT2022_G05073_T0_Plasma            COMBAT2022_G05073_T0          Plasma   \n",
       "...                                                     ...             ...   \n",
       "Terekhova2023_FE05_T0_T_CD4_NonNaive  Terekhova2023_FE05_T0  T_CD4_NonNaive   \n",
       "Terekhova2023_FE05_T0_T_CD8_Naive     Terekhova2023_FE05_T0     T_CD8_Naive   \n",
       "Terekhova2023_FE05_T0_T_CD8_NonNaive  Terekhova2023_FE05_T0  T_CD8_NonNaive   \n",
       "Terekhova2023_FE05_T0_UTC             Terekhova2023_FE05_T0             UTC   \n",
       "Terekhova2023_FE05_T0_pDC             Terekhova2023_FE05_T0             pDC   \n",
       "\n",
       "                                     disease_true  n_observation  \n",
       "COMBAT2022_G05073_T0_B                      COVID            519  \n",
       "COMBAT2022_G05073_T0_DC                     COVID            108  \n",
       "COMBAT2022_G05073_T0_ILC                    COVID            337  \n",
       "COMBAT2022_G05073_T0_Mono                   COVID           1673  \n",
       "COMBAT2022_G05073_T0_Plasma                 COVID             19  \n",
       "...                                           ...            ...  \n",
       "Terekhova2023_FE05_T0_T_CD4_NonNaive      healthy            958  \n",
       "Terekhova2023_FE05_T0_T_CD8_Naive         healthy            266  \n",
       "Terekhova2023_FE05_T0_T_CD8_NonNaive      healthy           1216  \n",
       "Terekhova2023_FE05_T0_UTC                 healthy            134  \n",
       "Terekhova2023_FE05_T0_pDC                 healthy             57  \n",
       "\n",
       "[1555 rows x 4 columns]"
      ]
     },
     "execution_count": 26,
     "metadata": {},
     "output_type": "execute_result"
    }
   ],
   "source": [
    "emb_pseudobulk_Q.obs"
   ]
  },
  {
   "cell_type": "code",
   "execution_count": 27,
   "id": "39befc29-3613-4abc-adeb-bfee66e08dea",
   "metadata": {
    "execution": {
     "iopub.execute_input": "2024-06-19T18:21:53.970817Z",
     "iopub.status.busy": "2024-06-19T18:21:53.970330Z",
     "iopub.status.idle": "2024-06-19T18:21:54.410104Z",
     "shell.execute_reply": "2024-06-19T18:21:54.409618Z"
    },
    "papermill": {
     "duration": 0.452405,
     "end_time": "2024-06-19T18:21:54.411133",
     "exception": false,
     "start_time": "2024-06-19T18:21:53.958728",
     "status": "completed"
    },
    "tags": []
   },
   "outputs": [
    {
     "name": "stderr",
     "output_type": "stream",
     "text": [
      "\r",
      "  0%|          | 0/11 [00:00<?, ?it/s]"
     ]
    },
    {
     "name": "stderr",
     "output_type": "stream",
     "text": [
      "\r",
      " 36%|███▋      | 4/11 [00:00<00:00, 37.35it/s]"
     ]
    },
    {
     "name": "stderr",
     "output_type": "stream",
     "text": [
      "\r",
      " 73%|███████▎  | 8/11 [00:00<00:00, 37.51it/s]"
     ]
    },
    {
     "name": "stderr",
     "output_type": "stream",
     "text": [
      "\r",
      "100%|██████████| 11/11 [00:00<00:00, 37.46it/s]"
     ]
    },
    {
     "name": "stderr",
     "output_type": "stream",
     "text": [
      "\n"
     ]
    },
    {
     "name": "stderr",
     "output_type": "stream",
     "text": [
      "\r",
      "  0%|          | 0/144 [00:00<?, ?it/s]"
     ]
    },
    {
     "name": "stderr",
     "output_type": "stream",
     "text": [
      "\r",
      " 72%|███████▏  | 104/144 [00:00<00:00, 1039.28it/s]"
     ]
    },
    {
     "name": "stderr",
     "output_type": "stream",
     "text": [
      "\r",
      "100%|██████████| 144/144 [00:00<00:00, 1040.13it/s]"
     ]
    },
    {
     "name": "stderr",
     "output_type": "stream",
     "text": [
      "\n"
     ]
    }
   ],
   "source": [
    "classificationDF = vote_patient_disease(adataTest = emb_pseudobulk_Q, \n",
    "                                clfList = clfList, \n",
    "                                sample_id_col = 'sampleID',\n",
    "                                cell_type_col = 'Level1')\n"
   ]
  },
  {
   "cell_type": "code",
   "execution_count": 28,
   "id": "a731fec9-92f4-4b14-b374-ad2bec4d4f13",
   "metadata": {
    "execution": {
     "iopub.execute_input": "2024-06-19T18:21:54.434754Z",
     "iopub.status.busy": "2024-06-19T18:21:54.434499Z",
     "iopub.status.idle": "2024-06-19T18:21:54.440168Z",
     "shell.execute_reply": "2024-06-19T18:21:54.439719Z"
    },
    "papermill": {
     "duration": 0.018492,
     "end_time": "2024-06-19T18:21:54.441320",
     "exception": false,
     "start_time": "2024-06-19T18:21:54.422828",
     "status": "completed"
    },
    "tags": []
   },
   "outputs": [],
   "source": [
    "res = classificationDF.merge(emb_pseudobulk_Q.obs[['sampleID', 'disease_true']].drop_duplicates(), how = 'left', on = 'sampleID').set_index('sampleID')\n"
   ]
  },
  {
   "cell_type": "code",
   "execution_count": 29,
   "id": "00fff243-e3d9-436c-b369-b7d4d29a13bf",
   "metadata": {
    "execution": {
     "iopub.execute_input": "2024-06-19T18:21:54.464337Z",
     "iopub.status.busy": "2024-06-19T18:21:54.463969Z",
     "iopub.status.idle": "2024-06-19T18:21:54.469763Z",
     "shell.execute_reply": "2024-06-19T18:21:54.469332Z"
    },
    "papermill": {
     "duration": 0.018619,
     "end_time": "2024-06-19T18:21:54.470745",
     "exception": false,
     "start_time": "2024-06-19T18:21:54.452126",
     "status": "completed"
    },
    "tags": []
   },
   "outputs": [
    {
     "name": "stderr",
     "output_type": "stream",
     "text": [
      "/scratch_isilon/groups/singlecell/shared/conda_env/inflammation_atlas_R1/lib/python3.10/site-packages/sklearn/metrics/_classification.py:2458: UserWarning: y_pred contains classes not in y_true\n",
      "  warnings.warn(\"y_pred contains classes not in y_true\")\n"
     ]
    },
    {
     "data": {
      "text/plain": [
       "0.6176742919389979"
      ]
     },
     "execution_count": 29,
     "metadata": {},
     "output_type": "execute_result"
    }
   ],
   "source": [
    "balanced_accuracy_score(y_true = res.disease_true, y_pred=res.firstChoice)"
   ]
  },
  {
   "cell_type": "code",
   "execution_count": 30,
   "id": "54568ce9-5d5d-47e2-bc88-5a61eae513bc",
   "metadata": {
    "execution": {
     "iopub.execute_input": "2024-06-19T18:21:54.493575Z",
     "iopub.status.busy": "2024-06-19T18:21:54.493239Z",
     "iopub.status.idle": "2024-06-19T18:21:54.505178Z",
     "shell.execute_reply": "2024-06-19T18:21:54.504784Z"
    },
    "papermill": {
     "duration": 0.024498,
     "end_time": "2024-06-19T18:21:54.506137",
     "exception": false,
     "start_time": "2024-06-19T18:21:54.481639",
     "status": "completed"
    },
    "tags": []
   },
   "outputs": [
    {
     "data": {
      "text/html": [
       "<div>\n",
       "<style scoped>\n",
       "    .dataframe tbody tr th:only-of-type {\n",
       "        vertical-align: middle;\n",
       "    }\n",
       "\n",
       "    .dataframe tbody tr th {\n",
       "        vertical-align: top;\n",
       "    }\n",
       "\n",
       "    .dataframe thead th {\n",
       "        text-align: right;\n",
       "    }\n",
       "</style>\n",
       "<table border=\"1\" class=\"dataframe\">\n",
       "  <thead>\n",
       "    <tr style=\"text-align: right;\">\n",
       "      <th></th>\n",
       "      <th>B_prediction</th>\n",
       "      <th>DC_prediction</th>\n",
       "      <th>ILC_prediction</th>\n",
       "      <th>Mono_prediction</th>\n",
       "      <th>Plasma_prediction</th>\n",
       "      <th>T_CD4_Naive_prediction</th>\n",
       "      <th>T_CD4_NonNaive_prediction</th>\n",
       "      <th>T_CD8_Naive_prediction</th>\n",
       "      <th>T_CD8_NonNaive_prediction</th>\n",
       "      <th>UTC_prediction</th>\n",
       "      <th>pDC_prediction</th>\n",
       "      <th>firstChoice</th>\n",
       "      <th>firstChoice_perc</th>\n",
       "      <th>secondChoice</th>\n",
       "      <th>secondChoice_perc</th>\n",
       "      <th>disease_true</th>\n",
       "    </tr>\n",
       "    <tr>\n",
       "      <th>sampleID</th>\n",
       "      <th></th>\n",
       "      <th></th>\n",
       "      <th></th>\n",
       "      <th></th>\n",
       "      <th></th>\n",
       "      <th></th>\n",
       "      <th></th>\n",
       "      <th></th>\n",
       "      <th></th>\n",
       "      <th></th>\n",
       "      <th></th>\n",
       "      <th></th>\n",
       "      <th></th>\n",
       "      <th></th>\n",
       "      <th></th>\n",
       "      <th></th>\n",
       "    </tr>\n",
       "  </thead>\n",
       "  <tbody>\n",
       "    <tr>\n",
       "      <th>COMBAT2022_G05073_T0</th>\n",
       "      <td>PS</td>\n",
       "      <td>SLE</td>\n",
       "      <td>COVID</td>\n",
       "      <td>COVID</td>\n",
       "      <td>healthy</td>\n",
       "      <td>COVID</td>\n",
       "      <td>PSA</td>\n",
       "      <td>COVID</td>\n",
       "      <td>SLE</td>\n",
       "      <td>PSA</td>\n",
       "      <td>healthy</td>\n",
       "      <td>COVID</td>\n",
       "      <td>30.769231</td>\n",
       "      <td>SLE</td>\n",
       "      <td>15.384615</td>\n",
       "      <td>COVID</td>\n",
       "    </tr>\n",
       "    <tr>\n",
       "      <th>COMBAT2022_G05097_T0</th>\n",
       "      <td>CD</td>\n",
       "      <td>COVID</td>\n",
       "      <td>healthy</td>\n",
       "      <td>COVID</td>\n",
       "      <td>healthy</td>\n",
       "      <td>healthy</td>\n",
       "      <td>healthy</td>\n",
       "      <td>SLE</td>\n",
       "      <td>SLE</td>\n",
       "      <td>healthy</td>\n",
       "      <td>COVID</td>\n",
       "      <td>healthy</td>\n",
       "      <td>38.461538</td>\n",
       "      <td>COVID</td>\n",
       "      <td>23.076923</td>\n",
       "      <td>COVID</td>\n",
       "    </tr>\n",
       "    <tr>\n",
       "      <th>COMBAT2022_G05145_T0</th>\n",
       "      <td>healthy</td>\n",
       "      <td>healthy</td>\n",
       "      <td>COVID</td>\n",
       "      <td>healthy</td>\n",
       "      <td>SLE</td>\n",
       "      <td>COVID</td>\n",
       "      <td>COVID</td>\n",
       "      <td>COVID</td>\n",
       "      <td>COVID</td>\n",
       "      <td>COVID</td>\n",
       "      <td>healthy</td>\n",
       "      <td>COVID</td>\n",
       "      <td>46.153846</td>\n",
       "      <td>healthy</td>\n",
       "      <td>30.769231</td>\n",
       "      <td>COVID</td>\n",
       "    </tr>\n",
       "    <tr>\n",
       "      <th>COMBAT2022_N00021_T0</th>\n",
       "      <td>healthy</td>\n",
       "      <td>healthy</td>\n",
       "      <td>SLE</td>\n",
       "      <td>sepsis</td>\n",
       "      <td>SLE</td>\n",
       "      <td>flu</td>\n",
       "      <td>healthy</td>\n",
       "      <td>RA</td>\n",
       "      <td>healthy</td>\n",
       "      <td>SLE</td>\n",
       "      <td>COVID</td>\n",
       "      <td>healthy</td>\n",
       "      <td>30.769231</td>\n",
       "      <td>SLE</td>\n",
       "      <td>23.076923</td>\n",
       "      <td>sepsis</td>\n",
       "    </tr>\n",
       "    <tr>\n",
       "      <th>COMBAT2022_N00025_T0</th>\n",
       "      <td>SLE</td>\n",
       "      <td>NaN</td>\n",
       "      <td>COVID</td>\n",
       "      <td>SLE</td>\n",
       "      <td>COVID</td>\n",
       "      <td>healthy</td>\n",
       "      <td>CRC</td>\n",
       "      <td>healthy</td>\n",
       "      <td>sepsis</td>\n",
       "      <td>sepsis</td>\n",
       "      <td>NaN</td>\n",
       "      <td>SLE</td>\n",
       "      <td>18.181818</td>\n",
       "      <td>COVID</td>\n",
       "      <td>18.181818</td>\n",
       "      <td>sepsis</td>\n",
       "    </tr>\n",
       "    <tr>\n",
       "      <th>...</th>\n",
       "      <td>...</td>\n",
       "      <td>...</td>\n",
       "      <td>...</td>\n",
       "      <td>...</td>\n",
       "      <td>...</td>\n",
       "      <td>...</td>\n",
       "      <td>...</td>\n",
       "      <td>...</td>\n",
       "      <td>...</td>\n",
       "      <td>...</td>\n",
       "      <td>...</td>\n",
       "      <td>...</td>\n",
       "      <td>...</td>\n",
       "      <td>...</td>\n",
       "      <td>...</td>\n",
       "      <td>...</td>\n",
       "    </tr>\n",
       "    <tr>\n",
       "      <th>Terekhova2023_E19_T0</th>\n",
       "      <td>healthy</td>\n",
       "      <td>healthy</td>\n",
       "      <td>COPD</td>\n",
       "      <td>healthy</td>\n",
       "      <td>healthy</td>\n",
       "      <td>healthy</td>\n",
       "      <td>healthy</td>\n",
       "      <td>healthy</td>\n",
       "      <td>healthy</td>\n",
       "      <td>healthy</td>\n",
       "      <td>healthy</td>\n",
       "      <td>healthy</td>\n",
       "      <td>76.923077</td>\n",
       "      <td></td>\n",
       "      <td>15.384615</td>\n",
       "      <td>healthy</td>\n",
       "    </tr>\n",
       "    <tr>\n",
       "      <th>Terekhova2023_FA07_T0</th>\n",
       "      <td>healthy</td>\n",
       "      <td>healthy</td>\n",
       "      <td>healthy</td>\n",
       "      <td>healthy</td>\n",
       "      <td>healthy</td>\n",
       "      <td>healthy</td>\n",
       "      <td>healthy</td>\n",
       "      <td>healthy</td>\n",
       "      <td>healthy</td>\n",
       "      <td>healthy</td>\n",
       "      <td>CRC</td>\n",
       "      <td>healthy</td>\n",
       "      <td>76.923077</td>\n",
       "      <td></td>\n",
       "      <td>15.384615</td>\n",
       "      <td>healthy</td>\n",
       "    </tr>\n",
       "    <tr>\n",
       "      <th>Terekhova2023_FC04_T0</th>\n",
       "      <td>healthy</td>\n",
       "      <td>healthy</td>\n",
       "      <td>healthy</td>\n",
       "      <td>healthy</td>\n",
       "      <td>healthy</td>\n",
       "      <td>healthy</td>\n",
       "      <td>healthy</td>\n",
       "      <td>healthy</td>\n",
       "      <td>healthy</td>\n",
       "      <td>healthy</td>\n",
       "      <td>healthy</td>\n",
       "      <td>healthy</td>\n",
       "      <td>84.615385</td>\n",
       "      <td></td>\n",
       "      <td>15.384615</td>\n",
       "      <td>healthy</td>\n",
       "    </tr>\n",
       "    <tr>\n",
       "      <th>Terekhova2023_FD01_T0</th>\n",
       "      <td>healthy</td>\n",
       "      <td>healthy</td>\n",
       "      <td>healthy</td>\n",
       "      <td>healthy</td>\n",
       "      <td>healthy</td>\n",
       "      <td>healthy</td>\n",
       "      <td>healthy</td>\n",
       "      <td>healthy</td>\n",
       "      <td>healthy</td>\n",
       "      <td>healthy</td>\n",
       "      <td>healthy</td>\n",
       "      <td>healthy</td>\n",
       "      <td>84.615385</td>\n",
       "      <td></td>\n",
       "      <td>15.384615</td>\n",
       "      <td>healthy</td>\n",
       "    </tr>\n",
       "    <tr>\n",
       "      <th>Terekhova2023_FE05_T0</th>\n",
       "      <td>healthy</td>\n",
       "      <td>healthy</td>\n",
       "      <td>healthy</td>\n",
       "      <td>healthy</td>\n",
       "      <td>healthy</td>\n",
       "      <td>healthy</td>\n",
       "      <td>healthy</td>\n",
       "      <td>healthy</td>\n",
       "      <td>healthy</td>\n",
       "      <td>healthy</td>\n",
       "      <td>healthy</td>\n",
       "      <td>healthy</td>\n",
       "      <td>84.615385</td>\n",
       "      <td></td>\n",
       "      <td>15.384615</td>\n",
       "      <td>healthy</td>\n",
       "    </tr>\n",
       "  </tbody>\n",
       "</table>\n",
       "<p>144 rows × 16 columns</p>\n",
       "</div>"
      ],
      "text/plain": [
       "                      B_prediction DC_prediction ILC_prediction  \\\n",
       "sampleID                                                          \n",
       "COMBAT2022_G05073_T0            PS           SLE          COVID   \n",
       "COMBAT2022_G05097_T0            CD         COVID        healthy   \n",
       "COMBAT2022_G05145_T0       healthy       healthy          COVID   \n",
       "COMBAT2022_N00021_T0       healthy       healthy            SLE   \n",
       "COMBAT2022_N00025_T0           SLE           NaN          COVID   \n",
       "...                            ...           ...            ...   \n",
       "Terekhova2023_E19_T0       healthy       healthy           COPD   \n",
       "Terekhova2023_FA07_T0      healthy       healthy        healthy   \n",
       "Terekhova2023_FC04_T0      healthy       healthy        healthy   \n",
       "Terekhova2023_FD01_T0      healthy       healthy        healthy   \n",
       "Terekhova2023_FE05_T0      healthy       healthy        healthy   \n",
       "\n",
       "                      Mono_prediction Plasma_prediction  \\\n",
       "sampleID                                                  \n",
       "COMBAT2022_G05073_T0            COVID           healthy   \n",
       "COMBAT2022_G05097_T0            COVID           healthy   \n",
       "COMBAT2022_G05145_T0          healthy               SLE   \n",
       "COMBAT2022_N00021_T0           sepsis               SLE   \n",
       "COMBAT2022_N00025_T0              SLE             COVID   \n",
       "...                               ...               ...   \n",
       "Terekhova2023_E19_T0          healthy           healthy   \n",
       "Terekhova2023_FA07_T0         healthy           healthy   \n",
       "Terekhova2023_FC04_T0         healthy           healthy   \n",
       "Terekhova2023_FD01_T0         healthy           healthy   \n",
       "Terekhova2023_FE05_T0         healthy           healthy   \n",
       "\n",
       "                      T_CD4_Naive_prediction T_CD4_NonNaive_prediction  \\\n",
       "sampleID                                                                 \n",
       "COMBAT2022_G05073_T0                   COVID                       PSA   \n",
       "COMBAT2022_G05097_T0                 healthy                   healthy   \n",
       "COMBAT2022_G05145_T0                   COVID                     COVID   \n",
       "COMBAT2022_N00021_T0                     flu                   healthy   \n",
       "COMBAT2022_N00025_T0                 healthy                       CRC   \n",
       "...                                      ...                       ...   \n",
       "Terekhova2023_E19_T0                 healthy                   healthy   \n",
       "Terekhova2023_FA07_T0                healthy                   healthy   \n",
       "Terekhova2023_FC04_T0                healthy                   healthy   \n",
       "Terekhova2023_FD01_T0                healthy                   healthy   \n",
       "Terekhova2023_FE05_T0                healthy                   healthy   \n",
       "\n",
       "                      T_CD8_Naive_prediction T_CD8_NonNaive_prediction  \\\n",
       "sampleID                                                                 \n",
       "COMBAT2022_G05073_T0                   COVID                       SLE   \n",
       "COMBAT2022_G05097_T0                     SLE                       SLE   \n",
       "COMBAT2022_G05145_T0                   COVID                     COVID   \n",
       "COMBAT2022_N00021_T0                      RA                   healthy   \n",
       "COMBAT2022_N00025_T0                 healthy                    sepsis   \n",
       "...                                      ...                       ...   \n",
       "Terekhova2023_E19_T0                 healthy                   healthy   \n",
       "Terekhova2023_FA07_T0                healthy                   healthy   \n",
       "Terekhova2023_FC04_T0                healthy                   healthy   \n",
       "Terekhova2023_FD01_T0                healthy                   healthy   \n",
       "Terekhova2023_FE05_T0                healthy                   healthy   \n",
       "\n",
       "                      UTC_prediction pDC_prediction firstChoice  \\\n",
       "sampleID                                                          \n",
       "COMBAT2022_G05073_T0             PSA        healthy       COVID   \n",
       "COMBAT2022_G05097_T0         healthy          COVID     healthy   \n",
       "COMBAT2022_G05145_T0           COVID        healthy       COVID   \n",
       "COMBAT2022_N00021_T0             SLE          COVID     healthy   \n",
       "COMBAT2022_N00025_T0          sepsis            NaN         SLE   \n",
       "...                              ...            ...         ...   \n",
       "Terekhova2023_E19_T0         healthy        healthy     healthy   \n",
       "Terekhova2023_FA07_T0        healthy            CRC     healthy   \n",
       "Terekhova2023_FC04_T0        healthy        healthy     healthy   \n",
       "Terekhova2023_FD01_T0        healthy        healthy     healthy   \n",
       "Terekhova2023_FE05_T0        healthy        healthy     healthy   \n",
       "\n",
       "                       firstChoice_perc secondChoice  secondChoice_perc  \\\n",
       "sampleID                                                                  \n",
       "COMBAT2022_G05073_T0          30.769231          SLE          15.384615   \n",
       "COMBAT2022_G05097_T0          38.461538        COVID          23.076923   \n",
       "COMBAT2022_G05145_T0          46.153846      healthy          30.769231   \n",
       "COMBAT2022_N00021_T0          30.769231          SLE          23.076923   \n",
       "COMBAT2022_N00025_T0          18.181818        COVID          18.181818   \n",
       "...                                 ...          ...                ...   \n",
       "Terekhova2023_E19_T0          76.923077                       15.384615   \n",
       "Terekhova2023_FA07_T0         76.923077                       15.384615   \n",
       "Terekhova2023_FC04_T0         84.615385                       15.384615   \n",
       "Terekhova2023_FD01_T0         84.615385                       15.384615   \n",
       "Terekhova2023_FE05_T0         84.615385                       15.384615   \n",
       "\n",
       "                      disease_true  \n",
       "sampleID                            \n",
       "COMBAT2022_G05073_T0         COVID  \n",
       "COMBAT2022_G05097_T0         COVID  \n",
       "COMBAT2022_G05145_T0         COVID  \n",
       "COMBAT2022_N00021_T0        sepsis  \n",
       "COMBAT2022_N00025_T0        sepsis  \n",
       "...                            ...  \n",
       "Terekhova2023_E19_T0       healthy  \n",
       "Terekhova2023_FA07_T0      healthy  \n",
       "Terekhova2023_FC04_T0      healthy  \n",
       "Terekhova2023_FD01_T0      healthy  \n",
       "Terekhova2023_FE05_T0      healthy  \n",
       "\n",
       "[144 rows x 16 columns]"
      ]
     },
     "execution_count": 30,
     "metadata": {},
     "output_type": "execute_result"
    }
   ],
   "source": [
    "res"
   ]
  }
 ],
 "metadata": {
  "kernelspec": {
   "display_name": "Python 3 (ipykernel)",
   "language": "python",
   "name": "python3"
  },
  "language_info": {
   "codemirror_mode": {
    "name": "ipython",
    "version": 3
   },
   "file_extension": ".py",
   "mimetype": "text/x-python",
   "name": "python",
   "nbconvert_exporter": "python",
   "pygments_lexer": "ipython3",
   "version": "3.10.13"
  },
  "papermill": {
   "default_parameters": {},
   "duration": 3246.535739,
   "end_time": "2024-06-19T18:21:55.239582",
   "environment_variables": {},
   "exception": null,
   "input_path": "a02_queryDatasets_and_labelTransfer.ipynb",
   "output_path": "executed_notebooks/a02_queryDatasets_and_labelTransfer_VALIDATION_nPC20_Batch_chemistry.ipynb",
   "parameters": {
    "batchKeys": "chemistry",
    "nPC": 20,
    "queryDataset": "VALIDATION"
   },
   "start_time": "2024-06-19T17:27:48.703843",
   "version": "2.5.0"
  }
 },
 "nbformat": 4,
 "nbformat_minor": 5
}