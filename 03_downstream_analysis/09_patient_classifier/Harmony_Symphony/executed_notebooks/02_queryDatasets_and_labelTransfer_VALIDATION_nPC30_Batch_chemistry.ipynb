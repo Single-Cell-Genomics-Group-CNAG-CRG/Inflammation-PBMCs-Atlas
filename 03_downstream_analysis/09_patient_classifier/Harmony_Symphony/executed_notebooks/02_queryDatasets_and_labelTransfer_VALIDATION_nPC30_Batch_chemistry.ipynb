{
 "cells": [
  {
   "cell_type": "code",
   "execution_count": 1,
   "id": "51418c88",
   "metadata": {
    "execution": {
     "iopub.execute_input": "2024-06-10T16:42:43.922048Z",
     "iopub.status.busy": "2024-06-10T16:42:43.921901Z",
     "iopub.status.idle": "2024-06-10T16:42:43.927122Z",
     "shell.execute_reply": "2024-06-10T16:42:43.926753Z"
    },
    "papermill": {
     "duration": 0.015372,
     "end_time": "2024-06-10T16:42:43.928097",
     "exception": false,
     "start_time": "2024-06-10T16:42:43.912725",
     "status": "completed"
    },
    "tags": [
     "injected-parameters"
    ]
   },
   "outputs": [],
   "source": [
    "# Parameters\n",
    "nPC = 30\n",
    "batchKeys = \"chemistry\"\n",
    "queryDataset = \"VALIDATION\"\n"
   ]
  },
  {
   "cell_type": "raw",
   "id": "54f2a5ab-3158-4572-b2ad-37d8c49d9187",
   "metadata": {
    "execution": {
     "iopub.execute_input": "2024-06-10T15:31:01.419291Z",
     "iopub.status.busy": "2024-06-10T15:31:01.418822Z",
     "iopub.status.idle": "2024-06-10T15:31:01.424084Z",
     "shell.execute_reply": "2024-06-10T15:31:01.423719Z",
     "shell.execute_reply.started": "2024-06-10T15:31:01.419272Z"
    },
    "papermill": {
     "duration": 0.01578,
     "end_time": "2024-06-10T16:42:43.951804",
     "exception": false,
     "start_time": "2024-06-10T16:42:43.936024",
     "status": "completed"
    },
    "tags": []
   },
   "source": [
    "nPC = 10\n",
    "batchKeys = 'libraryID,chemistry,sex,binned_age'\n",
    "queryDataset = 'VALIDATION'"
   ]
  },
  {
   "cell_type": "code",
   "execution_count": 2,
   "id": "3044cc6c-ce26-4de6-8b7b-f8f9af090921",
   "metadata": {
    "execution": {
     "iopub.execute_input": "2024-06-10T16:42:43.981600Z",
     "iopub.status.busy": "2024-06-10T16:42:43.981444Z",
     "iopub.status.idle": "2024-06-10T16:42:43.984447Z",
     "shell.execute_reply": "2024-06-10T16:42:43.984096Z"
    },
    "papermill": {
     "duration": 0.011823,
     "end_time": "2024-06-10T16:42:43.985324",
     "exception": false,
     "start_time": "2024-06-10T16:42:43.973501",
     "status": "completed"
    },
    "tags": []
   },
   "outputs": [
    {
     "name": "stdout",
     "output_type": "stream",
     "text": [
      "nPC = 30\n",
      "batchKeys = chemistry\n",
      "queryDataset = VALIDATION\n"
     ]
    }
   ],
   "source": [
    "for v in ['nPC','batchKeys', 'queryDataset']:\n",
    "    if v in locals() or v in globals():\n",
    "        print(f\"{v} = {eval(v)}\")\n",
    "    else:\n",
    "        raise Exception(f\"{v} not specified\")"
   ]
  },
  {
   "cell_type": "code",
   "execution_count": 3,
   "id": "a9a81822-a7c1-4b2c-9419-c1df388c8d1f",
   "metadata": {
    "execution": {
     "iopub.execute_input": "2024-06-10T16:42:44.001594Z",
     "iopub.status.busy": "2024-06-10T16:42:44.001442Z",
     "iopub.status.idle": "2024-06-10T16:42:55.121389Z",
     "shell.execute_reply": "2024-06-10T16:42:55.120805Z"
    },
    "papermill": {
     "duration": 11.129738,
     "end_time": "2024-06-10T16:42:55.122798",
     "exception": false,
     "start_time": "2024-06-10T16:42:43.993060",
     "status": "completed"
    },
    "tags": []
   },
   "outputs": [],
   "source": [
    "import os\n",
    "\n",
    "import scanpy as sc\n",
    "import pandas as pd\n",
    "import numpy as np\n",
    "\n",
    "import symphonypy as sp\n",
    "\n",
    "from sklearn.metrics import balanced_accuracy_score\n",
    "\n",
    "from pyprojroot import here\n",
    "\n",
    "random_seed = 42"
   ]
  },
  {
   "cell_type": "markdown",
   "id": "74a87fda-280f-4a4c-88bb-c84dfbaf3fbd",
   "metadata": {
    "papermill": {
     "duration": 0.007359,
     "end_time": "2024-06-10T16:42:55.138247",
     "exception": false,
     "start_time": "2024-06-10T16:42:55.130888",
     "status": "completed"
    },
    "tags": []
   },
   "source": [
    "### Defining functions"
   ]
  },
  {
   "cell_type": "code",
   "execution_count": 4,
   "id": "9b47d61d-d9b8-42d0-91f2-4e3b87ea4cbc",
   "metadata": {
    "execution": {
     "iopub.execute_input": "2024-06-10T16:42:55.156334Z",
     "iopub.status.busy": "2024-06-10T16:42:55.155877Z",
     "iopub.status.idle": "2024-06-10T16:42:55.168644Z",
     "shell.execute_reply": "2024-06-10T16:42:55.168198Z"
    },
    "papermill": {
     "duration": 0.022247,
     "end_time": "2024-06-10T16:42:55.169672",
     "exception": false,
     "start_time": "2024-06-10T16:42:55.147425",
     "status": "completed"
    },
    "tags": []
   },
   "outputs": [],
   "source": [
    "def train_classifier(adataTrain = None, cell_type_col = None, y_true_col = None, max_iter=10000,random_state = 25, model = 'LinearSVC'):\n",
    "    \n",
    "    import pandas as pd\n",
    "    from tqdm import tqdm\n",
    "    from sklearn.svm import LinearSVC, SVC\n",
    "\n",
    "    from sklearn.metrics import balanced_accuracy_score\n",
    "    \n",
    "    clfList = dict()\n",
    "    trainAccuracy = []\n",
    "    for ct_ in tqdm(adataTrain.obs[cell_type_col].unique()):\n",
    "        clfList[ct_] = dict()\n",
    "        X_i = adataTrain.X[adataTrain.obs[cell_type_col] == ct_]\n",
    "        y_true_i = adataTrain.obs[y_true_col][adataTrain.obs[cell_type_col] == ct_]\n",
    "\n",
    "        if mode == 'LinearSVC':\n",
    "            clfList[ct_]['clf'] = LinearSVC(max_iter=max_iter, dual = True, random_state = random_state).fit(X_i, y_true_i)\n",
    "        elif mode == 'SVC':\n",
    "            clfList[ct_]['clf'] = SVC(max_iter=max_iter, random_state = random_state).fit(X_i, y_true_i)\n",
    "            \n",
    "        clfList[ct_]['bAcc'] = balanced_accuracy_score(y_true = y_true_i, y_pred = clfList[ct_]['clf'].predict(X_i))\n",
    "        clfList[ct_]['nObs'] = len(y_true_i)\n",
    "\n",
    "    return clfList\n",
    "    \n",
    "def vote_disease(adataTest = None, clfList = None, cell_type_col = None, sample_id_col = None):\n",
    "\n",
    "    from tqdm import tqdm\n",
    "    import pandas as pd\n",
    "\n",
    "    \n",
    "    \n",
    "    classificationDF = pd.DataFrame()\n",
    "    for ct_ in tqdm(adataTest.obs[cell_type_col].unique()):\n",
    "        X_i = adataTest.X[adataTest.obs[cell_type_col] == ct_]\n",
    "        PID_i = adataTest.obs[sample_id_col][adataTest.obs[cell_type_col] == ct_]\n",
    "        if ct_ not in clfList:\n",
    "            print(f\"{ct_} is missing in training set\")\n",
    "            continue\n",
    "        DF_i = pd.DataFrame.from_dict({\n",
    "            sample_id_col: PID_i,\n",
    "            f\"{ct_}_prediction\": clfList[ct_]['clf'].predict(X_i)\n",
    "        })\n",
    "        if classificationDF.shape[0] == 0:\n",
    "            classificationDF = DF_i\n",
    "        else:\n",
    "            classificationDF = classificationDF.merge(DF_i, how='outer', on = sample_id_col)\n",
    "    classificationDF['firstChoice'] = ''\n",
    "    classificationDF['firstChoice_perc'] = np.nan\n",
    "    classificationDF['secondChoice'] = ''\n",
    "    classificationDF['secondChoice_perc'] = np.nan\n",
    "    \n",
    "    for i in tqdm(range(classificationDF.shape[0])):\n",
    "        vote_i = classificationDF.loc[i,classificationDF.columns !=sample_id_col].value_counts()\n",
    "        vote_i /= (vote_i.sum() / 100)\n",
    "        res_i = vote_i.sort_values(ascending=False)\n",
    "        classificationDF.loc[i,'firstChoice'] = res_i.index[0]\n",
    "        classificationDF.loc[i,'firstChoice_perc'] = res_i.iloc[0]\n",
    "        if res_i.shape[0] > 1:\n",
    "            classificationDF.loc[i,'secondChoice'] = res_i.index[1]\n",
    "            classificationDF.loc[i,'secondChoice_perc'] = res_i.iloc[1]\n",
    "\n",
    "    return classificationDF\n",
    "    \n",
    "def aggregating_features(Z = None, obsDF = None, mode = 'mean', obs_names_col = [], min_observation = 0):\n",
    "    Zdf = pd.DataFrame(Z)\n",
    "    for c in obsDF.columns:\n",
    "        Zdf[c] = obsDF[c].tolist()\n",
    "\n",
    "    grpDF = Zdf.groupby(obsDF.columns.tolist(), observed = True)\n",
    "\n",
    "    nCount = grpDF.size().to_frame('n_observation')\n",
    "    \n",
    "    if mode in ['mean','avarage']:\n",
    "        Zaggr = grpDF.mean()\n",
    "    elif mode == 'sum':\n",
    "        Zaggr = grpDF.sum()\n",
    "    else:\n",
    "        raise ValueError(f\"mode {mode} not supported. Available mode are 'mean' or 'sum'\")\n",
    "\n",
    "    grpObs = pd.DataFrame(Zaggr.index.tolist(), columns=obsDF.columns.tolist()).merge(pd.DataFrame(nCount).reset_index(), on = obsDF.columns.tolist())\n",
    "\n",
    "    if len(obs_names_col) == 0:\n",
    "        grpAdata  = sc.AnnData(X = np.array(Zaggr), obs = grpObs)\n",
    "    elif all([c in obsDF.columns.tolist() for c in obs_names_col]):\n",
    "        grpObs.index = grpObs[obs_names_col].apply(lambda row: '_'.join(row.values.astype(str)), axis=1)\n",
    "        grpAdata  = sc.AnnData(X = np.array(Zaggr), obs = grpObs)\n",
    "    else:\n",
    "        raise ValueError(f\"Impossible to use {obs_names_col} as index. It's not present in obsDF\")\n",
    "\n",
    "    if min_observation > 0:\n",
    "        grpAdata = grpAdata[grpAdata.obs.n_observation >= min_observation]\n",
    "    return grpAdata"
   ]
  },
  {
   "cell_type": "markdown",
   "id": "bd323da1-8446-4ffc-91ac-c737ce081412",
   "metadata": {
    "papermill": {
     "duration": 0.007307,
     "end_time": "2024-06-10T16:42:55.184272",
     "exception": false,
     "start_time": "2024-06-10T16:42:55.176965",
     "status": "completed"
    },
    "tags": []
   },
   "source": [
    "### Parameters"
   ]
  },
  {
   "cell_type": "code",
   "execution_count": 5,
   "id": "3f81fe70-a960-401d-a05d-9d9199edd620",
   "metadata": {
    "execution": {
     "iopub.execute_input": "2024-06-10T16:42:55.200214Z",
     "iopub.status.busy": "2024-06-10T16:42:55.199669Z",
     "iopub.status.idle": "2024-06-10T16:42:55.205211Z",
     "shell.execute_reply": "2024-06-10T16:42:55.204849Z"
    },
    "papermill": {
     "duration": 0.01451,
     "end_time": "2024-06-10T16:42:55.206134",
     "exception": false,
     "start_time": "2024-06-10T16:42:55.191624",
     "status": "completed"
    },
    "tags": []
   },
   "outputs": [
    {
     "data": {
      "text/plain": [
       "['chemistry']"
      ]
     },
     "execution_count": 5,
     "metadata": {},
     "output_type": "execute_result"
    }
   ],
   "source": [
    "batch_key_query = batchKeys.split(',')\n",
    "batch_key_query"
   ]
  },
  {
   "cell_type": "markdown",
   "id": "008170b2-f7e2-4c59-b434-b682dacf1110",
   "metadata": {
    "papermill": {
     "duration": 0.648617,
     "end_time": "2024-06-10T16:42:55.862428",
     "exception": false,
     "start_time": "2024-06-10T16:42:55.213811",
     "status": "completed"
    },
    "tags": []
   },
   "source": [
    "### Loading dataset"
   ]
  },
  {
   "cell_type": "markdown",
   "id": "c96cf9da-e2ed-4800-903c-316f4805e559",
   "metadata": {
    "papermill": {
     "duration": 0.010615,
     "end_time": "2024-06-10T16:42:56.800348",
     "exception": false,
     "start_time": "2024-06-10T16:42:56.789733",
     "status": "completed"
    },
    "tags": []
   },
   "source": [
    "**Integrated object**"
   ]
  },
  {
   "cell_type": "code",
   "execution_count": 6,
   "id": "8e361302-99f5-48fe-989b-f196e18ae0dd",
   "metadata": {
    "execution": {
     "iopub.execute_input": "2024-06-10T16:42:56.816741Z",
     "iopub.status.busy": "2024-06-10T16:42:56.816404Z",
     "iopub.status.idle": "2024-06-10T16:44:03.094662Z",
     "shell.execute_reply": "2024-06-10T16:44:03.094178Z"
    },
    "papermill": {
     "duration": 66.317014,
     "end_time": "2024-06-10T16:44:03.125208",
     "exception": false,
     "start_time": "2024-06-10T16:42:56.808194",
     "status": "completed"
    },
    "tags": []
   },
   "outputs": [
    {
     "data": {
      "text/plain": [
       "AnnData object with n_obs × n_vars = 4435922 × 8253 backed at '/scratch_isilon/groups/singlecell/shared/projects/Inflammation-PBMCs-Atlas/03_downstream_analysis/08_PatientClassifier/Harmony_Symphony/results/01_MAIN_HarmonyIntegrated_30nPC_Batch_chemistry.h5ad'\n",
       "    obs: 'studyID', 'libraryID', 'sampleID', 'chemistry', 'disease', 'sex', 'binned_age', 'Level1', 'Level2'\n",
       "    var: 'hgnc_id', 'symbol', 'locus_group', 'HUGO_status', 'highly_variable', 'mean', 'std'\n",
       "    uns: 'harmony', 'log1p', 'pca'\n",
       "    obsm: 'X_pca', 'X_pca_harmony'\n",
       "    varm: 'PCs'"
      ]
     },
     "execution_count": 6,
     "metadata": {},
     "output_type": "execute_result"
    }
   ],
   "source": [
    "adataR = sc.read_h5ad(here(f\"03_downstream_analysis/08_PatientClassifier/Harmony_Symphony/results/01_MAIN_HarmonyIntegrated_{nPC}nPC_Batch_{batchKeys}.h5ad\"), backed='r')\n",
    "adataR"
   ]
  },
  {
   "cell_type": "markdown",
   "id": "7a8289b7-ae48-40bd-a8bf-b8a61d6fea7c",
   "metadata": {
    "papermill": {
     "duration": 0.018648,
     "end_time": "2024-06-10T16:44:03.190155",
     "exception": false,
     "start_time": "2024-06-10T16:44:03.171507",
     "status": "completed"
    },
    "tags": []
   },
   "source": [
    "**Query dataset**"
   ]
  },
  {
   "cell_type": "code",
   "execution_count": 7,
   "id": "f8922a45-9d49-4b6e-be13-48cecafe227d",
   "metadata": {
    "execution": {
     "iopub.execute_input": "2024-06-10T16:44:03.207593Z",
     "iopub.status.busy": "2024-06-10T16:44:03.207409Z",
     "iopub.status.idle": "2024-06-10T16:44:21.669968Z",
     "shell.execute_reply": "2024-06-10T16:44:21.669567Z"
    },
    "papermill": {
     "duration": 18.472574,
     "end_time": "2024-06-10T16:44:21.670923",
     "exception": false,
     "start_time": "2024-06-10T16:44:03.198349",
     "status": "completed"
    },
    "tags": []
   },
   "outputs": [
    {
     "data": {
      "text/plain": [
       "AnnData object with n_obs × n_vars = 849922 × 8253\n",
       "    obs: 'studyID', 'libraryID', 'sampleID', 'chemistry', 'technology', 'disease', 'sex', 'binned_age'\n",
       "    var: 'hgnc_id', 'symbol', 'locus_group', 'HUGO_status'"
      ]
     },
     "execution_count": 7,
     "metadata": {},
     "output_type": "execute_result"
    }
   ],
   "source": [
    "adataQ = sc.read_h5ad(here(f'03_downstream_analysis/02_gene_universe_definition/results/05_{queryDataset}_geneUniverse.h5ad'))\n",
    "adataQ"
   ]
  },
  {
   "cell_type": "markdown",
   "id": "0be9f746-fd30-4f97-9ec7-1a1e1f831776",
   "metadata": {
    "papermill": {
     "duration": 0.804193,
     "end_time": "2024-06-10T16:44:23.985654",
     "exception": false,
     "start_time": "2024-06-10T16:44:23.181461",
     "status": "completed"
    },
    "tags": []
   },
   "source": [
    "### Preprocessing"
   ]
  },
  {
   "cell_type": "code",
   "execution_count": 8,
   "id": "db7e0e86-4cfc-44f7-a6f1-1fa3795ad5a3",
   "metadata": {
    "execution": {
     "iopub.execute_input": "2024-06-10T16:44:25.959175Z",
     "iopub.status.busy": "2024-06-10T16:44:25.958568Z",
     "iopub.status.idle": "2024-06-10T16:45:00.220172Z",
     "shell.execute_reply": "2024-06-10T16:45:00.219553Z"
    },
    "papermill": {
     "duration": 35.040078,
     "end_time": "2024-06-10T16:45:00.221621",
     "exception": false,
     "start_time": "2024-06-10T16:44:25.181543",
     "status": "completed"
    },
    "tags": []
   },
   "outputs": [],
   "source": [
    "sc.pp.normalize_total(adataQ, target_sum=1e4)\n",
    "sc.pp.log1p(adataQ)"
   ]
  },
  {
   "cell_type": "markdown",
   "id": "3109c878-d7d1-4372-9462-0ccdb78070dc",
   "metadata": {
    "papermill": {
     "duration": 2.309685,
     "end_time": "2024-06-10T16:45:06.833067",
     "exception": false,
     "start_time": "2024-06-10T16:45:04.523382",
     "status": "completed"
    },
    "tags": []
   },
   "source": [
    "### Projection with Symphony"
   ]
  },
  {
   "cell_type": "code",
   "execution_count": 9,
   "id": "d2e7eed3-c2e1-4031-a49f-89e32fe17130",
   "metadata": {
    "execution": {
     "iopub.execute_input": "2024-06-10T16:45:09.915224Z",
     "iopub.status.busy": "2024-06-10T16:45:09.914916Z",
     "iopub.status.idle": "2024-06-10T16:49:26.395111Z",
     "shell.execute_reply": "2024-06-10T16:49:26.394321Z"
    },
    "papermill": {
     "duration": 257.493909,
     "end_time": "2024-06-10T16:49:26.396570",
     "exception": false,
     "start_time": "2024-06-10T16:45:08.902661",
     "status": "completed"
    },
    "tags": []
   },
   "outputs": [],
   "source": [
    "sp.tl.map_embedding(adataQ, adataR, key=batch_key_query)"
   ]
  },
  {
   "cell_type": "code",
   "execution_count": 10,
   "id": "ca297baa-c283-440d-82d6-90586f0cb94f",
   "metadata": {
    "execution": {
     "iopub.execute_input": "2024-06-10T16:49:34.574596Z",
     "iopub.status.busy": "2024-06-10T16:49:34.574252Z",
     "iopub.status.idle": "2024-06-10T16:59:42.240510Z",
     "shell.execute_reply": "2024-06-10T16:59:42.239862Z"
    },
    "papermill": {
     "duration": 608.371093,
     "end_time": "2024-06-10T16:59:42.242015",
     "exception": false,
     "start_time": "2024-06-10T16:49:33.870922",
     "status": "completed"
    },
    "tags": []
   },
   "outputs": [],
   "source": [
    "sp.tl.per_cell_confidence(adataQ, adataR)"
   ]
  },
  {
   "cell_type": "code",
   "execution_count": 11,
   "id": "0ae24ad9-1d56-4ed7-8c14-37c06081dc89",
   "metadata": {
    "execution": {
     "iopub.execute_input": "2024-06-10T16:59:42.263639Z",
     "iopub.status.busy": "2024-06-10T16:59:42.263425Z",
     "iopub.status.idle": "2024-06-10T16:59:42.615773Z",
     "shell.execute_reply": "2024-06-10T16:59:42.615382Z"
    },
    "papermill": {
     "duration": 0.362514,
     "end_time": "2024-06-10T16:59:42.616686",
     "exception": false,
     "start_time": "2024-06-10T16:59:42.254172",
     "status": "completed"
    },
    "tags": []
   },
   "outputs": [
    {
     "data": {
      "text/plain": [
       "<Axes: >"
      ]
     },
     "execution_count": 11,
     "metadata": {},
     "output_type": "execute_result"
    },
    {
     "data": {
      "image/png": "[encoded data removed]",
      "text/plain": [
       "<Figure size 640x480 with 1 Axes>"
      ]
     },
     "metadata": {},
     "output_type": "display_data"
    }
   ],
   "source": [
    "adataQ.obs.symphony_per_cell_dist.hist(bins=100)"
   ]
  },
  {
   "cell_type": "code",
   "execution_count": 12,
   "id": "2ee17ce6-f8c5-4a1e-b93e-9fc70ab7edb9",
   "metadata": {
    "execution": {
     "iopub.execute_input": "2024-06-10T16:59:42.636152Z",
     "iopub.status.busy": "2024-06-10T16:59:42.635768Z",
     "iopub.status.idle": "2024-06-10T16:59:42.639149Z",
     "shell.execute_reply": "2024-06-10T16:59:42.638798Z"
    },
    "papermill": {
     "duration": 0.013937,
     "end_time": "2024-06-10T16:59:42.639996",
     "exception": false,
     "start_time": "2024-06-10T16:59:42.626059",
     "status": "completed"
    },
    "tags": []
   },
   "outputs": [
    {
     "data": {
      "text/plain": [
       "AnnData object with n_obs × n_vars = 849922 × 8253\n",
       "    obs: 'studyID', 'libraryID', 'sampleID', 'chemistry', 'technology', 'disease', 'sex', 'binned_age', 'symphony_per_cell_dist'\n",
       "    var: 'hgnc_id', 'symbol', 'locus_group', 'HUGO_status'\n",
       "    uns: 'log1p'\n",
       "    obsm: 'X_pca_reference', 'X_pca_harmony', 'X_pca_harmony_symphony_R'"
      ]
     },
     "execution_count": 12,
     "metadata": {},
     "output_type": "execute_result"
    }
   ],
   "source": [
    "adataQ"
   ]
  },
  {
   "cell_type": "markdown",
   "id": "51e25a69-c8f9-43c8-b50c-e2b4aa826a6b",
   "metadata": {
    "papermill": {
     "duration": 0.00884,
     "end_time": "2024-06-10T16:59:42.657718",
     "exception": false,
     "start_time": "2024-06-10T16:59:42.648878",
     "status": "completed"
    },
    "tags": []
   },
   "source": [
    "### Label transfer"
   ]
  },
  {
   "cell_type": "code",
   "execution_count": 13,
   "id": "81d61d37-fdfa-4071-aace-eff99e9d6787",
   "metadata": {
    "execution": {
     "iopub.execute_input": "2024-06-10T16:59:42.676372Z",
     "iopub.status.busy": "2024-06-10T16:59:42.676108Z",
     "iopub.status.idle": "2024-06-10T16:59:42.678176Z",
     "shell.execute_reply": "2024-06-10T16:59:42.677823Z"
    },
    "papermill": {
     "duration": 0.012418,
     "end_time": "2024-06-10T16:59:42.679023",
     "exception": false,
     "start_time": "2024-06-10T16:59:42.666605",
     "status": "completed"
    },
    "tags": []
   },
   "outputs": [],
   "source": [
    "# common embedded space -> adataQ.obsm['X_pca_harmony']"
   ]
  },
  {
   "cell_type": "markdown",
   "id": "9482b233-08d7-4ed8-ad0f-729f59e05024",
   "metadata": {
    "papermill": {
     "duration": 0.009215,
     "end_time": "2024-06-10T16:59:42.697251",
     "exception": false,
     "start_time": "2024-06-10T16:59:42.688036",
     "status": "completed"
    },
    "tags": []
   },
   "source": [
    "**Level1 Annotation**"
   ]
  },
  {
   "cell_type": "code",
   "execution_count": 14,
   "id": "1016b8d2-0480-409a-aac4-1e521a1397b0",
   "metadata": {
    "execution": {
     "iopub.execute_input": "2024-06-10T16:59:42.715516Z",
     "iopub.status.busy": "2024-06-10T16:59:42.715323Z",
     "iopub.status.idle": "2024-06-10T17:21:02.220582Z",
     "shell.execute_reply": "2024-06-10T17:21:02.219842Z"
    },
    "papermill": {
     "duration": 1279.516158,
     "end_time": "2024-06-10T17:21:02.222072",
     "exception": false,
     "start_time": "2024-06-10T16:59:42.705914",
     "status": "completed"
    },
    "tags": []
   },
   "outputs": [],
   "source": [
    "sp.tl.transfer_labels_kNN(adataQ, adataR, 'Level1', ref_basis = 'X_pca_harmony', query_basis = 'X_pca_harmony')"
   ]
  },
  {
   "cell_type": "markdown",
   "id": "69eb76ae-aa03-4807-b680-a7423fb55458",
   "metadata": {
    "papermill": {
     "duration": 0.009828,
     "end_time": "2024-06-10T17:21:02.490642",
     "exception": false,
     "start_time": "2024-06-10T17:21:02.480814",
     "status": "completed"
    },
    "tags": []
   },
   "source": [
    "**Disease**"
   ]
  },
  {
   "cell_type": "code",
   "execution_count": 15,
   "id": "20429eca-9c43-4db8-b1da-94434c4c99c2",
   "metadata": {
    "execution": {
     "iopub.execute_input": "2024-06-10T17:21:02.511122Z",
     "iopub.status.busy": "2024-06-10T17:21:02.510695Z",
     "iopub.status.idle": "2024-06-10T17:21:02.514181Z",
     "shell.execute_reply": "2024-06-10T17:21:02.513777Z"
    },
    "papermill": {
     "duration": 0.014747,
     "end_time": "2024-06-10T17:21:02.515064",
     "exception": false,
     "start_time": "2024-06-10T17:21:02.500317",
     "status": "completed"
    },
    "tags": []
   },
   "outputs": [],
   "source": [
    "adataQ.obs.rename({'disease':'disease_true'}, axis=1, inplace=True)"
   ]
  },
  {
   "cell_type": "code",
   "execution_count": 16,
   "id": "7b72f7c3-af64-4a22-ab6b-8d5e5dbd4af3",
   "metadata": {
    "execution": {
     "iopub.execute_input": "2024-06-10T17:21:02.534669Z",
     "iopub.status.busy": "2024-06-10T17:21:02.534404Z",
     "iopub.status.idle": "2024-06-10T17:42:37.956084Z",
     "shell.execute_reply": "2024-06-10T17:42:37.955294Z"
    },
    "papermill": {
     "duration": 1295.432823,
     "end_time": "2024-06-10T17:42:37.957681",
     "exception": false,
     "start_time": "2024-06-10T17:21:02.524858",
     "status": "completed"
    },
    "tags": []
   },
   "outputs": [],
   "source": [
    "sp.tl.transfer_labels_kNN(adataQ, adataR, 'disease', ref_basis = 'X_pca_harmony', query_basis = 'X_pca_harmony')"
   ]
  },
  {
   "cell_type": "code",
   "execution_count": 17,
   "id": "2e1ad1d0-8a52-46a8-ae97-15dc2984f08e",
   "metadata": {
    "execution": {
     "iopub.execute_input": "2024-06-10T17:42:37.979040Z",
     "iopub.status.busy": "2024-06-10T17:42:37.978583Z",
     "iopub.status.idle": "2024-06-10T17:42:37.982168Z",
     "shell.execute_reply": "2024-06-10T17:42:37.981685Z"
    },
    "papermill": {
     "duration": 0.014584,
     "end_time": "2024-06-10T17:42:37.983075",
     "exception": false,
     "start_time": "2024-06-10T17:42:37.968491",
     "status": "completed"
    },
    "tags": []
   },
   "outputs": [],
   "source": [
    "adataQ.obs.rename({'disease':'disease_pred'}, axis=1, inplace=True)"
   ]
  },
  {
   "cell_type": "code",
   "execution_count": 18,
   "id": "0eb1c5d7-97fd-4c42-9b7b-8cddd8e22987",
   "metadata": {
    "execution": {
     "iopub.execute_input": "2024-06-10T17:42:38.039424Z",
     "iopub.status.busy": "2024-06-10T17:42:38.039004Z",
     "iopub.status.idle": "2024-06-10T17:42:40.568487Z",
     "shell.execute_reply": "2024-06-10T17:42:40.568073Z"
    },
    "papermill": {
     "duration": 2.577148,
     "end_time": "2024-06-10T17:42:40.569407",
     "exception": false,
     "start_time": "2024-06-10T17:42:37.992259",
     "status": "completed"
    },
    "tags": []
   },
   "outputs": [
    {
     "name": "stderr",
     "output_type": "stream",
     "text": [
      "/scratch_isilon/groups/singlecell/shared/conda_env/inflammation_atlas_R1/lib/python3.10/site-packages/sklearn/metrics/_classification.py:2458: UserWarning: y_pred contains classes not in y_true\n",
      "  warnings.warn(\"y_pred contains classes not in y_true\")\n"
     ]
    },
    {
     "data": {
      "text/plain": [
       "0.41786513386452856"
      ]
     },
     "execution_count": 18,
     "metadata": {},
     "output_type": "execute_result"
    }
   ],
   "source": [
    "balanced_accuracy_score(y_true = adataQ.obs.disease_true, y_pred=adataQ.obs.disease_pred)"
   ]
  },
  {
   "cell_type": "code",
   "execution_count": 19,
   "id": "0e4bc21f-ed6a-41d9-8254-1eb2bc58c1a1",
   "metadata": {
    "execution": {
     "iopub.execute_input": "2024-06-10T17:42:40.589435Z",
     "iopub.status.busy": "2024-06-10T17:42:40.588958Z",
     "iopub.status.idle": "2024-06-10T17:42:40.605832Z",
     "shell.execute_reply": "2024-06-10T17:42:40.605483Z"
    },
    "papermill": {
     "duration": 0.0276,
     "end_time": "2024-06-10T17:42:40.606701",
     "exception": false,
     "start_time": "2024-06-10T17:42:40.579101",
     "status": "completed"
    },
    "tags": []
   },
   "outputs": [
    {
     "data": {
      "text/html": [
       "<div>\n",
       "<style scoped>\n",
       "    .dataframe tbody tr th:only-of-type {\n",
       "        vertical-align: middle;\n",
       "    }\n",
       "\n",
       "    .dataframe tbody tr th {\n",
       "        vertical-align: top;\n",
       "    }\n",
       "\n",
       "    .dataframe thead th {\n",
       "        text-align: right;\n",
       "    }\n",
       "</style>\n",
       "<table border=\"1\" class=\"dataframe\">\n",
       "  <thead>\n",
       "    <tr style=\"text-align: right;\">\n",
       "      <th></th>\n",
       "      <th>studyID</th>\n",
       "      <th>libraryID</th>\n",
       "      <th>sampleID</th>\n",
       "      <th>chemistry</th>\n",
       "      <th>technology</th>\n",
       "      <th>disease_true</th>\n",
       "      <th>sex</th>\n",
       "      <th>binned_age</th>\n",
       "      <th>symphony_per_cell_dist</th>\n",
       "      <th>Level1</th>\n",
       "      <th>disease_pred</th>\n",
       "    </tr>\n",
       "    <tr>\n",
       "      <th>cellID</th>\n",
       "      <th></th>\n",
       "      <th></th>\n",
       "      <th></th>\n",
       "      <th></th>\n",
       "      <th></th>\n",
       "      <th></th>\n",
       "      <th></th>\n",
       "      <th></th>\n",
       "      <th></th>\n",
       "      <th></th>\n",
       "      <th></th>\n",
       "    </tr>\n",
       "  </thead>\n",
       "  <tbody>\n",
       "    <tr>\n",
       "      <th>SCGT00_L051_I51.3P_T0_AAACCCACAATCAGCT</th>\n",
       "      <td>SCGT00</td>\n",
       "      <td>SCGT00_L051</td>\n",
       "      <td>SCGT00_I51.3P_T0</td>\n",
       "      <td>3_GEX_V3</td>\n",
       "      <td>3_GEX_V3_GenoHashed</td>\n",
       "      <td>RA</td>\n",
       "      <td>female</td>\n",
       "      <td>41-50</td>\n",
       "      <td>9.368450</td>\n",
       "      <td>ILC</td>\n",
       "      <td>RA</td>\n",
       "    </tr>\n",
       "    <tr>\n",
       "      <th>SCGT00_L051_I51.3P_T0_AAACCCAGTACAATAG</th>\n",
       "      <td>SCGT00</td>\n",
       "      <td>SCGT00_L051</td>\n",
       "      <td>SCGT00_I51.3P_T0</td>\n",
       "      <td>3_GEX_V3</td>\n",
       "      <td>3_GEX_V3_GenoHashed</td>\n",
       "      <td>RA</td>\n",
       "      <td>female</td>\n",
       "      <td>41-50</td>\n",
       "      <td>6.994296</td>\n",
       "      <td>Mono</td>\n",
       "      <td>SLE</td>\n",
       "    </tr>\n",
       "    <tr>\n",
       "      <th>SCGT00_L051_I51.3P_T0_AAACGAACAACAGATA</th>\n",
       "      <td>SCGT00</td>\n",
       "      <td>SCGT00_L051</td>\n",
       "      <td>SCGT00_I51.3P_T0</td>\n",
       "      <td>3_GEX_V3</td>\n",
       "      <td>3_GEX_V3_GenoHashed</td>\n",
       "      <td>RA</td>\n",
       "      <td>female</td>\n",
       "      <td>41-50</td>\n",
       "      <td>7.710342</td>\n",
       "      <td>ILC</td>\n",
       "      <td>RA</td>\n",
       "    </tr>\n",
       "    <tr>\n",
       "      <th>SCGT00_L051_I51.3P_T0_AAACGAAGTGATACCT</th>\n",
       "      <td>SCGT00</td>\n",
       "      <td>SCGT00_L051</td>\n",
       "      <td>SCGT00_I51.3P_T0</td>\n",
       "      <td>3_GEX_V3</td>\n",
       "      <td>3_GEX_V3_GenoHashed</td>\n",
       "      <td>RA</td>\n",
       "      <td>female</td>\n",
       "      <td>41-50</td>\n",
       "      <td>9.223941</td>\n",
       "      <td>ILC</td>\n",
       "      <td>cirrhosis</td>\n",
       "    </tr>\n",
       "    <tr>\n",
       "      <th>SCGT00_L051_I51.3P_T0_AAACGAAGTTCTAACG</th>\n",
       "      <td>SCGT00</td>\n",
       "      <td>SCGT00_L051</td>\n",
       "      <td>SCGT00_I51.3P_T0</td>\n",
       "      <td>3_GEX_V3</td>\n",
       "      <td>3_GEX_V3_GenoHashed</td>\n",
       "      <td>RA</td>\n",
       "      <td>female</td>\n",
       "      <td>41-50</td>\n",
       "      <td>8.666656</td>\n",
       "      <td>T_CD4_NonNaive</td>\n",
       "      <td>PSA</td>\n",
       "    </tr>\n",
       "    <tr>\n",
       "      <th>...</th>\n",
       "      <td>...</td>\n",
       "      <td>...</td>\n",
       "      <td>...</td>\n",
       "      <td>...</td>\n",
       "      <td>...</td>\n",
       "      <td>...</td>\n",
       "      <td>...</td>\n",
       "      <td>...</td>\n",
       "      <td>...</td>\n",
       "      <td>...</td>\n",
       "      <td>...</td>\n",
       "    </tr>\n",
       "    <tr>\n",
       "      <th>Ren2021_L065_PS052_T0_TTTGTCAAGTGTACCT</th>\n",
       "      <td>Ren2021</td>\n",
       "      <td>Ren2021_L065</td>\n",
       "      <td>Ren2021_PS052_T0</td>\n",
       "      <td>5_GEX_V2</td>\n",
       "      <td>5_GEX_V2</td>\n",
       "      <td>COVID</td>\n",
       "      <td>female</td>\n",
       "      <td>&gt;80</td>\n",
       "      <td>10.520522</td>\n",
       "      <td>T_CD4_Naive</td>\n",
       "      <td>COVID</td>\n",
       "    </tr>\n",
       "    <tr>\n",
       "      <th>Ren2021_L065_PS052_T0_TTTGTCACAGGACCCT</th>\n",
       "      <td>Ren2021</td>\n",
       "      <td>Ren2021_L065</td>\n",
       "      <td>Ren2021_PS052_T0</td>\n",
       "      <td>5_GEX_V2</td>\n",
       "      <td>5_GEX_V2</td>\n",
       "      <td>COVID</td>\n",
       "      <td>female</td>\n",
       "      <td>&gt;80</td>\n",
       "      <td>8.085379</td>\n",
       "      <td>T_CD4_Naive</td>\n",
       "      <td>COVID</td>\n",
       "    </tr>\n",
       "    <tr>\n",
       "      <th>Ren2021_L065_PS052_T0_TTTGTCAGTCCGTCAG</th>\n",
       "      <td>Ren2021</td>\n",
       "      <td>Ren2021_L065</td>\n",
       "      <td>Ren2021_PS052_T0</td>\n",
       "      <td>5_GEX_V2</td>\n",
       "      <td>5_GEX_V2</td>\n",
       "      <td>COVID</td>\n",
       "      <td>female</td>\n",
       "      <td>&gt;80</td>\n",
       "      <td>7.641638</td>\n",
       "      <td>T_CD4_Naive</td>\n",
       "      <td>COVID</td>\n",
       "    </tr>\n",
       "    <tr>\n",
       "      <th>Ren2021_L065_PS052_T0_TTTGTCAGTCGCGTGT</th>\n",
       "      <td>Ren2021</td>\n",
       "      <td>Ren2021_L065</td>\n",
       "      <td>Ren2021_PS052_T0</td>\n",
       "      <td>5_GEX_V2</td>\n",
       "      <td>5_GEX_V2</td>\n",
       "      <td>COVID</td>\n",
       "      <td>female</td>\n",
       "      <td>&gt;80</td>\n",
       "      <td>6.420027</td>\n",
       "      <td>Mono</td>\n",
       "      <td>COVID</td>\n",
       "    </tr>\n",
       "    <tr>\n",
       "      <th>Ren2021_L065_PS052_T0_TTTGTCATCCACGAAT</th>\n",
       "      <td>Ren2021</td>\n",
       "      <td>Ren2021_L065</td>\n",
       "      <td>Ren2021_PS052_T0</td>\n",
       "      <td>5_GEX_V2</td>\n",
       "      <td>5_GEX_V2</td>\n",
       "      <td>COVID</td>\n",
       "      <td>female</td>\n",
       "      <td>&gt;80</td>\n",
       "      <td>5.981901</td>\n",
       "      <td>T_CD8_NonNaive</td>\n",
       "      <td>COVID</td>\n",
       "    </tr>\n",
       "  </tbody>\n",
       "</table>\n",
       "<p>849922 rows × 11 columns</p>\n",
       "</div>"
      ],
      "text/plain": [
       "                                        studyID     libraryID  \\\n",
       "cellID                                                          \n",
       "SCGT00_L051_I51.3P_T0_AAACCCACAATCAGCT   SCGT00   SCGT00_L051   \n",
       "SCGT00_L051_I51.3P_T0_AAACCCAGTACAATAG   SCGT00   SCGT00_L051   \n",
       "SCGT00_L051_I51.3P_T0_AAACGAACAACAGATA   SCGT00   SCGT00_L051   \n",
       "SCGT00_L051_I51.3P_T0_AAACGAAGTGATACCT   SCGT00   SCGT00_L051   \n",
       "SCGT00_L051_I51.3P_T0_AAACGAAGTTCTAACG   SCGT00   SCGT00_L051   \n",
       "...                                         ...           ...   \n",
       "Ren2021_L065_PS052_T0_TTTGTCAAGTGTACCT  Ren2021  Ren2021_L065   \n",
       "Ren2021_L065_PS052_T0_TTTGTCACAGGACCCT  Ren2021  Ren2021_L065   \n",
       "Ren2021_L065_PS052_T0_TTTGTCAGTCCGTCAG  Ren2021  Ren2021_L065   \n",
       "Ren2021_L065_PS052_T0_TTTGTCAGTCGCGTGT  Ren2021  Ren2021_L065   \n",
       "Ren2021_L065_PS052_T0_TTTGTCATCCACGAAT  Ren2021  Ren2021_L065   \n",
       "\n",
       "                                                sampleID chemistry  \\\n",
       "cellID                                                               \n",
       "SCGT00_L051_I51.3P_T0_AAACCCACAATCAGCT  SCGT00_I51.3P_T0  3_GEX_V3   \n",
       "SCGT00_L051_I51.3P_T0_AAACCCAGTACAATAG  SCGT00_I51.3P_T0  3_GEX_V3   \n",
       "SCGT00_L051_I51.3P_T0_AAACGAACAACAGATA  SCGT00_I51.3P_T0  3_GEX_V3   \n",
       "SCGT00_L051_I51.3P_T0_AAACGAAGTGATACCT  SCGT00_I51.3P_T0  3_GEX_V3   \n",
       "SCGT00_L051_I51.3P_T0_AAACGAAGTTCTAACG  SCGT00_I51.3P_T0  3_GEX_V3   \n",
       "...                                                  ...       ...   \n",
       "Ren2021_L065_PS052_T0_TTTGTCAAGTGTACCT  Ren2021_PS052_T0  5_GEX_V2   \n",
       "Ren2021_L065_PS052_T0_TTTGTCACAGGACCCT  Ren2021_PS052_T0  5_GEX_V2   \n",
       "Ren2021_L065_PS052_T0_TTTGTCAGTCCGTCAG  Ren2021_PS052_T0  5_GEX_V2   \n",
       "Ren2021_L065_PS052_T0_TTTGTCAGTCGCGTGT  Ren2021_PS052_T0  5_GEX_V2   \n",
       "Ren2021_L065_PS052_T0_TTTGTCATCCACGAAT  Ren2021_PS052_T0  5_GEX_V2   \n",
       "\n",
       "                                                 technology disease_true  \\\n",
       "cellID                                                                     \n",
       "SCGT00_L051_I51.3P_T0_AAACCCACAATCAGCT  3_GEX_V3_GenoHashed           RA   \n",
       "SCGT00_L051_I51.3P_T0_AAACCCAGTACAATAG  3_GEX_V3_GenoHashed           RA   \n",
       "SCGT00_L051_I51.3P_T0_AAACGAACAACAGATA  3_GEX_V3_GenoHashed           RA   \n",
       "SCGT00_L051_I51.3P_T0_AAACGAAGTGATACCT  3_GEX_V3_GenoHashed           RA   \n",
       "SCGT00_L051_I51.3P_T0_AAACGAAGTTCTAACG  3_GEX_V3_GenoHashed           RA   \n",
       "...                                                     ...          ...   \n",
       "Ren2021_L065_PS052_T0_TTTGTCAAGTGTACCT             5_GEX_V2        COVID   \n",
       "Ren2021_L065_PS052_T0_TTTGTCACAGGACCCT             5_GEX_V2        COVID   \n",
       "Ren2021_L065_PS052_T0_TTTGTCAGTCCGTCAG             5_GEX_V2        COVID   \n",
       "Ren2021_L065_PS052_T0_TTTGTCAGTCGCGTGT             5_GEX_V2        COVID   \n",
       "Ren2021_L065_PS052_T0_TTTGTCATCCACGAAT             5_GEX_V2        COVID   \n",
       "\n",
       "                                           sex binned_age  \\\n",
       "cellID                                                      \n",
       "SCGT00_L051_I51.3P_T0_AAACCCACAATCAGCT  female      41-50   \n",
       "SCGT00_L051_I51.3P_T0_AAACCCAGTACAATAG  female      41-50   \n",
       "SCGT00_L051_I51.3P_T0_AAACGAACAACAGATA  female      41-50   \n",
       "SCGT00_L051_I51.3P_T0_AAACGAAGTGATACCT  female      41-50   \n",
       "SCGT00_L051_I51.3P_T0_AAACGAAGTTCTAACG  female      41-50   \n",
       "...                                        ...        ...   \n",
       "Ren2021_L065_PS052_T0_TTTGTCAAGTGTACCT  female        >80   \n",
       "Ren2021_L065_PS052_T0_TTTGTCACAGGACCCT  female        >80   \n",
       "Ren2021_L065_PS052_T0_TTTGTCAGTCCGTCAG  female        >80   \n",
       "Ren2021_L065_PS052_T0_TTTGTCAGTCGCGTGT  female        >80   \n",
       "Ren2021_L065_PS052_T0_TTTGTCATCCACGAAT  female        >80   \n",
       "\n",
       "                                        symphony_per_cell_dist  \\\n",
       "cellID                                                           \n",
       "SCGT00_L051_I51.3P_T0_AAACCCACAATCAGCT                9.368450   \n",
       "SCGT00_L051_I51.3P_T0_AAACCCAGTACAATAG                6.994296   \n",
       "SCGT00_L051_I51.3P_T0_AAACGAACAACAGATA                7.710342   \n",
       "SCGT00_L051_I51.3P_T0_AAACGAAGTGATACCT                9.223941   \n",
       "SCGT00_L051_I51.3P_T0_AAACGAAGTTCTAACG                8.666656   \n",
       "...                                                        ...   \n",
       "Ren2021_L065_PS052_T0_TTTGTCAAGTGTACCT               10.520522   \n",
       "Ren2021_L065_PS052_T0_TTTGTCACAGGACCCT                8.085379   \n",
       "Ren2021_L065_PS052_T0_TTTGTCAGTCCGTCAG                7.641638   \n",
       "Ren2021_L065_PS052_T0_TTTGTCAGTCGCGTGT                6.420027   \n",
       "Ren2021_L065_PS052_T0_TTTGTCATCCACGAAT                5.981901   \n",
       "\n",
       "                                                Level1 disease_pred  \n",
       "cellID                                                               \n",
       "SCGT00_L051_I51.3P_T0_AAACCCACAATCAGCT             ILC           RA  \n",
       "SCGT00_L051_I51.3P_T0_AAACCCAGTACAATAG            Mono          SLE  \n",
       "SCGT00_L051_I51.3P_T0_AAACGAACAACAGATA             ILC           RA  \n",
       "SCGT00_L051_I51.3P_T0_AAACGAAGTGATACCT             ILC    cirrhosis  \n",
       "SCGT00_L051_I51.3P_T0_AAACGAAGTTCTAACG  T_CD4_NonNaive          PSA  \n",
       "...                                                ...          ...  \n",
       "Ren2021_L065_PS052_T0_TTTGTCAAGTGTACCT     T_CD4_Naive        COVID  \n",
       "Ren2021_L065_PS052_T0_TTTGTCACAGGACCCT     T_CD4_Naive        COVID  \n",
       "Ren2021_L065_PS052_T0_TTTGTCAGTCCGTCAG     T_CD4_Naive        COVID  \n",
       "Ren2021_L065_PS052_T0_TTTGTCAGTCGCGTGT            Mono        COVID  \n",
       "Ren2021_L065_PS052_T0_TTTGTCATCCACGAAT  T_CD8_NonNaive        COVID  \n",
       "\n",
       "[849922 rows x 11 columns]"
      ]
     },
     "execution_count": 19,
     "metadata": {},
     "output_type": "execute_result"
    }
   ],
   "source": [
    "adataQ.obs"
   ]
  },
  {
   "cell_type": "markdown",
   "id": "604b824a-321a-4ebe-802f-39ac50ec5238",
   "metadata": {
    "papermill": {
     "duration": 0.00984,
     "end_time": "2024-06-10T17:42:40.626343",
     "exception": false,
     "start_time": "2024-06-10T17:42:40.616503",
     "status": "completed"
    },
    "tags": []
   },
   "source": [
    "### Generating pseudobulk from latent space for Q dataset"
   ]
  },
  {
   "cell_type": "code",
   "execution_count": 20,
   "id": "995ab0a0-f978-4667-a85a-72b4757305c5",
   "metadata": {
    "execution": {
     "iopub.execute_input": "2024-06-10T17:42:40.646412Z",
     "iopub.status.busy": "2024-06-10T17:42:40.646070Z",
     "iopub.status.idle": "2024-06-10T17:42:40.973908Z",
     "shell.execute_reply": "2024-06-10T17:42:40.973364Z"
    },
    "papermill": {
     "duration": 0.338994,
     "end_time": "2024-06-10T17:42:40.974844",
     "exception": false,
     "start_time": "2024-06-10T17:42:40.635850",
     "status": "completed"
    },
    "tags": []
   },
   "outputs": [],
   "source": [
    "emb_pseudobulk_Q = aggregating_features(Z = adataQ.obsm['X_pca_harmony'], obsDF = adataQ.obs[['sampleID','Level1','disease_true']], mode = 'mean', obs_names_col=['sampleID','Level1'])"
   ]
  },
  {
   "cell_type": "code",
   "execution_count": 21,
   "id": "841534d1-d593-4372-b4d1-3133ae9180d8",
   "metadata": {
    "execution": {
     "iopub.execute_input": "2024-06-10T17:42:40.997431Z",
     "iopub.status.busy": "2024-06-10T17:42:40.997065Z",
     "iopub.status.idle": "2024-06-10T17:42:41.003757Z",
     "shell.execute_reply": "2024-06-10T17:42:41.003401Z"
    },
    "papermill": {
     "duration": 0.017942,
     "end_time": "2024-06-10T17:42:41.004633",
     "exception": false,
     "start_time": "2024-06-10T17:42:40.986691",
     "status": "completed"
    },
    "tags": []
   },
   "outputs": [
    {
     "data": {
      "text/html": [
       "<div>\n",
       "<style scoped>\n",
       "    .dataframe tbody tr th:only-of-type {\n",
       "        vertical-align: middle;\n",
       "    }\n",
       "\n",
       "    .dataframe tbody tr th {\n",
       "        vertical-align: top;\n",
       "    }\n",
       "\n",
       "    .dataframe thead th {\n",
       "        text-align: right;\n",
       "    }\n",
       "</style>\n",
       "<table border=\"1\" class=\"dataframe\">\n",
       "  <thead>\n",
       "    <tr style=\"text-align: right;\">\n",
       "      <th></th>\n",
       "      <th>sampleID</th>\n",
       "      <th>Level1</th>\n",
       "      <th>disease_true</th>\n",
       "      <th>n_observation</th>\n",
       "    </tr>\n",
       "  </thead>\n",
       "  <tbody>\n",
       "    <tr>\n",
       "      <th>COMBAT2022_G05073_T0_B</th>\n",
       "      <td>COMBAT2022_G05073_T0</td>\n",
       "      <td>B</td>\n",
       "      <td>COVID</td>\n",
       "      <td>519</td>\n",
       "    </tr>\n",
       "    <tr>\n",
       "      <th>COMBAT2022_G05073_T0_Cycling_cells</th>\n",
       "      <td>COMBAT2022_G05073_T0</td>\n",
       "      <td>Cycling_cells</td>\n",
       "      <td>COVID</td>\n",
       "      <td>66</td>\n",
       "    </tr>\n",
       "    <tr>\n",
       "      <th>COMBAT2022_G05073_T0_DC</th>\n",
       "      <td>COMBAT2022_G05073_T0</td>\n",
       "      <td>DC</td>\n",
       "      <td>COVID</td>\n",
       "      <td>111</td>\n",
       "    </tr>\n",
       "    <tr>\n",
       "      <th>COMBAT2022_G05073_T0_ILC</th>\n",
       "      <td>COMBAT2022_G05073_T0</td>\n",
       "      <td>ILC</td>\n",
       "      <td>COVID</td>\n",
       "      <td>312</td>\n",
       "    </tr>\n",
       "    <tr>\n",
       "      <th>COMBAT2022_G05073_T0_Mono</th>\n",
       "      <td>COMBAT2022_G05073_T0</td>\n",
       "      <td>Mono</td>\n",
       "      <td>COVID</td>\n",
       "      <td>1673</td>\n",
       "    </tr>\n",
       "    <tr>\n",
       "      <th>...</th>\n",
       "      <td>...</td>\n",
       "      <td>...</td>\n",
       "      <td>...</td>\n",
       "      <td>...</td>\n",
       "    </tr>\n",
       "    <tr>\n",
       "      <th>Terekhova2023_FE05_T0_T_CD4_NonNaive</th>\n",
       "      <td>Terekhova2023_FE05_T0</td>\n",
       "      <td>T_CD4_NonNaive</td>\n",
       "      <td>healthy</td>\n",
       "      <td>937</td>\n",
       "    </tr>\n",
       "    <tr>\n",
       "      <th>Terekhova2023_FE05_T0_T_CD8_Naive</th>\n",
       "      <td>Terekhova2023_FE05_T0</td>\n",
       "      <td>T_CD8_Naive</td>\n",
       "      <td>healthy</td>\n",
       "      <td>362</td>\n",
       "    </tr>\n",
       "    <tr>\n",
       "      <th>Terekhova2023_FE05_T0_T_CD8_NonNaive</th>\n",
       "      <td>Terekhova2023_FE05_T0</td>\n",
       "      <td>T_CD8_NonNaive</td>\n",
       "      <td>healthy</td>\n",
       "      <td>1165</td>\n",
       "    </tr>\n",
       "    <tr>\n",
       "      <th>Terekhova2023_FE05_T0_UTC</th>\n",
       "      <td>Terekhova2023_FE05_T0</td>\n",
       "      <td>UTC</td>\n",
       "      <td>healthy</td>\n",
       "      <td>246</td>\n",
       "    </tr>\n",
       "    <tr>\n",
       "      <th>Terekhova2023_FE05_T0_pDC</th>\n",
       "      <td>Terekhova2023_FE05_T0</td>\n",
       "      <td>pDC</td>\n",
       "      <td>healthy</td>\n",
       "      <td>57</td>\n",
       "    </tr>\n",
       "  </tbody>\n",
       "</table>\n",
       "<p>1983 rows × 4 columns</p>\n",
       "</div>"
      ],
      "text/plain": [
       "                                                   sampleID          Level1  \\\n",
       "COMBAT2022_G05073_T0_B                 COMBAT2022_G05073_T0               B   \n",
       "COMBAT2022_G05073_T0_Cycling_cells     COMBAT2022_G05073_T0   Cycling_cells   \n",
       "COMBAT2022_G05073_T0_DC                COMBAT2022_G05073_T0              DC   \n",
       "COMBAT2022_G05073_T0_ILC               COMBAT2022_G05073_T0             ILC   \n",
       "COMBAT2022_G05073_T0_Mono              COMBAT2022_G05073_T0            Mono   \n",
       "...                                                     ...             ...   \n",
       "Terekhova2023_FE05_T0_T_CD4_NonNaive  Terekhova2023_FE05_T0  T_CD4_NonNaive   \n",
       "Terekhova2023_FE05_T0_T_CD8_Naive     Terekhova2023_FE05_T0     T_CD8_Naive   \n",
       "Terekhova2023_FE05_T0_T_CD8_NonNaive  Terekhova2023_FE05_T0  T_CD8_NonNaive   \n",
       "Terekhova2023_FE05_T0_UTC             Terekhova2023_FE05_T0             UTC   \n",
       "Terekhova2023_FE05_T0_pDC             Terekhova2023_FE05_T0             pDC   \n",
       "\n",
       "                                     disease_true  n_observation  \n",
       "COMBAT2022_G05073_T0_B                      COVID            519  \n",
       "COMBAT2022_G05073_T0_Cycling_cells          COVID             66  \n",
       "COMBAT2022_G05073_T0_DC                     COVID            111  \n",
       "COMBAT2022_G05073_T0_ILC                    COVID            312  \n",
       "COMBAT2022_G05073_T0_Mono                   COVID           1673  \n",
       "...                                           ...            ...  \n",
       "Terekhova2023_FE05_T0_T_CD4_NonNaive      healthy            937  \n",
       "Terekhova2023_FE05_T0_T_CD8_Naive         healthy            362  \n",
       "Terekhova2023_FE05_T0_T_CD8_NonNaive      healthy           1165  \n",
       "Terekhova2023_FE05_T0_UTC                 healthy            246  \n",
       "Terekhova2023_FE05_T0_pDC                 healthy             57  \n",
       "\n",
       "[1983 rows x 4 columns]"
      ]
     },
     "execution_count": 21,
     "metadata": {},
     "output_type": "execute_result"
    }
   ],
   "source": [
    "emb_pseudobulk_Q.obs"
   ]
  },
  {
   "cell_type": "markdown",
   "id": "a43a1514-ec0f-4b9e-ac54-a48dbabc0fff",
   "metadata": {
    "execution": {
     "iopub.execute_input": "2024-06-07T16:00:22.779422Z",
     "iopub.status.busy": "2024-06-07T16:00:22.778939Z",
     "iopub.status.idle": "2024-06-07T16:00:22.782415Z",
     "shell.execute_reply": "2024-06-07T16:00:22.781982Z",
     "shell.execute_reply.started": "2024-06-07T16:00:22.779405Z"
    },
    "papermill": {
     "duration": 0.009814,
     "end_time": "2024-06-10T17:42:41.024355",
     "exception": false,
     "start_time": "2024-06-10T17:42:41.014541",
     "status": "completed"
    },
    "tags": []
   },
   "source": [
    "**Loading training pseudobulk**"
   ]
  },
  {
   "cell_type": "code",
   "execution_count": 22,
   "id": "b759518f-cc41-406e-8919-c72d6a6925e6",
   "metadata": {
    "execution": {
     "iopub.execute_input": "2024-06-10T17:42:41.045524Z",
     "iopub.status.busy": "2024-06-10T17:42:41.044929Z",
     "iopub.status.idle": "2024-06-10T17:42:41.089621Z",
     "shell.execute_reply": "2024-06-10T17:42:41.089153Z"
    },
    "papermill": {
     "duration": 0.056551,
     "end_time": "2024-06-10T17:42:41.090550",
     "exception": false,
     "start_time": "2024-06-10T17:42:41.033999",
     "status": "completed"
    },
    "tags": []
   },
   "outputs": [],
   "source": [
    "emb_pseudobulk_train = sc.read_h5ad(here(f\"03_downstream_analysis/08_PatientClassifier/Harmony_Symphony/results/01_MAIN_HarmonyIntegrated_PSEUDOBULK_{nPC}nPC_Batch_{batchKeys}.h5ad\"))"
   ]
  },
  {
   "cell_type": "markdown",
   "id": "fa0cf8df-f0dd-449c-87c8-b9207e94207b",
   "metadata": {
    "papermill": {
     "duration": 0.010062,
     "end_time": "2024-06-10T17:42:41.110714",
     "exception": false,
     "start_time": "2024-06-10T17:42:41.100652",
     "status": "completed"
    },
    "tags": []
   },
   "source": [
    "#### Remove unwanted cell types"
   ]
  },
  {
   "cell_type": "code",
   "execution_count": 23,
   "id": "b477252c-4cdb-4f89-8ec2-1d3dbc4a7655",
   "metadata": {
    "execution": {
     "iopub.execute_input": "2024-06-10T17:42:41.131488Z",
     "iopub.status.busy": "2024-06-10T17:42:41.131166Z",
     "iopub.status.idle": "2024-06-10T17:42:41.135952Z",
     "shell.execute_reply": "2024-06-10T17:42:41.135552Z"
    },
    "papermill": {
     "duration": 0.016254,
     "end_time": "2024-06-10T17:42:41.136816",
     "exception": false,
     "start_time": "2024-06-10T17:42:41.120562",
     "status": "completed"
    },
    "tags": []
   },
   "outputs": [],
   "source": [
    "emb_pseudobulk_train = emb_pseudobulk_train[~emb_pseudobulk_train.obs.Level1.isin(['Cycling_cells','RBC','Progenitors','Platelets']),]"
   ]
  },
  {
   "cell_type": "code",
   "execution_count": 24,
   "id": "25ead359-02da-4eec-a2e8-040415f31ca8",
   "metadata": {
    "execution": {
     "iopub.execute_input": "2024-06-10T17:42:41.157447Z",
     "iopub.status.busy": "2024-06-10T17:42:41.157109Z",
     "iopub.status.idle": "2024-06-10T17:42:41.160265Z",
     "shell.execute_reply": "2024-06-10T17:42:41.159898Z"
    },
    "papermill": {
     "duration": 0.014536,
     "end_time": "2024-06-10T17:42:41.161163",
     "exception": false,
     "start_time": "2024-06-10T17:42:41.146627",
     "status": "completed"
    },
    "tags": []
   },
   "outputs": [],
   "source": [
    "emb_pseudobulk_Q = emb_pseudobulk_Q[~emb_pseudobulk_Q.obs.Level1.isin(['Cycling_cells','RBC','Progenitors','Platelets']),]"
   ]
  },
  {
   "cell_type": "markdown",
   "id": "4faaceec-8aac-4c89-ac43-9093c0fe7c16",
   "metadata": {
    "papermill": {
     "duration": 0.01715,
     "end_time": "2024-06-10T17:42:41.188260",
     "exception": false,
     "start_time": "2024-06-10T17:42:41.171110",
     "status": "completed"
    },
    "tags": []
   },
   "source": [
    "### Saving query dataset and pseudobulks"
   ]
  },
  {
   "cell_type": "code",
   "execution_count": 25,
   "id": "40487ef8-ad5d-4236-a652-2d90cf76c77b",
   "metadata": {
    "execution": {
     "iopub.execute_input": "2024-06-10T17:42:41.247245Z",
     "iopub.status.busy": "2024-06-10T17:42:41.246779Z",
     "iopub.status.idle": "2024-06-10T17:48:04.655854Z",
     "shell.execute_reply": "2024-06-10T17:48:04.655184Z"
    },
    "papermill": {
     "duration": 323.441953,
     "end_time": "2024-06-10T17:48:04.657360",
     "exception": false,
     "start_time": "2024-06-10T17:42:41.215407",
     "status": "completed"
    },
    "tags": []
   },
   "outputs": [],
   "source": [
    "adataQ.write(here(f\"03_downstream_analysis/08_PatientClassifier/Harmony_Symphony/results/02_{queryDataset}_SymphonyProjected_{nPC}nPC_Batch_{batchKeys}.h5ad\"), \n",
    "             compression='gzip')"
   ]
  },
  {
   "cell_type": "code",
   "execution_count": 26,
   "id": "052a1401-1f68-49ed-a900-dda39c09e68b",
   "metadata": {
    "execution": {
     "iopub.execute_input": "2024-06-10T17:48:04.700748Z",
     "iopub.status.busy": "2024-06-10T17:48:04.700570Z",
     "iopub.status.idle": "2024-06-10T17:48:04.744700Z",
     "shell.execute_reply": "2024-06-10T17:48:04.744279Z"
    },
    "papermill": {
     "duration": 0.0569,
     "end_time": "2024-06-10T17:48:04.745650",
     "exception": false,
     "start_time": "2024-06-10T17:48:04.688750",
     "status": "completed"
    },
    "tags": []
   },
   "outputs": [
    {
     "name": "stderr",
     "output_type": "stream",
     "text": [
      "/scratch_isilon/groups/singlecell/shared/conda_env/inflammation_atlas_R1/lib/python3.10/site-packages/anndata/_core/anndata.py:1301: ImplicitModificationWarning: Trying to modify attribute `.obs` of view, initializing view as actual.\n",
      "  df[key] = c\n",
      "/scratch_isilon/groups/singlecell/shared/conda_env/inflammation_atlas_R1/lib/python3.10/site-packages/anndata/_core/anndata.py:1301: ImplicitModificationWarning: Trying to modify attribute `.obs` of view, initializing view as actual.\n",
      "  df[key] = c\n",
      "/scratch_isilon/groups/singlecell/shared/conda_env/inflammation_atlas_R1/lib/python3.10/site-packages/anndata/_core/anndata.py:1301: ImplicitModificationWarning: Trying to modify attribute `.obs` of view, initializing view as actual.\n",
      "  df[key] = c\n"
     ]
    }
   ],
   "source": [
    "emb_pseudobulk_Q.write(here(f\"03_downstream_analysis/08_PatientClassifier/Harmony_Symphony/results/02_{queryDataset}_SymphonyProjected_PSEUDOBULK{nPC}nPC_Batch_{batchKeys}.h5ad\"), \n",
    "             compression='gzip')"
   ]
  },
  {
   "cell_type": "markdown",
   "id": "8226f8d2-30b5-41a4-8efd-943e08f2d048",
   "metadata": {
    "papermill": {
     "duration": 0.029199,
     "end_time": "2024-06-10T17:48:04.967203",
     "exception": false,
     "start_time": "2024-06-10T17:48:04.938004",
     "status": "completed"
    },
    "tags": []
   },
   "source": [
    "### Training linear classifiers"
   ]
  },
  {
   "cell_type": "code",
   "execution_count": 27,
   "id": "78479add-937b-433c-96fd-457e4f0d9cd5",
   "metadata": {
    "execution": {
     "iopub.execute_input": "2024-06-10T17:48:04.992895Z",
     "iopub.status.busy": "2024-06-10T17:48:04.992467Z",
     "iopub.status.idle": "2024-06-10T17:48:05.004295Z",
     "shell.execute_reply": "2024-06-10T17:48:05.003905Z"
    },
    "papermill": {
     "duration": 0.026204,
     "end_time": "2024-06-10T17:48:05.005256",
     "exception": false,
     "start_time": "2024-06-10T17:48:04.979052",
     "status": "completed"
    },
    "tags": []
   },
   "outputs": [],
   "source": [
    "def train_classifier(adataTrain = None, cell_type_col = None, y_true_col = None, max_iter=10000,random_state = 25, model = 'LinearSVC', kargs_model = None):\n",
    "    \n",
    "    import pandas as pd\n",
    "    from tqdm import tqdm\n",
    "    from sklearn.svm import LinearSVC, SVC\n",
    "    from sklearn.neighbors import KNeighborsClassifier\n",
    "\n",
    "    from sklearn.metrics import balanced_accuracy_score\n",
    "    \n",
    "    clfList = dict()\n",
    "    trainAccuracy = []\n",
    "    for ct_ in tqdm(adataTrain.obs[cell_type_col].unique()):\n",
    "        clfList[ct_] = dict()\n",
    "        X_i = adataTrain.X[adataTrain.obs[cell_type_col] == ct_]\n",
    "        y_true_i = adataTrain.obs[y_true_col][adataTrain.obs[cell_type_col] == ct_]\n",
    "\n",
    "        if model == 'LinearSVC':\n",
    "            clfList[ct_]['clf'] = LinearSVC(**kargs_model).fit(X_i, y_true_i) # max_iter=max_iter, dual = True, random_state = random_state\n",
    "        elif model == 'SVC':\n",
    "            clfList[ct_]['clf'] = SVC(**kargs_model).fit(X_i, y_true_i) # max_iter=max_iter, random_state = random_state\n",
    "        elif model == 'KNeighborsClassifier':\n",
    "            clfList[ct_]['clf'] = KNeighborsClassifier(**kargs_model).fit(X_i, y_true_i) # n_neighbors = 5, weights='distance', n_jobs = -1\n",
    "            \n",
    "            \n",
    "        clfList[ct_]['bAcc'] = balanced_accuracy_score(y_true = y_true_i, y_pred = clfList[ct_]['clf'].predict(X_i))\n",
    "        clfList[ct_]['nObs'] = len(y_true_i)\n",
    "\n",
    "    return clfList\n",
    "    \n",
    "def vote_disease(adataTest = None, clfList = None, cell_type_col = None, sample_id_col = None):\n",
    "\n",
    "    from tqdm import tqdm\n",
    "    import pandas as pd\n",
    "    \n",
    "    classificationDF = pd.DataFrame()\n",
    "    for ct_ in tqdm(adataTest.obs[cell_type_col].unique()):\n",
    "        X_i = adataTest.X[adataTest.obs[cell_type_col] == ct_]\n",
    "        PID_i = adataTest.obs[sample_id_col][adataTest.obs[cell_type_col] == ct_]\n",
    "        if ct_ not in clfList:\n",
    "            print(f\"{ct_} is missing in training set\")\n",
    "            continue\n",
    "        DF_i = pd.DataFrame.from_dict({\n",
    "            sample_id_col: PID_i,\n",
    "            f\"{ct_}_prediction\": clfList[ct_]['clf'].predict(X_i)\n",
    "        })\n",
    "        if classificationDF.shape[0] == 0:\n",
    "            classificationDF = DF_i\n",
    "        else:\n",
    "            classificationDF = classificationDF.merge(DF_i, how='outer', on = sample_id_col)\n",
    "    classificationDF['firstChoice'] = ''\n",
    "    classificationDF['firstChoice_perc'] = np.nan\n",
    "    classificationDF['secondChoice'] = ''\n",
    "    classificationDF['secondChoice_perc'] = np.nan\n",
    "    \n",
    "    for i in tqdm(range(classificationDF.shape[0])):\n",
    "        vote_i = classificationDF.loc[i,classificationDF.columns !=sample_id_col].value_counts()\n",
    "        vote_i /= (vote_i.sum() / 100)\n",
    "        res_i = vote_i.sort_values(ascending=False)\n",
    "        classificationDF.loc[i,'firstChoice'] = res_i.index[0]\n",
    "        classificationDF.loc[i,'firstChoice_perc'] = res_i.iloc[0]\n",
    "        if res_i.shape[0] > 1:\n",
    "            classificationDF.loc[i,'secondChoice'] = res_i.index[1]\n",
    "            classificationDF.loc[i,'secondChoice_perc'] = res_i.iloc[1]\n",
    "\n",
    "    return classificationDF\n",
    "    \n",
    "def aggregating_features(Z = None, obsDF = None, mode = 'mean', obs_names_col = []):\n",
    "    Zdf = pd.DataFrame(Z)\n",
    "    for c in obsDF.columns:\n",
    "        Zdf[c] = obsDF[c].tolist()\n",
    "    if mode in ['mean','avarage']:\n",
    "        Zaggr = Zdf.groupby(obsDF.columns.tolist(), observed = True).mean()\n",
    "    elif mode == 'sum':\n",
    "        Zaggr = Zdf.groupby(obsDF.columns.tolist(), observed = True).sum()\n",
    "    else:\n",
    "        raise ValueError(f\"mode {mode} not supported. Available mode are 'mean' or 'sum'\")\n",
    "\n",
    "    grpObs = pd.DataFrame(Zaggr.index.tolist(), columns=obsDF.columns.tolist())\n",
    "\n",
    "    if len(obs_names_col) == 0:\n",
    "        grpAdata  = sc.AnnData(X = np.array(Zaggr), obs = grpObs, )\n",
    "    elif all([c in obsDF.columns.tolist() for c in obs_names_col]):\n",
    "        grpObs.index = grpObs[obs_names_col].apply(lambda row: '_'.join(row.values.astype(str)), axis=1)\n",
    "        grpAdata  = sc.AnnData(X = np.array(Zaggr), obs = grpObs)\n",
    "    else:\n",
    "        raise ValueError(f\"Impossible to use {obs_names_col} as index. It's not present in obsDF\")\n",
    "    return grpAdata"
   ]
  },
  {
   "cell_type": "code",
   "execution_count": 28,
   "id": "b2f802a7-0a43-413b-8bee-03a900836009",
   "metadata": {
    "execution": {
     "iopub.execute_input": "2024-06-10T17:48:05.030098Z",
     "iopub.status.busy": "2024-06-10T17:48:05.029766Z",
     "iopub.status.idle": "2024-06-10T17:48:06.230456Z",
     "shell.execute_reply": "2024-06-10T17:48:06.230041Z"
    },
    "papermill": {
     "duration": 1.212555,
     "end_time": "2024-06-10T17:48:06.231571",
     "exception": false,
     "start_time": "2024-06-10T17:48:05.019016",
     "status": "completed"
    },
    "tags": []
   },
   "outputs": [
    {
     "name": "stderr",
     "output_type": "stream",
     "text": [
      "\r",
      "  0%|          | 0/11 [00:00<?, ?it/s]"
     ]
    },
    {
     "name": "stderr",
     "output_type": "stream",
     "text": [
      "\r",
      "  9%|▉         | 1/11 [00:00<00:01,  9.90it/s]"
     ]
    },
    {
     "name": "stderr",
     "output_type": "stream",
     "text": [
      "\r",
      " 18%|█▊        | 2/11 [00:00<00:01,  7.82it/s]"
     ]
    },
    {
     "name": "stderr",
     "output_type": "stream",
     "text": [
      "\r",
      " 36%|███▋      | 4/11 [00:00<00:00, 10.21it/s]"
     ]
    },
    {
     "name": "stderr",
     "output_type": "stream",
     "text": [
      "\r",
      " 55%|█████▍    | 6/11 [00:00<00:00, 11.88it/s]"
     ]
    },
    {
     "name": "stderr",
     "output_type": "stream",
     "text": [
      "\r",
      " 73%|███████▎  | 8/11 [00:00<00:00, 10.29it/s]"
     ]
    },
    {
     "name": "stderr",
     "output_type": "stream",
     "text": [
      "\r",
      " 91%|█████████ | 10/11 [00:01<00:00,  9.02it/s]"
     ]
    },
    {
     "name": "stderr",
     "output_type": "stream",
     "text": [
      "\r",
      "100%|██████████| 11/11 [00:01<00:00,  9.03it/s]"
     ]
    },
    {
     "name": "stderr",
     "output_type": "stream",
     "text": [
      "\r",
      "100%|██████████| 11/11 [00:01<00:00,  9.49it/s]"
     ]
    },
    {
     "name": "stderr",
     "output_type": "stream",
     "text": [
      "\n"
     ]
    }
   ],
   "source": [
    "clfList = train_classifier(adataTrain = emb_pseudobulk_train, cell_type_col = 'Level1', y_true_col = 'disease', max_iter=-1, random_state = 25, model = 'KNeighborsClassifier', \n",
    "                           kargs_model={'n_neighbors':2, 'weights':'uniform', 'metric':'cosine','n_jobs':-1})"
   ]
  },
  {
   "cell_type": "code",
   "execution_count": 29,
   "id": "184e7805-037a-48ab-bdde-b80d084b46cd",
   "metadata": {
    "execution": {
     "iopub.execute_input": "2024-06-10T17:48:06.257094Z",
     "iopub.status.busy": "2024-06-10T17:48:06.256543Z",
     "iopub.status.idle": "2024-06-10T17:48:06.266351Z",
     "shell.execute_reply": "2024-06-10T17:48:06.265992Z"
    },
    "papermill": {
     "duration": 0.02267,
     "end_time": "2024-06-10T17:48:06.267329",
     "exception": false,
     "start_time": "2024-06-10T17:48:06.244659",
     "status": "completed"
    },
    "tags": []
   },
   "outputs": [
    {
     "data": {
      "text/plain": [
       "{'B': {'clf': KNeighborsClassifier(metric='cosine', n_jobs=-1, n_neighbors=2),\n",
       "  'bAcc': 0.8693252895768376,\n",
       "  'nObs': 814},\n",
       " 'DC': {'clf': KNeighborsClassifier(metric='cosine', n_jobs=-1, n_neighbors=2),\n",
       "  'bAcc': 0.8424103003436034,\n",
       "  'nObs': 801},\n",
       " 'ILC': {'clf': KNeighborsClassifier(metric='cosine', n_jobs=-1, n_neighbors=2),\n",
       "  'bAcc': 0.840509169810504,\n",
       "  'nObs': 817},\n",
       " 'Mono': {'clf': KNeighborsClassifier(metric='cosine', n_jobs=-1, n_neighbors=2),\n",
       "  'bAcc': 0.8466963712645701,\n",
       "  'nObs': 817},\n",
       " 'Plasma': {'clf': KNeighborsClassifier(metric='cosine', n_jobs=-1, n_neighbors=2),\n",
       "  'bAcc': 0.7983383904500665,\n",
       "  'nObs': 727},\n",
       " 'T_CD4_Naive': {'clf': KNeighborsClassifier(metric='cosine', n_jobs=-1, n_neighbors=2),\n",
       "  'bAcc': 0.8974200067736948,\n",
       "  'nObs': 814},\n",
       " 'T_CD4_NonNaive': {'clf': KNeighborsClassifier(metric='cosine', n_jobs=-1, n_neighbors=2),\n",
       "  'bAcc': 0.900335491533165,\n",
       "  'nObs': 816},\n",
       " 'T_CD8_Naive': {'clf': KNeighborsClassifier(metric='cosine', n_jobs=-1, n_neighbors=2),\n",
       "  'bAcc': 0.8895329484163804,\n",
       "  'nObs': 805},\n",
       " 'T_CD8_NonNaive': {'clf': KNeighborsClassifier(metric='cosine', n_jobs=-1, n_neighbors=2),\n",
       "  'bAcc': 0.8507360568350191,\n",
       "  'nObs': 817},\n",
       " 'UTC': {'clf': KNeighborsClassifier(metric='cosine', n_jobs=-1, n_neighbors=2),\n",
       "  'bAcc': 0.8441634668181021,\n",
       "  'nObs': 813},\n",
       " 'pDC': {'clf': KNeighborsClassifier(metric='cosine', n_jobs=-1, n_neighbors=2),\n",
       "  'bAcc': 0.8521157224143238,\n",
       "  'nObs': 775}}"
      ]
     },
     "execution_count": 29,
     "metadata": {},
     "output_type": "execute_result"
    }
   ],
   "source": [
    "clfList"
   ]
  },
  {
   "cell_type": "markdown",
   "id": "8140578c-927e-4a12-84c1-809c70d2387c",
   "metadata": {
    "papermill": {
     "duration": 0.044288,
     "end_time": "2024-06-10T17:48:06.373102",
     "exception": false,
     "start_time": "2024-06-10T17:48:06.328814",
     "status": "completed"
    },
    "tags": []
   },
   "source": [
    "### Predicting diseases"
   ]
  },
  {
   "cell_type": "code",
   "execution_count": 30,
   "id": "ba47d364-9407-4d4a-9a9c-a02d374a9932",
   "metadata": {
    "execution": {
     "iopub.execute_input": "2024-06-10T17:48:06.401490Z",
     "iopub.status.busy": "2024-06-10T17:48:06.401012Z",
     "iopub.status.idle": "2024-06-10T17:48:06.408012Z",
     "shell.execute_reply": "2024-06-10T17:48:06.407664Z"
    },
    "papermill": {
     "duration": 0.021092,
     "end_time": "2024-06-10T17:48:06.408919",
     "exception": false,
     "start_time": "2024-06-10T17:48:06.387827",
     "status": "completed"
    },
    "tags": []
   },
   "outputs": [
    {
     "data": {
      "text/html": [
       "<div>\n",
       "<style scoped>\n",
       "    .dataframe tbody tr th:only-of-type {\n",
       "        vertical-align: middle;\n",
       "    }\n",
       "\n",
       "    .dataframe tbody tr th {\n",
       "        vertical-align: top;\n",
       "    }\n",
       "\n",
       "    .dataframe thead th {\n",
       "        text-align: right;\n",
       "    }\n",
       "</style>\n",
       "<table border=\"1\" class=\"dataframe\">\n",
       "  <thead>\n",
       "    <tr style=\"text-align: right;\">\n",
       "      <th></th>\n",
       "      <th>sampleID</th>\n",
       "      <th>Level1</th>\n",
       "      <th>disease_true</th>\n",
       "      <th>n_observation</th>\n",
       "    </tr>\n",
       "  </thead>\n",
       "  <tbody>\n",
       "    <tr>\n",
       "      <th>COMBAT2022_G05073_T0_B</th>\n",
       "      <td>COMBAT2022_G05073_T0</td>\n",
       "      <td>B</td>\n",
       "      <td>COVID</td>\n",
       "      <td>519</td>\n",
       "    </tr>\n",
       "    <tr>\n",
       "      <th>COMBAT2022_G05073_T0_DC</th>\n",
       "      <td>COMBAT2022_G05073_T0</td>\n",
       "      <td>DC</td>\n",
       "      <td>COVID</td>\n",
       "      <td>111</td>\n",
       "    </tr>\n",
       "    <tr>\n",
       "      <th>COMBAT2022_G05073_T0_ILC</th>\n",
       "      <td>COMBAT2022_G05073_T0</td>\n",
       "      <td>ILC</td>\n",
       "      <td>COVID</td>\n",
       "      <td>312</td>\n",
       "    </tr>\n",
       "    <tr>\n",
       "      <th>COMBAT2022_G05073_T0_Mono</th>\n",
       "      <td>COMBAT2022_G05073_T0</td>\n",
       "      <td>Mono</td>\n",
       "      <td>COVID</td>\n",
       "      <td>1673</td>\n",
       "    </tr>\n",
       "    <tr>\n",
       "      <th>COMBAT2022_G05073_T0_Plasma</th>\n",
       "      <td>COMBAT2022_G05073_T0</td>\n",
       "      <td>Plasma</td>\n",
       "      <td>COVID</td>\n",
       "      <td>18</td>\n",
       "    </tr>\n",
       "    <tr>\n",
       "      <th>...</th>\n",
       "      <td>...</td>\n",
       "      <td>...</td>\n",
       "      <td>...</td>\n",
       "      <td>...</td>\n",
       "    </tr>\n",
       "    <tr>\n",
       "      <th>Terekhova2023_FE05_T0_T_CD4_NonNaive</th>\n",
       "      <td>Terekhova2023_FE05_T0</td>\n",
       "      <td>T_CD4_NonNaive</td>\n",
       "      <td>healthy</td>\n",
       "      <td>937</td>\n",
       "    </tr>\n",
       "    <tr>\n",
       "      <th>Terekhova2023_FE05_T0_T_CD8_Naive</th>\n",
       "      <td>Terekhova2023_FE05_T0</td>\n",
       "      <td>T_CD8_Naive</td>\n",
       "      <td>healthy</td>\n",
       "      <td>362</td>\n",
       "    </tr>\n",
       "    <tr>\n",
       "      <th>Terekhova2023_FE05_T0_T_CD8_NonNaive</th>\n",
       "      <td>Terekhova2023_FE05_T0</td>\n",
       "      <td>T_CD8_NonNaive</td>\n",
       "      <td>healthy</td>\n",
       "      <td>1165</td>\n",
       "    </tr>\n",
       "    <tr>\n",
       "      <th>Terekhova2023_FE05_T0_UTC</th>\n",
       "      <td>Terekhova2023_FE05_T0</td>\n",
       "      <td>UTC</td>\n",
       "      <td>healthy</td>\n",
       "      <td>246</td>\n",
       "    </tr>\n",
       "    <tr>\n",
       "      <th>Terekhova2023_FE05_T0_pDC</th>\n",
       "      <td>Terekhova2023_FE05_T0</td>\n",
       "      <td>pDC</td>\n",
       "      <td>healthy</td>\n",
       "      <td>57</td>\n",
       "    </tr>\n",
       "  </tbody>\n",
       "</table>\n",
       "<p>1555 rows × 4 columns</p>\n",
       "</div>"
      ],
      "text/plain": [
       "                                                   sampleID          Level1  \\\n",
       "COMBAT2022_G05073_T0_B                 COMBAT2022_G05073_T0               B   \n",
       "COMBAT2022_G05073_T0_DC                COMBAT2022_G05073_T0              DC   \n",
       "COMBAT2022_G05073_T0_ILC               COMBAT2022_G05073_T0             ILC   \n",
       "COMBAT2022_G05073_T0_Mono              COMBAT2022_G05073_T0            Mono   \n",
       "COMBAT2022_G05073_T0_Plasma            COMBAT2022_G05073_T0          Plasma   \n",
       "...                                                     ...             ...   \n",
       "Terekhova2023_FE05_T0_T_CD4_NonNaive  Terekhova2023_FE05_T0  T_CD4_NonNaive   \n",
       "Terekhova2023_FE05_T0_T_CD8_Naive     Terekhova2023_FE05_T0     T_CD8_Naive   \n",
       "Terekhova2023_FE05_T0_T_CD8_NonNaive  Terekhova2023_FE05_T0  T_CD8_NonNaive   \n",
       "Terekhova2023_FE05_T0_UTC             Terekhova2023_FE05_T0             UTC   \n",
       "Terekhova2023_FE05_T0_pDC             Terekhova2023_FE05_T0             pDC   \n",
       "\n",
       "                                     disease_true  n_observation  \n",
       "COMBAT2022_G05073_T0_B                      COVID            519  \n",
       "COMBAT2022_G05073_T0_DC                     COVID            111  \n",
       "COMBAT2022_G05073_T0_ILC                    COVID            312  \n",
       "COMBAT2022_G05073_T0_Mono                   COVID           1673  \n",
       "COMBAT2022_G05073_T0_Plasma                 COVID             18  \n",
       "...                                           ...            ...  \n",
       "Terekhova2023_FE05_T0_T_CD4_NonNaive      healthy            937  \n",
       "Terekhova2023_FE05_T0_T_CD8_Naive         healthy            362  \n",
       "Terekhova2023_FE05_T0_T_CD8_NonNaive      healthy           1165  \n",
       "Terekhova2023_FE05_T0_UTC                 healthy            246  \n",
       "Terekhova2023_FE05_T0_pDC                 healthy             57  \n",
       "\n",
       "[1555 rows x 4 columns]"
      ]
     },
     "execution_count": 30,
     "metadata": {},
     "output_type": "execute_result"
    }
   ],
   "source": [
    "emb_pseudobulk_Q.obs"
   ]
  },
  {
   "cell_type": "code",
   "execution_count": 31,
   "id": "39befc29-3613-4abc-adeb-bfee66e08dea",
   "metadata": {
    "execution": {
     "iopub.execute_input": "2024-06-10T17:48:06.497815Z",
     "iopub.status.busy": "2024-06-10T17:48:06.497373Z",
     "iopub.status.idle": "2024-06-10T17:48:06.916330Z",
     "shell.execute_reply": "2024-06-10T17:48:06.915731Z"
    },
    "papermill": {
     "duration": 0.495368,
     "end_time": "2024-06-10T17:48:06.917367",
     "exception": false,
     "start_time": "2024-06-10T17:48:06.421999",
     "status": "completed"
    },
    "tags": []
   },
   "outputs": [
    {
     "name": "stderr",
     "output_type": "stream",
     "text": [
      "\r",
      "  0%|          | 0/11 [00:00<?, ?it/s]"
     ]
    },
    {
     "name": "stderr",
     "output_type": "stream",
     "text": [
      "\r",
      " 36%|███▋      | 4/11 [00:00<00:00, 39.58it/s]"
     ]
    },
    {
     "name": "stderr",
     "output_type": "stream",
     "text": [
      "\r",
      " 73%|███████▎  | 8/11 [00:00<00:00, 39.39it/s]"
     ]
    },
    {
     "name": "stderr",
     "output_type": "stream",
     "text": [
      "\r",
      "100%|██████████| 11/11 [00:00<00:00, 39.16it/s]"
     ]
    },
    {
     "name": "stderr",
     "output_type": "stream",
     "text": [
      "\n"
     ]
    },
    {
     "name": "stderr",
     "output_type": "stream",
     "text": [
      "\r",
      "  0%|          | 0/144 [00:00<?, ?it/s]"
     ]
    },
    {
     "name": "stderr",
     "output_type": "stream",
     "text": [
      "\r",
      " 76%|███████▋  | 110/144 [00:00<00:00, 1094.73it/s]"
     ]
    },
    {
     "name": "stderr",
     "output_type": "stream",
     "text": [
      "\r",
      "100%|██████████| 144/144 [00:00<00:00, 1097.25it/s]"
     ]
    },
    {
     "name": "stderr",
     "output_type": "stream",
     "text": [
      "\n"
     ]
    }
   ],
   "source": [
    "classificationDF = vote_disease(adataTest = emb_pseudobulk_Q, \n",
    "                                clfList = clfList, \n",
    "                                sample_id_col = 'sampleID',\n",
    "                                cell_type_col = 'Level1')\n"
   ]
  },
  {
   "cell_type": "code",
   "execution_count": 32,
   "id": "a731fec9-92f4-4b14-b374-ad2bec4d4f13",
   "metadata": {
    "execution": {
     "iopub.execute_input": "2024-06-10T17:48:06.946881Z",
     "iopub.status.busy": "2024-06-10T17:48:06.946406Z",
     "iopub.status.idle": "2024-06-10T17:48:06.951966Z",
     "shell.execute_reply": "2024-06-10T17:48:06.951495Z"
    },
    "papermill": {
     "duration": 0.019689,
     "end_time": "2024-06-10T17:48:06.952878",
     "exception": false,
     "start_time": "2024-06-10T17:48:06.933189",
     "status": "completed"
    },
    "tags": []
   },
   "outputs": [],
   "source": [
    "res = classificationDF.merge(emb_pseudobulk_Q.obs[['sampleID', 'disease_true']].drop_duplicates(), how = 'left', on = 'sampleID').set_index('sampleID')\n"
   ]
  },
  {
   "cell_type": "code",
   "execution_count": 33,
   "id": "00fff243-e3d9-436c-b369-b7d4d29a13bf",
   "metadata": {
    "execution": {
     "iopub.execute_input": "2024-06-10T17:48:06.978402Z",
     "iopub.status.busy": "2024-06-10T17:48:06.978056Z",
     "iopub.status.idle": "2024-06-10T17:48:06.983609Z",
     "shell.execute_reply": "2024-06-10T17:48:06.983157Z"
    },
    "papermill": {
     "duration": 0.019682,
     "end_time": "2024-06-10T17:48:06.984559",
     "exception": false,
     "start_time": "2024-06-10T17:48:06.964877",
     "status": "completed"
    },
    "tags": []
   },
   "outputs": [
    {
     "name": "stderr",
     "output_type": "stream",
     "text": [
      "/scratch_isilon/groups/singlecell/shared/conda_env/inflammation_atlas_R1/lib/python3.10/site-packages/sklearn/metrics/_classification.py:2458: UserWarning: y_pred contains classes not in y_true\n",
      "  warnings.warn(\"y_pred contains classes not in y_true\")\n"
     ]
    },
    {
     "data": {
      "text/plain": [
       "0.6527641612200437"
      ]
     },
     "execution_count": 33,
     "metadata": {},
     "output_type": "execute_result"
    }
   ],
   "source": [
    "balanced_accuracy_score(y_true = res.disease_true, y_pred=res.firstChoice)"
   ]
  },
  {
   "cell_type": "code",
   "execution_count": 34,
   "id": "54568ce9-5d5d-47e2-bc88-5a61eae513bc",
   "metadata": {
    "execution": {
     "iopub.execute_input": "2024-06-10T17:48:07.064375Z",
     "iopub.status.busy": "2024-06-10T17:48:07.064207Z",
     "iopub.status.idle": "2024-06-10T17:48:07.075851Z",
     "shell.execute_reply": "2024-06-10T17:48:07.075387Z"
    },
    "papermill": {
     "duration": 0.042126,
     "end_time": "2024-06-10T17:48:07.076796",
     "exception": false,
     "start_time": "2024-06-10T17:48:07.034670",
     "status": "completed"
    },
    "tags": []
   },
   "outputs": [
    {
     "data": {
      "text/html": [
       "<div>\n",
       "<style scoped>\n",
       "    .dataframe tbody tr th:only-of-type {\n",
       "        vertical-align: middle;\n",
       "    }\n",
       "\n",
       "    .dataframe tbody tr th {\n",
       "        vertical-align: top;\n",
       "    }\n",
       "\n",
       "    .dataframe thead th {\n",
       "        text-align: right;\n",
       "    }\n",
       "</style>\n",
       "<table border=\"1\" class=\"dataframe\">\n",
       "  <thead>\n",
       "    <tr style=\"text-align: right;\">\n",
       "      <th></th>\n",
       "      <th>B_prediction</th>\n",
       "      <th>DC_prediction</th>\n",
       "      <th>ILC_prediction</th>\n",
       "      <th>Mono_prediction</th>\n",
       "      <th>Plasma_prediction</th>\n",
       "      <th>T_CD4_Naive_prediction</th>\n",
       "      <th>T_CD4_NonNaive_prediction</th>\n",
       "      <th>T_CD8_Naive_prediction</th>\n",
       "      <th>T_CD8_NonNaive_prediction</th>\n",
       "      <th>UTC_prediction</th>\n",
       "      <th>pDC_prediction</th>\n",
       "      <th>firstChoice</th>\n",
       "      <th>firstChoice_perc</th>\n",
       "      <th>secondChoice</th>\n",
       "      <th>secondChoice_perc</th>\n",
       "      <th>disease_true</th>\n",
       "    </tr>\n",
       "    <tr>\n",
       "      <th>sampleID</th>\n",
       "      <th></th>\n",
       "      <th></th>\n",
       "      <th></th>\n",
       "      <th></th>\n",
       "      <th></th>\n",
       "      <th></th>\n",
       "      <th></th>\n",
       "      <th></th>\n",
       "      <th></th>\n",
       "      <th></th>\n",
       "      <th></th>\n",
       "      <th></th>\n",
       "      <th></th>\n",
       "      <th></th>\n",
       "      <th></th>\n",
       "      <th></th>\n",
       "    </tr>\n",
       "  </thead>\n",
       "  <tbody>\n",
       "    <tr>\n",
       "      <th>COMBAT2022_G05073_T0</th>\n",
       "      <td>PS</td>\n",
       "      <td>healthy</td>\n",
       "      <td>SLE</td>\n",
       "      <td>COVID</td>\n",
       "      <td>COVID</td>\n",
       "      <td>COVID</td>\n",
       "      <td>COVID</td>\n",
       "      <td>COVID</td>\n",
       "      <td>COVID</td>\n",
       "      <td>COVID</td>\n",
       "      <td>healthy</td>\n",
       "      <td>COVID</td>\n",
       "      <td>53.846154</td>\n",
       "      <td>healthy</td>\n",
       "      <td>15.384615</td>\n",
       "      <td>COVID</td>\n",
       "    </tr>\n",
       "    <tr>\n",
       "      <th>COMBAT2022_G05097_T0</th>\n",
       "      <td>SLE</td>\n",
       "      <td>COVID</td>\n",
       "      <td>SLE</td>\n",
       "      <td>COVID</td>\n",
       "      <td>healthy</td>\n",
       "      <td>SLE</td>\n",
       "      <td>SLE</td>\n",
       "      <td>healthy</td>\n",
       "      <td>SLE</td>\n",
       "      <td>healthy</td>\n",
       "      <td>COVID</td>\n",
       "      <td>SLE</td>\n",
       "      <td>38.461538</td>\n",
       "      <td>COVID</td>\n",
       "      <td>23.076923</td>\n",
       "      <td>COVID</td>\n",
       "    </tr>\n",
       "    <tr>\n",
       "      <th>COMBAT2022_G05145_T0</th>\n",
       "      <td>healthy</td>\n",
       "      <td>healthy</td>\n",
       "      <td>SLE</td>\n",
       "      <td>healthy</td>\n",
       "      <td>COVID</td>\n",
       "      <td>COVID</td>\n",
       "      <td>COVID</td>\n",
       "      <td>COVID</td>\n",
       "      <td>COVID</td>\n",
       "      <td>COVID</td>\n",
       "      <td>healthy</td>\n",
       "      <td>COVID</td>\n",
       "      <td>46.153846</td>\n",
       "      <td>healthy</td>\n",
       "      <td>30.769231</td>\n",
       "      <td>COVID</td>\n",
       "    </tr>\n",
       "    <tr>\n",
       "      <th>COMBAT2022_N00021_T0</th>\n",
       "      <td>SLE</td>\n",
       "      <td>healthy</td>\n",
       "      <td>healthy</td>\n",
       "      <td>sepsis</td>\n",
       "      <td>COVID</td>\n",
       "      <td>flu</td>\n",
       "      <td>healthy</td>\n",
       "      <td>healthy</td>\n",
       "      <td>healthy</td>\n",
       "      <td>COVID</td>\n",
       "      <td>COVID</td>\n",
       "      <td>healthy</td>\n",
       "      <td>38.461538</td>\n",
       "      <td>COVID</td>\n",
       "      <td>23.076923</td>\n",
       "      <td>sepsis</td>\n",
       "    </tr>\n",
       "    <tr>\n",
       "      <th>COMBAT2022_N00025_T0</th>\n",
       "      <td>SLE</td>\n",
       "      <td>NaN</td>\n",
       "      <td>COVID</td>\n",
       "      <td>sepsis</td>\n",
       "      <td>COVID</td>\n",
       "      <td>healthy</td>\n",
       "      <td>flu</td>\n",
       "      <td>asthma</td>\n",
       "      <td>COVID</td>\n",
       "      <td>healthy</td>\n",
       "      <td>NaN</td>\n",
       "      <td>COVID</td>\n",
       "      <td>27.272727</td>\n",
       "      <td>healthy</td>\n",
       "      <td>18.181818</td>\n",
       "      <td>sepsis</td>\n",
       "    </tr>\n",
       "    <tr>\n",
       "      <th>...</th>\n",
       "      <td>...</td>\n",
       "      <td>...</td>\n",
       "      <td>...</td>\n",
       "      <td>...</td>\n",
       "      <td>...</td>\n",
       "      <td>...</td>\n",
       "      <td>...</td>\n",
       "      <td>...</td>\n",
       "      <td>...</td>\n",
       "      <td>...</td>\n",
       "      <td>...</td>\n",
       "      <td>...</td>\n",
       "      <td>...</td>\n",
       "      <td>...</td>\n",
       "      <td>...</td>\n",
       "      <td>...</td>\n",
       "    </tr>\n",
       "    <tr>\n",
       "      <th>Terekhova2023_E19_T0</th>\n",
       "      <td>healthy</td>\n",
       "      <td>healthy</td>\n",
       "      <td>healthy</td>\n",
       "      <td>healthy</td>\n",
       "      <td>healthy</td>\n",
       "      <td>healthy</td>\n",
       "      <td>healthy</td>\n",
       "      <td>healthy</td>\n",
       "      <td>healthy</td>\n",
       "      <td>healthy</td>\n",
       "      <td>healthy</td>\n",
       "      <td>healthy</td>\n",
       "      <td>84.615385</td>\n",
       "      <td></td>\n",
       "      <td>15.384615</td>\n",
       "      <td>healthy</td>\n",
       "    </tr>\n",
       "    <tr>\n",
       "      <th>Terekhova2023_FA07_T0</th>\n",
       "      <td>healthy</td>\n",
       "      <td>healthy</td>\n",
       "      <td>healthy</td>\n",
       "      <td>healthy</td>\n",
       "      <td>healthy</td>\n",
       "      <td>healthy</td>\n",
       "      <td>healthy</td>\n",
       "      <td>healthy</td>\n",
       "      <td>healthy</td>\n",
       "      <td>healthy</td>\n",
       "      <td>CRC</td>\n",
       "      <td>healthy</td>\n",
       "      <td>76.923077</td>\n",
       "      <td></td>\n",
       "      <td>15.384615</td>\n",
       "      <td>healthy</td>\n",
       "    </tr>\n",
       "    <tr>\n",
       "      <th>Terekhova2023_FC04_T0</th>\n",
       "      <td>healthy</td>\n",
       "      <td>healthy</td>\n",
       "      <td>healthy</td>\n",
       "      <td>healthy</td>\n",
       "      <td>healthy</td>\n",
       "      <td>healthy</td>\n",
       "      <td>healthy</td>\n",
       "      <td>healthy</td>\n",
       "      <td>healthy</td>\n",
       "      <td>healthy</td>\n",
       "      <td>healthy</td>\n",
       "      <td>healthy</td>\n",
       "      <td>84.615385</td>\n",
       "      <td></td>\n",
       "      <td>15.384615</td>\n",
       "      <td>healthy</td>\n",
       "    </tr>\n",
       "    <tr>\n",
       "      <th>Terekhova2023_FD01_T0</th>\n",
       "      <td>healthy</td>\n",
       "      <td>healthy</td>\n",
       "      <td>healthy</td>\n",
       "      <td>healthy</td>\n",
       "      <td>healthy</td>\n",
       "      <td>healthy</td>\n",
       "      <td>healthy</td>\n",
       "      <td>healthy</td>\n",
       "      <td>healthy</td>\n",
       "      <td>healthy</td>\n",
       "      <td>healthy</td>\n",
       "      <td>healthy</td>\n",
       "      <td>84.615385</td>\n",
       "      <td></td>\n",
       "      <td>15.384615</td>\n",
       "      <td>healthy</td>\n",
       "    </tr>\n",
       "    <tr>\n",
       "      <th>Terekhova2023_FE05_T0</th>\n",
       "      <td>healthy</td>\n",
       "      <td>healthy</td>\n",
       "      <td>healthy</td>\n",
       "      <td>healthy</td>\n",
       "      <td>healthy</td>\n",
       "      <td>healthy</td>\n",
       "      <td>healthy</td>\n",
       "      <td>healthy</td>\n",
       "      <td>healthy</td>\n",
       "      <td>healthy</td>\n",
       "      <td>healthy</td>\n",
       "      <td>healthy</td>\n",
       "      <td>84.615385</td>\n",
       "      <td></td>\n",
       "      <td>15.384615</td>\n",
       "      <td>healthy</td>\n",
       "    </tr>\n",
       "  </tbody>\n",
       "</table>\n",
       "<p>144 rows × 16 columns</p>\n",
       "</div>"
      ],
      "text/plain": [
       "                      B_prediction DC_prediction ILC_prediction  \\\n",
       "sampleID                                                          \n",
       "COMBAT2022_G05073_T0            PS       healthy            SLE   \n",
       "COMBAT2022_G05097_T0           SLE         COVID            SLE   \n",
       "COMBAT2022_G05145_T0       healthy       healthy            SLE   \n",
       "COMBAT2022_N00021_T0           SLE       healthy        healthy   \n",
       "COMBAT2022_N00025_T0           SLE           NaN          COVID   \n",
       "...                            ...           ...            ...   \n",
       "Terekhova2023_E19_T0       healthy       healthy        healthy   \n",
       "Terekhova2023_FA07_T0      healthy       healthy        healthy   \n",
       "Terekhova2023_FC04_T0      healthy       healthy        healthy   \n",
       "Terekhova2023_FD01_T0      healthy       healthy        healthy   \n",
       "Terekhova2023_FE05_T0      healthy       healthy        healthy   \n",
       "\n",
       "                      Mono_prediction Plasma_prediction  \\\n",
       "sampleID                                                  \n",
       "COMBAT2022_G05073_T0            COVID             COVID   \n",
       "COMBAT2022_G05097_T0            COVID           healthy   \n",
       "COMBAT2022_G05145_T0          healthy             COVID   \n",
       "COMBAT2022_N00021_T0           sepsis             COVID   \n",
       "COMBAT2022_N00025_T0           sepsis             COVID   \n",
       "...                               ...               ...   \n",
       "Terekhova2023_E19_T0          healthy           healthy   \n",
       "Terekhova2023_FA07_T0         healthy           healthy   \n",
       "Terekhova2023_FC04_T0         healthy           healthy   \n",
       "Terekhova2023_FD01_T0         healthy           healthy   \n",
       "Terekhova2023_FE05_T0         healthy           healthy   \n",
       "\n",
       "                      T_CD4_Naive_prediction T_CD4_NonNaive_prediction  \\\n",
       "sampleID                                                                 \n",
       "COMBAT2022_G05073_T0                   COVID                     COVID   \n",
       "COMBAT2022_G05097_T0                     SLE                       SLE   \n",
       "COMBAT2022_G05145_T0                   COVID                     COVID   \n",
       "COMBAT2022_N00021_T0                     flu                   healthy   \n",
       "COMBAT2022_N00025_T0                 healthy                       flu   \n",
       "...                                      ...                       ...   \n",
       "Terekhova2023_E19_T0                 healthy                   healthy   \n",
       "Terekhova2023_FA07_T0                healthy                   healthy   \n",
       "Terekhova2023_FC04_T0                healthy                   healthy   \n",
       "Terekhova2023_FD01_T0                healthy                   healthy   \n",
       "Terekhova2023_FE05_T0                healthy                   healthy   \n",
       "\n",
       "                      T_CD8_Naive_prediction T_CD8_NonNaive_prediction  \\\n",
       "sampleID                                                                 \n",
       "COMBAT2022_G05073_T0                   COVID                     COVID   \n",
       "COMBAT2022_G05097_T0                 healthy                       SLE   \n",
       "COMBAT2022_G05145_T0                   COVID                     COVID   \n",
       "COMBAT2022_N00021_T0                 healthy                   healthy   \n",
       "COMBAT2022_N00025_T0                  asthma                     COVID   \n",
       "...                                      ...                       ...   \n",
       "Terekhova2023_E19_T0                 healthy                   healthy   \n",
       "Terekhova2023_FA07_T0                healthy                   healthy   \n",
       "Terekhova2023_FC04_T0                healthy                   healthy   \n",
       "Terekhova2023_FD01_T0                healthy                   healthy   \n",
       "Terekhova2023_FE05_T0                healthy                   healthy   \n",
       "\n",
       "                      UTC_prediction pDC_prediction firstChoice  \\\n",
       "sampleID                                                          \n",
       "COMBAT2022_G05073_T0           COVID        healthy       COVID   \n",
       "COMBAT2022_G05097_T0         healthy          COVID         SLE   \n",
       "COMBAT2022_G05145_T0           COVID        healthy       COVID   \n",
       "COMBAT2022_N00021_T0           COVID          COVID     healthy   \n",
       "COMBAT2022_N00025_T0         healthy            NaN       COVID   \n",
       "...                              ...            ...         ...   \n",
       "Terekhova2023_E19_T0         healthy        healthy     healthy   \n",
       "Terekhova2023_FA07_T0        healthy            CRC     healthy   \n",
       "Terekhova2023_FC04_T0        healthy        healthy     healthy   \n",
       "Terekhova2023_FD01_T0        healthy        healthy     healthy   \n",
       "Terekhova2023_FE05_T0        healthy        healthy     healthy   \n",
       "\n",
       "                       firstChoice_perc secondChoice  secondChoice_perc  \\\n",
       "sampleID                                                                  \n",
       "COMBAT2022_G05073_T0          53.846154      healthy          15.384615   \n",
       "COMBAT2022_G05097_T0          38.461538        COVID          23.076923   \n",
       "COMBAT2022_G05145_T0          46.153846      healthy          30.769231   \n",
       "COMBAT2022_N00021_T0          38.461538        COVID          23.076923   \n",
       "COMBAT2022_N00025_T0          27.272727      healthy          18.181818   \n",
       "...                                 ...          ...                ...   \n",
       "Terekhova2023_E19_T0          84.615385                       15.384615   \n",
       "Terekhova2023_FA07_T0         76.923077                       15.384615   \n",
       "Terekhova2023_FC04_T0         84.615385                       15.384615   \n",
       "Terekhova2023_FD01_T0         84.615385                       15.384615   \n",
       "Terekhova2023_FE05_T0         84.615385                       15.384615   \n",
       "\n",
       "                      disease_true  \n",
       "sampleID                            \n",
       "COMBAT2022_G05073_T0         COVID  \n",
       "COMBAT2022_G05097_T0         COVID  \n",
       "COMBAT2022_G05145_T0         COVID  \n",
       "COMBAT2022_N00021_T0        sepsis  \n",
       "COMBAT2022_N00025_T0        sepsis  \n",
       "...                            ...  \n",
       "Terekhova2023_E19_T0       healthy  \n",
       "Terekhova2023_FA07_T0      healthy  \n",
       "Terekhova2023_FC04_T0      healthy  \n",
       "Terekhova2023_FD01_T0      healthy  \n",
       "Terekhova2023_FE05_T0      healthy  \n",
       "\n",
       "[144 rows x 16 columns]"
      ]
     },
     "execution_count": 34,
     "metadata": {},
     "output_type": "execute_result"
    }
   ],
   "source": [
    "res"
   ]
  }
 ],
 "metadata": {
  "kernelspec": {
   "display_name": "Python 3 (ipykernel)",
   "language": "python",
   "name": "python3"
  },
  "language_info": {
   "codemirror_mode": {
    "name": "ipython",
    "version": 3
   },
   "file_extension": ".py",
   "mimetype": "text/x-python",
   "name": "python",
   "nbconvert_exporter": "python",
   "pygments_lexer": "ipython3",
   "version": "3.10.13"
  },
  "papermill": {
   "default_parameters": {},
   "duration": 3925.583109,
   "end_time": "2024-06-10T17:48:07.914644",
   "environment_variables": {},
   "exception": null,
   "input_path": "a02_queryDatasets_and_labelTransfer.ipynb",
   "output_path": "executed_notebooks/a02_queryDatasets_and_labelTransfer_VALIDATION_nPC30_Batch_chemistry.ipynb",
   "parameters": {
    "batchKeys": "chemistry",
    "nPC": 30,
    "queryDataset": "VALIDATION"
   },
   "start_time": "2024-06-10T16:42:42.331535",
   "version": "2.5.0"
  }
 },
 "nbformat": 4,
 "nbformat_minor": 5
}