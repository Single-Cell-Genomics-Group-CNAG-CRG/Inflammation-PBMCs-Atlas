{
 "cells": [
  {
   "cell_type": "code",
   "execution_count": 1,
   "id": "adafc989",
   "metadata": {
    "execution": {
     "iopub.execute_input": "2024-06-08T01:07:29.355560Z",
     "iopub.status.busy": "2024-06-08T01:07:29.355205Z",
     "iopub.status.idle": "2024-06-08T01:07:29.360972Z",
     "shell.execute_reply": "2024-06-08T01:07:29.360583Z"
    },
    "papermill": {
     "duration": 0.015625,
     "end_time": "2024-06-08T01:07:29.361942",
     "exception": false,
     "start_time": "2024-06-08T01:07:29.346317",
     "status": "completed"
    },
    "tags": [
     "injected-parameters"
    ]
   },
   "outputs": [],
   "source": [
    "# Parameters\n",
    "nPC = 100\n",
    "batchKeys = \"chemistry\"\n"
   ]
  },
  {
   "cell_type": "raw",
   "id": "b23fce1d-13c4-425c-a8e2-2d213aecc270",
   "metadata": {
    "execution": {
     "iopub.execute_input": "2024-06-07T16:29:56.221480Z",
     "iopub.status.busy": "2024-06-07T16:29:56.221137Z",
     "iopub.status.idle": "2024-06-07T16:29:56.223682Z",
     "shell.execute_reply": "2024-06-07T16:29:56.223368Z",
     "shell.execute_reply.started": "2024-06-07T16:29:56.221460Z"
    },
    "papermill": {
     "duration": 0.030528,
     "end_time": "2024-06-08T01:07:29.403874",
     "exception": false,
     "start_time": "2024-06-08T01:07:29.373346",
     "status": "completed"
    },
    "tags": []
   },
   "source": [
    "nPC = 30\n",
    "batchKeys = 'chemistry'"
   ]
  },
  {
   "cell_type": "code",
   "execution_count": 2,
   "id": "c33b3da1-8c7c-405f-8cd8-0b4c41120385",
   "metadata": {
    "execution": {
     "iopub.execute_input": "2024-06-08T01:07:29.444991Z",
     "iopub.status.busy": "2024-06-08T01:07:29.444571Z",
     "iopub.status.idle": "2024-06-08T01:07:29.447643Z",
     "shell.execute_reply": "2024-06-08T01:07:29.447271Z"
    },
    "papermill": {
     "duration": 0.020231,
     "end_time": "2024-06-08T01:07:29.448530",
     "exception": false,
     "start_time": "2024-06-08T01:07:29.428299",
     "status": "completed"
    },
    "tags": []
   },
   "outputs": [
    {
     "name": "stdout",
     "output_type": "stream",
     "text": [
      "nPC = 100\n",
      "batchKeys = chemistry\n"
     ]
    }
   ],
   "source": [
    "for v in ['nPC','batchKeys']:\n",
    "    if v in locals() or v in globals():\n",
    "        print(f\"{v} = {eval(v)}\")\n",
    "    else:\n",
    "        raise Exception(f\"{v} not specified\")"
   ]
  },
  {
   "cell_type": "code",
   "execution_count": 3,
   "id": "efdb80f5-e899-4f33-bef2-150b34859a2d",
   "metadata": {
    "execution": {
     "iopub.execute_input": "2024-06-08T01:07:29.500087Z",
     "iopub.status.busy": "2024-06-08T01:07:29.499836Z",
     "iopub.status.idle": "2024-06-08T01:07:45.833881Z",
     "shell.execute_reply": "2024-06-08T01:07:45.833303Z"
    },
    "papermill": {
     "duration": 16.363303,
     "end_time": "2024-06-08T01:07:45.835378",
     "exception": false,
     "start_time": "2024-06-08T01:07:29.472075",
     "status": "completed"
    },
    "tags": []
   },
   "outputs": [],
   "source": [
    "import os\n",
    "\n",
    "import scanpy as sc\n",
    "import pandas as pd\n",
    "import numpy as np\n",
    "\n",
    "import symphonypy as sp\n",
    "\n",
    "from pyprojroot import here\n",
    "\n",
    "random_seed = 42"
   ]
  },
  {
   "cell_type": "markdown",
   "id": "43ddb5fd-a284-4b0e-998b-aa752ca4985a",
   "metadata": {
    "papermill": {
     "duration": 0.005701,
     "end_time": "2024-06-08T01:07:45.847828",
     "exception": false,
     "start_time": "2024-06-08T01:07:45.842127",
     "status": "completed"
    },
    "tags": []
   },
   "source": [
    "### Functions"
   ]
  },
  {
   "cell_type": "code",
   "execution_count": 4,
   "id": "68d2bba3-84fd-4fc4-83a3-b6acd682540b",
   "metadata": {
    "execution": {
     "iopub.execute_input": "2024-06-08T01:07:45.859425Z",
     "iopub.status.busy": "2024-06-08T01:07:45.859022Z",
     "iopub.status.idle": "2024-06-08T01:07:45.864445Z",
     "shell.execute_reply": "2024-06-08T01:07:45.864070Z"
    },
    "papermill": {
     "duration": 0.012437,
     "end_time": "2024-06-08T01:07:45.865404",
     "exception": false,
     "start_time": "2024-06-08T01:07:45.852967",
     "status": "completed"
    },
    "tags": []
   },
   "outputs": [],
   "source": [
    "def aggregating_features(Z = None, obsDF = None, mode = 'mean', obs_names_col = []):\n",
    "    Zdf = pd.DataFrame(Z)\n",
    "    for c in obsDF.columns:\n",
    "        Zdf[c] = obsDF[c].tolist()\n",
    "    if mode in ['mean','avarage']:\n",
    "        Zaggr = Zdf.groupby(obsDF.columns.tolist(), observed = True).mean()\n",
    "    elif mode == 'sum':\n",
    "        Zaggr = Zdf.groupby(obsDF.columns.tolist(), observed = True).sum()\n",
    "    else:\n",
    "        raise ValueError(f\"mode {mode} not supported. Available mode are 'mean' or 'sum'\")\n",
    "\n",
    "    grpObs = pd.DataFrame(Zaggr.index.tolist(), columns=obsDF.columns.tolist())\n",
    "\n",
    "    if len(obs_names_col) == 0:\n",
    "        grpAdata  = sc.AnnData(X = np.array(Zaggr), obs = grpObs, )\n",
    "    elif all([c in obsDF.columns.tolist() for c in obs_names_col]):\n",
    "        grpObs.index = grpObs[obs_names_col].apply(lambda row: '_'.join(row.values.astype(str)), axis=1)\n",
    "        grpAdata  = sc.AnnData(X = np.array(Zaggr), obs = grpObs)\n",
    "    else:\n",
    "        raise ValueError(f\"Impossible to use {obs_names_col} as index. It's not present in obsDF\")\n",
    "    return grpAdata"
   ]
  },
  {
   "cell_type": "markdown",
   "id": "bd323da1-8446-4ffc-91ac-c737ce081412",
   "metadata": {
    "papermill": {
     "duration": 0.005257,
     "end_time": "2024-06-08T01:07:45.876078",
     "exception": false,
     "start_time": "2024-06-08T01:07:45.870821",
     "status": "completed"
    },
    "tags": []
   },
   "source": [
    "### Parameters"
   ]
  },
  {
   "cell_type": "code",
   "execution_count": 5,
   "id": "3f81fe70-a960-401d-a05d-9d9199edd620",
   "metadata": {
    "execution": {
     "iopub.execute_input": "2024-06-08T01:07:45.887858Z",
     "iopub.status.busy": "2024-06-08T01:07:45.887556Z",
     "iopub.status.idle": "2024-06-08T01:07:45.892399Z",
     "shell.execute_reply": "2024-06-08T01:07:45.892045Z"
    },
    "papermill": {
     "duration": 0.011991,
     "end_time": "2024-06-08T01:07:45.893344",
     "exception": false,
     "start_time": "2024-06-08T01:07:45.881353",
     "status": "completed"
    },
    "tags": []
   },
   "outputs": [
    {
     "data": {
      "text/plain": [
       "['chemistry']"
      ]
     },
     "execution_count": 5,
     "metadata": {},
     "output_type": "execute_result"
    }
   ],
   "source": [
    "batch_key_ref = batchKeys.split(',')\n",
    "batch_key_ref"
   ]
  },
  {
   "cell_type": "markdown",
   "id": "008170b2-f7e2-4c59-b434-b682dacf1110",
   "metadata": {
    "papermill": {
     "duration": 0.005655,
     "end_time": "2024-06-08T01:07:45.904818",
     "exception": false,
     "start_time": "2024-06-08T01:07:45.899163",
     "status": "completed"
    },
    "tags": []
   },
   "source": [
    "### Loading reference data"
   ]
  },
  {
   "cell_type": "code",
   "execution_count": 6,
   "id": "8e361302-99f5-48fe-989b-f196e18ae0dd",
   "metadata": {
    "execution": {
     "iopub.execute_input": "2024-06-08T01:07:45.915831Z",
     "iopub.status.busy": "2024-06-08T01:07:45.915593Z",
     "iopub.status.idle": "2024-06-08T01:09:08.129125Z",
     "shell.execute_reply": "2024-06-08T01:09:08.128495Z"
    },
    "papermill": {
     "duration": 82.226817,
     "end_time": "2024-06-08T01:09:08.136545",
     "exception": false,
     "start_time": "2024-06-08T01:07:45.909728",
     "status": "completed"
    },
    "tags": []
   },
   "outputs": [
    {
     "data": {
      "text/plain": [
       "AnnData object with n_obs × n_vars = 4435922 × 8253\n",
       "    obs: 'studyID', 'libraryID', 'sampleID', 'chemistry', 'disease', 'sex', 'binned_age', 'Level1', 'Level2'\n",
       "    var: 'hgnc_id', 'symbol', 'locus_group', 'HUGO_status', 'highly_variable'"
      ]
     },
     "execution_count": 6,
     "metadata": {},
     "output_type": "execute_result"
    }
   ],
   "source": [
    "adataR = sc.read_h5ad(here('03_downstream_analysis/02_gene_universe_definition/results/04_MAIN_geneUniverse.h5ad'))\n",
    "adataR"
   ]
  },
  {
   "cell_type": "markdown",
   "id": "0be9f746-fd30-4f97-9ec7-1a1e1f831776",
   "metadata": {
    "papermill": {
     "duration": 0.005283,
     "end_time": "2024-06-08T01:09:08.147847",
     "exception": false,
     "start_time": "2024-06-08T01:09:08.142564",
     "status": "completed"
    },
    "tags": []
   },
   "source": [
    "### Preprocessing"
   ]
  },
  {
   "cell_type": "code",
   "execution_count": 7,
   "id": "db7e0e86-4cfc-44f7-a6f1-1fa3795ad5a3",
   "metadata": {
    "execution": {
     "iopub.execute_input": "2024-06-08T01:09:08.159409Z",
     "iopub.status.busy": "2024-06-08T01:09:08.159182Z",
     "iopub.status.idle": "2024-06-08T01:12:41.104036Z",
     "shell.execute_reply": "2024-06-08T01:12:41.103207Z"
    },
    "papermill": {
     "duration": 212.952733,
     "end_time": "2024-06-08T01:12:41.105858",
     "exception": false,
     "start_time": "2024-06-08T01:09:08.153125",
     "status": "completed"
    },
    "tags": []
   },
   "outputs": [],
   "source": [
    "sc.pp.normalize_total(adataR, target_sum=1e4)\n",
    "sc.pp.log1p(adataR)"
   ]
  },
  {
   "cell_type": "code",
   "execution_count": 8,
   "id": "74e00e88-f97f-457b-928e-ee7c2e91b64a",
   "metadata": {
    "execution": {
     "iopub.execute_input": "2024-06-08T01:12:41.120190Z",
     "iopub.status.busy": "2024-06-08T01:12:41.119886Z",
     "iopub.status.idle": "2024-06-08T01:17:12.206332Z",
     "shell.execute_reply": "2024-06-08T01:17:12.203672Z"
    },
    "papermill": {
     "duration": 271.108406,
     "end_time": "2024-06-08T01:17:12.222109",
     "exception": false,
     "start_time": "2024-06-08T01:12:41.113703",
     "status": "completed"
    },
    "tags": []
   },
   "outputs": [],
   "source": [
    "# We followed the tutorial from the python package (https://symphonypy.readthedocs.io/en/latest/usage.html)\n",
    "sc.pp.scale(adataR)"
   ]
  },
  {
   "cell_type": "code",
   "execution_count": 9,
   "id": "07fb0fc9-4a10-47fb-b4d6-3b7d66286cfd",
   "metadata": {
    "execution": {
     "iopub.execute_input": "2024-06-08T01:17:12.258399Z",
     "iopub.status.busy": "2024-06-08T01:17:12.258161Z",
     "iopub.status.idle": "2024-06-08T08:33:34.537565Z",
     "shell.execute_reply": "2024-06-08T08:33:34.536812Z"
    },
    "papermill": {
     "duration": 26182.289098,
     "end_time": "2024-06-08T08:33:34.539361",
     "exception": false,
     "start_time": "2024-06-08T01:17:12.250263",
     "status": "completed"
    },
    "tags": []
   },
   "outputs": [],
   "source": [
    "sc.pp.pca(adataR, \n",
    "          n_comps=nPC, \n",
    "          use_highly_variable = False,\n",
    "          zero_center=False)"
   ]
  },
  {
   "cell_type": "markdown",
   "id": "3109c878-d7d1-4372-9462-0ccdb78070dc",
   "metadata": {
    "papermill": {
     "duration": 0.005831,
     "end_time": "2024-06-08T08:33:34.562619",
     "exception": false,
     "start_time": "2024-06-08T08:33:34.556788",
     "status": "completed"
    },
    "tags": []
   },
   "source": [
    "### Integration with Harmony"
   ]
  },
  {
   "cell_type": "code",
   "execution_count": 10,
   "id": "d2e7eed3-c2e1-4031-a49f-89e32fe17130",
   "metadata": {
    "execution": {
     "iopub.execute_input": "2024-06-08T08:33:34.574837Z",
     "iopub.status.busy": "2024-06-08T08:33:34.574614Z",
     "iopub.status.idle": "2024-06-08T12:46:49.290468Z",
     "shell.execute_reply": "2024-06-08T12:46:49.289779Z"
    },
    "papermill": {
     "duration": 15194.724518,
     "end_time": "2024-06-08T12:46:49.292347",
     "exception": false,
     "start_time": "2024-06-08T08:33:34.567829",
     "status": "completed"
    },
    "tags": []
   },
   "outputs": [
    {
     "name": "stdout",
     "output_type": "stream",
     "text": [
      "Harmony integration with harmonypy is preforming.\n"
     ]
    },
    {
     "name": "stderr",
     "output_type": "stream",
     "text": [
      "2024-06-08 10:33:39,019 - harmonypy - INFO - Computing initial centroids with sklearn.KMeans...\n"
     ]
    },
    {
     "name": "stderr",
     "output_type": "stream",
     "text": [
      "2024-06-08 11:07:19,961 - harmonypy - INFO - sklearn.KMeans initialization complete.\n"
     ]
    },
    {
     "name": "stderr",
     "output_type": "stream",
     "text": [
      "2024-06-08 11:08:02,068 - harmonypy - INFO - Iteration 1 of 100\n"
     ]
    },
    {
     "name": "stderr",
     "output_type": "stream",
     "text": [
      "2024-06-08 12:17:11,972 - harmonypy - INFO - Iteration 2 of 100\n"
     ]
    },
    {
     "name": "stderr",
     "output_type": "stream",
     "text": [
      "2024-06-08 13:30:33,305 - harmonypy - INFO - Iteration 3 of 100\n"
     ]
    },
    {
     "name": "stderr",
     "output_type": "stream",
     "text": [
      "2024-06-08 14:46:44,770 - harmonypy - INFO - Converged after 3 iterations\n"
     ]
    }
   ],
   "source": [
    "sp.pp.harmony_integrate(adataR,\n",
    "                        key=batch_key_ref, \n",
    "                        verbose = True, \n",
    "                        random_seed=random_seed,  \n",
    "                        **{'max_iter_harmony':100}, # harmony_kwargs | should reach convergence before\n",
    "                       )"
   ]
  },
  {
   "cell_type": "markdown",
   "id": "293069e9-53ac-4a34-88ef-633da997798d",
   "metadata": {
    "papermill": {
     "duration": 0.005994,
     "end_time": "2024-06-08T12:46:49.306008",
     "exception": false,
     "start_time": "2024-06-08T12:46:49.300014",
     "status": "completed"
    },
    "tags": []
   },
   "source": [
    "### Save integrated object"
   ]
  },
  {
   "cell_type": "code",
   "execution_count": 11,
   "id": "8f1c2d07-2a4b-40c6-9d48-b3d55317870d",
   "metadata": {
    "execution": {
     "iopub.execute_input": "2024-06-08T12:46:49.319656Z",
     "iopub.status.busy": "2024-06-08T12:46:49.319299Z",
     "iopub.status.idle": "2024-06-08T13:11:43.605781Z",
     "shell.execute_reply": "2024-06-08T13:11:43.604968Z"
    },
    "papermill": {
     "duration": 1494.295871,
     "end_time": "2024-06-08T13:11:43.608032",
     "exception": false,
     "start_time": "2024-06-08T12:46:49.312161",
     "status": "completed"
    },
    "tags": []
   },
   "outputs": [],
   "source": [
    "adataR.write(here(f\"03_downstream_analysis/08_PatientClassifier/Harmony_Symphony/results/01_MAIN_HarmonyIntegrated_{nPC}nPC_Batch_{batchKeys}.h5ad\"), compression='gzip')"
   ]
  },
  {
   "cell_type": "markdown",
   "id": "42c514ee-62a5-4cb0-b43d-86160a5c2122",
   "metadata": {
    "papermill": {
     "duration": 0.006425,
     "end_time": "2024-06-08T13:11:43.631686",
     "exception": false,
     "start_time": "2024-06-08T13:11:43.625261",
     "status": "completed"
    },
    "tags": []
   },
   "source": [
    "### Generating pseudobulk from latent space"
   ]
  },
  {
   "cell_type": "code",
   "execution_count": 12,
   "id": "f912d9bd-bb82-489e-98a6-9da7523b7dc7",
   "metadata": {
    "execution": {
     "iopub.execute_input": "2024-06-08T13:11:43.646804Z",
     "iopub.status.busy": "2024-06-08T13:11:43.646618Z",
     "iopub.status.idle": "2024-06-08T13:11:46.580663Z",
     "shell.execute_reply": "2024-06-08T13:11:46.580000Z"
    },
    "papermill": {
     "duration": 2.943714,
     "end_time": "2024-06-08T13:11:46.582471",
     "exception": false,
     "start_time": "2024-06-08T13:11:43.638757",
     "status": "completed"
    },
    "tags": []
   },
   "outputs": [],
   "source": [
    "emb_pseudobulk_train = aggregating_features(Z = adataR.obsm['X_pca_harmony'], \n",
    "                                            obsDF = adataR.obs[['sampleID','Level1','disease']], \n",
    "                                            mode = 'mean', obs_names_col=['sampleID','Level1'])"
   ]
  },
  {
   "cell_type": "code",
   "execution_count": 13,
   "id": "773a8fd1-2390-4ea2-aa4d-bf1672a6c8a8",
   "metadata": {
    "execution": {
     "iopub.execute_input": "2024-06-08T13:11:46.610354Z",
     "iopub.status.busy": "2024-06-08T13:11:46.609942Z",
     "iopub.status.idle": "2024-06-08T13:11:46.818132Z",
     "shell.execute_reply": "2024-06-08T13:11:46.817590Z"
    },
    "papermill": {
     "duration": 0.221835,
     "end_time": "2024-06-08T13:11:46.819474",
     "exception": false,
     "start_time": "2024-06-08T13:11:46.597639",
     "status": "completed"
    },
    "tags": []
   },
   "outputs": [],
   "source": [
    "emb_pseudobulk_train.write(here(f\"03_downstream_analysis/08_PatientClassifier/Harmony_Symphony/results/01_MAIN_HarmonyIntegrated_PSEUDOBULK_{nPC}nPC_Batch_{batchKeys}.h5ad\"), compression='gzip')"
   ]
  },
  {
   "cell_type": "code",
   "execution_count": null,
   "id": "0f68f2f6-9481-44db-a620-9fada9576c4a",
   "metadata": {
    "papermill": {
     "duration": 0.018955,
     "end_time": "2024-06-08T13:11:46.850447",
     "exception": false,
     "start_time": "2024-06-08T13:11:46.831492",
     "status": "completed"
    },
    "tags": []
   },
   "outputs": [],
   "source": []
  }
 ],
 "metadata": {
  "kernelspec": {
   "display_name": "Python 3 (ipykernel)",
   "language": "python",
   "name": "python3"
  },
  "language_info": {
   "codemirror_mode": {
    "name": "ipython",
    "version": 3
   },
   "file_extension": ".py",
   "mimetype": "text/x-python",
   "name": "python",
   "nbconvert_exporter": "python",
   "pygments_lexer": "ipython3",
   "version": "3.10.13"
  },
  "papermill": {
   "default_parameters": {},
   "duration": 43473.601677,
   "end_time": "2024-06-08T13:11:57.693145",
   "environment_variables": {},
   "exception": null,
   "input_path": "a01_integrate_MAIN_object.ipynb",
   "output_path": "executed_notebooks/a01_integrate_MAIN_object_nPC100_Batch_chemistry.ipynb",
   "parameters": {
    "batchKeys": "chemistry",
    "nPC": 100
   },
   "start_time": "2024-06-08T01:07:24.091468",
   "version": "2.5.0"
  }
 },
 "nbformat": 4,
 "nbformat_minor": 5
}