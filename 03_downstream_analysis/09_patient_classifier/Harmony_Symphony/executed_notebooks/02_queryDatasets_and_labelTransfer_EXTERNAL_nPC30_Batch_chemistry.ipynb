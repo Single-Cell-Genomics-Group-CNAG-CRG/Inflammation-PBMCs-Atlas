{
 "cells": [
  {
   "cell_type": "code",
   "execution_count": 1,
   "id": "92149caf",
   "metadata": {
    "execution": {
     "iopub.execute_input": "2024-06-10T16:42:31.023453Z",
     "iopub.status.busy": "2024-06-10T16:42:31.023119Z",
     "iopub.status.idle": "2024-06-10T16:42:31.028421Z",
     "shell.execute_reply": "2024-06-10T16:42:31.028060Z"
    },
    "papermill": {
     "duration": 0.014915,
     "end_time": "2024-06-10T16:42:31.029383",
     "exception": false,
     "start_time": "2024-06-10T16:42:31.014468",
     "status": "completed"
    },
    "tags": [
     "injected-parameters"
    ]
   },
   "outputs": [],
   "source": [
    "# Parameters\n",
    "nPC = 30\n",
    "batchKeys = \"chemistry\"\n",
    "queryDataset = \"EXTERNAL\"\n"
   ]
  },
  {
   "cell_type": "raw",
   "id": "54f2a5ab-3158-4572-b2ad-37d8c49d9187",
   "metadata": {
    "execution": {
     "iopub.execute_input": "2024-06-10T15:31:01.419291Z",
     "iopub.status.busy": "2024-06-10T15:31:01.418822Z",
     "iopub.status.idle": "2024-06-10T15:31:01.424084Z",
     "shell.execute_reply": "2024-06-10T15:31:01.423719Z",
     "shell.execute_reply.started": "2024-06-10T15:31:01.419272Z"
    },
    "papermill": {
     "duration": 0.007352,
     "end_time": "2024-06-10T16:42:31.044349",
     "exception": false,
     "start_time": "2024-06-10T16:42:31.036997",
     "status": "completed"
    },
    "tags": []
   },
   "source": [
    "nPC = 10\n",
    "batchKeys = 'libraryID,chemistry,sex,binned_age'\n",
    "queryDataset = 'VALIDATION'"
   ]
  },
  {
   "cell_type": "code",
   "execution_count": 2,
   "id": "3044cc6c-ce26-4de6-8b7b-f8f9af090921",
   "metadata": {
    "execution": {
     "iopub.execute_input": "2024-06-10T16:42:31.060186Z",
     "iopub.status.busy": "2024-06-10T16:42:31.059813Z",
     "iopub.status.idle": "2024-06-10T16:42:31.063464Z",
     "shell.execute_reply": "2024-06-10T16:42:31.062965Z"
    },
    "papermill": {
     "duration": 0.012894,
     "end_time": "2024-06-10T16:42:31.064412",
     "exception": false,
     "start_time": "2024-06-10T16:42:31.051518",
     "status": "completed"
    },
    "tags": []
   },
   "outputs": [
    {
     "name": "stdout",
     "output_type": "stream",
     "text": [
      "nPC = 30\n",
      "batchKeys = chemistry\n",
      "queryDataset = EXTERNAL\n"
     ]
    }
   ],
   "source": [
    "for v in ['nPC','batchKeys', 'queryDataset']:\n",
    "    if v in locals() or v in globals():\n",
    "        print(f\"{v} = {eval(v)}\")\n",
    "    else:\n",
    "        raise Exception(f\"{v} not specified\")"
   ]
  },
  {
   "cell_type": "code",
   "execution_count": 3,
   "id": "a9a81822-a7c1-4b2c-9419-c1df388c8d1f",
   "metadata": {
    "execution": {
     "iopub.execute_input": "2024-06-10T16:42:31.079854Z",
     "iopub.status.busy": "2024-06-10T16:42:31.079624Z",
     "iopub.status.idle": "2024-06-10T16:42:33.494974Z",
     "shell.execute_reply": "2024-06-10T16:42:33.494437Z"
    },
    "papermill": {
     "duration": 2.424897,
     "end_time": "2024-06-10T16:42:33.496596",
     "exception": false,
     "start_time": "2024-06-10T16:42:31.071699",
     "status": "completed"
    },
    "tags": []
   },
   "outputs": [],
   "source": [
    "import os\n",
    "\n",
    "import scanpy as sc\n",
    "import pandas as pd\n",
    "import numpy as np\n",
    "\n",
    "import symphonypy as sp\n",
    "\n",
    "from sklearn.metrics import balanced_accuracy_score\n",
    "\n",
    "from pyprojroot import here\n",
    "\n",
    "random_seed = 42"
   ]
  },
  {
   "cell_type": "markdown",
   "id": "74a87fda-280f-4a4c-88bb-c84dfbaf3fbd",
   "metadata": {
    "papermill": {
     "duration": 0.007748,
     "end_time": "2024-06-10T16:42:33.512494",
     "exception": false,
     "start_time": "2024-06-10T16:42:33.504746",
     "status": "completed"
    },
    "tags": []
   },
   "source": [
    "### Defining functions"
   ]
  },
  {
   "cell_type": "code",
   "execution_count": 4,
   "id": "9b47d61d-d9b8-42d0-91f2-4e3b87ea4cbc",
   "metadata": {
    "execution": {
     "iopub.execute_input": "2024-06-10T16:42:33.528536Z",
     "iopub.status.busy": "2024-06-10T16:42:33.528167Z",
     "iopub.status.idle": "2024-06-10T16:42:33.540594Z",
     "shell.execute_reply": "2024-06-10T16:42:33.540204Z"
    },
    "papermill": {
     "duration": 0.021396,
     "end_time": "2024-06-10T16:42:33.541541",
     "exception": false,
     "start_time": "2024-06-10T16:42:33.520145",
     "status": "completed"
    },
    "tags": []
   },
   "outputs": [],
   "source": [
    "def train_classifier(adataTrain = None, cell_type_col = None, y_true_col = None, max_iter=10000,random_state = 25, model = 'LinearSVC'):\n",
    "    \n",
    "    import pandas as pd\n",
    "    from tqdm import tqdm\n",
    "    from sklearn.svm import LinearSVC, SVC\n",
    "\n",
    "    from sklearn.metrics import balanced_accuracy_score\n",
    "    \n",
    "    clfList = dict()\n",
    "    trainAccuracy = []\n",
    "    for ct_ in tqdm(adataTrain.obs[cell_type_col].unique()):\n",
    "        clfList[ct_] = dict()\n",
    "        X_i = adataTrain.X[adataTrain.obs[cell_type_col] == ct_]\n",
    "        y_true_i = adataTrain.obs[y_true_col][adataTrain.obs[cell_type_col] == ct_]\n",
    "\n",
    "        if mode == 'LinearSVC':\n",
    "            clfList[ct_]['clf'] = LinearSVC(max_iter=max_iter, dual = True, random_state = random_state).fit(X_i, y_true_i)\n",
    "        elif mode == 'SVC':\n",
    "            clfList[ct_]['clf'] = SVC(max_iter=max_iter, random_state = random_state).fit(X_i, y_true_i)\n",
    "            \n",
    "        clfList[ct_]['bAcc'] = balanced_accuracy_score(y_true = y_true_i, y_pred = clfList[ct_]['clf'].predict(X_i))\n",
    "        clfList[ct_]['nObs'] = len(y_true_i)\n",
    "\n",
    "    return clfList\n",
    "    \n",
    "def vote_disease(adataTest = None, clfList = None, cell_type_col = None, sample_id_col = None):\n",
    "\n",
    "    from tqdm import tqdm\n",
    "    import pandas as pd\n",
    "\n",
    "    \n",
    "    \n",
    "    classificationDF = pd.DataFrame()\n",
    "    for ct_ in tqdm(adataTest.obs[cell_type_col].unique()):\n",
    "        X_i = adataTest.X[adataTest.obs[cell_type_col] == ct_]\n",
    "        PID_i = adataTest.obs[sample_id_col][adataTest.obs[cell_type_col] == ct_]\n",
    "        if ct_ not in clfList:\n",
    "            print(f\"{ct_} is missing in training set\")\n",
    "            continue\n",
    "        DF_i = pd.DataFrame.from_dict({\n",
    "            sample_id_col: PID_i,\n",
    "            f\"{ct_}_prediction\": clfList[ct_]['clf'].predict(X_i)\n",
    "        })\n",
    "        if classificationDF.shape[0] == 0:\n",
    "            classificationDF = DF_i\n",
    "        else:\n",
    "            classificationDF = classificationDF.merge(DF_i, how='outer', on = sample_id_col)\n",
    "    classificationDF['firstChoice'] = ''\n",
    "    classificationDF['firstChoice_perc'] = np.nan\n",
    "    classificationDF['secondChoice'] = ''\n",
    "    classificationDF['secondChoice_perc'] = np.nan\n",
    "    \n",
    "    for i in tqdm(range(classificationDF.shape[0])):\n",
    "        vote_i = classificationDF.loc[i,classificationDF.columns !=sample_id_col].value_counts()\n",
    "        vote_i /= (vote_i.sum() / 100)\n",
    "        res_i = vote_i.sort_values(ascending=False)\n",
    "        classificationDF.loc[i,'firstChoice'] = res_i.index[0]\n",
    "        classificationDF.loc[i,'firstChoice_perc'] = res_i.iloc[0]\n",
    "        if res_i.shape[0] > 1:\n",
    "            classificationDF.loc[i,'secondChoice'] = res_i.index[1]\n",
    "            classificationDF.loc[i,'secondChoice_perc'] = res_i.iloc[1]\n",
    "\n",
    "    return classificationDF\n",
    "    \n",
    "def aggregating_features(Z = None, obsDF = None, mode = 'mean', obs_names_col = [], min_observation = 0):\n",
    "    Zdf = pd.DataFrame(Z)\n",
    "    for c in obsDF.columns:\n",
    "        Zdf[c] = obsDF[c].tolist()\n",
    "\n",
    "    grpDF = Zdf.groupby(obsDF.columns.tolist(), observed = True)\n",
    "\n",
    "    nCount = grpDF.size().to_frame('n_observation')\n",
    "    \n",
    "    if mode in ['mean','avarage']:\n",
    "        Zaggr = grpDF.mean()\n",
    "    elif mode == 'sum':\n",
    "        Zaggr = grpDF.sum()\n",
    "    else:\n",
    "        raise ValueError(f\"mode {mode} not supported. Available mode are 'mean' or 'sum'\")\n",
    "\n",
    "    grpObs = pd.DataFrame(Zaggr.index.tolist(), columns=obsDF.columns.tolist()).merge(pd.DataFrame(nCount).reset_index(), on = obsDF.columns.tolist())\n",
    "\n",
    "    if len(obs_names_col) == 0:\n",
    "        grpAdata  = sc.AnnData(X = np.array(Zaggr), obs = grpObs)\n",
    "    elif all([c in obsDF.columns.tolist() for c in obs_names_col]):\n",
    "        grpObs.index = grpObs[obs_names_col].apply(lambda row: '_'.join(row.values.astype(str)), axis=1)\n",
    "        grpAdata  = sc.AnnData(X = np.array(Zaggr), obs = grpObs)\n",
    "    else:\n",
    "        raise ValueError(f\"Impossible to use {obs_names_col} as index. It's not present in obsDF\")\n",
    "\n",
    "    if min_observation > 0:\n",
    "        grpAdata = grpAdata[grpAdata.obs.n_observation >= min_observation]\n",
    "    return grpAdata"
   ]
  },
  {
   "cell_type": "markdown",
   "id": "bd323da1-8446-4ffc-91ac-c737ce081412",
   "metadata": {
    "papermill": {
     "duration": 0.007425,
     "end_time": "2024-06-10T16:42:33.556309",
     "exception": false,
     "start_time": "2024-06-10T16:42:33.548884",
     "status": "completed"
    },
    "tags": []
   },
   "source": [
    "### Parameters"
   ]
  },
  {
   "cell_type": "code",
   "execution_count": 5,
   "id": "3f81fe70-a960-401d-a05d-9d9199edd620",
   "metadata": {
    "execution": {
     "iopub.execute_input": "2024-06-10T16:42:33.571828Z",
     "iopub.status.busy": "2024-06-10T16:42:33.571666Z",
     "iopub.status.idle": "2024-06-10T16:42:33.576641Z",
     "shell.execute_reply": "2024-06-10T16:42:33.576297Z"
    },
    "papermill": {
     "duration": 0.01376,
     "end_time": "2024-06-10T16:42:33.577526",
     "exception": false,
     "start_time": "2024-06-10T16:42:33.563766",
     "status": "completed"
    },
    "tags": []
   },
   "outputs": [
    {
     "data": {
      "text/plain": [
       "['chemistry']"
      ]
     },
     "execution_count": 5,
     "metadata": {},
     "output_type": "execute_result"
    }
   ],
   "source": [
    "batch_key_query = batchKeys.split(',')\n",
    "batch_key_query"
   ]
  },
  {
   "cell_type": "markdown",
   "id": "008170b2-f7e2-4c59-b434-b682dacf1110",
   "metadata": {
    "papermill": {
     "duration": 0.007166,
     "end_time": "2024-06-10T16:42:33.592026",
     "exception": false,
     "start_time": "2024-06-10T16:42:33.584860",
     "status": "completed"
    },
    "tags": []
   },
   "source": [
    "### Loading dataset"
   ]
  },
  {
   "cell_type": "markdown",
   "id": "c96cf9da-e2ed-4800-903c-316f4805e559",
   "metadata": {
    "papermill": {
     "duration": 0.00753,
     "end_time": "2024-06-10T16:42:33.607105",
     "exception": false,
     "start_time": "2024-06-10T16:42:33.599575",
     "status": "completed"
    },
    "tags": []
   },
   "source": [
    "**Integrated object**"
   ]
  },
  {
   "cell_type": "code",
   "execution_count": 6,
   "id": "8e361302-99f5-48fe-989b-f196e18ae0dd",
   "metadata": {
    "execution": {
     "iopub.execute_input": "2024-06-10T16:42:33.622831Z",
     "iopub.status.busy": "2024-06-10T16:42:33.622498Z",
     "iopub.status.idle": "2024-06-10T16:43:02.414004Z",
     "shell.execute_reply": "2024-06-10T16:43:02.413512Z"
    },
    "papermill": {
     "duration": 28.800412,
     "end_time": "2024-06-10T16:43:02.415002",
     "exception": false,
     "start_time": "2024-06-10T16:42:33.614590",
     "status": "completed"
    },
    "tags": []
   },
   "outputs": [
    {
     "data": {
      "text/plain": [
       "AnnData object with n_obs × n_vars = 4435922 × 8253 backed at '/scratch_isilon/groups/singlecell/shared/projects/Inflammation-PBMCs-Atlas/03_downstream_analysis/08_PatientClassifier/Harmony_Symphony/results/01_MAIN_HarmonyIntegrated_30nPC_Batch_chemistry.h5ad'\n",
       "    obs: 'studyID', 'libraryID', 'sampleID', 'chemistry', 'disease', 'sex', 'binned_age', 'Level1', 'Level2'\n",
       "    var: 'hgnc_id', 'symbol', 'locus_group', 'HUGO_status', 'highly_variable', 'mean', 'std'\n",
       "    uns: 'harmony', 'log1p', 'pca'\n",
       "    obsm: 'X_pca', 'X_pca_harmony'\n",
       "    varm: 'PCs'"
      ]
     },
     "execution_count": 6,
     "metadata": {},
     "output_type": "execute_result"
    }
   ],
   "source": [
    "adataR = sc.read_h5ad(here(f\"03_downstream_analysis/08_PatientClassifier/Harmony_Symphony/results/01_MAIN_HarmonyIntegrated_{nPC}nPC_Batch_{batchKeys}.h5ad\"), backed='r')\n",
    "adataR"
   ]
  },
  {
   "cell_type": "markdown",
   "id": "7a8289b7-ae48-40bd-a8bf-b8a61d6fea7c",
   "metadata": {
    "papermill": {
     "duration": 0.008435,
     "end_time": "2024-06-10T16:43:02.431300",
     "exception": false,
     "start_time": "2024-06-10T16:43:02.422865",
     "status": "completed"
    },
    "tags": []
   },
   "source": [
    "**Query dataset**"
   ]
  },
  {
   "cell_type": "code",
   "execution_count": 7,
   "id": "f8922a45-9d49-4b6e-be13-48cecafe227d",
   "metadata": {
    "execution": {
     "iopub.execute_input": "2024-06-10T16:43:02.448773Z",
     "iopub.status.busy": "2024-06-10T16:43:02.448596Z",
     "iopub.status.idle": "2024-06-10T16:43:12.105577Z",
     "shell.execute_reply": "2024-06-10T16:43:12.105148Z"
    },
    "papermill": {
     "duration": 9.667162,
     "end_time": "2024-06-10T16:43:12.106632",
     "exception": false,
     "start_time": "2024-06-10T16:43:02.439470",
     "status": "completed"
    },
    "tags": []
   },
   "outputs": [
    {
     "data": {
      "text/plain": [
       "AnnData object with n_obs × n_vars = 572872 × 8253\n",
       "    obs: 'studyID', 'libraryID', 'sampleID', 'chemistry', 'technology', 'disease', 'sex', 'binned_age'\n",
       "    var: 'hgnc_id', 'symbol', 'locus_group', 'HUGO_status'"
      ]
     },
     "execution_count": 7,
     "metadata": {},
     "output_type": "execute_result"
    }
   ],
   "source": [
    "adataQ = sc.read_h5ad(here(f'03_downstream_analysis/02_gene_universe_definition/results/05_{queryDataset}_geneUniverse.h5ad'))\n",
    "adataQ"
   ]
  },
  {
   "cell_type": "markdown",
   "id": "0be9f746-fd30-4f97-9ec7-1a1e1f831776",
   "metadata": {
    "papermill": {
     "duration": 0.008378,
     "end_time": "2024-06-10T16:43:12.129068",
     "exception": false,
     "start_time": "2024-06-10T16:43:12.120690",
     "status": "completed"
    },
    "tags": []
   },
   "source": [
    "### Preprocessing"
   ]
  },
  {
   "cell_type": "code",
   "execution_count": 8,
   "id": "db7e0e86-4cfc-44f7-a6f1-1fa3795ad5a3",
   "metadata": {
    "execution": {
     "iopub.execute_input": "2024-06-10T16:43:12.148574Z",
     "iopub.status.busy": "2024-06-10T16:43:12.147941Z",
     "iopub.status.idle": "2024-06-10T16:43:40.463140Z",
     "shell.execute_reply": "2024-06-10T16:43:40.462643Z"
    },
    "papermill": {
     "duration": 28.326883,
     "end_time": "2024-06-10T16:43:40.464465",
     "exception": false,
     "start_time": "2024-06-10T16:43:12.137582",
     "status": "completed"
    },
    "tags": []
   },
   "outputs": [],
   "source": [
    "sc.pp.normalize_total(adataQ, target_sum=1e4)\n",
    "sc.pp.log1p(adataQ)"
   ]
  },
  {
   "cell_type": "markdown",
   "id": "3109c878-d7d1-4372-9462-0ccdb78070dc",
   "metadata": {
    "papermill": {
     "duration": 0.036893,
     "end_time": "2024-06-10T16:43:40.511656",
     "exception": false,
     "start_time": "2024-06-10T16:43:40.474763",
     "status": "completed"
    },
    "tags": []
   },
   "source": [
    "### Projection with Symphony"
   ]
  },
  {
   "cell_type": "code",
   "execution_count": 9,
   "id": "d2e7eed3-c2e1-4031-a49f-89e32fe17130",
   "metadata": {
    "execution": {
     "iopub.execute_input": "2024-06-10T16:43:40.550055Z",
     "iopub.status.busy": "2024-06-10T16:43:40.549887Z",
     "iopub.status.idle": "2024-06-10T16:46:15.791106Z",
     "shell.execute_reply": "2024-06-10T16:46:15.790387Z"
    },
    "papermill": {
     "duration": 155.251428,
     "end_time": "2024-06-10T16:46:15.792571",
     "exception": false,
     "start_time": "2024-06-10T16:43:40.541143",
     "status": "completed"
    },
    "tags": []
   },
   "outputs": [],
   "source": [
    "sp.tl.map_embedding(adataQ, adataR, key=batch_key_query)"
   ]
  },
  {
   "cell_type": "code",
   "execution_count": 10,
   "id": "ca297baa-c283-440d-82d6-90586f0cb94f",
   "metadata": {
    "execution": {
     "iopub.execute_input": "2024-06-10T16:46:15.813035Z",
     "iopub.status.busy": "2024-06-10T16:46:15.812856Z",
     "iopub.status.idle": "2024-06-10T16:52:27.407259Z",
     "shell.execute_reply": "2024-06-10T16:52:27.406583Z"
    },
    "papermill": {
     "duration": 371.605595,
     "end_time": "2024-06-10T16:52:27.408620",
     "exception": false,
     "start_time": "2024-06-10T16:46:15.803025",
     "status": "completed"
    },
    "tags": []
   },
   "outputs": [],
   "source": [
    "sp.tl.per_cell_confidence(adataQ, adataR)"
   ]
  },
  {
   "cell_type": "code",
   "execution_count": 11,
   "id": "0ae24ad9-1d56-4ed7-8c14-37c06081dc89",
   "metadata": {
    "execution": {
     "iopub.execute_input": "2024-06-10T16:52:27.429335Z",
     "iopub.status.busy": "2024-06-10T16:52:27.428794Z",
     "iopub.status.idle": "2024-06-10T16:52:27.815336Z",
     "shell.execute_reply": "2024-06-10T16:52:27.814937Z"
    },
    "papermill": {
     "duration": 0.396616,
     "end_time": "2024-06-10T16:52:27.816230",
     "exception": false,
     "start_time": "2024-06-10T16:52:27.419614",
     "status": "completed"
    },
    "tags": []
   },
   "outputs": [
    {
     "data": {
      "text/plain": [
       "<Axes: >"
      ]
     },
     "execution_count": 11,
     "metadata": {},
     "output_type": "execute_result"
    },
    {
     "data": {
      "image/png": "[encoded data removed]",
      "text/plain": [
       "<Figure size 640x480 with 1 Axes>"
      ]
     },
     "metadata": {},
     "output_type": "display_data"
    }
   ],
   "source": [
    "adataQ.obs.symphony_per_cell_dist.hist(bins=100)"
   ]
  },
  {
   "cell_type": "code",
   "execution_count": 12,
   "id": "2ee17ce6-f8c5-4a1e-b93e-9fc70ab7edb9",
   "metadata": {
    "execution": {
     "iopub.execute_input": "2024-06-10T16:52:27.834540Z",
     "iopub.status.busy": "2024-06-10T16:52:27.834361Z",
     "iopub.status.idle": "2024-06-10T16:52:27.837607Z",
     "shell.execute_reply": "2024-06-10T16:52:27.837240Z"
    },
    "papermill": {
     "duration": 0.013611,
     "end_time": "2024-06-10T16:52:27.838559",
     "exception": false,
     "start_time": "2024-06-10T16:52:27.824948",
     "status": "completed"
    },
    "tags": []
   },
   "outputs": [
    {
     "data": {
      "text/plain": [
       "AnnData object with n_obs × n_vars = 572872 × 8253\n",
       "    obs: 'studyID', 'libraryID', 'sampleID', 'chemistry', 'technology', 'disease', 'sex', 'binned_age', 'symphony_per_cell_dist'\n",
       "    var: 'hgnc_id', 'symbol', 'locus_group', 'HUGO_status'\n",
       "    uns: 'log1p'\n",
       "    obsm: 'X_pca_reference', 'X_pca_harmony', 'X_pca_harmony_symphony_R'"
      ]
     },
     "execution_count": 12,
     "metadata": {},
     "output_type": "execute_result"
    }
   ],
   "source": [
    "adataQ"
   ]
  },
  {
   "cell_type": "markdown",
   "id": "51e25a69-c8f9-43c8-b50c-e2b4aa826a6b",
   "metadata": {
    "papermill": {
     "duration": 0.008987,
     "end_time": "2024-06-10T16:52:27.856494",
     "exception": false,
     "start_time": "2024-06-10T16:52:27.847507",
     "status": "completed"
    },
    "tags": []
   },
   "source": [
    "### Label transfer"
   ]
  },
  {
   "cell_type": "code",
   "execution_count": 13,
   "id": "81d61d37-fdfa-4071-aace-eff99e9d6787",
   "metadata": {
    "execution": {
     "iopub.execute_input": "2024-06-10T16:52:27.875414Z",
     "iopub.status.busy": "2024-06-10T16:52:27.875264Z",
     "iopub.status.idle": "2024-06-10T16:52:27.877415Z",
     "shell.execute_reply": "2024-06-10T16:52:27.877067Z"
    },
    "papermill": {
     "duration": 0.012551,
     "end_time": "2024-06-10T16:52:27.878270",
     "exception": false,
     "start_time": "2024-06-10T16:52:27.865719",
     "status": "completed"
    },
    "tags": []
   },
   "outputs": [],
   "source": [
    "# common embedded space -> adataQ.obsm['X_pca_harmony']"
   ]
  },
  {
   "cell_type": "markdown",
   "id": "9482b233-08d7-4ed8-ad0f-729f59e05024",
   "metadata": {
    "papermill": {
     "duration": 0.009093,
     "end_time": "2024-06-10T16:52:27.896113",
     "exception": false,
     "start_time": "2024-06-10T16:52:27.887020",
     "status": "completed"
    },
    "tags": []
   },
   "source": [
    "**Level1 Annotation**"
   ]
  },
  {
   "cell_type": "code",
   "execution_count": 14,
   "id": "1016b8d2-0480-409a-aac4-1e521a1397b0",
   "metadata": {
    "execution": {
     "iopub.execute_input": "2024-06-10T16:52:27.914619Z",
     "iopub.status.busy": "2024-06-10T16:52:27.914449Z",
     "iopub.status.idle": "2024-06-10T17:06:38.351141Z",
     "shell.execute_reply": "2024-06-10T17:06:38.350343Z"
    },
    "papermill": {
     "duration": 850.447402,
     "end_time": "2024-06-10T17:06:38.352662",
     "exception": false,
     "start_time": "2024-06-10T16:52:27.905260",
     "status": "completed"
    },
    "tags": []
   },
   "outputs": [],
   "source": [
    "sp.tl.transfer_labels_kNN(adataQ, adataR, 'Level1', ref_basis = 'X_pca_harmony', query_basis = 'X_pca_harmony')"
   ]
  },
  {
   "cell_type": "markdown",
   "id": "69eb76ae-aa03-4807-b680-a7423fb55458",
   "metadata": {
    "papermill": {
     "duration": 0.009324,
     "end_time": "2024-06-10T17:06:38.375007",
     "exception": false,
     "start_time": "2024-06-10T17:06:38.365683",
     "status": "completed"
    },
    "tags": []
   },
   "source": [
    "**Disease**"
   ]
  },
  {
   "cell_type": "code",
   "execution_count": 15,
   "id": "20429eca-9c43-4db8-b1da-94434c4c99c2",
   "metadata": {
    "execution": {
     "iopub.execute_input": "2024-06-10T17:06:38.394380Z",
     "iopub.status.busy": "2024-06-10T17:06:38.394140Z",
     "iopub.status.idle": "2024-06-10T17:06:38.397867Z",
     "shell.execute_reply": "2024-06-10T17:06:38.397358Z"
    },
    "papermill": {
     "duration": 0.014454,
     "end_time": "2024-06-10T17:06:38.398805",
     "exception": false,
     "start_time": "2024-06-10T17:06:38.384351",
     "status": "completed"
    },
    "tags": []
   },
   "outputs": [],
   "source": [
    "adataQ.obs.rename({'disease':'disease_true'}, axis=1, inplace=True)"
   ]
  },
  {
   "cell_type": "code",
   "execution_count": 16,
   "id": "7b72f7c3-af64-4a22-ab6b-8d5e5dbd4af3",
   "metadata": {
    "execution": {
     "iopub.execute_input": "2024-06-10T17:06:38.418139Z",
     "iopub.status.busy": "2024-06-10T17:06:38.417810Z",
     "iopub.status.idle": "2024-06-10T17:21:03.773896Z",
     "shell.execute_reply": "2024-06-10T17:21:03.773128Z"
    },
    "papermill": {
     "duration": 865.36731,
     "end_time": "2024-06-10T17:21:03.775370",
     "exception": false,
     "start_time": "2024-06-10T17:06:38.408060",
     "status": "completed"
    },
    "tags": []
   },
   "outputs": [],
   "source": [
    "sp.tl.transfer_labels_kNN(adataQ, adataR, 'disease', ref_basis = 'X_pca_harmony', query_basis = 'X_pca_harmony')"
   ]
  },
  {
   "cell_type": "code",
   "execution_count": 17,
   "id": "2e1ad1d0-8a52-46a8-ae97-15dc2984f08e",
   "metadata": {
    "execution": {
     "iopub.execute_input": "2024-06-10T17:21:03.797233Z",
     "iopub.status.busy": "2024-06-10T17:21:03.797031Z",
     "iopub.status.idle": "2024-06-10T17:21:03.800810Z",
     "shell.execute_reply": "2024-06-10T17:21:03.800350Z"
    },
    "papermill": {
     "duration": 0.015174,
     "end_time": "2024-06-10T17:21:03.801772",
     "exception": false,
     "start_time": "2024-06-10T17:21:03.786598",
     "status": "completed"
    },
    "tags": []
   },
   "outputs": [],
   "source": [
    "adataQ.obs.rename({'disease':'disease_pred'}, axis=1, inplace=True)"
   ]
  },
  {
   "cell_type": "code",
   "execution_count": 18,
   "id": "0eb1c5d7-97fd-4c42-9b7b-8cddd8e22987",
   "metadata": {
    "execution": {
     "iopub.execute_input": "2024-06-10T17:21:03.821444Z",
     "iopub.status.busy": "2024-06-10T17:21:03.821054Z",
     "iopub.status.idle": "2024-06-10T17:21:05.557760Z",
     "shell.execute_reply": "2024-06-10T17:21:05.557325Z"
    },
    "papermill": {
     "duration": 1.747542,
     "end_time": "2024-06-10T17:21:05.558856",
     "exception": false,
     "start_time": "2024-06-10T17:21:03.811314",
     "status": "completed"
    },
    "tags": []
   },
   "outputs": [
    {
     "name": "stderr",
     "output_type": "stream",
     "text": [
      "/scratch_isilon/groups/singlecell/shared/conda_env/inflammation_atlas_R1/lib/python3.10/site-packages/sklearn/metrics/_classification.py:2458: UserWarning: y_pred contains classes not in y_true\n",
      "  warnings.warn(\"y_pred contains classes not in y_true\")\n"
     ]
    },
    {
     "data": {
      "text/plain": [
       "0.15391660202587226"
      ]
     },
     "execution_count": 18,
     "metadata": {},
     "output_type": "execute_result"
    }
   ],
   "source": [
    "balanced_accuracy_score(y_true = adataQ.obs.disease_true, y_pred=adataQ.obs.disease_pred)"
   ]
  },
  {
   "cell_type": "code",
   "execution_count": 19,
   "id": "0e4bc21f-ed6a-41d9-8254-1eb2bc58c1a1",
   "metadata": {
    "execution": {
     "iopub.execute_input": "2024-06-10T17:21:05.580675Z",
     "iopub.status.busy": "2024-06-10T17:21:05.580499Z",
     "iopub.status.idle": "2024-06-10T17:21:05.608101Z",
     "shell.execute_reply": "2024-06-10T17:21:05.607712Z"
    },
    "papermill": {
     "duration": 0.038753,
     "end_time": "2024-06-10T17:21:05.609031",
     "exception": false,
     "start_time": "2024-06-10T17:21:05.570278",
     "status": "completed"
    },
    "tags": []
   },
   "outputs": [
    {
     "data": {
      "text/html": [
       "<div>\n",
       "<style scoped>\n",
       "    .dataframe tbody tr th:only-of-type {\n",
       "        vertical-align: middle;\n",
       "    }\n",
       "\n",
       "    .dataframe tbody tr th {\n",
       "        vertical-align: top;\n",
       "    }\n",
       "\n",
       "    .dataframe thead th {\n",
       "        text-align: right;\n",
       "    }\n",
       "</style>\n",
       "<table border=\"1\" class=\"dataframe\">\n",
       "  <thead>\n",
       "    <tr style=\"text-align: right;\">\n",
       "      <th></th>\n",
       "      <th>studyID</th>\n",
       "      <th>libraryID</th>\n",
       "      <th>sampleID</th>\n",
       "      <th>chemistry</th>\n",
       "      <th>technology</th>\n",
       "      <th>disease_true</th>\n",
       "      <th>sex</th>\n",
       "      <th>binned_age</th>\n",
       "      <th>symphony_per_cell_dist</th>\n",
       "      <th>Level1</th>\n",
       "      <th>disease_pred</th>\n",
       "    </tr>\n",
       "    <tr>\n",
       "      <th>cellID</th>\n",
       "      <th></th>\n",
       "      <th></th>\n",
       "      <th></th>\n",
       "      <th></th>\n",
       "      <th></th>\n",
       "      <th></th>\n",
       "      <th></th>\n",
       "      <th></th>\n",
       "      <th></th>\n",
       "      <th></th>\n",
       "      <th></th>\n",
       "    </tr>\n",
       "  </thead>\n",
       "  <tbody>\n",
       "    <tr>\n",
       "      <th>SCGT00val_L006_I036016_T0_AAACCCAAGACAACTA</th>\n",
       "      <td>SCGT00val</td>\n",
       "      <td>SCGT00val_L006</td>\n",
       "      <td>SCGT00val_I036016_T0</td>\n",
       "      <td>3_GEX_V3</td>\n",
       "      <td>3_GEX_V3_GenoHashed</td>\n",
       "      <td>RA</td>\n",
       "      <td>female</td>\n",
       "      <td>31-40</td>\n",
       "      <td>4.646586</td>\n",
       "      <td>T_CD4_Naive</td>\n",
       "      <td>HIV</td>\n",
       "    </tr>\n",
       "    <tr>\n",
       "      <th>SCGT00val_L006_I036023_T0_AAACCCAAGACGGAAA</th>\n",
       "      <td>SCGT00val</td>\n",
       "      <td>SCGT00val_L006</td>\n",
       "      <td>SCGT00val_I036023_T0</td>\n",
       "      <td>3_GEX_V3</td>\n",
       "      <td>3_GEX_V3_GenoHashed</td>\n",
       "      <td>RA</td>\n",
       "      <td>female</td>\n",
       "      <td>51-60</td>\n",
       "      <td>6.265153</td>\n",
       "      <td>T_CD4_NonNaive</td>\n",
       "      <td>RA</td>\n",
       "    </tr>\n",
       "    <tr>\n",
       "      <th>SCGT00val_L006_I036016_T0_AAACCCAAGAGCATTA</th>\n",
       "      <td>SCGT00val</td>\n",
       "      <td>SCGT00val_L006</td>\n",
       "      <td>SCGT00val_I036016_T0</td>\n",
       "      <td>3_GEX_V3</td>\n",
       "      <td>3_GEX_V3_GenoHashed</td>\n",
       "      <td>RA</td>\n",
       "      <td>female</td>\n",
       "      <td>31-40</td>\n",
       "      <td>4.735890</td>\n",
       "      <td>T_CD4_Naive</td>\n",
       "      <td>PS</td>\n",
       "    </tr>\n",
       "    <tr>\n",
       "      <th>SCGT00val_L006_I036021_T0_AAACCCAAGATGGTCG</th>\n",
       "      <td>SCGT00val</td>\n",
       "      <td>SCGT00val_L006</td>\n",
       "      <td>SCGT00val_I036021_T0</td>\n",
       "      <td>3_GEX_V3</td>\n",
       "      <td>3_GEX_V3_GenoHashed</td>\n",
       "      <td>RA</td>\n",
       "      <td>female</td>\n",
       "      <td>61-70</td>\n",
       "      <td>6.743922</td>\n",
       "      <td>T_CD8_NonNaive</td>\n",
       "      <td>SLE</td>\n",
       "    </tr>\n",
       "    <tr>\n",
       "      <th>SCGT00val_L006_I036021_T0_AAACCCAAGCAACAAT</th>\n",
       "      <td>SCGT00val</td>\n",
       "      <td>SCGT00val_L006</td>\n",
       "      <td>SCGT00val_I036021_T0</td>\n",
       "      <td>3_GEX_V3</td>\n",
       "      <td>3_GEX_V3_GenoHashed</td>\n",
       "      <td>RA</td>\n",
       "      <td>female</td>\n",
       "      <td>61-70</td>\n",
       "      <td>14.326670</td>\n",
       "      <td>DC</td>\n",
       "      <td>PS</td>\n",
       "    </tr>\n",
       "    <tr>\n",
       "      <th>...</th>\n",
       "      <td>...</td>\n",
       "      <td>...</td>\n",
       "      <td>...</td>\n",
       "      <td>...</td>\n",
       "      <td>...</td>\n",
       "      <td>...</td>\n",
       "      <td>...</td>\n",
       "      <td>...</td>\n",
       "      <td>...</td>\n",
       "      <td>...</td>\n",
       "      <td>...</td>\n",
       "    </tr>\n",
       "    <tr>\n",
       "      <th>10XGenomics_L008_10XHC8_T0_TTTGTCATCCACGTTC</th>\n",
       "      <td>10XGenomics</td>\n",
       "      <td>10XGenomics_L008</td>\n",
       "      <td>10XGenomics_10XHC8_T0</td>\n",
       "      <td>5_GEX_V2</td>\n",
       "      <td>5_GEX_V2</td>\n",
       "      <td>healthy</td>\n",
       "      <td>na</td>\n",
       "      <td>NaN</td>\n",
       "      <td>5.402700</td>\n",
       "      <td>B</td>\n",
       "      <td>healthy</td>\n",
       "    </tr>\n",
       "    <tr>\n",
       "      <th>10XGenomics_L008_10XHC8_T0_TTTGTCATCCCGACTT</th>\n",
       "      <td>10XGenomics</td>\n",
       "      <td>10XGenomics_L008</td>\n",
       "      <td>10XGenomics_10XHC8_T0</td>\n",
       "      <td>5_GEX_V2</td>\n",
       "      <td>5_GEX_V2</td>\n",
       "      <td>healthy</td>\n",
       "      <td>na</td>\n",
       "      <td>NaN</td>\n",
       "      <td>4.523652</td>\n",
       "      <td>T_CD4_Naive</td>\n",
       "      <td>healthy</td>\n",
       "    </tr>\n",
       "    <tr>\n",
       "      <th>10XGenomics_L008_10XHC8_T0_TTTGTCATCGTGGGAA</th>\n",
       "      <td>10XGenomics</td>\n",
       "      <td>10XGenomics_L008</td>\n",
       "      <td>10XGenomics_10XHC8_T0</td>\n",
       "      <td>5_GEX_V2</td>\n",
       "      <td>5_GEX_V2</td>\n",
       "      <td>healthy</td>\n",
       "      <td>na</td>\n",
       "      <td>NaN</td>\n",
       "      <td>6.334835</td>\n",
       "      <td>T_CD4_Naive</td>\n",
       "      <td>healthy</td>\n",
       "    </tr>\n",
       "    <tr>\n",
       "      <th>10XGenomics_L008_10XHC8_T0_TTTGTCATCTCAAACG</th>\n",
       "      <td>10XGenomics</td>\n",
       "      <td>10XGenomics_L008</td>\n",
       "      <td>10XGenomics_10XHC8_T0</td>\n",
       "      <td>5_GEX_V2</td>\n",
       "      <td>5_GEX_V2</td>\n",
       "      <td>healthy</td>\n",
       "      <td>na</td>\n",
       "      <td>NaN</td>\n",
       "      <td>5.587705</td>\n",
       "      <td>T_CD4_Naive</td>\n",
       "      <td>healthy</td>\n",
       "    </tr>\n",
       "    <tr>\n",
       "      <th>10XGenomics_L008_10XHC8_T0_TTTGTCATCTGTACGA</th>\n",
       "      <td>10XGenomics</td>\n",
       "      <td>10XGenomics_L008</td>\n",
       "      <td>10XGenomics_10XHC8_T0</td>\n",
       "      <td>5_GEX_V2</td>\n",
       "      <td>5_GEX_V2</td>\n",
       "      <td>healthy</td>\n",
       "      <td>na</td>\n",
       "      <td>NaN</td>\n",
       "      <td>6.102760</td>\n",
       "      <td>T_CD4_Naive</td>\n",
       "      <td>healthy</td>\n",
       "    </tr>\n",
       "  </tbody>\n",
       "</table>\n",
       "<p>572872 rows × 11 columns</p>\n",
       "</div>"
      ],
      "text/plain": [
       "                                                 studyID         libraryID  \\\n",
       "cellID                                                                       \n",
       "SCGT00val_L006_I036016_T0_AAACCCAAGACAACTA     SCGT00val    SCGT00val_L006   \n",
       "SCGT00val_L006_I036023_T0_AAACCCAAGACGGAAA     SCGT00val    SCGT00val_L006   \n",
       "SCGT00val_L006_I036016_T0_AAACCCAAGAGCATTA     SCGT00val    SCGT00val_L006   \n",
       "SCGT00val_L006_I036021_T0_AAACCCAAGATGGTCG     SCGT00val    SCGT00val_L006   \n",
       "SCGT00val_L006_I036021_T0_AAACCCAAGCAACAAT     SCGT00val    SCGT00val_L006   \n",
       "...                                                  ...               ...   \n",
       "10XGenomics_L008_10XHC8_T0_TTTGTCATCCACGTTC  10XGenomics  10XGenomics_L008   \n",
       "10XGenomics_L008_10XHC8_T0_TTTGTCATCCCGACTT  10XGenomics  10XGenomics_L008   \n",
       "10XGenomics_L008_10XHC8_T0_TTTGTCATCGTGGGAA  10XGenomics  10XGenomics_L008   \n",
       "10XGenomics_L008_10XHC8_T0_TTTGTCATCTCAAACG  10XGenomics  10XGenomics_L008   \n",
       "10XGenomics_L008_10XHC8_T0_TTTGTCATCTGTACGA  10XGenomics  10XGenomics_L008   \n",
       "\n",
       "                                                          sampleID chemistry  \\\n",
       "cellID                                                                         \n",
       "SCGT00val_L006_I036016_T0_AAACCCAAGACAACTA    SCGT00val_I036016_T0  3_GEX_V3   \n",
       "SCGT00val_L006_I036023_T0_AAACCCAAGACGGAAA    SCGT00val_I036023_T0  3_GEX_V3   \n",
       "SCGT00val_L006_I036016_T0_AAACCCAAGAGCATTA    SCGT00val_I036016_T0  3_GEX_V3   \n",
       "SCGT00val_L006_I036021_T0_AAACCCAAGATGGTCG    SCGT00val_I036021_T0  3_GEX_V3   \n",
       "SCGT00val_L006_I036021_T0_AAACCCAAGCAACAAT    SCGT00val_I036021_T0  3_GEX_V3   \n",
       "...                                                            ...       ...   \n",
       "10XGenomics_L008_10XHC8_T0_TTTGTCATCCACGTTC  10XGenomics_10XHC8_T0  5_GEX_V2   \n",
       "10XGenomics_L008_10XHC8_T0_TTTGTCATCCCGACTT  10XGenomics_10XHC8_T0  5_GEX_V2   \n",
       "10XGenomics_L008_10XHC8_T0_TTTGTCATCGTGGGAA  10XGenomics_10XHC8_T0  5_GEX_V2   \n",
       "10XGenomics_L008_10XHC8_T0_TTTGTCATCTCAAACG  10XGenomics_10XHC8_T0  5_GEX_V2   \n",
       "10XGenomics_L008_10XHC8_T0_TTTGTCATCTGTACGA  10XGenomics_10XHC8_T0  5_GEX_V2   \n",
       "\n",
       "                                                      technology disease_true  \\\n",
       "cellID                                                                          \n",
       "SCGT00val_L006_I036016_T0_AAACCCAAGACAACTA   3_GEX_V3_GenoHashed           RA   \n",
       "SCGT00val_L006_I036023_T0_AAACCCAAGACGGAAA   3_GEX_V3_GenoHashed           RA   \n",
       "SCGT00val_L006_I036016_T0_AAACCCAAGAGCATTA   3_GEX_V3_GenoHashed           RA   \n",
       "SCGT00val_L006_I036021_T0_AAACCCAAGATGGTCG   3_GEX_V3_GenoHashed           RA   \n",
       "SCGT00val_L006_I036021_T0_AAACCCAAGCAACAAT   3_GEX_V3_GenoHashed           RA   \n",
       "...                                                          ...          ...   \n",
       "10XGenomics_L008_10XHC8_T0_TTTGTCATCCACGTTC             5_GEX_V2      healthy   \n",
       "10XGenomics_L008_10XHC8_T0_TTTGTCATCCCGACTT             5_GEX_V2      healthy   \n",
       "10XGenomics_L008_10XHC8_T0_TTTGTCATCGTGGGAA             5_GEX_V2      healthy   \n",
       "10XGenomics_L008_10XHC8_T0_TTTGTCATCTCAAACG             5_GEX_V2      healthy   \n",
       "10XGenomics_L008_10XHC8_T0_TTTGTCATCTGTACGA             5_GEX_V2      healthy   \n",
       "\n",
       "                                                sex binned_age  \\\n",
       "cellID                                                           \n",
       "SCGT00val_L006_I036016_T0_AAACCCAAGACAACTA   female      31-40   \n",
       "SCGT00val_L006_I036023_T0_AAACCCAAGACGGAAA   female      51-60   \n",
       "SCGT00val_L006_I036016_T0_AAACCCAAGAGCATTA   female      31-40   \n",
       "SCGT00val_L006_I036021_T0_AAACCCAAGATGGTCG   female      61-70   \n",
       "SCGT00val_L006_I036021_T0_AAACCCAAGCAACAAT   female      61-70   \n",
       "...                                             ...        ...   \n",
       "10XGenomics_L008_10XHC8_T0_TTTGTCATCCACGTTC      na        NaN   \n",
       "10XGenomics_L008_10XHC8_T0_TTTGTCATCCCGACTT      na        NaN   \n",
       "10XGenomics_L008_10XHC8_T0_TTTGTCATCGTGGGAA      na        NaN   \n",
       "10XGenomics_L008_10XHC8_T0_TTTGTCATCTCAAACG      na        NaN   \n",
       "10XGenomics_L008_10XHC8_T0_TTTGTCATCTGTACGA      na        NaN   \n",
       "\n",
       "                                             symphony_per_cell_dist  \\\n",
       "cellID                                                                \n",
       "SCGT00val_L006_I036016_T0_AAACCCAAGACAACTA                 4.646586   \n",
       "SCGT00val_L006_I036023_T0_AAACCCAAGACGGAAA                 6.265153   \n",
       "SCGT00val_L006_I036016_T0_AAACCCAAGAGCATTA                 4.735890   \n",
       "SCGT00val_L006_I036021_T0_AAACCCAAGATGGTCG                 6.743922   \n",
       "SCGT00val_L006_I036021_T0_AAACCCAAGCAACAAT                14.326670   \n",
       "...                                                             ...   \n",
       "10XGenomics_L008_10XHC8_T0_TTTGTCATCCACGTTC                5.402700   \n",
       "10XGenomics_L008_10XHC8_T0_TTTGTCATCCCGACTT                4.523652   \n",
       "10XGenomics_L008_10XHC8_T0_TTTGTCATCGTGGGAA                6.334835   \n",
       "10XGenomics_L008_10XHC8_T0_TTTGTCATCTCAAACG                5.587705   \n",
       "10XGenomics_L008_10XHC8_T0_TTTGTCATCTGTACGA                6.102760   \n",
       "\n",
       "                                                     Level1 disease_pred  \n",
       "cellID                                                                    \n",
       "SCGT00val_L006_I036016_T0_AAACCCAAGACAACTA      T_CD4_Naive          HIV  \n",
       "SCGT00val_L006_I036023_T0_AAACCCAAGACGGAAA   T_CD4_NonNaive           RA  \n",
       "SCGT00val_L006_I036016_T0_AAACCCAAGAGCATTA      T_CD4_Naive           PS  \n",
       "SCGT00val_L006_I036021_T0_AAACCCAAGATGGTCG   T_CD8_NonNaive          SLE  \n",
       "SCGT00val_L006_I036021_T0_AAACCCAAGCAACAAT               DC           PS  \n",
       "...                                                     ...          ...  \n",
       "10XGenomics_L008_10XHC8_T0_TTTGTCATCCACGTTC               B      healthy  \n",
       "10XGenomics_L008_10XHC8_T0_TTTGTCATCCCGACTT     T_CD4_Naive      healthy  \n",
       "10XGenomics_L008_10XHC8_T0_TTTGTCATCGTGGGAA     T_CD4_Naive      healthy  \n",
       "10XGenomics_L008_10XHC8_T0_TTTGTCATCTCAAACG     T_CD4_Naive      healthy  \n",
       "10XGenomics_L008_10XHC8_T0_TTTGTCATCTGTACGA     T_CD4_Naive      healthy  \n",
       "\n",
       "[572872 rows x 11 columns]"
      ]
     },
     "execution_count": 19,
     "metadata": {},
     "output_type": "execute_result"
    }
   ],
   "source": [
    "adataQ.obs"
   ]
  },
  {
   "cell_type": "markdown",
   "id": "604b824a-321a-4ebe-802f-39ac50ec5238",
   "metadata": {
    "papermill": {
     "duration": 0.009694,
     "end_time": "2024-06-10T17:21:05.629074",
     "exception": false,
     "start_time": "2024-06-10T17:21:05.619380",
     "status": "completed"
    },
    "tags": []
   },
   "source": [
    "### Generating pseudobulk from latent space for Q dataset"
   ]
  },
  {
   "cell_type": "code",
   "execution_count": 20,
   "id": "995ab0a0-f978-4667-a85a-72b4757305c5",
   "metadata": {
    "execution": {
     "iopub.execute_input": "2024-06-10T17:21:05.649779Z",
     "iopub.status.busy": "2024-06-10T17:21:05.649430Z",
     "iopub.status.idle": "2024-06-10T17:21:05.867904Z",
     "shell.execute_reply": "2024-06-10T17:21:05.867383Z"
    },
    "papermill": {
     "duration": 0.229618,
     "end_time": "2024-06-10T17:21:05.868909",
     "exception": false,
     "start_time": "2024-06-10T17:21:05.639291",
     "status": "completed"
    },
    "tags": []
   },
   "outputs": [],
   "source": [
    "emb_pseudobulk_Q = aggregating_features(Z = adataQ.obsm['X_pca_harmony'], obsDF = adataQ.obs[['sampleID','Level1','disease_true']], mode = 'mean', obs_names_col=['sampleID','Level1'])"
   ]
  },
  {
   "cell_type": "code",
   "execution_count": 21,
   "id": "841534d1-d593-4372-b4d1-3133ae9180d8",
   "metadata": {
    "execution": {
     "iopub.execute_input": "2024-06-10T17:21:05.889928Z",
     "iopub.status.busy": "2024-06-10T17:21:05.889593Z",
     "iopub.status.idle": "2024-06-10T17:21:05.896222Z",
     "shell.execute_reply": "2024-06-10T17:21:05.895857Z"
    },
    "papermill": {
     "duration": 0.018085,
     "end_time": "2024-06-10T17:21:05.897130",
     "exception": false,
     "start_time": "2024-06-10T17:21:05.879045",
     "status": "completed"
    },
    "tags": []
   },
   "outputs": [
    {
     "data": {
      "text/html": [
       "<div>\n",
       "<style scoped>\n",
       "    .dataframe tbody tr th:only-of-type {\n",
       "        vertical-align: middle;\n",
       "    }\n",
       "\n",
       "    .dataframe tbody tr th {\n",
       "        vertical-align: top;\n",
       "    }\n",
       "\n",
       "    .dataframe thead th {\n",
       "        text-align: right;\n",
       "    }\n",
       "</style>\n",
       "<table border=\"1\" class=\"dataframe\">\n",
       "  <thead>\n",
       "    <tr style=\"text-align: right;\">\n",
       "      <th></th>\n",
       "      <th>sampleID</th>\n",
       "      <th>Level1</th>\n",
       "      <th>disease_true</th>\n",
       "      <th>n_observation</th>\n",
       "    </tr>\n",
       "  </thead>\n",
       "  <tbody>\n",
       "    <tr>\n",
       "      <th>10XGenomics_10XHC1_T0_B</th>\n",
       "      <td>10XGenomics_10XHC1_T0</td>\n",
       "      <td>B</td>\n",
       "      <td>healthy</td>\n",
       "      <td>977</td>\n",
       "    </tr>\n",
       "    <tr>\n",
       "      <th>10XGenomics_10XHC1_T0_Cycling_cells</th>\n",
       "      <td>10XGenomics_10XHC1_T0</td>\n",
       "      <td>Cycling_cells</td>\n",
       "      <td>healthy</td>\n",
       "      <td>21</td>\n",
       "    </tr>\n",
       "    <tr>\n",
       "      <th>10XGenomics_10XHC1_T0_DC</th>\n",
       "      <td>10XGenomics_10XHC1_T0</td>\n",
       "      <td>DC</td>\n",
       "      <td>healthy</td>\n",
       "      <td>130</td>\n",
       "    </tr>\n",
       "    <tr>\n",
       "      <th>10XGenomics_10XHC1_T0_ILC</th>\n",
       "      <td>10XGenomics_10XHC1_T0</td>\n",
       "      <td>ILC</td>\n",
       "      <td>healthy</td>\n",
       "      <td>315</td>\n",
       "    </tr>\n",
       "    <tr>\n",
       "      <th>10XGenomics_10XHC1_T0_Mono</th>\n",
       "      <td>10XGenomics_10XHC1_T0</td>\n",
       "      <td>Mono</td>\n",
       "      <td>healthy</td>\n",
       "      <td>1460</td>\n",
       "    </tr>\n",
       "    <tr>\n",
       "      <th>...</th>\n",
       "      <td>...</td>\n",
       "      <td>...</td>\n",
       "      <td>...</td>\n",
       "      <td>...</td>\n",
       "    </tr>\n",
       "    <tr>\n",
       "      <th>Savage2021_PIDB_T0_T_CD4_NonNaive</th>\n",
       "      <td>Savage2021_PIDB_T0</td>\n",
       "      <td>T_CD4_NonNaive</td>\n",
       "      <td>healthy</td>\n",
       "      <td>1682</td>\n",
       "    </tr>\n",
       "    <tr>\n",
       "      <th>Savage2021_PIDB_T0_T_CD8_Naive</th>\n",
       "      <td>Savage2021_PIDB_T0</td>\n",
       "      <td>T_CD8_Naive</td>\n",
       "      <td>healthy</td>\n",
       "      <td>395</td>\n",
       "    </tr>\n",
       "    <tr>\n",
       "      <th>Savage2021_PIDB_T0_T_CD8_NonNaive</th>\n",
       "      <td>Savage2021_PIDB_T0</td>\n",
       "      <td>T_CD8_NonNaive</td>\n",
       "      <td>healthy</td>\n",
       "      <td>2434</td>\n",
       "    </tr>\n",
       "    <tr>\n",
       "      <th>Savage2021_PIDB_T0_UTC</th>\n",
       "      <td>Savage2021_PIDB_T0</td>\n",
       "      <td>UTC</td>\n",
       "      <td>healthy</td>\n",
       "      <td>236</td>\n",
       "    </tr>\n",
       "    <tr>\n",
       "      <th>Savage2021_PIDB_T0_pDC</th>\n",
       "      <td>Savage2021_PIDB_T0</td>\n",
       "      <td>pDC</td>\n",
       "      <td>healthy</td>\n",
       "      <td>34</td>\n",
       "    </tr>\n",
       "  </tbody>\n",
       "</table>\n",
       "<p>1210 rows × 4 columns</p>\n",
       "</div>"
      ],
      "text/plain": [
       "                                                  sampleID          Level1  \\\n",
       "10XGenomics_10XHC1_T0_B              10XGenomics_10XHC1_T0               B   \n",
       "10XGenomics_10XHC1_T0_Cycling_cells  10XGenomics_10XHC1_T0   Cycling_cells   \n",
       "10XGenomics_10XHC1_T0_DC             10XGenomics_10XHC1_T0              DC   \n",
       "10XGenomics_10XHC1_T0_ILC            10XGenomics_10XHC1_T0             ILC   \n",
       "10XGenomics_10XHC1_T0_Mono           10XGenomics_10XHC1_T0            Mono   \n",
       "...                                                    ...             ...   \n",
       "Savage2021_PIDB_T0_T_CD4_NonNaive       Savage2021_PIDB_T0  T_CD4_NonNaive   \n",
       "Savage2021_PIDB_T0_T_CD8_Naive          Savage2021_PIDB_T0     T_CD8_Naive   \n",
       "Savage2021_PIDB_T0_T_CD8_NonNaive       Savage2021_PIDB_T0  T_CD8_NonNaive   \n",
       "Savage2021_PIDB_T0_UTC                  Savage2021_PIDB_T0             UTC   \n",
       "Savage2021_PIDB_T0_pDC                  Savage2021_PIDB_T0             pDC   \n",
       "\n",
       "                                    disease_true  n_observation  \n",
       "10XGenomics_10XHC1_T0_B                  healthy            977  \n",
       "10XGenomics_10XHC1_T0_Cycling_cells      healthy             21  \n",
       "10XGenomics_10XHC1_T0_DC                 healthy            130  \n",
       "10XGenomics_10XHC1_T0_ILC                healthy            315  \n",
       "10XGenomics_10XHC1_T0_Mono               healthy           1460  \n",
       "...                                          ...            ...  \n",
       "Savage2021_PIDB_T0_T_CD4_NonNaive        healthy           1682  \n",
       "Savage2021_PIDB_T0_T_CD8_Naive           healthy            395  \n",
       "Savage2021_PIDB_T0_T_CD8_NonNaive        healthy           2434  \n",
       "Savage2021_PIDB_T0_UTC                   healthy            236  \n",
       "Savage2021_PIDB_T0_pDC                   healthy             34  \n",
       "\n",
       "[1210 rows x 4 columns]"
      ]
     },
     "execution_count": 21,
     "metadata": {},
     "output_type": "execute_result"
    }
   ],
   "source": [
    "emb_pseudobulk_Q.obs"
   ]
  },
  {
   "cell_type": "markdown",
   "id": "a43a1514-ec0f-4b9e-ac54-a48dbabc0fff",
   "metadata": {
    "execution": {
     "iopub.execute_input": "2024-06-07T16:00:22.779422Z",
     "iopub.status.busy": "2024-06-07T16:00:22.778939Z",
     "iopub.status.idle": "2024-06-07T16:00:22.782415Z",
     "shell.execute_reply": "2024-06-07T16:00:22.781982Z",
     "shell.execute_reply.started": "2024-06-07T16:00:22.779405Z"
    },
    "papermill": {
     "duration": 0.010147,
     "end_time": "2024-06-10T17:21:05.917681",
     "exception": false,
     "start_time": "2024-06-10T17:21:05.907534",
     "status": "completed"
    },
    "tags": []
   },
   "source": [
    "**Loading training pseudobulk**"
   ]
  },
  {
   "cell_type": "code",
   "execution_count": 22,
   "id": "b759518f-cc41-406e-8919-c72d6a6925e6",
   "metadata": {
    "execution": {
     "iopub.execute_input": "2024-06-10T17:21:05.953638Z",
     "iopub.status.busy": "2024-06-10T17:21:05.953463Z",
     "iopub.status.idle": "2024-06-10T17:21:06.068785Z",
     "shell.execute_reply": "2024-06-10T17:21:06.068300Z"
    },
    "papermill": {
     "duration": 0.126803,
     "end_time": "2024-06-10T17:21:06.069730",
     "exception": false,
     "start_time": "2024-06-10T17:21:05.942927",
     "status": "completed"
    },
    "tags": []
   },
   "outputs": [],
   "source": [
    "emb_pseudobulk_train = sc.read_h5ad(here(f\"03_downstream_analysis/08_PatientClassifier/Harmony_Symphony/results/01_MAIN_HarmonyIntegrated_PSEUDOBULK_{nPC}nPC_Batch_{batchKeys}.h5ad\"))"
   ]
  },
  {
   "cell_type": "markdown",
   "id": "fa0cf8df-f0dd-449c-87c8-b9207e94207b",
   "metadata": {
    "papermill": {
     "duration": 0.010324,
     "end_time": "2024-06-10T17:21:06.090553",
     "exception": false,
     "start_time": "2024-06-10T17:21:06.080229",
     "status": "completed"
    },
    "tags": []
   },
   "source": [
    "#### Remove unwanted cell types"
   ]
  },
  {
   "cell_type": "code",
   "execution_count": 23,
   "id": "b477252c-4cdb-4f89-8ec2-1d3dbc4a7655",
   "metadata": {
    "execution": {
     "iopub.execute_input": "2024-06-10T17:21:06.111466Z",
     "iopub.status.busy": "2024-06-10T17:21:06.111111Z",
     "iopub.status.idle": "2024-06-10T17:21:06.115860Z",
     "shell.execute_reply": "2024-06-10T17:21:06.115477Z"
    },
    "papermill": {
     "duration": 0.016196,
     "end_time": "2024-06-10T17:21:06.116776",
     "exception": false,
     "start_time": "2024-06-10T17:21:06.100580",
     "status": "completed"
    },
    "tags": []
   },
   "outputs": [],
   "source": [
    "emb_pseudobulk_train = emb_pseudobulk_train[~emb_pseudobulk_train.obs.Level1.isin(['Cycling_cells','RBC','Progenitors','Platelets']),]"
   ]
  },
  {
   "cell_type": "code",
   "execution_count": 24,
   "id": "25ead359-02da-4eec-a2e8-040415f31ca8",
   "metadata": {
    "execution": {
     "iopub.execute_input": "2024-06-10T17:21:06.138156Z",
     "iopub.status.busy": "2024-06-10T17:21:06.137722Z",
     "iopub.status.idle": "2024-06-10T17:21:06.140762Z",
     "shell.execute_reply": "2024-06-10T17:21:06.140381Z"
    },
    "papermill": {
     "duration": 0.0148,
     "end_time": "2024-06-10T17:21:06.141678",
     "exception": false,
     "start_time": "2024-06-10T17:21:06.126878",
     "status": "completed"
    },
    "tags": []
   },
   "outputs": [],
   "source": [
    "emb_pseudobulk_Q = emb_pseudobulk_Q[~emb_pseudobulk_Q.obs.Level1.isin(['Cycling_cells','RBC','Progenitors','Platelets']),]"
   ]
  },
  {
   "cell_type": "markdown",
   "id": "4faaceec-8aac-4c89-ac43-9093c0fe7c16",
   "metadata": {
    "papermill": {
     "duration": 0.01024,
     "end_time": "2024-06-10T17:21:06.162056",
     "exception": false,
     "start_time": "2024-06-10T17:21:06.151816",
     "status": "completed"
    },
    "tags": []
   },
   "source": [
    "### Saving query dataset and pseudobulks"
   ]
  },
  {
   "cell_type": "code",
   "execution_count": 25,
   "id": "40487ef8-ad5d-4236-a652-2d90cf76c77b",
   "metadata": {
    "execution": {
     "iopub.execute_input": "2024-06-10T17:21:06.182606Z",
     "iopub.status.busy": "2024-06-10T17:21:06.182298Z",
     "iopub.status.idle": "2024-06-10T17:22:21.607577Z",
     "shell.execute_reply": "2024-06-10T17:22:21.606945Z"
    },
    "papermill": {
     "duration": 75.437093,
     "end_time": "2024-06-10T17:22:21.609069",
     "exception": false,
     "start_time": "2024-06-10T17:21:06.171976",
     "status": "completed"
    },
    "tags": []
   },
   "outputs": [],
   "source": [
    "adataQ.write(here(f\"03_downstream_analysis/08_PatientClassifier/Harmony_Symphony/results/02_{queryDataset}_SymphonyProjected_{nPC}nPC_Batch_{batchKeys}.h5ad\"), \n",
    "             compression='gzip')"
   ]
  },
  {
   "cell_type": "code",
   "execution_count": 26,
   "id": "052a1401-1f68-49ed-a900-dda39c09e68b",
   "metadata": {
    "execution": {
     "iopub.execute_input": "2024-06-10T17:22:21.631247Z",
     "iopub.status.busy": "2024-06-10T17:22:21.631025Z",
     "iopub.status.idle": "2024-06-10T17:22:21.663365Z",
     "shell.execute_reply": "2024-06-10T17:22:21.662986Z"
    },
    "papermill": {
     "duration": 0.044084,
     "end_time": "2024-06-10T17:22:21.664256",
     "exception": false,
     "start_time": "2024-06-10T17:22:21.620172",
     "status": "completed"
    },
    "tags": []
   },
   "outputs": [
    {
     "name": "stderr",
     "output_type": "stream",
     "text": [
      "/scratch_isilon/groups/singlecell/shared/conda_env/inflammation_atlas_R1/lib/python3.10/site-packages/anndata/_core/anndata.py:1301: ImplicitModificationWarning: Trying to modify attribute `.obs` of view, initializing view as actual.\n",
      "  df[key] = c\n",
      "/scratch_isilon/groups/singlecell/shared/conda_env/inflammation_atlas_R1/lib/python3.10/site-packages/anndata/_core/anndata.py:1301: ImplicitModificationWarning: Trying to modify attribute `.obs` of view, initializing view as actual.\n",
      "  df[key] = c\n",
      "/scratch_isilon/groups/singlecell/shared/conda_env/inflammation_atlas_R1/lib/python3.10/site-packages/anndata/_core/anndata.py:1301: ImplicitModificationWarning: Trying to modify attribute `.obs` of view, initializing view as actual.\n",
      "  df[key] = c\n"
     ]
    }
   ],
   "source": [
    "emb_pseudobulk_Q.write(here(f\"03_downstream_analysis/08_PatientClassifier/Harmony_Symphony/results/02_{queryDataset}_SymphonyProjected_PSEUDOBULK{nPC}nPC_Batch_{batchKeys}.h5ad\"), \n",
    "             compression='gzip')"
   ]
  },
  {
   "cell_type": "markdown",
   "id": "8226f8d2-30b5-41a4-8efd-943e08f2d048",
   "metadata": {
    "papermill": {
     "duration": 0.010226,
     "end_time": "2024-06-10T17:22:21.684642",
     "exception": false,
     "start_time": "2024-06-10T17:22:21.674416",
     "status": "completed"
    },
    "tags": []
   },
   "source": [
    "### Training linear classifiers"
   ]
  },
  {
   "cell_type": "code",
   "execution_count": 27,
   "id": "78479add-937b-433c-96fd-457e4f0d9cd5",
   "metadata": {
    "execution": {
     "iopub.execute_input": "2024-06-10T17:22:21.705754Z",
     "iopub.status.busy": "2024-06-10T17:22:21.705583Z",
     "iopub.status.idle": "2024-06-10T17:22:21.717008Z",
     "shell.execute_reply": "2024-06-10T17:22:21.716633Z"
    },
    "papermill": {
     "duration": 0.023116,
     "end_time": "2024-06-10T17:22:21.717937",
     "exception": false,
     "start_time": "2024-06-10T17:22:21.694821",
     "status": "completed"
    },
    "tags": []
   },
   "outputs": [],
   "source": [
    "def train_classifier(adataTrain = None, cell_type_col = None, y_true_col = None, max_iter=10000,random_state = 25, model = 'LinearSVC', kargs_model = None):\n",
    "    \n",
    "    import pandas as pd\n",
    "    from tqdm import tqdm\n",
    "    from sklearn.svm import LinearSVC, SVC\n",
    "    from sklearn.neighbors import KNeighborsClassifier\n",
    "\n",
    "    from sklearn.metrics import balanced_accuracy_score\n",
    "    \n",
    "    clfList = dict()\n",
    "    trainAccuracy = []\n",
    "    for ct_ in tqdm(adataTrain.obs[cell_type_col].unique()):\n",
    "        clfList[ct_] = dict()\n",
    "        X_i = adataTrain.X[adataTrain.obs[cell_type_col] == ct_]\n",
    "        y_true_i = adataTrain.obs[y_true_col][adataTrain.obs[cell_type_col] == ct_]\n",
    "\n",
    "        if model == 'LinearSVC':\n",
    "            clfList[ct_]['clf'] = LinearSVC(**kargs_model).fit(X_i, y_true_i) # max_iter=max_iter, dual = True, random_state = random_state\n",
    "        elif model == 'SVC':\n",
    "            clfList[ct_]['clf'] = SVC(**kargs_model).fit(X_i, y_true_i) # max_iter=max_iter, random_state = random_state\n",
    "        elif model == 'KNeighborsClassifier':\n",
    "            clfList[ct_]['clf'] = KNeighborsClassifier(**kargs_model).fit(X_i, y_true_i) # n_neighbors = 5, weights='distance', n_jobs = -1\n",
    "            \n",
    "            \n",
    "        clfList[ct_]['bAcc'] = balanced_accuracy_score(y_true = y_true_i, y_pred = clfList[ct_]['clf'].predict(X_i))\n",
    "        clfList[ct_]['nObs'] = len(y_true_i)\n",
    "\n",
    "    return clfList\n",
    "    \n",
    "def vote_disease(adataTest = None, clfList = None, cell_type_col = None, sample_id_col = None):\n",
    "\n",
    "    from tqdm import tqdm\n",
    "    import pandas as pd\n",
    "    \n",
    "    classificationDF = pd.DataFrame()\n",
    "    for ct_ in tqdm(adataTest.obs[cell_type_col].unique()):\n",
    "        X_i = adataTest.X[adataTest.obs[cell_type_col] == ct_]\n",
    "        PID_i = adataTest.obs[sample_id_col][adataTest.obs[cell_type_col] == ct_]\n",
    "        if ct_ not in clfList:\n",
    "            print(f\"{ct_} is missing in training set\")\n",
    "            continue\n",
    "        DF_i = pd.DataFrame.from_dict({\n",
    "            sample_id_col: PID_i,\n",
    "            f\"{ct_}_prediction\": clfList[ct_]['clf'].predict(X_i)\n",
    "        })\n",
    "        if classificationDF.shape[0] == 0:\n",
    "            classificationDF = DF_i\n",
    "        else:\n",
    "            classificationDF = classificationDF.merge(DF_i, how='outer', on = sample_id_col)\n",
    "    classificationDF['firstChoice'] = ''\n",
    "    classificationDF['firstChoice_perc'] = np.nan\n",
    "    classificationDF['secondChoice'] = ''\n",
    "    classificationDF['secondChoice_perc'] = np.nan\n",
    "    \n",
    "    for i in tqdm(range(classificationDF.shape[0])):\n",
    "        vote_i = classificationDF.loc[i,classificationDF.columns !=sample_id_col].value_counts()\n",
    "        vote_i /= (vote_i.sum() / 100)\n",
    "        res_i = vote_i.sort_values(ascending=False)\n",
    "        classificationDF.loc[i,'firstChoice'] = res_i.index[0]\n",
    "        classificationDF.loc[i,'firstChoice_perc'] = res_i.iloc[0]\n",
    "        if res_i.shape[0] > 1:\n",
    "            classificationDF.loc[i,'secondChoice'] = res_i.index[1]\n",
    "            classificationDF.loc[i,'secondChoice_perc'] = res_i.iloc[1]\n",
    "\n",
    "    return classificationDF\n",
    "    \n",
    "def aggregating_features(Z = None, obsDF = None, mode = 'mean', obs_names_col = []):\n",
    "    Zdf = pd.DataFrame(Z)\n",
    "    for c in obsDF.columns:\n",
    "        Zdf[c] = obsDF[c].tolist()\n",
    "    if mode in ['mean','avarage']:\n",
    "        Zaggr = Zdf.groupby(obsDF.columns.tolist(), observed = True).mean()\n",
    "    elif mode == 'sum':\n",
    "        Zaggr = Zdf.groupby(obsDF.columns.tolist(), observed = True).sum()\n",
    "    else:\n",
    "        raise ValueError(f\"mode {mode} not supported. Available mode are 'mean' or 'sum'\")\n",
    "\n",
    "    grpObs = pd.DataFrame(Zaggr.index.tolist(), columns=obsDF.columns.tolist())\n",
    "\n",
    "    if len(obs_names_col) == 0:\n",
    "        grpAdata  = sc.AnnData(X = np.array(Zaggr), obs = grpObs, )\n",
    "    elif all([c in obsDF.columns.tolist() for c in obs_names_col]):\n",
    "        grpObs.index = grpObs[obs_names_col].apply(lambda row: '_'.join(row.values.astype(str)), axis=1)\n",
    "        grpAdata  = sc.AnnData(X = np.array(Zaggr), obs = grpObs)\n",
    "    else:\n",
    "        raise ValueError(f\"Impossible to use {obs_names_col} as index. It's not present in obsDF\")\n",
    "    return grpAdata"
   ]
  },
  {
   "cell_type": "code",
   "execution_count": 28,
   "id": "b2f802a7-0a43-413b-8bee-03a900836009",
   "metadata": {
    "execution": {
     "iopub.execute_input": "2024-06-10T17:22:21.739051Z",
     "iopub.status.busy": "2024-06-10T17:22:21.738831Z",
     "iopub.status.idle": "2024-06-10T17:22:23.873469Z",
     "shell.execute_reply": "2024-06-10T17:22:23.872887Z"
    },
    "papermill": {
     "duration": 2.146431,
     "end_time": "2024-06-10T17:22:23.874484",
     "exception": false,
     "start_time": "2024-06-10T17:22:21.728053",
     "status": "completed"
    },
    "tags": []
   },
   "outputs": [
    {
     "name": "stderr",
     "output_type": "stream",
     "text": [
      "\r",
      "  0%|          | 0/11 [00:00<?, ?it/s]"
     ]
    },
    {
     "name": "stderr",
     "output_type": "stream",
     "text": [
      "\r",
      " 18%|█▊        | 2/11 [00:00<00:01,  7.19it/s]"
     ]
    },
    {
     "name": "stderr",
     "output_type": "stream",
     "text": [
      "\r",
      " 27%|██▋       | 3/11 [00:00<00:01,  6.32it/s]"
     ]
    },
    {
     "name": "stderr",
     "output_type": "stream",
     "text": [
      "\r",
      " 36%|███▋      | 4/11 [00:00<00:01,  5.39it/s]"
     ]
    },
    {
     "name": "stderr",
     "output_type": "stream",
     "text": [
      "\r",
      " 45%|████▌     | 5/11 [00:00<00:01,  4.79it/s]"
     ]
    },
    {
     "name": "stderr",
     "output_type": "stream",
     "text": [
      "\r",
      " 55%|█████▍    | 6/11 [00:01<00:01,  4.44it/s]"
     ]
    },
    {
     "name": "stderr",
     "output_type": "stream",
     "text": [
      "\r",
      " 64%|██████▎   | 7/11 [00:01<00:00,  4.35it/s]"
     ]
    },
    {
     "name": "stderr",
     "output_type": "stream",
     "text": [
      "\r",
      " 73%|███████▎  | 8/11 [00:01<00:00,  4.32it/s]"
     ]
    },
    {
     "name": "stderr",
     "output_type": "stream",
     "text": [
      "\r",
      " 82%|████████▏ | 9/11 [00:01<00:00,  4.74it/s]"
     ]
    },
    {
     "name": "stderr",
     "output_type": "stream",
     "text": [
      "\r",
      " 91%|█████████ | 10/11 [00:01<00:00,  5.42it/s]"
     ]
    },
    {
     "name": "stderr",
     "output_type": "stream",
     "text": [
      "\r",
      "100%|██████████| 11/11 [00:02<00:00,  5.90it/s]"
     ]
    },
    {
     "name": "stderr",
     "output_type": "stream",
     "text": [
      "\r",
      "100%|██████████| 11/11 [00:02<00:00,  5.22it/s]"
     ]
    },
    {
     "name": "stderr",
     "output_type": "stream",
     "text": [
      "\n"
     ]
    }
   ],
   "source": [
    "clfList = train_classifier(adataTrain = emb_pseudobulk_train, cell_type_col = 'Level1', y_true_col = 'disease', max_iter=-1, random_state = 25, model = 'KNeighborsClassifier', \n",
    "                           kargs_model={'n_neighbors':2, 'weights':'uniform', 'metric':'cosine','n_jobs':-1})"
   ]
  },
  {
   "cell_type": "code",
   "execution_count": 29,
   "id": "184e7805-037a-48ab-bdde-b80d084b46cd",
   "metadata": {
    "execution": {
     "iopub.execute_input": "2024-06-10T17:22:23.899878Z",
     "iopub.status.busy": "2024-06-10T17:22:23.899317Z",
     "iopub.status.idle": "2024-06-10T17:22:23.907282Z",
     "shell.execute_reply": "2024-06-10T17:22:23.906843Z"
    },
    "papermill": {
     "duration": 0.020525,
     "end_time": "2024-06-10T17:22:23.908204",
     "exception": false,
     "start_time": "2024-06-10T17:22:23.887679",
     "status": "completed"
    },
    "tags": []
   },
   "outputs": [
    {
     "data": {
      "text/plain": [
       "{'B': {'clf': KNeighborsClassifier(metric='cosine', n_jobs=-1, n_neighbors=2),\n",
       "  'bAcc': 0.8693252895768376,\n",
       "  'nObs': 814},\n",
       " 'DC': {'clf': KNeighborsClassifier(metric='cosine', n_jobs=-1, n_neighbors=2),\n",
       "  'bAcc': 0.8424103003436034,\n",
       "  'nObs': 801},\n",
       " 'ILC': {'clf': KNeighborsClassifier(metric='cosine', n_jobs=-1, n_neighbors=2),\n",
       "  'bAcc': 0.840509169810504,\n",
       "  'nObs': 817},\n",
       " 'Mono': {'clf': KNeighborsClassifier(metric='cosine', n_jobs=-1, n_neighbors=2),\n",
       "  'bAcc': 0.8466963712645701,\n",
       "  'nObs': 817},\n",
       " 'Plasma': {'clf': KNeighborsClassifier(metric='cosine', n_jobs=-1, n_neighbors=2),\n",
       "  'bAcc': 0.7983383904500665,\n",
       "  'nObs': 727},\n",
       " 'T_CD4_Naive': {'clf': KNeighborsClassifier(metric='cosine', n_jobs=-1, n_neighbors=2),\n",
       "  'bAcc': 0.8974200067736948,\n",
       "  'nObs': 814},\n",
       " 'T_CD4_NonNaive': {'clf': KNeighborsClassifier(metric='cosine', n_jobs=-1, n_neighbors=2),\n",
       "  'bAcc': 0.900335491533165,\n",
       "  'nObs': 816},\n",
       " 'T_CD8_Naive': {'clf': KNeighborsClassifier(metric='cosine', n_jobs=-1, n_neighbors=2),\n",
       "  'bAcc': 0.8895329484163804,\n",
       "  'nObs': 805},\n",
       " 'T_CD8_NonNaive': {'clf': KNeighborsClassifier(metric='cosine', n_jobs=-1, n_neighbors=2),\n",
       "  'bAcc': 0.8507360568350191,\n",
       "  'nObs': 817},\n",
       " 'UTC': {'clf': KNeighborsClassifier(metric='cosine', n_jobs=-1, n_neighbors=2),\n",
       "  'bAcc': 0.8441634668181021,\n",
       "  'nObs': 813},\n",
       " 'pDC': {'clf': KNeighborsClassifier(metric='cosine', n_jobs=-1, n_neighbors=2),\n",
       "  'bAcc': 0.8521157224143238,\n",
       "  'nObs': 775}}"
      ]
     },
     "execution_count": 29,
     "metadata": {},
     "output_type": "execute_result"
    }
   ],
   "source": [
    "clfList"
   ]
  },
  {
   "cell_type": "markdown",
   "id": "8140578c-927e-4a12-84c1-809c70d2387c",
   "metadata": {
    "papermill": {
     "duration": 0.011691,
     "end_time": "2024-06-10T17:22:23.931067",
     "exception": false,
     "start_time": "2024-06-10T17:22:23.919376",
     "status": "completed"
    },
    "tags": []
   },
   "source": [
    "### Predicting diseases"
   ]
  },
  {
   "cell_type": "code",
   "execution_count": 30,
   "id": "ba47d364-9407-4d4a-9a9c-a02d374a9932",
   "metadata": {
    "execution": {
     "iopub.execute_input": "2024-06-10T17:22:23.958858Z",
     "iopub.status.busy": "2024-06-10T17:22:23.958705Z",
     "iopub.status.idle": "2024-06-10T17:22:23.965806Z",
     "shell.execute_reply": "2024-06-10T17:22:23.965345Z"
    },
    "papermill": {
     "duration": 0.019698,
     "end_time": "2024-06-10T17:22:23.966710",
     "exception": false,
     "start_time": "2024-06-10T17:22:23.947012",
     "status": "completed"
    },
    "tags": []
   },
   "outputs": [
    {
     "data": {
      "text/html": [
       "<div>\n",
       "<style scoped>\n",
       "    .dataframe tbody tr th:only-of-type {\n",
       "        vertical-align: middle;\n",
       "    }\n",
       "\n",
       "    .dataframe tbody tr th {\n",
       "        vertical-align: top;\n",
       "    }\n",
       "\n",
       "    .dataframe thead th {\n",
       "        text-align: right;\n",
       "    }\n",
       "</style>\n",
       "<table border=\"1\" class=\"dataframe\">\n",
       "  <thead>\n",
       "    <tr style=\"text-align: right;\">\n",
       "      <th></th>\n",
       "      <th>sampleID</th>\n",
       "      <th>Level1</th>\n",
       "      <th>disease_true</th>\n",
       "      <th>n_observation</th>\n",
       "    </tr>\n",
       "  </thead>\n",
       "  <tbody>\n",
       "    <tr>\n",
       "      <th>10XGenomics_10XHC1_T0_B</th>\n",
       "      <td>10XGenomics_10XHC1_T0</td>\n",
       "      <td>B</td>\n",
       "      <td>healthy</td>\n",
       "      <td>977</td>\n",
       "    </tr>\n",
       "    <tr>\n",
       "      <th>10XGenomics_10XHC1_T0_DC</th>\n",
       "      <td>10XGenomics_10XHC1_T0</td>\n",
       "      <td>DC</td>\n",
       "      <td>healthy</td>\n",
       "      <td>130</td>\n",
       "    </tr>\n",
       "    <tr>\n",
       "      <th>10XGenomics_10XHC1_T0_ILC</th>\n",
       "      <td>10XGenomics_10XHC1_T0</td>\n",
       "      <td>ILC</td>\n",
       "      <td>healthy</td>\n",
       "      <td>315</td>\n",
       "    </tr>\n",
       "    <tr>\n",
       "      <th>10XGenomics_10XHC1_T0_Mono</th>\n",
       "      <td>10XGenomics_10XHC1_T0</td>\n",
       "      <td>Mono</td>\n",
       "      <td>healthy</td>\n",
       "      <td>1460</td>\n",
       "    </tr>\n",
       "    <tr>\n",
       "      <th>10XGenomics_10XHC1_T0_Plasma</th>\n",
       "      <td>10XGenomics_10XHC1_T0</td>\n",
       "      <td>Plasma</td>\n",
       "      <td>healthy</td>\n",
       "      <td>4</td>\n",
       "    </tr>\n",
       "    <tr>\n",
       "      <th>...</th>\n",
       "      <td>...</td>\n",
       "      <td>...</td>\n",
       "      <td>...</td>\n",
       "      <td>...</td>\n",
       "    </tr>\n",
       "    <tr>\n",
       "      <th>Savage2021_PIDB_T0_T_CD4_NonNaive</th>\n",
       "      <td>Savage2021_PIDB_T0</td>\n",
       "      <td>T_CD4_NonNaive</td>\n",
       "      <td>healthy</td>\n",
       "      <td>1682</td>\n",
       "    </tr>\n",
       "    <tr>\n",
       "      <th>Savage2021_PIDB_T0_T_CD8_Naive</th>\n",
       "      <td>Savage2021_PIDB_T0</td>\n",
       "      <td>T_CD8_Naive</td>\n",
       "      <td>healthy</td>\n",
       "      <td>395</td>\n",
       "    </tr>\n",
       "    <tr>\n",
       "      <th>Savage2021_PIDB_T0_T_CD8_NonNaive</th>\n",
       "      <td>Savage2021_PIDB_T0</td>\n",
       "      <td>T_CD8_NonNaive</td>\n",
       "      <td>healthy</td>\n",
       "      <td>2434</td>\n",
       "    </tr>\n",
       "    <tr>\n",
       "      <th>Savage2021_PIDB_T0_UTC</th>\n",
       "      <td>Savage2021_PIDB_T0</td>\n",
       "      <td>UTC</td>\n",
       "      <td>healthy</td>\n",
       "      <td>236</td>\n",
       "    </tr>\n",
       "    <tr>\n",
       "      <th>Savage2021_PIDB_T0_pDC</th>\n",
       "      <td>Savage2021_PIDB_T0</td>\n",
       "      <td>pDC</td>\n",
       "      <td>healthy</td>\n",
       "      <td>34</td>\n",
       "    </tr>\n",
       "  </tbody>\n",
       "</table>\n",
       "<p>930 rows × 4 columns</p>\n",
       "</div>"
      ],
      "text/plain": [
       "                                                sampleID          Level1  \\\n",
       "10XGenomics_10XHC1_T0_B            10XGenomics_10XHC1_T0               B   \n",
       "10XGenomics_10XHC1_T0_DC           10XGenomics_10XHC1_T0              DC   \n",
       "10XGenomics_10XHC1_T0_ILC          10XGenomics_10XHC1_T0             ILC   \n",
       "10XGenomics_10XHC1_T0_Mono         10XGenomics_10XHC1_T0            Mono   \n",
       "10XGenomics_10XHC1_T0_Plasma       10XGenomics_10XHC1_T0          Plasma   \n",
       "...                                                  ...             ...   \n",
       "Savage2021_PIDB_T0_T_CD4_NonNaive     Savage2021_PIDB_T0  T_CD4_NonNaive   \n",
       "Savage2021_PIDB_T0_T_CD8_Naive        Savage2021_PIDB_T0     T_CD8_Naive   \n",
       "Savage2021_PIDB_T0_T_CD8_NonNaive     Savage2021_PIDB_T0  T_CD8_NonNaive   \n",
       "Savage2021_PIDB_T0_UTC                Savage2021_PIDB_T0             UTC   \n",
       "Savage2021_PIDB_T0_pDC                Savage2021_PIDB_T0             pDC   \n",
       "\n",
       "                                  disease_true  n_observation  \n",
       "10XGenomics_10XHC1_T0_B                healthy            977  \n",
       "10XGenomics_10XHC1_T0_DC               healthy            130  \n",
       "10XGenomics_10XHC1_T0_ILC              healthy            315  \n",
       "10XGenomics_10XHC1_T0_Mono             healthy           1460  \n",
       "10XGenomics_10XHC1_T0_Plasma           healthy              4  \n",
       "...                                        ...            ...  \n",
       "Savage2021_PIDB_T0_T_CD4_NonNaive      healthy           1682  \n",
       "Savage2021_PIDB_T0_T_CD8_Naive         healthy            395  \n",
       "Savage2021_PIDB_T0_T_CD8_NonNaive      healthy           2434  \n",
       "Savage2021_PIDB_T0_UTC                 healthy            236  \n",
       "Savage2021_PIDB_T0_pDC                 healthy             34  \n",
       "\n",
       "[930 rows x 4 columns]"
      ]
     },
     "execution_count": 30,
     "metadata": {},
     "output_type": "execute_result"
    }
   ],
   "source": [
    "emb_pseudobulk_Q.obs"
   ]
  },
  {
   "cell_type": "code",
   "execution_count": 31,
   "id": "39befc29-3613-4abc-adeb-bfee66e08dea",
   "metadata": {
    "execution": {
     "iopub.execute_input": "2024-06-10T17:22:23.990460Z",
     "iopub.status.busy": "2024-06-10T17:22:23.989982Z",
     "iopub.status.idle": "2024-06-10T17:22:24.344277Z",
     "shell.execute_reply": "2024-06-10T17:22:24.343693Z"
    },
    "papermill": {
     "duration": 0.367145,
     "end_time": "2024-06-10T17:22:24.345262",
     "exception": false,
     "start_time": "2024-06-10T17:22:23.978117",
     "status": "completed"
    },
    "tags": []
   },
   "outputs": [
    {
     "name": "stderr",
     "output_type": "stream",
     "text": [
      "\r",
      "  0%|          | 0/11 [00:00<?, ?it/s]"
     ]
    },
    {
     "name": "stderr",
     "output_type": "stream",
     "text": [
      "\r",
      " 45%|████▌     | 5/11 [00:00<00:00, 43.35it/s]"
     ]
    },
    {
     "name": "stderr",
     "output_type": "stream",
     "text": [
      "\r",
      " 91%|█████████ | 10/11 [00:00<00:00, 43.17it/s]"
     ]
    },
    {
     "name": "stderr",
     "output_type": "stream",
     "text": [
      "\r",
      "100%|██████████| 11/11 [00:00<00:00, 43.14it/s]"
     ]
    },
    {
     "name": "stderr",
     "output_type": "stream",
     "text": [
      "\n"
     ]
    },
    {
     "name": "stderr",
     "output_type": "stream",
     "text": [
      "\r",
      "  0%|          | 0/86 [00:00<?, ?it/s]"
     ]
    },
    {
     "name": "stderr",
     "output_type": "stream",
     "text": [
      "\r",
      "100%|██████████| 86/86 [00:00<00:00, 931.73it/s]"
     ]
    },
    {
     "name": "stderr",
     "output_type": "stream",
     "text": [
      "\n"
     ]
    }
   ],
   "source": [
    "classificationDF = vote_disease(adataTest = emb_pseudobulk_Q, \n",
    "                                clfList = clfList, \n",
    "                                sample_id_col = 'sampleID',\n",
    "                                cell_type_col = 'Level1')\n"
   ]
  },
  {
   "cell_type": "code",
   "execution_count": 32,
   "id": "a731fec9-92f4-4b14-b374-ad2bec4d4f13",
   "metadata": {
    "execution": {
     "iopub.execute_input": "2024-06-10T17:22:24.369913Z",
     "iopub.status.busy": "2024-06-10T17:22:24.369740Z",
     "iopub.status.idle": "2024-06-10T17:22:24.375140Z",
     "shell.execute_reply": "2024-06-10T17:22:24.374684Z"
    },
    "papermill": {
     "duration": 0.018736,
     "end_time": "2024-06-10T17:22:24.376037",
     "exception": false,
     "start_time": "2024-06-10T17:22:24.357301",
     "status": "completed"
    },
    "tags": []
   },
   "outputs": [],
   "source": [
    "res = classificationDF.merge(emb_pseudobulk_Q.obs[['sampleID', 'disease_true']].drop_duplicates(), how = 'left', on = 'sampleID').set_index('sampleID')\n"
   ]
  },
  {
   "cell_type": "code",
   "execution_count": 33,
   "id": "00fff243-e3d9-436c-b369-b7d4d29a13bf",
   "metadata": {
    "execution": {
     "iopub.execute_input": "2024-06-10T17:22:24.400803Z",
     "iopub.status.busy": "2024-06-10T17:22:24.400312Z",
     "iopub.status.idle": "2024-06-10T17:22:24.405855Z",
     "shell.execute_reply": "2024-06-10T17:22:24.405399Z"
    },
    "papermill": {
     "duration": 0.018969,
     "end_time": "2024-06-10T17:22:24.406765",
     "exception": false,
     "start_time": "2024-06-10T17:22:24.387796",
     "status": "completed"
    },
    "tags": []
   },
   "outputs": [
    {
     "name": "stderr",
     "output_type": "stream",
     "text": [
      "/scratch_isilon/groups/singlecell/shared/conda_env/inflammation_atlas_R1/lib/python3.10/site-packages/sklearn/metrics/_classification.py:2458: UserWarning: y_pred contains classes not in y_true\n",
      "  warnings.warn(\"y_pred contains classes not in y_true\")\n"
     ]
    },
    {
     "data": {
      "text/plain": [
       "0.16253063725490197"
      ]
     },
     "execution_count": 33,
     "metadata": {},
     "output_type": "execute_result"
    }
   ],
   "source": [
    "balanced_accuracy_score(y_true = res.disease_true, y_pred=res.firstChoice)"
   ]
  },
  {
   "cell_type": "code",
   "execution_count": 34,
   "id": "54568ce9-5d5d-47e2-bc88-5a61eae513bc",
   "metadata": {
    "execution": {
     "iopub.execute_input": "2024-06-10T17:22:24.432882Z",
     "iopub.status.busy": "2024-06-10T17:22:24.432473Z",
     "iopub.status.idle": "2024-06-10T17:22:24.443919Z",
     "shell.execute_reply": "2024-06-10T17:22:24.443441Z"
    },
    "papermill": {
     "duration": 0.026239,
     "end_time": "2024-06-10T17:22:24.444885",
     "exception": false,
     "start_time": "2024-06-10T17:22:24.418646",
     "status": "completed"
    },
    "tags": []
   },
   "outputs": [
    {
     "data": {
      "text/html": [
       "<div>\n",
       "<style scoped>\n",
       "    .dataframe tbody tr th:only-of-type {\n",
       "        vertical-align: middle;\n",
       "    }\n",
       "\n",
       "    .dataframe tbody tr th {\n",
       "        vertical-align: top;\n",
       "    }\n",
       "\n",
       "    .dataframe thead th {\n",
       "        text-align: right;\n",
       "    }\n",
       "</style>\n",
       "<table border=\"1\" class=\"dataframe\">\n",
       "  <thead>\n",
       "    <tr style=\"text-align: right;\">\n",
       "      <th></th>\n",
       "      <th>B_prediction</th>\n",
       "      <th>DC_prediction</th>\n",
       "      <th>ILC_prediction</th>\n",
       "      <th>Mono_prediction</th>\n",
       "      <th>Plasma_prediction</th>\n",
       "      <th>T_CD4_Naive_prediction</th>\n",
       "      <th>T_CD4_NonNaive_prediction</th>\n",
       "      <th>T_CD8_Naive_prediction</th>\n",
       "      <th>T_CD8_NonNaive_prediction</th>\n",
       "      <th>UTC_prediction</th>\n",
       "      <th>pDC_prediction</th>\n",
       "      <th>firstChoice</th>\n",
       "      <th>firstChoice_perc</th>\n",
       "      <th>secondChoice</th>\n",
       "      <th>secondChoice_perc</th>\n",
       "      <th>disease_true</th>\n",
       "    </tr>\n",
       "    <tr>\n",
       "      <th>sampleID</th>\n",
       "      <th></th>\n",
       "      <th></th>\n",
       "      <th></th>\n",
       "      <th></th>\n",
       "      <th></th>\n",
       "      <th></th>\n",
       "      <th></th>\n",
       "      <th></th>\n",
       "      <th></th>\n",
       "      <th></th>\n",
       "      <th></th>\n",
       "      <th></th>\n",
       "      <th></th>\n",
       "      <th></th>\n",
       "      <th></th>\n",
       "      <th></th>\n",
       "    </tr>\n",
       "  </thead>\n",
       "  <tbody>\n",
       "    <tr>\n",
       "      <th>10XGenomics_10XHC1_T0</th>\n",
       "      <td>NPC</td>\n",
       "      <td>healthy</td>\n",
       "      <td>healthy</td>\n",
       "      <td>SLE</td>\n",
       "      <td>NPC</td>\n",
       "      <td>NPC</td>\n",
       "      <td>NPC</td>\n",
       "      <td>NPC</td>\n",
       "      <td>healthy</td>\n",
       "      <td>NPC</td>\n",
       "      <td>healthy</td>\n",
       "      <td>NPC</td>\n",
       "      <td>46.153846</td>\n",
       "      <td>healthy</td>\n",
       "      <td>30.769231</td>\n",
       "      <td>healthy</td>\n",
       "    </tr>\n",
       "    <tr>\n",
       "      <th>10XGenomics_10XHC2_T0</th>\n",
       "      <td>NPC</td>\n",
       "      <td>healthy</td>\n",
       "      <td>NPC</td>\n",
       "      <td>flu</td>\n",
       "      <td>COVID</td>\n",
       "      <td>NPC</td>\n",
       "      <td>NPC</td>\n",
       "      <td>NPC</td>\n",
       "      <td>healthy</td>\n",
       "      <td>NPC</td>\n",
       "      <td>healthy</td>\n",
       "      <td>NPC</td>\n",
       "      <td>46.153846</td>\n",
       "      <td>healthy</td>\n",
       "      <td>23.076923</td>\n",
       "      <td>healthy</td>\n",
       "    </tr>\n",
       "    <tr>\n",
       "      <th>10XGenomics_10XHC3_T0</th>\n",
       "      <td>NPC</td>\n",
       "      <td>healthy</td>\n",
       "      <td>healthy</td>\n",
       "      <td>HIV</td>\n",
       "      <td>SLE</td>\n",
       "      <td>NPC</td>\n",
       "      <td>NPC</td>\n",
       "      <td>healthy</td>\n",
       "      <td>healthy</td>\n",
       "      <td>NPC</td>\n",
       "      <td>healthy</td>\n",
       "      <td>healthy</td>\n",
       "      <td>38.461538</td>\n",
       "      <td>NPC</td>\n",
       "      <td>30.769231</td>\n",
       "      <td>healthy</td>\n",
       "    </tr>\n",
       "    <tr>\n",
       "      <th>10XGenomics_10XHC4_T0</th>\n",
       "      <td>SLE</td>\n",
       "      <td>COPD</td>\n",
       "      <td>COPD</td>\n",
       "      <td>SLE</td>\n",
       "      <td>SLE</td>\n",
       "      <td>healthy</td>\n",
       "      <td>healthy</td>\n",
       "      <td>healthy</td>\n",
       "      <td>NPC</td>\n",
       "      <td>NPC</td>\n",
       "      <td>healthy</td>\n",
       "      <td>healthy</td>\n",
       "      <td>30.769231</td>\n",
       "      <td>SLE</td>\n",
       "      <td>23.076923</td>\n",
       "      <td>healthy</td>\n",
       "    </tr>\n",
       "    <tr>\n",
       "      <th>10XGenomics_10XHC5_T0</th>\n",
       "      <td>healthy</td>\n",
       "      <td>COPD</td>\n",
       "      <td>COPD</td>\n",
       "      <td>SLE</td>\n",
       "      <td>SLE</td>\n",
       "      <td>healthy</td>\n",
       "      <td>healthy</td>\n",
       "      <td>healthy</td>\n",
       "      <td>healthy</td>\n",
       "      <td>healthy</td>\n",
       "      <td>healthy</td>\n",
       "      <td>healthy</td>\n",
       "      <td>53.846154</td>\n",
       "      <td>COPD</td>\n",
       "      <td>15.384615</td>\n",
       "      <td>healthy</td>\n",
       "    </tr>\n",
       "    <tr>\n",
       "      <th>...</th>\n",
       "      <td>...</td>\n",
       "      <td>...</td>\n",
       "      <td>...</td>\n",
       "      <td>...</td>\n",
       "      <td>...</td>\n",
       "      <td>...</td>\n",
       "      <td>...</td>\n",
       "      <td>...</td>\n",
       "      <td>...</td>\n",
       "      <td>...</td>\n",
       "      <td>...</td>\n",
       "      <td>...</td>\n",
       "      <td>...</td>\n",
       "      <td>...</td>\n",
       "      <td>...</td>\n",
       "      <td>...</td>\n",
       "    </tr>\n",
       "    <tr>\n",
       "      <th>Savage2021_BRISL5_T0</th>\n",
       "      <td>HNSCC</td>\n",
       "      <td>SLE</td>\n",
       "      <td>HNSCC</td>\n",
       "      <td>COVID</td>\n",
       "      <td>HNSCC</td>\n",
       "      <td>healthy</td>\n",
       "      <td>NPC</td>\n",
       "      <td>NPC</td>\n",
       "      <td>COVID</td>\n",
       "      <td>HNSCC</td>\n",
       "      <td>COVID</td>\n",
       "      <td>HNSCC</td>\n",
       "      <td>30.769231</td>\n",
       "      <td>COVID</td>\n",
       "      <td>23.076923</td>\n",
       "      <td>SLE</td>\n",
       "    </tr>\n",
       "    <tr>\n",
       "      <th>Savage2021_BRISL6_T0</th>\n",
       "      <td>HNSCC</td>\n",
       "      <td>flu</td>\n",
       "      <td>HNSCC</td>\n",
       "      <td>healthy</td>\n",
       "      <td>COVID</td>\n",
       "      <td>HNSCC</td>\n",
       "      <td>NPC</td>\n",
       "      <td>NPC</td>\n",
       "      <td>HNSCC</td>\n",
       "      <td>HNSCC</td>\n",
       "      <td>healthy</td>\n",
       "      <td>HNSCC</td>\n",
       "      <td>38.461538</td>\n",
       "      <td>healthy</td>\n",
       "      <td>15.384615</td>\n",
       "      <td>SLE</td>\n",
       "    </tr>\n",
       "    <tr>\n",
       "      <th>Savage2021_BRISL7_T0</th>\n",
       "      <td>HNSCC</td>\n",
       "      <td>HNSCC</td>\n",
       "      <td>COVID</td>\n",
       "      <td>HNSCC</td>\n",
       "      <td>COVID</td>\n",
       "      <td>NPC</td>\n",
       "      <td>NPC</td>\n",
       "      <td>NPC</td>\n",
       "      <td>COVID</td>\n",
       "      <td>NPC</td>\n",
       "      <td>HNSCC</td>\n",
       "      <td>HNSCC</td>\n",
       "      <td>30.769231</td>\n",
       "      <td>NPC</td>\n",
       "      <td>30.769231</td>\n",
       "      <td>SLE</td>\n",
       "    </tr>\n",
       "    <tr>\n",
       "      <th>Savage2021_PIDA_T0</th>\n",
       "      <td>HIV</td>\n",
       "      <td>healthy</td>\n",
       "      <td>COVID</td>\n",
       "      <td>healthy</td>\n",
       "      <td>HIV</td>\n",
       "      <td>healthy</td>\n",
       "      <td>NPC</td>\n",
       "      <td>HIV</td>\n",
       "      <td>healthy</td>\n",
       "      <td>NPC</td>\n",
       "      <td>RA</td>\n",
       "      <td>healthy</td>\n",
       "      <td>30.769231</td>\n",
       "      <td>HIV</td>\n",
       "      <td>23.076923</td>\n",
       "      <td>healthy</td>\n",
       "    </tr>\n",
       "    <tr>\n",
       "      <th>Savage2021_PIDB_T0</th>\n",
       "      <td>HIV</td>\n",
       "      <td>healthy</td>\n",
       "      <td>healthy</td>\n",
       "      <td>healthy</td>\n",
       "      <td>HIV</td>\n",
       "      <td>healthy</td>\n",
       "      <td>NPC</td>\n",
       "      <td>HIV</td>\n",
       "      <td>COVID</td>\n",
       "      <td>healthy</td>\n",
       "      <td>healthy</td>\n",
       "      <td>healthy</td>\n",
       "      <td>46.153846</td>\n",
       "      <td>HIV</td>\n",
       "      <td>23.076923</td>\n",
       "      <td>healthy</td>\n",
       "    </tr>\n",
       "  </tbody>\n",
       "</table>\n",
       "<p>86 rows × 16 columns</p>\n",
       "</div>"
      ],
      "text/plain": [
       "                      B_prediction DC_prediction ILC_prediction  \\\n",
       "sampleID                                                          \n",
       "10XGenomics_10XHC1_T0          NPC       healthy        healthy   \n",
       "10XGenomics_10XHC2_T0          NPC       healthy            NPC   \n",
       "10XGenomics_10XHC3_T0          NPC       healthy        healthy   \n",
       "10XGenomics_10XHC4_T0          SLE          COPD           COPD   \n",
       "10XGenomics_10XHC5_T0      healthy          COPD           COPD   \n",
       "...                            ...           ...            ...   \n",
       "Savage2021_BRISL5_T0         HNSCC           SLE          HNSCC   \n",
       "Savage2021_BRISL6_T0         HNSCC           flu          HNSCC   \n",
       "Savage2021_BRISL7_T0         HNSCC         HNSCC          COVID   \n",
       "Savage2021_PIDA_T0             HIV       healthy          COVID   \n",
       "Savage2021_PIDB_T0             HIV       healthy        healthy   \n",
       "\n",
       "                      Mono_prediction Plasma_prediction  \\\n",
       "sampleID                                                  \n",
       "10XGenomics_10XHC1_T0             SLE               NPC   \n",
       "10XGenomics_10XHC2_T0             flu             COVID   \n",
       "10XGenomics_10XHC3_T0             HIV               SLE   \n",
       "10XGenomics_10XHC4_T0             SLE               SLE   \n",
       "10XGenomics_10XHC5_T0             SLE               SLE   \n",
       "...                               ...               ...   \n",
       "Savage2021_BRISL5_T0            COVID             HNSCC   \n",
       "Savage2021_BRISL6_T0          healthy             COVID   \n",
       "Savage2021_BRISL7_T0            HNSCC             COVID   \n",
       "Savage2021_PIDA_T0            healthy               HIV   \n",
       "Savage2021_PIDB_T0            healthy               HIV   \n",
       "\n",
       "                      T_CD4_Naive_prediction T_CD4_NonNaive_prediction  \\\n",
       "sampleID                                                                 \n",
       "10XGenomics_10XHC1_T0                    NPC                       NPC   \n",
       "10XGenomics_10XHC2_T0                    NPC                       NPC   \n",
       "10XGenomics_10XHC3_T0                    NPC                       NPC   \n",
       "10XGenomics_10XHC4_T0                healthy                   healthy   \n",
       "10XGenomics_10XHC5_T0                healthy                   healthy   \n",
       "...                                      ...                       ...   \n",
       "Savage2021_BRISL5_T0                 healthy                       NPC   \n",
       "Savage2021_BRISL6_T0                   HNSCC                       NPC   \n",
       "Savage2021_BRISL7_T0                     NPC                       NPC   \n",
       "Savage2021_PIDA_T0                   healthy                       NPC   \n",
       "Savage2021_PIDB_T0                   healthy                       NPC   \n",
       "\n",
       "                      T_CD8_Naive_prediction T_CD8_NonNaive_prediction  \\\n",
       "sampleID                                                                 \n",
       "10XGenomics_10XHC1_T0                    NPC                   healthy   \n",
       "10XGenomics_10XHC2_T0                    NPC                   healthy   \n",
       "10XGenomics_10XHC3_T0                healthy                   healthy   \n",
       "10XGenomics_10XHC4_T0                healthy                       NPC   \n",
       "10XGenomics_10XHC5_T0                healthy                   healthy   \n",
       "...                                      ...                       ...   \n",
       "Savage2021_BRISL5_T0                     NPC                     COVID   \n",
       "Savage2021_BRISL6_T0                     NPC                     HNSCC   \n",
       "Savage2021_BRISL7_T0                     NPC                     COVID   \n",
       "Savage2021_PIDA_T0                       HIV                   healthy   \n",
       "Savage2021_PIDB_T0                       HIV                     COVID   \n",
       "\n",
       "                      UTC_prediction pDC_prediction firstChoice  \\\n",
       "sampleID                                                          \n",
       "10XGenomics_10XHC1_T0            NPC        healthy         NPC   \n",
       "10XGenomics_10XHC2_T0            NPC        healthy         NPC   \n",
       "10XGenomics_10XHC3_T0            NPC        healthy     healthy   \n",
       "10XGenomics_10XHC4_T0            NPC        healthy     healthy   \n",
       "10XGenomics_10XHC5_T0        healthy        healthy     healthy   \n",
       "...                              ...            ...         ...   \n",
       "Savage2021_BRISL5_T0           HNSCC          COVID       HNSCC   \n",
       "Savage2021_BRISL6_T0           HNSCC        healthy       HNSCC   \n",
       "Savage2021_BRISL7_T0             NPC          HNSCC       HNSCC   \n",
       "Savage2021_PIDA_T0               NPC             RA     healthy   \n",
       "Savage2021_PIDB_T0           healthy        healthy     healthy   \n",
       "\n",
       "                       firstChoice_perc secondChoice  secondChoice_perc  \\\n",
       "sampleID                                                                  \n",
       "10XGenomics_10XHC1_T0         46.153846      healthy          30.769231   \n",
       "10XGenomics_10XHC2_T0         46.153846      healthy          23.076923   \n",
       "10XGenomics_10XHC3_T0         38.461538          NPC          30.769231   \n",
       "10XGenomics_10XHC4_T0         30.769231          SLE          23.076923   \n",
       "10XGenomics_10XHC5_T0         53.846154         COPD          15.384615   \n",
       "...                                 ...          ...                ...   \n",
       "Savage2021_BRISL5_T0          30.769231        COVID          23.076923   \n",
       "Savage2021_BRISL6_T0          38.461538      healthy          15.384615   \n",
       "Savage2021_BRISL7_T0          30.769231          NPC          30.769231   \n",
       "Savage2021_PIDA_T0            30.769231          HIV          23.076923   \n",
       "Savage2021_PIDB_T0            46.153846          HIV          23.076923   \n",
       "\n",
       "                      disease_true  \n",
       "sampleID                            \n",
       "10XGenomics_10XHC1_T0      healthy  \n",
       "10XGenomics_10XHC2_T0      healthy  \n",
       "10XGenomics_10XHC3_T0      healthy  \n",
       "10XGenomics_10XHC4_T0      healthy  \n",
       "10XGenomics_10XHC5_T0      healthy  \n",
       "...                            ...  \n",
       "Savage2021_BRISL5_T0           SLE  \n",
       "Savage2021_BRISL6_T0           SLE  \n",
       "Savage2021_BRISL7_T0           SLE  \n",
       "Savage2021_PIDA_T0         healthy  \n",
       "Savage2021_PIDB_T0         healthy  \n",
       "\n",
       "[86 rows x 16 columns]"
      ]
     },
     "execution_count": 34,
     "metadata": {},
     "output_type": "execute_result"
    }
   ],
   "source": [
    "res"
   ]
  }
 ],
 "metadata": {
  "kernelspec": {
   "display_name": "Python 3 (ipykernel)",
   "language": "python",
   "name": "python3"
  },
  "language_info": {
   "codemirror_mode": {
    "name": "ipython",
    "version": 3
   },
   "file_extension": ".py",
   "mimetype": "text/x-python",
   "name": "python",
   "nbconvert_exporter": "python",
   "pygments_lexer": "ipython3",
   "version": "3.10.13"
  },
  "papermill": {
   "default_parameters": {},
   "duration": 2395.477219,
   "end_time": "2024-06-10T17:22:25.175795",
   "environment_variables": {},
   "exception": null,
   "input_path": "a02_queryDatasets_and_labelTransfer.ipynb",
   "output_path": "executed_notebooks/a02_queryDatasets_and_labelTransfer_EXTERNAL_nPC30_Batch_chemistry.ipynb",
   "parameters": {
    "batchKeys": "chemistry",
    "nPC": 30,
    "queryDataset": "EXTERNAL"
   },
   "start_time": "2024-06-10T16:42:29.698576",
   "version": "2.5.0"
  }
 },
 "nbformat": 4,
 "nbformat_minor": 5
}