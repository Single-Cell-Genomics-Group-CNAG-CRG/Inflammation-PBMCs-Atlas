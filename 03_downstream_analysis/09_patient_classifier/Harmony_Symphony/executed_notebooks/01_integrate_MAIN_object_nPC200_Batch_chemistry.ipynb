{
 "cells": [
  {
   "cell_type": "code",
   "execution_count": 1,
   "id": "b4e402a6",
   "metadata": {
    "execution": {
     "iopub.execute_input": "2024-06-11T16:33:11.802792Z",
     "iopub.status.busy": "2024-06-11T16:33:11.802378Z",
     "iopub.status.idle": "2024-06-11T16:33:11.808378Z",
     "shell.execute_reply": "2024-06-11T16:33:11.807880Z"
    },
    "papermill": {
     "duration": 0.014027,
     "end_time": "2024-06-11T16:33:11.809544",
     "exception": false,
     "start_time": "2024-06-11T16:33:11.795517",
     "status": "completed"
    },
    "tags": [
     "injected-parameters"
    ]
   },
   "outputs": [],
   "source": [
    "# Parameters\n",
    "nPC = 200\n",
    "batchKeys = \"chemistry\"\n"
   ]
  },
  {
   "cell_type": "raw",
   "id": "b23fce1d-13c4-425c-a8e2-2d213aecc270",
   "metadata": {
    "execution": {
     "iopub.execute_input": "2024-06-07T16:29:56.221480Z",
     "iopub.status.busy": "2024-06-07T16:29:56.221137Z",
     "iopub.status.idle": "2024-06-07T16:29:56.223682Z",
     "shell.execute_reply": "2024-06-07T16:29:56.223368Z",
     "shell.execute_reply.started": "2024-06-07T16:29:56.221460Z"
    },
    "papermill": {
     "duration": 0.004787,
     "end_time": "2024-06-11T16:33:11.819834",
     "exception": false,
     "start_time": "2024-06-11T16:33:11.815047",
     "status": "completed"
    },
    "tags": []
   },
   "source": [
    "nPC = 30\n",
    "batchKeys = 'chemistry'"
   ]
  },
  {
   "cell_type": "code",
   "execution_count": 2,
   "id": "c33b3da1-8c7c-405f-8cd8-0b4c41120385",
   "metadata": {
    "execution": {
     "iopub.execute_input": "2024-06-11T16:33:11.829953Z",
     "iopub.status.busy": "2024-06-11T16:33:11.829630Z",
     "iopub.status.idle": "2024-06-11T16:33:11.833096Z",
     "shell.execute_reply": "2024-06-11T16:33:11.832612Z"
    },
    "papermill": {
     "duration": 0.009453,
     "end_time": "2024-06-11T16:33:11.834058",
     "exception": false,
     "start_time": "2024-06-11T16:33:11.824605",
     "status": "completed"
    },
    "tags": []
   },
   "outputs": [
    {
     "name": "stdout",
     "output_type": "stream",
     "text": [
      "nPC = 200\n",
      "batchKeys = chemistry\n"
     ]
    }
   ],
   "source": [
    "for v in ['nPC','batchKeys']:\n",
    "    if v in locals() or v in globals():\n",
    "        print(f\"{v} = {eval(v)}\")\n",
    "    else:\n",
    "        raise Exception(f\"{v} not specified\")"
   ]
  },
  {
   "cell_type": "code",
   "execution_count": 3,
   "id": "efdb80f5-e899-4f33-bef2-150b34859a2d",
   "metadata": {
    "execution": {
     "iopub.execute_input": "2024-06-11T16:33:11.844197Z",
     "iopub.status.busy": "2024-06-11T16:33:11.843734Z",
     "iopub.status.idle": "2024-06-11T16:33:33.121287Z",
     "shell.execute_reply": "2024-06-11T16:33:33.120685Z"
    },
    "papermill": {
     "duration": 21.283916,
     "end_time": "2024-06-11T16:33:33.122478",
     "exception": false,
     "start_time": "2024-06-11T16:33:11.838562",
     "status": "completed"
    },
    "tags": []
   },
   "outputs": [],
   "source": [
    "import os\n",
    "\n",
    "import scanpy as sc\n",
    "import pandas as pd\n",
    "import numpy as np\n",
    "\n",
    "import symphonypy as sp\n",
    "\n",
    "from pyprojroot import here\n",
    "\n",
    "random_seed = 42"
   ]
  },
  {
   "cell_type": "markdown",
   "id": "43ddb5fd-a284-4b0e-998b-aa752ca4985a",
   "metadata": {
    "papermill": {
     "duration": 0.004669,
     "end_time": "2024-06-11T16:33:33.133508",
     "exception": false,
     "start_time": "2024-06-11T16:33:33.128839",
     "status": "completed"
    },
    "tags": []
   },
   "source": [
    "### Functions"
   ]
  },
  {
   "cell_type": "code",
   "execution_count": 4,
   "id": "68d2bba3-84fd-4fc4-83a3-b6acd682540b",
   "metadata": {
    "execution": {
     "iopub.execute_input": "2024-06-11T16:33:33.144395Z",
     "iopub.status.busy": "2024-06-11T16:33:33.143983Z",
     "iopub.status.idle": "2024-06-11T16:33:33.149557Z",
     "shell.execute_reply": "2024-06-11T16:33:33.149184Z"
    },
    "papermill": {
     "duration": 0.012078,
     "end_time": "2024-06-11T16:33:33.150505",
     "exception": false,
     "start_time": "2024-06-11T16:33:33.138427",
     "status": "completed"
    },
    "tags": []
   },
   "outputs": [],
   "source": [
    "def aggregating_features(Z = None, obsDF = None, mode = 'mean', obs_names_col = []):\n",
    "    Zdf = pd.DataFrame(Z)\n",
    "    for c in obsDF.columns:\n",
    "        Zdf[c] = obsDF[c].tolist()\n",
    "    if mode in ['mean','avarage']:\n",
    "        Zaggr = Zdf.groupby(obsDF.columns.tolist(), observed = True).mean()\n",
    "    elif mode == 'sum':\n",
    "        Zaggr = Zdf.groupby(obsDF.columns.tolist(), observed = True).sum()\n",
    "    else:\n",
    "        raise ValueError(f\"mode {mode} not supported. Available mode are 'mean' or 'sum'\")\n",
    "\n",
    "    grpObs = pd.DataFrame(Zaggr.index.tolist(), columns=obsDF.columns.tolist())\n",
    "\n",
    "    if len(obs_names_col) == 0:\n",
    "        grpAdata  = sc.AnnData(X = np.array(Zaggr), obs = grpObs, )\n",
    "    elif all([c in obsDF.columns.tolist() for c in obs_names_col]):\n",
    "        grpObs.index = grpObs[obs_names_col].apply(lambda row: '_'.join(row.values.astype(str)), axis=1)\n",
    "        grpAdata  = sc.AnnData(X = np.array(Zaggr), obs = grpObs)\n",
    "    else:\n",
    "        raise ValueError(f\"Impossible to use {obs_names_col} as index. It's not present in obsDF\")\n",
    "    return grpAdata"
   ]
  },
  {
   "cell_type": "markdown",
   "id": "bd323da1-8446-4ffc-91ac-c737ce081412",
   "metadata": {
    "papermill": {
     "duration": 0.004688,
     "end_time": "2024-06-11T16:33:33.159870",
     "exception": false,
     "start_time": "2024-06-11T16:33:33.155182",
     "status": "completed"
    },
    "tags": []
   },
   "source": [
    "### Parameters"
   ]
  },
  {
   "cell_type": "code",
   "execution_count": 5,
   "id": "3f81fe70-a960-401d-a05d-9d9199edd620",
   "metadata": {
    "execution": {
     "iopub.execute_input": "2024-06-11T16:33:33.170527Z",
     "iopub.status.busy": "2024-06-11T16:33:33.169984Z",
     "iopub.status.idle": "2024-06-11T16:33:33.175232Z",
     "shell.execute_reply": "2024-06-11T16:33:33.174872Z"
    },
    "papermill": {
     "duration": 0.01144,
     "end_time": "2024-06-11T16:33:33.176171",
     "exception": false,
     "start_time": "2024-06-11T16:33:33.164731",
     "status": "completed"
    },
    "tags": []
   },
   "outputs": [
    {
     "data": {
      "text/plain": [
       "['chemistry']"
      ]
     },
     "execution_count": 5,
     "metadata": {},
     "output_type": "execute_result"
    }
   ],
   "source": [
    "batch_key_ref = batchKeys.split(',')\n",
    "batch_key_ref"
   ]
  },
  {
   "cell_type": "markdown",
   "id": "008170b2-f7e2-4c59-b434-b682dacf1110",
   "metadata": {
    "papermill": {
     "duration": 0.010388,
     "end_time": "2024-06-11T16:33:33.191188",
     "exception": false,
     "start_time": "2024-06-11T16:33:33.180800",
     "status": "completed"
    },
    "tags": []
   },
   "source": [
    "### Loading reference data"
   ]
  },
  {
   "cell_type": "code",
   "execution_count": 6,
   "id": "8e361302-99f5-48fe-989b-f196e18ae0dd",
   "metadata": {
    "execution": {
     "iopub.execute_input": "2024-06-11T16:33:33.202786Z",
     "iopub.status.busy": "2024-06-11T16:33:33.202557Z",
     "iopub.status.idle": "2024-06-11T16:34:51.133040Z",
     "shell.execute_reply": "2024-06-11T16:34:51.132524Z"
    },
    "papermill": {
     "duration": 77.943634,
     "end_time": "2024-06-11T16:34:51.140539",
     "exception": false,
     "start_time": "2024-06-11T16:33:33.196905",
     "status": "completed"
    },
    "tags": []
   },
   "outputs": [
    {
     "data": {
      "text/plain": [
       "AnnData object with n_obs × n_vars = 4435922 × 8253\n",
       "    obs: 'studyID', 'libraryID', 'sampleID', 'chemistry', 'disease', 'sex', 'binned_age', 'Level1', 'Level2'\n",
       "    var: 'hgnc_id', 'symbol', 'locus_group', 'HUGO_status', 'highly_variable'"
      ]
     },
     "execution_count": 6,
     "metadata": {},
     "output_type": "execute_result"
    }
   ],
   "source": [
    "adataR = sc.read_h5ad(here('03_downstream_analysis/02_gene_universe_definition/results/04_MAIN_geneUniverse.h5ad'))\n",
    "adataR"
   ]
  },
  {
   "cell_type": "markdown",
   "id": "0be9f746-fd30-4f97-9ec7-1a1e1f831776",
   "metadata": {
    "papermill": {
     "duration": 0.005192,
     "end_time": "2024-06-11T16:34:51.150979",
     "exception": false,
     "start_time": "2024-06-11T16:34:51.145787",
     "status": "completed"
    },
    "tags": []
   },
   "source": [
    "### Preprocessing"
   ]
  },
  {
   "cell_type": "code",
   "execution_count": 7,
   "id": "db7e0e86-4cfc-44f7-a6f1-1fa3795ad5a3",
   "metadata": {
    "execution": {
     "iopub.execute_input": "2024-06-11T16:34:51.162143Z",
     "iopub.status.busy": "2024-06-11T16:34:51.161801Z",
     "iopub.status.idle": "2024-06-11T16:37:56.966426Z",
     "shell.execute_reply": "2024-06-11T16:37:56.965661Z"
    },
    "papermill": {
     "duration": 185.811898,
     "end_time": "2024-06-11T16:37:56.967922",
     "exception": false,
     "start_time": "2024-06-11T16:34:51.156024",
     "status": "completed"
    },
    "tags": []
   },
   "outputs": [],
   "source": [
    "sc.pp.normalize_total(adataR, target_sum=1e4)\n",
    "sc.pp.log1p(adataR)"
   ]
  },
  {
   "cell_type": "code",
   "execution_count": 8,
   "id": "74e00e88-f97f-457b-928e-ee7c2e91b64a",
   "metadata": {
    "execution": {
     "iopub.execute_input": "2024-06-11T16:37:56.981374Z",
     "iopub.status.busy": "2024-06-11T16:37:56.981124Z",
     "iopub.status.idle": "2024-06-11T16:40:20.634818Z",
     "shell.execute_reply": "2024-06-11T16:40:20.634126Z"
    },
    "papermill": {
     "duration": 143.661394,
     "end_time": "2024-06-11T16:40:20.636647",
     "exception": false,
     "start_time": "2024-06-11T16:37:56.975253",
     "status": "completed"
    },
    "tags": []
   },
   "outputs": [],
   "source": [
    "# We followed the tutorial from the python package (https://symphonypy.readthedocs.io/en/latest/usage.html)\n",
    "sc.pp.scale(adataR)"
   ]
  },
  {
   "cell_type": "code",
   "execution_count": 9,
   "id": "07fb0fc9-4a10-47fb-b4d6-3b7d66286cfd",
   "metadata": {
    "execution": {
     "iopub.execute_input": "2024-06-11T16:40:20.660170Z",
     "iopub.status.busy": "2024-06-11T16:40:20.659917Z",
     "iopub.status.idle": "2024-06-11T17:22:21.013657Z",
     "shell.execute_reply": "2024-06-11T17:22:21.012686Z"
    },
    "papermill": {
     "duration": 2520.362004,
     "end_time": "2024-06-11T17:22:21.015392",
     "exception": false,
     "start_time": "2024-06-11T16:40:20.653388",
     "status": "completed"
    },
    "tags": []
   },
   "outputs": [],
   "source": [
    "sc.pp.pca(adataR, \n",
    "          n_comps=nPC, \n",
    "          use_highly_variable = False,\n",
    "          zero_center=False)"
   ]
  },
  {
   "cell_type": "markdown",
   "id": "3109c878-d7d1-4372-9462-0ccdb78070dc",
   "metadata": {
    "papermill": {
     "duration": 0.005151,
     "end_time": "2024-06-11T17:22:21.029634",
     "exception": false,
     "start_time": "2024-06-11T17:22:21.024483",
     "status": "completed"
    },
    "tags": []
   },
   "source": [
    "### Integration with Harmony"
   ]
  },
  {
   "cell_type": "code",
   "execution_count": 10,
   "id": "d2e7eed3-c2e1-4031-a49f-89e32fe17130",
   "metadata": {
    "execution": {
     "iopub.execute_input": "2024-06-11T17:22:21.040789Z",
     "iopub.status.busy": "2024-06-11T17:22:21.040548Z",
     "iopub.status.idle": "2024-06-11T19:38:20.467795Z",
     "shell.execute_reply": "2024-06-11T19:38:20.467199Z"
    },
    "papermill": {
     "duration": 8159.434869,
     "end_time": "2024-06-11T19:38:20.469424",
     "exception": false,
     "start_time": "2024-06-11T17:22:21.034555",
     "status": "completed"
    },
    "tags": []
   },
   "outputs": [
    {
     "name": "stdout",
     "output_type": "stream",
     "text": [
      "Harmony integration with harmonypy is preforming.\n"
     ]
    },
    {
     "name": "stderr",
     "output_type": "stream",
     "text": [
      "2024-06-11 19:22:24,180 - harmonypy - INFO - Computing initial centroids with sklearn.KMeans...\n"
     ]
    },
    {
     "name": "stderr",
     "output_type": "stream",
     "text": [
      "2024-06-11 20:09:11,100 - harmonypy - INFO - sklearn.KMeans initialization complete.\n"
     ]
    },
    {
     "name": "stderr",
     "output_type": "stream",
     "text": [
      "2024-06-11 20:09:41,722 - harmonypy - INFO - Iteration 1 of 100\n"
     ]
    },
    {
     "name": "stderr",
     "output_type": "stream",
     "text": [
      "2024-06-11 20:39:12,643 - harmonypy - INFO - Iteration 2 of 100\n"
     ]
    },
    {
     "name": "stderr",
     "output_type": "stream",
     "text": [
      "2024-06-11 21:08:43,433 - harmonypy - INFO - Iteration 3 of 100\n"
     ]
    },
    {
     "name": "stderr",
     "output_type": "stream",
     "text": [
      "2024-06-11 21:38:17,734 - harmonypy - INFO - Converged after 3 iterations\n"
     ]
    }
   ],
   "source": [
    "sp.pp.harmony_integrate(adataR,\n",
    "                        key=batch_key_ref, \n",
    "                        verbose = True, \n",
    "                        random_seed=random_seed,  \n",
    "                        **{'max_iter_harmony':100}, # harmony_kwargs | should reach convergence before\n",
    "                       )"
   ]
  },
  {
   "cell_type": "markdown",
   "id": "293069e9-53ac-4a34-88ef-633da997798d",
   "metadata": {
    "papermill": {
     "duration": 0.005681,
     "end_time": "2024-06-11T19:38:20.483675",
     "exception": false,
     "start_time": "2024-06-11T19:38:20.477994",
     "status": "completed"
    },
    "tags": []
   },
   "source": [
    "### Save integrated object"
   ]
  },
  {
   "cell_type": "code",
   "execution_count": 11,
   "id": "8f1c2d07-2a4b-40c6-9d48-b3d55317870d",
   "metadata": {
    "execution": {
     "iopub.execute_input": "2024-06-11T19:38:20.495657Z",
     "iopub.status.busy": "2024-06-11T19:38:20.495475Z",
     "iopub.status.idle": "2024-06-11T20:03:09.016568Z",
     "shell.execute_reply": "2024-06-11T20:03:09.015800Z"
    },
    "papermill": {
     "duration": 1488.52915,
     "end_time": "2024-06-11T20:03:09.018220",
     "exception": false,
     "start_time": "2024-06-11T19:38:20.489070",
     "status": "completed"
    },
    "tags": []
   },
   "outputs": [],
   "source": [
    "adataR.write(here(f\"03_downstream_analysis/08_PatientClassifier/Harmony_Symphony/results/01_MAIN_HarmonyIntegrated_{nPC}nPC_Batch_{batchKeys}.h5ad\"), compression='gzip')"
   ]
  },
  {
   "cell_type": "markdown",
   "id": "42c514ee-62a5-4cb0-b43d-86160a5c2122",
   "metadata": {
    "papermill": {
     "duration": 0.005745,
     "end_time": "2024-06-11T20:03:09.031125",
     "exception": false,
     "start_time": "2024-06-11T20:03:09.025380",
     "status": "completed"
    },
    "tags": []
   },
   "source": [
    "### Generating pseudobulk from latent space"
   ]
  },
  {
   "cell_type": "code",
   "execution_count": 12,
   "id": "f912d9bd-bb82-489e-98a6-9da7523b7dc7",
   "metadata": {
    "execution": {
     "iopub.execute_input": "2024-06-11T20:03:09.043397Z",
     "iopub.status.busy": "2024-06-11T20:03:09.043211Z",
     "iopub.status.idle": "2024-06-11T20:03:12.893723Z",
     "shell.execute_reply": "2024-06-11T20:03:12.893050Z"
    },
    "papermill": {
     "duration": 3.858267,
     "end_time": "2024-06-11T20:03:12.894937",
     "exception": false,
     "start_time": "2024-06-11T20:03:09.036670",
     "status": "completed"
    },
    "tags": []
   },
   "outputs": [],
   "source": [
    "emb_pseudobulk_train = aggregating_features(Z = adataR.obsm['X_pca_harmony'], \n",
    "                                            obsDF = adataR.obs[['sampleID','Level1','disease']], \n",
    "                                            mode = 'mean', obs_names_col=['sampleID','Level1'])"
   ]
  },
  {
   "cell_type": "code",
   "execution_count": 13,
   "id": "773a8fd1-2390-4ea2-aa4d-bf1672a6c8a8",
   "metadata": {
    "execution": {
     "iopub.execute_input": "2024-06-11T20:03:12.908337Z",
     "iopub.status.busy": "2024-06-11T20:03:12.908149Z",
     "iopub.status.idle": "2024-06-11T20:03:13.254321Z",
     "shell.execute_reply": "2024-06-11T20:03:13.253803Z"
    },
    "papermill": {
     "duration": 0.354008,
     "end_time": "2024-06-11T20:03:13.255288",
     "exception": false,
     "start_time": "2024-06-11T20:03:12.901280",
     "status": "completed"
    },
    "tags": []
   },
   "outputs": [],
   "source": [
    "emb_pseudobulk_train.write(here(f\"03_downstream_analysis/08_PatientClassifier/Harmony_Symphony/results/01_MAIN_HarmonyIntegrated_PSEUDOBULK_{nPC}nPC_Batch_{batchKeys}.h5ad\"), compression='gzip')"
   ]
  },
  {
   "cell_type": "code",
   "execution_count": null,
   "id": "0f68f2f6-9481-44db-a620-9fada9576c4a",
   "metadata": {
    "papermill": {
     "duration": 0.00578,
     "end_time": "2024-06-11T20:03:13.266957",
     "exception": false,
     "start_time": "2024-06-11T20:03:13.261177",
     "status": "completed"
    },
    "tags": []
   },
   "outputs": [],
   "source": []
  }
 ],
 "metadata": {
  "kernelspec": {
   "display_name": "Python 3 (ipykernel)",
   "language": "python",
   "name": "python3"
  },
  "language_info": {
   "codemirror_mode": {
    "name": "ipython",
    "version": 3
   },
   "file_extension": ".py",
   "mimetype": "text/x-python",
   "name": "python",
   "nbconvert_exporter": "python",
   "pygments_lexer": "ipython3",
   "version": "3.10.13"
  },
  "papermill": {
   "default_parameters": {},
   "duration": 12606.991393,
   "end_time": "2024-06-11T20:03:14.299953",
   "environment_variables": {},
   "exception": null,
   "input_path": "a01_integrate_MAIN_object.ipynb",
   "output_path": "executed_notebooks/a01_integrate_MAIN_object_nPC200_Batch_chemistry.ipynb",
   "parameters": {
    "batchKeys": "chemistry",
    "nPC": 200
   },
   "start_time": "2024-06-11T16:33:07.308560",
   "version": "2.5.0"
  }
 },
 "nbformat": 4,
 "nbformat_minor": 5
}