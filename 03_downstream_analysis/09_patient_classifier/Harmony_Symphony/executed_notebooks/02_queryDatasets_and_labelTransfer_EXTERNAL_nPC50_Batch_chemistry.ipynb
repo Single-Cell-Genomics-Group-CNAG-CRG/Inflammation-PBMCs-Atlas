{
 "cells": [
  {
   "cell_type": "code",
   "execution_count": 1,
   "id": "7b432350",
   "metadata": {
    "execution": {
     "iopub.execute_input": "2024-06-19T08:31:03.016576Z",
     "iopub.status.busy": "2024-06-19T08:31:03.016175Z",
     "iopub.status.idle": "2024-06-19T08:31:03.022768Z",
     "shell.execute_reply": "2024-06-19T08:31:03.022257Z"
    },
    "papermill": {
     "duration": 0.284012,
     "end_time": "2024-06-19T08:31:03.023759",
     "exception": false,
     "start_time": "2024-06-19T08:31:02.739747",
     "status": "completed"
    },
    "tags": [
     "injected-parameters"
    ]
   },
   "outputs": [],
   "source": [
    "# Parameters\n",
    "nPC = 50\n",
    "batchKeys = \"chemistry\"\n",
    "queryDataset = \"EXTERNAL\"\n"
   ]
  },
  {
   "cell_type": "raw",
   "id": "2c824816-2fbb-43a3-9807-722d9facfef3",
   "metadata": {
    "execution": {
     "iopub.execute_input": "2024-06-11T07:53:10.263964Z",
     "iopub.status.busy": "2024-06-11T07:53:10.263681Z",
     "iopub.status.idle": "2024-06-11T07:53:10.269000Z",
     "shell.execute_reply": "2024-06-11T07:53:10.268634Z",
     "shell.execute_reply.started": "2024-06-11T07:53:10.263945Z"
    },
    "papermill": {
     "duration": 0.007468,
     "end_time": "2024-06-19T08:31:03.284951",
     "exception": false,
     "start_time": "2024-06-19T08:31:03.277483",
     "status": "completed"
    },
    "tags": []
   },
   "source": [
    "nPC = 100\n",
    "batchKeys = 'libraryID,chemistry,sex,binned_age'\n",
    "queryDataset = 'VALIDATION'"
   ]
  },
  {
   "cell_type": "code",
   "execution_count": 2,
   "id": "3044cc6c-ce26-4de6-8b7b-f8f9af090921",
   "metadata": {
    "execution": {
     "iopub.execute_input": "2024-06-19T08:31:03.301019Z",
     "iopub.status.busy": "2024-06-19T08:31:03.300696Z",
     "iopub.status.idle": "2024-06-19T08:31:03.304427Z",
     "shell.execute_reply": "2024-06-19T08:31:03.303909Z"
    },
    "papermill": {
     "duration": 0.012807,
     "end_time": "2024-06-19T08:31:03.305484",
     "exception": false,
     "start_time": "2024-06-19T08:31:03.292677",
     "status": "completed"
    },
    "tags": []
   },
   "outputs": [
    {
     "name": "stdout",
     "output_type": "stream",
     "text": [
      "nPC = 50\n",
      "batchKeys = chemistry\n",
      "queryDataset = EXTERNAL\n"
     ]
    }
   ],
   "source": [
    "for v in ['nPC','batchKeys', 'queryDataset']:\n",
    "    if v in locals() or v in globals():\n",
    "        print(f\"{v} = {eval(v)}\")\n",
    "    else:\n",
    "        raise Exception(f\"{v} not specified\")"
   ]
  },
  {
   "cell_type": "code",
   "execution_count": 3,
   "id": "a9a81822-a7c1-4b2c-9419-c1df388c8d1f",
   "metadata": {
    "execution": {
     "iopub.execute_input": "2024-06-19T08:31:03.321437Z",
     "iopub.status.busy": "2024-06-19T08:31:03.321231Z",
     "iopub.status.idle": "2024-06-19T08:31:05.325231Z",
     "shell.execute_reply": "2024-06-19T08:31:05.324582Z"
    },
    "papermill": {
     "duration": 2.01389,
     "end_time": "2024-06-19T08:31:05.326718",
     "exception": false,
     "start_time": "2024-06-19T08:31:03.312828",
     "status": "completed"
    },
    "tags": []
   },
   "outputs": [],
   "source": [
    "import os\n",
    "import sys\n",
    "\n",
    "import scanpy as sc\n",
    "import pandas as pd\n",
    "import numpy as np\n",
    "\n",
    "import symphonypy as sp\n",
    "\n",
    "from sklearn.metrics import balanced_accuracy_score\n",
    "\n",
    "from pyprojroot import here\n",
    "\n",
    "sys.path.insert(1, str(here('bin')))\n",
    "# Import custom functions\n",
    "from customPythonFunctions import aggregating_features, train_patient_classifier, vote_patient_disease\n",
    "\n",
    "random_seed = 42"
   ]
  },
  {
   "cell_type": "markdown",
   "id": "bd323da1-8446-4ffc-91ac-c737ce081412",
   "metadata": {
    "papermill": {
     "duration": 0.007404,
     "end_time": "2024-06-19T08:31:05.342454",
     "exception": false,
     "start_time": "2024-06-19T08:31:05.335050",
     "status": "completed"
    },
    "tags": []
   },
   "source": [
    "### Parameters"
   ]
  },
  {
   "cell_type": "code",
   "execution_count": 4,
   "id": "3f81fe70-a960-401d-a05d-9d9199edd620",
   "metadata": {
    "execution": {
     "iopub.execute_input": "2024-06-19T08:31:05.365685Z",
     "iopub.status.busy": "2024-06-19T08:31:05.365322Z",
     "iopub.status.idle": "2024-06-19T08:31:05.371800Z",
     "shell.execute_reply": "2024-06-19T08:31:05.371390Z"
    },
    "papermill": {
     "duration": 0.022836,
     "end_time": "2024-06-19T08:31:05.372713",
     "exception": false,
     "start_time": "2024-06-19T08:31:05.349877",
     "status": "completed"
    },
    "tags": []
   },
   "outputs": [
    {
     "data": {
      "text/plain": [
       "['chemistry']"
      ]
     },
     "execution_count": 4,
     "metadata": {},
     "output_type": "execute_result"
    }
   ],
   "source": [
    "batch_key_query = batchKeys.split(',')\n",
    "batch_key_query"
   ]
  },
  {
   "cell_type": "markdown",
   "id": "008170b2-f7e2-4c59-b434-b682dacf1110",
   "metadata": {
    "papermill": {
     "duration": 0.007676,
     "end_time": "2024-06-19T08:31:05.387903",
     "exception": false,
     "start_time": "2024-06-19T08:31:05.380227",
     "status": "completed"
    },
    "tags": []
   },
   "source": [
    "### Loading dataset"
   ]
  },
  {
   "cell_type": "markdown",
   "id": "c96cf9da-e2ed-4800-903c-316f4805e559",
   "metadata": {
    "papermill": {
     "duration": 0.007422,
     "end_time": "2024-06-19T08:31:05.403277",
     "exception": false,
     "start_time": "2024-06-19T08:31:05.395855",
     "status": "completed"
    },
    "tags": []
   },
   "source": [
    "**Integrated object**"
   ]
  },
  {
   "cell_type": "code",
   "execution_count": 5,
   "id": "8e361302-99f5-48fe-989b-f196e18ae0dd",
   "metadata": {
    "execution": {
     "iopub.execute_input": "2024-06-19T08:31:05.423608Z",
     "iopub.status.busy": "2024-06-19T08:31:05.423325Z",
     "iopub.status.idle": "2024-06-19T08:31:40.289091Z",
     "shell.execute_reply": "2024-06-19T08:31:40.288515Z"
    },
    "papermill": {
     "duration": 34.886926,
     "end_time": "2024-06-19T08:31:40.301353",
     "exception": false,
     "start_time": "2024-06-19T08:31:05.414427",
     "status": "completed"
    },
    "tags": []
   },
   "outputs": [
    {
     "data": {
      "text/plain": [
       "AnnData object with n_obs × n_vars = 4435922 × 8253 backed at '/scratch_isilon/groups/singlecell/shared/projects/Inflammation-PBMCs-Atlas/03_downstream_analysis/08_PatientClassifier/Harmony_Symphony/results/01_MAIN_HarmonyIntegrated_50nPC_Batch_chemistry.h5ad'\n",
       "    obs: 'studyID', 'libraryID', 'sampleID', 'chemistry', 'disease', 'sex', 'binned_age', 'Level1', 'Level2'\n",
       "    var: 'hgnc_id', 'symbol', 'locus_group', 'HUGO_status', 'highly_variable', 'mean', 'std'\n",
       "    uns: 'harmony', 'log1p', 'pca'\n",
       "    obsm: 'X_pca', 'X_pca_harmony'\n",
       "    varm: 'PCs'"
      ]
     },
     "execution_count": 5,
     "metadata": {},
     "output_type": "execute_result"
    }
   ],
   "source": [
    "adataR = sc.read_h5ad(here(f\"03_downstream_analysis/08_PatientClassifier/Harmony_Symphony/results/01_MAIN_HarmonyIntegrated_{nPC}nPC_Batch_{batchKeys}.h5ad\"), backed='r')\n",
    "adataR"
   ]
  },
  {
   "cell_type": "markdown",
   "id": "7a8289b7-ae48-40bd-a8bf-b8a61d6fea7c",
   "metadata": {
    "papermill": {
     "duration": 0.007647,
     "end_time": "2024-06-19T08:31:40.316935",
     "exception": false,
     "start_time": "2024-06-19T08:31:40.309288",
     "status": "completed"
    },
    "tags": []
   },
   "source": [
    "**Query dataset**"
   ]
  },
  {
   "cell_type": "code",
   "execution_count": 6,
   "id": "f8922a45-9d49-4b6e-be13-48cecafe227d",
   "metadata": {
    "execution": {
     "iopub.execute_input": "2024-06-19T08:31:40.333328Z",
     "iopub.status.busy": "2024-06-19T08:31:40.333126Z",
     "iopub.status.idle": "2024-06-19T08:31:50.433324Z",
     "shell.execute_reply": "2024-06-19T08:31:50.432849Z"
    },
    "papermill": {
     "duration": 10.109965,
     "end_time": "2024-06-19T08:31:50.434390",
     "exception": false,
     "start_time": "2024-06-19T08:31:40.324425",
     "status": "completed"
    },
    "tags": []
   },
   "outputs": [
    {
     "data": {
      "text/plain": [
       "AnnData object with n_obs × n_vars = 572872 × 8253\n",
       "    obs: 'studyID', 'libraryID', 'sampleID', 'chemistry', 'technology', 'disease', 'sex', 'binned_age'\n",
       "    var: 'hgnc_id', 'symbol', 'locus_group', 'HUGO_status'"
      ]
     },
     "execution_count": 6,
     "metadata": {},
     "output_type": "execute_result"
    }
   ],
   "source": [
    "adataQ = sc.read_h5ad(here(f'03_downstream_analysis/02_gene_universe_definition/results/05_{queryDataset}_geneUniverse.h5ad'))\n",
    "adataQ"
   ]
  },
  {
   "cell_type": "markdown",
   "id": "0be9f746-fd30-4f97-9ec7-1a1e1f831776",
   "metadata": {
    "papermill": {
     "duration": 0.007975,
     "end_time": "2024-06-19T08:31:50.451352",
     "exception": false,
     "start_time": "2024-06-19T08:31:50.443377",
     "status": "completed"
    },
    "tags": []
   },
   "source": [
    "### Preprocessing"
   ]
  },
  {
   "cell_type": "code",
   "execution_count": 7,
   "id": "db7e0e86-4cfc-44f7-a6f1-1fa3795ad5a3",
   "metadata": {
    "execution": {
     "iopub.execute_input": "2024-06-19T08:31:50.468619Z",
     "iopub.status.busy": "2024-06-19T08:31:50.468428Z",
     "iopub.status.idle": "2024-06-19T08:32:19.069321Z",
     "shell.execute_reply": "2024-06-19T08:32:19.068667Z"
    },
    "papermill": {
     "duration": 28.611777,
     "end_time": "2024-06-19T08:32:19.070924",
     "exception": false,
     "start_time": "2024-06-19T08:31:50.459147",
     "status": "completed"
    },
    "tags": []
   },
   "outputs": [],
   "source": [
    "sc.pp.normalize_total(adataQ, target_sum=1e4)\n",
    "sc.pp.log1p(adataQ)"
   ]
  },
  {
   "cell_type": "markdown",
   "id": "3109c878-d7d1-4372-9462-0ccdb78070dc",
   "metadata": {
    "papermill": {
     "duration": 0.008212,
     "end_time": "2024-06-19T08:32:19.090432",
     "exception": false,
     "start_time": "2024-06-19T08:32:19.082220",
     "status": "completed"
    },
    "tags": []
   },
   "source": [
    "### Projection with Symphony"
   ]
  },
  {
   "cell_type": "code",
   "execution_count": 8,
   "id": "d2e7eed3-c2e1-4031-a49f-89e32fe17130",
   "metadata": {
    "execution": {
     "iopub.execute_input": "2024-06-19T08:32:19.108140Z",
     "iopub.status.busy": "2024-06-19T08:32:19.107578Z",
     "iopub.status.idle": "2024-06-19T08:38:57.761113Z",
     "shell.execute_reply": "2024-06-19T08:38:57.752931Z"
    },
    "papermill": {
     "duration": 398.666822,
     "end_time": "2024-06-19T08:38:57.765865",
     "exception": false,
     "start_time": "2024-06-19T08:32:19.099043",
     "status": "completed"
    },
    "tags": []
   },
   "outputs": [],
   "source": [
    "sp.tl.map_embedding(adataQ, adataR, key=batch_key_query)"
   ]
  },
  {
   "cell_type": "raw",
   "id": "9205924b-4e03-45d1-92af-b95346636a03",
   "metadata": {
    "papermill": {
     "duration": 0.008643,
     "end_time": "2024-06-19T08:38:57.791468",
     "exception": false,
     "start_time": "2024-06-19T08:38:57.782825",
     "status": "completed"
    },
    "tags": []
   },
   "source": [
    "sp.tl.per_cell_confidence(adataQ, adataR)"
   ]
  },
  {
   "cell_type": "raw",
   "id": "46a6bb72-921f-4385-bac9-4c6b138b00f0",
   "metadata": {
    "papermill": {
     "duration": 0.008357,
     "end_time": "2024-06-19T08:38:57.807888",
     "exception": false,
     "start_time": "2024-06-19T08:38:57.799531",
     "status": "completed"
    },
    "tags": []
   },
   "source": [
    "adataQ.obs.symphony_per_cell_dist.hist(bins=100)"
   ]
  },
  {
   "cell_type": "code",
   "execution_count": 9,
   "id": "2ee17ce6-f8c5-4a1e-b93e-9fc70ab7edb9",
   "metadata": {
    "execution": {
     "iopub.execute_input": "2024-06-19T08:38:57.825644Z",
     "iopub.status.busy": "2024-06-19T08:38:57.825279Z",
     "iopub.status.idle": "2024-06-19T08:38:57.830565Z",
     "shell.execute_reply": "2024-06-19T08:38:57.830140Z"
    },
    "papermill": {
     "duration": 0.018138,
     "end_time": "2024-06-19T08:38:57.834214",
     "exception": false,
     "start_time": "2024-06-19T08:38:57.816076",
     "status": "completed"
    },
    "tags": []
   },
   "outputs": [
    {
     "data": {
      "text/plain": [
       "AnnData object with n_obs × n_vars = 572872 × 8253\n",
       "    obs: 'studyID', 'libraryID', 'sampleID', 'chemistry', 'technology', 'disease', 'sex', 'binned_age'\n",
       "    var: 'hgnc_id', 'symbol', 'locus_group', 'HUGO_status'\n",
       "    uns: 'log1p'\n",
       "    obsm: 'X_pca_reference', 'X_pca_harmony', 'X_pca_harmony_symphony_R'"
      ]
     },
     "execution_count": 9,
     "metadata": {},
     "output_type": "execute_result"
    }
   ],
   "source": [
    "adataQ"
   ]
  },
  {
   "cell_type": "markdown",
   "id": "51e25a69-c8f9-43c8-b50c-e2b4aa826a6b",
   "metadata": {
    "papermill": {
     "duration": 0.008403,
     "end_time": "2024-06-19T08:38:57.852017",
     "exception": false,
     "start_time": "2024-06-19T08:38:57.843614",
     "status": "completed"
    },
    "tags": []
   },
   "source": [
    "### Label transfer"
   ]
  },
  {
   "cell_type": "code",
   "execution_count": 10,
   "id": "81d61d37-fdfa-4071-aace-eff99e9d6787",
   "metadata": {
    "execution": {
     "iopub.execute_input": "2024-06-19T08:38:57.869611Z",
     "iopub.status.busy": "2024-06-19T08:38:57.869092Z",
     "iopub.status.idle": "2024-06-19T08:38:57.871642Z",
     "shell.execute_reply": "2024-06-19T08:38:57.871226Z"
    },
    "papermill": {
     "duration": 0.012535,
     "end_time": "2024-06-19T08:38:57.872610",
     "exception": false,
     "start_time": "2024-06-19T08:38:57.860075",
     "status": "completed"
    },
    "tags": []
   },
   "outputs": [],
   "source": [
    "# common embedded space -> adataQ.obsm['X_pca_harmony']"
   ]
  },
  {
   "cell_type": "markdown",
   "id": "9482b233-08d7-4ed8-ad0f-729f59e05024",
   "metadata": {
    "papermill": {
     "duration": 0.009004,
     "end_time": "2024-06-19T08:38:57.893834",
     "exception": false,
     "start_time": "2024-06-19T08:38:57.884830",
     "status": "completed"
    },
    "tags": []
   },
   "source": [
    "**Level1 Annotation**"
   ]
  },
  {
   "cell_type": "code",
   "execution_count": 11,
   "id": "1016b8d2-0480-409a-aac4-1e521a1397b0",
   "metadata": {
    "execution": {
     "iopub.execute_input": "2024-06-19T08:38:57.911909Z",
     "iopub.status.busy": "2024-06-19T08:38:57.911723Z",
     "iopub.status.idle": "2024-06-19T08:57:53.004097Z",
     "shell.execute_reply": "2024-06-19T08:57:53.003158Z"
    },
    "papermill": {
     "duration": 1135.103081,
     "end_time": "2024-06-19T08:57:53.005765",
     "exception": false,
     "start_time": "2024-06-19T08:38:57.902684",
     "status": "completed"
    },
    "tags": []
   },
   "outputs": [],
   "source": [
    "sp.tl.transfer_labels_kNN(adataQ, adataR, 'Level1', ref_basis = 'X_pca_harmony', query_basis = 'X_pca_harmony')"
   ]
  },
  {
   "cell_type": "markdown",
   "id": "69eb76ae-aa03-4807-b680-a7423fb55458",
   "metadata": {
    "papermill": {
     "duration": 0.008364,
     "end_time": "2024-06-19T08:57:53.027511",
     "exception": false,
     "start_time": "2024-06-19T08:57:53.019147",
     "status": "completed"
    },
    "tags": []
   },
   "source": [
    "**Disease**"
   ]
  },
  {
   "cell_type": "code",
   "execution_count": 12,
   "id": "20429eca-9c43-4db8-b1da-94434c4c99c2",
   "metadata": {
    "execution": {
     "iopub.execute_input": "2024-06-19T08:57:53.045753Z",
     "iopub.status.busy": "2024-06-19T08:57:53.045477Z",
     "iopub.status.idle": "2024-06-19T08:57:53.049821Z",
     "shell.execute_reply": "2024-06-19T08:57:53.049315Z"
    },
    "papermill": {
     "duration": 0.014522,
     "end_time": "2024-06-19T08:57:53.050873",
     "exception": false,
     "start_time": "2024-06-19T08:57:53.036351",
     "status": "completed"
    },
    "tags": []
   },
   "outputs": [],
   "source": [
    "adataQ.obs.rename({'disease':'disease_true'}, axis=1, inplace=True)"
   ]
  },
  {
   "cell_type": "code",
   "execution_count": 13,
   "id": "7b72f7c3-af64-4a22-ab6b-8d5e5dbd4af3",
   "metadata": {
    "execution": {
     "iopub.execute_input": "2024-06-19T08:57:53.071674Z",
     "iopub.status.busy": "2024-06-19T08:57:53.071177Z",
     "iopub.status.idle": "2024-06-19T09:16:38.263092Z",
     "shell.execute_reply": "2024-06-19T09:16:38.262262Z"
    },
    "papermill": {
     "duration": 1125.205816,
     "end_time": "2024-06-19T09:16:38.264680",
     "exception": false,
     "start_time": "2024-06-19T08:57:53.058864",
     "status": "completed"
    },
    "tags": []
   },
   "outputs": [],
   "source": [
    "sp.tl.transfer_labels_kNN(adataQ, adataR, 'disease', ref_basis = 'X_pca_harmony', query_basis = 'X_pca_harmony')"
   ]
  },
  {
   "cell_type": "code",
   "execution_count": 14,
   "id": "2e1ad1d0-8a52-46a8-ae97-15dc2984f08e",
   "metadata": {
    "execution": {
     "iopub.execute_input": "2024-06-19T09:16:38.286038Z",
     "iopub.status.busy": "2024-06-19T09:16:38.285412Z",
     "iopub.status.idle": "2024-06-19T09:16:38.301281Z",
     "shell.execute_reply": "2024-06-19T09:16:38.300716Z"
    },
    "papermill": {
     "duration": 0.026289,
     "end_time": "2024-06-19T09:16:38.302199",
     "exception": false,
     "start_time": "2024-06-19T09:16:38.275910",
     "status": "completed"
    },
    "tags": []
   },
   "outputs": [],
   "source": [
    "adataQ.obs.rename({'disease':'disease_pred'}, axis=1, inplace=True)"
   ]
  },
  {
   "cell_type": "code",
   "execution_count": 15,
   "id": "0eb1c5d7-97fd-4c42-9b7b-8cddd8e22987",
   "metadata": {
    "execution": {
     "iopub.execute_input": "2024-06-19T09:16:38.320108Z",
     "iopub.status.busy": "2024-06-19T09:16:38.319635Z",
     "iopub.status.idle": "2024-06-19T09:16:39.999324Z",
     "shell.execute_reply": "2024-06-19T09:16:39.998929Z"
    },
    "papermill": {
     "duration": 1.689403,
     "end_time": "2024-06-19T09:16:40.000340",
     "exception": false,
     "start_time": "2024-06-19T09:16:38.310937",
     "status": "completed"
    },
    "tags": []
   },
   "outputs": [
    {
     "name": "stderr",
     "output_type": "stream",
     "text": [
      "/scratch_isilon/groups/singlecell/shared/conda_env/inflammation_atlas_R1/lib/python3.10/site-packages/sklearn/metrics/_classification.py:2458: UserWarning: y_pred contains classes not in y_true\n",
      "  warnings.warn(\"y_pred contains classes not in y_true\")\n"
     ]
    },
    {
     "data": {
      "text/plain": [
       "0.16127949434823827"
      ]
     },
     "execution_count": 15,
     "metadata": {},
     "output_type": "execute_result"
    }
   ],
   "source": [
    "balanced_accuracy_score(y_true = adataQ.obs.disease_true, y_pred=adataQ.obs.disease_pred)"
   ]
  },
  {
   "cell_type": "code",
   "execution_count": 16,
   "id": "0e4bc21f-ed6a-41d9-8254-1eb2bc58c1a1",
   "metadata": {
    "execution": {
     "iopub.execute_input": "2024-06-19T09:16:40.019348Z",
     "iopub.status.busy": "2024-06-19T09:16:40.018938Z",
     "iopub.status.idle": "2024-06-19T09:16:40.033214Z",
     "shell.execute_reply": "2024-06-19T09:16:40.032862Z"
    },
    "papermill": {
     "duration": 0.024286,
     "end_time": "2024-06-19T09:16:40.034121",
     "exception": false,
     "start_time": "2024-06-19T09:16:40.009835",
     "status": "completed"
    },
    "tags": []
   },
   "outputs": [
    {
     "data": {
      "text/html": [
       "<div>\n",
       "<style scoped>\n",
       "    .dataframe tbody tr th:only-of-type {\n",
       "        vertical-align: middle;\n",
       "    }\n",
       "\n",
       "    .dataframe tbody tr th {\n",
       "        vertical-align: top;\n",
       "    }\n",
       "\n",
       "    .dataframe thead th {\n",
       "        text-align: right;\n",
       "    }\n",
       "</style>\n",
       "<table border=\"1\" class=\"dataframe\">\n",
       "  <thead>\n",
       "    <tr style=\"text-align: right;\">\n",
       "      <th></th>\n",
       "      <th>studyID</th>\n",
       "      <th>libraryID</th>\n",
       "      <th>sampleID</th>\n",
       "      <th>chemistry</th>\n",
       "      <th>technology</th>\n",
       "      <th>disease_true</th>\n",
       "      <th>sex</th>\n",
       "      <th>binned_age</th>\n",
       "      <th>Level1</th>\n",
       "      <th>disease_pred</th>\n",
       "    </tr>\n",
       "    <tr>\n",
       "      <th>cellID</th>\n",
       "      <th></th>\n",
       "      <th></th>\n",
       "      <th></th>\n",
       "      <th></th>\n",
       "      <th></th>\n",
       "      <th></th>\n",
       "      <th></th>\n",
       "      <th></th>\n",
       "      <th></th>\n",
       "      <th></th>\n",
       "    </tr>\n",
       "  </thead>\n",
       "  <tbody>\n",
       "    <tr>\n",
       "      <th>SCGT00val_L006_I036016_T0_AAACCCAAGACAACTA</th>\n",
       "      <td>SCGT00val</td>\n",
       "      <td>SCGT00val_L006</td>\n",
       "      <td>SCGT00val_I036016_T0</td>\n",
       "      <td>3_GEX_V3</td>\n",
       "      <td>3_GEX_V3_GenoHashed</td>\n",
       "      <td>RA</td>\n",
       "      <td>female</td>\n",
       "      <td>31-40</td>\n",
       "      <td>T_CD4_Naive</td>\n",
       "      <td>HIV</td>\n",
       "    </tr>\n",
       "    <tr>\n",
       "      <th>SCGT00val_L006_I036023_T0_AAACCCAAGACGGAAA</th>\n",
       "      <td>SCGT00val</td>\n",
       "      <td>SCGT00val_L006</td>\n",
       "      <td>SCGT00val_I036023_T0</td>\n",
       "      <td>3_GEX_V3</td>\n",
       "      <td>3_GEX_V3_GenoHashed</td>\n",
       "      <td>RA</td>\n",
       "      <td>female</td>\n",
       "      <td>51-60</td>\n",
       "      <td>T_CD4_NonNaive</td>\n",
       "      <td>RA</td>\n",
       "    </tr>\n",
       "    <tr>\n",
       "      <th>SCGT00val_L006_I036016_T0_AAACCCAAGAGCATTA</th>\n",
       "      <td>SCGT00val</td>\n",
       "      <td>SCGT00val_L006</td>\n",
       "      <td>SCGT00val_I036016_T0</td>\n",
       "      <td>3_GEX_V3</td>\n",
       "      <td>3_GEX_V3_GenoHashed</td>\n",
       "      <td>RA</td>\n",
       "      <td>female</td>\n",
       "      <td>31-40</td>\n",
       "      <td>T_CD4_Naive</td>\n",
       "      <td>HIV</td>\n",
       "    </tr>\n",
       "    <tr>\n",
       "      <th>SCGT00val_L006_I036021_T0_AAACCCAAGATGGTCG</th>\n",
       "      <td>SCGT00val</td>\n",
       "      <td>SCGT00val_L006</td>\n",
       "      <td>SCGT00val_I036021_T0</td>\n",
       "      <td>3_GEX_V3</td>\n",
       "      <td>3_GEX_V3_GenoHashed</td>\n",
       "      <td>RA</td>\n",
       "      <td>female</td>\n",
       "      <td>61-70</td>\n",
       "      <td>T_CD8_NonNaive</td>\n",
       "      <td>SLE</td>\n",
       "    </tr>\n",
       "    <tr>\n",
       "      <th>SCGT00val_L006_I036021_T0_AAACCCAAGCAACAAT</th>\n",
       "      <td>SCGT00val</td>\n",
       "      <td>SCGT00val_L006</td>\n",
       "      <td>SCGT00val_I036021_T0</td>\n",
       "      <td>3_GEX_V3</td>\n",
       "      <td>3_GEX_V3_GenoHashed</td>\n",
       "      <td>RA</td>\n",
       "      <td>female</td>\n",
       "      <td>61-70</td>\n",
       "      <td>DC</td>\n",
       "      <td>UC</td>\n",
       "    </tr>\n",
       "    <tr>\n",
       "      <th>...</th>\n",
       "      <td>...</td>\n",
       "      <td>...</td>\n",
       "      <td>...</td>\n",
       "      <td>...</td>\n",
       "      <td>...</td>\n",
       "      <td>...</td>\n",
       "      <td>...</td>\n",
       "      <td>...</td>\n",
       "      <td>...</td>\n",
       "      <td>...</td>\n",
       "    </tr>\n",
       "    <tr>\n",
       "      <th>10XGenomics_L008_10XHC8_T0_TTTGTCATCCACGTTC</th>\n",
       "      <td>10XGenomics</td>\n",
       "      <td>10XGenomics_L008</td>\n",
       "      <td>10XGenomics_10XHC8_T0</td>\n",
       "      <td>5_GEX_V2</td>\n",
       "      <td>5_GEX_V2</td>\n",
       "      <td>healthy</td>\n",
       "      <td>na</td>\n",
       "      <td>NaN</td>\n",
       "      <td>B</td>\n",
       "      <td>healthy</td>\n",
       "    </tr>\n",
       "    <tr>\n",
       "      <th>10XGenomics_L008_10XHC8_T0_TTTGTCATCCCGACTT</th>\n",
       "      <td>10XGenomics</td>\n",
       "      <td>10XGenomics_L008</td>\n",
       "      <td>10XGenomics_10XHC8_T0</td>\n",
       "      <td>5_GEX_V2</td>\n",
       "      <td>5_GEX_V2</td>\n",
       "      <td>healthy</td>\n",
       "      <td>na</td>\n",
       "      <td>NaN</td>\n",
       "      <td>T_CD4_Naive</td>\n",
       "      <td>healthy</td>\n",
       "    </tr>\n",
       "    <tr>\n",
       "      <th>10XGenomics_L008_10XHC8_T0_TTTGTCATCGTGGGAA</th>\n",
       "      <td>10XGenomics</td>\n",
       "      <td>10XGenomics_L008</td>\n",
       "      <td>10XGenomics_10XHC8_T0</td>\n",
       "      <td>5_GEX_V2</td>\n",
       "      <td>5_GEX_V2</td>\n",
       "      <td>healthy</td>\n",
       "      <td>na</td>\n",
       "      <td>NaN</td>\n",
       "      <td>T_CD4_Naive</td>\n",
       "      <td>healthy</td>\n",
       "    </tr>\n",
       "    <tr>\n",
       "      <th>10XGenomics_L008_10XHC8_T0_TTTGTCATCTCAAACG</th>\n",
       "      <td>10XGenomics</td>\n",
       "      <td>10XGenomics_L008</td>\n",
       "      <td>10XGenomics_10XHC8_T0</td>\n",
       "      <td>5_GEX_V2</td>\n",
       "      <td>5_GEX_V2</td>\n",
       "      <td>healthy</td>\n",
       "      <td>na</td>\n",
       "      <td>NaN</td>\n",
       "      <td>T_CD4_Naive</td>\n",
       "      <td>healthy</td>\n",
       "    </tr>\n",
       "    <tr>\n",
       "      <th>10XGenomics_L008_10XHC8_T0_TTTGTCATCTGTACGA</th>\n",
       "      <td>10XGenomics</td>\n",
       "      <td>10XGenomics_L008</td>\n",
       "      <td>10XGenomics_10XHC8_T0</td>\n",
       "      <td>5_GEX_V2</td>\n",
       "      <td>5_GEX_V2</td>\n",
       "      <td>healthy</td>\n",
       "      <td>na</td>\n",
       "      <td>NaN</td>\n",
       "      <td>T_CD4_Naive</td>\n",
       "      <td>healthy</td>\n",
       "    </tr>\n",
       "  </tbody>\n",
       "</table>\n",
       "<p>572872 rows × 10 columns</p>\n",
       "</div>"
      ],
      "text/plain": [
       "                                                 studyID         libraryID  \\\n",
       "cellID                                                                       \n",
       "SCGT00val_L006_I036016_T0_AAACCCAAGACAACTA     SCGT00val    SCGT00val_L006   \n",
       "SCGT00val_L006_I036023_T0_AAACCCAAGACGGAAA     SCGT00val    SCGT00val_L006   \n",
       "SCGT00val_L006_I036016_T0_AAACCCAAGAGCATTA     SCGT00val    SCGT00val_L006   \n",
       "SCGT00val_L006_I036021_T0_AAACCCAAGATGGTCG     SCGT00val    SCGT00val_L006   \n",
       "SCGT00val_L006_I036021_T0_AAACCCAAGCAACAAT     SCGT00val    SCGT00val_L006   \n",
       "...                                                  ...               ...   \n",
       "10XGenomics_L008_10XHC8_T0_TTTGTCATCCACGTTC  10XGenomics  10XGenomics_L008   \n",
       "10XGenomics_L008_10XHC8_T0_TTTGTCATCCCGACTT  10XGenomics  10XGenomics_L008   \n",
       "10XGenomics_L008_10XHC8_T0_TTTGTCATCGTGGGAA  10XGenomics  10XGenomics_L008   \n",
       "10XGenomics_L008_10XHC8_T0_TTTGTCATCTCAAACG  10XGenomics  10XGenomics_L008   \n",
       "10XGenomics_L008_10XHC8_T0_TTTGTCATCTGTACGA  10XGenomics  10XGenomics_L008   \n",
       "\n",
       "                                                          sampleID chemistry  \\\n",
       "cellID                                                                         \n",
       "SCGT00val_L006_I036016_T0_AAACCCAAGACAACTA    SCGT00val_I036016_T0  3_GEX_V3   \n",
       "SCGT00val_L006_I036023_T0_AAACCCAAGACGGAAA    SCGT00val_I036023_T0  3_GEX_V3   \n",
       "SCGT00val_L006_I036016_T0_AAACCCAAGAGCATTA    SCGT00val_I036016_T0  3_GEX_V3   \n",
       "SCGT00val_L006_I036021_T0_AAACCCAAGATGGTCG    SCGT00val_I036021_T0  3_GEX_V3   \n",
       "SCGT00val_L006_I036021_T0_AAACCCAAGCAACAAT    SCGT00val_I036021_T0  3_GEX_V3   \n",
       "...                                                            ...       ...   \n",
       "10XGenomics_L008_10XHC8_T0_TTTGTCATCCACGTTC  10XGenomics_10XHC8_T0  5_GEX_V2   \n",
       "10XGenomics_L008_10XHC8_T0_TTTGTCATCCCGACTT  10XGenomics_10XHC8_T0  5_GEX_V2   \n",
       "10XGenomics_L008_10XHC8_T0_TTTGTCATCGTGGGAA  10XGenomics_10XHC8_T0  5_GEX_V2   \n",
       "10XGenomics_L008_10XHC8_T0_TTTGTCATCTCAAACG  10XGenomics_10XHC8_T0  5_GEX_V2   \n",
       "10XGenomics_L008_10XHC8_T0_TTTGTCATCTGTACGA  10XGenomics_10XHC8_T0  5_GEX_V2   \n",
       "\n",
       "                                                      technology disease_true  \\\n",
       "cellID                                                                          \n",
       "SCGT00val_L006_I036016_T0_AAACCCAAGACAACTA   3_GEX_V3_GenoHashed           RA   \n",
       "SCGT00val_L006_I036023_T0_AAACCCAAGACGGAAA   3_GEX_V3_GenoHashed           RA   \n",
       "SCGT00val_L006_I036016_T0_AAACCCAAGAGCATTA   3_GEX_V3_GenoHashed           RA   \n",
       "SCGT00val_L006_I036021_T0_AAACCCAAGATGGTCG   3_GEX_V3_GenoHashed           RA   \n",
       "SCGT00val_L006_I036021_T0_AAACCCAAGCAACAAT   3_GEX_V3_GenoHashed           RA   \n",
       "...                                                          ...          ...   \n",
       "10XGenomics_L008_10XHC8_T0_TTTGTCATCCACGTTC             5_GEX_V2      healthy   \n",
       "10XGenomics_L008_10XHC8_T0_TTTGTCATCCCGACTT             5_GEX_V2      healthy   \n",
       "10XGenomics_L008_10XHC8_T0_TTTGTCATCGTGGGAA             5_GEX_V2      healthy   \n",
       "10XGenomics_L008_10XHC8_T0_TTTGTCATCTCAAACG             5_GEX_V2      healthy   \n",
       "10XGenomics_L008_10XHC8_T0_TTTGTCATCTGTACGA             5_GEX_V2      healthy   \n",
       "\n",
       "                                                sex binned_age  \\\n",
       "cellID                                                           \n",
       "SCGT00val_L006_I036016_T0_AAACCCAAGACAACTA   female      31-40   \n",
       "SCGT00val_L006_I036023_T0_AAACCCAAGACGGAAA   female      51-60   \n",
       "SCGT00val_L006_I036016_T0_AAACCCAAGAGCATTA   female      31-40   \n",
       "SCGT00val_L006_I036021_T0_AAACCCAAGATGGTCG   female      61-70   \n",
       "SCGT00val_L006_I036021_T0_AAACCCAAGCAACAAT   female      61-70   \n",
       "...                                             ...        ...   \n",
       "10XGenomics_L008_10XHC8_T0_TTTGTCATCCACGTTC      na        NaN   \n",
       "10XGenomics_L008_10XHC8_T0_TTTGTCATCCCGACTT      na        NaN   \n",
       "10XGenomics_L008_10XHC8_T0_TTTGTCATCGTGGGAA      na        NaN   \n",
       "10XGenomics_L008_10XHC8_T0_TTTGTCATCTCAAACG      na        NaN   \n",
       "10XGenomics_L008_10XHC8_T0_TTTGTCATCTGTACGA      na        NaN   \n",
       "\n",
       "                                                     Level1 disease_pred  \n",
       "cellID                                                                    \n",
       "SCGT00val_L006_I036016_T0_AAACCCAAGACAACTA      T_CD4_Naive          HIV  \n",
       "SCGT00val_L006_I036023_T0_AAACCCAAGACGGAAA   T_CD4_NonNaive           RA  \n",
       "SCGT00val_L006_I036016_T0_AAACCCAAGAGCATTA      T_CD4_Naive          HIV  \n",
       "SCGT00val_L006_I036021_T0_AAACCCAAGATGGTCG   T_CD8_NonNaive          SLE  \n",
       "SCGT00val_L006_I036021_T0_AAACCCAAGCAACAAT               DC           UC  \n",
       "...                                                     ...          ...  \n",
       "10XGenomics_L008_10XHC8_T0_TTTGTCATCCACGTTC               B      healthy  \n",
       "10XGenomics_L008_10XHC8_T0_TTTGTCATCCCGACTT     T_CD4_Naive      healthy  \n",
       "10XGenomics_L008_10XHC8_T0_TTTGTCATCGTGGGAA     T_CD4_Naive      healthy  \n",
       "10XGenomics_L008_10XHC8_T0_TTTGTCATCTCAAACG     T_CD4_Naive      healthy  \n",
       "10XGenomics_L008_10XHC8_T0_TTTGTCATCTGTACGA     T_CD4_Naive      healthy  \n",
       "\n",
       "[572872 rows x 10 columns]"
      ]
     },
     "execution_count": 16,
     "metadata": {},
     "output_type": "execute_result"
    }
   ],
   "source": [
    "adataQ.obs"
   ]
  },
  {
   "cell_type": "markdown",
   "id": "604b824a-321a-4ebe-802f-39ac50ec5238",
   "metadata": {
    "papermill": {
     "duration": 0.008838,
     "end_time": "2024-06-19T09:16:40.051782",
     "exception": false,
     "start_time": "2024-06-19T09:16:40.042944",
     "status": "completed"
    },
    "tags": []
   },
   "source": [
    "### Generating pseudobulk from latent space for Q dataset"
   ]
  },
  {
   "cell_type": "code",
   "execution_count": 17,
   "id": "995ab0a0-f978-4667-a85a-72b4757305c5",
   "metadata": {
    "execution": {
     "iopub.execute_input": "2024-06-19T09:16:40.070511Z",
     "iopub.status.busy": "2024-06-19T09:16:40.069928Z",
     "iopub.status.idle": "2024-06-19T09:16:40.335852Z",
     "shell.execute_reply": "2024-06-19T09:16:40.335240Z"
    },
    "papermill": {
     "duration": 0.276307,
     "end_time": "2024-06-19T09:16:40.336805",
     "exception": false,
     "start_time": "2024-06-19T09:16:40.060498",
     "status": "completed"
    },
    "tags": []
   },
   "outputs": [],
   "source": [
    "emb_pseudobulk_Q = aggregating_features(Z = adataQ.obsm['X_pca_harmony'], obsDF = adataQ.obs[['sampleID','Level1','disease_true']], mode = 'mean', obs_names_col=['sampleID','Level1'])"
   ]
  },
  {
   "cell_type": "code",
   "execution_count": 18,
   "id": "841534d1-d593-4372-b4d1-3133ae9180d8",
   "metadata": {
    "execution": {
     "iopub.execute_input": "2024-06-19T09:16:40.356464Z",
     "iopub.status.busy": "2024-06-19T09:16:40.356091Z",
     "iopub.status.idle": "2024-06-19T09:16:40.363219Z",
     "shell.execute_reply": "2024-06-19T09:16:40.362866Z"
    },
    "papermill": {
     "duration": 0.018686,
     "end_time": "2024-06-19T09:16:40.364095",
     "exception": false,
     "start_time": "2024-06-19T09:16:40.345409",
     "status": "completed"
    },
    "tags": []
   },
   "outputs": [
    {
     "data": {
      "text/html": [
       "<div>\n",
       "<style scoped>\n",
       "    .dataframe tbody tr th:only-of-type {\n",
       "        vertical-align: middle;\n",
       "    }\n",
       "\n",
       "    .dataframe tbody tr th {\n",
       "        vertical-align: top;\n",
       "    }\n",
       "\n",
       "    .dataframe thead th {\n",
       "        text-align: right;\n",
       "    }\n",
       "</style>\n",
       "<table border=\"1\" class=\"dataframe\">\n",
       "  <thead>\n",
       "    <tr style=\"text-align: right;\">\n",
       "      <th></th>\n",
       "      <th>sampleID</th>\n",
       "      <th>Level1</th>\n",
       "      <th>disease_true</th>\n",
       "      <th>n_observation</th>\n",
       "    </tr>\n",
       "  </thead>\n",
       "  <tbody>\n",
       "    <tr>\n",
       "      <th>10XGenomics_10XHC1_T0_B</th>\n",
       "      <td>10XGenomics_10XHC1_T0</td>\n",
       "      <td>B</td>\n",
       "      <td>healthy</td>\n",
       "      <td>979</td>\n",
       "    </tr>\n",
       "    <tr>\n",
       "      <th>10XGenomics_10XHC1_T0_Cycling_cells</th>\n",
       "      <td>10XGenomics_10XHC1_T0</td>\n",
       "      <td>Cycling_cells</td>\n",
       "      <td>healthy</td>\n",
       "      <td>21</td>\n",
       "    </tr>\n",
       "    <tr>\n",
       "      <th>10XGenomics_10XHC1_T0_DC</th>\n",
       "      <td>10XGenomics_10XHC1_T0</td>\n",
       "      <td>DC</td>\n",
       "      <td>healthy</td>\n",
       "      <td>127</td>\n",
       "    </tr>\n",
       "    <tr>\n",
       "      <th>10XGenomics_10XHC1_T0_ILC</th>\n",
       "      <td>10XGenomics_10XHC1_T0</td>\n",
       "      <td>ILC</td>\n",
       "      <td>healthy</td>\n",
       "      <td>315</td>\n",
       "    </tr>\n",
       "    <tr>\n",
       "      <th>10XGenomics_10XHC1_T0_Mono</th>\n",
       "      <td>10XGenomics_10XHC1_T0</td>\n",
       "      <td>Mono</td>\n",
       "      <td>healthy</td>\n",
       "      <td>1463</td>\n",
       "    </tr>\n",
       "    <tr>\n",
       "      <th>...</th>\n",
       "      <td>...</td>\n",
       "      <td>...</td>\n",
       "      <td>...</td>\n",
       "      <td>...</td>\n",
       "    </tr>\n",
       "    <tr>\n",
       "      <th>Savage2021_PIDB_T0_T_CD4_NonNaive</th>\n",
       "      <td>Savage2021_PIDB_T0</td>\n",
       "      <td>T_CD4_NonNaive</td>\n",
       "      <td>healthy</td>\n",
       "      <td>1752</td>\n",
       "    </tr>\n",
       "    <tr>\n",
       "      <th>Savage2021_PIDB_T0_T_CD8_Naive</th>\n",
       "      <td>Savage2021_PIDB_T0</td>\n",
       "      <td>T_CD8_Naive</td>\n",
       "      <td>healthy</td>\n",
       "      <td>370</td>\n",
       "    </tr>\n",
       "    <tr>\n",
       "      <th>Savage2021_PIDB_T0_T_CD8_NonNaive</th>\n",
       "      <td>Savage2021_PIDB_T0</td>\n",
       "      <td>T_CD8_NonNaive</td>\n",
       "      <td>healthy</td>\n",
       "      <td>2430</td>\n",
       "    </tr>\n",
       "    <tr>\n",
       "      <th>Savage2021_PIDB_T0_UTC</th>\n",
       "      <td>Savage2021_PIDB_T0</td>\n",
       "      <td>UTC</td>\n",
       "      <td>healthy</td>\n",
       "      <td>178</td>\n",
       "    </tr>\n",
       "    <tr>\n",
       "      <th>Savage2021_PIDB_T0_pDC</th>\n",
       "      <td>Savage2021_PIDB_T0</td>\n",
       "      <td>pDC</td>\n",
       "      <td>healthy</td>\n",
       "      <td>36</td>\n",
       "    </tr>\n",
       "  </tbody>\n",
       "</table>\n",
       "<p>1207 rows × 4 columns</p>\n",
       "</div>"
      ],
      "text/plain": [
       "                                                  sampleID          Level1  \\\n",
       "10XGenomics_10XHC1_T0_B              10XGenomics_10XHC1_T0               B   \n",
       "10XGenomics_10XHC1_T0_Cycling_cells  10XGenomics_10XHC1_T0   Cycling_cells   \n",
       "10XGenomics_10XHC1_T0_DC             10XGenomics_10XHC1_T0              DC   \n",
       "10XGenomics_10XHC1_T0_ILC            10XGenomics_10XHC1_T0             ILC   \n",
       "10XGenomics_10XHC1_T0_Mono           10XGenomics_10XHC1_T0            Mono   \n",
       "...                                                    ...             ...   \n",
       "Savage2021_PIDB_T0_T_CD4_NonNaive       Savage2021_PIDB_T0  T_CD4_NonNaive   \n",
       "Savage2021_PIDB_T0_T_CD8_Naive          Savage2021_PIDB_T0     T_CD8_Naive   \n",
       "Savage2021_PIDB_T0_T_CD8_NonNaive       Savage2021_PIDB_T0  T_CD8_NonNaive   \n",
       "Savage2021_PIDB_T0_UTC                  Savage2021_PIDB_T0             UTC   \n",
       "Savage2021_PIDB_T0_pDC                  Savage2021_PIDB_T0             pDC   \n",
       "\n",
       "                                    disease_true  n_observation  \n",
       "10XGenomics_10XHC1_T0_B                  healthy            979  \n",
       "10XGenomics_10XHC1_T0_Cycling_cells      healthy             21  \n",
       "10XGenomics_10XHC1_T0_DC                 healthy            127  \n",
       "10XGenomics_10XHC1_T0_ILC                healthy            315  \n",
       "10XGenomics_10XHC1_T0_Mono               healthy           1463  \n",
       "...                                          ...            ...  \n",
       "Savage2021_PIDB_T0_T_CD4_NonNaive        healthy           1752  \n",
       "Savage2021_PIDB_T0_T_CD8_Naive           healthy            370  \n",
       "Savage2021_PIDB_T0_T_CD8_NonNaive        healthy           2430  \n",
       "Savage2021_PIDB_T0_UTC                   healthy            178  \n",
       "Savage2021_PIDB_T0_pDC                   healthy             36  \n",
       "\n",
       "[1207 rows x 4 columns]"
      ]
     },
     "execution_count": 18,
     "metadata": {},
     "output_type": "execute_result"
    }
   ],
   "source": [
    "emb_pseudobulk_Q.obs"
   ]
  },
  {
   "cell_type": "markdown",
   "id": "a43a1514-ec0f-4b9e-ac54-a48dbabc0fff",
   "metadata": {
    "execution": {
     "iopub.execute_input": "2024-06-07T16:00:22.779422Z",
     "iopub.status.busy": "2024-06-07T16:00:22.778939Z",
     "iopub.status.idle": "2024-06-07T16:00:22.782415Z",
     "shell.execute_reply": "2024-06-07T16:00:22.781982Z",
     "shell.execute_reply.started": "2024-06-07T16:00:22.779405Z"
    },
    "papermill": {
     "duration": 0.010079,
     "end_time": "2024-06-19T09:16:40.382865",
     "exception": false,
     "start_time": "2024-06-19T09:16:40.372786",
     "status": "completed"
    },
    "tags": []
   },
   "source": [
    "**Loading training pseudobulk**"
   ]
  },
  {
   "cell_type": "code",
   "execution_count": 19,
   "id": "b759518f-cc41-406e-8919-c72d6a6925e6",
   "metadata": {
    "execution": {
     "iopub.execute_input": "2024-06-19T09:16:40.404684Z",
     "iopub.status.busy": "2024-06-19T09:16:40.404342Z",
     "iopub.status.idle": "2024-06-19T09:16:40.462127Z",
     "shell.execute_reply": "2024-06-19T09:16:40.461601Z"
    },
    "papermill": {
     "duration": 0.071353,
     "end_time": "2024-06-19T09:16:40.463056",
     "exception": false,
     "start_time": "2024-06-19T09:16:40.391703",
     "status": "completed"
    },
    "tags": []
   },
   "outputs": [],
   "source": [
    "emb_pseudobulk_train = sc.read_h5ad(here(f\"03_downstream_analysis/08_PatientClassifier/Harmony_Symphony/results/01_MAIN_HarmonyIntegrated_PSEUDOBULK_{nPC}nPC_Batch_{batchKeys}.h5ad\"))"
   ]
  },
  {
   "cell_type": "markdown",
   "id": "fa0cf8df-f0dd-449c-87c8-b9207e94207b",
   "metadata": {
    "papermill": {
     "duration": 0.008785,
     "end_time": "2024-06-19T09:16:40.482361",
     "exception": false,
     "start_time": "2024-06-19T09:16:40.473576",
     "status": "completed"
    },
    "tags": []
   },
   "source": [
    "#### Remove unwanted cell types"
   ]
  },
  {
   "cell_type": "code",
   "execution_count": 20,
   "id": "b477252c-4cdb-4f89-8ec2-1d3dbc4a7655",
   "metadata": {
    "execution": {
     "iopub.execute_input": "2024-06-19T09:16:40.500938Z",
     "iopub.status.busy": "2024-06-19T09:16:40.500487Z",
     "iopub.status.idle": "2024-06-19T09:16:40.505529Z",
     "shell.execute_reply": "2024-06-19T09:16:40.505160Z"
    },
    "papermill": {
     "duration": 0.015368,
     "end_time": "2024-06-19T09:16:40.506428",
     "exception": false,
     "start_time": "2024-06-19T09:16:40.491060",
     "status": "completed"
    },
    "tags": []
   },
   "outputs": [],
   "source": [
    "emb_pseudobulk_train = emb_pseudobulk_train[~emb_pseudobulk_train.obs.Level1.isin(['Cycling_cells','RBC','Progenitors','Platelets']),]"
   ]
  },
  {
   "cell_type": "code",
   "execution_count": 21,
   "id": "25ead359-02da-4eec-a2e8-040415f31ca8",
   "metadata": {
    "execution": {
     "iopub.execute_input": "2024-06-19T09:16:40.525066Z",
     "iopub.status.busy": "2024-06-19T09:16:40.524796Z",
     "iopub.status.idle": "2024-06-19T09:16:40.527960Z",
     "shell.execute_reply": "2024-06-19T09:16:40.527585Z"
    },
    "papermill": {
     "duration": 0.013583,
     "end_time": "2024-06-19T09:16:40.528842",
     "exception": false,
     "start_time": "2024-06-19T09:16:40.515259",
     "status": "completed"
    },
    "tags": []
   },
   "outputs": [],
   "source": [
    "emb_pseudobulk_Q = emb_pseudobulk_Q[~emb_pseudobulk_Q.obs.Level1.isin(['Cycling_cells','RBC','Progenitors','Platelets']),]"
   ]
  },
  {
   "cell_type": "markdown",
   "id": "4faaceec-8aac-4c89-ac43-9093c0fe7c16",
   "metadata": {
    "papermill": {
     "duration": 0.008685,
     "end_time": "2024-06-19T09:16:40.546787",
     "exception": false,
     "start_time": "2024-06-19T09:16:40.538102",
     "status": "completed"
    },
    "tags": []
   },
   "source": [
    "### Saving query dataset and pseudobulks"
   ]
  },
  {
   "cell_type": "code",
   "execution_count": 22,
   "id": "40487ef8-ad5d-4236-a652-2d90cf76c77b",
   "metadata": {
    "execution": {
     "iopub.execute_input": "2024-06-19T09:16:40.565481Z",
     "iopub.status.busy": "2024-06-19T09:16:40.565191Z",
     "iopub.status.idle": "2024-06-19T09:17:59.350421Z",
     "shell.execute_reply": "2024-06-19T09:17:59.349675Z"
    },
    "papermill": {
     "duration": 78.79628,
     "end_time": "2024-06-19T09:17:59.351921",
     "exception": false,
     "start_time": "2024-06-19T09:16:40.555641",
     "status": "completed"
    },
    "tags": []
   },
   "outputs": [],
   "source": [
    "adataQ.write(here(f\"03_downstream_analysis/08_PatientClassifier/Harmony_Symphony/results/02_{queryDataset}_SymphonyProjected_{nPC}nPC_Batch_{batchKeys}.h5ad\"), \n",
    "             compression='gzip')"
   ]
  },
  {
   "cell_type": "code",
   "execution_count": 23,
   "id": "052a1401-1f68-49ed-a900-dda39c09e68b",
   "metadata": {
    "execution": {
     "iopub.execute_input": "2024-06-19T09:17:59.372361Z",
     "iopub.status.busy": "2024-06-19T09:17:59.371810Z",
     "iopub.status.idle": "2024-06-19T09:17:59.407123Z",
     "shell.execute_reply": "2024-06-19T09:17:59.406687Z"
    },
    "papermill": {
     "duration": 0.045795,
     "end_time": "2024-06-19T09:17:59.408067",
     "exception": false,
     "start_time": "2024-06-19T09:17:59.362272",
     "status": "completed"
    },
    "tags": []
   },
   "outputs": [
    {
     "name": "stderr",
     "output_type": "stream",
     "text": [
      "/scratch_isilon/groups/singlecell/shared/conda_env/inflammation_atlas_R1/lib/python3.10/site-packages/anndata/_core/anndata.py:1301: ImplicitModificationWarning: Trying to modify attribute `.obs` of view, initializing view as actual.\n",
      "  df[key] = c\n",
      "/scratch_isilon/groups/singlecell/shared/conda_env/inflammation_atlas_R1/lib/python3.10/site-packages/anndata/_core/anndata.py:1301: ImplicitModificationWarning: Trying to modify attribute `.obs` of view, initializing view as actual.\n",
      "  df[key] = c\n",
      "/scratch_isilon/groups/singlecell/shared/conda_env/inflammation_atlas_R1/lib/python3.10/site-packages/anndata/_core/anndata.py:1301: ImplicitModificationWarning: Trying to modify attribute `.obs` of view, initializing view as actual.\n",
      "  df[key] = c\n"
     ]
    }
   ],
   "source": [
    "emb_pseudobulk_Q.write(here(f\"03_downstream_analysis/08_PatientClassifier/Harmony_Symphony/results/02_{queryDataset}_SymphonyProjected_PSEUDOBULK{nPC}nPC_Batch_{batchKeys}.h5ad\"), \n",
    "             compression='gzip')"
   ]
  },
  {
   "cell_type": "markdown",
   "id": "8226f8d2-30b5-41a4-8efd-943e08f2d048",
   "metadata": {
    "papermill": {
     "duration": 0.00885,
     "end_time": "2024-06-19T09:17:59.425801",
     "exception": false,
     "start_time": "2024-06-19T09:17:59.416951",
     "status": "completed"
    },
    "tags": []
   },
   "source": [
    "### Training linear classifiers"
   ]
  },
  {
   "cell_type": "code",
   "execution_count": 24,
   "id": "b2f802a7-0a43-413b-8bee-03a900836009",
   "metadata": {
    "execution": {
     "iopub.execute_input": "2024-06-19T09:17:59.444309Z",
     "iopub.status.busy": "2024-06-19T09:17:59.443917Z",
     "iopub.status.idle": "2024-06-19T09:18:01.291489Z",
     "shell.execute_reply": "2024-06-19T09:18:01.290826Z"
    },
    "papermill": {
     "duration": 1.857843,
     "end_time": "2024-06-19T09:18:01.292495",
     "exception": false,
     "start_time": "2024-06-19T09:17:59.434652",
     "status": "completed"
    },
    "tags": []
   },
   "outputs": [
    {
     "name": "stderr",
     "output_type": "stream",
     "text": [
      "\r",
      "  0%|          | 0/11 [00:00<?, ?it/s]"
     ]
    },
    {
     "name": "stderr",
     "output_type": "stream",
     "text": [
      "\r",
      " 18%|█▊        | 2/11 [00:00<00:01,  7.87it/s]"
     ]
    },
    {
     "name": "stderr",
     "output_type": "stream",
     "text": [
      "\r",
      " 27%|██▋       | 3/11 [00:00<00:01,  7.67it/s]"
     ]
    },
    {
     "name": "stderr",
     "output_type": "stream",
     "text": [
      "\r",
      " 36%|███▋      | 4/11 [00:00<00:01,  4.24it/s]"
     ]
    },
    {
     "name": "stderr",
     "output_type": "stream",
     "text": [
      "\r",
      " 45%|████▌     | 5/11 [00:00<00:01,  4.84it/s]"
     ]
    },
    {
     "name": "stderr",
     "output_type": "stream",
     "text": [
      "\r",
      " 55%|█████▍    | 6/11 [00:01<00:00,  5.29it/s]"
     ]
    },
    {
     "name": "stderr",
     "output_type": "stream",
     "text": [
      "\r",
      " 64%|██████▎   | 7/11 [00:01<00:00,  5.76it/s]"
     ]
    },
    {
     "name": "stderr",
     "output_type": "stream",
     "text": [
      "\r",
      " 73%|███████▎  | 8/11 [00:01<00:00,  6.04it/s]"
     ]
    },
    {
     "name": "stderr",
     "output_type": "stream",
     "text": [
      "\r",
      " 82%|████████▏ | 9/11 [00:01<00:00,  6.51it/s]"
     ]
    },
    {
     "name": "stderr",
     "output_type": "stream",
     "text": [
      "\r",
      " 91%|█████████ | 10/11 [00:01<00:00,  6.49it/s]"
     ]
    },
    {
     "name": "stderr",
     "output_type": "stream",
     "text": [
      "\r",
      "100%|██████████| 11/11 [00:01<00:00,  6.63it/s]"
     ]
    },
    {
     "name": "stderr",
     "output_type": "stream",
     "text": [
      "\r",
      "100%|██████████| 11/11 [00:01<00:00,  6.03it/s]"
     ]
    },
    {
     "name": "stderr",
     "output_type": "stream",
     "text": [
      "\n"
     ]
    }
   ],
   "source": [
    "clfList = train_patient_classifier(adataTrain = emb_pseudobulk_train, cell_type_col = 'Level1', y_true_col = 'disease', max_iter=-1, random_state = 25, model = 'KNeighborsClassifier', \n",
    "                           kargs_model={'n_neighbors':2, 'weights':'uniform', 'metric':'cosine','n_jobs':-1})"
   ]
  },
  {
   "cell_type": "code",
   "execution_count": 25,
   "id": "184e7805-037a-48ab-bdde-b80d084b46cd",
   "metadata": {
    "execution": {
     "iopub.execute_input": "2024-06-19T09:18:01.315356Z",
     "iopub.status.busy": "2024-06-19T09:18:01.314731Z",
     "iopub.status.idle": "2024-06-19T09:18:01.326553Z",
     "shell.execute_reply": "2024-06-19T09:18:01.326076Z"
    },
    "papermill": {
     "duration": 0.024712,
     "end_time": "2024-06-19T09:18:01.327549",
     "exception": false,
     "start_time": "2024-06-19T09:18:01.302837",
     "status": "completed"
    },
    "tags": []
   },
   "outputs": [
    {
     "data": {
      "text/plain": [
       "{'B': {'clf': KNeighborsClassifier(metric='cosine', n_jobs=-1, n_neighbors=2),\n",
       "  'bAcc': 0.8855346334951598,\n",
       "  'nObs': 814},\n",
       " 'DC': {'clf': KNeighborsClassifier(metric='cosine', n_jobs=-1, n_neighbors=2),\n",
       "  'bAcc': 0.8798902229551049,\n",
       "  'nObs': 801},\n",
       " 'ILC': {'clf': KNeighborsClassifier(metric='cosine', n_jobs=-1, n_neighbors=2),\n",
       "  'bAcc': 0.8601168149657772,\n",
       "  'nObs': 817},\n",
       " 'Mono': {'clf': KNeighborsClassifier(metric='cosine', n_jobs=-1, n_neighbors=2),\n",
       "  'bAcc': 0.8796345484540444,\n",
       "  'nObs': 817},\n",
       " 'Plasma': {'clf': KNeighborsClassifier(metric='cosine', n_jobs=-1, n_neighbors=2),\n",
       "  'bAcc': 0.7968588090216773,\n",
       "  'nObs': 727},\n",
       " 'T_CD4_Naive': {'clf': KNeighborsClassifier(metric='cosine', n_jobs=-1, n_neighbors=2),\n",
       "  'bAcc': 0.8950121248147564,\n",
       "  'nObs': 814},\n",
       " 'T_CD4_NonNaive': {'clf': KNeighborsClassifier(metric='cosine', n_jobs=-1, n_neighbors=2),\n",
       "  'bAcc': 0.913420880516387,\n",
       "  'nObs': 816},\n",
       " 'T_CD8_Naive': {'clf': KNeighborsClassifier(metric='cosine', n_jobs=-1, n_neighbors=2),\n",
       "  'bAcc': 0.9015947360439578,\n",
       "  'nObs': 805},\n",
       " 'T_CD8_NonNaive': {'clf': KNeighborsClassifier(metric='cosine', n_jobs=-1, n_neighbors=2),\n",
       "  'bAcc': 0.8577047365436915,\n",
       "  'nObs': 817},\n",
       " 'UTC': {'clf': KNeighborsClassifier(metric='cosine', n_jobs=-1, n_neighbors=2),\n",
       "  'bAcc': 0.8694921474738223,\n",
       "  'nObs': 813},\n",
       " 'pDC': {'clf': KNeighborsClassifier(metric='cosine', n_jobs=-1, n_neighbors=2),\n",
       "  'bAcc': 0.8690822201742231,\n",
       "  'nObs': 775}}"
      ]
     },
     "execution_count": 25,
     "metadata": {},
     "output_type": "execute_result"
    }
   ],
   "source": [
    "clfList"
   ]
  },
  {
   "cell_type": "markdown",
   "id": "8140578c-927e-4a12-84c1-809c70d2387c",
   "metadata": {
    "papermill": {
     "duration": 0.011054,
     "end_time": "2024-06-19T09:18:01.356890",
     "exception": false,
     "start_time": "2024-06-19T09:18:01.345836",
     "status": "completed"
    },
    "tags": []
   },
   "source": [
    "### Predicting diseases"
   ]
  },
  {
   "cell_type": "code",
   "execution_count": 26,
   "id": "ba47d364-9407-4d4a-9a9c-a02d374a9932",
   "metadata": {
    "execution": {
     "iopub.execute_input": "2024-06-19T09:18:01.378959Z",
     "iopub.status.busy": "2024-06-19T09:18:01.378404Z",
     "iopub.status.idle": "2024-06-19T09:18:01.385847Z",
     "shell.execute_reply": "2024-06-19T09:18:01.385367Z"
    },
    "papermill": {
     "duration": 0.019472,
     "end_time": "2024-06-19T09:18:01.386749",
     "exception": false,
     "start_time": "2024-06-19T09:18:01.367277",
     "status": "completed"
    },
    "tags": []
   },
   "outputs": [
    {
     "data": {
      "text/html": [
       "<div>\n",
       "<style scoped>\n",
       "    .dataframe tbody tr th:only-of-type {\n",
       "        vertical-align: middle;\n",
       "    }\n",
       "\n",
       "    .dataframe tbody tr th {\n",
       "        vertical-align: top;\n",
       "    }\n",
       "\n",
       "    .dataframe thead th {\n",
       "        text-align: right;\n",
       "    }\n",
       "</style>\n",
       "<table border=\"1\" class=\"dataframe\">\n",
       "  <thead>\n",
       "    <tr style=\"text-align: right;\">\n",
       "      <th></th>\n",
       "      <th>sampleID</th>\n",
       "      <th>Level1</th>\n",
       "      <th>disease_true</th>\n",
       "      <th>n_observation</th>\n",
       "    </tr>\n",
       "  </thead>\n",
       "  <tbody>\n",
       "    <tr>\n",
       "      <th>10XGenomics_10XHC1_T0_B</th>\n",
       "      <td>10XGenomics_10XHC1_T0</td>\n",
       "      <td>B</td>\n",
       "      <td>healthy</td>\n",
       "      <td>979</td>\n",
       "    </tr>\n",
       "    <tr>\n",
       "      <th>10XGenomics_10XHC1_T0_DC</th>\n",
       "      <td>10XGenomics_10XHC1_T0</td>\n",
       "      <td>DC</td>\n",
       "      <td>healthy</td>\n",
       "      <td>127</td>\n",
       "    </tr>\n",
       "    <tr>\n",
       "      <th>10XGenomics_10XHC1_T0_ILC</th>\n",
       "      <td>10XGenomics_10XHC1_T0</td>\n",
       "      <td>ILC</td>\n",
       "      <td>healthy</td>\n",
       "      <td>315</td>\n",
       "    </tr>\n",
       "    <tr>\n",
       "      <th>10XGenomics_10XHC1_T0_Mono</th>\n",
       "      <td>10XGenomics_10XHC1_T0</td>\n",
       "      <td>Mono</td>\n",
       "      <td>healthy</td>\n",
       "      <td>1463</td>\n",
       "    </tr>\n",
       "    <tr>\n",
       "      <th>10XGenomics_10XHC1_T0_Plasma</th>\n",
       "      <td>10XGenomics_10XHC1_T0</td>\n",
       "      <td>Plasma</td>\n",
       "      <td>healthy</td>\n",
       "      <td>4</td>\n",
       "    </tr>\n",
       "    <tr>\n",
       "      <th>...</th>\n",
       "      <td>...</td>\n",
       "      <td>...</td>\n",
       "      <td>...</td>\n",
       "      <td>...</td>\n",
       "    </tr>\n",
       "    <tr>\n",
       "      <th>Savage2021_PIDB_T0_T_CD4_NonNaive</th>\n",
       "      <td>Savage2021_PIDB_T0</td>\n",
       "      <td>T_CD4_NonNaive</td>\n",
       "      <td>healthy</td>\n",
       "      <td>1752</td>\n",
       "    </tr>\n",
       "    <tr>\n",
       "      <th>Savage2021_PIDB_T0_T_CD8_Naive</th>\n",
       "      <td>Savage2021_PIDB_T0</td>\n",
       "      <td>T_CD8_Naive</td>\n",
       "      <td>healthy</td>\n",
       "      <td>370</td>\n",
       "    </tr>\n",
       "    <tr>\n",
       "      <th>Savage2021_PIDB_T0_T_CD8_NonNaive</th>\n",
       "      <td>Savage2021_PIDB_T0</td>\n",
       "      <td>T_CD8_NonNaive</td>\n",
       "      <td>healthy</td>\n",
       "      <td>2430</td>\n",
       "    </tr>\n",
       "    <tr>\n",
       "      <th>Savage2021_PIDB_T0_UTC</th>\n",
       "      <td>Savage2021_PIDB_T0</td>\n",
       "      <td>UTC</td>\n",
       "      <td>healthy</td>\n",
       "      <td>178</td>\n",
       "    </tr>\n",
       "    <tr>\n",
       "      <th>Savage2021_PIDB_T0_pDC</th>\n",
       "      <td>Savage2021_PIDB_T0</td>\n",
       "      <td>pDC</td>\n",
       "      <td>healthy</td>\n",
       "      <td>36</td>\n",
       "    </tr>\n",
       "  </tbody>\n",
       "</table>\n",
       "<p>932 rows × 4 columns</p>\n",
       "</div>"
      ],
      "text/plain": [
       "                                                sampleID          Level1  \\\n",
       "10XGenomics_10XHC1_T0_B            10XGenomics_10XHC1_T0               B   \n",
       "10XGenomics_10XHC1_T0_DC           10XGenomics_10XHC1_T0              DC   \n",
       "10XGenomics_10XHC1_T0_ILC          10XGenomics_10XHC1_T0             ILC   \n",
       "10XGenomics_10XHC1_T0_Mono         10XGenomics_10XHC1_T0            Mono   \n",
       "10XGenomics_10XHC1_T0_Plasma       10XGenomics_10XHC1_T0          Plasma   \n",
       "...                                                  ...             ...   \n",
       "Savage2021_PIDB_T0_T_CD4_NonNaive     Savage2021_PIDB_T0  T_CD4_NonNaive   \n",
       "Savage2021_PIDB_T0_T_CD8_Naive        Savage2021_PIDB_T0     T_CD8_Naive   \n",
       "Savage2021_PIDB_T0_T_CD8_NonNaive     Savage2021_PIDB_T0  T_CD8_NonNaive   \n",
       "Savage2021_PIDB_T0_UTC                Savage2021_PIDB_T0             UTC   \n",
       "Savage2021_PIDB_T0_pDC                Savage2021_PIDB_T0             pDC   \n",
       "\n",
       "                                  disease_true  n_observation  \n",
       "10XGenomics_10XHC1_T0_B                healthy            979  \n",
       "10XGenomics_10XHC1_T0_DC               healthy            127  \n",
       "10XGenomics_10XHC1_T0_ILC              healthy            315  \n",
       "10XGenomics_10XHC1_T0_Mono             healthy           1463  \n",
       "10XGenomics_10XHC1_T0_Plasma           healthy              4  \n",
       "...                                        ...            ...  \n",
       "Savage2021_PIDB_T0_T_CD4_NonNaive      healthy           1752  \n",
       "Savage2021_PIDB_T0_T_CD8_Naive         healthy            370  \n",
       "Savage2021_PIDB_T0_T_CD8_NonNaive      healthy           2430  \n",
       "Savage2021_PIDB_T0_UTC                 healthy            178  \n",
       "Savage2021_PIDB_T0_pDC                 healthy             36  \n",
       "\n",
       "[932 rows x 4 columns]"
      ]
     },
     "execution_count": 26,
     "metadata": {},
     "output_type": "execute_result"
    }
   ],
   "source": [
    "emb_pseudobulk_Q.obs"
   ]
  },
  {
   "cell_type": "code",
   "execution_count": 27,
   "id": "39befc29-3613-4abc-adeb-bfee66e08dea",
   "metadata": {
    "execution": {
     "iopub.execute_input": "2024-06-19T09:18:01.409400Z",
     "iopub.status.busy": "2024-06-19T09:18:01.409238Z",
     "iopub.status.idle": "2024-06-19T09:18:01.765067Z",
     "shell.execute_reply": "2024-06-19T09:18:01.764428Z"
    },
    "papermill": {
     "duration": 0.369771,
     "end_time": "2024-06-19T09:18:01.765986",
     "exception": false,
     "start_time": "2024-06-19T09:18:01.396215",
     "status": "completed"
    },
    "tags": []
   },
   "outputs": [
    {
     "name": "stderr",
     "output_type": "stream",
     "text": [
      "\r",
      "  0%|          | 0/11 [00:00<?, ?it/s]"
     ]
    },
    {
     "name": "stderr",
     "output_type": "stream",
     "text": [
      "\r",
      " 45%|████▌     | 5/11 [00:00<00:00, 42.85it/s]"
     ]
    },
    {
     "name": "stderr",
     "output_type": "stream",
     "text": [
      "\r",
      " 91%|█████████ | 10/11 [00:00<00:00, 42.39it/s]"
     ]
    },
    {
     "name": "stderr",
     "output_type": "stream",
     "text": [
      "\r",
      "100%|██████████| 11/11 [00:00<00:00, 42.39it/s]"
     ]
    },
    {
     "name": "stderr",
     "output_type": "stream",
     "text": [
      "\n"
     ]
    },
    {
     "name": "stderr",
     "output_type": "stream",
     "text": [
      "\r",
      "  0%|          | 0/86 [00:00<?, ?it/s]"
     ]
    },
    {
     "name": "stderr",
     "output_type": "stream",
     "text": [
      "\r",
      "100%|██████████| 86/86 [00:00<00:00, 966.87it/s]"
     ]
    },
    {
     "name": "stderr",
     "output_type": "stream",
     "text": [
      "\n"
     ]
    }
   ],
   "source": [
    "classificationDF = vote_patient_disease(adataTest = emb_pseudobulk_Q, \n",
    "                                clfList = clfList, \n",
    "                                sample_id_col = 'sampleID',\n",
    "                                cell_type_col = 'Level1')\n"
   ]
  },
  {
   "cell_type": "code",
   "execution_count": 28,
   "id": "a731fec9-92f4-4b14-b374-ad2bec4d4f13",
   "metadata": {
    "execution": {
     "iopub.execute_input": "2024-06-19T09:18:01.787164Z",
     "iopub.status.busy": "2024-06-19T09:18:01.786995Z",
     "iopub.status.idle": "2024-06-19T09:18:01.793252Z",
     "shell.execute_reply": "2024-06-19T09:18:01.792628Z"
    },
    "papermill": {
     "duration": 0.018399,
     "end_time": "2024-06-19T09:18:01.794218",
     "exception": false,
     "start_time": "2024-06-19T09:18:01.775819",
     "status": "completed"
    },
    "tags": []
   },
   "outputs": [],
   "source": [
    "res = classificationDF.merge(emb_pseudobulk_Q.obs[['sampleID', 'disease_true']].drop_duplicates(), how = 'left', on = 'sampleID').set_index('sampleID')\n"
   ]
  },
  {
   "cell_type": "code",
   "execution_count": 29,
   "id": "00fff243-e3d9-436c-b369-b7d4d29a13bf",
   "metadata": {
    "execution": {
     "iopub.execute_input": "2024-06-19T09:18:01.816369Z",
     "iopub.status.busy": "2024-06-19T09:18:01.815854Z",
     "iopub.status.idle": "2024-06-19T09:18:01.821872Z",
     "shell.execute_reply": "2024-06-19T09:18:01.821494Z"
    },
    "papermill": {
     "duration": 0.017964,
     "end_time": "2024-06-19T09:18:01.822819",
     "exception": false,
     "start_time": "2024-06-19T09:18:01.804855",
     "status": "completed"
    },
    "tags": []
   },
   "outputs": [
    {
     "name": "stderr",
     "output_type": "stream",
     "text": [
      "/scratch_isilon/groups/singlecell/shared/conda_env/inflammation_atlas_R1/lib/python3.10/site-packages/sklearn/metrics/_classification.py:2458: UserWarning: y_pred contains classes not in y_true\n",
      "  warnings.warn(\"y_pred contains classes not in y_true\")\n"
     ]
    },
    {
     "data": {
      "text/plain": [
       "0.21622242647058823"
      ]
     },
     "execution_count": 29,
     "metadata": {},
     "output_type": "execute_result"
    }
   ],
   "source": [
    "balanced_accuracy_score(y_true = res.disease_true, y_pred=res.firstChoice)"
   ]
  },
  {
   "cell_type": "code",
   "execution_count": 30,
   "id": "54568ce9-5d5d-47e2-bc88-5a61eae513bc",
   "metadata": {
    "execution": {
     "iopub.execute_input": "2024-06-19T09:18:01.851268Z",
     "iopub.status.busy": "2024-06-19T09:18:01.851112Z",
     "iopub.status.idle": "2024-06-19T09:18:01.863098Z",
     "shell.execute_reply": "2024-06-19T09:18:01.862714Z"
    },
    "papermill": {
     "duration": 0.024177,
     "end_time": "2024-06-19T09:18:01.864006",
     "exception": false,
     "start_time": "2024-06-19T09:18:01.839829",
     "status": "completed"
    },
    "tags": []
   },
   "outputs": [
    {
     "data": {
      "text/html": [
       "<div>\n",
       "<style scoped>\n",
       "    .dataframe tbody tr th:only-of-type {\n",
       "        vertical-align: middle;\n",
       "    }\n",
       "\n",
       "    .dataframe tbody tr th {\n",
       "        vertical-align: top;\n",
       "    }\n",
       "\n",
       "    .dataframe thead th {\n",
       "        text-align: right;\n",
       "    }\n",
       "</style>\n",
       "<table border=\"1\" class=\"dataframe\">\n",
       "  <thead>\n",
       "    <tr style=\"text-align: right;\">\n",
       "      <th></th>\n",
       "      <th>B_prediction</th>\n",
       "      <th>DC_prediction</th>\n",
       "      <th>ILC_prediction</th>\n",
       "      <th>Mono_prediction</th>\n",
       "      <th>Plasma_prediction</th>\n",
       "      <th>T_CD4_Naive_prediction</th>\n",
       "      <th>T_CD4_NonNaive_prediction</th>\n",
       "      <th>T_CD8_Naive_prediction</th>\n",
       "      <th>T_CD8_NonNaive_prediction</th>\n",
       "      <th>UTC_prediction</th>\n",
       "      <th>pDC_prediction</th>\n",
       "      <th>firstChoice</th>\n",
       "      <th>firstChoice_perc</th>\n",
       "      <th>secondChoice</th>\n",
       "      <th>secondChoice_perc</th>\n",
       "      <th>disease_true</th>\n",
       "    </tr>\n",
       "    <tr>\n",
       "      <th>sampleID</th>\n",
       "      <th></th>\n",
       "      <th></th>\n",
       "      <th></th>\n",
       "      <th></th>\n",
       "      <th></th>\n",
       "      <th></th>\n",
       "      <th></th>\n",
       "      <th></th>\n",
       "      <th></th>\n",
       "      <th></th>\n",
       "      <th></th>\n",
       "      <th></th>\n",
       "      <th></th>\n",
       "      <th></th>\n",
       "      <th></th>\n",
       "      <th></th>\n",
       "    </tr>\n",
       "  </thead>\n",
       "  <tbody>\n",
       "    <tr>\n",
       "      <th>10XGenomics_10XHC1_T0</th>\n",
       "      <td>NPC</td>\n",
       "      <td>healthy</td>\n",
       "      <td>healthy</td>\n",
       "      <td>SLE</td>\n",
       "      <td>NPC</td>\n",
       "      <td>NPC</td>\n",
       "      <td>NPC</td>\n",
       "      <td>NPC</td>\n",
       "      <td>healthy</td>\n",
       "      <td>healthy</td>\n",
       "      <td>healthy</td>\n",
       "      <td>NPC</td>\n",
       "      <td>38.461538</td>\n",
       "      <td>healthy</td>\n",
       "      <td>38.461538</td>\n",
       "      <td>healthy</td>\n",
       "    </tr>\n",
       "    <tr>\n",
       "      <th>10XGenomics_10XHC2_T0</th>\n",
       "      <td>NPC</td>\n",
       "      <td>healthy</td>\n",
       "      <td>healthy</td>\n",
       "      <td>healthy</td>\n",
       "      <td>COVID</td>\n",
       "      <td>NPC</td>\n",
       "      <td>NPC</td>\n",
       "      <td>NPC</td>\n",
       "      <td>healthy</td>\n",
       "      <td>healthy</td>\n",
       "      <td>healthy</td>\n",
       "      <td>healthy</td>\n",
       "      <td>46.153846</td>\n",
       "      <td>NPC</td>\n",
       "      <td>30.769231</td>\n",
       "      <td>healthy</td>\n",
       "    </tr>\n",
       "    <tr>\n",
       "      <th>10XGenomics_10XHC3_T0</th>\n",
       "      <td>SLE</td>\n",
       "      <td>healthy</td>\n",
       "      <td>healthy</td>\n",
       "      <td>SLE</td>\n",
       "      <td>SLE</td>\n",
       "      <td>PS</td>\n",
       "      <td>healthy</td>\n",
       "      <td>healthy</td>\n",
       "      <td>healthy</td>\n",
       "      <td>healthy</td>\n",
       "      <td>healthy</td>\n",
       "      <td>healthy</td>\n",
       "      <td>53.846154</td>\n",
       "      <td>SLE</td>\n",
       "      <td>23.076923</td>\n",
       "      <td>healthy</td>\n",
       "    </tr>\n",
       "    <tr>\n",
       "      <th>10XGenomics_10XHC4_T0</th>\n",
       "      <td>SLE</td>\n",
       "      <td>healthy</td>\n",
       "      <td>COPD</td>\n",
       "      <td>SLE</td>\n",
       "      <td>SLE</td>\n",
       "      <td>healthy</td>\n",
       "      <td>healthy</td>\n",
       "      <td>healthy</td>\n",
       "      <td>NPC</td>\n",
       "      <td>healthy</td>\n",
       "      <td>healthy</td>\n",
       "      <td>healthy</td>\n",
       "      <td>46.153846</td>\n",
       "      <td>SLE</td>\n",
       "      <td>23.076923</td>\n",
       "      <td>healthy</td>\n",
       "    </tr>\n",
       "    <tr>\n",
       "      <th>10XGenomics_10XHC5_T0</th>\n",
       "      <td>SLE</td>\n",
       "      <td>healthy</td>\n",
       "      <td>healthy</td>\n",
       "      <td>SLE</td>\n",
       "      <td>SLE</td>\n",
       "      <td>healthy</td>\n",
       "      <td>healthy</td>\n",
       "      <td>healthy</td>\n",
       "      <td>healthy</td>\n",
       "      <td>healthy</td>\n",
       "      <td>healthy</td>\n",
       "      <td>healthy</td>\n",
       "      <td>61.538462</td>\n",
       "      <td>SLE</td>\n",
       "      <td>23.076923</td>\n",
       "      <td>healthy</td>\n",
       "    </tr>\n",
       "    <tr>\n",
       "      <th>...</th>\n",
       "      <td>...</td>\n",
       "      <td>...</td>\n",
       "      <td>...</td>\n",
       "      <td>...</td>\n",
       "      <td>...</td>\n",
       "      <td>...</td>\n",
       "      <td>...</td>\n",
       "      <td>...</td>\n",
       "      <td>...</td>\n",
       "      <td>...</td>\n",
       "      <td>...</td>\n",
       "      <td>...</td>\n",
       "      <td>...</td>\n",
       "      <td>...</td>\n",
       "      <td>...</td>\n",
       "      <td>...</td>\n",
       "    </tr>\n",
       "    <tr>\n",
       "      <th>Savage2021_BRISL5_T0</th>\n",
       "      <td>SLE</td>\n",
       "      <td>SLE</td>\n",
       "      <td>HNSCC</td>\n",
       "      <td>COVID</td>\n",
       "      <td>HNSCC</td>\n",
       "      <td>COVID</td>\n",
       "      <td>COVID</td>\n",
       "      <td>NPC</td>\n",
       "      <td>COVID</td>\n",
       "      <td>HNSCC</td>\n",
       "      <td>healthy</td>\n",
       "      <td>COVID</td>\n",
       "      <td>30.769231</td>\n",
       "      <td>HNSCC</td>\n",
       "      <td>23.076923</td>\n",
       "      <td>SLE</td>\n",
       "    </tr>\n",
       "    <tr>\n",
       "      <th>Savage2021_BRISL6_T0</th>\n",
       "      <td>HNSCC</td>\n",
       "      <td>healthy</td>\n",
       "      <td>HNSCC</td>\n",
       "      <td>healthy</td>\n",
       "      <td>HNSCC</td>\n",
       "      <td>healthy</td>\n",
       "      <td>healthy</td>\n",
       "      <td>healthy</td>\n",
       "      <td>healthy</td>\n",
       "      <td>HNSCC</td>\n",
       "      <td>healthy</td>\n",
       "      <td>healthy</td>\n",
       "      <td>53.846154</td>\n",
       "      <td>HNSCC</td>\n",
       "      <td>30.769231</td>\n",
       "      <td>SLE</td>\n",
       "    </tr>\n",
       "    <tr>\n",
       "      <th>Savage2021_BRISL7_T0</th>\n",
       "      <td>SLE</td>\n",
       "      <td>healthy</td>\n",
       "      <td>COVID</td>\n",
       "      <td>HNSCC</td>\n",
       "      <td>COVID</td>\n",
       "      <td>NPC</td>\n",
       "      <td>NPC</td>\n",
       "      <td>NPC</td>\n",
       "      <td>COVID</td>\n",
       "      <td>COVID</td>\n",
       "      <td>healthy</td>\n",
       "      <td>COVID</td>\n",
       "      <td>30.769231</td>\n",
       "      <td>NPC</td>\n",
       "      <td>23.076923</td>\n",
       "      <td>SLE</td>\n",
       "    </tr>\n",
       "    <tr>\n",
       "      <th>Savage2021_PIDA_T0</th>\n",
       "      <td>healthy</td>\n",
       "      <td>healthy</td>\n",
       "      <td>healthy</td>\n",
       "      <td>healthy</td>\n",
       "      <td>HIV</td>\n",
       "      <td>healthy</td>\n",
       "      <td>healthy</td>\n",
       "      <td>HIV</td>\n",
       "      <td>healthy</td>\n",
       "      <td>healthy</td>\n",
       "      <td>healthy</td>\n",
       "      <td>healthy</td>\n",
       "      <td>69.230769</td>\n",
       "      <td>HIV</td>\n",
       "      <td>15.384615</td>\n",
       "      <td>healthy</td>\n",
       "    </tr>\n",
       "    <tr>\n",
       "      <th>Savage2021_PIDB_T0</th>\n",
       "      <td>healthy</td>\n",
       "      <td>healthy</td>\n",
       "      <td>healthy</td>\n",
       "      <td>healthy</td>\n",
       "      <td>HIV</td>\n",
       "      <td>healthy</td>\n",
       "      <td>healthy</td>\n",
       "      <td>healthy</td>\n",
       "      <td>COVID</td>\n",
       "      <td>healthy</td>\n",
       "      <td>healthy</td>\n",
       "      <td>healthy</td>\n",
       "      <td>69.230769</td>\n",
       "      <td></td>\n",
       "      <td>15.384615</td>\n",
       "      <td>healthy</td>\n",
       "    </tr>\n",
       "  </tbody>\n",
       "</table>\n",
       "<p>86 rows × 16 columns</p>\n",
       "</div>"
      ],
      "text/plain": [
       "                      B_prediction DC_prediction ILC_prediction  \\\n",
       "sampleID                                                          \n",
       "10XGenomics_10XHC1_T0          NPC       healthy        healthy   \n",
       "10XGenomics_10XHC2_T0          NPC       healthy        healthy   \n",
       "10XGenomics_10XHC3_T0          SLE       healthy        healthy   \n",
       "10XGenomics_10XHC4_T0          SLE       healthy           COPD   \n",
       "10XGenomics_10XHC5_T0          SLE       healthy        healthy   \n",
       "...                            ...           ...            ...   \n",
       "Savage2021_BRISL5_T0           SLE           SLE          HNSCC   \n",
       "Savage2021_BRISL6_T0         HNSCC       healthy          HNSCC   \n",
       "Savage2021_BRISL7_T0           SLE       healthy          COVID   \n",
       "Savage2021_PIDA_T0         healthy       healthy        healthy   \n",
       "Savage2021_PIDB_T0         healthy       healthy        healthy   \n",
       "\n",
       "                      Mono_prediction Plasma_prediction  \\\n",
       "sampleID                                                  \n",
       "10XGenomics_10XHC1_T0             SLE               NPC   \n",
       "10XGenomics_10XHC2_T0         healthy             COVID   \n",
       "10XGenomics_10XHC3_T0             SLE               SLE   \n",
       "10XGenomics_10XHC4_T0             SLE               SLE   \n",
       "10XGenomics_10XHC5_T0             SLE               SLE   \n",
       "...                               ...               ...   \n",
       "Savage2021_BRISL5_T0            COVID             HNSCC   \n",
       "Savage2021_BRISL6_T0          healthy             HNSCC   \n",
       "Savage2021_BRISL7_T0            HNSCC             COVID   \n",
       "Savage2021_PIDA_T0            healthy               HIV   \n",
       "Savage2021_PIDB_T0            healthy               HIV   \n",
       "\n",
       "                      T_CD4_Naive_prediction T_CD4_NonNaive_prediction  \\\n",
       "sampleID                                                                 \n",
       "10XGenomics_10XHC1_T0                    NPC                       NPC   \n",
       "10XGenomics_10XHC2_T0                    NPC                       NPC   \n",
       "10XGenomics_10XHC3_T0                     PS                   healthy   \n",
       "10XGenomics_10XHC4_T0                healthy                   healthy   \n",
       "10XGenomics_10XHC5_T0                healthy                   healthy   \n",
       "...                                      ...                       ...   \n",
       "Savage2021_BRISL5_T0                   COVID                     COVID   \n",
       "Savage2021_BRISL6_T0                 healthy                   healthy   \n",
       "Savage2021_BRISL7_T0                     NPC                       NPC   \n",
       "Savage2021_PIDA_T0                   healthy                   healthy   \n",
       "Savage2021_PIDB_T0                   healthy                   healthy   \n",
       "\n",
       "                      T_CD8_Naive_prediction T_CD8_NonNaive_prediction  \\\n",
       "sampleID                                                                 \n",
       "10XGenomics_10XHC1_T0                    NPC                   healthy   \n",
       "10XGenomics_10XHC2_T0                    NPC                   healthy   \n",
       "10XGenomics_10XHC3_T0                healthy                   healthy   \n",
       "10XGenomics_10XHC4_T0                healthy                       NPC   \n",
       "10XGenomics_10XHC5_T0                healthy                   healthy   \n",
       "...                                      ...                       ...   \n",
       "Savage2021_BRISL5_T0                     NPC                     COVID   \n",
       "Savage2021_BRISL6_T0                 healthy                   healthy   \n",
       "Savage2021_BRISL7_T0                     NPC                     COVID   \n",
       "Savage2021_PIDA_T0                       HIV                   healthy   \n",
       "Savage2021_PIDB_T0                   healthy                     COVID   \n",
       "\n",
       "                      UTC_prediction pDC_prediction firstChoice  \\\n",
       "sampleID                                                          \n",
       "10XGenomics_10XHC1_T0        healthy        healthy         NPC   \n",
       "10XGenomics_10XHC2_T0        healthy        healthy     healthy   \n",
       "10XGenomics_10XHC3_T0        healthy        healthy     healthy   \n",
       "10XGenomics_10XHC4_T0        healthy        healthy     healthy   \n",
       "10XGenomics_10XHC5_T0        healthy        healthy     healthy   \n",
       "...                              ...            ...         ...   \n",
       "Savage2021_BRISL5_T0           HNSCC        healthy       COVID   \n",
       "Savage2021_BRISL6_T0           HNSCC        healthy     healthy   \n",
       "Savage2021_BRISL7_T0           COVID        healthy       COVID   \n",
       "Savage2021_PIDA_T0           healthy        healthy     healthy   \n",
       "Savage2021_PIDB_T0           healthy        healthy     healthy   \n",
       "\n",
       "                       firstChoice_perc secondChoice  secondChoice_perc  \\\n",
       "sampleID                                                                  \n",
       "10XGenomics_10XHC1_T0         38.461538      healthy          38.461538   \n",
       "10XGenomics_10XHC2_T0         46.153846          NPC          30.769231   \n",
       "10XGenomics_10XHC3_T0         53.846154          SLE          23.076923   \n",
       "10XGenomics_10XHC4_T0         46.153846          SLE          23.076923   \n",
       "10XGenomics_10XHC5_T0         61.538462          SLE          23.076923   \n",
       "...                                 ...          ...                ...   \n",
       "Savage2021_BRISL5_T0          30.769231        HNSCC          23.076923   \n",
       "Savage2021_BRISL6_T0          53.846154        HNSCC          30.769231   \n",
       "Savage2021_BRISL7_T0          30.769231          NPC          23.076923   \n",
       "Savage2021_PIDA_T0            69.230769          HIV          15.384615   \n",
       "Savage2021_PIDB_T0            69.230769                       15.384615   \n",
       "\n",
       "                      disease_true  \n",
       "sampleID                            \n",
       "10XGenomics_10XHC1_T0      healthy  \n",
       "10XGenomics_10XHC2_T0      healthy  \n",
       "10XGenomics_10XHC3_T0      healthy  \n",
       "10XGenomics_10XHC4_T0      healthy  \n",
       "10XGenomics_10XHC5_T0      healthy  \n",
       "...                            ...  \n",
       "Savage2021_BRISL5_T0           SLE  \n",
       "Savage2021_BRISL6_T0           SLE  \n",
       "Savage2021_BRISL7_T0           SLE  \n",
       "Savage2021_PIDA_T0         healthy  \n",
       "Savage2021_PIDB_T0         healthy  \n",
       "\n",
       "[86 rows x 16 columns]"
      ]
     },
     "execution_count": 30,
     "metadata": {},
     "output_type": "execute_result"
    }
   ],
   "source": [
    "res"
   ]
  }
 ],
 "metadata": {
  "kernelspec": {
   "display_name": "Python 3 (ipykernel)",
   "language": "python",
   "name": "python3"
  },
  "language_info": {
   "codemirror_mode": {
    "name": "ipython",
    "version": 3
   },
   "file_extension": ".py",
   "mimetype": "text/x-python",
   "name": "python",
   "nbconvert_exporter": "python",
   "pygments_lexer": "ipython3",
   "version": "3.10.13"
  },
  "papermill": {
   "default_parameters": {},
   "duration": 2823.722516,
   "end_time": "2024-06-19T09:18:04.855189",
   "environment_variables": {},
   "exception": null,
   "input_path": "a02_queryDatasets_and_labelTransfer.ipynb",
   "output_path": "executed_notebooks/a02_queryDatasets_and_labelTransfer_EXTERNAL_nPC50_Batch_chemistry.ipynb",
   "parameters": {
    "batchKeys": "chemistry",
    "nPC": 50,
    "queryDataset": "EXTERNAL"
   },
   "start_time": "2024-06-19T08:31:01.132673",
   "version": "2.5.0"
  }
 },
 "nbformat": 4,
 "nbformat_minor": 5
}