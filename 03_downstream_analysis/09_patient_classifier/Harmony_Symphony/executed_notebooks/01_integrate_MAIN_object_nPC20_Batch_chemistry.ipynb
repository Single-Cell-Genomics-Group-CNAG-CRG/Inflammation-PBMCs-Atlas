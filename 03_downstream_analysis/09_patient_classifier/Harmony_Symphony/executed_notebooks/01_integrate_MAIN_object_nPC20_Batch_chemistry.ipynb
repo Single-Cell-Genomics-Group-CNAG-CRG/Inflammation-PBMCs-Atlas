{
 "cells": [
  {
   "cell_type": "code",
   "execution_count": 1,
   "id": "807b6caa",
   "metadata": {
    "execution": {
     "iopub.execute_input": "2024-06-16T21:33:34.114153Z",
     "iopub.status.busy": "2024-06-16T21:33:34.113816Z",
     "iopub.status.idle": "2024-06-16T21:33:34.119326Z",
     "shell.execute_reply": "2024-06-16T21:33:34.118858Z"
    },
    "papermill": {
     "duration": 0.014155,
     "end_time": "2024-06-16T21:33:34.120392",
     "exception": false,
     "start_time": "2024-06-16T21:33:34.106237",
     "status": "completed"
    },
    "tags": [
     "injected-parameters"
    ]
   },
   "outputs": [],
   "source": [
    "# Parameters\n",
    "nPC = 20\n",
    "batchKeys = \"chemistry\"\n"
   ]
  },
  {
   "cell_type": "raw",
   "id": "b23fce1d-13c4-425c-a8e2-2d213aecc270",
   "metadata": {
    "execution": {
     "iopub.execute_input": "2024-06-07T16:29:56.221480Z",
     "iopub.status.busy": "2024-06-07T16:29:56.221137Z",
     "iopub.status.idle": "2024-06-07T16:29:56.223682Z",
     "shell.execute_reply": "2024-06-07T16:29:56.223368Z",
     "shell.execute_reply.started": "2024-06-07T16:29:56.221460Z"
    },
    "papermill": {
     "duration": 0.005508,
     "end_time": "2024-06-16T21:33:34.131796",
     "exception": false,
     "start_time": "2024-06-16T21:33:34.126288",
     "status": "completed"
    },
    "tags": []
   },
   "source": [
    "nPC = 30\n",
    "batchKeys = 'chemistry'"
   ]
  },
  {
   "cell_type": "code",
   "execution_count": 2,
   "id": "c33b3da1-8c7c-405f-8cd8-0b4c41120385",
   "metadata": {
    "execution": {
     "iopub.execute_input": "2024-06-16T21:33:34.145021Z",
     "iopub.status.busy": "2024-06-16T21:33:34.144706Z",
     "iopub.status.idle": "2024-06-16T21:33:34.148207Z",
     "shell.execute_reply": "2024-06-16T21:33:34.147715Z"
    },
    "papermill": {
     "duration": 0.010338,
     "end_time": "2024-06-16T21:33:34.149133",
     "exception": false,
     "start_time": "2024-06-16T21:33:34.138795",
     "status": "completed"
    },
    "tags": []
   },
   "outputs": [
    {
     "name": "stdout",
     "output_type": "stream",
     "text": [
      "nPC = 20\n",
      "batchKeys = chemistry\n"
     ]
    }
   ],
   "source": [
    "for v in ['nPC','batchKeys']:\n",
    "    if v in locals() or v in globals():\n",
    "        print(f\"{v} = {eval(v)}\")\n",
    "    else:\n",
    "        raise Exception(f\"{v} not specified\")"
   ]
  },
  {
   "cell_type": "code",
   "execution_count": 3,
   "id": "efdb80f5-e899-4f33-bef2-150b34859a2d",
   "metadata": {
    "execution": {
     "iopub.execute_input": "2024-06-16T21:33:34.161241Z",
     "iopub.status.busy": "2024-06-16T21:33:34.160804Z",
     "iopub.status.idle": "2024-06-16T21:33:54.575021Z",
     "shell.execute_reply": "2024-06-16T21:33:54.574414Z"
    },
    "papermill": {
     "duration": 20.421534,
     "end_time": "2024-06-16T21:33:54.576358",
     "exception": false,
     "start_time": "2024-06-16T21:33:34.154824",
     "status": "completed"
    },
    "tags": []
   },
   "outputs": [],
   "source": [
    "import os\n",
    "\n",
    "import scanpy as sc\n",
    "import pandas as pd\n",
    "import numpy as np\n",
    "\n",
    "import symphonypy as sp\n",
    "\n",
    "from pyprojroot import here\n",
    "\n",
    "random_seed = 42"
   ]
  },
  {
   "cell_type": "markdown",
   "id": "43ddb5fd-a284-4b0e-998b-aa752ca4985a",
   "metadata": {
    "papermill": {
     "duration": 0.006315,
     "end_time": "2024-06-16T21:33:54.588677",
     "exception": false,
     "start_time": "2024-06-16T21:33:54.582362",
     "status": "completed"
    },
    "tags": []
   },
   "source": [
    "### Functions"
   ]
  },
  {
   "cell_type": "code",
   "execution_count": 4,
   "id": "68d2bba3-84fd-4fc4-83a3-b6acd682540b",
   "metadata": {
    "execution": {
     "iopub.execute_input": "2024-06-16T21:33:54.617471Z",
     "iopub.status.busy": "2024-06-16T21:33:54.617051Z",
     "iopub.status.idle": "2024-06-16T21:33:54.622795Z",
     "shell.execute_reply": "2024-06-16T21:33:54.622436Z"
    },
    "papermill": {
     "duration": 0.019375,
     "end_time": "2024-06-16T21:33:54.623728",
     "exception": false,
     "start_time": "2024-06-16T21:33:54.604353",
     "status": "completed"
    },
    "tags": []
   },
   "outputs": [],
   "source": [
    "def aggregating_features(Z = None, obsDF = None, mode = 'mean', obs_names_col = []):\n",
    "    Zdf = pd.DataFrame(Z)\n",
    "    for c in obsDF.columns:\n",
    "        Zdf[c] = obsDF[c].tolist()\n",
    "    if mode in ['mean','avarage']:\n",
    "        Zaggr = Zdf.groupby(obsDF.columns.tolist(), observed = True).mean()\n",
    "    elif mode == 'sum':\n",
    "        Zaggr = Zdf.groupby(obsDF.columns.tolist(), observed = True).sum()\n",
    "    else:\n",
    "        raise ValueError(f\"mode {mode} not supported. Available mode are 'mean' or 'sum'\")\n",
    "\n",
    "    grpObs = pd.DataFrame(Zaggr.index.tolist(), columns=obsDF.columns.tolist())\n",
    "\n",
    "    if len(obs_names_col) == 0:\n",
    "        grpAdata  = sc.AnnData(X = np.array(Zaggr), obs = grpObs, )\n",
    "    elif all([c in obsDF.columns.tolist() for c in obs_names_col]):\n",
    "        grpObs.index = grpObs[obs_names_col].apply(lambda row: '_'.join(row.values.astype(str)), axis=1)\n",
    "        grpAdata  = sc.AnnData(X = np.array(Zaggr), obs = grpObs)\n",
    "    else:\n",
    "        raise ValueError(f\"Impossible to use {obs_names_col} as index. It's not present in obsDF\")\n",
    "    return grpAdata"
   ]
  },
  {
   "cell_type": "markdown",
   "id": "bd323da1-8446-4ffc-91ac-c737ce081412",
   "metadata": {
    "papermill": {
     "duration": 0.009612,
     "end_time": "2024-06-16T21:33:54.638610",
     "exception": false,
     "start_time": "2024-06-16T21:33:54.628998",
     "status": "completed"
    },
    "tags": []
   },
   "source": [
    "### Parameters"
   ]
  },
  {
   "cell_type": "code",
   "execution_count": 5,
   "id": "3f81fe70-a960-401d-a05d-9d9199edd620",
   "metadata": {
    "execution": {
     "iopub.execute_input": "2024-06-16T21:33:54.649773Z",
     "iopub.status.busy": "2024-06-16T21:33:54.649530Z",
     "iopub.status.idle": "2024-06-16T21:33:54.654352Z",
     "shell.execute_reply": "2024-06-16T21:33:54.653994Z"
    },
    "papermill": {
     "duration": 0.011574,
     "end_time": "2024-06-16T21:33:54.655243",
     "exception": false,
     "start_time": "2024-06-16T21:33:54.643669",
     "status": "completed"
    },
    "tags": []
   },
   "outputs": [
    {
     "data": {
      "text/plain": [
       "['chemistry']"
      ]
     },
     "execution_count": 5,
     "metadata": {},
     "output_type": "execute_result"
    }
   ],
   "source": [
    "batch_key_ref = batchKeys.split(',')\n",
    "batch_key_ref"
   ]
  },
  {
   "cell_type": "markdown",
   "id": "008170b2-f7e2-4c59-b434-b682dacf1110",
   "metadata": {
    "papermill": {
     "duration": 0.005348,
     "end_time": "2024-06-16T21:33:54.665945",
     "exception": false,
     "start_time": "2024-06-16T21:33:54.660597",
     "status": "completed"
    },
    "tags": []
   },
   "source": [
    "### Loading reference data"
   ]
  },
  {
   "cell_type": "code",
   "execution_count": 6,
   "id": "8e361302-99f5-48fe-989b-f196e18ae0dd",
   "metadata": {
    "execution": {
     "iopub.execute_input": "2024-06-16T21:33:54.677017Z",
     "iopub.status.busy": "2024-06-16T21:33:54.676739Z",
     "iopub.status.idle": "2024-06-16T21:35:13.695545Z",
     "shell.execute_reply": "2024-06-16T21:35:13.695005Z"
    },
    "papermill": {
     "duration": 79.033823,
     "end_time": "2024-06-16T21:35:13.704877",
     "exception": false,
     "start_time": "2024-06-16T21:33:54.671054",
     "status": "completed"
    },
    "tags": []
   },
   "outputs": [
    {
     "data": {
      "text/plain": [
       "AnnData object with n_obs × n_vars = 4435922 × 8253\n",
       "    obs: 'studyID', 'libraryID', 'sampleID', 'chemistry', 'disease', 'sex', 'binned_age', 'Level1', 'Level2'\n",
       "    var: 'hgnc_id', 'symbol', 'locus_group', 'HUGO_status', 'highly_variable'"
      ]
     },
     "execution_count": 6,
     "metadata": {},
     "output_type": "execute_result"
    }
   ],
   "source": [
    "adataR = sc.read_h5ad(here('03_downstream_analysis/02_gene_universe_definition/results/04_MAIN_geneUniverse.h5ad'))\n",
    "adataR"
   ]
  },
  {
   "cell_type": "markdown",
   "id": "0be9f746-fd30-4f97-9ec7-1a1e1f831776",
   "metadata": {
    "papermill": {
     "duration": 0.005519,
     "end_time": "2024-06-16T21:35:13.716189",
     "exception": false,
     "start_time": "2024-06-16T21:35:13.710670",
     "status": "completed"
    },
    "tags": []
   },
   "source": [
    "### Preprocessing"
   ]
  },
  {
   "cell_type": "code",
   "execution_count": 7,
   "id": "db7e0e86-4cfc-44f7-a6f1-1fa3795ad5a3",
   "metadata": {
    "execution": {
     "iopub.execute_input": "2024-06-16T21:35:13.728014Z",
     "iopub.status.busy": "2024-06-16T21:35:13.727784Z",
     "iopub.status.idle": "2024-06-16T21:38:43.011131Z",
     "shell.execute_reply": "2024-06-16T21:38:43.010444Z"
    },
    "papermill": {
     "duration": 209.291099,
     "end_time": "2024-06-16T21:38:43.012713",
     "exception": false,
     "start_time": "2024-06-16T21:35:13.721614",
     "status": "completed"
    },
    "tags": []
   },
   "outputs": [],
   "source": [
    "sc.pp.normalize_total(adataR, target_sum=1e4)\n",
    "sc.pp.log1p(adataR)"
   ]
  },
  {
   "cell_type": "code",
   "execution_count": 8,
   "id": "74e00e88-f97f-457b-928e-ee7c2e91b64a",
   "metadata": {
    "execution": {
     "iopub.execute_input": "2024-06-16T21:38:43.031013Z",
     "iopub.status.busy": "2024-06-16T21:38:43.030788Z",
     "iopub.status.idle": "2024-06-16T21:42:42.514428Z",
     "shell.execute_reply": "2024-06-16T21:42:42.513686Z"
    },
    "papermill": {
     "duration": 239.492537,
     "end_time": "2024-06-16T21:42:42.516251",
     "exception": false,
     "start_time": "2024-06-16T21:38:43.023714",
     "status": "completed"
    },
    "tags": []
   },
   "outputs": [],
   "source": [
    "# We followed the tutorial from the python package (https://symphonypy.readthedocs.io/en/latest/usage.html)\n",
    "sc.pp.scale(adataR)"
   ]
  },
  {
   "cell_type": "code",
   "execution_count": 9,
   "id": "07fb0fc9-4a10-47fb-b4d6-3b7d66286cfd",
   "metadata": {
    "execution": {
     "iopub.execute_input": "2024-06-16T21:42:42.536515Z",
     "iopub.status.busy": "2024-06-16T21:42:42.536307Z",
     "iopub.status.idle": "2024-06-16T23:42:29.496990Z",
     "shell.execute_reply": "2024-06-16T23:42:29.496334Z"
    },
    "papermill": {
     "duration": 7186.96931,
     "end_time": "2024-06-16T23:42:29.498585",
     "exception": false,
     "start_time": "2024-06-16T21:42:42.529275",
     "status": "completed"
    },
    "tags": []
   },
   "outputs": [],
   "source": [
    "sc.pp.pca(adataR, \n",
    "          n_comps=nPC, \n",
    "          use_highly_variable = False,\n",
    "          zero_center=False)"
   ]
  },
  {
   "cell_type": "markdown",
   "id": "3109c878-d7d1-4372-9462-0ccdb78070dc",
   "metadata": {
    "papermill": {
     "duration": 0.005792,
     "end_time": "2024-06-16T23:42:29.514608",
     "exception": false,
     "start_time": "2024-06-16T23:42:29.508816",
     "status": "completed"
    },
    "tags": []
   },
   "source": [
    "### Integration with Harmony"
   ]
  },
  {
   "cell_type": "code",
   "execution_count": 10,
   "id": "d2e7eed3-c2e1-4031-a49f-89e32fe17130",
   "metadata": {
    "execution": {
     "iopub.execute_input": "2024-06-16T23:42:29.526932Z",
     "iopub.status.busy": "2024-06-16T23:42:29.526747Z",
     "iopub.status.idle": "2024-06-17T03:00:46.490536Z",
     "shell.execute_reply": "2024-06-17T03:00:46.489903Z"
    },
    "papermill": {
     "duration": 11896.971698,
     "end_time": "2024-06-17T03:00:46.492059",
     "exception": false,
     "start_time": "2024-06-16T23:42:29.520361",
     "status": "completed"
    },
    "tags": []
   },
   "outputs": [
    {
     "name": "stdout",
     "output_type": "stream",
     "text": [
      "Harmony integration with harmonypy is preforming.\n"
     ]
    },
    {
     "name": "stderr",
     "output_type": "stream",
     "text": [
      "2024-06-17 01:42:30,624 - harmonypy - INFO - Computing initial centroids with sklearn.KMeans...\n"
     ]
    },
    {
     "name": "stderr",
     "output_type": "stream",
     "text": [
      "2024-06-17 01:54:35,606 - harmonypy - INFO - sklearn.KMeans initialization complete.\n"
     ]
    },
    {
     "name": "stderr",
     "output_type": "stream",
     "text": [
      "2024-06-17 01:55:16,320 - harmonypy - INFO - Iteration 1 of 100\n"
     ]
    },
    {
     "name": "stderr",
     "output_type": "stream",
     "text": [
      "2024-06-17 02:56:49,553 - harmonypy - INFO - Iteration 2 of 100\n"
     ]
    },
    {
     "name": "stderr",
     "output_type": "stream",
     "text": [
      "2024-06-17 03:58:55,192 - harmonypy - INFO - Iteration 3 of 100\n"
     ]
    },
    {
     "name": "stderr",
     "output_type": "stream",
     "text": [
      "2024-06-17 05:00:45,164 - harmonypy - INFO - Converged after 3 iterations\n"
     ]
    }
   ],
   "source": [
    "sp.pp.harmony_integrate(adataR,\n",
    "                        key=batch_key_ref, \n",
    "                        verbose = True, \n",
    "                        random_seed=random_seed,  \n",
    "                        **{'max_iter_harmony':100}, # harmony_kwargs | should reach convergence before\n",
    "                       )"
   ]
  },
  {
   "cell_type": "markdown",
   "id": "293069e9-53ac-4a34-88ef-633da997798d",
   "metadata": {
    "papermill": {
     "duration": 0.005698,
     "end_time": "2024-06-17T03:00:46.509309",
     "exception": false,
     "start_time": "2024-06-17T03:00:46.503611",
     "status": "completed"
    },
    "tags": []
   },
   "source": [
    "### Save integrated object"
   ]
  },
  {
   "cell_type": "code",
   "execution_count": 11,
   "id": "8f1c2d07-2a4b-40c6-9d48-b3d55317870d",
   "metadata": {
    "execution": {
     "iopub.execute_input": "2024-06-17T03:00:46.521571Z",
     "iopub.status.busy": "2024-06-17T03:00:46.521198Z",
     "iopub.status.idle": "2024-06-17T03:21:46.200908Z",
     "shell.execute_reply": "2024-06-17T03:21:46.200069Z"
    },
    "papermill": {
     "duration": 1259.687596,
     "end_time": "2024-06-17T03:21:46.202482",
     "exception": false,
     "start_time": "2024-06-17T03:00:46.514886",
     "status": "completed"
    },
    "tags": []
   },
   "outputs": [],
   "source": [
    "adataR.write(here(f\"03_downstream_analysis/08_PatientClassifier/Harmony_Symphony/results/01_MAIN_HarmonyIntegrated_{nPC}nPC_Batch_{batchKeys}.h5ad\"), compression='gzip')"
   ]
  },
  {
   "cell_type": "markdown",
   "id": "42c514ee-62a5-4cb0-b43d-86160a5c2122",
   "metadata": {
    "papermill": {
     "duration": 0.005985,
     "end_time": "2024-06-17T03:21:46.216442",
     "exception": false,
     "start_time": "2024-06-17T03:21:46.210457",
     "status": "completed"
    },
    "tags": []
   },
   "source": [
    "### Generating pseudobulk from latent space"
   ]
  },
  {
   "cell_type": "code",
   "execution_count": 12,
   "id": "f912d9bd-bb82-489e-98a6-9da7523b7dc7",
   "metadata": {
    "execution": {
     "iopub.execute_input": "2024-06-17T03:21:46.228744Z",
     "iopub.status.busy": "2024-06-17T03:21:46.228545Z",
     "iopub.status.idle": "2024-06-17T03:21:48.082687Z",
     "shell.execute_reply": "2024-06-17T03:21:48.082112Z"
    },
    "papermill": {
     "duration": 1.861689,
     "end_time": "2024-06-17T03:21:48.083805",
     "exception": false,
     "start_time": "2024-06-17T03:21:46.222116",
     "status": "completed"
    },
    "tags": []
   },
   "outputs": [],
   "source": [
    "emb_pseudobulk_train = aggregating_features(Z = adataR.obsm['X_pca_harmony'], \n",
    "                                            obsDF = adataR.obs[['sampleID','Level1','disease']], \n",
    "                                            mode = 'mean', obs_names_col=['sampleID','Level1'])"
   ]
  },
  {
   "cell_type": "code",
   "execution_count": 13,
   "id": "773a8fd1-2390-4ea2-aa4d-bf1672a6c8a8",
   "metadata": {
    "execution": {
     "iopub.execute_input": "2024-06-17T03:21:48.097858Z",
     "iopub.status.busy": "2024-06-17T03:21:48.097692Z",
     "iopub.status.idle": "2024-06-17T03:21:48.173511Z",
     "shell.execute_reply": "2024-06-17T03:21:48.173025Z"
    },
    "papermill": {
     "duration": 0.084004,
     "end_time": "2024-06-17T03:21:48.174805",
     "exception": false,
     "start_time": "2024-06-17T03:21:48.090801",
     "status": "completed"
    },
    "tags": []
   },
   "outputs": [],
   "source": [
    "emb_pseudobulk_train.write(here(f\"03_downstream_analysis/08_PatientClassifier/Harmony_Symphony/results/01_MAIN_HarmonyIntegrated_PSEUDOBULK_{nPC}nPC_Batch_{batchKeys}.h5ad\"), compression='gzip')"
   ]
  },
  {
   "cell_type": "code",
   "execution_count": null,
   "id": "0f68f2f6-9481-44db-a620-9fada9576c4a",
   "metadata": {
    "papermill": {
     "duration": 0.006134,
     "end_time": "2024-06-17T03:21:48.186788",
     "exception": false,
     "start_time": "2024-06-17T03:21:48.180654",
     "status": "completed"
    },
    "tags": []
   },
   "outputs": [],
   "source": []
  }
 ],
 "metadata": {
  "kernelspec": {
   "display_name": "Python 3 (ipykernel)",
   "language": "python",
   "name": "python3"
  },
  "language_info": {
   "codemirror_mode": {
    "name": "ipython",
    "version": 3
   },
   "file_extension": ".py",
   "mimetype": "text/x-python",
   "name": "python",
   "nbconvert_exporter": "python",
   "pygments_lexer": "ipython3",
   "version": "3.10.13"
  },
  "papermill": {
   "default_parameters": {},
   "duration": 20903.168034,
   "end_time": "2024-06-17T03:21:54.403998",
   "environment_variables": {},
   "exception": null,
   "input_path": "a01_integrate_MAIN_object.ipynb",
   "output_path": "executed_notebooks/a01_integrate_MAIN_object_nPC20_Batch_chemistry.ipynb",
   "parameters": {
    "batchKeys": "chemistry",
    "nPC": 20
   },
   "start_time": "2024-06-16T21:33:31.235964",
   "version": "2.5.0"
  }
 },
 "nbformat": 4,
 "nbformat_minor": 5
}