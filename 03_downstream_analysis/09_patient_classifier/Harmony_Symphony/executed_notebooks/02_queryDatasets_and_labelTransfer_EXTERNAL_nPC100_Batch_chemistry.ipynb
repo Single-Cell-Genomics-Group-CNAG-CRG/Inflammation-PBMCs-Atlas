{
 "cells": [
  {
   "cell_type": "code",
   "execution_count": 1,
   "id": "8db4b405",
   "metadata": {
    "execution": {
     "iopub.execute_input": "2024-06-11T08:42:19.355710Z",
     "iopub.status.busy": "2024-06-11T08:42:19.355534Z",
     "iopub.status.idle": "2024-06-11T08:42:19.361834Z",
     "shell.execute_reply": "2024-06-11T08:42:19.360943Z"
    },
    "papermill": {
     "duration": 0.018251,
     "end_time": "2024-06-11T08:42:19.363432",
     "exception": false,
     "start_time": "2024-06-11T08:42:19.345181",
     "status": "completed"
    },
    "tags": [
     "injected-parameters"
    ]
   },
   "outputs": [],
   "source": [
    "# Parameters\n",
    "nPC = 100\n",
    "batchKeys = \"chemistry\"\n",
    "queryDataset = \"EXTERNAL\"\n"
   ]
  },
  {
   "cell_type": "raw",
   "id": "2c824816-2fbb-43a3-9807-722d9facfef3",
   "metadata": {
    "execution": {
     "iopub.execute_input": "2024-06-11T07:53:10.263964Z",
     "iopub.status.busy": "2024-06-11T07:53:10.263681Z",
     "iopub.status.idle": "2024-06-11T07:53:10.269000Z",
     "shell.execute_reply": "2024-06-11T07:53:10.268634Z",
     "shell.execute_reply.started": "2024-06-11T07:53:10.263945Z"
    },
    "papermill": {
     "duration": 0.00775,
     "end_time": "2024-06-11T08:42:19.379687",
     "exception": false,
     "start_time": "2024-06-11T08:42:19.371937",
     "status": "completed"
    },
    "tags": []
   },
   "source": [
    "nPC = 100\n",
    "batchKeys = 'libraryID,chemistry,sex,binned_age'\n",
    "queryDataset = 'VALIDATION'"
   ]
  },
  {
   "cell_type": "code",
   "execution_count": 2,
   "id": "3044cc6c-ce26-4de6-8b7b-f8f9af090921",
   "metadata": {
    "execution": {
     "iopub.execute_input": "2024-06-11T08:42:19.398520Z",
     "iopub.status.busy": "2024-06-11T08:42:19.398083Z",
     "iopub.status.idle": "2024-06-11T08:42:19.401747Z",
     "shell.execute_reply": "2024-06-11T08:42:19.401253Z"
    },
    "papermill": {
     "duration": 0.014667,
     "end_time": "2024-06-11T08:42:19.402718",
     "exception": false,
     "start_time": "2024-06-11T08:42:19.388051",
     "status": "completed"
    },
    "tags": []
   },
   "outputs": [
    {
     "name": "stdout",
     "output_type": "stream",
     "text": [
      "nPC = 100\n",
      "batchKeys = chemistry\n",
      "queryDataset = EXTERNAL\n"
     ]
    }
   ],
   "source": [
    "for v in ['nPC','batchKeys', 'queryDataset']:\n",
    "    if v in locals() or v in globals():\n",
    "        print(f\"{v} = {eval(v)}\")\n",
    "    else:\n",
    "        raise Exception(f\"{v} not specified\")"
   ]
  },
  {
   "cell_type": "code",
   "execution_count": 3,
   "id": "a9a81822-a7c1-4b2c-9419-c1df388c8d1f",
   "metadata": {
    "execution": {
     "iopub.execute_input": "2024-06-11T08:42:19.421618Z",
     "iopub.status.busy": "2024-06-11T08:42:19.421411Z",
     "iopub.status.idle": "2024-06-11T08:42:23.210046Z",
     "shell.execute_reply": "2024-06-11T08:42:23.209378Z"
    },
    "papermill": {
     "duration": 3.800011,
     "end_time": "2024-06-11T08:42:23.211100",
     "exception": false,
     "start_time": "2024-06-11T08:42:19.411089",
     "status": "completed"
    },
    "tags": []
   },
   "outputs": [],
   "source": [
    "import os\n",
    "\n",
    "import scanpy as sc\n",
    "import pandas as pd\n",
    "import numpy as np\n",
    "\n",
    "import symphonypy as sp\n",
    "\n",
    "from sklearn.metrics import balanced_accuracy_score\n",
    "\n",
    "from pyprojroot import here\n",
    "\n",
    "random_seed = 42"
   ]
  },
  {
   "cell_type": "markdown",
   "id": "74a87fda-280f-4a4c-88bb-c84dfbaf3fbd",
   "metadata": {
    "papermill": {
     "duration": 0.008483,
     "end_time": "2024-06-11T08:42:23.239196",
     "exception": false,
     "start_time": "2024-06-11T08:42:23.230713",
     "status": "completed"
    },
    "tags": []
   },
   "source": [
    "### Defining functions"
   ]
  },
  {
   "cell_type": "code",
   "execution_count": 4,
   "id": "9b47d61d-d9b8-42d0-91f2-4e3b87ea4cbc",
   "metadata": {
    "execution": {
     "iopub.execute_input": "2024-06-11T08:42:23.270499Z",
     "iopub.status.busy": "2024-06-11T08:42:23.269998Z",
     "iopub.status.idle": "2024-06-11T08:42:23.282896Z",
     "shell.execute_reply": "2024-06-11T08:42:23.282527Z"
    },
    "papermill": {
     "duration": 0.024229,
     "end_time": "2024-06-11T08:42:23.283823",
     "exception": false,
     "start_time": "2024-06-11T08:42:23.259594",
     "status": "completed"
    },
    "tags": []
   },
   "outputs": [],
   "source": [
    "def train_classifier(adataTrain = None, cell_type_col = None, y_true_col = None, max_iter=10000,random_state = 25, model = 'LinearSVC'):\n",
    "    \n",
    "    import pandas as pd\n",
    "    from tqdm import tqdm\n",
    "    from sklearn.svm import LinearSVC, SVC\n",
    "\n",
    "    from sklearn.metrics import balanced_accuracy_score\n",
    "    \n",
    "    clfList = dict()\n",
    "    trainAccuracy = []\n",
    "    for ct_ in tqdm(adataTrain.obs[cell_type_col].unique()):\n",
    "        clfList[ct_] = dict()\n",
    "        X_i = adataTrain.X[adataTrain.obs[cell_type_col] == ct_]\n",
    "        y_true_i = adataTrain.obs[y_true_col][adataTrain.obs[cell_type_col] == ct_]\n",
    "\n",
    "        if mode == 'LinearSVC':\n",
    "            clfList[ct_]['clf'] = LinearSVC(max_iter=max_iter, dual = True, random_state = random_state).fit(X_i, y_true_i)\n",
    "        elif mode == 'SVC':\n",
    "            clfList[ct_]['clf'] = SVC(max_iter=max_iter, random_state = random_state).fit(X_i, y_true_i)\n",
    "            \n",
    "        clfList[ct_]['bAcc'] = balanced_accuracy_score(y_true = y_true_i, y_pred = clfList[ct_]['clf'].predict(X_i))\n",
    "        clfList[ct_]['nObs'] = len(y_true_i)\n",
    "\n",
    "    return clfList\n",
    "    \n",
    "def vote_disease(adataTest = None, clfList = None, cell_type_col = None, sample_id_col = None):\n",
    "\n",
    "    from tqdm import tqdm\n",
    "    import pandas as pd\n",
    "\n",
    "    \n",
    "    \n",
    "    classificationDF = pd.DataFrame()\n",
    "    for ct_ in tqdm(adataTest.obs[cell_type_col].unique()):\n",
    "        X_i = adataTest.X[adataTest.obs[cell_type_col] == ct_]\n",
    "        PID_i = adataTest.obs[sample_id_col][adataTest.obs[cell_type_col] == ct_]\n",
    "        if ct_ not in clfList:\n",
    "            print(f\"{ct_} is missing in training set\")\n",
    "            continue\n",
    "        DF_i = pd.DataFrame.from_dict({\n",
    "            sample_id_col: PID_i,\n",
    "            f\"{ct_}_prediction\": clfList[ct_]['clf'].predict(X_i)\n",
    "        })\n",
    "        if classificationDF.shape[0] == 0:\n",
    "            classificationDF = DF_i\n",
    "        else:\n",
    "            classificationDF = classificationDF.merge(DF_i, how='outer', on = sample_id_col)\n",
    "    classificationDF['firstChoice'] = ''\n",
    "    classificationDF['firstChoice_perc'] = np.nan\n",
    "    classificationDF['secondChoice'] = ''\n",
    "    classificationDF['secondChoice_perc'] = np.nan\n",
    "    \n",
    "    for i in tqdm(range(classificationDF.shape[0])):\n",
    "        vote_i = classificationDF.loc[i,classificationDF.columns !=sample_id_col].value_counts()\n",
    "        vote_i /= (vote_i.sum() / 100)\n",
    "        res_i = vote_i.sort_values(ascending=False)\n",
    "        classificationDF.loc[i,'firstChoice'] = res_i.index[0]\n",
    "        classificationDF.loc[i,'firstChoice_perc'] = res_i.iloc[0]\n",
    "        if res_i.shape[0] > 1:\n",
    "            classificationDF.loc[i,'secondChoice'] = res_i.index[1]\n",
    "            classificationDF.loc[i,'secondChoice_perc'] = res_i.iloc[1]\n",
    "\n",
    "    return classificationDF\n",
    "    \n",
    "def aggregating_features(Z = None, obsDF = None, mode = 'mean', obs_names_col = [], min_observation = 0):\n",
    "    Zdf = pd.DataFrame(Z)\n",
    "    for c in obsDF.columns:\n",
    "        Zdf[c] = obsDF[c].tolist()\n",
    "\n",
    "    grpDF = Zdf.groupby(obsDF.columns.tolist(), observed = True)\n",
    "\n",
    "    nCount = grpDF.size().to_frame('n_observation')\n",
    "    \n",
    "    if mode in ['mean','avarage']:\n",
    "        Zaggr = grpDF.mean()\n",
    "    elif mode == 'sum':\n",
    "        Zaggr = grpDF.sum()\n",
    "    else:\n",
    "        raise ValueError(f\"mode {mode} not supported. Available mode are 'mean' or 'sum'\")\n",
    "\n",
    "    grpObs = pd.DataFrame(Zaggr.index.tolist(), columns=obsDF.columns.tolist()).merge(pd.DataFrame(nCount).reset_index(), on = obsDF.columns.tolist())\n",
    "\n",
    "    if len(obs_names_col) == 0:\n",
    "        grpAdata  = sc.AnnData(X = np.array(Zaggr), obs = grpObs)\n",
    "    elif all([c in obsDF.columns.tolist() for c in obs_names_col]):\n",
    "        grpObs.index = grpObs[obs_names_col].apply(lambda row: '_'.join(row.values.astype(str)), axis=1)\n",
    "        grpAdata  = sc.AnnData(X = np.array(Zaggr), obs = grpObs)\n",
    "    else:\n",
    "        raise ValueError(f\"Impossible to use {obs_names_col} as index. It's not present in obsDF\")\n",
    "\n",
    "    if min_observation > 0:\n",
    "        grpAdata = grpAdata[grpAdata.obs.n_observation >= min_observation]\n",
    "    return grpAdata"
   ]
  },
  {
   "cell_type": "markdown",
   "id": "bd323da1-8446-4ffc-91ac-c737ce081412",
   "metadata": {
    "papermill": {
     "duration": 0.00841,
     "end_time": "2024-06-11T08:42:23.307342",
     "exception": false,
     "start_time": "2024-06-11T08:42:23.298932",
     "status": "completed"
    },
    "tags": []
   },
   "source": [
    "### Parameters"
   ]
  },
  {
   "cell_type": "code",
   "execution_count": 5,
   "id": "3f81fe70-a960-401d-a05d-9d9199edd620",
   "metadata": {
    "execution": {
     "iopub.execute_input": "2024-06-11T08:42:23.328579Z",
     "iopub.status.busy": "2024-06-11T08:42:23.328306Z",
     "iopub.status.idle": "2024-06-11T08:42:23.333276Z",
     "shell.execute_reply": "2024-06-11T08:42:23.332921Z"
    },
    "papermill": {
     "duration": 0.014842,
     "end_time": "2024-06-11T08:42:23.334162",
     "exception": false,
     "start_time": "2024-06-11T08:42:23.319320",
     "status": "completed"
    },
    "tags": []
   },
   "outputs": [
    {
     "data": {
      "text/plain": [
       "['chemistry']"
      ]
     },
     "execution_count": 5,
     "metadata": {},
     "output_type": "execute_result"
    }
   ],
   "source": [
    "batch_key_query = batchKeys.split(',')\n",
    "batch_key_query"
   ]
  },
  {
   "cell_type": "markdown",
   "id": "008170b2-f7e2-4c59-b434-b682dacf1110",
   "metadata": {
    "papermill": {
     "duration": 0.00888,
     "end_time": "2024-06-11T08:42:23.357503",
     "exception": false,
     "start_time": "2024-06-11T08:42:23.348623",
     "status": "completed"
    },
    "tags": []
   },
   "source": [
    "### Loading dataset"
   ]
  },
  {
   "cell_type": "markdown",
   "id": "c96cf9da-e2ed-4800-903c-316f4805e559",
   "metadata": {
    "papermill": {
     "duration": 0.013523,
     "end_time": "2024-06-11T08:42:23.379671",
     "exception": false,
     "start_time": "2024-06-11T08:42:23.366148",
     "status": "completed"
    },
    "tags": []
   },
   "source": [
    "**Integrated object**"
   ]
  },
  {
   "cell_type": "code",
   "execution_count": 6,
   "id": "8e361302-99f5-48fe-989b-f196e18ae0dd",
   "metadata": {
    "execution": {
     "iopub.execute_input": "2024-06-11T08:42:23.402644Z",
     "iopub.status.busy": "2024-06-11T08:42:23.402171Z",
     "iopub.status.idle": "2024-06-11T08:43:07.074111Z",
     "shell.execute_reply": "2024-06-11T08:43:07.073400Z"
    },
    "papermill": {
     "duration": 43.689748,
     "end_time": "2024-06-11T08:43:07.082571",
     "exception": false,
     "start_time": "2024-06-11T08:42:23.392823",
     "status": "completed"
    },
    "tags": []
   },
   "outputs": [
    {
     "data": {
      "text/plain": [
       "AnnData object with n_obs × n_vars = 4435922 × 8253 backed at '/scratch_isilon/groups/singlecell/shared/projects/Inflammation-PBMCs-Atlas/03_downstream_analysis/08_PatientClassifier/Harmony_Symphony/results/01_MAIN_HarmonyIntegrated_100nPC_Batch_chemistry.h5ad'\n",
       "    obs: 'studyID', 'libraryID', 'sampleID', 'chemistry', 'disease', 'sex', 'binned_age', 'Level1', 'Level2'\n",
       "    var: 'hgnc_id', 'symbol', 'locus_group', 'HUGO_status', 'highly_variable', 'mean', 'std'\n",
       "    uns: 'harmony', 'log1p', 'pca'\n",
       "    obsm: 'X_pca', 'X_pca_harmony'\n",
       "    varm: 'PCs'"
      ]
     },
     "execution_count": 6,
     "metadata": {},
     "output_type": "execute_result"
    }
   ],
   "source": [
    "adataR = sc.read_h5ad(here(f\"03_downstream_analysis/08_PatientClassifier/Harmony_Symphony/results/01_MAIN_HarmonyIntegrated_{nPC}nPC_Batch_{batchKeys}.h5ad\"), backed='r')\n",
    "adataR"
   ]
  },
  {
   "cell_type": "markdown",
   "id": "7a8289b7-ae48-40bd-a8bf-b8a61d6fea7c",
   "metadata": {
    "papermill": {
     "duration": 0.008032,
     "end_time": "2024-06-11T08:43:07.098679",
     "exception": false,
     "start_time": "2024-06-11T08:43:07.090647",
     "status": "completed"
    },
    "tags": []
   },
   "source": [
    "**Query dataset**"
   ]
  },
  {
   "cell_type": "code",
   "execution_count": 7,
   "id": "f8922a45-9d49-4b6e-be13-48cecafe227d",
   "metadata": {
    "execution": {
     "iopub.execute_input": "2024-06-11T08:43:07.115640Z",
     "iopub.status.busy": "2024-06-11T08:43:07.115400Z",
     "iopub.status.idle": "2024-06-11T08:43:16.939706Z",
     "shell.execute_reply": "2024-06-11T08:43:16.939247Z"
    },
    "papermill": {
     "duration": 9.834264,
     "end_time": "2024-06-11T08:43:16.940694",
     "exception": false,
     "start_time": "2024-06-11T08:43:07.106430",
     "status": "completed"
    },
    "tags": []
   },
   "outputs": [
    {
     "data": {
      "text/plain": [
       "AnnData object with n_obs × n_vars = 572872 × 8253\n",
       "    obs: 'studyID', 'libraryID', 'sampleID', 'chemistry', 'technology', 'disease', 'sex', 'binned_age'\n",
       "    var: 'hgnc_id', 'symbol', 'locus_group', 'HUGO_status'"
      ]
     },
     "execution_count": 7,
     "metadata": {},
     "output_type": "execute_result"
    }
   ],
   "source": [
    "adataQ = sc.read_h5ad(here(f'03_downstream_analysis/02_gene_universe_definition/results/05_{queryDataset}_geneUniverse.h5ad'))\n",
    "adataQ"
   ]
  },
  {
   "cell_type": "markdown",
   "id": "0be9f746-fd30-4f97-9ec7-1a1e1f831776",
   "metadata": {
    "papermill": {
     "duration": 0.009068,
     "end_time": "2024-06-11T08:43:16.962521",
     "exception": false,
     "start_time": "2024-06-11T08:43:16.953453",
     "status": "completed"
    },
    "tags": []
   },
   "source": [
    "### Preprocessing"
   ]
  },
  {
   "cell_type": "code",
   "execution_count": 8,
   "id": "db7e0e86-4cfc-44f7-a6f1-1fa3795ad5a3",
   "metadata": {
    "execution": {
     "iopub.execute_input": "2024-06-11T08:43:16.979951Z",
     "iopub.status.busy": "2024-06-11T08:43:16.979429Z",
     "iopub.status.idle": "2024-06-11T08:43:45.757627Z",
     "shell.execute_reply": "2024-06-11T08:43:45.757130Z"
    },
    "papermill": {
     "duration": 28.788094,
     "end_time": "2024-06-11T08:43:45.758825",
     "exception": false,
     "start_time": "2024-06-11T08:43:16.970731",
     "status": "completed"
    },
    "tags": []
   },
   "outputs": [],
   "source": [
    "sc.pp.normalize_total(adataQ, target_sum=1e4)\n",
    "sc.pp.log1p(adataQ)"
   ]
  },
  {
   "cell_type": "markdown",
   "id": "3109c878-d7d1-4372-9462-0ccdb78070dc",
   "metadata": {
    "papermill": {
     "duration": 0.008177,
     "end_time": "2024-06-11T08:43:45.775776",
     "exception": false,
     "start_time": "2024-06-11T08:43:45.767599",
     "status": "completed"
    },
    "tags": []
   },
   "source": [
    "### Projection with Symphony"
   ]
  },
  {
   "cell_type": "code",
   "execution_count": 9,
   "id": "d2e7eed3-c2e1-4031-a49f-89e32fe17130",
   "metadata": {
    "execution": {
     "iopub.execute_input": "2024-06-11T08:43:45.792923Z",
     "iopub.status.busy": "2024-06-11T08:43:45.792755Z",
     "iopub.status.idle": "2024-06-11T08:46:56.914617Z",
     "shell.execute_reply": "2024-06-11T08:46:56.913836Z"
    },
    "papermill": {
     "duration": 191.132491,
     "end_time": "2024-06-11T08:46:56.916469",
     "exception": false,
     "start_time": "2024-06-11T08:43:45.783978",
     "status": "completed"
    },
    "tags": []
   },
   "outputs": [],
   "source": [
    "sp.tl.map_embedding(adataQ, adataR, key=batch_key_query)"
   ]
  },
  {
   "cell_type": "code",
   "execution_count": 10,
   "id": "ca297baa-c283-440d-82d6-90586f0cb94f",
   "metadata": {
    "execution": {
     "iopub.execute_input": "2024-06-11T08:46:56.935926Z",
     "iopub.status.busy": "2024-06-11T08:46:56.935733Z",
     "iopub.status.idle": "2024-06-11T10:09:23.847221Z",
     "shell.execute_reply": "2024-06-11T10:09:23.846537Z"
    },
    "papermill": {
     "duration": 4946.922449,
     "end_time": "2024-06-11T10:09:23.848972",
     "exception": false,
     "start_time": "2024-06-11T08:46:56.926523",
     "status": "completed"
    },
    "tags": []
   },
   "outputs": [],
   "source": [
    "sp.tl.per_cell_confidence(adataQ, adataR)"
   ]
  },
  {
   "cell_type": "code",
   "execution_count": 11,
   "id": "0ae24ad9-1d56-4ed7-8c14-37c06081dc89",
   "metadata": {
    "execution": {
     "iopub.execute_input": "2024-06-11T10:09:23.874649Z",
     "iopub.status.busy": "2024-06-11T10:09:23.874452Z",
     "iopub.status.idle": "2024-06-11T10:09:24.408842Z",
     "shell.execute_reply": "2024-06-11T10:09:24.408423Z"
    },
    "papermill": {
     "duration": 0.544533,
     "end_time": "2024-06-11T10:09:24.409744",
     "exception": false,
     "start_time": "2024-06-11T10:09:23.865211",
     "status": "completed"
    },
    "tags": []
   },
   "outputs": [
    {
     "data": {
      "text/plain": [
       "<Axes: >"
      ]
     },
     "execution_count": 11,
     "metadata": {},
     "output_type": "execute_result"
    },
    {
     "data": {
      "image/png": "[encoded data removed]",
      "text/plain": [
       "<Figure size 640x480 with 1 Axes>"
      ]
     },
     "metadata": {},
     "output_type": "display_data"
    }
   ],
   "source": [
    "adataQ.obs.symphony_per_cell_dist.hist(bins=100)"
   ]
  },
  {
   "cell_type": "code",
   "execution_count": 12,
   "id": "2ee17ce6-f8c5-4a1e-b93e-9fc70ab7edb9",
   "metadata": {
    "execution": {
     "iopub.execute_input": "2024-06-11T10:09:24.428767Z",
     "iopub.status.busy": "2024-06-11T10:09:24.428599Z",
     "iopub.status.idle": "2024-06-11T10:09:24.431887Z",
     "shell.execute_reply": "2024-06-11T10:09:24.431532Z"
    },
    "papermill": {
     "duration": 0.014056,
     "end_time": "2024-06-11T10:09:24.432791",
     "exception": false,
     "start_time": "2024-06-11T10:09:24.418735",
     "status": "completed"
    },
    "tags": []
   },
   "outputs": [
    {
     "data": {
      "text/plain": [
       "AnnData object with n_obs × n_vars = 572872 × 8253\n",
       "    obs: 'studyID', 'libraryID', 'sampleID', 'chemistry', 'technology', 'disease', 'sex', 'binned_age', 'symphony_per_cell_dist'\n",
       "    var: 'hgnc_id', 'symbol', 'locus_group', 'HUGO_status'\n",
       "    uns: 'log1p'\n",
       "    obsm: 'X_pca_reference', 'X_pca_harmony', 'X_pca_harmony_symphony_R'"
      ]
     },
     "execution_count": 12,
     "metadata": {},
     "output_type": "execute_result"
    }
   ],
   "source": [
    "adataQ"
   ]
  },
  {
   "cell_type": "markdown",
   "id": "51e25a69-c8f9-43c8-b50c-e2b4aa826a6b",
   "metadata": {
    "papermill": {
     "duration": 0.008679,
     "end_time": "2024-06-11T10:09:24.450266",
     "exception": false,
     "start_time": "2024-06-11T10:09:24.441587",
     "status": "completed"
    },
    "tags": []
   },
   "source": [
    "### Label transfer"
   ]
  },
  {
   "cell_type": "code",
   "execution_count": 13,
   "id": "81d61d37-fdfa-4071-aace-eff99e9d6787",
   "metadata": {
    "execution": {
     "iopub.execute_input": "2024-06-11T10:09:24.468765Z",
     "iopub.status.busy": "2024-06-11T10:09:24.468427Z",
     "iopub.status.idle": "2024-06-11T10:09:24.470531Z",
     "shell.execute_reply": "2024-06-11T10:09:24.470175Z"
    },
    "papermill": {
     "duration": 0.012318,
     "end_time": "2024-06-11T10:09:24.471393",
     "exception": false,
     "start_time": "2024-06-11T10:09:24.459075",
     "status": "completed"
    },
    "tags": []
   },
   "outputs": [],
   "source": [
    "# common embedded space -> adataQ.obsm['X_pca_harmony']"
   ]
  },
  {
   "cell_type": "markdown",
   "id": "9482b233-08d7-4ed8-ad0f-729f59e05024",
   "metadata": {
    "papermill": {
     "duration": 0.008606,
     "end_time": "2024-06-11T10:09:24.488586",
     "exception": false,
     "start_time": "2024-06-11T10:09:24.479980",
     "status": "completed"
    },
    "tags": []
   },
   "source": [
    "**Level1 Annotation**"
   ]
  },
  {
   "cell_type": "code",
   "execution_count": 14,
   "id": "1016b8d2-0480-409a-aac4-1e521a1397b0",
   "metadata": {
    "execution": {
     "iopub.execute_input": "2024-06-11T10:09:24.506595Z",
     "iopub.status.busy": "2024-06-11T10:09:24.506424Z",
     "iopub.status.idle": "2024-06-11T10:33:57.211011Z",
     "shell.execute_reply": "2024-06-11T10:33:57.210362Z"
    },
    "papermill": {
     "duration": 1472.715068,
     "end_time": "2024-06-11T10:33:57.212354",
     "exception": false,
     "start_time": "2024-06-11T10:09:24.497286",
     "status": "completed"
    },
    "tags": []
   },
   "outputs": [],
   "source": [
    "sp.tl.transfer_labels_kNN(adataQ, adataR, 'Level1', ref_basis = 'X_pca_harmony', query_basis = 'X_pca_harmony')"
   ]
  },
  {
   "cell_type": "markdown",
   "id": "69eb76ae-aa03-4807-b680-a7423fb55458",
   "metadata": {
    "papermill": {
     "duration": 0.009174,
     "end_time": "2024-06-11T10:33:57.234560",
     "exception": false,
     "start_time": "2024-06-11T10:33:57.225386",
     "status": "completed"
    },
    "tags": []
   },
   "source": [
    "**Disease**"
   ]
  },
  {
   "cell_type": "code",
   "execution_count": 15,
   "id": "20429eca-9c43-4db8-b1da-94434c4c99c2",
   "metadata": {
    "execution": {
     "iopub.execute_input": "2024-06-11T10:33:57.253511Z",
     "iopub.status.busy": "2024-06-11T10:33:57.253311Z",
     "iopub.status.idle": "2024-06-11T10:33:57.257083Z",
     "shell.execute_reply": "2024-06-11T10:33:57.256715Z"
    },
    "papermill": {
     "duration": 0.01452,
     "end_time": "2024-06-11T10:33:57.257996",
     "exception": false,
     "start_time": "2024-06-11T10:33:57.243476",
     "status": "completed"
    },
    "tags": []
   },
   "outputs": [],
   "source": [
    "adataQ.obs.rename({'disease':'disease_true'}, axis=1, inplace=True)"
   ]
  },
  {
   "cell_type": "code",
   "execution_count": 16,
   "id": "7b72f7c3-af64-4a22-ab6b-8d5e5dbd4af3",
   "metadata": {
    "execution": {
     "iopub.execute_input": "2024-06-11T10:33:57.277071Z",
     "iopub.status.busy": "2024-06-11T10:33:57.276714Z",
     "iopub.status.idle": "2024-06-11T10:58:28.406803Z",
     "shell.execute_reply": "2024-06-11T10:58:28.406082Z"
    },
    "papermill": {
     "duration": 1471.140966,
     "end_time": "2024-06-11T10:58:28.408227",
     "exception": false,
     "start_time": "2024-06-11T10:33:57.267261",
     "status": "completed"
    },
    "tags": []
   },
   "outputs": [],
   "source": [
    "sp.tl.transfer_labels_kNN(adataQ, adataR, 'disease', ref_basis = 'X_pca_harmony', query_basis = 'X_pca_harmony')"
   ]
  },
  {
   "cell_type": "code",
   "execution_count": 17,
   "id": "2e1ad1d0-8a52-46a8-ae97-15dc2984f08e",
   "metadata": {
    "execution": {
     "iopub.execute_input": "2024-06-11T10:58:28.517906Z",
     "iopub.status.busy": "2024-06-11T10:58:28.517727Z",
     "iopub.status.idle": "2024-06-11T10:58:28.521289Z",
     "shell.execute_reply": "2024-06-11T10:58:28.520924Z"
    },
    "papermill": {
     "duration": 0.016336,
     "end_time": "2024-06-11T10:58:28.522206",
     "exception": false,
     "start_time": "2024-06-11T10:58:28.505870",
     "status": "completed"
    },
    "tags": []
   },
   "outputs": [],
   "source": [
    "adataQ.obs.rename({'disease':'disease_pred'}, axis=1, inplace=True)"
   ]
  },
  {
   "cell_type": "code",
   "execution_count": 18,
   "id": "0eb1c5d7-97fd-4c42-9b7b-8cddd8e22987",
   "metadata": {
    "execution": {
     "iopub.execute_input": "2024-06-11T10:58:28.542252Z",
     "iopub.status.busy": "2024-06-11T10:58:28.541924Z",
     "iopub.status.idle": "2024-06-11T10:58:30.299974Z",
     "shell.execute_reply": "2024-06-11T10:58:30.299567Z"
    },
    "papermill": {
     "duration": 1.76877,
     "end_time": "2024-06-11T10:58:30.300871",
     "exception": false,
     "start_time": "2024-06-11T10:58:28.532101",
     "status": "completed"
    },
    "tags": []
   },
   "outputs": [
    {
     "name": "stderr",
     "output_type": "stream",
     "text": [
      "/scratch_isilon/groups/singlecell/shared/conda_env/inflammation_atlas_R1/lib/python3.10/site-packages/sklearn/metrics/_classification.py:2458: UserWarning: y_pred contains classes not in y_true\n",
      "  warnings.warn(\"y_pred contains classes not in y_true\")\n"
     ]
    },
    {
     "data": {
      "text/plain": [
       "0.1697963900388118"
      ]
     },
     "execution_count": 18,
     "metadata": {},
     "output_type": "execute_result"
    }
   ],
   "source": [
    "balanced_accuracy_score(y_true = adataQ.obs.disease_true, y_pred=adataQ.obs.disease_pred)"
   ]
  },
  {
   "cell_type": "code",
   "execution_count": 19,
   "id": "0e4bc21f-ed6a-41d9-8254-1eb2bc58c1a1",
   "metadata": {
    "execution": {
     "iopub.execute_input": "2024-06-11T10:58:30.344281Z",
     "iopub.status.busy": "2024-06-11T10:58:30.344118Z",
     "iopub.status.idle": "2024-06-11T10:58:30.362147Z",
     "shell.execute_reply": "2024-06-11T10:58:30.361791Z"
    },
    "papermill": {
     "duration": 0.052703,
     "end_time": "2024-06-11T10:58:30.363055",
     "exception": false,
     "start_time": "2024-06-11T10:58:30.310352",
     "status": "completed"
    },
    "tags": []
   },
   "outputs": [
    {
     "data": {
      "text/html": [
       "<div>\n",
       "<style scoped>\n",
       "    .dataframe tbody tr th:only-of-type {\n",
       "        vertical-align: middle;\n",
       "    }\n",
       "\n",
       "    .dataframe tbody tr th {\n",
       "        vertical-align: top;\n",
       "    }\n",
       "\n",
       "    .dataframe thead th {\n",
       "        text-align: right;\n",
       "    }\n",
       "</style>\n",
       "<table border=\"1\" class=\"dataframe\">\n",
       "  <thead>\n",
       "    <tr style=\"text-align: right;\">\n",
       "      <th></th>\n",
       "      <th>studyID</th>\n",
       "      <th>libraryID</th>\n",
       "      <th>sampleID</th>\n",
       "      <th>chemistry</th>\n",
       "      <th>technology</th>\n",
       "      <th>disease_true</th>\n",
       "      <th>sex</th>\n",
       "      <th>binned_age</th>\n",
       "      <th>symphony_per_cell_dist</th>\n",
       "      <th>Level1</th>\n",
       "      <th>disease_pred</th>\n",
       "    </tr>\n",
       "    <tr>\n",
       "      <th>cellID</th>\n",
       "      <th></th>\n",
       "      <th></th>\n",
       "      <th></th>\n",
       "      <th></th>\n",
       "      <th></th>\n",
       "      <th></th>\n",
       "      <th></th>\n",
       "      <th></th>\n",
       "      <th></th>\n",
       "      <th></th>\n",
       "      <th></th>\n",
       "    </tr>\n",
       "  </thead>\n",
       "  <tbody>\n",
       "    <tr>\n",
       "      <th>SCGT00val_L006_I036016_T0_AAACCCAAGACAACTA</th>\n",
       "      <td>SCGT00val</td>\n",
       "      <td>SCGT00val_L006</td>\n",
       "      <td>SCGT00val_I036016_T0</td>\n",
       "      <td>3_GEX_V3</td>\n",
       "      <td>3_GEX_V3_GenoHashed</td>\n",
       "      <td>RA</td>\n",
       "      <td>female</td>\n",
       "      <td>31-40</td>\n",
       "      <td>7.880619</td>\n",
       "      <td>T_CD4_Naive</td>\n",
       "      <td>HIV</td>\n",
       "    </tr>\n",
       "    <tr>\n",
       "      <th>SCGT00val_L006_I036023_T0_AAACCCAAGACGGAAA</th>\n",
       "      <td>SCGT00val</td>\n",
       "      <td>SCGT00val_L006</td>\n",
       "      <td>SCGT00val_I036023_T0</td>\n",
       "      <td>3_GEX_V3</td>\n",
       "      <td>3_GEX_V3_GenoHashed</td>\n",
       "      <td>RA</td>\n",
       "      <td>female</td>\n",
       "      <td>51-60</td>\n",
       "      <td>9.543916</td>\n",
       "      <td>T_CD4_NonNaive</td>\n",
       "      <td>RA</td>\n",
       "    </tr>\n",
       "    <tr>\n",
       "      <th>SCGT00val_L006_I036016_T0_AAACCCAAGAGCATTA</th>\n",
       "      <td>SCGT00val</td>\n",
       "      <td>SCGT00val_L006</td>\n",
       "      <td>SCGT00val_I036016_T0</td>\n",
       "      <td>3_GEX_V3</td>\n",
       "      <td>3_GEX_V3_GenoHashed</td>\n",
       "      <td>RA</td>\n",
       "      <td>female</td>\n",
       "      <td>31-40</td>\n",
       "      <td>7.314053</td>\n",
       "      <td>T_CD4_Naive</td>\n",
       "      <td>SLE</td>\n",
       "    </tr>\n",
       "    <tr>\n",
       "      <th>SCGT00val_L006_I036021_T0_AAACCCAAGATGGTCG</th>\n",
       "      <td>SCGT00val</td>\n",
       "      <td>SCGT00val_L006</td>\n",
       "      <td>SCGT00val_I036021_T0</td>\n",
       "      <td>3_GEX_V3</td>\n",
       "      <td>3_GEX_V3_GenoHashed</td>\n",
       "      <td>RA</td>\n",
       "      <td>female</td>\n",
       "      <td>61-70</td>\n",
       "      <td>11.332739</td>\n",
       "      <td>T_CD8_NonNaive</td>\n",
       "      <td>SLE</td>\n",
       "    </tr>\n",
       "    <tr>\n",
       "      <th>SCGT00val_L006_I036021_T0_AAACCCAAGCAACAAT</th>\n",
       "      <td>SCGT00val</td>\n",
       "      <td>SCGT00val_L006</td>\n",
       "      <td>SCGT00val_I036021_T0</td>\n",
       "      <td>3_GEX_V3</td>\n",
       "      <td>3_GEX_V3_GenoHashed</td>\n",
       "      <td>RA</td>\n",
       "      <td>female</td>\n",
       "      <td>61-70</td>\n",
       "      <td>21.571433</td>\n",
       "      <td>DC</td>\n",
       "      <td>UC</td>\n",
       "    </tr>\n",
       "    <tr>\n",
       "      <th>...</th>\n",
       "      <td>...</td>\n",
       "      <td>...</td>\n",
       "      <td>...</td>\n",
       "      <td>...</td>\n",
       "      <td>...</td>\n",
       "      <td>...</td>\n",
       "      <td>...</td>\n",
       "      <td>...</td>\n",
       "      <td>...</td>\n",
       "      <td>...</td>\n",
       "      <td>...</td>\n",
       "    </tr>\n",
       "    <tr>\n",
       "      <th>10XGenomics_L008_10XHC8_T0_TTTGTCATCCACGTTC</th>\n",
       "      <td>10XGenomics</td>\n",
       "      <td>10XGenomics_L008</td>\n",
       "      <td>10XGenomics_10XHC8_T0</td>\n",
       "      <td>5_GEX_V2</td>\n",
       "      <td>5_GEX_V2</td>\n",
       "      <td>healthy</td>\n",
       "      <td>na</td>\n",
       "      <td>NaN</td>\n",
       "      <td>9.427224</td>\n",
       "      <td>B</td>\n",
       "      <td>healthy</td>\n",
       "    </tr>\n",
       "    <tr>\n",
       "      <th>10XGenomics_L008_10XHC8_T0_TTTGTCATCCCGACTT</th>\n",
       "      <td>10XGenomics</td>\n",
       "      <td>10XGenomics_L008</td>\n",
       "      <td>10XGenomics_10XHC8_T0</td>\n",
       "      <td>5_GEX_V2</td>\n",
       "      <td>5_GEX_V2</td>\n",
       "      <td>healthy</td>\n",
       "      <td>na</td>\n",
       "      <td>NaN</td>\n",
       "      <td>9.174198</td>\n",
       "      <td>T_CD4_Naive</td>\n",
       "      <td>healthy</td>\n",
       "    </tr>\n",
       "    <tr>\n",
       "      <th>10XGenomics_L008_10XHC8_T0_TTTGTCATCGTGGGAA</th>\n",
       "      <td>10XGenomics</td>\n",
       "      <td>10XGenomics_L008</td>\n",
       "      <td>10XGenomics_10XHC8_T0</td>\n",
       "      <td>5_GEX_V2</td>\n",
       "      <td>5_GEX_V2</td>\n",
       "      <td>healthy</td>\n",
       "      <td>na</td>\n",
       "      <td>NaN</td>\n",
       "      <td>9.948984</td>\n",
       "      <td>T_CD4_Naive</td>\n",
       "      <td>healthy</td>\n",
       "    </tr>\n",
       "    <tr>\n",
       "      <th>10XGenomics_L008_10XHC8_T0_TTTGTCATCTCAAACG</th>\n",
       "      <td>10XGenomics</td>\n",
       "      <td>10XGenomics_L008</td>\n",
       "      <td>10XGenomics_10XHC8_T0</td>\n",
       "      <td>5_GEX_V2</td>\n",
       "      <td>5_GEX_V2</td>\n",
       "      <td>healthy</td>\n",
       "      <td>na</td>\n",
       "      <td>NaN</td>\n",
       "      <td>10.782999</td>\n",
       "      <td>T_CD4_Naive</td>\n",
       "      <td>healthy</td>\n",
       "    </tr>\n",
       "    <tr>\n",
       "      <th>10XGenomics_L008_10XHC8_T0_TTTGTCATCTGTACGA</th>\n",
       "      <td>10XGenomics</td>\n",
       "      <td>10XGenomics_L008</td>\n",
       "      <td>10XGenomics_10XHC8_T0</td>\n",
       "      <td>5_GEX_V2</td>\n",
       "      <td>5_GEX_V2</td>\n",
       "      <td>healthy</td>\n",
       "      <td>na</td>\n",
       "      <td>NaN</td>\n",
       "      <td>10.277392</td>\n",
       "      <td>T_CD4_Naive</td>\n",
       "      <td>healthy</td>\n",
       "    </tr>\n",
       "  </tbody>\n",
       "</table>\n",
       "<p>572872 rows × 11 columns</p>\n",
       "</div>"
      ],
      "text/plain": [
       "                                                 studyID         libraryID  \\\n",
       "cellID                                                                       \n",
       "SCGT00val_L006_I036016_T0_AAACCCAAGACAACTA     SCGT00val    SCGT00val_L006   \n",
       "SCGT00val_L006_I036023_T0_AAACCCAAGACGGAAA     SCGT00val    SCGT00val_L006   \n",
       "SCGT00val_L006_I036016_T0_AAACCCAAGAGCATTA     SCGT00val    SCGT00val_L006   \n",
       "SCGT00val_L006_I036021_T0_AAACCCAAGATGGTCG     SCGT00val    SCGT00val_L006   \n",
       "SCGT00val_L006_I036021_T0_AAACCCAAGCAACAAT     SCGT00val    SCGT00val_L006   \n",
       "...                                                  ...               ...   \n",
       "10XGenomics_L008_10XHC8_T0_TTTGTCATCCACGTTC  10XGenomics  10XGenomics_L008   \n",
       "10XGenomics_L008_10XHC8_T0_TTTGTCATCCCGACTT  10XGenomics  10XGenomics_L008   \n",
       "10XGenomics_L008_10XHC8_T0_TTTGTCATCGTGGGAA  10XGenomics  10XGenomics_L008   \n",
       "10XGenomics_L008_10XHC8_T0_TTTGTCATCTCAAACG  10XGenomics  10XGenomics_L008   \n",
       "10XGenomics_L008_10XHC8_T0_TTTGTCATCTGTACGA  10XGenomics  10XGenomics_L008   \n",
       "\n",
       "                                                          sampleID chemistry  \\\n",
       "cellID                                                                         \n",
       "SCGT00val_L006_I036016_T0_AAACCCAAGACAACTA    SCGT00val_I036016_T0  3_GEX_V3   \n",
       "SCGT00val_L006_I036023_T0_AAACCCAAGACGGAAA    SCGT00val_I036023_T0  3_GEX_V3   \n",
       "SCGT00val_L006_I036016_T0_AAACCCAAGAGCATTA    SCGT00val_I036016_T0  3_GEX_V3   \n",
       "SCGT00val_L006_I036021_T0_AAACCCAAGATGGTCG    SCGT00val_I036021_T0  3_GEX_V3   \n",
       "SCGT00val_L006_I036021_T0_AAACCCAAGCAACAAT    SCGT00val_I036021_T0  3_GEX_V3   \n",
       "...                                                            ...       ...   \n",
       "10XGenomics_L008_10XHC8_T0_TTTGTCATCCACGTTC  10XGenomics_10XHC8_T0  5_GEX_V2   \n",
       "10XGenomics_L008_10XHC8_T0_TTTGTCATCCCGACTT  10XGenomics_10XHC8_T0  5_GEX_V2   \n",
       "10XGenomics_L008_10XHC8_T0_TTTGTCATCGTGGGAA  10XGenomics_10XHC8_T0  5_GEX_V2   \n",
       "10XGenomics_L008_10XHC8_T0_TTTGTCATCTCAAACG  10XGenomics_10XHC8_T0  5_GEX_V2   \n",
       "10XGenomics_L008_10XHC8_T0_TTTGTCATCTGTACGA  10XGenomics_10XHC8_T0  5_GEX_V2   \n",
       "\n",
       "                                                      technology disease_true  \\\n",
       "cellID                                                                          \n",
       "SCGT00val_L006_I036016_T0_AAACCCAAGACAACTA   3_GEX_V3_GenoHashed           RA   \n",
       "SCGT00val_L006_I036023_T0_AAACCCAAGACGGAAA   3_GEX_V3_GenoHashed           RA   \n",
       "SCGT00val_L006_I036016_T0_AAACCCAAGAGCATTA   3_GEX_V3_GenoHashed           RA   \n",
       "SCGT00val_L006_I036021_T0_AAACCCAAGATGGTCG   3_GEX_V3_GenoHashed           RA   \n",
       "SCGT00val_L006_I036021_T0_AAACCCAAGCAACAAT   3_GEX_V3_GenoHashed           RA   \n",
       "...                                                          ...          ...   \n",
       "10XGenomics_L008_10XHC8_T0_TTTGTCATCCACGTTC             5_GEX_V2      healthy   \n",
       "10XGenomics_L008_10XHC8_T0_TTTGTCATCCCGACTT             5_GEX_V2      healthy   \n",
       "10XGenomics_L008_10XHC8_T0_TTTGTCATCGTGGGAA             5_GEX_V2      healthy   \n",
       "10XGenomics_L008_10XHC8_T0_TTTGTCATCTCAAACG             5_GEX_V2      healthy   \n",
       "10XGenomics_L008_10XHC8_T0_TTTGTCATCTGTACGA             5_GEX_V2      healthy   \n",
       "\n",
       "                                                sex binned_age  \\\n",
       "cellID                                                           \n",
       "SCGT00val_L006_I036016_T0_AAACCCAAGACAACTA   female      31-40   \n",
       "SCGT00val_L006_I036023_T0_AAACCCAAGACGGAAA   female      51-60   \n",
       "SCGT00val_L006_I036016_T0_AAACCCAAGAGCATTA   female      31-40   \n",
       "SCGT00val_L006_I036021_T0_AAACCCAAGATGGTCG   female      61-70   \n",
       "SCGT00val_L006_I036021_T0_AAACCCAAGCAACAAT   female      61-70   \n",
       "...                                             ...        ...   \n",
       "10XGenomics_L008_10XHC8_T0_TTTGTCATCCACGTTC      na        NaN   \n",
       "10XGenomics_L008_10XHC8_T0_TTTGTCATCCCGACTT      na        NaN   \n",
       "10XGenomics_L008_10XHC8_T0_TTTGTCATCGTGGGAA      na        NaN   \n",
       "10XGenomics_L008_10XHC8_T0_TTTGTCATCTCAAACG      na        NaN   \n",
       "10XGenomics_L008_10XHC8_T0_TTTGTCATCTGTACGA      na        NaN   \n",
       "\n",
       "                                             symphony_per_cell_dist  \\\n",
       "cellID                                                                \n",
       "SCGT00val_L006_I036016_T0_AAACCCAAGACAACTA                 7.880619   \n",
       "SCGT00val_L006_I036023_T0_AAACCCAAGACGGAAA                 9.543916   \n",
       "SCGT00val_L006_I036016_T0_AAACCCAAGAGCATTA                 7.314053   \n",
       "SCGT00val_L006_I036021_T0_AAACCCAAGATGGTCG                11.332739   \n",
       "SCGT00val_L006_I036021_T0_AAACCCAAGCAACAAT                21.571433   \n",
       "...                                                             ...   \n",
       "10XGenomics_L008_10XHC8_T0_TTTGTCATCCACGTTC                9.427224   \n",
       "10XGenomics_L008_10XHC8_T0_TTTGTCATCCCGACTT                9.174198   \n",
       "10XGenomics_L008_10XHC8_T0_TTTGTCATCGTGGGAA                9.948984   \n",
       "10XGenomics_L008_10XHC8_T0_TTTGTCATCTCAAACG               10.782999   \n",
       "10XGenomics_L008_10XHC8_T0_TTTGTCATCTGTACGA               10.277392   \n",
       "\n",
       "                                                     Level1 disease_pred  \n",
       "cellID                                                                    \n",
       "SCGT00val_L006_I036016_T0_AAACCCAAGACAACTA      T_CD4_Naive          HIV  \n",
       "SCGT00val_L006_I036023_T0_AAACCCAAGACGGAAA   T_CD4_NonNaive           RA  \n",
       "SCGT00val_L006_I036016_T0_AAACCCAAGAGCATTA      T_CD4_Naive          SLE  \n",
       "SCGT00val_L006_I036021_T0_AAACCCAAGATGGTCG   T_CD8_NonNaive          SLE  \n",
       "SCGT00val_L006_I036021_T0_AAACCCAAGCAACAAT               DC           UC  \n",
       "...                                                     ...          ...  \n",
       "10XGenomics_L008_10XHC8_T0_TTTGTCATCCACGTTC               B      healthy  \n",
       "10XGenomics_L008_10XHC8_T0_TTTGTCATCCCGACTT     T_CD4_Naive      healthy  \n",
       "10XGenomics_L008_10XHC8_T0_TTTGTCATCGTGGGAA     T_CD4_Naive      healthy  \n",
       "10XGenomics_L008_10XHC8_T0_TTTGTCATCTCAAACG     T_CD4_Naive      healthy  \n",
       "10XGenomics_L008_10XHC8_T0_TTTGTCATCTGTACGA     T_CD4_Naive      healthy  \n",
       "\n",
       "[572872 rows x 11 columns]"
      ]
     },
     "execution_count": 19,
     "metadata": {},
     "output_type": "execute_result"
    }
   ],
   "source": [
    "adataQ.obs"
   ]
  },
  {
   "cell_type": "markdown",
   "id": "604b824a-321a-4ebe-802f-39ac50ec5238",
   "metadata": {
    "papermill": {
     "duration": 0.010113,
     "end_time": "2024-06-11T10:58:30.384410",
     "exception": false,
     "start_time": "2024-06-11T10:58:30.374297",
     "status": "completed"
    },
    "tags": []
   },
   "source": [
    "### Generating pseudobulk from latent space for Q dataset"
   ]
  },
  {
   "cell_type": "code",
   "execution_count": 20,
   "id": "995ab0a0-f978-4667-a85a-72b4757305c5",
   "metadata": {
    "execution": {
     "iopub.execute_input": "2024-06-11T10:58:30.404730Z",
     "iopub.status.busy": "2024-06-11T10:58:30.404574Z",
     "iopub.status.idle": "2024-06-11T10:58:30.714156Z",
     "shell.execute_reply": "2024-06-11T10:58:30.713646Z"
    },
    "papermill": {
     "duration": 0.321034,
     "end_time": "2024-06-11T10:58:30.715238",
     "exception": false,
     "start_time": "2024-06-11T10:58:30.394204",
     "status": "completed"
    },
    "tags": []
   },
   "outputs": [],
   "source": [
    "emb_pseudobulk_Q = aggregating_features(Z = adataQ.obsm['X_pca_harmony'], obsDF = adataQ.obs[['sampleID','Level1','disease_true']], mode = 'mean', obs_names_col=['sampleID','Level1'])"
   ]
  },
  {
   "cell_type": "code",
   "execution_count": 21,
   "id": "841534d1-d593-4372-b4d1-3133ae9180d8",
   "metadata": {
    "execution": {
     "iopub.execute_input": "2024-06-11T10:58:30.738650Z",
     "iopub.status.busy": "2024-06-11T10:58:30.738485Z",
     "iopub.status.idle": "2024-06-11T10:58:30.744980Z",
     "shell.execute_reply": "2024-06-11T10:58:30.744624Z"
    },
    "papermill": {
     "duration": 0.018343,
     "end_time": "2024-06-11T10:58:30.745853",
     "exception": false,
     "start_time": "2024-06-11T10:58:30.727510",
     "status": "completed"
    },
    "tags": []
   },
   "outputs": [
    {
     "data": {
      "text/html": [
       "<div>\n",
       "<style scoped>\n",
       "    .dataframe tbody tr th:only-of-type {\n",
       "        vertical-align: middle;\n",
       "    }\n",
       "\n",
       "    .dataframe tbody tr th {\n",
       "        vertical-align: top;\n",
       "    }\n",
       "\n",
       "    .dataframe thead th {\n",
       "        text-align: right;\n",
       "    }\n",
       "</style>\n",
       "<table border=\"1\" class=\"dataframe\">\n",
       "  <thead>\n",
       "    <tr style=\"text-align: right;\">\n",
       "      <th></th>\n",
       "      <th>sampleID</th>\n",
       "      <th>Level1</th>\n",
       "      <th>disease_true</th>\n",
       "      <th>n_observation</th>\n",
       "    </tr>\n",
       "  </thead>\n",
       "  <tbody>\n",
       "    <tr>\n",
       "      <th>10XGenomics_10XHC1_T0_B</th>\n",
       "      <td>10XGenomics_10XHC1_T0</td>\n",
       "      <td>B</td>\n",
       "      <td>healthy</td>\n",
       "      <td>977</td>\n",
       "    </tr>\n",
       "    <tr>\n",
       "      <th>10XGenomics_10XHC1_T0_Cycling_cells</th>\n",
       "      <td>10XGenomics_10XHC1_T0</td>\n",
       "      <td>Cycling_cells</td>\n",
       "      <td>healthy</td>\n",
       "      <td>20</td>\n",
       "    </tr>\n",
       "    <tr>\n",
       "      <th>10XGenomics_10XHC1_T0_DC</th>\n",
       "      <td>10XGenomics_10XHC1_T0</td>\n",
       "      <td>DC</td>\n",
       "      <td>healthy</td>\n",
       "      <td>129</td>\n",
       "    </tr>\n",
       "    <tr>\n",
       "      <th>10XGenomics_10XHC1_T0_ILC</th>\n",
       "      <td>10XGenomics_10XHC1_T0</td>\n",
       "      <td>ILC</td>\n",
       "      <td>healthy</td>\n",
       "      <td>318</td>\n",
       "    </tr>\n",
       "    <tr>\n",
       "      <th>10XGenomics_10XHC1_T0_Mono</th>\n",
       "      <td>10XGenomics_10XHC1_T0</td>\n",
       "      <td>Mono</td>\n",
       "      <td>healthy</td>\n",
       "      <td>1462</td>\n",
       "    </tr>\n",
       "    <tr>\n",
       "      <th>...</th>\n",
       "      <td>...</td>\n",
       "      <td>...</td>\n",
       "      <td>...</td>\n",
       "      <td>...</td>\n",
       "    </tr>\n",
       "    <tr>\n",
       "      <th>Savage2021_PIDB_T0_T_CD4_NonNaive</th>\n",
       "      <td>Savage2021_PIDB_T0</td>\n",
       "      <td>T_CD4_NonNaive</td>\n",
       "      <td>healthy</td>\n",
       "      <td>1756</td>\n",
       "    </tr>\n",
       "    <tr>\n",
       "      <th>Savage2021_PIDB_T0_T_CD8_Naive</th>\n",
       "      <td>Savage2021_PIDB_T0</td>\n",
       "      <td>T_CD8_Naive</td>\n",
       "      <td>healthy</td>\n",
       "      <td>371</td>\n",
       "    </tr>\n",
       "    <tr>\n",
       "      <th>Savage2021_PIDB_T0_T_CD8_NonNaive</th>\n",
       "      <td>Savage2021_PIDB_T0</td>\n",
       "      <td>T_CD8_NonNaive</td>\n",
       "      <td>healthy</td>\n",
       "      <td>2468</td>\n",
       "    </tr>\n",
       "    <tr>\n",
       "      <th>Savage2021_PIDB_T0_UTC</th>\n",
       "      <td>Savage2021_PIDB_T0</td>\n",
       "      <td>UTC</td>\n",
       "      <td>healthy</td>\n",
       "      <td>156</td>\n",
       "    </tr>\n",
       "    <tr>\n",
       "      <th>Savage2021_PIDB_T0_pDC</th>\n",
       "      <td>Savage2021_PIDB_T0</td>\n",
       "      <td>pDC</td>\n",
       "      <td>healthy</td>\n",
       "      <td>36</td>\n",
       "    </tr>\n",
       "  </tbody>\n",
       "</table>\n",
       "<p>1199 rows × 4 columns</p>\n",
       "</div>"
      ],
      "text/plain": [
       "                                                  sampleID          Level1  \\\n",
       "10XGenomics_10XHC1_T0_B              10XGenomics_10XHC1_T0               B   \n",
       "10XGenomics_10XHC1_T0_Cycling_cells  10XGenomics_10XHC1_T0   Cycling_cells   \n",
       "10XGenomics_10XHC1_T0_DC             10XGenomics_10XHC1_T0              DC   \n",
       "10XGenomics_10XHC1_T0_ILC            10XGenomics_10XHC1_T0             ILC   \n",
       "10XGenomics_10XHC1_T0_Mono           10XGenomics_10XHC1_T0            Mono   \n",
       "...                                                    ...             ...   \n",
       "Savage2021_PIDB_T0_T_CD4_NonNaive       Savage2021_PIDB_T0  T_CD4_NonNaive   \n",
       "Savage2021_PIDB_T0_T_CD8_Naive          Savage2021_PIDB_T0     T_CD8_Naive   \n",
       "Savage2021_PIDB_T0_T_CD8_NonNaive       Savage2021_PIDB_T0  T_CD8_NonNaive   \n",
       "Savage2021_PIDB_T0_UTC                  Savage2021_PIDB_T0             UTC   \n",
       "Savage2021_PIDB_T0_pDC                  Savage2021_PIDB_T0             pDC   \n",
       "\n",
       "                                    disease_true  n_observation  \n",
       "10XGenomics_10XHC1_T0_B                  healthy            977  \n",
       "10XGenomics_10XHC1_T0_Cycling_cells      healthy             20  \n",
       "10XGenomics_10XHC1_T0_DC                 healthy            129  \n",
       "10XGenomics_10XHC1_T0_ILC                healthy            318  \n",
       "10XGenomics_10XHC1_T0_Mono               healthy           1462  \n",
       "...                                          ...            ...  \n",
       "Savage2021_PIDB_T0_T_CD4_NonNaive        healthy           1756  \n",
       "Savage2021_PIDB_T0_T_CD8_Naive           healthy            371  \n",
       "Savage2021_PIDB_T0_T_CD8_NonNaive        healthy           2468  \n",
       "Savage2021_PIDB_T0_UTC                   healthy            156  \n",
       "Savage2021_PIDB_T0_pDC                   healthy             36  \n",
       "\n",
       "[1199 rows x 4 columns]"
      ]
     },
     "execution_count": 21,
     "metadata": {},
     "output_type": "execute_result"
    }
   ],
   "source": [
    "emb_pseudobulk_Q.obs"
   ]
  },
  {
   "cell_type": "markdown",
   "id": "a43a1514-ec0f-4b9e-ac54-a48dbabc0fff",
   "metadata": {
    "execution": {
     "iopub.execute_input": "2024-06-07T16:00:22.779422Z",
     "iopub.status.busy": "2024-06-07T16:00:22.778939Z",
     "iopub.status.idle": "2024-06-07T16:00:22.782415Z",
     "shell.execute_reply": "2024-06-07T16:00:22.781982Z",
     "shell.execute_reply.started": "2024-06-07T16:00:22.779405Z"
    },
    "papermill": {
     "duration": 0.011828,
     "end_time": "2024-06-11T10:58:30.768615",
     "exception": false,
     "start_time": "2024-06-11T10:58:30.756787",
     "status": "completed"
    },
    "tags": []
   },
   "source": [
    "**Loading training pseudobulk**"
   ]
  },
  {
   "cell_type": "code",
   "execution_count": 22,
   "id": "b759518f-cc41-406e-8919-c72d6a6925e6",
   "metadata": {
    "execution": {
     "iopub.execute_input": "2024-06-11T10:58:30.790184Z",
     "iopub.status.busy": "2024-06-11T10:58:30.790027Z",
     "iopub.status.idle": "2024-06-11T10:58:30.908915Z",
     "shell.execute_reply": "2024-06-11T10:58:30.908450Z"
    },
    "papermill": {
     "duration": 0.130626,
     "end_time": "2024-06-11T10:58:30.910097",
     "exception": false,
     "start_time": "2024-06-11T10:58:30.779471",
     "status": "completed"
    },
    "tags": []
   },
   "outputs": [],
   "source": [
    "emb_pseudobulk_train = sc.read_h5ad(here(f\"03_downstream_analysis/08_PatientClassifier/Harmony_Symphony/results/01_MAIN_HarmonyIntegrated_PSEUDOBULK_{nPC}nPC_Batch_{batchKeys}.h5ad\"))"
   ]
  },
  {
   "cell_type": "markdown",
   "id": "fa0cf8df-f0dd-449c-87c8-b9207e94207b",
   "metadata": {
    "papermill": {
     "duration": 0.028309,
     "end_time": "2024-06-11T10:58:31.006384",
     "exception": false,
     "start_time": "2024-06-11T10:58:30.978075",
     "status": "completed"
    },
    "tags": []
   },
   "source": [
    "#### Remove unwanted cell types"
   ]
  },
  {
   "cell_type": "code",
   "execution_count": 23,
   "id": "b477252c-4cdb-4f89-8ec2-1d3dbc4a7655",
   "metadata": {
    "execution": {
     "iopub.execute_input": "2024-06-11T10:58:31.040110Z",
     "iopub.status.busy": "2024-06-11T10:58:31.039945Z",
     "iopub.status.idle": "2024-06-11T10:58:31.044682Z",
     "shell.execute_reply": "2024-06-11T10:58:31.044303Z"
    },
    "papermill": {
     "duration": 0.017017,
     "end_time": "2024-06-11T10:58:31.045549",
     "exception": false,
     "start_time": "2024-06-11T10:58:31.028532",
     "status": "completed"
    },
    "tags": []
   },
   "outputs": [],
   "source": [
    "emb_pseudobulk_train = emb_pseudobulk_train[~emb_pseudobulk_train.obs.Level1.isin(['Cycling_cells','RBC','Progenitors','Platelets']),]"
   ]
  },
  {
   "cell_type": "code",
   "execution_count": 24,
   "id": "25ead359-02da-4eec-a2e8-040415f31ca8",
   "metadata": {
    "execution": {
     "iopub.execute_input": "2024-06-11T10:58:31.101875Z",
     "iopub.status.busy": "2024-06-11T10:58:31.101717Z",
     "iopub.status.idle": "2024-06-11T10:58:31.104754Z",
     "shell.execute_reply": "2024-06-11T10:58:31.104382Z"
    },
    "papermill": {
     "duration": 0.04786,
     "end_time": "2024-06-11T10:58:31.105609",
     "exception": false,
     "start_time": "2024-06-11T10:58:31.057749",
     "status": "completed"
    },
    "tags": []
   },
   "outputs": [],
   "source": [
    "emb_pseudobulk_Q = emb_pseudobulk_Q[~emb_pseudobulk_Q.obs.Level1.isin(['Cycling_cells','RBC','Progenitors','Platelets']),]"
   ]
  },
  {
   "cell_type": "markdown",
   "id": "4faaceec-8aac-4c89-ac43-9093c0fe7c16",
   "metadata": {
    "papermill": {
     "duration": 0.029303,
     "end_time": "2024-06-11T10:58:31.163760",
     "exception": false,
     "start_time": "2024-06-11T10:58:31.134457",
     "status": "completed"
    },
    "tags": []
   },
   "source": [
    "### Saving query dataset and pseudobulks"
   ]
  },
  {
   "cell_type": "code",
   "execution_count": 25,
   "id": "40487ef8-ad5d-4236-a652-2d90cf76c77b",
   "metadata": {
    "execution": {
     "iopub.execute_input": "2024-06-11T10:58:31.262655Z",
     "iopub.status.busy": "2024-06-11T10:58:31.262502Z",
     "iopub.status.idle": "2024-06-11T11:00:07.634748Z",
     "shell.execute_reply": "2024-06-11T11:00:07.634110Z"
    },
    "papermill": {
     "duration": 96.387203,
     "end_time": "2024-06-11T11:00:07.636033",
     "exception": false,
     "start_time": "2024-06-11T10:58:31.248830",
     "status": "completed"
    },
    "tags": []
   },
   "outputs": [],
   "source": [
    "adataQ.write(here(f\"03_downstream_analysis/08_PatientClassifier/Harmony_Symphony/results/02_{queryDataset}_SymphonyProjected_{nPC}nPC_Batch_{batchKeys}.h5ad\"), \n",
    "             compression='gzip')"
   ]
  },
  {
   "cell_type": "code",
   "execution_count": 26,
   "id": "052a1401-1f68-49ed-a900-dda39c09e68b",
   "metadata": {
    "execution": {
     "iopub.execute_input": "2024-06-11T11:00:07.658231Z",
     "iopub.status.busy": "2024-06-11T11:00:07.658050Z",
     "iopub.status.idle": "2024-06-11T11:00:07.700494Z",
     "shell.execute_reply": "2024-06-11T11:00:07.700091Z"
    },
    "papermill": {
     "duration": 0.054099,
     "end_time": "2024-06-11T11:00:07.701393",
     "exception": false,
     "start_time": "2024-06-11T11:00:07.647294",
     "status": "completed"
    },
    "tags": []
   },
   "outputs": [
    {
     "name": "stderr",
     "output_type": "stream",
     "text": [
      "/scratch_isilon/groups/singlecell/shared/conda_env/inflammation_atlas_R1/lib/python3.10/site-packages/anndata/_core/anndata.py:1301: ImplicitModificationWarning: Trying to modify attribute `.obs` of view, initializing view as actual.\n",
      "  df[key] = c\n",
      "/scratch_isilon/groups/singlecell/shared/conda_env/inflammation_atlas_R1/lib/python3.10/site-packages/anndata/_core/anndata.py:1301: ImplicitModificationWarning: Trying to modify attribute `.obs` of view, initializing view as actual.\n",
      "  df[key] = c\n",
      "/scratch_isilon/groups/singlecell/shared/conda_env/inflammation_atlas_R1/lib/python3.10/site-packages/anndata/_core/anndata.py:1301: ImplicitModificationWarning: Trying to modify attribute `.obs` of view, initializing view as actual.\n",
      "  df[key] = c\n"
     ]
    }
   ],
   "source": [
    "emb_pseudobulk_Q.write(here(f\"03_downstream_analysis/08_PatientClassifier/Harmony_Symphony/results/02_{queryDataset}_SymphonyProjected_PSEUDOBULK{nPC}nPC_Batch_{batchKeys}.h5ad\"), \n",
    "             compression='gzip')"
   ]
  },
  {
   "cell_type": "markdown",
   "id": "8226f8d2-30b5-41a4-8efd-943e08f2d048",
   "metadata": {
    "papermill": {
     "duration": 0.009803,
     "end_time": "2024-06-11T11:00:07.721652",
     "exception": false,
     "start_time": "2024-06-11T11:00:07.711849",
     "status": "completed"
    },
    "tags": []
   },
   "source": [
    "### Training linear classifiers"
   ]
  },
  {
   "cell_type": "code",
   "execution_count": 27,
   "id": "78479add-937b-433c-96fd-457e4f0d9cd5",
   "metadata": {
    "execution": {
     "iopub.execute_input": "2024-06-11T11:00:07.744097Z",
     "iopub.status.busy": "2024-06-11T11:00:07.743751Z",
     "iopub.status.idle": "2024-06-11T11:00:07.755751Z",
     "shell.execute_reply": "2024-06-11T11:00:07.755385Z"
    },
    "papermill": {
     "duration": 0.023506,
     "end_time": "2024-06-11T11:00:07.756616",
     "exception": false,
     "start_time": "2024-06-11T11:00:07.733110",
     "status": "completed"
    },
    "tags": []
   },
   "outputs": [],
   "source": [
    "def train_classifier(adataTrain = None, cell_type_col = None, y_true_col = None, max_iter=10000,random_state = 25, model = 'LinearSVC', kargs_model = None):\n",
    "    \n",
    "    import pandas as pd\n",
    "    from tqdm import tqdm\n",
    "    from sklearn.svm import LinearSVC, SVC\n",
    "    from sklearn.neighbors import KNeighborsClassifier\n",
    "\n",
    "    from sklearn.metrics import balanced_accuracy_score\n",
    "    \n",
    "    clfList = dict()\n",
    "    trainAccuracy = []\n",
    "    for ct_ in tqdm(adataTrain.obs[cell_type_col].unique()):\n",
    "        clfList[ct_] = dict()\n",
    "        X_i = adataTrain.X[adataTrain.obs[cell_type_col] == ct_]\n",
    "        y_true_i = adataTrain.obs[y_true_col][adataTrain.obs[cell_type_col] == ct_]\n",
    "\n",
    "        if model == 'LinearSVC':\n",
    "            clfList[ct_]['clf'] = LinearSVC(**kargs_model).fit(X_i, y_true_i) # max_iter=max_iter, dual = True, random_state = random_state\n",
    "        elif model == 'SVC':\n",
    "            clfList[ct_]['clf'] = SVC(**kargs_model).fit(X_i, y_true_i) # max_iter=max_iter, random_state = random_state\n",
    "        elif model == 'KNeighborsClassifier':\n",
    "            clfList[ct_]['clf'] = KNeighborsClassifier(**kargs_model).fit(X_i, y_true_i) # n_neighbors = 5, weights='distance', n_jobs = -1\n",
    "            \n",
    "            \n",
    "        clfList[ct_]['bAcc'] = balanced_accuracy_score(y_true = y_true_i, y_pred = clfList[ct_]['clf'].predict(X_i))\n",
    "        clfList[ct_]['nObs'] = len(y_true_i)\n",
    "\n",
    "    return clfList\n",
    "    \n",
    "def vote_disease(adataTest = None, clfList = None, cell_type_col = None, sample_id_col = None):\n",
    "\n",
    "    from tqdm import tqdm\n",
    "    import pandas as pd\n",
    "    \n",
    "    classificationDF = pd.DataFrame()\n",
    "    for ct_ in tqdm(adataTest.obs[cell_type_col].unique()):\n",
    "        X_i = adataTest.X[adataTest.obs[cell_type_col] == ct_]\n",
    "        PID_i = adataTest.obs[sample_id_col][adataTest.obs[cell_type_col] == ct_]\n",
    "        if ct_ not in clfList:\n",
    "            print(f\"{ct_} is missing in training set\")\n",
    "            continue\n",
    "        DF_i = pd.DataFrame.from_dict({\n",
    "            sample_id_col: PID_i,\n",
    "            f\"{ct_}_prediction\": clfList[ct_]['clf'].predict(X_i)\n",
    "        })\n",
    "        if classificationDF.shape[0] == 0:\n",
    "            classificationDF = DF_i\n",
    "        else:\n",
    "            classificationDF = classificationDF.merge(DF_i, how='outer', on = sample_id_col)\n",
    "    classificationDF['firstChoice'] = ''\n",
    "    classificationDF['firstChoice_perc'] = np.nan\n",
    "    classificationDF['secondChoice'] = ''\n",
    "    classificationDF['secondChoice_perc'] = np.nan\n",
    "    \n",
    "    for i in tqdm(range(classificationDF.shape[0])):\n",
    "        vote_i = classificationDF.loc[i,classificationDF.columns !=sample_id_col].value_counts()\n",
    "        vote_i /= (vote_i.sum() / 100)\n",
    "        res_i = vote_i.sort_values(ascending=False)\n",
    "        classificationDF.loc[i,'firstChoice'] = res_i.index[0]\n",
    "        classificationDF.loc[i,'firstChoice_perc'] = res_i.iloc[0]\n",
    "        if res_i.shape[0] > 1:\n",
    "            classificationDF.loc[i,'secondChoice'] = res_i.index[1]\n",
    "            classificationDF.loc[i,'secondChoice_perc'] = res_i.iloc[1]\n",
    "\n",
    "    return classificationDF\n",
    "    \n",
    "def aggregating_features(Z = None, obsDF = None, mode = 'mean', obs_names_col = []):\n",
    "    Zdf = pd.DataFrame(Z)\n",
    "    for c in obsDF.columns:\n",
    "        Zdf[c] = obsDF[c].tolist()\n",
    "    if mode in ['mean','avarage']:\n",
    "        Zaggr = Zdf.groupby(obsDF.columns.tolist(), observed = True).mean()\n",
    "    elif mode == 'sum':\n",
    "        Zaggr = Zdf.groupby(obsDF.columns.tolist(), observed = True).sum()\n",
    "    else:\n",
    "        raise ValueError(f\"mode {mode} not supported. Available mode are 'mean' or 'sum'\")\n",
    "\n",
    "    grpObs = pd.DataFrame(Zaggr.index.tolist(), columns=obsDF.columns.tolist())\n",
    "\n",
    "    if len(obs_names_col) == 0:\n",
    "        grpAdata  = sc.AnnData(X = np.array(Zaggr), obs = grpObs, )\n",
    "    elif all([c in obsDF.columns.tolist() for c in obs_names_col]):\n",
    "        grpObs.index = grpObs[obs_names_col].apply(lambda row: '_'.join(row.values.astype(str)), axis=1)\n",
    "        grpAdata  = sc.AnnData(X = np.array(Zaggr), obs = grpObs)\n",
    "    else:\n",
    "        raise ValueError(f\"Impossible to use {obs_names_col} as index. It's not present in obsDF\")\n",
    "    return grpAdata"
   ]
  },
  {
   "cell_type": "code",
   "execution_count": 28,
   "id": "b2f802a7-0a43-413b-8bee-03a900836009",
   "metadata": {
    "execution": {
     "iopub.execute_input": "2024-06-11T11:00:07.777555Z",
     "iopub.status.busy": "2024-06-11T11:00:07.777155Z",
     "iopub.status.idle": "2024-06-11T11:00:08.594989Z",
     "shell.execute_reply": "2024-06-11T11:00:08.594579Z"
    },
    "papermill": {
     "duration": 0.829432,
     "end_time": "2024-06-11T11:00:08.596066",
     "exception": false,
     "start_time": "2024-06-11T11:00:07.766634",
     "status": "completed"
    },
    "tags": []
   },
   "outputs": [
    {
     "name": "stderr",
     "output_type": "stream",
     "text": [
      "\r",
      "  0%|          | 0/11 [00:00<?, ?it/s]"
     ]
    },
    {
     "name": "stderr",
     "output_type": "stream",
     "text": [
      "\r",
      " 18%|█▊        | 2/11 [00:00<00:00, 12.85it/s]"
     ]
    },
    {
     "name": "stderr",
     "output_type": "stream",
     "text": [
      "\r",
      " 36%|███▋      | 4/11 [00:00<00:00, 13.42it/s]"
     ]
    },
    {
     "name": "stderr",
     "output_type": "stream",
     "text": [
      "\r",
      " 55%|█████▍    | 6/11 [00:00<00:00, 14.33it/s]"
     ]
    },
    {
     "name": "stderr",
     "output_type": "stream",
     "text": [
      "\r",
      " 73%|███████▎  | 8/11 [00:00<00:00, 14.60it/s]"
     ]
    },
    {
     "name": "stderr",
     "output_type": "stream",
     "text": [
      "\r",
      " 91%|█████████ | 10/11 [00:00<00:00, 13.87it/s]"
     ]
    },
    {
     "name": "stderr",
     "output_type": "stream",
     "text": [
      "\r",
      "100%|██████████| 11/11 [00:00<00:00, 13.82it/s]"
     ]
    },
    {
     "name": "stderr",
     "output_type": "stream",
     "text": [
      "\n"
     ]
    }
   ],
   "source": [
    "clfList = train_classifier(adataTrain = emb_pseudobulk_train, cell_type_col = 'Level1', y_true_col = 'disease', max_iter=-1, random_state = 25, model = 'KNeighborsClassifier', \n",
    "                           kargs_model={'n_neighbors':2, 'weights':'uniform', 'metric':'cosine','n_jobs':-1})"
   ]
  },
  {
   "cell_type": "code",
   "execution_count": 29,
   "id": "184e7805-037a-48ab-bdde-b80d084b46cd",
   "metadata": {
    "execution": {
     "iopub.execute_input": "2024-06-11T11:00:08.619632Z",
     "iopub.status.busy": "2024-06-11T11:00:08.619251Z",
     "iopub.status.idle": "2024-06-11T11:00:08.627413Z",
     "shell.execute_reply": "2024-06-11T11:00:08.627054Z"
    },
    "papermill": {
     "duration": 0.020678,
     "end_time": "2024-06-11T11:00:08.628356",
     "exception": false,
     "start_time": "2024-06-11T11:00:08.607678",
     "status": "completed"
    },
    "tags": []
   },
   "outputs": [
    {
     "data": {
      "text/plain": [
       "{'B': {'clf': KNeighborsClassifier(metric='cosine', n_jobs=-1, n_neighbors=2),\n",
       "  'bAcc': 0.9053735471614728,\n",
       "  'nObs': 814},\n",
       " 'DC': {'clf': KNeighborsClassifier(metric='cosine', n_jobs=-1, n_neighbors=2),\n",
       "  'bAcc': 0.8998433380829025,\n",
       "  'nObs': 801},\n",
       " 'ILC': {'clf': KNeighborsClassifier(metric='cosine', n_jobs=-1, n_neighbors=2),\n",
       "  'bAcc': 0.8938883893952465,\n",
       "  'nObs': 817},\n",
       " 'Mono': {'clf': KNeighborsClassifier(metric='cosine', n_jobs=-1, n_neighbors=2),\n",
       "  'bAcc': 0.8872121097816057,\n",
       "  'nObs': 817},\n",
       " 'Plasma': {'clf': KNeighborsClassifier(metric='cosine', n_jobs=-1, n_neighbors=2),\n",
       "  'bAcc': 0.7954683493556215,\n",
       "  'nObs': 727},\n",
       " 'T_CD4_Naive': {'clf': KNeighborsClassifier(metric='cosine', n_jobs=-1, n_neighbors=2),\n",
       "  'bAcc': 0.9031576364702755,\n",
       "  'nObs': 814},\n",
       " 'T_CD4_NonNaive': {'clf': KNeighborsClassifier(metric='cosine', n_jobs=-1, n_neighbors=2),\n",
       "  'bAcc': 0.9286643951232646,\n",
       "  'nObs': 816},\n",
       " 'T_CD8_Naive': {'clf': KNeighborsClassifier(metric='cosine', n_jobs=-1, n_neighbors=2),\n",
       "  'bAcc': 0.9115380226532933,\n",
       "  'nObs': 805},\n",
       " 'T_CD8_NonNaive': {'clf': KNeighborsClassifier(metric='cosine', n_jobs=-1, n_neighbors=2),\n",
       "  'bAcc': 0.9026920396888893,\n",
       "  'nObs': 817},\n",
       " 'UTC': {'clf': KNeighborsClassifier(metric='cosine', n_jobs=-1, n_neighbors=2),\n",
       "  'bAcc': 0.878745696739036,\n",
       "  'nObs': 813},\n",
       " 'pDC': {'clf': KNeighborsClassifier(metric='cosine', n_jobs=-1, n_neighbors=2),\n",
       "  'bAcc': 0.8634311042481659,\n",
       "  'nObs': 775}}"
      ]
     },
     "execution_count": 29,
     "metadata": {},
     "output_type": "execute_result"
    }
   ],
   "source": [
    "clfList"
   ]
  },
  {
   "cell_type": "markdown",
   "id": "8140578c-927e-4a12-84c1-809c70d2387c",
   "metadata": {
    "papermill": {
     "duration": 0.01087,
     "end_time": "2024-06-11T11:00:08.650146",
     "exception": false,
     "start_time": "2024-06-11T11:00:08.639276",
     "status": "completed"
    },
    "tags": []
   },
   "source": [
    "### Predicting diseases"
   ]
  },
  {
   "cell_type": "code",
   "execution_count": 30,
   "id": "ba47d364-9407-4d4a-9a9c-a02d374a9932",
   "metadata": {
    "execution": {
     "iopub.execute_input": "2024-06-11T11:00:08.673231Z",
     "iopub.status.busy": "2024-06-11T11:00:08.672740Z",
     "iopub.status.idle": "2024-06-11T11:00:08.679825Z",
     "shell.execute_reply": "2024-06-11T11:00:08.679477Z"
    },
    "papermill": {
     "duration": 0.019814,
     "end_time": "2024-06-11T11:00:08.680708",
     "exception": false,
     "start_time": "2024-06-11T11:00:08.660894",
     "status": "completed"
    },
    "tags": []
   },
   "outputs": [
    {
     "data": {
      "text/html": [
       "<div>\n",
       "<style scoped>\n",
       "    .dataframe tbody tr th:only-of-type {\n",
       "        vertical-align: middle;\n",
       "    }\n",
       "\n",
       "    .dataframe tbody tr th {\n",
       "        vertical-align: top;\n",
       "    }\n",
       "\n",
       "    .dataframe thead th {\n",
       "        text-align: right;\n",
       "    }\n",
       "</style>\n",
       "<table border=\"1\" class=\"dataframe\">\n",
       "  <thead>\n",
       "    <tr style=\"text-align: right;\">\n",
       "      <th></th>\n",
       "      <th>sampleID</th>\n",
       "      <th>Level1</th>\n",
       "      <th>disease_true</th>\n",
       "      <th>n_observation</th>\n",
       "    </tr>\n",
       "  </thead>\n",
       "  <tbody>\n",
       "    <tr>\n",
       "      <th>10XGenomics_10XHC1_T0_B</th>\n",
       "      <td>10XGenomics_10XHC1_T0</td>\n",
       "      <td>B</td>\n",
       "      <td>healthy</td>\n",
       "      <td>977</td>\n",
       "    </tr>\n",
       "    <tr>\n",
       "      <th>10XGenomics_10XHC1_T0_DC</th>\n",
       "      <td>10XGenomics_10XHC1_T0</td>\n",
       "      <td>DC</td>\n",
       "      <td>healthy</td>\n",
       "      <td>129</td>\n",
       "    </tr>\n",
       "    <tr>\n",
       "      <th>10XGenomics_10XHC1_T0_ILC</th>\n",
       "      <td>10XGenomics_10XHC1_T0</td>\n",
       "      <td>ILC</td>\n",
       "      <td>healthy</td>\n",
       "      <td>318</td>\n",
       "    </tr>\n",
       "    <tr>\n",
       "      <th>10XGenomics_10XHC1_T0_Mono</th>\n",
       "      <td>10XGenomics_10XHC1_T0</td>\n",
       "      <td>Mono</td>\n",
       "      <td>healthy</td>\n",
       "      <td>1462</td>\n",
       "    </tr>\n",
       "    <tr>\n",
       "      <th>10XGenomics_10XHC1_T0_Plasma</th>\n",
       "      <td>10XGenomics_10XHC1_T0</td>\n",
       "      <td>Plasma</td>\n",
       "      <td>healthy</td>\n",
       "      <td>4</td>\n",
       "    </tr>\n",
       "    <tr>\n",
       "      <th>...</th>\n",
       "      <td>...</td>\n",
       "      <td>...</td>\n",
       "      <td>...</td>\n",
       "      <td>...</td>\n",
       "    </tr>\n",
       "    <tr>\n",
       "      <th>Savage2021_PIDB_T0_T_CD4_NonNaive</th>\n",
       "      <td>Savage2021_PIDB_T0</td>\n",
       "      <td>T_CD4_NonNaive</td>\n",
       "      <td>healthy</td>\n",
       "      <td>1756</td>\n",
       "    </tr>\n",
       "    <tr>\n",
       "      <th>Savage2021_PIDB_T0_T_CD8_Naive</th>\n",
       "      <td>Savage2021_PIDB_T0</td>\n",
       "      <td>T_CD8_Naive</td>\n",
       "      <td>healthy</td>\n",
       "      <td>371</td>\n",
       "    </tr>\n",
       "    <tr>\n",
       "      <th>Savage2021_PIDB_T0_T_CD8_NonNaive</th>\n",
       "      <td>Savage2021_PIDB_T0</td>\n",
       "      <td>T_CD8_NonNaive</td>\n",
       "      <td>healthy</td>\n",
       "      <td>2468</td>\n",
       "    </tr>\n",
       "    <tr>\n",
       "      <th>Savage2021_PIDB_T0_UTC</th>\n",
       "      <td>Savage2021_PIDB_T0</td>\n",
       "      <td>UTC</td>\n",
       "      <td>healthy</td>\n",
       "      <td>156</td>\n",
       "    </tr>\n",
       "    <tr>\n",
       "      <th>Savage2021_PIDB_T0_pDC</th>\n",
       "      <td>Savage2021_PIDB_T0</td>\n",
       "      <td>pDC</td>\n",
       "      <td>healthy</td>\n",
       "      <td>36</td>\n",
       "    </tr>\n",
       "  </tbody>\n",
       "</table>\n",
       "<p>932 rows × 4 columns</p>\n",
       "</div>"
      ],
      "text/plain": [
       "                                                sampleID          Level1  \\\n",
       "10XGenomics_10XHC1_T0_B            10XGenomics_10XHC1_T0               B   \n",
       "10XGenomics_10XHC1_T0_DC           10XGenomics_10XHC1_T0              DC   \n",
       "10XGenomics_10XHC1_T0_ILC          10XGenomics_10XHC1_T0             ILC   \n",
       "10XGenomics_10XHC1_T0_Mono         10XGenomics_10XHC1_T0            Mono   \n",
       "10XGenomics_10XHC1_T0_Plasma       10XGenomics_10XHC1_T0          Plasma   \n",
       "...                                                  ...             ...   \n",
       "Savage2021_PIDB_T0_T_CD4_NonNaive     Savage2021_PIDB_T0  T_CD4_NonNaive   \n",
       "Savage2021_PIDB_T0_T_CD8_Naive        Savage2021_PIDB_T0     T_CD8_Naive   \n",
       "Savage2021_PIDB_T0_T_CD8_NonNaive     Savage2021_PIDB_T0  T_CD8_NonNaive   \n",
       "Savage2021_PIDB_T0_UTC                Savage2021_PIDB_T0             UTC   \n",
       "Savage2021_PIDB_T0_pDC                Savage2021_PIDB_T0             pDC   \n",
       "\n",
       "                                  disease_true  n_observation  \n",
       "10XGenomics_10XHC1_T0_B                healthy            977  \n",
       "10XGenomics_10XHC1_T0_DC               healthy            129  \n",
       "10XGenomics_10XHC1_T0_ILC              healthy            318  \n",
       "10XGenomics_10XHC1_T0_Mono             healthy           1462  \n",
       "10XGenomics_10XHC1_T0_Plasma           healthy              4  \n",
       "...                                        ...            ...  \n",
       "Savage2021_PIDB_T0_T_CD4_NonNaive      healthy           1756  \n",
       "Savage2021_PIDB_T0_T_CD8_Naive         healthy            371  \n",
       "Savage2021_PIDB_T0_T_CD8_NonNaive      healthy           2468  \n",
       "Savage2021_PIDB_T0_UTC                 healthy            156  \n",
       "Savage2021_PIDB_T0_pDC                 healthy             36  \n",
       "\n",
       "[932 rows x 4 columns]"
      ]
     },
     "execution_count": 30,
     "metadata": {},
     "output_type": "execute_result"
    }
   ],
   "source": [
    "emb_pseudobulk_Q.obs"
   ]
  },
  {
   "cell_type": "code",
   "execution_count": 31,
   "id": "39befc29-3613-4abc-adeb-bfee66e08dea",
   "metadata": {
    "execution": {
     "iopub.execute_input": "2024-06-11T11:00:08.702920Z",
     "iopub.status.busy": "2024-06-11T11:00:08.702728Z",
     "iopub.status.idle": "2024-06-11T11:00:09.055037Z",
     "shell.execute_reply": "2024-06-11T11:00:09.054604Z"
    },
    "papermill": {
     "duration": 0.364568,
     "end_time": "2024-06-11T11:00:09.055983",
     "exception": false,
     "start_time": "2024-06-11T11:00:08.691415",
     "status": "completed"
    },
    "tags": []
   },
   "outputs": [
    {
     "name": "stderr",
     "output_type": "stream",
     "text": [
      "\r",
      "  0%|          | 0/11 [00:00<?, ?it/s]"
     ]
    },
    {
     "name": "stderr",
     "output_type": "stream",
     "text": [
      "\r",
      " 45%|████▌     | 5/11 [00:00<00:00, 42.85it/s]"
     ]
    },
    {
     "name": "stderr",
     "output_type": "stream",
     "text": [
      "\r",
      " 91%|█████████ | 10/11 [00:00<00:00, 43.43it/s]"
     ]
    },
    {
     "name": "stderr",
     "output_type": "stream",
     "text": [
      "\r",
      "100%|██████████| 11/11 [00:00<00:00, 43.37it/s]"
     ]
    },
    {
     "name": "stderr",
     "output_type": "stream",
     "text": [
      "\n"
     ]
    },
    {
     "name": "stderr",
     "output_type": "stream",
     "text": [
      "\r",
      "  0%|          | 0/86 [00:00<?, ?it/s]"
     ]
    },
    {
     "name": "stderr",
     "output_type": "stream",
     "text": [
      "\r",
      "100%|██████████| 86/86 [00:00<00:00, 930.02it/s]"
     ]
    },
    {
     "name": "stderr",
     "output_type": "stream",
     "text": [
      "\n"
     ]
    }
   ],
   "source": [
    "classificationDF = vote_disease(adataTest = emb_pseudobulk_Q, \n",
    "                                clfList = clfList, \n",
    "                                sample_id_col = 'sampleID',\n",
    "                                cell_type_col = 'Level1')\n"
   ]
  },
  {
   "cell_type": "code",
   "execution_count": 32,
   "id": "a731fec9-92f4-4b14-b374-ad2bec4d4f13",
   "metadata": {
    "execution": {
     "iopub.execute_input": "2024-06-11T11:00:09.079498Z",
     "iopub.status.busy": "2024-06-11T11:00:09.079022Z",
     "iopub.status.idle": "2024-06-11T11:00:09.084071Z",
     "shell.execute_reply": "2024-06-11T11:00:09.083701Z"
    },
    "papermill": {
     "duration": 0.017665,
     "end_time": "2024-06-11T11:00:09.084940",
     "exception": false,
     "start_time": "2024-06-11T11:00:09.067275",
     "status": "completed"
    },
    "tags": []
   },
   "outputs": [],
   "source": [
    "res = classificationDF.merge(emb_pseudobulk_Q.obs[['sampleID', 'disease_true']].drop_duplicates(), how = 'left', on = 'sampleID').set_index('sampleID')\n"
   ]
  },
  {
   "cell_type": "code",
   "execution_count": 33,
   "id": "00fff243-e3d9-436c-b369-b7d4d29a13bf",
   "metadata": {
    "execution": {
     "iopub.execute_input": "2024-06-11T11:00:09.108308Z",
     "iopub.status.busy": "2024-06-11T11:00:09.108028Z",
     "iopub.status.idle": "2024-06-11T11:00:09.113080Z",
     "shell.execute_reply": "2024-06-11T11:00:09.112734Z"
    },
    "papermill": {
     "duration": 0.017559,
     "end_time": "2024-06-11T11:00:09.113936",
     "exception": false,
     "start_time": "2024-06-11T11:00:09.096377",
     "status": "completed"
    },
    "tags": []
   },
   "outputs": [
    {
     "name": "stderr",
     "output_type": "stream",
     "text": [
      "/scratch_isilon/groups/singlecell/shared/conda_env/inflammation_atlas_R1/lib/python3.10/site-packages/sklearn/metrics/_classification.py:2458: UserWarning: y_pred contains classes not in y_true\n",
      "  warnings.warn(\"y_pred contains classes not in y_true\")\n"
     ]
    },
    {
     "data": {
      "text/plain": [
       "0.21231617647058823"
      ]
     },
     "execution_count": 33,
     "metadata": {},
     "output_type": "execute_result"
    }
   ],
   "source": [
    "balanced_accuracy_score(y_true = res.disease_true, y_pred=res.firstChoice)"
   ]
  },
  {
   "cell_type": "code",
   "execution_count": 34,
   "id": "54568ce9-5d5d-47e2-bc88-5a61eae513bc",
   "metadata": {
    "execution": {
     "iopub.execute_input": "2024-06-11T11:00:09.136938Z",
     "iopub.status.busy": "2024-06-11T11:00:09.136789Z",
     "iopub.status.idle": "2024-06-11T11:00:09.147575Z",
     "shell.execute_reply": "2024-06-11T11:00:09.147215Z"
    },
    "papermill": {
     "duration": 0.023333,
     "end_time": "2024-06-11T11:00:09.148432",
     "exception": false,
     "start_time": "2024-06-11T11:00:09.125099",
     "status": "completed"
    },
    "tags": []
   },
   "outputs": [
    {
     "data": {
      "text/html": [
       "<div>\n",
       "<style scoped>\n",
       "    .dataframe tbody tr th:only-of-type {\n",
       "        vertical-align: middle;\n",
       "    }\n",
       "\n",
       "    .dataframe tbody tr th {\n",
       "        vertical-align: top;\n",
       "    }\n",
       "\n",
       "    .dataframe thead th {\n",
       "        text-align: right;\n",
       "    }\n",
       "</style>\n",
       "<table border=\"1\" class=\"dataframe\">\n",
       "  <thead>\n",
       "    <tr style=\"text-align: right;\">\n",
       "      <th></th>\n",
       "      <th>B_prediction</th>\n",
       "      <th>DC_prediction</th>\n",
       "      <th>ILC_prediction</th>\n",
       "      <th>Mono_prediction</th>\n",
       "      <th>Plasma_prediction</th>\n",
       "      <th>T_CD4_Naive_prediction</th>\n",
       "      <th>T_CD4_NonNaive_prediction</th>\n",
       "      <th>T_CD8_Naive_prediction</th>\n",
       "      <th>T_CD8_NonNaive_prediction</th>\n",
       "      <th>UTC_prediction</th>\n",
       "      <th>pDC_prediction</th>\n",
       "      <th>firstChoice</th>\n",
       "      <th>firstChoice_perc</th>\n",
       "      <th>secondChoice</th>\n",
       "      <th>secondChoice_perc</th>\n",
       "      <th>disease_true</th>\n",
       "    </tr>\n",
       "    <tr>\n",
       "      <th>sampleID</th>\n",
       "      <th></th>\n",
       "      <th></th>\n",
       "      <th></th>\n",
       "      <th></th>\n",
       "      <th></th>\n",
       "      <th></th>\n",
       "      <th></th>\n",
       "      <th></th>\n",
       "      <th></th>\n",
       "      <th></th>\n",
       "      <th></th>\n",
       "      <th></th>\n",
       "      <th></th>\n",
       "      <th></th>\n",
       "      <th></th>\n",
       "      <th></th>\n",
       "    </tr>\n",
       "  </thead>\n",
       "  <tbody>\n",
       "    <tr>\n",
       "      <th>10XGenomics_10XHC1_T0</th>\n",
       "      <td>NPC</td>\n",
       "      <td>healthy</td>\n",
       "      <td>healthy</td>\n",
       "      <td>SLE</td>\n",
       "      <td>NPC</td>\n",
       "      <td>healthy</td>\n",
       "      <td>NPC</td>\n",
       "      <td>healthy</td>\n",
       "      <td>healthy</td>\n",
       "      <td>healthy</td>\n",
       "      <td>healthy</td>\n",
       "      <td>healthy</td>\n",
       "      <td>53.846154</td>\n",
       "      <td>NPC</td>\n",
       "      <td>23.076923</td>\n",
       "      <td>healthy</td>\n",
       "    </tr>\n",
       "    <tr>\n",
       "      <th>10XGenomics_10XHC2_T0</th>\n",
       "      <td>NPC</td>\n",
       "      <td>healthy</td>\n",
       "      <td>healthy</td>\n",
       "      <td>healthy</td>\n",
       "      <td>cirrhosis</td>\n",
       "      <td>healthy</td>\n",
       "      <td>NPC</td>\n",
       "      <td>healthy</td>\n",
       "      <td>healthy</td>\n",
       "      <td>healthy</td>\n",
       "      <td>healthy</td>\n",
       "      <td>healthy</td>\n",
       "      <td>61.538462</td>\n",
       "      <td>NPC</td>\n",
       "      <td>15.384615</td>\n",
       "      <td>healthy</td>\n",
       "    </tr>\n",
       "    <tr>\n",
       "      <th>10XGenomics_10XHC3_T0</th>\n",
       "      <td>healthy</td>\n",
       "      <td>healthy</td>\n",
       "      <td>healthy</td>\n",
       "      <td>SLE</td>\n",
       "      <td>SLE</td>\n",
       "      <td>healthy</td>\n",
       "      <td>NPC</td>\n",
       "      <td>healthy</td>\n",
       "      <td>NPC</td>\n",
       "      <td>healthy</td>\n",
       "      <td>healthy</td>\n",
       "      <td>healthy</td>\n",
       "      <td>53.846154</td>\n",
       "      <td>SLE</td>\n",
       "      <td>15.384615</td>\n",
       "      <td>healthy</td>\n",
       "    </tr>\n",
       "    <tr>\n",
       "      <th>10XGenomics_10XHC4_T0</th>\n",
       "      <td>SLE</td>\n",
       "      <td>healthy</td>\n",
       "      <td>healthy</td>\n",
       "      <td>SLE</td>\n",
       "      <td>SLE</td>\n",
       "      <td>healthy</td>\n",
       "      <td>healthy</td>\n",
       "      <td>healthy</td>\n",
       "      <td>NPC</td>\n",
       "      <td>healthy</td>\n",
       "      <td>healthy</td>\n",
       "      <td>healthy</td>\n",
       "      <td>53.846154</td>\n",
       "      <td>SLE</td>\n",
       "      <td>23.076923</td>\n",
       "      <td>healthy</td>\n",
       "    </tr>\n",
       "    <tr>\n",
       "      <th>10XGenomics_10XHC5_T0</th>\n",
       "      <td>SLE</td>\n",
       "      <td>healthy</td>\n",
       "      <td>healthy</td>\n",
       "      <td>SLE</td>\n",
       "      <td>SLE</td>\n",
       "      <td>healthy</td>\n",
       "      <td>healthy</td>\n",
       "      <td>healthy</td>\n",
       "      <td>healthy</td>\n",
       "      <td>healthy</td>\n",
       "      <td>healthy</td>\n",
       "      <td>healthy</td>\n",
       "      <td>61.538462</td>\n",
       "      <td>SLE</td>\n",
       "      <td>23.076923</td>\n",
       "      <td>healthy</td>\n",
       "    </tr>\n",
       "    <tr>\n",
       "      <th>...</th>\n",
       "      <td>...</td>\n",
       "      <td>...</td>\n",
       "      <td>...</td>\n",
       "      <td>...</td>\n",
       "      <td>...</td>\n",
       "      <td>...</td>\n",
       "      <td>...</td>\n",
       "      <td>...</td>\n",
       "      <td>...</td>\n",
       "      <td>...</td>\n",
       "      <td>...</td>\n",
       "      <td>...</td>\n",
       "      <td>...</td>\n",
       "      <td>...</td>\n",
       "      <td>...</td>\n",
       "      <td>...</td>\n",
       "    </tr>\n",
       "    <tr>\n",
       "      <th>Savage2021_BRISL5_T0</th>\n",
       "      <td>SLE</td>\n",
       "      <td>SLE</td>\n",
       "      <td>HNSCC</td>\n",
       "      <td>SLE</td>\n",
       "      <td>HNSCC</td>\n",
       "      <td>SLE</td>\n",
       "      <td>COVID</td>\n",
       "      <td>SLE</td>\n",
       "      <td>COVID</td>\n",
       "      <td>HNSCC</td>\n",
       "      <td>healthy</td>\n",
       "      <td>SLE</td>\n",
       "      <td>38.461538</td>\n",
       "      <td>HNSCC</td>\n",
       "      <td>23.076923</td>\n",
       "      <td>SLE</td>\n",
       "    </tr>\n",
       "    <tr>\n",
       "      <th>Savage2021_BRISL6_T0</th>\n",
       "      <td>HNSCC</td>\n",
       "      <td>healthy</td>\n",
       "      <td>HNSCC</td>\n",
       "      <td>healthy</td>\n",
       "      <td>COVID</td>\n",
       "      <td>healthy</td>\n",
       "      <td>healthy</td>\n",
       "      <td>healthy</td>\n",
       "      <td>healthy</td>\n",
       "      <td>healthy</td>\n",
       "      <td>healthy</td>\n",
       "      <td>healthy</td>\n",
       "      <td>61.538462</td>\n",
       "      <td>HNSCC</td>\n",
       "      <td>15.384615</td>\n",
       "      <td>SLE</td>\n",
       "    </tr>\n",
       "    <tr>\n",
       "      <th>Savage2021_BRISL7_T0</th>\n",
       "      <td>SLE</td>\n",
       "      <td>healthy</td>\n",
       "      <td>SLE</td>\n",
       "      <td>HNSCC</td>\n",
       "      <td>SLE</td>\n",
       "      <td>healthy</td>\n",
       "      <td>NPC</td>\n",
       "      <td>healthy</td>\n",
       "      <td>healthy</td>\n",
       "      <td>NPC</td>\n",
       "      <td>healthy</td>\n",
       "      <td>healthy</td>\n",
       "      <td>38.461538</td>\n",
       "      <td>SLE</td>\n",
       "      <td>23.076923</td>\n",
       "      <td>SLE</td>\n",
       "    </tr>\n",
       "    <tr>\n",
       "      <th>Savage2021_PIDA_T0</th>\n",
       "      <td>healthy</td>\n",
       "      <td>healthy</td>\n",
       "      <td>healthy</td>\n",
       "      <td>healthy</td>\n",
       "      <td>COVID</td>\n",
       "      <td>healthy</td>\n",
       "      <td>healthy</td>\n",
       "      <td>HIV</td>\n",
       "      <td>healthy</td>\n",
       "      <td>healthy</td>\n",
       "      <td>healthy</td>\n",
       "      <td>healthy</td>\n",
       "      <td>69.230769</td>\n",
       "      <td></td>\n",
       "      <td>15.384615</td>\n",
       "      <td>healthy</td>\n",
       "    </tr>\n",
       "    <tr>\n",
       "      <th>Savage2021_PIDB_T0</th>\n",
       "      <td>healthy</td>\n",
       "      <td>healthy</td>\n",
       "      <td>healthy</td>\n",
       "      <td>healthy</td>\n",
       "      <td>healthy</td>\n",
       "      <td>healthy</td>\n",
       "      <td>healthy</td>\n",
       "      <td>healthy</td>\n",
       "      <td>HIV</td>\n",
       "      <td>healthy</td>\n",
       "      <td>healthy</td>\n",
       "      <td>healthy</td>\n",
       "      <td>76.923077</td>\n",
       "      <td></td>\n",
       "      <td>15.384615</td>\n",
       "      <td>healthy</td>\n",
       "    </tr>\n",
       "  </tbody>\n",
       "</table>\n",
       "<p>86 rows × 16 columns</p>\n",
       "</div>"
      ],
      "text/plain": [
       "                      B_prediction DC_prediction ILC_prediction  \\\n",
       "sampleID                                                          \n",
       "10XGenomics_10XHC1_T0          NPC       healthy        healthy   \n",
       "10XGenomics_10XHC2_T0          NPC       healthy        healthy   \n",
       "10XGenomics_10XHC3_T0      healthy       healthy        healthy   \n",
       "10XGenomics_10XHC4_T0          SLE       healthy        healthy   \n",
       "10XGenomics_10XHC5_T0          SLE       healthy        healthy   \n",
       "...                            ...           ...            ...   \n",
       "Savage2021_BRISL5_T0           SLE           SLE          HNSCC   \n",
       "Savage2021_BRISL6_T0         HNSCC       healthy          HNSCC   \n",
       "Savage2021_BRISL7_T0           SLE       healthy            SLE   \n",
       "Savage2021_PIDA_T0         healthy       healthy        healthy   \n",
       "Savage2021_PIDB_T0         healthy       healthy        healthy   \n",
       "\n",
       "                      Mono_prediction Plasma_prediction  \\\n",
       "sampleID                                                  \n",
       "10XGenomics_10XHC1_T0             SLE               NPC   \n",
       "10XGenomics_10XHC2_T0         healthy         cirrhosis   \n",
       "10XGenomics_10XHC3_T0             SLE               SLE   \n",
       "10XGenomics_10XHC4_T0             SLE               SLE   \n",
       "10XGenomics_10XHC5_T0             SLE               SLE   \n",
       "...                               ...               ...   \n",
       "Savage2021_BRISL5_T0              SLE             HNSCC   \n",
       "Savage2021_BRISL6_T0          healthy             COVID   \n",
       "Savage2021_BRISL7_T0            HNSCC               SLE   \n",
       "Savage2021_PIDA_T0            healthy             COVID   \n",
       "Savage2021_PIDB_T0            healthy           healthy   \n",
       "\n",
       "                      T_CD4_Naive_prediction T_CD4_NonNaive_prediction  \\\n",
       "sampleID                                                                 \n",
       "10XGenomics_10XHC1_T0                healthy                       NPC   \n",
       "10XGenomics_10XHC2_T0                healthy                       NPC   \n",
       "10XGenomics_10XHC3_T0                healthy                       NPC   \n",
       "10XGenomics_10XHC4_T0                healthy                   healthy   \n",
       "10XGenomics_10XHC5_T0                healthy                   healthy   \n",
       "...                                      ...                       ...   \n",
       "Savage2021_BRISL5_T0                     SLE                     COVID   \n",
       "Savage2021_BRISL6_T0                 healthy                   healthy   \n",
       "Savage2021_BRISL7_T0                 healthy                       NPC   \n",
       "Savage2021_PIDA_T0                   healthy                   healthy   \n",
       "Savage2021_PIDB_T0                   healthy                   healthy   \n",
       "\n",
       "                      T_CD8_Naive_prediction T_CD8_NonNaive_prediction  \\\n",
       "sampleID                                                                 \n",
       "10XGenomics_10XHC1_T0                healthy                   healthy   \n",
       "10XGenomics_10XHC2_T0                healthy                   healthy   \n",
       "10XGenomics_10XHC3_T0                healthy                       NPC   \n",
       "10XGenomics_10XHC4_T0                healthy                       NPC   \n",
       "10XGenomics_10XHC5_T0                healthy                   healthy   \n",
       "...                                      ...                       ...   \n",
       "Savage2021_BRISL5_T0                     SLE                     COVID   \n",
       "Savage2021_BRISL6_T0                 healthy                   healthy   \n",
       "Savage2021_BRISL7_T0                 healthy                   healthy   \n",
       "Savage2021_PIDA_T0                       HIV                   healthy   \n",
       "Savage2021_PIDB_T0                   healthy                       HIV   \n",
       "\n",
       "                      UTC_prediction pDC_prediction firstChoice  \\\n",
       "sampleID                                                          \n",
       "10XGenomics_10XHC1_T0        healthy        healthy     healthy   \n",
       "10XGenomics_10XHC2_T0        healthy        healthy     healthy   \n",
       "10XGenomics_10XHC3_T0        healthy        healthy     healthy   \n",
       "10XGenomics_10XHC4_T0        healthy        healthy     healthy   \n",
       "10XGenomics_10XHC5_T0        healthy        healthy     healthy   \n",
       "...                              ...            ...         ...   \n",
       "Savage2021_BRISL5_T0           HNSCC        healthy         SLE   \n",
       "Savage2021_BRISL6_T0         healthy        healthy     healthy   \n",
       "Savage2021_BRISL7_T0             NPC        healthy     healthy   \n",
       "Savage2021_PIDA_T0           healthy        healthy     healthy   \n",
       "Savage2021_PIDB_T0           healthy        healthy     healthy   \n",
       "\n",
       "                       firstChoice_perc secondChoice  secondChoice_perc  \\\n",
       "sampleID                                                                  \n",
       "10XGenomics_10XHC1_T0         53.846154          NPC          23.076923   \n",
       "10XGenomics_10XHC2_T0         61.538462          NPC          15.384615   \n",
       "10XGenomics_10XHC3_T0         53.846154          SLE          15.384615   \n",
       "10XGenomics_10XHC4_T0         53.846154          SLE          23.076923   \n",
       "10XGenomics_10XHC5_T0         61.538462          SLE          23.076923   \n",
       "...                                 ...          ...                ...   \n",
       "Savage2021_BRISL5_T0          38.461538        HNSCC          23.076923   \n",
       "Savage2021_BRISL6_T0          61.538462        HNSCC          15.384615   \n",
       "Savage2021_BRISL7_T0          38.461538          SLE          23.076923   \n",
       "Savage2021_PIDA_T0            69.230769                       15.384615   \n",
       "Savage2021_PIDB_T0            76.923077                       15.384615   \n",
       "\n",
       "                      disease_true  \n",
       "sampleID                            \n",
       "10XGenomics_10XHC1_T0      healthy  \n",
       "10XGenomics_10XHC2_T0      healthy  \n",
       "10XGenomics_10XHC3_T0      healthy  \n",
       "10XGenomics_10XHC4_T0      healthy  \n",
       "10XGenomics_10XHC5_T0      healthy  \n",
       "...                            ...  \n",
       "Savage2021_BRISL5_T0           SLE  \n",
       "Savage2021_BRISL6_T0           SLE  \n",
       "Savage2021_BRISL7_T0           SLE  \n",
       "Savage2021_PIDA_T0         healthy  \n",
       "Savage2021_PIDB_T0         healthy  \n",
       "\n",
       "[86 rows x 16 columns]"
      ]
     },
     "execution_count": 34,
     "metadata": {},
     "output_type": "execute_result"
    }
   ],
   "source": [
    "res"
   ]
  }
 ],
 "metadata": {
  "kernelspec": {
   "display_name": "Python 3 (ipykernel)",
   "language": "python",
   "name": "python3"
  },
  "language_info": {
   "codemirror_mode": {
    "name": "ipython",
    "version": 3
   },
   "file_extension": ".py",
   "mimetype": "text/x-python",
   "name": "python",
   "nbconvert_exporter": "python",
   "pygments_lexer": "ipython3",
   "version": "3.10.13"
  },
  "papermill": {
   "default_parameters": {},
   "duration": 8272.881179,
   "end_time": "2024-06-11T11:00:10.383329",
   "environment_variables": {},
   "exception": null,
   "input_path": "a02_queryDatasets_and_labelTransfer.ipynb",
   "output_path": "executed_notebooks/a02_queryDatasets_and_labelTransfer_EXTERNAL_nPC100_Batch_chemistry.ipynb",
   "parameters": {
    "batchKeys": "chemistry",
    "nPC": 100,
    "queryDataset": "EXTERNAL"
   },
   "start_time": "2024-06-11T08:42:17.502150",
   "version": "2.5.0"
  }
 },
 "nbformat": 4,
 "nbformat_minor": 5
}