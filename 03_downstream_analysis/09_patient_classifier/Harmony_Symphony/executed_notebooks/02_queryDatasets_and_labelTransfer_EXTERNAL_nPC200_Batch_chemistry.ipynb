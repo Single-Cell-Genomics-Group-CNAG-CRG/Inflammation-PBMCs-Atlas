{
 "cells": [
  {
   "cell_type": "code",
   "execution_count": 1,
   "id": "5be18405",
   "metadata": {
    "execution": {
     "iopub.execute_input": "2024-06-12T08:16:10.287975Z",
     "iopub.status.busy": "2024-06-12T08:16:10.287584Z",
     "iopub.status.idle": "2024-06-12T08:16:10.293153Z",
     "shell.execute_reply": "2024-06-12T08:16:10.292684Z"
    },
    "papermill": {
     "duration": 0.016719,
     "end_time": "2024-06-12T08:16:10.294167",
     "exception": false,
     "start_time": "2024-06-12T08:16:10.277448",
     "status": "completed"
    },
    "tags": [
     "injected-parameters"
    ]
   },
   "outputs": [],
   "source": [
    "# Parameters\n",
    "nPC = 200\n",
    "batchKeys = \"chemistry\"\n",
    "queryDataset = \"EXTERNAL\"\n"
   ]
  },
  {
   "cell_type": "raw",
   "id": "2c824816-2fbb-43a3-9807-722d9facfef3",
   "metadata": {
    "execution": {
     "iopub.execute_input": "2024-06-11T07:53:10.263964Z",
     "iopub.status.busy": "2024-06-11T07:53:10.263681Z",
     "iopub.status.idle": "2024-06-11T07:53:10.269000Z",
     "shell.execute_reply": "2024-06-11T07:53:10.268634Z",
     "shell.execute_reply.started": "2024-06-11T07:53:10.263945Z"
    },
    "papermill": {
     "duration": 0.007845,
     "end_time": "2024-06-12T08:16:10.309736",
     "exception": false,
     "start_time": "2024-06-12T08:16:10.301891",
     "status": "completed"
    },
    "tags": []
   },
   "source": [
    "nPC = 100\n",
    "batchKeys = 'libraryID,chemistry,sex,binned_age'\n",
    "queryDataset = 'VALIDATION'"
   ]
  },
  {
   "cell_type": "code",
   "execution_count": 2,
   "id": "3044cc6c-ce26-4de6-8b7b-f8f9af090921",
   "metadata": {
    "execution": {
     "iopub.execute_input": "2024-06-12T08:16:10.326213Z",
     "iopub.status.busy": "2024-06-12T08:16:10.325894Z",
     "iopub.status.idle": "2024-06-12T08:16:10.329357Z",
     "shell.execute_reply": "2024-06-12T08:16:10.328878Z"
    },
    "papermill": {
     "duration": 0.01266,
     "end_time": "2024-06-12T08:16:10.330335",
     "exception": false,
     "start_time": "2024-06-12T08:16:10.317675",
     "status": "completed"
    },
    "tags": []
   },
   "outputs": [
    {
     "name": "stdout",
     "output_type": "stream",
     "text": [
      "nPC = 200\n",
      "batchKeys = chemistry\n",
      "queryDataset = EXTERNAL\n"
     ]
    }
   ],
   "source": [
    "for v in ['nPC','batchKeys', 'queryDataset']:\n",
    "    if v in locals() or v in globals():\n",
    "        print(f\"{v} = {eval(v)}\")\n",
    "    else:\n",
    "        raise Exception(f\"{v} not specified\")"
   ]
  },
  {
   "cell_type": "code",
   "execution_count": 3,
   "id": "a9a81822-a7c1-4b2c-9419-c1df388c8d1f",
   "metadata": {
    "execution": {
     "iopub.execute_input": "2024-06-12T08:16:10.347096Z",
     "iopub.status.busy": "2024-06-12T08:16:10.346734Z",
     "iopub.status.idle": "2024-06-12T08:16:27.921285Z",
     "shell.execute_reply": "2024-06-12T08:16:27.920796Z"
    },
    "papermill": {
     "duration": 17.584661,
     "end_time": "2024-06-12T08:16:27.922736",
     "exception": false,
     "start_time": "2024-06-12T08:16:10.338075",
     "status": "completed"
    },
    "tags": []
   },
   "outputs": [],
   "source": [
    "import os\n",
    "\n",
    "import scanpy as sc\n",
    "import pandas as pd\n",
    "import numpy as np\n",
    "\n",
    "import symphonypy as sp\n",
    "\n",
    "from sklearn.metrics import balanced_accuracy_score\n",
    "\n",
    "from pyprojroot import here\n",
    "\n",
    "random_seed = 42"
   ]
  },
  {
   "cell_type": "markdown",
   "id": "74a87fda-280f-4a4c-88bb-c84dfbaf3fbd",
   "metadata": {
    "papermill": {
     "duration": 0.008519,
     "end_time": "2024-06-12T08:16:27.939518",
     "exception": false,
     "start_time": "2024-06-12T08:16:27.930999",
     "status": "completed"
    },
    "tags": []
   },
   "source": [
    "### Defining functions"
   ]
  },
  {
   "cell_type": "code",
   "execution_count": 4,
   "id": "9b47d61d-d9b8-42d0-91f2-4e3b87ea4cbc",
   "metadata": {
    "execution": {
     "iopub.execute_input": "2024-06-12T08:16:27.956192Z",
     "iopub.status.busy": "2024-06-12T08:16:27.955842Z",
     "iopub.status.idle": "2024-06-12T08:16:27.967810Z",
     "shell.execute_reply": "2024-06-12T08:16:27.967411Z"
    },
    "papermill": {
     "duration": 0.021405,
     "end_time": "2024-06-12T08:16:27.968693",
     "exception": false,
     "start_time": "2024-06-12T08:16:27.947288",
     "status": "completed"
    },
    "tags": []
   },
   "outputs": [],
   "source": [
    "def train_classifier(adataTrain = None, cell_type_col = None, y_true_col = None, max_iter=10000,random_state = 25, model = 'LinearSVC'):\n",
    "    \n",
    "    import pandas as pd\n",
    "    from tqdm import tqdm\n",
    "    from sklearn.svm import LinearSVC, SVC\n",
    "\n",
    "    from sklearn.metrics import balanced_accuracy_score\n",
    "    \n",
    "    clfList = dict()\n",
    "    trainAccuracy = []\n",
    "    for ct_ in tqdm(adataTrain.obs[cell_type_col].unique()):\n",
    "        clfList[ct_] = dict()\n",
    "        X_i = adataTrain.X[adataTrain.obs[cell_type_col] == ct_]\n",
    "        y_true_i = adataTrain.obs[y_true_col][adataTrain.obs[cell_type_col] == ct_]\n",
    "\n",
    "        if mode == 'LinearSVC':\n",
    "            clfList[ct_]['clf'] = LinearSVC(max_iter=max_iter, dual = True, random_state = random_state).fit(X_i, y_true_i)\n",
    "        elif mode == 'SVC':\n",
    "            clfList[ct_]['clf'] = SVC(max_iter=max_iter, random_state = random_state).fit(X_i, y_true_i)\n",
    "            \n",
    "        clfList[ct_]['bAcc'] = balanced_accuracy_score(y_true = y_true_i, y_pred = clfList[ct_]['clf'].predict(X_i))\n",
    "        clfList[ct_]['nObs'] = len(y_true_i)\n",
    "\n",
    "    return clfList\n",
    "    \n",
    "def vote_disease(adataTest = None, clfList = None, cell_type_col = None, sample_id_col = None):\n",
    "\n",
    "    from tqdm import tqdm\n",
    "    import pandas as pd\n",
    "\n",
    "    \n",
    "    \n",
    "    classificationDF = pd.DataFrame()\n",
    "    for ct_ in tqdm(adataTest.obs[cell_type_col].unique()):\n",
    "        X_i = adataTest.X[adataTest.obs[cell_type_col] == ct_]\n",
    "        PID_i = adataTest.obs[sample_id_col][adataTest.obs[cell_type_col] == ct_]\n",
    "        if ct_ not in clfList:\n",
    "            print(f\"{ct_} is missing in training set\")\n",
    "            continue\n",
    "        DF_i = pd.DataFrame.from_dict({\n",
    "            sample_id_col: PID_i,\n",
    "            f\"{ct_}_prediction\": clfList[ct_]['clf'].predict(X_i)\n",
    "        })\n",
    "        if classificationDF.shape[0] == 0:\n",
    "            classificationDF = DF_i\n",
    "        else:\n",
    "            classificationDF = classificationDF.merge(DF_i, how='outer', on = sample_id_col)\n",
    "    classificationDF['firstChoice'] = ''\n",
    "    classificationDF['firstChoice_perc'] = np.nan\n",
    "    classificationDF['secondChoice'] = ''\n",
    "    classificationDF['secondChoice_perc'] = np.nan\n",
    "    \n",
    "    for i in tqdm(range(classificationDF.shape[0])):\n",
    "        vote_i = classificationDF.loc[i,classificationDF.columns !=sample_id_col].value_counts()\n",
    "        vote_i /= (vote_i.sum() / 100)\n",
    "        res_i = vote_i.sort_values(ascending=False)\n",
    "        classificationDF.loc[i,'firstChoice'] = res_i.index[0]\n",
    "        classificationDF.loc[i,'firstChoice_perc'] = res_i.iloc[0]\n",
    "        if res_i.shape[0] > 1:\n",
    "            classificationDF.loc[i,'secondChoice'] = res_i.index[1]\n",
    "            classificationDF.loc[i,'secondChoice_perc'] = res_i.iloc[1]\n",
    "\n",
    "    return classificationDF\n",
    "    \n",
    "def aggregating_features(Z = None, obsDF = None, mode = 'mean', obs_names_col = [], min_observation = 0):\n",
    "    Zdf = pd.DataFrame(Z)\n",
    "    for c in obsDF.columns:\n",
    "        Zdf[c] = obsDF[c].tolist()\n",
    "\n",
    "    grpDF = Zdf.groupby(obsDF.columns.tolist(), observed = True)\n",
    "\n",
    "    nCount = grpDF.size().to_frame('n_observation')\n",
    "    \n",
    "    if mode in ['mean','avarage']:\n",
    "        Zaggr = grpDF.mean()\n",
    "    elif mode == 'sum':\n",
    "        Zaggr = grpDF.sum()\n",
    "    else:\n",
    "        raise ValueError(f\"mode {mode} not supported. Available mode are 'mean' or 'sum'\")\n",
    "\n",
    "    grpObs = pd.DataFrame(Zaggr.index.tolist(), columns=obsDF.columns.tolist()).merge(pd.DataFrame(nCount).reset_index(), on = obsDF.columns.tolist())\n",
    "\n",
    "    if len(obs_names_col) == 0:\n",
    "        grpAdata  = sc.AnnData(X = np.array(Zaggr), obs = grpObs)\n",
    "    elif all([c in obsDF.columns.tolist() for c in obs_names_col]):\n",
    "        grpObs.index = grpObs[obs_names_col].apply(lambda row: '_'.join(row.values.astype(str)), axis=1)\n",
    "        grpAdata  = sc.AnnData(X = np.array(Zaggr), obs = grpObs)\n",
    "    else:\n",
    "        raise ValueError(f\"Impossible to use {obs_names_col} as index. It's not present in obsDF\")\n",
    "\n",
    "    if min_observation > 0:\n",
    "        grpAdata = grpAdata[grpAdata.obs.n_observation >= min_observation]\n",
    "    return grpAdata"
   ]
  },
  {
   "cell_type": "markdown",
   "id": "bd323da1-8446-4ffc-91ac-c737ce081412",
   "metadata": {
    "papermill": {
     "duration": 0.008247,
     "end_time": "2024-06-12T08:16:27.984859",
     "exception": false,
     "start_time": "2024-06-12T08:16:27.976612",
     "status": "completed"
    },
    "tags": []
   },
   "source": [
    "### Parameters"
   ]
  },
  {
   "cell_type": "code",
   "execution_count": 5,
   "id": "3f81fe70-a960-401d-a05d-9d9199edd620",
   "metadata": {
    "execution": {
     "iopub.execute_input": "2024-06-12T08:16:28.001595Z",
     "iopub.status.busy": "2024-06-12T08:16:28.001263Z",
     "iopub.status.idle": "2024-06-12T08:16:28.006137Z",
     "shell.execute_reply": "2024-06-12T08:16:28.005791Z"
    },
    "papermill": {
     "duration": 0.014172,
     "end_time": "2024-06-12T08:16:28.007063",
     "exception": false,
     "start_time": "2024-06-12T08:16:27.992891",
     "status": "completed"
    },
    "tags": []
   },
   "outputs": [
    {
     "data": {
      "text/plain": [
       "['chemistry']"
      ]
     },
     "execution_count": 5,
     "metadata": {},
     "output_type": "execute_result"
    }
   ],
   "source": [
    "batch_key_query = batchKeys.split(',')\n",
    "batch_key_query"
   ]
  },
  {
   "cell_type": "markdown",
   "id": "008170b2-f7e2-4c59-b434-b682dacf1110",
   "metadata": {
    "papermill": {
     "duration": 0.007885,
     "end_time": "2024-06-12T08:16:28.023233",
     "exception": false,
     "start_time": "2024-06-12T08:16:28.015348",
     "status": "completed"
    },
    "tags": []
   },
   "source": [
    "### Loading dataset"
   ]
  },
  {
   "cell_type": "markdown",
   "id": "c96cf9da-e2ed-4800-903c-316f4805e559",
   "metadata": {
    "papermill": {
     "duration": 0.00788,
     "end_time": "2024-06-12T08:16:28.039231",
     "exception": false,
     "start_time": "2024-06-12T08:16:28.031351",
     "status": "completed"
    },
    "tags": []
   },
   "source": [
    "**Integrated object**"
   ]
  },
  {
   "cell_type": "code",
   "execution_count": 6,
   "id": "8e361302-99f5-48fe-989b-f196e18ae0dd",
   "metadata": {
    "execution": {
     "iopub.execute_input": "2024-06-12T08:16:28.055947Z",
     "iopub.status.busy": "2024-06-12T08:16:28.055657Z",
     "iopub.status.idle": "2024-06-12T08:17:28.945850Z",
     "shell.execute_reply": "2024-06-12T08:17:28.945340Z"
    },
    "papermill": {
     "duration": 60.907315,
     "end_time": "2024-06-12T08:17:28.954511",
     "exception": false,
     "start_time": "2024-06-12T08:16:28.047196",
     "status": "completed"
    },
    "tags": []
   },
   "outputs": [
    {
     "data": {
      "text/plain": [
       "AnnData object with n_obs × n_vars = 4435922 × 8253 backed at '/scratch_isilon/groups/singlecell/shared/projects/Inflammation-PBMCs-Atlas/03_downstream_analysis/08_PatientClassifier/Harmony_Symphony/results/01_MAIN_HarmonyIntegrated_200nPC_Batch_chemistry.h5ad'\n",
       "    obs: 'studyID', 'libraryID', 'sampleID', 'chemistry', 'disease', 'sex', 'binned_age', 'Level1', 'Level2'\n",
       "    var: 'hgnc_id', 'symbol', 'locus_group', 'HUGO_status', 'highly_variable', 'mean', 'std'\n",
       "    uns: 'harmony', 'log1p', 'pca'\n",
       "    obsm: 'X_pca', 'X_pca_harmony'\n",
       "    varm: 'PCs'"
      ]
     },
     "execution_count": 6,
     "metadata": {},
     "output_type": "execute_result"
    }
   ],
   "source": [
    "adataR = sc.read_h5ad(here(f\"03_downstream_analysis/08_PatientClassifier/Harmony_Symphony/results/01_MAIN_HarmonyIntegrated_{nPC}nPC_Batch_{batchKeys}.h5ad\"), backed='r')\n",
    "adataR"
   ]
  },
  {
   "cell_type": "markdown",
   "id": "7a8289b7-ae48-40bd-a8bf-b8a61d6fea7c",
   "metadata": {
    "papermill": {
     "duration": 0.00886,
     "end_time": "2024-06-12T08:17:28.971757",
     "exception": false,
     "start_time": "2024-06-12T08:17:28.962897",
     "status": "completed"
    },
    "tags": []
   },
   "source": [
    "**Query dataset**"
   ]
  },
  {
   "cell_type": "code",
   "execution_count": 7,
   "id": "f8922a45-9d49-4b6e-be13-48cecafe227d",
   "metadata": {
    "execution": {
     "iopub.execute_input": "2024-06-12T08:17:28.989848Z",
     "iopub.status.busy": "2024-06-12T08:17:28.989636Z",
     "iopub.status.idle": "2024-06-12T08:17:38.932203Z",
     "shell.execute_reply": "2024-06-12T08:17:38.931795Z"
    },
    "papermill": {
     "duration": 9.952924,
     "end_time": "2024-06-12T08:17:38.933203",
     "exception": false,
     "start_time": "2024-06-12T08:17:28.980279",
     "status": "completed"
    },
    "tags": []
   },
   "outputs": [
    {
     "data": {
      "text/plain": [
       "AnnData object with n_obs × n_vars = 572872 × 8253\n",
       "    obs: 'studyID', 'libraryID', 'sampleID', 'chemistry', 'technology', 'disease', 'sex', 'binned_age'\n",
       "    var: 'hgnc_id', 'symbol', 'locus_group', 'HUGO_status'"
      ]
     },
     "execution_count": 7,
     "metadata": {},
     "output_type": "execute_result"
    }
   ],
   "source": [
    "adataQ = sc.read_h5ad(here(f'03_downstream_analysis/02_gene_universe_definition/results/05_{queryDataset}_geneUniverse.h5ad'))\n",
    "adataQ"
   ]
  },
  {
   "cell_type": "markdown",
   "id": "0be9f746-fd30-4f97-9ec7-1a1e1f831776",
   "metadata": {
    "papermill": {
     "duration": 0.008343,
     "end_time": "2024-06-12T08:17:38.956746",
     "exception": false,
     "start_time": "2024-06-12T08:17:38.948403",
     "status": "completed"
    },
    "tags": []
   },
   "source": [
    "### Preprocessing"
   ]
  },
  {
   "cell_type": "code",
   "execution_count": 8,
   "id": "db7e0e86-4cfc-44f7-a6f1-1fa3795ad5a3",
   "metadata": {
    "execution": {
     "iopub.execute_input": "2024-06-12T08:17:38.974443Z",
     "iopub.status.busy": "2024-06-12T08:17:38.974115Z",
     "iopub.status.idle": "2024-06-12T08:18:09.512204Z",
     "shell.execute_reply": "2024-06-12T08:18:09.511699Z"
    },
    "papermill": {
     "duration": 30.548496,
     "end_time": "2024-06-12T08:18:09.513599",
     "exception": false,
     "start_time": "2024-06-12T08:17:38.965103",
     "status": "completed"
    },
    "tags": []
   },
   "outputs": [],
   "source": [
    "sc.pp.normalize_total(adataQ, target_sum=1e4)\n",
    "sc.pp.log1p(adataQ)"
   ]
  },
  {
   "cell_type": "markdown",
   "id": "3109c878-d7d1-4372-9462-0ccdb78070dc",
   "metadata": {
    "papermill": {
     "duration": 0.008983,
     "end_time": "2024-06-12T08:18:09.531087",
     "exception": false,
     "start_time": "2024-06-12T08:18:09.522104",
     "status": "completed"
    },
    "tags": []
   },
   "source": [
    "### Projection with Symphony"
   ]
  },
  {
   "cell_type": "code",
   "execution_count": 9,
   "id": "d2e7eed3-c2e1-4031-a49f-89e32fe17130",
   "metadata": {
    "execution": {
     "iopub.execute_input": "2024-06-12T08:18:09.550800Z",
     "iopub.status.busy": "2024-06-12T08:18:09.550585Z",
     "iopub.status.idle": "2024-06-12T08:26:04.345999Z",
     "shell.execute_reply": "2024-06-12T08:26:04.345201Z"
    },
    "papermill": {
     "duration": 474.806018,
     "end_time": "2024-06-12T08:26:04.347493",
     "exception": false,
     "start_time": "2024-06-12T08:18:09.541475",
     "status": "completed"
    },
    "tags": []
   },
   "outputs": [],
   "source": [
    "sp.tl.map_embedding(adataQ, adataR, key=batch_key_query)"
   ]
  },
  {
   "cell_type": "raw",
   "id": "9205924b-4e03-45d1-92af-b95346636a03",
   "metadata": {
    "papermill": {
     "duration": 0.078406,
     "end_time": "2024-06-12T08:26:04.437227",
     "exception": false,
     "start_time": "2024-06-12T08:26:04.358821",
     "status": "completed"
    },
    "tags": []
   },
   "source": [
    "sp.tl.per_cell_confidence(adataQ, adataR)"
   ]
  },
  {
   "cell_type": "raw",
   "id": "46a6bb72-921f-4385-bac9-4c6b138b00f0",
   "metadata": {
    "papermill": {
     "duration": 0.009494,
     "end_time": "2024-06-12T08:26:04.455598",
     "exception": false,
     "start_time": "2024-06-12T08:26:04.446104",
     "status": "completed"
    },
    "tags": []
   },
   "source": [
    "adataQ.obs.symphony_per_cell_dist.hist(bins=100)"
   ]
  },
  {
   "cell_type": "code",
   "execution_count": 10,
   "id": "2ee17ce6-f8c5-4a1e-b93e-9fc70ab7edb9",
   "metadata": {
    "execution": {
     "iopub.execute_input": "2024-06-12T08:26:04.474833Z",
     "iopub.status.busy": "2024-06-12T08:26:04.474608Z",
     "iopub.status.idle": "2024-06-12T08:26:04.478403Z",
     "shell.execute_reply": "2024-06-12T08:26:04.478041Z"
    },
    "papermill": {
     "duration": 0.014926,
     "end_time": "2024-06-12T08:26:04.479298",
     "exception": false,
     "start_time": "2024-06-12T08:26:04.464372",
     "status": "completed"
    },
    "tags": []
   },
   "outputs": [
    {
     "data": {
      "text/plain": [
       "AnnData object with n_obs × n_vars = 572872 × 8253\n",
       "    obs: 'studyID', 'libraryID', 'sampleID', 'chemistry', 'technology', 'disease', 'sex', 'binned_age'\n",
       "    var: 'hgnc_id', 'symbol', 'locus_group', 'HUGO_status'\n",
       "    uns: 'log1p'\n",
       "    obsm: 'X_pca_reference', 'X_pca_harmony', 'X_pca_harmony_symphony_R'"
      ]
     },
     "execution_count": 10,
     "metadata": {},
     "output_type": "execute_result"
    }
   ],
   "source": [
    "adataQ"
   ]
  },
  {
   "cell_type": "markdown",
   "id": "51e25a69-c8f9-43c8-b50c-e2b4aa826a6b",
   "metadata": {
    "papermill": {
     "duration": 0.008895,
     "end_time": "2024-06-12T08:26:04.497212",
     "exception": false,
     "start_time": "2024-06-12T08:26:04.488317",
     "status": "completed"
    },
    "tags": []
   },
   "source": [
    "### Label transfer"
   ]
  },
  {
   "cell_type": "code",
   "execution_count": 11,
   "id": "81d61d37-fdfa-4071-aace-eff99e9d6787",
   "metadata": {
    "execution": {
     "iopub.execute_input": "2024-06-12T08:26:04.516094Z",
     "iopub.status.busy": "2024-06-12T08:26:04.515796Z",
     "iopub.status.idle": "2024-06-12T08:26:04.517861Z",
     "shell.execute_reply": "2024-06-12T08:26:04.517510Z"
    },
    "papermill": {
     "duration": 0.012189,
     "end_time": "2024-06-12T08:26:04.518724",
     "exception": false,
     "start_time": "2024-06-12T08:26:04.506535",
     "status": "completed"
    },
    "tags": []
   },
   "outputs": [],
   "source": [
    "# common embedded space -> adataQ.obsm['X_pca_harmony']"
   ]
  },
  {
   "cell_type": "markdown",
   "id": "9482b233-08d7-4ed8-ad0f-729f59e05024",
   "metadata": {
    "papermill": {
     "duration": 0.009357,
     "end_time": "2024-06-12T08:26:04.536761",
     "exception": false,
     "start_time": "2024-06-12T08:26:04.527404",
     "status": "completed"
    },
    "tags": []
   },
   "source": [
    "**Level1 Annotation**"
   ]
  },
  {
   "cell_type": "code",
   "execution_count": 12,
   "id": "1016b8d2-0480-409a-aac4-1e521a1397b0",
   "metadata": {
    "execution": {
     "iopub.execute_input": "2024-06-12T08:26:04.554468Z",
     "iopub.status.busy": "2024-06-12T08:26:04.554146Z",
     "iopub.status.idle": "2024-06-12T09:13:45.267029Z",
     "shell.execute_reply": "2024-06-12T09:13:45.265940Z"
    },
    "papermill": {
     "duration": 2860.7237,
     "end_time": "2024-06-12T09:13:45.268883",
     "exception": false,
     "start_time": "2024-06-12T08:26:04.545183",
     "status": "completed"
    },
    "tags": []
   },
   "outputs": [],
   "source": [
    "sp.tl.transfer_labels_kNN(adataQ, adataR, 'Level1', ref_basis = 'X_pca_harmony', query_basis = 'X_pca_harmony')"
   ]
  },
  {
   "cell_type": "markdown",
   "id": "69eb76ae-aa03-4807-b680-a7423fb55458",
   "metadata": {
    "papermill": {
     "duration": 0.039877,
     "end_time": "2024-06-12T09:13:45.398119",
     "exception": false,
     "start_time": "2024-06-12T09:13:45.358242",
     "status": "completed"
    },
    "tags": []
   },
   "source": [
    "**Disease**"
   ]
  },
  {
   "cell_type": "code",
   "execution_count": 13,
   "id": "20429eca-9c43-4db8-b1da-94434c4c99c2",
   "metadata": {
    "execution": {
     "iopub.execute_input": "2024-06-12T09:13:45.432371Z",
     "iopub.status.busy": "2024-06-12T09:13:45.432029Z",
     "iopub.status.idle": "2024-06-12T09:13:45.436467Z",
     "shell.execute_reply": "2024-06-12T09:13:45.435986Z"
    },
    "papermill": {
     "duration": 0.019105,
     "end_time": "2024-06-12T09:13:45.437616",
     "exception": false,
     "start_time": "2024-06-12T09:13:45.418511",
     "status": "completed"
    },
    "tags": []
   },
   "outputs": [],
   "source": [
    "adataQ.obs.rename({'disease':'disease_true'}, axis=1, inplace=True)"
   ]
  },
  {
   "cell_type": "code",
   "execution_count": 14,
   "id": "7b72f7c3-af64-4a22-ab6b-8d5e5dbd4af3",
   "metadata": {
    "execution": {
     "iopub.execute_input": "2024-06-12T09:13:45.532830Z",
     "iopub.status.busy": "2024-06-12T09:13:45.532456Z",
     "iopub.status.idle": "2024-06-12T10:04:16.402431Z",
     "shell.execute_reply": "2024-06-12T10:04:16.401643Z"
    },
    "papermill": {
     "duration": 3030.939386,
     "end_time": "2024-06-12T10:04:16.404319",
     "exception": false,
     "start_time": "2024-06-12T09:13:45.464933",
     "status": "completed"
    },
    "tags": []
   },
   "outputs": [],
   "source": [
    "sp.tl.transfer_labels_kNN(adataQ, adataR, 'disease', ref_basis = 'X_pca_harmony', query_basis = 'X_pca_harmony')"
   ]
  },
  {
   "cell_type": "code",
   "execution_count": 15,
   "id": "2e1ad1d0-8a52-46a8-ae97-15dc2984f08e",
   "metadata": {
    "execution": {
     "iopub.execute_input": "2024-06-12T10:04:16.431415Z",
     "iopub.status.busy": "2024-06-12T10:04:16.431043Z",
     "iopub.status.idle": "2024-06-12T10:04:16.434857Z",
     "shell.execute_reply": "2024-06-12T10:04:16.434389Z"
    },
    "papermill": {
     "duration": 0.016729,
     "end_time": "2024-06-12T10:04:16.435991",
     "exception": false,
     "start_time": "2024-06-12T10:04:16.419262",
     "status": "completed"
    },
    "tags": []
   },
   "outputs": [],
   "source": [
    "adataQ.obs.rename({'disease':'disease_pred'}, axis=1, inplace=True)"
   ]
  },
  {
   "cell_type": "code",
   "execution_count": 16,
   "id": "0eb1c5d7-97fd-4c42-9b7b-8cddd8e22987",
   "metadata": {
    "execution": {
     "iopub.execute_input": "2024-06-12T10:04:16.479130Z",
     "iopub.status.busy": "2024-06-12T10:04:16.478818Z",
     "iopub.status.idle": "2024-06-12T10:04:18.602067Z",
     "shell.execute_reply": "2024-06-12T10:04:18.601587Z"
    },
    "papermill": {
     "duration": 2.151802,
     "end_time": "2024-06-12T10:04:18.603218",
     "exception": false,
     "start_time": "2024-06-12T10:04:16.451416",
     "status": "completed"
    },
    "tags": []
   },
   "outputs": [
    {
     "name": "stderr",
     "output_type": "stream",
     "text": [
      "/scratch_isilon/groups/singlecell/shared/conda_env/inflammation_atlas_R1/lib/python3.10/site-packages/sklearn/metrics/_classification.py:2458: UserWarning: y_pred contains classes not in y_true\n",
      "  warnings.warn(\"y_pred contains classes not in y_true\")\n"
     ]
    },
    {
     "data": {
      "text/plain": [
       "0.16848594069403083"
      ]
     },
     "execution_count": 16,
     "metadata": {},
     "output_type": "execute_result"
    }
   ],
   "source": [
    "balanced_accuracy_score(y_true = adataQ.obs.disease_true, y_pred=adataQ.obs.disease_pred)"
   ]
  },
  {
   "cell_type": "code",
   "execution_count": 17,
   "id": "0e4bc21f-ed6a-41d9-8254-1eb2bc58c1a1",
   "metadata": {
    "execution": {
     "iopub.execute_input": "2024-06-12T10:04:18.637854Z",
     "iopub.status.busy": "2024-06-12T10:04:18.637497Z",
     "iopub.status.idle": "2024-06-12T10:04:18.661646Z",
     "shell.execute_reply": "2024-06-12T10:04:18.661207Z"
    },
    "papermill": {
     "duration": 0.042227,
     "end_time": "2024-06-12T10:04:18.662773",
     "exception": false,
     "start_time": "2024-06-12T10:04:18.620546",
     "status": "completed"
    },
    "tags": []
   },
   "outputs": [
    {
     "data": {
      "text/html": [
       "<div>\n",
       "<style scoped>\n",
       "    .dataframe tbody tr th:only-of-type {\n",
       "        vertical-align: middle;\n",
       "    }\n",
       "\n",
       "    .dataframe tbody tr th {\n",
       "        vertical-align: top;\n",
       "    }\n",
       "\n",
       "    .dataframe thead th {\n",
       "        text-align: right;\n",
       "    }\n",
       "</style>\n",
       "<table border=\"1\" class=\"dataframe\">\n",
       "  <thead>\n",
       "    <tr style=\"text-align: right;\">\n",
       "      <th></th>\n",
       "      <th>studyID</th>\n",
       "      <th>libraryID</th>\n",
       "      <th>sampleID</th>\n",
       "      <th>chemistry</th>\n",
       "      <th>technology</th>\n",
       "      <th>disease_true</th>\n",
       "      <th>sex</th>\n",
       "      <th>binned_age</th>\n",
       "      <th>Level1</th>\n",
       "      <th>disease_pred</th>\n",
       "    </tr>\n",
       "    <tr>\n",
       "      <th>cellID</th>\n",
       "      <th></th>\n",
       "      <th></th>\n",
       "      <th></th>\n",
       "      <th></th>\n",
       "      <th></th>\n",
       "      <th></th>\n",
       "      <th></th>\n",
       "      <th></th>\n",
       "      <th></th>\n",
       "      <th></th>\n",
       "    </tr>\n",
       "  </thead>\n",
       "  <tbody>\n",
       "    <tr>\n",
       "      <th>SCGT00val_L006_I036016_T0_AAACCCAAGACAACTA</th>\n",
       "      <td>SCGT00val</td>\n",
       "      <td>SCGT00val_L006</td>\n",
       "      <td>SCGT00val_I036016_T0</td>\n",
       "      <td>3_GEX_V3</td>\n",
       "      <td>3_GEX_V3_GenoHashed</td>\n",
       "      <td>RA</td>\n",
       "      <td>female</td>\n",
       "      <td>31-40</td>\n",
       "      <td>T_CD4_Naive</td>\n",
       "      <td>HIV</td>\n",
       "    </tr>\n",
       "    <tr>\n",
       "      <th>SCGT00val_L006_I036023_T0_AAACCCAAGACGGAAA</th>\n",
       "      <td>SCGT00val</td>\n",
       "      <td>SCGT00val_L006</td>\n",
       "      <td>SCGT00val_I036023_T0</td>\n",
       "      <td>3_GEX_V3</td>\n",
       "      <td>3_GEX_V3_GenoHashed</td>\n",
       "      <td>RA</td>\n",
       "      <td>female</td>\n",
       "      <td>51-60</td>\n",
       "      <td>T_CD4_NonNaive</td>\n",
       "      <td>SLE</td>\n",
       "    </tr>\n",
       "    <tr>\n",
       "      <th>SCGT00val_L006_I036016_T0_AAACCCAAGAGCATTA</th>\n",
       "      <td>SCGT00val</td>\n",
       "      <td>SCGT00val_L006</td>\n",
       "      <td>SCGT00val_I036016_T0</td>\n",
       "      <td>3_GEX_V3</td>\n",
       "      <td>3_GEX_V3_GenoHashed</td>\n",
       "      <td>RA</td>\n",
       "      <td>female</td>\n",
       "      <td>31-40</td>\n",
       "      <td>T_CD4_Naive</td>\n",
       "      <td>HIV</td>\n",
       "    </tr>\n",
       "    <tr>\n",
       "      <th>SCGT00val_L006_I036021_T0_AAACCCAAGATGGTCG</th>\n",
       "      <td>SCGT00val</td>\n",
       "      <td>SCGT00val_L006</td>\n",
       "      <td>SCGT00val_I036021_T0</td>\n",
       "      <td>3_GEX_V3</td>\n",
       "      <td>3_GEX_V3_GenoHashed</td>\n",
       "      <td>RA</td>\n",
       "      <td>female</td>\n",
       "      <td>61-70</td>\n",
       "      <td>T_CD8_NonNaive</td>\n",
       "      <td>SLE</td>\n",
       "    </tr>\n",
       "    <tr>\n",
       "      <th>SCGT00val_L006_I036021_T0_AAACCCAAGCAACAAT</th>\n",
       "      <td>SCGT00val</td>\n",
       "      <td>SCGT00val_L006</td>\n",
       "      <td>SCGT00val_I036021_T0</td>\n",
       "      <td>3_GEX_V3</td>\n",
       "      <td>3_GEX_V3_GenoHashed</td>\n",
       "      <td>RA</td>\n",
       "      <td>female</td>\n",
       "      <td>61-70</td>\n",
       "      <td>DC</td>\n",
       "      <td>UC</td>\n",
       "    </tr>\n",
       "    <tr>\n",
       "      <th>...</th>\n",
       "      <td>...</td>\n",
       "      <td>...</td>\n",
       "      <td>...</td>\n",
       "      <td>...</td>\n",
       "      <td>...</td>\n",
       "      <td>...</td>\n",
       "      <td>...</td>\n",
       "      <td>...</td>\n",
       "      <td>...</td>\n",
       "      <td>...</td>\n",
       "    </tr>\n",
       "    <tr>\n",
       "      <th>10XGenomics_L008_10XHC8_T0_TTTGTCATCCACGTTC</th>\n",
       "      <td>10XGenomics</td>\n",
       "      <td>10XGenomics_L008</td>\n",
       "      <td>10XGenomics_10XHC8_T0</td>\n",
       "      <td>5_GEX_V2</td>\n",
       "      <td>5_GEX_V2</td>\n",
       "      <td>healthy</td>\n",
       "      <td>na</td>\n",
       "      <td>NaN</td>\n",
       "      <td>B</td>\n",
       "      <td>healthy</td>\n",
       "    </tr>\n",
       "    <tr>\n",
       "      <th>10XGenomics_L008_10XHC8_T0_TTTGTCATCCCGACTT</th>\n",
       "      <td>10XGenomics</td>\n",
       "      <td>10XGenomics_L008</td>\n",
       "      <td>10XGenomics_10XHC8_T0</td>\n",
       "      <td>5_GEX_V2</td>\n",
       "      <td>5_GEX_V2</td>\n",
       "      <td>healthy</td>\n",
       "      <td>na</td>\n",
       "      <td>NaN</td>\n",
       "      <td>T_CD4_Naive</td>\n",
       "      <td>healthy</td>\n",
       "    </tr>\n",
       "    <tr>\n",
       "      <th>10XGenomics_L008_10XHC8_T0_TTTGTCATCGTGGGAA</th>\n",
       "      <td>10XGenomics</td>\n",
       "      <td>10XGenomics_L008</td>\n",
       "      <td>10XGenomics_10XHC8_T0</td>\n",
       "      <td>5_GEX_V2</td>\n",
       "      <td>5_GEX_V2</td>\n",
       "      <td>healthy</td>\n",
       "      <td>na</td>\n",
       "      <td>NaN</td>\n",
       "      <td>T_CD4_Naive</td>\n",
       "      <td>healthy</td>\n",
       "    </tr>\n",
       "    <tr>\n",
       "      <th>10XGenomics_L008_10XHC8_T0_TTTGTCATCTCAAACG</th>\n",
       "      <td>10XGenomics</td>\n",
       "      <td>10XGenomics_L008</td>\n",
       "      <td>10XGenomics_10XHC8_T0</td>\n",
       "      <td>5_GEX_V2</td>\n",
       "      <td>5_GEX_V2</td>\n",
       "      <td>healthy</td>\n",
       "      <td>na</td>\n",
       "      <td>NaN</td>\n",
       "      <td>T_CD4_Naive</td>\n",
       "      <td>healthy</td>\n",
       "    </tr>\n",
       "    <tr>\n",
       "      <th>10XGenomics_L008_10XHC8_T0_TTTGTCATCTGTACGA</th>\n",
       "      <td>10XGenomics</td>\n",
       "      <td>10XGenomics_L008</td>\n",
       "      <td>10XGenomics_10XHC8_T0</td>\n",
       "      <td>5_GEX_V2</td>\n",
       "      <td>5_GEX_V2</td>\n",
       "      <td>healthy</td>\n",
       "      <td>na</td>\n",
       "      <td>NaN</td>\n",
       "      <td>T_CD4_Naive</td>\n",
       "      <td>healthy</td>\n",
       "    </tr>\n",
       "  </tbody>\n",
       "</table>\n",
       "<p>572872 rows × 10 columns</p>\n",
       "</div>"
      ],
      "text/plain": [
       "                                                 studyID         libraryID  \\\n",
       "cellID                                                                       \n",
       "SCGT00val_L006_I036016_T0_AAACCCAAGACAACTA     SCGT00val    SCGT00val_L006   \n",
       "SCGT00val_L006_I036023_T0_AAACCCAAGACGGAAA     SCGT00val    SCGT00val_L006   \n",
       "SCGT00val_L006_I036016_T0_AAACCCAAGAGCATTA     SCGT00val    SCGT00val_L006   \n",
       "SCGT00val_L006_I036021_T0_AAACCCAAGATGGTCG     SCGT00val    SCGT00val_L006   \n",
       "SCGT00val_L006_I036021_T0_AAACCCAAGCAACAAT     SCGT00val    SCGT00val_L006   \n",
       "...                                                  ...               ...   \n",
       "10XGenomics_L008_10XHC8_T0_TTTGTCATCCACGTTC  10XGenomics  10XGenomics_L008   \n",
       "10XGenomics_L008_10XHC8_T0_TTTGTCATCCCGACTT  10XGenomics  10XGenomics_L008   \n",
       "10XGenomics_L008_10XHC8_T0_TTTGTCATCGTGGGAA  10XGenomics  10XGenomics_L008   \n",
       "10XGenomics_L008_10XHC8_T0_TTTGTCATCTCAAACG  10XGenomics  10XGenomics_L008   \n",
       "10XGenomics_L008_10XHC8_T0_TTTGTCATCTGTACGA  10XGenomics  10XGenomics_L008   \n",
       "\n",
       "                                                          sampleID chemistry  \\\n",
       "cellID                                                                         \n",
       "SCGT00val_L006_I036016_T0_AAACCCAAGACAACTA    SCGT00val_I036016_T0  3_GEX_V3   \n",
       "SCGT00val_L006_I036023_T0_AAACCCAAGACGGAAA    SCGT00val_I036023_T0  3_GEX_V3   \n",
       "SCGT00val_L006_I036016_T0_AAACCCAAGAGCATTA    SCGT00val_I036016_T0  3_GEX_V3   \n",
       "SCGT00val_L006_I036021_T0_AAACCCAAGATGGTCG    SCGT00val_I036021_T0  3_GEX_V3   \n",
       "SCGT00val_L006_I036021_T0_AAACCCAAGCAACAAT    SCGT00val_I036021_T0  3_GEX_V3   \n",
       "...                                                            ...       ...   \n",
       "10XGenomics_L008_10XHC8_T0_TTTGTCATCCACGTTC  10XGenomics_10XHC8_T0  5_GEX_V2   \n",
       "10XGenomics_L008_10XHC8_T0_TTTGTCATCCCGACTT  10XGenomics_10XHC8_T0  5_GEX_V2   \n",
       "10XGenomics_L008_10XHC8_T0_TTTGTCATCGTGGGAA  10XGenomics_10XHC8_T0  5_GEX_V2   \n",
       "10XGenomics_L008_10XHC8_T0_TTTGTCATCTCAAACG  10XGenomics_10XHC8_T0  5_GEX_V2   \n",
       "10XGenomics_L008_10XHC8_T0_TTTGTCATCTGTACGA  10XGenomics_10XHC8_T0  5_GEX_V2   \n",
       "\n",
       "                                                      technology disease_true  \\\n",
       "cellID                                                                          \n",
       "SCGT00val_L006_I036016_T0_AAACCCAAGACAACTA   3_GEX_V3_GenoHashed           RA   \n",
       "SCGT00val_L006_I036023_T0_AAACCCAAGACGGAAA   3_GEX_V3_GenoHashed           RA   \n",
       "SCGT00val_L006_I036016_T0_AAACCCAAGAGCATTA   3_GEX_V3_GenoHashed           RA   \n",
       "SCGT00val_L006_I036021_T0_AAACCCAAGATGGTCG   3_GEX_V3_GenoHashed           RA   \n",
       "SCGT00val_L006_I036021_T0_AAACCCAAGCAACAAT   3_GEX_V3_GenoHashed           RA   \n",
       "...                                                          ...          ...   \n",
       "10XGenomics_L008_10XHC8_T0_TTTGTCATCCACGTTC             5_GEX_V2      healthy   \n",
       "10XGenomics_L008_10XHC8_T0_TTTGTCATCCCGACTT             5_GEX_V2      healthy   \n",
       "10XGenomics_L008_10XHC8_T0_TTTGTCATCGTGGGAA             5_GEX_V2      healthy   \n",
       "10XGenomics_L008_10XHC8_T0_TTTGTCATCTCAAACG             5_GEX_V2      healthy   \n",
       "10XGenomics_L008_10XHC8_T0_TTTGTCATCTGTACGA             5_GEX_V2      healthy   \n",
       "\n",
       "                                                sex binned_age  \\\n",
       "cellID                                                           \n",
       "SCGT00val_L006_I036016_T0_AAACCCAAGACAACTA   female      31-40   \n",
       "SCGT00val_L006_I036023_T0_AAACCCAAGACGGAAA   female      51-60   \n",
       "SCGT00val_L006_I036016_T0_AAACCCAAGAGCATTA   female      31-40   \n",
       "SCGT00val_L006_I036021_T0_AAACCCAAGATGGTCG   female      61-70   \n",
       "SCGT00val_L006_I036021_T0_AAACCCAAGCAACAAT   female      61-70   \n",
       "...                                             ...        ...   \n",
       "10XGenomics_L008_10XHC8_T0_TTTGTCATCCACGTTC      na        NaN   \n",
       "10XGenomics_L008_10XHC8_T0_TTTGTCATCCCGACTT      na        NaN   \n",
       "10XGenomics_L008_10XHC8_T0_TTTGTCATCGTGGGAA      na        NaN   \n",
       "10XGenomics_L008_10XHC8_T0_TTTGTCATCTCAAACG      na        NaN   \n",
       "10XGenomics_L008_10XHC8_T0_TTTGTCATCTGTACGA      na        NaN   \n",
       "\n",
       "                                                     Level1 disease_pred  \n",
       "cellID                                                                    \n",
       "SCGT00val_L006_I036016_T0_AAACCCAAGACAACTA      T_CD4_Naive          HIV  \n",
       "SCGT00val_L006_I036023_T0_AAACCCAAGACGGAAA   T_CD4_NonNaive          SLE  \n",
       "SCGT00val_L006_I036016_T0_AAACCCAAGAGCATTA      T_CD4_Naive          HIV  \n",
       "SCGT00val_L006_I036021_T0_AAACCCAAGATGGTCG   T_CD8_NonNaive          SLE  \n",
       "SCGT00val_L006_I036021_T0_AAACCCAAGCAACAAT               DC           UC  \n",
       "...                                                     ...          ...  \n",
       "10XGenomics_L008_10XHC8_T0_TTTGTCATCCACGTTC               B      healthy  \n",
       "10XGenomics_L008_10XHC8_T0_TTTGTCATCCCGACTT     T_CD4_Naive      healthy  \n",
       "10XGenomics_L008_10XHC8_T0_TTTGTCATCGTGGGAA     T_CD4_Naive      healthy  \n",
       "10XGenomics_L008_10XHC8_T0_TTTGTCATCTCAAACG     T_CD4_Naive      healthy  \n",
       "10XGenomics_L008_10XHC8_T0_TTTGTCATCTGTACGA     T_CD4_Naive      healthy  \n",
       "\n",
       "[572872 rows x 10 columns]"
      ]
     },
     "execution_count": 17,
     "metadata": {},
     "output_type": "execute_result"
    }
   ],
   "source": [
    "adataQ.obs"
   ]
  },
  {
   "cell_type": "markdown",
   "id": "604b824a-321a-4ebe-802f-39ac50ec5238",
   "metadata": {
    "papermill": {
     "duration": 0.011857,
     "end_time": "2024-06-12T10:04:18.686001",
     "exception": false,
     "start_time": "2024-06-12T10:04:18.674144",
     "status": "completed"
    },
    "tags": []
   },
   "source": [
    "### Generating pseudobulk from latent space for Q dataset"
   ]
  },
  {
   "cell_type": "code",
   "execution_count": 18,
   "id": "995ab0a0-f978-4667-a85a-72b4757305c5",
   "metadata": {
    "execution": {
     "iopub.execute_input": "2024-06-12T10:04:18.709427Z",
     "iopub.status.busy": "2024-06-12T10:04:18.709064Z",
     "iopub.status.idle": "2024-06-12T10:04:19.201480Z",
     "shell.execute_reply": "2024-06-12T10:04:19.200909Z"
    },
    "papermill": {
     "duration": 0.505296,
     "end_time": "2024-06-12T10:04:19.202695",
     "exception": false,
     "start_time": "2024-06-12T10:04:18.697399",
     "status": "completed"
    },
    "tags": []
   },
   "outputs": [],
   "source": [
    "emb_pseudobulk_Q = aggregating_features(Z = adataQ.obsm['X_pca_harmony'], obsDF = adataQ.obs[['sampleID','Level1','disease_true']], mode = 'mean', obs_names_col=['sampleID','Level1'])"
   ]
  },
  {
   "cell_type": "code",
   "execution_count": 19,
   "id": "841534d1-d593-4372-b4d1-3133ae9180d8",
   "metadata": {
    "execution": {
     "iopub.execute_input": "2024-06-12T10:04:19.240246Z",
     "iopub.status.busy": "2024-06-12T10:04:19.239889Z",
     "iopub.status.idle": "2024-06-12T10:04:19.247475Z",
     "shell.execute_reply": "2024-06-12T10:04:19.247022Z"
    },
    "papermill": {
     "duration": 0.035037,
     "end_time": "2024-06-12T10:04:19.248561",
     "exception": false,
     "start_time": "2024-06-12T10:04:19.213524",
     "status": "completed"
    },
    "tags": []
   },
   "outputs": [
    {
     "data": {
      "text/html": [
       "<div>\n",
       "<style scoped>\n",
       "    .dataframe tbody tr th:only-of-type {\n",
       "        vertical-align: middle;\n",
       "    }\n",
       "\n",
       "    .dataframe tbody tr th {\n",
       "        vertical-align: top;\n",
       "    }\n",
       "\n",
       "    .dataframe thead th {\n",
       "        text-align: right;\n",
       "    }\n",
       "</style>\n",
       "<table border=\"1\" class=\"dataframe\">\n",
       "  <thead>\n",
       "    <tr style=\"text-align: right;\">\n",
       "      <th></th>\n",
       "      <th>sampleID</th>\n",
       "      <th>Level1</th>\n",
       "      <th>disease_true</th>\n",
       "      <th>n_observation</th>\n",
       "    </tr>\n",
       "  </thead>\n",
       "  <tbody>\n",
       "    <tr>\n",
       "      <th>10XGenomics_10XHC1_T0_B</th>\n",
       "      <td>10XGenomics_10XHC1_T0</td>\n",
       "      <td>B</td>\n",
       "      <td>healthy</td>\n",
       "      <td>977</td>\n",
       "    </tr>\n",
       "    <tr>\n",
       "      <th>10XGenomics_10XHC1_T0_Cycling_cells</th>\n",
       "      <td>10XGenomics_10XHC1_T0</td>\n",
       "      <td>Cycling_cells</td>\n",
       "      <td>healthy</td>\n",
       "      <td>20</td>\n",
       "    </tr>\n",
       "    <tr>\n",
       "      <th>10XGenomics_10XHC1_T0_DC</th>\n",
       "      <td>10XGenomics_10XHC1_T0</td>\n",
       "      <td>DC</td>\n",
       "      <td>healthy</td>\n",
       "      <td>130</td>\n",
       "    </tr>\n",
       "    <tr>\n",
       "      <th>10XGenomics_10XHC1_T0_ILC</th>\n",
       "      <td>10XGenomics_10XHC1_T0</td>\n",
       "      <td>ILC</td>\n",
       "      <td>healthy</td>\n",
       "      <td>317</td>\n",
       "    </tr>\n",
       "    <tr>\n",
       "      <th>10XGenomics_10XHC1_T0_Mono</th>\n",
       "      <td>10XGenomics_10XHC1_T0</td>\n",
       "      <td>Mono</td>\n",
       "      <td>healthy</td>\n",
       "      <td>1462</td>\n",
       "    </tr>\n",
       "    <tr>\n",
       "      <th>...</th>\n",
       "      <td>...</td>\n",
       "      <td>...</td>\n",
       "      <td>...</td>\n",
       "      <td>...</td>\n",
       "    </tr>\n",
       "    <tr>\n",
       "      <th>Savage2021_PIDB_T0_T_CD4_NonNaive</th>\n",
       "      <td>Savage2021_PIDB_T0</td>\n",
       "      <td>T_CD4_NonNaive</td>\n",
       "      <td>healthy</td>\n",
       "      <td>1799</td>\n",
       "    </tr>\n",
       "    <tr>\n",
       "      <th>Savage2021_PIDB_T0_T_CD8_Naive</th>\n",
       "      <td>Savage2021_PIDB_T0</td>\n",
       "      <td>T_CD8_Naive</td>\n",
       "      <td>healthy</td>\n",
       "      <td>373</td>\n",
       "    </tr>\n",
       "    <tr>\n",
       "      <th>Savage2021_PIDB_T0_T_CD8_NonNaive</th>\n",
       "      <td>Savage2021_PIDB_T0</td>\n",
       "      <td>T_CD8_NonNaive</td>\n",
       "      <td>healthy</td>\n",
       "      <td>2397</td>\n",
       "    </tr>\n",
       "    <tr>\n",
       "      <th>Savage2021_PIDB_T0_UTC</th>\n",
       "      <td>Savage2021_PIDB_T0</td>\n",
       "      <td>UTC</td>\n",
       "      <td>healthy</td>\n",
       "      <td>168</td>\n",
       "    </tr>\n",
       "    <tr>\n",
       "      <th>Savage2021_PIDB_T0_pDC</th>\n",
       "      <td>Savage2021_PIDB_T0</td>\n",
       "      <td>pDC</td>\n",
       "      <td>healthy</td>\n",
       "      <td>36</td>\n",
       "    </tr>\n",
       "  </tbody>\n",
       "</table>\n",
       "<p>1208 rows × 4 columns</p>\n",
       "</div>"
      ],
      "text/plain": [
       "                                                  sampleID          Level1  \\\n",
       "10XGenomics_10XHC1_T0_B              10XGenomics_10XHC1_T0               B   \n",
       "10XGenomics_10XHC1_T0_Cycling_cells  10XGenomics_10XHC1_T0   Cycling_cells   \n",
       "10XGenomics_10XHC1_T0_DC             10XGenomics_10XHC1_T0              DC   \n",
       "10XGenomics_10XHC1_T0_ILC            10XGenomics_10XHC1_T0             ILC   \n",
       "10XGenomics_10XHC1_T0_Mono           10XGenomics_10XHC1_T0            Mono   \n",
       "...                                                    ...             ...   \n",
       "Savage2021_PIDB_T0_T_CD4_NonNaive       Savage2021_PIDB_T0  T_CD4_NonNaive   \n",
       "Savage2021_PIDB_T0_T_CD8_Naive          Savage2021_PIDB_T0     T_CD8_Naive   \n",
       "Savage2021_PIDB_T0_T_CD8_NonNaive       Savage2021_PIDB_T0  T_CD8_NonNaive   \n",
       "Savage2021_PIDB_T0_UTC                  Savage2021_PIDB_T0             UTC   \n",
       "Savage2021_PIDB_T0_pDC                  Savage2021_PIDB_T0             pDC   \n",
       "\n",
       "                                    disease_true  n_observation  \n",
       "10XGenomics_10XHC1_T0_B                  healthy            977  \n",
       "10XGenomics_10XHC1_T0_Cycling_cells      healthy             20  \n",
       "10XGenomics_10XHC1_T0_DC                 healthy            130  \n",
       "10XGenomics_10XHC1_T0_ILC                healthy            317  \n",
       "10XGenomics_10XHC1_T0_Mono               healthy           1462  \n",
       "...                                          ...            ...  \n",
       "Savage2021_PIDB_T0_T_CD4_NonNaive        healthy           1799  \n",
       "Savage2021_PIDB_T0_T_CD8_Naive           healthy            373  \n",
       "Savage2021_PIDB_T0_T_CD8_NonNaive        healthy           2397  \n",
       "Savage2021_PIDB_T0_UTC                   healthy            168  \n",
       "Savage2021_PIDB_T0_pDC                   healthy             36  \n",
       "\n",
       "[1208 rows x 4 columns]"
      ]
     },
     "execution_count": 19,
     "metadata": {},
     "output_type": "execute_result"
    }
   ],
   "source": [
    "emb_pseudobulk_Q.obs"
   ]
  },
  {
   "cell_type": "markdown",
   "id": "a43a1514-ec0f-4b9e-ac54-a48dbabc0fff",
   "metadata": {
    "execution": {
     "iopub.execute_input": "2024-06-07T16:00:22.779422Z",
     "iopub.status.busy": "2024-06-07T16:00:22.778939Z",
     "iopub.status.idle": "2024-06-07T16:00:22.782415Z",
     "shell.execute_reply": "2024-06-07T16:00:22.781982Z",
     "shell.execute_reply.started": "2024-06-07T16:00:22.779405Z"
    },
    "papermill": {
     "duration": 0.012843,
     "end_time": "2024-06-12T10:04:19.281089",
     "exception": false,
     "start_time": "2024-06-12T10:04:19.268246",
     "status": "completed"
    },
    "tags": []
   },
   "source": [
    "**Loading training pseudobulk**"
   ]
  },
  {
   "cell_type": "code",
   "execution_count": 20,
   "id": "b759518f-cc41-406e-8919-c72d6a6925e6",
   "metadata": {
    "execution": {
     "iopub.execute_input": "2024-06-12T10:04:19.339435Z",
     "iopub.status.busy": "2024-06-12T10:04:19.339079Z",
     "iopub.status.idle": "2024-06-12T10:04:19.719256Z",
     "shell.execute_reply": "2024-06-12T10:04:19.718697Z"
    },
    "papermill": {
     "duration": 0.422871,
     "end_time": "2024-06-12T10:04:19.720502",
     "exception": false,
     "start_time": "2024-06-12T10:04:19.297631",
     "status": "completed"
    },
    "tags": []
   },
   "outputs": [],
   "source": [
    "emb_pseudobulk_train = sc.read_h5ad(here(f\"03_downstream_analysis/08_PatientClassifier/Harmony_Symphony/results/01_MAIN_HarmonyIntegrated_PSEUDOBULK_{nPC}nPC_Batch_{batchKeys}.h5ad\"))"
   ]
  },
  {
   "cell_type": "markdown",
   "id": "fa0cf8df-f0dd-449c-87c8-b9207e94207b",
   "metadata": {
    "papermill": {
     "duration": 0.011474,
     "end_time": "2024-06-12T10:04:19.744452",
     "exception": false,
     "start_time": "2024-06-12T10:04:19.732978",
     "status": "completed"
    },
    "tags": []
   },
   "source": [
    "#### Remove unwanted cell types"
   ]
  },
  {
   "cell_type": "code",
   "execution_count": 21,
   "id": "b477252c-4cdb-4f89-8ec2-1d3dbc4a7655",
   "metadata": {
    "execution": {
     "iopub.execute_input": "2024-06-12T10:04:19.806716Z",
     "iopub.status.busy": "2024-06-12T10:04:19.806353Z",
     "iopub.status.idle": "2024-06-12T10:04:19.812005Z",
     "shell.execute_reply": "2024-06-12T10:04:19.811540Z"
    },
    "papermill": {
     "duration": 0.053828,
     "end_time": "2024-06-12T10:04:19.813116",
     "exception": false,
     "start_time": "2024-06-12T10:04:19.759288",
     "status": "completed"
    },
    "tags": []
   },
   "outputs": [],
   "source": [
    "emb_pseudobulk_train = emb_pseudobulk_train[~emb_pseudobulk_train.obs.Level1.isin(['Cycling_cells','RBC','Progenitors','Platelets']),]"
   ]
  },
  {
   "cell_type": "code",
   "execution_count": 22,
   "id": "25ead359-02da-4eec-a2e8-040415f31ca8",
   "metadata": {
    "execution": {
     "iopub.execute_input": "2024-06-12T10:04:19.918683Z",
     "iopub.status.busy": "2024-06-12T10:04:19.918309Z",
     "iopub.status.idle": "2024-06-12T10:04:19.921717Z",
     "shell.execute_reply": "2024-06-12T10:04:19.921271Z"
    },
    "papermill": {
     "duration": 0.029128,
     "end_time": "2024-06-12T10:04:19.922828",
     "exception": false,
     "start_time": "2024-06-12T10:04:19.893700",
     "status": "completed"
    },
    "tags": []
   },
   "outputs": [],
   "source": [
    "emb_pseudobulk_Q = emb_pseudobulk_Q[~emb_pseudobulk_Q.obs.Level1.isin(['Cycling_cells','RBC','Progenitors','Platelets']),]"
   ]
  },
  {
   "cell_type": "markdown",
   "id": "4faaceec-8aac-4c89-ac43-9093c0fe7c16",
   "metadata": {
    "papermill": {
     "duration": 0.046393,
     "end_time": "2024-06-12T10:04:19.988509",
     "exception": false,
     "start_time": "2024-06-12T10:04:19.942116",
     "status": "completed"
    },
    "tags": []
   },
   "source": [
    "### Saving query dataset and pseudobulks"
   ]
  },
  {
   "cell_type": "code",
   "execution_count": 23,
   "id": "40487ef8-ad5d-4236-a652-2d90cf76c77b",
   "metadata": {
    "execution": {
     "iopub.execute_input": "2024-06-12T10:04:20.015723Z",
     "iopub.status.busy": "2024-06-12T10:04:20.015307Z",
     "iopub.status.idle": "2024-06-12T10:08:52.039218Z",
     "shell.execute_reply": "2024-06-12T10:08:52.038342Z"
    },
    "papermill": {
     "duration": 272.038731,
     "end_time": "2024-06-12T10:08:52.041059",
     "exception": false,
     "start_time": "2024-06-12T10:04:20.002328",
     "status": "completed"
    },
    "tags": []
   },
   "outputs": [],
   "source": [
    "adataQ.write(here(f\"03_downstream_analysis/08_PatientClassifier/Harmony_Symphony/results/02_{queryDataset}_SymphonyProjected_{nPC}nPC_Batch_{batchKeys}.h5ad\"), \n",
    "             compression='gzip')"
   ]
  },
  {
   "cell_type": "code",
   "execution_count": 24,
   "id": "052a1401-1f68-49ed-a900-dda39c09e68b",
   "metadata": {
    "execution": {
     "iopub.execute_input": "2024-06-12T10:08:52.092351Z",
     "iopub.status.busy": "2024-06-12T10:08:52.092066Z",
     "iopub.status.idle": "2024-06-12T10:08:52.249630Z",
     "shell.execute_reply": "2024-06-12T10:08:52.249111Z"
    },
    "papermill": {
     "duration": 0.186387,
     "end_time": "2024-06-12T10:08:52.250732",
     "exception": false,
     "start_time": "2024-06-12T10:08:52.064345",
     "status": "completed"
    },
    "tags": []
   },
   "outputs": [
    {
     "name": "stderr",
     "output_type": "stream",
     "text": [
      "/scratch_isilon/groups/singlecell/shared/conda_env/inflammation_atlas_R1/lib/python3.10/site-packages/anndata/_core/anndata.py:1301: ImplicitModificationWarning: Trying to modify attribute `.obs` of view, initializing view as actual.\n",
      "  df[key] = c\n",
      "/scratch_isilon/groups/singlecell/shared/conda_env/inflammation_atlas_R1/lib/python3.10/site-packages/anndata/_core/anndata.py:1301: ImplicitModificationWarning: Trying to modify attribute `.obs` of view, initializing view as actual.\n",
      "  df[key] = c\n",
      "/scratch_isilon/groups/singlecell/shared/conda_env/inflammation_atlas_R1/lib/python3.10/site-packages/anndata/_core/anndata.py:1301: ImplicitModificationWarning: Trying to modify attribute `.obs` of view, initializing view as actual.\n",
      "  df[key] = c\n"
     ]
    }
   ],
   "source": [
    "emb_pseudobulk_Q.write(here(f\"03_downstream_analysis/08_PatientClassifier/Harmony_Symphony/results/02_{queryDataset}_SymphonyProjected_PSEUDOBULK{nPC}nPC_Batch_{batchKeys}.h5ad\"), \n",
    "             compression='gzip')"
   ]
  },
  {
   "cell_type": "markdown",
   "id": "8226f8d2-30b5-41a4-8efd-943e08f2d048",
   "metadata": {
    "papermill": {
     "duration": 0.033631,
     "end_time": "2024-06-12T10:08:52.305013",
     "exception": false,
     "start_time": "2024-06-12T10:08:52.271382",
     "status": "completed"
    },
    "tags": []
   },
   "source": [
    "### Training linear classifiers"
   ]
  },
  {
   "cell_type": "code",
   "execution_count": 25,
   "id": "78479add-937b-433c-96fd-457e4f0d9cd5",
   "metadata": {
    "execution": {
     "iopub.execute_input": "2024-06-12T10:08:52.374103Z",
     "iopub.status.busy": "2024-06-12T10:08:52.373412Z",
     "iopub.status.idle": "2024-06-12T10:08:52.389472Z",
     "shell.execute_reply": "2024-06-12T10:08:52.388896Z"
    },
    "papermill": {
     "duration": 0.046753,
     "end_time": "2024-06-12T10:08:52.390655",
     "exception": false,
     "start_time": "2024-06-12T10:08:52.343902",
     "status": "completed"
    },
    "tags": []
   },
   "outputs": [],
   "source": [
    "def train_classifier(adataTrain = None, cell_type_col = None, y_true_col = None, max_iter=10000,random_state = 25, model = 'LinearSVC', kargs_model = None):\n",
    "    \n",
    "    import pandas as pd\n",
    "    from tqdm import tqdm\n",
    "    from sklearn.svm import LinearSVC, SVC\n",
    "    from sklearn.neighbors import KNeighborsClassifier\n",
    "\n",
    "    from sklearn.metrics import balanced_accuracy_score\n",
    "    \n",
    "    clfList = dict()\n",
    "    trainAccuracy = []\n",
    "    for ct_ in tqdm(adataTrain.obs[cell_type_col].unique()):\n",
    "        clfList[ct_] = dict()\n",
    "        X_i = adataTrain.X[adataTrain.obs[cell_type_col] == ct_]\n",
    "        y_true_i = adataTrain.obs[y_true_col][adataTrain.obs[cell_type_col] == ct_]\n",
    "\n",
    "        if model == 'LinearSVC':\n",
    "            clfList[ct_]['clf'] = LinearSVC(**kargs_model).fit(X_i, y_true_i) # max_iter=max_iter, dual = True, random_state = random_state\n",
    "        elif model == 'SVC':\n",
    "            clfList[ct_]['clf'] = SVC(**kargs_model).fit(X_i, y_true_i) # max_iter=max_iter, random_state = random_state\n",
    "        elif model == 'KNeighborsClassifier':\n",
    "            clfList[ct_]['clf'] = KNeighborsClassifier(**kargs_model).fit(X_i, y_true_i) # n_neighbors = 5, weights='distance', n_jobs = -1\n",
    "            \n",
    "            \n",
    "        clfList[ct_]['bAcc'] = balanced_accuracy_score(y_true = y_true_i, y_pred = clfList[ct_]['clf'].predict(X_i))\n",
    "        clfList[ct_]['nObs'] = len(y_true_i)\n",
    "\n",
    "    return clfList\n",
    "    \n",
    "def vote_disease(adataTest = None, clfList = None, cell_type_col = None, sample_id_col = None):\n",
    "\n",
    "    from tqdm import tqdm\n",
    "    import pandas as pd\n",
    "    \n",
    "    classificationDF = pd.DataFrame()\n",
    "    for ct_ in tqdm(adataTest.obs[cell_type_col].unique()):\n",
    "        X_i = adataTest.X[adataTest.obs[cell_type_col] == ct_]\n",
    "        PID_i = adataTest.obs[sample_id_col][adataTest.obs[cell_type_col] == ct_]\n",
    "        if ct_ not in clfList:\n",
    "            print(f\"{ct_} is missing in training set\")\n",
    "            continue\n",
    "        DF_i = pd.DataFrame.from_dict({\n",
    "            sample_id_col: PID_i,\n",
    "            f\"{ct_}_prediction\": clfList[ct_]['clf'].predict(X_i)\n",
    "        })\n",
    "        if classificationDF.shape[0] == 0:\n",
    "            classificationDF = DF_i\n",
    "        else:\n",
    "            classificationDF = classificationDF.merge(DF_i, how='outer', on = sample_id_col)\n",
    "    classificationDF['firstChoice'] = ''\n",
    "    classificationDF['firstChoice_perc'] = np.nan\n",
    "    classificationDF['secondChoice'] = ''\n",
    "    classificationDF['secondChoice_perc'] = np.nan\n",
    "    \n",
    "    for i in tqdm(range(classificationDF.shape[0])):\n",
    "        vote_i = classificationDF.loc[i,classificationDF.columns !=sample_id_col].value_counts()\n",
    "        vote_i /= (vote_i.sum() / 100)\n",
    "        res_i = vote_i.sort_values(ascending=False)\n",
    "        classificationDF.loc[i,'firstChoice'] = res_i.index[0]\n",
    "        classificationDF.loc[i,'firstChoice_perc'] = res_i.iloc[0]\n",
    "        if res_i.shape[0] > 1:\n",
    "            classificationDF.loc[i,'secondChoice'] = res_i.index[1]\n",
    "            classificationDF.loc[i,'secondChoice_perc'] = res_i.iloc[1]\n",
    "\n",
    "    return classificationDF\n",
    "    \n",
    "def aggregating_features(Z = None, obsDF = None, mode = 'mean', obs_names_col = []):\n",
    "    Zdf = pd.DataFrame(Z)\n",
    "    for c in obsDF.columns:\n",
    "        Zdf[c] = obsDF[c].tolist()\n",
    "    if mode in ['mean','avarage']:\n",
    "        Zaggr = Zdf.groupby(obsDF.columns.tolist(), observed = True).mean()\n",
    "    elif mode == 'sum':\n",
    "        Zaggr = Zdf.groupby(obsDF.columns.tolist(), observed = True).sum()\n",
    "    else:\n",
    "        raise ValueError(f\"mode {mode} not supported. Available mode are 'mean' or 'sum'\")\n",
    "\n",
    "    grpObs = pd.DataFrame(Zaggr.index.tolist(), columns=obsDF.columns.tolist())\n",
    "\n",
    "    if len(obs_names_col) == 0:\n",
    "        grpAdata  = sc.AnnData(X = np.array(Zaggr), obs = grpObs, )\n",
    "    elif all([c in obsDF.columns.tolist() for c in obs_names_col]):\n",
    "        grpObs.index = grpObs[obs_names_col].apply(lambda row: '_'.join(row.values.astype(str)), axis=1)\n",
    "        grpAdata  = sc.AnnData(X = np.array(Zaggr), obs = grpObs)\n",
    "    else:\n",
    "        raise ValueError(f\"Impossible to use {obs_names_col} as index. It's not present in obsDF\")\n",
    "    return grpAdata"
   ]
  },
  {
   "cell_type": "code",
   "execution_count": 26,
   "id": "b2f802a7-0a43-413b-8bee-03a900836009",
   "metadata": {
    "execution": {
     "iopub.execute_input": "2024-06-12T10:08:52.430017Z",
     "iopub.status.busy": "2024-06-12T10:08:52.429821Z",
     "iopub.status.idle": "2024-06-12T10:08:53.521755Z",
     "shell.execute_reply": "2024-06-12T10:08:53.521023Z"
    },
    "papermill": {
     "duration": 1.116182,
     "end_time": "2024-06-12T10:08:53.523026",
     "exception": false,
     "start_time": "2024-06-12T10:08:52.406844",
     "status": "completed"
    },
    "tags": []
   },
   "outputs": [
    {
     "name": "stderr",
     "output_type": "stream",
     "text": [
      "\r",
      "  0%|          | 0/11 [00:00<?, ?it/s]"
     ]
    },
    {
     "name": "stderr",
     "output_type": "stream",
     "text": [
      "\r",
      " 18%|█▊        | 2/11 [00:00<00:00, 11.60it/s]"
     ]
    },
    {
     "name": "stderr",
     "output_type": "stream",
     "text": [
      "\r",
      " 36%|███▋      | 4/11 [00:00<00:00, 12.47it/s]"
     ]
    },
    {
     "name": "stderr",
     "output_type": "stream",
     "text": [
      "\r",
      " 55%|█████▍    | 6/11 [00:00<00:00, 11.82it/s]"
     ]
    },
    {
     "name": "stderr",
     "output_type": "stream",
     "text": [
      "\r",
      " 73%|███████▎  | 8/11 [00:00<00:00, 11.98it/s]"
     ]
    },
    {
     "name": "stderr",
     "output_type": "stream",
     "text": [
      "\r",
      " 91%|█████████ | 10/11 [00:00<00:00, 12.30it/s]"
     ]
    },
    {
     "name": "stderr",
     "output_type": "stream",
     "text": [
      "\r",
      "100%|██████████| 11/11 [00:00<00:00, 12.28it/s]"
     ]
    },
    {
     "name": "stderr",
     "output_type": "stream",
     "text": [
      "\n"
     ]
    }
   ],
   "source": [
    "clfList = train_classifier(adataTrain = emb_pseudobulk_train, cell_type_col = 'Level1', y_true_col = 'disease', max_iter=-1, random_state = 25, model = 'KNeighborsClassifier', \n",
    "                           kargs_model={'n_neighbors':2, 'weights':'uniform', 'metric':'cosine','n_jobs':-1})"
   ]
  },
  {
   "cell_type": "code",
   "execution_count": 27,
   "id": "184e7805-037a-48ab-bdde-b80d084b46cd",
   "metadata": {
    "execution": {
     "iopub.execute_input": "2024-06-12T10:08:53.550827Z",
     "iopub.status.busy": "2024-06-12T10:08:53.550187Z",
     "iopub.status.idle": "2024-06-12T10:08:53.562293Z",
     "shell.execute_reply": "2024-06-12T10:08:53.561560Z"
    },
    "papermill": {
     "duration": 0.026888,
     "end_time": "2024-06-12T10:08:53.563528",
     "exception": false,
     "start_time": "2024-06-12T10:08:53.536640",
     "status": "completed"
    },
    "tags": []
   },
   "outputs": [
    {
     "data": {
      "text/plain": [
       "{'B': {'clf': KNeighborsClassifier(metric='cosine', n_jobs=-1, n_neighbors=2),\n",
       "  'bAcc': 0.9122029870714081,\n",
       "  'nObs': 814},\n",
       " 'DC': {'clf': KNeighborsClassifier(metric='cosine', n_jobs=-1, n_neighbors=2),\n",
       "  'bAcc': 0.8973075162049755,\n",
       "  'nObs': 801},\n",
       " 'ILC': {'clf': KNeighborsClassifier(metric='cosine', n_jobs=-1, n_neighbors=2),\n",
       "  'bAcc': 0.8920130294917173,\n",
       "  'nObs': 817},\n",
       " 'Mono': {'clf': KNeighborsClassifier(metric='cosine', n_jobs=-1, n_neighbors=2),\n",
       "  'bAcc': 0.885445668497003,\n",
       "  'nObs': 817},\n",
       " 'Plasma': {'clf': KNeighborsClassifier(metric='cosine', n_jobs=-1, n_neighbors=2),\n",
       "  'bAcc': 0.8165221332468878,\n",
       "  'nObs': 727},\n",
       " 'T_CD4_Naive': {'clf': KNeighborsClassifier(metric='cosine', n_jobs=-1, n_neighbors=2),\n",
       "  'bAcc': 0.9304880618928062,\n",
       "  'nObs': 814},\n",
       " 'T_CD4_NonNaive': {'clf': KNeighborsClassifier(metric='cosine', n_jobs=-1, n_neighbors=2),\n",
       "  'bAcc': 0.9376140213968345,\n",
       "  'nObs': 816},\n",
       " 'T_CD8_Naive': {'clf': KNeighborsClassifier(metric='cosine', n_jobs=-1, n_neighbors=2),\n",
       "  'bAcc': 0.9262116388745374,\n",
       "  'nObs': 805},\n",
       " 'T_CD8_NonNaive': {'clf': KNeighborsClassifier(metric='cosine', n_jobs=-1, n_neighbors=2),\n",
       "  'bAcc': 0.9117952512921009,\n",
       "  'nObs': 817},\n",
       " 'UTC': {'clf': KNeighborsClassifier(metric='cosine', n_jobs=-1, n_neighbors=2),\n",
       "  'bAcc': 0.8818644167327833,\n",
       "  'nObs': 813},\n",
       " 'pDC': {'clf': KNeighborsClassifier(metric='cosine', n_jobs=-1, n_neighbors=2),\n",
       "  'bAcc': 0.865539277151764,\n",
       "  'nObs': 775}}"
      ]
     },
     "execution_count": 27,
     "metadata": {},
     "output_type": "execute_result"
    }
   ],
   "source": [
    "clfList"
   ]
  },
  {
   "cell_type": "markdown",
   "id": "8140578c-927e-4a12-84c1-809c70d2387c",
   "metadata": {
    "papermill": {
     "duration": 0.016385,
     "end_time": "2024-06-12T10:08:53.593130",
     "exception": false,
     "start_time": "2024-06-12T10:08:53.576745",
     "status": "completed"
    },
    "tags": []
   },
   "source": [
    "### Predicting diseases"
   ]
  },
  {
   "cell_type": "code",
   "execution_count": 28,
   "id": "ba47d364-9407-4d4a-9a9c-a02d374a9932",
   "metadata": {
    "execution": {
     "iopub.execute_input": "2024-06-12T10:08:53.621123Z",
     "iopub.status.busy": "2024-06-12T10:08:53.620618Z",
     "iopub.status.idle": "2024-06-12T10:08:53.629354Z",
     "shell.execute_reply": "2024-06-12T10:08:53.628795Z"
    },
    "papermill": {
     "duration": 0.023529,
     "end_time": "2024-06-12T10:08:53.630600",
     "exception": false,
     "start_time": "2024-06-12T10:08:53.607071",
     "status": "completed"
    },
    "tags": []
   },
   "outputs": [
    {
     "data": {
      "text/html": [
       "<div>\n",
       "<style scoped>\n",
       "    .dataframe tbody tr th:only-of-type {\n",
       "        vertical-align: middle;\n",
       "    }\n",
       "\n",
       "    .dataframe tbody tr th {\n",
       "        vertical-align: top;\n",
       "    }\n",
       "\n",
       "    .dataframe thead th {\n",
       "        text-align: right;\n",
       "    }\n",
       "</style>\n",
       "<table border=\"1\" class=\"dataframe\">\n",
       "  <thead>\n",
       "    <tr style=\"text-align: right;\">\n",
       "      <th></th>\n",
       "      <th>sampleID</th>\n",
       "      <th>Level1</th>\n",
       "      <th>disease_true</th>\n",
       "      <th>n_observation</th>\n",
       "    </tr>\n",
       "  </thead>\n",
       "  <tbody>\n",
       "    <tr>\n",
       "      <th>10XGenomics_10XHC1_T0_B</th>\n",
       "      <td>10XGenomics_10XHC1_T0</td>\n",
       "      <td>B</td>\n",
       "      <td>healthy</td>\n",
       "      <td>977</td>\n",
       "    </tr>\n",
       "    <tr>\n",
       "      <th>10XGenomics_10XHC1_T0_DC</th>\n",
       "      <td>10XGenomics_10XHC1_T0</td>\n",
       "      <td>DC</td>\n",
       "      <td>healthy</td>\n",
       "      <td>130</td>\n",
       "    </tr>\n",
       "    <tr>\n",
       "      <th>10XGenomics_10XHC1_T0_ILC</th>\n",
       "      <td>10XGenomics_10XHC1_T0</td>\n",
       "      <td>ILC</td>\n",
       "      <td>healthy</td>\n",
       "      <td>317</td>\n",
       "    </tr>\n",
       "    <tr>\n",
       "      <th>10XGenomics_10XHC1_T0_Mono</th>\n",
       "      <td>10XGenomics_10XHC1_T0</td>\n",
       "      <td>Mono</td>\n",
       "      <td>healthy</td>\n",
       "      <td>1462</td>\n",
       "    </tr>\n",
       "    <tr>\n",
       "      <th>10XGenomics_10XHC1_T0_Plasma</th>\n",
       "      <td>10XGenomics_10XHC1_T0</td>\n",
       "      <td>Plasma</td>\n",
       "      <td>healthy</td>\n",
       "      <td>4</td>\n",
       "    </tr>\n",
       "    <tr>\n",
       "      <th>...</th>\n",
       "      <td>...</td>\n",
       "      <td>...</td>\n",
       "      <td>...</td>\n",
       "      <td>...</td>\n",
       "    </tr>\n",
       "    <tr>\n",
       "      <th>Savage2021_PIDB_T0_T_CD4_NonNaive</th>\n",
       "      <td>Savage2021_PIDB_T0</td>\n",
       "      <td>T_CD4_NonNaive</td>\n",
       "      <td>healthy</td>\n",
       "      <td>1799</td>\n",
       "    </tr>\n",
       "    <tr>\n",
       "      <th>Savage2021_PIDB_T0_T_CD8_Naive</th>\n",
       "      <td>Savage2021_PIDB_T0</td>\n",
       "      <td>T_CD8_Naive</td>\n",
       "      <td>healthy</td>\n",
       "      <td>373</td>\n",
       "    </tr>\n",
       "    <tr>\n",
       "      <th>Savage2021_PIDB_T0_T_CD8_NonNaive</th>\n",
       "      <td>Savage2021_PIDB_T0</td>\n",
       "      <td>T_CD8_NonNaive</td>\n",
       "      <td>healthy</td>\n",
       "      <td>2397</td>\n",
       "    </tr>\n",
       "    <tr>\n",
       "      <th>Savage2021_PIDB_T0_UTC</th>\n",
       "      <td>Savage2021_PIDB_T0</td>\n",
       "      <td>UTC</td>\n",
       "      <td>healthy</td>\n",
       "      <td>168</td>\n",
       "    </tr>\n",
       "    <tr>\n",
       "      <th>Savage2021_PIDB_T0_pDC</th>\n",
       "      <td>Savage2021_PIDB_T0</td>\n",
       "      <td>pDC</td>\n",
       "      <td>healthy</td>\n",
       "      <td>36</td>\n",
       "    </tr>\n",
       "  </tbody>\n",
       "</table>\n",
       "<p>932 rows × 4 columns</p>\n",
       "</div>"
      ],
      "text/plain": [
       "                                                sampleID          Level1  \\\n",
       "10XGenomics_10XHC1_T0_B            10XGenomics_10XHC1_T0               B   \n",
       "10XGenomics_10XHC1_T0_DC           10XGenomics_10XHC1_T0              DC   \n",
       "10XGenomics_10XHC1_T0_ILC          10XGenomics_10XHC1_T0             ILC   \n",
       "10XGenomics_10XHC1_T0_Mono         10XGenomics_10XHC1_T0            Mono   \n",
       "10XGenomics_10XHC1_T0_Plasma       10XGenomics_10XHC1_T0          Plasma   \n",
       "...                                                  ...             ...   \n",
       "Savage2021_PIDB_T0_T_CD4_NonNaive     Savage2021_PIDB_T0  T_CD4_NonNaive   \n",
       "Savage2021_PIDB_T0_T_CD8_Naive        Savage2021_PIDB_T0     T_CD8_Naive   \n",
       "Savage2021_PIDB_T0_T_CD8_NonNaive     Savage2021_PIDB_T0  T_CD8_NonNaive   \n",
       "Savage2021_PIDB_T0_UTC                Savage2021_PIDB_T0             UTC   \n",
       "Savage2021_PIDB_T0_pDC                Savage2021_PIDB_T0             pDC   \n",
       "\n",
       "                                  disease_true  n_observation  \n",
       "10XGenomics_10XHC1_T0_B                healthy            977  \n",
       "10XGenomics_10XHC1_T0_DC               healthy            130  \n",
       "10XGenomics_10XHC1_T0_ILC              healthy            317  \n",
       "10XGenomics_10XHC1_T0_Mono             healthy           1462  \n",
       "10XGenomics_10XHC1_T0_Plasma           healthy              4  \n",
       "...                                        ...            ...  \n",
       "Savage2021_PIDB_T0_T_CD4_NonNaive      healthy           1799  \n",
       "Savage2021_PIDB_T0_T_CD8_Naive         healthy            373  \n",
       "Savage2021_PIDB_T0_T_CD8_NonNaive      healthy           2397  \n",
       "Savage2021_PIDB_T0_UTC                 healthy            168  \n",
       "Savage2021_PIDB_T0_pDC                 healthy             36  \n",
       "\n",
       "[932 rows x 4 columns]"
      ]
     },
     "execution_count": 28,
     "metadata": {},
     "output_type": "execute_result"
    }
   ],
   "source": [
    "emb_pseudobulk_Q.obs"
   ]
  },
  {
   "cell_type": "code",
   "execution_count": 29,
   "id": "39befc29-3613-4abc-adeb-bfee66e08dea",
   "metadata": {
    "execution": {
     "iopub.execute_input": "2024-06-12T10:08:53.657317Z",
     "iopub.status.busy": "2024-06-12T10:08:53.657124Z",
     "iopub.status.idle": "2024-06-12T10:08:54.063714Z",
     "shell.execute_reply": "2024-06-12T10:08:54.062978Z"
    },
    "papermill": {
     "duration": 0.421182,
     "end_time": "2024-06-12T10:08:54.064883",
     "exception": false,
     "start_time": "2024-06-12T10:08:53.643701",
     "status": "completed"
    },
    "tags": []
   },
   "outputs": [
    {
     "name": "stderr",
     "output_type": "stream",
     "text": [
      "\r",
      "  0%|          | 0/11 [00:00<?, ?it/s]"
     ]
    },
    {
     "name": "stderr",
     "output_type": "stream",
     "text": [
      "\r",
      " 36%|███▋      | 4/11 [00:00<00:00, 35.39it/s]"
     ]
    },
    {
     "name": "stderr",
     "output_type": "stream",
     "text": [
      "\r",
      " 82%|████████▏ | 9/11 [00:00<00:00, 41.09it/s]"
     ]
    },
    {
     "name": "stderr",
     "output_type": "stream",
     "text": [
      "\r",
      "100%|██████████| 11/11 [00:00<00:00, 38.51it/s]"
     ]
    },
    {
     "name": "stderr",
     "output_type": "stream",
     "text": [
      "\n"
     ]
    },
    {
     "name": "stderr",
     "output_type": "stream",
     "text": [
      "\r",
      "  0%|          | 0/86 [00:00<?, ?it/s]"
     ]
    },
    {
     "name": "stderr",
     "output_type": "stream",
     "text": [
      "\r",
      " 90%|████████▉ | 77/86 [00:00<00:00, 766.69it/s]"
     ]
    },
    {
     "name": "stderr",
     "output_type": "stream",
     "text": [
      "\r",
      "100%|██████████| 86/86 [00:00<00:00, 762.18it/s]"
     ]
    },
    {
     "name": "stderr",
     "output_type": "stream",
     "text": [
      "\n"
     ]
    }
   ],
   "source": [
    "classificationDF = vote_disease(adataTest = emb_pseudobulk_Q, \n",
    "                                clfList = clfList, \n",
    "                                sample_id_col = 'sampleID',\n",
    "                                cell_type_col = 'Level1')\n"
   ]
  },
  {
   "cell_type": "code",
   "execution_count": 30,
   "id": "a731fec9-92f4-4b14-b374-ad2bec4d4f13",
   "metadata": {
    "execution": {
     "iopub.execute_input": "2024-06-12T10:08:54.095052Z",
     "iopub.status.busy": "2024-06-12T10:08:54.094844Z",
     "iopub.status.idle": "2024-06-12T10:08:54.101074Z",
     "shell.execute_reply": "2024-06-12T10:08:54.100535Z"
    },
    "papermill": {
     "duration": 0.023867,
     "end_time": "2024-06-12T10:08:54.102174",
     "exception": false,
     "start_time": "2024-06-12T10:08:54.078307",
     "status": "completed"
    },
    "tags": []
   },
   "outputs": [],
   "source": [
    "res = classificationDF.merge(emb_pseudobulk_Q.obs[['sampleID', 'disease_true']].drop_duplicates(), how = 'left', on = 'sampleID').set_index('sampleID')\n"
   ]
  },
  {
   "cell_type": "code",
   "execution_count": 31,
   "id": "00fff243-e3d9-436c-b369-b7d4d29a13bf",
   "metadata": {
    "execution": {
     "iopub.execute_input": "2024-06-12T10:08:54.179363Z",
     "iopub.status.busy": "2024-06-12T10:08:54.179151Z",
     "iopub.status.idle": "2024-06-12T10:08:54.185484Z",
     "shell.execute_reply": "2024-06-12T10:08:54.184937Z"
    },
    "papermill": {
     "duration": 0.043224,
     "end_time": "2024-06-12T10:08:54.186656",
     "exception": false,
     "start_time": "2024-06-12T10:08:54.143432",
     "status": "completed"
    },
    "tags": []
   },
   "outputs": [
    {
     "name": "stderr",
     "output_type": "stream",
     "text": [
      "/scratch_isilon/groups/singlecell/shared/conda_env/inflammation_atlas_R1/lib/python3.10/site-packages/sklearn/metrics/_classification.py:2458: UserWarning: y_pred contains classes not in y_true\n",
      "  warnings.warn(\"y_pred contains classes not in y_true\")\n"
     ]
    },
    {
     "data": {
      "text/plain": [
       "0.23314950980392157"
      ]
     },
     "execution_count": 31,
     "metadata": {},
     "output_type": "execute_result"
    }
   ],
   "source": [
    "balanced_accuracy_score(y_true = res.disease_true, y_pred=res.firstChoice)"
   ]
  },
  {
   "cell_type": "code",
   "execution_count": 32,
   "id": "54568ce9-5d5d-47e2-bc88-5a61eae513bc",
   "metadata": {
    "execution": {
     "iopub.execute_input": "2024-06-12T10:08:54.229321Z",
     "iopub.status.busy": "2024-06-12T10:08:54.228904Z",
     "iopub.status.idle": "2024-06-12T10:08:54.243005Z",
     "shell.execute_reply": "2024-06-12T10:08:54.242481Z"
    },
    "papermill": {
     "duration": 0.042351,
     "end_time": "2024-06-12T10:08:54.244208",
     "exception": false,
     "start_time": "2024-06-12T10:08:54.201857",
     "status": "completed"
    },
    "tags": []
   },
   "outputs": [
    {
     "data": {
      "text/html": [
       "<div>\n",
       "<style scoped>\n",
       "    .dataframe tbody tr th:only-of-type {\n",
       "        vertical-align: middle;\n",
       "    }\n",
       "\n",
       "    .dataframe tbody tr th {\n",
       "        vertical-align: top;\n",
       "    }\n",
       "\n",
       "    .dataframe thead th {\n",
       "        text-align: right;\n",
       "    }\n",
       "</style>\n",
       "<table border=\"1\" class=\"dataframe\">\n",
       "  <thead>\n",
       "    <tr style=\"text-align: right;\">\n",
       "      <th></th>\n",
       "      <th>B_prediction</th>\n",
       "      <th>DC_prediction</th>\n",
       "      <th>ILC_prediction</th>\n",
       "      <th>Mono_prediction</th>\n",
       "      <th>Plasma_prediction</th>\n",
       "      <th>T_CD4_Naive_prediction</th>\n",
       "      <th>T_CD4_NonNaive_prediction</th>\n",
       "      <th>T_CD8_Naive_prediction</th>\n",
       "      <th>T_CD8_NonNaive_prediction</th>\n",
       "      <th>UTC_prediction</th>\n",
       "      <th>pDC_prediction</th>\n",
       "      <th>firstChoice</th>\n",
       "      <th>firstChoice_perc</th>\n",
       "      <th>secondChoice</th>\n",
       "      <th>secondChoice_perc</th>\n",
       "      <th>disease_true</th>\n",
       "    </tr>\n",
       "    <tr>\n",
       "      <th>sampleID</th>\n",
       "      <th></th>\n",
       "      <th></th>\n",
       "      <th></th>\n",
       "      <th></th>\n",
       "      <th></th>\n",
       "      <th></th>\n",
       "      <th></th>\n",
       "      <th></th>\n",
       "      <th></th>\n",
       "      <th></th>\n",
       "      <th></th>\n",
       "      <th></th>\n",
       "      <th></th>\n",
       "      <th></th>\n",
       "      <th></th>\n",
       "      <th></th>\n",
       "    </tr>\n",
       "  </thead>\n",
       "  <tbody>\n",
       "    <tr>\n",
       "      <th>10XGenomics_10XHC1_T0</th>\n",
       "      <td>NPC</td>\n",
       "      <td>healthy</td>\n",
       "      <td>healthy</td>\n",
       "      <td>SLE</td>\n",
       "      <td>NPC</td>\n",
       "      <td>healthy</td>\n",
       "      <td>healthy</td>\n",
       "      <td>NPC</td>\n",
       "      <td>healthy</td>\n",
       "      <td>healthy</td>\n",
       "      <td>healthy</td>\n",
       "      <td>healthy</td>\n",
       "      <td>53.846154</td>\n",
       "      <td>NPC</td>\n",
       "      <td>23.076923</td>\n",
       "      <td>healthy</td>\n",
       "    </tr>\n",
       "    <tr>\n",
       "      <th>10XGenomics_10XHC2_T0</th>\n",
       "      <td>NPC</td>\n",
       "      <td>healthy</td>\n",
       "      <td>NPC</td>\n",
       "      <td>healthy</td>\n",
       "      <td>COPD</td>\n",
       "      <td>healthy</td>\n",
       "      <td>healthy</td>\n",
       "      <td>NPC</td>\n",
       "      <td>healthy</td>\n",
       "      <td>healthy</td>\n",
       "      <td>healthy</td>\n",
       "      <td>healthy</td>\n",
       "      <td>53.846154</td>\n",
       "      <td>NPC</td>\n",
       "      <td>23.076923</td>\n",
       "      <td>healthy</td>\n",
       "    </tr>\n",
       "    <tr>\n",
       "      <th>10XGenomics_10XHC3_T0</th>\n",
       "      <td>healthy</td>\n",
       "      <td>healthy</td>\n",
       "      <td>healthy</td>\n",
       "      <td>HIV</td>\n",
       "      <td>SLE</td>\n",
       "      <td>healthy</td>\n",
       "      <td>healthy</td>\n",
       "      <td>NPC</td>\n",
       "      <td>NPC</td>\n",
       "      <td>healthy</td>\n",
       "      <td>healthy</td>\n",
       "      <td>healthy</td>\n",
       "      <td>53.846154</td>\n",
       "      <td>NPC</td>\n",
       "      <td>15.384615</td>\n",
       "      <td>healthy</td>\n",
       "    </tr>\n",
       "    <tr>\n",
       "      <th>10XGenomics_10XHC4_T0</th>\n",
       "      <td>SLE</td>\n",
       "      <td>healthy</td>\n",
       "      <td>healthy</td>\n",
       "      <td>SLE</td>\n",
       "      <td>SLE</td>\n",
       "      <td>healthy</td>\n",
       "      <td>healthy</td>\n",
       "      <td>healthy</td>\n",
       "      <td>healthy</td>\n",
       "      <td>healthy</td>\n",
       "      <td>healthy</td>\n",
       "      <td>healthy</td>\n",
       "      <td>61.538462</td>\n",
       "      <td>SLE</td>\n",
       "      <td>23.076923</td>\n",
       "      <td>healthy</td>\n",
       "    </tr>\n",
       "    <tr>\n",
       "      <th>10XGenomics_10XHC5_T0</th>\n",
       "      <td>SLE</td>\n",
       "      <td>healthy</td>\n",
       "      <td>healthy</td>\n",
       "      <td>SLE</td>\n",
       "      <td>SLE</td>\n",
       "      <td>healthy</td>\n",
       "      <td>healthy</td>\n",
       "      <td>healthy</td>\n",
       "      <td>healthy</td>\n",
       "      <td>healthy</td>\n",
       "      <td>healthy</td>\n",
       "      <td>healthy</td>\n",
       "      <td>61.538462</td>\n",
       "      <td>SLE</td>\n",
       "      <td>23.076923</td>\n",
       "      <td>healthy</td>\n",
       "    </tr>\n",
       "    <tr>\n",
       "      <th>...</th>\n",
       "      <td>...</td>\n",
       "      <td>...</td>\n",
       "      <td>...</td>\n",
       "      <td>...</td>\n",
       "      <td>...</td>\n",
       "      <td>...</td>\n",
       "      <td>...</td>\n",
       "      <td>...</td>\n",
       "      <td>...</td>\n",
       "      <td>...</td>\n",
       "      <td>...</td>\n",
       "      <td>...</td>\n",
       "      <td>...</td>\n",
       "      <td>...</td>\n",
       "      <td>...</td>\n",
       "      <td>...</td>\n",
       "    </tr>\n",
       "    <tr>\n",
       "      <th>Savage2021_BRISL5_T0</th>\n",
       "      <td>SLE</td>\n",
       "      <td>SLE</td>\n",
       "      <td>HNSCC</td>\n",
       "      <td>SLE</td>\n",
       "      <td>COVID</td>\n",
       "      <td>SLE</td>\n",
       "      <td>COVID</td>\n",
       "      <td>SLE</td>\n",
       "      <td>COVID</td>\n",
       "      <td>SLE</td>\n",
       "      <td>healthy</td>\n",
       "      <td>SLE</td>\n",
       "      <td>46.153846</td>\n",
       "      <td>COVID</td>\n",
       "      <td>23.076923</td>\n",
       "      <td>SLE</td>\n",
       "    </tr>\n",
       "    <tr>\n",
       "      <th>Savage2021_BRISL6_T0</th>\n",
       "      <td>CD</td>\n",
       "      <td>healthy</td>\n",
       "      <td>HNSCC</td>\n",
       "      <td>healthy</td>\n",
       "      <td>COVID</td>\n",
       "      <td>healthy</td>\n",
       "      <td>healthy</td>\n",
       "      <td>healthy</td>\n",
       "      <td>healthy</td>\n",
       "      <td>healthy</td>\n",
       "      <td>healthy</td>\n",
       "      <td>healthy</td>\n",
       "      <td>61.538462</td>\n",
       "      <td></td>\n",
       "      <td>15.384615</td>\n",
       "      <td>SLE</td>\n",
       "    </tr>\n",
       "    <tr>\n",
       "      <th>Savage2021_BRISL7_T0</th>\n",
       "      <td>SLE</td>\n",
       "      <td>healthy</td>\n",
       "      <td>NPC</td>\n",
       "      <td>HNSCC</td>\n",
       "      <td>SLE</td>\n",
       "      <td>healthy</td>\n",
       "      <td>healthy</td>\n",
       "      <td>healthy</td>\n",
       "      <td>COVID</td>\n",
       "      <td>COVID</td>\n",
       "      <td>healthy</td>\n",
       "      <td>healthy</td>\n",
       "      <td>38.461538</td>\n",
       "      <td>SLE</td>\n",
       "      <td>15.384615</td>\n",
       "      <td>SLE</td>\n",
       "    </tr>\n",
       "    <tr>\n",
       "      <th>Savage2021_PIDA_T0</th>\n",
       "      <td>healthy</td>\n",
       "      <td>healthy</td>\n",
       "      <td>healthy</td>\n",
       "      <td>healthy</td>\n",
       "      <td>COVID</td>\n",
       "      <td>healthy</td>\n",
       "      <td>healthy</td>\n",
       "      <td>HIV</td>\n",
       "      <td>healthy</td>\n",
       "      <td>healthy</td>\n",
       "      <td>healthy</td>\n",
       "      <td>healthy</td>\n",
       "      <td>69.230769</td>\n",
       "      <td></td>\n",
       "      <td>15.384615</td>\n",
       "      <td>healthy</td>\n",
       "    </tr>\n",
       "    <tr>\n",
       "      <th>Savage2021_PIDB_T0</th>\n",
       "      <td>healthy</td>\n",
       "      <td>healthy</td>\n",
       "      <td>healthy</td>\n",
       "      <td>healthy</td>\n",
       "      <td>flu</td>\n",
       "      <td>healthy</td>\n",
       "      <td>healthy</td>\n",
       "      <td>healthy</td>\n",
       "      <td>COVID</td>\n",
       "      <td>healthy</td>\n",
       "      <td>healthy</td>\n",
       "      <td>healthy</td>\n",
       "      <td>69.230769</td>\n",
       "      <td></td>\n",
       "      <td>15.384615</td>\n",
       "      <td>healthy</td>\n",
       "    </tr>\n",
       "  </tbody>\n",
       "</table>\n",
       "<p>86 rows × 16 columns</p>\n",
       "</div>"
      ],
      "text/plain": [
       "                      B_prediction DC_prediction ILC_prediction  \\\n",
       "sampleID                                                          \n",
       "10XGenomics_10XHC1_T0          NPC       healthy        healthy   \n",
       "10XGenomics_10XHC2_T0          NPC       healthy            NPC   \n",
       "10XGenomics_10XHC3_T0      healthy       healthy        healthy   \n",
       "10XGenomics_10XHC4_T0          SLE       healthy        healthy   \n",
       "10XGenomics_10XHC5_T0          SLE       healthy        healthy   \n",
       "...                            ...           ...            ...   \n",
       "Savage2021_BRISL5_T0           SLE           SLE          HNSCC   \n",
       "Savage2021_BRISL6_T0            CD       healthy          HNSCC   \n",
       "Savage2021_BRISL7_T0           SLE       healthy            NPC   \n",
       "Savage2021_PIDA_T0         healthy       healthy        healthy   \n",
       "Savage2021_PIDB_T0         healthy       healthy        healthy   \n",
       "\n",
       "                      Mono_prediction Plasma_prediction  \\\n",
       "sampleID                                                  \n",
       "10XGenomics_10XHC1_T0             SLE               NPC   \n",
       "10XGenomics_10XHC2_T0         healthy              COPD   \n",
       "10XGenomics_10XHC3_T0             HIV               SLE   \n",
       "10XGenomics_10XHC4_T0             SLE               SLE   \n",
       "10XGenomics_10XHC5_T0             SLE               SLE   \n",
       "...                               ...               ...   \n",
       "Savage2021_BRISL5_T0              SLE             COVID   \n",
       "Savage2021_BRISL6_T0          healthy             COVID   \n",
       "Savage2021_BRISL7_T0            HNSCC               SLE   \n",
       "Savage2021_PIDA_T0            healthy             COVID   \n",
       "Savage2021_PIDB_T0            healthy               flu   \n",
       "\n",
       "                      T_CD4_Naive_prediction T_CD4_NonNaive_prediction  \\\n",
       "sampleID                                                                 \n",
       "10XGenomics_10XHC1_T0                healthy                   healthy   \n",
       "10XGenomics_10XHC2_T0                healthy                   healthy   \n",
       "10XGenomics_10XHC3_T0                healthy                   healthy   \n",
       "10XGenomics_10XHC4_T0                healthy                   healthy   \n",
       "10XGenomics_10XHC5_T0                healthy                   healthy   \n",
       "...                                      ...                       ...   \n",
       "Savage2021_BRISL5_T0                     SLE                     COVID   \n",
       "Savage2021_BRISL6_T0                 healthy                   healthy   \n",
       "Savage2021_BRISL7_T0                 healthy                   healthy   \n",
       "Savage2021_PIDA_T0                   healthy                   healthy   \n",
       "Savage2021_PIDB_T0                   healthy                   healthy   \n",
       "\n",
       "                      T_CD8_Naive_prediction T_CD8_NonNaive_prediction  \\\n",
       "sampleID                                                                 \n",
       "10XGenomics_10XHC1_T0                    NPC                   healthy   \n",
       "10XGenomics_10XHC2_T0                    NPC                   healthy   \n",
       "10XGenomics_10XHC3_T0                    NPC                       NPC   \n",
       "10XGenomics_10XHC4_T0                healthy                   healthy   \n",
       "10XGenomics_10XHC5_T0                healthy                   healthy   \n",
       "...                                      ...                       ...   \n",
       "Savage2021_BRISL5_T0                     SLE                     COVID   \n",
       "Savage2021_BRISL6_T0                 healthy                   healthy   \n",
       "Savage2021_BRISL7_T0                 healthy                     COVID   \n",
       "Savage2021_PIDA_T0                       HIV                   healthy   \n",
       "Savage2021_PIDB_T0                   healthy                     COVID   \n",
       "\n",
       "                      UTC_prediction pDC_prediction firstChoice  \\\n",
       "sampleID                                                          \n",
       "10XGenomics_10XHC1_T0        healthy        healthy     healthy   \n",
       "10XGenomics_10XHC2_T0        healthy        healthy     healthy   \n",
       "10XGenomics_10XHC3_T0        healthy        healthy     healthy   \n",
       "10XGenomics_10XHC4_T0        healthy        healthy     healthy   \n",
       "10XGenomics_10XHC5_T0        healthy        healthy     healthy   \n",
       "...                              ...            ...         ...   \n",
       "Savage2021_BRISL5_T0             SLE        healthy         SLE   \n",
       "Savage2021_BRISL6_T0         healthy        healthy     healthy   \n",
       "Savage2021_BRISL7_T0           COVID        healthy     healthy   \n",
       "Savage2021_PIDA_T0           healthy        healthy     healthy   \n",
       "Savage2021_PIDB_T0           healthy        healthy     healthy   \n",
       "\n",
       "                       firstChoice_perc secondChoice  secondChoice_perc  \\\n",
       "sampleID                                                                  \n",
       "10XGenomics_10XHC1_T0         53.846154          NPC          23.076923   \n",
       "10XGenomics_10XHC2_T0         53.846154          NPC          23.076923   \n",
       "10XGenomics_10XHC3_T0         53.846154          NPC          15.384615   \n",
       "10XGenomics_10XHC4_T0         61.538462          SLE          23.076923   \n",
       "10XGenomics_10XHC5_T0         61.538462          SLE          23.076923   \n",
       "...                                 ...          ...                ...   \n",
       "Savage2021_BRISL5_T0          46.153846        COVID          23.076923   \n",
       "Savage2021_BRISL6_T0          61.538462                       15.384615   \n",
       "Savage2021_BRISL7_T0          38.461538          SLE          15.384615   \n",
       "Savage2021_PIDA_T0            69.230769                       15.384615   \n",
       "Savage2021_PIDB_T0            69.230769                       15.384615   \n",
       "\n",
       "                      disease_true  \n",
       "sampleID                            \n",
       "10XGenomics_10XHC1_T0      healthy  \n",
       "10XGenomics_10XHC2_T0      healthy  \n",
       "10XGenomics_10XHC3_T0      healthy  \n",
       "10XGenomics_10XHC4_T0      healthy  \n",
       "10XGenomics_10XHC5_T0      healthy  \n",
       "...                            ...  \n",
       "Savage2021_BRISL5_T0           SLE  \n",
       "Savage2021_BRISL6_T0           SLE  \n",
       "Savage2021_BRISL7_T0           SLE  \n",
       "Savage2021_PIDA_T0         healthy  \n",
       "Savage2021_PIDB_T0         healthy  \n",
       "\n",
       "[86 rows x 16 columns]"
      ]
     },
     "execution_count": 32,
     "metadata": {},
     "output_type": "execute_result"
    }
   ],
   "source": [
    "res"
   ]
  }
 ],
 "metadata": {
  "kernelspec": {
   "display_name": "Python 3 (ipykernel)",
   "language": "python",
   "name": "python3"
  },
  "language_info": {
   "codemirror_mode": {
    "name": "ipython",
    "version": 3
   },
   "file_extension": ".py",
   "mimetype": "text/x-python",
   "name": "python",
   "nbconvert_exporter": "python",
   "pygments_lexer": "ipython3",
   "version": "3.10.13"
  },
  "papermill": {
   "default_parameters": {},
   "duration": 6768.30934,
   "end_time": "2024-06-12T10:08:55.384256",
   "environment_variables": {},
   "exception": null,
   "input_path": "a02_queryDatasets_and_labelTransfer.ipynb",
   "output_path": "executed_notebooks/a02_queryDatasets_and_labelTransfer_EXTERNAL_nPC200_Batch_chemistry.ipynb",
   "parameters": {
    "batchKeys": "chemistry",
    "nPC": 200,
    "queryDataset": "EXTERNAL"
   },
   "start_time": "2024-06-12T08:16:07.074916",
   "version": "2.5.0"
  }
 },
 "nbformat": 4,
 "nbformat_minor": 5
}