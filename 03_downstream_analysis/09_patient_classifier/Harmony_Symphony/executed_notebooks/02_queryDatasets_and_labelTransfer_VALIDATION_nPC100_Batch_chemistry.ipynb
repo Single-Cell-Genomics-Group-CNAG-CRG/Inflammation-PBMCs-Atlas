{
 "cells": [
  {
   "cell_type": "code",
   "execution_count": 1,
   "id": "97135063",
   "metadata": {
    "execution": {
     "iopub.execute_input": "2024-06-11T08:38:09.915330Z",
     "iopub.status.busy": "2024-06-11T08:38:09.915131Z",
     "iopub.status.idle": "2024-06-11T08:38:09.920572Z",
     "shell.execute_reply": "2024-06-11T08:38:09.920206Z"
    },
    "papermill": {
     "duration": 0.01567,
     "end_time": "2024-06-11T08:38:09.921589",
     "exception": false,
     "start_time": "2024-06-11T08:38:09.905919",
     "status": "completed"
    },
    "tags": [
     "injected-parameters"
    ]
   },
   "outputs": [],
   "source": [
    "# Parameters\n",
    "nPC = 100\n",
    "batchKeys = \"chemistry\"\n",
    "queryDataset = \"VALIDATION\"\n"
   ]
  },
  {
   "cell_type": "raw",
   "id": "2c824816-2fbb-43a3-9807-722d9facfef3",
   "metadata": {
    "execution": {
     "iopub.execute_input": "2024-06-11T07:53:10.263964Z",
     "iopub.status.busy": "2024-06-11T07:53:10.263681Z",
     "iopub.status.idle": "2024-06-11T07:53:10.269000Z",
     "shell.execute_reply": "2024-06-11T07:53:10.268634Z",
     "shell.execute_reply.started": "2024-06-11T07:53:10.263945Z"
    },
    "papermill": {
     "duration": 0.009534,
     "end_time": "2024-06-11T08:38:09.938991",
     "exception": false,
     "start_time": "2024-06-11T08:38:09.929457",
     "status": "completed"
    },
    "tags": []
   },
   "source": [
    "nPC = 100\n",
    "batchKeys = 'libraryID,chemistry,sex,binned_age'\n",
    "queryDataset = 'VALIDATION'"
   ]
  },
  {
   "cell_type": "code",
   "execution_count": 2,
   "id": "3044cc6c-ce26-4de6-8b7b-f8f9af090921",
   "metadata": {
    "execution": {
     "iopub.execute_input": "2024-06-11T08:38:09.962893Z",
     "iopub.status.busy": "2024-06-11T08:38:09.962701Z",
     "iopub.status.idle": "2024-06-11T08:38:09.965757Z",
     "shell.execute_reply": "2024-06-11T08:38:09.965405Z"
    },
    "papermill": {
     "duration": 0.016528,
     "end_time": "2024-06-11T08:38:09.966741",
     "exception": false,
     "start_time": "2024-06-11T08:38:09.950213",
     "status": "completed"
    },
    "tags": []
   },
   "outputs": [
    {
     "name": "stdout",
     "output_type": "stream",
     "text": [
      "nPC = 100\n",
      "batchKeys = chemistry\n",
      "queryDataset = VALIDATION\n"
     ]
    }
   ],
   "source": [
    "for v in ['nPC','batchKeys', 'queryDataset']:\n",
    "    if v in locals() or v in globals():\n",
    "        print(f\"{v} = {eval(v)}\")\n",
    "    else:\n",
    "        raise Exception(f\"{v} not specified\")"
   ]
  },
  {
   "cell_type": "code",
   "execution_count": 3,
   "id": "a9a81822-a7c1-4b2c-9419-c1df388c8d1f",
   "metadata": {
    "execution": {
     "iopub.execute_input": "2024-06-11T08:38:09.983335Z",
     "iopub.status.busy": "2024-06-11T08:38:09.983104Z",
     "iopub.status.idle": "2024-06-11T08:38:20.883237Z",
     "shell.execute_reply": "2024-06-11T08:38:20.882600Z"
    },
    "papermill": {
     "duration": 10.909906,
     "end_time": "2024-06-11T08:38:20.884622",
     "exception": false,
     "start_time": "2024-06-11T08:38:09.974716",
     "status": "completed"
    },
    "tags": []
   },
   "outputs": [],
   "source": [
    "import os\n",
    "\n",
    "import scanpy as sc\n",
    "import pandas as pd\n",
    "import numpy as np\n",
    "\n",
    "import symphonypy as sp\n",
    "\n",
    "from sklearn.metrics import balanced_accuracy_score\n",
    "\n",
    "from pyprojroot import here\n",
    "\n",
    "random_seed = 42"
   ]
  },
  {
   "cell_type": "markdown",
   "id": "74a87fda-280f-4a4c-88bb-c84dfbaf3fbd",
   "metadata": {
    "papermill": {
     "duration": 0.011115,
     "end_time": "2024-06-11T08:38:20.904945",
     "exception": false,
     "start_time": "2024-06-11T08:38:20.893830",
     "status": "completed"
    },
    "tags": []
   },
   "source": [
    "### Defining functions"
   ]
  },
  {
   "cell_type": "code",
   "execution_count": 4,
   "id": "9b47d61d-d9b8-42d0-91f2-4e3b87ea4cbc",
   "metadata": {
    "execution": {
     "iopub.execute_input": "2024-06-11T08:38:20.959273Z",
     "iopub.status.busy": "2024-06-11T08:38:20.958869Z",
     "iopub.status.idle": "2024-06-11T08:38:20.971484Z",
     "shell.execute_reply": "2024-06-11T08:38:20.971092Z"
    },
    "papermill": {
     "duration": 0.057575,
     "end_time": "2024-06-11T08:38:20.972404",
     "exception": false,
     "start_time": "2024-06-11T08:38:20.914829",
     "status": "completed"
    },
    "tags": []
   },
   "outputs": [],
   "source": [
    "def train_classifier(adataTrain = None, cell_type_col = None, y_true_col = None, max_iter=10000,random_state = 25, model = 'LinearSVC'):\n",
    "    \n",
    "    import pandas as pd\n",
    "    from tqdm import tqdm\n",
    "    from sklearn.svm import LinearSVC, SVC\n",
    "\n",
    "    from sklearn.metrics import balanced_accuracy_score\n",
    "    \n",
    "    clfList = dict()\n",
    "    trainAccuracy = []\n",
    "    for ct_ in tqdm(adataTrain.obs[cell_type_col].unique()):\n",
    "        clfList[ct_] = dict()\n",
    "        X_i = adataTrain.X[adataTrain.obs[cell_type_col] == ct_]\n",
    "        y_true_i = adataTrain.obs[y_true_col][adataTrain.obs[cell_type_col] == ct_]\n",
    "\n",
    "        if mode == 'LinearSVC':\n",
    "            clfList[ct_]['clf'] = LinearSVC(max_iter=max_iter, dual = True, random_state = random_state).fit(X_i, y_true_i)\n",
    "        elif mode == 'SVC':\n",
    "            clfList[ct_]['clf'] = SVC(max_iter=max_iter, random_state = random_state).fit(X_i, y_true_i)\n",
    "            \n",
    "        clfList[ct_]['bAcc'] = balanced_accuracy_score(y_true = y_true_i, y_pred = clfList[ct_]['clf'].predict(X_i))\n",
    "        clfList[ct_]['nObs'] = len(y_true_i)\n",
    "\n",
    "    return clfList\n",
    "    \n",
    "def vote_disease(adataTest = None, clfList = None, cell_type_col = None, sample_id_col = None):\n",
    "\n",
    "    from tqdm import tqdm\n",
    "    import pandas as pd\n",
    "\n",
    "    \n",
    "    \n",
    "    classificationDF = pd.DataFrame()\n",
    "    for ct_ in tqdm(adataTest.obs[cell_type_col].unique()):\n",
    "        X_i = adataTest.X[adataTest.obs[cell_type_col] == ct_]\n",
    "        PID_i = adataTest.obs[sample_id_col][adataTest.obs[cell_type_col] == ct_]\n",
    "        if ct_ not in clfList:\n",
    "            print(f\"{ct_} is missing in training set\")\n",
    "            continue\n",
    "        DF_i = pd.DataFrame.from_dict({\n",
    "            sample_id_col: PID_i,\n",
    "            f\"{ct_}_prediction\": clfList[ct_]['clf'].predict(X_i)\n",
    "        })\n",
    "        if classificationDF.shape[0] == 0:\n",
    "            classificationDF = DF_i\n",
    "        else:\n",
    "            classificationDF = classificationDF.merge(DF_i, how='outer', on = sample_id_col)\n",
    "    classificationDF['firstChoice'] = ''\n",
    "    classificationDF['firstChoice_perc'] = np.nan\n",
    "    classificationDF['secondChoice'] = ''\n",
    "    classificationDF['secondChoice_perc'] = np.nan\n",
    "    \n",
    "    for i in tqdm(range(classificationDF.shape[0])):\n",
    "        vote_i = classificationDF.loc[i,classificationDF.columns !=sample_id_col].value_counts()\n",
    "        vote_i /= (vote_i.sum() / 100)\n",
    "        res_i = vote_i.sort_values(ascending=False)\n",
    "        classificationDF.loc[i,'firstChoice'] = res_i.index[0]\n",
    "        classificationDF.loc[i,'firstChoice_perc'] = res_i.iloc[0]\n",
    "        if res_i.shape[0] > 1:\n",
    "            classificationDF.loc[i,'secondChoice'] = res_i.index[1]\n",
    "            classificationDF.loc[i,'secondChoice_perc'] = res_i.iloc[1]\n",
    "\n",
    "    return classificationDF\n",
    "    \n",
    "def aggregating_features(Z = None, obsDF = None, mode = 'mean', obs_names_col = [], min_observation = 0):\n",
    "    Zdf = pd.DataFrame(Z)\n",
    "    for c in obsDF.columns:\n",
    "        Zdf[c] = obsDF[c].tolist()\n",
    "\n",
    "    grpDF = Zdf.groupby(obsDF.columns.tolist(), observed = True)\n",
    "\n",
    "    nCount = grpDF.size().to_frame('n_observation')\n",
    "    \n",
    "    if mode in ['mean','avarage']:\n",
    "        Zaggr = grpDF.mean()\n",
    "    elif mode == 'sum':\n",
    "        Zaggr = grpDF.sum()\n",
    "    else:\n",
    "        raise ValueError(f\"mode {mode} not supported. Available mode are 'mean' or 'sum'\")\n",
    "\n",
    "    grpObs = pd.DataFrame(Zaggr.index.tolist(), columns=obsDF.columns.tolist()).merge(pd.DataFrame(nCount).reset_index(), on = obsDF.columns.tolist())\n",
    "\n",
    "    if len(obs_names_col) == 0:\n",
    "        grpAdata  = sc.AnnData(X = np.array(Zaggr), obs = grpObs)\n",
    "    elif all([c in obsDF.columns.tolist() for c in obs_names_col]):\n",
    "        grpObs.index = grpObs[obs_names_col].apply(lambda row: '_'.join(row.values.astype(str)), axis=1)\n",
    "        grpAdata  = sc.AnnData(X = np.array(Zaggr), obs = grpObs)\n",
    "    else:\n",
    "        raise ValueError(f\"Impossible to use {obs_names_col} as index. It's not present in obsDF\")\n",
    "\n",
    "    if min_observation > 0:\n",
    "        grpAdata = grpAdata[grpAdata.obs.n_observation >= min_observation]\n",
    "    return grpAdata"
   ]
  },
  {
   "cell_type": "markdown",
   "id": "bd323da1-8446-4ffc-91ac-c737ce081412",
   "metadata": {
    "papermill": {
     "duration": 0.01125,
     "end_time": "2024-06-11T08:38:20.992609",
     "exception": false,
     "start_time": "2024-06-11T08:38:20.981359",
     "status": "completed"
    },
    "tags": []
   },
   "source": [
    "### Parameters"
   ]
  },
  {
   "cell_type": "code",
   "execution_count": 5,
   "id": "3f81fe70-a960-401d-a05d-9d9199edd620",
   "metadata": {
    "execution": {
     "iopub.execute_input": "2024-06-11T08:38:21.037574Z",
     "iopub.status.busy": "2024-06-11T08:38:21.037305Z",
     "iopub.status.idle": "2024-06-11T08:38:21.042251Z",
     "shell.execute_reply": "2024-06-11T08:38:21.041892Z"
    },
    "papermill": {
     "duration": 0.036942,
     "end_time": "2024-06-11T08:38:21.043154",
     "exception": false,
     "start_time": "2024-06-11T08:38:21.006212",
     "status": "completed"
    },
    "tags": []
   },
   "outputs": [
    {
     "data": {
      "text/plain": [
       "['chemistry']"
      ]
     },
     "execution_count": 5,
     "metadata": {},
     "output_type": "execute_result"
    }
   ],
   "source": [
    "batch_key_query = batchKeys.split(',')\n",
    "batch_key_query"
   ]
  },
  {
   "cell_type": "markdown",
   "id": "008170b2-f7e2-4c59-b434-b682dacf1110",
   "metadata": {
    "papermill": {
     "duration": 0.008457,
     "end_time": "2024-06-11T08:38:21.081209",
     "exception": false,
     "start_time": "2024-06-11T08:38:21.072752",
     "status": "completed"
    },
    "tags": []
   },
   "source": [
    "### Loading dataset"
   ]
  },
  {
   "cell_type": "markdown",
   "id": "c96cf9da-e2ed-4800-903c-316f4805e559",
   "metadata": {
    "papermill": {
     "duration": 0.008667,
     "end_time": "2024-06-11T08:38:21.100064",
     "exception": false,
     "start_time": "2024-06-11T08:38:21.091397",
     "status": "completed"
    },
    "tags": []
   },
   "source": [
    "**Integrated object**"
   ]
  },
  {
   "cell_type": "code",
   "execution_count": 6,
   "id": "8e361302-99f5-48fe-989b-f196e18ae0dd",
   "metadata": {
    "execution": {
     "iopub.execute_input": "2024-06-11T08:38:21.119609Z",
     "iopub.status.busy": "2024-06-11T08:38:21.119336Z",
     "iopub.status.idle": "2024-06-11T08:39:59.655699Z",
     "shell.execute_reply": "2024-06-11T08:39:59.655171Z"
    },
    "papermill": {
     "duration": 98.578395,
     "end_time": "2024-06-11T08:39:59.688379",
     "exception": false,
     "start_time": "2024-06-11T08:38:21.109984",
     "status": "completed"
    },
    "tags": []
   },
   "outputs": [
    {
     "data": {
      "text/plain": [
       "AnnData object with n_obs × n_vars = 4435922 × 8253 backed at '/scratch_isilon/groups/singlecell/shared/projects/Inflammation-PBMCs-Atlas/03_downstream_analysis/08_PatientClassifier/Harmony_Symphony/results/01_MAIN_HarmonyIntegrated_100nPC_Batch_chemistry.h5ad'\n",
       "    obs: 'studyID', 'libraryID', 'sampleID', 'chemistry', 'disease', 'sex', 'binned_age', 'Level1', 'Level2'\n",
       "    var: 'hgnc_id', 'symbol', 'locus_group', 'HUGO_status', 'highly_variable', 'mean', 'std'\n",
       "    uns: 'harmony', 'log1p', 'pca'\n",
       "    obsm: 'X_pca', 'X_pca_harmony'\n",
       "    varm: 'PCs'"
      ]
     },
     "execution_count": 6,
     "metadata": {},
     "output_type": "execute_result"
    }
   ],
   "source": [
    "adataR = sc.read_h5ad(here(f\"03_downstream_analysis/08_PatientClassifier/Harmony_Symphony/results/01_MAIN_HarmonyIntegrated_{nPC}nPC_Batch_{batchKeys}.h5ad\"), backed='r')\n",
    "adataR"
   ]
  },
  {
   "cell_type": "markdown",
   "id": "7a8289b7-ae48-40bd-a8bf-b8a61d6fea7c",
   "metadata": {
    "papermill": {
     "duration": 0.009444,
     "end_time": "2024-06-11T08:39:59.709966",
     "exception": false,
     "start_time": "2024-06-11T08:39:59.700522",
     "status": "completed"
    },
    "tags": []
   },
   "source": [
    "**Query dataset**"
   ]
  },
  {
   "cell_type": "code",
   "execution_count": 7,
   "id": "f8922a45-9d49-4b6e-be13-48cecafe227d",
   "metadata": {
    "execution": {
     "iopub.execute_input": "2024-06-11T08:39:59.734940Z",
     "iopub.status.busy": "2024-06-11T08:39:59.734524Z",
     "iopub.status.idle": "2024-06-11T08:40:14.929073Z",
     "shell.execute_reply": "2024-06-11T08:40:14.928622Z"
    },
    "papermill": {
     "duration": 15.210175,
     "end_time": "2024-06-11T08:40:14.930189",
     "exception": false,
     "start_time": "2024-06-11T08:39:59.720014",
     "status": "completed"
    },
    "tags": []
   },
   "outputs": [
    {
     "data": {
      "text/plain": [
       "AnnData object with n_obs × n_vars = 849922 × 8253\n",
       "    obs: 'studyID', 'libraryID', 'sampleID', 'chemistry', 'technology', 'disease', 'sex', 'binned_age'\n",
       "    var: 'hgnc_id', 'symbol', 'locus_group', 'HUGO_status'"
      ]
     },
     "execution_count": 7,
     "metadata": {},
     "output_type": "execute_result"
    }
   ],
   "source": [
    "adataQ = sc.read_h5ad(here(f'03_downstream_analysis/02_gene_universe_definition/results/05_{queryDataset}_geneUniverse.h5ad'))\n",
    "adataQ"
   ]
  },
  {
   "cell_type": "markdown",
   "id": "0be9f746-fd30-4f97-9ec7-1a1e1f831776",
   "metadata": {
    "papermill": {
     "duration": 0.011691,
     "end_time": "2024-06-11T08:40:14.955185",
     "exception": false,
     "start_time": "2024-06-11T08:40:14.943494",
     "status": "completed"
    },
    "tags": []
   },
   "source": [
    "### Preprocessing"
   ]
  },
  {
   "cell_type": "code",
   "execution_count": 8,
   "id": "db7e0e86-4cfc-44f7-a6f1-1fa3795ad5a3",
   "metadata": {
    "execution": {
     "iopub.execute_input": "2024-06-11T08:40:15.009904Z",
     "iopub.status.busy": "2024-06-11T08:40:15.009493Z",
     "iopub.status.idle": "2024-06-11T08:40:51.801203Z",
     "shell.execute_reply": "2024-06-11T08:40:51.800589Z"
    },
    "papermill": {
     "duration": 36.803568,
     "end_time": "2024-06-11T08:40:51.802654",
     "exception": false,
     "start_time": "2024-06-11T08:40:14.999086",
     "status": "completed"
    },
    "tags": []
   },
   "outputs": [],
   "source": [
    "sc.pp.normalize_total(adataQ, target_sum=1e4)\n",
    "sc.pp.log1p(adataQ)"
   ]
  },
  {
   "cell_type": "markdown",
   "id": "3109c878-d7d1-4372-9462-0ccdb78070dc",
   "metadata": {
    "papermill": {
     "duration": 0.089344,
     "end_time": "2024-06-11T08:40:51.969699",
     "exception": false,
     "start_time": "2024-06-11T08:40:51.880355",
     "status": "completed"
    },
    "tags": []
   },
   "source": [
    "### Projection with Symphony"
   ]
  },
  {
   "cell_type": "code",
   "execution_count": 9,
   "id": "d2e7eed3-c2e1-4031-a49f-89e32fe17130",
   "metadata": {
    "execution": {
     "iopub.execute_input": "2024-06-11T08:40:52.037363Z",
     "iopub.status.busy": "2024-06-11T08:40:52.036814Z",
     "iopub.status.idle": "2024-06-11T08:51:04.596385Z",
     "shell.execute_reply": "2024-06-11T08:51:04.595518Z"
    },
    "papermill": {
     "duration": 612.61306,
     "end_time": "2024-06-11T08:51:04.597933",
     "exception": false,
     "start_time": "2024-06-11T08:40:51.984873",
     "status": "completed"
    },
    "tags": []
   },
   "outputs": [],
   "source": [
    "sp.tl.map_embedding(adataQ, adataR, key=batch_key_query)"
   ]
  },
  {
   "cell_type": "code",
   "execution_count": 10,
   "id": "ca297baa-c283-440d-82d6-90586f0cb94f",
   "metadata": {
    "execution": {
     "iopub.execute_input": "2024-06-11T08:51:04.619362Z",
     "iopub.status.busy": "2024-06-11T08:51:04.618783Z",
     "iopub.status.idle": "2024-06-11T10:15:21.925812Z",
     "shell.execute_reply": "2024-06-11T10:15:21.925063Z"
    },
    "papermill": {
     "duration": 5057.318232,
     "end_time": "2024-06-11T10:15:21.927260",
     "exception": false,
     "start_time": "2024-06-11T08:51:04.609028",
     "status": "completed"
    },
    "tags": []
   },
   "outputs": [],
   "source": [
    "sp.tl.per_cell_confidence(adataQ, adataR)"
   ]
  },
  {
   "cell_type": "code",
   "execution_count": 11,
   "id": "0ae24ad9-1d56-4ed7-8c14-37c06081dc89",
   "metadata": {
    "execution": {
     "iopub.execute_input": "2024-06-11T10:15:21.952345Z",
     "iopub.status.busy": "2024-06-11T10:15:21.952118Z",
     "iopub.status.idle": "2024-06-11T10:15:22.346075Z",
     "shell.execute_reply": "2024-06-11T10:15:22.345644Z"
    },
    "papermill": {
     "duration": 0.404213,
     "end_time": "2024-06-11T10:15:22.347117",
     "exception": false,
     "start_time": "2024-06-11T10:15:21.942904",
     "status": "completed"
    },
    "tags": []
   },
   "outputs": [
    {
     "data": {
      "text/plain": [
       "<Axes: >"
      ]
     },
     "execution_count": 11,
     "metadata": {},
     "output_type": "execute_result"
    },
    {
     "data": {
      "image/png": "[encoded data removed]",
      "text/plain": [
       "<Figure size 640x480 with 1 Axes>"
      ]
     },
     "metadata": {},
     "output_type": "display_data"
    }
   ],
   "source": [
    "adataQ.obs.symphony_per_cell_dist.hist(bins=100)"
   ]
  },
  {
   "cell_type": "code",
   "execution_count": 12,
   "id": "2ee17ce6-f8c5-4a1e-b93e-9fc70ab7edb9",
   "metadata": {
    "execution": {
     "iopub.execute_input": "2024-06-11T10:15:22.366348Z",
     "iopub.status.busy": "2024-06-11T10:15:22.366057Z",
     "iopub.status.idle": "2024-06-11T10:15:22.369214Z",
     "shell.execute_reply": "2024-06-11T10:15:22.368854Z"
    },
    "papermill": {
     "duration": 0.01365,
     "end_time": "2024-06-11T10:15:22.370130",
     "exception": false,
     "start_time": "2024-06-11T10:15:22.356480",
     "status": "completed"
    },
    "tags": []
   },
   "outputs": [
    {
     "data": {
      "text/plain": [
       "AnnData object with n_obs × n_vars = 849922 × 8253\n",
       "    obs: 'studyID', 'libraryID', 'sampleID', 'chemistry', 'technology', 'disease', 'sex', 'binned_age', 'symphony_per_cell_dist'\n",
       "    var: 'hgnc_id', 'symbol', 'locus_group', 'HUGO_status'\n",
       "    uns: 'log1p'\n",
       "    obsm: 'X_pca_reference', 'X_pca_harmony', 'X_pca_harmony_symphony_R'"
      ]
     },
     "execution_count": 12,
     "metadata": {},
     "output_type": "execute_result"
    }
   ],
   "source": [
    "adataQ"
   ]
  },
  {
   "cell_type": "markdown",
   "id": "51e25a69-c8f9-43c8-b50c-e2b4aa826a6b",
   "metadata": {
    "papermill": {
     "duration": 0.008918,
     "end_time": "2024-06-11T10:15:22.388022",
     "exception": false,
     "start_time": "2024-06-11T10:15:22.379104",
     "status": "completed"
    },
    "tags": []
   },
   "source": [
    "### Label transfer"
   ]
  },
  {
   "cell_type": "code",
   "execution_count": 13,
   "id": "81d61d37-fdfa-4071-aace-eff99e9d6787",
   "metadata": {
    "execution": {
     "iopub.execute_input": "2024-06-11T10:15:22.406929Z",
     "iopub.status.busy": "2024-06-11T10:15:22.406720Z",
     "iopub.status.idle": "2024-06-11T10:15:22.408764Z",
     "shell.execute_reply": "2024-06-11T10:15:22.408411Z"
    },
    "papermill": {
     "duration": 0.012574,
     "end_time": "2024-06-11T10:15:22.409642",
     "exception": false,
     "start_time": "2024-06-11T10:15:22.397068",
     "status": "completed"
    },
    "tags": []
   },
   "outputs": [],
   "source": [
    "# common embedded space -> adataQ.obsm['X_pca_harmony']"
   ]
  },
  {
   "cell_type": "markdown",
   "id": "9482b233-08d7-4ed8-ad0f-729f59e05024",
   "metadata": {
    "papermill": {
     "duration": 0.008908,
     "end_time": "2024-06-11T10:15:22.427232",
     "exception": false,
     "start_time": "2024-06-11T10:15:22.418324",
     "status": "completed"
    },
    "tags": []
   },
   "source": [
    "**Level1 Annotation**"
   ]
  },
  {
   "cell_type": "code",
   "execution_count": 14,
   "id": "1016b8d2-0480-409a-aac4-1e521a1397b0",
   "metadata": {
    "execution": {
     "iopub.execute_input": "2024-06-11T10:15:22.445960Z",
     "iopub.status.busy": "2024-06-11T10:15:22.445593Z",
     "iopub.status.idle": "2024-06-11T10:52:45.828325Z",
     "shell.execute_reply": "2024-06-11T10:52:45.827564Z"
    },
    "papermill": {
     "duration": 2243.393534,
     "end_time": "2024-06-11T10:52:45.829800",
     "exception": false,
     "start_time": "2024-06-11T10:15:22.436266",
     "status": "completed"
    },
    "tags": []
   },
   "outputs": [],
   "source": [
    "sp.tl.transfer_labels_kNN(adataQ, adataR, 'Level1', ref_basis = 'X_pca_harmony', query_basis = 'X_pca_harmony')"
   ]
  },
  {
   "cell_type": "markdown",
   "id": "69eb76ae-aa03-4807-b680-a7423fb55458",
   "metadata": {
    "papermill": {
     "duration": 0.009232,
     "end_time": "2024-06-11T10:52:45.850153",
     "exception": false,
     "start_time": "2024-06-11T10:52:45.840921",
     "status": "completed"
    },
    "tags": []
   },
   "source": [
    "**Disease**"
   ]
  },
  {
   "cell_type": "code",
   "execution_count": 15,
   "id": "20429eca-9c43-4db8-b1da-94434c4c99c2",
   "metadata": {
    "execution": {
     "iopub.execute_input": "2024-06-11T10:52:45.869876Z",
     "iopub.status.busy": "2024-06-11T10:52:45.869654Z",
     "iopub.status.idle": "2024-06-11T10:52:45.873332Z",
     "shell.execute_reply": "2024-06-11T10:52:45.872937Z"
    },
    "papermill": {
     "duration": 0.014873,
     "end_time": "2024-06-11T10:52:45.874283",
     "exception": false,
     "start_time": "2024-06-11T10:52:45.859410",
     "status": "completed"
    },
    "tags": []
   },
   "outputs": [],
   "source": [
    "adataQ.obs.rename({'disease':'disease_true'}, axis=1, inplace=True)"
   ]
  },
  {
   "cell_type": "code",
   "execution_count": 16,
   "id": "7b72f7c3-af64-4a22-ab6b-8d5e5dbd4af3",
   "metadata": {
    "execution": {
     "iopub.execute_input": "2024-06-11T10:52:45.936301Z",
     "iopub.status.busy": "2024-06-11T10:52:45.935923Z",
     "iopub.status.idle": "2024-06-11T11:30:06.842190Z",
     "shell.execute_reply": "2024-06-11T11:30:06.841452Z"
    },
    "papermill": {
     "duration": 2240.959905,
     "end_time": "2024-06-11T11:30:06.843601",
     "exception": false,
     "start_time": "2024-06-11T10:52:45.883696",
     "status": "completed"
    },
    "tags": []
   },
   "outputs": [],
   "source": [
    "sp.tl.transfer_labels_kNN(adataQ, adataR, 'disease', ref_basis = 'X_pca_harmony', query_basis = 'X_pca_harmony')"
   ]
  },
  {
   "cell_type": "code",
   "execution_count": 17,
   "id": "2e1ad1d0-8a52-46a8-ae97-15dc2984f08e",
   "metadata": {
    "execution": {
     "iopub.execute_input": "2024-06-11T11:30:06.866384Z",
     "iopub.status.busy": "2024-06-11T11:30:06.866162Z",
     "iopub.status.idle": "2024-06-11T11:30:06.869507Z",
     "shell.execute_reply": "2024-06-11T11:30:06.869109Z"
    },
    "papermill": {
     "duration": 0.014759,
     "end_time": "2024-06-11T11:30:06.870409",
     "exception": false,
     "start_time": "2024-06-11T11:30:06.855650",
     "status": "completed"
    },
    "tags": []
   },
   "outputs": [],
   "source": [
    "adataQ.obs.rename({'disease':'disease_pred'}, axis=1, inplace=True)"
   ]
  },
  {
   "cell_type": "code",
   "execution_count": 18,
   "id": "0eb1c5d7-97fd-4c42-9b7b-8cddd8e22987",
   "metadata": {
    "execution": {
     "iopub.execute_input": "2024-06-11T11:30:06.902973Z",
     "iopub.status.busy": "2024-06-11T11:30:06.902669Z",
     "iopub.status.idle": "2024-06-11T11:30:09.475844Z",
     "shell.execute_reply": "2024-06-11T11:30:09.475389Z"
    },
    "papermill": {
     "duration": 2.596497,
     "end_time": "2024-06-11T11:30:09.476754",
     "exception": false,
     "start_time": "2024-06-11T11:30:06.880257",
     "status": "completed"
    },
    "tags": []
   },
   "outputs": [
    {
     "name": "stderr",
     "output_type": "stream",
     "text": [
      "/scratch_isilon/groups/singlecell/shared/conda_env/inflammation_atlas_R1/lib/python3.10/site-packages/sklearn/metrics/_classification.py:2458: UserWarning: y_pred contains classes not in y_true\n",
      "  warnings.warn(\"y_pred contains classes not in y_true\")\n"
     ]
    },
    {
     "data": {
      "text/plain": [
       "0.4519167963671314"
      ]
     },
     "execution_count": 18,
     "metadata": {},
     "output_type": "execute_result"
    }
   ],
   "source": [
    "balanced_accuracy_score(y_true = adataQ.obs.disease_true, y_pred=adataQ.obs.disease_pred)"
   ]
  },
  {
   "cell_type": "code",
   "execution_count": 19,
   "id": "0e4bc21f-ed6a-41d9-8254-1eb2bc58c1a1",
   "metadata": {
    "execution": {
     "iopub.execute_input": "2024-06-11T11:30:09.497818Z",
     "iopub.status.busy": "2024-06-11T11:30:09.497595Z",
     "iopub.status.idle": "2024-06-11T11:30:09.545281Z",
     "shell.execute_reply": "2024-06-11T11:30:09.544915Z"
    },
    "papermill": {
     "duration": 0.058559,
     "end_time": "2024-06-11T11:30:09.546194",
     "exception": false,
     "start_time": "2024-06-11T11:30:09.487635",
     "status": "completed"
    },
    "tags": []
   },
   "outputs": [
    {
     "data": {
      "text/html": [
       "<div>\n",
       "<style scoped>\n",
       "    .dataframe tbody tr th:only-of-type {\n",
       "        vertical-align: middle;\n",
       "    }\n",
       "\n",
       "    .dataframe tbody tr th {\n",
       "        vertical-align: top;\n",
       "    }\n",
       "\n",
       "    .dataframe thead th {\n",
       "        text-align: right;\n",
       "    }\n",
       "</style>\n",
       "<table border=\"1\" class=\"dataframe\">\n",
       "  <thead>\n",
       "    <tr style=\"text-align: right;\">\n",
       "      <th></th>\n",
       "      <th>studyID</th>\n",
       "      <th>libraryID</th>\n",
       "      <th>sampleID</th>\n",
       "      <th>chemistry</th>\n",
       "      <th>technology</th>\n",
       "      <th>disease_true</th>\n",
       "      <th>sex</th>\n",
       "      <th>binned_age</th>\n",
       "      <th>symphony_per_cell_dist</th>\n",
       "      <th>Level1</th>\n",
       "      <th>disease_pred</th>\n",
       "    </tr>\n",
       "    <tr>\n",
       "      <th>cellID</th>\n",
       "      <th></th>\n",
       "      <th></th>\n",
       "      <th></th>\n",
       "      <th></th>\n",
       "      <th></th>\n",
       "      <th></th>\n",
       "      <th></th>\n",
       "      <th></th>\n",
       "      <th></th>\n",
       "      <th></th>\n",
       "      <th></th>\n",
       "    </tr>\n",
       "  </thead>\n",
       "  <tbody>\n",
       "    <tr>\n",
       "      <th>SCGT00_L051_I51.3P_T0_AAACCCACAATCAGCT</th>\n",
       "      <td>SCGT00</td>\n",
       "      <td>SCGT00_L051</td>\n",
       "      <td>SCGT00_I51.3P_T0</td>\n",
       "      <td>3_GEX_V3</td>\n",
       "      <td>3_GEX_V3_GenoHashed</td>\n",
       "      <td>RA</td>\n",
       "      <td>female</td>\n",
       "      <td>41-50</td>\n",
       "      <td>13.625126</td>\n",
       "      <td>ILC</td>\n",
       "      <td>RA</td>\n",
       "    </tr>\n",
       "    <tr>\n",
       "      <th>SCGT00_L051_I51.3P_T0_AAACCCAGTACAATAG</th>\n",
       "      <td>SCGT00</td>\n",
       "      <td>SCGT00_L051</td>\n",
       "      <td>SCGT00_I51.3P_T0</td>\n",
       "      <td>3_GEX_V3</td>\n",
       "      <td>3_GEX_V3_GenoHashed</td>\n",
       "      <td>RA</td>\n",
       "      <td>female</td>\n",
       "      <td>41-50</td>\n",
       "      <td>11.409110</td>\n",
       "      <td>Mono</td>\n",
       "      <td>SLE</td>\n",
       "    </tr>\n",
       "    <tr>\n",
       "      <th>SCGT00_L051_I51.3P_T0_AAACGAACAACAGATA</th>\n",
       "      <td>SCGT00</td>\n",
       "      <td>SCGT00_L051</td>\n",
       "      <td>SCGT00_I51.3P_T0</td>\n",
       "      <td>3_GEX_V3</td>\n",
       "      <td>3_GEX_V3_GenoHashed</td>\n",
       "      <td>RA</td>\n",
       "      <td>female</td>\n",
       "      <td>41-50</td>\n",
       "      <td>11.657936</td>\n",
       "      <td>ILC</td>\n",
       "      <td>RA</td>\n",
       "    </tr>\n",
       "    <tr>\n",
       "      <th>SCGT00_L051_I51.3P_T0_AAACGAAGTGATACCT</th>\n",
       "      <td>SCGT00</td>\n",
       "      <td>SCGT00_L051</td>\n",
       "      <td>SCGT00_I51.3P_T0</td>\n",
       "      <td>3_GEX_V3</td>\n",
       "      <td>3_GEX_V3_GenoHashed</td>\n",
       "      <td>RA</td>\n",
       "      <td>female</td>\n",
       "      <td>41-50</td>\n",
       "      <td>12.659203</td>\n",
       "      <td>ILC</td>\n",
       "      <td>RA</td>\n",
       "    </tr>\n",
       "    <tr>\n",
       "      <th>SCGT00_L051_I51.3P_T0_AAACGAAGTTCTAACG</th>\n",
       "      <td>SCGT00</td>\n",
       "      <td>SCGT00_L051</td>\n",
       "      <td>SCGT00_I51.3P_T0</td>\n",
       "      <td>3_GEX_V3</td>\n",
       "      <td>3_GEX_V3_GenoHashed</td>\n",
       "      <td>RA</td>\n",
       "      <td>female</td>\n",
       "      <td>41-50</td>\n",
       "      <td>12.513535</td>\n",
       "      <td>T_CD4_NonNaive</td>\n",
       "      <td>SLE</td>\n",
       "    </tr>\n",
       "    <tr>\n",
       "      <th>...</th>\n",
       "      <td>...</td>\n",
       "      <td>...</td>\n",
       "      <td>...</td>\n",
       "      <td>...</td>\n",
       "      <td>...</td>\n",
       "      <td>...</td>\n",
       "      <td>...</td>\n",
       "      <td>...</td>\n",
       "      <td>...</td>\n",
       "      <td>...</td>\n",
       "      <td>...</td>\n",
       "    </tr>\n",
       "    <tr>\n",
       "      <th>Ren2021_L065_PS052_T0_TTTGTCAAGTGTACCT</th>\n",
       "      <td>Ren2021</td>\n",
       "      <td>Ren2021_L065</td>\n",
       "      <td>Ren2021_PS052_T0</td>\n",
       "      <td>5_GEX_V2</td>\n",
       "      <td>5_GEX_V2</td>\n",
       "      <td>COVID</td>\n",
       "      <td>female</td>\n",
       "      <td>&gt;80</td>\n",
       "      <td>15.266272</td>\n",
       "      <td>T_CD4_Naive</td>\n",
       "      <td>COVID</td>\n",
       "    </tr>\n",
       "    <tr>\n",
       "      <th>Ren2021_L065_PS052_T0_TTTGTCACAGGACCCT</th>\n",
       "      <td>Ren2021</td>\n",
       "      <td>Ren2021_L065</td>\n",
       "      <td>Ren2021_PS052_T0</td>\n",
       "      <td>5_GEX_V2</td>\n",
       "      <td>5_GEX_V2</td>\n",
       "      <td>COVID</td>\n",
       "      <td>female</td>\n",
       "      <td>&gt;80</td>\n",
       "      <td>12.340622</td>\n",
       "      <td>T_CD4_Naive</td>\n",
       "      <td>COVID</td>\n",
       "    </tr>\n",
       "    <tr>\n",
       "      <th>Ren2021_L065_PS052_T0_TTTGTCAGTCCGTCAG</th>\n",
       "      <td>Ren2021</td>\n",
       "      <td>Ren2021_L065</td>\n",
       "      <td>Ren2021_PS052_T0</td>\n",
       "      <td>5_GEX_V2</td>\n",
       "      <td>5_GEX_V2</td>\n",
       "      <td>COVID</td>\n",
       "      <td>female</td>\n",
       "      <td>&gt;80</td>\n",
       "      <td>12.839812</td>\n",
       "      <td>T_CD4_Naive</td>\n",
       "      <td>COVID</td>\n",
       "    </tr>\n",
       "    <tr>\n",
       "      <th>Ren2021_L065_PS052_T0_TTTGTCAGTCGCGTGT</th>\n",
       "      <td>Ren2021</td>\n",
       "      <td>Ren2021_L065</td>\n",
       "      <td>Ren2021_PS052_T0</td>\n",
       "      <td>5_GEX_V2</td>\n",
       "      <td>5_GEX_V2</td>\n",
       "      <td>COVID</td>\n",
       "      <td>female</td>\n",
       "      <td>&gt;80</td>\n",
       "      <td>9.865161</td>\n",
       "      <td>Mono</td>\n",
       "      <td>COVID</td>\n",
       "    </tr>\n",
       "    <tr>\n",
       "      <th>Ren2021_L065_PS052_T0_TTTGTCATCCACGAAT</th>\n",
       "      <td>Ren2021</td>\n",
       "      <td>Ren2021_L065</td>\n",
       "      <td>Ren2021_PS052_T0</td>\n",
       "      <td>5_GEX_V2</td>\n",
       "      <td>5_GEX_V2</td>\n",
       "      <td>COVID</td>\n",
       "      <td>female</td>\n",
       "      <td>&gt;80</td>\n",
       "      <td>11.571304</td>\n",
       "      <td>T_CD8_NonNaive</td>\n",
       "      <td>COVID</td>\n",
       "    </tr>\n",
       "  </tbody>\n",
       "</table>\n",
       "<p>849922 rows × 11 columns</p>\n",
       "</div>"
      ],
      "text/plain": [
       "                                        studyID     libraryID  \\\n",
       "cellID                                                          \n",
       "SCGT00_L051_I51.3P_T0_AAACCCACAATCAGCT   SCGT00   SCGT00_L051   \n",
       "SCGT00_L051_I51.3P_T0_AAACCCAGTACAATAG   SCGT00   SCGT00_L051   \n",
       "SCGT00_L051_I51.3P_T0_AAACGAACAACAGATA   SCGT00   SCGT00_L051   \n",
       "SCGT00_L051_I51.3P_T0_AAACGAAGTGATACCT   SCGT00   SCGT00_L051   \n",
       "SCGT00_L051_I51.3P_T0_AAACGAAGTTCTAACG   SCGT00   SCGT00_L051   \n",
       "...                                         ...           ...   \n",
       "Ren2021_L065_PS052_T0_TTTGTCAAGTGTACCT  Ren2021  Ren2021_L065   \n",
       "Ren2021_L065_PS052_T0_TTTGTCACAGGACCCT  Ren2021  Ren2021_L065   \n",
       "Ren2021_L065_PS052_T0_TTTGTCAGTCCGTCAG  Ren2021  Ren2021_L065   \n",
       "Ren2021_L065_PS052_T0_TTTGTCAGTCGCGTGT  Ren2021  Ren2021_L065   \n",
       "Ren2021_L065_PS052_T0_TTTGTCATCCACGAAT  Ren2021  Ren2021_L065   \n",
       "\n",
       "                                                sampleID chemistry  \\\n",
       "cellID                                                               \n",
       "SCGT00_L051_I51.3P_T0_AAACCCACAATCAGCT  SCGT00_I51.3P_T0  3_GEX_V3   \n",
       "SCGT00_L051_I51.3P_T0_AAACCCAGTACAATAG  SCGT00_I51.3P_T0  3_GEX_V3   \n",
       "SCGT00_L051_I51.3P_T0_AAACGAACAACAGATA  SCGT00_I51.3P_T0  3_GEX_V3   \n",
       "SCGT00_L051_I51.3P_T0_AAACGAAGTGATACCT  SCGT00_I51.3P_T0  3_GEX_V3   \n",
       "SCGT00_L051_I51.3P_T0_AAACGAAGTTCTAACG  SCGT00_I51.3P_T0  3_GEX_V3   \n",
       "...                                                  ...       ...   \n",
       "Ren2021_L065_PS052_T0_TTTGTCAAGTGTACCT  Ren2021_PS052_T0  5_GEX_V2   \n",
       "Ren2021_L065_PS052_T0_TTTGTCACAGGACCCT  Ren2021_PS052_T0  5_GEX_V2   \n",
       "Ren2021_L065_PS052_T0_TTTGTCAGTCCGTCAG  Ren2021_PS052_T0  5_GEX_V2   \n",
       "Ren2021_L065_PS052_T0_TTTGTCAGTCGCGTGT  Ren2021_PS052_T0  5_GEX_V2   \n",
       "Ren2021_L065_PS052_T0_TTTGTCATCCACGAAT  Ren2021_PS052_T0  5_GEX_V2   \n",
       "\n",
       "                                                 technology disease_true  \\\n",
       "cellID                                                                     \n",
       "SCGT00_L051_I51.3P_T0_AAACCCACAATCAGCT  3_GEX_V3_GenoHashed           RA   \n",
       "SCGT00_L051_I51.3P_T0_AAACCCAGTACAATAG  3_GEX_V3_GenoHashed           RA   \n",
       "SCGT00_L051_I51.3P_T0_AAACGAACAACAGATA  3_GEX_V3_GenoHashed           RA   \n",
       "SCGT00_L051_I51.3P_T0_AAACGAAGTGATACCT  3_GEX_V3_GenoHashed           RA   \n",
       "SCGT00_L051_I51.3P_T0_AAACGAAGTTCTAACG  3_GEX_V3_GenoHashed           RA   \n",
       "...                                                     ...          ...   \n",
       "Ren2021_L065_PS052_T0_TTTGTCAAGTGTACCT             5_GEX_V2        COVID   \n",
       "Ren2021_L065_PS052_T0_TTTGTCACAGGACCCT             5_GEX_V2        COVID   \n",
       "Ren2021_L065_PS052_T0_TTTGTCAGTCCGTCAG             5_GEX_V2        COVID   \n",
       "Ren2021_L065_PS052_T0_TTTGTCAGTCGCGTGT             5_GEX_V2        COVID   \n",
       "Ren2021_L065_PS052_T0_TTTGTCATCCACGAAT             5_GEX_V2        COVID   \n",
       "\n",
       "                                           sex binned_age  \\\n",
       "cellID                                                      \n",
       "SCGT00_L051_I51.3P_T0_AAACCCACAATCAGCT  female      41-50   \n",
       "SCGT00_L051_I51.3P_T0_AAACCCAGTACAATAG  female      41-50   \n",
       "SCGT00_L051_I51.3P_T0_AAACGAACAACAGATA  female      41-50   \n",
       "SCGT00_L051_I51.3P_T0_AAACGAAGTGATACCT  female      41-50   \n",
       "SCGT00_L051_I51.3P_T0_AAACGAAGTTCTAACG  female      41-50   \n",
       "...                                        ...        ...   \n",
       "Ren2021_L065_PS052_T0_TTTGTCAAGTGTACCT  female        >80   \n",
       "Ren2021_L065_PS052_T0_TTTGTCACAGGACCCT  female        >80   \n",
       "Ren2021_L065_PS052_T0_TTTGTCAGTCCGTCAG  female        >80   \n",
       "Ren2021_L065_PS052_T0_TTTGTCAGTCGCGTGT  female        >80   \n",
       "Ren2021_L065_PS052_T0_TTTGTCATCCACGAAT  female        >80   \n",
       "\n",
       "                                        symphony_per_cell_dist  \\\n",
       "cellID                                                           \n",
       "SCGT00_L051_I51.3P_T0_AAACCCACAATCAGCT               13.625126   \n",
       "SCGT00_L051_I51.3P_T0_AAACCCAGTACAATAG               11.409110   \n",
       "SCGT00_L051_I51.3P_T0_AAACGAACAACAGATA               11.657936   \n",
       "SCGT00_L051_I51.3P_T0_AAACGAAGTGATACCT               12.659203   \n",
       "SCGT00_L051_I51.3P_T0_AAACGAAGTTCTAACG               12.513535   \n",
       "...                                                        ...   \n",
       "Ren2021_L065_PS052_T0_TTTGTCAAGTGTACCT               15.266272   \n",
       "Ren2021_L065_PS052_T0_TTTGTCACAGGACCCT               12.340622   \n",
       "Ren2021_L065_PS052_T0_TTTGTCAGTCCGTCAG               12.839812   \n",
       "Ren2021_L065_PS052_T0_TTTGTCAGTCGCGTGT                9.865161   \n",
       "Ren2021_L065_PS052_T0_TTTGTCATCCACGAAT               11.571304   \n",
       "\n",
       "                                                Level1 disease_pred  \n",
       "cellID                                                               \n",
       "SCGT00_L051_I51.3P_T0_AAACCCACAATCAGCT             ILC           RA  \n",
       "SCGT00_L051_I51.3P_T0_AAACCCAGTACAATAG            Mono          SLE  \n",
       "SCGT00_L051_I51.3P_T0_AAACGAACAACAGATA             ILC           RA  \n",
       "SCGT00_L051_I51.3P_T0_AAACGAAGTGATACCT             ILC           RA  \n",
       "SCGT00_L051_I51.3P_T0_AAACGAAGTTCTAACG  T_CD4_NonNaive          SLE  \n",
       "...                                                ...          ...  \n",
       "Ren2021_L065_PS052_T0_TTTGTCAAGTGTACCT     T_CD4_Naive        COVID  \n",
       "Ren2021_L065_PS052_T0_TTTGTCACAGGACCCT     T_CD4_Naive        COVID  \n",
       "Ren2021_L065_PS052_T0_TTTGTCAGTCCGTCAG     T_CD4_Naive        COVID  \n",
       "Ren2021_L065_PS052_T0_TTTGTCAGTCGCGTGT            Mono        COVID  \n",
       "Ren2021_L065_PS052_T0_TTTGTCATCCACGAAT  T_CD8_NonNaive        COVID  \n",
       "\n",
       "[849922 rows x 11 columns]"
      ]
     },
     "execution_count": 19,
     "metadata": {},
     "output_type": "execute_result"
    }
   ],
   "source": [
    "adataQ.obs"
   ]
  },
  {
   "cell_type": "markdown",
   "id": "604b824a-321a-4ebe-802f-39ac50ec5238",
   "metadata": {
    "papermill": {
     "duration": 0.00982,
     "end_time": "2024-06-11T11:30:09.565850",
     "exception": false,
     "start_time": "2024-06-11T11:30:09.556030",
     "status": "completed"
    },
    "tags": []
   },
   "source": [
    "### Generating pseudobulk from latent space for Q dataset"
   ]
  },
  {
   "cell_type": "code",
   "execution_count": 20,
   "id": "995ab0a0-f978-4667-a85a-72b4757305c5",
   "metadata": {
    "execution": {
     "iopub.execute_input": "2024-06-11T11:30:09.586379Z",
     "iopub.status.busy": "2024-06-11T11:30:09.585980Z",
     "iopub.status.idle": "2024-06-11T11:30:10.091488Z",
     "shell.execute_reply": "2024-06-11T11:30:10.090962Z"
    },
    "papermill": {
     "duration": 0.516635,
     "end_time": "2024-06-11T11:30:10.092510",
     "exception": false,
     "start_time": "2024-06-11T11:30:09.575875",
     "status": "completed"
    },
    "tags": []
   },
   "outputs": [],
   "source": [
    "emb_pseudobulk_Q = aggregating_features(Z = adataQ.obsm['X_pca_harmony'], obsDF = adataQ.obs[['sampleID','Level1','disease_true']], mode = 'mean', obs_names_col=['sampleID','Level1'])"
   ]
  },
  {
   "cell_type": "code",
   "execution_count": 21,
   "id": "841534d1-d593-4372-b4d1-3133ae9180d8",
   "metadata": {
    "execution": {
     "iopub.execute_input": "2024-06-11T11:30:10.113345Z",
     "iopub.status.busy": "2024-06-11T11:30:10.113119Z",
     "iopub.status.idle": "2024-06-11T11:30:10.119834Z",
     "shell.execute_reply": "2024-06-11T11:30:10.119477Z"
    },
    "papermill": {
     "duration": 0.018105,
     "end_time": "2024-06-11T11:30:10.120721",
     "exception": false,
     "start_time": "2024-06-11T11:30:10.102616",
     "status": "completed"
    },
    "tags": []
   },
   "outputs": [
    {
     "data": {
      "text/html": [
       "<div>\n",
       "<style scoped>\n",
       "    .dataframe tbody tr th:only-of-type {\n",
       "        vertical-align: middle;\n",
       "    }\n",
       "\n",
       "    .dataframe tbody tr th {\n",
       "        vertical-align: top;\n",
       "    }\n",
       "\n",
       "    .dataframe thead th {\n",
       "        text-align: right;\n",
       "    }\n",
       "</style>\n",
       "<table border=\"1\" class=\"dataframe\">\n",
       "  <thead>\n",
       "    <tr style=\"text-align: right;\">\n",
       "      <th></th>\n",
       "      <th>sampleID</th>\n",
       "      <th>Level1</th>\n",
       "      <th>disease_true</th>\n",
       "      <th>n_observation</th>\n",
       "    </tr>\n",
       "  </thead>\n",
       "  <tbody>\n",
       "    <tr>\n",
       "      <th>COMBAT2022_G05073_T0_B</th>\n",
       "      <td>COMBAT2022_G05073_T0</td>\n",
       "      <td>B</td>\n",
       "      <td>COVID</td>\n",
       "      <td>518</td>\n",
       "    </tr>\n",
       "    <tr>\n",
       "      <th>COMBAT2022_G05073_T0_Cycling_cells</th>\n",
       "      <td>COMBAT2022_G05073_T0</td>\n",
       "      <td>Cycling_cells</td>\n",
       "      <td>COVID</td>\n",
       "      <td>70</td>\n",
       "    </tr>\n",
       "    <tr>\n",
       "      <th>COMBAT2022_G05073_T0_DC</th>\n",
       "      <td>COMBAT2022_G05073_T0</td>\n",
       "      <td>DC</td>\n",
       "      <td>COVID</td>\n",
       "      <td>115</td>\n",
       "    </tr>\n",
       "    <tr>\n",
       "      <th>COMBAT2022_G05073_T0_ILC</th>\n",
       "      <td>COMBAT2022_G05073_T0</td>\n",
       "      <td>ILC</td>\n",
       "      <td>COVID</td>\n",
       "      <td>302</td>\n",
       "    </tr>\n",
       "    <tr>\n",
       "      <th>COMBAT2022_G05073_T0_Mono</th>\n",
       "      <td>COMBAT2022_G05073_T0</td>\n",
       "      <td>Mono</td>\n",
       "      <td>COVID</td>\n",
       "      <td>1670</td>\n",
       "    </tr>\n",
       "    <tr>\n",
       "      <th>...</th>\n",
       "      <td>...</td>\n",
       "      <td>...</td>\n",
       "      <td>...</td>\n",
       "      <td>...</td>\n",
       "    </tr>\n",
       "    <tr>\n",
       "      <th>Terekhova2023_FE05_T0_T_CD4_NonNaive</th>\n",
       "      <td>Terekhova2023_FE05_T0</td>\n",
       "      <td>T_CD4_NonNaive</td>\n",
       "      <td>healthy</td>\n",
       "      <td>914</td>\n",
       "    </tr>\n",
       "    <tr>\n",
       "      <th>Terekhova2023_FE05_T0_T_CD8_Naive</th>\n",
       "      <td>Terekhova2023_FE05_T0</td>\n",
       "      <td>T_CD8_Naive</td>\n",
       "      <td>healthy</td>\n",
       "      <td>374</td>\n",
       "    </tr>\n",
       "    <tr>\n",
       "      <th>Terekhova2023_FE05_T0_T_CD8_NonNaive</th>\n",
       "      <td>Terekhova2023_FE05_T0</td>\n",
       "      <td>T_CD8_NonNaive</td>\n",
       "      <td>healthy</td>\n",
       "      <td>880</td>\n",
       "    </tr>\n",
       "    <tr>\n",
       "      <th>Terekhova2023_FE05_T0_UTC</th>\n",
       "      <td>Terekhova2023_FE05_T0</td>\n",
       "      <td>UTC</td>\n",
       "      <td>healthy</td>\n",
       "      <td>543</td>\n",
       "    </tr>\n",
       "    <tr>\n",
       "      <th>Terekhova2023_FE05_T0_pDC</th>\n",
       "      <td>Terekhova2023_FE05_T0</td>\n",
       "      <td>pDC</td>\n",
       "      <td>healthy</td>\n",
       "      <td>57</td>\n",
       "    </tr>\n",
       "  </tbody>\n",
       "</table>\n",
       "<p>1977 rows × 4 columns</p>\n",
       "</div>"
      ],
      "text/plain": [
       "                                                   sampleID          Level1  \\\n",
       "COMBAT2022_G05073_T0_B                 COMBAT2022_G05073_T0               B   \n",
       "COMBAT2022_G05073_T0_Cycling_cells     COMBAT2022_G05073_T0   Cycling_cells   \n",
       "COMBAT2022_G05073_T0_DC                COMBAT2022_G05073_T0              DC   \n",
       "COMBAT2022_G05073_T0_ILC               COMBAT2022_G05073_T0             ILC   \n",
       "COMBAT2022_G05073_T0_Mono              COMBAT2022_G05073_T0            Mono   \n",
       "...                                                     ...             ...   \n",
       "Terekhova2023_FE05_T0_T_CD4_NonNaive  Terekhova2023_FE05_T0  T_CD4_NonNaive   \n",
       "Terekhova2023_FE05_T0_T_CD8_Naive     Terekhova2023_FE05_T0     T_CD8_Naive   \n",
       "Terekhova2023_FE05_T0_T_CD8_NonNaive  Terekhova2023_FE05_T0  T_CD8_NonNaive   \n",
       "Terekhova2023_FE05_T0_UTC             Terekhova2023_FE05_T0             UTC   \n",
       "Terekhova2023_FE05_T0_pDC             Terekhova2023_FE05_T0             pDC   \n",
       "\n",
       "                                     disease_true  n_observation  \n",
       "COMBAT2022_G05073_T0_B                      COVID            518  \n",
       "COMBAT2022_G05073_T0_Cycling_cells          COVID             70  \n",
       "COMBAT2022_G05073_T0_DC                     COVID            115  \n",
       "COMBAT2022_G05073_T0_ILC                    COVID            302  \n",
       "COMBAT2022_G05073_T0_Mono                   COVID           1670  \n",
       "...                                           ...            ...  \n",
       "Terekhova2023_FE05_T0_T_CD4_NonNaive      healthy            914  \n",
       "Terekhova2023_FE05_T0_T_CD8_Naive         healthy            374  \n",
       "Terekhova2023_FE05_T0_T_CD8_NonNaive      healthy            880  \n",
       "Terekhova2023_FE05_T0_UTC                 healthy            543  \n",
       "Terekhova2023_FE05_T0_pDC                 healthy             57  \n",
       "\n",
       "[1977 rows x 4 columns]"
      ]
     },
     "execution_count": 21,
     "metadata": {},
     "output_type": "execute_result"
    }
   ],
   "source": [
    "emb_pseudobulk_Q.obs"
   ]
  },
  {
   "cell_type": "markdown",
   "id": "a43a1514-ec0f-4b9e-ac54-a48dbabc0fff",
   "metadata": {
    "execution": {
     "iopub.execute_input": "2024-06-07T16:00:22.779422Z",
     "iopub.status.busy": "2024-06-07T16:00:22.778939Z",
     "iopub.status.idle": "2024-06-07T16:00:22.782415Z",
     "shell.execute_reply": "2024-06-07T16:00:22.781982Z",
     "shell.execute_reply.started": "2024-06-07T16:00:22.779405Z"
    },
    "papermill": {
     "duration": 0.009978,
     "end_time": "2024-06-11T11:30:10.142281",
     "exception": false,
     "start_time": "2024-06-11T11:30:10.132303",
     "status": "completed"
    },
    "tags": []
   },
   "source": [
    "**Loading training pseudobulk**"
   ]
  },
  {
   "cell_type": "code",
   "execution_count": 22,
   "id": "b759518f-cc41-406e-8919-c72d6a6925e6",
   "metadata": {
    "execution": {
     "iopub.execute_input": "2024-06-11T11:30:10.162934Z",
     "iopub.status.busy": "2024-06-11T11:30:10.162705Z",
     "iopub.status.idle": "2024-06-11T11:30:10.261849Z",
     "shell.execute_reply": "2024-06-11T11:30:10.261295Z"
    },
    "papermill": {
     "duration": 0.110723,
     "end_time": "2024-06-11T11:30:10.262867",
     "exception": false,
     "start_time": "2024-06-11T11:30:10.152144",
     "status": "completed"
    },
    "tags": []
   },
   "outputs": [],
   "source": [
    "emb_pseudobulk_train = sc.read_h5ad(here(f\"03_downstream_analysis/08_PatientClassifier/Harmony_Symphony/results/01_MAIN_HarmonyIntegrated_PSEUDOBULK_{nPC}nPC_Batch_{batchKeys}.h5ad\"))"
   ]
  },
  {
   "cell_type": "markdown",
   "id": "fa0cf8df-f0dd-449c-87c8-b9207e94207b",
   "metadata": {
    "papermill": {
     "duration": 0.010127,
     "end_time": "2024-06-11T11:30:10.283390",
     "exception": false,
     "start_time": "2024-06-11T11:30:10.273263",
     "status": "completed"
    },
    "tags": []
   },
   "source": [
    "#### Remove unwanted cell types"
   ]
  },
  {
   "cell_type": "code",
   "execution_count": 23,
   "id": "b477252c-4cdb-4f89-8ec2-1d3dbc4a7655",
   "metadata": {
    "execution": {
     "iopub.execute_input": "2024-06-11T11:30:10.304782Z",
     "iopub.status.busy": "2024-06-11T11:30:10.304460Z",
     "iopub.status.idle": "2024-06-11T11:30:10.309420Z",
     "shell.execute_reply": "2024-06-11T11:30:10.309048Z"
    },
    "papermill": {
     "duration": 0.016729,
     "end_time": "2024-06-11T11:30:10.310348",
     "exception": false,
     "start_time": "2024-06-11T11:30:10.293619",
     "status": "completed"
    },
    "tags": []
   },
   "outputs": [],
   "source": [
    "emb_pseudobulk_train = emb_pseudobulk_train[~emb_pseudobulk_train.obs.Level1.isin(['Cycling_cells','RBC','Progenitors','Platelets']),]"
   ]
  },
  {
   "cell_type": "code",
   "execution_count": 24,
   "id": "25ead359-02da-4eec-a2e8-040415f31ca8",
   "metadata": {
    "execution": {
     "iopub.execute_input": "2024-06-11T11:30:10.331581Z",
     "iopub.status.busy": "2024-06-11T11:30:10.331356Z",
     "iopub.status.idle": "2024-06-11T11:30:10.334544Z",
     "shell.execute_reply": "2024-06-11T11:30:10.334179Z"
    },
    "papermill": {
     "duration": 0.015065,
     "end_time": "2024-06-11T11:30:10.335447",
     "exception": false,
     "start_time": "2024-06-11T11:30:10.320382",
     "status": "completed"
    },
    "tags": []
   },
   "outputs": [],
   "source": [
    "emb_pseudobulk_Q = emb_pseudobulk_Q[~emb_pseudobulk_Q.obs.Level1.isin(['Cycling_cells','RBC','Progenitors','Platelets']),]"
   ]
  },
  {
   "cell_type": "markdown",
   "id": "4faaceec-8aac-4c89-ac43-9093c0fe7c16",
   "metadata": {
    "papermill": {
     "duration": 0.01028,
     "end_time": "2024-06-11T11:30:10.355671",
     "exception": false,
     "start_time": "2024-06-11T11:30:10.345391",
     "status": "completed"
    },
    "tags": []
   },
   "source": [
    "### Saving query dataset and pseudobulks"
   ]
  },
  {
   "cell_type": "code",
   "execution_count": 25,
   "id": "40487ef8-ad5d-4236-a652-2d90cf76c77b",
   "metadata": {
    "execution": {
     "iopub.execute_input": "2024-06-11T11:30:10.377030Z",
     "iopub.status.busy": "2024-06-11T11:30:10.376554Z",
     "iopub.status.idle": "2024-06-11T11:32:07.118902Z",
     "shell.execute_reply": "2024-06-11T11:32:07.118212Z"
    },
    "papermill": {
     "duration": 116.754849,
     "end_time": "2024-06-11T11:32:07.120560",
     "exception": false,
     "start_time": "2024-06-11T11:30:10.365711",
     "status": "completed"
    },
    "tags": []
   },
   "outputs": [],
   "source": [
    "adataQ.write(here(f\"03_downstream_analysis/08_PatientClassifier/Harmony_Symphony/results/02_{queryDataset}_SymphonyProjected_{nPC}nPC_Batch_{batchKeys}.h5ad\"), \n",
    "             compression='gzip')"
   ]
  },
  {
   "cell_type": "code",
   "execution_count": 26,
   "id": "052a1401-1f68-49ed-a900-dda39c09e68b",
   "metadata": {
    "execution": {
     "iopub.execute_input": "2024-06-11T11:32:07.144150Z",
     "iopub.status.busy": "2024-06-11T11:32:07.143756Z",
     "iopub.status.idle": "2024-06-11T11:32:07.197260Z",
     "shell.execute_reply": "2024-06-11T11:32:07.196845Z"
    },
    "papermill": {
     "duration": 0.065564,
     "end_time": "2024-06-11T11:32:07.198172",
     "exception": false,
     "start_time": "2024-06-11T11:32:07.132608",
     "status": "completed"
    },
    "tags": []
   },
   "outputs": [
    {
     "name": "stderr",
     "output_type": "stream",
     "text": [
      "/scratch_isilon/groups/singlecell/shared/conda_env/inflammation_atlas_R1/lib/python3.10/site-packages/anndata/_core/anndata.py:1301: ImplicitModificationWarning: Trying to modify attribute `.obs` of view, initializing view as actual.\n",
      "  df[key] = c\n",
      "/scratch_isilon/groups/singlecell/shared/conda_env/inflammation_atlas_R1/lib/python3.10/site-packages/anndata/_core/anndata.py:1301: ImplicitModificationWarning: Trying to modify attribute `.obs` of view, initializing view as actual.\n",
      "  df[key] = c\n",
      "/scratch_isilon/groups/singlecell/shared/conda_env/inflammation_atlas_R1/lib/python3.10/site-packages/anndata/_core/anndata.py:1301: ImplicitModificationWarning: Trying to modify attribute `.obs` of view, initializing view as actual.\n",
      "  df[key] = c\n"
     ]
    }
   ],
   "source": [
    "emb_pseudobulk_Q.write(here(f\"03_downstream_analysis/08_PatientClassifier/Harmony_Symphony/results/02_{queryDataset}_SymphonyProjected_PSEUDOBULK{nPC}nPC_Batch_{batchKeys}.h5ad\"), \n",
    "             compression='gzip')"
   ]
  },
  {
   "cell_type": "markdown",
   "id": "8226f8d2-30b5-41a4-8efd-943e08f2d048",
   "metadata": {
    "papermill": {
     "duration": 0.010314,
     "end_time": "2024-06-11T11:32:07.218648",
     "exception": false,
     "start_time": "2024-06-11T11:32:07.208334",
     "status": "completed"
    },
    "tags": []
   },
   "source": [
    "### Training linear classifiers"
   ]
  },
  {
   "cell_type": "code",
   "execution_count": 27,
   "id": "78479add-937b-433c-96fd-457e4f0d9cd5",
   "metadata": {
    "execution": {
     "iopub.execute_input": "2024-06-11T11:32:07.240125Z",
     "iopub.status.busy": "2024-06-11T11:32:07.239817Z",
     "iopub.status.idle": "2024-06-11T11:32:07.252047Z",
     "shell.execute_reply": "2024-06-11T11:32:07.251665Z"
    },
    "papermill": {
     "duration": 0.023934,
     "end_time": "2024-06-11T11:32:07.252938",
     "exception": false,
     "start_time": "2024-06-11T11:32:07.229004",
     "status": "completed"
    },
    "tags": []
   },
   "outputs": [],
   "source": [
    "def train_classifier(adataTrain = None, cell_type_col = None, y_true_col = None, max_iter=10000,random_state = 25, model = 'LinearSVC', kargs_model = None):\n",
    "    \n",
    "    import pandas as pd\n",
    "    from tqdm import tqdm\n",
    "    from sklearn.svm import LinearSVC, SVC\n",
    "    from sklearn.neighbors import KNeighborsClassifier\n",
    "\n",
    "    from sklearn.metrics import balanced_accuracy_score\n",
    "    \n",
    "    clfList = dict()\n",
    "    trainAccuracy = []\n",
    "    for ct_ in tqdm(adataTrain.obs[cell_type_col].unique()):\n",
    "        clfList[ct_] = dict()\n",
    "        X_i = adataTrain.X[adataTrain.obs[cell_type_col] == ct_]\n",
    "        y_true_i = adataTrain.obs[y_true_col][adataTrain.obs[cell_type_col] == ct_]\n",
    "\n",
    "        if model == 'LinearSVC':\n",
    "            clfList[ct_]['clf'] = LinearSVC(**kargs_model).fit(X_i, y_true_i) # max_iter=max_iter, dual = True, random_state = random_state\n",
    "        elif model == 'SVC':\n",
    "            clfList[ct_]['clf'] = SVC(**kargs_model).fit(X_i, y_true_i) # max_iter=max_iter, random_state = random_state\n",
    "        elif model == 'KNeighborsClassifier':\n",
    "            clfList[ct_]['clf'] = KNeighborsClassifier(**kargs_model).fit(X_i, y_true_i) # n_neighbors = 5, weights='distance', n_jobs = -1\n",
    "            \n",
    "            \n",
    "        clfList[ct_]['bAcc'] = balanced_accuracy_score(y_true = y_true_i, y_pred = clfList[ct_]['clf'].predict(X_i))\n",
    "        clfList[ct_]['nObs'] = len(y_true_i)\n",
    "\n",
    "    return clfList\n",
    "    \n",
    "def vote_disease(adataTest = None, clfList = None, cell_type_col = None, sample_id_col = None):\n",
    "\n",
    "    from tqdm import tqdm\n",
    "    import pandas as pd\n",
    "    \n",
    "    classificationDF = pd.DataFrame()\n",
    "    for ct_ in tqdm(adataTest.obs[cell_type_col].unique()):\n",
    "        X_i = adataTest.X[adataTest.obs[cell_type_col] == ct_]\n",
    "        PID_i = adataTest.obs[sample_id_col][adataTest.obs[cell_type_col] == ct_]\n",
    "        if ct_ not in clfList:\n",
    "            print(f\"{ct_} is missing in training set\")\n",
    "            continue\n",
    "        DF_i = pd.DataFrame.from_dict({\n",
    "            sample_id_col: PID_i,\n",
    "            f\"{ct_}_prediction\": clfList[ct_]['clf'].predict(X_i)\n",
    "        })\n",
    "        if classificationDF.shape[0] == 0:\n",
    "            classificationDF = DF_i\n",
    "        else:\n",
    "            classificationDF = classificationDF.merge(DF_i, how='outer', on = sample_id_col)\n",
    "    classificationDF['firstChoice'] = ''\n",
    "    classificationDF['firstChoice_perc'] = np.nan\n",
    "    classificationDF['secondChoice'] = ''\n",
    "    classificationDF['secondChoice_perc'] = np.nan\n",
    "    \n",
    "    for i in tqdm(range(classificationDF.shape[0])):\n",
    "        vote_i = classificationDF.loc[i,classificationDF.columns !=sample_id_col].value_counts()\n",
    "        vote_i /= (vote_i.sum() / 100)\n",
    "        res_i = vote_i.sort_values(ascending=False)\n",
    "        classificationDF.loc[i,'firstChoice'] = res_i.index[0]\n",
    "        classificationDF.loc[i,'firstChoice_perc'] = res_i.iloc[0]\n",
    "        if res_i.shape[0] > 1:\n",
    "            classificationDF.loc[i,'secondChoice'] = res_i.index[1]\n",
    "            classificationDF.loc[i,'secondChoice_perc'] = res_i.iloc[1]\n",
    "\n",
    "    return classificationDF\n",
    "    \n",
    "def aggregating_features(Z = None, obsDF = None, mode = 'mean', obs_names_col = []):\n",
    "    Zdf = pd.DataFrame(Z)\n",
    "    for c in obsDF.columns:\n",
    "        Zdf[c] = obsDF[c].tolist()\n",
    "    if mode in ['mean','avarage']:\n",
    "        Zaggr = Zdf.groupby(obsDF.columns.tolist(), observed = True).mean()\n",
    "    elif mode == 'sum':\n",
    "        Zaggr = Zdf.groupby(obsDF.columns.tolist(), observed = True).sum()\n",
    "    else:\n",
    "        raise ValueError(f\"mode {mode} not supported. Available mode are 'mean' or 'sum'\")\n",
    "\n",
    "    grpObs = pd.DataFrame(Zaggr.index.tolist(), columns=obsDF.columns.tolist())\n",
    "\n",
    "    if len(obs_names_col) == 0:\n",
    "        grpAdata  = sc.AnnData(X = np.array(Zaggr), obs = grpObs, )\n",
    "    elif all([c in obsDF.columns.tolist() for c in obs_names_col]):\n",
    "        grpObs.index = grpObs[obs_names_col].apply(lambda row: '_'.join(row.values.astype(str)), axis=1)\n",
    "        grpAdata  = sc.AnnData(X = np.array(Zaggr), obs = grpObs)\n",
    "    else:\n",
    "        raise ValueError(f\"Impossible to use {obs_names_col} as index. It's not present in obsDF\")\n",
    "    return grpAdata"
   ]
  },
  {
   "cell_type": "code",
   "execution_count": 28,
   "id": "b2f802a7-0a43-413b-8bee-03a900836009",
   "metadata": {
    "execution": {
     "iopub.execute_input": "2024-06-11T11:32:07.274368Z",
     "iopub.status.busy": "2024-06-11T11:32:07.274088Z",
     "iopub.status.idle": "2024-06-11T11:32:08.118003Z",
     "shell.execute_reply": "2024-06-11T11:32:08.117431Z"
    },
    "papermill": {
     "duration": 0.855737,
     "end_time": "2024-06-11T11:32:08.118982",
     "exception": false,
     "start_time": "2024-06-11T11:32:07.263245",
     "status": "completed"
    },
    "tags": []
   },
   "outputs": [
    {
     "name": "stderr",
     "output_type": "stream",
     "text": [
      "\r",
      "  0%|          | 0/11 [00:00<?, ?it/s]"
     ]
    },
    {
     "name": "stderr",
     "output_type": "stream",
     "text": [
      "\r",
      "  9%|▉         | 1/11 [00:00<00:01,  9.69it/s]"
     ]
    },
    {
     "name": "stderr",
     "output_type": "stream",
     "text": [
      "\r",
      " 27%|██▋       | 3/11 [00:00<00:00, 12.14it/s]"
     ]
    },
    {
     "name": "stderr",
     "output_type": "stream",
     "text": [
      "\r",
      " 45%|████▌     | 5/11 [00:00<00:00, 12.74it/s]"
     ]
    },
    {
     "name": "stderr",
     "output_type": "stream",
     "text": [
      "\r",
      " 64%|██████▎   | 7/11 [00:00<00:00, 13.63it/s]"
     ]
    },
    {
     "name": "stderr",
     "output_type": "stream",
     "text": [
      "\r",
      " 82%|████████▏ | 9/11 [00:00<00:00, 13.72it/s]"
     ]
    },
    {
     "name": "stderr",
     "output_type": "stream",
     "text": [
      "\r",
      "100%|██████████| 11/11 [00:00<00:00, 14.24it/s]"
     ]
    },
    {
     "name": "stderr",
     "output_type": "stream",
     "text": [
      "\r",
      "100%|██████████| 11/11 [00:00<00:00, 13.56it/s]"
     ]
    },
    {
     "name": "stderr",
     "output_type": "stream",
     "text": [
      "\n"
     ]
    }
   ],
   "source": [
    "clfList = train_classifier(adataTrain = emb_pseudobulk_train, cell_type_col = 'Level1', y_true_col = 'disease', max_iter=-1, random_state = 25, model = 'KNeighborsClassifier', \n",
    "                           kargs_model={'n_neighbors':2, 'weights':'uniform', 'metric':'cosine','n_jobs':-1})"
   ]
  },
  {
   "cell_type": "code",
   "execution_count": 29,
   "id": "184e7805-037a-48ab-bdde-b80d084b46cd",
   "metadata": {
    "execution": {
     "iopub.execute_input": "2024-06-11T11:32:08.143879Z",
     "iopub.status.busy": "2024-06-11T11:32:08.143474Z",
     "iopub.status.idle": "2024-06-11T11:32:08.152260Z",
     "shell.execute_reply": "2024-06-11T11:32:08.151791Z"
    },
    "papermill": {
     "duration": 0.021306,
     "end_time": "2024-06-11T11:32:08.153239",
     "exception": false,
     "start_time": "2024-06-11T11:32:08.131933",
     "status": "completed"
    },
    "tags": []
   },
   "outputs": [
    {
     "data": {
      "text/plain": [
       "{'B': {'clf': KNeighborsClassifier(metric='cosine', n_jobs=-1, n_neighbors=2),\n",
       "  'bAcc': 0.9053735471614728,\n",
       "  'nObs': 814},\n",
       " 'DC': {'clf': KNeighborsClassifier(metric='cosine', n_jobs=-1, n_neighbors=2),\n",
       "  'bAcc': 0.8998433380829025,\n",
       "  'nObs': 801},\n",
       " 'ILC': {'clf': KNeighborsClassifier(metric='cosine', n_jobs=-1, n_neighbors=2),\n",
       "  'bAcc': 0.8938883893952465,\n",
       "  'nObs': 817},\n",
       " 'Mono': {'clf': KNeighborsClassifier(metric='cosine', n_jobs=-1, n_neighbors=2),\n",
       "  'bAcc': 0.8872121097816057,\n",
       "  'nObs': 817},\n",
       " 'Plasma': {'clf': KNeighborsClassifier(metric='cosine', n_jobs=-1, n_neighbors=2),\n",
       "  'bAcc': 0.7954683493556215,\n",
       "  'nObs': 727},\n",
       " 'T_CD4_Naive': {'clf': KNeighborsClassifier(metric='cosine', n_jobs=-1, n_neighbors=2),\n",
       "  'bAcc': 0.9031576364702755,\n",
       "  'nObs': 814},\n",
       " 'T_CD4_NonNaive': {'clf': KNeighborsClassifier(metric='cosine', n_jobs=-1, n_neighbors=2),\n",
       "  'bAcc': 0.9286643951232646,\n",
       "  'nObs': 816},\n",
       " 'T_CD8_Naive': {'clf': KNeighborsClassifier(metric='cosine', n_jobs=-1, n_neighbors=2),\n",
       "  'bAcc': 0.9115380226532933,\n",
       "  'nObs': 805},\n",
       " 'T_CD8_NonNaive': {'clf': KNeighborsClassifier(metric='cosine', n_jobs=-1, n_neighbors=2),\n",
       "  'bAcc': 0.9026920396888893,\n",
       "  'nObs': 817},\n",
       " 'UTC': {'clf': KNeighborsClassifier(metric='cosine', n_jobs=-1, n_neighbors=2),\n",
       "  'bAcc': 0.878745696739036,\n",
       "  'nObs': 813},\n",
       " 'pDC': {'clf': KNeighborsClassifier(metric='cosine', n_jobs=-1, n_neighbors=2),\n",
       "  'bAcc': 0.8634311042481659,\n",
       "  'nObs': 775}}"
      ]
     },
     "execution_count": 29,
     "metadata": {},
     "output_type": "execute_result"
    }
   ],
   "source": [
    "clfList"
   ]
  },
  {
   "cell_type": "markdown",
   "id": "8140578c-927e-4a12-84c1-809c70d2387c",
   "metadata": {
    "papermill": {
     "duration": 0.011395,
     "end_time": "2024-06-11T11:32:08.176365",
     "exception": false,
     "start_time": "2024-06-11T11:32:08.164970",
     "status": "completed"
    },
    "tags": []
   },
   "source": [
    "### Predicting diseases"
   ]
  },
  {
   "cell_type": "code",
   "execution_count": 30,
   "id": "ba47d364-9407-4d4a-9a9c-a02d374a9932",
   "metadata": {
    "execution": {
     "iopub.execute_input": "2024-06-11T11:32:08.199252Z",
     "iopub.status.busy": "2024-06-11T11:32:08.198887Z",
     "iopub.status.idle": "2024-06-11T11:32:08.206348Z",
     "shell.execute_reply": "2024-06-11T11:32:08.205900Z"
    },
    "papermill": {
     "duration": 0.019809,
     "end_time": "2024-06-11T11:32:08.207294",
     "exception": false,
     "start_time": "2024-06-11T11:32:08.187485",
     "status": "completed"
    },
    "tags": []
   },
   "outputs": [
    {
     "data": {
      "text/html": [
       "<div>\n",
       "<style scoped>\n",
       "    .dataframe tbody tr th:only-of-type {\n",
       "        vertical-align: middle;\n",
       "    }\n",
       "\n",
       "    .dataframe tbody tr th {\n",
       "        vertical-align: top;\n",
       "    }\n",
       "\n",
       "    .dataframe thead th {\n",
       "        text-align: right;\n",
       "    }\n",
       "</style>\n",
       "<table border=\"1\" class=\"dataframe\">\n",
       "  <thead>\n",
       "    <tr style=\"text-align: right;\">\n",
       "      <th></th>\n",
       "      <th>sampleID</th>\n",
       "      <th>Level1</th>\n",
       "      <th>disease_true</th>\n",
       "      <th>n_observation</th>\n",
       "    </tr>\n",
       "  </thead>\n",
       "  <tbody>\n",
       "    <tr>\n",
       "      <th>COMBAT2022_G05073_T0_B</th>\n",
       "      <td>COMBAT2022_G05073_T0</td>\n",
       "      <td>B</td>\n",
       "      <td>COVID</td>\n",
       "      <td>518</td>\n",
       "    </tr>\n",
       "    <tr>\n",
       "      <th>COMBAT2022_G05073_T0_DC</th>\n",
       "      <td>COMBAT2022_G05073_T0</td>\n",
       "      <td>DC</td>\n",
       "      <td>COVID</td>\n",
       "      <td>115</td>\n",
       "    </tr>\n",
       "    <tr>\n",
       "      <th>COMBAT2022_G05073_T0_ILC</th>\n",
       "      <td>COMBAT2022_G05073_T0</td>\n",
       "      <td>ILC</td>\n",
       "      <td>COVID</td>\n",
       "      <td>302</td>\n",
       "    </tr>\n",
       "    <tr>\n",
       "      <th>COMBAT2022_G05073_T0_Mono</th>\n",
       "      <td>COMBAT2022_G05073_T0</td>\n",
       "      <td>Mono</td>\n",
       "      <td>COVID</td>\n",
       "      <td>1670</td>\n",
       "    </tr>\n",
       "    <tr>\n",
       "      <th>COMBAT2022_G05073_T0_Plasma</th>\n",
       "      <td>COMBAT2022_G05073_T0</td>\n",
       "      <td>Plasma</td>\n",
       "      <td>COVID</td>\n",
       "      <td>18</td>\n",
       "    </tr>\n",
       "    <tr>\n",
       "      <th>...</th>\n",
       "      <td>...</td>\n",
       "      <td>...</td>\n",
       "      <td>...</td>\n",
       "      <td>...</td>\n",
       "    </tr>\n",
       "    <tr>\n",
       "      <th>Terekhova2023_FE05_T0_T_CD4_NonNaive</th>\n",
       "      <td>Terekhova2023_FE05_T0</td>\n",
       "      <td>T_CD4_NonNaive</td>\n",
       "      <td>healthy</td>\n",
       "      <td>914</td>\n",
       "    </tr>\n",
       "    <tr>\n",
       "      <th>Terekhova2023_FE05_T0_T_CD8_Naive</th>\n",
       "      <td>Terekhova2023_FE05_T0</td>\n",
       "      <td>T_CD8_Naive</td>\n",
       "      <td>healthy</td>\n",
       "      <td>374</td>\n",
       "    </tr>\n",
       "    <tr>\n",
       "      <th>Terekhova2023_FE05_T0_T_CD8_NonNaive</th>\n",
       "      <td>Terekhova2023_FE05_T0</td>\n",
       "      <td>T_CD8_NonNaive</td>\n",
       "      <td>healthy</td>\n",
       "      <td>880</td>\n",
       "    </tr>\n",
       "    <tr>\n",
       "      <th>Terekhova2023_FE05_T0_UTC</th>\n",
       "      <td>Terekhova2023_FE05_T0</td>\n",
       "      <td>UTC</td>\n",
       "      <td>healthy</td>\n",
       "      <td>543</td>\n",
       "    </tr>\n",
       "    <tr>\n",
       "      <th>Terekhova2023_FE05_T0_pDC</th>\n",
       "      <td>Terekhova2023_FE05_T0</td>\n",
       "      <td>pDC</td>\n",
       "      <td>healthy</td>\n",
       "      <td>57</td>\n",
       "    </tr>\n",
       "  </tbody>\n",
       "</table>\n",
       "<p>1555 rows × 4 columns</p>\n",
       "</div>"
      ],
      "text/plain": [
       "                                                   sampleID          Level1  \\\n",
       "COMBAT2022_G05073_T0_B                 COMBAT2022_G05073_T0               B   \n",
       "COMBAT2022_G05073_T0_DC                COMBAT2022_G05073_T0              DC   \n",
       "COMBAT2022_G05073_T0_ILC               COMBAT2022_G05073_T0             ILC   \n",
       "COMBAT2022_G05073_T0_Mono              COMBAT2022_G05073_T0            Mono   \n",
       "COMBAT2022_G05073_T0_Plasma            COMBAT2022_G05073_T0          Plasma   \n",
       "...                                                     ...             ...   \n",
       "Terekhova2023_FE05_T0_T_CD4_NonNaive  Terekhova2023_FE05_T0  T_CD4_NonNaive   \n",
       "Terekhova2023_FE05_T0_T_CD8_Naive     Terekhova2023_FE05_T0     T_CD8_Naive   \n",
       "Terekhova2023_FE05_T0_T_CD8_NonNaive  Terekhova2023_FE05_T0  T_CD8_NonNaive   \n",
       "Terekhova2023_FE05_T0_UTC             Terekhova2023_FE05_T0             UTC   \n",
       "Terekhova2023_FE05_T0_pDC             Terekhova2023_FE05_T0             pDC   \n",
       "\n",
       "                                     disease_true  n_observation  \n",
       "COMBAT2022_G05073_T0_B                      COVID            518  \n",
       "COMBAT2022_G05073_T0_DC                     COVID            115  \n",
       "COMBAT2022_G05073_T0_ILC                    COVID            302  \n",
       "COMBAT2022_G05073_T0_Mono                   COVID           1670  \n",
       "COMBAT2022_G05073_T0_Plasma                 COVID             18  \n",
       "...                                           ...            ...  \n",
       "Terekhova2023_FE05_T0_T_CD4_NonNaive      healthy            914  \n",
       "Terekhova2023_FE05_T0_T_CD8_Naive         healthy            374  \n",
       "Terekhova2023_FE05_T0_T_CD8_NonNaive      healthy            880  \n",
       "Terekhova2023_FE05_T0_UTC                 healthy            543  \n",
       "Terekhova2023_FE05_T0_pDC                 healthy             57  \n",
       "\n",
       "[1555 rows x 4 columns]"
      ]
     },
     "execution_count": 30,
     "metadata": {},
     "output_type": "execute_result"
    }
   ],
   "source": [
    "emb_pseudobulk_Q.obs"
   ]
  },
  {
   "cell_type": "code",
   "execution_count": 31,
   "id": "39befc29-3613-4abc-adeb-bfee66e08dea",
   "metadata": {
    "execution": {
     "iopub.execute_input": "2024-06-11T11:32:08.276042Z",
     "iopub.status.busy": "2024-06-11T11:32:08.275595Z",
     "iopub.status.idle": "2024-06-11T11:32:08.742469Z",
     "shell.execute_reply": "2024-06-11T11:32:08.741887Z"
    },
    "papermill": {
     "duration": 0.498191,
     "end_time": "2024-06-11T11:32:08.743619",
     "exception": false,
     "start_time": "2024-06-11T11:32:08.245428",
     "status": "completed"
    },
    "tags": []
   },
   "outputs": [
    {
     "name": "stderr",
     "output_type": "stream",
     "text": [
      "\r",
      "  0%|          | 0/11 [00:00<?, ?it/s]"
     ]
    },
    {
     "name": "stderr",
     "output_type": "stream",
     "text": [
      "\r",
      " 18%|█▊        | 2/11 [00:00<00:00, 18.92it/s]"
     ]
    },
    {
     "name": "stderr",
     "output_type": "stream",
     "text": [
      "\r",
      " 64%|██████▎   | 7/11 [00:00<00:00, 35.28it/s]"
     ]
    },
    {
     "name": "stderr",
     "output_type": "stream",
     "text": [
      "\r",
      "100%|██████████| 11/11 [00:00<00:00, 36.71it/s]"
     ]
    },
    {
     "name": "stderr",
     "output_type": "stream",
     "text": [
      "\n"
     ]
    },
    {
     "name": "stderr",
     "output_type": "stream",
     "text": [
      "\r",
      "  0%|          | 0/144 [00:00<?, ?it/s]"
     ]
    },
    {
     "name": "stderr",
     "output_type": "stream",
     "text": [
      "\r",
      " 55%|█████▍    | 79/144 [00:00<00:00, 787.25it/s]"
     ]
    },
    {
     "name": "stderr",
     "output_type": "stream",
     "text": [
      "\r",
      "100%|██████████| 144/144 [00:00<00:00, 901.76it/s]"
     ]
    },
    {
     "name": "stderr",
     "output_type": "stream",
     "text": [
      "\n"
     ]
    }
   ],
   "source": [
    "classificationDF = vote_disease(adataTest = emb_pseudobulk_Q, \n",
    "                                clfList = clfList, \n",
    "                                sample_id_col = 'sampleID',\n",
    "                                cell_type_col = 'Level1')\n"
   ]
  },
  {
   "cell_type": "code",
   "execution_count": 32,
   "id": "a731fec9-92f4-4b14-b374-ad2bec4d4f13",
   "metadata": {
    "execution": {
     "iopub.execute_input": "2024-06-11T11:32:08.769148Z",
     "iopub.status.busy": "2024-06-11T11:32:08.768667Z",
     "iopub.status.idle": "2024-06-11T11:32:08.774383Z",
     "shell.execute_reply": "2024-06-11T11:32:08.773898Z"
    },
    "papermill": {
     "duration": 0.019146,
     "end_time": "2024-06-11T11:32:08.775362",
     "exception": false,
     "start_time": "2024-06-11T11:32:08.756216",
     "status": "completed"
    },
    "tags": []
   },
   "outputs": [],
   "source": [
    "res = classificationDF.merge(emb_pseudobulk_Q.obs[['sampleID', 'disease_true']].drop_duplicates(), how = 'left', on = 'sampleID').set_index('sampleID')\n"
   ]
  },
  {
   "cell_type": "code",
   "execution_count": 33,
   "id": "00fff243-e3d9-436c-b369-b7d4d29a13bf",
   "metadata": {
    "execution": {
     "iopub.execute_input": "2024-06-11T11:32:08.800321Z",
     "iopub.status.busy": "2024-06-11T11:32:08.800052Z",
     "iopub.status.idle": "2024-06-11T11:32:08.805816Z",
     "shell.execute_reply": "2024-06-11T11:32:08.805352Z"
    },
    "papermill": {
     "duration": 0.019646,
     "end_time": "2024-06-11T11:32:08.806801",
     "exception": false,
     "start_time": "2024-06-11T11:32:08.787155",
     "status": "completed"
    },
    "tags": []
   },
   "outputs": [
    {
     "name": "stderr",
     "output_type": "stream",
     "text": [
      "/scratch_isilon/groups/singlecell/shared/conda_env/inflammation_atlas_R1/lib/python3.10/site-packages/sklearn/metrics/_classification.py:2458: UserWarning: y_pred contains classes not in y_true\n",
      "  warnings.warn(\"y_pred contains classes not in y_true\")\n"
     ]
    },
    {
     "data": {
      "text/plain": [
       "0.8091094771241829"
      ]
     },
     "execution_count": 33,
     "metadata": {},
     "output_type": "execute_result"
    }
   ],
   "source": [
    "balanced_accuracy_score(y_true = res.disease_true, y_pred=res.firstChoice)"
   ]
  },
  {
   "cell_type": "code",
   "execution_count": 34,
   "id": "54568ce9-5d5d-47e2-bc88-5a61eae513bc",
   "metadata": {
    "execution": {
     "iopub.execute_input": "2024-06-11T11:32:08.831691Z",
     "iopub.status.busy": "2024-06-11T11:32:08.831373Z",
     "iopub.status.idle": "2024-06-11T11:32:08.843044Z",
     "shell.execute_reply": "2024-06-11T11:32:08.842579Z"
    },
    "papermill": {
     "duration": 0.025267,
     "end_time": "2024-06-11T11:32:08.843934",
     "exception": false,
     "start_time": "2024-06-11T11:32:08.818667",
     "status": "completed"
    },
    "tags": []
   },
   "outputs": [
    {
     "data": {
      "text/html": [
       "<div>\n",
       "<style scoped>\n",
       "    .dataframe tbody tr th:only-of-type {\n",
       "        vertical-align: middle;\n",
       "    }\n",
       "\n",
       "    .dataframe tbody tr th {\n",
       "        vertical-align: top;\n",
       "    }\n",
       "\n",
       "    .dataframe thead th {\n",
       "        text-align: right;\n",
       "    }\n",
       "</style>\n",
       "<table border=\"1\" class=\"dataframe\">\n",
       "  <thead>\n",
       "    <tr style=\"text-align: right;\">\n",
       "      <th></th>\n",
       "      <th>B_prediction</th>\n",
       "      <th>DC_prediction</th>\n",
       "      <th>ILC_prediction</th>\n",
       "      <th>Mono_prediction</th>\n",
       "      <th>Plasma_prediction</th>\n",
       "      <th>T_CD4_Naive_prediction</th>\n",
       "      <th>T_CD4_NonNaive_prediction</th>\n",
       "      <th>T_CD8_Naive_prediction</th>\n",
       "      <th>T_CD8_NonNaive_prediction</th>\n",
       "      <th>UTC_prediction</th>\n",
       "      <th>pDC_prediction</th>\n",
       "      <th>firstChoice</th>\n",
       "      <th>firstChoice_perc</th>\n",
       "      <th>secondChoice</th>\n",
       "      <th>secondChoice_perc</th>\n",
       "      <th>disease_true</th>\n",
       "    </tr>\n",
       "    <tr>\n",
       "      <th>sampleID</th>\n",
       "      <th></th>\n",
       "      <th></th>\n",
       "      <th></th>\n",
       "      <th></th>\n",
       "      <th></th>\n",
       "      <th></th>\n",
       "      <th></th>\n",
       "      <th></th>\n",
       "      <th></th>\n",
       "      <th></th>\n",
       "      <th></th>\n",
       "      <th></th>\n",
       "      <th></th>\n",
       "      <th></th>\n",
       "      <th></th>\n",
       "      <th></th>\n",
       "    </tr>\n",
       "  </thead>\n",
       "  <tbody>\n",
       "    <tr>\n",
       "      <th>COMBAT2022_G05073_T0</th>\n",
       "      <td>SLE</td>\n",
       "      <td>SLE</td>\n",
       "      <td>SLE</td>\n",
       "      <td>COVID</td>\n",
       "      <td>COVID</td>\n",
       "      <td>COVID</td>\n",
       "      <td>COVID</td>\n",
       "      <td>COVID</td>\n",
       "      <td>COVID</td>\n",
       "      <td>healthy</td>\n",
       "      <td>healthy</td>\n",
       "      <td>COVID</td>\n",
       "      <td>46.153846</td>\n",
       "      <td>SLE</td>\n",
       "      <td>23.076923</td>\n",
       "      <td>COVID</td>\n",
       "    </tr>\n",
       "    <tr>\n",
       "      <th>COMBAT2022_G05097_T0</th>\n",
       "      <td>SLE</td>\n",
       "      <td>COVID</td>\n",
       "      <td>SLE</td>\n",
       "      <td>COVID</td>\n",
       "      <td>COVID</td>\n",
       "      <td>COVID</td>\n",
       "      <td>SLE</td>\n",
       "      <td>COVID</td>\n",
       "      <td>SLE</td>\n",
       "      <td>healthy</td>\n",
       "      <td>COVID</td>\n",
       "      <td>COVID</td>\n",
       "      <td>46.153846</td>\n",
       "      <td>SLE</td>\n",
       "      <td>30.769231</td>\n",
       "      <td>COVID</td>\n",
       "    </tr>\n",
       "    <tr>\n",
       "      <th>COMBAT2022_G05145_T0</th>\n",
       "      <td>healthy</td>\n",
       "      <td>healthy</td>\n",
       "      <td>healthy</td>\n",
       "      <td>COVID</td>\n",
       "      <td>flu</td>\n",
       "      <td>COVID</td>\n",
       "      <td>COVID</td>\n",
       "      <td>COVID</td>\n",
       "      <td>COVID</td>\n",
       "      <td>SLE</td>\n",
       "      <td>healthy</td>\n",
       "      <td>COVID</td>\n",
       "      <td>38.461538</td>\n",
       "      <td>healthy</td>\n",
       "      <td>30.769231</td>\n",
       "      <td>COVID</td>\n",
       "    </tr>\n",
       "    <tr>\n",
       "      <th>COMBAT2022_N00021_T0</th>\n",
       "      <td>SLE</td>\n",
       "      <td>SLE</td>\n",
       "      <td>healthy</td>\n",
       "      <td>sepsis</td>\n",
       "      <td>COVID</td>\n",
       "      <td>flu</td>\n",
       "      <td>flu</td>\n",
       "      <td>sepsis</td>\n",
       "      <td>healthy</td>\n",
       "      <td>sepsis</td>\n",
       "      <td>sepsis</td>\n",
       "      <td>sepsis</td>\n",
       "      <td>30.769231</td>\n",
       "      <td>SLE</td>\n",
       "      <td>15.384615</td>\n",
       "      <td>sepsis</td>\n",
       "    </tr>\n",
       "    <tr>\n",
       "      <th>COMBAT2022_N00025_T0</th>\n",
       "      <td>SLE</td>\n",
       "      <td>NaN</td>\n",
       "      <td>healthy</td>\n",
       "      <td>sepsis</td>\n",
       "      <td>COVID</td>\n",
       "      <td>healthy</td>\n",
       "      <td>healthy</td>\n",
       "      <td>healthy</td>\n",
       "      <td>flu</td>\n",
       "      <td>sepsis</td>\n",
       "      <td>NaN</td>\n",
       "      <td>healthy</td>\n",
       "      <td>36.363636</td>\n",
       "      <td>sepsis</td>\n",
       "      <td>18.181818</td>\n",
       "      <td>sepsis</td>\n",
       "    </tr>\n",
       "    <tr>\n",
       "      <th>...</th>\n",
       "      <td>...</td>\n",
       "      <td>...</td>\n",
       "      <td>...</td>\n",
       "      <td>...</td>\n",
       "      <td>...</td>\n",
       "      <td>...</td>\n",
       "      <td>...</td>\n",
       "      <td>...</td>\n",
       "      <td>...</td>\n",
       "      <td>...</td>\n",
       "      <td>...</td>\n",
       "      <td>...</td>\n",
       "      <td>...</td>\n",
       "      <td>...</td>\n",
       "      <td>...</td>\n",
       "      <td>...</td>\n",
       "    </tr>\n",
       "    <tr>\n",
       "      <th>Terekhova2023_E19_T0</th>\n",
       "      <td>healthy</td>\n",
       "      <td>healthy</td>\n",
       "      <td>healthy</td>\n",
       "      <td>healthy</td>\n",
       "      <td>healthy</td>\n",
       "      <td>healthy</td>\n",
       "      <td>healthy</td>\n",
       "      <td>healthy</td>\n",
       "      <td>healthy</td>\n",
       "      <td>healthy</td>\n",
       "      <td>healthy</td>\n",
       "      <td>healthy</td>\n",
       "      <td>84.615385</td>\n",
       "      <td></td>\n",
       "      <td>15.384615</td>\n",
       "      <td>healthy</td>\n",
       "    </tr>\n",
       "    <tr>\n",
       "      <th>Terekhova2023_FA07_T0</th>\n",
       "      <td>healthy</td>\n",
       "      <td>healthy</td>\n",
       "      <td>healthy</td>\n",
       "      <td>healthy</td>\n",
       "      <td>healthy</td>\n",
       "      <td>healthy</td>\n",
       "      <td>healthy</td>\n",
       "      <td>healthy</td>\n",
       "      <td>healthy</td>\n",
       "      <td>healthy</td>\n",
       "      <td>healthy</td>\n",
       "      <td>healthy</td>\n",
       "      <td>84.615385</td>\n",
       "      <td></td>\n",
       "      <td>15.384615</td>\n",
       "      <td>healthy</td>\n",
       "    </tr>\n",
       "    <tr>\n",
       "      <th>Terekhova2023_FC04_T0</th>\n",
       "      <td>healthy</td>\n",
       "      <td>healthy</td>\n",
       "      <td>healthy</td>\n",
       "      <td>healthy</td>\n",
       "      <td>healthy</td>\n",
       "      <td>healthy</td>\n",
       "      <td>healthy</td>\n",
       "      <td>healthy</td>\n",
       "      <td>healthy</td>\n",
       "      <td>healthy</td>\n",
       "      <td>healthy</td>\n",
       "      <td>healthy</td>\n",
       "      <td>84.615385</td>\n",
       "      <td></td>\n",
       "      <td>15.384615</td>\n",
       "      <td>healthy</td>\n",
       "    </tr>\n",
       "    <tr>\n",
       "      <th>Terekhova2023_FD01_T0</th>\n",
       "      <td>healthy</td>\n",
       "      <td>healthy</td>\n",
       "      <td>healthy</td>\n",
       "      <td>healthy</td>\n",
       "      <td>healthy</td>\n",
       "      <td>healthy</td>\n",
       "      <td>healthy</td>\n",
       "      <td>healthy</td>\n",
       "      <td>healthy</td>\n",
       "      <td>healthy</td>\n",
       "      <td>healthy</td>\n",
       "      <td>healthy</td>\n",
       "      <td>84.615385</td>\n",
       "      <td></td>\n",
       "      <td>15.384615</td>\n",
       "      <td>healthy</td>\n",
       "    </tr>\n",
       "    <tr>\n",
       "      <th>Terekhova2023_FE05_T0</th>\n",
       "      <td>healthy</td>\n",
       "      <td>healthy</td>\n",
       "      <td>healthy</td>\n",
       "      <td>healthy</td>\n",
       "      <td>healthy</td>\n",
       "      <td>healthy</td>\n",
       "      <td>healthy</td>\n",
       "      <td>healthy</td>\n",
       "      <td>healthy</td>\n",
       "      <td>healthy</td>\n",
       "      <td>healthy</td>\n",
       "      <td>healthy</td>\n",
       "      <td>84.615385</td>\n",
       "      <td></td>\n",
       "      <td>15.384615</td>\n",
       "      <td>healthy</td>\n",
       "    </tr>\n",
       "  </tbody>\n",
       "</table>\n",
       "<p>144 rows × 16 columns</p>\n",
       "</div>"
      ],
      "text/plain": [
       "                      B_prediction DC_prediction ILC_prediction  \\\n",
       "sampleID                                                          \n",
       "COMBAT2022_G05073_T0           SLE           SLE            SLE   \n",
       "COMBAT2022_G05097_T0           SLE         COVID            SLE   \n",
       "COMBAT2022_G05145_T0       healthy       healthy        healthy   \n",
       "COMBAT2022_N00021_T0           SLE           SLE        healthy   \n",
       "COMBAT2022_N00025_T0           SLE           NaN        healthy   \n",
       "...                            ...           ...            ...   \n",
       "Terekhova2023_E19_T0       healthy       healthy        healthy   \n",
       "Terekhova2023_FA07_T0      healthy       healthy        healthy   \n",
       "Terekhova2023_FC04_T0      healthy       healthy        healthy   \n",
       "Terekhova2023_FD01_T0      healthy       healthy        healthy   \n",
       "Terekhova2023_FE05_T0      healthy       healthy        healthy   \n",
       "\n",
       "                      Mono_prediction Plasma_prediction  \\\n",
       "sampleID                                                  \n",
       "COMBAT2022_G05073_T0            COVID             COVID   \n",
       "COMBAT2022_G05097_T0            COVID             COVID   \n",
       "COMBAT2022_G05145_T0            COVID               flu   \n",
       "COMBAT2022_N00021_T0           sepsis             COVID   \n",
       "COMBAT2022_N00025_T0           sepsis             COVID   \n",
       "...                               ...               ...   \n",
       "Terekhova2023_E19_T0          healthy           healthy   \n",
       "Terekhova2023_FA07_T0         healthy           healthy   \n",
       "Terekhova2023_FC04_T0         healthy           healthy   \n",
       "Terekhova2023_FD01_T0         healthy           healthy   \n",
       "Terekhova2023_FE05_T0         healthy           healthy   \n",
       "\n",
       "                      T_CD4_Naive_prediction T_CD4_NonNaive_prediction  \\\n",
       "sampleID                                                                 \n",
       "COMBAT2022_G05073_T0                   COVID                     COVID   \n",
       "COMBAT2022_G05097_T0                   COVID                       SLE   \n",
       "COMBAT2022_G05145_T0                   COVID                     COVID   \n",
       "COMBAT2022_N00021_T0                     flu                       flu   \n",
       "COMBAT2022_N00025_T0                 healthy                   healthy   \n",
       "...                                      ...                       ...   \n",
       "Terekhova2023_E19_T0                 healthy                   healthy   \n",
       "Terekhova2023_FA07_T0                healthy                   healthy   \n",
       "Terekhova2023_FC04_T0                healthy                   healthy   \n",
       "Terekhova2023_FD01_T0                healthy                   healthy   \n",
       "Terekhova2023_FE05_T0                healthy                   healthy   \n",
       "\n",
       "                      T_CD8_Naive_prediction T_CD8_NonNaive_prediction  \\\n",
       "sampleID                                                                 \n",
       "COMBAT2022_G05073_T0                   COVID                     COVID   \n",
       "COMBAT2022_G05097_T0                   COVID                       SLE   \n",
       "COMBAT2022_G05145_T0                   COVID                     COVID   \n",
       "COMBAT2022_N00021_T0                  sepsis                   healthy   \n",
       "COMBAT2022_N00025_T0                 healthy                       flu   \n",
       "...                                      ...                       ...   \n",
       "Terekhova2023_E19_T0                 healthy                   healthy   \n",
       "Terekhova2023_FA07_T0                healthy                   healthy   \n",
       "Terekhova2023_FC04_T0                healthy                   healthy   \n",
       "Terekhova2023_FD01_T0                healthy                   healthy   \n",
       "Terekhova2023_FE05_T0                healthy                   healthy   \n",
       "\n",
       "                      UTC_prediction pDC_prediction firstChoice  \\\n",
       "sampleID                                                          \n",
       "COMBAT2022_G05073_T0         healthy        healthy       COVID   \n",
       "COMBAT2022_G05097_T0         healthy          COVID       COVID   \n",
       "COMBAT2022_G05145_T0             SLE        healthy       COVID   \n",
       "COMBAT2022_N00021_T0          sepsis         sepsis      sepsis   \n",
       "COMBAT2022_N00025_T0          sepsis            NaN     healthy   \n",
       "...                              ...            ...         ...   \n",
       "Terekhova2023_E19_T0         healthy        healthy     healthy   \n",
       "Terekhova2023_FA07_T0        healthy        healthy     healthy   \n",
       "Terekhova2023_FC04_T0        healthy        healthy     healthy   \n",
       "Terekhova2023_FD01_T0        healthy        healthy     healthy   \n",
       "Terekhova2023_FE05_T0        healthy        healthy     healthy   \n",
       "\n",
       "                       firstChoice_perc secondChoice  secondChoice_perc  \\\n",
       "sampleID                                                                  \n",
       "COMBAT2022_G05073_T0          46.153846          SLE          23.076923   \n",
       "COMBAT2022_G05097_T0          46.153846          SLE          30.769231   \n",
       "COMBAT2022_G05145_T0          38.461538      healthy          30.769231   \n",
       "COMBAT2022_N00021_T0          30.769231          SLE          15.384615   \n",
       "COMBAT2022_N00025_T0          36.363636       sepsis          18.181818   \n",
       "...                                 ...          ...                ...   \n",
       "Terekhova2023_E19_T0          84.615385                       15.384615   \n",
       "Terekhova2023_FA07_T0         84.615385                       15.384615   \n",
       "Terekhova2023_FC04_T0         84.615385                       15.384615   \n",
       "Terekhova2023_FD01_T0         84.615385                       15.384615   \n",
       "Terekhova2023_FE05_T0         84.615385                       15.384615   \n",
       "\n",
       "                      disease_true  \n",
       "sampleID                            \n",
       "COMBAT2022_G05073_T0         COVID  \n",
       "COMBAT2022_G05097_T0         COVID  \n",
       "COMBAT2022_G05145_T0         COVID  \n",
       "COMBAT2022_N00021_T0        sepsis  \n",
       "COMBAT2022_N00025_T0        sepsis  \n",
       "...                            ...  \n",
       "Terekhova2023_E19_T0       healthy  \n",
       "Terekhova2023_FA07_T0      healthy  \n",
       "Terekhova2023_FC04_T0      healthy  \n",
       "Terekhova2023_FD01_T0      healthy  \n",
       "Terekhova2023_FE05_T0      healthy  \n",
       "\n",
       "[144 rows x 16 columns]"
      ]
     },
     "execution_count": 34,
     "metadata": {},
     "output_type": "execute_result"
    }
   ],
   "source": [
    "res"
   ]
  }
 ],
 "metadata": {
  "kernelspec": {
   "display_name": "Python 3 (ipykernel)",
   "language": "python",
   "name": "python3"
  },
  "language_info": {
   "codemirror_mode": {
    "name": "ipython",
    "version": 3
   },
   "file_extension": ".py",
   "mimetype": "text/x-python",
   "name": "python",
   "nbconvert_exporter": "python",
   "pygments_lexer": "ipython3",
   "version": "3.10.13"
  },
  "papermill": {
   "default_parameters": {},
   "duration": 10452.388184,
   "end_time": "2024-06-11T11:32:11.679007",
   "environment_variables": {},
   "exception": null,
   "input_path": "a02_queryDatasets_and_labelTransfer.ipynb",
   "output_path": "executed_notebooks/a02_queryDatasets_and_labelTransfer_VALIDATION_nPC100_Batch_chemistry.ipynb",
   "parameters": {
    "batchKeys": "chemistry",
    "nPC": 100,
    "queryDataset": "VALIDATION"
   },
   "start_time": "2024-06-11T08:37:59.290823",
   "version": "2.5.0"
  }
 },
 "nbformat": 4,
 "nbformat_minor": 5
}