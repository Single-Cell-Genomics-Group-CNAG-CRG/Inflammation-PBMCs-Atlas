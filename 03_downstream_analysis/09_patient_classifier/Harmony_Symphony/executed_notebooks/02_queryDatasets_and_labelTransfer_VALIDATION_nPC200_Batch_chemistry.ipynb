{
 "cells": [
  {
   "cell_type": "code",
   "execution_count": 1,
   "id": "3eeff6f0",
   "metadata": {
    "execution": {
     "iopub.execute_input": "2024-06-12T08:17:15.835309Z",
     "iopub.status.busy": "2024-06-12T08:17:15.834987Z",
     "iopub.status.idle": "2024-06-12T08:17:15.840359Z",
     "shell.execute_reply": "2024-06-12T08:17:15.839996Z"
    },
    "papermill": {
     "duration": 0.016501,
     "end_time": "2024-06-12T08:17:15.841351",
     "exception": false,
     "start_time": "2024-06-12T08:17:15.824850",
     "status": "completed"
    },
    "tags": [
     "injected-parameters"
    ]
   },
   "outputs": [],
   "source": [
    "# Parameters\n",
    "nPC = 200\n",
    "batchKeys = \"chemistry\"\n",
    "queryDataset = \"VALIDATION\"\n"
   ]
  },
  {
   "cell_type": "raw",
   "id": "2c824816-2fbb-43a3-9807-722d9facfef3",
   "metadata": {
    "execution": {
     "iopub.execute_input": "2024-06-11T07:53:10.263964Z",
     "iopub.status.busy": "2024-06-11T07:53:10.263681Z",
     "iopub.status.idle": "2024-06-11T07:53:10.269000Z",
     "shell.execute_reply": "2024-06-11T07:53:10.268634Z",
     "shell.execute_reply.started": "2024-06-11T07:53:10.263945Z"
    },
    "papermill": {
     "duration": 0.007941,
     "end_time": "2024-06-12T08:17:15.857590",
     "exception": false,
     "start_time": "2024-06-12T08:17:15.849649",
     "status": "completed"
    },
    "tags": []
   },
   "source": [
    "nPC = 100\n",
    "batchKeys = 'libraryID,chemistry,sex,binned_age'\n",
    "queryDataset = 'VALIDATION'"
   ]
  },
  {
   "cell_type": "code",
   "execution_count": 2,
   "id": "3044cc6c-ce26-4de6-8b7b-f8f9af090921",
   "metadata": {
    "execution": {
     "iopub.execute_input": "2024-06-12T08:17:15.874793Z",
     "iopub.status.busy": "2024-06-12T08:17:15.874469Z",
     "iopub.status.idle": "2024-06-12T08:17:15.877541Z",
     "shell.execute_reply": "2024-06-12T08:17:15.877182Z"
    },
    "papermill": {
     "duration": 0.012863,
     "end_time": "2024-06-12T08:17:15.878417",
     "exception": false,
     "start_time": "2024-06-12T08:17:15.865554",
     "status": "completed"
    },
    "tags": []
   },
   "outputs": [
    {
     "name": "stdout",
     "output_type": "stream",
     "text": [
      "nPC = 200\n",
      "batchKeys = chemistry\n",
      "queryDataset = VALIDATION\n"
     ]
    }
   ],
   "source": [
    "for v in ['nPC','batchKeys', 'queryDataset']:\n",
    "    if v in locals() or v in globals():\n",
    "        print(f\"{v} = {eval(v)}\")\n",
    "    else:\n",
    "        raise Exception(f\"{v} not specified\")"
   ]
  },
  {
   "cell_type": "code",
   "execution_count": 3,
   "id": "a9a81822-a7c1-4b2c-9419-c1df388c8d1f",
   "metadata": {
    "execution": {
     "iopub.execute_input": "2024-06-12T08:17:15.895220Z",
     "iopub.status.busy": "2024-06-12T08:17:15.894903Z",
     "iopub.status.idle": "2024-06-12T08:17:33.465933Z",
     "shell.execute_reply": "2024-06-12T08:17:33.465366Z"
    },
    "papermill": {
     "duration": 17.581061,
     "end_time": "2024-06-12T08:17:33.467411",
     "exception": false,
     "start_time": "2024-06-12T08:17:15.886350",
     "status": "completed"
    },
    "tags": []
   },
   "outputs": [],
   "source": [
    "import os\n",
    "\n",
    "import scanpy as sc\n",
    "import pandas as pd\n",
    "import numpy as np\n",
    "\n",
    "import symphonypy as sp\n",
    "\n",
    "from sklearn.metrics import balanced_accuracy_score\n",
    "\n",
    "from pyprojroot import here\n",
    "\n",
    "random_seed = 42"
   ]
  },
  {
   "cell_type": "markdown",
   "id": "74a87fda-280f-4a4c-88bb-c84dfbaf3fbd",
   "metadata": {
    "papermill": {
     "duration": 0.008237,
     "end_time": "2024-06-12T08:17:33.484370",
     "exception": false,
     "start_time": "2024-06-12T08:17:33.476133",
     "status": "completed"
    },
    "tags": []
   },
   "source": [
    "### Defining functions"
   ]
  },
  {
   "cell_type": "code",
   "execution_count": 4,
   "id": "9b47d61d-d9b8-42d0-91f2-4e3b87ea4cbc",
   "metadata": {
    "execution": {
     "iopub.execute_input": "2024-06-12T08:17:33.501066Z",
     "iopub.status.busy": "2024-06-12T08:17:33.500727Z",
     "iopub.status.idle": "2024-06-12T08:17:33.513223Z",
     "shell.execute_reply": "2024-06-12T08:17:33.512849Z"
    },
    "papermill": {
     "duration": 0.022114,
     "end_time": "2024-06-12T08:17:33.514192",
     "exception": false,
     "start_time": "2024-06-12T08:17:33.492078",
     "status": "completed"
    },
    "tags": []
   },
   "outputs": [],
   "source": [
    "def train_classifier(adataTrain = None, cell_type_col = None, y_true_col = None, max_iter=10000,random_state = 25, model = 'LinearSVC'):\n",
    "    \n",
    "    import pandas as pd\n",
    "    from tqdm import tqdm\n",
    "    from sklearn.svm import LinearSVC, SVC\n",
    "\n",
    "    from sklearn.metrics import balanced_accuracy_score\n",
    "    \n",
    "    clfList = dict()\n",
    "    trainAccuracy = []\n",
    "    for ct_ in tqdm(adataTrain.obs[cell_type_col].unique()):\n",
    "        clfList[ct_] = dict()\n",
    "        X_i = adataTrain.X[adataTrain.obs[cell_type_col] == ct_]\n",
    "        y_true_i = adataTrain.obs[y_true_col][adataTrain.obs[cell_type_col] == ct_]\n",
    "\n",
    "        if mode == 'LinearSVC':\n",
    "            clfList[ct_]['clf'] = LinearSVC(max_iter=max_iter, dual = True, random_state = random_state).fit(X_i, y_true_i)\n",
    "        elif mode == 'SVC':\n",
    "            clfList[ct_]['clf'] = SVC(max_iter=max_iter, random_state = random_state).fit(X_i, y_true_i)\n",
    "            \n",
    "        clfList[ct_]['bAcc'] = balanced_accuracy_score(y_true = y_true_i, y_pred = clfList[ct_]['clf'].predict(X_i))\n",
    "        clfList[ct_]['nObs'] = len(y_true_i)\n",
    "\n",
    "    return clfList\n",
    "    \n",
    "def vote_disease(adataTest = None, clfList = None, cell_type_col = None, sample_id_col = None):\n",
    "\n",
    "    from tqdm import tqdm\n",
    "    import pandas as pd\n",
    "\n",
    "    \n",
    "    \n",
    "    classificationDF = pd.DataFrame()\n",
    "    for ct_ in tqdm(adataTest.obs[cell_type_col].unique()):\n",
    "        X_i = adataTest.X[adataTest.obs[cell_type_col] == ct_]\n",
    "        PID_i = adataTest.obs[sample_id_col][adataTest.obs[cell_type_col] == ct_]\n",
    "        if ct_ not in clfList:\n",
    "            print(f\"{ct_} is missing in training set\")\n",
    "            continue\n",
    "        DF_i = pd.DataFrame.from_dict({\n",
    "            sample_id_col: PID_i,\n",
    "            f\"{ct_}_prediction\": clfList[ct_]['clf'].predict(X_i)\n",
    "        })\n",
    "        if classificationDF.shape[0] == 0:\n",
    "            classificationDF = DF_i\n",
    "        else:\n",
    "            classificationDF = classificationDF.merge(DF_i, how='outer', on = sample_id_col)\n",
    "    classificationDF['firstChoice'] = ''\n",
    "    classificationDF['firstChoice_perc'] = np.nan\n",
    "    classificationDF['secondChoice'] = ''\n",
    "    classificationDF['secondChoice_perc'] = np.nan\n",
    "    \n",
    "    for i in tqdm(range(classificationDF.shape[0])):\n",
    "        vote_i = classificationDF.loc[i,classificationDF.columns !=sample_id_col].value_counts()\n",
    "        vote_i /= (vote_i.sum() / 100)\n",
    "        res_i = vote_i.sort_values(ascending=False)\n",
    "        classificationDF.loc[i,'firstChoice'] = res_i.index[0]\n",
    "        classificationDF.loc[i,'firstChoice_perc'] = res_i.iloc[0]\n",
    "        if res_i.shape[0] > 1:\n",
    "            classificationDF.loc[i,'secondChoice'] = res_i.index[1]\n",
    "            classificationDF.loc[i,'secondChoice_perc'] = res_i.iloc[1]\n",
    "\n",
    "    return classificationDF\n",
    "    \n",
    "def aggregating_features(Z = None, obsDF = None, mode = 'mean', obs_names_col = [], min_observation = 0):\n",
    "    Zdf = pd.DataFrame(Z)\n",
    "    for c in obsDF.columns:\n",
    "        Zdf[c] = obsDF[c].tolist()\n",
    "\n",
    "    grpDF = Zdf.groupby(obsDF.columns.tolist(), observed = True)\n",
    "\n",
    "    nCount = grpDF.size().to_frame('n_observation')\n",
    "    \n",
    "    if mode in ['mean','avarage']:\n",
    "        Zaggr = grpDF.mean()\n",
    "    elif mode == 'sum':\n",
    "        Zaggr = grpDF.sum()\n",
    "    else:\n",
    "        raise ValueError(f\"mode {mode} not supported. Available mode are 'mean' or 'sum'\")\n",
    "\n",
    "    grpObs = pd.DataFrame(Zaggr.index.tolist(), columns=obsDF.columns.tolist()).merge(pd.DataFrame(nCount).reset_index(), on = obsDF.columns.tolist())\n",
    "\n",
    "    if len(obs_names_col) == 0:\n",
    "        grpAdata  = sc.AnnData(X = np.array(Zaggr), obs = grpObs)\n",
    "    elif all([c in obsDF.columns.tolist() for c in obs_names_col]):\n",
    "        grpObs.index = grpObs[obs_names_col].apply(lambda row: '_'.join(row.values.astype(str)), axis=1)\n",
    "        grpAdata  = sc.AnnData(X = np.array(Zaggr), obs = grpObs)\n",
    "    else:\n",
    "        raise ValueError(f\"Impossible to use {obs_names_col} as index. It's not present in obsDF\")\n",
    "\n",
    "    if min_observation > 0:\n",
    "        grpAdata = grpAdata[grpAdata.obs.n_observation >= min_observation]\n",
    "    return grpAdata"
   ]
  },
  {
   "cell_type": "markdown",
   "id": "bd323da1-8446-4ffc-91ac-c737ce081412",
   "metadata": {
    "papermill": {
     "duration": 0.008039,
     "end_time": "2024-06-12T08:17:33.530388",
     "exception": false,
     "start_time": "2024-06-12T08:17:33.522349",
     "status": "completed"
    },
    "tags": []
   },
   "source": [
    "### Parameters"
   ]
  },
  {
   "cell_type": "code",
   "execution_count": 5,
   "id": "3f81fe70-a960-401d-a05d-9d9199edd620",
   "metadata": {
    "execution": {
     "iopub.execute_input": "2024-06-12T08:17:33.547127Z",
     "iopub.status.busy": "2024-06-12T08:17:33.546962Z",
     "iopub.status.idle": "2024-06-12T08:17:33.551988Z",
     "shell.execute_reply": "2024-06-12T08:17:33.551614Z"
    },
    "papermill": {
     "duration": 0.014383,
     "end_time": "2024-06-12T08:17:33.552903",
     "exception": false,
     "start_time": "2024-06-12T08:17:33.538520",
     "status": "completed"
    },
    "tags": []
   },
   "outputs": [
    {
     "data": {
      "text/plain": [
       "['chemistry']"
      ]
     },
     "execution_count": 5,
     "metadata": {},
     "output_type": "execute_result"
    }
   ],
   "source": [
    "batch_key_query = batchKeys.split(',')\n",
    "batch_key_query"
   ]
  },
  {
   "cell_type": "markdown",
   "id": "008170b2-f7e2-4c59-b434-b682dacf1110",
   "metadata": {
    "papermill": {
     "duration": 0.008207,
     "end_time": "2024-06-12T08:17:33.569019",
     "exception": false,
     "start_time": "2024-06-12T08:17:33.560812",
     "status": "completed"
    },
    "tags": []
   },
   "source": [
    "### Loading dataset"
   ]
  },
  {
   "cell_type": "markdown",
   "id": "c96cf9da-e2ed-4800-903c-316f4805e559",
   "metadata": {
    "papermill": {
     "duration": 0.007992,
     "end_time": "2024-06-12T08:17:33.585345",
     "exception": false,
     "start_time": "2024-06-12T08:17:33.577353",
     "status": "completed"
    },
    "tags": []
   },
   "source": [
    "**Integrated object**"
   ]
  },
  {
   "cell_type": "code",
   "execution_count": 6,
   "id": "8e361302-99f5-48fe-989b-f196e18ae0dd",
   "metadata": {
    "execution": {
     "iopub.execute_input": "2024-06-12T08:17:33.602421Z",
     "iopub.status.busy": "2024-06-12T08:17:33.602261Z",
     "iopub.status.idle": "2024-06-12T08:18:34.459230Z",
     "shell.execute_reply": "2024-06-12T08:18:34.458688Z"
    },
    "papermill": {
     "duration": 60.875021,
     "end_time": "2024-06-12T08:18:34.468871",
     "exception": false,
     "start_time": "2024-06-12T08:17:33.593850",
     "status": "completed"
    },
    "tags": []
   },
   "outputs": [
    {
     "data": {
      "text/plain": [
       "AnnData object with n_obs × n_vars = 4435922 × 8253 backed at '/scratch_isilon/groups/singlecell/shared/projects/Inflammation-PBMCs-Atlas/03_downstream_analysis/08_PatientClassifier/Harmony_Symphony/results/01_MAIN_HarmonyIntegrated_200nPC_Batch_chemistry.h5ad'\n",
       "    obs: 'studyID', 'libraryID', 'sampleID', 'chemistry', 'disease', 'sex', 'binned_age', 'Level1', 'Level2'\n",
       "    var: 'hgnc_id', 'symbol', 'locus_group', 'HUGO_status', 'highly_variable', 'mean', 'std'\n",
       "    uns: 'harmony', 'log1p', 'pca'\n",
       "    obsm: 'X_pca', 'X_pca_harmony'\n",
       "    varm: 'PCs'"
      ]
     },
     "execution_count": 6,
     "metadata": {},
     "output_type": "execute_result"
    }
   ],
   "source": [
    "adataR = sc.read_h5ad(here(f\"03_downstream_analysis/08_PatientClassifier/Harmony_Symphony/results/01_MAIN_HarmonyIntegrated_{nPC}nPC_Batch_{batchKeys}.h5ad\"), backed='r')\n",
    "adataR"
   ]
  },
  {
   "cell_type": "markdown",
   "id": "7a8289b7-ae48-40bd-a8bf-b8a61d6fea7c",
   "metadata": {
    "papermill": {
     "duration": 0.008796,
     "end_time": "2024-06-12T08:18:34.486709",
     "exception": false,
     "start_time": "2024-06-12T08:18:34.477913",
     "status": "completed"
    },
    "tags": []
   },
   "source": [
    "**Query dataset**"
   ]
  },
  {
   "cell_type": "code",
   "execution_count": 7,
   "id": "f8922a45-9d49-4b6e-be13-48cecafe227d",
   "metadata": {
    "execution": {
     "iopub.execute_input": "2024-06-12T08:18:34.505478Z",
     "iopub.status.busy": "2024-06-12T08:18:34.505287Z",
     "iopub.status.idle": "2024-06-12T08:18:46.880797Z",
     "shell.execute_reply": "2024-06-12T08:18:46.880352Z"
    },
    "papermill": {
     "duration": 12.38608,
     "end_time": "2024-06-12T08:18:46.881864",
     "exception": false,
     "start_time": "2024-06-12T08:18:34.495784",
     "status": "completed"
    },
    "tags": []
   },
   "outputs": [
    {
     "data": {
      "text/plain": [
       "AnnData object with n_obs × n_vars = 849922 × 8253\n",
       "    obs: 'studyID', 'libraryID', 'sampleID', 'chemistry', 'technology', 'disease', 'sex', 'binned_age'\n",
       "    var: 'hgnc_id', 'symbol', 'locus_group', 'HUGO_status'"
      ]
     },
     "execution_count": 7,
     "metadata": {},
     "output_type": "execute_result"
    }
   ],
   "source": [
    "adataQ = sc.read_h5ad(here(f'03_downstream_analysis/02_gene_universe_definition/results/05_{queryDataset}_geneUniverse.h5ad'))\n",
    "adataQ"
   ]
  },
  {
   "cell_type": "markdown",
   "id": "0be9f746-fd30-4f97-9ec7-1a1e1f831776",
   "metadata": {
    "papermill": {
     "duration": 0.008443,
     "end_time": "2024-06-12T08:18:46.899822",
     "exception": false,
     "start_time": "2024-06-12T08:18:46.891379",
     "status": "completed"
    },
    "tags": []
   },
   "source": [
    "### Preprocessing"
   ]
  },
  {
   "cell_type": "code",
   "execution_count": 8,
   "id": "db7e0e86-4cfc-44f7-a6f1-1fa3795ad5a3",
   "metadata": {
    "execution": {
     "iopub.execute_input": "2024-06-12T08:18:46.917536Z",
     "iopub.status.busy": "2024-06-12T08:18:46.917361Z",
     "iopub.status.idle": "2024-06-12T08:19:20.894763Z",
     "shell.execute_reply": "2024-06-12T08:19:20.894186Z"
    },
    "papermill": {
     "duration": 33.988243,
     "end_time": "2024-06-12T08:19:20.896526",
     "exception": false,
     "start_time": "2024-06-12T08:18:46.908283",
     "status": "completed"
    },
    "tags": []
   },
   "outputs": [],
   "source": [
    "sc.pp.normalize_total(adataQ, target_sum=1e4)\n",
    "sc.pp.log1p(adataQ)"
   ]
  },
  {
   "cell_type": "markdown",
   "id": "3109c878-d7d1-4372-9462-0ccdb78070dc",
   "metadata": {
    "papermill": {
     "duration": 0.009304,
     "end_time": "2024-06-12T08:19:20.914579",
     "exception": false,
     "start_time": "2024-06-12T08:19:20.905275",
     "status": "completed"
    },
    "tags": []
   },
   "source": [
    "### Projection with Symphony"
   ]
  },
  {
   "cell_type": "code",
   "execution_count": 9,
   "id": "d2e7eed3-c2e1-4031-a49f-89e32fe17130",
   "metadata": {
    "execution": {
     "iopub.execute_input": "2024-06-12T08:19:20.932558Z",
     "iopub.status.busy": "2024-06-12T08:19:20.932393Z",
     "iopub.status.idle": "2024-06-12T08:25:32.915791Z",
     "shell.execute_reply": "2024-06-12T08:25:32.915072Z"
    },
    "papermill": {
     "duration": 371.993921,
     "end_time": "2024-06-12T08:25:32.917285",
     "exception": false,
     "start_time": "2024-06-12T08:19:20.923364",
     "status": "completed"
    },
    "tags": []
   },
   "outputs": [],
   "source": [
    "sp.tl.map_embedding(adataQ, adataR, key=batch_key_query)"
   ]
  },
  {
   "cell_type": "raw",
   "id": "9205924b-4e03-45d1-92af-b95346636a03",
   "metadata": {
    "papermill": {
     "duration": 0.009436,
     "end_time": "2024-06-12T08:25:32.940738",
     "exception": false,
     "start_time": "2024-06-12T08:25:32.931302",
     "status": "completed"
    },
    "tags": []
   },
   "source": [
    "sp.tl.per_cell_confidence(adataQ, adataR)"
   ]
  },
  {
   "cell_type": "raw",
   "id": "46a6bb72-921f-4385-bac9-4c6b138b00f0",
   "metadata": {
    "papermill": {
     "duration": 0.021684,
     "end_time": "2024-06-12T08:25:32.971761",
     "exception": false,
     "start_time": "2024-06-12T08:25:32.950077",
     "status": "completed"
    },
    "tags": []
   },
   "source": [
    "adataQ.obs.symphony_per_cell_dist.hist(bins=100)"
   ]
  },
  {
   "cell_type": "code",
   "execution_count": 10,
   "id": "2ee17ce6-f8c5-4a1e-b93e-9fc70ab7edb9",
   "metadata": {
    "execution": {
     "iopub.execute_input": "2024-06-12T08:25:32.995798Z",
     "iopub.status.busy": "2024-06-12T08:25:32.995601Z",
     "iopub.status.idle": "2024-06-12T08:25:32.999563Z",
     "shell.execute_reply": "2024-06-12T08:25:32.999213Z"
    },
    "papermill": {
     "duration": 0.017193,
     "end_time": "2024-06-12T08:25:33.000445",
     "exception": false,
     "start_time": "2024-06-12T08:25:32.983252",
     "status": "completed"
    },
    "tags": []
   },
   "outputs": [
    {
     "data": {
      "text/plain": [
       "AnnData object with n_obs × n_vars = 849922 × 8253\n",
       "    obs: 'studyID', 'libraryID', 'sampleID', 'chemistry', 'technology', 'disease', 'sex', 'binned_age'\n",
       "    var: 'hgnc_id', 'symbol', 'locus_group', 'HUGO_status'\n",
       "    uns: 'log1p'\n",
       "    obsm: 'X_pca_reference', 'X_pca_harmony', 'X_pca_harmony_symphony_R'"
      ]
     },
     "execution_count": 10,
     "metadata": {},
     "output_type": "execute_result"
    }
   ],
   "source": [
    "adataQ"
   ]
  },
  {
   "cell_type": "markdown",
   "id": "51e25a69-c8f9-43c8-b50c-e2b4aa826a6b",
   "metadata": {
    "papermill": {
     "duration": 0.013048,
     "end_time": "2024-06-12T08:25:33.025575",
     "exception": false,
     "start_time": "2024-06-12T08:25:33.012527",
     "status": "completed"
    },
    "tags": []
   },
   "source": [
    "### Label transfer"
   ]
  },
  {
   "cell_type": "code",
   "execution_count": 11,
   "id": "81d61d37-fdfa-4071-aace-eff99e9d6787",
   "metadata": {
    "execution": {
     "iopub.execute_input": "2024-06-12T08:25:33.077208Z",
     "iopub.status.busy": "2024-06-12T08:25:33.076895Z",
     "iopub.status.idle": "2024-06-12T08:25:33.078966Z",
     "shell.execute_reply": "2024-06-12T08:25:33.078615Z"
    },
    "papermill": {
     "duration": 0.041728,
     "end_time": "2024-06-12T08:25:33.079847",
     "exception": false,
     "start_time": "2024-06-12T08:25:33.038119",
     "status": "completed"
    },
    "tags": []
   },
   "outputs": [],
   "source": [
    "# common embedded space -> adataQ.obsm['X_pca_harmony']"
   ]
  },
  {
   "cell_type": "markdown",
   "id": "9482b233-08d7-4ed8-ad0f-729f59e05024",
   "metadata": {
    "papermill": {
     "duration": 0.010096,
     "end_time": "2024-06-12T08:25:33.099261",
     "exception": false,
     "start_time": "2024-06-12T08:25:33.089165",
     "status": "completed"
    },
    "tags": []
   },
   "source": [
    "**Level1 Annotation**"
   ]
  },
  {
   "cell_type": "code",
   "execution_count": 12,
   "id": "1016b8d2-0480-409a-aac4-1e521a1397b0",
   "metadata": {
    "execution": {
     "iopub.execute_input": "2024-06-12T08:25:33.126910Z",
     "iopub.status.busy": "2024-06-12T08:25:33.126758Z",
     "iopub.status.idle": "2024-06-12T09:28:32.370670Z",
     "shell.execute_reply": "2024-06-12T09:28:32.370024Z"
    },
    "papermill": {
     "duration": 3779.256421,
     "end_time": "2024-06-12T09:28:32.372205",
     "exception": false,
     "start_time": "2024-06-12T08:25:33.115784",
     "status": "completed"
    },
    "tags": []
   },
   "outputs": [],
   "source": [
    "sp.tl.transfer_labels_kNN(adataQ, adataR, 'Level1', ref_basis = 'X_pca_harmony', query_basis = 'X_pca_harmony')"
   ]
  },
  {
   "cell_type": "markdown",
   "id": "69eb76ae-aa03-4807-b680-a7423fb55458",
   "metadata": {
    "papermill": {
     "duration": 0.008814,
     "end_time": "2024-06-12T09:28:32.406028",
     "exception": false,
     "start_time": "2024-06-12T09:28:32.397214",
     "status": "completed"
    },
    "tags": []
   },
   "source": [
    "**Disease**"
   ]
  },
  {
   "cell_type": "code",
   "execution_count": 13,
   "id": "20429eca-9c43-4db8-b1da-94434c4c99c2",
   "metadata": {
    "execution": {
     "iopub.execute_input": "2024-06-12T09:28:32.428150Z",
     "iopub.status.busy": "2024-06-12T09:28:32.427393Z",
     "iopub.status.idle": "2024-06-12T09:28:32.431377Z",
     "shell.execute_reply": "2024-06-12T09:28:32.430995Z"
    },
    "papermill": {
     "duration": 0.015505,
     "end_time": "2024-06-12T09:28:32.432318",
     "exception": false,
     "start_time": "2024-06-12T09:28:32.416813",
     "status": "completed"
    },
    "tags": []
   },
   "outputs": [],
   "source": [
    "adataQ.obs.rename({'disease':'disease_true'}, axis=1, inplace=True)"
   ]
  },
  {
   "cell_type": "code",
   "execution_count": 14,
   "id": "7b72f7c3-af64-4a22-ab6b-8d5e5dbd4af3",
   "metadata": {
    "execution": {
     "iopub.execute_input": "2024-06-12T09:28:32.453116Z",
     "iopub.status.busy": "2024-06-12T09:28:32.452951Z",
     "iopub.status.idle": "2024-06-12T10:32:58.148810Z",
     "shell.execute_reply": "2024-06-12T10:32:58.148041Z"
    },
    "papermill": {
     "duration": 3865.707455,
     "end_time": "2024-06-12T10:32:58.150439",
     "exception": false,
     "start_time": "2024-06-12T09:28:32.442984",
     "status": "completed"
    },
    "tags": []
   },
   "outputs": [],
   "source": [
    "sp.tl.transfer_labels_kNN(adataQ, adataR, 'disease', ref_basis = 'X_pca_harmony', query_basis = 'X_pca_harmony')"
   ]
  },
  {
   "cell_type": "code",
   "execution_count": 15,
   "id": "2e1ad1d0-8a52-46a8-ae97-15dc2984f08e",
   "metadata": {
    "execution": {
     "iopub.execute_input": "2024-06-12T10:32:58.182616Z",
     "iopub.status.busy": "2024-06-12T10:32:58.182302Z",
     "iopub.status.idle": "2024-06-12T10:32:58.186093Z",
     "shell.execute_reply": "2024-06-12T10:32:58.185692Z"
    },
    "papermill": {
     "duration": 0.016007,
     "end_time": "2024-06-12T10:32:58.186990",
     "exception": false,
     "start_time": "2024-06-12T10:32:58.170983",
     "status": "completed"
    },
    "tags": []
   },
   "outputs": [],
   "source": [
    "adataQ.obs.rename({'disease':'disease_pred'}, axis=1, inplace=True)"
   ]
  },
  {
   "cell_type": "code",
   "execution_count": 16,
   "id": "0eb1c5d7-97fd-4c42-9b7b-8cddd8e22987",
   "metadata": {
    "execution": {
     "iopub.execute_input": "2024-06-12T10:32:58.249851Z",
     "iopub.status.busy": "2024-06-12T10:32:58.249541Z",
     "iopub.status.idle": "2024-06-12T10:33:00.758216Z",
     "shell.execute_reply": "2024-06-12T10:33:00.757727Z"
    },
    "papermill": {
     "duration": 2.561997,
     "end_time": "2024-06-12T10:33:00.759242",
     "exception": false,
     "start_time": "2024-06-12T10:32:58.197245",
     "status": "completed"
    },
    "tags": []
   },
   "outputs": [
    {
     "name": "stderr",
     "output_type": "stream",
     "text": [
      "/scratch_isilon/groups/singlecell/shared/conda_env/inflammation_atlas_R1/lib/python3.10/site-packages/sklearn/metrics/_classification.py:2458: UserWarning: y_pred contains classes not in y_true\n",
      "  warnings.warn(\"y_pred contains classes not in y_true\")\n"
     ]
    },
    {
     "data": {
      "text/plain": [
       "0.4122224067531652"
      ]
     },
     "execution_count": 16,
     "metadata": {},
     "output_type": "execute_result"
    }
   ],
   "source": [
    "balanced_accuracy_score(y_true = adataQ.obs.disease_true, y_pred=adataQ.obs.disease_pred)"
   ]
  },
  {
   "cell_type": "code",
   "execution_count": 17,
   "id": "0e4bc21f-ed6a-41d9-8254-1eb2bc58c1a1",
   "metadata": {
    "execution": {
     "iopub.execute_input": "2024-06-12T10:33:00.783311Z",
     "iopub.status.busy": "2024-06-12T10:33:00.782925Z",
     "iopub.status.idle": "2024-06-12T10:33:00.805699Z",
     "shell.execute_reply": "2024-06-12T10:33:00.805335Z"
    },
    "papermill": {
     "duration": 0.037175,
     "end_time": "2024-06-12T10:33:00.806614",
     "exception": false,
     "start_time": "2024-06-12T10:33:00.769439",
     "status": "completed"
    },
    "tags": []
   },
   "outputs": [
    {
     "data": {
      "text/html": [
       "<div>\n",
       "<style scoped>\n",
       "    .dataframe tbody tr th:only-of-type {\n",
       "        vertical-align: middle;\n",
       "    }\n",
       "\n",
       "    .dataframe tbody tr th {\n",
       "        vertical-align: top;\n",
       "    }\n",
       "\n",
       "    .dataframe thead th {\n",
       "        text-align: right;\n",
       "    }\n",
       "</style>\n",
       "<table border=\"1\" class=\"dataframe\">\n",
       "  <thead>\n",
       "    <tr style=\"text-align: right;\">\n",
       "      <th></th>\n",
       "      <th>studyID</th>\n",
       "      <th>libraryID</th>\n",
       "      <th>sampleID</th>\n",
       "      <th>chemistry</th>\n",
       "      <th>technology</th>\n",
       "      <th>disease_true</th>\n",
       "      <th>sex</th>\n",
       "      <th>binned_age</th>\n",
       "      <th>Level1</th>\n",
       "      <th>disease_pred</th>\n",
       "    </tr>\n",
       "    <tr>\n",
       "      <th>cellID</th>\n",
       "      <th></th>\n",
       "      <th></th>\n",
       "      <th></th>\n",
       "      <th></th>\n",
       "      <th></th>\n",
       "      <th></th>\n",
       "      <th></th>\n",
       "      <th></th>\n",
       "      <th></th>\n",
       "      <th></th>\n",
       "    </tr>\n",
       "  </thead>\n",
       "  <tbody>\n",
       "    <tr>\n",
       "      <th>SCGT00_L051_I51.3P_T0_AAACCCACAATCAGCT</th>\n",
       "      <td>SCGT00</td>\n",
       "      <td>SCGT00_L051</td>\n",
       "      <td>SCGT00_I51.3P_T0</td>\n",
       "      <td>3_GEX_V3</td>\n",
       "      <td>3_GEX_V3_GenoHashed</td>\n",
       "      <td>RA</td>\n",
       "      <td>female</td>\n",
       "      <td>41-50</td>\n",
       "      <td>ILC</td>\n",
       "      <td>RA</td>\n",
       "    </tr>\n",
       "    <tr>\n",
       "      <th>SCGT00_L051_I51.3P_T0_AAACCCAGTACAATAG</th>\n",
       "      <td>SCGT00</td>\n",
       "      <td>SCGT00_L051</td>\n",
       "      <td>SCGT00_I51.3P_T0</td>\n",
       "      <td>3_GEX_V3</td>\n",
       "      <td>3_GEX_V3_GenoHashed</td>\n",
       "      <td>RA</td>\n",
       "      <td>female</td>\n",
       "      <td>41-50</td>\n",
       "      <td>Mono</td>\n",
       "      <td>SLE</td>\n",
       "    </tr>\n",
       "    <tr>\n",
       "      <th>SCGT00_L051_I51.3P_T0_AAACGAACAACAGATA</th>\n",
       "      <td>SCGT00</td>\n",
       "      <td>SCGT00_L051</td>\n",
       "      <td>SCGT00_I51.3P_T0</td>\n",
       "      <td>3_GEX_V3</td>\n",
       "      <td>3_GEX_V3_GenoHashed</td>\n",
       "      <td>RA</td>\n",
       "      <td>female</td>\n",
       "      <td>41-50</td>\n",
       "      <td>ILC</td>\n",
       "      <td>RA</td>\n",
       "    </tr>\n",
       "    <tr>\n",
       "      <th>SCGT00_L051_I51.3P_T0_AAACGAAGTGATACCT</th>\n",
       "      <td>SCGT00</td>\n",
       "      <td>SCGT00_L051</td>\n",
       "      <td>SCGT00_I51.3P_T0</td>\n",
       "      <td>3_GEX_V3</td>\n",
       "      <td>3_GEX_V3_GenoHashed</td>\n",
       "      <td>RA</td>\n",
       "      <td>female</td>\n",
       "      <td>41-50</td>\n",
       "      <td>ILC</td>\n",
       "      <td>RA</td>\n",
       "    </tr>\n",
       "    <tr>\n",
       "      <th>SCGT00_L051_I51.3P_T0_AAACGAAGTTCTAACG</th>\n",
       "      <td>SCGT00</td>\n",
       "      <td>SCGT00_L051</td>\n",
       "      <td>SCGT00_I51.3P_T0</td>\n",
       "      <td>3_GEX_V3</td>\n",
       "      <td>3_GEX_V3_GenoHashed</td>\n",
       "      <td>RA</td>\n",
       "      <td>female</td>\n",
       "      <td>41-50</td>\n",
       "      <td>T_CD8_NonNaive</td>\n",
       "      <td>SLE</td>\n",
       "    </tr>\n",
       "    <tr>\n",
       "      <th>...</th>\n",
       "      <td>...</td>\n",
       "      <td>...</td>\n",
       "      <td>...</td>\n",
       "      <td>...</td>\n",
       "      <td>...</td>\n",
       "      <td>...</td>\n",
       "      <td>...</td>\n",
       "      <td>...</td>\n",
       "      <td>...</td>\n",
       "      <td>...</td>\n",
       "    </tr>\n",
       "    <tr>\n",
       "      <th>Ren2021_L065_PS052_T0_TTTGTCAAGTGTACCT</th>\n",
       "      <td>Ren2021</td>\n",
       "      <td>Ren2021_L065</td>\n",
       "      <td>Ren2021_PS052_T0</td>\n",
       "      <td>5_GEX_V2</td>\n",
       "      <td>5_GEX_V2</td>\n",
       "      <td>COVID</td>\n",
       "      <td>female</td>\n",
       "      <td>&gt;80</td>\n",
       "      <td>T_CD4_Naive</td>\n",
       "      <td>COVID</td>\n",
       "    </tr>\n",
       "    <tr>\n",
       "      <th>Ren2021_L065_PS052_T0_TTTGTCACAGGACCCT</th>\n",
       "      <td>Ren2021</td>\n",
       "      <td>Ren2021_L065</td>\n",
       "      <td>Ren2021_PS052_T0</td>\n",
       "      <td>5_GEX_V2</td>\n",
       "      <td>5_GEX_V2</td>\n",
       "      <td>COVID</td>\n",
       "      <td>female</td>\n",
       "      <td>&gt;80</td>\n",
       "      <td>T_CD4_Naive</td>\n",
       "      <td>COVID</td>\n",
       "    </tr>\n",
       "    <tr>\n",
       "      <th>Ren2021_L065_PS052_T0_TTTGTCAGTCCGTCAG</th>\n",
       "      <td>Ren2021</td>\n",
       "      <td>Ren2021_L065</td>\n",
       "      <td>Ren2021_PS052_T0</td>\n",
       "      <td>5_GEX_V2</td>\n",
       "      <td>5_GEX_V2</td>\n",
       "      <td>COVID</td>\n",
       "      <td>female</td>\n",
       "      <td>&gt;80</td>\n",
       "      <td>T_CD4_Naive</td>\n",
       "      <td>COVID</td>\n",
       "    </tr>\n",
       "    <tr>\n",
       "      <th>Ren2021_L065_PS052_T0_TTTGTCAGTCGCGTGT</th>\n",
       "      <td>Ren2021</td>\n",
       "      <td>Ren2021_L065</td>\n",
       "      <td>Ren2021_PS052_T0</td>\n",
       "      <td>5_GEX_V2</td>\n",
       "      <td>5_GEX_V2</td>\n",
       "      <td>COVID</td>\n",
       "      <td>female</td>\n",
       "      <td>&gt;80</td>\n",
       "      <td>Mono</td>\n",
       "      <td>COVID</td>\n",
       "    </tr>\n",
       "    <tr>\n",
       "      <th>Ren2021_L065_PS052_T0_TTTGTCATCCACGAAT</th>\n",
       "      <td>Ren2021</td>\n",
       "      <td>Ren2021_L065</td>\n",
       "      <td>Ren2021_PS052_T0</td>\n",
       "      <td>5_GEX_V2</td>\n",
       "      <td>5_GEX_V2</td>\n",
       "      <td>COVID</td>\n",
       "      <td>female</td>\n",
       "      <td>&gt;80</td>\n",
       "      <td>T_CD8_NonNaive</td>\n",
       "      <td>COVID</td>\n",
       "    </tr>\n",
       "  </tbody>\n",
       "</table>\n",
       "<p>849922 rows × 10 columns</p>\n",
       "</div>"
      ],
      "text/plain": [
       "                                        studyID     libraryID  \\\n",
       "cellID                                                          \n",
       "SCGT00_L051_I51.3P_T0_AAACCCACAATCAGCT   SCGT00   SCGT00_L051   \n",
       "SCGT00_L051_I51.3P_T0_AAACCCAGTACAATAG   SCGT00   SCGT00_L051   \n",
       "SCGT00_L051_I51.3P_T0_AAACGAACAACAGATA   SCGT00   SCGT00_L051   \n",
       "SCGT00_L051_I51.3P_T0_AAACGAAGTGATACCT   SCGT00   SCGT00_L051   \n",
       "SCGT00_L051_I51.3P_T0_AAACGAAGTTCTAACG   SCGT00   SCGT00_L051   \n",
       "...                                         ...           ...   \n",
       "Ren2021_L065_PS052_T0_TTTGTCAAGTGTACCT  Ren2021  Ren2021_L065   \n",
       "Ren2021_L065_PS052_T0_TTTGTCACAGGACCCT  Ren2021  Ren2021_L065   \n",
       "Ren2021_L065_PS052_T0_TTTGTCAGTCCGTCAG  Ren2021  Ren2021_L065   \n",
       "Ren2021_L065_PS052_T0_TTTGTCAGTCGCGTGT  Ren2021  Ren2021_L065   \n",
       "Ren2021_L065_PS052_T0_TTTGTCATCCACGAAT  Ren2021  Ren2021_L065   \n",
       "\n",
       "                                                sampleID chemistry  \\\n",
       "cellID                                                               \n",
       "SCGT00_L051_I51.3P_T0_AAACCCACAATCAGCT  SCGT00_I51.3P_T0  3_GEX_V3   \n",
       "SCGT00_L051_I51.3P_T0_AAACCCAGTACAATAG  SCGT00_I51.3P_T0  3_GEX_V3   \n",
       "SCGT00_L051_I51.3P_T0_AAACGAACAACAGATA  SCGT00_I51.3P_T0  3_GEX_V3   \n",
       "SCGT00_L051_I51.3P_T0_AAACGAAGTGATACCT  SCGT00_I51.3P_T0  3_GEX_V3   \n",
       "SCGT00_L051_I51.3P_T0_AAACGAAGTTCTAACG  SCGT00_I51.3P_T0  3_GEX_V3   \n",
       "...                                                  ...       ...   \n",
       "Ren2021_L065_PS052_T0_TTTGTCAAGTGTACCT  Ren2021_PS052_T0  5_GEX_V2   \n",
       "Ren2021_L065_PS052_T0_TTTGTCACAGGACCCT  Ren2021_PS052_T0  5_GEX_V2   \n",
       "Ren2021_L065_PS052_T0_TTTGTCAGTCCGTCAG  Ren2021_PS052_T0  5_GEX_V2   \n",
       "Ren2021_L065_PS052_T0_TTTGTCAGTCGCGTGT  Ren2021_PS052_T0  5_GEX_V2   \n",
       "Ren2021_L065_PS052_T0_TTTGTCATCCACGAAT  Ren2021_PS052_T0  5_GEX_V2   \n",
       "\n",
       "                                                 technology disease_true  \\\n",
       "cellID                                                                     \n",
       "SCGT00_L051_I51.3P_T0_AAACCCACAATCAGCT  3_GEX_V3_GenoHashed           RA   \n",
       "SCGT00_L051_I51.3P_T0_AAACCCAGTACAATAG  3_GEX_V3_GenoHashed           RA   \n",
       "SCGT00_L051_I51.3P_T0_AAACGAACAACAGATA  3_GEX_V3_GenoHashed           RA   \n",
       "SCGT00_L051_I51.3P_T0_AAACGAAGTGATACCT  3_GEX_V3_GenoHashed           RA   \n",
       "SCGT00_L051_I51.3P_T0_AAACGAAGTTCTAACG  3_GEX_V3_GenoHashed           RA   \n",
       "...                                                     ...          ...   \n",
       "Ren2021_L065_PS052_T0_TTTGTCAAGTGTACCT             5_GEX_V2        COVID   \n",
       "Ren2021_L065_PS052_T0_TTTGTCACAGGACCCT             5_GEX_V2        COVID   \n",
       "Ren2021_L065_PS052_T0_TTTGTCAGTCCGTCAG             5_GEX_V2        COVID   \n",
       "Ren2021_L065_PS052_T0_TTTGTCAGTCGCGTGT             5_GEX_V2        COVID   \n",
       "Ren2021_L065_PS052_T0_TTTGTCATCCACGAAT             5_GEX_V2        COVID   \n",
       "\n",
       "                                           sex binned_age          Level1  \\\n",
       "cellID                                                                      \n",
       "SCGT00_L051_I51.3P_T0_AAACCCACAATCAGCT  female      41-50             ILC   \n",
       "SCGT00_L051_I51.3P_T0_AAACCCAGTACAATAG  female      41-50            Mono   \n",
       "SCGT00_L051_I51.3P_T0_AAACGAACAACAGATA  female      41-50             ILC   \n",
       "SCGT00_L051_I51.3P_T0_AAACGAAGTGATACCT  female      41-50             ILC   \n",
       "SCGT00_L051_I51.3P_T0_AAACGAAGTTCTAACG  female      41-50  T_CD8_NonNaive   \n",
       "...                                        ...        ...             ...   \n",
       "Ren2021_L065_PS052_T0_TTTGTCAAGTGTACCT  female        >80     T_CD4_Naive   \n",
       "Ren2021_L065_PS052_T0_TTTGTCACAGGACCCT  female        >80     T_CD4_Naive   \n",
       "Ren2021_L065_PS052_T0_TTTGTCAGTCCGTCAG  female        >80     T_CD4_Naive   \n",
       "Ren2021_L065_PS052_T0_TTTGTCAGTCGCGTGT  female        >80            Mono   \n",
       "Ren2021_L065_PS052_T0_TTTGTCATCCACGAAT  female        >80  T_CD8_NonNaive   \n",
       "\n",
       "                                       disease_pred  \n",
       "cellID                                               \n",
       "SCGT00_L051_I51.3P_T0_AAACCCACAATCAGCT           RA  \n",
       "SCGT00_L051_I51.3P_T0_AAACCCAGTACAATAG          SLE  \n",
       "SCGT00_L051_I51.3P_T0_AAACGAACAACAGATA           RA  \n",
       "SCGT00_L051_I51.3P_T0_AAACGAAGTGATACCT           RA  \n",
       "SCGT00_L051_I51.3P_T0_AAACGAAGTTCTAACG          SLE  \n",
       "...                                             ...  \n",
       "Ren2021_L065_PS052_T0_TTTGTCAAGTGTACCT        COVID  \n",
       "Ren2021_L065_PS052_T0_TTTGTCACAGGACCCT        COVID  \n",
       "Ren2021_L065_PS052_T0_TTTGTCAGTCCGTCAG        COVID  \n",
       "Ren2021_L065_PS052_T0_TTTGTCAGTCGCGTGT        COVID  \n",
       "Ren2021_L065_PS052_T0_TTTGTCATCCACGAAT        COVID  \n",
       "\n",
       "[849922 rows x 10 columns]"
      ]
     },
     "execution_count": 17,
     "metadata": {},
     "output_type": "execute_result"
    }
   ],
   "source": [
    "adataQ.obs"
   ]
  },
  {
   "cell_type": "markdown",
   "id": "604b824a-321a-4ebe-802f-39ac50ec5238",
   "metadata": {
    "papermill": {
     "duration": 0.010063,
     "end_time": "2024-06-12T10:33:00.836023",
     "exception": false,
     "start_time": "2024-06-12T10:33:00.825960",
     "status": "completed"
    },
    "tags": []
   },
   "source": [
    "### Generating pseudobulk from latent space for Q dataset"
   ]
  },
  {
   "cell_type": "code",
   "execution_count": 18,
   "id": "995ab0a0-f978-4667-a85a-72b4757305c5",
   "metadata": {
    "execution": {
     "iopub.execute_input": "2024-06-12T10:33:00.863459Z",
     "iopub.status.busy": "2024-06-12T10:33:00.863100Z",
     "iopub.status.idle": "2024-06-12T10:33:01.479138Z",
     "shell.execute_reply": "2024-06-12T10:33:01.478595Z"
    },
    "papermill": {
     "duration": 0.634373,
     "end_time": "2024-06-12T10:33:01.480165",
     "exception": false,
     "start_time": "2024-06-12T10:33:00.845792",
     "status": "completed"
    },
    "tags": []
   },
   "outputs": [],
   "source": [
    "emb_pseudobulk_Q = aggregating_features(Z = adataQ.obsm['X_pca_harmony'], obsDF = adataQ.obs[['sampleID','Level1','disease_true']], mode = 'mean', obs_names_col=['sampleID','Level1'])"
   ]
  },
  {
   "cell_type": "code",
   "execution_count": 19,
   "id": "841534d1-d593-4372-b4d1-3133ae9180d8",
   "metadata": {
    "execution": {
     "iopub.execute_input": "2024-06-12T10:33:01.502669Z",
     "iopub.status.busy": "2024-06-12T10:33:01.502305Z",
     "iopub.status.idle": "2024-06-12T10:33:01.509250Z",
     "shell.execute_reply": "2024-06-12T10:33:01.508873Z"
    },
    "papermill": {
     "duration": 0.01885,
     "end_time": "2024-06-12T10:33:01.510188",
     "exception": false,
     "start_time": "2024-06-12T10:33:01.491338",
     "status": "completed"
    },
    "tags": []
   },
   "outputs": [
    {
     "data": {
      "text/html": [
       "<div>\n",
       "<style scoped>\n",
       "    .dataframe tbody tr th:only-of-type {\n",
       "        vertical-align: middle;\n",
       "    }\n",
       "\n",
       "    .dataframe tbody tr th {\n",
       "        vertical-align: top;\n",
       "    }\n",
       "\n",
       "    .dataframe thead th {\n",
       "        text-align: right;\n",
       "    }\n",
       "</style>\n",
       "<table border=\"1\" class=\"dataframe\">\n",
       "  <thead>\n",
       "    <tr style=\"text-align: right;\">\n",
       "      <th></th>\n",
       "      <th>sampleID</th>\n",
       "      <th>Level1</th>\n",
       "      <th>disease_true</th>\n",
       "      <th>n_observation</th>\n",
       "    </tr>\n",
       "  </thead>\n",
       "  <tbody>\n",
       "    <tr>\n",
       "      <th>COMBAT2022_G05073_T0_B</th>\n",
       "      <td>COMBAT2022_G05073_T0</td>\n",
       "      <td>B</td>\n",
       "      <td>COVID</td>\n",
       "      <td>519</td>\n",
       "    </tr>\n",
       "    <tr>\n",
       "      <th>COMBAT2022_G05073_T0_Cycling_cells</th>\n",
       "      <td>COMBAT2022_G05073_T0</td>\n",
       "      <td>Cycling_cells</td>\n",
       "      <td>COVID</td>\n",
       "      <td>74</td>\n",
       "    </tr>\n",
       "    <tr>\n",
       "      <th>COMBAT2022_G05073_T0_DC</th>\n",
       "      <td>COMBAT2022_G05073_T0</td>\n",
       "      <td>DC</td>\n",
       "      <td>COVID</td>\n",
       "      <td>111</td>\n",
       "    </tr>\n",
       "    <tr>\n",
       "      <th>COMBAT2022_G05073_T0_ILC</th>\n",
       "      <td>COMBAT2022_G05073_T0</td>\n",
       "      <td>ILC</td>\n",
       "      <td>COVID</td>\n",
       "      <td>306</td>\n",
       "    </tr>\n",
       "    <tr>\n",
       "      <th>COMBAT2022_G05073_T0_Mono</th>\n",
       "      <td>COMBAT2022_G05073_T0</td>\n",
       "      <td>Mono</td>\n",
       "      <td>COVID</td>\n",
       "      <td>1675</td>\n",
       "    </tr>\n",
       "    <tr>\n",
       "      <th>...</th>\n",
       "      <td>...</td>\n",
       "      <td>...</td>\n",
       "      <td>...</td>\n",
       "      <td>...</td>\n",
       "    </tr>\n",
       "    <tr>\n",
       "      <th>Terekhova2023_FE05_T0_T_CD4_NonNaive</th>\n",
       "      <td>Terekhova2023_FE05_T0</td>\n",
       "      <td>T_CD4_NonNaive</td>\n",
       "      <td>healthy</td>\n",
       "      <td>882</td>\n",
       "    </tr>\n",
       "    <tr>\n",
       "      <th>Terekhova2023_FE05_T0_T_CD8_Naive</th>\n",
       "      <td>Terekhova2023_FE05_T0</td>\n",
       "      <td>T_CD8_Naive</td>\n",
       "      <td>healthy</td>\n",
       "      <td>374</td>\n",
       "    </tr>\n",
       "    <tr>\n",
       "      <th>Terekhova2023_FE05_T0_T_CD8_NonNaive</th>\n",
       "      <td>Terekhova2023_FE05_T0</td>\n",
       "      <td>T_CD8_NonNaive</td>\n",
       "      <td>healthy</td>\n",
       "      <td>870</td>\n",
       "    </tr>\n",
       "    <tr>\n",
       "      <th>Terekhova2023_FE05_T0_UTC</th>\n",
       "      <td>Terekhova2023_FE05_T0</td>\n",
       "      <td>UTC</td>\n",
       "      <td>healthy</td>\n",
       "      <td>546</td>\n",
       "    </tr>\n",
       "    <tr>\n",
       "      <th>Terekhova2023_FE05_T0_pDC</th>\n",
       "      <td>Terekhova2023_FE05_T0</td>\n",
       "      <td>pDC</td>\n",
       "      <td>healthy</td>\n",
       "      <td>57</td>\n",
       "    </tr>\n",
       "  </tbody>\n",
       "</table>\n",
       "<p>1979 rows × 4 columns</p>\n",
       "</div>"
      ],
      "text/plain": [
       "                                                   sampleID          Level1  \\\n",
       "COMBAT2022_G05073_T0_B                 COMBAT2022_G05073_T0               B   \n",
       "COMBAT2022_G05073_T0_Cycling_cells     COMBAT2022_G05073_T0   Cycling_cells   \n",
       "COMBAT2022_G05073_T0_DC                COMBAT2022_G05073_T0              DC   \n",
       "COMBAT2022_G05073_T0_ILC               COMBAT2022_G05073_T0             ILC   \n",
       "COMBAT2022_G05073_T0_Mono              COMBAT2022_G05073_T0            Mono   \n",
       "...                                                     ...             ...   \n",
       "Terekhova2023_FE05_T0_T_CD4_NonNaive  Terekhova2023_FE05_T0  T_CD4_NonNaive   \n",
       "Terekhova2023_FE05_T0_T_CD8_Naive     Terekhova2023_FE05_T0     T_CD8_Naive   \n",
       "Terekhova2023_FE05_T0_T_CD8_NonNaive  Terekhova2023_FE05_T0  T_CD8_NonNaive   \n",
       "Terekhova2023_FE05_T0_UTC             Terekhova2023_FE05_T0             UTC   \n",
       "Terekhova2023_FE05_T0_pDC             Terekhova2023_FE05_T0             pDC   \n",
       "\n",
       "                                     disease_true  n_observation  \n",
       "COMBAT2022_G05073_T0_B                      COVID            519  \n",
       "COMBAT2022_G05073_T0_Cycling_cells          COVID             74  \n",
       "COMBAT2022_G05073_T0_DC                     COVID            111  \n",
       "COMBAT2022_G05073_T0_ILC                    COVID            306  \n",
       "COMBAT2022_G05073_T0_Mono                   COVID           1675  \n",
       "...                                           ...            ...  \n",
       "Terekhova2023_FE05_T0_T_CD4_NonNaive      healthy            882  \n",
       "Terekhova2023_FE05_T0_T_CD8_Naive         healthy            374  \n",
       "Terekhova2023_FE05_T0_T_CD8_NonNaive      healthy            870  \n",
       "Terekhova2023_FE05_T0_UTC                 healthy            546  \n",
       "Terekhova2023_FE05_T0_pDC                 healthy             57  \n",
       "\n",
       "[1979 rows x 4 columns]"
      ]
     },
     "execution_count": 19,
     "metadata": {},
     "output_type": "execute_result"
    }
   ],
   "source": [
    "emb_pseudobulk_Q.obs"
   ]
  },
  {
   "cell_type": "markdown",
   "id": "a43a1514-ec0f-4b9e-ac54-a48dbabc0fff",
   "metadata": {
    "execution": {
     "iopub.execute_input": "2024-06-07T16:00:22.779422Z",
     "iopub.status.busy": "2024-06-07T16:00:22.778939Z",
     "iopub.status.idle": "2024-06-07T16:00:22.782415Z",
     "shell.execute_reply": "2024-06-07T16:00:22.781982Z",
     "shell.execute_reply.started": "2024-06-07T16:00:22.779405Z"
    },
    "papermill": {
     "duration": 0.015465,
     "end_time": "2024-06-12T10:33:01.538907",
     "exception": false,
     "start_time": "2024-06-12T10:33:01.523442",
     "status": "completed"
    },
    "tags": []
   },
   "source": [
    "**Loading training pseudobulk**"
   ]
  },
  {
   "cell_type": "code",
   "execution_count": 20,
   "id": "b759518f-cc41-406e-8919-c72d6a6925e6",
   "metadata": {
    "execution": {
     "iopub.execute_input": "2024-06-12T10:33:01.561797Z",
     "iopub.status.busy": "2024-06-12T10:33:01.561448Z",
     "iopub.status.idle": "2024-06-12T10:33:01.766273Z",
     "shell.execute_reply": "2024-06-12T10:33:01.765741Z"
    },
    "papermill": {
     "duration": 0.21808,
     "end_time": "2024-06-12T10:33:01.767474",
     "exception": false,
     "start_time": "2024-06-12T10:33:01.549394",
     "status": "completed"
    },
    "tags": []
   },
   "outputs": [],
   "source": [
    "emb_pseudobulk_train = sc.read_h5ad(here(f\"03_downstream_analysis/08_PatientClassifier/Harmony_Symphony/results/01_MAIN_HarmonyIntegrated_PSEUDOBULK_{nPC}nPC_Batch_{batchKeys}.h5ad\"))"
   ]
  },
  {
   "cell_type": "markdown",
   "id": "fa0cf8df-f0dd-449c-87c8-b9207e94207b",
   "metadata": {
    "papermill": {
     "duration": 0.010417,
     "end_time": "2024-06-12T10:33:01.790566",
     "exception": false,
     "start_time": "2024-06-12T10:33:01.780149",
     "status": "completed"
    },
    "tags": []
   },
   "source": [
    "#### Remove unwanted cell types"
   ]
  },
  {
   "cell_type": "code",
   "execution_count": 21,
   "id": "b477252c-4cdb-4f89-8ec2-1d3dbc4a7655",
   "metadata": {
    "execution": {
     "iopub.execute_input": "2024-06-12T10:33:01.813976Z",
     "iopub.status.busy": "2024-06-12T10:33:01.813781Z",
     "iopub.status.idle": "2024-06-12T10:33:01.818946Z",
     "shell.execute_reply": "2024-06-12T10:33:01.818544Z"
    },
    "papermill": {
     "duration": 0.019244,
     "end_time": "2024-06-12T10:33:01.819881",
     "exception": false,
     "start_time": "2024-06-12T10:33:01.800637",
     "status": "completed"
    },
    "tags": []
   },
   "outputs": [],
   "source": [
    "emb_pseudobulk_train = emb_pseudobulk_train[~emb_pseudobulk_train.obs.Level1.isin(['Cycling_cells','RBC','Progenitors','Platelets']),]"
   ]
  },
  {
   "cell_type": "code",
   "execution_count": 22,
   "id": "25ead359-02da-4eec-a2e8-040415f31ca8",
   "metadata": {
    "execution": {
     "iopub.execute_input": "2024-06-12T10:33:01.842866Z",
     "iopub.status.busy": "2024-06-12T10:33:01.842525Z",
     "iopub.status.idle": "2024-06-12T10:33:01.845652Z",
     "shell.execute_reply": "2024-06-12T10:33:01.845298Z"
    },
    "papermill": {
     "duration": 0.016445,
     "end_time": "2024-06-12T10:33:01.846555",
     "exception": false,
     "start_time": "2024-06-12T10:33:01.830110",
     "status": "completed"
    },
    "tags": []
   },
   "outputs": [],
   "source": [
    "emb_pseudobulk_Q = emb_pseudobulk_Q[~emb_pseudobulk_Q.obs.Level1.isin(['Cycling_cells','RBC','Progenitors','Platelets']),]"
   ]
  },
  {
   "cell_type": "markdown",
   "id": "4faaceec-8aac-4c89-ac43-9093c0fe7c16",
   "metadata": {
    "papermill": {
     "duration": 0.010121,
     "end_time": "2024-06-12T10:33:01.867955",
     "exception": false,
     "start_time": "2024-06-12T10:33:01.857834",
     "status": "completed"
    },
    "tags": []
   },
   "source": [
    "### Saving query dataset and pseudobulks"
   ]
  },
  {
   "cell_type": "code",
   "execution_count": 23,
   "id": "40487ef8-ad5d-4236-a652-2d90cf76c77b",
   "metadata": {
    "execution": {
     "iopub.execute_input": "2024-06-12T10:33:01.892521Z",
     "iopub.status.busy": "2024-06-12T10:33:01.892077Z",
     "iopub.status.idle": "2024-06-12T10:35:23.097246Z",
     "shell.execute_reply": "2024-06-12T10:35:23.096516Z"
    },
    "papermill": {
     "duration": 141.220484,
     "end_time": "2024-06-12T10:35:23.098771",
     "exception": false,
     "start_time": "2024-06-12T10:33:01.878287",
     "status": "completed"
    },
    "tags": []
   },
   "outputs": [],
   "source": [
    "adataQ.write(here(f\"03_downstream_analysis/08_PatientClassifier/Harmony_Symphony/results/02_{queryDataset}_SymphonyProjected_{nPC}nPC_Batch_{batchKeys}.h5ad\"), \n",
    "             compression='gzip')"
   ]
  },
  {
   "cell_type": "code",
   "execution_count": 24,
   "id": "052a1401-1f68-49ed-a900-dda39c09e68b",
   "metadata": {
    "execution": {
     "iopub.execute_input": "2024-06-12T10:35:23.121388Z",
     "iopub.status.busy": "2024-06-12T10:35:23.121199Z",
     "iopub.status.idle": "2024-06-12T10:35:23.217002Z",
     "shell.execute_reply": "2024-06-12T10:35:23.216568Z"
    },
    "papermill": {
     "duration": 0.107924,
     "end_time": "2024-06-12T10:35:23.217934",
     "exception": false,
     "start_time": "2024-06-12T10:35:23.110010",
     "status": "completed"
    },
    "tags": []
   },
   "outputs": [
    {
     "name": "stderr",
     "output_type": "stream",
     "text": [
      "/scratch_isilon/groups/singlecell/shared/conda_env/inflammation_atlas_R1/lib/python3.10/site-packages/anndata/_core/anndata.py:1301: ImplicitModificationWarning: Trying to modify attribute `.obs` of view, initializing view as actual.\n",
      "  df[key] = c\n",
      "/scratch_isilon/groups/singlecell/shared/conda_env/inflammation_atlas_R1/lib/python3.10/site-packages/anndata/_core/anndata.py:1301: ImplicitModificationWarning: Trying to modify attribute `.obs` of view, initializing view as actual.\n",
      "  df[key] = c\n",
      "/scratch_isilon/groups/singlecell/shared/conda_env/inflammation_atlas_R1/lib/python3.10/site-packages/anndata/_core/anndata.py:1301: ImplicitModificationWarning: Trying to modify attribute `.obs` of view, initializing view as actual.\n",
      "  df[key] = c\n"
     ]
    }
   ],
   "source": [
    "emb_pseudobulk_Q.write(here(f\"03_downstream_analysis/08_PatientClassifier/Harmony_Symphony/results/02_{queryDataset}_SymphonyProjected_PSEUDOBULK{nPC}nPC_Batch_{batchKeys}.h5ad\"), \n",
    "             compression='gzip')"
   ]
  },
  {
   "cell_type": "markdown",
   "id": "8226f8d2-30b5-41a4-8efd-943e08f2d048",
   "metadata": {
    "papermill": {
     "duration": 0.010108,
     "end_time": "2024-06-12T10:35:23.237862",
     "exception": false,
     "start_time": "2024-06-12T10:35:23.227754",
     "status": "completed"
    },
    "tags": []
   },
   "source": [
    "### Training linear classifiers"
   ]
  },
  {
   "cell_type": "code",
   "execution_count": 25,
   "id": "78479add-937b-433c-96fd-457e4f0d9cd5",
   "metadata": {
    "execution": {
     "iopub.execute_input": "2024-06-12T10:35:23.259579Z",
     "iopub.status.busy": "2024-06-12T10:35:23.259117Z",
     "iopub.status.idle": "2024-06-12T10:35:23.365466Z",
     "shell.execute_reply": "2024-06-12T10:35:23.364988Z"
    },
    "papermill": {
     "duration": 0.118405,
     "end_time": "2024-06-12T10:35:23.366510",
     "exception": false,
     "start_time": "2024-06-12T10:35:23.248105",
     "status": "completed"
    },
    "tags": []
   },
   "outputs": [],
   "source": [
    "def train_classifier(adataTrain = None, cell_type_col = None, y_true_col = None, max_iter=10000,random_state = 25, model = 'LinearSVC', kargs_model = None):\n",
    "    \n",
    "    import pandas as pd\n",
    "    from tqdm import tqdm\n",
    "    from sklearn.svm import LinearSVC, SVC\n",
    "    from sklearn.neighbors import KNeighborsClassifier\n",
    "\n",
    "    from sklearn.metrics import balanced_accuracy_score\n",
    "    \n",
    "    clfList = dict()\n",
    "    trainAccuracy = []\n",
    "    for ct_ in tqdm(adataTrain.obs[cell_type_col].unique()):\n",
    "        clfList[ct_] = dict()\n",
    "        X_i = adataTrain.X[adataTrain.obs[cell_type_col] == ct_]\n",
    "        y_true_i = adataTrain.obs[y_true_col][adataTrain.obs[cell_type_col] == ct_]\n",
    "\n",
    "        if model == 'LinearSVC':\n",
    "            clfList[ct_]['clf'] = LinearSVC(**kargs_model).fit(X_i, y_true_i) # max_iter=max_iter, dual = True, random_state = random_state\n",
    "        elif model == 'SVC':\n",
    "            clfList[ct_]['clf'] = SVC(**kargs_model).fit(X_i, y_true_i) # max_iter=max_iter, random_state = random_state\n",
    "        elif model == 'KNeighborsClassifier':\n",
    "            clfList[ct_]['clf'] = KNeighborsClassifier(**kargs_model).fit(X_i, y_true_i) # n_neighbors = 5, weights='distance', n_jobs = -1\n",
    "            \n",
    "            \n",
    "        clfList[ct_]['bAcc'] = balanced_accuracy_score(y_true = y_true_i, y_pred = clfList[ct_]['clf'].predict(X_i))\n",
    "        clfList[ct_]['nObs'] = len(y_true_i)\n",
    "\n",
    "    return clfList\n",
    "    \n",
    "def vote_disease(adataTest = None, clfList = None, cell_type_col = None, sample_id_col = None):\n",
    "\n",
    "    from tqdm import tqdm\n",
    "    import pandas as pd\n",
    "    \n",
    "    classificationDF = pd.DataFrame()\n",
    "    for ct_ in tqdm(adataTest.obs[cell_type_col].unique()):\n",
    "        X_i = adataTest.X[adataTest.obs[cell_type_col] == ct_]\n",
    "        PID_i = adataTest.obs[sample_id_col][adataTest.obs[cell_type_col] == ct_]\n",
    "        if ct_ not in clfList:\n",
    "            print(f\"{ct_} is missing in training set\")\n",
    "            continue\n",
    "        DF_i = pd.DataFrame.from_dict({\n",
    "            sample_id_col: PID_i,\n",
    "            f\"{ct_}_prediction\": clfList[ct_]['clf'].predict(X_i)\n",
    "        })\n",
    "        if classificationDF.shape[0] == 0:\n",
    "            classificationDF = DF_i\n",
    "        else:\n",
    "            classificationDF = classificationDF.merge(DF_i, how='outer', on = sample_id_col)\n",
    "    classificationDF['firstChoice'] = ''\n",
    "    classificationDF['firstChoice_perc'] = np.nan\n",
    "    classificationDF['secondChoice'] = ''\n",
    "    classificationDF['secondChoice_perc'] = np.nan\n",
    "    \n",
    "    for i in tqdm(range(classificationDF.shape[0])):\n",
    "        vote_i = classificationDF.loc[i,classificationDF.columns !=sample_id_col].value_counts()\n",
    "        vote_i /= (vote_i.sum() / 100)\n",
    "        res_i = vote_i.sort_values(ascending=False)\n",
    "        classificationDF.loc[i,'firstChoice'] = res_i.index[0]\n",
    "        classificationDF.loc[i,'firstChoice_perc'] = res_i.iloc[0]\n",
    "        if res_i.shape[0] > 1:\n",
    "            classificationDF.loc[i,'secondChoice'] = res_i.index[1]\n",
    "            classificationDF.loc[i,'secondChoice_perc'] = res_i.iloc[1]\n",
    "\n",
    "    return classificationDF\n",
    "    \n",
    "def aggregating_features(Z = None, obsDF = None, mode = 'mean', obs_names_col = []):\n",
    "    Zdf = pd.DataFrame(Z)\n",
    "    for c in obsDF.columns:\n",
    "        Zdf[c] = obsDF[c].tolist()\n",
    "    if mode in ['mean','avarage']:\n",
    "        Zaggr = Zdf.groupby(obsDF.columns.tolist(), observed = True).mean()\n",
    "    elif mode == 'sum':\n",
    "        Zaggr = Zdf.groupby(obsDF.columns.tolist(), observed = True).sum()\n",
    "    else:\n",
    "        raise ValueError(f\"mode {mode} not supported. Available mode are 'mean' or 'sum'\")\n",
    "\n",
    "    grpObs = pd.DataFrame(Zaggr.index.tolist(), columns=obsDF.columns.tolist())\n",
    "\n",
    "    if len(obs_names_col) == 0:\n",
    "        grpAdata  = sc.AnnData(X = np.array(Zaggr), obs = grpObs, )\n",
    "    elif all([c in obsDF.columns.tolist() for c in obs_names_col]):\n",
    "        grpObs.index = grpObs[obs_names_col].apply(lambda row: '_'.join(row.values.astype(str)), axis=1)\n",
    "        grpAdata  = sc.AnnData(X = np.array(Zaggr), obs = grpObs)\n",
    "    else:\n",
    "        raise ValueError(f\"Impossible to use {obs_names_col} as index. It's not present in obsDF\")\n",
    "    return grpAdata"
   ]
  },
  {
   "cell_type": "code",
   "execution_count": 26,
   "id": "b2f802a7-0a43-413b-8bee-03a900836009",
   "metadata": {
    "execution": {
     "iopub.execute_input": "2024-06-12T10:35:23.389227Z",
     "iopub.status.busy": "2024-06-12T10:35:23.388863Z",
     "iopub.status.idle": "2024-06-12T10:35:24.291354Z",
     "shell.execute_reply": "2024-06-12T10:35:24.290728Z"
    },
    "papermill": {
     "duration": 0.914278,
     "end_time": "2024-06-12T10:35:24.292377",
     "exception": false,
     "start_time": "2024-06-12T10:35:23.378099",
     "status": "completed"
    },
    "tags": []
   },
   "outputs": [
    {
     "name": "stderr",
     "output_type": "stream",
     "text": [
      "\r",
      "  0%|          | 0/11 [00:00<?, ?it/s]"
     ]
    },
    {
     "name": "stderr",
     "output_type": "stream",
     "text": [
      "\r",
      " 18%|█▊        | 2/11 [00:00<00:00, 13.66it/s]"
     ]
    },
    {
     "name": "stderr",
     "output_type": "stream",
     "text": [
      "\r",
      " 36%|███▋      | 4/11 [00:00<00:00, 13.67it/s]"
     ]
    },
    {
     "name": "stderr",
     "output_type": "stream",
     "text": [
      "\r",
      " 55%|█████▍    | 6/11 [00:00<00:00, 12.78it/s]"
     ]
    },
    {
     "name": "stderr",
     "output_type": "stream",
     "text": [
      "\r",
      " 73%|███████▎  | 8/11 [00:00<00:00, 11.65it/s]"
     ]
    },
    {
     "name": "stderr",
     "output_type": "stream",
     "text": [
      "\r",
      " 91%|█████████ | 10/11 [00:00<00:00, 12.04it/s]"
     ]
    },
    {
     "name": "stderr",
     "output_type": "stream",
     "text": [
      "\r",
      "100%|██████████| 11/11 [00:00<00:00, 12.52it/s]"
     ]
    },
    {
     "name": "stderr",
     "output_type": "stream",
     "text": [
      "\n"
     ]
    }
   ],
   "source": [
    "clfList = train_classifier(adataTrain = emb_pseudobulk_train, cell_type_col = 'Level1', y_true_col = 'disease', max_iter=-1, random_state = 25, model = 'KNeighborsClassifier', \n",
    "                           kargs_model={'n_neighbors':2, 'weights':'uniform', 'metric':'cosine','n_jobs':-1})"
   ]
  },
  {
   "cell_type": "code",
   "execution_count": 27,
   "id": "184e7805-037a-48ab-bdde-b80d084b46cd",
   "metadata": {
    "execution": {
     "iopub.execute_input": "2024-06-12T10:35:24.316116Z",
     "iopub.status.busy": "2024-06-12T10:35:24.315810Z",
     "iopub.status.idle": "2024-06-12T10:35:24.342193Z",
     "shell.execute_reply": "2024-06-12T10:35:24.341733Z"
    },
    "papermill": {
     "duration": 0.038945,
     "end_time": "2024-06-12T10:35:24.343162",
     "exception": false,
     "start_time": "2024-06-12T10:35:24.304217",
     "status": "completed"
    },
    "tags": []
   },
   "outputs": [
    {
     "data": {
      "text/plain": [
       "{'B': {'clf': KNeighborsClassifier(metric='cosine', n_jobs=-1, n_neighbors=2),\n",
       "  'bAcc': 0.9122029870714081,\n",
       "  'nObs': 814},\n",
       " 'DC': {'clf': KNeighborsClassifier(metric='cosine', n_jobs=-1, n_neighbors=2),\n",
       "  'bAcc': 0.8973075162049755,\n",
       "  'nObs': 801},\n",
       " 'ILC': {'clf': KNeighborsClassifier(metric='cosine', n_jobs=-1, n_neighbors=2),\n",
       "  'bAcc': 0.8920130294917173,\n",
       "  'nObs': 817},\n",
       " 'Mono': {'clf': KNeighborsClassifier(metric='cosine', n_jobs=-1, n_neighbors=2),\n",
       "  'bAcc': 0.885445668497003,\n",
       "  'nObs': 817},\n",
       " 'Plasma': {'clf': KNeighborsClassifier(metric='cosine', n_jobs=-1, n_neighbors=2),\n",
       "  'bAcc': 0.8165221332468878,\n",
       "  'nObs': 727},\n",
       " 'T_CD4_Naive': {'clf': KNeighborsClassifier(metric='cosine', n_jobs=-1, n_neighbors=2),\n",
       "  'bAcc': 0.9304880618928062,\n",
       "  'nObs': 814},\n",
       " 'T_CD4_NonNaive': {'clf': KNeighborsClassifier(metric='cosine', n_jobs=-1, n_neighbors=2),\n",
       "  'bAcc': 0.9376140213968345,\n",
       "  'nObs': 816},\n",
       " 'T_CD8_Naive': {'clf': KNeighborsClassifier(metric='cosine', n_jobs=-1, n_neighbors=2),\n",
       "  'bAcc': 0.9262116388745374,\n",
       "  'nObs': 805},\n",
       " 'T_CD8_NonNaive': {'clf': KNeighborsClassifier(metric='cosine', n_jobs=-1, n_neighbors=2),\n",
       "  'bAcc': 0.9117952512921009,\n",
       "  'nObs': 817},\n",
       " 'UTC': {'clf': KNeighborsClassifier(metric='cosine', n_jobs=-1, n_neighbors=2),\n",
       "  'bAcc': 0.8818644167327833,\n",
       "  'nObs': 813},\n",
       " 'pDC': {'clf': KNeighborsClassifier(metric='cosine', n_jobs=-1, n_neighbors=2),\n",
       "  'bAcc': 0.865539277151764,\n",
       "  'nObs': 775}}"
      ]
     },
     "execution_count": 27,
     "metadata": {},
     "output_type": "execute_result"
    }
   ],
   "source": [
    "clfList"
   ]
  },
  {
   "cell_type": "markdown",
   "id": "8140578c-927e-4a12-84c1-809c70d2387c",
   "metadata": {
    "papermill": {
     "duration": 0.011052,
     "end_time": "2024-06-12T10:35:24.364982",
     "exception": false,
     "start_time": "2024-06-12T10:35:24.353930",
     "status": "completed"
    },
    "tags": []
   },
   "source": [
    "### Predicting diseases"
   ]
  },
  {
   "cell_type": "code",
   "execution_count": 28,
   "id": "ba47d364-9407-4d4a-9a9c-a02d374a9932",
   "metadata": {
    "execution": {
     "iopub.execute_input": "2024-06-12T10:35:24.387530Z",
     "iopub.status.busy": "2024-06-12T10:35:24.387019Z",
     "iopub.status.idle": "2024-06-12T10:35:24.394410Z",
     "shell.execute_reply": "2024-06-12T10:35:24.393942Z"
    },
    "papermill": {
     "duration": 0.019842,
     "end_time": "2024-06-12T10:35:24.395327",
     "exception": false,
     "start_time": "2024-06-12T10:35:24.375485",
     "status": "completed"
    },
    "tags": []
   },
   "outputs": [
    {
     "data": {
      "text/html": [
       "<div>\n",
       "<style scoped>\n",
       "    .dataframe tbody tr th:only-of-type {\n",
       "        vertical-align: middle;\n",
       "    }\n",
       "\n",
       "    .dataframe tbody tr th {\n",
       "        vertical-align: top;\n",
       "    }\n",
       "\n",
       "    .dataframe thead th {\n",
       "        text-align: right;\n",
       "    }\n",
       "</style>\n",
       "<table border=\"1\" class=\"dataframe\">\n",
       "  <thead>\n",
       "    <tr style=\"text-align: right;\">\n",
       "      <th></th>\n",
       "      <th>sampleID</th>\n",
       "      <th>Level1</th>\n",
       "      <th>disease_true</th>\n",
       "      <th>n_observation</th>\n",
       "    </tr>\n",
       "  </thead>\n",
       "  <tbody>\n",
       "    <tr>\n",
       "      <th>COMBAT2022_G05073_T0_B</th>\n",
       "      <td>COMBAT2022_G05073_T0</td>\n",
       "      <td>B</td>\n",
       "      <td>COVID</td>\n",
       "      <td>519</td>\n",
       "    </tr>\n",
       "    <tr>\n",
       "      <th>COMBAT2022_G05073_T0_DC</th>\n",
       "      <td>COMBAT2022_G05073_T0</td>\n",
       "      <td>DC</td>\n",
       "      <td>COVID</td>\n",
       "      <td>111</td>\n",
       "    </tr>\n",
       "    <tr>\n",
       "      <th>COMBAT2022_G05073_T0_ILC</th>\n",
       "      <td>COMBAT2022_G05073_T0</td>\n",
       "      <td>ILC</td>\n",
       "      <td>COVID</td>\n",
       "      <td>306</td>\n",
       "    </tr>\n",
       "    <tr>\n",
       "      <th>COMBAT2022_G05073_T0_Mono</th>\n",
       "      <td>COMBAT2022_G05073_T0</td>\n",
       "      <td>Mono</td>\n",
       "      <td>COVID</td>\n",
       "      <td>1675</td>\n",
       "    </tr>\n",
       "    <tr>\n",
       "      <th>COMBAT2022_G05073_T0_Plasma</th>\n",
       "      <td>COMBAT2022_G05073_T0</td>\n",
       "      <td>Plasma</td>\n",
       "      <td>COVID</td>\n",
       "      <td>18</td>\n",
       "    </tr>\n",
       "    <tr>\n",
       "      <th>...</th>\n",
       "      <td>...</td>\n",
       "      <td>...</td>\n",
       "      <td>...</td>\n",
       "      <td>...</td>\n",
       "    </tr>\n",
       "    <tr>\n",
       "      <th>Terekhova2023_FE05_T0_T_CD4_NonNaive</th>\n",
       "      <td>Terekhova2023_FE05_T0</td>\n",
       "      <td>T_CD4_NonNaive</td>\n",
       "      <td>healthy</td>\n",
       "      <td>882</td>\n",
       "    </tr>\n",
       "    <tr>\n",
       "      <th>Terekhova2023_FE05_T0_T_CD8_Naive</th>\n",
       "      <td>Terekhova2023_FE05_T0</td>\n",
       "      <td>T_CD8_Naive</td>\n",
       "      <td>healthy</td>\n",
       "      <td>374</td>\n",
       "    </tr>\n",
       "    <tr>\n",
       "      <th>Terekhova2023_FE05_T0_T_CD8_NonNaive</th>\n",
       "      <td>Terekhova2023_FE05_T0</td>\n",
       "      <td>T_CD8_NonNaive</td>\n",
       "      <td>healthy</td>\n",
       "      <td>870</td>\n",
       "    </tr>\n",
       "    <tr>\n",
       "      <th>Terekhova2023_FE05_T0_UTC</th>\n",
       "      <td>Terekhova2023_FE05_T0</td>\n",
       "      <td>UTC</td>\n",
       "      <td>healthy</td>\n",
       "      <td>546</td>\n",
       "    </tr>\n",
       "    <tr>\n",
       "      <th>Terekhova2023_FE05_T0_pDC</th>\n",
       "      <td>Terekhova2023_FE05_T0</td>\n",
       "      <td>pDC</td>\n",
       "      <td>healthy</td>\n",
       "      <td>57</td>\n",
       "    </tr>\n",
       "  </tbody>\n",
       "</table>\n",
       "<p>1554 rows × 4 columns</p>\n",
       "</div>"
      ],
      "text/plain": [
       "                                                   sampleID          Level1  \\\n",
       "COMBAT2022_G05073_T0_B                 COMBAT2022_G05073_T0               B   \n",
       "COMBAT2022_G05073_T0_DC                COMBAT2022_G05073_T0              DC   \n",
       "COMBAT2022_G05073_T0_ILC               COMBAT2022_G05073_T0             ILC   \n",
       "COMBAT2022_G05073_T0_Mono              COMBAT2022_G05073_T0            Mono   \n",
       "COMBAT2022_G05073_T0_Plasma            COMBAT2022_G05073_T0          Plasma   \n",
       "...                                                     ...             ...   \n",
       "Terekhova2023_FE05_T0_T_CD4_NonNaive  Terekhova2023_FE05_T0  T_CD4_NonNaive   \n",
       "Terekhova2023_FE05_T0_T_CD8_Naive     Terekhova2023_FE05_T0     T_CD8_Naive   \n",
       "Terekhova2023_FE05_T0_T_CD8_NonNaive  Terekhova2023_FE05_T0  T_CD8_NonNaive   \n",
       "Terekhova2023_FE05_T0_UTC             Terekhova2023_FE05_T0             UTC   \n",
       "Terekhova2023_FE05_T0_pDC             Terekhova2023_FE05_T0             pDC   \n",
       "\n",
       "                                     disease_true  n_observation  \n",
       "COMBAT2022_G05073_T0_B                      COVID            519  \n",
       "COMBAT2022_G05073_T0_DC                     COVID            111  \n",
       "COMBAT2022_G05073_T0_ILC                    COVID            306  \n",
       "COMBAT2022_G05073_T0_Mono                   COVID           1675  \n",
       "COMBAT2022_G05073_T0_Plasma                 COVID             18  \n",
       "...                                           ...            ...  \n",
       "Terekhova2023_FE05_T0_T_CD4_NonNaive      healthy            882  \n",
       "Terekhova2023_FE05_T0_T_CD8_Naive         healthy            374  \n",
       "Terekhova2023_FE05_T0_T_CD8_NonNaive      healthy            870  \n",
       "Terekhova2023_FE05_T0_UTC                 healthy            546  \n",
       "Terekhova2023_FE05_T0_pDC                 healthy             57  \n",
       "\n",
       "[1554 rows x 4 columns]"
      ]
     },
     "execution_count": 28,
     "metadata": {},
     "output_type": "execute_result"
    }
   ],
   "source": [
    "emb_pseudobulk_Q.obs"
   ]
  },
  {
   "cell_type": "code",
   "execution_count": 29,
   "id": "39befc29-3613-4abc-adeb-bfee66e08dea",
   "metadata": {
    "execution": {
     "iopub.execute_input": "2024-06-12T10:35:24.420760Z",
     "iopub.status.busy": "2024-06-12T10:35:24.420301Z",
     "iopub.status.idle": "2024-06-12T10:35:24.846013Z",
     "shell.execute_reply": "2024-06-12T10:35:24.845392Z"
    },
    "papermill": {
     "duration": 0.439112,
     "end_time": "2024-06-12T10:35:24.847013",
     "exception": false,
     "start_time": "2024-06-12T10:35:24.407901",
     "status": "completed"
    },
    "tags": []
   },
   "outputs": [
    {
     "name": "stderr",
     "output_type": "stream",
     "text": [
      "\r",
      "  0%|          | 0/11 [00:00<?, ?it/s]"
     ]
    },
    {
     "name": "stderr",
     "output_type": "stream",
     "text": [
      "\r",
      " 36%|███▋      | 4/11 [00:00<00:00, 38.03it/s]"
     ]
    },
    {
     "name": "stderr",
     "output_type": "stream",
     "text": [
      "\r",
      " 73%|███████▎  | 8/11 [00:00<00:00, 38.63it/s]"
     ]
    },
    {
     "name": "stderr",
     "output_type": "stream",
     "text": [
      "\r",
      "100%|██████████| 11/11 [00:00<00:00, 38.27it/s]"
     ]
    },
    {
     "name": "stderr",
     "output_type": "stream",
     "text": [
      "\n"
     ]
    },
    {
     "name": "stderr",
     "output_type": "stream",
     "text": [
      "\r",
      "  0%|          | 0/144 [00:00<?, ?it/s]"
     ]
    },
    {
     "name": "stderr",
     "output_type": "stream",
     "text": [
      "\r",
      " 77%|███████▋  | 111/144 [00:00<00:00, 1100.29it/s]"
     ]
    },
    {
     "name": "stderr",
     "output_type": "stream",
     "text": [
      "\r",
      "100%|██████████| 144/144 [00:00<00:00, 1101.64it/s]"
     ]
    },
    {
     "name": "stderr",
     "output_type": "stream",
     "text": [
      "\n"
     ]
    }
   ],
   "source": [
    "classificationDF = vote_disease(adataTest = emb_pseudobulk_Q, \n",
    "                                clfList = clfList, \n",
    "                                sample_id_col = 'sampleID',\n",
    "                                cell_type_col = 'Level1')\n"
   ]
  },
  {
   "cell_type": "code",
   "execution_count": 30,
   "id": "a731fec9-92f4-4b14-b374-ad2bec4d4f13",
   "metadata": {
    "execution": {
     "iopub.execute_input": "2024-06-12T10:35:24.871744Z",
     "iopub.status.busy": "2024-06-12T10:35:24.871294Z",
     "iopub.status.idle": "2024-06-12T10:35:24.876888Z",
     "shell.execute_reply": "2024-06-12T10:35:24.876399Z"
    },
    "papermill": {
     "duration": 0.018895,
     "end_time": "2024-06-12T10:35:24.877889",
     "exception": false,
     "start_time": "2024-06-12T10:35:24.858994",
     "status": "completed"
    },
    "tags": []
   },
   "outputs": [],
   "source": [
    "res = classificationDF.merge(emb_pseudobulk_Q.obs[['sampleID', 'disease_true']].drop_duplicates(), how = 'left', on = 'sampleID').set_index('sampleID')\n"
   ]
  },
  {
   "cell_type": "code",
   "execution_count": 31,
   "id": "00fff243-e3d9-436c-b369-b7d4d29a13bf",
   "metadata": {
    "execution": {
     "iopub.execute_input": "2024-06-12T10:35:24.901690Z",
     "iopub.status.busy": "2024-06-12T10:35:24.901400Z",
     "iopub.status.idle": "2024-06-12T10:35:24.907148Z",
     "shell.execute_reply": "2024-06-12T10:35:24.906664Z"
    },
    "papermill": {
     "duration": 0.018853,
     "end_time": "2024-06-12T10:35:24.908067",
     "exception": false,
     "start_time": "2024-06-12T10:35:24.889214",
     "status": "completed"
    },
    "tags": []
   },
   "outputs": [
    {
     "name": "stderr",
     "output_type": "stream",
     "text": [
      "/scratch_isilon/groups/singlecell/shared/conda_env/inflammation_atlas_R1/lib/python3.10/site-packages/sklearn/metrics/_classification.py:2458: UserWarning: y_pred contains classes not in y_true\n",
      "  warnings.warn(\"y_pred contains classes not in y_true\")\n"
     ]
    },
    {
     "data": {
      "text/plain": [
       "0.8714733115468409"
      ]
     },
     "execution_count": 31,
     "metadata": {},
     "output_type": "execute_result"
    }
   ],
   "source": [
    "balanced_accuracy_score(y_true = res.disease_true, y_pred=res.firstChoice)"
   ]
  },
  {
   "cell_type": "code",
   "execution_count": 32,
   "id": "54568ce9-5d5d-47e2-bc88-5a61eae513bc",
   "metadata": {
    "execution": {
     "iopub.execute_input": "2024-06-12T10:35:24.931518Z",
     "iopub.status.busy": "2024-06-12T10:35:24.931110Z",
     "iopub.status.idle": "2024-06-12T10:35:24.943115Z",
     "shell.execute_reply": "2024-06-12T10:35:24.942624Z"
    },
    "papermill": {
     "duration": 0.024746,
     "end_time": "2024-06-12T10:35:24.944175",
     "exception": false,
     "start_time": "2024-06-12T10:35:24.919429",
     "status": "completed"
    },
    "tags": []
   },
   "outputs": [
    {
     "data": {
      "text/html": [
       "<div>\n",
       "<style scoped>\n",
       "    .dataframe tbody tr th:only-of-type {\n",
       "        vertical-align: middle;\n",
       "    }\n",
       "\n",
       "    .dataframe tbody tr th {\n",
       "        vertical-align: top;\n",
       "    }\n",
       "\n",
       "    .dataframe thead th {\n",
       "        text-align: right;\n",
       "    }\n",
       "</style>\n",
       "<table border=\"1\" class=\"dataframe\">\n",
       "  <thead>\n",
       "    <tr style=\"text-align: right;\">\n",
       "      <th></th>\n",
       "      <th>B_prediction</th>\n",
       "      <th>DC_prediction</th>\n",
       "      <th>ILC_prediction</th>\n",
       "      <th>Mono_prediction</th>\n",
       "      <th>Plasma_prediction</th>\n",
       "      <th>T_CD4_Naive_prediction</th>\n",
       "      <th>T_CD4_NonNaive_prediction</th>\n",
       "      <th>T_CD8_Naive_prediction</th>\n",
       "      <th>T_CD8_NonNaive_prediction</th>\n",
       "      <th>UTC_prediction</th>\n",
       "      <th>pDC_prediction</th>\n",
       "      <th>firstChoice</th>\n",
       "      <th>firstChoice_perc</th>\n",
       "      <th>secondChoice</th>\n",
       "      <th>secondChoice_perc</th>\n",
       "      <th>disease_true</th>\n",
       "    </tr>\n",
       "    <tr>\n",
       "      <th>sampleID</th>\n",
       "      <th></th>\n",
       "      <th></th>\n",
       "      <th></th>\n",
       "      <th></th>\n",
       "      <th></th>\n",
       "      <th></th>\n",
       "      <th></th>\n",
       "      <th></th>\n",
       "      <th></th>\n",
       "      <th></th>\n",
       "      <th></th>\n",
       "      <th></th>\n",
       "      <th></th>\n",
       "      <th></th>\n",
       "      <th></th>\n",
       "      <th></th>\n",
       "    </tr>\n",
       "  </thead>\n",
       "  <tbody>\n",
       "    <tr>\n",
       "      <th>COMBAT2022_G05073_T0</th>\n",
       "      <td>SLE</td>\n",
       "      <td>SLE</td>\n",
       "      <td>SLE</td>\n",
       "      <td>COVID</td>\n",
       "      <td>COVID</td>\n",
       "      <td>COVID</td>\n",
       "      <td>COVID</td>\n",
       "      <td>COVID</td>\n",
       "      <td>COVID</td>\n",
       "      <td>healthy</td>\n",
       "      <td>healthy</td>\n",
       "      <td>COVID</td>\n",
       "      <td>46.153846</td>\n",
       "      <td>SLE</td>\n",
       "      <td>23.076923</td>\n",
       "      <td>COVID</td>\n",
       "    </tr>\n",
       "    <tr>\n",
       "      <th>COMBAT2022_G05097_T0</th>\n",
       "      <td>SLE</td>\n",
       "      <td>SLE</td>\n",
       "      <td>SLE</td>\n",
       "      <td>COVID</td>\n",
       "      <td>COVID</td>\n",
       "      <td>COVID</td>\n",
       "      <td>COVID</td>\n",
       "      <td>COVID</td>\n",
       "      <td>SLE</td>\n",
       "      <td>healthy</td>\n",
       "      <td>healthy</td>\n",
       "      <td>COVID</td>\n",
       "      <td>38.461538</td>\n",
       "      <td>SLE</td>\n",
       "      <td>30.769231</td>\n",
       "      <td>COVID</td>\n",
       "    </tr>\n",
       "    <tr>\n",
       "      <th>COMBAT2022_G05145_T0</th>\n",
       "      <td>healthy</td>\n",
       "      <td>healthy</td>\n",
       "      <td>healthy</td>\n",
       "      <td>COVID</td>\n",
       "      <td>flu</td>\n",
       "      <td>COVID</td>\n",
       "      <td>COVID</td>\n",
       "      <td>COVID</td>\n",
       "      <td>COVID</td>\n",
       "      <td>SLE</td>\n",
       "      <td>healthy</td>\n",
       "      <td>COVID</td>\n",
       "      <td>38.461538</td>\n",
       "      <td>healthy</td>\n",
       "      <td>30.769231</td>\n",
       "      <td>COVID</td>\n",
       "    </tr>\n",
       "    <tr>\n",
       "      <th>COMBAT2022_N00021_T0</th>\n",
       "      <td>SLE</td>\n",
       "      <td>SLE</td>\n",
       "      <td>healthy</td>\n",
       "      <td>sepsis</td>\n",
       "      <td>SLE</td>\n",
       "      <td>flu</td>\n",
       "      <td>flu</td>\n",
       "      <td>sepsis</td>\n",
       "      <td>healthy</td>\n",
       "      <td>sepsis</td>\n",
       "      <td>sepsis</td>\n",
       "      <td>sepsis</td>\n",
       "      <td>30.769231</td>\n",
       "      <td>SLE</td>\n",
       "      <td>23.076923</td>\n",
       "      <td>sepsis</td>\n",
       "    </tr>\n",
       "    <tr>\n",
       "      <th>COMBAT2022_N00025_T0</th>\n",
       "      <td>SLE</td>\n",
       "      <td>NaN</td>\n",
       "      <td>healthy</td>\n",
       "      <td>sepsis</td>\n",
       "      <td>COVID</td>\n",
       "      <td>healthy</td>\n",
       "      <td>healthy</td>\n",
       "      <td>sepsis</td>\n",
       "      <td>healthy</td>\n",
       "      <td>sepsis</td>\n",
       "      <td>NaN</td>\n",
       "      <td>healthy</td>\n",
       "      <td>36.363636</td>\n",
       "      <td>sepsis</td>\n",
       "      <td>27.272727</td>\n",
       "      <td>sepsis</td>\n",
       "    </tr>\n",
       "    <tr>\n",
       "      <th>...</th>\n",
       "      <td>...</td>\n",
       "      <td>...</td>\n",
       "      <td>...</td>\n",
       "      <td>...</td>\n",
       "      <td>...</td>\n",
       "      <td>...</td>\n",
       "      <td>...</td>\n",
       "      <td>...</td>\n",
       "      <td>...</td>\n",
       "      <td>...</td>\n",
       "      <td>...</td>\n",
       "      <td>...</td>\n",
       "      <td>...</td>\n",
       "      <td>...</td>\n",
       "      <td>...</td>\n",
       "      <td>...</td>\n",
       "    </tr>\n",
       "    <tr>\n",
       "      <th>Terekhova2023_E19_T0</th>\n",
       "      <td>healthy</td>\n",
       "      <td>healthy</td>\n",
       "      <td>healthy</td>\n",
       "      <td>healthy</td>\n",
       "      <td>healthy</td>\n",
       "      <td>healthy</td>\n",
       "      <td>healthy</td>\n",
       "      <td>healthy</td>\n",
       "      <td>healthy</td>\n",
       "      <td>healthy</td>\n",
       "      <td>healthy</td>\n",
       "      <td>healthy</td>\n",
       "      <td>84.615385</td>\n",
       "      <td></td>\n",
       "      <td>15.384615</td>\n",
       "      <td>healthy</td>\n",
       "    </tr>\n",
       "    <tr>\n",
       "      <th>Terekhova2023_FA07_T0</th>\n",
       "      <td>healthy</td>\n",
       "      <td>healthy</td>\n",
       "      <td>healthy</td>\n",
       "      <td>healthy</td>\n",
       "      <td>healthy</td>\n",
       "      <td>healthy</td>\n",
       "      <td>healthy</td>\n",
       "      <td>healthy</td>\n",
       "      <td>healthy</td>\n",
       "      <td>healthy</td>\n",
       "      <td>healthy</td>\n",
       "      <td>healthy</td>\n",
       "      <td>84.615385</td>\n",
       "      <td></td>\n",
       "      <td>15.384615</td>\n",
       "      <td>healthy</td>\n",
       "    </tr>\n",
       "    <tr>\n",
       "      <th>Terekhova2023_FC04_T0</th>\n",
       "      <td>healthy</td>\n",
       "      <td>healthy</td>\n",
       "      <td>healthy</td>\n",
       "      <td>healthy</td>\n",
       "      <td>healthy</td>\n",
       "      <td>healthy</td>\n",
       "      <td>healthy</td>\n",
       "      <td>healthy</td>\n",
       "      <td>healthy</td>\n",
       "      <td>healthy</td>\n",
       "      <td>healthy</td>\n",
       "      <td>healthy</td>\n",
       "      <td>84.615385</td>\n",
       "      <td></td>\n",
       "      <td>15.384615</td>\n",
       "      <td>healthy</td>\n",
       "    </tr>\n",
       "    <tr>\n",
       "      <th>Terekhova2023_FD01_T0</th>\n",
       "      <td>healthy</td>\n",
       "      <td>healthy</td>\n",
       "      <td>healthy</td>\n",
       "      <td>healthy</td>\n",
       "      <td>healthy</td>\n",
       "      <td>healthy</td>\n",
       "      <td>healthy</td>\n",
       "      <td>healthy</td>\n",
       "      <td>healthy</td>\n",
       "      <td>healthy</td>\n",
       "      <td>healthy</td>\n",
       "      <td>healthy</td>\n",
       "      <td>84.615385</td>\n",
       "      <td></td>\n",
       "      <td>15.384615</td>\n",
       "      <td>healthy</td>\n",
       "    </tr>\n",
       "    <tr>\n",
       "      <th>Terekhova2023_FE05_T0</th>\n",
       "      <td>healthy</td>\n",
       "      <td>healthy</td>\n",
       "      <td>healthy</td>\n",
       "      <td>healthy</td>\n",
       "      <td>healthy</td>\n",
       "      <td>healthy</td>\n",
       "      <td>healthy</td>\n",
       "      <td>healthy</td>\n",
       "      <td>healthy</td>\n",
       "      <td>healthy</td>\n",
       "      <td>healthy</td>\n",
       "      <td>healthy</td>\n",
       "      <td>84.615385</td>\n",
       "      <td></td>\n",
       "      <td>15.384615</td>\n",
       "      <td>healthy</td>\n",
       "    </tr>\n",
       "  </tbody>\n",
       "</table>\n",
       "<p>144 rows × 16 columns</p>\n",
       "</div>"
      ],
      "text/plain": [
       "                      B_prediction DC_prediction ILC_prediction  \\\n",
       "sampleID                                                          \n",
       "COMBAT2022_G05073_T0           SLE           SLE            SLE   \n",
       "COMBAT2022_G05097_T0           SLE           SLE            SLE   \n",
       "COMBAT2022_G05145_T0       healthy       healthy        healthy   \n",
       "COMBAT2022_N00021_T0           SLE           SLE        healthy   \n",
       "COMBAT2022_N00025_T0           SLE           NaN        healthy   \n",
       "...                            ...           ...            ...   \n",
       "Terekhova2023_E19_T0       healthy       healthy        healthy   \n",
       "Terekhova2023_FA07_T0      healthy       healthy        healthy   \n",
       "Terekhova2023_FC04_T0      healthy       healthy        healthy   \n",
       "Terekhova2023_FD01_T0      healthy       healthy        healthy   \n",
       "Terekhova2023_FE05_T0      healthy       healthy        healthy   \n",
       "\n",
       "                      Mono_prediction Plasma_prediction  \\\n",
       "sampleID                                                  \n",
       "COMBAT2022_G05073_T0            COVID             COVID   \n",
       "COMBAT2022_G05097_T0            COVID             COVID   \n",
       "COMBAT2022_G05145_T0            COVID               flu   \n",
       "COMBAT2022_N00021_T0           sepsis               SLE   \n",
       "COMBAT2022_N00025_T0           sepsis             COVID   \n",
       "...                               ...               ...   \n",
       "Terekhova2023_E19_T0          healthy           healthy   \n",
       "Terekhova2023_FA07_T0         healthy           healthy   \n",
       "Terekhova2023_FC04_T0         healthy           healthy   \n",
       "Terekhova2023_FD01_T0         healthy           healthy   \n",
       "Terekhova2023_FE05_T0         healthy           healthy   \n",
       "\n",
       "                      T_CD4_Naive_prediction T_CD4_NonNaive_prediction  \\\n",
       "sampleID                                                                 \n",
       "COMBAT2022_G05073_T0                   COVID                     COVID   \n",
       "COMBAT2022_G05097_T0                   COVID                     COVID   \n",
       "COMBAT2022_G05145_T0                   COVID                     COVID   \n",
       "COMBAT2022_N00021_T0                     flu                       flu   \n",
       "COMBAT2022_N00025_T0                 healthy                   healthy   \n",
       "...                                      ...                       ...   \n",
       "Terekhova2023_E19_T0                 healthy                   healthy   \n",
       "Terekhova2023_FA07_T0                healthy                   healthy   \n",
       "Terekhova2023_FC04_T0                healthy                   healthy   \n",
       "Terekhova2023_FD01_T0                healthy                   healthy   \n",
       "Terekhova2023_FE05_T0                healthy                   healthy   \n",
       "\n",
       "                      T_CD8_Naive_prediction T_CD8_NonNaive_prediction  \\\n",
       "sampleID                                                                 \n",
       "COMBAT2022_G05073_T0                   COVID                     COVID   \n",
       "COMBAT2022_G05097_T0                   COVID                       SLE   \n",
       "COMBAT2022_G05145_T0                   COVID                     COVID   \n",
       "COMBAT2022_N00021_T0                  sepsis                   healthy   \n",
       "COMBAT2022_N00025_T0                  sepsis                   healthy   \n",
       "...                                      ...                       ...   \n",
       "Terekhova2023_E19_T0                 healthy                   healthy   \n",
       "Terekhova2023_FA07_T0                healthy                   healthy   \n",
       "Terekhova2023_FC04_T0                healthy                   healthy   \n",
       "Terekhova2023_FD01_T0                healthy                   healthy   \n",
       "Terekhova2023_FE05_T0                healthy                   healthy   \n",
       "\n",
       "                      UTC_prediction pDC_prediction firstChoice  \\\n",
       "sampleID                                                          \n",
       "COMBAT2022_G05073_T0         healthy        healthy       COVID   \n",
       "COMBAT2022_G05097_T0         healthy        healthy       COVID   \n",
       "COMBAT2022_G05145_T0             SLE        healthy       COVID   \n",
       "COMBAT2022_N00021_T0          sepsis         sepsis      sepsis   \n",
       "COMBAT2022_N00025_T0          sepsis            NaN     healthy   \n",
       "...                              ...            ...         ...   \n",
       "Terekhova2023_E19_T0         healthy        healthy     healthy   \n",
       "Terekhova2023_FA07_T0        healthy        healthy     healthy   \n",
       "Terekhova2023_FC04_T0        healthy        healthy     healthy   \n",
       "Terekhova2023_FD01_T0        healthy        healthy     healthy   \n",
       "Terekhova2023_FE05_T0        healthy        healthy     healthy   \n",
       "\n",
       "                       firstChoice_perc secondChoice  secondChoice_perc  \\\n",
       "sampleID                                                                  \n",
       "COMBAT2022_G05073_T0          46.153846          SLE          23.076923   \n",
       "COMBAT2022_G05097_T0          38.461538          SLE          30.769231   \n",
       "COMBAT2022_G05145_T0          38.461538      healthy          30.769231   \n",
       "COMBAT2022_N00021_T0          30.769231          SLE          23.076923   \n",
       "COMBAT2022_N00025_T0          36.363636       sepsis          27.272727   \n",
       "...                                 ...          ...                ...   \n",
       "Terekhova2023_E19_T0          84.615385                       15.384615   \n",
       "Terekhova2023_FA07_T0         84.615385                       15.384615   \n",
       "Terekhova2023_FC04_T0         84.615385                       15.384615   \n",
       "Terekhova2023_FD01_T0         84.615385                       15.384615   \n",
       "Terekhova2023_FE05_T0         84.615385                       15.384615   \n",
       "\n",
       "                      disease_true  \n",
       "sampleID                            \n",
       "COMBAT2022_G05073_T0         COVID  \n",
       "COMBAT2022_G05097_T0         COVID  \n",
       "COMBAT2022_G05145_T0         COVID  \n",
       "COMBAT2022_N00021_T0        sepsis  \n",
       "COMBAT2022_N00025_T0        sepsis  \n",
       "...                            ...  \n",
       "Terekhova2023_E19_T0       healthy  \n",
       "Terekhova2023_FA07_T0      healthy  \n",
       "Terekhova2023_FC04_T0      healthy  \n",
       "Terekhova2023_FD01_T0      healthy  \n",
       "Terekhova2023_FE05_T0      healthy  \n",
       "\n",
       "[144 rows x 16 columns]"
      ]
     },
     "execution_count": 32,
     "metadata": {},
     "output_type": "execute_result"
    }
   ],
   "source": [
    "res"
   ]
  }
 ],
 "metadata": {
  "kernelspec": {
   "display_name": "Python 3 (ipykernel)",
   "language": "python",
   "name": "python3"
  },
  "language_info": {
   "codemirror_mode": {
    "name": "ipython",
    "version": 3
   },
   "file_extension": ".py",
   "mimetype": "text/x-python",
   "name": "python",
   "nbconvert_exporter": "python",
   "pygments_lexer": "ipython3",
   "version": "3.10.13"
  },
  "papermill": {
   "default_parameters": {},
   "duration": 8293.19296,
   "end_time": "2024-06-12T10:35:25.780575",
   "environment_variables": {},
   "exception": null,
   "input_path": "a02_queryDatasets_and_labelTransfer.ipynb",
   "output_path": "executed_notebooks/a02_queryDatasets_and_labelTransfer_VALIDATION_nPC200_Batch_chemistry.ipynb",
   "parameters": {
    "batchKeys": "chemistry",
    "nPC": 200,
    "queryDataset": "VALIDATION"
   },
   "start_time": "2024-06-12T08:17:12.587615",
   "version": "2.5.0"
  }
 },
 "nbformat": 4,
 "nbformat_minor": 5
}