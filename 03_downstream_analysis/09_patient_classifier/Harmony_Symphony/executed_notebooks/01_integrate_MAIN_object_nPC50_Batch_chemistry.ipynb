{
 "cells": [
  {
   "cell_type": "code",
   "execution_count": 1,
   "id": "49aec83b",
   "metadata": {
    "execution": {
     "iopub.execute_input": "2024-06-16T21:34:44.334936Z",
     "iopub.status.busy": "2024-06-16T21:34:44.334582Z",
     "iopub.status.idle": "2024-06-16T21:34:44.340021Z",
     "shell.execute_reply": "2024-06-16T21:34:44.339574Z"
    },
    "papermill": {
     "duration": 0.019939,
     "end_time": "2024-06-16T21:34:44.340996",
     "exception": false,
     "start_time": "2024-06-16T21:34:44.321057",
     "status": "completed"
    },
    "tags": [
     "injected-parameters"
    ]
   },
   "outputs": [],
   "source": [
    "# Parameters\n",
    "nPC = 50\n",
    "batchKeys = \"chemistry\"\n"
   ]
  },
  {
   "cell_type": "raw",
   "id": "b23fce1d-13c4-425c-a8e2-2d213aecc270",
   "metadata": {
    "execution": {
     "iopub.execute_input": "2024-06-07T16:29:56.221480Z",
     "iopub.status.busy": "2024-06-07T16:29:56.221137Z",
     "iopub.status.idle": "2024-06-07T16:29:56.223682Z",
     "shell.execute_reply": "2024-06-07T16:29:56.223368Z",
     "shell.execute_reply.started": "2024-06-07T16:29:56.221460Z"
    },
    "papermill": {
     "duration": 0.010226,
     "end_time": "2024-06-16T21:34:44.356771",
     "exception": false,
     "start_time": "2024-06-16T21:34:44.346545",
     "status": "completed"
    },
    "tags": []
   },
   "source": [
    "nPC = 30\n",
    "batchKeys = 'chemistry'"
   ]
  },
  {
   "cell_type": "code",
   "execution_count": 2,
   "id": "c33b3da1-8c7c-405f-8cd8-0b4c41120385",
   "metadata": {
    "execution": {
     "iopub.execute_input": "2024-06-16T21:34:44.400945Z",
     "iopub.status.busy": "2024-06-16T21:34:44.400487Z",
     "iopub.status.idle": "2024-06-16T21:34:44.403852Z",
     "shell.execute_reply": "2024-06-16T21:34:44.403381Z"
    },
    "papermill": {
     "duration": 0.013265,
     "end_time": "2024-06-16T21:34:44.404835",
     "exception": false,
     "start_time": "2024-06-16T21:34:44.391570",
     "status": "completed"
    },
    "tags": []
   },
   "outputs": [
    {
     "name": "stdout",
     "output_type": "stream",
     "text": [
      "nPC = 50\n",
      "batchKeys = chemistry\n"
     ]
    }
   ],
   "source": [
    "for v in ['nPC','batchKeys']:\n",
    "    if v in locals() or v in globals():\n",
    "        print(f\"{v} = {eval(v)}\")\n",
    "    else:\n",
    "        raise Exception(f\"{v} not specified\")"
   ]
  },
  {
   "cell_type": "code",
   "execution_count": 3,
   "id": "efdb80f5-e899-4f33-bef2-150b34859a2d",
   "metadata": {
    "execution": {
     "iopub.execute_input": "2024-06-16T21:34:44.416515Z",
     "iopub.status.busy": "2024-06-16T21:34:44.416006Z",
     "iopub.status.idle": "2024-06-16T21:35:04.295796Z",
     "shell.execute_reply": "2024-06-16T21:35:04.295287Z"
    },
    "papermill": {
     "duration": 19.887383,
     "end_time": "2024-06-16T21:35:04.297457",
     "exception": false,
     "start_time": "2024-06-16T21:34:44.410074",
     "status": "completed"
    },
    "tags": []
   },
   "outputs": [],
   "source": [
    "import os\n",
    "\n",
    "import scanpy as sc\n",
    "import pandas as pd\n",
    "import numpy as np\n",
    "\n",
    "import symphonypy as sp\n",
    "\n",
    "from pyprojroot import here\n",
    "\n",
    "random_seed = 42"
   ]
  },
  {
   "cell_type": "markdown",
   "id": "43ddb5fd-a284-4b0e-998b-aa752ca4985a",
   "metadata": {
    "papermill": {
     "duration": 0.007124,
     "end_time": "2024-06-16T21:35:04.310053",
     "exception": false,
     "start_time": "2024-06-16T21:35:04.302929",
     "status": "completed"
    },
    "tags": []
   },
   "source": [
    "### Functions"
   ]
  },
  {
   "cell_type": "code",
   "execution_count": 4,
   "id": "68d2bba3-84fd-4fc4-83a3-b6acd682540b",
   "metadata": {
    "execution": {
     "iopub.execute_input": "2024-06-16T21:35:04.321410Z",
     "iopub.status.busy": "2024-06-16T21:35:04.321038Z",
     "iopub.status.idle": "2024-06-16T21:35:04.326380Z",
     "shell.execute_reply": "2024-06-16T21:35:04.325997Z"
    },
    "papermill": {
     "duration": 0.011921,
     "end_time": "2024-06-16T21:35:04.327263",
     "exception": false,
     "start_time": "2024-06-16T21:35:04.315342",
     "status": "completed"
    },
    "tags": []
   },
   "outputs": [],
   "source": [
    "def aggregating_features(Z = None, obsDF = None, mode = 'mean', obs_names_col = []):\n",
    "    Zdf = pd.DataFrame(Z)\n",
    "    for c in obsDF.columns:\n",
    "        Zdf[c] = obsDF[c].tolist()\n",
    "    if mode in ['mean','avarage']:\n",
    "        Zaggr = Zdf.groupby(obsDF.columns.tolist(), observed = True).mean()\n",
    "    elif mode == 'sum':\n",
    "        Zaggr = Zdf.groupby(obsDF.columns.tolist(), observed = True).sum()\n",
    "    else:\n",
    "        raise ValueError(f\"mode {mode} not supported. Available mode are 'mean' or 'sum'\")\n",
    "\n",
    "    grpObs = pd.DataFrame(Zaggr.index.tolist(), columns=obsDF.columns.tolist())\n",
    "\n",
    "    if len(obs_names_col) == 0:\n",
    "        grpAdata  = sc.AnnData(X = np.array(Zaggr), obs = grpObs, )\n",
    "    elif all([c in obsDF.columns.tolist() for c in obs_names_col]):\n",
    "        grpObs.index = grpObs[obs_names_col].apply(lambda row: '_'.join(row.values.astype(str)), axis=1)\n",
    "        grpAdata  = sc.AnnData(X = np.array(Zaggr), obs = grpObs)\n",
    "    else:\n",
    "        raise ValueError(f\"Impossible to use {obs_names_col} as index. It's not present in obsDF\")\n",
    "    return grpAdata"
   ]
  },
  {
   "cell_type": "markdown",
   "id": "bd323da1-8446-4ffc-91ac-c737ce081412",
   "metadata": {
    "papermill": {
     "duration": 0.005576,
     "end_time": "2024-06-16T21:35:04.338626",
     "exception": false,
     "start_time": "2024-06-16T21:35:04.333050",
     "status": "completed"
    },
    "tags": []
   },
   "source": [
    "### Parameters"
   ]
  },
  {
   "cell_type": "code",
   "execution_count": 5,
   "id": "3f81fe70-a960-401d-a05d-9d9199edd620",
   "metadata": {
    "execution": {
     "iopub.execute_input": "2024-06-16T21:35:04.349382Z",
     "iopub.status.busy": "2024-06-16T21:35:04.349135Z",
     "iopub.status.idle": "2024-06-16T21:35:04.353761Z",
     "shell.execute_reply": "2024-06-16T21:35:04.353417Z"
    },
    "papermill": {
     "duration": 0.010811,
     "end_time": "2024-06-16T21:35:04.354671",
     "exception": false,
     "start_time": "2024-06-16T21:35:04.343860",
     "status": "completed"
    },
    "tags": []
   },
   "outputs": [
    {
     "data": {
      "text/plain": [
       "['chemistry']"
      ]
     },
     "execution_count": 5,
     "metadata": {},
     "output_type": "execute_result"
    }
   ],
   "source": [
    "batch_key_ref = batchKeys.split(',')\n",
    "batch_key_ref"
   ]
  },
  {
   "cell_type": "markdown",
   "id": "008170b2-f7e2-4c59-b434-b682dacf1110",
   "metadata": {
    "papermill": {
     "duration": 0.00506,
     "end_time": "2024-06-16T21:35:04.364987",
     "exception": false,
     "start_time": "2024-06-16T21:35:04.359927",
     "status": "completed"
    },
    "tags": []
   },
   "source": [
    "### Loading reference data"
   ]
  },
  {
   "cell_type": "code",
   "execution_count": 6,
   "id": "8e361302-99f5-48fe-989b-f196e18ae0dd",
   "metadata": {
    "execution": {
     "iopub.execute_input": "2024-06-16T21:35:04.375780Z",
     "iopub.status.busy": "2024-06-16T21:35:04.375593Z",
     "iopub.status.idle": "2024-06-16T21:36:26.669788Z",
     "shell.execute_reply": "2024-06-16T21:36:26.669283Z"
    },
    "papermill": {
     "duration": 82.307374,
     "end_time": "2024-06-16T21:36:26.677331",
     "exception": false,
     "start_time": "2024-06-16T21:35:04.369957",
     "status": "completed"
    },
    "tags": []
   },
   "outputs": [
    {
     "data": {
      "text/plain": [
       "AnnData object with n_obs × n_vars = 4435922 × 8253\n",
       "    obs: 'studyID', 'libraryID', 'sampleID', 'chemistry', 'disease', 'sex', 'binned_age', 'Level1', 'Level2'\n",
       "    var: 'hgnc_id', 'symbol', 'locus_group', 'HUGO_status', 'highly_variable'"
      ]
     },
     "execution_count": 6,
     "metadata": {},
     "output_type": "execute_result"
    }
   ],
   "source": [
    "adataR = sc.read_h5ad(here('03_downstream_analysis/02_gene_universe_definition/results/04_MAIN_geneUniverse.h5ad'))\n",
    "adataR"
   ]
  },
  {
   "cell_type": "markdown",
   "id": "0be9f746-fd30-4f97-9ec7-1a1e1f831776",
   "metadata": {
    "papermill": {
     "duration": 0.005155,
     "end_time": "2024-06-16T21:36:26.689052",
     "exception": false,
     "start_time": "2024-06-16T21:36:26.683897",
     "status": "completed"
    },
    "tags": []
   },
   "source": [
    "### Preprocessing"
   ]
  },
  {
   "cell_type": "code",
   "execution_count": 7,
   "id": "db7e0e86-4cfc-44f7-a6f1-1fa3795ad5a3",
   "metadata": {
    "execution": {
     "iopub.execute_input": "2024-06-16T21:36:26.701719Z",
     "iopub.status.busy": "2024-06-16T21:36:26.701509Z",
     "iopub.status.idle": "2024-06-16T21:39:57.920251Z",
     "shell.execute_reply": "2024-06-16T21:39:57.919539Z"
    },
    "papermill": {
     "duration": 211.227313,
     "end_time": "2024-06-16T21:39:57.921748",
     "exception": false,
     "start_time": "2024-06-16T21:36:26.694435",
     "status": "completed"
    },
    "tags": []
   },
   "outputs": [],
   "source": [
    "sc.pp.normalize_total(adataR, target_sum=1e4)\n",
    "sc.pp.log1p(adataR)"
   ]
  },
  {
   "cell_type": "code",
   "execution_count": 8,
   "id": "74e00e88-f97f-457b-928e-ee7c2e91b64a",
   "metadata": {
    "execution": {
     "iopub.execute_input": "2024-06-16T21:39:57.936687Z",
     "iopub.status.busy": "2024-06-16T21:39:57.936468Z",
     "iopub.status.idle": "2024-06-16T21:43:59.241456Z",
     "shell.execute_reply": "2024-06-16T21:43:59.240725Z"
    },
    "papermill": {
     "duration": 241.313826,
     "end_time": "2024-06-16T21:43:59.243314",
     "exception": false,
     "start_time": "2024-06-16T21:39:57.929488",
     "status": "completed"
    },
    "tags": []
   },
   "outputs": [],
   "source": [
    "# We followed the tutorial from the python package (https://symphonypy.readthedocs.io/en/latest/usage.html)\n",
    "sc.pp.scale(adataR)"
   ]
  },
  {
   "cell_type": "code",
   "execution_count": 9,
   "id": "07fb0fc9-4a10-47fb-b4d6-3b7d66286cfd",
   "metadata": {
    "execution": {
     "iopub.execute_input": "2024-06-16T21:43:59.261935Z",
     "iopub.status.busy": "2024-06-16T21:43:59.261713Z",
     "iopub.status.idle": "2024-06-17T01:36:28.393085Z",
     "shell.execute_reply": "2024-06-17T01:36:28.392436Z"
    },
    "papermill": {
     "duration": 13949.140036,
     "end_time": "2024-06-17T01:36:28.394621",
     "exception": false,
     "start_time": "2024-06-16T21:43:59.254585",
     "status": "completed"
    },
    "tags": []
   },
   "outputs": [],
   "source": [
    "sc.pp.pca(adataR, \n",
    "          n_comps=nPC, \n",
    "          use_highly_variable = False,\n",
    "          zero_center=False)"
   ]
  },
  {
   "cell_type": "markdown",
   "id": "3109c878-d7d1-4372-9462-0ccdb78070dc",
   "metadata": {
    "papermill": {
     "duration": 0.007657,
     "end_time": "2024-06-17T01:36:28.436866",
     "exception": false,
     "start_time": "2024-06-17T01:36:28.429209",
     "status": "completed"
    },
    "tags": []
   },
   "source": [
    "### Integration with Harmony"
   ]
  },
  {
   "cell_type": "code",
   "execution_count": 10,
   "id": "d2e7eed3-c2e1-4031-a49f-89e32fe17130",
   "metadata": {
    "execution": {
     "iopub.execute_input": "2024-06-17T01:36:28.449121Z",
     "iopub.status.busy": "2024-06-17T01:36:28.448926Z",
     "iopub.status.idle": "2024-06-17T05:04:13.113640Z",
     "shell.execute_reply": "2024-06-17T05:04:13.113013Z"
    },
    "papermill": {
     "duration": 12464.672511,
     "end_time": "2024-06-17T05:04:13.115087",
     "exception": false,
     "start_time": "2024-06-17T01:36:28.442576",
     "status": "completed"
    },
    "tags": []
   },
   "outputs": [
    {
     "name": "stdout",
     "output_type": "stream",
     "text": [
      "Harmony integration with harmonypy is preforming.\n"
     ]
    },
    {
     "name": "stderr",
     "output_type": "stream",
     "text": [
      "2024-06-17 03:36:30,457 - harmonypy - INFO - Computing initial centroids with sklearn.KMeans...\n"
     ]
    },
    {
     "name": "stderr",
     "output_type": "stream",
     "text": [
      "2024-06-17 03:53:54,023 - harmonypy - INFO - sklearn.KMeans initialization complete.\n"
     ]
    },
    {
     "name": "stderr",
     "output_type": "stream",
     "text": [
      "2024-06-17 03:54:34,766 - harmonypy - INFO - Iteration 1 of 100\n"
     ]
    },
    {
     "name": "stderr",
     "output_type": "stream",
     "text": [
      "2024-06-17 04:57:35,308 - harmonypy - INFO - Iteration 2 of 100\n"
     ]
    },
    {
     "name": "stderr",
     "output_type": "stream",
     "text": [
      "2024-06-17 06:00:38,717 - harmonypy - INFO - Iteration 3 of 100\n"
     ]
    },
    {
     "name": "stderr",
     "output_type": "stream",
     "text": [
      "2024-06-17 07:04:11,068 - harmonypy - INFO - Converged after 3 iterations\n"
     ]
    }
   ],
   "source": [
    "sp.pp.harmony_integrate(adataR,\n",
    "                        key=batch_key_ref, \n",
    "                        verbose = True, \n",
    "                        random_seed=random_seed,  \n",
    "                        **{'max_iter_harmony':100}, # harmony_kwargs | should reach convergence before\n",
    "                       )"
   ]
  },
  {
   "cell_type": "markdown",
   "id": "293069e9-53ac-4a34-88ef-633da997798d",
   "metadata": {
    "papermill": {
     "duration": 0.006105,
     "end_time": "2024-06-17T05:04:13.129141",
     "exception": false,
     "start_time": "2024-06-17T05:04:13.123036",
     "status": "completed"
    },
    "tags": []
   },
   "source": [
    "### Save integrated object"
   ]
  },
  {
   "cell_type": "code",
   "execution_count": 11,
   "id": "8f1c2d07-2a4b-40c6-9d48-b3d55317870d",
   "metadata": {
    "execution": {
     "iopub.execute_input": "2024-06-17T05:04:13.142758Z",
     "iopub.status.busy": "2024-06-17T05:04:13.142115Z",
     "iopub.status.idle": "2024-06-17T05:49:52.041751Z",
     "shell.execute_reply": "2024-06-17T05:49:52.040979Z"
    },
    "papermill": {
     "duration": 2738.90759,
     "end_time": "2024-06-17T05:49:52.043169",
     "exception": false,
     "start_time": "2024-06-17T05:04:13.135579",
     "status": "completed"
    },
    "tags": []
   },
   "outputs": [],
   "source": [
    "adataR.write(here(f\"03_downstream_analysis/08_PatientClassifier/Harmony_Symphony/results/01_MAIN_HarmonyIntegrated_{nPC}nPC_Batch_{batchKeys}.h5ad\"), compression='gzip')"
   ]
  },
  {
   "cell_type": "markdown",
   "id": "42c514ee-62a5-4cb0-b43d-86160a5c2122",
   "metadata": {
    "papermill": {
     "duration": 0.006223,
     "end_time": "2024-06-17T05:49:52.057524",
     "exception": false,
     "start_time": "2024-06-17T05:49:52.051301",
     "status": "completed"
    },
    "tags": []
   },
   "source": [
    "### Generating pseudobulk from latent space"
   ]
  },
  {
   "cell_type": "code",
   "execution_count": 12,
   "id": "f912d9bd-bb82-489e-98a6-9da7523b7dc7",
   "metadata": {
    "execution": {
     "iopub.execute_input": "2024-06-17T05:49:52.070450Z",
     "iopub.status.busy": "2024-06-17T05:49:52.070260Z",
     "iopub.status.idle": "2024-06-17T05:49:54.502986Z",
     "shell.execute_reply": "2024-06-17T05:49:54.502458Z"
    },
    "papermill": {
     "duration": 2.440494,
     "end_time": "2024-06-17T05:49:54.504100",
     "exception": false,
     "start_time": "2024-06-17T05:49:52.063606",
     "status": "completed"
    },
    "tags": []
   },
   "outputs": [],
   "source": [
    "emb_pseudobulk_train = aggregating_features(Z = adataR.obsm['X_pca_harmony'], \n",
    "                                            obsDF = adataR.obs[['sampleID','Level1','disease']], \n",
    "                                            mode = 'mean', obs_names_col=['sampleID','Level1'])"
   ]
  },
  {
   "cell_type": "code",
   "execution_count": 13,
   "id": "773a8fd1-2390-4ea2-aa4d-bf1672a6c8a8",
   "metadata": {
    "execution": {
     "iopub.execute_input": "2024-06-17T05:49:54.523271Z",
     "iopub.status.busy": "2024-06-17T05:49:54.523081Z",
     "iopub.status.idle": "2024-06-17T05:49:55.014376Z",
     "shell.execute_reply": "2024-06-17T05:49:55.013853Z"
    },
    "papermill": {
     "duration": 0.499588,
     "end_time": "2024-06-17T05:49:55.015316",
     "exception": false,
     "start_time": "2024-06-17T05:49:54.515728",
     "status": "completed"
    },
    "tags": []
   },
   "outputs": [],
   "source": [
    "emb_pseudobulk_train.write(here(f\"03_downstream_analysis/08_PatientClassifier/Harmony_Symphony/results/01_MAIN_HarmonyIntegrated_PSEUDOBULK_{nPC}nPC_Batch_{batchKeys}.h5ad\"), compression='gzip')"
   ]
  },
  {
   "cell_type": "code",
   "execution_count": null,
   "id": "0f68f2f6-9481-44db-a620-9fada9576c4a",
   "metadata": {
    "papermill": {
     "duration": 0.005825,
     "end_time": "2024-06-17T05:49:55.027674",
     "exception": false,
     "start_time": "2024-06-17T05:49:55.021849",
     "status": "completed"
    },
    "tags": []
   },
   "outputs": [],
   "source": []
  }
 ],
 "metadata": {
  "kernelspec": {
   "display_name": "Python 3 (ipykernel)",
   "language": "python",
   "name": "python3"
  },
  "language_info": {
   "codemirror_mode": {
    "name": "ipython",
    "version": 3
   },
   "file_extension": ".py",
   "mimetype": "text/x-python",
   "name": "python",
   "nbconvert_exporter": "python",
   "pygments_lexer": "ipython3",
   "version": "3.10.13"
  },
  "papermill": {
   "default_parameters": {},
   "duration": 29721.713827,
   "end_time": "2024-06-17T05:50:02.681637",
   "environment_variables": {},
   "exception": null,
   "input_path": "a01_integrate_MAIN_object.ipynb",
   "output_path": "executed_notebooks/a01_integrate_MAIN_object_nPC50_Batch_chemistry.ipynb",
   "parameters": {
    "batchKeys": "chemistry",
    "nPC": 50
   },
   "start_time": "2024-06-16T21:34:40.967810",
   "version": "2.5.0"
  }
 },
 "nbformat": 4,
 "nbformat_minor": 5
}