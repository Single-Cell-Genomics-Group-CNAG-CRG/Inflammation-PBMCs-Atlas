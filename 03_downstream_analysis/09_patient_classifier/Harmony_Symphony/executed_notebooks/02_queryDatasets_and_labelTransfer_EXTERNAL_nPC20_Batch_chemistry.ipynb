{
 "cells": [
  {
   "cell_type": "code",
   "execution_count": 1,
   "id": "5016f91e",
   "metadata": {
    "execution": {
     "iopub.execute_input": "2024-06-19T08:30:01.321381Z",
     "iopub.status.busy": "2024-06-19T08:30:01.321222Z",
     "iopub.status.idle": "2024-06-19T08:30:01.327042Z",
     "shell.execute_reply": "2024-06-19T08:30:01.326456Z"
    },
    "papermill": {
     "duration": 0.015707,
     "end_time": "2024-06-19T08:30:01.327989",
     "exception": false,
     "start_time": "2024-06-19T08:30:01.312282",
     "status": "completed"
    },
    "tags": [
     "injected-parameters"
    ]
   },
   "outputs": [],
   "source": [
    "# Parameters\n",
    "nPC = 20\n",
    "batchKeys = \"chemistry\"\n",
    "queryDataset = \"EXTERNAL\"\n"
   ]
  },
  {
   "cell_type": "raw",
   "id": "2c824816-2fbb-43a3-9807-722d9facfef3",
   "metadata": {
    "execution": {
     "iopub.execute_input": "2024-06-11T07:53:10.263964Z",
     "iopub.status.busy": "2024-06-11T07:53:10.263681Z",
     "iopub.status.idle": "2024-06-11T07:53:10.269000Z",
     "shell.execute_reply": "2024-06-11T07:53:10.268634Z",
     "shell.execute_reply.started": "2024-06-11T07:53:10.263945Z"
    },
    "papermill": {
     "duration": 0.006995,
     "end_time": "2024-06-19T08:30:01.342429",
     "exception": false,
     "start_time": "2024-06-19T08:30:01.335434",
     "status": "completed"
    },
    "tags": []
   },
   "source": [
    "nPC = 100\n",
    "batchKeys = 'libraryID,chemistry,sex,binned_age'\n",
    "queryDataset = 'VALIDATION'"
   ]
  },
  {
   "cell_type": "code",
   "execution_count": 2,
   "id": "3044cc6c-ce26-4de6-8b7b-f8f9af090921",
   "metadata": {
    "execution": {
     "iopub.execute_input": "2024-06-19T08:30:01.356824Z",
     "iopub.status.busy": "2024-06-19T08:30:01.356452Z",
     "iopub.status.idle": "2024-06-19T08:30:01.359834Z",
     "shell.execute_reply": "2024-06-19T08:30:01.359357Z"
    },
    "papermill": {
     "duration": 0.011529,
     "end_time": "2024-06-19T08:30:01.360735",
     "exception": false,
     "start_time": "2024-06-19T08:30:01.349206",
     "status": "completed"
    },
    "tags": []
   },
   "outputs": [
    {
     "name": "stdout",
     "output_type": "stream",
     "text": [
      "nPC = 20\n",
      "batchKeys = chemistry\n",
      "queryDataset = EXTERNAL\n"
     ]
    }
   ],
   "source": [
    "for v in ['nPC','batchKeys', 'queryDataset']:\n",
    "    if v in locals() or v in globals():\n",
    "        print(f\"{v} = {eval(v)}\")\n",
    "    else:\n",
    "        raise Exception(f\"{v} not specified\")"
   ]
  },
  {
   "cell_type": "code",
   "execution_count": 3,
   "id": "a9a81822-a7c1-4b2c-9419-c1df388c8d1f",
   "metadata": {
    "execution": {
     "iopub.execute_input": "2024-06-19T08:30:01.376195Z",
     "iopub.status.busy": "2024-06-19T08:30:01.375867Z",
     "iopub.status.idle": "2024-06-19T08:30:04.757523Z",
     "shell.execute_reply": "2024-06-19T08:30:04.757014Z"
    },
    "papermill": {
     "duration": 3.390762,
     "end_time": "2024-06-19T08:30:04.759048",
     "exception": false,
     "start_time": "2024-06-19T08:30:01.368286",
     "status": "completed"
    },
    "tags": []
   },
   "outputs": [],
   "source": [
    "import os\n",
    "import sys\n",
    "\n",
    "import scanpy as sc\n",
    "import pandas as pd\n",
    "import numpy as np\n",
    "\n",
    "import symphonypy as sp\n",
    "\n",
    "from sklearn.metrics import balanced_accuracy_score\n",
    "\n",
    "from pyprojroot import here\n",
    "\n",
    "sys.path.insert(1, str(here('bin')))\n",
    "# Import custom functions\n",
    "from customPythonFunctions import aggregating_features, train_patient_classifier, vote_patient_disease\n",
    "\n",
    "random_seed = 42"
   ]
  },
  {
   "cell_type": "markdown",
   "id": "bd323da1-8446-4ffc-91ac-c737ce081412",
   "metadata": {
    "papermill": {
     "duration": 0.00731,
     "end_time": "2024-06-19T08:30:04.774848",
     "exception": false,
     "start_time": "2024-06-19T08:30:04.767538",
     "status": "completed"
    },
    "tags": []
   },
   "source": [
    "### Parameters"
   ]
  },
  {
   "cell_type": "code",
   "execution_count": 4,
   "id": "3f81fe70-a960-401d-a05d-9d9199edd620",
   "metadata": {
    "execution": {
     "iopub.execute_input": "2024-06-19T08:30:04.789996Z",
     "iopub.status.busy": "2024-06-19T08:30:04.789672Z",
     "iopub.status.idle": "2024-06-19T08:30:04.795109Z",
     "shell.execute_reply": "2024-06-19T08:30:04.794754Z"
    },
    "papermill": {
     "duration": 0.014039,
     "end_time": "2024-06-19T08:30:04.796033",
     "exception": false,
     "start_time": "2024-06-19T08:30:04.781994",
     "status": "completed"
    },
    "tags": []
   },
   "outputs": [
    {
     "data": {
      "text/plain": [
       "['chemistry']"
      ]
     },
     "execution_count": 4,
     "metadata": {},
     "output_type": "execute_result"
    }
   ],
   "source": [
    "batch_key_query = batchKeys.split(',')\n",
    "batch_key_query"
   ]
  },
  {
   "cell_type": "markdown",
   "id": "008170b2-f7e2-4c59-b434-b682dacf1110",
   "metadata": {
    "papermill": {
     "duration": 0.006795,
     "end_time": "2024-06-19T08:30:04.809829",
     "exception": false,
     "start_time": "2024-06-19T08:30:04.803034",
     "status": "completed"
    },
    "tags": []
   },
   "source": [
    "### Loading dataset"
   ]
  },
  {
   "cell_type": "markdown",
   "id": "c96cf9da-e2ed-4800-903c-316f4805e559",
   "metadata": {
    "papermill": {
     "duration": 0.006872,
     "end_time": "2024-06-19T08:30:04.824127",
     "exception": false,
     "start_time": "2024-06-19T08:30:04.817255",
     "status": "completed"
    },
    "tags": []
   },
   "source": [
    "**Integrated object**"
   ]
  },
  {
   "cell_type": "code",
   "execution_count": 5,
   "id": "8e361302-99f5-48fe-989b-f196e18ae0dd",
   "metadata": {
    "execution": {
     "iopub.execute_input": "2024-06-19T08:30:04.838552Z",
     "iopub.status.busy": "2024-06-19T08:30:04.838396Z",
     "iopub.status.idle": "2024-06-19T08:30:33.111686Z",
     "shell.execute_reply": "2024-06-19T08:30:33.111058Z"
    },
    "papermill": {
     "duration": 28.281659,
     "end_time": "2024-06-19T08:30:33.112754",
     "exception": false,
     "start_time": "2024-06-19T08:30:04.831095",
     "status": "completed"
    },
    "tags": []
   },
   "outputs": [
    {
     "data": {
      "text/plain": [
       "AnnData object with n_obs × n_vars = 4435922 × 8253 backed at '/scratch_isilon/groups/singlecell/shared/projects/Inflammation-PBMCs-Atlas/03_downstream_analysis/08_PatientClassifier/Harmony_Symphony/results/01_MAIN_HarmonyIntegrated_20nPC_Batch_chemistry.h5ad'\n",
       "    obs: 'studyID', 'libraryID', 'sampleID', 'chemistry', 'disease', 'sex', 'binned_age', 'Level1', 'Level2'\n",
       "    var: 'hgnc_id', 'symbol', 'locus_group', 'HUGO_status', 'highly_variable', 'mean', 'std'\n",
       "    uns: 'harmony', 'log1p', 'pca'\n",
       "    obsm: 'X_pca', 'X_pca_harmony'\n",
       "    varm: 'PCs'"
      ]
     },
     "execution_count": 5,
     "metadata": {},
     "output_type": "execute_result"
    }
   ],
   "source": [
    "adataR = sc.read_h5ad(here(f\"03_downstream_analysis/08_PatientClassifier/Harmony_Symphony/results/01_MAIN_HarmonyIntegrated_{nPC}nPC_Batch_{batchKeys}.h5ad\"), backed='r')\n",
    "adataR"
   ]
  },
  {
   "cell_type": "markdown",
   "id": "7a8289b7-ae48-40bd-a8bf-b8a61d6fea7c",
   "metadata": {
    "papermill": {
     "duration": 0.006934,
     "end_time": "2024-06-19T08:30:33.139874",
     "exception": false,
     "start_time": "2024-06-19T08:30:33.132940",
     "status": "completed"
    },
    "tags": []
   },
   "source": [
    "**Query dataset**"
   ]
  },
  {
   "cell_type": "code",
   "execution_count": 6,
   "id": "f8922a45-9d49-4b6e-be13-48cecafe227d",
   "metadata": {
    "execution": {
     "iopub.execute_input": "2024-06-19T08:30:33.154639Z",
     "iopub.status.busy": "2024-06-19T08:30:33.154415Z",
     "iopub.status.idle": "2024-06-19T08:30:43.533876Z",
     "shell.execute_reply": "2024-06-19T08:30:43.533328Z"
    },
    "papermill": {
     "duration": 10.388163,
     "end_time": "2024-06-19T08:30:43.534893",
     "exception": false,
     "start_time": "2024-06-19T08:30:33.146730",
     "status": "completed"
    },
    "tags": []
   },
   "outputs": [
    {
     "data": {
      "text/plain": [
       "AnnData object with n_obs × n_vars = 572872 × 8253\n",
       "    obs: 'studyID', 'libraryID', 'sampleID', 'chemistry', 'technology', 'disease', 'sex', 'binned_age'\n",
       "    var: 'hgnc_id', 'symbol', 'locus_group', 'HUGO_status'"
      ]
     },
     "execution_count": 6,
     "metadata": {},
     "output_type": "execute_result"
    }
   ],
   "source": [
    "adataQ = sc.read_h5ad(here(f'03_downstream_analysis/02_gene_universe_definition/results/05_{queryDataset}_geneUniverse.h5ad'))\n",
    "adataQ"
   ]
  },
  {
   "cell_type": "markdown",
   "id": "0be9f746-fd30-4f97-9ec7-1a1e1f831776",
   "metadata": {
    "papermill": {
     "duration": 0.007147,
     "end_time": "2024-06-19T08:30:43.551179",
     "exception": false,
     "start_time": "2024-06-19T08:30:43.544032",
     "status": "completed"
    },
    "tags": []
   },
   "source": [
    "### Preprocessing"
   ]
  },
  {
   "cell_type": "code",
   "execution_count": 7,
   "id": "db7e0e86-4cfc-44f7-a6f1-1fa3795ad5a3",
   "metadata": {
    "execution": {
     "iopub.execute_input": "2024-06-19T08:30:43.567224Z",
     "iopub.status.busy": "2024-06-19T08:30:43.566839Z",
     "iopub.status.idle": "2024-06-19T08:31:15.164020Z",
     "shell.execute_reply": "2024-06-19T08:31:15.163437Z"
    },
    "papermill": {
     "duration": 31.60667,
     "end_time": "2024-06-19T08:31:15.165436",
     "exception": false,
     "start_time": "2024-06-19T08:30:43.558766",
     "status": "completed"
    },
    "tags": []
   },
   "outputs": [],
   "source": [
    "sc.pp.normalize_total(adataQ, target_sum=1e4)\n",
    "sc.pp.log1p(adataQ)"
   ]
  },
  {
   "cell_type": "markdown",
   "id": "3109c878-d7d1-4372-9462-0ccdb78070dc",
   "metadata": {
    "papermill": {
     "duration": 0.007123,
     "end_time": "2024-06-19T08:31:15.186680",
     "exception": false,
     "start_time": "2024-06-19T08:31:15.179557",
     "status": "completed"
    },
    "tags": []
   },
   "source": [
    "### Projection with Symphony"
   ]
  },
  {
   "cell_type": "code",
   "execution_count": 8,
   "id": "d2e7eed3-c2e1-4031-a49f-89e32fe17130",
   "metadata": {
    "execution": {
     "iopub.execute_input": "2024-06-19T08:31:15.202047Z",
     "iopub.status.busy": "2024-06-19T08:31:15.201876Z",
     "iopub.status.idle": "2024-06-19T08:37:57.937720Z",
     "shell.execute_reply": "2024-06-19T08:37:57.636987Z"
    },
    "papermill": {
     "duration": 402.745427,
     "end_time": "2024-06-19T08:37:57.939382",
     "exception": false,
     "start_time": "2024-06-19T08:31:15.193955",
     "status": "completed"
    },
    "tags": []
   },
   "outputs": [],
   "source": [
    "sp.tl.map_embedding(adataQ, adataR, key=batch_key_query)"
   ]
  },
  {
   "cell_type": "raw",
   "id": "9205924b-4e03-45d1-92af-b95346636a03",
   "metadata": {
    "papermill": {
     "duration": 0.15095,
     "end_time": "2024-06-19T08:37:59.246719",
     "exception": false,
     "start_time": "2024-06-19T08:37:59.095769",
     "status": "completed"
    },
    "tags": []
   },
   "source": [
    "sp.tl.per_cell_confidence(adataQ, adataR)"
   ]
  },
  {
   "cell_type": "raw",
   "id": "46a6bb72-921f-4385-bac9-4c6b138b00f0",
   "metadata": {
    "papermill": {
     "duration": 0.254335,
     "end_time": "2024-06-19T08:37:59.664154",
     "exception": false,
     "start_time": "2024-06-19T08:37:59.409819",
     "status": "completed"
    },
    "tags": []
   },
   "source": [
    "adataQ.obs.symphony_per_cell_dist.hist(bins=100)"
   ]
  },
  {
   "cell_type": "code",
   "execution_count": 9,
   "id": "2ee17ce6-f8c5-4a1e-b93e-9fc70ab7edb9",
   "metadata": {
    "execution": {
     "iopub.execute_input": "2024-06-19T08:37:59.966834Z",
     "iopub.status.busy": "2024-06-19T08:37:59.966109Z",
     "iopub.status.idle": "2024-06-19T08:37:59.970889Z",
     "shell.execute_reply": "2024-06-19T08:37:59.970400Z"
    },
    "papermill": {
     "duration": 0.27611,
     "end_time": "2024-06-19T08:37:59.971936",
     "exception": false,
     "start_time": "2024-06-19T08:37:59.695826",
     "status": "completed"
    },
    "tags": []
   },
   "outputs": [
    {
     "data": {
      "text/plain": [
       "AnnData object with n_obs × n_vars = 572872 × 8253\n",
       "    obs: 'studyID', 'libraryID', 'sampleID', 'chemistry', 'technology', 'disease', 'sex', 'binned_age'\n",
       "    var: 'hgnc_id', 'symbol', 'locus_group', 'HUGO_status'\n",
       "    uns: 'log1p'\n",
       "    obsm: 'X_pca_reference', 'X_pca_harmony', 'X_pca_harmony_symphony_R'"
      ]
     },
     "execution_count": 9,
     "metadata": {},
     "output_type": "execute_result"
    }
   ],
   "source": [
    "adataQ"
   ]
  },
  {
   "cell_type": "markdown",
   "id": "51e25a69-c8f9-43c8-b50c-e2b4aa826a6b",
   "metadata": {
    "papermill": {
     "duration": 0.053354,
     "end_time": "2024-06-19T08:38:00.927873",
     "exception": false,
     "start_time": "2024-06-19T08:38:00.874519",
     "status": "completed"
    },
    "tags": []
   },
   "source": [
    "### Label transfer"
   ]
  },
  {
   "cell_type": "code",
   "execution_count": 10,
   "id": "81d61d37-fdfa-4071-aace-eff99e9d6787",
   "metadata": {
    "execution": {
     "iopub.execute_input": "2024-06-19T08:38:01.026313Z",
     "iopub.status.busy": "2024-06-19T08:38:01.025502Z",
     "iopub.status.idle": "2024-06-19T08:38:01.029058Z",
     "shell.execute_reply": "2024-06-19T08:38:01.028487Z"
    },
    "papermill": {
     "duration": 0.018045,
     "end_time": "2024-06-19T08:38:01.030089",
     "exception": false,
     "start_time": "2024-06-19T08:38:01.012044",
     "status": "completed"
    },
    "tags": []
   },
   "outputs": [],
   "source": [
    "# common embedded space -> adataQ.obsm['X_pca_harmony']"
   ]
  },
  {
   "cell_type": "markdown",
   "id": "9482b233-08d7-4ed8-ad0f-729f59e05024",
   "metadata": {
    "papermill": {
     "duration": 1.479844,
     "end_time": "2024-06-19T08:38:02.674619",
     "exception": false,
     "start_time": "2024-06-19T08:38:01.194775",
     "status": "completed"
    },
    "tags": []
   },
   "source": [
    "**Level1 Annotation**"
   ]
  },
  {
   "cell_type": "code",
   "execution_count": 11,
   "id": "1016b8d2-0480-409a-aac4-1e521a1397b0",
   "metadata": {
    "execution": {
     "iopub.execute_input": "2024-06-19T08:38:05.130581Z",
     "iopub.status.busy": "2024-06-19T08:38:05.130273Z",
     "iopub.status.idle": "2024-06-19T08:55:52.948795Z",
     "shell.execute_reply": "2024-06-19T08:55:52.948119Z"
    },
    "papermill": {
     "duration": 1068.449911,
     "end_time": "2024-06-19T08:55:52.950357",
     "exception": false,
     "start_time": "2024-06-19T08:38:04.500446",
     "status": "completed"
    },
    "tags": []
   },
   "outputs": [],
   "source": [
    "sp.tl.transfer_labels_kNN(adataQ, adataR, 'Level1', ref_basis = 'X_pca_harmony', query_basis = 'X_pca_harmony')"
   ]
  },
  {
   "cell_type": "markdown",
   "id": "69eb76ae-aa03-4807-b680-a7423fb55458",
   "metadata": {
    "papermill": {
     "duration": 0.007832,
     "end_time": "2024-06-19T08:55:52.969569",
     "exception": false,
     "start_time": "2024-06-19T08:55:52.961737",
     "status": "completed"
    },
    "tags": []
   },
   "source": [
    "**Disease**"
   ]
  },
  {
   "cell_type": "code",
   "execution_count": 12,
   "id": "20429eca-9c43-4db8-b1da-94434c4c99c2",
   "metadata": {
    "execution": {
     "iopub.execute_input": "2024-06-19T08:55:52.986443Z",
     "iopub.status.busy": "2024-06-19T08:55:52.986169Z",
     "iopub.status.idle": "2024-06-19T08:55:52.989606Z",
     "shell.execute_reply": "2024-06-19T08:55:52.989242Z"
    },
    "papermill": {
     "duration": 0.013069,
     "end_time": "2024-06-19T08:55:52.990509",
     "exception": false,
     "start_time": "2024-06-19T08:55:52.977440",
     "status": "completed"
    },
    "tags": []
   },
   "outputs": [],
   "source": [
    "adataQ.obs.rename({'disease':'disease_true'}, axis=1, inplace=True)"
   ]
  },
  {
   "cell_type": "code",
   "execution_count": 13,
   "id": "7b72f7c3-af64-4a22-ab6b-8d5e5dbd4af3",
   "metadata": {
    "execution": {
     "iopub.execute_input": "2024-06-19T08:55:53.006941Z",
     "iopub.status.busy": "2024-06-19T08:55:53.006570Z",
     "iopub.status.idle": "2024-06-19T09:08:41.663874Z",
     "shell.execute_reply": "2024-06-19T09:08:41.663141Z"
    },
    "papermill": {
     "duration": 768.667195,
     "end_time": "2024-06-19T09:08:41.665548",
     "exception": false,
     "start_time": "2024-06-19T08:55:52.998353",
     "status": "completed"
    },
    "tags": []
   },
   "outputs": [],
   "source": [
    "sp.tl.transfer_labels_kNN(adataQ, adataR, 'disease', ref_basis = 'X_pca_harmony', query_basis = 'X_pca_harmony')"
   ]
  },
  {
   "cell_type": "code",
   "execution_count": 14,
   "id": "2e1ad1d0-8a52-46a8-ae97-15dc2984f08e",
   "metadata": {
    "execution": {
     "iopub.execute_input": "2024-06-19T09:08:41.687386Z",
     "iopub.status.busy": "2024-06-19T09:08:41.687157Z",
     "iopub.status.idle": "2024-06-19T09:08:41.690539Z",
     "shell.execute_reply": "2024-06-19T09:08:41.690182Z"
    },
    "papermill": {
     "duration": 0.013382,
     "end_time": "2024-06-19T09:08:41.691397",
     "exception": false,
     "start_time": "2024-06-19T09:08:41.678015",
     "status": "completed"
    },
    "tags": []
   },
   "outputs": [],
   "source": [
    "adataQ.obs.rename({'disease':'disease_pred'}, axis=1, inplace=True)"
   ]
  },
  {
   "cell_type": "code",
   "execution_count": 15,
   "id": "0eb1c5d7-97fd-4c42-9b7b-8cddd8e22987",
   "metadata": {
    "execution": {
     "iopub.execute_input": "2024-06-19T09:08:41.707159Z",
     "iopub.status.busy": "2024-06-19T09:08:41.706910Z",
     "iopub.status.idle": "2024-06-19T09:08:43.439774Z",
     "shell.execute_reply": "2024-06-19T09:08:43.439359Z"
    },
    "papermill": {
     "duration": 1.741981,
     "end_time": "2024-06-19T09:08:43.440920",
     "exception": false,
     "start_time": "2024-06-19T09:08:41.698939",
     "status": "completed"
    },
    "tags": []
   },
   "outputs": [
    {
     "name": "stderr",
     "output_type": "stream",
     "text": [
      "/scratch_isilon/groups/singlecell/shared/conda_env/inflammation_atlas_R1/lib/python3.10/site-packages/sklearn/metrics/_classification.py:2458: UserWarning: y_pred contains classes not in y_true\n",
      "  warnings.warn(\"y_pred contains classes not in y_true\")\n"
     ]
    },
    {
     "data": {
      "text/plain": [
       "0.154314427796604"
      ]
     },
     "execution_count": 15,
     "metadata": {},
     "output_type": "execute_result"
    }
   ],
   "source": [
    "balanced_accuracy_score(y_true = adataQ.obs.disease_true, y_pred=adataQ.obs.disease_pred)"
   ]
  },
  {
   "cell_type": "code",
   "execution_count": 16,
   "id": "0e4bc21f-ed6a-41d9-8254-1eb2bc58c1a1",
   "metadata": {
    "execution": {
     "iopub.execute_input": "2024-06-19T09:08:43.460724Z",
     "iopub.status.busy": "2024-06-19T09:08:43.460523Z",
     "iopub.status.idle": "2024-06-19T09:08:43.475311Z",
     "shell.execute_reply": "2024-06-19T09:08:43.474964Z"
    },
    "papermill": {
     "duration": 0.024924,
     "end_time": "2024-06-19T09:08:43.476354",
     "exception": false,
     "start_time": "2024-06-19T09:08:43.451430",
     "status": "completed"
    },
    "tags": []
   },
   "outputs": [
    {
     "data": {
      "text/html": [
       "<div>\n",
       "<style scoped>\n",
       "    .dataframe tbody tr th:only-of-type {\n",
       "        vertical-align: middle;\n",
       "    }\n",
       "\n",
       "    .dataframe tbody tr th {\n",
       "        vertical-align: top;\n",
       "    }\n",
       "\n",
       "    .dataframe thead th {\n",
       "        text-align: right;\n",
       "    }\n",
       "</style>\n",
       "<table border=\"1\" class=\"dataframe\">\n",
       "  <thead>\n",
       "    <tr style=\"text-align: right;\">\n",
       "      <th></th>\n",
       "      <th>studyID</th>\n",
       "      <th>libraryID</th>\n",
       "      <th>sampleID</th>\n",
       "      <th>chemistry</th>\n",
       "      <th>technology</th>\n",
       "      <th>disease_true</th>\n",
       "      <th>sex</th>\n",
       "      <th>binned_age</th>\n",
       "      <th>Level1</th>\n",
       "      <th>disease_pred</th>\n",
       "    </tr>\n",
       "    <tr>\n",
       "      <th>cellID</th>\n",
       "      <th></th>\n",
       "      <th></th>\n",
       "      <th></th>\n",
       "      <th></th>\n",
       "      <th></th>\n",
       "      <th></th>\n",
       "      <th></th>\n",
       "      <th></th>\n",
       "      <th></th>\n",
       "      <th></th>\n",
       "    </tr>\n",
       "  </thead>\n",
       "  <tbody>\n",
       "    <tr>\n",
       "      <th>SCGT00val_L006_I036016_T0_AAACCCAAGACAACTA</th>\n",
       "      <td>SCGT00val</td>\n",
       "      <td>SCGT00val_L006</td>\n",
       "      <td>SCGT00val_I036016_T0</td>\n",
       "      <td>3_GEX_V3</td>\n",
       "      <td>3_GEX_V3_GenoHashed</td>\n",
       "      <td>RA</td>\n",
       "      <td>female</td>\n",
       "      <td>31-40</td>\n",
       "      <td>T_CD4_Naive</td>\n",
       "      <td>HIV</td>\n",
       "    </tr>\n",
       "    <tr>\n",
       "      <th>SCGT00val_L006_I036023_T0_AAACCCAAGACGGAAA</th>\n",
       "      <td>SCGT00val</td>\n",
       "      <td>SCGT00val_L006</td>\n",
       "      <td>SCGT00val_I036023_T0</td>\n",
       "      <td>3_GEX_V3</td>\n",
       "      <td>3_GEX_V3_GenoHashed</td>\n",
       "      <td>RA</td>\n",
       "      <td>female</td>\n",
       "      <td>51-60</td>\n",
       "      <td>T_CD4_NonNaive</td>\n",
       "      <td>RA</td>\n",
       "    </tr>\n",
       "    <tr>\n",
       "      <th>SCGT00val_L006_I036016_T0_AAACCCAAGAGCATTA</th>\n",
       "      <td>SCGT00val</td>\n",
       "      <td>SCGT00val_L006</td>\n",
       "      <td>SCGT00val_I036016_T0</td>\n",
       "      <td>3_GEX_V3</td>\n",
       "      <td>3_GEX_V3_GenoHashed</td>\n",
       "      <td>RA</td>\n",
       "      <td>female</td>\n",
       "      <td>31-40</td>\n",
       "      <td>T_CD4_Naive</td>\n",
       "      <td>CD</td>\n",
       "    </tr>\n",
       "    <tr>\n",
       "      <th>SCGT00val_L006_I036021_T0_AAACCCAAGATGGTCG</th>\n",
       "      <td>SCGT00val</td>\n",
       "      <td>SCGT00val_L006</td>\n",
       "      <td>SCGT00val_I036021_T0</td>\n",
       "      <td>3_GEX_V3</td>\n",
       "      <td>3_GEX_V3_GenoHashed</td>\n",
       "      <td>RA</td>\n",
       "      <td>female</td>\n",
       "      <td>61-70</td>\n",
       "      <td>T_CD8_NonNaive</td>\n",
       "      <td>healthy</td>\n",
       "    </tr>\n",
       "    <tr>\n",
       "      <th>SCGT00val_L006_I036021_T0_AAACCCAAGCAACAAT</th>\n",
       "      <td>SCGT00val</td>\n",
       "      <td>SCGT00val_L006</td>\n",
       "      <td>SCGT00val_I036021_T0</td>\n",
       "      <td>3_GEX_V3</td>\n",
       "      <td>3_GEX_V3_GenoHashed</td>\n",
       "      <td>RA</td>\n",
       "      <td>female</td>\n",
       "      <td>61-70</td>\n",
       "      <td>DC</td>\n",
       "      <td>RA</td>\n",
       "    </tr>\n",
       "    <tr>\n",
       "      <th>...</th>\n",
       "      <td>...</td>\n",
       "      <td>...</td>\n",
       "      <td>...</td>\n",
       "      <td>...</td>\n",
       "      <td>...</td>\n",
       "      <td>...</td>\n",
       "      <td>...</td>\n",
       "      <td>...</td>\n",
       "      <td>...</td>\n",
       "      <td>...</td>\n",
       "    </tr>\n",
       "    <tr>\n",
       "      <th>10XGenomics_L008_10XHC8_T0_TTTGTCATCCACGTTC</th>\n",
       "      <td>10XGenomics</td>\n",
       "      <td>10XGenomics_L008</td>\n",
       "      <td>10XGenomics_10XHC8_T0</td>\n",
       "      <td>5_GEX_V2</td>\n",
       "      <td>5_GEX_V2</td>\n",
       "      <td>healthy</td>\n",
       "      <td>na</td>\n",
       "      <td>NaN</td>\n",
       "      <td>B</td>\n",
       "      <td>healthy</td>\n",
       "    </tr>\n",
       "    <tr>\n",
       "      <th>10XGenomics_L008_10XHC8_T0_TTTGTCATCCCGACTT</th>\n",
       "      <td>10XGenomics</td>\n",
       "      <td>10XGenomics_L008</td>\n",
       "      <td>10XGenomics_10XHC8_T0</td>\n",
       "      <td>5_GEX_V2</td>\n",
       "      <td>5_GEX_V2</td>\n",
       "      <td>healthy</td>\n",
       "      <td>na</td>\n",
       "      <td>NaN</td>\n",
       "      <td>T_CD4_Naive</td>\n",
       "      <td>healthy</td>\n",
       "    </tr>\n",
       "    <tr>\n",
       "      <th>10XGenomics_L008_10XHC8_T0_TTTGTCATCGTGGGAA</th>\n",
       "      <td>10XGenomics</td>\n",
       "      <td>10XGenomics_L008</td>\n",
       "      <td>10XGenomics_10XHC8_T0</td>\n",
       "      <td>5_GEX_V2</td>\n",
       "      <td>5_GEX_V2</td>\n",
       "      <td>healthy</td>\n",
       "      <td>na</td>\n",
       "      <td>NaN</td>\n",
       "      <td>T_CD4_Naive</td>\n",
       "      <td>healthy</td>\n",
       "    </tr>\n",
       "    <tr>\n",
       "      <th>10XGenomics_L008_10XHC8_T0_TTTGTCATCTCAAACG</th>\n",
       "      <td>10XGenomics</td>\n",
       "      <td>10XGenomics_L008</td>\n",
       "      <td>10XGenomics_10XHC8_T0</td>\n",
       "      <td>5_GEX_V2</td>\n",
       "      <td>5_GEX_V2</td>\n",
       "      <td>healthy</td>\n",
       "      <td>na</td>\n",
       "      <td>NaN</td>\n",
       "      <td>T_CD4_Naive</td>\n",
       "      <td>healthy</td>\n",
       "    </tr>\n",
       "    <tr>\n",
       "      <th>10XGenomics_L008_10XHC8_T0_TTTGTCATCTGTACGA</th>\n",
       "      <td>10XGenomics</td>\n",
       "      <td>10XGenomics_L008</td>\n",
       "      <td>10XGenomics_10XHC8_T0</td>\n",
       "      <td>5_GEX_V2</td>\n",
       "      <td>5_GEX_V2</td>\n",
       "      <td>healthy</td>\n",
       "      <td>na</td>\n",
       "      <td>NaN</td>\n",
       "      <td>T_CD4_Naive</td>\n",
       "      <td>healthy</td>\n",
       "    </tr>\n",
       "  </tbody>\n",
       "</table>\n",
       "<p>572872 rows × 10 columns</p>\n",
       "</div>"
      ],
      "text/plain": [
       "                                                 studyID         libraryID  \\\n",
       "cellID                                                                       \n",
       "SCGT00val_L006_I036016_T0_AAACCCAAGACAACTA     SCGT00val    SCGT00val_L006   \n",
       "SCGT00val_L006_I036023_T0_AAACCCAAGACGGAAA     SCGT00val    SCGT00val_L006   \n",
       "SCGT00val_L006_I036016_T0_AAACCCAAGAGCATTA     SCGT00val    SCGT00val_L006   \n",
       "SCGT00val_L006_I036021_T0_AAACCCAAGATGGTCG     SCGT00val    SCGT00val_L006   \n",
       "SCGT00val_L006_I036021_T0_AAACCCAAGCAACAAT     SCGT00val    SCGT00val_L006   \n",
       "...                                                  ...               ...   \n",
       "10XGenomics_L008_10XHC8_T0_TTTGTCATCCACGTTC  10XGenomics  10XGenomics_L008   \n",
       "10XGenomics_L008_10XHC8_T0_TTTGTCATCCCGACTT  10XGenomics  10XGenomics_L008   \n",
       "10XGenomics_L008_10XHC8_T0_TTTGTCATCGTGGGAA  10XGenomics  10XGenomics_L008   \n",
       "10XGenomics_L008_10XHC8_T0_TTTGTCATCTCAAACG  10XGenomics  10XGenomics_L008   \n",
       "10XGenomics_L008_10XHC8_T0_TTTGTCATCTGTACGA  10XGenomics  10XGenomics_L008   \n",
       "\n",
       "                                                          sampleID chemistry  \\\n",
       "cellID                                                                         \n",
       "SCGT00val_L006_I036016_T0_AAACCCAAGACAACTA    SCGT00val_I036016_T0  3_GEX_V3   \n",
       "SCGT00val_L006_I036023_T0_AAACCCAAGACGGAAA    SCGT00val_I036023_T0  3_GEX_V3   \n",
       "SCGT00val_L006_I036016_T0_AAACCCAAGAGCATTA    SCGT00val_I036016_T0  3_GEX_V3   \n",
       "SCGT00val_L006_I036021_T0_AAACCCAAGATGGTCG    SCGT00val_I036021_T0  3_GEX_V3   \n",
       "SCGT00val_L006_I036021_T0_AAACCCAAGCAACAAT    SCGT00val_I036021_T0  3_GEX_V3   \n",
       "...                                                            ...       ...   \n",
       "10XGenomics_L008_10XHC8_T0_TTTGTCATCCACGTTC  10XGenomics_10XHC8_T0  5_GEX_V2   \n",
       "10XGenomics_L008_10XHC8_T0_TTTGTCATCCCGACTT  10XGenomics_10XHC8_T0  5_GEX_V2   \n",
       "10XGenomics_L008_10XHC8_T0_TTTGTCATCGTGGGAA  10XGenomics_10XHC8_T0  5_GEX_V2   \n",
       "10XGenomics_L008_10XHC8_T0_TTTGTCATCTCAAACG  10XGenomics_10XHC8_T0  5_GEX_V2   \n",
       "10XGenomics_L008_10XHC8_T0_TTTGTCATCTGTACGA  10XGenomics_10XHC8_T0  5_GEX_V2   \n",
       "\n",
       "                                                      technology disease_true  \\\n",
       "cellID                                                                          \n",
       "SCGT00val_L006_I036016_T0_AAACCCAAGACAACTA   3_GEX_V3_GenoHashed           RA   \n",
       "SCGT00val_L006_I036023_T0_AAACCCAAGACGGAAA   3_GEX_V3_GenoHashed           RA   \n",
       "SCGT00val_L006_I036016_T0_AAACCCAAGAGCATTA   3_GEX_V3_GenoHashed           RA   \n",
       "SCGT00val_L006_I036021_T0_AAACCCAAGATGGTCG   3_GEX_V3_GenoHashed           RA   \n",
       "SCGT00val_L006_I036021_T0_AAACCCAAGCAACAAT   3_GEX_V3_GenoHashed           RA   \n",
       "...                                                          ...          ...   \n",
       "10XGenomics_L008_10XHC8_T0_TTTGTCATCCACGTTC             5_GEX_V2      healthy   \n",
       "10XGenomics_L008_10XHC8_T0_TTTGTCATCCCGACTT             5_GEX_V2      healthy   \n",
       "10XGenomics_L008_10XHC8_T0_TTTGTCATCGTGGGAA             5_GEX_V2      healthy   \n",
       "10XGenomics_L008_10XHC8_T0_TTTGTCATCTCAAACG             5_GEX_V2      healthy   \n",
       "10XGenomics_L008_10XHC8_T0_TTTGTCATCTGTACGA             5_GEX_V2      healthy   \n",
       "\n",
       "                                                sex binned_age  \\\n",
       "cellID                                                           \n",
       "SCGT00val_L006_I036016_T0_AAACCCAAGACAACTA   female      31-40   \n",
       "SCGT00val_L006_I036023_T0_AAACCCAAGACGGAAA   female      51-60   \n",
       "SCGT00val_L006_I036016_T0_AAACCCAAGAGCATTA   female      31-40   \n",
       "SCGT00val_L006_I036021_T0_AAACCCAAGATGGTCG   female      61-70   \n",
       "SCGT00val_L006_I036021_T0_AAACCCAAGCAACAAT   female      61-70   \n",
       "...                                             ...        ...   \n",
       "10XGenomics_L008_10XHC8_T0_TTTGTCATCCACGTTC      na        NaN   \n",
       "10XGenomics_L008_10XHC8_T0_TTTGTCATCCCGACTT      na        NaN   \n",
       "10XGenomics_L008_10XHC8_T0_TTTGTCATCGTGGGAA      na        NaN   \n",
       "10XGenomics_L008_10XHC8_T0_TTTGTCATCTCAAACG      na        NaN   \n",
       "10XGenomics_L008_10XHC8_T0_TTTGTCATCTGTACGA      na        NaN   \n",
       "\n",
       "                                                     Level1 disease_pred  \n",
       "cellID                                                                    \n",
       "SCGT00val_L006_I036016_T0_AAACCCAAGACAACTA      T_CD4_Naive          HIV  \n",
       "SCGT00val_L006_I036023_T0_AAACCCAAGACGGAAA   T_CD4_NonNaive           RA  \n",
       "SCGT00val_L006_I036016_T0_AAACCCAAGAGCATTA      T_CD4_Naive           CD  \n",
       "SCGT00val_L006_I036021_T0_AAACCCAAGATGGTCG   T_CD8_NonNaive      healthy  \n",
       "SCGT00val_L006_I036021_T0_AAACCCAAGCAACAAT               DC           RA  \n",
       "...                                                     ...          ...  \n",
       "10XGenomics_L008_10XHC8_T0_TTTGTCATCCACGTTC               B      healthy  \n",
       "10XGenomics_L008_10XHC8_T0_TTTGTCATCCCGACTT     T_CD4_Naive      healthy  \n",
       "10XGenomics_L008_10XHC8_T0_TTTGTCATCGTGGGAA     T_CD4_Naive      healthy  \n",
       "10XGenomics_L008_10XHC8_T0_TTTGTCATCTCAAACG     T_CD4_Naive      healthy  \n",
       "10XGenomics_L008_10XHC8_T0_TTTGTCATCTGTACGA     T_CD4_Naive      healthy  \n",
       "\n",
       "[572872 rows x 10 columns]"
      ]
     },
     "execution_count": 16,
     "metadata": {},
     "output_type": "execute_result"
    }
   ],
   "source": [
    "adataQ.obs"
   ]
  },
  {
   "cell_type": "markdown",
   "id": "604b824a-321a-4ebe-802f-39ac50ec5238",
   "metadata": {
    "papermill": {
     "duration": 0.008642,
     "end_time": "2024-06-19T09:08:43.493411",
     "exception": false,
     "start_time": "2024-06-19T09:08:43.484769",
     "status": "completed"
    },
    "tags": []
   },
   "source": [
    "### Generating pseudobulk from latent space for Q dataset"
   ]
  },
  {
   "cell_type": "code",
   "execution_count": 17,
   "id": "995ab0a0-f978-4667-a85a-72b4757305c5",
   "metadata": {
    "execution": {
     "iopub.execute_input": "2024-06-19T09:08:43.511732Z",
     "iopub.status.busy": "2024-06-19T09:08:43.511511Z",
     "iopub.status.idle": "2024-06-19T09:08:43.821735Z",
     "shell.execute_reply": "2024-06-19T09:08:43.821170Z"
    },
    "papermill": {
     "duration": 0.320621,
     "end_time": "2024-06-19T09:08:43.822805",
     "exception": false,
     "start_time": "2024-06-19T09:08:43.502184",
     "status": "completed"
    },
    "tags": []
   },
   "outputs": [],
   "source": [
    "emb_pseudobulk_Q = aggregating_features(Z = adataQ.obsm['X_pca_harmony'], obsDF = adataQ.obs[['sampleID','Level1','disease_true']], mode = 'mean', obs_names_col=['sampleID','Level1'])"
   ]
  },
  {
   "cell_type": "code",
   "execution_count": 18,
   "id": "841534d1-d593-4372-b4d1-3133ae9180d8",
   "metadata": {
    "execution": {
     "iopub.execute_input": "2024-06-19T09:08:43.851118Z",
     "iopub.status.busy": "2024-06-19T09:08:43.850540Z",
     "iopub.status.idle": "2024-06-19T09:08:43.857357Z",
     "shell.execute_reply": "2024-06-19T09:08:43.857009Z"
    },
    "papermill": {
     "duration": 0.017465,
     "end_time": "2024-06-19T09:08:43.858232",
     "exception": false,
     "start_time": "2024-06-19T09:08:43.840767",
     "status": "completed"
    },
    "tags": []
   },
   "outputs": [
    {
     "data": {
      "text/html": [
       "<div>\n",
       "<style scoped>\n",
       "    .dataframe tbody tr th:only-of-type {\n",
       "        vertical-align: middle;\n",
       "    }\n",
       "\n",
       "    .dataframe tbody tr th {\n",
       "        vertical-align: top;\n",
       "    }\n",
       "\n",
       "    .dataframe thead th {\n",
       "        text-align: right;\n",
       "    }\n",
       "</style>\n",
       "<table border=\"1\" class=\"dataframe\">\n",
       "  <thead>\n",
       "    <tr style=\"text-align: right;\">\n",
       "      <th></th>\n",
       "      <th>sampleID</th>\n",
       "      <th>Level1</th>\n",
       "      <th>disease_true</th>\n",
       "      <th>n_observation</th>\n",
       "    </tr>\n",
       "  </thead>\n",
       "  <tbody>\n",
       "    <tr>\n",
       "      <th>10XGenomics_10XHC1_T0_B</th>\n",
       "      <td>10XGenomics_10XHC1_T0</td>\n",
       "      <td>B</td>\n",
       "      <td>healthy</td>\n",
       "      <td>979</td>\n",
       "    </tr>\n",
       "    <tr>\n",
       "      <th>10XGenomics_10XHC1_T0_Cycling_cells</th>\n",
       "      <td>10XGenomics_10XHC1_T0</td>\n",
       "      <td>Cycling_cells</td>\n",
       "      <td>healthy</td>\n",
       "      <td>21</td>\n",
       "    </tr>\n",
       "    <tr>\n",
       "      <th>10XGenomics_10XHC1_T0_DC</th>\n",
       "      <td>10XGenomics_10XHC1_T0</td>\n",
       "      <td>DC</td>\n",
       "      <td>healthy</td>\n",
       "      <td>137</td>\n",
       "    </tr>\n",
       "    <tr>\n",
       "      <th>10XGenomics_10XHC1_T0_ILC</th>\n",
       "      <td>10XGenomics_10XHC1_T0</td>\n",
       "      <td>ILC</td>\n",
       "      <td>healthy</td>\n",
       "      <td>307</td>\n",
       "    </tr>\n",
       "    <tr>\n",
       "      <th>10XGenomics_10XHC1_T0_Mono</th>\n",
       "      <td>10XGenomics_10XHC1_T0</td>\n",
       "      <td>Mono</td>\n",
       "      <td>healthy</td>\n",
       "      <td>1453</td>\n",
       "    </tr>\n",
       "    <tr>\n",
       "      <th>...</th>\n",
       "      <td>...</td>\n",
       "      <td>...</td>\n",
       "      <td>...</td>\n",
       "      <td>...</td>\n",
       "    </tr>\n",
       "    <tr>\n",
       "      <th>Savage2021_PIDB_T0_T_CD4_NonNaive</th>\n",
       "      <td>Savage2021_PIDB_T0</td>\n",
       "      <td>T_CD4_NonNaive</td>\n",
       "      <td>healthy</td>\n",
       "      <td>1573</td>\n",
       "    </tr>\n",
       "    <tr>\n",
       "      <th>Savage2021_PIDB_T0_T_CD8_Naive</th>\n",
       "      <td>Savage2021_PIDB_T0</td>\n",
       "      <td>T_CD8_Naive</td>\n",
       "      <td>healthy</td>\n",
       "      <td>383</td>\n",
       "    </tr>\n",
       "    <tr>\n",
       "      <th>Savage2021_PIDB_T0_T_CD8_NonNaive</th>\n",
       "      <td>Savage2021_PIDB_T0</td>\n",
       "      <td>T_CD8_NonNaive</td>\n",
       "      <td>healthy</td>\n",
       "      <td>2570</td>\n",
       "    </tr>\n",
       "    <tr>\n",
       "      <th>Savage2021_PIDB_T0_UTC</th>\n",
       "      <td>Savage2021_PIDB_T0</td>\n",
       "      <td>UTC</td>\n",
       "      <td>healthy</td>\n",
       "      <td>191</td>\n",
       "    </tr>\n",
       "    <tr>\n",
       "      <th>Savage2021_PIDB_T0_pDC</th>\n",
       "      <td>Savage2021_PIDB_T0</td>\n",
       "      <td>pDC</td>\n",
       "      <td>healthy</td>\n",
       "      <td>34</td>\n",
       "    </tr>\n",
       "  </tbody>\n",
       "</table>\n",
       "<p>1217 rows × 4 columns</p>\n",
       "</div>"
      ],
      "text/plain": [
       "                                                  sampleID          Level1  \\\n",
       "10XGenomics_10XHC1_T0_B              10XGenomics_10XHC1_T0               B   \n",
       "10XGenomics_10XHC1_T0_Cycling_cells  10XGenomics_10XHC1_T0   Cycling_cells   \n",
       "10XGenomics_10XHC1_T0_DC             10XGenomics_10XHC1_T0              DC   \n",
       "10XGenomics_10XHC1_T0_ILC            10XGenomics_10XHC1_T0             ILC   \n",
       "10XGenomics_10XHC1_T0_Mono           10XGenomics_10XHC1_T0            Mono   \n",
       "...                                                    ...             ...   \n",
       "Savage2021_PIDB_T0_T_CD4_NonNaive       Savage2021_PIDB_T0  T_CD4_NonNaive   \n",
       "Savage2021_PIDB_T0_T_CD8_Naive          Savage2021_PIDB_T0     T_CD8_Naive   \n",
       "Savage2021_PIDB_T0_T_CD8_NonNaive       Savage2021_PIDB_T0  T_CD8_NonNaive   \n",
       "Savage2021_PIDB_T0_UTC                  Savage2021_PIDB_T0             UTC   \n",
       "Savage2021_PIDB_T0_pDC                  Savage2021_PIDB_T0             pDC   \n",
       "\n",
       "                                    disease_true  n_observation  \n",
       "10XGenomics_10XHC1_T0_B                  healthy            979  \n",
       "10XGenomics_10XHC1_T0_Cycling_cells      healthy             21  \n",
       "10XGenomics_10XHC1_T0_DC                 healthy            137  \n",
       "10XGenomics_10XHC1_T0_ILC                healthy            307  \n",
       "10XGenomics_10XHC1_T0_Mono               healthy           1453  \n",
       "...                                          ...            ...  \n",
       "Savage2021_PIDB_T0_T_CD4_NonNaive        healthy           1573  \n",
       "Savage2021_PIDB_T0_T_CD8_Naive           healthy            383  \n",
       "Savage2021_PIDB_T0_T_CD8_NonNaive        healthy           2570  \n",
       "Savage2021_PIDB_T0_UTC                   healthy            191  \n",
       "Savage2021_PIDB_T0_pDC                   healthy             34  \n",
       "\n",
       "[1217 rows x 4 columns]"
      ]
     },
     "execution_count": 18,
     "metadata": {},
     "output_type": "execute_result"
    }
   ],
   "source": [
    "emb_pseudobulk_Q.obs"
   ]
  },
  {
   "cell_type": "markdown",
   "id": "a43a1514-ec0f-4b9e-ac54-a48dbabc0fff",
   "metadata": {
    "execution": {
     "iopub.execute_input": "2024-06-07T16:00:22.779422Z",
     "iopub.status.busy": "2024-06-07T16:00:22.778939Z",
     "iopub.status.idle": "2024-06-07T16:00:22.782415Z",
     "shell.execute_reply": "2024-06-07T16:00:22.781982Z",
     "shell.execute_reply.started": "2024-06-07T16:00:22.779405Z"
    },
    "papermill": {
     "duration": 0.008643,
     "end_time": "2024-06-19T09:08:43.875764",
     "exception": false,
     "start_time": "2024-06-19T09:08:43.867121",
     "status": "completed"
    },
    "tags": []
   },
   "source": [
    "**Loading training pseudobulk**"
   ]
  },
  {
   "cell_type": "code",
   "execution_count": 19,
   "id": "b759518f-cc41-406e-8919-c72d6a6925e6",
   "metadata": {
    "execution": {
     "iopub.execute_input": "2024-06-19T09:08:43.893987Z",
     "iopub.status.busy": "2024-06-19T09:08:43.893611Z",
     "iopub.status.idle": "2024-06-19T09:08:43.934476Z",
     "shell.execute_reply": "2024-06-19T09:08:43.934015Z"
    },
    "papermill": {
     "duration": 0.05093,
     "end_time": "2024-06-19T09:08:43.935398",
     "exception": false,
     "start_time": "2024-06-19T09:08:43.884468",
     "status": "completed"
    },
    "tags": []
   },
   "outputs": [],
   "source": [
    "emb_pseudobulk_train = sc.read_h5ad(here(f\"03_downstream_analysis/08_PatientClassifier/Harmony_Symphony/results/01_MAIN_HarmonyIntegrated_PSEUDOBULK_{nPC}nPC_Batch_{batchKeys}.h5ad\"))"
   ]
  },
  {
   "cell_type": "markdown",
   "id": "fa0cf8df-f0dd-449c-87c8-b9207e94207b",
   "metadata": {
    "papermill": {
     "duration": 0.008953,
     "end_time": "2024-06-19T09:08:43.953971",
     "exception": false,
     "start_time": "2024-06-19T09:08:43.945018",
     "status": "completed"
    },
    "tags": []
   },
   "source": [
    "#### Remove unwanted cell types"
   ]
  },
  {
   "cell_type": "code",
   "execution_count": 20,
   "id": "b477252c-4cdb-4f89-8ec2-1d3dbc4a7655",
   "metadata": {
    "execution": {
     "iopub.execute_input": "2024-06-19T09:08:43.972926Z",
     "iopub.status.busy": "2024-06-19T09:08:43.972645Z",
     "iopub.status.idle": "2024-06-19T09:08:43.977561Z",
     "shell.execute_reply": "2024-06-19T09:08:43.977190Z"
    },
    "papermill": {
     "duration": 0.015528,
     "end_time": "2024-06-19T09:08:43.978425",
     "exception": false,
     "start_time": "2024-06-19T09:08:43.962897",
     "status": "completed"
    },
    "tags": []
   },
   "outputs": [],
   "source": [
    "emb_pseudobulk_train = emb_pseudobulk_train[~emb_pseudobulk_train.obs.Level1.isin(['Cycling_cells','RBC','Progenitors','Platelets']),]"
   ]
  },
  {
   "cell_type": "code",
   "execution_count": 21,
   "id": "25ead359-02da-4eec-a2e8-040415f31ca8",
   "metadata": {
    "execution": {
     "iopub.execute_input": "2024-06-19T09:08:43.997166Z",
     "iopub.status.busy": "2024-06-19T09:08:43.996688Z",
     "iopub.status.idle": "2024-06-19T09:08:43.999741Z",
     "shell.execute_reply": "2024-06-19T09:08:43.999384Z"
    },
    "papermill": {
     "duration": 0.013239,
     "end_time": "2024-06-19T09:08:44.000651",
     "exception": false,
     "start_time": "2024-06-19T09:08:43.987412",
     "status": "completed"
    },
    "tags": []
   },
   "outputs": [],
   "source": [
    "emb_pseudobulk_Q = emb_pseudobulk_Q[~emb_pseudobulk_Q.obs.Level1.isin(['Cycling_cells','RBC','Progenitors','Platelets']),]"
   ]
  },
  {
   "cell_type": "markdown",
   "id": "4faaceec-8aac-4c89-ac43-9093c0fe7c16",
   "metadata": {
    "papermill": {
     "duration": 0.009223,
     "end_time": "2024-06-19T09:08:44.022182",
     "exception": false,
     "start_time": "2024-06-19T09:08:44.012959",
     "status": "completed"
    },
    "tags": []
   },
   "source": [
    "### Saving query dataset and pseudobulks"
   ]
  },
  {
   "cell_type": "code",
   "execution_count": 22,
   "id": "40487ef8-ad5d-4236-a652-2d90cf76c77b",
   "metadata": {
    "execution": {
     "iopub.execute_input": "2024-06-19T09:08:44.041236Z",
     "iopub.status.busy": "2024-06-19T09:08:44.040871Z",
     "iopub.status.idle": "2024-06-19T09:10:02.573044Z",
     "shell.execute_reply": "2024-06-19T09:10:02.572362Z"
    },
    "papermill": {
     "duration": 78.543006,
     "end_time": "2024-06-19T09:10:02.574537",
     "exception": false,
     "start_time": "2024-06-19T09:08:44.031531",
     "status": "completed"
    },
    "tags": []
   },
   "outputs": [],
   "source": [
    "adataQ.write(here(f\"03_downstream_analysis/08_PatientClassifier/Harmony_Symphony/results/02_{queryDataset}_SymphonyProjected_{nPC}nPC_Batch_{batchKeys}.h5ad\"), \n",
    "             compression='gzip')"
   ]
  },
  {
   "cell_type": "code",
   "execution_count": 23,
   "id": "052a1401-1f68-49ed-a900-dda39c09e68b",
   "metadata": {
    "execution": {
     "iopub.execute_input": "2024-06-19T09:10:02.596551Z",
     "iopub.status.busy": "2024-06-19T09:10:02.596233Z",
     "iopub.status.idle": "2024-06-19T09:10:02.629336Z",
     "shell.execute_reply": "2024-06-19T09:10:02.628907Z"
    },
    "papermill": {
     "duration": 0.044162,
     "end_time": "2024-06-19T09:10:02.630281",
     "exception": false,
     "start_time": "2024-06-19T09:10:02.586119",
     "status": "completed"
    },
    "tags": []
   },
   "outputs": [
    {
     "name": "stderr",
     "output_type": "stream",
     "text": [
      "/scratch_isilon/groups/singlecell/shared/conda_env/inflammation_atlas_R1/lib/python3.10/site-packages/anndata/_core/anndata.py:1301: ImplicitModificationWarning: Trying to modify attribute `.obs` of view, initializing view as actual.\n",
      "  df[key] = c\n",
      "/scratch_isilon/groups/singlecell/shared/conda_env/inflammation_atlas_R1/lib/python3.10/site-packages/anndata/_core/anndata.py:1301: ImplicitModificationWarning: Trying to modify attribute `.obs` of view, initializing view as actual.\n",
      "  df[key] = c\n",
      "/scratch_isilon/groups/singlecell/shared/conda_env/inflammation_atlas_R1/lib/python3.10/site-packages/anndata/_core/anndata.py:1301: ImplicitModificationWarning: Trying to modify attribute `.obs` of view, initializing view as actual.\n",
      "  df[key] = c\n"
     ]
    }
   ],
   "source": [
    "emb_pseudobulk_Q.write(here(f\"03_downstream_analysis/08_PatientClassifier/Harmony_Symphony/results/02_{queryDataset}_SymphonyProjected_PSEUDOBULK{nPC}nPC_Batch_{batchKeys}.h5ad\"), \n",
    "             compression='gzip')"
   ]
  },
  {
   "cell_type": "markdown",
   "id": "8226f8d2-30b5-41a4-8efd-943e08f2d048",
   "metadata": {
    "papermill": {
     "duration": 0.008796,
     "end_time": "2024-06-19T09:10:02.648554",
     "exception": false,
     "start_time": "2024-06-19T09:10:02.639758",
     "status": "completed"
    },
    "tags": []
   },
   "source": [
    "### Training linear classifiers"
   ]
  },
  {
   "cell_type": "code",
   "execution_count": 24,
   "id": "b2f802a7-0a43-413b-8bee-03a900836009",
   "metadata": {
    "execution": {
     "iopub.execute_input": "2024-06-19T09:10:02.667612Z",
     "iopub.status.busy": "2024-06-19T09:10:02.667375Z",
     "iopub.status.idle": "2024-06-19T09:10:03.926384Z",
     "shell.execute_reply": "2024-06-19T09:10:03.925977Z"
    },
    "papermill": {
     "duration": 1.269793,
     "end_time": "2024-06-19T09:10:03.927462",
     "exception": false,
     "start_time": "2024-06-19T09:10:02.657669",
     "status": "completed"
    },
    "tags": []
   },
   "outputs": [
    {
     "name": "stderr",
     "output_type": "stream",
     "text": [
      "\r",
      "  0%|          | 0/11 [00:00<?, ?it/s]"
     ]
    },
    {
     "name": "stderr",
     "output_type": "stream",
     "text": [
      "\r",
      " 18%|█▊        | 2/11 [00:00<00:00,  9.67it/s]"
     ]
    },
    {
     "name": "stderr",
     "output_type": "stream",
     "text": [
      "\r",
      " 36%|███▋      | 4/11 [00:00<00:01,  4.11it/s]"
     ]
    },
    {
     "name": "stderr",
     "output_type": "stream",
     "text": [
      "\r",
      " 55%|█████▍    | 6/11 [00:00<00:00,  6.44it/s]"
     ]
    },
    {
     "name": "stderr",
     "output_type": "stream",
     "text": [
      "\r",
      " 73%|███████▎  | 8/11 [00:01<00:00,  8.74it/s]"
     ]
    },
    {
     "name": "stderr",
     "output_type": "stream",
     "text": [
      "\r",
      " 91%|█████████ | 10/11 [00:01<00:00, 10.94it/s]"
     ]
    },
    {
     "name": "stderr",
     "output_type": "stream",
     "text": [
      "\r",
      "100%|██████████| 11/11 [00:01<00:00,  8.84it/s]"
     ]
    },
    {
     "name": "stderr",
     "output_type": "stream",
     "text": [
      "\n"
     ]
    }
   ],
   "source": [
    "clfList = train_patient_classifier(adataTrain = emb_pseudobulk_train, cell_type_col = 'Level1', y_true_col = 'disease', max_iter=-1, random_state = 25, model = 'KNeighborsClassifier', \n",
    "                           kargs_model={'n_neighbors':2, 'weights':'uniform', 'metric':'cosine','n_jobs':-1})"
   ]
  },
  {
   "cell_type": "code",
   "execution_count": 25,
   "id": "184e7805-037a-48ab-bdde-b80d084b46cd",
   "metadata": {
    "execution": {
     "iopub.execute_input": "2024-06-19T09:10:03.948732Z",
     "iopub.status.busy": "2024-06-19T09:10:03.948292Z",
     "iopub.status.idle": "2024-06-19T09:10:03.955980Z",
     "shell.execute_reply": "2024-06-19T09:10:03.955621Z"
    },
    "papermill": {
     "duration": 0.01881,
     "end_time": "2024-06-19T09:10:03.956871",
     "exception": false,
     "start_time": "2024-06-19T09:10:03.938061",
     "status": "completed"
    },
    "tags": []
   },
   "outputs": [
    {
     "data": {
      "text/plain": [
       "{'B': {'clf': KNeighborsClassifier(metric='cosine', n_jobs=-1, n_neighbors=2),\n",
       "  'bAcc': 0.893909913186229,\n",
       "  'nObs': 814},\n",
       " 'DC': {'clf': KNeighborsClassifier(metric='cosine', n_jobs=-1, n_neighbors=2),\n",
       "  'bAcc': 0.8484375597011713,\n",
       "  'nObs': 801},\n",
       " 'ILC': {'clf': KNeighborsClassifier(metric='cosine', n_jobs=-1, n_neighbors=2),\n",
       "  'bAcc': 0.8243337202566261,\n",
       "  'nObs': 817},\n",
       " 'Mono': {'clf': KNeighborsClassifier(metric='cosine', n_jobs=-1, n_neighbors=2),\n",
       "  'bAcc': 0.8433445704146223,\n",
       "  'nObs': 817},\n",
       " 'Plasma': {'clf': KNeighborsClassifier(metric='cosine', n_jobs=-1, n_neighbors=2),\n",
       "  'bAcc': 0.811216097575144,\n",
       "  'nObs': 727},\n",
       " 'T_CD4_Naive': {'clf': KNeighborsClassifier(metric='cosine', n_jobs=-1, n_neighbors=2),\n",
       "  'bAcc': 0.880433455562023,\n",
       "  'nObs': 814},\n",
       " 'T_CD4_NonNaive': {'clf': KNeighborsClassifier(metric='cosine', n_jobs=-1, n_neighbors=2),\n",
       "  'bAcc': 0.8790256347104011,\n",
       "  'nObs': 816},\n",
       " 'T_CD8_Naive': {'clf': KNeighborsClassifier(metric='cosine', n_jobs=-1, n_neighbors=2),\n",
       "  'bAcc': 0.8854603390116734,\n",
       "  'nObs': 805},\n",
       " 'T_CD8_NonNaive': {'clf': KNeighborsClassifier(metric='cosine', n_jobs=-1, n_neighbors=2),\n",
       "  'bAcc': 0.8237388519217651,\n",
       "  'nObs': 817},\n",
       " 'UTC': {'clf': KNeighborsClassifier(metric='cosine', n_jobs=-1, n_neighbors=2),\n",
       "  'bAcc': 0.8328305810560639,\n",
       "  'nObs': 813},\n",
       " 'pDC': {'clf': KNeighborsClassifier(metric='cosine', n_jobs=-1, n_neighbors=2),\n",
       "  'bAcc': 0.8516362122276856,\n",
       "  'nObs': 775}}"
      ]
     },
     "execution_count": 25,
     "metadata": {},
     "output_type": "execute_result"
    }
   ],
   "source": [
    "clfList"
   ]
  },
  {
   "cell_type": "markdown",
   "id": "8140578c-927e-4a12-84c1-809c70d2387c",
   "metadata": {
    "papermill": {
     "duration": 0.010032,
     "end_time": "2024-06-19T09:10:03.976900",
     "exception": false,
     "start_time": "2024-06-19T09:10:03.966868",
     "status": "completed"
    },
    "tags": []
   },
   "source": [
    "### Predicting diseases"
   ]
  },
  {
   "cell_type": "code",
   "execution_count": 26,
   "id": "ba47d364-9407-4d4a-9a9c-a02d374a9932",
   "metadata": {
    "execution": {
     "iopub.execute_input": "2024-06-19T09:10:03.997529Z",
     "iopub.status.busy": "2024-06-19T09:10:03.997194Z",
     "iopub.status.idle": "2024-06-19T09:10:04.003925Z",
     "shell.execute_reply": "2024-06-19T09:10:04.003564Z"
    },
    "papermill": {
     "duration": 0.01805,
     "end_time": "2024-06-19T09:10:04.004792",
     "exception": false,
     "start_time": "2024-06-19T09:10:03.986742",
     "status": "completed"
    },
    "tags": []
   },
   "outputs": [
    {
     "data": {
      "text/html": [
       "<div>\n",
       "<style scoped>\n",
       "    .dataframe tbody tr th:only-of-type {\n",
       "        vertical-align: middle;\n",
       "    }\n",
       "\n",
       "    .dataframe tbody tr th {\n",
       "        vertical-align: top;\n",
       "    }\n",
       "\n",
       "    .dataframe thead th {\n",
       "        text-align: right;\n",
       "    }\n",
       "</style>\n",
       "<table border=\"1\" class=\"dataframe\">\n",
       "  <thead>\n",
       "    <tr style=\"text-align: right;\">\n",
       "      <th></th>\n",
       "      <th>sampleID</th>\n",
       "      <th>Level1</th>\n",
       "      <th>disease_true</th>\n",
       "      <th>n_observation</th>\n",
       "    </tr>\n",
       "  </thead>\n",
       "  <tbody>\n",
       "    <tr>\n",
       "      <th>10XGenomics_10XHC1_T0_B</th>\n",
       "      <td>10XGenomics_10XHC1_T0</td>\n",
       "      <td>B</td>\n",
       "      <td>healthy</td>\n",
       "      <td>979</td>\n",
       "    </tr>\n",
       "    <tr>\n",
       "      <th>10XGenomics_10XHC1_T0_DC</th>\n",
       "      <td>10XGenomics_10XHC1_T0</td>\n",
       "      <td>DC</td>\n",
       "      <td>healthy</td>\n",
       "      <td>137</td>\n",
       "    </tr>\n",
       "    <tr>\n",
       "      <th>10XGenomics_10XHC1_T0_ILC</th>\n",
       "      <td>10XGenomics_10XHC1_T0</td>\n",
       "      <td>ILC</td>\n",
       "      <td>healthy</td>\n",
       "      <td>307</td>\n",
       "    </tr>\n",
       "    <tr>\n",
       "      <th>10XGenomics_10XHC1_T0_Mono</th>\n",
       "      <td>10XGenomics_10XHC1_T0</td>\n",
       "      <td>Mono</td>\n",
       "      <td>healthy</td>\n",
       "      <td>1453</td>\n",
       "    </tr>\n",
       "    <tr>\n",
       "      <th>10XGenomics_10XHC1_T0_Plasma</th>\n",
       "      <td>10XGenomics_10XHC1_T0</td>\n",
       "      <td>Plasma</td>\n",
       "      <td>healthy</td>\n",
       "      <td>4</td>\n",
       "    </tr>\n",
       "    <tr>\n",
       "      <th>...</th>\n",
       "      <td>...</td>\n",
       "      <td>...</td>\n",
       "      <td>...</td>\n",
       "      <td>...</td>\n",
       "    </tr>\n",
       "    <tr>\n",
       "      <th>Savage2021_PIDB_T0_T_CD4_NonNaive</th>\n",
       "      <td>Savage2021_PIDB_T0</td>\n",
       "      <td>T_CD4_NonNaive</td>\n",
       "      <td>healthy</td>\n",
       "      <td>1573</td>\n",
       "    </tr>\n",
       "    <tr>\n",
       "      <th>Savage2021_PIDB_T0_T_CD8_Naive</th>\n",
       "      <td>Savage2021_PIDB_T0</td>\n",
       "      <td>T_CD8_Naive</td>\n",
       "      <td>healthy</td>\n",
       "      <td>383</td>\n",
       "    </tr>\n",
       "    <tr>\n",
       "      <th>Savage2021_PIDB_T0_T_CD8_NonNaive</th>\n",
       "      <td>Savage2021_PIDB_T0</td>\n",
       "      <td>T_CD8_NonNaive</td>\n",
       "      <td>healthy</td>\n",
       "      <td>2570</td>\n",
       "    </tr>\n",
       "    <tr>\n",
       "      <th>Savage2021_PIDB_T0_UTC</th>\n",
       "      <td>Savage2021_PIDB_T0</td>\n",
       "      <td>UTC</td>\n",
       "      <td>healthy</td>\n",
       "      <td>191</td>\n",
       "    </tr>\n",
       "    <tr>\n",
       "      <th>Savage2021_PIDB_T0_pDC</th>\n",
       "      <td>Savage2021_PIDB_T0</td>\n",
       "      <td>pDC</td>\n",
       "      <td>healthy</td>\n",
       "      <td>34</td>\n",
       "    </tr>\n",
       "  </tbody>\n",
       "</table>\n",
       "<p>932 rows × 4 columns</p>\n",
       "</div>"
      ],
      "text/plain": [
       "                                                sampleID          Level1  \\\n",
       "10XGenomics_10XHC1_T0_B            10XGenomics_10XHC1_T0               B   \n",
       "10XGenomics_10XHC1_T0_DC           10XGenomics_10XHC1_T0              DC   \n",
       "10XGenomics_10XHC1_T0_ILC          10XGenomics_10XHC1_T0             ILC   \n",
       "10XGenomics_10XHC1_T0_Mono         10XGenomics_10XHC1_T0            Mono   \n",
       "10XGenomics_10XHC1_T0_Plasma       10XGenomics_10XHC1_T0          Plasma   \n",
       "...                                                  ...             ...   \n",
       "Savage2021_PIDB_T0_T_CD4_NonNaive     Savage2021_PIDB_T0  T_CD4_NonNaive   \n",
       "Savage2021_PIDB_T0_T_CD8_Naive        Savage2021_PIDB_T0     T_CD8_Naive   \n",
       "Savage2021_PIDB_T0_T_CD8_NonNaive     Savage2021_PIDB_T0  T_CD8_NonNaive   \n",
       "Savage2021_PIDB_T0_UTC                Savage2021_PIDB_T0             UTC   \n",
       "Savage2021_PIDB_T0_pDC                Savage2021_PIDB_T0             pDC   \n",
       "\n",
       "                                  disease_true  n_observation  \n",
       "10XGenomics_10XHC1_T0_B                healthy            979  \n",
       "10XGenomics_10XHC1_T0_DC               healthy            137  \n",
       "10XGenomics_10XHC1_T0_ILC              healthy            307  \n",
       "10XGenomics_10XHC1_T0_Mono             healthy           1453  \n",
       "10XGenomics_10XHC1_T0_Plasma           healthy              4  \n",
       "...                                        ...            ...  \n",
       "Savage2021_PIDB_T0_T_CD4_NonNaive      healthy           1573  \n",
       "Savage2021_PIDB_T0_T_CD8_Naive         healthy            383  \n",
       "Savage2021_PIDB_T0_T_CD8_NonNaive      healthy           2570  \n",
       "Savage2021_PIDB_T0_UTC                 healthy            191  \n",
       "Savage2021_PIDB_T0_pDC                 healthy             34  \n",
       "\n",
       "[932 rows x 4 columns]"
      ]
     },
     "execution_count": 26,
     "metadata": {},
     "output_type": "execute_result"
    }
   ],
   "source": [
    "emb_pseudobulk_Q.obs"
   ]
  },
  {
   "cell_type": "code",
   "execution_count": 27,
   "id": "39befc29-3613-4abc-adeb-bfee66e08dea",
   "metadata": {
    "execution": {
     "iopub.execute_input": "2024-06-19T09:10:04.025533Z",
     "iopub.status.busy": "2024-06-19T09:10:04.025251Z",
     "iopub.status.idle": "2024-06-19T09:10:04.329758Z",
     "shell.execute_reply": "2024-06-19T09:10:04.329356Z"
    },
    "papermill": {
     "duration": 0.315913,
     "end_time": "2024-06-19T09:10:04.330727",
     "exception": false,
     "start_time": "2024-06-19T09:10:04.014814",
     "status": "completed"
    },
    "tags": []
   },
   "outputs": [
    {
     "name": "stderr",
     "output_type": "stream",
     "text": [
      "\r",
      "  0%|          | 0/11 [00:00<?, ?it/s]"
     ]
    },
    {
     "name": "stderr",
     "output_type": "stream",
     "text": [
      "\r",
      " 55%|█████▍    | 6/11 [00:00<00:00, 52.99it/s]"
     ]
    },
    {
     "name": "stderr",
     "output_type": "stream",
     "text": [
      "\r",
      "100%|██████████| 11/11 [00:00<00:00, 52.96it/s]"
     ]
    },
    {
     "name": "stderr",
     "output_type": "stream",
     "text": [
      "\n"
     ]
    },
    {
     "name": "stderr",
     "output_type": "stream",
     "text": [
      "\r",
      "  0%|          | 0/86 [00:00<?, ?it/s]"
     ]
    },
    {
     "name": "stderr",
     "output_type": "stream",
     "text": [
      "\r",
      "100%|██████████| 86/86 [00:00<00:00, 942.93it/s]"
     ]
    },
    {
     "name": "stderr",
     "output_type": "stream",
     "text": [
      "\n"
     ]
    }
   ],
   "source": [
    "classificationDF = vote_patient_disease(adataTest = emb_pseudobulk_Q, \n",
    "                                clfList = clfList, \n",
    "                                sample_id_col = 'sampleID',\n",
    "                                cell_type_col = 'Level1')\n"
   ]
  },
  {
   "cell_type": "code",
   "execution_count": 28,
   "id": "a731fec9-92f4-4b14-b374-ad2bec4d4f13",
   "metadata": {
    "execution": {
     "iopub.execute_input": "2024-06-19T09:10:04.354568Z",
     "iopub.status.busy": "2024-06-19T09:10:04.354229Z",
     "iopub.status.idle": "2024-06-19T09:10:04.359193Z",
     "shell.execute_reply": "2024-06-19T09:10:04.358837Z"
    },
    "papermill": {
     "duration": 0.017341,
     "end_time": "2024-06-19T09:10:04.360058",
     "exception": false,
     "start_time": "2024-06-19T09:10:04.342717",
     "status": "completed"
    },
    "tags": []
   },
   "outputs": [],
   "source": [
    "res = classificationDF.merge(emb_pseudobulk_Q.obs[['sampleID', 'disease_true']].drop_duplicates(), how = 'left', on = 'sampleID').set_index('sampleID')\n"
   ]
  },
  {
   "cell_type": "code",
   "execution_count": 29,
   "id": "00fff243-e3d9-436c-b369-b7d4d29a13bf",
   "metadata": {
    "execution": {
     "iopub.execute_input": "2024-06-19T09:10:04.383231Z",
     "iopub.status.busy": "2024-06-19T09:10:04.382876Z",
     "iopub.status.idle": "2024-06-19T09:10:04.388003Z",
     "shell.execute_reply": "2024-06-19T09:10:04.387646Z"
    },
    "papermill": {
     "duration": 0.01815,
     "end_time": "2024-06-19T09:10:04.388900",
     "exception": false,
     "start_time": "2024-06-19T09:10:04.370750",
     "status": "completed"
    },
    "tags": []
   },
   "outputs": [
    {
     "name": "stderr",
     "output_type": "stream",
     "text": [
      "/scratch_isilon/groups/singlecell/shared/conda_env/inflammation_atlas_R1/lib/python3.10/site-packages/sklearn/metrics/_classification.py:2458: UserWarning: y_pred contains classes not in y_true\n",
      "  warnings.warn(\"y_pred contains classes not in y_true\")\n"
     ]
    },
    {
     "data": {
      "text/plain": [
       "0.18903186274509803"
      ]
     },
     "execution_count": 29,
     "metadata": {},
     "output_type": "execute_result"
    }
   ],
   "source": [
    "balanced_accuracy_score(y_true = res.disease_true, y_pred=res.firstChoice)"
   ]
  },
  {
   "cell_type": "code",
   "execution_count": 30,
   "id": "54568ce9-5d5d-47e2-bc88-5a61eae513bc",
   "metadata": {
    "execution": {
     "iopub.execute_input": "2024-06-19T09:10:04.411575Z",
     "iopub.status.busy": "2024-06-19T09:10:04.411385Z",
     "iopub.status.idle": "2024-06-19T09:10:04.422868Z",
     "shell.execute_reply": "2024-06-19T09:10:04.422497Z"
    },
    "papermill": {
     "duration": 0.023862,
     "end_time": "2024-06-19T09:10:04.423723",
     "exception": false,
     "start_time": "2024-06-19T09:10:04.399861",
     "status": "completed"
    },
    "tags": []
   },
   "outputs": [
    {
     "data": {
      "text/html": [
       "<div>\n",
       "<style scoped>\n",
       "    .dataframe tbody tr th:only-of-type {\n",
       "        vertical-align: middle;\n",
       "    }\n",
       "\n",
       "    .dataframe tbody tr th {\n",
       "        vertical-align: top;\n",
       "    }\n",
       "\n",
       "    .dataframe thead th {\n",
       "        text-align: right;\n",
       "    }\n",
       "</style>\n",
       "<table border=\"1\" class=\"dataframe\">\n",
       "  <thead>\n",
       "    <tr style=\"text-align: right;\">\n",
       "      <th></th>\n",
       "      <th>B_prediction</th>\n",
       "      <th>DC_prediction</th>\n",
       "      <th>ILC_prediction</th>\n",
       "      <th>Mono_prediction</th>\n",
       "      <th>Plasma_prediction</th>\n",
       "      <th>T_CD4_Naive_prediction</th>\n",
       "      <th>T_CD4_NonNaive_prediction</th>\n",
       "      <th>T_CD8_Naive_prediction</th>\n",
       "      <th>T_CD8_NonNaive_prediction</th>\n",
       "      <th>UTC_prediction</th>\n",
       "      <th>pDC_prediction</th>\n",
       "      <th>firstChoice</th>\n",
       "      <th>firstChoice_perc</th>\n",
       "      <th>secondChoice</th>\n",
       "      <th>secondChoice_perc</th>\n",
       "      <th>disease_true</th>\n",
       "    </tr>\n",
       "    <tr>\n",
       "      <th>sampleID</th>\n",
       "      <th></th>\n",
       "      <th></th>\n",
       "      <th></th>\n",
       "      <th></th>\n",
       "      <th></th>\n",
       "      <th></th>\n",
       "      <th></th>\n",
       "      <th></th>\n",
       "      <th></th>\n",
       "      <th></th>\n",
       "      <th></th>\n",
       "      <th></th>\n",
       "      <th></th>\n",
       "      <th></th>\n",
       "      <th></th>\n",
       "      <th></th>\n",
       "    </tr>\n",
       "  </thead>\n",
       "  <tbody>\n",
       "    <tr>\n",
       "      <th>10XGenomics_10XHC1_T0</th>\n",
       "      <td>NPC</td>\n",
       "      <td>healthy</td>\n",
       "      <td>HNSCC</td>\n",
       "      <td>HNSCC</td>\n",
       "      <td>NPC</td>\n",
       "      <td>NPC</td>\n",
       "      <td>NPC</td>\n",
       "      <td>NPC</td>\n",
       "      <td>healthy</td>\n",
       "      <td>NPC</td>\n",
       "      <td>healthy</td>\n",
       "      <td>NPC</td>\n",
       "      <td>46.153846</td>\n",
       "      <td>healthy</td>\n",
       "      <td>23.076923</td>\n",
       "      <td>healthy</td>\n",
       "    </tr>\n",
       "    <tr>\n",
       "      <th>10XGenomics_10XHC2_T0</th>\n",
       "      <td>NPC</td>\n",
       "      <td>healthy</td>\n",
       "      <td>NPC</td>\n",
       "      <td>HNSCC</td>\n",
       "      <td>COVID</td>\n",
       "      <td>NPC</td>\n",
       "      <td>NPC</td>\n",
       "      <td>NPC</td>\n",
       "      <td>healthy</td>\n",
       "      <td>HBV</td>\n",
       "      <td>healthy</td>\n",
       "      <td>NPC</td>\n",
       "      <td>38.461538</td>\n",
       "      <td>healthy</td>\n",
       "      <td>23.076923</td>\n",
       "      <td>healthy</td>\n",
       "    </tr>\n",
       "    <tr>\n",
       "      <th>10XGenomics_10XHC3_T0</th>\n",
       "      <td>NPC</td>\n",
       "      <td>healthy</td>\n",
       "      <td>healthy</td>\n",
       "      <td>SLE</td>\n",
       "      <td>COVID</td>\n",
       "      <td>NPC</td>\n",
       "      <td>HBV</td>\n",
       "      <td>NPC</td>\n",
       "      <td>healthy</td>\n",
       "      <td>NPC</td>\n",
       "      <td>healthy</td>\n",
       "      <td>NPC</td>\n",
       "      <td>30.769231</td>\n",
       "      <td>healthy</td>\n",
       "      <td>30.769231</td>\n",
       "      <td>healthy</td>\n",
       "    </tr>\n",
       "    <tr>\n",
       "      <th>10XGenomics_10XHC4_T0</th>\n",
       "      <td>NPC</td>\n",
       "      <td>SLE</td>\n",
       "      <td>healthy</td>\n",
       "      <td>SLE</td>\n",
       "      <td>SLE</td>\n",
       "      <td>healthy</td>\n",
       "      <td>healthy</td>\n",
       "      <td>healthy</td>\n",
       "      <td>NPC</td>\n",
       "      <td>NPC</td>\n",
       "      <td>healthy</td>\n",
       "      <td>healthy</td>\n",
       "      <td>38.461538</td>\n",
       "      <td>NPC</td>\n",
       "      <td>23.076923</td>\n",
       "      <td>healthy</td>\n",
       "    </tr>\n",
       "    <tr>\n",
       "      <th>10XGenomics_10XHC5_T0</th>\n",
       "      <td>HNSCC</td>\n",
       "      <td>SLE</td>\n",
       "      <td>COPD</td>\n",
       "      <td>SLE</td>\n",
       "      <td>SLE</td>\n",
       "      <td>healthy</td>\n",
       "      <td>healthy</td>\n",
       "      <td>healthy</td>\n",
       "      <td>healthy</td>\n",
       "      <td>healthy</td>\n",
       "      <td>healthy</td>\n",
       "      <td>healthy</td>\n",
       "      <td>46.153846</td>\n",
       "      <td>SLE</td>\n",
       "      <td>23.076923</td>\n",
       "      <td>healthy</td>\n",
       "    </tr>\n",
       "    <tr>\n",
       "      <th>...</th>\n",
       "      <td>...</td>\n",
       "      <td>...</td>\n",
       "      <td>...</td>\n",
       "      <td>...</td>\n",
       "      <td>...</td>\n",
       "      <td>...</td>\n",
       "      <td>...</td>\n",
       "      <td>...</td>\n",
       "      <td>...</td>\n",
       "      <td>...</td>\n",
       "      <td>...</td>\n",
       "      <td>...</td>\n",
       "      <td>...</td>\n",
       "      <td>...</td>\n",
       "      <td>...</td>\n",
       "      <td>...</td>\n",
       "    </tr>\n",
       "    <tr>\n",
       "      <th>Savage2021_BRISL5_T0</th>\n",
       "      <td>HNSCC</td>\n",
       "      <td>SLE</td>\n",
       "      <td>HNSCC</td>\n",
       "      <td>SLE</td>\n",
       "      <td>HNSCC</td>\n",
       "      <td>healthy</td>\n",
       "      <td>NPC</td>\n",
       "      <td>NPC</td>\n",
       "      <td>COVID</td>\n",
       "      <td>HNSCC</td>\n",
       "      <td>COVID</td>\n",
       "      <td>HNSCC</td>\n",
       "      <td>30.769231</td>\n",
       "      <td>SLE</td>\n",
       "      <td>15.384615</td>\n",
       "      <td>SLE</td>\n",
       "    </tr>\n",
       "    <tr>\n",
       "      <th>Savage2021_BRISL6_T0</th>\n",
       "      <td>HNSCC</td>\n",
       "      <td>flu</td>\n",
       "      <td>HNSCC</td>\n",
       "      <td>healthy</td>\n",
       "      <td>HNSCC</td>\n",
       "      <td>HNSCC</td>\n",
       "      <td>HNSCC</td>\n",
       "      <td>healthy</td>\n",
       "      <td>healthy</td>\n",
       "      <td>HNSCC</td>\n",
       "      <td>healthy</td>\n",
       "      <td>HNSCC</td>\n",
       "      <td>46.153846</td>\n",
       "      <td>healthy</td>\n",
       "      <td>30.769231</td>\n",
       "      <td>SLE</td>\n",
       "    </tr>\n",
       "    <tr>\n",
       "      <th>Savage2021_BRISL7_T0</th>\n",
       "      <td>HNSCC</td>\n",
       "      <td>healthy</td>\n",
       "      <td>COVID</td>\n",
       "      <td>HNSCC</td>\n",
       "      <td>healthy</td>\n",
       "      <td>NPC</td>\n",
       "      <td>NPC</td>\n",
       "      <td>NPC</td>\n",
       "      <td>COVID</td>\n",
       "      <td>NPC</td>\n",
       "      <td>HNSCC</td>\n",
       "      <td>NPC</td>\n",
       "      <td>30.769231</td>\n",
       "      <td>HNSCC</td>\n",
       "      <td>23.076923</td>\n",
       "      <td>SLE</td>\n",
       "    </tr>\n",
       "    <tr>\n",
       "      <th>Savage2021_PIDA_T0</th>\n",
       "      <td>HIV</td>\n",
       "      <td>healthy</td>\n",
       "      <td>HIV</td>\n",
       "      <td>healthy</td>\n",
       "      <td>healthy</td>\n",
       "      <td>healthy</td>\n",
       "      <td>healthy</td>\n",
       "      <td>HIV</td>\n",
       "      <td>healthy</td>\n",
       "      <td>NPC</td>\n",
       "      <td>healthy</td>\n",
       "      <td>healthy</td>\n",
       "      <td>53.846154</td>\n",
       "      <td>HIV</td>\n",
       "      <td>23.076923</td>\n",
       "      <td>healthy</td>\n",
       "    </tr>\n",
       "    <tr>\n",
       "      <th>Savage2021_PIDB_T0</th>\n",
       "      <td>HIV</td>\n",
       "      <td>SLE</td>\n",
       "      <td>healthy</td>\n",
       "      <td>healthy</td>\n",
       "      <td>healthy</td>\n",
       "      <td>healthy</td>\n",
       "      <td>healthy</td>\n",
       "      <td>HIV</td>\n",
       "      <td>HIV</td>\n",
       "      <td>NPC</td>\n",
       "      <td>healthy</td>\n",
       "      <td>healthy</td>\n",
       "      <td>46.153846</td>\n",
       "      <td>HIV</td>\n",
       "      <td>23.076923</td>\n",
       "      <td>healthy</td>\n",
       "    </tr>\n",
       "  </tbody>\n",
       "</table>\n",
       "<p>86 rows × 16 columns</p>\n",
       "</div>"
      ],
      "text/plain": [
       "                      B_prediction DC_prediction ILC_prediction  \\\n",
       "sampleID                                                          \n",
       "10XGenomics_10XHC1_T0          NPC       healthy          HNSCC   \n",
       "10XGenomics_10XHC2_T0          NPC       healthy            NPC   \n",
       "10XGenomics_10XHC3_T0          NPC       healthy        healthy   \n",
       "10XGenomics_10XHC4_T0          NPC           SLE        healthy   \n",
       "10XGenomics_10XHC5_T0        HNSCC           SLE           COPD   \n",
       "...                            ...           ...            ...   \n",
       "Savage2021_BRISL5_T0         HNSCC           SLE          HNSCC   \n",
       "Savage2021_BRISL6_T0         HNSCC           flu          HNSCC   \n",
       "Savage2021_BRISL7_T0         HNSCC       healthy          COVID   \n",
       "Savage2021_PIDA_T0             HIV       healthy            HIV   \n",
       "Savage2021_PIDB_T0             HIV           SLE        healthy   \n",
       "\n",
       "                      Mono_prediction Plasma_prediction  \\\n",
       "sampleID                                                  \n",
       "10XGenomics_10XHC1_T0           HNSCC               NPC   \n",
       "10XGenomics_10XHC2_T0           HNSCC             COVID   \n",
       "10XGenomics_10XHC3_T0             SLE             COVID   \n",
       "10XGenomics_10XHC4_T0             SLE               SLE   \n",
       "10XGenomics_10XHC5_T0             SLE               SLE   \n",
       "...                               ...               ...   \n",
       "Savage2021_BRISL5_T0              SLE             HNSCC   \n",
       "Savage2021_BRISL6_T0          healthy             HNSCC   \n",
       "Savage2021_BRISL7_T0            HNSCC           healthy   \n",
       "Savage2021_PIDA_T0            healthy           healthy   \n",
       "Savage2021_PIDB_T0            healthy           healthy   \n",
       "\n",
       "                      T_CD4_Naive_prediction T_CD4_NonNaive_prediction  \\\n",
       "sampleID                                                                 \n",
       "10XGenomics_10XHC1_T0                    NPC                       NPC   \n",
       "10XGenomics_10XHC2_T0                    NPC                       NPC   \n",
       "10XGenomics_10XHC3_T0                    NPC                       HBV   \n",
       "10XGenomics_10XHC4_T0                healthy                   healthy   \n",
       "10XGenomics_10XHC5_T0                healthy                   healthy   \n",
       "...                                      ...                       ...   \n",
       "Savage2021_BRISL5_T0                 healthy                       NPC   \n",
       "Savage2021_BRISL6_T0                   HNSCC                     HNSCC   \n",
       "Savage2021_BRISL7_T0                     NPC                       NPC   \n",
       "Savage2021_PIDA_T0                   healthy                   healthy   \n",
       "Savage2021_PIDB_T0                   healthy                   healthy   \n",
       "\n",
       "                      T_CD8_Naive_prediction T_CD8_NonNaive_prediction  \\\n",
       "sampleID                                                                 \n",
       "10XGenomics_10XHC1_T0                    NPC                   healthy   \n",
       "10XGenomics_10XHC2_T0                    NPC                   healthy   \n",
       "10XGenomics_10XHC3_T0                    NPC                   healthy   \n",
       "10XGenomics_10XHC4_T0                healthy                       NPC   \n",
       "10XGenomics_10XHC5_T0                healthy                   healthy   \n",
       "...                                      ...                       ...   \n",
       "Savage2021_BRISL5_T0                     NPC                     COVID   \n",
       "Savage2021_BRISL6_T0                 healthy                   healthy   \n",
       "Savage2021_BRISL7_T0                     NPC                     COVID   \n",
       "Savage2021_PIDA_T0                       HIV                   healthy   \n",
       "Savage2021_PIDB_T0                       HIV                       HIV   \n",
       "\n",
       "                      UTC_prediction pDC_prediction firstChoice  \\\n",
       "sampleID                                                          \n",
       "10XGenomics_10XHC1_T0            NPC        healthy         NPC   \n",
       "10XGenomics_10XHC2_T0            HBV        healthy         NPC   \n",
       "10XGenomics_10XHC3_T0            NPC        healthy         NPC   \n",
       "10XGenomics_10XHC4_T0            NPC        healthy     healthy   \n",
       "10XGenomics_10XHC5_T0        healthy        healthy     healthy   \n",
       "...                              ...            ...         ...   \n",
       "Savage2021_BRISL5_T0           HNSCC          COVID       HNSCC   \n",
       "Savage2021_BRISL6_T0           HNSCC        healthy       HNSCC   \n",
       "Savage2021_BRISL7_T0             NPC          HNSCC         NPC   \n",
       "Savage2021_PIDA_T0               NPC        healthy     healthy   \n",
       "Savage2021_PIDB_T0               NPC        healthy     healthy   \n",
       "\n",
       "                       firstChoice_perc secondChoice  secondChoice_perc  \\\n",
       "sampleID                                                                  \n",
       "10XGenomics_10XHC1_T0         46.153846      healthy          23.076923   \n",
       "10XGenomics_10XHC2_T0         38.461538      healthy          23.076923   \n",
       "10XGenomics_10XHC3_T0         30.769231      healthy          30.769231   \n",
       "10XGenomics_10XHC4_T0         38.461538          NPC          23.076923   \n",
       "10XGenomics_10XHC5_T0         46.153846          SLE          23.076923   \n",
       "...                                 ...          ...                ...   \n",
       "Savage2021_BRISL5_T0          30.769231          SLE          15.384615   \n",
       "Savage2021_BRISL6_T0          46.153846      healthy          30.769231   \n",
       "Savage2021_BRISL7_T0          30.769231        HNSCC          23.076923   \n",
       "Savage2021_PIDA_T0            53.846154          HIV          23.076923   \n",
       "Savage2021_PIDB_T0            46.153846          HIV          23.076923   \n",
       "\n",
       "                      disease_true  \n",
       "sampleID                            \n",
       "10XGenomics_10XHC1_T0      healthy  \n",
       "10XGenomics_10XHC2_T0      healthy  \n",
       "10XGenomics_10XHC3_T0      healthy  \n",
       "10XGenomics_10XHC4_T0      healthy  \n",
       "10XGenomics_10XHC5_T0      healthy  \n",
       "...                            ...  \n",
       "Savage2021_BRISL5_T0           SLE  \n",
       "Savage2021_BRISL6_T0           SLE  \n",
       "Savage2021_BRISL7_T0           SLE  \n",
       "Savage2021_PIDA_T0         healthy  \n",
       "Savage2021_PIDB_T0         healthy  \n",
       "\n",
       "[86 rows x 16 columns]"
      ]
     },
     "execution_count": 30,
     "metadata": {},
     "output_type": "execute_result"
    }
   ],
   "source": [
    "res"
   ]
  }
 ],
 "metadata": {
  "kernelspec": {
   "display_name": "Python 3 (ipykernel)",
   "language": "python",
   "name": "python3"
  },
  "language_info": {
   "codemirror_mode": {
    "name": "ipython",
    "version": 3
   },
   "file_extension": ".py",
   "mimetype": "text/x-python",
   "name": "python",
   "nbconvert_exporter": "python",
   "pygments_lexer": "ipython3",
   "version": "3.10.13"
  },
  "papermill": {
   "default_parameters": {},
   "duration": 2406.412712,
   "end_time": "2024-06-19T09:10:06.256075",
   "environment_variables": {},
   "exception": null,
   "input_path": "a02_queryDatasets_and_labelTransfer.ipynb",
   "output_path": "executed_notebooks/a02_queryDatasets_and_labelTransfer_EXTERNAL_nPC20_Batch_chemistry.ipynb",
   "parameters": {
    "batchKeys": "chemistry",
    "nPC": 20,
    "queryDataset": "EXTERNAL"
   },
   "start_time": "2024-06-19T08:29:59.843363",
   "version": "2.5.0"
  }
 },
 "nbformat": 4,
 "nbformat_minor": 5
}