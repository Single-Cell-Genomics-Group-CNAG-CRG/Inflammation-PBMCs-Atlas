{
 "cells": [
  {
   "cell_type": "raw",
   "id": "b23fce1d-13c4-425c-a8e2-2d213aecc270",
   "metadata": {
    "execution": {
     "iopub.execute_input": "2024-06-07T16:29:56.221480Z",
     "iopub.status.busy": "2024-06-07T16:29:56.221137Z",
     "iopub.status.idle": "2024-06-07T16:29:56.223682Z",
     "shell.execute_reply": "2024-06-07T16:29:56.223368Z",
     "shell.execute_reply.started": "2024-06-07T16:29:56.221460Z"
    }
   },
   "source": [
    "nPC = 30\n",
    "batchKeys = 'chemistry'"
   ]
  },
  {
   "cell_type": "code",
   "execution_count": null,
   "id": "c33b3da1-8c7c-405f-8cd8-0b4c41120385",
   "metadata": {},
   "outputs": [],
   "source": [
    "for v in ['nPC','batchKeys']:\n",
    "    if v in locals() or v in globals():\n",
    "        print(f\"{v} = {eval(v)}\")\n",
    "    else:\n",
    "        raise Exception(f\"{v} not specified\")"
   ]
  },
  {
   "cell_type": "code",
   "execution_count": 1,
   "id": "efdb80f5-e899-4f33-bef2-150b34859a2d",
   "metadata": {
    "execution": {
     "iopub.execute_input": "2024-07-14T13:11:47.938126Z",
     "iopub.status.busy": "2024-07-14T13:11:47.937986Z",
     "iopub.status.idle": "2024-07-14T13:11:52.652776Z",
     "shell.execute_reply": "2024-07-14T13:11:52.652314Z",
     "shell.execute_reply.started": "2024-07-14T13:11:47.938109Z"
    }
   },
   "outputs": [],
   "source": [
    "import os\n",
    "\n",
    "import scanpy as sc\n",
    "import pandas as pd\n",
    "import numpy as np\n",
    "\n",
    "import symphonypy as sp\n",
    "\n",
    "from pyprojroot import here\n",
    "\n",
    "random_seed = 42"
   ]
  },
  {
   "cell_type": "markdown",
   "id": "43ddb5fd-a284-4b0e-998b-aa752ca4985a",
   "metadata": {},
   "source": [
    "### Functions"
   ]
  },
  {
   "cell_type": "code",
   "execution_count": null,
   "id": "68d2bba3-84fd-4fc4-83a3-b6acd682540b",
   "metadata": {},
   "outputs": [],
   "source": [
    "def aggregating_features(Z = None, obsDF = None, mode = 'mean', obs_names_col = []):\n",
    "    Zdf = pd.DataFrame(Z)\n",
    "    for c in obsDF.columns:\n",
    "        Zdf[c] = obsDF[c].tolist()\n",
    "    if mode in ['mean','avarage']:\n",
    "        Zaggr = Zdf.groupby(obsDF.columns.tolist(), observed = True).mean()\n",
    "    elif mode == 'sum':\n",
    "        Zaggr = Zdf.groupby(obsDF.columns.tolist(), observed = True).sum()\n",
    "    else:\n",
    "        raise ValueError(f\"mode {mode} not supported. Available mode are 'mean' or 'sum'\")\n",
    "\n",
    "    grpObs = pd.DataFrame(Zaggr.index.tolist(), columns=obsDF.columns.tolist())\n",
    "\n",
    "    if len(obs_names_col) == 0:\n",
    "        grpAdata  = sc.AnnData(X = np.array(Zaggr), obs = grpObs, )\n",
    "    elif all([c in obsDF.columns.tolist() for c in obs_names_col]):\n",
    "        grpObs.index = grpObs[obs_names_col].apply(lambda row: '_'.join(row.values.astype(str)), axis=1)\n",
    "        grpAdata  = sc.AnnData(X = np.array(Zaggr), obs = grpObs)\n",
    "    else:\n",
    "        raise ValueError(f\"Impossible to use {obs_names_col} as index. It's not present in obsDF\")\n",
    "    return grpAdata"
   ]
  },
  {
   "cell_type": "markdown",
   "id": "bd323da1-8446-4ffc-91ac-c737ce081412",
   "metadata": {},
   "source": [
    "### Parameters"
   ]
  },
  {
   "cell_type": "code",
   "execution_count": null,
   "id": "3f81fe70-a960-401d-a05d-9d9199edd620",
   "metadata": {},
   "outputs": [],
   "source": [
    "batch_key_ref = batchKeys.split(',')\n",
    "batch_key_ref"
   ]
  },
  {
   "cell_type": "markdown",
   "id": "008170b2-f7e2-4c59-b434-b682dacf1110",
   "metadata": {},
   "source": [
    "### Loading reference data"
   ]
  },
  {
   "cell_type": "code",
   "execution_count": null,
   "id": "8e361302-99f5-48fe-989b-f196e18ae0dd",
   "metadata": {},
   "outputs": [],
   "source": [
    "adataR = sc.read_h5ad(here('03_downstream_analysis/02_gene_universe_definition/results/04_MAIN_geneUniverse.h5ad'))\n",
    "adataR"
   ]
  },
  {
   "cell_type": "markdown",
   "id": "0be9f746-fd30-4f97-9ec7-1a1e1f831776",
   "metadata": {},
   "source": [
    "### Preprocessing"
   ]
  },
  {
   "cell_type": "code",
   "execution_count": null,
   "id": "db7e0e86-4cfc-44f7-a6f1-1fa3795ad5a3",
   "metadata": {},
   "outputs": [],
   "source": [
    "sc.pp.normalize_total(adataR, target_sum=1e4)\n",
    "sc.pp.log1p(adataR)"
   ]
  },
  {
   "cell_type": "code",
   "execution_count": null,
   "id": "74e00e88-f97f-457b-928e-ee7c2e91b64a",
   "metadata": {},
   "outputs": [],
   "source": [
    "# We followed the tutorial from the python package (https://symphonypy.readthedocs.io/en/latest/usage.html)\n",
    "sc.pp.scale(adataR)"
   ]
  },
  {
   "cell_type": "code",
   "execution_count": null,
   "id": "07fb0fc9-4a10-47fb-b4d6-3b7d66286cfd",
   "metadata": {},
   "outputs": [],
   "source": [
    "sc.pp.pca(adataR, \n",
    "          n_comps=nPC, \n",
    "          use_highly_variable = False,\n",
    "          zero_center=False)"
   ]
  },
  {
   "cell_type": "markdown",
   "id": "3109c878-d7d1-4372-9462-0ccdb78070dc",
   "metadata": {},
   "source": [
    "### Integration with Harmony"
   ]
  },
  {
   "cell_type": "code",
   "execution_count": null,
   "id": "d2e7eed3-c2e1-4031-a49f-89e32fe17130",
   "metadata": {},
   "outputs": [],
   "source": [
    "sp.pp.harmony_integrate(adataR,\n",
    "                        key=batch_key_ref, \n",
    "                        verbose = True, \n",
    "                        random_seed=random_seed,  \n",
    "                        **{'max_iter_harmony':100}, # harmony_kwargs | should reach convergence before\n",
    "                       )"
   ]
  },
  {
   "cell_type": "markdown",
   "id": "293069e9-53ac-4a34-88ef-633da997798d",
   "metadata": {},
   "source": [
    "### Save integrated object"
   ]
  },
  {
   "cell_type": "code",
   "execution_count": null,
   "id": "8f1c2d07-2a4b-40c6-9d48-b3d55317870d",
   "metadata": {},
   "outputs": [],
   "source": [
    "adataR.write(here(f\"03_downstream_analysis/08_PatientClassifier/Harmony_Symphony/results/01_MAIN_HarmonyIntegrated_{nPC}nPC_Batch_{batchKeys}.h5ad\"), compression='gzip')"
   ]
  },
  {
   "cell_type": "markdown",
   "id": "42c514ee-62a5-4cb0-b43d-86160a5c2122",
   "metadata": {},
   "source": [
    "### Generating pseudobulk from latent space"
   ]
  },
  {
   "cell_type": "code",
   "execution_count": null,
   "id": "f912d9bd-bb82-489e-98a6-9da7523b7dc7",
   "metadata": {},
   "outputs": [],
   "source": [
    "emb_pseudobulk_train = aggregating_features(Z = adataR.obsm['X_pca_harmony'], \n",
    "                                            obsDF = adataR.obs[['sampleID','Level1','disease']], \n",
    "                                            mode = 'mean', obs_names_col=['sampleID','Level1'])"
   ]
  },
  {
   "cell_type": "code",
   "execution_count": null,
   "id": "773a8fd1-2390-4ea2-aa4d-bf1672a6c8a8",
   "metadata": {},
   "outputs": [],
   "source": [
    "emb_pseudobulk_train.write(here(f\"03_downstream_analysis/08_PatientClassifier/Harmony_Symphony/results/01_MAIN_HarmonyIntegrated_PSEUDOBULK_{nPC}nPC_Batch_{batchKeys}.h5ad\"), compression='gzip')"
   ]
  },
  {
   "cell_type": "code",
   "execution_count": null,
   "id": "0f68f2f6-9481-44db-a620-9fada9576c4a",
   "metadata": {},
   "outputs": [],
   "source": []
  }
 ],
 "metadata": {
  "kernelspec": {
   "display_name": "Python 3 (ipykernel)",
   "language": "python",
   "name": "python3"
  },
  "language_info": {
   "codemirror_mode": {
    "name": "ipython",
    "version": 3
   },
   "file_extension": ".py",
   "mimetype": "text/x-python",
   "name": "python",
   "nbconvert_exporter": "python",
   "pygments_lexer": "ipython3",
   "version": "3.10.13"
  }
 },
 "nbformat": 4,
 "nbformat_minor": 5
}
