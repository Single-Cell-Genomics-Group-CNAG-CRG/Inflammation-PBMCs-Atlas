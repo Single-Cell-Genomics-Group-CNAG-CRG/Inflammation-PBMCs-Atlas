{
 "cells": [
  {
   "cell_type": "code",
   "execution_count": 1,
   "id": "4bc249a0-8110-4b47-925c-0b7389f709bb",
   "metadata": {
    "execution": {
     "iopub.execute_input": "2024-10-22T17:37:33.852421Z",
     "iopub.status.busy": "2024-10-22T17:37:33.851230Z",
     "iopub.status.idle": "2024-10-22T17:37:37.023566Z",
     "shell.execute_reply": "2024-10-22T17:37:37.023128Z",
     "shell.execute_reply.started": "2024-10-22T17:37:33.852364Z"
    }
   },
   "outputs": [
    {
     "name": "stderr",
     "output_type": "stream",
     "text": [
      "WARNING:root:In order to use the mouse gastrulation seqFISH datsets, please install squidpy (see https://github.com/scverse/squidpy).\n",
      "/home/dmaspero/miniconda3/envs/scarches/lib/python3.9/site-packages/tqdm/auto.py:21: TqdmWarning: IProgress not found. Please update jupyter and ipywidgets. See https://ipywidgets.readthedocs.io/en/stable/user_install.html\n",
      "  from .autonotebook import tqdm as notebook_tqdm\n",
      "WARNING:root:In order to use sagenet models, please install pytorch geometric (see https://pytorch-geometric.readthedocs.io) and \n",
      " captum (see https://github.com/pytorch/captum).\n",
      "WARNING:root:mvTCR is not installed. To use mvTCR models, please install it first using \"pip install mvtcr\"\n",
      "WARNING:root:multigrate is not installed. To use multigrate models, please install it first using \"pip install multigrate\".\n"
     ]
    }
   ],
   "source": [
    "import scarches as sca\n",
    "import pickle as pkl\n",
    "import scvi\n",
    "import scanpy as sc\n",
    "import os\n",
    "import numpy as np\n",
    "from dotenv import load_dotenv\n",
    "from lightning.pytorch.loggers import WandbLogger\n",
    "\n",
    "from pyprojroot import here\n",
    "\n",
    "overwriteData = True"
   ]
  },
  {
   "cell_type": "code",
   "execution_count": 2,
   "id": "5aadbf14-4d43-418f-a7b7-4dfd60385fe2",
   "metadata": {
    "execution": {
     "iopub.execute_input": "2024-10-22T17:37:37.024771Z",
     "iopub.status.busy": "2024-10-22T17:37:37.024424Z",
     "iopub.status.idle": "2024-10-22T17:37:37.029488Z",
     "shell.execute_reply": "2024-10-22T17:37:37.029112Z",
     "shell.execute_reply.started": "2024-10-22T17:37:37.024752Z"
    }
   },
   "outputs": [],
   "source": [
    "assert load_dotenv()"
   ]
  },
  {
   "cell_type": "markdown",
   "id": "16fe4872-298c-4765-b33e-fecb9895224b",
   "metadata": {},
   "source": [
    "### Loading data"
   ]
  },
  {
   "cell_type": "code",
   "execution_count": 3,
   "id": "105b0758-e42d-4788-abc3-46ffcd959eaa",
   "metadata": {
    "execution": {
     "iopub.execute_input": "2024-10-22T17:37:45.878552Z",
     "iopub.status.busy": "2024-10-22T17:37:45.877851Z",
     "iopub.status.idle": "2024-10-22T17:38:06.809797Z",
     "shell.execute_reply": "2024-10-22T17:38:06.808503Z",
     "shell.execute_reply.started": "2024-10-22T17:37:45.878485Z"
    }
   },
   "outputs": [],
   "source": [
    "reference_adata = sc.read_h5ad(here(f\"09_patient_classifier/SCGT00_CentralizedDataset/results_batches/scANVI_model_fineTuned_lowLR_batches/adata.h5ad\"))\n",
    "\n",
    "external_adata = sc.read_h5ad(here(\"01_data_processing/SCGT00_CentralizedDataset/results/SCGT00_EXTERNAL_afterQC.h5ad\"))"
   ]
  },
  {
   "cell_type": "markdown",
   "id": "3fa62e60-5bc4-41b4-8a20-d1c0e835d229",
   "metadata": {},
   "source": [
    "**Keep only selected genes**"
   ]
  },
  {
   "cell_type": "code",
   "execution_count": 4,
   "id": "a8716be7-09ed-49f3-b4b0-efef5b9e5315",
   "metadata": {
    "execution": {
     "iopub.execute_input": "2024-10-22T17:38:06.811331Z",
     "iopub.status.busy": "2024-10-22T17:38:06.811052Z",
     "iopub.status.idle": "2024-10-22T17:38:12.962118Z",
     "shell.execute_reply": "2024-10-22T17:38:12.960809Z",
     "shell.execute_reply.started": "2024-10-22T17:38:06.811313Z"
    }
   },
   "outputs": [],
   "source": [
    "external_adata = external_adata[:,reference_adata.var.index].copy()"
   ]
  },
  {
   "cell_type": "code",
   "execution_count": 5,
   "id": "1a095788-9227-4193-946e-3b754d58cfd8",
   "metadata": {
    "execution": {
     "iopub.execute_input": "2024-10-22T17:38:12.963144Z",
     "iopub.status.busy": "2024-10-22T17:38:12.962962Z",
     "iopub.status.idle": "2024-10-22T17:38:12.969513Z",
     "shell.execute_reply": "2024-10-22T17:38:12.968546Z",
     "shell.execute_reply.started": "2024-10-22T17:38:12.963128Z"
    }
   },
   "outputs": [
    {
     "data": {
      "text/plain": [
       "(AnnData object with n_obs × n_vars = 756120 × 8253\n",
       "     obs: 'studyID', 'libraryID', 'sampleID', 'chemistry', 'disease', 'sex', 'binned_age', 'batches', 'Level1', '_scvi_batch', '_scvi_labels'\n",
       "     var: 'hgnc_id', 'symbol', 'locus_group', 'HUGO_status'\n",
       "     uns: '_scvi_manager_uuid', '_scvi_uuid',\n",
       " AnnData object with n_obs × n_vars = 379359 × 8253\n",
       "     obs: 'studyID', 'libraryID', 'sampleID', 'chemistry', 'technology', 'patientID', 'disease', 'timepoint_replicate', 'treatmentStatus', 'therapyResponse', 'sex', 'age', 'BMI', 'binned_age', 'diseaseStatus', 'smokingStatus', 'ethnicity', 'institute', 'diseaseGroup', 'batches', 'n_genes_by_counts', 'log1p_n_genes_by_counts', 'total_counts', 'log1p_total_counts', 'pct_counts_in_top_20_genes', 'total_counts_mt', 'log1p_total_counts_mt', 'pct_counts_mt', 'total_counts_ribo', 'log1p_total_counts_ribo', 'pct_counts_ribo', 'total_counts_hb', 'log1p_total_counts_hb', 'pct_counts_hb', 'total_counts_plt', 'log1p_total_counts_plt', 'pct_counts_plt'\n",
       "     var: 'hgnc_id', 'symbol', 'locus_group', 'HUGO_status', 'mt', 'ribo', 'hb', 'plt', 'n_cells_by_counts', 'mean_counts', 'log1p_mean_counts', 'pct_dropout_by_counts', 'total_counts', 'log1p_total_counts'\n",
       "     uns: 'disease_colors')"
      ]
     },
     "execution_count": 5,
     "metadata": {},
     "output_type": "execute_result"
    }
   ],
   "source": [
    "reference_adata, external_adata"
   ]
  },
  {
   "cell_type": "code",
   "execution_count": 6,
   "id": "8a7499f9-c60d-4d9f-a139-c89b6a4c2a42",
   "metadata": {
    "execution": {
     "iopub.execute_input": "2024-10-22T17:38:12.970641Z",
     "iopub.status.busy": "2024-10-22T17:38:12.970499Z",
     "iopub.status.idle": "2024-10-22T17:38:16.368105Z",
     "shell.execute_reply": "2024-10-22T17:38:16.367046Z",
     "shell.execute_reply.started": "2024-10-22T17:38:12.970626Z"
    }
   },
   "outputs": [
    {
     "name": "stdout",
     "output_type": "stream",
     "text": [
      "\u001b[34mINFO    \u001b[0m File                                                                                                      \n",
      "         \u001b[35m/scratch_isilon/groups/singlecell/shared/projects/Inflammation-PBMCs-Atlas/04_visualizing_final_embedding_space/SCGT00_CentralizedDataset/02_scANVI_integration_wit\u001b[0m\n",
      "         \u001b[35mh_annotation/results/scANVI_model_fineTuned_lowLR_batches/\u001b[0m\u001b[95mmodel.pt\u001b[0m already downloaded                     \n"
     ]
    },
    {
     "name": "stderr",
     "output_type": "stream",
     "text": [
      "WARNING:jax._src.xla_bridge:CUDA backend failed to initialize: Unable to use CUDA because of the following issues with CUDA components:\n",
      "Outdated cuSPARSE installation found.\n",
      "Version JAX was built against: 12200\n",
      "Minimum supported: 12100\n",
      "Installed version: 12002\n",
      "The local installation version must be no lower than 12100. (Set TF_CPP_MIN_LOG_LEVEL=0 and rerun for more info.)\n"
     ]
    }
   ],
   "source": [
    "scanvi_model = scvi.model.SCANVI.load(here(f\"09_patient_classifier/SCGT00_CentralizedDataset/results_batches/scANVI_model_fineTuned_lowLR_batches/\"), \n",
    "                                      adata=reference_adata)"
   ]
  },
  {
   "cell_type": "markdown",
   "id": "978a8317-5952-435a-9d31-398b535a2bbc",
   "metadata": {},
   "source": [
    "### Parametrize model"
   ]
  },
  {
   "cell_type": "code",
   "execution_count": 8,
   "id": "81d2c7af-939a-4f2c-b84e-67c46371e890",
   "metadata": {
    "execution": {
     "iopub.execute_input": "2024-10-22T17:38:21.904700Z",
     "iopub.status.busy": "2024-10-22T17:38:21.903495Z",
     "iopub.status.idle": "2024-10-22T17:38:23.338647Z",
     "shell.execute_reply": "2024-10-22T17:38:23.338052Z",
     "shell.execute_reply.started": "2024-10-22T17:38:21.904638Z"
    }
   },
   "outputs": [],
   "source": [
    "model = scvi.model.SCANVI.load_query_data(\n",
    "    external_adata,\n",
    "    scanvi_model,\n",
    "    freeze_dropout = True,\n",
    ")\n",
    "model._unlabeled_indices = np.arange(external_adata.n_obs)\n",
    "model._labeled_indices = []"
   ]
  },
  {
   "cell_type": "code",
   "execution_count": 9,
   "id": "c7890076-4290-45b6-982f-f0cee0e4d828",
   "metadata": {
    "execution": {
     "iopub.execute_input": "2024-10-22T17:38:30.606814Z",
     "iopub.status.busy": "2024-10-22T17:38:30.606139Z",
     "iopub.status.idle": "2024-10-22T17:38:30.615530Z",
     "shell.execute_reply": "2024-10-22T17:38:30.614139Z",
     "shell.execute_reply.started": "2024-10-22T17:38:30.606749Z"
    }
   },
   "outputs": [],
   "source": [
    "parameter_dict = {}\n",
    "trainer_kwargs = dict(\n",
    "    checkpointing_monitor = 'elbo_validation',\n",
    "    early_stopping_monitor = 'reconstruction_loss_validation',\n",
    "    early_stopping_patience = 10,\n",
    "    early_stopping = True,\n",
    "    max_epochs = 100,\n",
    "    batch_size = 128 # if QUERY_ADATA_NAME != 'EXTERNAL' else 127\n",
    ")\n",
    "\n",
    "plan_kwargs = dict(weight_decay=0.0)\n",
    "parameter_dict.update(trainer_kwargs)\n",
    "parameter_dict.update(plan_kwargs)"
   ]
  },
  {
   "cell_type": "code",
   "execution_count": 10,
   "id": "85a1ddbe-87be-483b-a292-8d8617aaf619",
   "metadata": {
    "execution": {
     "iopub.execute_input": "2024-10-22T17:38:31.776527Z",
     "iopub.status.busy": "2024-10-22T17:38:31.775974Z",
     "iopub.status.idle": "2024-10-22T17:38:31.825308Z",
     "shell.execute_reply": "2024-10-22T17:38:31.824882Z",
     "shell.execute_reply.started": "2024-10-22T17:38:31.776475Z"
    }
   },
   "outputs": [],
   "source": [
    "logger = WandbLogger(\n",
    "    project='inflammation_atlas_PatientClassifier_scANVI', \n",
    "    entity='inflammation',\n",
    "    config=parameter_dict,\n",
    "    name = f'scANVI_query_test_SCGT00_EXTERNAL',\n",
    ")"
   ]
  },
  {
   "cell_type": "markdown",
   "id": "ecaf180b-07d7-42cd-b4b9-9c660095c552",
   "metadata": {},
   "source": [
    "### Querying external"
   ]
  },
  {
   "cell_type": "code",
   "execution_count": 11,
   "id": "ec475e5f-0f21-4a80-a75a-e4b9d1996710",
   "metadata": {
    "execution": {
     "iopub.execute_input": "2024-10-22T17:38:34.474132Z",
     "iopub.status.busy": "2024-10-22T17:38:34.473573Z",
     "iopub.status.idle": "2024-10-22T17:40:04.886309Z",
     "shell.execute_reply": "2024-10-22T17:40:04.885420Z",
     "shell.execute_reply.started": "2024-10-22T17:38:34.474078Z"
    }
   },
   "outputs": [
    {
     "name": "stdout",
     "output_type": "stream",
     "text": [
      "\u001b[34mINFO    \u001b[0m Training for \u001b[1;36m100\u001b[0m epochs.                                                                                  \n"
     ]
    },
    {
     "name": "stderr",
     "output_type": "stream",
     "text": [
      "INFO: GPU available: True (cuda), used: True\n",
      "INFO:lightning.pytorch.utilities.rank_zero:GPU available: True (cuda), used: True\n",
      "INFO: TPU available: False, using: 0 TPU cores\n",
      "INFO:lightning.pytorch.utilities.rank_zero:TPU available: False, using: 0 TPU cores\n",
      "INFO: IPU available: False, using: 0 IPUs\n",
      "INFO:lightning.pytorch.utilities.rank_zero:IPU available: False, using: 0 IPUs\n",
      "INFO: HPU available: False, using: 0 HPUs\n",
      "INFO:lightning.pytorch.utilities.rank_zero:HPU available: False, using: 0 HPUs\n",
      "INFO: You are using a CUDA device ('NVIDIA RTX A6000') that has Tensor Cores. To properly utilize them, you should set `torch.set_float32_matmul_precision('medium' | 'high')` which will trade-off precision for performance. For more details, read https://pytorch.org/docs/stable/generated/torch.set_float32_matmul_precision.html#torch.set_float32_matmul_precision\n",
      "INFO:lightning.pytorch.utilities.rank_zero:You are using a CUDA device ('NVIDIA RTX A6000') that has Tensor Cores. To properly utilize them, you should set `torch.set_float32_matmul_precision('medium' | 'high')` which will trade-off precision for performance. For more details, read https://pytorch.org/docs/stable/generated/torch.set_float32_matmul_precision.html#torch.set_float32_matmul_precision\n",
      "\u001b[34m\u001b[1mwandb\u001b[0m: Currently logged in as: \u001b[33mdav1989\u001b[0m (\u001b[33minflammation\u001b[0m). Use \u001b[1m`wandb login --relogin`\u001b[0m to force relogin\n"
     ]
    },
    {
     "data": {
      "text/html": [
       "wandb version 0.18.5 is available!  To upgrade, please run:\n",
       " $ pip install wandb --upgrade"
      ],
      "text/plain": [
       "<IPython.core.display.HTML object>"
      ]
     },
     "metadata": {},
     "output_type": "display_data"
    },
    {
     "data": {
      "text/html": [
       "Tracking run with wandb version 0.16.5"
      ],
      "text/plain": [
       "<IPython.core.display.HTML object>"
      ]
     },
     "metadata": {},
     "output_type": "display_data"
    },
    {
     "data": {
      "text/html": [
       "Run data is saved locally in <code>./wandb/run-20241022_173837-ery0dqe3</code>"
      ],
      "text/plain": [
       "<IPython.core.display.HTML object>"
      ]
     },
     "metadata": {},
     "output_type": "display_data"
    },
    {
     "data": {
      "text/html": [
       "Syncing run <strong><a href='https://wandb.ai/inflammation/inflammation_atlas_PatientClassifier_scANVI/runs/ery0dqe3/workspace' target=\"_blank\">scANVI_query_test_SCGT00_EXTERNAL</a></strong> to <a href='https://wandb.ai/inflammation/inflammation_atlas_PatientClassifier_scANVI' target=\"_blank\">Weights & Biases</a> (<a href='https://wandb.me/run' target=\"_blank\">docs</a>)<br/>"
      ],
      "text/plain": [
       "<IPython.core.display.HTML object>"
      ]
     },
     "metadata": {},
     "output_type": "display_data"
    },
    {
     "data": {
      "text/html": [
       " View project at <a href='https://wandb.ai/inflammation/inflammation_atlas_PatientClassifier_scANVI' target=\"_blank\">https://wandb.ai/inflammation/inflammation_atlas_PatientClassifier_scANVI</a>"
      ],
      "text/plain": [
       "<IPython.core.display.HTML object>"
      ]
     },
     "metadata": {},
     "output_type": "display_data"
    },
    {
     "data": {
      "text/html": [
       " View run at <a href='https://wandb.ai/inflammation/inflammation_atlas_PatientClassifier_scANVI/runs/ery0dqe3/workspace' target=\"_blank\">https://wandb.ai/inflammation/inflammation_atlas_PatientClassifier_scANVI/runs/ery0dqe3/workspace</a>"
      ],
      "text/plain": [
       "<IPython.core.display.HTML object>"
      ]
     },
     "metadata": {},
     "output_type": "display_data"
    },
    {
     "name": "stderr",
     "output_type": "stream",
     "text": [
      "INFO: LOCAL_RANK: 0 - CUDA_VISIBLE_DEVICES: [0]\n",
      "INFO:lightning.pytorch.accelerators.cuda:LOCAL_RANK: 0 - CUDA_VISIBLE_DEVICES: [0]\n",
      "/home/dmaspero/miniconda3/envs/scarches/lib/python3.9/site-packages/lightning/pytorch/trainer/connectors/data_connector.py:441: The 'train_dataloader' does not have many workers which may be a bottleneck. Consider increasing the value of the `num_workers` argument` to `num_workers=35` in the `DataLoader` to improve performance.\n",
      "/home/dmaspero/miniconda3/envs/scarches/lib/python3.9/site-packages/lightning/pytorch/trainer/connectors/data_connector.py:441: The 'val_dataloader' does not have many workers which may be a bottleneck. Consider increasing the value of the `num_workers` argument` to `num_workers=35` in the `DataLoader` to improve performance.\n"
     ]
    },
    {
     "name": "stdout",
     "output_type": "stream",
     "text": [
      "Epoch 2/100:   1%|▍                                             | 1/100 [01:19<2:11:55, 79.96s/it, v_num=dqe3, train_loss_step=1.91e+3, train_loss_epoch=1.88e+3]"
     ]
    },
    {
     "name": "stderr",
     "output_type": "stream",
     "text": [
      "/home/dmaspero/miniconda3/envs/scarches/lib/python3.9/site-packages/lightning/pytorch/trainer/call.py:54: Detected KeyboardInterrupt, attempting graceful shutdown...\n"
     ]
    }
   ],
   "source": [
    "model.train(\n",
    "    logger=logger, \n",
    "    plan_kwargs=plan_kwargs,\n",
    "    **trainer_kwargs\n",
    ")"
   ]
  },
  {
   "cell_type": "code",
   "execution_count": 12,
   "id": "4e1e82bb-d330-4d8d-94b7-1e97ddcc7d90",
   "metadata": {
    "execution": {
     "iopub.execute_input": "2024-10-22T17:40:04.888122Z",
     "iopub.status.busy": "2024-10-22T17:40:04.887737Z",
     "iopub.status.idle": "2024-10-22T17:40:06.004476Z",
     "shell.execute_reply": "2024-10-22T17:40:06.002814Z",
     "shell.execute_reply.started": "2024-10-22T17:40:04.888095Z"
    }
   },
   "outputs": [
    {
     "name": "stderr",
     "output_type": "stream",
     "text": [
      "Exception ignored in: <bound method IPythonKernel._clean_thread_parent_frames of <ipykernel.ipkernel.IPythonKernel object at 0x7b34c8528130>>\n",
      "Traceback (most recent call last):\n",
      "  File \"/home/dmaspero/miniconda3/envs/scarches/lib/python3.9/site-packages/ipykernel/ipkernel.py\", line 770, in _clean_thread_parent_frames\n",
      "    def _clean_thread_parent_frames(\n",
      "KeyboardInterrupt: \n",
      "\n",
      "KeyboardInterrupt\n",
      "\n"
     ]
    }
   ],
   "source": [
    "if overwriteData:\n",
    "    model.save(\n",
    "        here(f\"09_patient_classifier/SCGT00_CentralizedDataset/results_batches/scANVI_SCGT00_EXTERNAL_batches_queried\"), \n",
    "        overwrite = True,\n",
    "        save_anndata = False)"
   ]
  },
  {
   "cell_type": "markdown",
   "id": "5ab13761-10de-4cc2-b99e-482b41047dd8",
   "metadata": {},
   "source": [
    "### Label transfer"
   ]
  },
  {
   "cell_type": "code",
   "execution_count": null,
   "id": "49ccfe9a-7d62-49f9-a483-4a01858effd8",
   "metadata": {
    "execution": {
     "iopub.status.busy": "2024-10-22T17:40:06.005698Z",
     "iopub.status.idle": "2024-10-22T17:40:06.006428Z",
     "shell.execute_reply": "2024-10-22T17:40:06.006128Z",
     "shell.execute_reply.started": "2024-10-22T17:40:06.006100Z"
    }
   },
   "outputs": [],
   "source": [
    "query_labels = model.predict(external_adata)"
   ]
  },
  {
   "cell_type": "code",
   "execution_count": null,
   "id": "b16f7dbe-b644-4758-978f-1dacfdd578fd",
   "metadata": {
    "execution": {
     "iopub.status.busy": "2024-10-22T17:40:06.008136Z",
     "iopub.status.idle": "2024-10-22T17:40:06.008642Z",
     "shell.execute_reply": "2024-10-22T17:40:06.008516Z",
     "shell.execute_reply.started": "2024-10-22T17:40:06.008502Z"
    }
   },
   "outputs": [],
   "source": [
    "query_latents = model.get_latent_representation(\n",
    "    external_adata\n",
    ")\n",
    "reference_latents = model.get_latent_representation(\n",
    "    reference_adata\n",
    ")"
   ]
  },
  {
   "cell_type": "code",
   "execution_count": null,
   "id": "042f2305-d417-4314-9339-37fc5d290d2c",
   "metadata": {
    "execution": {
     "iopub.status.busy": "2024-10-22T17:40:06.009335Z",
     "iopub.status.idle": "2024-10-22T17:40:06.009537Z",
     "shell.execute_reply": "2024-10-22T17:40:06.009443Z",
     "shell.execute_reply.started": "2024-10-22T17:40:06.009434Z"
    }
   },
   "outputs": [],
   "source": [
    "query_ad = sc.AnnData(\n",
    "    X=query_latents, \n",
    "    obs=(external_adata.obs.assign(labels=query_labels)))\n",
    "query_ad.write(here(f\"09_patient_classifier/SCGT00_CentralizedDataset/results_batches/scANVI_SCGT00_EXTERNAL_batches_latent.h5ad\"), compression='gzip')"
   ]
  },
  {
   "cell_type": "code",
   "execution_count": null,
   "id": "eb6485f7-ff04-44a8-b229-2901e09780a9",
   "metadata": {
    "execution": {
     "iopub.status.busy": "2024-10-22T17:40:06.009905Z",
     "iopub.status.idle": "2024-10-22T17:40:06.010078Z",
     "shell.execute_reply": "2024-10-22T17:40:06.009999Z",
     "shell.execute_reply.started": "2024-10-22T17:40:06.009991Z"
    }
   },
   "outputs": [
    {
     "name": "stdout",
     "output_type": "stream",
     "text": [
      "<IPython.core.display.HTML object>\n",
      "<IPython.core.display.HTML object>\n",
      "<IPython.core.display.HTML object>\n"
     ]
    }
   ],
   "source": [
    "reference_ad = sc.AnnData(\n",
    "    X=reference_latents, \n",
    "    obs=reference_adata.obs)\n",
    "reference_ad.write(here(f\"09_patient_classifier/SCGT00_CentralizedDataset/results_batches/scANVI_SCGT00_MAIN_batches_latent.h5ad\"), compression='gzip')"
   ]
  },
  {
   "cell_type": "code",
   "execution_count": null,
   "id": "12186c04-5108-41a1-a9ec-7dc3e78b6adb",
   "metadata": {},
   "outputs": [],
   "source": []
  }
 ],
 "metadata": {
  "kernelspec": {
   "display_name": "Python 3 (ipykernel)",
   "language": "python",
   "name": "python3"
  },
  "language_info": {
   "codemirror_mode": {
    "name": "ipython",
    "version": 3
   },
   "file_extension": ".py",
   "mimetype": "text/x-python",
   "name": "python",
   "nbconvert_exporter": "python",
   "pygments_lexer": "ipython3",
   "version": "3.10.13"
  }
 },
 "nbformat": 4,
 "nbformat_minor": 5
}
