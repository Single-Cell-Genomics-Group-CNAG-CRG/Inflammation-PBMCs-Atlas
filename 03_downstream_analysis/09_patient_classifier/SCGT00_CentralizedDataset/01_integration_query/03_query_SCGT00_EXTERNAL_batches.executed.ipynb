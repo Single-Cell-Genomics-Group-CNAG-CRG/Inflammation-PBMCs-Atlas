{
 "cells": [
  {
   "cell_type": "code",
   "execution_count": 1,
   "id": "4bc249a0-8110-4b47-925c-0b7389f709bb",
   "metadata": {
    "execution": {
     "iopub.execute_input": "2024-10-22T20:55:28.598299Z",
     "iopub.status.busy": "2024-10-22T20:55:28.597814Z",
     "iopub.status.idle": "2024-10-22T20:55:31.755639Z",
     "shell.execute_reply": "2024-10-22T20:55:31.755175Z"
    },
    "papermill": {
     "duration": 3.172699,
     "end_time": "2024-10-22T20:55:31.756848",
     "exception": false,
     "start_time": "2024-10-22T20:55:28.584149",
     "status": "completed"
    },
    "tags": []
   },
   "outputs": [
    {
     "name": "stderr",
     "output_type": "stream",
     "text": [
      "WARNING:root:In order to use the mouse gastrulation seqFISH datsets, please install squidpy (see https://github.com/scverse/squidpy).\n"
     ]
    },
    {
     "name": "stderr",
     "output_type": "stream",
     "text": [
      "/home/dmaspero/miniconda3/envs/scarches/lib/python3.9/site-packages/tqdm/auto.py:21: TqdmWarning: IProgress not found. Please update jupyter and ipywidgets. See https://ipywidgets.readthedocs.io/en/stable/user_install.html\n",
      "  from .autonotebook import tqdm as notebook_tqdm\n",
      "WARNING:root:In order to use sagenet models, please install pytorch geometric (see https://pytorch-geometric.readthedocs.io) and \n",
      " captum (see https://github.com/pytorch/captum).\n"
     ]
    },
    {
     "name": "stderr",
     "output_type": "stream",
     "text": [
      "WARNING:root:mvTCR is not installed. To use mvTCR models, please install it first using \"pip install mvtcr\"\n"
     ]
    },
    {
     "name": "stderr",
     "output_type": "stream",
     "text": [
      "WARNING:root:multigrate is not installed. To use multigrate models, please install it first using \"pip install multigrate\".\n"
     ]
    }
   ],
   "source": [
    "import scarches as sca\n",
    "import pickle as pkl\n",
    "import scvi\n",
    "import scanpy as sc\n",
    "import os\n",
    "import numpy as np\n",
    "from dotenv import load_dotenv\n",
    "from lightning.pytorch.loggers import WandbLogger\n",
    "\n",
    "from pyprojroot import here\n",
    "\n",
    "overwriteData = True"
   ]
  },
  {
   "cell_type": "code",
   "execution_count": 2,
   "id": "5aadbf14-4d43-418f-a7b7-4dfd60385fe2",
   "metadata": {
    "execution": {
     "iopub.execute_input": "2024-10-22T20:55:31.770845Z",
     "iopub.status.busy": "2024-10-22T20:55:31.770238Z",
     "iopub.status.idle": "2024-10-22T20:55:31.776606Z",
     "shell.execute_reply": "2024-10-22T20:55:31.776022Z"
    },
    "papermill": {
     "duration": 0.016808,
     "end_time": "2024-10-22T20:55:31.779444",
     "exception": false,
     "start_time": "2024-10-22T20:55:31.762636",
     "status": "completed"
    },
    "tags": []
   },
   "outputs": [],
   "source": [
    "assert load_dotenv()"
   ]
  },
  {
   "cell_type": "markdown",
   "id": "16fe4872-298c-4765-b33e-fecb9895224b",
   "metadata": {
    "papermill": {
     "duration": 0.010499,
     "end_time": "2024-10-22T20:55:31.800731",
     "exception": false,
     "start_time": "2024-10-22T20:55:31.790232",
     "status": "completed"
    },
    "tags": []
   },
   "source": [
    "### Loading data"
   ]
  },
  {
   "cell_type": "code",
   "execution_count": 3,
   "id": "105b0758-e42d-4788-abc3-46ffcd959eaa",
   "metadata": {
    "execution": {
     "iopub.execute_input": "2024-10-22T20:55:31.822449Z",
     "iopub.status.busy": "2024-10-22T20:55:31.822194Z",
     "iopub.status.idle": "2024-10-22T20:55:52.336864Z",
     "shell.execute_reply": "2024-10-22T20:55:52.335554Z"
    },
    "papermill": {
     "duration": 20.528383,
     "end_time": "2024-10-22T20:55:52.340140",
     "exception": false,
     "start_time": "2024-10-22T20:55:31.811757",
     "status": "completed"
    },
    "tags": []
   },
   "outputs": [],
   "source": [
    "reference_adata = sc.read_h5ad(here(f\"09_patient_classifier/SCGT00_CentralizedDataset/results_batches/scANVI_model_fineTuned_lowLR_batches/adata.h5ad\"))\n",
    "\n",
    "external_adata = sc.read_h5ad(here(\"R3/results/SCGT00_EXTERNAL_afterQC.h5ad\"))"
   ]
  },
  {
   "cell_type": "markdown",
   "id": "3fa62e60-5bc4-41b4-8a20-d1c0e835d229",
   "metadata": {
    "papermill": {
     "duration": 0.009122,
     "end_time": "2024-10-22T20:55:52.359951",
     "exception": false,
     "start_time": "2024-10-22T20:55:52.350829",
     "status": "completed"
    },
    "tags": []
   },
   "source": [
    "**Keep only selected genes**"
   ]
  },
  {
   "cell_type": "code",
   "execution_count": 4,
   "id": "a8716be7-09ed-49f3-b4b0-efef5b9e5315",
   "metadata": {
    "execution": {
     "iopub.execute_input": "2024-10-22T20:55:52.382030Z",
     "iopub.status.busy": "2024-10-22T20:55:52.381524Z",
     "iopub.status.idle": "2024-10-22T20:55:55.701567Z",
     "shell.execute_reply": "2024-10-22T20:55:55.700351Z"
    },
    "papermill": {
     "duration": 3.336767,
     "end_time": "2024-10-22T20:55:55.704953",
     "exception": false,
     "start_time": "2024-10-22T20:55:52.368186",
     "status": "completed"
    },
    "tags": []
   },
   "outputs": [],
   "source": [
    "external_adata = external_adata[:,reference_adata.var.index].copy()"
   ]
  },
  {
   "cell_type": "code",
   "execution_count": 5,
   "id": "1a095788-9227-4193-946e-3b754d58cfd8",
   "metadata": {
    "execution": {
     "iopub.execute_input": "2024-10-22T20:55:55.729224Z",
     "iopub.status.busy": "2024-10-22T20:55:55.728734Z",
     "iopub.status.idle": "2024-10-22T20:55:55.739750Z",
     "shell.execute_reply": "2024-10-22T20:55:55.738433Z"
    },
    "papermill": {
     "duration": 0.026009,
     "end_time": "2024-10-22T20:55:55.742739",
     "exception": false,
     "start_time": "2024-10-22T20:55:55.716730",
     "status": "completed"
    },
    "tags": []
   },
   "outputs": [
    {
     "data": {
      "text/plain": [
       "(AnnData object with n_obs × n_vars = 756120 × 8253\n",
       "     obs: 'studyID', 'libraryID', 'sampleID', 'chemistry', 'disease', 'sex', 'binned_age', 'batches', 'Level1', '_scvi_batch', '_scvi_labels'\n",
       "     var: 'hgnc_id', 'symbol', 'locus_group', 'HUGO_status'\n",
       "     uns: '_scvi_manager_uuid', '_scvi_uuid',\n",
       " AnnData object with n_obs × n_vars = 379359 × 8253\n",
       "     obs: 'studyID', 'libraryID', 'sampleID', 'chemistry', 'technology', 'patientID', 'disease', 'timepoint_replicate', 'treatmentStatus', 'therapyResponse', 'sex', 'age', 'BMI', 'binned_age', 'diseaseStatus', 'smokingStatus', 'ethnicity', 'institute', 'diseaseGroup', 'batches', 'n_genes_by_counts', 'log1p_n_genes_by_counts', 'total_counts', 'log1p_total_counts', 'pct_counts_in_top_20_genes', 'total_counts_mt', 'log1p_total_counts_mt', 'pct_counts_mt', 'total_counts_ribo', 'log1p_total_counts_ribo', 'pct_counts_ribo', 'total_counts_hb', 'log1p_total_counts_hb', 'pct_counts_hb', 'total_counts_plt', 'log1p_total_counts_plt', 'pct_counts_plt'\n",
       "     var: 'hgnc_id', 'symbol', 'locus_group', 'HUGO_status', 'mt', 'ribo', 'hb', 'plt', 'n_cells_by_counts', 'mean_counts', 'log1p_mean_counts', 'pct_dropout_by_counts', 'total_counts', 'log1p_total_counts'\n",
       "     uns: 'disease_colors')"
      ]
     },
     "execution_count": 5,
     "metadata": {},
     "output_type": "execute_result"
    }
   ],
   "source": [
    "reference_adata, external_adata"
   ]
  },
  {
   "cell_type": "code",
   "execution_count": 6,
   "id": "8a7499f9-c60d-4d9f-a139-c89b6a4c2a42",
   "metadata": {
    "execution": {
     "iopub.execute_input": "2024-10-22T20:55:55.764427Z",
     "iopub.status.busy": "2024-10-22T20:55:55.763487Z",
     "iopub.status.idle": "2024-10-22T20:55:59.330847Z",
     "shell.execute_reply": "2024-10-22T20:55:59.330102Z"
    },
    "papermill": {
     "duration": 3.580751,
     "end_time": "2024-10-22T20:55:59.334129",
     "exception": false,
     "start_time": "2024-10-22T20:55:55.753378",
     "status": "completed"
    },
    "tags": []
   },
   "outputs": [
    {
     "name": "stdout",
     "output_type": "stream",
     "text": [
      "\u001b[34mINFO    \u001b[0m File                                                                                                      \n",
      "         \u001b[35m/scratch_isilon/groups/singlecell/shared/projects/Inflammation-PBMCs-Atlas/04_visualizing_final_embedding_space/SCGT00_CentralizedDataset/02_scANVI_integration_wit\u001b[0m\n",
      "         \u001b[35mh_annotation/results/scANVI_model_fineTuned_lowLR_batches/\u001b[0m\u001b[95mmodel.pt\u001b[0m already downloaded                     \n"
     ]
    },
    {
     "name": "stderr",
     "output_type": "stream",
     "text": [
      "WARNING:jax._src.xla_bridge:CUDA backend failed to initialize: Unable to use CUDA because of the following issues with CUDA components:\n",
      "Outdated cuSPARSE installation found.\n",
      "Version JAX was built against: 12200\n",
      "Minimum supported: 12100\n",
      "Installed version: 12002\n",
      "The local installation version must be no lower than 12100. (Set TF_CPP_MIN_LOG_LEVEL=0 and rerun for more info.)\n"
     ]
    }
   ],
   "source": [
    "scanvi_model = scvi.model.SCANVI.load(here(f\"09_patient_classifier/SCGT00_CentralizedDataset/results_batches/scANVI_model_fineTuned_lowLR_batches/\"), \n",
    "                                      adata=reference_adata)"
   ]
  },
  {
   "cell_type": "markdown",
   "id": "978a8317-5952-435a-9d31-398b535a2bbc",
   "metadata": {
    "papermill": {
     "duration": 0.005465,
     "end_time": "2024-10-22T20:55:59.350983",
     "exception": false,
     "start_time": "2024-10-22T20:55:59.345518",
     "status": "completed"
    },
    "tags": []
   },
   "source": [
    "### Parametrize model"
   ]
  },
  {
   "cell_type": "code",
   "execution_count": 7,
   "id": "81d2c7af-939a-4f2c-b84e-67c46371e890",
   "metadata": {
    "execution": {
     "iopub.execute_input": "2024-10-22T20:55:59.369648Z",
     "iopub.status.busy": "2024-10-22T20:55:59.369306Z",
     "iopub.status.idle": "2024-10-22T20:56:00.596057Z",
     "shell.execute_reply": "2024-10-22T20:56:00.595528Z"
    },
    "papermill": {
     "duration": 1.239748,
     "end_time": "2024-10-22T20:56:00.599385",
     "exception": false,
     "start_time": "2024-10-22T20:55:59.359637",
     "status": "completed"
    },
    "tags": []
   },
   "outputs": [
    {
     "name": "stderr",
     "output_type": "stream",
     "text": [
      "/home/dmaspero/miniconda3/envs/scarches/lib/python3.9/site-packages/scvi/data/_manager.py:209: UserWarning: Missing labels key Level1. Filling in with unlabeled category unknown.\n",
      "  field_registry[_constants._STATE_REGISTRY_KEY] = field.transfer_field(\n"
     ]
    }
   ],
   "source": [
    "model = scvi.model.SCANVI.load_query_data(\n",
    "    external_adata,\n",
    "    scanvi_model,\n",
    "    freeze_dropout = True,\n",
    ")\n",
    "model._unlabeled_indices = np.arange(external_adata.n_obs)\n",
    "model._labeled_indices = []"
   ]
  },
  {
   "cell_type": "code",
   "execution_count": 8,
   "id": "c7890076-4290-45b6-982f-f0cee0e4d828",
   "metadata": {
    "execution": {
     "iopub.execute_input": "2024-10-22T20:56:00.623757Z",
     "iopub.status.busy": "2024-10-22T20:56:00.623459Z",
     "iopub.status.idle": "2024-10-22T20:56:00.629138Z",
     "shell.execute_reply": "2024-10-22T20:56:00.628306Z"
    },
    "papermill": {
     "duration": 0.019872,
     "end_time": "2024-10-22T20:56:00.631265",
     "exception": false,
     "start_time": "2024-10-22T20:56:00.611393",
     "status": "completed"
    },
    "tags": []
   },
   "outputs": [],
   "source": [
    "parameter_dict = {}\n",
    "trainer_kwargs = dict(\n",
    "    checkpointing_monitor = 'elbo_validation',\n",
    "    early_stopping_monitor = 'reconstruction_loss_validation',\n",
    "    early_stopping_patience = 10,\n",
    "    early_stopping = True,\n",
    "    max_epochs = 100,\n",
    "    batch_size = 128 # if QUERY_ADATA_NAME != 'EXTERNAL' else 127\n",
    ")\n",
    "\n",
    "plan_kwargs = dict(weight_decay=0.0)\n",
    "parameter_dict.update(trainer_kwargs)\n",
    "parameter_dict.update(plan_kwargs)"
   ]
  },
  {
   "cell_type": "code",
   "execution_count": 9,
   "id": "85a1ddbe-87be-483b-a292-8d8617aaf619",
   "metadata": {
    "execution": {
     "iopub.execute_input": "2024-10-22T20:56:00.652033Z",
     "iopub.status.busy": "2024-10-22T20:56:00.651104Z",
     "iopub.status.idle": "2024-10-22T20:56:00.696337Z",
     "shell.execute_reply": "2024-10-22T20:56:00.695965Z"
    },
    "papermill": {
     "duration": 0.058779,
     "end_time": "2024-10-22T20:56:00.699235",
     "exception": false,
     "start_time": "2024-10-22T20:56:00.640456",
     "status": "completed"
    },
    "tags": []
   },
   "outputs": [],
   "source": [
    "logger = WandbLogger(\n",
    "    project='inflammation_atlas_PatientClassifier_scANVI', \n",
    "    entity='inflammation',\n",
    "    config=parameter_dict,\n",
    "    name = f'scANVI_query_test_SCGT00_EXTERNAL',\n",
    ")"
   ]
  },
  {
   "cell_type": "markdown",
   "id": "ecaf180b-07d7-42cd-b4b9-9c660095c552",
   "metadata": {
    "papermill": {
     "duration": 0.010833,
     "end_time": "2024-10-22T20:56:00.722912",
     "exception": false,
     "start_time": "2024-10-22T20:56:00.712079",
     "status": "completed"
    },
    "tags": []
   },
   "source": [
    "### Querying external"
   ]
  },
  {
   "cell_type": "code",
   "execution_count": 10,
   "id": "ec475e5f-0f21-4a80-a75a-e4b9d1996710",
   "metadata": {
    "execution": {
     "iopub.execute_input": "2024-10-22T20:56:00.743407Z",
     "iopub.status.busy": "2024-10-22T20:56:00.743136Z",
     "iopub.status.idle": "2024-10-22T21:25:14.013568Z",
     "shell.execute_reply": "2024-10-22T21:25:14.012793Z"
    },
    "papermill": {
     "duration": 1753.283337,
     "end_time": "2024-10-22T21:25:14.016395",
     "exception": false,
     "start_time": "2024-10-22T20:56:00.733058",
     "status": "completed"
    },
    "tags": []
   },
   "outputs": [
    {
     "name": "stdout",
     "output_type": "stream",
     "text": [
      "\u001b[34mINFO    \u001b[0m Training for \u001b[1;36m100\u001b[0m epochs.                                                                                  \n"
     ]
    },
    {
     "name": "stderr",
     "output_type": "stream",
     "text": [
      "INFO: GPU available: True (cuda), used: True\n"
     ]
    },
    {
     "name": "stderr",
     "output_type": "stream",
     "text": [
      "INFO:lightning.pytorch.utilities.rank_zero:GPU available: True (cuda), used: True\n"
     ]
    },
    {
     "name": "stderr",
     "output_type": "stream",
     "text": [
      "INFO: TPU available: False, using: 0 TPU cores\n"
     ]
    },
    {
     "name": "stderr",
     "output_type": "stream",
     "text": [
      "INFO:lightning.pytorch.utilities.rank_zero:TPU available: False, using: 0 TPU cores\n"
     ]
    },
    {
     "name": "stderr",
     "output_type": "stream",
     "text": [
      "INFO: IPU available: False, using: 0 IPUs\n"
     ]
    },
    {
     "name": "stderr",
     "output_type": "stream",
     "text": [
      "INFO:lightning.pytorch.utilities.rank_zero:IPU available: False, using: 0 IPUs\n"
     ]
    },
    {
     "name": "stderr",
     "output_type": "stream",
     "text": [
      "INFO: HPU available: False, using: 0 HPUs\n"
     ]
    },
    {
     "name": "stderr",
     "output_type": "stream",
     "text": [
      "INFO:lightning.pytorch.utilities.rank_zero:HPU available: False, using: 0 HPUs\n"
     ]
    },
    {
     "name": "stderr",
     "output_type": "stream",
     "text": [
      "INFO: You are using a CUDA device ('NVIDIA RTX A6000') that has Tensor Cores. To properly utilize them, you should set `torch.set_float32_matmul_precision('medium' | 'high')` which will trade-off precision for performance. For more details, read https://pytorch.org/docs/stable/generated/torch.set_float32_matmul_precision.html#torch.set_float32_matmul_precision\n"
     ]
    },
    {
     "name": "stderr",
     "output_type": "stream",
     "text": [
      "INFO:lightning.pytorch.utilities.rank_zero:You are using a CUDA device ('NVIDIA RTX A6000') that has Tensor Cores. To properly utilize them, you should set `torch.set_float32_matmul_precision('medium' | 'high')` which will trade-off precision for performance. For more details, read https://pytorch.org/docs/stable/generated/torch.set_float32_matmul_precision.html#torch.set_float32_matmul_precision\n"
     ]
    },
    {
     "name": "stderr",
     "output_type": "stream",
     "text": [
      "\u001b[34m\u001b[1mwandb\u001b[0m: Currently logged in as: \u001b[33mdav1989\u001b[0m (\u001b[33minflammation\u001b[0m). Use \u001b[1m`wandb login --relogin`\u001b[0m to force relogin\n"
     ]
    },
    {
     "name": "stderr",
     "output_type": "stream",
     "text": [
      "\u001b[34m\u001b[1mwandb\u001b[0m: wandb version 0.18.5 is available!  To upgrade, please run:\n",
      "\u001b[34m\u001b[1mwandb\u001b[0m:  $ pip install wandb --upgrade\n"
     ]
    },
    {
     "name": "stderr",
     "output_type": "stream",
     "text": [
      "\u001b[34m\u001b[1mwandb\u001b[0m: Tracking run with wandb version 0.16.5\n"
     ]
    },
    {
     "name": "stderr",
     "output_type": "stream",
     "text": [
      "\u001b[34m\u001b[1mwandb\u001b[0m: Run data is saved locally in \u001b[35m\u001b[1m./wandb/run-20241022_205603-fpe9p2ba\u001b[0m\n",
      "\u001b[34m\u001b[1mwandb\u001b[0m: Run \u001b[1m`wandb offline`\u001b[0m to turn off syncing.\n"
     ]
    },
    {
     "name": "stderr",
     "output_type": "stream",
     "text": [
      "\u001b[34m\u001b[1mwandb\u001b[0m: Syncing run \u001b[33mscANVI_query_test_SCGT00_EXTERNAL\u001b[0m\n"
     ]
    },
    {
     "name": "stderr",
     "output_type": "stream",
     "text": [
      "\u001b[34m\u001b[1mwandb\u001b[0m: ⭐️ View project at \u001b[34m\u001b[4mhttps://wandb.ai/inflammation/inflammation_atlas_PatientClassifier_scANVI\u001b[0m\n"
     ]
    },
    {
     "name": "stderr",
     "output_type": "stream",
     "text": [
      "\u001b[34m\u001b[1mwandb\u001b[0m: 🚀 View run at \u001b[34m\u001b[4mhttps://wandb.ai/inflammation/inflammation_atlas_PatientClassifier_scANVI/runs/fpe9p2ba/workspace\u001b[0m\n"
     ]
    },
    {
     "name": "stderr",
     "output_type": "stream",
     "text": [
      "INFO: LOCAL_RANK: 0 - CUDA_VISIBLE_DEVICES: [0]\n"
     ]
    },
    {
     "name": "stderr",
     "output_type": "stream",
     "text": [
      "INFO:lightning.pytorch.accelerators.cuda:LOCAL_RANK: 0 - CUDA_VISIBLE_DEVICES: [0]\n"
     ]
    },
    {
     "name": "stderr",
     "output_type": "stream",
     "text": [
      "/home/dmaspero/miniconda3/envs/scarches/lib/python3.9/site-packages/lightning/pytorch/trainer/connectors/data_connector.py:441: The 'train_dataloader' does not have many workers which may be a bottleneck. Consider increasing the value of the `num_workers` argument` to `num_workers=35` in the `DataLoader` to improve performance.\n"
     ]
    },
    {
     "name": "stderr",
     "output_type": "stream",
     "text": [
      "/home/dmaspero/miniconda3/envs/scarches/lib/python3.9/site-packages/lightning/pytorch/trainer/connectors/data_connector.py:441: The 'val_dataloader' does not have many workers which may be a bottleneck. Consider increasing the value of the `num_workers` argument` to `num_workers=35` in the `DataLoader` to improve performance.\n"
     ]
    },
    {
     "name": "stdout",
     "output_type": "stream",
     "text": [
      "\r",
      "Training:   0%|                                                                                                                          | 0/100 [00:00<?, ?it/s]"
     ]
    },
    {
     "name": "stdout",
     "output_type": "stream",
     "text": [
      "\r",
      "Epoch 1/100:   0%|                                                                                                                       | 0/100 [00:00<?, ?it/s]"
     ]
    },
    {
     "name": "stdout",
     "output_type": "stream",
     "text": [
      "\r",
      "Epoch 1/100:   1%|█                                                                                                            | 1/100 [00:45<1:15:27, 45.73s/it]"
     ]
    },
    {
     "name": "stdout",
     "output_type": "stream",
     "text": [
      "\r",
      "Epoch 1/100:   1%|▍                                             | 1/100 [00:45<1:15:27, 45.73s/it, v_num=p2ba, train_loss_step=2.08e+3, train_loss_epoch=1.88e+3]"
     ]
    },
    {
     "name": "stdout",
     "output_type": "stream",
     "text": [
      "\r",
      "Epoch 2/100:   1%|▍                                             | 1/100 [00:45<1:15:27, 45.73s/it, v_num=p2ba, train_loss_step=2.08e+3, train_loss_epoch=1.88e+3]"
     ]
    },
    {
     "name": "stdout",
     "output_type": "stream",
     "text": [
      "\r",
      "Epoch 2/100:   2%|▉                                             | 2/100 [02:04<1:46:47, 65.38s/it, v_num=p2ba, train_loss_step=2.08e+3, train_loss_epoch=1.88e+3]"
     ]
    },
    {
     "name": "stdout",
     "output_type": "stream",
     "text": [
      "\r",
      "Epoch 2/100:   2%|▉                                             | 2/100 [02:04<1:46:47, 65.38s/it, v_num=p2ba, train_loss_step=1.95e+3, train_loss_epoch=1.88e+3]"
     ]
    },
    {
     "name": "stdout",
     "output_type": "stream",
     "text": [
      "\r",
      "Epoch 3/100:   2%|▉                                             | 2/100 [02:04<1:46:47, 65.38s/it, v_num=p2ba, train_loss_step=1.95e+3, train_loss_epoch=1.88e+3]"
     ]
    },
    {
     "name": "stdout",
     "output_type": "stream",
     "text": [
      "\r",
      "Epoch 3/100:   3%|█▍                                            | 3/100 [02:58<1:36:51, 59.91s/it, v_num=p2ba, train_loss_step=1.95e+3, train_loss_epoch=1.88e+3]"
     ]
    },
    {
     "name": "stdout",
     "output_type": "stream",
     "text": [
      "\r",
      "Epoch 3/100:   3%|█▍                                               | 3/100 [02:58<1:36:51, 59.91s/it, v_num=p2ba, train_loss_step=2e+3, train_loss_epoch=1.88e+3]"
     ]
    },
    {
     "name": "stdout",
     "output_type": "stream",
     "text": [
      "\r",
      "Epoch 4/100:   3%|█▍                                               | 3/100 [02:58<1:36:51, 59.91s/it, v_num=p2ba, train_loss_step=2e+3, train_loss_epoch=1.88e+3]"
     ]
    },
    {
     "name": "stdout",
     "output_type": "stream",
     "text": [
      "\r",
      "Epoch 4/100:   4%|█▉                                               | 4/100 [04:23<1:52:03, 70.04s/it, v_num=p2ba, train_loss_step=2e+3, train_loss_epoch=1.88e+3]"
     ]
    },
    {
     "name": "stdout",
     "output_type": "stream",
     "text": [
      "\r",
      "Epoch 4/100:   4%|█▊                                            | 4/100 [04:23<1:52:03, 70.04s/it, v_num=p2ba, train_loss_step=1.85e+3, train_loss_epoch=1.88e+3]"
     ]
    },
    {
     "name": "stdout",
     "output_type": "stream",
     "text": [
      "\r",
      "Epoch 5/100:   4%|█▊                                            | 4/100 [04:23<1:52:03, 70.04s/it, v_num=p2ba, train_loss_step=1.85e+3, train_loss_epoch=1.88e+3]"
     ]
    },
    {
     "name": "stdout",
     "output_type": "stream",
     "text": [
      "\r",
      "Epoch 5/100:   5%|██▎                                           | 5/100 [05:46<1:57:56, 74.49s/it, v_num=p2ba, train_loss_step=1.85e+3, train_loss_epoch=1.88e+3]"
     ]
    },
    {
     "name": "stdout",
     "output_type": "stream",
     "text": [
      "\r",
      "Epoch 5/100:   5%|██▎                                           | 5/100 [05:46<1:57:56, 74.49s/it, v_num=p2ba, train_loss_step=1.94e+3, train_loss_epoch=1.88e+3]"
     ]
    },
    {
     "name": "stdout",
     "output_type": "stream",
     "text": [
      "\r",
      "Epoch 6/100:   5%|██▎                                           | 5/100 [05:46<1:57:56, 74.49s/it, v_num=p2ba, train_loss_step=1.94e+3, train_loss_epoch=1.88e+3]"
     ]
    },
    {
     "name": "stdout",
     "output_type": "stream",
     "text": [
      "\r",
      "Epoch 6/100:   6%|██▊                                           | 6/100 [06:45<1:48:31, 69.27s/it, v_num=p2ba, train_loss_step=1.94e+3, train_loss_epoch=1.88e+3]"
     ]
    },
    {
     "name": "stdout",
     "output_type": "stream",
     "text": [
      "\r",
      "Epoch 6/100:   6%|██▊                                            | 6/100 [06:45<1:48:31, 69.27s/it, v_num=p2ba, train_loss_step=1.7e+3, train_loss_epoch=1.88e+3]"
     ]
    },
    {
     "name": "stdout",
     "output_type": "stream",
     "text": [
      "\r",
      "Epoch 7/100:   6%|██▊                                            | 6/100 [06:45<1:48:31, 69.27s/it, v_num=p2ba, train_loss_step=1.7e+3, train_loss_epoch=1.88e+3]"
     ]
    },
    {
     "name": "stdout",
     "output_type": "stream",
     "text": [
      "\r",
      "Epoch 7/100:   7%|███▎                                           | 7/100 [07:37<1:38:48, 63.75s/it, v_num=p2ba, train_loss_step=1.7e+3, train_loss_epoch=1.88e+3]"
     ]
    },
    {
     "name": "stdout",
     "output_type": "stream",
     "text": [
      "\r",
      "Epoch 7/100:   7%|███▏                                          | 7/100 [07:37<1:38:48, 63.75s/it, v_num=p2ba, train_loss_step=1.96e+3, train_loss_epoch=1.88e+3]"
     ]
    },
    {
     "name": "stdout",
     "output_type": "stream",
     "text": [
      "\r",
      "Epoch 8/100:   7%|███▏                                          | 7/100 [07:37<1:38:48, 63.75s/it, v_num=p2ba, train_loss_step=1.96e+3, train_loss_epoch=1.88e+3]"
     ]
    },
    {
     "name": "stdout",
     "output_type": "stream",
     "text": [
      "\r",
      "Epoch 8/100:   8%|███▋                                          | 8/100 [08:27<1:30:51, 59.26s/it, v_num=p2ba, train_loss_step=1.96e+3, train_loss_epoch=1.88e+3]"
     ]
    },
    {
     "name": "stdout",
     "output_type": "stream",
     "text": [
      "\r",
      "Epoch 8/100:   8%|███▋                                          | 8/100 [08:27<1:30:51, 59.26s/it, v_num=p2ba, train_loss_step=1.84e+3, train_loss_epoch=1.88e+3]"
     ]
    },
    {
     "name": "stdout",
     "output_type": "stream",
     "text": [
      "\r",
      "Epoch 9/100:   8%|███▋                                          | 8/100 [08:27<1:30:51, 59.26s/it, v_num=p2ba, train_loss_step=1.84e+3, train_loss_epoch=1.88e+3]"
     ]
    },
    {
     "name": "stdout",
     "output_type": "stream",
     "text": [
      "\r",
      "Epoch 9/100:   9%|████▏                                         | 9/100 [09:17<1:25:27, 56.35s/it, v_num=p2ba, train_loss_step=1.84e+3, train_loss_epoch=1.88e+3]"
     ]
    },
    {
     "name": "stdout",
     "output_type": "stream",
     "text": [
      "\r",
      "Epoch 9/100:   9%|████▏                                         | 9/100 [09:17<1:25:27, 56.35s/it, v_num=p2ba, train_loss_step=2.06e+3, train_loss_epoch=1.88e+3]"
     ]
    },
    {
     "name": "stdout",
     "output_type": "stream",
     "text": [
      "\r",
      "Epoch 10/100:   9%|████                                         | 9/100 [09:17<1:25:27, 56.35s/it, v_num=p2ba, train_loss_step=2.06e+3, train_loss_epoch=1.88e+3]"
     ]
    },
    {
     "name": "stdout",
     "output_type": "stream",
     "text": [
      "\r",
      "Epoch 10/100:  10%|████▍                                       | 10/100 [10:04<1:20:16, 53.52s/it, v_num=p2ba, train_loss_step=2.06e+3, train_loss_epoch=1.88e+3]"
     ]
    },
    {
     "name": "stdout",
     "output_type": "stream",
     "text": [
      "\r",
      "Epoch 10/100:  10%|████▍                                       | 10/100 [10:04<1:20:16, 53.52s/it, v_num=p2ba, train_loss_step=1.89e+3, train_loss_epoch=1.88e+3]"
     ]
    },
    {
     "name": "stdout",
     "output_type": "stream",
     "text": [
      "\r",
      "Epoch 11/100:  10%|████▍                                       | 10/100 [10:04<1:20:16, 53.52s/it, v_num=p2ba, train_loss_step=1.89e+3, train_loss_epoch=1.88e+3]"
     ]
    },
    {
     "name": "stdout",
     "output_type": "stream",
     "text": [
      "\r",
      "Epoch 11/100:  11%|████▊                                       | 11/100 [11:22<1:30:33, 61.05s/it, v_num=p2ba, train_loss_step=1.89e+3, train_loss_epoch=1.88e+3]"
     ]
    },
    {
     "name": "stdout",
     "output_type": "stream",
     "text": [
      "\r",
      "Epoch 11/100:  11%|████▊                                       | 11/100 [11:22<1:30:33, 61.05s/it, v_num=p2ba, train_loss_step=2.05e+3, train_loss_epoch=1.88e+3]"
     ]
    },
    {
     "name": "stdout",
     "output_type": "stream",
     "text": [
      "\r",
      "Epoch 12/100:  11%|████▊                                       | 11/100 [11:22<1:30:33, 61.05s/it, v_num=p2ba, train_loss_step=2.05e+3, train_loss_epoch=1.88e+3]"
     ]
    },
    {
     "name": "stdout",
     "output_type": "stream",
     "text": [
      "\r",
      "Epoch 12/100:  12%|█████▎                                      | 12/100 [12:41<1:37:19, 66.36s/it, v_num=p2ba, train_loss_step=2.05e+3, train_loss_epoch=1.88e+3]"
     ]
    },
    {
     "name": "stdout",
     "output_type": "stream",
     "text": [
      "\r",
      "Epoch 12/100:  12%|█████▎                                      | 12/100 [12:41<1:37:19, 66.36s/it, v_num=p2ba, train_loss_step=1.86e+3, train_loss_epoch=1.88e+3]"
     ]
    },
    {
     "name": "stdout",
     "output_type": "stream",
     "text": [
      "\r",
      "Epoch 13/100:  12%|█████▎                                      | 12/100 [12:41<1:37:19, 66.36s/it, v_num=p2ba, train_loss_step=1.86e+3, train_loss_epoch=1.88e+3]"
     ]
    },
    {
     "name": "stdout",
     "output_type": "stream",
     "text": [
      "\r",
      "Epoch 13/100:  13%|█████▋                                      | 13/100 [14:05<1:44:00, 71.73s/it, v_num=p2ba, train_loss_step=1.86e+3, train_loss_epoch=1.88e+3]"
     ]
    },
    {
     "name": "stdout",
     "output_type": "stream",
     "text": [
      "\r",
      "Epoch 13/100:  13%|█████▋                                      | 13/100 [14:05<1:44:00, 71.73s/it, v_num=p2ba, train_loss_step=1.79e+3, train_loss_epoch=1.88e+3]"
     ]
    },
    {
     "name": "stdout",
     "output_type": "stream",
     "text": [
      "\r",
      "Epoch 14/100:  13%|█████▋                                      | 13/100 [14:05<1:44:00, 71.73s/it, v_num=p2ba, train_loss_step=1.79e+3, train_loss_epoch=1.88e+3]"
     ]
    },
    {
     "name": "stdout",
     "output_type": "stream",
     "text": [
      "\r",
      "Epoch 14/100:  14%|██████▏                                     | 14/100 [15:31<1:48:57, 76.01s/it, v_num=p2ba, train_loss_step=1.79e+3, train_loss_epoch=1.88e+3]"
     ]
    },
    {
     "name": "stdout",
     "output_type": "stream",
     "text": [
      "\r",
      "Epoch 14/100:  14%|██████▏                                     | 14/100 [15:31<1:48:57, 76.01s/it, v_num=p2ba, train_loss_step=2.02e+3, train_loss_epoch=1.88e+3]"
     ]
    },
    {
     "name": "stdout",
     "output_type": "stream",
     "text": [
      "\r",
      "Epoch 15/100:  14%|██████▏                                     | 14/100 [15:31<1:48:57, 76.01s/it, v_num=p2ba, train_loss_step=2.02e+3, train_loss_epoch=1.88e+3]"
     ]
    },
    {
     "name": "stdout",
     "output_type": "stream",
     "text": [
      "\r",
      "Epoch 15/100:  15%|██████▌                                     | 15/100 [16:56<1:51:38, 78.81s/it, v_num=p2ba, train_loss_step=2.02e+3, train_loss_epoch=1.88e+3]"
     ]
    },
    {
     "name": "stdout",
     "output_type": "stream",
     "text": [
      "\r",
      "Epoch 15/100:  15%|██████▌                                     | 15/100 [16:56<1:51:38, 78.81s/it, v_num=p2ba, train_loss_step=1.97e+3, train_loss_epoch=1.88e+3]"
     ]
    },
    {
     "name": "stdout",
     "output_type": "stream",
     "text": [
      "\r",
      "Epoch 16/100:  15%|██████▌                                     | 15/100 [16:56<1:51:38, 78.81s/it, v_num=p2ba, train_loss_step=1.97e+3, train_loss_epoch=1.88e+3]"
     ]
    },
    {
     "name": "stdout",
     "output_type": "stream",
     "text": [
      "\r",
      "Epoch 16/100:  16%|███████                                     | 16/100 [18:21<1:53:08, 80.82s/it, v_num=p2ba, train_loss_step=1.97e+3, train_loss_epoch=1.88e+3]"
     ]
    },
    {
     "name": "stdout",
     "output_type": "stream",
     "text": [
      "\r",
      "Epoch 16/100:  16%|███████                                     | 16/100 [18:21<1:53:08, 80.82s/it, v_num=p2ba, train_loss_step=1.83e+3, train_loss_epoch=1.88e+3]"
     ]
    },
    {
     "name": "stdout",
     "output_type": "stream",
     "text": [
      "\r",
      "Epoch 17/100:  16%|███████                                     | 16/100 [18:21<1:53:08, 80.82s/it, v_num=p2ba, train_loss_step=1.83e+3, train_loss_epoch=1.88e+3]"
     ]
    },
    {
     "name": "stdout",
     "output_type": "stream",
     "text": [
      "\r",
      "Epoch 17/100:  17%|███████▍                                    | 17/100 [19:45<1:53:07, 81.78s/it, v_num=p2ba, train_loss_step=1.83e+3, train_loss_epoch=1.88e+3]"
     ]
    },
    {
     "name": "stdout",
     "output_type": "stream",
     "text": [
      "\r",
      "Epoch 17/100:  17%|███████▍                                    | 17/100 [19:45<1:53:07, 81.78s/it, v_num=p2ba, train_loss_step=2.07e+3, train_loss_epoch=1.88e+3]"
     ]
    },
    {
     "name": "stdout",
     "output_type": "stream",
     "text": [
      "\r",
      "Epoch 18/100:  17%|███████▍                                    | 17/100 [19:45<1:53:07, 81.78s/it, v_num=p2ba, train_loss_step=2.07e+3, train_loss_epoch=1.88e+3]"
     ]
    },
    {
     "name": "stdout",
     "output_type": "stream",
     "text": [
      "\r",
      "Epoch 18/100:  18%|███████▉                                    | 18/100 [21:12<1:53:50, 83.30s/it, v_num=p2ba, train_loss_step=2.07e+3, train_loss_epoch=1.88e+3]"
     ]
    },
    {
     "name": "stdout",
     "output_type": "stream",
     "text": [
      "\r",
      "Epoch 18/100:  18%|███████▉                                    | 18/100 [21:12<1:53:50, 83.30s/it, v_num=p2ba, train_loss_step=1.91e+3, train_loss_epoch=1.88e+3]"
     ]
    },
    {
     "name": "stdout",
     "output_type": "stream",
     "text": [
      "\r",
      "Epoch 19/100:  18%|███████▉                                    | 18/100 [21:12<1:53:50, 83.30s/it, v_num=p2ba, train_loss_step=1.91e+3, train_loss_epoch=1.88e+3]"
     ]
    },
    {
     "name": "stdout",
     "output_type": "stream",
     "text": [
      "\r",
      "Epoch 19/100:  19%|████████▎                                   | 19/100 [22:09<1:41:41, 75.32s/it, v_num=p2ba, train_loss_step=1.91e+3, train_loss_epoch=1.88e+3]"
     ]
    },
    {
     "name": "stdout",
     "output_type": "stream",
     "text": [
      "\r",
      "Epoch 19/100:  19%|████████▎                                   | 19/100 [22:09<1:41:41, 75.32s/it, v_num=p2ba, train_loss_step=1.71e+3, train_loss_epoch=1.88e+3]"
     ]
    },
    {
     "name": "stdout",
     "output_type": "stream",
     "text": [
      "\r",
      "Epoch 20/100:  19%|████████▎                                   | 19/100 [22:09<1:41:41, 75.32s/it, v_num=p2ba, train_loss_step=1.71e+3, train_loss_epoch=1.88e+3]"
     ]
    },
    {
     "name": "stdout",
     "output_type": "stream",
     "text": [
      "\r",
      "Epoch 20/100:  20%|████████▊                                   | 20/100 [22:53<1:27:57, 65.97s/it, v_num=p2ba, train_loss_step=1.71e+3, train_loss_epoch=1.88e+3]"
     ]
    },
    {
     "name": "stdout",
     "output_type": "stream",
     "text": [
      "\r",
      "Epoch 20/100:  20%|████████▊                                   | 20/100 [22:53<1:27:57, 65.97s/it, v_num=p2ba, train_loss_step=2.09e+3, train_loss_epoch=1.88e+3]"
     ]
    },
    {
     "name": "stdout",
     "output_type": "stream",
     "text": [
      "\r",
      "Epoch 21/100:  20%|████████▊                                   | 20/100 [22:53<1:27:57, 65.97s/it, v_num=p2ba, train_loss_step=2.09e+3, train_loss_epoch=1.88e+3]"
     ]
    },
    {
     "name": "stdout",
     "output_type": "stream",
     "text": [
      "\r",
      "Epoch 21/100:  21%|█████████▏                                  | 21/100 [23:42<1:20:01, 60.78s/it, v_num=p2ba, train_loss_step=2.09e+3, train_loss_epoch=1.88e+3]"
     ]
    },
    {
     "name": "stdout",
     "output_type": "stream",
     "text": [
      "\r",
      "Epoch 21/100:  21%|█████████▏                                  | 21/100 [23:42<1:20:01, 60.78s/it, v_num=p2ba, train_loss_step=1.85e+3, train_loss_epoch=1.88e+3]"
     ]
    },
    {
     "name": "stdout",
     "output_type": "stream",
     "text": [
      "\r",
      "Epoch 22/100:  21%|█████████▏                                  | 21/100 [23:42<1:20:01, 60.78s/it, v_num=p2ba, train_loss_step=1.85e+3, train_loss_epoch=1.88e+3]"
     ]
    },
    {
     "name": "stdout",
     "output_type": "stream",
     "text": [
      "\r",
      "Epoch 22/100:  22%|█████████▋                                  | 22/100 [24:56<1:24:20, 64.87s/it, v_num=p2ba, train_loss_step=1.85e+3, train_loss_epoch=1.88e+3]"
     ]
    },
    {
     "name": "stdout",
     "output_type": "stream",
     "text": [
      "\r",
      "Epoch 22/100:  22%|█████████▋                                  | 22/100 [24:56<1:24:20, 64.87s/it, v_num=p2ba, train_loss_step=1.95e+3, train_loss_epoch=1.88e+3]"
     ]
    },
    {
     "name": "stdout",
     "output_type": "stream",
     "text": [
      "\r",
      "Epoch 23/100:  22%|█████████▋                                  | 22/100 [24:56<1:24:20, 64.87s/it, v_num=p2ba, train_loss_step=1.95e+3, train_loss_epoch=1.88e+3]"
     ]
    },
    {
     "name": "stdout",
     "output_type": "stream",
     "text": [
      "\r",
      "Epoch 23/100:  23%|██████████                                  | 23/100 [26:22<1:31:14, 71.10s/it, v_num=p2ba, train_loss_step=1.95e+3, train_loss_epoch=1.88e+3]"
     ]
    },
    {
     "name": "stdout",
     "output_type": "stream",
     "text": [
      "\r",
      "Epoch 23/100:  23%|██████████                                  | 23/100 [26:22<1:31:14, 71.10s/it, v_num=p2ba, train_loss_step=1.64e+3, train_loss_epoch=1.88e+3]"
     ]
    },
    {
     "name": "stdout",
     "output_type": "stream",
     "text": [
      "\r",
      "Epoch 24/100:  23%|██████████                                  | 23/100 [26:22<1:31:14, 71.10s/it, v_num=p2ba, train_loss_step=1.64e+3, train_loss_epoch=1.88e+3]"
     ]
    },
    {
     "name": "stdout",
     "output_type": "stream",
     "text": [
      "\r",
      "Epoch 24/100:  24%|██████████▌                                 | 24/100 [27:48<1:35:36, 75.48s/it, v_num=p2ba, train_loss_step=1.64e+3, train_loss_epoch=1.88e+3]"
     ]
    },
    {
     "name": "stdout",
     "output_type": "stream",
     "text": [
      "\r",
      "Epoch 24/100:  24%|██████████▌                                 | 24/100 [27:48<1:35:36, 75.48s/it, v_num=p2ba, train_loss_step=1.63e+3, train_loss_epoch=1.88e+3]"
     ]
    },
    {
     "name": "stdout",
     "output_type": "stream",
     "text": [
      "\r",
      "Epoch 25/100:  24%|██████████▌                                 | 24/100 [27:48<1:35:36, 75.48s/it, v_num=p2ba, train_loss_step=1.63e+3, train_loss_epoch=1.88e+3]"
     ]
    },
    {
     "name": "stdout",
     "output_type": "stream",
     "text": [
      "\r",
      "Epoch 25/100:  25%|███████████                                 | 25/100 [29:05<1:34:59, 76.00s/it, v_num=p2ba, train_loss_step=1.63e+3, train_loss_epoch=1.88e+3]"
     ]
    },
    {
     "name": "stdout",
     "output_type": "stream",
     "text": [
      "\r",
      "Epoch 25/100:  25%|███████████                                 | 25/100 [29:05<1:34:59, 76.00s/it, v_num=p2ba, train_loss_step=2.03e+3, train_loss_epoch=1.88e+3]"
     ]
    },
    {
     "name": "stdout",
     "output_type": "stream",
     "text": [
      "\r",
      "Epoch 25/100:  25%|███████████                                 | 25/100 [29:05<1:27:15, 69.81s/it, v_num=p2ba, train_loss_step=2.03e+3, train_loss_epoch=1.88e+3]"
     ]
    },
    {
     "name": "stdout",
     "output_type": "stream",
     "text": [
      "\n",
      "Monitored metric reconstruction_loss_validation did not improve in the last 10 records. Best score: 1875.004. Signaling Trainer to stop.\n"
     ]
    }
   ],
   "source": [
    "model.train(\n",
    "    logger=logger, \n",
    "    plan_kwargs=plan_kwargs,\n",
    "    **trainer_kwargs\n",
    ")"
   ]
  },
  {
   "cell_type": "code",
   "execution_count": 11,
   "id": "4e1e82bb-d330-4d8d-94b7-1e97ddcc7d90",
   "metadata": {
    "execution": {
     "iopub.execute_input": "2024-10-22T21:25:14.055028Z",
     "iopub.status.busy": "2024-10-22T21:25:14.054749Z",
     "iopub.status.idle": "2024-10-22T21:25:14.371718Z",
     "shell.execute_reply": "2024-10-22T21:25:14.370193Z"
    },
    "papermill": {
     "duration": 0.337408,
     "end_time": "2024-10-22T21:25:14.375831",
     "exception": false,
     "start_time": "2024-10-22T21:25:14.038423",
     "status": "completed"
    },
    "tags": []
   },
   "outputs": [],
   "source": [
    "if overwriteData:\n",
    "    model.save(\n",
    "        here(f\"09_patient_classifier/SCGT00_CentralizedDataset/results_batches/scANVI_SCGT00_EXTERNAL_batches_queried\"), \n",
    "        overwrite = True,\n",
    "        save_anndata = False)"
   ]
  },
  {
   "cell_type": "markdown",
   "id": "5ab13761-10de-4cc2-b99e-482b41047dd8",
   "metadata": {
    "papermill": {
     "duration": 0.011155,
     "end_time": "2024-10-22T21:25:14.408383",
     "exception": false,
     "start_time": "2024-10-22T21:25:14.397228",
     "status": "completed"
    },
    "tags": []
   },
   "source": [
    "### Label transfer"
   ]
  },
  {
   "cell_type": "code",
   "execution_count": 12,
   "id": "49ccfe9a-7d62-49f9-a483-4a01858effd8",
   "metadata": {
    "execution": {
     "iopub.execute_input": "2024-10-22T21:25:14.449911Z",
     "iopub.status.busy": "2024-10-22T21:25:14.449377Z",
     "iopub.status.idle": "2024-10-22T21:25:31.681627Z",
     "shell.execute_reply": "2024-10-22T21:25:31.680264Z"
    },
    "papermill": {
     "duration": 17.255522,
     "end_time": "2024-10-22T21:25:31.684886",
     "exception": false,
     "start_time": "2024-10-22T21:25:14.429364",
     "status": "completed"
    },
    "tags": []
   },
   "outputs": [],
   "source": [
    "query_labels = model.predict(external_adata)"
   ]
  },
  {
   "cell_type": "code",
   "execution_count": 13,
   "id": "b16f7dbe-b644-4758-978f-1dacfdd578fd",
   "metadata": {
    "execution": {
     "iopub.execute_input": "2024-10-22T21:25:31.719530Z",
     "iopub.status.busy": "2024-10-22T21:25:31.719288Z",
     "iopub.status.idle": "2024-10-22T21:26:20.840797Z",
     "shell.execute_reply": "2024-10-22T21:26:20.839898Z"
    },
    "papermill": {
     "duration": 49.137845,
     "end_time": "2024-10-22T21:26:20.844069",
     "exception": false,
     "start_time": "2024-10-22T21:25:31.706224",
     "status": "completed"
    },
    "tags": []
   },
   "outputs": [
    {
     "name": "stdout",
     "output_type": "stream",
     "text": [
      "\u001b[34mINFO    \u001b[0m Input AnnData not setup with scvi-tools. attempting to transfer AnnData setup                             \n"
     ]
    }
   ],
   "source": [
    "query_latents = model.get_latent_representation(\n",
    "    external_adata\n",
    ")\n",
    "reference_latents = model.get_latent_representation(\n",
    "    reference_adata\n",
    ")"
   ]
  },
  {
   "cell_type": "code",
   "execution_count": 14,
   "id": "042f2305-d417-4314-9339-37fc5d290d2c",
   "metadata": {
    "execution": {
     "iopub.execute_input": "2024-10-22T21:26:20.907732Z",
     "iopub.status.busy": "2024-10-22T21:26:20.907453Z",
     "iopub.status.idle": "2024-10-22T21:26:24.024740Z",
     "shell.execute_reply": "2024-10-22T21:26:24.023563Z"
    },
    "papermill": {
     "duration": 3.132422,
     "end_time": "2024-10-22T21:26:24.028507",
     "exception": false,
     "start_time": "2024-10-22T21:26:20.896085",
     "status": "completed"
    },
    "tags": []
   },
   "outputs": [],
   "source": [
    "query_ad = sc.AnnData(\n",
    "    X=query_latents, \n",
    "    obs=(external_adata.obs.assign(labels=query_labels)))\n",
    "query_ad.write(here(f\"09_patient_classifier/SCGT00_CentralizedDataset/results_batches/scANVI_SCGT00_EXTERNAL_batches_latent.h5ad\"), compression='gzip')"
   ]
  },
  {
   "cell_type": "code",
   "execution_count": 15,
   "id": "eb6485f7-ff04-44a8-b229-2901e09780a9",
   "metadata": {
    "execution": {
     "iopub.execute_input": "2024-10-22T21:26:24.073513Z",
     "iopub.status.busy": "2024-10-22T21:26:24.073079Z",
     "iopub.status.idle": "2024-10-22T21:26:28.186587Z",
     "shell.execute_reply": "2024-10-22T21:26:28.184958Z"
    },
    "papermill": {
     "duration": 4.140625,
     "end_time": "2024-10-22T21:26:28.190859",
     "exception": false,
     "start_time": "2024-10-22T21:26:24.050234",
     "status": "completed"
    },
    "tags": []
   },
   "outputs": [],
   "source": [
    "reference_ad = sc.AnnData(\n",
    "    X=reference_latents, \n",
    "    obs=reference_adata.obs)\n",
    "reference_ad.write(here(f\"09_patient_classifier/SCGT00_CentralizedDataset/results_batches/scANVI_SCGT00_MAIN_batches_latent.h5ad\"), compression='gzip')"
   ]
  },
  {
   "cell_type": "code",
   "execution_count": null,
   "id": "12186c04-5108-41a1-a9ec-7dc3e78b6adb",
   "metadata": {
    "papermill": {
     "duration": 0.014717,
     "end_time": "2024-10-22T21:26:28.227901",
     "exception": false,
     "start_time": "2024-10-22T21:26:28.213184",
     "status": "completed"
    },
    "tags": []
   },
   "outputs": [],
   "source": []
  },
  {
   "cell_type": "code",
   "execution_count": null,
   "id": "0e81f9ef-17d3-4aee-adde-493a26a955eb",
   "metadata": {},
   "outputs": [],
   "source": []
  },
  {
   "cell_type": "markdown",
   "id": "a4ff5d5d-227d-4396-a677-74ac9465c92d",
   "metadata": {},
   "source": [
    "### DELETE FROM HERE TO THE END "
   ]
  },
  {
   "cell_type": "code",
   "execution_count": 2,
   "id": "67f73826-0347-4602-9ef0-25a3048bebe4",
   "metadata": {
    "execution": {
     "iopub.execute_input": "2025-05-09T15:09:27.446017Z",
     "iopub.status.busy": "2025-05-09T15:09:27.444872Z",
     "iopub.status.idle": "2025-05-09T15:09:27.458084Z",
     "shell.execute_reply": "2025-05-09T15:09:27.457637Z",
     "shell.execute_reply.started": "2025-05-09T15:09:27.445987Z"
    }
   },
   "outputs": [],
   "source": [
    "import numpy as np\n",
    "from sklearn.datasets import load_iris\n",
    "from sklearn.model_selection import KFold\n",
    "from pynndescent import NNDescent\n",
    "from pyprojroot import here\n",
    "import scanpy as sc"
   ]
  },
  {
   "cell_type": "code",
   "execution_count": 4,
   "id": "b4971d48-5223-407d-8294-8341cfb2811d",
   "metadata": {
    "execution": {
     "iopub.execute_input": "2025-05-09T15:10:44.267442Z",
     "iopub.status.busy": "2025-05-09T15:10:44.266442Z",
     "iopub.status.idle": "2025-05-09T15:10:45.790217Z",
     "shell.execute_reply": "2025-05-09T15:10:45.789594Z",
     "shell.execute_reply.started": "2025-05-09T15:10:44.267418Z"
    }
   },
   "outputs": [],
   "source": [
    "reference_ad = sc.read_h5ad(here(f\"03_downstream_analysis/09_patient_classifier/SCGT00_CentralizedDataset/results_batches/scANVI_SCGT00_MAIN_batches_latent.h5ad\"))"
   ]
  },
  {
   "cell_type": "code",
   "execution_count": 28,
   "id": "76561adf-7637-4b88-8bd6-afda55ae0dc5",
   "metadata": {
    "execution": {
     "iopub.execute_input": "2025-05-09T16:04:24.828040Z",
     "iopub.status.busy": "2025-05-09T16:04:24.827676Z",
     "iopub.status.idle": "2025-05-09T16:14:37.640202Z",
     "shell.execute_reply": "2025-05-09T16:14:37.639512Z",
     "shell.execute_reply.started": "2025-05-09T16:04:24.828017Z"
    }
   },
   "outputs": [
    {
     "name": "stderr",
     "output_type": "stream",
     "text": [
      "/scratch_tmp/39806400/ipykernel_136436/1042024309.py:36: FutureWarning: Series.__getitem__ treating keys as positions is deprecated. In a future version, integer keys will always be treated as labels (consistent with DataFrame behavior). To access a value by position, use `ser.iloc[pos]`\n",
      "  y_train, y_test = y[train_index], y[test_index]\n",
      "/scratch_tmp/39806400/ipykernel_136436/1042024309.py:21: FutureWarning: Series.__getitem__ treating keys as positions is deprecated. In a future version, integer keys will always be treated as labels (consistent with DataFrame behavior). To access a value by position, use `ser.iloc[pos]`\n",
      "  neighbor_labels = self.labels[neighbors]\n",
      "/scratch_tmp/39806400/ipykernel_136436/1042024309.py:36: FutureWarning: Series.__getitem__ treating keys as positions is deprecated. In a future version, integer keys will always be treated as labels (consistent with DataFrame behavior). To access a value by position, use `ser.iloc[pos]`\n",
      "  y_train, y_test = y[train_index], y[test_index]\n",
      "/scratch_tmp/39806400/ipykernel_136436/1042024309.py:21: FutureWarning: Series.__getitem__ treating keys as positions is deprecated. In a future version, integer keys will always be treated as labels (consistent with DataFrame behavior). To access a value by position, use `ser.iloc[pos]`\n",
      "  neighbor_labels = self.labels[neighbors]\n",
      "/scratch_tmp/39806400/ipykernel_136436/1042024309.py:36: FutureWarning: Series.__getitem__ treating keys as positions is deprecated. In a future version, integer keys will always be treated as labels (consistent with DataFrame behavior). To access a value by position, use `ser.iloc[pos]`\n",
      "  y_train, y_test = y[train_index], y[test_index]\n",
      "/scratch_tmp/39806400/ipykernel_136436/1042024309.py:21: FutureWarning: Series.__getitem__ treating keys as positions is deprecated. In a future version, integer keys will always be treated as labels (consistent with DataFrame behavior). To access a value by position, use `ser.iloc[pos]`\n",
      "  neighbor_labels = self.labels[neighbors]\n",
      "/scratch_tmp/39806400/ipykernel_136436/1042024309.py:36: FutureWarning: Series.__getitem__ treating keys as positions is deprecated. In a future version, integer keys will always be treated as labels (consistent with DataFrame behavior). To access a value by position, use `ser.iloc[pos]`\n",
      "  y_train, y_test = y[train_index], y[test_index]\n",
      "/scratch_tmp/39806400/ipykernel_136436/1042024309.py:21: FutureWarning: Series.__getitem__ treating keys as positions is deprecated. In a future version, integer keys will always be treated as labels (consistent with DataFrame behavior). To access a value by position, use `ser.iloc[pos]`\n",
      "  neighbor_labels = self.labels[neighbors]\n",
      "/scratch_tmp/39806400/ipykernel_136436/1042024309.py:36: FutureWarning: Series.__getitem__ treating keys as positions is deprecated. In a future version, integer keys will always be treated as labels (consistent with DataFrame behavior). To access a value by position, use `ser.iloc[pos]`\n",
      "  y_train, y_test = y[train_index], y[test_index]\n",
      "/scratch_tmp/39806400/ipykernel_136436/1042024309.py:21: FutureWarning: Series.__getitem__ treating keys as positions is deprecated. In a future version, integer keys will always be treated as labels (consistent with DataFrame behavior). To access a value by position, use `ser.iloc[pos]`\n",
      "  neighbor_labels = self.labels[neighbors]\n"
     ]
    },
    {
     "name": "stdout",
     "output_type": "stream",
     "text": [
      "Cross-validation scores: [0.6323864977574947, 0.6284951966752266, 0.6292605812630991, 0.6290030686914785, 0.6321719039478108]\n",
      "Mean accuracy: 0.630263449667022\n"
     ]
    }
   ],
   "source": [
    "import numpy as np\n",
    "from sklearn.datasets import load_iris\n",
    "from sklearn.model_selection import KFold\n",
    "from pynndescent import NNDescent\n",
    "\n",
    "# Custom kNN classifier using pynndescent\n",
    "class PyNNDescentKNN:\n",
    "    def __init__(self, n_neighbors=3):\n",
    "        self.n_neighbors = n_neighbors\n",
    "        self.index = None\n",
    "        self.labels = None\n",
    "\n",
    "    def fit(self, X, y):\n",
    "        self.index = NNDescent(X, n_neighbors=self.n_neighbors, random_state=42)\n",
    "        self.labels = y\n",
    "\n",
    "    def predict(self, X):\n",
    "        indices, _ = self.index.query(X, k=self.n_neighbors)\n",
    "        predictions = []\n",
    "        for neighbors in indices:\n",
    "            neighbor_labels = self.labels[neighbors]\n",
    "            predictions.append(np.bincount(neighbor_labels).argmax())\n",
    "        return np.array(predictions)\n",
    "\n",
    "# Load dataset (using Iris dataset as an example)\n",
    "data = load_iris()\n",
    "X, y = reference_ad[~reference_ad.obs.Level1.isin(['Progenitors','Cycling','RBC','Platelets'])].X, reference_ad[~reference_ad.obs.Level1.isin(['Progenitors','Cycling','RBC','Platelets'])].obs.disease.cat.codes\n",
    "\n",
    "# Set up cross-validation\n",
    "kf = KFold(n_splits=5, shuffle=True, random_state=42)\n",
    "cv_scores = []\n",
    "\n",
    "# Perform cross-validation\n",
    "for train_index, test_index in kf.split(X):\n",
    "    X_train, X_test = X[train_index], X[test_index]\n",
    "    y_train, y_test = y[train_index], y[test_index]\n",
    "\n",
    "    # Initialize and train the classifier\n",
    "    knn = PyNNDescentKNN(n_neighbors=30)\n",
    "    knn.fit(X_train, y_train)\n",
    "\n",
    "    # Predict and calculate accuracy\n",
    "    y_pred = knn.predict(X_test)\n",
    "    accuracy = np.mean(y_pred == y_test)\n",
    "    cv_scores.append(accuracy)\n",
    "\n",
    "# Print results\n",
    "print(\"Cross-validation scores:\", cv_scores)\n",
    "print(\"Mean accuracy:\", np.mean(cv_scores))"
   ]
  },
  {
   "cell_type": "code",
   "execution_count": 13,
   "id": "b121392b-19b8-42d6-8896-07a13cec3bb0",
   "metadata": {
    "execution": {
     "iopub.execute_input": "2025-05-09T15:49:10.372699Z",
     "iopub.status.busy": "2025-05-09T15:49:10.372425Z",
     "iopub.status.idle": "2025-05-09T15:49:10.378101Z",
     "shell.execute_reply": "2025-05-09T15:49:10.377722Z",
     "shell.execute_reply.started": "2025-05-09T15:49:10.372679Z"
    }
   },
   "outputs": [],
   "source": [
    "def aggregating_features(Z = None, obsDF = None, mode = 'mean', obs_names_col = []):\n",
    "\n",
    "    import pandas as pd\n",
    "    Zdf = pd.DataFrame(Z)\n",
    "    for c in obsDF.columns:\n",
    "        Zdf[c] = obsDF[c].tolist()\n",
    "    if mode in ['mean','avarage']:\n",
    "        Zaggr = Zdf.groupby(obsDF.columns.tolist(), observed = True).mean()\n",
    "    elif mode == 'sum':\n",
    "        Zaggr = Zdf.groupby(obsDF.columns.tolist(), observed = True).sum()\n",
    "    else:\n",
    "        raise ValueError(f\"mode {mode} not supported. Available mode are 'mean' or 'sum'\")\n",
    "\n",
    "    grpObs = pd.DataFrame(Zaggr.index.tolist(), columns=obsDF.columns.tolist())\n",
    "\n",
    "    if len(obs_names_col) == 0:\n",
    "        grpAdata  = sc.AnnData(X = np.array(Zaggr), obs = grpObs)\n",
    "    elif all([c in obsDF.columns.tolist() for c in obs_names_col]):\n",
    "        grpObs.index = grpObs[obs_names_col].apply(lambda row: '_'.join(row.values.astype(str)), axis=1)\n",
    "        grpAdata  = sc.AnnData(X = np.array(Zaggr), obs = grpObs)\n",
    "    else:\n",
    "        raise ValueError(f\"Impossible to use {obs_names_col} as index. It's not present in obsDF\")\n",
    "    return grpAdata"
   ]
  },
  {
   "cell_type": "code",
   "execution_count": 14,
   "id": "172059a4-8f8a-4189-8452-005c3cef0252",
   "metadata": {
    "execution": {
     "iopub.execute_input": "2025-05-09T15:49:10.379129Z",
     "iopub.status.busy": "2025-05-09T15:49:10.378845Z",
     "iopub.status.idle": "2025-05-09T15:49:10.740484Z",
     "shell.execute_reply": "2025-05-09T15:49:10.739923Z",
     "shell.execute_reply.started": "2025-05-09T15:49:10.379113Z"
    }
   },
   "outputs": [],
   "source": [
    "emb_pseudobulk_train = aggregating_features(Z = reference_ad.X, \n",
    "                                            obsDF = reference_ad.obs[['sampleID','batches','Level1','disease']], \n",
    "                                            mode = 'mean', obs_names_col=['sampleID','batches','Level1'])"
   ]
  },
  {
   "cell_type": "code",
   "execution_count": 24,
   "id": "b34f47e8-95dd-4b03-b47c-0cad6b9266b6",
   "metadata": {
    "execution": {
     "iopub.execute_input": "2025-05-09T15:52:05.518975Z",
     "iopub.status.busy": "2025-05-09T15:52:05.518634Z",
     "iopub.status.idle": "2025-05-09T15:52:05.524017Z",
     "shell.execute_reply": "2025-05-09T15:52:05.523628Z",
     "shell.execute_reply.started": "2025-05-09T15:52:05.518954Z"
    }
   },
   "outputs": [
    {
     "data": {
      "text/plain": [
       "View of AnnData object with n_obs × n_vars = 1803 × 30\n",
       "    obs: 'sampleID', 'batches', 'Level1', 'disease'"
      ]
     },
     "execution_count": 24,
     "metadata": {},
     "output_type": "execute_result"
    }
   ],
   "source": [
    "emb_pseudobulk_train[~emb_pseudobulk_train.obs.Level1.isin(['Cycling','RBC','Platelets'])]"
   ]
  },
  {
   "cell_type": "code",
   "execution_count": 26,
   "id": "e92fd2ab-5799-4be8-b410-b07d2913a27b",
   "metadata": {
    "execution": {
     "iopub.execute_input": "2025-05-09T15:52:41.060453Z",
     "iopub.status.busy": "2025-05-09T15:52:41.060153Z",
     "iopub.status.idle": "2025-05-09T15:52:48.286343Z",
     "shell.execute_reply": "2025-05-09T15:52:48.285617Z",
     "shell.execute_reply.started": "2025-05-09T15:52:41.060433Z"
    }
   },
   "outputs": [
    {
     "name": "stderr",
     "output_type": "stream",
     "text": [
      "/scratch_tmp/39806400/ipykernel_136436/2794927001.py:36: FutureWarning: Series.__getitem__ treating keys as positions is deprecated. In a future version, integer keys will always be treated as labels (consistent with DataFrame behavior). To access a value by position, use `ser.iloc[pos]`\n",
      "  y_train, y_test = y[train_index], y[test_index]\n",
      "/scratch_tmp/39806400/ipykernel_136436/2794927001.py:21: FutureWarning: Series.__getitem__ treating keys as positions is deprecated. In a future version, integer keys will always be treated as labels (consistent with DataFrame behavior). To access a value by position, use `ser.iloc[pos]`\n",
      "  neighbor_labels = self.labels[neighbors]\n",
      "/scratch_tmp/39806400/ipykernel_136436/2794927001.py:36: FutureWarning: Series.__getitem__ treating keys as positions is deprecated. In a future version, integer keys will always be treated as labels (consistent with DataFrame behavior). To access a value by position, use `ser.iloc[pos]`\n",
      "  y_train, y_test = y[train_index], y[test_index]\n",
      "/scratch_tmp/39806400/ipykernel_136436/2794927001.py:21: FutureWarning: Series.__getitem__ treating keys as positions is deprecated. In a future version, integer keys will always be treated as labels (consistent with DataFrame behavior). To access a value by position, use `ser.iloc[pos]`\n",
      "  neighbor_labels = self.labels[neighbors]\n",
      "/scratch_tmp/39806400/ipykernel_136436/2794927001.py:36: FutureWarning: Series.__getitem__ treating keys as positions is deprecated. In a future version, integer keys will always be treated as labels (consistent with DataFrame behavior). To access a value by position, use `ser.iloc[pos]`\n",
      "  y_train, y_test = y[train_index], y[test_index]\n",
      "/scratch_tmp/39806400/ipykernel_136436/2794927001.py:21: FutureWarning: Series.__getitem__ treating keys as positions is deprecated. In a future version, integer keys will always be treated as labels (consistent with DataFrame behavior). To access a value by position, use `ser.iloc[pos]`\n",
      "  neighbor_labels = self.labels[neighbors]\n",
      "/scratch_tmp/39806400/ipykernel_136436/2794927001.py:36: FutureWarning: Series.__getitem__ treating keys as positions is deprecated. In a future version, integer keys will always be treated as labels (consistent with DataFrame behavior). To access a value by position, use `ser.iloc[pos]`\n",
      "  y_train, y_test = y[train_index], y[test_index]\n",
      "/scratch_tmp/39806400/ipykernel_136436/2794927001.py:21: FutureWarning: Series.__getitem__ treating keys as positions is deprecated. In a future version, integer keys will always be treated as labels (consistent with DataFrame behavior). To access a value by position, use `ser.iloc[pos]`\n",
      "  neighbor_labels = self.labels[neighbors]\n",
      "/scratch_tmp/39806400/ipykernel_136436/2794927001.py:36: FutureWarning: Series.__getitem__ treating keys as positions is deprecated. In a future version, integer keys will always be treated as labels (consistent with DataFrame behavior). To access a value by position, use `ser.iloc[pos]`\n",
      "  y_train, y_test = y[train_index], y[test_index]\n"
     ]
    },
    {
     "name": "stdout",
     "output_type": "stream",
     "text": [
      "Cross-validation scores: [0.407202216066482, 0.39058171745152354, 0.45429362880886426, 0.4777777777777778, 0.4444444444444444]\n",
      "Mean accuracy: 0.4348599569098184\n"
     ]
    },
    {
     "name": "stderr",
     "output_type": "stream",
     "text": [
      "/scratch_tmp/39806400/ipykernel_136436/2794927001.py:21: FutureWarning: Series.__getitem__ treating keys as positions is deprecated. In a future version, integer keys will always be treated as labels (consistent with DataFrame behavior). To access a value by position, use `ser.iloc[pos]`\n",
      "  neighbor_labels = self.labels[neighbors]\n"
     ]
    }
   ],
   "source": [
    "import numpy as np\n",
    "from sklearn.datasets import load_iris\n",
    "from sklearn.model_selection import KFold\n",
    "from pynndescent import NNDescent\n",
    "\n",
    "# Custom kNN classifier using pynndescent\n",
    "class PyNNDescentKNN:\n",
    "    def __init__(self, n_neighbors=3):\n",
    "        self.n_neighbors = n_neighbors\n",
    "        self.index = None\n",
    "        self.labels = None\n",
    "\n",
    "    def fit(self, X, y):\n",
    "        self.index = NNDescent(X, n_neighbors=self.n_neighbors, random_state=42)\n",
    "        self.labels = y\n",
    "\n",
    "    def predict(self, X):\n",
    "        indices, _ = self.index.query(X, k=self.n_neighbors)\n",
    "        predictions = []\n",
    "        for neighbors in indices:\n",
    "            neighbor_labels = self.labels[neighbors]\n",
    "            predictions.append(np.bincount(neighbor_labels).argmax())\n",
    "        return np.array(predictions)\n",
    "\n",
    "# Load dataset (using Iris dataset as an example)\n",
    "data = load_iris()\n",
    "X, y = reference_ad.X, reference_ad.obs.disease.cat.codes\n",
    "\n",
    "# Set up cross-validation\n",
    "kf = KFold(n_splits=5, shuffle=True, random_state=42)\n",
    "cv_scores = []\n",
    "\n",
    "# Perform cross-validation\n",
    "for train_index, test_index in kf.split(X):\n",
    "    X_train, X_test = X[train_index], X[test_index]\n",
    "    y_train, y_test = y[train_index], y[test_index]\n",
    "\n",
    "    # Initialize and train the classifier\n",
    "    knn = PyNNDescentKNN(n_neighbors=10)\n",
    "    knn.fit(X_train, y_train)\n",
    "\n",
    "    # Predict and calculate accuracy\n",
    "    y_pred = knn.predict(X_test)\n",
    "    accuracy = np.mean(y_pred == y_test)\n",
    "    cv_scores.append(accuracy)\n",
    "\n",
    "# Print results\n",
    "print(\"Cross-validation scores:\", cv_scores)\n",
    "print(\"Mean accuracy:\", np.mean(cv_scores))"
   ]
  },
  {
   "cell_type": "code",
   "execution_count": null,
   "id": "e26ffaa3-b2ac-44a9-b774-ad7412c6d979",
   "metadata": {},
   "outputs": [],
   "source": []
  }
 ],
 "metadata": {
  "kernelspec": {
   "display_name": "Python 3 (ipykernel)",
   "language": "python",
   "name": "python3"
  },
  "language_info": {
   "codemirror_mode": {
    "name": "ipython",
    "version": 3
   },
   "file_extension": ".py",
   "mimetype": "text/x-python",
   "name": "python",
   "nbconvert_exporter": "python",
   "pygments_lexer": "ipython3",
   "version": "3.12.3"
  },
  "papermill": {
   "default_parameters": {},
   "duration": 1863.471585,
   "end_time": "2024-10-22T21:26:31.375320",
   "environment_variables": {},
   "exception": null,
   "input_path": "03_query_SCGT00_EXTERNAL_batches.ipynb",
   "output_path": "03_query_SCGT00_EXTERNAL_batches.executed.ipynb",
   "parameters": {},
   "start_time": "2024-10-22T20:55:27.903735",
   "version": "2.5.0"
  }
 },
 "nbformat": 4,
 "nbformat_minor": 5
}
