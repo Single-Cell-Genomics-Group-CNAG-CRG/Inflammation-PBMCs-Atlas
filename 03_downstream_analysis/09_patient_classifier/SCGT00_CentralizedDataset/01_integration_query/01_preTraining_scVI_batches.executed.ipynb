{
 "cells": [
  {
   "cell_type": "code",
   "execution_count": 1,
   "id": "044a9326-0745-430b-a00f-48663be02989",
   "metadata": {
    "execution": {
     "iopub.execute_input": "2024-10-22T17:50:00.067419Z",
     "iopub.status.busy": "2024-10-22T17:50:00.066178Z",
     "iopub.status.idle": "2024-10-22T17:50:04.259276Z",
     "shell.execute_reply": "2024-10-22T17:50:04.258706Z"
    },
    "papermill": {
     "duration": 4.213804,
     "end_time": "2024-10-22T17:50:04.262641",
     "exception": false,
     "start_time": "2024-10-22T17:50:00.048837",
     "status": "completed"
    },
    "tags": []
   },
   "outputs": [
    {
     "name": "stderr",
     "output_type": "stream",
     "text": [
      "WARNING:root:In order to use the mouse gastrulation seqFISH datsets, please install squidpy (see https://github.com/scverse/squidpy).\n"
     ]
    },
    {
     "name": "stderr",
     "output_type": "stream",
     "text": [
      "/home/dmaspero/miniconda3/envs/scarches/lib/python3.9/site-packages/tqdm/auto.py:21: TqdmWarning: IProgress not found. Please update jupyter and ipywidgets. See https://ipywidgets.readthedocs.io/en/stable/user_install.html\n",
      "  from .autonotebook import tqdm as notebook_tqdm\n",
      "WARNING:root:In order to use sagenet models, please install pytorch geometric (see https://pytorch-geometric.readthedocs.io) and \n",
      " captum (see https://github.com/pytorch/captum).\n"
     ]
    },
    {
     "name": "stderr",
     "output_type": "stream",
     "text": [
      "WARNING:root:mvTCR is not installed. To use mvTCR models, please install it first using \"pip install mvtcr\"\n"
     ]
    },
    {
     "name": "stderr",
     "output_type": "stream",
     "text": [
      "WARNING:root:multigrate is not installed. To use multigrate models, please install it first using \"pip install multigrate\".\n"
     ]
    },
    {
     "name": "stderr",
     "output_type": "stream",
     "text": [
      "INFO: Seed set to 42\n"
     ]
    },
    {
     "name": "stderr",
     "output_type": "stream",
     "text": [
      "INFO:lightning.fabric.utilities.seed:Seed set to 42\n"
     ]
    }
   ],
   "source": [
    "import os\n",
    "import sys\n",
    "\n",
    "import json\n",
    "\n",
    "import numpy as np\n",
    "import scanpy as sc\n",
    "import pandas as pd\n",
    "import matplotlib.pyplot as plt\n",
    "import seaborn as sns\n",
    "from sklearn.metrics import classification_report\n",
    "\n",
    "import scarches as sca\n",
    "from scarches.dataset.trvae.data_handling import remove_sparsity\n",
    "import matplotlib.pyplot as plt\n",
    "\n",
    "import torch\n",
    "\n",
    "from dotenv import load_dotenv\n",
    "\n",
    "from lightning.pytorch.loggers import WandbLogger\n",
    "import wandb\n",
    "\n",
    "import session_info\n",
    "import warnings\n",
    "from pyprojroot.here import here\n",
    "\n",
    "#plt.style.use(['science','nature','no-latex'])\n",
    "dpi_fig_save = 300\n",
    "sc.set_figure_params(dpi=100, dpi_save=dpi_fig_save, vector_friendly=True)\n",
    "\n",
    "# Setting some parameters\n",
    "warnings.filterwarnings(\"ignore\")\n",
    "\n",
    "from sklearn.model_selection import StratifiedKFold\n",
    "\n",
    "overwriteData = True\n",
    "overwriteFigures = True\n",
    "\n",
    "# Set random seed\n",
    "random_seed = 42\n",
    "\n",
    "import scvi\n",
    "scvi.settings.dl_num_workers = 8\n",
    "scvi.settings.seed = random_seed\n",
    "\n",
    "import warnings\n",
    "warnings.filterwarnings('ignore')\n",
    "\n",
    "torch.set_float32_matmul_precision('high')\n",
    "torch.set_printoptions(precision=3, sci_mode=False, edgeitems=7)\n",
    "torch.multiprocessing.set_sharing_strategy('file_system')\n",
    "\n",
    "%load_ext autoreload\n",
    "%autoreload 2"
   ]
  },
  {
   "cell_type": "code",
   "execution_count": 2,
   "id": "e9230839-98a4-4ab3-a28a-05e68e858dd0",
   "metadata": {
    "execution": {
     "iopub.execute_input": "2024-10-22T17:50:04.295631Z",
     "iopub.status.busy": "2024-10-22T17:50:04.294656Z",
     "iopub.status.idle": "2024-10-22T17:50:04.345770Z",
     "shell.execute_reply": "2024-10-22T17:50:04.344569Z"
    },
    "papermill": {
     "duration": 0.072135,
     "end_time": "2024-10-22T17:50:04.349374",
     "exception": false,
     "start_time": "2024-10-22T17:50:04.277239",
     "status": "completed"
    },
    "tags": []
   },
   "outputs": [],
   "source": [
    "assert load_dotenv()"
   ]
  },
  {
   "cell_type": "code",
   "execution_count": 3,
   "id": "6af74995-eeba-493d-999c-501287dd809c",
   "metadata": {
    "execution": {
     "iopub.execute_input": "2024-10-22T17:50:04.373703Z",
     "iopub.status.busy": "2024-10-22T17:50:04.372834Z",
     "iopub.status.idle": "2024-10-22T17:50:04.432260Z",
     "shell.execute_reply": "2024-10-22T17:50:04.431450Z"
    },
    "papermill": {
     "duration": 0.072423,
     "end_time": "2024-10-22T17:50:04.434494",
     "exception": false,
     "start_time": "2024-10-22T17:50:04.362071",
     "status": "completed"
    },
    "tags": []
   },
   "outputs": [],
   "source": [
    "workingDir = here('04_visualizing_final_embedding_space/SCGT00_CentralizedDataset/')"
   ]
  },
  {
   "cell_type": "code",
   "execution_count": 4,
   "id": "1dae1184-00db-4d0c-8e49-42b1df5f9d30",
   "metadata": {
    "execution": {
     "iopub.execute_input": "2024-10-22T17:50:04.454819Z",
     "iopub.status.busy": "2024-10-22T17:50:04.454358Z",
     "iopub.status.idle": "2024-10-22T17:50:04.496544Z",
     "shell.execute_reply": "2024-10-22T17:50:04.495764Z"
    },
    "papermill": {
     "duration": 0.05624,
     "end_time": "2024-10-22T17:50:04.499776",
     "exception": false,
     "start_time": "2024-10-22T17:50:04.443536",
     "status": "completed"
    },
    "tags": []
   },
   "outputs": [],
   "source": [
    "class CustomWandbLogger(WandbLogger):\n",
    "    @property\n",
    "    def save_dir(self):\n",
    "        \"\"\"Gets the save directory.\n",
    "\n",
    "        Returns:\n",
    "            The path to the save directory.\n",
    "\n",
    "        \"\"\"\n",
    "        return self.experiment.dir"
   ]
  },
  {
   "cell_type": "code",
   "execution_count": 5,
   "id": "70cb28c1-38c5-4910-98e5-a4d786f256d7",
   "metadata": {
    "execution": {
     "iopub.execute_input": "2024-10-22T17:50:04.522295Z",
     "iopub.status.busy": "2024-10-22T17:50:04.521990Z",
     "iopub.status.idle": "2024-10-22T17:50:04.584646Z",
     "shell.execute_reply": "2024-10-22T17:50:04.583646Z"
    },
    "papermill": {
     "duration": 0.073966,
     "end_time": "2024-10-22T17:50:04.586090",
     "exception": false,
     "start_time": "2024-10-22T17:50:04.512124",
     "status": "completed"
    },
    "tags": []
   },
   "outputs": [
    {
     "data": {
      "text/plain": [
       "'1.1.2'"
      ]
     },
     "execution_count": 5,
     "metadata": {},
     "output_type": "execute_result"
    }
   ],
   "source": [
    "scvi.__version__"
   ]
  },
  {
   "cell_type": "markdown",
   "id": "e11bbe22-69a0-40d4-b609-7e108d2bcb46",
   "metadata": {
    "execution": {
     "iopub.execute_input": "2024-04-10T14:14:35.228151Z",
     "iopub.status.busy": "2024-04-10T14:14:35.226856Z",
     "iopub.status.idle": "2024-04-10T14:14:35.273260Z",
     "shell.execute_reply": "2024-04-10T14:14:35.272159Z",
     "shell.execute_reply.started": "2024-04-10T14:14:35.228101Z"
    },
    "papermill": {
     "duration": 0.005727,
     "end_time": "2024-10-22T17:50:04.597976",
     "exception": false,
     "start_time": "2024-10-22T17:50:04.592249",
     "status": "completed"
    },
    "tags": []
   },
   "source": [
    "# Loading data\n"
   ]
  },
  {
   "cell_type": "code",
   "execution_count": 6,
   "id": "f93686ba-9680-4b63-97c9-a0bc0a799c29",
   "metadata": {
    "execution": {
     "iopub.execute_input": "2024-10-22T17:50:04.611357Z",
     "iopub.status.busy": "2024-10-22T17:50:04.610423Z",
     "iopub.status.idle": "2024-10-22T17:50:30.296638Z",
     "shell.execute_reply": "2024-10-22T17:50:30.295963Z"
    },
    "papermill": {
     "duration": 25.695461,
     "end_time": "2024-10-22T17:50:30.298784",
     "exception": false,
     "start_time": "2024-10-22T17:50:04.603323",
     "status": "completed"
    },
    "tags": []
   },
   "outputs": [],
   "source": [
    "# Load the h5ad file\n",
    "adata = sc.read_h5ad(here(\"R3/01_fromDatasets_to_CellTypes/SCGT00_MAIN_annotated_LowQFilt.h5ad\"))#, \n",
    "#                     backed='r+', chunk_size=50000)\n"
   ]
  },
  {
   "cell_type": "markdown",
   "id": "a3c1c79a-bac7-4d63-bd3b-164e32bdd9c1",
   "metadata": {
    "papermill": {
     "duration": 0.009679,
     "end_time": "2024-10-22T17:50:30.320988",
     "exception": false,
     "start_time": "2024-10-22T17:50:30.311309",
     "status": "completed"
    },
    "tags": []
   },
   "source": [
    "**Loading gene universe**"
   ]
  },
  {
   "cell_type": "code",
   "execution_count": 7,
   "id": "fea4c5fc-48e3-4b87-8c83-240dfc5528dc",
   "metadata": {
    "execution": {
     "iopub.execute_input": "2024-10-22T17:50:30.335522Z",
     "iopub.status.busy": "2024-10-22T17:50:30.334885Z",
     "iopub.status.idle": "2024-10-22T17:50:30.392607Z",
     "shell.execute_reply": "2024-10-22T17:50:30.392014Z"
    },
    "papermill": {
     "duration": 0.067491,
     "end_time": "2024-10-22T17:50:30.394685",
     "exception": false,
     "start_time": "2024-10-22T17:50:30.327194",
     "status": "completed"
    },
    "tags": []
   },
   "outputs": [
    {
     "data": {
      "text/html": [
       "<div>\n",
       "<style scoped>\n",
       "    .dataframe tbody tr th:only-of-type {\n",
       "        vertical-align: middle;\n",
       "    }\n",
       "\n",
       "    .dataframe tbody tr th {\n",
       "        vertical-align: top;\n",
       "    }\n",
       "\n",
       "    .dataframe thead th {\n",
       "        text-align: right;\n",
       "    }\n",
       "</style>\n",
       "<table border=\"1\" class=\"dataframe\">\n",
       "  <thead>\n",
       "    <tr style=\"text-align: right;\">\n",
       "      <th></th>\n",
       "      <th>hgnc_id</th>\n",
       "      <th>symbol</th>\n",
       "      <th>locus_group</th>\n",
       "      <th>HUGO_status</th>\n",
       "    </tr>\n",
       "    <tr>\n",
       "      <th>ensembl_gene_id</th>\n",
       "      <th></th>\n",
       "      <th></th>\n",
       "      <th></th>\n",
       "      <th></th>\n",
       "    </tr>\n",
       "  </thead>\n",
       "  <tbody>\n",
       "    <tr>\n",
       "      <th>ENSG00000000003</th>\n",
       "      <td>HGNC:11858</td>\n",
       "      <td>TSPAN6</td>\n",
       "      <td>protein_coding</td>\n",
       "      <td>official</td>\n",
       "    </tr>\n",
       "    <tr>\n",
       "      <th>ENSG00000000457</th>\n",
       "      <td>HGNC:19285</td>\n",
       "      <td>SCYL3</td>\n",
       "      <td>protein_coding</td>\n",
       "      <td>official</td>\n",
       "    </tr>\n",
       "    <tr>\n",
       "      <th>ENSG00000000938</th>\n",
       "      <td>HGNC:3697</td>\n",
       "      <td>FGR</td>\n",
       "      <td>protein_coding</td>\n",
       "      <td>official</td>\n",
       "    </tr>\n",
       "    <tr>\n",
       "      <th>ENSG00000000971</th>\n",
       "      <td>HGNC:4883</td>\n",
       "      <td>CFH</td>\n",
       "      <td>protein_coding</td>\n",
       "      <td>official</td>\n",
       "    </tr>\n",
       "    <tr>\n",
       "      <th>ENSG00000001036</th>\n",
       "      <td>HGNC:4008</td>\n",
       "      <td>FUCA2</td>\n",
       "      <td>protein_coding</td>\n",
       "      <td>official</td>\n",
       "    </tr>\n",
       "    <tr>\n",
       "      <th>...</th>\n",
       "      <td>...</td>\n",
       "      <td>...</td>\n",
       "      <td>...</td>\n",
       "      <td>...</td>\n",
       "    </tr>\n",
       "    <tr>\n",
       "      <th>ENSG00000278817</th>\n",
       "      <td>NaN</td>\n",
       "      <td>ENSG00000278817</td>\n",
       "      <td>protein_coding</td>\n",
       "      <td>non-official</td>\n",
       "    </tr>\n",
       "    <tr>\n",
       "      <th>ENSG00000278828</th>\n",
       "      <td>HGNC:4775</td>\n",
       "      <td>H3C10</td>\n",
       "      <td>protein_coding</td>\n",
       "      <td>official</td>\n",
       "    </tr>\n",
       "    <tr>\n",
       "      <th>ENSG00000280670</th>\n",
       "      <td>HGNC:27003</td>\n",
       "      <td>CCDC163</td>\n",
       "      <td>protein_coding</td>\n",
       "      <td>official</td>\n",
       "    </tr>\n",
       "    <tr>\n",
       "      <th>ENSG00000280789</th>\n",
       "      <td>HGNC:28707</td>\n",
       "      <td>PAGR1</td>\n",
       "      <td>protein_coding</td>\n",
       "      <td>official</td>\n",
       "    </tr>\n",
       "    <tr>\n",
       "      <th>ENSG00000282608</th>\n",
       "      <td>HGNC:268</td>\n",
       "      <td>ADORA3</td>\n",
       "      <td>protein_coding</td>\n",
       "      <td>official</td>\n",
       "    </tr>\n",
       "  </tbody>\n",
       "</table>\n",
       "<p>8253 rows × 4 columns</p>\n",
       "</div>"
      ],
      "text/plain": [
       "                    hgnc_id           symbol     locus_group   HUGO_status\n",
       "ensembl_gene_id                                                           \n",
       "ENSG00000000003  HGNC:11858           TSPAN6  protein_coding      official\n",
       "ENSG00000000457  HGNC:19285            SCYL3  protein_coding      official\n",
       "ENSG00000000938   HGNC:3697              FGR  protein_coding      official\n",
       "ENSG00000000971   HGNC:4883              CFH  protein_coding      official\n",
       "ENSG00000001036   HGNC:4008            FUCA2  protein_coding      official\n",
       "...                     ...              ...             ...           ...\n",
       "ENSG00000278817         NaN  ENSG00000278817  protein_coding  non-official\n",
       "ENSG00000278828   HGNC:4775            H3C10  protein_coding      official\n",
       "ENSG00000280670  HGNC:27003          CCDC163  protein_coding      official\n",
       "ENSG00000280789  HGNC:28707            PAGR1  protein_coding      official\n",
       "ENSG00000282608    HGNC:268           ADORA3  protein_coding      official\n",
       "\n",
       "[8253 rows x 4 columns]"
      ]
     },
     "execution_count": 7,
     "metadata": {},
     "output_type": "execute_result"
    }
   ],
   "source": [
    "geneUniverse = pd.read_pickle(here('03_downstream_analysis/02_gene_universe_definition/results/04_selected_gene_list.pkl'))\n",
    "geneUniverse"
   ]
  },
  {
   "cell_type": "code",
   "execution_count": 8,
   "id": "db096f10-feeb-42a8-8321-3ec38236f8df",
   "metadata": {
    "execution": {
     "iopub.execute_input": "2024-10-22T17:50:30.416028Z",
     "iopub.status.busy": "2024-10-22T17:50:30.415703Z",
     "iopub.status.idle": "2024-10-22T17:50:38.107598Z",
     "shell.execute_reply": "2024-10-22T17:50:38.107049Z"
    },
    "papermill": {
     "duration": 7.706852,
     "end_time": "2024-10-22T17:50:38.112288",
     "exception": false,
     "start_time": "2024-10-22T17:50:30.405436",
     "status": "completed"
    },
    "tags": []
   },
   "outputs": [
    {
     "data": {
      "text/plain": [
       "AnnData object with n_obs × n_vars = 756120 × 8253\n",
       "    obs: 'studyID', 'libraryID', 'sampleID', 'chemistry', 'disease', 'sex', 'binned_age', 'batches', 'Level1'\n",
       "    var: 'hgnc_id', 'symbol', 'locus_group', 'HUGO_status'"
      ]
     },
     "execution_count": 8,
     "metadata": {},
     "output_type": "execute_result"
    }
   ],
   "source": [
    "adata = adata[:,geneUniverse.index].copy()\n",
    "adata"
   ]
  },
  {
   "cell_type": "code",
   "execution_count": 9,
   "id": "4a610977-d6ea-47c9-96c7-5bfe8525d81d",
   "metadata": {
    "execution": {
     "iopub.execute_input": "2024-10-22T17:50:38.140413Z",
     "iopub.status.busy": "2024-10-22T17:50:38.139594Z",
     "iopub.status.idle": "2024-10-22T17:50:38.193617Z",
     "shell.execute_reply": "2024-10-22T17:50:38.192646Z"
    },
    "papermill": {
     "duration": 0.068879,
     "end_time": "2024-10-22T17:50:38.196740",
     "exception": false,
     "start_time": "2024-10-22T17:50:38.127861",
     "status": "completed"
    },
    "tags": []
   },
   "outputs": [
    {
     "data": {
      "text/plain": [
       "Level1\n",
       "T_CD4_NonNaive    159203\n",
       "Mono              131392\n",
       "T_CD4_Naive       123116\n",
       "T_CD8_NonNaive     93256\n",
       "ILC                57046\n",
       "B                  55869\n",
       "Platelets          52472\n",
       "T_CD8_Naive        40745\n",
       "UTC                23420\n",
       "DC                 10440\n",
       "pDC                 3125\n",
       "Cycling             2741\n",
       "Progenitors         1716\n",
       "Plasma              1383\n",
       "RBC                  196\n",
       "Name: count, dtype: int64"
      ]
     },
     "execution_count": 9,
     "metadata": {},
     "output_type": "execute_result"
    }
   ],
   "source": [
    "adata.obs.value_counts('Level1')"
   ]
  },
  {
   "cell_type": "code",
   "execution_count": 10,
   "id": "a52d2a6d-f2ce-48d1-a770-ebcbc1d8ff75",
   "metadata": {
    "execution": {
     "iopub.execute_input": "2024-10-22T17:50:38.228739Z",
     "iopub.status.busy": "2024-10-22T17:50:38.227441Z",
     "iopub.status.idle": "2024-10-22T17:50:38.304189Z",
     "shell.execute_reply": "2024-10-22T17:50:38.303113Z"
    },
    "papermill": {
     "duration": 0.092683,
     "end_time": "2024-10-22T17:50:38.305967",
     "exception": false,
     "start_time": "2024-10-22T17:50:38.213284",
     "status": "completed"
    },
    "tags": []
   },
   "outputs": [
    {
     "data": {
      "text/plain": [
       "disease\n",
       "RA     353283\n",
       "PS     114090\n",
       "PSA     97885\n",
       "UC      87969\n",
       "CD      75809\n",
       "SLE     27084\n",
       "Name: count, dtype: int64"
      ]
     },
     "execution_count": 10,
     "metadata": {},
     "output_type": "execute_result"
    }
   ],
   "source": [
    "adata.obs.value_counts('disease')"
   ]
  },
  {
   "cell_type": "code",
   "execution_count": 11,
   "id": "aeb587ff-53e7-412f-b322-137d02811587",
   "metadata": {
    "execution": {
     "iopub.execute_input": "2024-10-22T17:50:38.331668Z",
     "iopub.status.busy": "2024-10-22T17:50:38.331097Z",
     "iopub.status.idle": "2024-10-22T17:50:38.392356Z",
     "shell.execute_reply": "2024-10-22T17:50:38.391400Z"
    },
    "papermill": {
     "duration": 0.081382,
     "end_time": "2024-10-22T17:50:38.395322",
     "exception": false,
     "start_time": "2024-10-22T17:50:38.313940",
     "status": "completed"
    },
    "tags": []
   },
   "outputs": [
    {
     "data": {
      "text/plain": [
       "batches\n",
       "Chron_Pool2Pool4    57071\n",
       "UC_Pool5Pool7       53229\n",
       "RA_Pool19Pool20     48964\n",
       "RA_Pool15Pool16     46909\n",
       "RA_Pool13Pool14     46615\n",
       "RA_Pool2Pool4       46206\n",
       "PS_Pool3Pool5       45743\n",
       "PS_Pool6Pool7       43414\n",
       "RA_Pool1Pool3       42631\n",
       "RA_Pool10Pool12     42216\n",
       "RA_Pool9Pool11      40449\n",
       "RA_Pool6Pool8       39293\n",
       "PsA_Pool5Pool7      35860\n",
       "UC_Pool6Pool8       34740\n",
       "PsA_Pool1Pool3      34428\n",
       "PsA_Pool2Pool4      27597\n",
       "SLE_Pool2Pool4      27084\n",
       "PS_Pool2Pool4       24933\n",
       "IBD_Pool1Pool2      18738\n",
       "Name: count, dtype: int64"
      ]
     },
     "execution_count": 11,
     "metadata": {},
     "output_type": "execute_result"
    }
   ],
   "source": [
    "adata.obs.value_counts('batches')"
   ]
  },
  {
   "cell_type": "code",
   "execution_count": 12,
   "id": "01c8a959-ea75-49a0-ac94-194c693ed114",
   "metadata": {
    "execution": {
     "iopub.execute_input": "2024-10-22T17:50:38.424232Z",
     "iopub.status.busy": "2024-10-22T17:50:38.423823Z",
     "iopub.status.idle": "2024-10-22T17:50:38.547847Z",
     "shell.execute_reply": "2024-10-22T17:50:38.546782Z"
    },
    "papermill": {
     "duration": 0.139755,
     "end_time": "2024-10-22T17:50:38.551201",
     "exception": false,
     "start_time": "2024-10-22T17:50:38.411446",
     "status": "completed"
    },
    "tags": []
   },
   "outputs": [],
   "source": [
    "adata.obs['binned_age'] = adata.obs['binned_age'].astype(str)"
   ]
  },
  {
   "cell_type": "code",
   "execution_count": 13,
   "id": "79a8296c-51f4-47ce-a8a5-59e72e4aab87",
   "metadata": {
    "execution": {
     "iopub.execute_input": "2024-10-22T17:50:38.578529Z",
     "iopub.status.busy": "2024-10-22T17:50:38.577996Z",
     "iopub.status.idle": "2024-10-22T17:50:38.623821Z",
     "shell.execute_reply": "2024-10-22T17:50:38.623025Z"
    },
    "papermill": {
     "duration": 0.06119,
     "end_time": "2024-10-22T17:50:38.627190",
     "exception": false,
     "start_time": "2024-10-22T17:50:38.566000",
     "status": "completed"
    },
    "tags": []
   },
   "outputs": [],
   "source": [
    "genes = adata.var"
   ]
  },
  {
   "cell_type": "code",
   "execution_count": 14,
   "id": "f0ae0256-2079-4a73-b506-fd494b1e9b84",
   "metadata": {
    "execution": {
     "iopub.execute_input": "2024-10-22T17:50:38.653504Z",
     "iopub.status.busy": "2024-10-22T17:50:38.653069Z",
     "iopub.status.idle": "2024-10-22T17:50:38.712142Z",
     "shell.execute_reply": "2024-10-22T17:50:38.711267Z"
    },
    "papermill": {
     "duration": 0.073208,
     "end_time": "2024-10-22T17:50:38.715129",
     "exception": false,
     "start_time": "2024-10-22T17:50:38.641921",
     "status": "completed"
    },
    "tags": []
   },
   "outputs": [
    {
     "name": "stdout",
     "output_type": "stream",
     "text": [
      "0 mitochondrial genes\n",
      "0 ribosomal genes\n",
      "0 TCR genes\n",
      "0 TCR genes\n",
      "1 HB genes\n",
      "20 MHC genes\n",
      "3 PLT genes\n"
     ]
    }
   ],
   "source": [
    "# Retrieve MT and RB genes present in the dataset\n",
    "MT_gene_idx = genes[\"symbol\"].str.startswith(\"MT-\")\n",
    "print(f\"{np.sum(MT_gene_idx)} mitochondrial genes\")\n",
    "\n",
    "RB_gene_idx = genes[\"symbol\"].str.startswith((\"RPS\", \"RPL\"))\n",
    "print(f\"{np.sum(RB_gene_idx)} ribosomal genes\")\n",
    "\n",
    "# Retrieve TCR and BCR present in the dataset\n",
    "TCR_gene_idx = genes[\"symbol\"].str.contains(\"^TRA(J|V)|^TRB(J|V|D)\")\n",
    "print(f\"{np.sum(TCR_gene_idx)} TCR genes\")\n",
    "\n",
    "BCR_gene_idx = genes[\"symbol\"].str.contains(\"^IGH(J|V)\")\n",
    "print(f\"{np.sum(BCR_gene_idx)} TCR genes\")\n",
    "\n",
    "HB_gene_idx = genes[\"symbol\"].str.contains(\"^HB[^(P)]\")\n",
    "print(f\"{np.sum(HB_gene_idx)} HB genes\")\n",
    "\n",
    "# Some of those genes will be included anyway because are part of curated gene sets.\n",
    "MHC_gene_idx = genes[\"symbol\"].str.contains(\"^HLA-\")\n",
    "print(f\"{np.sum(MHC_gene_idx)} MHC genes\")\n",
    "\n",
    "PLT_gene_idx = genes[\"symbol\"].isin([\"PPBP\", \"PDGF\", \"ANG1\", \"LAPTM4B\", \"WASF3\", \"TPM3\", \"PF4\", \"TAC1\"])\n",
    "print(f\"{np.sum(PLT_gene_idx)} PLT genes\")"
   ]
  },
  {
   "cell_type": "markdown",
   "id": "a13cd6e8-6229-4427-b616-441ba5a67b47",
   "metadata": {
    "papermill": {
     "duration": 0.015053,
     "end_time": "2024-10-22T17:50:38.741671",
     "exception": false,
     "start_time": "2024-10-22T17:50:38.726618",
     "status": "completed"
    },
    "tags": []
   },
   "source": [
    "**Parameters**"
   ]
  },
  {
   "cell_type": "code",
   "execution_count": 15,
   "id": "689bf365-5025-4c03-a3af-8a860bb2899a",
   "metadata": {
    "execution": {
     "iopub.execute_input": "2024-10-22T17:50:38.760646Z",
     "iopub.status.busy": "2024-10-22T17:50:38.760056Z",
     "iopub.status.idle": "2024-10-22T17:50:38.834051Z",
     "shell.execute_reply": "2024-10-22T17:50:38.833393Z"
    },
    "papermill": {
     "duration": 0.085893,
     "end_time": "2024-10-22T17:50:38.837409",
     "exception": false,
     "start_time": "2024-10-22T17:50:38.751516",
     "status": "completed"
    },
    "tags": []
   },
   "outputs": [],
   "source": [
    "setup_kwargs = dict(\n",
    "    layer=None, \n",
    "    batch_key='batches',\n",
    "    categorical_covariate_keys = None,\n",
    "    labels_key = 'Level1' # needed for the following scANVI fine tuning\n",
    ")\n",
    "\n",
    "scvi_kwargs = dict(n_hidden=256,\n",
    "                   n_latent=30,\n",
    "                   n_layers=4, \n",
    "                   gene_likelihood='nb')\n",
    "\n",
    "trainer_kwargs = dict(\n",
    "    checkpointing_monitor = 'elbo_validation',\n",
    "    early_stopping_monitor = 'reconstruction_loss_validation',\n",
    "    early_stopping_patience = 2,\n",
    "    early_stopping_min_delta=0.1,\n",
    "    early_stopping = True,\n",
    "    max_epochs = 1000,\n",
    "\n",
    "    #logger = # wandb\n",
    ")\n",
    "# https://docs.scvi-tools.org/en/stable/api/reference/scvi.train.TrainingPlan.html#scvi.train.TrainingPlan\n",
    "plan_kwargs = dict(\n",
    "    lr = 5e-4,\n",
    "    #reduce_lr_on_plateau = True\n",
    ")\n",
    "\n",
    "# https://docs.scvi-tools.org/en/stable/api/reference/scvi.module.VAE.html#scvi.module.VAE\n",
    "#vae = dict(\n",
    "#    use_layer_norm='both',\n",
    "#    use_batch_norm='none',\n",
    "#    encode_covariates=True,\n",
    "#    deeply_inject_covariates=False\n",
    "#)\n",
    "datasplitter_kwargs = dict(pin_memory=True)\n",
    "scvi_parameter_dict = setup_kwargs | scvi_kwargs | trainer_kwargs | plan_kwargs| datasplitter_kwargs"
   ]
  },
  {
   "cell_type": "code",
   "execution_count": 16,
   "id": "e78a792d-f9a4-46dd-818b-6b31ae1935a6",
   "metadata": {
    "execution": {
     "iopub.execute_input": "2024-10-22T17:50:38.864313Z",
     "iopub.status.busy": "2024-10-22T17:50:38.863743Z",
     "iopub.status.idle": "2024-10-22T17:50:38.911246Z",
     "shell.execute_reply": "2024-10-22T17:50:38.910721Z"
    },
    "papermill": {
     "duration": 0.064102,
     "end_time": "2024-10-22T17:50:38.915067",
     "exception": false,
     "start_time": "2024-10-22T17:50:38.850965",
     "status": "completed"
    },
    "tags": []
   },
   "outputs": [
    {
     "data": {
      "text/plain": [
       "'MAINobj_scVI_pretraining_noRBCnPlat'"
      ]
     },
     "execution_count": 16,
     "metadata": {},
     "output_type": "execute_result"
    }
   ],
   "source": [
    "run_name = f\"MAINobj_scVI_pretraining_noRBCnPlat\"\n",
    "run_name"
   ]
  },
  {
   "cell_type": "code",
   "execution_count": 17,
   "id": "fec631d0-be43-49c1-96a3-8f8b219aa620",
   "metadata": {
    "execution": {
     "iopub.execute_input": "2024-10-22T17:50:38.938400Z",
     "iopub.status.busy": "2024-10-22T17:50:38.937929Z",
     "iopub.status.idle": "2024-10-22T17:50:39.619062Z",
     "shell.execute_reply": "2024-10-22T17:50:39.618503Z"
    },
    "papermill": {
     "duration": 0.692454,
     "end_time": "2024-10-22T17:50:39.620752",
     "exception": false,
     "start_time": "2024-10-22T17:50:38.928298",
     "status": "completed"
    },
    "tags": []
   },
   "outputs": [
    {
     "name": "stderr",
     "output_type": "stream",
     "text": [
      "WARNING:jax._src.xla_bridge:CUDA backend failed to initialize: Unable to use CUDA because of the following issues with CUDA components:\n",
      "Outdated cuSPARSE installation found.\n",
      "Version JAX was built against: 12200\n",
      "Minimum supported: 12100\n",
      "Installed version: 12002\n",
      "The local installation version must be no lower than 12100. (Set TF_CPP_MIN_LOG_LEVEL=0 and rerun for more info.)\n"
     ]
    }
   ],
   "source": [
    "sca.models.SCVI.setup_anndata(adata, \n",
    "                              **setup_kwargs)"
   ]
  },
  {
   "cell_type": "code",
   "execution_count": 18,
   "id": "99ba44c8-b551-47bf-9fe8-1e9eba4b0c72",
   "metadata": {
    "execution": {
     "iopub.execute_input": "2024-10-22T17:50:39.648536Z",
     "iopub.status.busy": "2024-10-22T17:50:39.647485Z",
     "iopub.status.idle": "2024-10-22T17:50:39.725370Z",
     "shell.execute_reply": "2024-10-22T17:50:39.724578Z"
    },
    "papermill": {
     "duration": 0.100479,
     "end_time": "2024-10-22T17:50:39.728644",
     "exception": false,
     "start_time": "2024-10-22T17:50:39.628165",
     "status": "completed"
    },
    "tags": []
   },
   "outputs": [],
   "source": [
    "logger = CustomWandbLogger(name = run_name, project='inflammation_atlas_R1_scANVI_batches', config = scvi_parameter_dict)"
   ]
  },
  {
   "cell_type": "code",
   "execution_count": 19,
   "id": "ddc105bb-90d1-4539-bfc2-b7b9600e7353",
   "metadata": {
    "execution": {
     "iopub.execute_input": "2024-10-22T17:50:39.753885Z",
     "iopub.status.busy": "2024-10-22T17:50:39.753417Z",
     "iopub.status.idle": "2024-10-22T17:50:41.543605Z",
     "shell.execute_reply": "2024-10-22T17:50:41.542153Z"
    },
    "papermill": {
     "duration": 1.803176,
     "end_time": "2024-10-22T17:50:41.547330",
     "exception": false,
     "start_time": "2024-10-22T17:50:39.744154",
     "status": "completed"
    },
    "tags": []
   },
   "outputs": [],
   "source": [
    "scvi_model = sca.models.SCVI(adata, **scvi_kwargs)"
   ]
  },
  {
   "cell_type": "code",
   "execution_count": 20,
   "id": "262b5470-c947-44e3-b5ff-4c707a2997fb",
   "metadata": {
    "execution": {
     "iopub.execute_input": "2024-10-22T17:50:41.574215Z",
     "iopub.status.busy": "2024-10-22T17:50:41.573647Z",
     "iopub.status.idle": "2024-10-22T18:34:20.237774Z",
     "shell.execute_reply": "2024-10-22T18:34:20.236914Z"
    },
    "papermill": {
     "duration": 2618.677404,
     "end_time": "2024-10-22T18:34:20.240981",
     "exception": false,
     "start_time": "2024-10-22T17:50:41.563577",
     "status": "completed"
    },
    "tags": []
   },
   "outputs": [
    {
     "name": "stderr",
     "output_type": "stream",
     "text": [
      "INFO: GPU available: True (cuda), used: True\n"
     ]
    },
    {
     "name": "stderr",
     "output_type": "stream",
     "text": [
      "INFO:lightning.pytorch.utilities.rank_zero:GPU available: True (cuda), used: True\n"
     ]
    },
    {
     "name": "stderr",
     "output_type": "stream",
     "text": [
      "INFO: TPU available: False, using: 0 TPU cores\n"
     ]
    },
    {
     "name": "stderr",
     "output_type": "stream",
     "text": [
      "INFO:lightning.pytorch.utilities.rank_zero:TPU available: False, using: 0 TPU cores\n"
     ]
    },
    {
     "name": "stderr",
     "output_type": "stream",
     "text": [
      "INFO: IPU available: False, using: 0 IPUs\n"
     ]
    },
    {
     "name": "stderr",
     "output_type": "stream",
     "text": [
      "INFO:lightning.pytorch.utilities.rank_zero:IPU available: False, using: 0 IPUs\n"
     ]
    },
    {
     "name": "stderr",
     "output_type": "stream",
     "text": [
      "INFO: HPU available: False, using: 0 HPUs\n"
     ]
    },
    {
     "name": "stderr",
     "output_type": "stream",
     "text": [
      "INFO:lightning.pytorch.utilities.rank_zero:HPU available: False, using: 0 HPUs\n"
     ]
    },
    {
     "name": "stderr",
     "output_type": "stream",
     "text": [
      "\u001b[34m\u001b[1mwandb\u001b[0m: Currently logged in as: \u001b[33mdav1989\u001b[0m (\u001b[33minflammation\u001b[0m). Use \u001b[1m`wandb login --relogin`\u001b[0m to force relogin\n"
     ]
    },
    {
     "name": "stderr",
     "output_type": "stream",
     "text": [
      "\u001b[34m\u001b[1mwandb\u001b[0m: wandb version 0.18.5 is available!  To upgrade, please run:\n",
      "\u001b[34m\u001b[1mwandb\u001b[0m:  $ pip install wandb --upgrade\n"
     ]
    },
    {
     "name": "stderr",
     "output_type": "stream",
     "text": [
      "\u001b[34m\u001b[1mwandb\u001b[0m: Tracking run with wandb version 0.16.5\n"
     ]
    },
    {
     "name": "stderr",
     "output_type": "stream",
     "text": [
      "\u001b[34m\u001b[1mwandb\u001b[0m: Run data is saved locally in \u001b[35m\u001b[1m./wandb/run-20241022_175043-vi1j4tyk\u001b[0m\n",
      "\u001b[34m\u001b[1mwandb\u001b[0m: Run \u001b[1m`wandb offline`\u001b[0m to turn off syncing.\n"
     ]
    },
    {
     "name": "stderr",
     "output_type": "stream",
     "text": [
      "\u001b[34m\u001b[1mwandb\u001b[0m: Syncing run \u001b[33mMAINobj_scVI_pretraining_noRBCnPlat\u001b[0m\n"
     ]
    },
    {
     "name": "stderr",
     "output_type": "stream",
     "text": [
      "\u001b[34m\u001b[1mwandb\u001b[0m: ⭐️ View project at \u001b[34m\u001b[4mhttps://wandb.ai/inflammation/inflammation_atlas_R1_scANVI_batches\u001b[0m\n"
     ]
    },
    {
     "name": "stderr",
     "output_type": "stream",
     "text": [
      "\u001b[34m\u001b[1mwandb\u001b[0m: 🚀 View run at \u001b[34m\u001b[4mhttps://wandb.ai/inflammation/inflammation_atlas_R1_scANVI_batches/runs/vi1j4tyk/workspace\u001b[0m\n"
     ]
    },
    {
     "name": "stderr",
     "output_type": "stream",
     "text": [
      "INFO: LOCAL_RANK: 0 - CUDA_VISIBLE_DEVICES: [0]\n"
     ]
    },
    {
     "name": "stderr",
     "output_type": "stream",
     "text": [
      "INFO:lightning.pytorch.accelerators.cuda:LOCAL_RANK: 0 - CUDA_VISIBLE_DEVICES: [0]\n"
     ]
    },
    {
     "name": "stdout",
     "output_type": "stream",
     "text": [
      "\r",
      "Training:   0%|                                                                                                                         | 0/1000 [00:00<?, ?it/s]"
     ]
    },
    {
     "name": "stdout",
     "output_type": "stream",
     "text": [
      "\r",
      "Epoch 1/1000:   0%|                                                                                                                     | 0/1000 [00:00<?, ?it/s]"
     ]
    },
    {
     "name": "stdout",
     "output_type": "stream",
     "text": [
      "\r",
      "Epoch 1/1000:   0%|                                                                                                         | 1/1000 [01:40<28:01:03, 100.96s/it]"
     ]
    },
    {
     "name": "stdout",
     "output_type": "stream",
     "text": [
      "\r",
      "Epoch 1/1000:   0%|                                          | 1/1000 [01:40<28:01:03, 100.96s/it, v_num=4tyk, train_loss_step=2.12e+3, train_loss_epoch=2.06e+3]"
     ]
    },
    {
     "name": "stdout",
     "output_type": "stream",
     "text": [
      "\r",
      "Epoch 2/1000:   0%|                                          | 1/1000 [01:40<28:01:03, 100.96s/it, v_num=4tyk, train_loss_step=2.12e+3, train_loss_epoch=2.06e+3]"
     ]
    },
    {
     "name": "stdout",
     "output_type": "stream",
     "text": [
      "\r",
      "Epoch 2/1000:   0%|                                          | 2/1000 [03:21<27:52:16, 100.54s/it, v_num=4tyk, train_loss_step=2.12e+3, train_loss_epoch=2.06e+3]"
     ]
    },
    {
     "name": "stdout",
     "output_type": "stream",
     "text": [
      "\r",
      "Epoch 2/1000:   0%|                                             | 2/1000 [03:21<27:52:16, 100.54s/it, v_num=4tyk, train_loss_step=2.21e+3, train_loss_epoch=2e+3]"
     ]
    },
    {
     "name": "stdout",
     "output_type": "stream",
     "text": [
      "\r",
      "Epoch 3/1000:   0%|                                             | 2/1000 [03:21<27:52:16, 100.54s/it, v_num=4tyk, train_loss_step=2.21e+3, train_loss_epoch=2e+3]"
     ]
    },
    {
     "name": "stdout",
     "output_type": "stream",
     "text": [
      "\r",
      "Epoch 3/1000:   0%|▏                                            | 3/1000 [05:03<28:02:21, 101.25s/it, v_num=4tyk, train_loss_step=2.21e+3, train_loss_epoch=2e+3]"
     ]
    },
    {
     "name": "stdout",
     "output_type": "stream",
     "text": [
      "\r",
      "Epoch 3/1000:   0%|▏                                            | 3/1000 [05:03<28:02:21, 101.25s/it, v_num=4tyk, train_loss_step=1.92e+3, train_loss_epoch=2e+3]"
     ]
    },
    {
     "name": "stdout",
     "output_type": "stream",
     "text": [
      "\r",
      "Epoch 4/1000:   0%|▏                                            | 3/1000 [05:03<28:02:21, 101.25s/it, v_num=4tyk, train_loss_step=1.92e+3, train_loss_epoch=2e+3]"
     ]
    },
    {
     "name": "stdout",
     "output_type": "stream",
     "text": [
      "\r",
      "Epoch 4/1000:   0%|▏                                            | 4/1000 [06:43<27:55:10, 100.91s/it, v_num=4tyk, train_loss_step=1.92e+3, train_loss_epoch=2e+3]"
     ]
    },
    {
     "name": "stdout",
     "output_type": "stream",
     "text": [
      "\r",
      "Epoch 4/1000:   0%|▏                                         | 4/1000 [06:43<27:55:10, 100.91s/it, v_num=4tyk, train_loss_step=2.02e+3, train_loss_epoch=1.99e+3]"
     ]
    },
    {
     "name": "stdout",
     "output_type": "stream",
     "text": [
      "\r",
      "Epoch 5/1000:   0%|▏                                         | 4/1000 [06:43<27:55:10, 100.91s/it, v_num=4tyk, train_loss_step=2.02e+3, train_loss_epoch=1.99e+3]"
     ]
    },
    {
     "name": "stderr",
     "output_type": "stream",
     "text": [
      "\u001b[34m\u001b[1mwandb\u001b[0m: 429 encountered (Filestream rate limit exceeded, retrying in 2.3 seconds.), retrying request\n"
     ]
    },
    {
     "name": "stderr",
     "output_type": "stream",
     "text": [
      "\u001b[34m\u001b[1mwandb\u001b[0m: 429 encountered (Filestream rate limit exceeded, retrying in 4.9 seconds.), retrying request\n"
     ]
    },
    {
     "name": "stdout",
     "output_type": "stream",
     "text": [
      "\r",
      "Epoch 5/1000:   0%|▏                                         | 5/1000 [08:22<27:43:16, 100.30s/it, v_num=4tyk, train_loss_step=2.02e+3, train_loss_epoch=1.99e+3]"
     ]
    },
    {
     "name": "stdout",
     "output_type": "stream",
     "text": [
      "\r",
      "Epoch 5/1000:   0%|▏                                         | 5/1000 [08:22<27:43:16, 100.30s/it, v_num=4tyk, train_loss_step=2.03e+3, train_loss_epoch=1.99e+3]"
     ]
    },
    {
     "name": "stdout",
     "output_type": "stream",
     "text": [
      "\r",
      "Epoch 6/1000:   0%|▏                                         | 5/1000 [08:22<27:43:16, 100.30s/it, v_num=4tyk, train_loss_step=2.03e+3, train_loss_epoch=1.99e+3]"
     ]
    },
    {
     "name": "stdout",
     "output_type": "stream",
     "text": [
      "\r",
      "Epoch 6/1000:   1%|▎                                          | 6/1000 [10:01<27:33:19, 99.80s/it, v_num=4tyk, train_loss_step=2.03e+3, train_loss_epoch=1.99e+3]"
     ]
    },
    {
     "name": "stdout",
     "output_type": "stream",
     "text": [
      "\r",
      "Epoch 6/1000:   1%|▎                                          | 6/1000 [10:01<27:33:19, 99.80s/it, v_num=4tyk, train_loss_step=2.07e+3, train_loss_epoch=1.99e+3]"
     ]
    },
    {
     "name": "stdout",
     "output_type": "stream",
     "text": [
      "\r",
      "Epoch 7/1000:   1%|▎                                          | 6/1000 [10:01<27:33:19, 99.80s/it, v_num=4tyk, train_loss_step=2.07e+3, train_loss_epoch=1.99e+3]"
     ]
    },
    {
     "name": "stdout",
     "output_type": "stream",
     "text": [
      "\r",
      "Epoch 7/1000:   1%|▎                                          | 7/1000 [11:40<27:24:30, 99.37s/it, v_num=4tyk, train_loss_step=2.07e+3, train_loss_epoch=1.99e+3]"
     ]
    },
    {
     "name": "stdout",
     "output_type": "stream",
     "text": [
      "\r",
      "Epoch 7/1000:   1%|▎                                          | 7/1000 [11:40<27:24:30, 99.37s/it, v_num=4tyk, train_loss_step=2.07e+3, train_loss_epoch=1.99e+3]"
     ]
    },
    {
     "name": "stdout",
     "output_type": "stream",
     "text": [
      "\r",
      "Epoch 8/1000:   1%|▎                                          | 7/1000 [11:40<27:24:30, 99.37s/it, v_num=4tyk, train_loss_step=2.07e+3, train_loss_epoch=1.99e+3]"
     ]
    },
    {
     "name": "stdout",
     "output_type": "stream",
     "text": [
      "\r",
      "Epoch 8/1000:   1%|▎                                         | 8/1000 [13:22<27:37:24, 100.25s/it, v_num=4tyk, train_loss_step=2.07e+3, train_loss_epoch=1.99e+3]"
     ]
    },
    {
     "name": "stdout",
     "output_type": "stream",
     "text": [
      "\r",
      "Epoch 8/1000:   1%|▎                                         | 8/1000 [13:22<27:37:24, 100.25s/it, v_num=4tyk, train_loss_step=2.07e+3, train_loss_epoch=1.98e+3]"
     ]
    },
    {
     "name": "stdout",
     "output_type": "stream",
     "text": [
      "\r",
      "Epoch 9/1000:   1%|▎                                         | 8/1000 [13:22<27:37:24, 100.25s/it, v_num=4tyk, train_loss_step=2.07e+3, train_loss_epoch=1.98e+3]"
     ]
    },
    {
     "name": "stdout",
     "output_type": "stream",
     "text": [
      "\r",
      "Epoch 9/1000:   1%|▍                                         | 9/1000 [15:04<27:45:58, 100.87s/it, v_num=4tyk, train_loss_step=2.07e+3, train_loss_epoch=1.98e+3]"
     ]
    },
    {
     "name": "stdout",
     "output_type": "stream",
     "text": [
      "\r",
      "Epoch 9/1000:   1%|▍                                         | 9/1000 [15:04<27:45:58, 100.87s/it, v_num=4tyk, train_loss_step=2.03e+3, train_loss_epoch=1.98e+3]"
     ]
    },
    {
     "name": "stdout",
     "output_type": "stream",
     "text": [
      "\r",
      "Epoch 10/1000:   1%|▎                                        | 9/1000 [15:04<27:45:58, 100.87s/it, v_num=4tyk, train_loss_step=2.03e+3, train_loss_epoch=1.98e+3]"
     ]
    },
    {
     "name": "stdout",
     "output_type": "stream",
     "text": [
      "\r",
      "Epoch 10/1000:   1%|▍                                       | 10/1000 [16:44<27:39:02, 100.55s/it, v_num=4tyk, train_loss_step=2.03e+3, train_loss_epoch=1.98e+3]"
     ]
    },
    {
     "name": "stdout",
     "output_type": "stream",
     "text": [
      "\r",
      "Epoch 10/1000:   1%|▍                                       | 10/1000 [16:44<27:39:02, 100.55s/it, v_num=4tyk, train_loss_step=1.96e+3, train_loss_epoch=1.98e+3]"
     ]
    },
    {
     "name": "stdout",
     "output_type": "stream",
     "text": [
      "\r",
      "Epoch 11/1000:   1%|▍                                       | 10/1000 [16:44<27:39:02, 100.55s/it, v_num=4tyk, train_loss_step=1.96e+3, train_loss_epoch=1.98e+3]"
     ]
    },
    {
     "name": "stdout",
     "output_type": "stream",
     "text": [
      "\r",
      "Epoch 11/1000:   1%|▍                                        | 11/1000 [18:22<27:26:14, 99.87s/it, v_num=4tyk, train_loss_step=1.96e+3, train_loss_epoch=1.98e+3]"
     ]
    },
    {
     "name": "stdout",
     "output_type": "stream",
     "text": [
      "\r",
      "Epoch 11/1000:   1%|▍                                        | 11/1000 [18:22<27:26:14, 99.87s/it, v_num=4tyk, train_loss_step=2.01e+3, train_loss_epoch=1.98e+3]"
     ]
    },
    {
     "name": "stdout",
     "output_type": "stream",
     "text": [
      "\r",
      "Epoch 12/1000:   1%|▍                                        | 11/1000 [18:22<27:26:14, 99.87s/it, v_num=4tyk, train_loss_step=2.01e+3, train_loss_epoch=1.98e+3]"
     ]
    },
    {
     "name": "stdout",
     "output_type": "stream",
     "text": [
      "\r",
      "Epoch 12/1000:   1%|▍                                       | 12/1000 [20:03<27:29:17, 100.16s/it, v_num=4tyk, train_loss_step=2.01e+3, train_loss_epoch=1.98e+3]"
     ]
    },
    {
     "name": "stdout",
     "output_type": "stream",
     "text": [
      "\r",
      "Epoch 12/1000:   1%|▍                                       | 12/1000 [20:03<27:29:17, 100.16s/it, v_num=4tyk, train_loss_step=2.05e+3, train_loss_epoch=1.98e+3]"
     ]
    },
    {
     "name": "stdout",
     "output_type": "stream",
     "text": [
      "\r",
      "Epoch 13/1000:   1%|▍                                       | 12/1000 [20:03<27:29:17, 100.16s/it, v_num=4tyk, train_loss_step=2.05e+3, train_loss_epoch=1.98e+3]"
     ]
    },
    {
     "name": "stdout",
     "output_type": "stream",
     "text": [
      "\r",
      "Epoch 13/1000:   1%|▌                                        | 13/1000 [21:42<27:21:09, 99.77s/it, v_num=4tyk, train_loss_step=2.05e+3, train_loss_epoch=1.98e+3]"
     ]
    },
    {
     "name": "stdout",
     "output_type": "stream",
     "text": [
      "\r",
      "Epoch 13/1000:   1%|▌                                        | 13/1000 [21:42<27:21:09, 99.77s/it, v_num=4tyk, train_loss_step=2.04e+3, train_loss_epoch=1.98e+3]"
     ]
    },
    {
     "name": "stdout",
     "output_type": "stream",
     "text": [
      "\r",
      "Epoch 14/1000:   1%|▌                                        | 13/1000 [21:42<27:21:09, 99.77s/it, v_num=4tyk, train_loss_step=2.04e+3, train_loss_epoch=1.98e+3]"
     ]
    },
    {
     "name": "stdout",
     "output_type": "stream",
     "text": [
      "\r",
      "Epoch 14/1000:   1%|▌                                        | 14/1000 [23:22<27:21:09, 99.87s/it, v_num=4tyk, train_loss_step=2.04e+3, train_loss_epoch=1.98e+3]"
     ]
    },
    {
     "name": "stdout",
     "output_type": "stream",
     "text": [
      "\r",
      "Epoch 14/1000:   1%|▌                                        | 14/1000 [23:22<27:21:09, 99.87s/it, v_num=4tyk, train_loss_step=2.01e+3, train_loss_epoch=1.98e+3]"
     ]
    },
    {
     "name": "stdout",
     "output_type": "stream",
     "text": [
      "\r",
      "Epoch 15/1000:   1%|▌                                        | 14/1000 [23:22<27:21:09, 99.87s/it, v_num=4tyk, train_loss_step=2.01e+3, train_loss_epoch=1.98e+3]"
     ]
    },
    {
     "name": "stdout",
     "output_type": "stream",
     "text": [
      "\r",
      "Epoch 15/1000:   2%|▌                                       | 15/1000 [25:04<27:28:20, 100.41s/it, v_num=4tyk, train_loss_step=2.01e+3, train_loss_epoch=1.98e+3]"
     ]
    },
    {
     "name": "stdout",
     "output_type": "stream",
     "text": [
      "\r",
      "Epoch 15/1000:   2%|▌                                       | 15/1000 [25:04<27:28:20, 100.41s/it, v_num=4tyk, train_loss_step=1.93e+3, train_loss_epoch=1.98e+3]"
     ]
    },
    {
     "name": "stdout",
     "output_type": "stream",
     "text": [
      "\r",
      "Epoch 16/1000:   2%|▌                                       | 15/1000 [25:04<27:28:20, 100.41s/it, v_num=4tyk, train_loss_step=1.93e+3, train_loss_epoch=1.98e+3]"
     ]
    },
    {
     "name": "stdout",
     "output_type": "stream",
     "text": [
      "\r",
      "Epoch 16/1000:   2%|▋                                        | 16/1000 [26:42<27:14:39, 99.67s/it, v_num=4tyk, train_loss_step=1.93e+3, train_loss_epoch=1.98e+3]"
     ]
    },
    {
     "name": "stdout",
     "output_type": "stream",
     "text": [
      "\r",
      "Epoch 16/1000:   2%|▋                                        | 16/1000 [26:42<27:14:39, 99.67s/it, v_num=4tyk, train_loss_step=2.05e+3, train_loss_epoch=1.98e+3]"
     ]
    },
    {
     "name": "stdout",
     "output_type": "stream",
     "text": [
      "\r",
      "Epoch 17/1000:   2%|▋                                        | 16/1000 [26:42<27:14:39, 99.67s/it, v_num=4tyk, train_loss_step=2.05e+3, train_loss_epoch=1.98e+3]"
     ]
    },
    {
     "name": "stdout",
     "output_type": "stream",
     "text": [
      "\r",
      "Epoch 17/1000:   2%|▋                                       | 17/1000 [28:23<27:20:48, 100.15s/it, v_num=4tyk, train_loss_step=2.05e+3, train_loss_epoch=1.98e+3]"
     ]
    },
    {
     "name": "stdout",
     "output_type": "stream",
     "text": [
      "\r",
      "Epoch 17/1000:   2%|▋                                       | 17/1000 [28:23<27:20:48, 100.15s/it, v_num=4tyk, train_loss_step=1.99e+3, train_loss_epoch=1.98e+3]"
     ]
    },
    {
     "name": "stdout",
     "output_type": "stream",
     "text": [
      "\r",
      "Epoch 18/1000:   2%|▋                                       | 17/1000 [28:23<27:20:48, 100.15s/it, v_num=4tyk, train_loss_step=1.99e+3, train_loss_epoch=1.98e+3]"
     ]
    },
    {
     "name": "stdout",
     "output_type": "stream",
     "text": [
      "\r",
      "Epoch 18/1000:   2%|▋                                        | 18/1000 [30:02<27:13:57, 99.83s/it, v_num=4tyk, train_loss_step=1.99e+3, train_loss_epoch=1.98e+3]"
     ]
    },
    {
     "name": "stdout",
     "output_type": "stream",
     "text": [
      "\r",
      "Epoch 18/1000:   2%|▋                                        | 18/1000 [30:02<27:13:57, 99.83s/it, v_num=4tyk, train_loss_step=2.04e+3, train_loss_epoch=1.98e+3]"
     ]
    },
    {
     "name": "stdout",
     "output_type": "stream",
     "text": [
      "\r",
      "Epoch 19/1000:   2%|▋                                        | 18/1000 [30:02<27:13:57, 99.83s/it, v_num=4tyk, train_loss_step=2.04e+3, train_loss_epoch=1.98e+3]"
     ]
    },
    {
     "name": "stdout",
     "output_type": "stream",
     "text": [
      "\r",
      "Epoch 19/1000:   2%|▊                                       | 19/1000 [31:43<27:16:45, 100.11s/it, v_num=4tyk, train_loss_step=2.04e+3, train_loss_epoch=1.98e+3]"
     ]
    },
    {
     "name": "stdout",
     "output_type": "stream",
     "text": [
      "\r",
      "Epoch 19/1000:   2%|▊                                       | 19/1000 [31:43<27:16:45, 100.11s/it, v_num=4tyk, train_loss_step=2.01e+3, train_loss_epoch=1.98e+3]"
     ]
    },
    {
     "name": "stdout",
     "output_type": "stream",
     "text": [
      "\r",
      "Epoch 20/1000:   2%|▊                                       | 19/1000 [31:43<27:16:45, 100.11s/it, v_num=4tyk, train_loss_step=2.01e+3, train_loss_epoch=1.98e+3]"
     ]
    },
    {
     "name": "stdout",
     "output_type": "stream",
     "text": [
      "\r",
      "Epoch 20/1000:   2%|▊                                       | 20/1000 [33:26<27:28:08, 100.91s/it, v_num=4tyk, train_loss_step=2.01e+3, train_loss_epoch=1.98e+3]"
     ]
    },
    {
     "name": "stdout",
     "output_type": "stream",
     "text": [
      "\r",
      "Epoch 20/1000:   2%|▊                                        | 20/1000 [33:26<27:28:08, 100.91s/it, v_num=4tyk, train_loss_step=1.9e+3, train_loss_epoch=1.98e+3]"
     ]
    },
    {
     "name": "stdout",
     "output_type": "stream",
     "text": [
      "\r",
      "Epoch 21/1000:   2%|▊                                        | 20/1000 [33:26<27:28:08, 100.91s/it, v_num=4tyk, train_loss_step=1.9e+3, train_loss_epoch=1.98e+3]"
     ]
    },
    {
     "name": "stdout",
     "output_type": "stream",
     "text": [
      "\r",
      "Epoch 21/1000:   2%|▊                                        | 21/1000 [35:07<27:30:39, 101.16s/it, v_num=4tyk, train_loss_step=1.9e+3, train_loss_epoch=1.98e+3]"
     ]
    },
    {
     "name": "stdout",
     "output_type": "stream",
     "text": [
      "\r",
      "Epoch 21/1000:   2%|▊                                       | 21/1000 [35:07<27:30:39, 101.16s/it, v_num=4tyk, train_loss_step=2.04e+3, train_loss_epoch=1.98e+3]"
     ]
    },
    {
     "name": "stdout",
     "output_type": "stream",
     "text": [
      "\r",
      "Epoch 22/1000:   2%|▊                                       | 21/1000 [35:07<27:30:39, 101.16s/it, v_num=4tyk, train_loss_step=2.04e+3, train_loss_epoch=1.98e+3]"
     ]
    },
    {
     "name": "stdout",
     "output_type": "stream",
     "text": [
      "\r",
      "Epoch 22/1000:   2%|▉                                       | 22/1000 [36:49<27:30:06, 101.23s/it, v_num=4tyk, train_loss_step=2.04e+3, train_loss_epoch=1.98e+3]"
     ]
    },
    {
     "name": "stdout",
     "output_type": "stream",
     "text": [
      "\r",
      "Epoch 22/1000:   2%|▉                                       | 22/1000 [36:49<27:30:06, 101.23s/it, v_num=4tyk, train_loss_step=1.95e+3, train_loss_epoch=1.98e+3]"
     ]
    },
    {
     "name": "stdout",
     "output_type": "stream",
     "text": [
      "\r",
      "Epoch 23/1000:   2%|▉                                       | 22/1000 [36:49<27:30:06, 101.23s/it, v_num=4tyk, train_loss_step=1.95e+3, train_loss_epoch=1.98e+3]"
     ]
    },
    {
     "name": "stdout",
     "output_type": "stream",
     "text": [
      "\r",
      "Epoch 23/1000:   2%|▉                                       | 23/1000 [38:28<27:20:54, 100.77s/it, v_num=4tyk, train_loss_step=1.95e+3, train_loss_epoch=1.98e+3]"
     ]
    },
    {
     "name": "stdout",
     "output_type": "stream",
     "text": [
      "\r",
      "Epoch 23/1000:   2%|▉                                       | 23/1000 [38:28<27:20:54, 100.77s/it, v_num=4tyk, train_loss_step=2.02e+3, train_loss_epoch=1.98e+3]"
     ]
    },
    {
     "name": "stdout",
     "output_type": "stream",
     "text": [
      "\r",
      "Epoch 24/1000:   2%|▉                                       | 23/1000 [38:28<27:20:54, 100.77s/it, v_num=4tyk, train_loss_step=2.02e+3, train_loss_epoch=1.98e+3]"
     ]
    },
    {
     "name": "stdout",
     "output_type": "stream",
     "text": [
      "\r",
      "Epoch 24/1000:   2%|▉                                       | 24/1000 [40:09<27:19:33, 100.79s/it, v_num=4tyk, train_loss_step=2.02e+3, train_loss_epoch=1.98e+3]"
     ]
    },
    {
     "name": "stdout",
     "output_type": "stream",
     "text": [
      "\r",
      "Epoch 24/1000:   2%|▉                                       | 24/1000 [40:09<27:19:33, 100.79s/it, v_num=4tyk, train_loss_step=2.01e+3, train_loss_epoch=1.98e+3]"
     ]
    },
    {
     "name": "stdout",
     "output_type": "stream",
     "text": [
      "\r",
      "Epoch 25/1000:   2%|▉                                       | 24/1000 [40:09<27:19:33, 100.79s/it, v_num=4tyk, train_loss_step=2.01e+3, train_loss_epoch=1.98e+3]"
     ]
    },
    {
     "name": "stdout",
     "output_type": "stream",
     "text": [
      "\r",
      "Epoch 25/1000:   2%|█                                       | 25/1000 [41:50<27:16:50, 100.73s/it, v_num=4tyk, train_loss_step=2.01e+3, train_loss_epoch=1.98e+3]"
     ]
    },
    {
     "name": "stdout",
     "output_type": "stream",
     "text": [
      "\r",
      "Epoch 25/1000:   2%|█                                       | 25/1000 [41:50<27:16:50, 100.73s/it, v_num=4tyk, train_loss_step=2.11e+3, train_loss_epoch=1.98e+3]"
     ]
    },
    {
     "name": "stdout",
     "output_type": "stream",
     "text": [
      "\r",
      "Epoch 26/1000:   2%|█                                       | 25/1000 [41:50<27:16:50, 100.73s/it, v_num=4tyk, train_loss_step=2.11e+3, train_loss_epoch=1.98e+3]"
     ]
    },
    {
     "name": "stdout",
     "output_type": "stream",
     "text": [
      "\r",
      "Epoch 26/1000:   3%|█                                       | 26/1000 [43:30<27:13:05, 100.60s/it, v_num=4tyk, train_loss_step=2.11e+3, train_loss_epoch=1.98e+3]"
     ]
    },
    {
     "name": "stdout",
     "output_type": "stream",
     "text": [
      "\r",
      "Epoch 26/1000:   3%|█                                       | 26/1000 [43:30<27:13:05, 100.60s/it, v_num=4tyk, train_loss_step=2.06e+3, train_loss_epoch=1.98e+3]"
     ]
    },
    {
     "name": "stdout",
     "output_type": "stream",
     "text": [
      "\r",
      "Epoch 26/1000:   3%|█                                       | 26/1000 [43:30<27:09:57, 100.41s/it, v_num=4tyk, train_loss_step=2.06e+3, train_loss_epoch=1.98e+3]"
     ]
    },
    {
     "name": "stdout",
     "output_type": "stream",
     "text": [
      "\n",
      "Monitored metric reconstruction_loss_validation did not improve in the last 2 records. Best score: 1973.550. Signaling Trainer to stop.\n"
     ]
    }
   ],
   "source": [
    "scvi_model.train(logger=logger, datasplitter_kwargs=datasplitter_kwargs, plan_kwargs = plan_kwargs, **trainer_kwargs)"
   ]
  },
  {
   "cell_type": "code",
   "execution_count": 21,
   "id": "599af344-d9cc-4893-9f65-40c2c74bc659",
   "metadata": {
    "execution": {
     "iopub.execute_input": "2024-10-22T18:34:20.300968Z",
     "iopub.status.busy": "2024-10-22T18:34:20.300510Z",
     "iopub.status.idle": "2024-10-22T18:34:25.766806Z",
     "shell.execute_reply": "2024-10-22T18:34:25.765780Z"
    },
    "papermill": {
     "duration": 5.488195,
     "end_time": "2024-10-22T18:34:25.770174",
     "exception": false,
     "start_time": "2024-10-22T18:34:20.281979",
     "status": "completed"
    },
    "tags": []
   },
   "outputs": [
    {
     "name": "stderr",
     "output_type": "stream",
     "text": [
      "\u001b[34m\u001b[1mwandb\u001b[0m: - 0.005 MB of 0.005 MB uploaded\r"
     ]
    },
    {
     "name": "stderr",
     "output_type": "stream",
     "text": [
      "\u001b[34m\u001b[1mwandb\u001b[0m: \\ 0.026 MB of 0.026 MB uploaded\r"
     ]
    },
    {
     "name": "stderr",
     "output_type": "stream",
     "text": [
      "\u001b[34m\u001b[1mwandb\u001b[0m: | 0.026 MB of 0.026 MB uploaded\r"
     ]
    },
    {
     "name": "stderr",
     "output_type": "stream",
     "text": [
      "\u001b[34m\u001b[1mwandb\u001b[0m: / 0.026 MB of 0.026 MB uploaded\r"
     ]
    },
    {
     "name": "stderr",
     "output_type": "stream",
     "text": [
      "\u001b[34m\u001b[1mwandb\u001b[0m:                                                                                \n"
     ]
    },
    {
     "name": "stderr",
     "output_type": "stream",
     "text": [
      "\u001b[34m\u001b[1mwandb\u001b[0m: \n",
      "\u001b[34m\u001b[1mwandb\u001b[0m: Run history:\n",
      "\u001b[34m\u001b[1mwandb\u001b[0m:                     elbo_train █▆▄▄▃▃▃▂▂▂▂▂▂▂▁▁▁▁▁▁▁▁▁▁▁▁\n",
      "\u001b[34m\u001b[1mwandb\u001b[0m:                elbo_validation █▅▄▃▃▃▂▂▂▂▂▂▂▂▁▁▁▁▁▁▁▁▁▁▁▁\n",
      "\u001b[34m\u001b[1mwandb\u001b[0m:                          epoch ▁▁▁▂▂▂▂▂▂▂▃▃▃▃▄▄▄▄▄▄▅▅▅▅▅▅▆▆▆▆▆▇▇▇▇▇▇███\n",
      "\u001b[34m\u001b[1mwandb\u001b[0m:                kl_global_train ▁▁▁▁▁▁▁▁▁▁▁▁▁▁▁▁▁▁▁▁▁▁▁▁▁▁\n",
      "\u001b[34m\u001b[1mwandb\u001b[0m:           kl_global_validation ▁▁▁▁▁▁▁▁▁▁▁▁▁▁▁▁▁▁▁▁▁▁▁▁▁▁\n",
      "\u001b[34m\u001b[1mwandb\u001b[0m:                 kl_local_train ▇█▆▅▄▄▃▃▃▂▂▂▂▂▂▂▂▁▁▁▁▁▁▁▁▁\n",
      "\u001b[34m\u001b[1mwandb\u001b[0m:            kl_local_validation █▅▄▃▃▃▂▂▂▂▂▂▂▁▁▁▁▁▁▁▁▁▁▁▁▁\n",
      "\u001b[34m\u001b[1mwandb\u001b[0m:                      kl_weight ▁▁▁▂▂▂▂▂▂▃▃▃▃▃▄▄▄▄▄▄▅▅▅▅▅▅▆▆▆▆▆▇▇▇▇▇▇███\n",
      "\u001b[34m\u001b[1mwandb\u001b[0m:      reconstruction_loss_train █▃▃▂▂▂▂▂▂▂▁▁▁▁▁▁▁▁▁▁▁▁▁▁▁▁\n",
      "\u001b[34m\u001b[1mwandb\u001b[0m: reconstruction_loss_validation █▅▄▃▃▃▂▂▂▂▂▂▂▂▂▁▁▁▁▁▁▁▁▁▁▁\n",
      "\u001b[34m\u001b[1mwandb\u001b[0m:               train_loss_epoch █▃▂▂▂▂▂▂▁▁▁▁▁▁▁▁▁▁▁▁▁▁▁▁▁▁\n",
      "\u001b[34m\u001b[1mwandb\u001b[0m:                train_loss_step ▄▆▅▄█▆▆▃▅▇▁▆▃▄▄▇▃▅▅▄▃▃▃▃▂▅▂▃▁█▅▄▂▄▃▆▂▇▄▇\n",
      "\u001b[34m\u001b[1mwandb\u001b[0m:            trainer/global_step ▁▁▁▂▂▂▂▂▂▃▃▃▃▃▃▄▄▄▄▄▅▅▅▅▅▅▆▆▆▆▆▇▇▇▇▇▇███\n",
      "\u001b[34m\u001b[1mwandb\u001b[0m:                validation_loss █▅▄▃▃▃▂▂▂▂▂▂▂▁▁▁▁▁▁▁▁▁▁▁▁▁\n",
      "\u001b[34m\u001b[1mwandb\u001b[0m: \n",
      "\u001b[34m\u001b[1mwandb\u001b[0m: Run summary:\n",
      "\u001b[34m\u001b[1mwandb\u001b[0m:                     elbo_train 2029.09912\n",
      "\u001b[34m\u001b[1mwandb\u001b[0m:                elbo_validation 2025.19678\n",
      "\u001b[34m\u001b[1mwandb\u001b[0m:                          epoch 25\n",
      "\u001b[34m\u001b[1mwandb\u001b[0m:                kl_global_train 0.0\n",
      "\u001b[34m\u001b[1mwandb\u001b[0m:           kl_global_validation 0.0\n",
      "\u001b[34m\u001b[1mwandb\u001b[0m:                 kl_local_train 53.58863\n",
      "\u001b[34m\u001b[1mwandb\u001b[0m:            kl_local_validation 51.74586\n",
      "\u001b[34m\u001b[1mwandb\u001b[0m:                      kl_weight 0.0625\n",
      "\u001b[34m\u001b[1mwandb\u001b[0m:      reconstruction_loss_train 1975.5105\n",
      "\u001b[34m\u001b[1mwandb\u001b[0m: reconstruction_loss_validation 1973.45093\n",
      "\u001b[34m\u001b[1mwandb\u001b[0m:               train_loss_epoch 1978.85205\n",
      "\u001b[34m\u001b[1mwandb\u001b[0m:                train_loss_step 2116.86084\n",
      "\u001b[34m\u001b[1mwandb\u001b[0m:            trainer/global_step 138241\n",
      "\u001b[34m\u001b[1mwandb\u001b[0m:                validation_loss 1976.68481\n",
      "\u001b[34m\u001b[1mwandb\u001b[0m: \n"
     ]
    },
    {
     "name": "stderr",
     "output_type": "stream",
     "text": [
      "\u001b[34m\u001b[1mwandb\u001b[0m: 🚀 View run \u001b[33mMAINobj_scVI_pretraining_noRBCnPlat\u001b[0m at: \u001b[34m\u001b[4mhttps://wandb.ai/inflammation/inflammation_atlas_R1_scANVI_batches/runs/vi1j4tyk/workspace\u001b[0m\n",
      "\u001b[34m\u001b[1mwandb\u001b[0m: Synced 6 W&B file(s), 0 media file(s), 0 artifact file(s) and 0 other file(s)\n"
     ]
    },
    {
     "name": "stderr",
     "output_type": "stream",
     "text": [
      "\u001b[34m\u001b[1mwandb\u001b[0m: Find logs at: \u001b[35m\u001b[1m./wandb/run-20241022_175043-vi1j4tyk/logs\u001b[0m\n"
     ]
    }
   ],
   "source": [
    "wandb.finish()"
   ]
  },
  {
   "cell_type": "code",
   "execution_count": 22,
   "id": "21287012-c472-4af7-896e-e3eb055f5f48",
   "metadata": {
    "execution": {
     "iopub.execute_input": "2024-10-22T18:34:25.811777Z",
     "iopub.status.busy": "2024-10-22T18:34:25.811197Z",
     "iopub.status.idle": "2024-10-22T18:34:38.770881Z",
     "shell.execute_reply": "2024-10-22T18:34:38.769878Z"
    },
    "papermill": {
     "duration": 12.981601,
     "end_time": "2024-10-22T18:34:38.774506",
     "exception": false,
     "start_time": "2024-10-22T18:34:25.792905",
     "status": "completed"
    },
    "tags": []
   },
   "outputs": [],
   "source": [
    "if overwriteData:\n",
    "    scvi_model.save(here(f\"{workingDir}/results/scVI_model_pretreined_batches/\"), \n",
    "               overwrite = True, \n",
    "               save_anndata = True)"
   ]
  },
  {
   "cell_type": "code",
   "execution_count": 23,
   "id": "2ff8243e-e753-470a-9ff2-6f34aaa1d706",
   "metadata": {
    "execution": {
     "iopub.execute_input": "2024-10-22T18:34:38.818429Z",
     "iopub.status.busy": "2024-10-22T18:34:38.817398Z",
     "iopub.status.idle": "2024-10-22T18:35:03.874786Z",
     "shell.execute_reply": "2024-10-22T18:35:03.873199Z"
    },
    "papermill": {
     "duration": 25.074564,
     "end_time": "2024-10-22T18:35:03.878485",
     "exception": false,
     "start_time": "2024-10-22T18:34:38.803921",
     "status": "completed"
    },
    "tags": []
   },
   "outputs": [],
   "source": [
    "scvi_emb = scvi_model.get_latent_representation(adata=adata)"
   ]
  },
  {
   "cell_type": "code",
   "execution_count": 24,
   "id": "bc47465b-8ddd-41ae-93eb-3faaa243cbf1",
   "metadata": {
    "execution": {
     "iopub.execute_input": "2024-10-22T18:35:03.915406Z",
     "iopub.status.busy": "2024-10-22T18:35:03.914616Z",
     "iopub.status.idle": "2024-10-22T18:35:07.942642Z",
     "shell.execute_reply": "2024-10-22T18:35:07.941109Z"
    },
    "papermill": {
     "duration": 4.044669,
     "end_time": "2024-10-22T18:35:07.946578",
     "exception": false,
     "start_time": "2024-10-22T18:35:03.901909",
     "status": "completed"
    },
    "tags": []
   },
   "outputs": [],
   "source": [
    "np.savez_compressed(file = str(here(f\"{workingDir}/results/scVI_model_pretreined_batches/scVI_embedding.npz\")), arr=scvi_emb)"
   ]
  },
  {
   "cell_type": "code",
   "execution_count": null,
   "id": "0dea08c0-9da4-482e-adc4-d8d59f0d0868",
   "metadata": {
    "papermill": {
     "duration": 0.011924,
     "end_time": "2024-10-22T18:35:07.979475",
     "exception": false,
     "start_time": "2024-10-22T18:35:07.967551",
     "status": "completed"
    },
    "tags": []
   },
   "outputs": [],
   "source": []
  }
 ],
 "metadata": {
  "kernelspec": {
   "display_name": "Python 3 (ipykernel)",
   "language": "python",
   "name": "python3"
  },
  "language_info": {
   "codemirror_mode": {
    "name": "ipython",
    "version": 3
   },
   "file_extension": ".py",
   "mimetype": "text/x-python",
   "name": "python",
   "nbconvert_exporter": "python",
   "pygments_lexer": "ipython3",
   "version": "3.12.3"
  },
  "papermill": {
   "default_parameters": {},
   "duration": 2712.647181,
   "end_time": "2024-10-22T18:35:11.668643",
   "environment_variables": {},
   "exception": null,
   "input_path": "01_preTraining_scVI_batches.ipynb",
   "output_path": "01_preTraining_scVI_batches.executed.ipynb",
   "parameters": {},
   "start_time": "2024-10-22T17:49:59.021462",
   "version": "2.5.0"
  }
 },
 "nbformat": 4,
 "nbformat_minor": 5
}
