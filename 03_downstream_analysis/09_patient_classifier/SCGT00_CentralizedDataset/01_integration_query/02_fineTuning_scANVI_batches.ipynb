{
 "cells": [
  {
   "cell_type": "code",
   "execution_count": 1,
   "id": "044a9326-0745-430b-a00f-48663be02989",
   "metadata": {
    "execution": {
     "iopub.execute_input": "2024-10-22T16:31:01.592142Z",
     "iopub.status.busy": "2024-10-22T16:31:01.591559Z",
     "iopub.status.idle": "2024-10-22T16:31:05.425990Z",
     "shell.execute_reply": "2024-10-22T16:31:05.425148Z",
     "shell.execute_reply.started": "2024-10-22T16:31:01.592086Z"
    },
    "papermill": {
     "duration": 4.801442,
     "end_time": "2024-05-24T08:59:13.048825",
     "exception": false,
     "start_time": "2024-05-24T08:59:08.247383",
     "status": "completed"
    },
    "tags": []
   },
   "outputs": [
    {
     "name": "stderr",
     "output_type": "stream",
     "text": [
      "WARNING:root:In order to use the mouse gastrulation seqFISH datsets, please install squidpy (see https://github.com/scverse/squidpy).\n",
      "/home/dmaspero/miniconda3/envs/scarches/lib/python3.9/site-packages/tqdm/auto.py:21: TqdmWarning: IProgress not found. Please update jupyter and ipywidgets. See https://ipywidgets.readthedocs.io/en/stable/user_install.html\n",
      "  from .autonotebook import tqdm as notebook_tqdm\n",
      "WARNING:root:In order to use sagenet models, please install pytorch geometric (see https://pytorch-geometric.readthedocs.io) and \n",
      " captum (see https://github.com/pytorch/captum).\n",
      "WARNING:root:mvTCR is not installed. To use mvTCR models, please install it first using \"pip install mvtcr\"\n",
      "WARNING:root:multigrate is not installed. To use multigrate models, please install it first using \"pip install multigrate\".\n",
      "INFO: Seed set to 42\n",
      "INFO:lightning.fabric.utilities.seed:Seed set to 42\n"
     ]
    }
   ],
   "source": [
    "import os\n",
    "import sys\n",
    "\n",
    "import json\n",
    "\n",
    "import numpy as np\n",
    "import scanpy as sc\n",
    "import pandas as pd\n",
    "import matplotlib.pyplot as plt\n",
    "import seaborn as sns\n",
    "from sklearn.metrics import classification_report\n",
    "\n",
    "import scarches as sca\n",
    "from scarches.dataset.trvae.data_handling import remove_sparsity\n",
    "import matplotlib.pyplot as plt\n",
    "\n",
    "from lightning.pytorch.callbacks import ModelCheckpoint\n",
    "\n",
    "import torch\n",
    "\n",
    "from dotenv import load_dotenv\n",
    "\n",
    "from lightning.pytorch.loggers import WandbLogger\n",
    "import wandb\n",
    "\n",
    "import session_info\n",
    "import warnings\n",
    "from pyprojroot.here import here\n",
    "\n",
    "#plt.style.use(['science','nature','no-latex'])\n",
    "dpi_fig_save = 300\n",
    "sc.set_figure_params(dpi=100, dpi_save=dpi_fig_save, vector_friendly=True)\n",
    "\n",
    "# Setting some parameters\n",
    "warnings.filterwarnings(\"ignore\")\n",
    "\n",
    "from sklearn.model_selection import StratifiedKFold\n",
    "\n",
    "overwriteData = True\n",
    "overwriteFigures = True\n",
    "\n",
    "# Set random seed\n",
    "random_seed = 42\n",
    "\n",
    "import warnings\n",
    "warnings.filterwarnings('ignore')\n",
    "\n",
    "import scvi\n",
    "scvi.settings.dl_num_workers = 0\n",
    "scvi.settings.seed = random_seed\n",
    "\n",
    "#torch.set_float32_matmul_precision('high')\n",
    "#torch.set_printoptions(precision=3, sci_mode=False, edgeitems=7)\n",
    "# torch.multiprocessing.set_sharing_strategy('file_system')\n",
    "\n",
    "%load_ext autoreload\n",
    "%autoreload 2"
   ]
  },
  {
   "cell_type": "code",
   "execution_count": 2,
   "id": "e9230839-98a4-4ab3-a28a-05e68e858dd0",
   "metadata": {
    "execution": {
     "iopub.execute_input": "2024-10-22T16:31:07.776091Z",
     "iopub.status.busy": "2024-10-22T16:31:07.774955Z",
     "iopub.status.idle": "2024-10-22T16:31:07.841559Z",
     "shell.execute_reply": "2024-10-22T16:31:07.840774Z",
     "shell.execute_reply.started": "2024-10-22T16:31:07.776024Z"
    },
    "papermill": {
     "duration": 0.05748,
     "end_time": "2024-05-24T08:59:13.482794",
     "exception": false,
     "start_time": "2024-05-24T08:59:13.425314",
     "status": "completed"
    },
    "tags": []
   },
   "outputs": [],
   "source": [
    "assert load_dotenv()"
   ]
  },
  {
   "cell_type": "code",
   "execution_count": 3,
   "id": "6af74995-eeba-493d-999c-501287dd809c",
   "metadata": {
    "execution": {
     "iopub.execute_input": "2024-10-22T16:31:07.950144Z",
     "iopub.status.busy": "2024-10-22T16:31:07.949636Z",
     "iopub.status.idle": "2024-10-22T16:31:08.004402Z",
     "shell.execute_reply": "2024-10-22T16:31:08.003297Z",
     "shell.execute_reply.started": "2024-10-22T16:31:07.950092Z"
    },
    "papermill": {
     "duration": 0.047411,
     "end_time": "2024-05-24T08:59:13.534008",
     "exception": false,
     "start_time": "2024-05-24T08:59:13.486597",
     "status": "completed"
    },
    "tags": []
   },
   "outputs": [
    {
     "data": {
      "text/plain": [
       "PosixPath('/scratch_isilon/groups/singlecell/shared/projects/Inflammation-PBMCs-Atlas/04_visualizing_final_embedding_space/SCGT00_CentralizedDataset')"
      ]
     },
     "execution_count": 3,
     "metadata": {},
     "output_type": "execute_result"
    }
   ],
   "source": [
    "workingDir = here('04_visualizing_final_embedding_space/SCGT00_CentralizedDataset/')\n",
    "workingDir"
   ]
  },
  {
   "cell_type": "code",
   "execution_count": 4,
   "id": "1dae1184-00db-4d0c-8e49-42b1df5f9d30",
   "metadata": {
    "execution": {
     "iopub.execute_input": "2024-10-22T16:31:08.104399Z",
     "iopub.status.busy": "2024-10-22T16:31:08.103869Z",
     "iopub.status.idle": "2024-10-22T16:31:08.150481Z",
     "shell.execute_reply": "2024-10-22T16:31:08.149741Z",
     "shell.execute_reply.started": "2024-10-22T16:31:08.104348Z"
    },
    "papermill": {
     "duration": 0.045444,
     "end_time": "2024-05-24T08:59:13.583448",
     "exception": false,
     "start_time": "2024-05-24T08:59:13.538004",
     "status": "completed"
    },
    "tags": []
   },
   "outputs": [],
   "source": [
    "class CustomWandbLogger(WandbLogger):\n",
    "    @property\n",
    "    def save_dir(self):\n",
    "        \"\"\"Gets the save directory.\n",
    "\n",
    "        Returns:\n",
    "            The path to the save directory.\n",
    "\n",
    "        \"\"\"\n",
    "        return self.experiment.dir"
   ]
  },
  {
   "cell_type": "code",
   "execution_count": 5,
   "id": "70cb28c1-38c5-4910-98e5-a4d786f256d7",
   "metadata": {
    "execution": {
     "iopub.execute_input": "2024-10-22T16:31:08.262382Z",
     "iopub.status.busy": "2024-10-22T16:31:08.261302Z",
     "iopub.status.idle": "2024-10-22T16:31:08.311135Z",
     "shell.execute_reply": "2024-10-22T16:31:08.310289Z",
     "shell.execute_reply.started": "2024-10-22T16:31:08.262330Z"
    },
    "papermill": {
     "duration": 0.045065,
     "end_time": "2024-05-24T08:59:13.632345",
     "exception": false,
     "start_time": "2024-05-24T08:59:13.587280",
     "status": "completed"
    },
    "tags": []
   },
   "outputs": [
    {
     "data": {
      "text/plain": [
       "'1.1.2'"
      ]
     },
     "execution_count": 5,
     "metadata": {},
     "output_type": "execute_result"
    }
   ],
   "source": [
    "scvi.__version__"
   ]
  },
  {
   "cell_type": "markdown",
   "id": "e11bbe22-69a0-40d4-b609-7e108d2bcb46",
   "metadata": {
    "execution": {
     "iopub.execute_input": "2024-04-10T14:14:35.228151Z",
     "iopub.status.busy": "2024-04-10T14:14:35.226856Z",
     "iopub.status.idle": "2024-04-10T14:14:35.273260Z",
     "shell.execute_reply": "2024-04-10T14:14:35.272159Z",
     "shell.execute_reply.started": "2024-04-10T14:14:35.228101Z"
    },
    "papermill": {
     "duration": 0.003906,
     "end_time": "2024-05-24T08:59:13.640213",
     "exception": false,
     "start_time": "2024-05-24T08:59:13.636307",
     "status": "completed"
    },
    "tags": []
   },
   "source": [
    "# Loading data\n"
   ]
  },
  {
   "cell_type": "code",
   "execution_count": 6,
   "id": "f93686ba-9680-4b63-97c9-a0bc0a799c29",
   "metadata": {
    "execution": {
     "iopub.execute_input": "2024-10-22T16:31:08.556077Z",
     "iopub.status.busy": "2024-10-22T16:31:08.555569Z",
     "iopub.status.idle": "2024-10-22T16:31:26.557449Z",
     "shell.execute_reply": "2024-10-22T16:31:26.556169Z",
     "shell.execute_reply.started": "2024-10-22T16:31:08.556028Z"
    },
    "papermill": {
     "duration": 95.906203,
     "end_time": "2024-05-24T09:00:49.550662",
     "exception": false,
     "start_time": "2024-05-24T08:59:13.644459",
     "status": "completed"
    },
    "tags": []
   },
   "outputs": [],
   "source": [
    "# Load the h5ad file\n",
    "adata = sc.read_h5ad(here(f\"{workingDir}/results/scVI_model_pretreined/adata.h5ad\"))#, \n",
    "                     #backed='r+', chunk_size=50000)\n"
   ]
  },
  {
   "cell_type": "raw",
   "id": "dffbefc8-6895-4589-97f2-274cfc482fbd",
   "metadata": {
    "papermill": {
     "duration": 0.111154,
     "end_time": "2024-05-24T09:00:49.666365",
     "exception": false,
     "start_time": "2024-05-24T09:00:49.555211",
     "status": "completed"
    },
    "tags": []
   },
   "source": [
    "adata.obs['binned_age'] = adata.obs['binned_age'].astype(str)"
   ]
  },
  {
   "cell_type": "raw",
   "id": "3b00d51b-ffb9-4aa3-b875-227755b5fc60",
   "metadata": {
    "execution": {
     "iopub.execute_input": "2024-05-14T18:03:20.489783Z",
     "iopub.status.busy": "2024-05-14T18:03:20.488996Z",
     "iopub.status.idle": "2024-05-14T18:03:21.524929Z",
     "shell.execute_reply": "2024-05-14T18:03:21.523944Z",
     "shell.execute_reply.started": "2024-05-14T18:03:20.489755Z"
    },
    "papermill": {
     "duration": 0.004194,
     "end_time": "2024-05-24T09:00:49.675198",
     "exception": false,
     "start_time": "2024-05-24T09:00:49.671004",
     "status": "completed"
    },
    "tags": []
   },
   "source": [
    "adata.obs['binned_age_cod'] = adata.obs.binned_age.cat.codes\n",
    "adata.obs['chemistry_cod'] = adata.obs.chemistry.cat.codes\n",
    "adata.obs['libraryID_cod'] = adata.obs.libraryID.cat.codes\n",
    "adata.obs['studyID_cod'] = adata.obs.studyID.cat.codes\n",
    "adata.obs['sex_cod'] = adata.obs.sex.cat.codes\n",
    "adata.obs['Level1_cod'] = adata.obs.Level1.cat.codes.astype(str)"
   ]
  },
  {
   "cell_type": "markdown",
   "id": "b0be110e-257c-4c59-8f3a-13b27717eee6",
   "metadata": {
    "papermill": {
     "duration": 0.003953,
     "end_time": "2024-05-24T09:00:49.683286",
     "exception": false,
     "start_time": "2024-05-24T09:00:49.679333",
     "status": "completed"
    },
    "tags": []
   },
   "source": [
    "#### Preparing scANVI training"
   ]
  },
  {
   "cell_type": "code",
   "execution_count": 7,
   "id": "f2113194-479e-4d84-b832-e92354d2e69b",
   "metadata": {
    "execution": {
     "iopub.execute_input": "2024-10-22T16:31:26.558804Z",
     "iopub.status.busy": "2024-10-22T16:31:26.558614Z",
     "iopub.status.idle": "2024-10-22T16:31:30.589491Z",
     "shell.execute_reply": "2024-10-22T16:31:30.588874Z",
     "shell.execute_reply.started": "2024-10-22T16:31:26.558787Z"
    },
    "papermill": {
     "duration": 32.846557,
     "end_time": "2024-05-24T09:01:22.533683",
     "exception": false,
     "start_time": "2024-05-24T09:00:49.687126",
     "status": "completed"
    },
    "tags": []
   },
   "outputs": [
    {
     "name": "stdout",
     "output_type": "stream",
     "text": [
      "\u001b[34mINFO    \u001b[0m File                                                                                                      \n",
      "         \u001b[35m/scratch_isilon/groups/singlecell/shared/projects/Inflammation-PBMCs-Atlas/04_visualizing_final_embedding_space/SCGT00_CentralizedDataset/02_scANVI_integration_wit\u001b[0m\n",
      "         \u001b[35mh_annotation/results/scVI_model_pretreined_batches/\u001b[0m\u001b[95mmodel.pt\u001b[0m already downloaded                            \n"
     ]
    },
    {
     "name": "stderr",
     "output_type": "stream",
     "text": [
      "WARNING:jax._src.xla_bridge:CUDA backend failed to initialize: Unable to use CUDA because of the following issues with CUDA components:\n",
      "Outdated cuSPARSE installation found.\n",
      "Version JAX was built against: 12200\n",
      "Minimum supported: 12100\n",
      "Installed version: 12002\n",
      "The local installation version must be no lower than 12100. (Set TF_CPP_MIN_LOG_LEVEL=0 and rerun for more info.)\n"
     ]
    }
   ],
   "source": [
    "scvi_model = sca.models.SCVI.load(here(f\"{workingDir}/results/scVI_model_pretreined_batches/\"), adata=adata) "
   ]
  },
  {
   "cell_type": "markdown",
   "id": "539a994a-0db7-423e-a6e1-d89b2a47bc2b",
   "metadata": {
    "papermill": {
     "duration": 0.004363,
     "end_time": "2024-05-24T09:01:22.542750",
     "exception": false,
     "start_time": "2024-05-24T09:01:22.538387",
     "status": "completed"
    },
    "tags": []
   },
   "source": [
    "### Fine tuning with scANVI"
   ]
  },
  {
   "cell_type": "markdown",
   "id": "d2d15b0d-ee7d-4e57-a26a-eea547cf6a70",
   "metadata": {
    "papermill": {
     "duration": 0.003992,
     "end_time": "2024-05-24T09:01:22.550797",
     "exception": false,
     "start_time": "2024-05-24T09:01:22.546805",
     "status": "completed"
    },
    "tags": []
   },
   "source": [
    "**Parameters**"
   ]
  },
  {
   "cell_type": "code",
   "execution_count": 8,
   "id": "46c3857c-4d48-4326-8255-d0a718813b67",
   "metadata": {
    "execution": {
     "iopub.execute_input": "2024-10-22T16:31:30.590481Z",
     "iopub.status.busy": "2024-10-22T16:31:30.590257Z",
     "iopub.status.idle": "2024-10-22T16:31:30.621971Z",
     "shell.execute_reply": "2024-10-22T16:31:30.621569Z",
     "shell.execute_reply.started": "2024-10-22T16:31:30.590462Z"
    },
    "papermill": {
     "duration": 0.049794,
     "end_time": "2024-05-24T09:01:22.604900",
     "exception": false,
     "start_time": "2024-05-24T09:01:22.555106",
     "status": "completed"
    },
    "tags": []
   },
   "outputs": [],
   "source": [
    "scANVI_trainer_kwargs = dict(\n",
    "    n_samples_per_label = None,\n",
    "    check_val_every_n_epoch = None,\n",
    "    train_size = 0.8,\n",
    "    validation_size = 0.2,\n",
    "    shuffle_set_split = True,\n",
    "    checkpointing_monitor = 'elbo_validation',\n",
    "    early_stopping_monitor = 'reconstruction_loss_validation',\n",
    "    early_stopping_patience = 2,\n",
    "    early_stopping_min_delta=0.1,\n",
    "    early_stopping = True,\n",
    "    max_epochs = 1000,\n",
    ")\n",
    "# https://docs.scvi-tools.org/en/stable/api/reference/scvi.train.TrainingPlan.html#scvi.train.TrainingPlan\n",
    "plan_kwargs = dict(\n",
    "    lr = 5e-5,\n",
    "    #reduce_lr_on_plateau = True\n",
    ")\n",
    "datasplitter_kwargs = dict(pin_memory=False)\n",
    "scanvi_parameter_dict = scANVI_trainer_kwargs | plan_kwargs | datasplitter_kwargs"
   ]
  },
  {
   "cell_type": "code",
   "execution_count": 9,
   "id": "bf6c42eb-cbe2-4fe4-a495-fa1146bc9dbb",
   "metadata": {
    "execution": {
     "iopub.execute_input": "2024-10-22T16:31:30.623055Z",
     "iopub.status.busy": "2024-10-22T16:31:30.622904Z",
     "iopub.status.idle": "2024-10-22T16:31:30.652413Z",
     "shell.execute_reply": "2024-10-22T16:31:30.652041Z",
     "shell.execute_reply.started": "2024-10-22T16:31:30.623040Z"
    },
    "papermill": {
     "duration": 0.047705,
     "end_time": "2024-05-24T09:01:22.656698",
     "exception": false,
     "start_time": "2024-05-24T09:01:22.608993",
     "status": "completed"
    },
    "tags": []
   },
   "outputs": [
    {
     "data": {
      "text/plain": [
       "'MAINobj_scANVI_fineTuning_lowLR_batches'"
      ]
     },
     "execution_count": 9,
     "metadata": {},
     "output_type": "execute_result"
    }
   ],
   "source": [
    "run_name = f\"MAINobj_scANVI_fineTuning_lowLR_batches\"\n",
    "run_name"
   ]
  },
  {
   "cell_type": "code",
   "execution_count": 10,
   "id": "37bd7e04-22e9-457e-8090-24373f4b999f",
   "metadata": {
    "execution": {
     "iopub.execute_input": "2024-10-22T16:31:30.653060Z",
     "iopub.status.busy": "2024-10-22T16:31:30.652918Z",
     "iopub.status.idle": "2024-10-22T16:31:32.649862Z",
     "shell.execute_reply": "2024-10-22T16:31:32.649100Z",
     "shell.execute_reply.started": "2024-10-22T16:31:30.653046Z"
    },
    "papermill": {
     "duration": 27.352332,
     "end_time": "2024-05-24T09:01:50.013574",
     "exception": false,
     "start_time": "2024-05-24T09:01:22.661242",
     "status": "completed"
    },
    "tags": []
   },
   "outputs": [
    {
     "data": {
      "text/html": [
       "<pre style=\"white-space:pre;overflow-x:auto;line-height:normal;font-family:Menlo,'DejaVu Sans Mono',consolas,'Courier New',monospace\">ScanVI Model with the following params: \n",
       "unlabeled_category: unknown, n_hidden: <span style=\"color: #008080; text-decoration-color: #008080; font-weight: bold\">256</span>, n_latent: <span style=\"color: #008080; text-decoration-color: #008080; font-weight: bold\">30</span>, n_layers: <span style=\"color: #008080; text-decoration-color: #008080; font-weight: bold\">4</span>, dropout_rate: <span style=\"color: #008080; text-decoration-color: #008080; font-weight: bold\">0.1</span>, dispersion: gene, \n",
       "gene_likelihood: nb\n",
       "Training status: Not Trained\n",
       "Model's adata is minified?: <span style=\"color: #ff0000; text-decoration-color: #ff0000; font-style: italic\">False</span>\n",
       "</pre>\n"
      ],
      "text/plain": [
       "ScanVI Model with the following params: \n",
       "unlabeled_category: unknown, n_hidden: \u001b[1;36m256\u001b[0m, n_latent: \u001b[1;36m30\u001b[0m, n_layers: \u001b[1;36m4\u001b[0m, dropout_rate: \u001b[1;36m0.1\u001b[0m, dispersion: gene, \n",
       "gene_likelihood: nb\n",
       "Training status: Not Trained\n",
       "Model's adata is minified?: \u001b[3;91mFalse\u001b[0m\n"
      ]
     },
     "metadata": {},
     "output_type": "display_data"
    },
    {
     "data": {
      "text/plain": []
     },
     "execution_count": 10,
     "metadata": {},
     "output_type": "execute_result"
    }
   ],
   "source": [
    "scanvi_model = sca.models.SCANVI.from_scvi_model(scvi_model, unlabeled_category = \"unknown\")\n",
    "scanvi_model"
   ]
  },
  {
   "cell_type": "code",
   "execution_count": 11,
   "id": "68d49d42-ac94-4b26-bf21-f5e836b4d635",
   "metadata": {
    "execution": {
     "iopub.execute_input": "2024-10-22T16:31:32.650884Z",
     "iopub.status.busy": "2024-10-22T16:31:32.650688Z",
     "iopub.status.idle": "2024-10-22T16:31:32.709312Z",
     "shell.execute_reply": "2024-10-22T16:31:32.708241Z",
     "shell.execute_reply.started": "2024-10-22T16:31:32.650866Z"
    },
    "papermill": {
     "duration": 0.101107,
     "end_time": "2024-05-24T09:01:50.119340",
     "exception": false,
     "start_time": "2024-05-24T09:01:50.018233",
     "status": "completed"
    },
    "tags": []
   },
   "outputs": [],
   "source": [
    "logger = CustomWandbLogger(name = run_name, project='inflammation_atlas_R1_scANVI', config = scanvi_parameter_dict)"
   ]
  },
  {
   "cell_type": "raw",
   "id": "caad2522-7b8e-4d33-bdd3-b63091aa487d",
   "metadata": {
    "papermill": {
     "duration": 0.045481,
     "end_time": "2024-05-24T09:01:50.169524",
     "exception": false,
     "start_time": "2024-05-24T09:01:50.124043",
     "status": "completed"
    },
    "tags": []
   },
   "source": [
    "model_checkpoint = ModelCheckpoint(monitor='elbo_validation', every_n_epochs=1, save_last=True, save_top_k = -1, \n",
    "                                   dirpath=f\"{workingDir}/results/scANVI_model_fineTuned_lowLR_noRBCnPlat_checkpoints/\")"
   ]
  },
  {
   "cell_type": "code",
   "execution_count": null,
   "id": "a14ba1c8-d629-4d2e-b5f3-50420242a025",
   "metadata": {},
   "outputs": [],
   "source": []
  },
  {
   "cell_type": "code",
   "execution_count": null,
   "id": "027ef81c-e4bd-4473-a704-f010abb0ed9c",
   "metadata": {
    "execution": {
     "iopub.execute_input": "2024-10-22T16:31:32.711302Z",
     "iopub.status.busy": "2024-10-22T16:31:32.710530Z"
    }
   },
   "outputs": [
    {
     "name": "stdout",
     "output_type": "stream",
     "text": [
      "\u001b[34mINFO    \u001b[0m Training for \u001b[1;36m1000\u001b[0m epochs.                                                                                 \n"
     ]
    },
    {
     "name": "stderr",
     "output_type": "stream",
     "text": [
      "INFO: GPU available: True (cuda), used: True\n",
      "INFO:lightning.pytorch.utilities.rank_zero:GPU available: True (cuda), used: True\n",
      "INFO: TPU available: False, using: 0 TPU cores\n",
      "INFO:lightning.pytorch.utilities.rank_zero:TPU available: False, using: 0 TPU cores\n",
      "INFO: IPU available: False, using: 0 IPUs\n",
      "INFO:lightning.pytorch.utilities.rank_zero:IPU available: False, using: 0 IPUs\n",
      "INFO: HPU available: False, using: 0 HPUs\n",
      "INFO:lightning.pytorch.utilities.rank_zero:HPU available: False, using: 0 HPUs\n",
      "INFO: You are using a CUDA device ('NVIDIA RTX A6000') that has Tensor Cores. To properly utilize them, you should set `torch.set_float32_matmul_precision('medium' | 'high')` which will trade-off precision for performance. For more details, read https://pytorch.org/docs/stable/generated/torch.set_float32_matmul_precision.html#torch.set_float32_matmul_precision\n",
      "INFO:lightning.pytorch.utilities.rank_zero:You are using a CUDA device ('NVIDIA RTX A6000') that has Tensor Cores. To properly utilize them, you should set `torch.set_float32_matmul_precision('medium' | 'high')` which will trade-off precision for performance. For more details, read https://pytorch.org/docs/stable/generated/torch.set_float32_matmul_precision.html#torch.set_float32_matmul_precision\n",
      "\u001b[34m\u001b[1mwandb\u001b[0m: Currently logged in as: \u001b[33mdav1989\u001b[0m (\u001b[33minflammation\u001b[0m). Use \u001b[1m`wandb login --relogin`\u001b[0m to force relogin\n"
     ]
    },
    {
     "data": {
      "text/html": [
       "wandb version 0.18.5 is available!  To upgrade, please run:\n",
       " $ pip install wandb --upgrade"
      ],
      "text/plain": [
       "<IPython.core.display.HTML object>"
      ]
     },
     "metadata": {},
     "output_type": "display_data"
    },
    {
     "data": {
      "text/html": [
       "Tracking run with wandb version 0.16.5"
      ],
      "text/plain": [
       "<IPython.core.display.HTML object>"
      ]
     },
     "metadata": {},
     "output_type": "display_data"
    },
    {
     "data": {
      "text/html": [
       "Run data is saved locally in <code>./wandb/run-20241022_163135-pu1ua86i</code>"
      ],
      "text/plain": [
       "<IPython.core.display.HTML object>"
      ]
     },
     "metadata": {},
     "output_type": "display_data"
    },
    {
     "data": {
      "text/html": [
       "Syncing run <strong><a href='https://wandb.ai/inflammation/inflammation_atlas_R1_scANVI/runs/pu1ua86i/workspace' target=\"_blank\">MAINobj_scANVI_fineTuning_lowLR_batches</a></strong> to <a href='https://wandb.ai/inflammation/inflammation_atlas_R1_scANVI' target=\"_blank\">Weights & Biases</a> (<a href='https://wandb.me/run' target=\"_blank\">docs</a>)<br/>"
      ],
      "text/plain": [
       "<IPython.core.display.HTML object>"
      ]
     },
     "metadata": {},
     "output_type": "display_data"
    },
    {
     "data": {
      "text/html": [
       " View project at <a href='https://wandb.ai/inflammation/inflammation_atlas_R1_scANVI' target=\"_blank\">https://wandb.ai/inflammation/inflammation_atlas_R1_scANVI</a>"
      ],
      "text/plain": [
       "<IPython.core.display.HTML object>"
      ]
     },
     "metadata": {},
     "output_type": "display_data"
    },
    {
     "data": {
      "text/html": [
       " View run at <a href='https://wandb.ai/inflammation/inflammation_atlas_R1_scANVI/runs/pu1ua86i/workspace' target=\"_blank\">https://wandb.ai/inflammation/inflammation_atlas_R1_scANVI/runs/pu1ua86i/workspace</a>"
      ],
      "text/plain": [
       "<IPython.core.display.HTML object>"
      ]
     },
     "metadata": {},
     "output_type": "display_data"
    },
    {
     "name": "stderr",
     "output_type": "stream",
     "text": [
      "INFO: LOCAL_RANK: 0 - CUDA_VISIBLE_DEVICES: [0]\n",
      "INFO:lightning.pytorch.accelerators.cuda:LOCAL_RANK: 0 - CUDA_VISIBLE_DEVICES: [0]\n"
     ]
    },
    {
     "name": "stdout",
     "output_type": "stream",
     "text": [
      "Epoch 5/1000:   0%|▏                                         | 4/1000 [13:21<56:51:38, 205.52s/it, v_num=a86i, train_loss_step=1.89e+3, train_loss_epoch=1.99e+3]"
     ]
    }
   ],
   "source": [
    "scanvi_model.train(logger=logger, plan_kwargs = plan_kwargs, datasplitter_kwargs=datasplitter_kwargs, **scANVI_trainer_kwargs)"
   ]
  },
  {
   "cell_type": "raw",
   "id": "12a0495e-ec1d-48c4-88e0-cb858a81a560",
   "metadata": {
    "papermill": {
     "duration": 16856.192275,
     "end_time": "2024-05-24T13:42:46.366200",
     "exception": false,
     "start_time": "2024-05-24T09:01:50.173925",
     "status": "completed"
    },
    "tags": []
   },
   "source": [
    "try:\n",
    "    scanvi_model.train(logger=logger, plan_kwargs = plan_kwargs, datasplitter_kwargs=datasplitter_kwargs, \n",
    "                       enable_checkpointing=True, callbacks=[model_checkpoint], \n",
    "                       **scANVI_trainer_kwargs) #SAME parameter as scVI\n",
    "    scanvi_model.save(here(f\"{workingDir}/results/scANVI_model_fineTuned_lowLR_noRBCnPlat/\"),\n",
    "               overwrite = True, \n",
    "               save_anndata = False)\n",
    "    scanvi_emb = scanvi_model.get_latent_representation(adata=adata)\n",
    "    np.savez_compressed(file = str(here(f\"{workingDir}/results/scANVI_model_fineTuned_lowLR_noRBCnPlat/scANVI_embedding.npz\")), arr=scanvi_emb)\n",
    "    \n",
    "except Exception as e:\n",
    "    print(f\"An error occurred: {e}\")\n",
    "    scanvi_model.save(here(f\"{workingDir}/results/scANVI_model_fineTuned_lowLR_noRBCnPlat_WITHERRORS/\"), \n",
    "                      overwrite=True, \n",
    "                      save_anndata=False)"
   ]
  },
  {
   "cell_type": "code",
   "execution_count": null,
   "id": "86e8d70c-7314-410b-a2ab-e25eb3a4ad7c",
   "metadata": {
    "papermill": {
     "duration": 6.85439,
     "end_time": "2024-05-24T13:42:53.227540",
     "exception": false,
     "start_time": "2024-05-24T13:42:46.373150",
     "status": "completed"
    },
    "scrolled": true,
    "tags": []
   },
   "outputs": [],
   "source": [
    "wandb.finish()"
   ]
  },
  {
   "cell_type": "code",
   "execution_count": null,
   "id": "f60cac0d-8a47-48f8-83ac-4d6160ae893e",
   "metadata": {
    "papermill": {
     "duration": 0.00689,
     "end_time": "2024-05-24T13:42:53.242234",
     "exception": false,
     "start_time": "2024-05-24T13:42:53.235344",
     "status": "completed"
    },
    "tags": []
   },
   "outputs": [],
   "source": [
    "if overwriteData:\n",
    "    scanvi_model.save(here(f\"{workingDir}/results/scANVI_model_fineTuned_lowLR_batches/\"), \n",
    "                      overwrite = True, \n",
    "                      save_anndata = True)"
   ]
  },
  {
   "cell_type": "code",
   "execution_count": null,
   "id": "75e70666-04d6-48e3-a7f8-b5e33fbf0476",
   "metadata": {
    "papermill": {
     "duration": 0.007056,
     "end_time": "2024-05-24T13:42:53.256366",
     "exception": false,
     "start_time": "2024-05-24T13:42:53.249310",
     "status": "completed"
    },
    "tags": []
   },
   "outputs": [],
   "source": [
    "scanvi_emb = scanvi_model.get_latent_representation(adata=adata)"
   ]
  },
  {
   "cell_type": "code",
   "execution_count": null,
   "id": "ba050ee9-0df5-43e3-a5eb-744ad827dc67",
   "metadata": {
    "papermill": {
     "duration": 0.006972,
     "end_time": "2024-05-24T13:42:53.270417",
     "exception": false,
     "start_time": "2024-05-24T13:42:53.263445",
     "status": "completed"
    },
    "tags": []
   },
   "outputs": [],
   "source": [
    "np.savez_compressed(file = str(here(f\"{workingDir}/results/scANVI_model_fineTuned_lowLR_batches/scANVI_embedding.npz\")), arr=scanvi_emb)"
   ]
  },
  {
   "cell_type": "code",
   "execution_count": null,
   "id": "c092563d-0e01-4727-91cc-ec30d191ee40",
   "metadata": {},
   "outputs": [],
   "source": []
  }
 ],
 "metadata": {
  "kernelspec": {
   "display_name": "Python 3 (ipykernel)",
   "language": "python",
   "name": "python3"
  },
  "language_info": {
   "codemirror_mode": {
    "name": "ipython",
    "version": 3
   },
   "file_extension": ".py",
   "mimetype": "text/x-python",
   "name": "python",
   "nbconvert_exporter": "python",
   "pygments_lexer": "ipython3",
   "version": "3.12.3"
  },
  "papermill": {
   "default_parameters": {},
   "duration": 17034.255818,
   "end_time": "2024-05-24T13:43:01.572899",
   "environment_variables": {},
   "exception": null,
   "input_path": "02_fineTuning_scANVI.ipynb",
   "output_path": "02_fineTuning_scANVI_executed.ipynb",
   "parameters": {},
   "start_time": "2024-05-24T08:59:07.317081",
   "version": "2.5.0"
  }
 },
 "nbformat": 4,
 "nbformat_minor": 5
}
