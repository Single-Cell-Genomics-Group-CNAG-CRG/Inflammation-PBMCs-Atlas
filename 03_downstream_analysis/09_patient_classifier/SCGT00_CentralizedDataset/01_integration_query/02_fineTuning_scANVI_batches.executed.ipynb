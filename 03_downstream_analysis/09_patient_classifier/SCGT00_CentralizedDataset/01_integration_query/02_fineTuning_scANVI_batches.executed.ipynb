{
 "cells": [
  {
   "cell_type": "code",
   "execution_count": 1,
   "id": "044a9326-0745-430b-a00f-48663be02989",
   "metadata": {
    "execution": {
     "iopub.execute_input": "2024-10-22T19:52:24.208138Z",
     "iopub.status.busy": "2024-10-22T19:52:24.207153Z",
     "iopub.status.idle": "2024-10-22T19:52:28.259200Z",
     "shell.execute_reply": "2024-10-22T19:52:28.258172Z"
    },
    "papermill": {
     "duration": 4.070836,
     "end_time": "2024-10-22T19:52:28.262647",
     "exception": false,
     "start_time": "2024-10-22T19:52:24.191811",
     "status": "completed"
    },
    "tags": []
   },
   "outputs": [
    {
     "name": "stderr",
     "output_type": "stream",
     "text": [
      "WARNING:root:In order to use the mouse gastrulation seqFISH datsets, please install squidpy (see https://github.com/scverse/squidpy).\n"
     ]
    },
    {
     "name": "stderr",
     "output_type": "stream",
     "text": [
      "/home/dmaspero/miniconda3/envs/scarches/lib/python3.9/site-packages/tqdm/auto.py:21: TqdmWarning: IProgress not found. Please update jupyter and ipywidgets. See https://ipywidgets.readthedocs.io/en/stable/user_install.html\n",
      "  from .autonotebook import tqdm as notebook_tqdm\n",
      "WARNING:root:In order to use sagenet models, please install pytorch geometric (see https://pytorch-geometric.readthedocs.io) and \n",
      " captum (see https://github.com/pytorch/captum).\n"
     ]
    },
    {
     "name": "stderr",
     "output_type": "stream",
     "text": [
      "WARNING:root:mvTCR is not installed. To use mvTCR models, please install it first using \"pip install mvtcr\"\n"
     ]
    },
    {
     "name": "stderr",
     "output_type": "stream",
     "text": [
      "WARNING:root:multigrate is not installed. To use multigrate models, please install it first using \"pip install multigrate\".\n"
     ]
    },
    {
     "name": "stderr",
     "output_type": "stream",
     "text": [
      "INFO: Seed set to 42\n"
     ]
    },
    {
     "name": "stderr",
     "output_type": "stream",
     "text": [
      "INFO:lightning.fabric.utilities.seed:Seed set to 42\n"
     ]
    }
   ],
   "source": [
    "import os\n",
    "import sys\n",
    "\n",
    "import json\n",
    "\n",
    "import numpy as np\n",
    "import scanpy as sc\n",
    "import pandas as pd\n",
    "import matplotlib.pyplot as plt\n",
    "import seaborn as sns\n",
    "from sklearn.metrics import classification_report\n",
    "\n",
    "import scarches as sca\n",
    "from scarches.dataset.trvae.data_handling import remove_sparsity\n",
    "import matplotlib.pyplot as plt\n",
    "\n",
    "from lightning.pytorch.callbacks import ModelCheckpoint\n",
    "\n",
    "import torch\n",
    "\n",
    "from dotenv import load_dotenv\n",
    "\n",
    "from lightning.pytorch.loggers import WandbLogger\n",
    "import wandb\n",
    "\n",
    "import session_info\n",
    "import warnings\n",
    "from pyprojroot.here import here\n",
    "\n",
    "#plt.style.use(['science','nature','no-latex'])\n",
    "dpi_fig_save = 300\n",
    "sc.set_figure_params(dpi=100, dpi_save=dpi_fig_save, vector_friendly=True)\n",
    "\n",
    "# Setting some parameters\n",
    "warnings.filterwarnings(\"ignore\")\n",
    "\n",
    "from sklearn.model_selection import StratifiedKFold\n",
    "\n",
    "overwriteData = True\n",
    "overwriteFigures = True\n",
    "\n",
    "# Set random seed\n",
    "random_seed = 42\n",
    "\n",
    "import warnings\n",
    "warnings.filterwarnings('ignore')\n",
    "\n",
    "import scvi\n",
    "scvi.settings.dl_num_workers = 0\n",
    "scvi.settings.seed = random_seed\n",
    "\n",
    "#torch.set_float32_matmul_precision('high')\n",
    "#torch.set_printoptions(precision=3, sci_mode=False, edgeitems=7)\n",
    "# torch.multiprocessing.set_sharing_strategy('file_system')\n",
    "\n",
    "%load_ext autoreload\n",
    "%autoreload 2"
   ]
  },
  {
   "cell_type": "code",
   "execution_count": 2,
   "id": "e9230839-98a4-4ab3-a28a-05e68e858dd0",
   "metadata": {
    "execution": {
     "iopub.execute_input": "2024-10-22T19:52:28.292728Z",
     "iopub.status.busy": "2024-10-22T19:52:28.291314Z",
     "iopub.status.idle": "2024-10-22T19:52:28.334869Z",
     "shell.execute_reply": "2024-10-22T19:52:28.334074Z"
    },
    "papermill": {
     "duration": 0.062307,
     "end_time": "2024-10-22T19:52:28.338069",
     "exception": false,
     "start_time": "2024-10-22T19:52:28.275762",
     "status": "completed"
    },
    "tags": []
   },
   "outputs": [],
   "source": [
    "assert load_dotenv()"
   ]
  },
  {
   "cell_type": "code",
   "execution_count": 3,
   "id": "6af74995-eeba-493d-999c-501287dd809c",
   "metadata": {
    "execution": {
     "iopub.execute_input": "2024-10-22T19:52:28.361771Z",
     "iopub.status.busy": "2024-10-22T19:52:28.360775Z",
     "iopub.status.idle": "2024-10-22T19:52:28.415595Z",
     "shell.execute_reply": "2024-10-22T19:52:28.414843Z"
    },
    "papermill": {
     "duration": 0.069461,
     "end_time": "2024-10-22T19:52:28.418931",
     "exception": false,
     "start_time": "2024-10-22T19:52:28.349470",
     "status": "completed"
    },
    "tags": []
   },
   "outputs": [
    {
     "data": {
      "text/plain": [
       "PosixPath('/scratch_isilon/groups/singlecell/shared/projects/Inflammation-PBMCs-Atlas/04_visualizing_final_embedding_space/SCGT00_CentralizedDataset/02_scANVI_integration_with_annotation')"
      ]
     },
     "execution_count": 3,
     "metadata": {},
     "output_type": "execute_result"
    }
   ],
   "source": [
    "workingDir = here('04_visualizing_final_embedding_space/SCGT00_CentralizedDataset/')\n",
    "workingDir"
   ]
  },
  {
   "cell_type": "code",
   "execution_count": 4,
   "id": "1dae1184-00db-4d0c-8e49-42b1df5f9d30",
   "metadata": {
    "execution": {
     "iopub.execute_input": "2024-10-22T19:52:28.441114Z",
     "iopub.status.busy": "2024-10-22T19:52:28.440259Z",
     "iopub.status.idle": "2024-10-22T19:52:28.493907Z",
     "shell.execute_reply": "2024-10-22T19:52:28.493293Z"
    },
    "papermill": {
     "duration": 0.066284,
     "end_time": "2024-10-22T19:52:28.496922",
     "exception": false,
     "start_time": "2024-10-22T19:52:28.430638",
     "status": "completed"
    },
    "tags": []
   },
   "outputs": [],
   "source": [
    "class CustomWandbLogger(WandbLogger):\n",
    "    @property\n",
    "    def save_dir(self):\n",
    "        \"\"\"Gets the save directory.\n",
    "\n",
    "        Returns:\n",
    "            The path to the save directory.\n",
    "\n",
    "        \"\"\"\n",
    "        return self.experiment.dir"
   ]
  },
  {
   "cell_type": "code",
   "execution_count": 5,
   "id": "70cb28c1-38c5-4910-98e5-a4d786f256d7",
   "metadata": {
    "execution": {
     "iopub.execute_input": "2024-10-22T19:52:28.517762Z",
     "iopub.status.busy": "2024-10-22T19:52:28.517550Z",
     "iopub.status.idle": "2024-10-22T19:52:28.550570Z",
     "shell.execute_reply": "2024-10-22T19:52:28.549925Z"
    },
    "papermill": {
     "duration": 0.044601,
     "end_time": "2024-10-22T19:52:28.553573",
     "exception": false,
     "start_time": "2024-10-22T19:52:28.508972",
     "status": "completed"
    },
    "tags": []
   },
   "outputs": [
    {
     "data": {
      "text/plain": [
       "'1.1.2'"
      ]
     },
     "execution_count": 5,
     "metadata": {},
     "output_type": "execute_result"
    }
   ],
   "source": [
    "scvi.__version__"
   ]
  },
  {
   "cell_type": "markdown",
   "id": "e11bbe22-69a0-40d4-b609-7e108d2bcb46",
   "metadata": {
    "execution": {
     "iopub.execute_input": "2024-04-10T14:14:35.228151Z",
     "iopub.status.busy": "2024-04-10T14:14:35.226856Z",
     "iopub.status.idle": "2024-04-10T14:14:35.273260Z",
     "shell.execute_reply": "2024-04-10T14:14:35.272159Z",
     "shell.execute_reply.started": "2024-04-10T14:14:35.228101Z"
    },
    "papermill": {
     "duration": 0.009642,
     "end_time": "2024-10-22T19:52:28.574988",
     "exception": false,
     "start_time": "2024-10-22T19:52:28.565346",
     "status": "completed"
    },
    "tags": []
   },
   "source": [
    "# Loading data\n"
   ]
  },
  {
   "cell_type": "code",
   "execution_count": 6,
   "id": "f93686ba-9680-4b63-97c9-a0bc0a799c29",
   "metadata": {
    "execution": {
     "iopub.execute_input": "2024-10-22T19:52:28.591711Z",
     "iopub.status.busy": "2024-10-22T19:52:28.591483Z",
     "iopub.status.idle": "2024-10-22T19:52:41.408304Z",
     "shell.execute_reply": "2024-10-22T19:52:41.407326Z"
    },
    "papermill": {
     "duration": 12.828098,
     "end_time": "2024-10-22T19:52:41.411612",
     "exception": false,
     "start_time": "2024-10-22T19:52:28.583514",
     "status": "completed"
    },
    "tags": []
   },
   "outputs": [],
   "source": [
    "# Load the h5ad file\n",
    "adata = sc.read_h5ad(here(f\"{workingDir}/results/scVI_model_pretreined/adata.h5ad\"))#, \n",
    "                     #backed='r+', chunk_size=50000)\n"
   ]
  },
  {
   "cell_type": "raw",
   "id": "dffbefc8-6895-4589-97f2-274cfc482fbd",
   "metadata": {
    "papermill": {
     "duration": 0.008243,
     "end_time": "2024-10-22T19:52:41.434874",
     "exception": false,
     "start_time": "2024-10-22T19:52:41.426631",
     "status": "completed"
    },
    "tags": []
   },
   "source": [
    "adata.obs['binned_age'] = adata.obs['binned_age'].astype(str)"
   ]
  },
  {
   "cell_type": "raw",
   "id": "3b00d51b-ffb9-4aa3-b875-227755b5fc60",
   "metadata": {
    "execution": {
     "iopub.execute_input": "2024-05-14T18:03:20.489783Z",
     "iopub.status.busy": "2024-05-14T18:03:20.488996Z",
     "iopub.status.idle": "2024-05-14T18:03:21.524929Z",
     "shell.execute_reply": "2024-05-14T18:03:21.523944Z",
     "shell.execute_reply.started": "2024-05-14T18:03:20.489755Z"
    },
    "papermill": {
     "duration": 0.005293,
     "end_time": "2024-10-22T19:52:41.446365",
     "exception": false,
     "start_time": "2024-10-22T19:52:41.441072",
     "status": "completed"
    },
    "tags": []
   },
   "source": [
    "adata.obs['binned_age_cod'] = adata.obs.binned_age.cat.codes\n",
    "adata.obs['chemistry_cod'] = adata.obs.chemistry.cat.codes\n",
    "adata.obs['libraryID_cod'] = adata.obs.libraryID.cat.codes\n",
    "adata.obs['studyID_cod'] = adata.obs.studyID.cat.codes\n",
    "adata.obs['sex_cod'] = adata.obs.sex.cat.codes\n",
    "adata.obs['Level1_cod'] = adata.obs.Level1.cat.codes.astype(str)"
   ]
  },
  {
   "cell_type": "markdown",
   "id": "b0be110e-257c-4c59-8f3a-13b27717eee6",
   "metadata": {
    "papermill": {
     "duration": 0.004991,
     "end_time": "2024-10-22T19:52:41.456529",
     "exception": false,
     "start_time": "2024-10-22T19:52:41.451538",
     "status": "completed"
    },
    "tags": []
   },
   "source": [
    "#### Preparing scANVI training"
   ]
  },
  {
   "cell_type": "code",
   "execution_count": 7,
   "id": "f2113194-479e-4d84-b832-e92354d2e69b",
   "metadata": {
    "execution": {
     "iopub.execute_input": "2024-10-22T19:52:41.468682Z",
     "iopub.status.busy": "2024-10-22T19:52:41.468230Z",
     "iopub.status.idle": "2024-10-22T19:52:45.009629Z",
     "shell.execute_reply": "2024-10-22T19:52:45.008887Z"
    },
    "papermill": {
     "duration": 3.549786,
     "end_time": "2024-10-22T19:52:45.011403",
     "exception": false,
     "start_time": "2024-10-22T19:52:41.461617",
     "status": "completed"
    },
    "tags": []
   },
   "outputs": [
    {
     "name": "stdout",
     "output_type": "stream",
     "text": [
      "\u001b[34mINFO    \u001b[0m File                                                                                                      \n",
      "         \u001b[35m/scratch_isilon/groups/singlecell/shared/projects/Inflammation-PBMCs-Atlas/04_visualizing_final_embedding_space/SCGT00_CentralizedDataset/02_scANVI_integration_wit\u001b[0m\n",
      "         \u001b[35mh_annotation/results/scVI_model_pretreined_batches/\u001b[0m\u001b[95mmodel.pt\u001b[0m already downloaded                            \n"
     ]
    },
    {
     "name": "stderr",
     "output_type": "stream",
     "text": [
      "WARNING:jax._src.xla_bridge:CUDA backend failed to initialize: Unable to use CUDA because of the following issues with CUDA components:\n",
      "Outdated cuSPARSE installation found.\n",
      "Version JAX was built against: 12200\n",
      "Minimum supported: 12100\n",
      "Installed version: 12002\n",
      "The local installation version must be no lower than 12100. (Set TF_CPP_MIN_LOG_LEVEL=0 and rerun for more info.)\n"
     ]
    }
   ],
   "source": [
    "scvi_model = sca.models.SCVI.load(here(f\"{workingDir}/results/scVI_model_pretreined_batches/\"), adata=adata) "
   ]
  },
  {
   "cell_type": "markdown",
   "id": "539a994a-0db7-423e-a6e1-d89b2a47bc2b",
   "metadata": {
    "papermill": {
     "duration": 0.005996,
     "end_time": "2024-10-22T19:52:45.023700",
     "exception": false,
     "start_time": "2024-10-22T19:52:45.017704",
     "status": "completed"
    },
    "tags": []
   },
   "source": [
    "### Fine tuning with scANVI"
   ]
  },
  {
   "cell_type": "markdown",
   "id": "d2d15b0d-ee7d-4e57-a26a-eea547cf6a70",
   "metadata": {
    "papermill": {
     "duration": 0.005106,
     "end_time": "2024-10-22T19:52:45.034155",
     "exception": false,
     "start_time": "2024-10-22T19:52:45.029049",
     "status": "completed"
    },
    "tags": []
   },
   "source": [
    "**Parameters**"
   ]
  },
  {
   "cell_type": "code",
   "execution_count": 8,
   "id": "46c3857c-4d48-4326-8255-d0a718813b67",
   "metadata": {
    "execution": {
     "iopub.execute_input": "2024-10-22T19:52:45.045079Z",
     "iopub.status.busy": "2024-10-22T19:52:45.044872Z",
     "iopub.status.idle": "2024-10-22T19:52:45.078294Z",
     "shell.execute_reply": "2024-10-22T19:52:45.077603Z"
    },
    "papermill": {
     "duration": 0.040341,
     "end_time": "2024-10-22T19:52:45.079466",
     "exception": false,
     "start_time": "2024-10-22T19:52:45.039125",
     "status": "completed"
    },
    "tags": []
   },
   "outputs": [],
   "source": [
    "scANVI_trainer_kwargs = dict(\n",
    "    n_samples_per_label = None,\n",
    "    check_val_every_n_epoch = None,\n",
    "    train_size = 0.8,\n",
    "    validation_size = 0.2,\n",
    "    shuffle_set_split = True,\n",
    "    checkpointing_monitor = 'elbo_validation',\n",
    "    early_stopping_monitor = 'reconstruction_loss_validation',\n",
    "    early_stopping_patience = 2,\n",
    "    early_stopping_min_delta=0.1,\n",
    "    early_stopping = True,\n",
    "    max_epochs = 1000,\n",
    ")\n",
    "# https://docs.scvi-tools.org/en/stable/api/reference/scvi.train.TrainingPlan.html#scvi.train.TrainingPlan\n",
    "plan_kwargs = dict(\n",
    "    lr = 5e-5,\n",
    "    #reduce_lr_on_plateau = True\n",
    ")\n",
    "datasplitter_kwargs = dict(pin_memory=False)\n",
    "scanvi_parameter_dict = scANVI_trainer_kwargs | plan_kwargs | datasplitter_kwargs"
   ]
  },
  {
   "cell_type": "code",
   "execution_count": 9,
   "id": "bf6c42eb-cbe2-4fe4-a495-fa1146bc9dbb",
   "metadata": {
    "execution": {
     "iopub.execute_input": "2024-10-22T19:52:45.091461Z",
     "iopub.status.busy": "2024-10-22T19:52:45.091289Z",
     "iopub.status.idle": "2024-10-22T19:52:45.123201Z",
     "shell.execute_reply": "2024-10-22T19:52:45.122521Z"
    },
    "papermill": {
     "duration": 0.039637,
     "end_time": "2024-10-22T19:52:45.124443",
     "exception": false,
     "start_time": "2024-10-22T19:52:45.084806",
     "status": "completed"
    },
    "tags": []
   },
   "outputs": [
    {
     "data": {
      "text/plain": [
       "'MAINobj_scANVI_fineTuning_lowLR_batches'"
      ]
     },
     "execution_count": 9,
     "metadata": {},
     "output_type": "execute_result"
    }
   ],
   "source": [
    "run_name = f\"MAINobj_scANVI_fineTuning_lowLR_batches\"\n",
    "run_name"
   ]
  },
  {
   "cell_type": "code",
   "execution_count": 10,
   "id": "37bd7e04-22e9-457e-8090-24373f4b999f",
   "metadata": {
    "execution": {
     "iopub.execute_input": "2024-10-22T19:52:45.136602Z",
     "iopub.status.busy": "2024-10-22T19:52:45.136442Z",
     "iopub.status.idle": "2024-10-22T19:52:46.952020Z",
     "shell.execute_reply": "2024-10-22T19:52:46.951302Z"
    },
    "papermill": {
     "duration": 1.823341,
     "end_time": "2024-10-22T19:52:46.953188",
     "exception": false,
     "start_time": "2024-10-22T19:52:45.129847",
     "status": "completed"
    },
    "tags": []
   },
   "outputs": [
    {
     "data": {
      "text/html": [
       "<pre style=\"white-space:pre;overflow-x:auto;line-height:normal;font-family:Menlo,'DejaVu Sans Mono',consolas,'Courier New',monospace\">ScanVI Model with the following params: \n",
       "unlabeled_category: unknown, n_hidden: <span style=\"color: #008080; text-decoration-color: #008080; font-weight: bold\">256</span>, n_latent: <span style=\"color: #008080; text-decoration-color: #008080; font-weight: bold\">30</span>, n_layers: <span style=\"color: #008080; text-decoration-color: #008080; font-weight: bold\">4</span>, dropout_rate: <span style=\"color: #008080; text-decoration-color: #008080; font-weight: bold\">0.1</span>, dispersion: gene, \n",
       "gene_likelihood: nb\n",
       "Training status: Not Trained\n",
       "Model's adata is minified?: <span style=\"color: #ff0000; text-decoration-color: #ff0000; font-style: italic\">False</span>\n",
       "</pre>\n"
      ],
      "text/plain": [
       "ScanVI Model with the following params: \n",
       "unlabeled_category: unknown, n_hidden: \u001b[1;36m256\u001b[0m, n_latent: \u001b[1;36m30\u001b[0m, n_layers: \u001b[1;36m4\u001b[0m, dropout_rate: \u001b[1;36m0.1\u001b[0m, dispersion: gene, \n",
       "gene_likelihood: nb\n",
       "Training status: Not Trained\n",
       "Model's adata is minified?: \u001b[3;91mFalse\u001b[0m\n"
      ]
     },
     "metadata": {},
     "output_type": "display_data"
    },
    {
     "data": {
      "text/plain": []
     },
     "execution_count": 10,
     "metadata": {},
     "output_type": "execute_result"
    }
   ],
   "source": [
    "scanvi_model = sca.models.SCANVI.from_scvi_model(scvi_model, unlabeled_category = \"unknown\")\n",
    "scanvi_model"
   ]
  },
  {
   "cell_type": "code",
   "execution_count": 11,
   "id": "68d49d42-ac94-4b26-bf21-f5e836b4d635",
   "metadata": {
    "execution": {
     "iopub.execute_input": "2024-10-22T19:52:46.968251Z",
     "iopub.status.busy": "2024-10-22T19:52:46.968080Z",
     "iopub.status.idle": "2024-10-22T19:52:47.023828Z",
     "shell.execute_reply": "2024-10-22T19:52:47.023397Z"
    },
    "papermill": {
     "duration": 0.063309,
     "end_time": "2024-10-22T19:52:47.025028",
     "exception": false,
     "start_time": "2024-10-22T19:52:46.961719",
     "status": "completed"
    },
    "tags": []
   },
   "outputs": [],
   "source": [
    "logger = CustomWandbLogger(name = run_name, project='inflammation_atlas_R1_scANVI', config = scanvi_parameter_dict)"
   ]
  },
  {
   "cell_type": "raw",
   "id": "caad2522-7b8e-4d33-bdd3-b63091aa487d",
   "metadata": {
    "papermill": {
     "duration": 0.006738,
     "end_time": "2024-10-22T19:52:47.037583",
     "exception": false,
     "start_time": "2024-10-22T19:52:47.030845",
     "status": "completed"
    },
    "tags": []
   },
   "source": [
    "model_checkpoint = ModelCheckpoint(monitor='elbo_validation', every_n_epochs=1, save_last=True, save_top_k = -1, \n",
    "                                   dirpath=f\"{workingDir}/results/scANVI_model_fineTuned_lowLR_noRBCnPlat_checkpoints/\")"
   ]
  },
  {
   "cell_type": "code",
   "execution_count": null,
   "id": "a14ba1c8-d629-4d2e-b5f3-50420242a025",
   "metadata": {
    "papermill": {
     "duration": 0.005083,
     "end_time": "2024-10-22T19:52:47.048061",
     "exception": false,
     "start_time": "2024-10-22T19:52:47.042978",
     "status": "completed"
    },
    "tags": []
   },
   "outputs": [],
   "source": []
  },
  {
   "cell_type": "code",
   "execution_count": 12,
   "id": "027ef81c-e4bd-4473-a704-f010abb0ed9c",
   "metadata": {
    "execution": {
     "iopub.execute_input": "2024-10-22T19:52:47.059533Z",
     "iopub.status.busy": "2024-10-22T19:52:47.059350Z",
     "iopub.status.idle": "2024-10-22T20:54:23.376703Z",
     "shell.execute_reply": "2024-10-22T20:54:23.376206Z"
    },
    "papermill": {
     "duration": 3696.326911,
     "end_time": "2024-10-22T20:54:23.380316",
     "exception": false,
     "start_time": "2024-10-22T19:52:47.053405",
     "status": "completed"
    },
    "tags": []
   },
   "outputs": [
    {
     "name": "stdout",
     "output_type": "stream",
     "text": [
      "\u001b[34mINFO    \u001b[0m Training for \u001b[1;36m1000\u001b[0m epochs.                                                                                 \n"
     ]
    },
    {
     "name": "stderr",
     "output_type": "stream",
     "text": [
      "INFO: GPU available: True (cuda), used: True\n"
     ]
    },
    {
     "name": "stderr",
     "output_type": "stream",
     "text": [
      "INFO:lightning.pytorch.utilities.rank_zero:GPU available: True (cuda), used: True\n"
     ]
    },
    {
     "name": "stderr",
     "output_type": "stream",
     "text": [
      "INFO: TPU available: False, using: 0 TPU cores\n"
     ]
    },
    {
     "name": "stderr",
     "output_type": "stream",
     "text": [
      "INFO:lightning.pytorch.utilities.rank_zero:TPU available: False, using: 0 TPU cores\n"
     ]
    },
    {
     "name": "stderr",
     "output_type": "stream",
     "text": [
      "INFO: IPU available: False, using: 0 IPUs\n"
     ]
    },
    {
     "name": "stderr",
     "output_type": "stream",
     "text": [
      "INFO:lightning.pytorch.utilities.rank_zero:IPU available: False, using: 0 IPUs\n"
     ]
    },
    {
     "name": "stderr",
     "output_type": "stream",
     "text": [
      "INFO: HPU available: False, using: 0 HPUs\n"
     ]
    },
    {
     "name": "stderr",
     "output_type": "stream",
     "text": [
      "INFO:lightning.pytorch.utilities.rank_zero:HPU available: False, using: 0 HPUs\n"
     ]
    },
    {
     "name": "stderr",
     "output_type": "stream",
     "text": [
      "INFO: You are using a CUDA device ('NVIDIA RTX A6000') that has Tensor Cores. To properly utilize them, you should set `torch.set_float32_matmul_precision('medium' | 'high')` which will trade-off precision for performance. For more details, read https://pytorch.org/docs/stable/generated/torch.set_float32_matmul_precision.html#torch.set_float32_matmul_precision\n"
     ]
    },
    {
     "name": "stderr",
     "output_type": "stream",
     "text": [
      "INFO:lightning.pytorch.utilities.rank_zero:You are using a CUDA device ('NVIDIA RTX A6000') that has Tensor Cores. To properly utilize them, you should set `torch.set_float32_matmul_precision('medium' | 'high')` which will trade-off precision for performance. For more details, read https://pytorch.org/docs/stable/generated/torch.set_float32_matmul_precision.html#torch.set_float32_matmul_precision\n"
     ]
    },
    {
     "name": "stderr",
     "output_type": "stream",
     "text": [
      "\u001b[34m\u001b[1mwandb\u001b[0m: Currently logged in as: \u001b[33mdav1989\u001b[0m (\u001b[33minflammation\u001b[0m). Use \u001b[1m`wandb login --relogin`\u001b[0m to force relogin\n"
     ]
    },
    {
     "name": "stderr",
     "output_type": "stream",
     "text": [
      "\u001b[34m\u001b[1mwandb\u001b[0m: wandb version 0.18.5 is available!  To upgrade, please run:\n",
      "\u001b[34m\u001b[1mwandb\u001b[0m:  $ pip install wandb --upgrade\n"
     ]
    },
    {
     "name": "stderr",
     "output_type": "stream",
     "text": [
      "\u001b[34m\u001b[1mwandb\u001b[0m: Tracking run with wandb version 0.16.5\n"
     ]
    },
    {
     "name": "stderr",
     "output_type": "stream",
     "text": [
      "\u001b[34m\u001b[1mwandb\u001b[0m: Run data is saved locally in \u001b[35m\u001b[1m./wandb/run-20241022_195249-725hqitt\u001b[0m\n",
      "\u001b[34m\u001b[1mwandb\u001b[0m: Run \u001b[1m`wandb offline`\u001b[0m to turn off syncing.\n"
     ]
    },
    {
     "name": "stderr",
     "output_type": "stream",
     "text": [
      "\u001b[34m\u001b[1mwandb\u001b[0m: Syncing run \u001b[33mMAINobj_scANVI_fineTuning_lowLR_batches\u001b[0m\n"
     ]
    },
    {
     "name": "stderr",
     "output_type": "stream",
     "text": [
      "\u001b[34m\u001b[1mwandb\u001b[0m: ⭐️ View project at \u001b[34m\u001b[4mhttps://wandb.ai/inflammation/inflammation_atlas_R1_scANVI\u001b[0m\n"
     ]
    },
    {
     "name": "stderr",
     "output_type": "stream",
     "text": [
      "\u001b[34m\u001b[1mwandb\u001b[0m: 🚀 View run at \u001b[34m\u001b[4mhttps://wandb.ai/inflammation/inflammation_atlas_R1_scANVI/runs/725hqitt/workspace\u001b[0m\n"
     ]
    },
    {
     "name": "stderr",
     "output_type": "stream",
     "text": [
      "INFO: LOCAL_RANK: 0 - CUDA_VISIBLE_DEVICES: [0]\n"
     ]
    },
    {
     "name": "stderr",
     "output_type": "stream",
     "text": [
      "INFO:lightning.pytorch.accelerators.cuda:LOCAL_RANK: 0 - CUDA_VISIBLE_DEVICES: [0]\n"
     ]
    },
    {
     "name": "stdout",
     "output_type": "stream",
     "text": [
      "\r",
      "Training:   0%|                                                                                                                         | 0/1000 [00:00<?, ?it/s]"
     ]
    },
    {
     "name": "stdout",
     "output_type": "stream",
     "text": [
      "\r",
      "Epoch 1/1000:   0%|                                                                                                                     | 0/1000 [00:00<?, ?it/s]"
     ]
    },
    {
     "name": "stdout",
     "output_type": "stream",
     "text": [
      "\r",
      "Epoch 1/1000:   0%|                                                                                                         | 1/1000 [03:46<62:54:57, 226.72s/it]"
     ]
    },
    {
     "name": "stdout",
     "output_type": "stream",
     "text": [
      "\r",
      "Epoch 1/1000:   0%|                                          | 1/1000 [03:46<62:54:57, 226.72s/it, v_num=qitt, train_loss_step=1.94e+3, train_loss_epoch=2.02e+3]"
     ]
    },
    {
     "name": "stdout",
     "output_type": "stream",
     "text": [
      "\r",
      "Epoch 2/1000:   0%|                                          | 1/1000 [03:46<62:54:57, 226.72s/it, v_num=qitt, train_loss_step=1.94e+3, train_loss_epoch=2.02e+3]"
     ]
    },
    {
     "name": "stdout",
     "output_type": "stream",
     "text": [
      "\r",
      "Epoch 2/1000:   0%|                                          | 2/1000 [07:54<66:16:48, 239.09s/it, v_num=qitt, train_loss_step=1.94e+3, train_loss_epoch=2.02e+3]"
     ]
    },
    {
     "name": "stdout",
     "output_type": "stream",
     "text": [
      "\r",
      "Epoch 2/1000:   0%|                                             | 2/1000 [07:54<66:16:48, 239.09s/it, v_num=qitt, train_loss_step=2.02e+3, train_loss_epoch=2e+3]"
     ]
    },
    {
     "name": "stdout",
     "output_type": "stream",
     "text": [
      "\r",
      "Epoch 3/1000:   0%|                                             | 2/1000 [07:54<66:16:48, 239.09s/it, v_num=qitt, train_loss_step=2.02e+3, train_loss_epoch=2e+3]"
     ]
    },
    {
     "name": "stdout",
     "output_type": "stream",
     "text": [
      "\r",
      "Epoch 3/1000:   0%|▏                                            | 3/1000 [11:14<61:18:55, 221.40s/it, v_num=qitt, train_loss_step=2.02e+3, train_loss_epoch=2e+3]"
     ]
    },
    {
     "name": "stdout",
     "output_type": "stream",
     "text": [
      "\r",
      "Epoch 3/1000:   0%|▏                                            | 3/1000 [11:14<61:18:55, 221.40s/it, v_num=qitt, train_loss_step=2.04e+3, train_loss_epoch=2e+3]"
     ]
    },
    {
     "name": "stdout",
     "output_type": "stream",
     "text": [
      "\r",
      "Epoch 4/1000:   0%|▏                                            | 3/1000 [11:14<61:18:55, 221.40s/it, v_num=qitt, train_loss_step=2.04e+3, train_loss_epoch=2e+3]"
     ]
    },
    {
     "name": "stdout",
     "output_type": "stream",
     "text": [
      "\r",
      "Epoch 4/1000:   0%|▏                                            | 4/1000 [14:07<55:55:24, 202.13s/it, v_num=qitt, train_loss_step=2.04e+3, train_loss_epoch=2e+3]"
     ]
    },
    {
     "name": "stdout",
     "output_type": "stream",
     "text": [
      "\r",
      "Epoch 4/1000:   0%|▏                                         | 4/1000 [14:07<55:55:24, 202.13s/it, v_num=qitt, train_loss_step=1.89e+3, train_loss_epoch=1.99e+3]"
     ]
    },
    {
     "name": "stdout",
     "output_type": "stream",
     "text": [
      "\r",
      "Epoch 5/1000:   0%|▏                                         | 4/1000 [14:07<55:55:24, 202.13s/it, v_num=qitt, train_loss_step=1.89e+3, train_loss_epoch=1.99e+3]"
     ]
    },
    {
     "name": "stdout",
     "output_type": "stream",
     "text": [
      "\r",
      "Epoch 5/1000:   0%|▏                                         | 5/1000 [16:56<52:34:15, 190.21s/it, v_num=qitt, train_loss_step=1.89e+3, train_loss_epoch=1.99e+3]"
     ]
    },
    {
     "name": "stdout",
     "output_type": "stream",
     "text": [
      "\r",
      "Epoch 5/1000:   0%|▏                                          | 5/1000 [16:56<52:34:15, 190.21s/it, v_num=qitt, train_loss_step=1.9e+3, train_loss_epoch=1.99e+3]"
     ]
    },
    {
     "name": "stdout",
     "output_type": "stream",
     "text": [
      "\r",
      "Epoch 6/1000:   0%|▏                                          | 5/1000 [16:56<52:34:15, 190.21s/it, v_num=qitt, train_loss_step=1.9e+3, train_loss_epoch=1.99e+3]"
     ]
    },
    {
     "name": "stdout",
     "output_type": "stream",
     "text": [
      "\r",
      "Epoch 6/1000:   1%|▎                                          | 6/1000 [20:19<53:41:09, 194.44s/it, v_num=qitt, train_loss_step=1.9e+3, train_loss_epoch=1.99e+3]"
     ]
    },
    {
     "name": "stdout",
     "output_type": "stream",
     "text": [
      "\r",
      "Epoch 6/1000:   1%|▎                                         | 6/1000 [20:19<53:41:09, 194.44s/it, v_num=qitt, train_loss_step=1.92e+3, train_loss_epoch=1.99e+3]"
     ]
    },
    {
     "name": "stdout",
     "output_type": "stream",
     "text": [
      "\r",
      "Epoch 7/1000:   1%|▎                                         | 6/1000 [20:19<53:41:09, 194.44s/it, v_num=qitt, train_loss_step=1.92e+3, train_loss_epoch=1.99e+3]"
     ]
    },
    {
     "name": "stdout",
     "output_type": "stream",
     "text": [
      "\r",
      "Epoch 7/1000:   1%|▎                                         | 7/1000 [22:51<49:52:37, 180.82s/it, v_num=qitt, train_loss_step=1.92e+3, train_loss_epoch=1.99e+3]"
     ]
    },
    {
     "name": "stdout",
     "output_type": "stream",
     "text": [
      "\r",
      "Epoch 7/1000:   1%|▎                                         | 7/1000 [22:51<49:52:37, 180.82s/it, v_num=qitt, train_loss_step=1.91e+3, train_loss_epoch=1.99e+3]"
     ]
    },
    {
     "name": "stdout",
     "output_type": "stream",
     "text": [
      "\r",
      "Epoch 8/1000:   1%|▎                                         | 7/1000 [22:51<49:52:37, 180.82s/it, v_num=qitt, train_loss_step=1.91e+3, train_loss_epoch=1.99e+3]"
     ]
    },
    {
     "name": "stdout",
     "output_type": "stream",
     "text": [
      "\r",
      "Epoch 8/1000:   1%|▎                                         | 8/1000 [25:42<48:55:15, 177.54s/it, v_num=qitt, train_loss_step=1.91e+3, train_loss_epoch=1.99e+3]"
     ]
    },
    {
     "name": "stdout",
     "output_type": "stream",
     "text": [
      "\r",
      "Epoch 8/1000:   1%|▎                                         | 8/1000 [25:42<48:55:15, 177.54s/it, v_num=qitt, train_loss_step=2.02e+3, train_loss_epoch=1.99e+3]"
     ]
    },
    {
     "name": "stdout",
     "output_type": "stream",
     "text": [
      "\r",
      "Epoch 9/1000:   1%|▎                                         | 8/1000 [25:42<48:55:15, 177.54s/it, v_num=qitt, train_loss_step=2.02e+3, train_loss_epoch=1.99e+3]"
     ]
    },
    {
     "name": "stdout",
     "output_type": "stream",
     "text": [
      "\r",
      "Epoch 9/1000:   1%|▍                                         | 9/1000 [28:44<49:17:46, 179.08s/it, v_num=qitt, train_loss_step=2.02e+3, train_loss_epoch=1.99e+3]"
     ]
    },
    {
     "name": "stdout",
     "output_type": "stream",
     "text": [
      "\r",
      "Epoch 9/1000:   1%|▍                                         | 9/1000 [28:44<49:17:46, 179.08s/it, v_num=qitt, train_loss_step=2.04e+3, train_loss_epoch=1.99e+3]"
     ]
    },
    {
     "name": "stdout",
     "output_type": "stream",
     "text": [
      "\r",
      "Epoch 10/1000:   1%|▎                                        | 9/1000 [28:44<49:17:46, 179.08s/it, v_num=qitt, train_loss_step=2.04e+3, train_loss_epoch=1.99e+3]"
     ]
    },
    {
     "name": "stdout",
     "output_type": "stream",
     "text": [
      "\r",
      "Epoch 10/1000:   1%|▍                                       | 10/1000 [31:39<48:53:37, 177.80s/it, v_num=qitt, train_loss_step=2.04e+3, train_loss_epoch=1.99e+3]"
     ]
    },
    {
     "name": "stdout",
     "output_type": "stream",
     "text": [
      "\r",
      "Epoch 10/1000:   1%|▍                                       | 10/1000 [31:39<48:53:37, 177.80s/it, v_num=qitt, train_loss_step=2.04e+3, train_loss_epoch=1.99e+3]"
     ]
    },
    {
     "name": "stdout",
     "output_type": "stream",
     "text": [
      "\r",
      "Epoch 11/1000:   1%|▍                                       | 10/1000 [31:39<48:53:37, 177.80s/it, v_num=qitt, train_loss_step=2.04e+3, train_loss_epoch=1.99e+3]"
     ]
    },
    {
     "name": "stdout",
     "output_type": "stream",
     "text": [
      "\r",
      "Epoch 11/1000:   1%|▍                                       | 11/1000 [35:29<53:14:21, 193.79s/it, v_num=qitt, train_loss_step=2.04e+3, train_loss_epoch=1.99e+3]"
     ]
    },
    {
     "name": "stdout",
     "output_type": "stream",
     "text": [
      "\r",
      "Epoch 11/1000:   1%|▍                                       | 11/1000 [35:29<53:14:21, 193.79s/it, v_num=qitt, train_loss_step=1.98e+3, train_loss_epoch=1.99e+3]"
     ]
    },
    {
     "name": "stdout",
     "output_type": "stream",
     "text": [
      "\r",
      "Epoch 12/1000:   1%|▍                                       | 11/1000 [35:29<53:14:21, 193.79s/it, v_num=qitt, train_loss_step=1.98e+3, train_loss_epoch=1.99e+3]"
     ]
    },
    {
     "name": "stdout",
     "output_type": "stream",
     "text": [
      "\r",
      "Epoch 12/1000:   1%|▍                                       | 12/1000 [39:17<56:02:30, 204.20s/it, v_num=qitt, train_loss_step=1.98e+3, train_loss_epoch=1.99e+3]"
     ]
    },
    {
     "name": "stdout",
     "output_type": "stream",
     "text": [
      "\r",
      "Epoch 12/1000:   1%|▍                                       | 12/1000 [39:17<56:02:30, 204.20s/it, v_num=qitt, train_loss_step=1.95e+3, train_loss_epoch=1.99e+3]"
     ]
    },
    {
     "name": "stdout",
     "output_type": "stream",
     "text": [
      "\r",
      "Epoch 13/1000:   1%|▍                                       | 12/1000 [39:17<56:02:30, 204.20s/it, v_num=qitt, train_loss_step=1.95e+3, train_loss_epoch=1.99e+3]"
     ]
    },
    {
     "name": "stdout",
     "output_type": "stream",
     "text": [
      "\r",
      "Epoch 13/1000:   1%|▌                                       | 13/1000 [43:04<57:49:10, 210.89s/it, v_num=qitt, train_loss_step=1.95e+3, train_loss_epoch=1.99e+3]"
     ]
    },
    {
     "name": "stdout",
     "output_type": "stream",
     "text": [
      "\r",
      "Epoch 13/1000:   1%|▌                                       | 13/1000 [43:04<57:49:10, 210.89s/it, v_num=qitt, train_loss_step=2.03e+3, train_loss_epoch=1.99e+3]"
     ]
    },
    {
     "name": "stdout",
     "output_type": "stream",
     "text": [
      "\r",
      "Epoch 14/1000:   1%|▌                                       | 13/1000 [43:04<57:49:10, 210.89s/it, v_num=qitt, train_loss_step=2.03e+3, train_loss_epoch=1.99e+3]"
     ]
    },
    {
     "name": "stdout",
     "output_type": "stream",
     "text": [
      "\r",
      "Epoch 14/1000:   1%|▌                                       | 14/1000 [46:50<59:02:55, 215.59s/it, v_num=qitt, train_loss_step=2.03e+3, train_loss_epoch=1.99e+3]"
     ]
    },
    {
     "name": "stdout",
     "output_type": "stream",
     "text": [
      "\r",
      "Epoch 14/1000:   1%|▌                                       | 14/1000 [46:50<59:02:55, 215.59s/it, v_num=qitt, train_loss_step=2.04e+3, train_loss_epoch=1.99e+3]"
     ]
    },
    {
     "name": "stdout",
     "output_type": "stream",
     "text": [
      "\r",
      "Epoch 15/1000:   1%|▌                                       | 14/1000 [46:50<59:02:55, 215.59s/it, v_num=qitt, train_loss_step=2.04e+3, train_loss_epoch=1.99e+3]"
     ]
    },
    {
     "name": "stdout",
     "output_type": "stream",
     "text": [
      "\r",
      "Epoch 15/1000:   2%|▌                                       | 15/1000 [50:39<60:04:02, 219.54s/it, v_num=qitt, train_loss_step=2.04e+3, train_loss_epoch=1.99e+3]"
     ]
    },
    {
     "name": "stdout",
     "output_type": "stream",
     "text": [
      "\r",
      "Epoch 15/1000:   2%|▌                                       | 15/1000 [50:39<60:04:02, 219.54s/it, v_num=qitt, train_loss_step=2.11e+3, train_loss_epoch=1.99e+3]"
     ]
    },
    {
     "name": "stdout",
     "output_type": "stream",
     "text": [
      "\r",
      "Epoch 16/1000:   2%|▌                                       | 15/1000 [50:39<60:04:02, 219.54s/it, v_num=qitt, train_loss_step=2.11e+3, train_loss_epoch=1.99e+3]"
     ]
    },
    {
     "name": "stdout",
     "output_type": "stream",
     "text": [
      "\r",
      "Epoch 16/1000:   2%|▋                                       | 16/1000 [54:29<60:52:27, 222.71s/it, v_num=qitt, train_loss_step=2.11e+3, train_loss_epoch=1.99e+3]"
     ]
    },
    {
     "name": "stdout",
     "output_type": "stream",
     "text": [
      "\r",
      "Epoch 16/1000:   2%|▋                                       | 16/1000 [54:29<60:52:27, 222.71s/it, v_num=qitt, train_loss_step=1.98e+3, train_loss_epoch=1.99e+3]"
     ]
    },
    {
     "name": "stdout",
     "output_type": "stream",
     "text": [
      "\r",
      "Epoch 17/1000:   2%|▋                                       | 16/1000 [54:29<60:52:27, 222.71s/it, v_num=qitt, train_loss_step=1.98e+3, train_loss_epoch=1.99e+3]"
     ]
    },
    {
     "name": "stdout",
     "output_type": "stream",
     "text": [
      "\r",
      "Epoch 17/1000:   2%|▋                                       | 17/1000 [58:01<59:58:54, 219.67s/it, v_num=qitt, train_loss_step=1.98e+3, train_loss_epoch=1.99e+3]"
     ]
    },
    {
     "name": "stdout",
     "output_type": "stream",
     "text": [
      "\r",
      "Epoch 17/1000:   2%|▋                                       | 17/1000 [58:01<59:58:54, 219.67s/it, v_num=qitt, train_loss_step=2.08e+3, train_loss_epoch=1.99e+3]"
     ]
    },
    {
     "name": "stdout",
     "output_type": "stream",
     "text": [
      "\r",
      "Epoch 18/1000:   2%|▋                                       | 17/1000 [58:01<59:58:54, 219.67s/it, v_num=qitt, train_loss_step=2.08e+3, train_loss_epoch=1.99e+3]"
     ]
    },
    {
     "name": "stdout",
     "output_type": "stream",
     "text": [
      "\r",
      "Epoch 18/1000:   2%|▋                                     | 18/1000 [1:01:27<58:46:44, 215.48s/it, v_num=qitt, train_loss_step=2.08e+3, train_loss_epoch=1.99e+3]"
     ]
    },
    {
     "name": "stdout",
     "output_type": "stream",
     "text": [
      "\r",
      "Epoch 18/1000:   2%|▋                                     | 18/1000 [1:01:27<58:46:44, 215.48s/it, v_num=qitt, train_loss_step=1.88e+3, train_loss_epoch=1.99e+3]"
     ]
    },
    {
     "name": "stdout",
     "output_type": "stream",
     "text": [
      "\r",
      "Epoch 18/1000:   2%|▋                                     | 18/1000 [1:01:27<55:53:05, 204.87s/it, v_num=qitt, train_loss_step=1.88e+3, train_loss_epoch=1.99e+3]"
     ]
    },
    {
     "name": "stdout",
     "output_type": "stream",
     "text": [
      "\n",
      "Monitored metric reconstruction_loss_validation did not improve in the last 2 records. Best score: 1964.297. Signaling Trainer to stop.\n"
     ]
    }
   ],
   "source": [
    "scanvi_model.train(logger=logger, plan_kwargs = plan_kwargs, datasplitter_kwargs=datasplitter_kwargs, **scANVI_trainer_kwargs)"
   ]
  },
  {
   "cell_type": "raw",
   "id": "12a0495e-ec1d-48c4-88e0-cb858a81a560",
   "metadata": {
    "papermill": {
     "duration": 0.011254,
     "end_time": "2024-10-22T20:54:23.411608",
     "exception": false,
     "start_time": "2024-10-22T20:54:23.400354",
     "status": "completed"
    },
    "tags": []
   },
   "source": [
    "try:\n",
    "    scanvi_model.train(logger=logger, plan_kwargs = plan_kwargs, datasplitter_kwargs=datasplitter_kwargs, \n",
    "                       enable_checkpointing=True, callbacks=[model_checkpoint], \n",
    "                       **scANVI_trainer_kwargs) #SAME parameter as scVI\n",
    "    scanvi_model.save(here(f\"{workingDir}/results/scANVI_model_fineTuned_lowLR_noRBCnPlat/\"),\n",
    "               overwrite = True, \n",
    "               save_anndata = False)\n",
    "    scanvi_emb = scanvi_model.get_latent_representation(adata=adata)\n",
    "    np.savez_compressed(file = str(here(f\"{workingDir}/results/scANVI_model_fineTuned_lowLR_noRBCnPlat/scANVI_embedding.npz\")), arr=scanvi_emb)\n",
    "    \n",
    "except Exception as e:\n",
    "    print(f\"An error occurred: {e}\")\n",
    "    scanvi_model.save(here(f\"{workingDir}/results/scANVI_model_fineTuned_lowLR_noRBCnPlat_WITHERRORS/\"), \n",
    "                      overwrite=True, \n",
    "                      save_anndata=False)"
   ]
  },
  {
   "cell_type": "code",
   "execution_count": 13,
   "id": "86e8d70c-7314-410b-a2ab-e25eb3a4ad7c",
   "metadata": {
    "execution": {
     "iopub.execute_input": "2024-10-22T20:54:23.442543Z",
     "iopub.status.busy": "2024-10-22T20:54:23.442006Z",
     "iopub.status.idle": "2024-10-22T20:54:30.152312Z",
     "shell.execute_reply": "2024-10-22T20:54:30.150857Z"
    },
    "papermill": {
     "duration": 6.735611,
     "end_time": "2024-10-22T20:54:30.155995",
     "exception": false,
     "start_time": "2024-10-22T20:54:23.420384",
     "status": "completed"
    },
    "scrolled": true,
    "tags": []
   },
   "outputs": [
    {
     "name": "stderr",
     "output_type": "stream",
     "text": [
      "\u001b[34m\u001b[1mwandb\u001b[0m: - 0.005 MB of 0.005 MB uploaded\r"
     ]
    },
    {
     "name": "stderr",
     "output_type": "stream",
     "text": [
      "\u001b[34m\u001b[1mwandb\u001b[0m: \\ 0.005 MB of 0.025 MB uploaded\r"
     ]
    },
    {
     "name": "stderr",
     "output_type": "stream",
     "text": [
      "\u001b[34m\u001b[1mwandb\u001b[0m: | 0.005 MB of 0.026 MB uploaded\r"
     ]
    },
    {
     "name": "stderr",
     "output_type": "stream",
     "text": [
      "\u001b[34m\u001b[1mwandb\u001b[0m: / 0.005 MB of 0.026 MB uploaded\r"
     ]
    },
    {
     "name": "stderr",
     "output_type": "stream",
     "text": [
      "\u001b[34m\u001b[1mwandb\u001b[0m: - 0.026 MB of 0.026 MB uploaded\r"
     ]
    },
    {
     "name": "stderr",
     "output_type": "stream",
     "text": [
      "\u001b[34m\u001b[1mwandb\u001b[0m:                                                                                \n"
     ]
    },
    {
     "name": "stderr",
     "output_type": "stream",
     "text": [
      "\u001b[34m\u001b[1mwandb\u001b[0m: \n",
      "\u001b[34m\u001b[1mwandb\u001b[0m: Run history:\n",
      "\u001b[34m\u001b[1mwandb\u001b[0m:                     elbo_train ▄██▇▆▅▄▄▃▃▃▃▂▂▂▂▁▁\n",
      "\u001b[34m\u001b[1mwandb\u001b[0m:                elbo_validation ██▇▆▅▅▄▄▃▃▃▃▂▂▂▂▁▁\n",
      "\u001b[34m\u001b[1mwandb\u001b[0m:                          epoch ▁▁▁▁▁▂▂▂▂▃▃▃▃▃▃▄▄▄▄▄▅▅▅▅▆▆▆▆▆▆▆▇▇▇▇▇████\n",
      "\u001b[34m\u001b[1mwandb\u001b[0m:                kl_global_train ▁▁▁▁▁▁▁▁▁▁▁▁▁▁▁▁▁▁\n",
      "\u001b[34m\u001b[1mwandb\u001b[0m:           kl_global_validation ▁▁▁▁▁▁▁▁▁▁▁▁▁▁▁▁▁▁\n",
      "\u001b[34m\u001b[1mwandb\u001b[0m:                 kl_local_train ▁██▇▆▅▅▄▄▃▃▃▃▂▂▂▁▁\n",
      "\u001b[34m\u001b[1mwandb\u001b[0m:            kl_local_validation ▇█▇▆▅▅▄▄▄▃▃▃▃▂▂▂▁▁\n",
      "\u001b[34m\u001b[1mwandb\u001b[0m:      reconstruction_loss_train █▄▃▂▂▂▂▂▁▁▁▁▁▁▁▁▁▁\n",
      "\u001b[34m\u001b[1mwandb\u001b[0m: reconstruction_loss_validation █▅▄▃▃▂▂▂▂▂▁▁▁▁▁▁▁▁\n",
      "\u001b[34m\u001b[1mwandb\u001b[0m:                 train_accuracy ▁▄▅▅▆▆▆▆▇▇▇▇▇▇████\n",
      "\u001b[34m\u001b[1mwandb\u001b[0m:        train_calibration_error █▃▃▃▂▂▂▂▂▂▂▂▁▁▁▁▁▁\n",
      "\u001b[34m\u001b[1mwandb\u001b[0m:      train_classification_loss █▄▃▃▃▃▂▂▂▂▂▂▂▁▁▁▁▁\n",
      "\u001b[34m\u001b[1mwandb\u001b[0m:                 train_f1_score ▁▄▅▅▆▆▆▆▇▇▇▇▇▇████\n",
      "\u001b[34m\u001b[1mwandb\u001b[0m:               train_loss_epoch █▄▃▂▂▂▂▂▁▁▁▁▁▁▁▁▁▁\n",
      "\u001b[34m\u001b[1mwandb\u001b[0m:                train_loss_step ▇▆▅▂▆▄▇▆▆▇▃▄▂▃▇▂█▅▁█▇▆▅▄▃▆▄▄█▇▃▇▅▆▄▅▃▄▆▄\n",
      "\u001b[34m\u001b[1mwandb\u001b[0m:            trainer/global_step ▁▁▁▂▂▂▂▂▂▃▃▃▃▃▃▄▄▄▄▄▅▅▅▅▅▅▆▆▆▆▆▆▇▇▇▇▇███\n",
      "\u001b[34m\u001b[1mwandb\u001b[0m:            validation_accuracy ▁▃▅▅▆▆▇▇▇▇▇▇██████\n",
      "\u001b[34m\u001b[1mwandb\u001b[0m:   validation_calibration_error █▆▄▅▃▃▃▂▂▂▂▂▁▁▁▁▁▁\n",
      "\u001b[34m\u001b[1mwandb\u001b[0m: validation_classification_loss █▆▄▃▃▂▂▂▂▁▁▁▁▁▁▁▁▁\n",
      "\u001b[34m\u001b[1mwandb\u001b[0m:            validation_f1_score ▁▃▅▅▆▆▇▇▇▇▇▇██████\n",
      "\u001b[34m\u001b[1mwandb\u001b[0m:                validation_loss █▅▃▃▂▂▁▁▁▁▁▁▁▁▁▁▁▁\n",
      "\u001b[34m\u001b[1mwandb\u001b[0m: \n",
      "\u001b[34m\u001b[1mwandb\u001b[0m: Run summary:\n",
      "\u001b[34m\u001b[1mwandb\u001b[0m:                     elbo_train 2043.95605\n",
      "\u001b[34m\u001b[1mwandb\u001b[0m:                elbo_validation 2030.48718\n",
      "\u001b[34m\u001b[1mwandb\u001b[0m:                          epoch 17\n",
      "\u001b[34m\u001b[1mwandb\u001b[0m:                kl_global_train 0.0\n",
      "\u001b[34m\u001b[1mwandb\u001b[0m:           kl_global_validation 0.0\n",
      "\u001b[34m\u001b[1mwandb\u001b[0m:                 kl_local_train 68.47327\n",
      "\u001b[34m\u001b[1mwandb\u001b[0m:            kl_local_validation 66.23853\n",
      "\u001b[34m\u001b[1mwandb\u001b[0m:      reconstruction_loss_train 1975.48279\n",
      "\u001b[34m\u001b[1mwandb\u001b[0m: reconstruction_loss_validation 1964.24866\n",
      "\u001b[34m\u001b[1mwandb\u001b[0m:                 train_accuracy 0.93206\n",
      "\u001b[34m\u001b[1mwandb\u001b[0m:        train_calibration_error 0.04406\n",
      "\u001b[34m\u001b[1mwandb\u001b[0m:      train_classification_loss 0.18466\n",
      "\u001b[34m\u001b[1mwandb\u001b[0m:                 train_f1_score 0.93206\n",
      "\u001b[34m\u001b[1mwandb\u001b[0m:               train_loss_epoch 1987.62231\n",
      "\u001b[34m\u001b[1mwandb\u001b[0m:                train_loss_step 2052.6001\n",
      "\u001b[34m\u001b[1mwandb\u001b[0m:            trainer/global_step 85067\n",
      "\u001b[34m\u001b[1mwandb\u001b[0m:            validation_accuracy 0.92561\n",
      "\u001b[34m\u001b[1mwandb\u001b[0m:   validation_calibration_error 0.0477\n",
      "\u001b[34m\u001b[1mwandb\u001b[0m: validation_classification_loss 0.20108\n",
      "\u001b[34m\u001b[1mwandb\u001b[0m:            validation_f1_score 0.92561\n",
      "\u001b[34m\u001b[1mwandb\u001b[0m:                validation_loss 1977.11731\n",
      "\u001b[34m\u001b[1mwandb\u001b[0m: \n"
     ]
    },
    {
     "name": "stderr",
     "output_type": "stream",
     "text": [
      "\u001b[34m\u001b[1mwandb\u001b[0m: 🚀 View run \u001b[33mMAINobj_scANVI_fineTuning_lowLR_batches\u001b[0m at: \u001b[34m\u001b[4mhttps://wandb.ai/inflammation/inflammation_atlas_R1_scANVI/runs/725hqitt/workspace\u001b[0m\n",
      "\u001b[34m\u001b[1mwandb\u001b[0m: Synced 6 W&B file(s), 0 media file(s), 0 artifact file(s) and 0 other file(s)\n"
     ]
    },
    {
     "name": "stderr",
     "output_type": "stream",
     "text": [
      "\u001b[34m\u001b[1mwandb\u001b[0m: Find logs at: \u001b[35m\u001b[1m./wandb/run-20241022_195249-725hqitt/logs\u001b[0m\n"
     ]
    }
   ],
   "source": [
    "wandb.finish()"
   ]
  },
  {
   "cell_type": "code",
   "execution_count": 14,
   "id": "f60cac0d-8a47-48f8-83ac-4d6160ae893e",
   "metadata": {
    "execution": {
     "iopub.execute_input": "2024-10-22T20:54:30.200062Z",
     "iopub.status.busy": "2024-10-22T20:54:30.199803Z",
     "iopub.status.idle": "2024-10-22T20:54:46.617551Z",
     "shell.execute_reply": "2024-10-22T20:54:46.616048Z"
    },
    "papermill": {
     "duration": 16.439708,
     "end_time": "2024-10-22T20:54:46.621413",
     "exception": false,
     "start_time": "2024-10-22T20:54:30.181705",
     "status": "completed"
    },
    "tags": []
   },
   "outputs": [],
   "source": [
    "if overwriteData:\n",
    "    scanvi_model.save(here(f\"{workingDir}/results/scANVI_model_fineTuned_lowLR_batches/\"), \n",
    "                      overwrite = True, \n",
    "                      save_anndata = True)"
   ]
  },
  {
   "cell_type": "code",
   "execution_count": 15,
   "id": "75e70666-04d6-48e3-a7f8-b5e33fbf0476",
   "metadata": {
    "execution": {
     "iopub.execute_input": "2024-10-22T20:54:46.656374Z",
     "iopub.status.busy": "2024-10-22T20:54:46.655843Z",
     "iopub.status.idle": "2024-10-22T20:55:18.882095Z",
     "shell.execute_reply": "2024-10-22T20:55:18.880672Z"
    },
    "papermill": {
     "duration": 32.243552,
     "end_time": "2024-10-22T20:55:18.885565",
     "exception": false,
     "start_time": "2024-10-22T20:54:46.642013",
     "status": "completed"
    },
    "tags": []
   },
   "outputs": [],
   "source": [
    "scanvi_emb = scanvi_model.get_latent_representation(adata=adata)"
   ]
  },
  {
   "cell_type": "code",
   "execution_count": 16,
   "id": "ba050ee9-0df5-43e3-a5eb-744ad827dc67",
   "metadata": {
    "execution": {
     "iopub.execute_input": "2024-10-22T20:55:18.922066Z",
     "iopub.status.busy": "2024-10-22T20:55:18.921002Z",
     "iopub.status.idle": "2024-10-22T20:55:22.675709Z",
     "shell.execute_reply": "2024-10-22T20:55:22.674171Z"
    },
    "papermill": {
     "duration": 3.771922,
     "end_time": "2024-10-22T20:55:22.679465",
     "exception": false,
     "start_time": "2024-10-22T20:55:18.907543",
     "status": "completed"
    },
    "tags": []
   },
   "outputs": [],
   "source": [
    "np.savez_compressed(file = str(here(f\"{workingDir}/results/scANVI_model_fineTuned_lowLR_batches/scANVI_embedding.npz\")), arr=scanvi_emb)"
   ]
  },
  {
   "cell_type": "code",
   "execution_count": null,
   "id": "c092563d-0e01-4727-91cc-ec30d191ee40",
   "metadata": {
    "papermill": {
     "duration": 0.015264,
     "end_time": "2024-10-22T20:55:22.717804",
     "exception": false,
     "start_time": "2024-10-22T20:55:22.702540",
     "status": "completed"
    },
    "tags": []
   },
   "outputs": [],
   "source": []
  }
 ],
 "metadata": {
  "kernelspec": {
   "display_name": "Python 3 (ipykernel)",
   "language": "python",
   "name": "python3"
  },
  "language_info": {
   "codemirror_mode": {
    "name": "ipython",
    "version": 3
   },
   "file_extension": ".py",
   "mimetype": "text/x-python",
   "name": "python",
   "nbconvert_exporter": "python",
   "pygments_lexer": "ipython3",
   "version": "3.12.3"
  },
  "papermill": {
   "default_parameters": {},
   "duration": 3784.184261,
   "end_time": "2024-10-22T20:55:27.386125",
   "environment_variables": {},
   "exception": null,
   "input_path": "02_fineTuning_scANVI_batches.ipynb",
   "output_path": "02_fineTuning_scANVI_batches.executed.ipynb",
   "parameters": {},
   "start_time": "2024-10-22T19:52:23.201864",
   "version": "2.5.0"
  }
 },
 "nbformat": 4,
 "nbformat_minor": 5
}
