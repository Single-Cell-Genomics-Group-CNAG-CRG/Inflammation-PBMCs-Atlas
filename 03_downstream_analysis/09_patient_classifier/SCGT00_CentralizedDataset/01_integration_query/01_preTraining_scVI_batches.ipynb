{
 "cells": [
  {
   "cell_type": "code",
   "execution_count": 1,
   "id": "044a9326-0745-430b-a00f-48663be02989",
   "metadata": {
    "execution": {
     "iopub.execute_input": "2024-10-22T15:32:58.762559Z",
     "iopub.status.busy": "2024-10-22T15:32:58.762033Z",
     "iopub.status.idle": "2024-10-22T15:33:03.037950Z",
     "shell.execute_reply": "2024-10-22T15:33:03.036763Z",
     "shell.execute_reply.started": "2024-10-22T15:32:58.762497Z"
    },
    "papermill": {
     "duration": 5.301316,
     "end_time": "2024-05-14T19:22:15.484041",
     "exception": false,
     "start_time": "2024-05-14T19:22:10.182725",
     "status": "completed"
    },
    "tags": []
   },
   "outputs": [
    {
     "name": "stderr",
     "output_type": "stream",
     "text": [
      "WARNING:root:In order to use the mouse gastrulation seqFISH datsets, please install squidpy (see https://github.com/scverse/squidpy).\n",
      "/home/dmaspero/miniconda3/envs/scarches/lib/python3.9/site-packages/tqdm/auto.py:21: TqdmWarning: IProgress not found. Please update jupyter and ipywidgets. See https://ipywidgets.readthedocs.io/en/stable/user_install.html\n",
      "  from .autonotebook import tqdm as notebook_tqdm\n",
      "WARNING:root:In order to use sagenet models, please install pytorch geometric (see https://pytorch-geometric.readthedocs.io) and \n",
      " captum (see https://github.com/pytorch/captum).\n",
      "WARNING:root:mvTCR is not installed. To use mvTCR models, please install it first using \"pip install mvtcr\"\n",
      "WARNING:root:multigrate is not installed. To use multigrate models, please install it first using \"pip install multigrate\".\n",
      "INFO: Seed set to 42\n",
      "INFO:lightning.fabric.utilities.seed:Seed set to 42\n"
     ]
    }
   ],
   "source": [
    "import os\n",
    "import sys\n",
    "\n",
    "import json\n",
    "\n",
    "import numpy as np\n",
    "import scanpy as sc\n",
    "import pandas as pd\n",
    "import matplotlib.pyplot as plt\n",
    "import seaborn as sns\n",
    "from sklearn.metrics import classification_report\n",
    "\n",
    "import scarches as sca\n",
    "from scarches.dataset.trvae.data_handling import remove_sparsity\n",
    "import matplotlib.pyplot as plt\n",
    "\n",
    "import torch\n",
    "\n",
    "from dotenv import load_dotenv\n",
    "\n",
    "from lightning.pytorch.loggers import WandbLogger\n",
    "import wandb\n",
    "\n",
    "import session_info\n",
    "import warnings\n",
    "from pyprojroot.here import here\n",
    "\n",
    "#plt.style.use(['science','nature','no-latex'])\n",
    "dpi_fig_save = 300\n",
    "sc.set_figure_params(dpi=100, dpi_save=dpi_fig_save, vector_friendly=True)\n",
    "\n",
    "# Setting some parameters\n",
    "warnings.filterwarnings(\"ignore\")\n",
    "\n",
    "from sklearn.model_selection import StratifiedKFold\n",
    "\n",
    "overwriteData = True\n",
    "overwriteFigures = True\n",
    "\n",
    "# Set random seed\n",
    "random_seed = 42\n",
    "\n",
    "import scvi\n",
    "scvi.settings.dl_num_workers = 8\n",
    "scvi.settings.seed = random_seed\n",
    "\n",
    "import warnings\n",
    "warnings.filterwarnings('ignore')\n",
    "\n",
    "torch.set_float32_matmul_precision('high')\n",
    "torch.set_printoptions(precision=3, sci_mode=False, edgeitems=7)\n",
    "torch.multiprocessing.set_sharing_strategy('file_system')\n",
    "\n",
    "%load_ext autoreload\n",
    "%autoreload 2"
   ]
  },
  {
   "cell_type": "code",
   "execution_count": 2,
   "id": "e9230839-98a4-4ab3-a28a-05e68e858dd0",
   "metadata": {
    "execution": {
     "iopub.execute_input": "2024-10-22T15:33:03.039452Z",
     "iopub.status.busy": "2024-10-22T15:33:03.038905Z",
     "iopub.status.idle": "2024-10-22T15:33:03.074314Z",
     "shell.execute_reply": "2024-10-22T15:33:03.073561Z",
     "shell.execute_reply.started": "2024-10-22T15:33:03.039428Z"
    },
    "papermill": {
     "duration": 0.063097,
     "end_time": "2024-05-14T19:22:15.940108",
     "exception": false,
     "start_time": "2024-05-14T19:22:15.877011",
     "status": "completed"
    },
    "tags": []
   },
   "outputs": [],
   "source": [
    "assert load_dotenv()"
   ]
  },
  {
   "cell_type": "code",
   "execution_count": 3,
   "id": "6af74995-eeba-493d-999c-501287dd809c",
   "metadata": {
    "execution": {
     "iopub.execute_input": "2024-10-22T15:33:03.075940Z",
     "iopub.status.busy": "2024-10-22T15:33:03.075688Z",
     "iopub.status.idle": "2024-10-22T15:33:03.109206Z",
     "shell.execute_reply": "2024-10-22T15:33:03.108503Z",
     "shell.execute_reply.started": "2024-10-22T15:33:03.075923Z"
    },
    "papermill": {
     "duration": 0.051481,
     "end_time": "2024-05-14T19:22:15.995866",
     "exception": false,
     "start_time": "2024-05-14T19:22:15.944385",
     "status": "completed"
    },
    "tags": []
   },
   "outputs": [],
   "source": [
    "workingDir = here('04_visualizing_final_embedding_space/SCGT00_CentralizedDataset/')"
   ]
  },
  {
   "cell_type": "code",
   "execution_count": 4,
   "id": "1dae1184-00db-4d0c-8e49-42b1df5f9d30",
   "metadata": {
    "execution": {
     "iopub.execute_input": "2024-10-22T15:33:03.110011Z",
     "iopub.status.busy": "2024-10-22T15:33:03.109860Z",
     "iopub.status.idle": "2024-10-22T15:33:03.141837Z",
     "shell.execute_reply": "2024-10-22T15:33:03.141216Z",
     "shell.execute_reply.started": "2024-10-22T15:33:03.109996Z"
    },
    "papermill": {
     "duration": 0.052315,
     "end_time": "2024-05-14T19:22:16.052521",
     "exception": false,
     "start_time": "2024-05-14T19:22:16.000206",
     "status": "completed"
    },
    "tags": []
   },
   "outputs": [],
   "source": [
    "class CustomWandbLogger(WandbLogger):\n",
    "    @property\n",
    "    def save_dir(self):\n",
    "        \"\"\"Gets the save directory.\n",
    "\n",
    "        Returns:\n",
    "            The path to the save directory.\n",
    "\n",
    "        \"\"\"\n",
    "        return self.experiment.dir"
   ]
  },
  {
   "cell_type": "code",
   "execution_count": 5,
   "id": "70cb28c1-38c5-4910-98e5-a4d786f256d7",
   "metadata": {
    "execution": {
     "iopub.execute_input": "2024-10-22T15:33:03.142696Z",
     "iopub.status.busy": "2024-10-22T15:33:03.142535Z",
     "iopub.status.idle": "2024-10-22T15:33:03.188883Z",
     "shell.execute_reply": "2024-10-22T15:33:03.187935Z",
     "shell.execute_reply.started": "2024-10-22T15:33:03.142679Z"
    },
    "papermill": {
     "duration": 0.055789,
     "end_time": "2024-05-14T19:22:16.112980",
     "exception": false,
     "start_time": "2024-05-14T19:22:16.057191",
     "status": "completed"
    },
    "tags": []
   },
   "outputs": [
    {
     "data": {
      "text/plain": [
       "'1.1.2'"
      ]
     },
     "execution_count": 5,
     "metadata": {},
     "output_type": "execute_result"
    }
   ],
   "source": [
    "scvi.__version__"
   ]
  },
  {
   "cell_type": "markdown",
   "id": "e11bbe22-69a0-40d4-b609-7e108d2bcb46",
   "metadata": {
    "execution": {
     "iopub.execute_input": "2024-04-10T14:14:35.228151Z",
     "iopub.status.busy": "2024-04-10T14:14:35.226856Z",
     "iopub.status.idle": "2024-04-10T14:14:35.273260Z",
     "shell.execute_reply": "2024-04-10T14:14:35.272159Z",
     "shell.execute_reply.started": "2024-04-10T14:14:35.228101Z"
    },
    "papermill": {
     "duration": 0.004043,
     "end_time": "2024-05-14T19:22:16.121463",
     "exception": false,
     "start_time": "2024-05-14T19:22:16.117420",
     "status": "completed"
    },
    "tags": []
   },
   "source": [
    "# Loading data\n"
   ]
  },
  {
   "cell_type": "code",
   "execution_count": 6,
   "id": "f93686ba-9680-4b63-97c9-a0bc0a799c29",
   "metadata": {
    "execution": {
     "iopub.execute_input": "2024-10-22T15:33:03.190709Z",
     "iopub.status.busy": "2024-10-22T15:33:03.190200Z",
     "iopub.status.idle": "2024-10-22T15:33:29.314401Z",
     "shell.execute_reply": "2024-10-22T15:33:29.312964Z",
     "shell.execute_reply.started": "2024-10-22T15:33:03.190671Z"
    },
    "papermill": {
     "duration": 112.697132,
     "end_time": "2024-05-14T19:24:08.823135",
     "exception": false,
     "start_time": "2024-05-14T19:22:16.126003",
     "status": "completed"
    },
    "tags": []
   },
   "outputs": [],
   "source": [
    "# Load the h5ad file\n",
    "adata = sc.read_h5ad(here(\"02_cell_annotation/SCGT00_CentralizedDataset/02_fromCellLineages_to_CellTypes/SCGT00_MAIN_annotated_LowQFilt.h5ad\"))#, \n",
    "#                     backed='r+', chunk_size=50000)\n"
   ]
  },
  {
   "cell_type": "markdown",
   "id": "a3c1c79a-bac7-4d63-bd3b-164e32bdd9c1",
   "metadata": {},
   "source": [
    "**Loading gene universe**"
   ]
  },
  {
   "cell_type": "code",
   "execution_count": 7,
   "id": "fea4c5fc-48e3-4b87-8c83-240dfc5528dc",
   "metadata": {
    "execution": {
     "iopub.execute_input": "2024-10-22T15:33:29.316623Z",
     "iopub.status.busy": "2024-10-22T15:33:29.316110Z",
     "iopub.status.idle": "2024-10-22T15:33:29.379258Z",
     "shell.execute_reply": "2024-10-22T15:33:29.378559Z",
     "shell.execute_reply.started": "2024-10-22T15:33:29.316573Z"
    }
   },
   "outputs": [
    {
     "data": {
      "text/html": [
       "<div>\n",
       "<style scoped>\n",
       "    .dataframe tbody tr th:only-of-type {\n",
       "        vertical-align: middle;\n",
       "    }\n",
       "\n",
       "    .dataframe tbody tr th {\n",
       "        vertical-align: top;\n",
       "    }\n",
       "\n",
       "    .dataframe thead th {\n",
       "        text-align: right;\n",
       "    }\n",
       "</style>\n",
       "<table border=\"1\" class=\"dataframe\">\n",
       "  <thead>\n",
       "    <tr style=\"text-align: right;\">\n",
       "      <th></th>\n",
       "      <th>hgnc_id</th>\n",
       "      <th>symbol</th>\n",
       "      <th>locus_group</th>\n",
       "      <th>HUGO_status</th>\n",
       "    </tr>\n",
       "    <tr>\n",
       "      <th>ensembl_gene_id</th>\n",
       "      <th></th>\n",
       "      <th></th>\n",
       "      <th></th>\n",
       "      <th></th>\n",
       "    </tr>\n",
       "  </thead>\n",
       "  <tbody>\n",
       "    <tr>\n",
       "      <th>ENSG00000000003</th>\n",
       "      <td>HGNC:11858</td>\n",
       "      <td>TSPAN6</td>\n",
       "      <td>protein_coding</td>\n",
       "      <td>official</td>\n",
       "    </tr>\n",
       "    <tr>\n",
       "      <th>ENSG00000000457</th>\n",
       "      <td>HGNC:19285</td>\n",
       "      <td>SCYL3</td>\n",
       "      <td>protein_coding</td>\n",
       "      <td>official</td>\n",
       "    </tr>\n",
       "    <tr>\n",
       "      <th>ENSG00000000938</th>\n",
       "      <td>HGNC:3697</td>\n",
       "      <td>FGR</td>\n",
       "      <td>protein_coding</td>\n",
       "      <td>official</td>\n",
       "    </tr>\n",
       "    <tr>\n",
       "      <th>ENSG00000000971</th>\n",
       "      <td>HGNC:4883</td>\n",
       "      <td>CFH</td>\n",
       "      <td>protein_coding</td>\n",
       "      <td>official</td>\n",
       "    </tr>\n",
       "    <tr>\n",
       "      <th>ENSG00000001036</th>\n",
       "      <td>HGNC:4008</td>\n",
       "      <td>FUCA2</td>\n",
       "      <td>protein_coding</td>\n",
       "      <td>official</td>\n",
       "    </tr>\n",
       "    <tr>\n",
       "      <th>...</th>\n",
       "      <td>...</td>\n",
       "      <td>...</td>\n",
       "      <td>...</td>\n",
       "      <td>...</td>\n",
       "    </tr>\n",
       "    <tr>\n",
       "      <th>ENSG00000278817</th>\n",
       "      <td>NaN</td>\n",
       "      <td>ENSG00000278817</td>\n",
       "      <td>protein_coding</td>\n",
       "      <td>non-official</td>\n",
       "    </tr>\n",
       "    <tr>\n",
       "      <th>ENSG00000278828</th>\n",
       "      <td>HGNC:4775</td>\n",
       "      <td>H3C10</td>\n",
       "      <td>protein_coding</td>\n",
       "      <td>official</td>\n",
       "    </tr>\n",
       "    <tr>\n",
       "      <th>ENSG00000280670</th>\n",
       "      <td>HGNC:27003</td>\n",
       "      <td>CCDC163</td>\n",
       "      <td>protein_coding</td>\n",
       "      <td>official</td>\n",
       "    </tr>\n",
       "    <tr>\n",
       "      <th>ENSG00000280789</th>\n",
       "      <td>HGNC:28707</td>\n",
       "      <td>PAGR1</td>\n",
       "      <td>protein_coding</td>\n",
       "      <td>official</td>\n",
       "    </tr>\n",
       "    <tr>\n",
       "      <th>ENSG00000282608</th>\n",
       "      <td>HGNC:268</td>\n",
       "      <td>ADORA3</td>\n",
       "      <td>protein_coding</td>\n",
       "      <td>official</td>\n",
       "    </tr>\n",
       "  </tbody>\n",
       "</table>\n",
       "<p>8253 rows × 4 columns</p>\n",
       "</div>"
      ],
      "text/plain": [
       "                    hgnc_id           symbol     locus_group   HUGO_status\n",
       "ensembl_gene_id                                                           \n",
       "ENSG00000000003  HGNC:11858           TSPAN6  protein_coding      official\n",
       "ENSG00000000457  HGNC:19285            SCYL3  protein_coding      official\n",
       "ENSG00000000938   HGNC:3697              FGR  protein_coding      official\n",
       "ENSG00000000971   HGNC:4883              CFH  protein_coding      official\n",
       "ENSG00000001036   HGNC:4008            FUCA2  protein_coding      official\n",
       "...                     ...              ...             ...           ...\n",
       "ENSG00000278817         NaN  ENSG00000278817  protein_coding  non-official\n",
       "ENSG00000278828   HGNC:4775            H3C10  protein_coding      official\n",
       "ENSG00000280670  HGNC:27003          CCDC163  protein_coding      official\n",
       "ENSG00000280789  HGNC:28707            PAGR1  protein_coding      official\n",
       "ENSG00000282608    HGNC:268           ADORA3  protein_coding      official\n",
       "\n",
       "[8253 rows x 4 columns]"
      ]
     },
     "execution_count": 7,
     "metadata": {},
     "output_type": "execute_result"
    }
   ],
   "source": [
    "geneUniverse = pd.read_pickle(here('03_downstream_analysis/02_gene_universe_definition/results/04_selected_gene_list.pkl'))\n",
    "geneUniverse"
   ]
  },
  {
   "cell_type": "code",
   "execution_count": 8,
   "id": "db096f10-feeb-42a8-8321-3ec38236f8df",
   "metadata": {
    "execution": {
     "iopub.execute_input": "2024-10-22T15:33:29.380193Z",
     "iopub.status.busy": "2024-10-22T15:33:29.380029Z",
     "iopub.status.idle": "2024-10-22T15:33:37.160913Z",
     "shell.execute_reply": "2024-10-22T15:33:37.160170Z",
     "shell.execute_reply.started": "2024-10-22T15:33:29.380178Z"
    }
   },
   "outputs": [
    {
     "data": {
      "text/plain": [
       "AnnData object with n_obs × n_vars = 756120 × 8253\n",
       "    obs: 'studyID', 'libraryID', 'sampleID', 'chemistry', 'disease', 'sex', 'binned_age', 'batches', 'Level1'\n",
       "    var: 'hgnc_id', 'symbol', 'locus_group', 'HUGO_status'"
      ]
     },
     "execution_count": 8,
     "metadata": {},
     "output_type": "execute_result"
    }
   ],
   "source": [
    "adata = adata[:,geneUniverse.index].copy()\n",
    "adata"
   ]
  },
  {
   "cell_type": "code",
   "execution_count": 9,
   "id": "4a610977-d6ea-47c9-96c7-5bfe8525d81d",
   "metadata": {
    "execution": {
     "iopub.execute_input": "2024-10-22T15:33:37.161933Z",
     "iopub.status.busy": "2024-10-22T15:33:37.161770Z",
     "iopub.status.idle": "2024-10-22T15:33:37.201823Z",
     "shell.execute_reply": "2024-10-22T15:33:37.201130Z",
     "shell.execute_reply.started": "2024-10-22T15:33:37.161918Z"
    }
   },
   "outputs": [
    {
     "data": {
      "text/plain": [
       "Level1\n",
       "T_CD4_NonNaive    159203\n",
       "Mono              131392\n",
       "T_CD4_Naive       123116\n",
       "T_CD8_NonNaive     93256\n",
       "ILC                57046\n",
       "B                  55869\n",
       "Platelets          52472\n",
       "T_CD8_Naive        40745\n",
       "UTC                23420\n",
       "DC                 10440\n",
       "pDC                 3125\n",
       "Cycling             2741\n",
       "Progenitors         1716\n",
       "Plasma              1383\n",
       "RBC                  196\n",
       "Name: count, dtype: int64"
      ]
     },
     "execution_count": 9,
     "metadata": {},
     "output_type": "execute_result"
    }
   ],
   "source": [
    "adata.obs.value_counts('Level1')"
   ]
  },
  {
   "cell_type": "code",
   "execution_count": 10,
   "id": "a52d2a6d-f2ce-48d1-a770-ebcbc1d8ff75",
   "metadata": {
    "execution": {
     "iopub.execute_input": "2024-10-22T15:33:37.202773Z",
     "iopub.status.busy": "2024-10-22T15:33:37.202599Z",
     "iopub.status.idle": "2024-10-22T15:33:37.241652Z",
     "shell.execute_reply": "2024-10-22T15:33:37.241198Z",
     "shell.execute_reply.started": "2024-10-22T15:33:37.202757Z"
    }
   },
   "outputs": [
    {
     "data": {
      "text/plain": [
       "disease\n",
       "RA     353283\n",
       "PS     114090\n",
       "PSA     97885\n",
       "UC      87969\n",
       "CD      75809\n",
       "SLE     27084\n",
       "Name: count, dtype: int64"
      ]
     },
     "execution_count": 10,
     "metadata": {},
     "output_type": "execute_result"
    }
   ],
   "source": [
    "adata.obs.value_counts('disease')"
   ]
  },
  {
   "cell_type": "code",
   "execution_count": 11,
   "id": "aeb587ff-53e7-412f-b322-137d02811587",
   "metadata": {
    "execution": {
     "iopub.execute_input": "2024-10-22T15:33:37.242494Z",
     "iopub.status.busy": "2024-10-22T15:33:37.242309Z",
     "iopub.status.idle": "2024-10-22T15:33:37.280268Z",
     "shell.execute_reply": "2024-10-22T15:33:37.279835Z",
     "shell.execute_reply.started": "2024-10-22T15:33:37.242478Z"
    }
   },
   "outputs": [
    {
     "data": {
      "text/plain": [
       "batches\n",
       "Chron_Pool2Pool4    57071\n",
       "UC_Pool5Pool7       53229\n",
       "RA_Pool19Pool20     48964\n",
       "RA_Pool15Pool16     46909\n",
       "RA_Pool13Pool14     46615\n",
       "RA_Pool2Pool4       46206\n",
       "PS_Pool3Pool5       45743\n",
       "PS_Pool6Pool7       43414\n",
       "RA_Pool1Pool3       42631\n",
       "RA_Pool10Pool12     42216\n",
       "RA_Pool9Pool11      40449\n",
       "RA_Pool6Pool8       39293\n",
       "PsA_Pool5Pool7      35860\n",
       "UC_Pool6Pool8       34740\n",
       "PsA_Pool1Pool3      34428\n",
       "PsA_Pool2Pool4      27597\n",
       "SLE_Pool2Pool4      27084\n",
       "PS_Pool2Pool4       24933\n",
       "IBD_Pool1Pool2      18738\n",
       "Name: count, dtype: int64"
      ]
     },
     "execution_count": 11,
     "metadata": {},
     "output_type": "execute_result"
    }
   ],
   "source": [
    "adata.obs.value_counts('batches')"
   ]
  },
  {
   "cell_type": "code",
   "execution_count": 12,
   "id": "01c8a959-ea75-49a0-ac94-194c693ed114",
   "metadata": {
    "execution": {
     "iopub.execute_input": "2024-10-22T15:33:37.282020Z",
     "iopub.status.busy": "2024-10-22T15:33:37.281837Z",
     "iopub.status.idle": "2024-10-22T15:33:37.387066Z",
     "shell.execute_reply": "2024-10-22T15:33:37.386303Z",
     "shell.execute_reply.started": "2024-10-22T15:33:37.282003Z"
    },
    "papermill": {
     "duration": 0.12427,
     "end_time": "2024-05-14T19:24:08.952154",
     "exception": false,
     "start_time": "2024-05-14T19:24:08.827884",
     "status": "completed"
    },
    "tags": []
   },
   "outputs": [],
   "source": [
    "adata.obs['binned_age'] = adata.obs['binned_age'].astype(str)"
   ]
  },
  {
   "cell_type": "code",
   "execution_count": 13,
   "id": "79a8296c-51f4-47ce-a8a5-59e72e4aab87",
   "metadata": {
    "execution": {
     "iopub.execute_input": "2024-10-22T15:33:37.388076Z",
     "iopub.status.busy": "2024-10-22T15:33:37.387896Z",
     "iopub.status.idle": "2024-10-22T15:33:37.420187Z",
     "shell.execute_reply": "2024-10-22T15:33:37.419459Z",
     "shell.execute_reply.started": "2024-10-22T15:33:37.388059Z"
    }
   },
   "outputs": [],
   "source": [
    "genes = adata.var"
   ]
  },
  {
   "cell_type": "code",
   "execution_count": 14,
   "id": "f0ae0256-2079-4a73-b506-fd494b1e9b84",
   "metadata": {
    "execution": {
     "iopub.execute_input": "2024-10-22T15:33:37.420989Z",
     "iopub.status.busy": "2024-10-22T15:33:37.420835Z",
     "iopub.status.idle": "2024-10-22T15:33:37.911952Z",
     "shell.execute_reply": "2024-10-22T15:33:37.911259Z",
     "shell.execute_reply.started": "2024-10-22T15:33:37.420973Z"
    }
   },
   "outputs": [
    {
     "name": "stdout",
     "output_type": "stream",
     "text": [
      "0 mitochondrial genes\n",
      "0 ribosomal genes\n",
      "0 TCR genes\n",
      "0 TCR genes\n",
      "1 HB genes\n",
      "20 MHC genes\n",
      "3 PLT genes\n"
     ]
    }
   ],
   "source": [
    "# Retrieve MT and RB genes present in the dataset\n",
    "MT_gene_idx = genes[\"symbol\"].str.startswith(\"MT-\")\n",
    "print(f\"{np.sum(MT_gene_idx)} mitochondrial genes\")\n",
    "\n",
    "RB_gene_idx = genes[\"symbol\"].str.startswith((\"RPS\", \"RPL\"))\n",
    "print(f\"{np.sum(RB_gene_idx)} ribosomal genes\")\n",
    "\n",
    "# Retrieve TCR and BCR present in the dataset\n",
    "TCR_gene_idx = genes[\"symbol\"].str.contains(\"^TRA(J|V)|^TRB(J|V|D)\")\n",
    "print(f\"{np.sum(TCR_gene_idx)} TCR genes\")\n",
    "\n",
    "BCR_gene_idx = genes[\"symbol\"].str.contains(\"^IGH(J|V)\")\n",
    "print(f\"{np.sum(BCR_gene_idx)} TCR genes\")\n",
    "\n",
    "HB_gene_idx = genes[\"symbol\"].str.contains(\"^HB[^(P)]\")\n",
    "print(f\"{np.sum(HB_gene_idx)} HB genes\")\n",
    "\n",
    "# Some of those genes will be included anyway because are part of curated gene sets.\n",
    "MHC_gene_idx = genes[\"symbol\"].str.contains(\"^HLA-\")\n",
    "print(f\"{np.sum(MHC_gene_idx)} MHC genes\")\n",
    "\n",
    "PLT_gene_idx = genes[\"symbol\"].isin([\"PPBP\", \"PDGF\", \"ANG1\", \"LAPTM4B\", \"WASF3\", \"TPM3\", \"PF4\", \"TAC1\"])\n",
    "print(f\"{np.sum(PLT_gene_idx)} PLT genes\")"
   ]
  },
  {
   "cell_type": "markdown",
   "id": "a13cd6e8-6229-4427-b616-441ba5a67b47",
   "metadata": {
    "papermill": {
     "duration": 0.004524,
     "end_time": "2024-05-14T19:24:08.961339",
     "exception": false,
     "start_time": "2024-05-14T19:24:08.956815",
     "status": "completed"
    },
    "tags": []
   },
   "source": [
    "**Parameters**"
   ]
  },
  {
   "cell_type": "code",
   "execution_count": 15,
   "id": "689bf365-5025-4c03-a3af-8a860bb2899a",
   "metadata": {
    "execution": {
     "iopub.execute_input": "2024-10-22T15:33:37.912912Z",
     "iopub.status.busy": "2024-10-22T15:33:37.912728Z",
     "iopub.status.idle": "2024-10-22T15:33:37.945122Z",
     "shell.execute_reply": "2024-10-22T15:33:37.944687Z",
     "shell.execute_reply.started": "2024-10-22T15:33:37.912895Z"
    },
    "papermill": {
     "duration": 0.05804,
     "end_time": "2024-05-14T19:24:09.023930",
     "exception": false,
     "start_time": "2024-05-14T19:24:08.965890",
     "status": "completed"
    },
    "tags": []
   },
   "outputs": [],
   "source": [
    "setup_kwargs = dict(\n",
    "    layer=None, \n",
    "    batch_key='batches',\n",
    "    categorical_covariate_keys = None,\n",
    "    labels_key = 'Level1' # needed for the following scANVI fine tuning\n",
    ")\n",
    "\n",
    "scvi_kwargs = dict(n_hidden=256,\n",
    "                   n_latent=30,\n",
    "                   n_layers=4, \n",
    "                   gene_likelihood='nb')\n",
    "\n",
    "trainer_kwargs = dict(\n",
    "    checkpointing_monitor = 'elbo_validation',\n",
    "    early_stopping_monitor = 'reconstruction_loss_validation',\n",
    "    early_stopping_patience = 2,\n",
    "    early_stopping_min_delta=0.1,\n",
    "    early_stopping = True,\n",
    "    max_epochs = 1000,\n",
    "\n",
    "    #logger = # wandb\n",
    ")\n",
    "# https://docs.scvi-tools.org/en/stable/api/reference/scvi.train.TrainingPlan.html#scvi.train.TrainingPlan\n",
    "plan_kwargs = dict(\n",
    "    lr = 5e-4,\n",
    "    #reduce_lr_on_plateau = True\n",
    ")\n",
    "\n",
    "# https://docs.scvi-tools.org/en/stable/api/reference/scvi.module.VAE.html#scvi.module.VAE\n",
    "#vae = dict(\n",
    "#    use_layer_norm='both',\n",
    "#    use_batch_norm='none',\n",
    "#    encode_covariates=True,\n",
    "#    deeply_inject_covariates=False\n",
    "#)\n",
    "datasplitter_kwargs = dict(pin_memory=True)\n",
    "scvi_parameter_dict = setup_kwargs | scvi_kwargs | trainer_kwargs | plan_kwargs| datasplitter_kwargs"
   ]
  },
  {
   "cell_type": "code",
   "execution_count": 16,
   "id": "e78a792d-f9a4-46dd-818b-6b31ae1935a6",
   "metadata": {
    "execution": {
     "iopub.execute_input": "2024-10-22T15:33:37.945890Z",
     "iopub.status.busy": "2024-10-22T15:33:37.945734Z",
     "iopub.status.idle": "2024-10-22T15:33:37.976543Z",
     "shell.execute_reply": "2024-10-22T15:33:37.976143Z",
     "shell.execute_reply.started": "2024-10-22T15:33:37.945874Z"
    },
    "papermill": {
     "duration": 0.054289,
     "end_time": "2024-05-14T19:24:09.082550",
     "exception": false,
     "start_time": "2024-05-14T19:24:09.028261",
     "status": "completed"
    },
    "tags": []
   },
   "outputs": [
    {
     "data": {
      "text/plain": [
       "'MAINobj_scVI_pretraining_noRBCnPlat'"
      ]
     },
     "execution_count": 16,
     "metadata": {},
     "output_type": "execute_result"
    }
   ],
   "source": [
    "run_name = f\"MAINobj_scVI_pretraining_noRBCnPlat\"\n",
    "run_name"
   ]
  },
  {
   "cell_type": "code",
   "execution_count": 17,
   "id": "fec631d0-be43-49c1-96a3-8f8b219aa620",
   "metadata": {
    "execution": {
     "iopub.execute_input": "2024-10-22T15:33:37.977236Z",
     "iopub.status.busy": "2024-10-22T15:33:37.977087Z",
     "iopub.status.idle": "2024-10-22T15:33:38.099997Z",
     "shell.execute_reply": "2024-10-22T15:33:38.099373Z",
     "shell.execute_reply.started": "2024-10-22T15:33:37.977222Z"
    },
    "papermill": {
     "duration": 1.052538,
     "end_time": "2024-05-14T19:24:10.139668",
     "exception": false,
     "start_time": "2024-05-14T19:24:09.087130",
     "status": "completed"
    },
    "tags": []
   },
   "outputs": [
    {
     "name": "stderr",
     "output_type": "stream",
     "text": [
      "WARNING:jax._src.xla_bridge:CUDA backend failed to initialize: Unable to use CUDA because of the following issues with CUDA components:\n",
      "Outdated cuSPARSE installation found.\n",
      "Version JAX was built against: 12200\n",
      "Minimum supported: 12100\n",
      "Installed version: 12002\n",
      "The local installation version must be no lower than 12100. (Set TF_CPP_MIN_LOG_LEVEL=0 and rerun for more info.)\n"
     ]
    }
   ],
   "source": [
    "sca.models.SCVI.setup_anndata(adata, \n",
    "                              **setup_kwargs)"
   ]
  },
  {
   "cell_type": "code",
   "execution_count": 18,
   "id": "99ba44c8-b551-47bf-9fe8-1e9eba4b0c72",
   "metadata": {
    "execution": {
     "iopub.execute_input": "2024-10-22T15:33:38.100942Z",
     "iopub.status.busy": "2024-10-22T15:33:38.100768Z",
     "iopub.status.idle": "2024-10-22T15:33:38.156901Z",
     "shell.execute_reply": "2024-10-22T15:33:38.156284Z",
     "shell.execute_reply.started": "2024-10-22T15:33:38.100926Z"
    },
    "papermill": {
     "duration": 0.124144,
     "end_time": "2024-05-14T19:24:10.268503",
     "exception": false,
     "start_time": "2024-05-14T19:24:10.144359",
     "status": "completed"
    },
    "tags": []
   },
   "outputs": [],
   "source": [
    "logger = CustomWandbLogger(name = run_name, project='inflammation_atlas_R1_scANVI_batches', config = scvi_parameter_dict)"
   ]
  },
  {
   "cell_type": "code",
   "execution_count": 19,
   "id": "ddc105bb-90d1-4539-bfc2-b7b9600e7353",
   "metadata": {
    "execution": {
     "iopub.execute_input": "2024-10-22T15:33:38.157785Z",
     "iopub.status.busy": "2024-10-22T15:33:38.157618Z",
     "iopub.status.idle": "2024-10-22T15:33:39.984262Z",
     "shell.execute_reply": "2024-10-22T15:33:39.983734Z",
     "shell.execute_reply.started": "2024-10-22T15:33:38.157769Z"
    },
    "papermill": {
     "duration": 29.695626,
     "end_time": "2024-05-14T19:24:39.968937",
     "exception": false,
     "start_time": "2024-05-14T19:24:10.273311",
     "status": "completed"
    },
    "tags": []
   },
   "outputs": [],
   "source": [
    "scvi_model = sca.models.SCVI(adata, **scvi_kwargs)"
   ]
  },
  {
   "cell_type": "code",
   "execution_count": 20,
   "id": "262b5470-c947-44e3-b5ff-4c707a2997fb",
   "metadata": {
    "execution": {
     "iopub.execute_input": "2024-10-22T15:33:43.596115Z",
     "iopub.status.busy": "2024-10-22T15:33:43.595549Z",
     "iopub.status.idle": "2024-10-22T16:13:21.172278Z",
     "shell.execute_reply": "2024-10-22T16:13:21.171594Z",
     "shell.execute_reply.started": "2024-10-22T15:33:43.596074Z"
    },
    "papermill": {
     "duration": 471.504148,
     "end_time": "2024-05-14T19:32:31.477850",
     "exception": false,
     "start_time": "2024-05-14T19:24:39.973702",
     "status": "completed"
    },
    "tags": []
   },
   "outputs": [
    {
     "name": "stderr",
     "output_type": "stream",
     "text": [
      "INFO: GPU available: True (cuda), used: True\n",
      "INFO:lightning.pytorch.utilities.rank_zero:GPU available: True (cuda), used: True\n",
      "INFO: TPU available: False, using: 0 TPU cores\n",
      "INFO:lightning.pytorch.utilities.rank_zero:TPU available: False, using: 0 TPU cores\n",
      "INFO: IPU available: False, using: 0 IPUs\n",
      "INFO:lightning.pytorch.utilities.rank_zero:IPU available: False, using: 0 IPUs\n",
      "INFO: HPU available: False, using: 0 HPUs\n",
      "INFO:lightning.pytorch.utilities.rank_zero:HPU available: False, using: 0 HPUs\n",
      "\u001b[34m\u001b[1mwandb\u001b[0m: Currently logged in as: \u001b[33mdav1989\u001b[0m (\u001b[33minflammation\u001b[0m). Use \u001b[1m`wandb login --relogin`\u001b[0m to force relogin\n"
     ]
    },
    {
     "data": {
      "text/html": [
       "wandb version 0.18.5 is available!  To upgrade, please run:\n",
       " $ pip install wandb --upgrade"
      ],
      "text/plain": [
       "<IPython.core.display.HTML object>"
      ]
     },
     "metadata": {},
     "output_type": "display_data"
    },
    {
     "data": {
      "text/html": [
       "Tracking run with wandb version 0.16.5"
      ],
      "text/plain": [
       "<IPython.core.display.HTML object>"
      ]
     },
     "metadata": {},
     "output_type": "display_data"
    },
    {
     "data": {
      "text/html": [
       "Run data is saved locally in <code>./wandb/run-20241022_153345-fk4hnhsa</code>"
      ],
      "text/plain": [
       "<IPython.core.display.HTML object>"
      ]
     },
     "metadata": {},
     "output_type": "display_data"
    },
    {
     "data": {
      "text/html": [
       "Syncing run <strong><a href='https://wandb.ai/inflammation/inflammation_atlas_R1_scANVI_batches/runs/fk4hnhsa/workspace' target=\"_blank\">MAINobj_scVI_pretraining_noRBCnPlat</a></strong> to <a href='https://wandb.ai/inflammation/inflammation_atlas_R1_scANVI_batches' target=\"_blank\">Weights & Biases</a> (<a href='https://wandb.me/run' target=\"_blank\">docs</a>)<br/>"
      ],
      "text/plain": [
       "<IPython.core.display.HTML object>"
      ]
     },
     "metadata": {},
     "output_type": "display_data"
    },
    {
     "data": {
      "text/html": [
       " View project at <a href='https://wandb.ai/inflammation/inflammation_atlas_R1_scANVI_batches' target=\"_blank\">https://wandb.ai/inflammation/inflammation_atlas_R1_scANVI_batches</a>"
      ],
      "text/plain": [
       "<IPython.core.display.HTML object>"
      ]
     },
     "metadata": {},
     "output_type": "display_data"
    },
    {
     "data": {
      "text/html": [
       " View run at <a href='https://wandb.ai/inflammation/inflammation_atlas_R1_scANVI_batches/runs/fk4hnhsa/workspace' target=\"_blank\">https://wandb.ai/inflammation/inflammation_atlas_R1_scANVI_batches/runs/fk4hnhsa/workspace</a>"
      ],
      "text/plain": [
       "<IPython.core.display.HTML object>"
      ]
     },
     "metadata": {},
     "output_type": "display_data"
    },
    {
     "name": "stderr",
     "output_type": "stream",
     "text": [
      "INFO: LOCAL_RANK: 0 - CUDA_VISIBLE_DEVICES: [0]\n",
      "INFO:lightning.pytorch.accelerators.cuda:LOCAL_RANK: 0 - CUDA_VISIBLE_DEVICES: [0]\n"
     ]
    },
    {
     "name": "stdout",
     "output_type": "stream",
     "text": [
      "Epoch 26/1000:   3%|█                                        | 26/1000 [39:29<24:39:26, 91.14s/it, v_num=nhsa, train_loss_step=2.06e+3, train_loss_epoch=1.98e+3]\n",
      "Monitored metric reconstruction_loss_validation did not improve in the last 2 records. Best score: 1973.550. Signaling Trainer to stop.\n"
     ]
    }
   ],
   "source": [
    "scvi_model.train(logger=logger, datasplitter_kwargs=datasplitter_kwargs, plan_kwargs = plan_kwargs, **trainer_kwargs)"
   ]
  },
  {
   "cell_type": "code",
   "execution_count": 21,
   "id": "599af344-d9cc-4893-9f65-40c2c74bc659",
   "metadata": {
    "execution": {
     "iopub.execute_input": "2024-10-22T16:13:21.173707Z",
     "iopub.status.busy": "2024-10-22T16:13:21.173446Z",
     "iopub.status.idle": "2024-10-22T16:13:25.462306Z",
     "shell.execute_reply": "2024-10-22T16:13:25.460967Z",
     "shell.execute_reply.started": "2024-10-22T16:13:21.173686Z"
    },
    "papermill": {
     "duration": 5.998303,
     "end_time": "2024-05-14T19:32:37.482252",
     "exception": false,
     "start_time": "2024-05-14T19:32:31.483949",
     "status": "completed"
    },
    "tags": []
   },
   "outputs": [
    {
     "data": {
      "text/html": [
       "<style>\n",
       "    table.wandb td:nth-child(1) { padding: 0 10px; text-align: left ; width: auto;} td:nth-child(2) {text-align: left ; width: 100%}\n",
       "    .wandb-row { display: flex; flex-direction: row; flex-wrap: wrap; justify-content: flex-start; width: 100% }\n",
       "    .wandb-col { display: flex; flex-direction: column; flex-basis: 100%; flex: 1; padding: 10px; }\n",
       "    </style>\n",
       "<div class=\"wandb-row\"><div class=\"wandb-col\"><h3>Run history:</h3><br/><table class=\"wandb\"><tr><td>elbo_train</td><td>█▆▄▄▃▃▃▂▂▂▂▂▂▂▁▁▁▁▁▁▁▁▁▁▁▁</td></tr><tr><td>elbo_validation</td><td>█▅▄▃▃▃▂▂▂▂▂▂▂▂▁▁▁▁▁▁▁▁▁▁▁▁</td></tr><tr><td>epoch</td><td>▁▁▁▂▂▂▂▂▂▂▃▃▃▃▄▄▄▄▄▄▅▅▅▅▅▅▆▆▆▆▆▇▇▇▇▇▇███</td></tr><tr><td>kl_global_train</td><td>▁▁▁▁▁▁▁▁▁▁▁▁▁▁▁▁▁▁▁▁▁▁▁▁▁▁</td></tr><tr><td>kl_global_validation</td><td>▁▁▁▁▁▁▁▁▁▁▁▁▁▁▁▁▁▁▁▁▁▁▁▁▁▁</td></tr><tr><td>kl_local_train</td><td>▇█▆▅▄▄▃▃▃▂▂▂▂▂▂▂▂▁▁▁▁▁▁▁▁▁</td></tr><tr><td>kl_local_validation</td><td>█▅▄▃▃▃▂▂▂▂▂▂▂▁▁▁▁▁▁▁▁▁▁▁▁▁</td></tr><tr><td>kl_weight</td><td>▁▁▁▂▂▂▂▂▂▃▃▃▃▃▄▄▄▄▄▄▅▅▅▅▅▅▆▆▆▆▆▇▇▇▇▇▇███</td></tr><tr><td>reconstruction_loss_train</td><td>█▃▃▂▂▂▂▂▂▂▁▁▁▁▁▁▁▁▁▁▁▁▁▁▁▁</td></tr><tr><td>reconstruction_loss_validation</td><td>█▅▄▃▃▃▂▂▂▂▂▂▂▂▂▁▁▁▁▁▁▁▁▁▁▁</td></tr><tr><td>train_loss_epoch</td><td>█▃▂▂▂▂▂▂▁▁▁▁▁▁▁▁▁▁▁▁▁▁▁▁▁▁</td></tr><tr><td>train_loss_step</td><td>▄▆▅▄█▆▆▃▅▇▁▆▃▄▄▇▃▅▅▄▃▃▃▃▂▅▂▃▁█▅▄▂▄▃▆▂▇▄▇</td></tr><tr><td>trainer/global_step</td><td>▁▁▁▂▂▂▂▂▂▃▃▃▃▃▃▄▄▄▄▄▅▅▅▅▅▅▆▆▆▆▆▇▇▇▇▇▇███</td></tr><tr><td>validation_loss</td><td>█▅▄▃▃▃▂▂▂▂▂▂▂▁▁▁▁▁▁▁▁▁▁▁▁▁</td></tr></table><br/></div><div class=\"wandb-col\"><h3>Run summary:</h3><br/><table class=\"wandb\"><tr><td>elbo_train</td><td>2029.09912</td></tr><tr><td>elbo_validation</td><td>2025.19678</td></tr><tr><td>epoch</td><td>25</td></tr><tr><td>kl_global_train</td><td>0.0</td></tr><tr><td>kl_global_validation</td><td>0.0</td></tr><tr><td>kl_local_train</td><td>53.58863</td></tr><tr><td>kl_local_validation</td><td>51.74586</td></tr><tr><td>kl_weight</td><td>0.0625</td></tr><tr><td>reconstruction_loss_train</td><td>1975.5105</td></tr><tr><td>reconstruction_loss_validation</td><td>1973.45093</td></tr><tr><td>train_loss_epoch</td><td>1978.85205</td></tr><tr><td>train_loss_step</td><td>2116.86084</td></tr><tr><td>trainer/global_step</td><td>138241</td></tr><tr><td>validation_loss</td><td>1976.68481</td></tr></table><br/></div></div>"
      ],
      "text/plain": [
       "<IPython.core.display.HTML object>"
      ]
     },
     "metadata": {},
     "output_type": "display_data"
    },
    {
     "data": {
      "text/html": [
       " View run <strong style=\"color:#cdcd00\">MAINobj_scVI_pretraining_noRBCnPlat</strong> at: <a href='https://wandb.ai/inflammation/inflammation_atlas_R1_scANVI_batches/runs/fk4hnhsa/workspace' target=\"_blank\">https://wandb.ai/inflammation/inflammation_atlas_R1_scANVI_batches/runs/fk4hnhsa/workspace</a><br/>Synced 6 W&B file(s), 0 media file(s), 0 artifact file(s) and 0 other file(s)"
      ],
      "text/plain": [
       "<IPython.core.display.HTML object>"
      ]
     },
     "metadata": {},
     "output_type": "display_data"
    },
    {
     "data": {
      "text/html": [
       "Find logs at: <code>./wandb/run-20241022_153345-fk4hnhsa/logs</code>"
      ],
      "text/plain": [
       "<IPython.core.display.HTML object>"
      ]
     },
     "metadata": {},
     "output_type": "display_data"
    }
   ],
   "source": [
    "wandb.finish()"
   ]
  },
  {
   "cell_type": "code",
   "execution_count": 22,
   "id": "21287012-c472-4af7-896e-e3eb055f5f48",
   "metadata": {
    "execution": {
     "iopub.execute_input": "2024-10-22T16:13:25.464465Z",
     "iopub.status.busy": "2024-10-22T16:13:25.463985Z",
     "iopub.status.idle": "2024-10-22T16:13:36.134606Z",
     "shell.execute_reply": "2024-10-22T16:13:36.133097Z",
     "shell.execute_reply.started": "2024-10-22T16:13:25.464417Z"
    },
    "papermill": {
     "duration": 0.54756,
     "end_time": "2024-05-14T19:32:38.035870",
     "exception": false,
     "start_time": "2024-05-14T19:32:37.488310",
     "status": "completed"
    },
    "tags": []
   },
   "outputs": [],
   "source": [
    "if overwriteData:\n",
    "    scvi_model.save(here(f\"{workingDir}/results/scVI_model_pretreined_batches/\"), \n",
    "               overwrite = True, \n",
    "               save_anndata = True)"
   ]
  },
  {
   "cell_type": "code",
   "execution_count": 23,
   "id": "2ff8243e-e753-470a-9ff2-6f34aaa1d706",
   "metadata": {
    "execution": {
     "iopub.execute_input": "2024-10-22T16:13:36.137447Z",
     "iopub.status.busy": "2024-10-22T16:13:36.136929Z",
     "iopub.status.idle": "2024-10-22T16:13:59.582288Z",
     "shell.execute_reply": "2024-10-22T16:13:59.581359Z",
     "shell.execute_reply.started": "2024-10-22T16:13:36.137400Z"
    },
    "papermill": {
     "duration": 173.216521,
     "end_time": "2024-05-14T19:35:31.259113",
     "exception": false,
     "start_time": "2024-05-14T19:32:38.042592",
     "status": "completed"
    },
    "tags": []
   },
   "outputs": [],
   "source": [
    "scvi_emb = scvi_model.get_latent_representation(adata=adata)"
   ]
  },
  {
   "cell_type": "code",
   "execution_count": 24,
   "id": "bc47465b-8ddd-41ae-93eb-3faaa243cbf1",
   "metadata": {
    "execution": {
     "iopub.execute_input": "2024-10-22T16:13:59.584049Z",
     "iopub.status.busy": "2024-10-22T16:13:59.583667Z",
     "iopub.status.idle": "2024-10-22T16:14:03.498409Z",
     "shell.execute_reply": "2024-10-22T16:14:03.497013Z",
     "shell.execute_reply.started": "2024-10-22T16:13:59.584012Z"
    },
    "papermill": {
     "duration": 28.144796,
     "end_time": "2024-05-14T19:35:59.410567",
     "exception": false,
     "start_time": "2024-05-14T19:35:31.265771",
     "status": "completed"
    },
    "tags": []
   },
   "outputs": [],
   "source": [
    "np.savez_compressed(file = str(here(f\"{workingDir}/results/scVI_model_pretreined_batches/scVI_embedding.npz\")), arr=scvi_emb)"
   ]
  },
  {
   "cell_type": "code",
   "execution_count": null,
   "id": "0dea08c0-9da4-482e-adc4-d8d59f0d0868",
   "metadata": {},
   "outputs": [],
   "source": []
  }
 ],
 "metadata": {
  "kernelspec": {
   "display_name": "Python 3 (ipykernel)",
   "language": "python",
   "name": "python3"
  },
  "language_info": {
   "codemirror_mode": {
    "name": "ipython",
    "version": 3
   },
   "file_extension": ".py",
   "mimetype": "text/x-python",
   "name": "python",
   "nbconvert_exporter": "python",
   "pygments_lexer": "ipython3",
   "version": "3.10.13"
  },
  "papermill": {
   "default_parameters": {},
   "duration": 833.614402,
   "end_time": "2024-05-14T19:36:02.706613",
   "environment_variables": {},
   "exception": null,
   "input_path": "01_preTraining_scVI.ipynb",
   "output_path": "01_preTraining_scVI.ipynb",
   "parameters": {},
   "start_time": "2024-05-14T19:22:09.092211",
   "version": "2.5.0"
  }
 },
 "nbformat": 4,
 "nbformat_minor": 5
}
