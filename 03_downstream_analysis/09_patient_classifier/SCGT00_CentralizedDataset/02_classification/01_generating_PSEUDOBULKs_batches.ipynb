{
 "cells": [
  {
   "cell_type": "code",
   "execution_count": 1,
   "id": "888fb5f4-9ab7-4196-a282-7a7e92a43971",
   "metadata": {
    "execution": {
     "iopub.execute_input": "2024-10-23T09:24:17.518631Z",
     "iopub.status.busy": "2024-10-23T09:24:17.518366Z",
     "iopub.status.idle": "2024-10-23T09:24:30.343521Z",
     "shell.execute_reply": "2024-10-23T09:24:30.343131Z",
     "shell.execute_reply.started": "2024-10-23T09:24:17.518614Z"
    }
   },
   "outputs": [],
   "source": [
    "import os\n",
    "import sys\n",
    "from glob import glob\n",
    "\n",
    "import scanpy as sc\n",
    "import pandas as pd\n",
    "\n",
    "import pynndescent\n",
    "import numpy as np\n",
    "import numba\n",
    "\n",
    "from pyprojroot import here\n",
    "\n",
    "sys.path.insert(1, str(here('bin')))\n",
    "# Import custom functions\n",
    "from customPythonFunctions import aggregating_features"
   ]
  },
  {
   "cell_type": "markdown",
   "id": "ba4905ae-4546-4ef4-b57b-950441ab079d",
   "metadata": {},
   "source": [
    "### Loading data"
   ]
  },
  {
   "cell_type": "code",
   "execution_count": 2,
   "id": "0fcfce0a-896b-4dc0-8e5e-46749205c84f",
   "metadata": {
    "execution": {
     "iopub.execute_input": "2024-10-23T09:24:30.344476Z",
     "iopub.status.busy": "2024-10-23T09:24:30.344199Z",
     "iopub.status.idle": "2024-10-23T09:24:33.362916Z",
     "shell.execute_reply": "2024-10-23T09:24:33.362582Z",
     "shell.execute_reply.started": "2024-10-23T09:24:30.344460Z"
    }
   },
   "outputs": [
    {
     "data": {
      "text/plain": [
       "(AnnData object with n_obs × n_vars = 756120 × 30\n",
       "     obs: 'studyID', 'libraryID', 'sampleID', 'chemistry', 'disease', 'sex', 'binned_age', 'batches', 'Level1', '_scvi_batch', '_scvi_labels',\n",
       " AnnData object with n_obs × n_vars = 379359 × 30\n",
       "     obs: 'studyID', 'libraryID', 'sampleID', 'chemistry', 'technology', 'patientID', 'disease', 'timepoint_replicate', 'treatmentStatus', 'therapyResponse', 'sex', 'age', 'BMI', 'binned_age', 'diseaseStatus', 'smokingStatus', 'ethnicity', 'institute', 'diseaseGroup', 'batches', 'n_genes_by_counts', 'log1p_n_genes_by_counts', 'total_counts', 'log1p_total_counts', 'pct_counts_in_top_20_genes', 'total_counts_mt', 'log1p_total_counts_mt', 'pct_counts_mt', 'total_counts_ribo', 'log1p_total_counts_ribo', 'pct_counts_ribo', 'total_counts_hb', 'log1p_total_counts_hb', 'pct_counts_hb', 'total_counts_plt', 'log1p_total_counts_plt', 'pct_counts_plt', '_scvi_batch', 'Level1', '_scvi_labels', 'Level1_pred')"
      ]
     },
     "execution_count": 2,
     "metadata": {},
     "output_type": "execute_result"
    }
   ],
   "source": [
    "adataR = sc.read_h5ad(here('09_patient_classifier/SCGT00_CentralizedDataset/results_batches/scANVI_SCGT00_MAIN_batches_latent.h5ad'))\n",
    "adataQ = sc.read_h5ad(here('09_patient_classifier/SCGT00_CentralizedDataset/results_batches/scANVI_SCGT00_EXTERNAL_batches_latent.h5ad'))\n",
    "\n",
    "adataQ.obs['Level1_pred'] = adataQ.obs['labels']\n",
    "adataQ.obs.drop('labels',axis=1,inplace=True)\n",
    "\n",
    "adataR, adataQ"
   ]
  },
  {
   "cell_type": "code",
   "execution_count": 3,
   "id": "83ea89fd-965e-4c2c-bcd9-7467a6a78cd0",
   "metadata": {
    "execution": {
     "iopub.execute_input": "2024-10-23T09:24:33.363781Z",
     "iopub.status.busy": "2024-10-23T09:24:33.363635Z",
     "iopub.status.idle": "2024-10-23T09:24:33.369979Z",
     "shell.execute_reply": "2024-10-23T09:24:33.369665Z",
     "shell.execute_reply.started": "2024-10-23T09:24:33.363766Z"
    }
   },
   "outputs": [
    {
     "data": {
      "text/plain": [
       "Level1\n",
       "T_CD4_NonNaive    0.210553\n",
       "Mono              0.173771\n",
       "T_CD4_Naive       0.162826\n",
       "T_CD8_NonNaive    0.123335\n",
       "ILC               0.075446\n",
       "B                 0.073889\n",
       "Platelets         0.069396\n",
       "T_CD8_Naive       0.053887\n",
       "UTC               0.030974\n",
       "DC                0.013807\n",
       "pDC               0.004133\n",
       "Cycling           0.003625\n",
       "Progenitors       0.002269\n",
       "Plasma            0.001829\n",
       "RBC               0.000259\n",
       "Name: proportion, dtype: float64"
      ]
     },
     "execution_count": 3,
     "metadata": {},
     "output_type": "execute_result"
    }
   ],
   "source": [
    "adataR.obs['Level1'].value_counts(normalize = True)"
   ]
  },
  {
   "cell_type": "code",
   "execution_count": 4,
   "id": "49989bf2-12e9-409d-a9d7-289046c94107",
   "metadata": {
    "execution": {
     "iopub.execute_input": "2024-10-23T09:24:33.370557Z",
     "iopub.status.busy": "2024-10-23T09:24:33.370422Z",
     "iopub.status.idle": "2024-10-23T09:24:33.383080Z",
     "shell.execute_reply": "2024-10-23T09:24:33.382789Z",
     "shell.execute_reply.started": "2024-10-23T09:24:33.370543Z"
    }
   },
   "outputs": [
    {
     "data": {
      "text/plain": [
       "Level1_pred\n",
       "Mono              0.208096\n",
       "T_CD4_NonNaive    0.206783\n",
       "T_CD4_Naive       0.180117\n",
       "T_CD8_NonNaive    0.106791\n",
       "ILC               0.083754\n",
       "B                 0.078854\n",
       "T_CD8_Naive       0.061807\n",
       "UTC               0.028469\n",
       "Platelets         0.023645\n",
       "DC                0.012569\n",
       "pDC               0.003962\n",
       "Progenitors       0.001977\n",
       "Cycling           0.001792\n",
       "Plasma            0.001384\n",
       "Name: proportion, dtype: float64"
      ]
     },
     "execution_count": 4,
     "metadata": {},
     "output_type": "execute_result"
    }
   ],
   "source": [
    "adataQ.obs['Level1_pred'].value_counts(normalize = True)"
   ]
  },
  {
   "cell_type": "markdown",
   "id": "44e868b3-0771-4225-bd79-a4b179bc672b",
   "metadata": {},
   "source": [
    "#### Generating PSEUDOBULKs"
   ]
  },
  {
   "cell_type": "code",
   "execution_count": 5,
   "id": "81223976-fcf6-4354-8964-b12d76468636",
   "metadata": {
    "execution": {
     "iopub.execute_input": "2024-10-23T09:24:39.534491Z",
     "iopub.status.busy": "2024-10-23T09:24:39.533924Z",
     "iopub.status.idle": "2024-10-23T09:24:39.919310Z",
     "shell.execute_reply": "2024-10-23T09:24:39.918991Z",
     "shell.execute_reply.started": "2024-10-23T09:24:39.534454Z"
    }
   },
   "outputs": [
    {
     "data": {
      "text/plain": [
       "AnnData object with n_obs × n_vars = 2186 × 30\n",
       "    obs: 'sampleID', 'batches', 'Level1', 'disease', 'n_observation'"
      ]
     },
     "execution_count": 5,
     "metadata": {},
     "output_type": "execute_result"
    }
   ],
   "source": [
    "adataPB_R = aggregating_features(Z = adataR.X, \n",
    "                             obsDF = adataR.obs[['sampleID','batches','Level1','disease']], \n",
    "                             mode = 'mean', \n",
    "                             obs_names_col=['sampleID','batches','Level1'], \n",
    "                             min_observation=0)\n",
    "adataPB_R"
   ]
  },
  {
   "cell_type": "markdown",
   "id": "97d09fc5-d05c-471e-87fa-fe58ccbe47ac",
   "metadata": {},
   "source": [
    "**Considering scANVI predicted labels**"
   ]
  },
  {
   "cell_type": "code",
   "execution_count": 6,
   "id": "8a64ad2e-561b-48a2-a48f-5fc1b9f567aa",
   "metadata": {
    "execution": {
     "iopub.execute_input": "2024-10-23T09:24:41.076655Z",
     "iopub.status.busy": "2024-10-23T09:24:41.076323Z",
     "iopub.status.idle": "2024-10-23T09:24:41.267942Z",
     "shell.execute_reply": "2024-10-23T09:24:41.267606Z",
     "shell.execute_reply.started": "2024-10-23T09:24:41.076638Z"
    }
   },
   "outputs": [
    {
     "data": {
      "text/plain": [
       "AnnData object with n_obs × n_vars = 776 × 30\n",
       "    obs: 'sampleID', 'batches', 'Level1', 'disease', 'n_observation'"
      ]
     },
     "execution_count": 6,
     "metadata": {},
     "output_type": "execute_result"
    }
   ],
   "source": [
    "adataPB_Q_scANVI = aggregating_features(Z = adataQ.X, \n",
    "                             obsDF = adataQ.obs[['sampleID','batches','Level1_pred','disease']], \n",
    "                             mode = 'mean', \n",
    "                             obs_names_col=['sampleID','batches','Level1_pred'], \n",
    "                             min_observation=0)\n",
    "\n",
    "adataPB_Q_scANVI.obs.rename({'Level1_pred':'Level1'}, axis=1, inplace=True)\n",
    "adataPB_Q_scANVI"
   ]
  },
  {
   "cell_type": "code",
   "execution_count": 7,
   "id": "5c0db4a4-2016-4e00-bc54-9bcead35b4da",
   "metadata": {
    "execution": {
     "iopub.execute_input": "2024-10-23T09:24:43.592441Z",
     "iopub.status.busy": "2024-10-23T09:24:43.591950Z",
     "iopub.status.idle": "2024-10-23T09:24:43.595997Z",
     "shell.execute_reply": "2024-10-23T09:24:43.595705Z",
     "shell.execute_reply.started": "2024-10-23T09:24:43.592394Z"
    }
   },
   "outputs": [
    {
     "data": {
      "text/plain": [
       "Level1\n",
       "B                 56\n",
       "DC                56\n",
       "ILC               56\n",
       "Mono              56\n",
       "Platelets         56\n",
       "Progenitors       56\n",
       "T_CD4_Naive       56\n",
       "T_CD4_NonNaive    56\n",
       "T_CD8_Naive       56\n",
       "T_CD8_NonNaive    56\n",
       "UTC               56\n",
       "Plasma            54\n",
       "Cycling           53\n",
       "pDC               53\n",
       "Name: count, dtype: int64"
      ]
     },
     "execution_count": 7,
     "metadata": {},
     "output_type": "execute_result"
    }
   ],
   "source": [
    "adataPB_Q_scANVI.obs.Level1.value_counts()"
   ]
  },
  {
   "cell_type": "markdown",
   "id": "d59574be-684b-4082-b8b6-7d11930362ad",
   "metadata": {},
   "source": [
    "### Saving pseudobulk adata objects"
   ]
  },
  {
   "cell_type": "code",
   "execution_count": null,
   "id": "5947e6f8-ac27-4702-ba5d-aa9e1ba79f6a",
   "metadata": {
    "execution": {
     "iopub.execute_input": "2024-10-23T09:24:58.863636Z",
     "iopub.status.busy": "2024-10-23T09:24:58.863032Z",
     "iopub.status.idle": "2024-10-23T09:24:58.903389Z",
     "shell.execute_reply": "2024-10-23T09:24:58.903049Z",
     "shell.execute_reply.started": "2024-10-23T09:24:58.863606Z"
    }
   },
   "outputs": [],
   "source": [
    "adataPB_R.write(here('03_downstream_analysis/09_patient_classifier/SCGT00_CentralizedDataset/results_batches/SCGT00_MAIN_pseudobulk.h5ad'), compression='gzip')"
   ]
  },
  {
   "cell_type": "code",
   "execution_count": null,
   "id": "8a70d9f6-7a44-45ee-8470-702bd7af1e0b",
   "metadata": {
    "execution": {
     "iopub.execute_input": "2024-10-23T09:24:59.049947Z",
     "iopub.status.busy": "2024-10-23T09:24:59.049702Z",
     "iopub.status.idle": "2024-10-23T09:24:59.105615Z",
     "shell.execute_reply": "2024-10-23T09:24:59.105303Z",
     "shell.execute_reply.started": "2024-10-23T09:24:59.049933Z"
    }
   },
   "outputs": [],
   "source": [
    "adataPB_Q_scANVI.write(here('03_downstream_analysis/09_patient_classifier/SCGT00_CentralizedDataset/results_batches/SCGT00_EXTERNAL_pseudobulk.h5ad'), compression='gzip')"
   ]
  },
  {
   "cell_type": "code",
   "execution_count": null,
   "id": "4c73fe35-f064-4551-bc13-25360a6a17a2",
   "metadata": {},
   "outputs": [],
   "source": []
  }
 ],
 "metadata": {
  "kernelspec": {
   "display_name": "Python 3 (ipykernel)",
   "language": "python",
   "name": "python3"
  },
  "language_info": {
   "codemirror_mode": {
    "name": "ipython",
    "version": 3
   },
   "file_extension": ".py",
   "mimetype": "text/x-python",
   "name": "python",
   "nbconvert_exporter": "python",
   "pygments_lexer": "ipython3",
   "version": "3.10.13"
  }
 },
 "nbformat": 4,
 "nbformat_minor": 5
}
