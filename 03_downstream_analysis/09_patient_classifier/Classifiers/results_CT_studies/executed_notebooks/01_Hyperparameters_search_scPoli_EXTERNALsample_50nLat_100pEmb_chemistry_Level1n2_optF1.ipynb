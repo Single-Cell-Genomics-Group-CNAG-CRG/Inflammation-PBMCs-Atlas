{
 "cells": [
  {
   "cell_type": "code",
   "execution_count": 1,
   "id": "62441183",
   "metadata": {
    "execution": {
     "iopub.execute_input": "2024-07-07T14:18:21.316443Z",
     "iopub.status.busy": "2024-07-07T14:18:21.316017Z",
     "iopub.status.idle": "2024-07-07T14:18:21.319392Z",
     "shell.execute_reply": "2024-07-07T14:18:21.319004Z"
    },
    "papermill": {
     "duration": 0.014953,
     "end_time": "2024-07-07T14:18:21.320343",
     "exception": false,
     "start_time": "2024-07-07T14:18:21.305390",
     "status": "completed"
    },
    "tags": [
     "injected-parameters"
    ]
   },
   "outputs": [],
   "source": [
    "# Parameters\n",
    "query_dataset = \"EXTERNAL\"\n",
    "n_embedded = 50\n",
    "n_Patient_embedded = 100\n",
    "embSpace = \"sample\"\n",
    "integration_method = \"scPoli\"\n",
    "batch = \"chemistry\"\n",
    "annotation = \"Level1n2\"\n",
    "REFERENCEadata_path = \"03_downstream_analysis/08_PatientClassifier/scPoli/results/PSEUDOBULKs/scPoli_PSEUDOBULKsample_ref_latents_EXTERNAL_2_50_100_*.h5ad\"\n",
    "QUERYNadata_path = \"03_downstream_analysis/08_PatientClassifier/scPoli/results/PSEUDOBULKs/scPoli_PSEUDOBULKsample_EXTERNAL_2_50_100_*.h5ad\"\n",
    "optimization_metric = \"F1\"\n",
    "n_job = 32\n"
   ]
  },
  {
   "cell_type": "raw",
   "id": "8006df31-f699-4d7c-be82-be75bd4e65b5",
   "metadata": {
    "execution": {
     "iopub.execute_input": "2024-07-07T12:47:25.237809Z",
     "iopub.status.busy": "2024-07-07T12:47:25.237662Z",
     "iopub.status.idle": "2024-07-07T12:47:25.241185Z",
     "shell.execute_reply": "2024-07-07T12:47:25.240733Z",
     "shell.execute_reply.started": "2024-07-07T12:47:25.237792Z"
    },
    "papermill": {
     "duration": 0.0077,
     "end_time": "2024-07-07T14:18:21.343841",
     "exception": false,
     "start_time": "2024-07-07T14:18:21.336141",
     "status": "completed"
    },
    "tags": []
   },
   "source": [
    "query_dataset = 'VALIDATION'\n",
    "\n",
    "integration_method = \"scANVIkNN\"\n",
    "\n",
    "n_embedded = 30\n",
    "batch = \"chemistry\"\n",
    "annotation = \"Level2\"\n",
    "n_Patient_embedded = 0\n",
    "embSpace = 'cell'\n",
    "\n",
    "REFERENCEadata_path = \"03_downstream_analysis/08_PatientClassifier/scANVI/results/PSEUDOBULKs/scANVI_PSEUDOBULK_reference_EXTERNAL_256_30_Level2_*.h5ad\"\n",
    "QUERYNadata_path = \"03_downstream_analysis/08_PatientClassifier/scANVI/results/PSEUDOBULKs/scANVI_PSEUDOBULK_kNN_query_VALIDATION_256_30_Level2_*.h5ad\"\n",
    "\n",
    "optimization_metric = 'F1'\n",
    "\n",
    "n_job = 50"
   ]
  },
  {
   "cell_type": "code",
   "execution_count": 2,
   "id": "0fcb96fe-1ddc-4da2-95ac-e91752904818",
   "metadata": {
    "execution": {
     "iopub.execute_input": "2024-07-07T14:18:21.361034Z",
     "iopub.status.busy": "2024-07-07T14:18:21.360613Z",
     "iopub.status.idle": "2024-07-07T14:18:21.364124Z",
     "shell.execute_reply": "2024-07-07T14:18:21.363719Z"
    },
    "papermill": {
     "duration": 0.013195,
     "end_time": "2024-07-07T14:18:21.365040",
     "exception": false,
     "start_time": "2024-07-07T14:18:21.351845",
     "status": "completed"
    },
    "tags": []
   },
   "outputs": [
    {
     "name": "stdout",
     "output_type": "stream",
     "text": [
      "REFERENCEadata_path = 03_downstream_analysis/08_PatientClassifier/scPoli/results/PSEUDOBULKs/scPoli_PSEUDOBULKsample_ref_latents_EXTERNAL_2_50_100_*.h5ad\n",
      "QUERYNadata_path = 03_downstream_analysis/08_PatientClassifier/scPoli/results/PSEUDOBULKs/scPoli_PSEUDOBULKsample_EXTERNAL_2_50_100_*.h5ad\n",
      "query_dataset = EXTERNAL\n",
      "integration_method = scPoli\n",
      "embSpace = sample\n",
      "n_embedded = 50\n",
      "n_Patient_embedded = 100\n",
      "batch = chemistry\n",
      "annotation = Level1n2\n",
      "optimization_metric = F1\n",
      "n_job = 32\n"
     ]
    }
   ],
   "source": [
    "for v in ['REFERENCEadata_path','QUERYNadata_path','query_dataset','integration_method',\n",
    "          'embSpace','n_embedded','n_Patient_embedded','batch','annotation','optimization_metric','n_job']:\n",
    "    if v in locals() or v in globals():\n",
    "        print(f\"{v} = {eval(v)}\", end='\\n')\n",
    "    else:\n",
    "        raise ValueError(f\"{v} is not defined\")"
   ]
  },
  {
   "cell_type": "code",
   "execution_count": 3,
   "id": "758cad27-6850-48ef-a1a2-31b4515a2452",
   "metadata": {
    "execution": {
     "iopub.execute_input": "2024-07-07T14:18:21.382030Z",
     "iopub.status.busy": "2024-07-07T14:18:21.381568Z",
     "iopub.status.idle": "2024-07-07T14:18:24.654569Z",
     "shell.execute_reply": "2024-07-07T14:18:24.654106Z"
    },
    "papermill": {
     "duration": 3.283251,
     "end_time": "2024-07-07T14:18:24.656042",
     "exception": false,
     "start_time": "2024-07-07T14:18:21.372791",
     "status": "completed"
    },
    "tags": []
   },
   "outputs": [],
   "source": [
    "import os\n",
    "\n",
    "from glob import glob\n",
    "\n",
    "import optuna as op\n",
    "\n",
    "from optuna.samplers import TPESampler, BruteForceSampler\n",
    "\n",
    "import scanpy as sc\n",
    "import pandas as pd\n",
    "import matplotlib.pyplot as plt\n",
    "\n",
    "import joblib\n",
    "\n",
    "\n",
    "from sklearn.svm import LinearSVC, SVC\n",
    "from sklearn.neighbors import KNeighborsClassifier\n",
    "\n",
    "from sklearn.preprocessing import StandardScaler\n",
    "from sklearn.metrics import f1_score, balanced_accuracy_score, matthews_corrcoef\n",
    "\n",
    "from pyprojroot import here\n",
    "\n",
    "from tqdm import tqdm"
   ]
  },
  {
   "cell_type": "code",
   "execution_count": 4,
   "id": "c201d383-ff56-4311-a9bf-f2486358f2ec",
   "metadata": {
    "execution": {
     "iopub.execute_input": "2024-07-07T14:18:24.674847Z",
     "iopub.status.busy": "2024-07-07T14:18:24.674497Z",
     "iopub.status.idle": "2024-07-07T14:18:24.677952Z",
     "shell.execute_reply": "2024-07-07T14:18:24.677634Z"
    },
    "papermill": {
     "duration": 0.012636,
     "end_time": "2024-07-07T14:18:24.678769",
     "exception": false,
     "start_time": "2024-07-07T14:18:24.666133",
     "status": "completed"
    },
    "tags": []
   },
   "outputs": [],
   "source": [
    "op.logging.set_verbosity(op.logging.WARNING)"
   ]
  },
  {
   "cell_type": "code",
   "execution_count": 5,
   "id": "3d348e24-3245-402c-9e8d-cf79ab5c3fa8",
   "metadata": {
    "execution": {
     "iopub.execute_input": "2024-07-07T14:18:24.695544Z",
     "iopub.status.busy": "2024-07-07T14:18:24.695285Z",
     "iopub.status.idle": "2024-07-07T14:18:24.697267Z",
     "shell.execute_reply": "2024-07-07T14:18:24.696969Z"
    },
    "papermill": {
     "duration": 0.011059,
     "end_time": "2024-07-07T14:18:24.698095",
     "exception": false,
     "start_time": "2024-07-07T14:18:24.687036",
     "status": "completed"
    },
    "tags": []
   },
   "outputs": [],
   "source": [
    "random_seed = 42"
   ]
  },
  {
   "cell_type": "code",
   "execution_count": 6,
   "id": "baee6c9e-adc2-48ad-9bce-cb0ed1b9fb74",
   "metadata": {
    "execution": {
     "iopub.execute_input": "2024-07-07T14:18:24.714835Z",
     "iopub.status.busy": "2024-07-07T14:18:24.714659Z",
     "iopub.status.idle": "2024-07-07T14:18:24.722630Z",
     "shell.execute_reply": "2024-07-07T14:18:24.722285Z"
    },
    "papermill": {
     "duration": 0.01754,
     "end_time": "2024-07-07T14:18:24.723472",
     "exception": false,
     "start_time": "2024-07-07T14:18:24.705932",
     "status": "completed"
    },
    "tags": []
   },
   "outputs": [],
   "source": [
    "mainDir=here('03_downstream_analysis/08_PatientClassifier/Classifiers/results_CT_studies/')"
   ]
  },
  {
   "cell_type": "markdown",
   "id": "b4709398-98b6-4f04-be56-d70e5dd0a7a0",
   "metadata": {
    "papermill": {
     "duration": 0.014735,
     "end_time": "2024-07-07T14:18:24.746622",
     "exception": false,
     "start_time": "2024-07-07T14:18:24.731887",
     "status": "completed"
    },
    "tags": []
   },
   "source": [
    "### Defining functions"
   ]
  },
  {
   "cell_type": "code",
   "execution_count": 7,
   "id": "81d6ddc9-2554-463a-84db-b7e9cf9c98da",
   "metadata": {
    "execution": {
     "iopub.execute_input": "2024-07-07T14:18:24.763462Z",
     "iopub.status.busy": "2024-07-07T14:18:24.763160Z",
     "iopub.status.idle": "2024-07-07T14:18:24.770915Z",
     "shell.execute_reply": "2024-07-07T14:18:24.770590Z"
    },
    "papermill": {
     "duration": 0.017114,
     "end_time": "2024-07-07T14:18:24.771704",
     "exception": false,
     "start_time": "2024-07-07T14:18:24.754590",
     "status": "completed"
    },
    "tags": []
   },
   "outputs": [],
   "source": [
    "def _most_frequent_or_na(row):\n",
    "    mode = row.mode()\n",
    "    if len(mode) > 1:\n",
    "        return 'nan'\n",
    "    else:\n",
    "        return mode.iloc[0]\n",
    "            \n",
    "class CellTypeDiseasePrediction():\n",
    "        \n",
    "    def __init__(self, clf_params, classifier, cell_type, y_true_col='disease', sample_id_col='sampleID'):\n",
    "        self.clf_params = clf_params\n",
    "        self.classifier = classifier\n",
    "        self.ct = cell_type\n",
    "        self.y_true_col = y_true_col\n",
    "        self.sample_id_col = sample_id_col\n",
    "        self.clfs = {}\n",
    "        self.use_scaler = self.clf_params.pop('scaler')\n",
    "        #self.le = LabelEncoder()\n",
    "        \n",
    "    def fit(self, adataTrain):\n",
    "\n",
    "    \n",
    "        #adataTrain.obs.loc[:,self.y_true_col] = self.le.fit_transform(adataTrain.obs[self.y_true_col])\n",
    "        \n",
    "        X_train = adataTrain.X\n",
    "        y_train = adataTrain.obs[self.y_true_col]\n",
    "\n",
    "        if self.use_scaler:\n",
    "            self.scaler = StandardScaler().fit(X_train)\n",
    "            X_train = self.scaler.transform(X_train)\n",
    "   \n",
    "        self.clfs = self.classifier(**self.clf_params).fit(X_train, y_train)\n",
    "\n",
    "        return self\n",
    "\n",
    "    def predict(self, adataVal, y_true_col='disease'):\n",
    "\n",
    "        #adataVal.obs.loc[:,y_true_col] = self.le.transform(adataVal.obs[y_true_col])\n",
    "        \n",
    "        cell_type_pred = []\n",
    "        \n",
    "        X_val = adataVal.X\n",
    "\n",
    "        if self.use_scaler:\n",
    "            X_val = self.scaler.transform(X_val)\n",
    "        \n",
    "        y_pred = self.clfs.predict(X_val)\n",
    "\n",
    "        cell_type_pred = pd.DataFrame({self.sample_id_col: adataVal.obs[self.sample_id_col],\n",
    "                                       self.y_true_col: adataVal.obs[self.y_true_col],\n",
    "                                       f'disease_pred_{self.ct}': y_pred}).set_index(self.sample_id_col)\n",
    "\n",
    "        \n",
    "        # cell_type_pred['disease_pred'] = cell_type_pred.apply(_most_frequent_or_na, axis=1)\n",
    "\n",
    "        # cell_type_pred_merged = cell_type_pred.merge(adataVal.obs.groupby([self.sample_id_col], observed=True).agg({y_true_col:'first'}), \n",
    "        #                                              left_index=True, \n",
    "        #                                              right_index=True)\n",
    "        \n",
    "\n",
    "        return cell_type_pred\n",
    "\n",
    "class VotingDisease():\n",
    "    \n",
    "    def __init__(self, classifier = None, cell_type_studies = None, fixed_params = None, \n",
    "                 cell_type_col = 'Level1', sample_id_col = 'sampleID', y_true_col = 'disease'):\n",
    "        \n",
    "        self.fixed_params = fixed_params\n",
    "        self.classifier = classifier\n",
    "        self.ct_studies = cell_type_studies\n",
    "        self.cell_type_col = cell_type_col \n",
    "        self.y_true_col = y_true_col\n",
    "        self.sample_id_col = sample_id_col\n",
    "        self.clfs = {}\n",
    "\n",
    "    def fit(self, adataR = None):\n",
    "        \n",
    "        for ct_i in self.ct_studies.keys(): \n",
    "    \n",
    "            adataR_ct = adataR[adataR.obs[cell_type_col] == ct_i]\n",
    "            # adataQ_ct = adataQ[adataQ.obs[cell_type_col] == ct_i]\n",
    "        \n",
    "            clf_params = self.fixed_params | self.ct_studies[ct_i].best_trial.params\n",
    "        \n",
    "            self.clfs[ct_i] = (CellTypeDiseasePrediction(clf_params=clf_params, \n",
    "                                                         classifier=self.classifier, \n",
    "                                                         cell_type = ct_i, \n",
    "                                                         sample_id_col=self.sample_id_col, \n",
    "                                                         y_true_col = self.y_true_col)\n",
    "                                .fit(adataR_ct))\n",
    "        return self\n",
    "            \n",
    "    def predict(self, adataQ = None):\n",
    "        \n",
    "        y_pred_query_list = []\n",
    "        \n",
    "        for ct_i in self.ct_studies.keys(): \n",
    "    \n",
    "            adataQ_ct = adataQ[adataQ.obs[self.cell_type_col] == ct_i]\n",
    "        \n",
    "            y_pred_query_list.append(self.clfs[ct_i].predict(adataQ_ct, y_true_col = self.y_true_col).iloc[:,1])\n",
    "        \n",
    "        cellType_prediction_df = pd.concat(y_pred_query_list, axis=1, ignore_index=False, join='outer')\n",
    "        cellType_prediction_df['majority_pred'] = cellType_prediction_df.apply(_most_frequent_or_na, axis=1)\n",
    "\n",
    "        cellType_prediction_df = (cellType_prediction_df.merge(adataQ.obs[[self.sample_id_col, self.y_true_col]].drop_duplicates(), \n",
    "                                                               left_index = True, right_on = self.sample_id_col)\n",
    "                                  .set_index(self.sample_id_col))\n",
    "\n",
    "        return cellType_prediction_df"
   ]
  },
  {
   "cell_type": "markdown",
   "id": "54b0d7a6-9bc6-4ffe-b86d-475a6b391906",
   "metadata": {
    "papermill": {
     "duration": 0.007951,
     "end_time": "2024-07-07T14:18:24.787581",
     "exception": false,
     "start_time": "2024-07-07T14:18:24.779630",
     "status": "completed"
    },
    "tags": []
   },
   "source": [
    "### Loading data"
   ]
  },
  {
   "cell_type": "code",
   "execution_count": 8,
   "id": "8fa540e1-0656-4287-a0eb-0d4110e3a3bf",
   "metadata": {
    "execution": {
     "iopub.execute_input": "2024-07-07T14:18:24.803386Z",
     "iopub.status.busy": "2024-07-07T14:18:24.803129Z",
     "iopub.status.idle": "2024-07-07T14:18:24.913501Z",
     "shell.execute_reply": "2024-07-07T14:18:24.913119Z"
    },
    "papermill": {
     "duration": 0.119281,
     "end_time": "2024-07-07T14:18:24.914364",
     "exception": false,
     "start_time": "2024-07-07T14:18:24.795083",
     "status": "completed"
    },
    "tags": []
   },
   "outputs": [
    {
     "name": "stdout",
     "output_type": "stream",
     "text": [
      "scPoli_PSEUDOBULKsample_ref_latents_EXTERNAL_2_50_100_run3_tdbh923o.h5ad\n",
      "scPoli_PSEUDOBULKsample_EXTERNAL_2_50_100_run3_tdbh923o.h5ad\n"
     ]
    }
   ],
   "source": [
    "adataPathList = glob(str(here(REFERENCEadata_path)))\n",
    "if len(adataPathList) != 1:\n",
    "    print(adataPathList)\n",
    "    raise ValueError(f\"{adataPathList} adata not found\")\n",
    "else:\n",
    "    print(os.path.basename(adataPathList[0]))\n",
    "    REFERENCEpseudobulk = sc.read_h5ad(adataPathList[0])\n",
    "\n",
    "adataPathList = glob(str(here(QUERYNadata_path)))\n",
    "if len(adataPathList) != 1:\n",
    "    print(adataPathList)\n",
    "    raise ValueError(f\"adata not found\")\n",
    "else:\n",
    "    print(os.path.basename(adataPathList[0]))\n",
    "    QUERYpseudobulk = sc.read_h5ad(adataPathList[0])"
   ]
  },
  {
   "cell_type": "code",
   "execution_count": 9,
   "id": "34f17857-6896-4ec0-b8df-f349a0f4b563",
   "metadata": {
    "execution": {
     "iopub.execute_input": "2024-07-07T14:18:24.931597Z",
     "iopub.status.busy": "2024-07-07T14:18:24.931417Z",
     "iopub.status.idle": "2024-07-07T14:18:24.934324Z",
     "shell.execute_reply": "2024-07-07T14:18:24.934023Z"
    },
    "papermill": {
     "duration": 0.012182,
     "end_time": "2024-07-07T14:18:24.935099",
     "exception": false,
     "start_time": "2024-07-07T14:18:24.922917",
     "status": "completed"
    },
    "tags": []
   },
   "outputs": [],
   "source": [
    "# Renaiming 'Level1_pred' in scGen query datasets for consistency\n",
    "# and assert that 'disease' is in obs\n",
    "for ad_i in [REFERENCEpseudobulk,QUERYpseudobulk]:\n",
    "    ad_i.obs.rename({'Level1_pred':'Level1'},axis=1,inplace=True)\n",
    "    assert('disease' in ad_i.obs.columns)"
   ]
  },
  {
   "cell_type": "code",
   "execution_count": 10,
   "id": "dedd1921-9e34-40a4-aa1e-e1936b7f6ec8",
   "metadata": {
    "execution": {
     "iopub.execute_input": "2024-07-07T14:18:24.952438Z",
     "iopub.status.busy": "2024-07-07T14:18:24.952200Z",
     "iopub.status.idle": "2024-07-07T14:18:24.956782Z",
     "shell.execute_reply": "2024-07-07T14:18:24.956476Z"
    },
    "papermill": {
     "duration": 0.014229,
     "end_time": "2024-07-07T14:18:24.957557",
     "exception": false,
     "start_time": "2024-07-07T14:18:24.943328",
     "status": "completed"
    },
    "tags": []
   },
   "outputs": [
    {
     "data": {
      "text/plain": [
       "(AnnData object with n_obs × n_vars = 817 × 100\n",
       "     obs: 'sampleID', 'disease', 'Level1',\n",
       " AnnData object with n_obs × n_vars = 86 × 100\n",
       "     obs: 'sampleID', 'disease', 'Level1')"
      ]
     },
     "execution_count": 10,
     "metadata": {},
     "output_type": "execute_result"
    }
   ],
   "source": [
    "REFERENCEpseudobulk, QUERYpseudobulk"
   ]
  },
  {
   "cell_type": "code",
   "execution_count": 11,
   "id": "8b0a8658-f139-4b55-8da0-bd8fe7459e43",
   "metadata": {
    "execution": {
     "iopub.execute_input": "2024-07-07T14:18:24.981009Z",
     "iopub.status.busy": "2024-07-07T14:18:24.980771Z",
     "iopub.status.idle": "2024-07-07T14:18:24.983845Z",
     "shell.execute_reply": "2024-07-07T14:18:24.983549Z"
    },
    "papermill": {
     "duration": 0.019058,
     "end_time": "2024-07-07T14:18:24.984631",
     "exception": false,
     "start_time": "2024-07-07T14:18:24.965573",
     "status": "completed"
    },
    "tags": []
   },
   "outputs": [
    {
     "data": {
      "text/plain": [
       "['RA', 'healthy', 'COVID', 'HIV', 'cirrhosis', 'CD', 'SLE', 'sepsis']"
      ]
     },
     "execution_count": 11,
     "metadata": {},
     "output_type": "execute_result"
    }
   ],
   "source": [
    "QUERYpseudobulk.obs.disease.unique().tolist()"
   ]
  },
  {
   "cell_type": "code",
   "execution_count": 12,
   "id": "921bbbc6-1c59-4e41-8460-6f4b51fe5367",
   "metadata": {
    "execution": {
     "iopub.execute_input": "2024-07-07T14:18:25.002593Z",
     "iopub.status.busy": "2024-07-07T14:18:25.002364Z",
     "iopub.status.idle": "2024-07-07T14:18:25.005122Z",
     "shell.execute_reply": "2024-07-07T14:18:25.004837Z"
    },
    "papermill": {
     "duration": 0.012139,
     "end_time": "2024-07-07T14:18:25.005902",
     "exception": false,
     "start_time": "2024-07-07T14:18:24.993763",
     "status": "completed"
    },
    "tags": []
   },
   "outputs": [
    {
     "data": {
      "text/plain": [
       "(86,)"
      ]
     },
     "execution_count": 12,
     "metadata": {},
     "output_type": "execute_result"
    }
   ],
   "source": [
    "QUERYpseudobulk.obs.sampleID.unique().shape"
   ]
  },
  {
   "cell_type": "markdown",
   "id": "47a24343-38f0-4d9b-85e5-96b191b9d493",
   "metadata": {
    "papermill": {
     "duration": 0.008168,
     "end_time": "2024-07-07T14:18:25.023679",
     "exception": false,
     "start_time": "2024-07-07T14:18:25.015511",
     "status": "completed"
    },
    "tags": []
   },
   "source": [
    "### Removing unwanted cell-types"
   ]
  },
  {
   "cell_type": "code",
   "execution_count": 13,
   "id": "33d021b8-257a-4a18-b995-fe93a2ef1563",
   "metadata": {
    "execution": {
     "iopub.execute_input": "2024-07-07T14:18:25.040885Z",
     "iopub.status.busy": "2024-07-07T14:18:25.040545Z",
     "iopub.status.idle": "2024-07-07T14:18:25.046745Z",
     "shell.execute_reply": "2024-07-07T14:18:25.046425Z"
    },
    "papermill": {
     "duration": 0.015664,
     "end_time": "2024-07-07T14:18:25.047545",
     "exception": false,
     "start_time": "2024-07-07T14:18:25.031881",
     "status": "completed"
    },
    "tags": []
   },
   "outputs": [],
   "source": [
    "REFERENCEpseudobulkFilt = REFERENCEpseudobulk[~REFERENCEpseudobulk.obs['Level1'].isin(['Progenitors','Cycling_cells','Platelets','RBC'])].copy()\n",
    "QUERYpseudobulkFilt = QUERYpseudobulk[~QUERYpseudobulk.obs['Level1'].isin(['Progenitors','Cycling_cells','Platelets','RBC'])].copy()"
   ]
  },
  {
   "cell_type": "code",
   "execution_count": 14,
   "id": "aed927b0-478b-470d-9ed1-af7312f7ed63",
   "metadata": {
    "execution": {
     "iopub.execute_input": "2024-07-07T14:18:25.065310Z",
     "iopub.status.busy": "2024-07-07T14:18:25.064991Z",
     "iopub.status.idle": "2024-07-07T14:18:25.067672Z",
     "shell.execute_reply": "2024-07-07T14:18:25.067376Z"
    },
    "papermill": {
     "duration": 0.012739,
     "end_time": "2024-07-07T14:18:25.069017",
     "exception": false,
     "start_time": "2024-07-07T14:18:25.056278",
     "status": "completed"
    },
    "tags": []
   },
   "outputs": [
    {
     "data": {
      "text/plain": [
       "(AnnData object with n_obs × n_vars = 817 × 100\n",
       "     obs: 'sampleID', 'disease', 'Level1',\n",
       " AnnData object with n_obs × n_vars = 86 × 100\n",
       "     obs: 'sampleID', 'disease', 'Level1')"
      ]
     },
     "execution_count": 14,
     "metadata": {},
     "output_type": "execute_result"
    }
   ],
   "source": [
    "REFERENCEpseudobulkFilt, QUERYpseudobulk"
   ]
  },
  {
   "cell_type": "code",
   "execution_count": 15,
   "id": "d8c4be96-7453-42c7-97a7-f96114bf4675",
   "metadata": {
    "execution": {
     "iopub.execute_input": "2024-07-07T14:18:25.087944Z",
     "iopub.status.busy": "2024-07-07T14:18:25.087769Z",
     "iopub.status.idle": "2024-07-07T14:18:25.090310Z",
     "shell.execute_reply": "2024-07-07T14:18:25.090007Z"
    },
    "papermill": {
     "duration": 0.012286,
     "end_time": "2024-07-07T14:18:25.091097",
     "exception": false,
     "start_time": "2024-07-07T14:18:25.078811",
     "status": "completed"
    },
    "tags": []
   },
   "outputs": [],
   "source": [
    "REFERENCEpseudobulkFilt.obs['disease'] = REFERENCEpseudobulkFilt.obs['disease'].astype(str)"
   ]
  },
  {
   "cell_type": "markdown",
   "id": "4a7d77e0-16f6-47e7-affd-a93d5d242126",
   "metadata": {
    "papermill": {
     "duration": 0.007933,
     "end_time": "2024-07-07T14:18:25.109154",
     "exception": false,
     "start_time": "2024-07-07T14:18:25.101221",
     "status": "completed"
    },
    "tags": []
   },
   "source": [
    "## Input data and main parameters"
   ]
  },
  {
   "cell_type": "code",
   "execution_count": 16,
   "id": "5c42d3fb-0517-448d-a180-8d7033bb5066",
   "metadata": {
    "execution": {
     "iopub.execute_input": "2024-07-07T14:18:25.126832Z",
     "iopub.status.busy": "2024-07-07T14:18:25.126469Z",
     "iopub.status.idle": "2024-07-07T14:18:25.128475Z",
     "shell.execute_reply": "2024-07-07T14:18:25.128192Z"
    },
    "papermill": {
     "duration": 0.011434,
     "end_time": "2024-07-07T14:18:25.129257",
     "exception": false,
     "start_time": "2024-07-07T14:18:25.117823",
     "status": "completed"
    },
    "tags": []
   },
   "outputs": [],
   "source": [
    "cell_type_col='Level1'\n",
    "y_true_col='disease'\n",
    "sample_id_col='sampleID'"
   ]
  },
  {
   "cell_type": "markdown",
   "id": "86308030-1270-4cc8-8a92-1fbeb9f85e1e",
   "metadata": {
    "papermill": {
     "duration": 0.008768,
     "end_time": "2024-07-07T14:18:25.146549",
     "exception": false,
     "start_time": "2024-07-07T14:18:25.137781",
     "status": "completed"
    },
    "tags": []
   },
   "source": [
    "**Initialize pandas dataframe to collect results**"
   ]
  },
  {
   "cell_type": "code",
   "execution_count": 17,
   "id": "530355ab-1443-460c-a977-2e8e91225953",
   "metadata": {
    "execution": {
     "iopub.execute_input": "2024-07-07T14:18:25.164473Z",
     "iopub.status.busy": "2024-07-07T14:18:25.164214Z",
     "iopub.status.idle": "2024-07-07T14:18:25.172449Z",
     "shell.execute_reply": "2024-07-07T14:18:25.172160Z"
    },
    "papermill": {
     "duration": 0.017941,
     "end_time": "2024-07-07T14:18:25.173227",
     "exception": false,
     "start_time": "2024-07-07T14:18:25.155286",
     "status": "completed"
    },
    "tags": []
   },
   "outputs": [
    {
     "data": {
      "text/html": [
       "<div>\n",
       "<style scoped>\n",
       "    .dataframe tbody tr th:only-of-type {\n",
       "        vertical-align: middle;\n",
       "    }\n",
       "\n",
       "    .dataframe tbody tr th {\n",
       "        vertical-align: top;\n",
       "    }\n",
       "\n",
       "    .dataframe thead th {\n",
       "        text-align: right;\n",
       "    }\n",
       "</style>\n",
       "<table border=\"1\" class=\"dataframe\">\n",
       "  <thead>\n",
       "    <tr style=\"text-align: right;\">\n",
       "      <th></th>\n",
       "      <th>integration_method</th>\n",
       "      <th>embedded_space</th>\n",
       "      <th>n_embedded</th>\n",
       "      <th>n_Patient_embedded</th>\n",
       "      <th>batchKeys</th>\n",
       "      <th>annotation</th>\n",
       "      <th>classification_method</th>\n",
       "      <th>EXTERNAL_F1</th>\n",
       "      <th>EXTERNAL_BAS</th>\n",
       "      <th>EXTERNAL_MCC</th>\n",
       "      <th>EXTERNAL_TRAIN_F1</th>\n",
       "    </tr>\n",
       "  </thead>\n",
       "  <tbody>\n",
       "  </tbody>\n",
       "</table>\n",
       "</div>"
      ],
      "text/plain": [
       "Empty DataFrame\n",
       "Columns: [integration_method, embedded_space, n_embedded, n_Patient_embedded, batchKeys, annotation, classification_method, EXTERNAL_F1, EXTERNAL_BAS, EXTERNAL_MCC, EXTERNAL_TRAIN_F1]\n",
       "Index: []"
      ]
     },
     "execution_count": 17,
     "metadata": {},
     "output_type": "execute_result"
    }
   ],
   "source": [
    "METRICdf = pd.DataFrame(columns=['integration_method','embedded_space','n_embedded','n_Patient_embedded','batchKeys','annotation',\n",
    "                      'classification_method',f'{query_dataset}_F1',f'{query_dataset}_BAS',f'{query_dataset}_MCC', f'{query_dataset}_TRAIN_F1'])\n",
    "METRICdf"
   ]
  },
  {
   "cell_type": "markdown",
   "id": "bf4ebdcc-4895-4f1f-8f4c-721603c909c2",
   "metadata": {
    "papermill": {
     "duration": 0.008748,
     "end_time": "2024-07-07T14:18:25.194089",
     "exception": false,
     "start_time": "2024-07-07T14:18:25.185341",
     "status": "completed"
    },
    "tags": []
   },
   "source": [
    "### Hyper parameter tuning and classification\n",
    "\n",
    "The aim is to define the best classifier and its corresponding hyper-parameters using **MAIN adata** as train dataset and **VALIDATION adata** as validation.\n",
    "\n",
    "Then, with the best model/setting for each model family (i.e., SVC, kNN, NN, GBM) we will classify samples in VALIDATION, EXCLUDED and EXTERNAL datasets"
   ]
  },
  {
   "cell_type": "code",
   "execution_count": 18,
   "id": "5e79071a-6f5e-4b72-8650-3cb97d0de1d1",
   "metadata": {
    "execution": {
     "iopub.execute_input": "2024-07-07T14:18:25.212470Z",
     "iopub.status.busy": "2024-07-07T14:18:25.212092Z",
     "iopub.status.idle": "2024-07-07T14:18:25.214159Z",
     "shell.execute_reply": "2024-07-07T14:18:25.213866Z"
    },
    "papermill": {
     "duration": 0.012128,
     "end_time": "2024-07-07T14:18:25.214945",
     "exception": false,
     "start_time": "2024-07-07T14:18:25.202817",
     "status": "completed"
    },
    "tags": []
   },
   "outputs": [],
   "source": [
    "from sklearn.model_selection import StratifiedKFold"
   ]
  },
  {
   "cell_type": "code",
   "execution_count": 19,
   "id": "814840dd-0c10-4f56-9ea7-242d0ce92ccf",
   "metadata": {
    "execution": {
     "iopub.execute_input": "2024-07-07T14:18:25.238754Z",
     "iopub.status.busy": "2024-07-07T14:18:25.238404Z",
     "iopub.status.idle": "2024-07-07T14:18:25.240437Z",
     "shell.execute_reply": "2024-07-07T14:18:25.240150Z"
    },
    "papermill": {
     "duration": 0.017347,
     "end_time": "2024-07-07T14:18:25.241179",
     "exception": false,
     "start_time": "2024-07-07T14:18:25.223832",
     "status": "completed"
    },
    "tags": []
   },
   "outputs": [],
   "source": [
    "sKf = StratifiedKFold(n_splits = 5)"
   ]
  },
  {
   "cell_type": "code",
   "execution_count": 20,
   "id": "6e8b2c94-b76f-4100-8d44-2f9e8accf709",
   "metadata": {
    "execution": {
     "iopub.execute_input": "2024-07-07T14:18:25.261317Z",
     "iopub.status.busy": "2024-07-07T14:18:25.260981Z",
     "iopub.status.idle": "2024-07-07T14:18:25.265079Z",
     "shell.execute_reply": "2024-07-07T14:18:25.264792Z"
    },
    "papermill": {
     "duration": 0.016302,
     "end_time": "2024-07-07T14:18:25.266119",
     "exception": false,
     "start_time": "2024-07-07T14:18:25.249817",
     "status": "completed"
    },
    "tags": []
   },
   "outputs": [],
   "source": [
    "Pdata = REFERENCEpseudobulkFilt.obs.groupby(sample_id_col, observed=True).agg({y_true_col:'first'}).reset_index()"
   ]
  },
  {
   "cell_type": "code",
   "execution_count": 21,
   "id": "2a76174e-7528-422b-9143-728110106081",
   "metadata": {
    "execution": {
     "iopub.execute_input": "2024-07-07T14:18:25.286131Z",
     "iopub.status.busy": "2024-07-07T14:18:25.285928Z",
     "iopub.status.idle": "2024-07-07T14:18:25.289211Z",
     "shell.execute_reply": "2024-07-07T14:18:25.288924Z"
    },
    "papermill": {
     "duration": 0.015194,
     "end_time": "2024-07-07T14:18:25.290100",
     "exception": false,
     "start_time": "2024-07-07T14:18:25.274906",
     "status": "completed"
    },
    "tags": []
   },
   "outputs": [],
   "source": [
    "KfoldPatientSplit = list(sKf.split(X = Pdata[sample_id_col], y=Pdata[y_true_col]))"
   ]
  },
  {
   "cell_type": "markdown",
   "id": "ad885d57-52eb-4db4-9043-23de6a1a9094",
   "metadata": {
    "papermill": {
     "duration": 0.008566,
     "end_time": "2024-07-07T14:18:25.307363",
     "exception": false,
     "start_time": "2024-07-07T14:18:25.298797",
     "status": "completed"
    },
    "tags": []
   },
   "source": [
    "#### LinearSVC"
   ]
  },
  {
   "cell_type": "code",
   "execution_count": 22,
   "id": "1aa57011-6514-47e0-bd14-25aafcb675a3",
   "metadata": {
    "execution": {
     "iopub.execute_input": "2024-07-07T14:18:25.329686Z",
     "iopub.status.busy": "2024-07-07T14:18:25.329455Z",
     "iopub.status.idle": "2024-07-07T14:19:10.299172Z",
     "shell.execute_reply": "2024-07-07T14:19:10.298676Z"
    },
    "papermill": {
     "duration": 44.980256,
     "end_time": "2024-07-07T14:19:10.300071",
     "exception": false,
     "start_time": "2024-07-07T14:18:25.319815",
     "status": "completed"
    },
    "tags": []
   },
   "outputs": [
    {
     "name": "stdout",
     "output_type": "stream",
     "text": [
      "\n",
      "sample\n"
     ]
    },
    {
     "data": {
      "application/vnd.jupyter.widget-view+json": {
       "model_id": "e33a33c552d847549a5046e00cf89e42",
       "version_major": 2,
       "version_minor": 0
      },
      "text/plain": [
       "  0%|          | 0/100 [00:00<?, ?it/s]"
      ]
     },
     "metadata": {},
     "output_type": "display_data"
    },
    {
     "name": "stderr",
     "output_type": "stream",
     "text": [
      "/scratch_isilon/groups/singlecell/shared/conda_env/optuna/lib/python3.12/site-packages/anndata/_core/anndata.py:1096: SettingWithCopyWarning: \n",
      "A value is trying to be set on a copy of a slice from a DataFrame.\n",
      "Try using .loc[row_indexer,col_indexer] = value instead\n",
      "\n",
      "See the caveats in the documentation: https://pandas.pydata.org/pandas-docs/stable/user_guide/indexing.html#returning-a-view-versus-a-copy\n",
      "  df_sub[k] = df_sub[k].cat.remove_unused_categories()\n"
     ]
    }
   ],
   "source": [
    "fixed_parameter_LinearSVC = ({\n",
    "    'max_iter': 1000000,\n",
    "    'dual': 'auto',\n",
    "})\n",
    "\n",
    "def LinearSVC_cellTypeOptimization(adataTrain = None, \n",
    "                         KfoldPatientSplit = None,\n",
    "                         y_true_col = 'disease',\n",
    "                         sample_id_col = 'sampleID',\n",
    "                         cell_type_col = 'Level1',\n",
    "                         random_seed = 42,\n",
    "                         optimization = 'F1', \n",
    "                         n_trials = 50,\n",
    "                         n_job = 50):\n",
    "\n",
    "    LinearSVC_cell_type_studies = {}\n",
    "\n",
    "    for ct_i in adataTrain.obs[cell_type_col].unique().tolist():\n",
    "\n",
    "        print(f\"\\n{ct_i}\")\n",
    "        \n",
    "        adataTrain_ct_i = adataTrain[adataTrain.obs[cell_type_col] == ct_i].copy()\n",
    "        \n",
    "        def objective_CT(trial):\n",
    "            class_params = {\n",
    "                'scaler': trial.suggest_categorical('scaler', [True, False]),\n",
    "                'fit_intercept': trial.suggest_categorical('fit_intercept', [True, False]),\n",
    "                'class_weight': trial.suggest_categorical('class_weight', ['balanced', None]),\n",
    "                'C': trial.suggest_float('C', 1e-3, 1e5, log=True)\n",
    "            }\n",
    "        \n",
    "            class_params |= fixed_parameter_LinearSVC\n",
    "        \n",
    "            # for ct_ in adataTrain.obs.Level1.unique().tolist():\n",
    "            #     class_params.update({\n",
    "            #         f\"{ct_}_C\": trial.suggest_float(f\"{ct_}_C\", 1e-3, 1e5, log=True),\n",
    "            #     })\n",
    "        \n",
    "            metric_list = []\n",
    "            \n",
    "            for foldK in KfoldPatientSplit:\n",
    "                \n",
    "                pListTrain = Pdata.iloc[foldK[0]][sample_id_col].tolist()\n",
    "                pListTest = Pdata.iloc[foldK[1]][sample_id_col].tolist()\n",
    "                \n",
    "                clf = CellTypeDiseasePrediction(clf_params=class_params.copy(),classifier=LinearSVC, cell_type = ct_i).fit(adataTrain_ct_i[adataTrain_ct_i.obs[sample_id_col].isin(pListTrain)])\n",
    "            \n",
    "                y_pred_df = clf.predict(adataTrain_ct_i[adataTrain_ct_i.obs[sample_id_col].isin(pListTest)], y_true_col = y_true_col)\n",
    "        \n",
    "                if optimization_metric == 'BAS':\n",
    "                    M = balanced_accuracy_score(y_pred_df[y_true_col], y_pred_df.disease_pred)\n",
    "                else:\n",
    "                    M = f1_score(y_pred_df[y_true_col], y_pred_df[f\"disease_pred_{ct_i}\"], average='weighted')\n",
    "        \n",
    "                metric_list.append(M)\n",
    "            \n",
    "            return sum(metric_list)/5\n",
    "                \n",
    "        # Optimize hyperparameters with Optuna\n",
    "        LinearSVC_cell_type_studies[ct_i] = op.create_study(direction='maximize', study_name=ct_i,sampler=TPESampler(seed=random_seed))\n",
    "        LinearSVC_cell_type_studies[ct_i].optimize(objective_CT, n_trials=n_trials, show_progress_bar=True, n_jobs=n_job)#catch = ValueError)\n",
    "\n",
    "    return LinearSVC_cell_type_studies\n",
    "\n",
    "### EXECUTE THE FUNCTION ###\n",
    "LinearSVC_cell_type_studies = LinearSVC_cellTypeOptimization(adataTrain = REFERENCEpseudobulkFilt, \n",
    "                                                               KfoldPatientSplit = KfoldPatientSplit,\n",
    "                                                               y_true_col = 'disease',\n",
    "                                                               sample_id_col = 'sampleID',\n",
    "                                                               cell_type_col = 'Level1',\n",
    "                                                               optimization = 'F1',\n",
    "                                                               n_trials = 100, n_job = n_job, random_seed = 42)"
   ]
  },
  {
   "cell_type": "code",
   "execution_count": 23,
   "id": "8ae42ec5-145a-4fd3-a0c8-f96a1f4bf005",
   "metadata": {
    "execution": {
     "iopub.execute_input": "2024-07-07T14:19:10.319276Z",
     "iopub.status.busy": "2024-07-07T14:19:10.318968Z",
     "iopub.status.idle": "2024-07-07T14:19:10.396662Z",
     "shell.execute_reply": "2024-07-07T14:19:10.396104Z"
    },
    "papermill": {
     "duration": 0.088436,
     "end_time": "2024-07-07T14:19:10.397429",
     "exception": false,
     "start_time": "2024-07-07T14:19:10.308993",
     "status": "completed"
    },
    "tags": []
   },
   "outputs": [],
   "source": [
    "clf_LinearSVC_TRAINED = (VotingDisease(classifier = LinearSVC, \n",
    "                                         cell_type_studies = LinearSVC_cell_type_studies, \n",
    "                                         fixed_params = fixed_parameter_LinearSVC, \n",
    "                                         cell_type_col = 'Level1', sample_id_col = 'sampleID', y_true_col = 'disease')\n",
    "                           .fit(REFERENCEpseudobulkFilt))"
   ]
  },
  {
   "cell_type": "code",
   "execution_count": 24,
   "id": "45847d4c-a3b8-403c-b2aa-c828efe92125",
   "metadata": {
    "execution": {
     "iopub.execute_input": "2024-07-07T14:19:10.417194Z",
     "iopub.status.busy": "2024-07-07T14:19:10.416698Z",
     "iopub.status.idle": "2024-07-07T14:19:10.419904Z",
     "shell.execute_reply": "2024-07-07T14:19:10.419583Z"
    },
    "papermill": {
     "duration": 0.013904,
     "end_time": "2024-07-07T14:19:10.420671",
     "exception": false,
     "start_time": "2024-07-07T14:19:10.406767",
     "status": "completed"
    },
    "tags": []
   },
   "outputs": [
    {
     "name": "stdout",
     "output_type": "stream",
     "text": [
      "F1 on reference = 0.7528971507739464\n"
     ]
    }
   ],
   "source": [
    "### Extracting the average performance on train data\n",
    "optMetric = 0\n",
    "for ct_i in LinearSVC_cell_type_studies.keys():\n",
    "    optMetric += LinearSVC_cell_type_studies[ct_i].best_value\n",
    "f1_LinearSVC_REFERENCE = optMetric / len(LinearSVC_cell_type_studies)\n",
    "print(f\"F1 on reference = {f1_LinearSVC_REFERENCE}\")"
   ]
  },
  {
   "cell_type": "code",
   "execution_count": 25,
   "id": "1bfc286d-a233-48d0-bd01-42d8c7761172",
   "metadata": {
    "execution": {
     "iopub.execute_input": "2024-07-07T14:19:10.444404Z",
     "iopub.status.busy": "2024-07-07T14:19:10.443965Z",
     "iopub.status.idle": "2024-07-07T14:19:10.467617Z",
     "shell.execute_reply": "2024-07-07T14:19:10.467226Z"
    },
    "papermill": {
     "duration": 0.03643,
     "end_time": "2024-07-07T14:19:10.468377",
     "exception": false,
     "start_time": "2024-07-07T14:19:10.431947",
     "status": "completed"
    },
    "tags": []
   },
   "outputs": [
    {
     "name": "stdout",
     "output_type": "stream",
     "text": [
      "QUERY: F1 = 0.15946843853820597, BAS = 0.1449579831932773, MCC: 0.14424595896424594\n"
     ]
    },
    {
     "name": "stderr",
     "output_type": "stream",
     "text": [
      "/scratch_isilon/groups/singlecell/shared/conda_env/optuna/lib/python3.12/site-packages/sklearn/metrics/_classification.py:2458: UserWarning: y_pred contains classes not in y_true\n",
      "  warnings.warn(\"y_pred contains classes not in y_true\")\n"
     ]
    }
   ],
   "source": [
    "### Predict query dataset\n",
    "LinearSVC_cellType_prediction_query_df = clf_LinearSVC_TRAINED.predict(QUERYpseudobulkFilt)\n",
    "\n",
    "f1_LinearSVC_QUERY = f1_score(LinearSVC_cellType_prediction_query_df[y_true_col], \n",
    "                              LinearSVC_cellType_prediction_query_df.majority_pred, average='weighted')\n",
    "BAS_LinearSVC_QUERY = balanced_accuracy_score(LinearSVC_cellType_prediction_query_df[y_true_col], \n",
    "                                              LinearSVC_cellType_prediction_query_df.majority_pred,)\n",
    "MCC_LinearSVC_QUERY = matthews_corrcoef(LinearSVC_cellType_prediction_query_df[y_true_col], \n",
    "                                        LinearSVC_cellType_prediction_query_df.majority_pred,)\n",
    "print(f\"QUERY: F1 = {f1_LinearSVC_QUERY}, BAS = {BAS_LinearSVC_QUERY}, MCC: {MCC_LinearSVC_QUERY}\")"
   ]
  },
  {
   "cell_type": "code",
   "execution_count": 26,
   "id": "839e6ed1-00df-4f31-9b6a-11650ed3f1dc",
   "metadata": {
    "execution": {
     "iopub.execute_input": "2024-07-07T14:19:10.493834Z",
     "iopub.status.busy": "2024-07-07T14:19:10.493552Z",
     "iopub.status.idle": "2024-07-07T14:19:10.496418Z",
     "shell.execute_reply": "2024-07-07T14:19:10.496122Z"
    },
    "papermill": {
     "duration": 0.014129,
     "end_time": "2024-07-07T14:19:10.497159",
     "exception": false,
     "start_time": "2024-07-07T14:19:10.483030",
     "status": "completed"
    },
    "tags": []
   },
   "outputs": [],
   "source": [
    "### Add results to dataframe\n",
    "METRICdf.loc[METRICdf.shape[0],:] = [integration_method,embSpace,n_embedded,n_Patient_embedded,batch,annotation,'LinearSVC',\n",
    "                                     f1_LinearSVC_QUERY, BAS_LinearSVC_QUERY,MCC_LinearSVC_QUERY,f1_LinearSVC_REFERENCE]"
   ]
  },
  {
   "cell_type": "code",
   "execution_count": 27,
   "id": "e7ab9f0e-46d5-45e3-b44b-5bff0748b28c",
   "metadata": {
    "execution": {
     "iopub.execute_input": "2024-07-07T14:19:10.516095Z",
     "iopub.status.busy": "2024-07-07T14:19:10.515840Z",
     "iopub.status.idle": "2024-07-07T14:19:10.565721Z",
     "shell.execute_reply": "2024-07-07T14:19:10.565309Z"
    },
    "papermill": {
     "duration": 0.060317,
     "end_time": "2024-07-07T14:19:10.566497",
     "exception": false,
     "start_time": "2024-07-07T14:19:10.506180",
     "status": "completed"
    },
    "tags": []
   },
   "outputs": [],
   "source": [
    "#### SAVE STUDY and FINAL MODEL AS PICKLE\n",
    "joblib.dump(LinearSVC_cell_type_studies, os.path.join(mainDir, f\"study_objects/BestParams_{integration_method}_{embSpace}_{n_embedded}nEmb_{n_Patient_embedded}nPEmb_{batch}_{annotation}_opt{optimization_metric}_{query_dataset}_LinearSVC.pkl\"))\n",
    "joblib.dump(clf_LinearSVC_TRAINED, os.path.join(mainDir, f\"best_models/{integration_method}_{embSpace}_{n_embedded}nEmb_{n_Patient_embedded}nPEmb_{batch}_{annotation}_opt{optimization_metric}_{query_dataset}_LinearSVC.pkl\"))\n",
    "\n",
    "LinearSVC_cellType_prediction_query_df.to_pickle(os.path.join(mainDir, f\"label_predicted_dataframes/{integration_method}_{embSpace}_{n_embedded}nEmb_{n_Patient_embedded}nPEmb_{batch}_{annotation}_opt{optimization_metric}_{query_dataset}_LinearSVC.pkl\"))"
   ]
  },
  {
   "cell_type": "markdown",
   "id": "e8394cdf-d636-4499-89a6-1731d577d3f7",
   "metadata": {
    "papermill": {
     "duration": 0.009086,
     "end_time": "2024-07-07T14:19:10.597056",
     "exception": false,
     "start_time": "2024-07-07T14:19:10.587970",
     "status": "completed"
    },
    "tags": []
   },
   "source": [
    "#### SVC"
   ]
  },
  {
   "cell_type": "code",
   "execution_count": 28,
   "id": "48e39d89",
   "metadata": {
    "execution": {
     "iopub.execute_input": "2024-07-07T14:19:10.616009Z",
     "iopub.status.busy": "2024-07-07T14:19:10.615565Z",
     "iopub.status.idle": "2024-07-07T14:19:28.661724Z",
     "shell.execute_reply": "2024-07-07T14:19:28.661156Z"
    },
    "papermill": {
     "duration": 18.056685,
     "end_time": "2024-07-07T14:19:28.662730",
     "exception": false,
     "start_time": "2024-07-07T14:19:10.606045",
     "status": "completed"
    },
    "scrolled": true,
    "tags": []
   },
   "outputs": [
    {
     "name": "stdout",
     "output_type": "stream",
     "text": [
      "\n",
      "sample"
     ]
    },
    {
     "name": "stdout",
     "output_type": "stream",
     "text": [
      "\n"
     ]
    },
    {
     "data": {
      "application/vnd.jupyter.widget-view+json": {
       "model_id": "a3d6d99570fd47f09ce4dc23717b4e61",
       "version_major": 2,
       "version_minor": 0
      },
      "text/plain": [
       "  0%|          | 0/300 [00:00<?, ?it/s]"
      ]
     },
     "metadata": {},
     "output_type": "display_data"
    }
   ],
   "source": [
    "fixed_parameter_SVC = ({\n",
    "    'max_iter': -1,\n",
    "})\n",
    "\n",
    "\n",
    "def SVC_cellTypeOptimization(adataTrain = None, \n",
    "                         KfoldPatientSplit = None,\n",
    "                         y_true_col = 'disease',\n",
    "                         sample_id_col = 'sampleID',\n",
    "                         cell_type_col = 'Level1',\n",
    "                         random_seed = 42,\n",
    "                         optimization = 'F1', \n",
    "                         n_trials = 300,\n",
    "                         n_job = -1):\n",
    "\n",
    "    SVC_cell_type_studies = {}\n",
    "\n",
    "    for ct_i in adataTrain.obs[cell_type_col].unique().tolist():\n",
    "\n",
    "        print(f\"\\n{ct_i}\")\n",
    "        \n",
    "        adataTrain_ct_i = adataTrain[adataTrain.obs[cell_type_col] == ct_i].copy()\n",
    "        \n",
    "        def objective_CT(trial):\n",
    "            class_params = {\n",
    "                'scaler': trial.suggest_categorical('scaler', [True, False]),\n",
    "                'kernel': trial.suggest_categorical(\"kernel\", ['sigmoid','rbf','poly']),\n",
    "                'class_weight': trial.suggest_categorical(\"class_weight\", ['balanced',None]),\n",
    "                'C': trial.suggest_float('C', 1e-3, 1e5, log=True),\n",
    "            }\n",
    "\n",
    "            class_params |= fixed_parameter_SVC\n",
    "            if class_params['kernel'] == 'poly':\n",
    "                class_params.update({'degree': trial.suggest_int('degree', 2,6)})    \n",
    "                \n",
    "            # for ct_ in adataTrain.obs.Level1.unique().tolist():\n",
    "            #     class_params.update({\n",
    "            #         f\"{ct_}_C\": trial.suggest_float(f\"{ct_}_C\", 1e-3, 1e5, log=True),\n",
    "            #     })\n",
    "        \n",
    "            metric_list = []\n",
    "            \n",
    "            for foldK in KfoldPatientSplit:\n",
    "                \n",
    "                pListTrain = Pdata.iloc[foldK[0]][sample_id_col].tolist()\n",
    "                pListTest = Pdata.iloc[foldK[1]][sample_id_col].tolist()\n",
    "                \n",
    "                clf = CellTypeDiseasePrediction(clf_params=class_params.copy(),classifier=SVC, cell_type = ct_i).fit(adataTrain_ct_i[adataTrain_ct_i.obs[sample_id_col].isin(pListTrain)])\n",
    "            \n",
    "                y_pred_df = clf.predict(adataTrain_ct_i[adataTrain_ct_i.obs[sample_id_col].isin(pListTest)], y_true_col = y_true_col)\n",
    "        \n",
    "                if optimization_metric == 'BAS':\n",
    "                    M = balanced_accuracy_score(y_pred_df[y_true_col], y_pred_df.disease_pred)\n",
    "                else:\n",
    "                    M = f1_score(y_pred_df[y_true_col], y_pred_df[f\"disease_pred_{ct_i}\"], average='weighted')\n",
    "        \n",
    "                metric_list.append(M)\n",
    "            \n",
    "            return sum(metric_list)/5\n",
    "                \n",
    "        # Optimize hyperparameters with Optuna\n",
    "        SVC_cell_type_studies[ct_i] = op.create_study(direction='maximize', study_name=ct_i,sampler=TPESampler(seed=random_seed))\n",
    "        SVC_cell_type_studies[ct_i].optimize(objective_CT, n_trials=n_trials, show_progress_bar=True, n_jobs=n_job)#catch = ValueError)\n",
    "\n",
    "    return SVC_cell_type_studies\n",
    "\n",
    "### EXECUTE THE FUNCTION ###\n",
    "SVC_cell_type_studies = SVC_cellTypeOptimization(adataTrain = REFERENCEpseudobulkFilt, \n",
    "                                                   KfoldPatientSplit = KfoldPatientSplit,\n",
    "                                                   y_true_col = 'disease',\n",
    "                                                   sample_id_col = 'sampleID',\n",
    "                                                   cell_type_col = 'Level1',\n",
    "                                                   optimization = 'F1',\n",
    "                                                   n_trials = 300, n_job = n_job, random_seed = 42)"
   ]
  },
  {
   "cell_type": "code",
   "execution_count": 29,
   "id": "df1d3bd9-ca7f-4621-a37a-50faacb2c3da",
   "metadata": {
    "execution": {
     "iopub.execute_input": "2024-07-07T14:19:28.688162Z",
     "iopub.status.busy": "2024-07-07T14:19:28.687538Z",
     "iopub.status.idle": "2024-07-07T14:19:28.762269Z",
     "shell.execute_reply": "2024-07-07T14:19:28.761855Z"
    },
    "papermill": {
     "duration": 0.08804,
     "end_time": "2024-07-07T14:19:28.763693",
     "exception": false,
     "start_time": "2024-07-07T14:19:28.675653",
     "status": "completed"
    },
    "tags": []
   },
   "outputs": [],
   "source": [
    "clf_SVC_TRAINED = (VotingDisease(classifier = SVC, \n",
    "                                         cell_type_studies = SVC_cell_type_studies, \n",
    "                                         fixed_params = fixed_parameter_SVC, \n",
    "                                         cell_type_col = 'Level1', sample_id_col = 'sampleID', y_true_col = 'disease')\n",
    "                           .fit(REFERENCEpseudobulkFilt))"
   ]
  },
  {
   "cell_type": "code",
   "execution_count": 30,
   "id": "1738fab9-3ffe-4649-8b75-4ede4c821328",
   "metadata": {
    "execution": {
     "iopub.execute_input": "2024-07-07T14:19:28.834614Z",
     "iopub.status.busy": "2024-07-07T14:19:28.834184Z",
     "iopub.status.idle": "2024-07-07T14:19:28.837447Z",
     "shell.execute_reply": "2024-07-07T14:19:28.837048Z"
    },
    "papermill": {
     "duration": 0.015372,
     "end_time": "2024-07-07T14:19:28.838289",
     "exception": false,
     "start_time": "2024-07-07T14:19:28.822917",
     "status": "completed"
    },
    "tags": []
   },
   "outputs": [
    {
     "name": "stdout",
     "output_type": "stream",
     "text": [
      "F1 on reference = 0.7692890945649608\n"
     ]
    }
   ],
   "source": [
    "### Extracting the average performance on train data\n",
    "optMetric = 0\n",
    "for ct_i in SVC_cell_type_studies.keys():\n",
    "    optMetric += SVC_cell_type_studies[ct_i].best_value\n",
    "f1_SVC_REFERENCE = optMetric / len(SVC_cell_type_studies)\n",
    "print(f\"F1 on reference = {f1_SVC_REFERENCE}\")"
   ]
  },
  {
   "cell_type": "code",
   "execution_count": 31,
   "id": "047f51ad-f323-483c-96ff-4b7cfdcd9ba7",
   "metadata": {
    "execution": {
     "iopub.execute_input": "2024-07-07T14:19:28.860632Z",
     "iopub.status.busy": "2024-07-07T14:19:28.860191Z",
     "iopub.status.idle": "2024-07-07T14:19:28.886319Z",
     "shell.execute_reply": "2024-07-07T14:19:28.885903Z"
    },
    "papermill": {
     "duration": 0.037744,
     "end_time": "2024-07-07T14:19:28.887196",
     "exception": false,
     "start_time": "2024-07-07T14:19:28.849452",
     "status": "completed"
    },
    "tags": []
   },
   "outputs": [
    {
     "name": "stdout",
     "output_type": "stream",
     "text": [
      "QUERY: F1 = 0.1575989639056253, BAS = 0.11465992647058823, MCC: 0.11389780572816009\n"
     ]
    },
    {
     "name": "stderr",
     "output_type": "stream",
     "text": [
      "/scratch_isilon/groups/singlecell/shared/conda_env/optuna/lib/python3.12/site-packages/sklearn/metrics/_classification.py:2458: UserWarning: y_pred contains classes not in y_true\n",
      "  warnings.warn(\"y_pred contains classes not in y_true\")\n"
     ]
    }
   ],
   "source": [
    "### Predict query dataset\n",
    "SVC_cellType_prediction_query_df = clf_SVC_TRAINED.predict(QUERYpseudobulkFilt)\n",
    "\n",
    "f1_SVC_QUERY = f1_score(SVC_cellType_prediction_query_df[y_true_col], \n",
    "                              SVC_cellType_prediction_query_df.majority_pred, average='weighted')\n",
    "BAS_SVC_QUERY = balanced_accuracy_score(SVC_cellType_prediction_query_df[y_true_col], \n",
    "                                              SVC_cellType_prediction_query_df.majority_pred,)\n",
    "MCC_SVC_QUERY = matthews_corrcoef(SVC_cellType_prediction_query_df[y_true_col], \n",
    "                                        SVC_cellType_prediction_query_df.majority_pred,)\n",
    "print(f\"QUERY: F1 = {f1_SVC_QUERY}, BAS = {BAS_SVC_QUERY}, MCC: {MCC_SVC_QUERY}\")"
   ]
  },
  {
   "cell_type": "code",
   "execution_count": 32,
   "id": "4e68ccc1-e6a3-4ceb-a3ae-b8761de54025",
   "metadata": {
    "execution": {
     "iopub.execute_input": "2024-07-07T14:19:28.909599Z",
     "iopub.status.busy": "2024-07-07T14:19:28.909177Z",
     "iopub.status.idle": "2024-07-07T14:19:28.912991Z",
     "shell.execute_reply": "2024-07-07T14:19:28.912591Z"
    },
    "papermill": {
     "duration": 0.015463,
     "end_time": "2024-07-07T14:19:28.913785",
     "exception": false,
     "start_time": "2024-07-07T14:19:28.898322",
     "status": "completed"
    },
    "tags": []
   },
   "outputs": [],
   "source": [
    "### Add results to dataframe\n",
    "METRICdf.loc[METRICdf.shape[0],:] = [integration_method,embSpace,n_embedded,n_Patient_embedded,batch,annotation,'SVC',\n",
    "                                     f1_SVC_QUERY, BAS_SVC_QUERY,MCC_SVC_QUERY,f1_SVC_REFERENCE]"
   ]
  },
  {
   "cell_type": "code",
   "execution_count": 33,
   "id": "d17b7639-2450-405d-ab6d-622ce4781196",
   "metadata": {
    "execution": {
     "iopub.execute_input": "2024-07-07T14:19:28.934616Z",
     "iopub.status.busy": "2024-07-07T14:19:28.934205Z",
     "iopub.status.idle": "2024-07-07T14:19:29.041127Z",
     "shell.execute_reply": "2024-07-07T14:19:29.040636Z"
    },
    "papermill": {
     "duration": 0.118863,
     "end_time": "2024-07-07T14:19:29.042523",
     "exception": false,
     "start_time": "2024-07-07T14:19:28.923660",
     "status": "completed"
    },
    "tags": []
   },
   "outputs": [],
   "source": [
    "#### SAVE STUDY and FINAL MODEL AS PICKLE\n",
    "joblib.dump(SVC_cell_type_studies, os.path.join(mainDir, f\"study_objects/BestParams_{integration_method}_{embSpace}_{n_embedded}nEmb_{n_Patient_embedded}nPEmb_{batch}_{annotation}_opt{optimization_metric}_{query_dataset}_SVC.pkl\"))\n",
    "joblib.dump(clf_SVC_TRAINED, os.path.join(mainDir, f\"best_models/{integration_method}_{embSpace}_{n_embedded}nEmb_{n_Patient_embedded}nPEmb_{batch}_{annotation}_opt{optimization_metric}_{query_dataset}_SVC.pkl\"))\n",
    "\n",
    "SVC_cellType_prediction_query_df.to_pickle(os.path.join(mainDir, f\"label_predicted_dataframes/{integration_method}_{embSpace}_{n_embedded}nEmb_{n_Patient_embedded}nPEmb_{batch}_{annotation}_opt{optimization_metric}_{query_dataset}_SVC.pkl\"))"
   ]
  },
  {
   "cell_type": "markdown",
   "id": "f06fd6e1-90a1-4fc2-a9fd-6a35fb3ab0ed",
   "metadata": {
    "papermill": {
     "duration": 0.010256,
     "end_time": "2024-07-07T14:19:29.063677",
     "exception": false,
     "start_time": "2024-07-07T14:19:29.053421",
     "status": "completed"
    },
    "tags": []
   },
   "source": [
    "#### kNN"
   ]
  },
  {
   "cell_type": "code",
   "execution_count": 34,
   "id": "4b5a4d44-3d52-45ec-85d5-cdee0e1754f1",
   "metadata": {
    "execution": {
     "iopub.execute_input": "2024-07-07T14:19:29.093070Z",
     "iopub.status.busy": "2024-07-07T14:19:29.092451Z",
     "iopub.status.idle": "2024-07-07T14:19:33.651903Z",
     "shell.execute_reply": "2024-07-07T14:19:33.651217Z"
    },
    "papermill": {
     "duration": 4.579435,
     "end_time": "2024-07-07T14:19:33.653518",
     "exception": false,
     "start_time": "2024-07-07T14:19:29.074083",
     "status": "completed"
    },
    "scrolled": true,
    "tags": []
   },
   "outputs": [
    {
     "name": "stdout",
     "output_type": "stream",
     "text": [
      "\n",
      "sample\n"
     ]
    },
    {
     "name": "stderr",
     "output_type": "stream",
     "text": [
      "/scratch_tmp/25709276/ipykernel_113502/494070876.py:52: ExperimentalWarning: BruteForceSampler is experimental (supported from v3.1.0). The interface can change in the future.\n",
      "  kNN_cell_type_studies[ct_i] = op.create_study(direction='maximize', study_name=ct_i, sampler=BruteForceSampler())\n"
     ]
    }
   ],
   "source": [
    "fixed_parameter_kNN = ({\n",
    "    'n_jobs': 1\n",
    "})\n",
    "\n",
    "def kNN_cellTypeOptimization(adataTrain = None, \n",
    "                         KfoldPatientSplit = None,\n",
    "                         y_true_col = 'disease',\n",
    "                         sample_id_col = 'sampleID',\n",
    "                         cell_type_col = 'Level1',\n",
    "                         optimization = 'F1', \n",
    "                         n_job = 40):\n",
    "\n",
    "    kNN_cell_type_studies = {}\n",
    "\n",
    "    for ct_i in adataTrain.obs[cell_type_col].unique().tolist():\n",
    "\n",
    "        print(f\"\\n{ct_i}\")\n",
    "        \n",
    "        adataTrain_ct_i = adataTrain[adataTrain.obs[cell_type_col] == ct_i].copy()\n",
    "        \n",
    "        def objective_CT(trial):\n",
    "            class_params = {\n",
    "                'scaler': trial.suggest_categorical('scaler', [True, False]),\n",
    "                'metric': trial.suggest_categorical(\"metric\", ['cosine','euclidean']),\n",
    "                'weights': trial.suggest_categorical(\"weights\", ['uniform','distance']),\n",
    "                'n_neighbors': trial.suggest_int('n_neighbors', 1, 5, log=False),\n",
    "            }\n",
    "\n",
    "            class_params |= fixed_parameter_kNN\n",
    "\n",
    "            metric_list = []\n",
    "            \n",
    "            for foldK in KfoldPatientSplit:\n",
    "                \n",
    "                pListTrain = Pdata.iloc[foldK[0]][sample_id_col].tolist()\n",
    "                pListTest = Pdata.iloc[foldK[1]][sample_id_col].tolist()\n",
    "                \n",
    "                clf = CellTypeDiseasePrediction(clf_params=class_params.copy(),classifier=KNeighborsClassifier, cell_type = ct_i).fit(adataTrain_ct_i[adataTrain_ct_i.obs[sample_id_col].isin(pListTrain)])\n",
    "            \n",
    "                y_pred_df = clf.predict(adataTrain_ct_i[adataTrain_ct_i.obs[sample_id_col].isin(pListTest)], y_true_col = y_true_col)\n",
    "        \n",
    "                if optimization_metric == 'BAS':\n",
    "                    M = balanced_accuracy_score(y_pred_df[y_true_col], y_pred_df.disease_pred)\n",
    "                else:\n",
    "                    M = f1_score(y_pred_df[y_true_col], y_pred_df[f\"disease_pred_{ct_i}\"], average='weighted')\n",
    "        \n",
    "                metric_list.append(M)\n",
    "            \n",
    "            return sum(metric_list)/5\n",
    "                \n",
    "        # Optimize hyperparameters with Optuna\n",
    "        kNN_cell_type_studies[ct_i] = op.create_study(direction='maximize', study_name=ct_i, sampler=BruteForceSampler())\n",
    "        kNN_cell_type_studies[ct_i].optimize(objective_CT, show_progress_bar=False, n_jobs=40)#catch = ValueError)\n",
    "\n",
    "    return kNN_cell_type_studies\n",
    "\n",
    "### EXECUTE THE FUNCTION ###\n",
    "kNN_cell_type_studies = kNN_cellTypeOptimization(adataTrain = REFERENCEpseudobulkFilt, \n",
    "                                                 KfoldPatientSplit = KfoldPatientSplit,\n",
    "                                                 y_true_col = 'disease',\n",
    "                                                 sample_id_col = 'sampleID',\n",
    "                                                 cell_type_col = 'Level1',\n",
    "                                                 optimization = 'F1',\n",
    "                                                 n_job = min(n_job,40))"
   ]
  },
  {
   "cell_type": "code",
   "execution_count": 35,
   "id": "efa94193-3498-4552-9ce9-281ca55cb795",
   "metadata": {
    "execution": {
     "iopub.execute_input": "2024-07-07T14:19:33.676263Z",
     "iopub.status.busy": "2024-07-07T14:19:33.676001Z",
     "iopub.status.idle": "2024-07-07T14:19:33.681760Z",
     "shell.execute_reply": "2024-07-07T14:19:33.681318Z"
    },
    "papermill": {
     "duration": 0.018968,
     "end_time": "2024-07-07T14:19:33.682596",
     "exception": false,
     "start_time": "2024-07-07T14:19:33.663628",
     "status": "completed"
    },
    "tags": []
   },
   "outputs": [],
   "source": [
    "clf_kNN_TRAINED = (VotingDisease(classifier = KNeighborsClassifier, \n",
    "                                         cell_type_studies = kNN_cell_type_studies, \n",
    "                                         fixed_params = fixed_parameter_kNN, \n",
    "                                         cell_type_col = 'Level1', sample_id_col = 'sampleID', y_true_col = 'disease')\n",
    "                           .fit(REFERENCEpseudobulkFilt))"
   ]
  },
  {
   "cell_type": "code",
   "execution_count": 36,
   "id": "93d992ed-9cd1-4aab-8c6b-3ba520ee2fee",
   "metadata": {
    "execution": {
     "iopub.execute_input": "2024-07-07T14:19:33.704097Z",
     "iopub.status.busy": "2024-07-07T14:19:33.703605Z",
     "iopub.status.idle": "2024-07-07T14:19:33.707037Z",
     "shell.execute_reply": "2024-07-07T14:19:33.706565Z"
    },
    "papermill": {
     "duration": 0.014776,
     "end_time": "2024-07-07T14:19:33.707871",
     "exception": false,
     "start_time": "2024-07-07T14:19:33.693095",
     "status": "completed"
    },
    "tags": []
   },
   "outputs": [
    {
     "name": "stdout",
     "output_type": "stream",
     "text": [
      "F1 on reference = 0.7317928800609109\n"
     ]
    }
   ],
   "source": [
    "### Extracting the average performance on train data\n",
    "optMetric = 0\n",
    "for ct_i in kNN_cell_type_studies.keys():\n",
    "    optMetric += kNN_cell_type_studies[ct_i].best_value\n",
    "f1_kNN_REFERENCE = optMetric / len(kNN_cell_type_studies)\n",
    "print(f\"F1 on reference = {f1_kNN_REFERENCE}\")"
   ]
  },
  {
   "cell_type": "code",
   "execution_count": 37,
   "id": "7fb64646-7479-488b-b356-bcce128453dc",
   "metadata": {
    "execution": {
     "iopub.execute_input": "2024-07-07T14:19:33.728934Z",
     "iopub.status.busy": "2024-07-07T14:19:33.728420Z",
     "iopub.status.idle": "2024-07-07T14:19:34.063544Z",
     "shell.execute_reply": "2024-07-07T14:19:34.062893Z"
    },
    "papermill": {
     "duration": 0.346634,
     "end_time": "2024-07-07T14:19:34.064561",
     "exception": false,
     "start_time": "2024-07-07T14:19:33.717927",
     "status": "completed"
    },
    "tags": []
   },
   "outputs": [
    {
     "name": "stdout",
     "output_type": "stream",
     "text": [
      "QUERY: F1 = 0.33100582838017195, BAS = 0.1213235294117647, MCC: 0.18735646232557224\n"
     ]
    },
    {
     "name": "stderr",
     "output_type": "stream",
     "text": [
      "/scratch_isilon/groups/singlecell/shared/conda_env/optuna/lib/python3.12/site-packages/sklearn/metrics/_classification.py:2458: UserWarning: y_pred contains classes not in y_true\n",
      "  warnings.warn(\"y_pred contains classes not in y_true\")\n"
     ]
    }
   ],
   "source": [
    "### Predict query dataset\n",
    "kNN_cellType_prediction_query_df = clf_kNN_TRAINED.predict(QUERYpseudobulkFilt)\n",
    "\n",
    "f1_kNN_QUERY = f1_score(kNN_cellType_prediction_query_df[y_true_col], \n",
    "                              kNN_cellType_prediction_query_df.majority_pred, average='weighted')\n",
    "BAS_kNN_QUERY = balanced_accuracy_score(kNN_cellType_prediction_query_df[y_true_col], \n",
    "                                              kNN_cellType_prediction_query_df.majority_pred,)\n",
    "MCC_kNN_QUERY = matthews_corrcoef(kNN_cellType_prediction_query_df[y_true_col], \n",
    "                                        kNN_cellType_prediction_query_df.majority_pred,)\n",
    "print(f\"QUERY: F1 = {f1_kNN_QUERY}, BAS = {BAS_kNN_QUERY}, MCC: {MCC_kNN_QUERY}\")"
   ]
  },
  {
   "cell_type": "code",
   "execution_count": 38,
   "id": "a6b5a17f-9bc8-49e0-992d-3a73cbb73af1",
   "metadata": {
    "execution": {
     "iopub.execute_input": "2024-07-07T14:19:34.086790Z",
     "iopub.status.busy": "2024-07-07T14:19:34.086185Z",
     "iopub.status.idle": "2024-07-07T14:19:34.089534Z",
     "shell.execute_reply": "2024-07-07T14:19:34.089085Z"
    },
    "papermill": {
     "duration": 0.014961,
     "end_time": "2024-07-07T14:19:34.090451",
     "exception": false,
     "start_time": "2024-07-07T14:19:34.075490",
     "status": "completed"
    },
    "tags": []
   },
   "outputs": [],
   "source": [
    "### Add results to dataframe\n",
    "METRICdf.loc[METRICdf.shape[0],:] = [integration_method,embSpace,n_embedded,n_Patient_embedded,batch,annotation,'kNN',\n",
    "                                     f1_kNN_QUERY, BAS_kNN_QUERY,MCC_kNN_QUERY,f1_kNN_REFERENCE]"
   ]
  },
  {
   "cell_type": "code",
   "execution_count": 39,
   "id": "571de3ba-0358-48c6-b67f-fb247d2f7938",
   "metadata": {
    "execution": {
     "iopub.execute_input": "2024-07-07T14:19:34.111780Z",
     "iopub.status.busy": "2024-07-07T14:19:34.111295Z",
     "iopub.status.idle": "2024-07-07T14:19:34.138024Z",
     "shell.execute_reply": "2024-07-07T14:19:34.137543Z"
    },
    "papermill": {
     "duration": 0.038448,
     "end_time": "2024-07-07T14:19:34.138996",
     "exception": false,
     "start_time": "2024-07-07T14:19:34.100548",
     "status": "completed"
    },
    "tags": []
   },
   "outputs": [],
   "source": [
    "#### SAVE STUDY and FINAL MODEL AS PICKLE\n",
    "joblib.dump(kNN_cell_type_studies, os.path.join(mainDir, f\"study_objects/BestParams_{integration_method}_{embSpace}_{n_embedded}nEmb_{n_Patient_embedded}nPEmb_{batch}_{annotation}_opt{optimization_metric}_{query_dataset}_kNN.pkl\"))\n",
    "joblib.dump(clf_kNN_TRAINED, os.path.join(mainDir, f\"best_models/{integration_method}_{embSpace}_{n_embedded}nEmb_{n_Patient_embedded}nPEmb_{batch}_{annotation}_opt{optimization_metric}_{query_dataset}_kNN.pkl\"))\n",
    "\n",
    "kNN_cellType_prediction_query_df.to_pickle(os.path.join(mainDir, f\"label_predicted_dataframes/{integration_method}_{embSpace}_{n_embedded}nEmb_{n_Patient_embedded}nPEmb_{batch}_{annotation}_opt{optimization_metric}_{query_dataset}_kNN.pkl\"))"
   ]
  },
  {
   "cell_type": "markdown",
   "id": "ca686a7e-4f31-421e-8615-6c61274fa806",
   "metadata": {
    "papermill": {
     "duration": 0.009944,
     "end_time": "2024-07-07T14:19:34.163130",
     "exception": false,
     "start_time": "2024-07-07T14:19:34.153186",
     "status": "completed"
    },
    "tags": []
   },
   "source": [
    "### Saving metrics dataframe"
   ]
  },
  {
   "cell_type": "code",
   "execution_count": 40,
   "id": "20274e0e-5efd-4626-88b8-19bf6184bff0",
   "metadata": {
    "execution": {
     "iopub.execute_input": "2024-07-07T14:19:34.185371Z",
     "iopub.status.busy": "2024-07-07T14:19:34.184874Z",
     "iopub.status.idle": "2024-07-07T14:19:34.191262Z",
     "shell.execute_reply": "2024-07-07T14:19:34.190816Z"
    },
    "papermill": {
     "duration": 0.01761,
     "end_time": "2024-07-07T14:19:34.192188",
     "exception": false,
     "start_time": "2024-07-07T14:19:34.174578",
     "status": "completed"
    },
    "tags": []
   },
   "outputs": [],
   "source": [
    "METRICdf.to_pickle(os.path.join(mainDir, f\"metrics_dataframes/METRICdf_{integration_method}_{embSpace}_{n_embedded}nEmb_{n_Patient_embedded}nPEmb_{batch}_{annotation}_opt{optimization_metric}_{query_dataset}.pkl\"))"
   ]
  },
  {
   "cell_type": "code",
   "execution_count": 41,
   "id": "17be377b-b0b3-44f7-94a0-2c5b0f67e378",
   "metadata": {
    "execution": {
     "iopub.execute_input": "2024-07-07T14:19:34.213505Z",
     "iopub.status.busy": "2024-07-07T14:19:34.213203Z",
     "iopub.status.idle": "2024-07-07T14:19:34.220992Z",
     "shell.execute_reply": "2024-07-07T14:19:34.220525Z"
    },
    "papermill": {
     "duration": 0.018996,
     "end_time": "2024-07-07T14:19:34.221897",
     "exception": false,
     "start_time": "2024-07-07T14:19:34.202901",
     "status": "completed"
    },
    "tags": []
   },
   "outputs": [
    {
     "data": {
      "text/html": [
       "<div>\n",
       "<style scoped>\n",
       "    .dataframe tbody tr th:only-of-type {\n",
       "        vertical-align: middle;\n",
       "    }\n",
       "\n",
       "    .dataframe tbody tr th {\n",
       "        vertical-align: top;\n",
       "    }\n",
       "\n",
       "    .dataframe thead th {\n",
       "        text-align: right;\n",
       "    }\n",
       "</style>\n",
       "<table border=\"1\" class=\"dataframe\">\n",
       "  <thead>\n",
       "    <tr style=\"text-align: right;\">\n",
       "      <th></th>\n",
       "      <th>integration_method</th>\n",
       "      <th>embedded_space</th>\n",
       "      <th>n_embedded</th>\n",
       "      <th>n_Patient_embedded</th>\n",
       "      <th>batchKeys</th>\n",
       "      <th>annotation</th>\n",
       "      <th>classification_method</th>\n",
       "      <th>EXTERNAL_F1</th>\n",
       "      <th>EXTERNAL_BAS</th>\n",
       "      <th>EXTERNAL_MCC</th>\n",
       "      <th>EXTERNAL_TRAIN_F1</th>\n",
       "    </tr>\n",
       "  </thead>\n",
       "  <tbody>\n",
       "    <tr>\n",
       "      <th>0</th>\n",
       "      <td>scPoli</td>\n",
       "      <td>sample</td>\n",
       "      <td>50</td>\n",
       "      <td>100</td>\n",
       "      <td>chemistry</td>\n",
       "      <td>Level1n2</td>\n",
       "      <td>LinearSVC</td>\n",
       "      <td>0.159468</td>\n",
       "      <td>0.144958</td>\n",
       "      <td>0.144246</td>\n",
       "      <td>0.752897</td>\n",
       "    </tr>\n",
       "    <tr>\n",
       "      <th>1</th>\n",
       "      <td>scPoli</td>\n",
       "      <td>sample</td>\n",
       "      <td>50</td>\n",
       "      <td>100</td>\n",
       "      <td>chemistry</td>\n",
       "      <td>Level1n2</td>\n",
       "      <td>SVC</td>\n",
       "      <td>0.157599</td>\n",
       "      <td>0.11466</td>\n",
       "      <td>0.113898</td>\n",
       "      <td>0.769289</td>\n",
       "    </tr>\n",
       "    <tr>\n",
       "      <th>2</th>\n",
       "      <td>scPoli</td>\n",
       "      <td>sample</td>\n",
       "      <td>50</td>\n",
       "      <td>100</td>\n",
       "      <td>chemistry</td>\n",
       "      <td>Level1n2</td>\n",
       "      <td>kNN</td>\n",
       "      <td>0.331006</td>\n",
       "      <td>0.121324</td>\n",
       "      <td>0.187356</td>\n",
       "      <td>0.731793</td>\n",
       "    </tr>\n",
       "  </tbody>\n",
       "</table>\n",
       "</div>"
      ],
      "text/plain": [
       "  integration_method embedded_space n_embedded n_Patient_embedded  batchKeys  \\\n",
       "0             scPoli         sample         50                100  chemistry   \n",
       "1             scPoli         sample         50                100  chemistry   \n",
       "2             scPoli         sample         50                100  chemistry   \n",
       "\n",
       "  annotation classification_method EXTERNAL_F1 EXTERNAL_BAS EXTERNAL_MCC  \\\n",
       "0   Level1n2             LinearSVC    0.159468     0.144958     0.144246   \n",
       "1   Level1n2                   SVC    0.157599      0.11466     0.113898   \n",
       "2   Level1n2                   kNN    0.331006     0.121324     0.187356   \n",
       "\n",
       "  EXTERNAL_TRAIN_F1  \n",
       "0          0.752897  \n",
       "1          0.769289  \n",
       "2          0.731793  "
      ]
     },
     "execution_count": 41,
     "metadata": {},
     "output_type": "execute_result"
    }
   ],
   "source": [
    "METRICdf"
   ]
  },
  {
   "cell_type": "code",
   "execution_count": null,
   "id": "dcac8762-9816-47ad-898f-ca8e3fbd90db",
   "metadata": {
    "papermill": {
     "duration": 0.011541,
     "end_time": "2024-07-07T14:19:34.244738",
     "exception": false,
     "start_time": "2024-07-07T14:19:34.233197",
     "status": "completed"
    },
    "tags": []
   },
   "outputs": [],
   "source": []
  }
 ],
 "metadata": {
  "kernelspec": {
   "display_name": "Python 3 (ipykernel)",
   "language": "python",
   "name": "python3"
  },
  "language_info": {
   "codemirror_mode": {
    "name": "ipython",
    "version": 3
   },
   "file_extension": ".py",
   "mimetype": "text/x-python",
   "name": "python",
   "nbconvert_exporter": "python",
   "pygments_lexer": "ipython3",
   "version": "3.12.3"
  },
  "papermill": {
   "default_parameters": {},
   "duration": 75.64747,
   "end_time": "2024-07-07T14:19:35.372751",
   "environment_variables": {},
   "exception": null,
   "input_path": "01_Hyperparameters_search_scPoli_scANVI.ipynb",
   "output_path": "results_CT_studies/executed_notebooks/01_Hyperparameters_search_scPoli_EXTERNALsample_50nLat_100pEmb_chemistry_Level1n2_optF1.ipynb",
   "parameters": {
    "QUERYNadata_path": "03_downstream_analysis/08_PatientClassifier/scPoli/results/PSEUDOBULKs/scPoli_PSEUDOBULKsample_EXTERNAL_2_50_100_*.h5ad",
    "REFERENCEadata_path": "03_downstream_analysis/08_PatientClassifier/scPoli/results/PSEUDOBULKs/scPoli_PSEUDOBULKsample_ref_latents_EXTERNAL_2_50_100_*.h5ad",
    "annotation": "Level1n2",
    "batch": "chemistry",
    "embSpace": "sample",
    "integration_method": "scPoli",
    "n_Patient_embedded": 100,
    "n_embedded": 50,
    "n_job": 32,
    "optimization_metric": "F1",
    "query_dataset": "EXTERNAL"
   },
   "start_time": "2024-07-07T14:18:19.725281",
   "version": "2.6.0"
  },
  "widgets": {
   "application/vnd.jupyter.widget-state+json": {
    "state": {
     "0684c3dc1426422b89214ddbdfd79a6d": {
      "model_module": "@jupyter-widgets/base",
      "model_module_version": "2.0.0",
      "model_name": "LayoutModel",
      "state": {
       "_model_module": "@jupyter-widgets/base",
       "_model_module_version": "2.0.0",
       "_model_name": "LayoutModel",
       "_view_count": null,
       "_view_module": "@jupyter-widgets/base",
       "_view_module_version": "2.0.0",
       "_view_name": "LayoutView",
       "align_content": null,
       "align_items": null,
       "align_self": null,
       "border_bottom": null,
       "border_left": null,
       "border_right": null,
       "border_top": null,
       "bottom": null,
       "display": null,
       "flex": null,
       "flex_flow": null,
       "grid_area": null,
       "grid_auto_columns": null,
       "grid_auto_flow": null,
       "grid_auto_rows": null,
       "grid_column": null,
       "grid_gap": null,
       "grid_row": null,
       "grid_template_areas": null,
       "grid_template_columns": null,
       "grid_template_rows": null,
       "height": null,
       "justify_content": null,
       "justify_items": null,
       "left": null,
       "margin": null,
       "max_height": null,
       "max_width": null,
       "min_height": null,
       "min_width": null,
       "object_fit": null,
       "object_position": null,
       "order": null,
       "overflow": null,
       "padding": null,
       "right": null,
       "top": null,
       "visibility": null,
       "width": null
      }
     },
     "2158cf3e92df4f8da0a09e25c14f38f6": {
      "model_module": "@jupyter-widgets/controls",
      "model_module_version": "2.0.0",
      "model_name": "HTMLModel",
      "state": {
       "_dom_classes": [],
       "_model_module": "@jupyter-widgets/controls",
       "_model_module_version": "2.0.0",
       "_model_name": "HTMLModel",
       "_view_count": null,
       "_view_module": "@jupyter-widgets/controls",
       "_view_module_version": "2.0.0",
       "_view_name": "HTMLView",
       "description": "",
       "description_allow_html": false,
       "layout": "IPY_MODEL_4e77c278b6194fa3b8b2fe49569d2e4b",
       "placeholder": "​",
       "style": "IPY_MODEL_eaec6f38fb6d40edba87806d92202ff5",
       "tabbable": null,
       "tooltip": null,
       "value": " 100/100 [00:44&lt;00:00,  3.63s/it]"
      }
     },
     "4266389c2d8d46b08ea3f0b9cf2ae7ca": {
      "model_module": "@jupyter-widgets/base",
      "model_module_version": "2.0.0",
      "model_name": "LayoutModel",
      "state": {
       "_model_module": "@jupyter-widgets/base",
       "_model_module_version": "2.0.0",
       "_model_name": "LayoutModel",
       "_view_count": null,
       "_view_module": "@jupyter-widgets/base",
       "_view_module_version": "2.0.0",
       "_view_name": "LayoutView",
       "align_content": null,
       "align_items": null,
       "align_self": null,
       "border_bottom": null,
       "border_left": null,
       "border_right": null,
       "border_top": null,
       "bottom": null,
       "display": null,
       "flex": null,
       "flex_flow": null,
       "grid_area": null,
       "grid_auto_columns": null,
       "grid_auto_flow": null,
       "grid_auto_rows": null,
       "grid_column": null,
       "grid_gap": null,
       "grid_row": null,
       "grid_template_areas": null,
       "grid_template_columns": null,
       "grid_template_rows": null,
       "height": null,
       "justify_content": null,
       "justify_items": null,
       "left": null,
       "margin": null,
       "max_height": null,
       "max_width": null,
       "min_height": null,
       "min_width": null,
       "object_fit": null,
       "object_position": null,
       "order": null,
       "overflow": null,
       "padding": null,
       "right": null,
       "top": null,
       "visibility": null,
       "width": null
      }
     },
     "4dfeab0bce8a4c0ea5020f130003ee31": {
      "model_module": "@jupyter-widgets/controls",
      "model_module_version": "2.0.0",
      "model_name": "ProgressStyleModel",
      "state": {
       "_model_module": "@jupyter-widgets/controls",
       "_model_module_version": "2.0.0",
       "_model_name": "ProgressStyleModel",
       "_view_count": null,
       "_view_module": "@jupyter-widgets/base",
       "_view_module_version": "2.0.0",
       "_view_name": "StyleView",
       "bar_color": null,
       "description_width": ""
      }
     },
     "4e77c278b6194fa3b8b2fe49569d2e4b": {
      "model_module": "@jupyter-widgets/base",
      "model_module_version": "2.0.0",
      "model_name": "LayoutModel",
      "state": {
       "_model_module": "@jupyter-widgets/base",
       "_model_module_version": "2.0.0",
       "_model_name": "LayoutModel",
       "_view_count": null,
       "_view_module": "@jupyter-widgets/base",
       "_view_module_version": "2.0.0",
       "_view_name": "LayoutView",
       "align_content": null,
       "align_items": null,
       "align_self": null,
       "border_bottom": null,
       "border_left": null,
       "border_right": null,
       "border_top": null,
       "bottom": null,
       "display": null,
       "flex": null,
       "flex_flow": null,
       "grid_area": null,
       "grid_auto_columns": null,
       "grid_auto_flow": null,
       "grid_auto_rows": null,
       "grid_column": null,
       "grid_gap": null,
       "grid_row": null,
       "grid_template_areas": null,
       "grid_template_columns": null,
       "grid_template_rows": null,
       "height": null,
       "justify_content": null,
       "justify_items": null,
       "left": null,
       "margin": null,
       "max_height": null,
       "max_width": null,
       "min_height": null,
       "min_width": null,
       "object_fit": null,
       "object_position": null,
       "order": null,
       "overflow": null,
       "padding": null,
       "right": null,
       "top": null,
       "visibility": null,
       "width": null
      }
     },
     "4f2f0fe8859f49e589a2151f434e8d70": {
      "model_module": "@jupyter-widgets/controls",
      "model_module_version": "2.0.0",
      "model_name": "FloatProgressModel",
      "state": {
       "_dom_classes": [],
       "_model_module": "@jupyter-widgets/controls",
       "_model_module_version": "2.0.0",
       "_model_name": "FloatProgressModel",
       "_view_count": null,
       "_view_module": "@jupyter-widgets/controls",
       "_view_module_version": "2.0.0",
       "_view_name": "ProgressView",
       "bar_style": "success",
       "description": "",
       "description_allow_html": false,
       "layout": "IPY_MODEL_a1e66660571b4ef69f4e925881d5a921",
       "max": 300.0,
       "min": 0.0,
       "orientation": "horizontal",
       "style": "IPY_MODEL_4dfeab0bce8a4c0ea5020f130003ee31",
       "tabbable": null,
       "tooltip": null,
       "value": 300.0
      }
     },
     "7cdaa07c3f2c4cbaa0e95f9c4adc5d60": {
      "model_module": "@jupyter-widgets/controls",
      "model_module_version": "2.0.0",
      "model_name": "HTMLModel",
      "state": {
       "_dom_classes": [],
       "_model_module": "@jupyter-widgets/controls",
       "_model_module_version": "2.0.0",
       "_model_name": "HTMLModel",
       "_view_count": null,
       "_view_module": "@jupyter-widgets/controls",
       "_view_module_version": "2.0.0",
       "_view_name": "HTMLView",
       "description": "",
       "description_allow_html": false,
       "layout": "IPY_MODEL_b04a91b9e8e043e3865b9b885fd4b39b",
       "placeholder": "​",
       "style": "IPY_MODEL_cc91f6ef86dd4493a12a88af0963dcb1",
       "tabbable": null,
       "tooltip": null,
       "value": "Best trial: 120. Best value: 0.769289: 100%"
      }
     },
     "7f5303667fba45f384fec941be461296": {
      "model_module": "@jupyter-widgets/controls",
      "model_module_version": "2.0.0",
      "model_name": "HTMLStyleModel",
      "state": {
       "_model_module": "@jupyter-widgets/controls",
       "_model_module_version": "2.0.0",
       "_model_name": "HTMLStyleModel",
       "_view_count": null,
       "_view_module": "@jupyter-widgets/base",
       "_view_module_version": "2.0.0",
       "_view_name": "StyleView",
       "background": null,
       "description_width": "",
       "font_size": null,
       "text_color": null
      }
     },
     "a1e66660571b4ef69f4e925881d5a921": {
      "model_module": "@jupyter-widgets/base",
      "model_module_version": "2.0.0",
      "model_name": "LayoutModel",
      "state": {
       "_model_module": "@jupyter-widgets/base",
       "_model_module_version": "2.0.0",
       "_model_name": "LayoutModel",
       "_view_count": null,
       "_view_module": "@jupyter-widgets/base",
       "_view_module_version": "2.0.0",
       "_view_name": "LayoutView",
       "align_content": null,
       "align_items": null,
       "align_self": null,
       "border_bottom": null,
       "border_left": null,
       "border_right": null,
       "border_top": null,
       "bottom": null,
       "display": null,
       "flex": null,
       "flex_flow": null,
       "grid_area": null,
       "grid_auto_columns": null,
       "grid_auto_flow": null,
       "grid_auto_rows": null,
       "grid_column": null,
       "grid_gap": null,
       "grid_row": null,
       "grid_template_areas": null,
       "grid_template_columns": null,
       "grid_template_rows": null,
       "height": null,
       "justify_content": null,
       "justify_items": null,
       "left": null,
       "margin": null,
       "max_height": null,
       "max_width": null,
       "min_height": null,
       "min_width": null,
       "object_fit": null,
       "object_position": null,
       "order": null,
       "overflow": null,
       "padding": null,
       "right": null,
       "top": null,
       "visibility": null,
       "width": null
      }
     },
     "a3d6d99570fd47f09ce4dc23717b4e61": {
      "model_module": "@jupyter-widgets/controls",
      "model_module_version": "2.0.0",
      "model_name": "HBoxModel",
      "state": {
       "_dom_classes": [],
       "_model_module": "@jupyter-widgets/controls",
       "_model_module_version": "2.0.0",
       "_model_name": "HBoxModel",
       "_view_count": null,
       "_view_module": "@jupyter-widgets/controls",
       "_view_module_version": "2.0.0",
       "_view_name": "HBoxView",
       "box_style": "",
       "children": [
        "IPY_MODEL_7cdaa07c3f2c4cbaa0e95f9c4adc5d60",
        "IPY_MODEL_4f2f0fe8859f49e589a2151f434e8d70",
        "IPY_MODEL_bdbc268e7ec74c8d93048bef8e0063d1"
       ],
       "layout": "IPY_MODEL_4266389c2d8d46b08ea3f0b9cf2ae7ca",
       "tabbable": null,
       "tooltip": null
      }
     },
     "b04a91b9e8e043e3865b9b885fd4b39b": {
      "model_module": "@jupyter-widgets/base",
      "model_module_version": "2.0.0",
      "model_name": "LayoutModel",
      "state": {
       "_model_module": "@jupyter-widgets/base",
       "_model_module_version": "2.0.0",
       "_model_name": "LayoutModel",
       "_view_count": null,
       "_view_module": "@jupyter-widgets/base",
       "_view_module_version": "2.0.0",
       "_view_name": "LayoutView",
       "align_content": null,
       "align_items": null,
       "align_self": null,
       "border_bottom": null,
       "border_left": null,
       "border_right": null,
       "border_top": null,
       "bottom": null,
       "display": null,
       "flex": null,
       "flex_flow": null,
       "grid_area": null,
       "grid_auto_columns": null,
       "grid_auto_flow": null,
       "grid_auto_rows": null,
       "grid_column": null,
       "grid_gap": null,
       "grid_row": null,
       "grid_template_areas": null,
       "grid_template_columns": null,
       "grid_template_rows": null,
       "height": null,
       "justify_content": null,
       "justify_items": null,
       "left": null,
       "margin": null,
       "max_height": null,
       "max_width": null,
       "min_height": null,
       "min_width": null,
       "object_fit": null,
       "object_position": null,
       "order": null,
       "overflow": null,
       "padding": null,
       "right": null,
       "top": null,
       "visibility": null,
       "width": null
      }
     },
     "b158bd74a0404224acb8bcee053e6e55": {
      "model_module": "@jupyter-widgets/controls",
      "model_module_version": "2.0.0",
      "model_name": "FloatProgressModel",
      "state": {
       "_dom_classes": [],
       "_model_module": "@jupyter-widgets/controls",
       "_model_module_version": "2.0.0",
       "_model_name": "FloatProgressModel",
       "_view_count": null,
       "_view_module": "@jupyter-widgets/controls",
       "_view_module_version": "2.0.0",
       "_view_name": "ProgressView",
       "bar_style": "success",
       "description": "",
       "description_allow_html": false,
       "layout": "IPY_MODEL_d8f8de0196ba457eaf8f0c3e8bfdebbe",
       "max": 100.0,
       "min": 0.0,
       "orientation": "horizontal",
       "style": "IPY_MODEL_e4139fec1fa94629a19c136d435b43ea",
       "tabbable": null,
       "tooltip": null,
       "value": 100.0
      }
     },
     "bdbc268e7ec74c8d93048bef8e0063d1": {
      "model_module": "@jupyter-widgets/controls",
      "model_module_version": "2.0.0",
      "model_name": "HTMLModel",
      "state": {
       "_dom_classes": [],
       "_model_module": "@jupyter-widgets/controls",
       "_model_module_version": "2.0.0",
       "_model_name": "HTMLModel",
       "_view_count": null,
       "_view_module": "@jupyter-widgets/controls",
       "_view_module_version": "2.0.0",
       "_view_name": "HTMLView",
       "description": "",
       "description_allow_html": false,
       "layout": "IPY_MODEL_0684c3dc1426422b89214ddbdfd79a6d",
       "placeholder": "​",
       "style": "IPY_MODEL_7f5303667fba45f384fec941be461296",
       "tabbable": null,
       "tooltip": null,
       "value": " 300/300 [00:18&lt;00:00, 34.98it/s]"
      }
     },
     "bf7b2c0638904b178a179d8c1cba1e79": {
      "model_module": "@jupyter-widgets/controls",
      "model_module_version": "2.0.0",
      "model_name": "HTMLStyleModel",
      "state": {
       "_model_module": "@jupyter-widgets/controls",
       "_model_module_version": "2.0.0",
       "_model_name": "HTMLStyleModel",
       "_view_count": null,
       "_view_module": "@jupyter-widgets/base",
       "_view_module_version": "2.0.0",
       "_view_name": "StyleView",
       "background": null,
       "description_width": "",
       "font_size": null,
       "text_color": null
      }
     },
     "c1d25a2a8e7e4843a27b261398c1747b": {
      "model_module": "@jupyter-widgets/controls",
      "model_module_version": "2.0.0",
      "model_name": "HTMLModel",
      "state": {
       "_dom_classes": [],
       "_model_module": "@jupyter-widgets/controls",
       "_model_module_version": "2.0.0",
       "_model_name": "HTMLModel",
       "_view_count": null,
       "_view_module": "@jupyter-widgets/controls",
       "_view_module_version": "2.0.0",
       "_view_name": "HTMLView",
       "description": "",
       "description_allow_html": false,
       "layout": "IPY_MODEL_cc49e9cac07d4295935d702f60f1c751",
       "placeholder": "​",
       "style": "IPY_MODEL_bf7b2c0638904b178a179d8c1cba1e79",
       "tabbable": null,
       "tooltip": null,
       "value": "Best trial: 75. Best value: 0.752897: 100%"
      }
     },
     "ca6792e0129a4765b42e4315f6bb08b3": {
      "model_module": "@jupyter-widgets/base",
      "model_module_version": "2.0.0",
      "model_name": "LayoutModel",
      "state": {
       "_model_module": "@jupyter-widgets/base",
       "_model_module_version": "2.0.0",
       "_model_name": "LayoutModel",
       "_view_count": null,
       "_view_module": "@jupyter-widgets/base",
       "_view_module_version": "2.0.0",
       "_view_name": "LayoutView",
       "align_content": null,
       "align_items": null,
       "align_self": null,
       "border_bottom": null,
       "border_left": null,
       "border_right": null,
       "border_top": null,
       "bottom": null,
       "display": null,
       "flex": null,
       "flex_flow": null,
       "grid_area": null,
       "grid_auto_columns": null,
       "grid_auto_flow": null,
       "grid_auto_rows": null,
       "grid_column": null,
       "grid_gap": null,
       "grid_row": null,
       "grid_template_areas": null,
       "grid_template_columns": null,
       "grid_template_rows": null,
       "height": null,
       "justify_content": null,
       "justify_items": null,
       "left": null,
       "margin": null,
       "max_height": null,
       "max_width": null,
       "min_height": null,
       "min_width": null,
       "object_fit": null,
       "object_position": null,
       "order": null,
       "overflow": null,
       "padding": null,
       "right": null,
       "top": null,
       "visibility": null,
       "width": null
      }
     },
     "cc49e9cac07d4295935d702f60f1c751": {
      "model_module": "@jupyter-widgets/base",
      "model_module_version": "2.0.0",
      "model_name": "LayoutModel",
      "state": {
       "_model_module": "@jupyter-widgets/base",
       "_model_module_version": "2.0.0",
       "_model_name": "LayoutModel",
       "_view_count": null,
       "_view_module": "@jupyter-widgets/base",
       "_view_module_version": "2.0.0",
       "_view_name": "LayoutView",
       "align_content": null,
       "align_items": null,
       "align_self": null,
       "border_bottom": null,
       "border_left": null,
       "border_right": null,
       "border_top": null,
       "bottom": null,
       "display": null,
       "flex": null,
       "flex_flow": null,
       "grid_area": null,
       "grid_auto_columns": null,
       "grid_auto_flow": null,
       "grid_auto_rows": null,
       "grid_column": null,
       "grid_gap": null,
       "grid_row": null,
       "grid_template_areas": null,
       "grid_template_columns": null,
       "grid_template_rows": null,
       "height": null,
       "justify_content": null,
       "justify_items": null,
       "left": null,
       "margin": null,
       "max_height": null,
       "max_width": null,
       "min_height": null,
       "min_width": null,
       "object_fit": null,
       "object_position": null,
       "order": null,
       "overflow": null,
       "padding": null,
       "right": null,
       "top": null,
       "visibility": null,
       "width": null
      }
     },
     "cc91f6ef86dd4493a12a88af0963dcb1": {
      "model_module": "@jupyter-widgets/controls",
      "model_module_version": "2.0.0",
      "model_name": "HTMLStyleModel",
      "state": {
       "_model_module": "@jupyter-widgets/controls",
       "_model_module_version": "2.0.0",
       "_model_name": "HTMLStyleModel",
       "_view_count": null,
       "_view_module": "@jupyter-widgets/base",
       "_view_module_version": "2.0.0",
       "_view_name": "StyleView",
       "background": null,
       "description_width": "",
       "font_size": null,
       "text_color": null
      }
     },
     "d8f8de0196ba457eaf8f0c3e8bfdebbe": {
      "model_module": "@jupyter-widgets/base",
      "model_module_version": "2.0.0",
      "model_name": "LayoutModel",
      "state": {
       "_model_module": "@jupyter-widgets/base",
       "_model_module_version": "2.0.0",
       "_model_name": "LayoutModel",
       "_view_count": null,
       "_view_module": "@jupyter-widgets/base",
       "_view_module_version": "2.0.0",
       "_view_name": "LayoutView",
       "align_content": null,
       "align_items": null,
       "align_self": null,
       "border_bottom": null,
       "border_left": null,
       "border_right": null,
       "border_top": null,
       "bottom": null,
       "display": null,
       "flex": null,
       "flex_flow": null,
       "grid_area": null,
       "grid_auto_columns": null,
       "grid_auto_flow": null,
       "grid_auto_rows": null,
       "grid_column": null,
       "grid_gap": null,
       "grid_row": null,
       "grid_template_areas": null,
       "grid_template_columns": null,
       "grid_template_rows": null,
       "height": null,
       "justify_content": null,
       "justify_items": null,
       "left": null,
       "margin": null,
       "max_height": null,
       "max_width": null,
       "min_height": null,
       "min_width": null,
       "object_fit": null,
       "object_position": null,
       "order": null,
       "overflow": null,
       "padding": null,
       "right": null,
       "top": null,
       "visibility": null,
       "width": null
      }
     },
     "e33a33c552d847549a5046e00cf89e42": {
      "model_module": "@jupyter-widgets/controls",
      "model_module_version": "2.0.0",
      "model_name": "HBoxModel",
      "state": {
       "_dom_classes": [],
       "_model_module": "@jupyter-widgets/controls",
       "_model_module_version": "2.0.0",
       "_model_name": "HBoxModel",
       "_view_count": null,
       "_view_module": "@jupyter-widgets/controls",
       "_view_module_version": "2.0.0",
       "_view_name": "HBoxView",
       "box_style": "",
       "children": [
        "IPY_MODEL_c1d25a2a8e7e4843a27b261398c1747b",
        "IPY_MODEL_b158bd74a0404224acb8bcee053e6e55",
        "IPY_MODEL_2158cf3e92df4f8da0a09e25c14f38f6"
       ],
       "layout": "IPY_MODEL_ca6792e0129a4765b42e4315f6bb08b3",
       "tabbable": null,
       "tooltip": null
      }
     },
     "e4139fec1fa94629a19c136d435b43ea": {
      "model_module": "@jupyter-widgets/controls",
      "model_module_version": "2.0.0",
      "model_name": "ProgressStyleModel",
      "state": {
       "_model_module": "@jupyter-widgets/controls",
       "_model_module_version": "2.0.0",
       "_model_name": "ProgressStyleModel",
       "_view_count": null,
       "_view_module": "@jupyter-widgets/base",
       "_view_module_version": "2.0.0",
       "_view_name": "StyleView",
       "bar_color": null,
       "description_width": ""
      }
     },
     "eaec6f38fb6d40edba87806d92202ff5": {
      "model_module": "@jupyter-widgets/controls",
      "model_module_version": "2.0.0",
      "model_name": "HTMLStyleModel",
      "state": {
       "_model_module": "@jupyter-widgets/controls",
       "_model_module_version": "2.0.0",
       "_model_name": "HTMLStyleModel",
       "_view_count": null,
       "_view_module": "@jupyter-widgets/base",
       "_view_module_version": "2.0.0",
       "_view_name": "StyleView",
       "background": null,
       "description_width": "",
       "font_size": null,
       "text_color": null
      }
     }
    },
    "version_major": 2,
    "version_minor": 0
   }
  }
 },
 "nbformat": 4,
 "nbformat_minor": 5
}