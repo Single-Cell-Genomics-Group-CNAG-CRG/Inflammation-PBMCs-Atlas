{
 "cells": [
  {
   "cell_type": "code",
   "execution_count": 1,
   "id": "9f43e78e",
   "metadata": {
    "execution": {
     "iopub.execute_input": "2024-07-14T15:02:08.068030Z",
     "iopub.status.busy": "2024-07-14T15:02:08.067765Z",
     "iopub.status.idle": "2024-07-14T15:02:08.071806Z",
     "shell.execute_reply": "2024-07-14T15:02:08.071402Z"
    },
    "papermill": {
     "duration": 0.015274,
     "end_time": "2024-07-14T15:02:08.072647",
     "exception": false,
     "start_time": "2024-07-14T15:02:08.057373",
     "status": "completed"
    },
    "tags": [
     "injected-parameters"
    ]
   },
   "outputs": [],
   "source": [
    "# Parameters\n",
    "query_dataset = \"VALIDATION\"\n",
    "n_embedded = 50\n",
    "n_Patient_embedded = 20\n",
    "embSpace = \"sample\"\n",
    "integration_method = \"scPoli\"\n",
    "batch = \"chemistry\"\n",
    "annotation = \"Level1n2\"\n",
    "REFERENCEadata_path = \"03_downstream_analysis/08_PatientClassifier/scPoli/results/PSEUDOBULKs/scPoli_PSEUDOBULKsample_ref_latents_VALIDATION_2_50_20_*.h5ad\"\n",
    "QUERYNadata_path = \"03_downstream_analysis/08_PatientClassifier/scPoli/results/PSEUDOBULKs/scPoli_PSEUDOBULKsample_VALIDATION_2_50_20_*.h5ad\"\n",
    "optimization_metric = \"F1\"\n",
    "n_job = 32\n"
   ]
  },
  {
   "cell_type": "raw",
   "id": "8006df31-f699-4d7c-be82-be75bd4e65b5",
   "metadata": {
    "execution": {
     "iopub.execute_input": "2024-07-07T12:47:25.237809Z",
     "iopub.status.busy": "2024-07-07T12:47:25.237662Z",
     "iopub.status.idle": "2024-07-07T12:47:25.241185Z",
     "shell.execute_reply": "2024-07-07T12:47:25.240733Z",
     "shell.execute_reply.started": "2024-07-07T12:47:25.237792Z"
    },
    "papermill": {
     "duration": 0.007516,
     "end_time": "2024-07-14T15:02:08.088011",
     "exception": false,
     "start_time": "2024-07-14T15:02:08.080495",
     "status": "completed"
    },
    "tags": []
   },
   "source": [
    "query_dataset = 'VALIDATION'\n",
    "\n",
    "integration_method = \"scANVIkNN\"\n",
    "\n",
    "n_embedded = 30\n",
    "batch = \"chemistry\"\n",
    "annotation = \"Level2\"\n",
    "n_Patient_embedded = 0\n",
    "embSpace = 'cell'\n",
    "\n",
    "REFERENCEadata_path = \"03_downstream_analysis/08_PatientClassifier/scANVI/results/PSEUDOBULKs/scANVI_PSEUDOBULK_reference_EXTERNAL_256_30_Level2_*.h5ad\"\n",
    "QUERYNadata_path = \"03_downstream_analysis/08_PatientClassifier/scANVI/results/PSEUDOBULKs/scANVI_PSEUDOBULK_kNN_query_VALIDATION_256_30_Level2_*.h5ad\"\n",
    "\n",
    "optimization_metric = 'F1'\n",
    "\n",
    "n_job = 50"
   ]
  },
  {
   "cell_type": "code",
   "execution_count": 2,
   "id": "0fcb96fe-1ddc-4da2-95ac-e91752904818",
   "metadata": {
    "execution": {
     "iopub.execute_input": "2024-07-14T15:02:08.103904Z",
     "iopub.status.busy": "2024-07-14T15:02:08.103548Z",
     "iopub.status.idle": "2024-07-14T15:02:08.106833Z",
     "shell.execute_reply": "2024-07-14T15:02:08.106527Z"
    },
    "papermill": {
     "duration": 0.012268,
     "end_time": "2024-07-14T15:02:08.107631",
     "exception": false,
     "start_time": "2024-07-14T15:02:08.095363",
     "status": "completed"
    },
    "tags": []
   },
   "outputs": [
    {
     "name": "stdout",
     "output_type": "stream",
     "text": [
      "REFERENCEadata_path = 03_downstream_analysis/08_PatientClassifier/scPoli/results/PSEUDOBULKs/scPoli_PSEUDOBULKsample_ref_latents_VALIDATION_2_50_20_*.h5ad\n",
      "QUERYNadata_path = 03_downstream_analysis/08_PatientClassifier/scPoli/results/PSEUDOBULKs/scPoli_PSEUDOBULKsample_VALIDATION_2_50_20_*.h5ad\n",
      "query_dataset = VALIDATION\n",
      "integration_method = scPoli\n",
      "embSpace = sample\n",
      "n_embedded = 50\n",
      "n_Patient_embedded = 20\n",
      "batch = chemistry\n",
      "annotation = Level1n2\n",
      "optimization_metric = F1\n",
      "n_job = 32\n"
     ]
    }
   ],
   "source": [
    "for v in ['REFERENCEadata_path','QUERYNadata_path','query_dataset','integration_method',\n",
    "          'embSpace','n_embedded','n_Patient_embedded','batch','annotation','optimization_metric','n_job']:\n",
    "    if v in locals() or v in globals():\n",
    "        print(f\"{v} = {eval(v)}\", end='\\n')\n",
    "    else:\n",
    "        raise ValueError(f\"{v} is not defined\")"
   ]
  },
  {
   "cell_type": "code",
   "execution_count": 3,
   "id": "758cad27-6850-48ef-a1a2-31b4515a2452",
   "metadata": {
    "execution": {
     "iopub.execute_input": "2024-07-14T15:02:08.123215Z",
     "iopub.status.busy": "2024-07-14T15:02:08.122877Z",
     "iopub.status.idle": "2024-07-14T15:02:36.709124Z",
     "shell.execute_reply": "2024-07-14T15:02:36.708255Z"
    },
    "papermill": {
     "duration": 28.595543,
     "end_time": "2024-07-14T15:02:36.710660",
     "exception": false,
     "start_time": "2024-07-14T15:02:08.115117",
     "status": "completed"
    },
    "tags": []
   },
   "outputs": [],
   "source": [
    "import os\n",
    "\n",
    "from glob import glob\n",
    "\n",
    "import optuna as op\n",
    "\n",
    "from optuna.samplers import TPESampler, BruteForceSampler\n",
    "\n",
    "import scanpy as sc\n",
    "import pandas as pd\n",
    "import matplotlib.pyplot as plt\n",
    "\n",
    "import joblib\n",
    "\n",
    "\n",
    "from sklearn.svm import LinearSVC, SVC\n",
    "from sklearn.neighbors import KNeighborsClassifier\n",
    "\n",
    "from sklearn.preprocessing import StandardScaler\n",
    "from sklearn.metrics import f1_score, balanced_accuracy_score, matthews_corrcoef\n",
    "\n",
    "from pyprojroot import here\n",
    "\n",
    "from tqdm import tqdm"
   ]
  },
  {
   "cell_type": "code",
   "execution_count": 4,
   "id": "c201d383-ff56-4311-a9bf-f2486358f2ec",
   "metadata": {
    "execution": {
     "iopub.execute_input": "2024-07-14T15:02:36.730054Z",
     "iopub.status.busy": "2024-07-14T15:02:36.729615Z",
     "iopub.status.idle": "2024-07-14T15:02:36.734510Z",
     "shell.execute_reply": "2024-07-14T15:02:36.734199Z"
    },
    "papermill": {
     "duration": 0.014271,
     "end_time": "2024-07-14T15:02:36.735339",
     "exception": false,
     "start_time": "2024-07-14T15:02:36.721068",
     "status": "completed"
    },
    "tags": []
   },
   "outputs": [],
   "source": [
    "op.logging.set_verbosity(op.logging.WARNING)"
   ]
  },
  {
   "cell_type": "code",
   "execution_count": 5,
   "id": "3d348e24-3245-402c-9e8d-cf79ab5c3fa8",
   "metadata": {
    "execution": {
     "iopub.execute_input": "2024-07-14T15:02:36.751317Z",
     "iopub.status.busy": "2024-07-14T15:02:36.751056Z",
     "iopub.status.idle": "2024-07-14T15:02:36.753035Z",
     "shell.execute_reply": "2024-07-14T15:02:36.752739Z"
    },
    "papermill": {
     "duration": 0.010762,
     "end_time": "2024-07-14T15:02:36.753812",
     "exception": false,
     "start_time": "2024-07-14T15:02:36.743050",
     "status": "completed"
    },
    "tags": []
   },
   "outputs": [],
   "source": [
    "random_seed = 42"
   ]
  },
  {
   "cell_type": "code",
   "execution_count": 6,
   "id": "baee6c9e-adc2-48ad-9bce-cb0ed1b9fb74",
   "metadata": {
    "execution": {
     "iopub.execute_input": "2024-07-14T15:02:36.770326Z",
     "iopub.status.busy": "2024-07-14T15:02:36.769906Z",
     "iopub.status.idle": "2024-07-14T15:02:36.779620Z",
     "shell.execute_reply": "2024-07-14T15:02:36.779163Z"
    },
    "papermill": {
     "duration": 0.018441,
     "end_time": "2024-07-14T15:02:36.780385",
     "exception": false,
     "start_time": "2024-07-14T15:02:36.761944",
     "status": "completed"
    },
    "tags": []
   },
   "outputs": [],
   "source": [
    "mainDir=here('03_downstream_analysis/08_PatientClassifier/Classifiers/results_CT_studies/')"
   ]
  },
  {
   "cell_type": "markdown",
   "id": "b4709398-98b6-4f04-be56-d70e5dd0a7a0",
   "metadata": {
    "papermill": {
     "duration": 0.007446,
     "end_time": "2024-07-14T15:02:36.795847",
     "exception": false,
     "start_time": "2024-07-14T15:02:36.788401",
     "status": "completed"
    },
    "tags": []
   },
   "source": [
    "### Defining functions"
   ]
  },
  {
   "cell_type": "code",
   "execution_count": 7,
   "id": "81d6ddc9-2554-463a-84db-b7e9cf9c98da",
   "metadata": {
    "execution": {
     "iopub.execute_input": "2024-07-14T15:02:36.811726Z",
     "iopub.status.busy": "2024-07-14T15:02:36.811441Z",
     "iopub.status.idle": "2024-07-14T15:02:36.819344Z",
     "shell.execute_reply": "2024-07-14T15:02:36.819047Z"
    },
    "papermill": {
     "duration": 0.016596,
     "end_time": "2024-07-14T15:02:36.820129",
     "exception": false,
     "start_time": "2024-07-14T15:02:36.803533",
     "status": "completed"
    },
    "tags": []
   },
   "outputs": [],
   "source": [
    "def _most_frequent_or_na(row):\n",
    "    mode = row.mode()\n",
    "    if len(mode) > 1:\n",
    "        return 'nan'\n",
    "    else:\n",
    "        return mode.iloc[0]\n",
    "            \n",
    "class CellTypeDiseasePrediction():\n",
    "        \n",
    "    def __init__(self, clf_params, classifier, cell_type, y_true_col='disease', sample_id_col='sampleID'):\n",
    "        self.clf_params = clf_params\n",
    "        self.classifier = classifier\n",
    "        self.ct = cell_type\n",
    "        self.y_true_col = y_true_col\n",
    "        self.sample_id_col = sample_id_col\n",
    "        self.clfs = {}\n",
    "        self.use_scaler = self.clf_params.pop('scaler')\n",
    "        #self.le = LabelEncoder()\n",
    "        \n",
    "    def fit(self, adataTrain):\n",
    "\n",
    "    \n",
    "        #adataTrain.obs.loc[:,self.y_true_col] = self.le.fit_transform(adataTrain.obs[self.y_true_col])\n",
    "        \n",
    "        X_train = adataTrain.X\n",
    "        y_train = adataTrain.obs[self.y_true_col]\n",
    "\n",
    "        if self.use_scaler:\n",
    "            self.scaler = StandardScaler().fit(X_train)\n",
    "            X_train = self.scaler.transform(X_train)\n",
    "   \n",
    "        self.clfs = self.classifier(**self.clf_params).fit(X_train, y_train)\n",
    "\n",
    "        return self\n",
    "\n",
    "    def predict(self, adataVal, y_true_col='disease'):\n",
    "\n",
    "        #adataVal.obs.loc[:,y_true_col] = self.le.transform(adataVal.obs[y_true_col])\n",
    "        \n",
    "        cell_type_pred = []\n",
    "        \n",
    "        X_val = adataVal.X\n",
    "\n",
    "        if self.use_scaler:\n",
    "            X_val = self.scaler.transform(X_val)\n",
    "        \n",
    "        y_pred = self.clfs.predict(X_val)\n",
    "\n",
    "        cell_type_pred = pd.DataFrame({self.sample_id_col: adataVal.obs[self.sample_id_col],\n",
    "                                       self.y_true_col: adataVal.obs[self.y_true_col],\n",
    "                                       f'disease_pred_{self.ct}': y_pred}).set_index(self.sample_id_col)\n",
    "\n",
    "        \n",
    "        # cell_type_pred['disease_pred'] = cell_type_pred.apply(_most_frequent_or_na, axis=1)\n",
    "\n",
    "        # cell_type_pred_merged = cell_type_pred.merge(adataVal.obs.groupby([self.sample_id_col], observed=True).agg({y_true_col:'first'}), \n",
    "        #                                              left_index=True, \n",
    "        #                                              right_index=True)\n",
    "        \n",
    "\n",
    "        return cell_type_pred\n",
    "\n",
    "class VotingDisease():\n",
    "    \n",
    "    def __init__(self, classifier = None, cell_type_studies = None, fixed_params = None, \n",
    "                 cell_type_col = 'Level1', sample_id_col = 'sampleID', y_true_col = 'disease'):\n",
    "        \n",
    "        self.fixed_params = fixed_params\n",
    "        self.classifier = classifier\n",
    "        self.ct_studies = cell_type_studies\n",
    "        self.cell_type_col = cell_type_col \n",
    "        self.y_true_col = y_true_col\n",
    "        self.sample_id_col = sample_id_col\n",
    "        self.clfs = {}\n",
    "\n",
    "    def fit(self, adataR = None):\n",
    "        \n",
    "        for ct_i in self.ct_studies.keys(): \n",
    "    \n",
    "            adataR_ct = adataR[adataR.obs[cell_type_col] == ct_i]\n",
    "            # adataQ_ct = adataQ[adataQ.obs[cell_type_col] == ct_i]\n",
    "        \n",
    "            clf_params = self.fixed_params | self.ct_studies[ct_i].best_trial.params\n",
    "        \n",
    "            self.clfs[ct_i] = (CellTypeDiseasePrediction(clf_params=clf_params, \n",
    "                                                         classifier=self.classifier, \n",
    "                                                         cell_type = ct_i, \n",
    "                                                         sample_id_col=self.sample_id_col, \n",
    "                                                         y_true_col = self.y_true_col)\n",
    "                                .fit(adataR_ct))\n",
    "        return self\n",
    "            \n",
    "    def predict(self, adataQ = None):\n",
    "        \n",
    "        y_pred_query_list = []\n",
    "        \n",
    "        for ct_i in self.ct_studies.keys(): \n",
    "    \n",
    "            adataQ_ct = adataQ[adataQ.obs[self.cell_type_col] == ct_i]\n",
    "        \n",
    "            y_pred_query_list.append(self.clfs[ct_i].predict(adataQ_ct, y_true_col = self.y_true_col).iloc[:,1])\n",
    "        \n",
    "        cellType_prediction_df = pd.concat(y_pred_query_list, axis=1, ignore_index=False, join='outer')\n",
    "        cellType_prediction_df['majority_pred'] = cellType_prediction_df.apply(_most_frequent_or_na, axis=1)\n",
    "\n",
    "        cellType_prediction_df = (cellType_prediction_df.merge(adataQ.obs[[self.sample_id_col, self.y_true_col]].drop_duplicates(), \n",
    "                                                               left_index = True, right_on = self.sample_id_col)\n",
    "                                  .set_index(self.sample_id_col))\n",
    "\n",
    "        return cellType_prediction_df"
   ]
  },
  {
   "cell_type": "markdown",
   "id": "54b0d7a6-9bc6-4ffe-b86d-475a6b391906",
   "metadata": {
    "papermill": {
     "duration": 0.007602,
     "end_time": "2024-07-14T15:02:36.835631",
     "exception": false,
     "start_time": "2024-07-14T15:02:36.828029",
     "status": "completed"
    },
    "tags": []
   },
   "source": [
    "### Loading data"
   ]
  },
  {
   "cell_type": "code",
   "execution_count": 8,
   "id": "8fa540e1-0656-4287-a0eb-0d4110e3a3bf",
   "metadata": {
    "execution": {
     "iopub.execute_input": "2024-07-14T15:02:36.851789Z",
     "iopub.status.busy": "2024-07-14T15:02:36.851545Z",
     "iopub.status.idle": "2024-07-14T15:02:36.944439Z",
     "shell.execute_reply": "2024-07-14T15:02:36.943751Z"
    },
    "papermill": {
     "duration": 0.102187,
     "end_time": "2024-07-14T15:02:36.945388",
     "exception": false,
     "start_time": "2024-07-14T15:02:36.843201",
     "status": "completed"
    },
    "tags": []
   },
   "outputs": [
    {
     "name": "stdout",
     "output_type": "stream",
     "text": [
      "scPoli_PSEUDOBULKsample_ref_latents_VALIDATION_2_50_20_run3_x0stq72c.h5ad\n",
      "scPoli_PSEUDOBULKsample_VALIDATION_2_50_20_run3_x0stq72c.h5ad\n"
     ]
    }
   ],
   "source": [
    "adataPathList = glob(str(here(REFERENCEadata_path)))\n",
    "if len(adataPathList) != 1:\n",
    "    print(adataPathList)\n",
    "    raise ValueError(f\"{adataPathList} adata not found\")\n",
    "else:\n",
    "    print(os.path.basename(adataPathList[0]))\n",
    "    REFERENCEpseudobulk = sc.read_h5ad(adataPathList[0])\n",
    "\n",
    "adataPathList = glob(str(here(QUERYNadata_path)))\n",
    "if len(adataPathList) != 1:\n",
    "    print(adataPathList)\n",
    "    raise ValueError(f\"adata not found\")\n",
    "else:\n",
    "    print(os.path.basename(adataPathList[0]))\n",
    "    QUERYpseudobulk = sc.read_h5ad(adataPathList[0])"
   ]
  },
  {
   "cell_type": "code",
   "execution_count": 9,
   "id": "34f17857-6896-4ec0-b8df-f349a0f4b563",
   "metadata": {
    "execution": {
     "iopub.execute_input": "2024-07-14T15:02:36.962060Z",
     "iopub.status.busy": "2024-07-14T15:02:36.961568Z",
     "iopub.status.idle": "2024-07-14T15:02:36.965074Z",
     "shell.execute_reply": "2024-07-14T15:02:36.964606Z"
    },
    "papermill": {
     "duration": 0.012663,
     "end_time": "2024-07-14T15:02:36.965868",
     "exception": false,
     "start_time": "2024-07-14T15:02:36.953205",
     "status": "completed"
    },
    "tags": []
   },
   "outputs": [],
   "source": [
    "# Renaiming 'Level1_pred' in scGen query datasets for consistency\n",
    "# and assert that 'disease' is in obs\n",
    "for ad_i in [REFERENCEpseudobulk,QUERYpseudobulk]:\n",
    "    ad_i.obs.rename({'Level1_pred':'Level1'},axis=1,inplace=True)\n",
    "    assert('disease' in ad_i.obs.columns)"
   ]
  },
  {
   "cell_type": "code",
   "execution_count": 10,
   "id": "dedd1921-9e34-40a4-aa1e-e1936b7f6ec8",
   "metadata": {
    "execution": {
     "iopub.execute_input": "2024-07-14T15:02:36.982461Z",
     "iopub.status.busy": "2024-07-14T15:02:36.982084Z",
     "iopub.status.idle": "2024-07-14T15:02:36.987422Z",
     "shell.execute_reply": "2024-07-14T15:02:36.986981Z"
    },
    "papermill": {
     "duration": 0.014327,
     "end_time": "2024-07-14T15:02:36.988233",
     "exception": false,
     "start_time": "2024-07-14T15:02:36.973906",
     "status": "completed"
    },
    "tags": []
   },
   "outputs": [
    {
     "data": {
      "text/plain": [
       "(AnnData object with n_obs × n_vars = 817 × 20\n",
       "     obs: 'sampleID', 'disease', 'Level1',\n",
       " AnnData object with n_obs × n_vars = 144 × 20\n",
       "     obs: 'sampleID', 'disease', 'Level1')"
      ]
     },
     "execution_count": 10,
     "metadata": {},
     "output_type": "execute_result"
    }
   ],
   "source": [
    "REFERENCEpseudobulk, QUERYpseudobulk"
   ]
  },
  {
   "cell_type": "code",
   "execution_count": 11,
   "id": "8b0a8658-f139-4b55-8da0-bd8fe7459e43",
   "metadata": {
    "execution": {
     "iopub.execute_input": "2024-07-14T15:02:37.005213Z",
     "iopub.status.busy": "2024-07-14T15:02:37.004747Z",
     "iopub.status.idle": "2024-07-14T15:02:37.008397Z",
     "shell.execute_reply": "2024-07-14T15:02:37.007968Z"
    },
    "papermill": {
     "duration": 0.012692,
     "end_time": "2024-07-14T15:02:37.009196",
     "exception": false,
     "start_time": "2024-07-14T15:02:36.996504",
     "status": "completed"
    },
    "tags": []
   },
   "outputs": [
    {
     "data": {
      "text/plain": [
       "['RA', 'PSA', 'CD', 'PS', 'HNSCC', 'healthy', 'SLE', 'COVID', 'sepsis']"
      ]
     },
     "execution_count": 11,
     "metadata": {},
     "output_type": "execute_result"
    }
   ],
   "source": [
    "QUERYpseudobulk.obs.disease.unique().tolist()"
   ]
  },
  {
   "cell_type": "code",
   "execution_count": 12,
   "id": "921bbbc6-1c59-4e41-8460-6f4b51fe5367",
   "metadata": {
    "execution": {
     "iopub.execute_input": "2024-07-14T15:02:37.032142Z",
     "iopub.status.busy": "2024-07-14T15:02:37.031397Z",
     "iopub.status.idle": "2024-07-14T15:02:37.035431Z",
     "shell.execute_reply": "2024-07-14T15:02:37.034984Z"
    },
    "papermill": {
     "duration": 0.013459,
     "end_time": "2024-07-14T15:02:37.036278",
     "exception": false,
     "start_time": "2024-07-14T15:02:37.022819",
     "status": "completed"
    },
    "tags": []
   },
   "outputs": [
    {
     "data": {
      "text/plain": [
       "(144,)"
      ]
     },
     "execution_count": 12,
     "metadata": {},
     "output_type": "execute_result"
    }
   ],
   "source": [
    "QUERYpseudobulk.obs.sampleID.unique().shape"
   ]
  },
  {
   "cell_type": "markdown",
   "id": "47a24343-38f0-4d9b-85e5-96b191b9d493",
   "metadata": {
    "papermill": {
     "duration": 0.008099,
     "end_time": "2024-07-14T15:02:37.052657",
     "exception": false,
     "start_time": "2024-07-14T15:02:37.044558",
     "status": "completed"
    },
    "tags": []
   },
   "source": [
    "### Removing unwanted cell-types"
   ]
  },
  {
   "cell_type": "code",
   "execution_count": 13,
   "id": "33d021b8-257a-4a18-b995-fe93a2ef1563",
   "metadata": {
    "execution": {
     "iopub.execute_input": "2024-07-14T15:02:37.069800Z",
     "iopub.status.busy": "2024-07-14T15:02:37.069199Z",
     "iopub.status.idle": "2024-07-14T15:02:37.077830Z",
     "shell.execute_reply": "2024-07-14T15:02:37.077453Z"
    },
    "papermill": {
     "duration": 0.017769,
     "end_time": "2024-07-14T15:02:37.078569",
     "exception": false,
     "start_time": "2024-07-14T15:02:37.060800",
     "status": "completed"
    },
    "tags": []
   },
   "outputs": [],
   "source": [
    "REFERENCEpseudobulkFilt = REFERENCEpseudobulk[~REFERENCEpseudobulk.obs['Level1'].isin(['Progenitors','Cycling_cells','Platelets','RBC'])].copy()\n",
    "QUERYpseudobulkFilt = QUERYpseudobulk[~QUERYpseudobulk.obs['Level1'].isin(['Progenitors','Cycling_cells','Platelets','RBC'])].copy()"
   ]
  },
  {
   "cell_type": "code",
   "execution_count": 14,
   "id": "aed927b0-478b-470d-9ed1-af7312f7ed63",
   "metadata": {
    "execution": {
     "iopub.execute_input": "2024-07-14T15:02:37.095732Z",
     "iopub.status.busy": "2024-07-14T15:02:37.095434Z",
     "iopub.status.idle": "2024-07-14T15:02:37.098345Z",
     "shell.execute_reply": "2024-07-14T15:02:37.098062Z"
    },
    "papermill": {
     "duration": 0.012323,
     "end_time": "2024-07-14T15:02:37.099086",
     "exception": false,
     "start_time": "2024-07-14T15:02:37.086763",
     "status": "completed"
    },
    "tags": []
   },
   "outputs": [
    {
     "data": {
      "text/plain": [
       "(AnnData object with n_obs × n_vars = 817 × 20\n",
       "     obs: 'sampleID', 'disease', 'Level1',\n",
       " AnnData object with n_obs × n_vars = 144 × 20\n",
       "     obs: 'sampleID', 'disease', 'Level1')"
      ]
     },
     "execution_count": 14,
     "metadata": {},
     "output_type": "execute_result"
    }
   ],
   "source": [
    "REFERENCEpseudobulkFilt, QUERYpseudobulk"
   ]
  },
  {
   "cell_type": "code",
   "execution_count": 15,
   "id": "d8c4be96-7453-42c7-97a7-f96114bf4675",
   "metadata": {
    "execution": {
     "iopub.execute_input": "2024-07-14T15:02:37.115845Z",
     "iopub.status.busy": "2024-07-14T15:02:37.115498Z",
     "iopub.status.idle": "2024-07-14T15:02:37.117991Z",
     "shell.execute_reply": "2024-07-14T15:02:37.117699Z"
    },
    "papermill": {
     "duration": 0.011613,
     "end_time": "2024-07-14T15:02:37.118729",
     "exception": false,
     "start_time": "2024-07-14T15:02:37.107116",
     "status": "completed"
    },
    "tags": []
   },
   "outputs": [],
   "source": [
    "REFERENCEpseudobulkFilt.obs['disease'] = REFERENCEpseudobulkFilt.obs['disease'].astype(str)"
   ]
  },
  {
   "cell_type": "markdown",
   "id": "4a7d77e0-16f6-47e7-affd-a93d5d242126",
   "metadata": {
    "papermill": {
     "duration": 0.008197,
     "end_time": "2024-07-14T15:02:37.135243",
     "exception": false,
     "start_time": "2024-07-14T15:02:37.127046",
     "status": "completed"
    },
    "tags": []
   },
   "source": [
    "## Input data and main parameters"
   ]
  },
  {
   "cell_type": "code",
   "execution_count": 16,
   "id": "5c42d3fb-0517-448d-a180-8d7033bb5066",
   "metadata": {
    "execution": {
     "iopub.execute_input": "2024-07-14T15:02:37.152739Z",
     "iopub.status.busy": "2024-07-14T15:02:37.152283Z",
     "iopub.status.idle": "2024-07-14T15:02:37.154534Z",
     "shell.execute_reply": "2024-07-14T15:02:37.154230Z"
    },
    "papermill": {
     "duration": 0.011878,
     "end_time": "2024-07-14T15:02:37.155265",
     "exception": false,
     "start_time": "2024-07-14T15:02:37.143387",
     "status": "completed"
    },
    "tags": []
   },
   "outputs": [],
   "source": [
    "cell_type_col='Level1'\n",
    "y_true_col='disease'\n",
    "sample_id_col='sampleID'"
   ]
  },
  {
   "cell_type": "markdown",
   "id": "86308030-1270-4cc8-8a92-1fbeb9f85e1e",
   "metadata": {
    "papermill": {
     "duration": 0.008286,
     "end_time": "2024-07-14T15:02:37.171923",
     "exception": false,
     "start_time": "2024-07-14T15:02:37.163637",
     "status": "completed"
    },
    "tags": []
   },
   "source": [
    "**Initialize pandas dataframe to collect results**"
   ]
  },
  {
   "cell_type": "code",
   "execution_count": 17,
   "id": "530355ab-1443-460c-a977-2e8e91225953",
   "metadata": {
    "execution": {
     "iopub.execute_input": "2024-07-14T15:02:37.190073Z",
     "iopub.status.busy": "2024-07-14T15:02:37.189339Z",
     "iopub.status.idle": "2024-07-14T15:02:37.217113Z",
     "shell.execute_reply": "2024-07-14T15:02:37.216830Z"
    },
    "papermill": {
     "duration": 0.037413,
     "end_time": "2024-07-14T15:02:37.217910",
     "exception": false,
     "start_time": "2024-07-14T15:02:37.180497",
     "status": "completed"
    },
    "tags": []
   },
   "outputs": [
    {
     "data": {
      "text/html": [
       "<div>\n",
       "<style scoped>\n",
       "    .dataframe tbody tr th:only-of-type {\n",
       "        vertical-align: middle;\n",
       "    }\n",
       "\n",
       "    .dataframe tbody tr th {\n",
       "        vertical-align: top;\n",
       "    }\n",
       "\n",
       "    .dataframe thead th {\n",
       "        text-align: right;\n",
       "    }\n",
       "</style>\n",
       "<table border=\"1\" class=\"dataframe\">\n",
       "  <thead>\n",
       "    <tr style=\"text-align: right;\">\n",
       "      <th></th>\n",
       "      <th>integration_method</th>\n",
       "      <th>embedded_space</th>\n",
       "      <th>n_embedded</th>\n",
       "      <th>n_Patient_embedded</th>\n",
       "      <th>batchKeys</th>\n",
       "      <th>annotation</th>\n",
       "      <th>classification_method</th>\n",
       "      <th>VALIDATION_F1</th>\n",
       "      <th>VALIDATION_BAS</th>\n",
       "      <th>VALIDATION_MCC</th>\n",
       "      <th>VALIDATION_TRAIN_F1</th>\n",
       "    </tr>\n",
       "  </thead>\n",
       "  <tbody>\n",
       "  </tbody>\n",
       "</table>\n",
       "</div>"
      ],
      "text/plain": [
       "Empty DataFrame\n",
       "Columns: [integration_method, embedded_space, n_embedded, n_Patient_embedded, batchKeys, annotation, classification_method, VALIDATION_F1, VALIDATION_BAS, VALIDATION_MCC, VALIDATION_TRAIN_F1]\n",
       "Index: []"
      ]
     },
     "execution_count": 17,
     "metadata": {},
     "output_type": "execute_result"
    }
   ],
   "source": [
    "METRICdf = pd.DataFrame(columns=['integration_method','embedded_space','n_embedded','n_Patient_embedded','batchKeys','annotation',\n",
    "                      'classification_method',f'{query_dataset}_F1',f'{query_dataset}_BAS',f'{query_dataset}_MCC', f'{query_dataset}_TRAIN_F1'])\n",
    "METRICdf"
   ]
  },
  {
   "cell_type": "markdown",
   "id": "bf4ebdcc-4895-4f1f-8f4c-721603c909c2",
   "metadata": {
    "papermill": {
     "duration": 0.008453,
     "end_time": "2024-07-14T15:02:37.234908",
     "exception": false,
     "start_time": "2024-07-14T15:02:37.226455",
     "status": "completed"
    },
    "tags": []
   },
   "source": [
    "### Hyper parameter tuning and classification\n",
    "\n",
    "The aim is to define the best classifier and its corresponding hyper-parameters using **MAIN adata** as train dataset and **VALIDATION adata** as validation.\n",
    "\n",
    "Then, with the best model/setting for each model family (i.e., SVC, kNN, NN, GBM) we will classify samples in VALIDATION, EXCLUDED and EXTERNAL datasets"
   ]
  },
  {
   "cell_type": "code",
   "execution_count": 18,
   "id": "5e79071a-6f5e-4b72-8650-3cb97d0de1d1",
   "metadata": {
    "execution": {
     "iopub.execute_input": "2024-07-14T15:02:37.252415Z",
     "iopub.status.busy": "2024-07-14T15:02:37.251995Z",
     "iopub.status.idle": "2024-07-14T15:02:37.254060Z",
     "shell.execute_reply": "2024-07-14T15:02:37.253777Z"
    },
    "papermill": {
     "duration": 0.011587,
     "end_time": "2024-07-14T15:02:37.254798",
     "exception": false,
     "start_time": "2024-07-14T15:02:37.243211",
     "status": "completed"
    },
    "tags": []
   },
   "outputs": [],
   "source": [
    "from sklearn.model_selection import StratifiedKFold"
   ]
  },
  {
   "cell_type": "code",
   "execution_count": 19,
   "id": "814840dd-0c10-4f56-9ea7-242d0ce92ccf",
   "metadata": {
    "execution": {
     "iopub.execute_input": "2024-07-14T15:02:37.272598Z",
     "iopub.status.busy": "2024-07-14T15:02:37.272272Z",
     "iopub.status.idle": "2024-07-14T15:02:37.274327Z",
     "shell.execute_reply": "2024-07-14T15:02:37.274038Z"
    },
    "papermill": {
     "duration": 0.011854,
     "end_time": "2024-07-14T15:02:37.275061",
     "exception": false,
     "start_time": "2024-07-14T15:02:37.263207",
     "status": "completed"
    },
    "tags": []
   },
   "outputs": [],
   "source": [
    "sKf = StratifiedKFold(n_splits = 5)"
   ]
  },
  {
   "cell_type": "code",
   "execution_count": 20,
   "id": "6e8b2c94-b76f-4100-8d44-2f9e8accf709",
   "metadata": {
    "execution": {
     "iopub.execute_input": "2024-07-14T15:02:37.292967Z",
     "iopub.status.busy": "2024-07-14T15:02:37.292533Z",
     "iopub.status.idle": "2024-07-14T15:02:37.297015Z",
     "shell.execute_reply": "2024-07-14T15:02:37.296725Z"
    },
    "papermill": {
     "duration": 0.014257,
     "end_time": "2024-07-14T15:02:37.297766",
     "exception": false,
     "start_time": "2024-07-14T15:02:37.283509",
     "status": "completed"
    },
    "tags": []
   },
   "outputs": [],
   "source": [
    "Pdata = REFERENCEpseudobulkFilt.obs.groupby(sample_id_col, observed=True).agg({y_true_col:'first'}).reset_index()"
   ]
  },
  {
   "cell_type": "code",
   "execution_count": 21,
   "id": "2a76174e-7528-422b-9143-728110106081",
   "metadata": {
    "execution": {
     "iopub.execute_input": "2024-07-14T15:02:37.316498Z",
     "iopub.status.busy": "2024-07-14T15:02:37.316312Z",
     "iopub.status.idle": "2024-07-14T15:02:37.319488Z",
     "shell.execute_reply": "2024-07-14T15:02:37.319197Z"
    },
    "papermill": {
     "duration": 0.013928,
     "end_time": "2024-07-14T15:02:37.320227",
     "exception": false,
     "start_time": "2024-07-14T15:02:37.306299",
     "status": "completed"
    },
    "tags": []
   },
   "outputs": [],
   "source": [
    "KfoldPatientSplit = list(sKf.split(X = Pdata[sample_id_col], y=Pdata[y_true_col]))"
   ]
  },
  {
   "cell_type": "markdown",
   "id": "ad885d57-52eb-4db4-9043-23de6a1a9094",
   "metadata": {
    "papermill": {
     "duration": 0.010119,
     "end_time": "2024-07-14T15:02:37.342879",
     "exception": false,
     "start_time": "2024-07-14T15:02:37.332760",
     "status": "completed"
    },
    "tags": []
   },
   "source": [
    "#### LinearSVC"
   ]
  },
  {
   "cell_type": "code",
   "execution_count": 22,
   "id": "1aa57011-6514-47e0-bd14-25aafcb675a3",
   "metadata": {
    "execution": {
     "iopub.execute_input": "2024-07-14T15:02:37.362196Z",
     "iopub.status.busy": "2024-07-14T15:02:37.361974Z",
     "iopub.status.idle": "2024-07-14T15:02:42.150143Z",
     "shell.execute_reply": "2024-07-14T15:02:42.149608Z"
    },
    "papermill": {
     "duration": 4.799206,
     "end_time": "2024-07-14T15:02:42.151190",
     "exception": false,
     "start_time": "2024-07-14T15:02:37.351984",
     "status": "completed"
    },
    "tags": []
   },
   "outputs": [
    {
     "name": "stdout",
     "output_type": "stream",
     "text": [
      "\n",
      "sample\n"
     ]
    },
    {
     "data": {
      "application/vnd.jupyter.widget-view+json": {
       "model_id": "c20e10c8c79248c5bce3e8d651c6fe9f",
       "version_major": 2,
       "version_minor": 0
      },
      "text/plain": [
       "  0%|          | 0/100 [00:00<?, ?it/s]"
      ]
     },
     "metadata": {},
     "output_type": "display_data"
    },
    {
     "name": "stderr",
     "output_type": "stream",
     "text": [
      "/scratch_isilon/groups/singlecell/shared/conda_env/optuna/lib/python3.12/site-packages/anndata/_core/anndata.py:1096: SettingWithCopyWarning: \n",
      "A value is trying to be set on a copy of a slice from a DataFrame.\n",
      "Try using .loc[row_indexer,col_indexer] = value instead\n",
      "\n",
      "See the caveats in the documentation: https://pandas.pydata.org/pandas-docs/stable/user_guide/indexing.html#returning-a-view-versus-a-copy\n",
      "  df_sub[k] = df_sub[k].cat.remove_unused_categories()\n",
      "/scratch_isilon/groups/singlecell/shared/conda_env/optuna/lib/python3.12/site-packages/anndata/_core/anndata.py:1096: SettingWithCopyWarning: \n",
      "A value is trying to be set on a copy of a slice from a DataFrame.\n",
      "Try using .loc[row_indexer,col_indexer] = value instead\n",
      "\n",
      "See the caveats in the documentation: https://pandas.pydata.org/pandas-docs/stable/user_guide/indexing.html#returning-a-view-versus-a-copy\n",
      "  df_sub[k] = df_sub[k].cat.remove_unused_categories()\n"
     ]
    }
   ],
   "source": [
    "fixed_parameter_LinearSVC = ({\n",
    "    'max_iter': 1000000,\n",
    "    'dual': 'auto',\n",
    "})\n",
    "\n",
    "def LinearSVC_cellTypeOptimization(adataTrain = None, \n",
    "                         KfoldPatientSplit = None,\n",
    "                         y_true_col = 'disease',\n",
    "                         sample_id_col = 'sampleID',\n",
    "                         cell_type_col = 'Level1',\n",
    "                         random_seed = 42,\n",
    "                         optimization = 'F1', \n",
    "                         n_trials = 50,\n",
    "                         n_job = 50):\n",
    "\n",
    "    LinearSVC_cell_type_studies = {}\n",
    "\n",
    "    for ct_i in adataTrain.obs[cell_type_col].unique().tolist():\n",
    "\n",
    "        print(f\"\\n{ct_i}\")\n",
    "        \n",
    "        adataTrain_ct_i = adataTrain[adataTrain.obs[cell_type_col] == ct_i].copy()\n",
    "        \n",
    "        def objective_CT(trial):\n",
    "            class_params = {\n",
    "                'scaler': trial.suggest_categorical('scaler', [True, False]),\n",
    "                'fit_intercept': trial.suggest_categorical('fit_intercept', [True, False]),\n",
    "                'class_weight': trial.suggest_categorical('class_weight', ['balanced', None]),\n",
    "                'C': trial.suggest_float('C', 1e-3, 1e5, log=True)\n",
    "            }\n",
    "        \n",
    "            class_params |= fixed_parameter_LinearSVC\n",
    "        \n",
    "            # for ct_ in adataTrain.obs.Level1.unique().tolist():\n",
    "            #     class_params.update({\n",
    "            #         f\"{ct_}_C\": trial.suggest_float(f\"{ct_}_C\", 1e-3, 1e5, log=True),\n",
    "            #     })\n",
    "        \n",
    "            metric_list = []\n",
    "            \n",
    "            for foldK in KfoldPatientSplit:\n",
    "                \n",
    "                pListTrain = Pdata.iloc[foldK[0]][sample_id_col].tolist()\n",
    "                pListTest = Pdata.iloc[foldK[1]][sample_id_col].tolist()\n",
    "                \n",
    "                clf = CellTypeDiseasePrediction(clf_params=class_params.copy(),classifier=LinearSVC, cell_type = ct_i).fit(adataTrain_ct_i[adataTrain_ct_i.obs[sample_id_col].isin(pListTrain)])\n",
    "            \n",
    "                y_pred_df = clf.predict(adataTrain_ct_i[adataTrain_ct_i.obs[sample_id_col].isin(pListTest)], y_true_col = y_true_col)\n",
    "        \n",
    "                if optimization_metric == 'BAS':\n",
    "                    M = balanced_accuracy_score(y_pred_df[y_true_col], y_pred_df.disease_pred)\n",
    "                else:\n",
    "                    M = f1_score(y_pred_df[y_true_col], y_pred_df[f\"disease_pred_{ct_i}\"], average='weighted')\n",
    "        \n",
    "                metric_list.append(M)\n",
    "            \n",
    "            return sum(metric_list)/5\n",
    "                \n",
    "        # Optimize hyperparameters with Optuna\n",
    "        LinearSVC_cell_type_studies[ct_i] = op.create_study(direction='maximize', study_name=ct_i,sampler=TPESampler(seed=random_seed))\n",
    "        LinearSVC_cell_type_studies[ct_i].optimize(objective_CT, n_trials=n_trials, show_progress_bar=True, n_jobs=n_job)#catch = ValueError)\n",
    "\n",
    "    return LinearSVC_cell_type_studies\n",
    "\n",
    "### EXECUTE THE FUNCTION ###\n",
    "LinearSVC_cell_type_studies = LinearSVC_cellTypeOptimization(adataTrain = REFERENCEpseudobulkFilt, \n",
    "                                                               KfoldPatientSplit = KfoldPatientSplit,\n",
    "                                                               y_true_col = 'disease',\n",
    "                                                               sample_id_col = 'sampleID',\n",
    "                                                               cell_type_col = 'Level1',\n",
    "                                                               optimization = 'F1',\n",
    "                                                               n_trials = 100, n_job = n_job, random_seed = 42)"
   ]
  },
  {
   "cell_type": "code",
   "execution_count": 23,
   "id": "8ae42ec5-145a-4fd3-a0c8-f96a1f4bf005",
   "metadata": {
    "execution": {
     "iopub.execute_input": "2024-07-14T15:02:42.172715Z",
     "iopub.status.busy": "2024-07-14T15:02:42.172521Z",
     "iopub.status.idle": "2024-07-14T15:02:42.218544Z",
     "shell.execute_reply": "2024-07-14T15:02:42.218089Z"
    },
    "papermill": {
     "duration": 0.056672,
     "end_time": "2024-07-14T15:02:42.219342",
     "exception": false,
     "start_time": "2024-07-14T15:02:42.162670",
     "status": "completed"
    },
    "tags": []
   },
   "outputs": [],
   "source": [
    "clf_LinearSVC_TRAINED = (VotingDisease(classifier = LinearSVC, \n",
    "                                         cell_type_studies = LinearSVC_cell_type_studies, \n",
    "                                         fixed_params = fixed_parameter_LinearSVC, \n",
    "                                         cell_type_col = 'Level1', sample_id_col = 'sampleID', y_true_col = 'disease')\n",
    "                           .fit(REFERENCEpseudobulkFilt))"
   ]
  },
  {
   "cell_type": "code",
   "execution_count": 24,
   "id": "45847d4c-a3b8-403c-b2aa-c828efe92125",
   "metadata": {
    "execution": {
     "iopub.execute_input": "2024-07-14T15:02:42.237821Z",
     "iopub.status.busy": "2024-07-14T15:02:42.237527Z",
     "iopub.status.idle": "2024-07-14T15:02:42.240935Z",
     "shell.execute_reply": "2024-07-14T15:02:42.240472Z"
    },
    "papermill": {
     "duration": 0.013547,
     "end_time": "2024-07-14T15:02:42.241784",
     "exception": false,
     "start_time": "2024-07-14T15:02:42.228237",
     "status": "completed"
    },
    "tags": []
   },
   "outputs": [
    {
     "name": "stdout",
     "output_type": "stream",
     "text": [
      "F1 on reference = 0.7139147653198872\n"
     ]
    }
   ],
   "source": [
    "### Extracting the average performance on train data\n",
    "optMetric = 0\n",
    "for ct_i in LinearSVC_cell_type_studies.keys():\n",
    "    optMetric += LinearSVC_cell_type_studies[ct_i].best_value\n",
    "f1_LinearSVC_REFERENCE = optMetric / len(LinearSVC_cell_type_studies)\n",
    "print(f\"F1 on reference = {f1_LinearSVC_REFERENCE}\")"
   ]
  },
  {
   "cell_type": "code",
   "execution_count": 25,
   "id": "1bfc286d-a233-48d0-bd01-42d8c7761172",
   "metadata": {
    "execution": {
     "iopub.execute_input": "2024-07-14T15:02:42.260495Z",
     "iopub.status.busy": "2024-07-14T15:02:42.260110Z",
     "iopub.status.idle": "2024-07-14T15:02:42.300102Z",
     "shell.execute_reply": "2024-07-14T15:02:42.299617Z"
    },
    "papermill": {
     "duration": 0.050154,
     "end_time": "2024-07-14T15:02:42.300960",
     "exception": false,
     "start_time": "2024-07-14T15:02:42.250806",
     "status": "completed"
    },
    "tags": []
   },
   "outputs": [
    {
     "name": "stdout",
     "output_type": "stream",
     "text": [
      "QUERY: F1 = 0.7307823492339223, BAS = 0.6114106753812636, MCC: 0.6258184044605266\n"
     ]
    },
    {
     "name": "stderr",
     "output_type": "stream",
     "text": [
      "/scratch_isilon/groups/singlecell/shared/conda_env/optuna/lib/python3.12/site-packages/sklearn/metrics/_classification.py:2458: UserWarning: y_pred contains classes not in y_true\n",
      "  warnings.warn(\"y_pred contains classes not in y_true\")\n"
     ]
    }
   ],
   "source": [
    "### Predict query dataset\n",
    "LinearSVC_cellType_prediction_query_df = clf_LinearSVC_TRAINED.predict(QUERYpseudobulkFilt)\n",
    "\n",
    "f1_LinearSVC_QUERY = f1_score(LinearSVC_cellType_prediction_query_df[y_true_col], \n",
    "                              LinearSVC_cellType_prediction_query_df.majority_pred, average='weighted')\n",
    "BAS_LinearSVC_QUERY = balanced_accuracy_score(LinearSVC_cellType_prediction_query_df[y_true_col], \n",
    "                                              LinearSVC_cellType_prediction_query_df.majority_pred,)\n",
    "MCC_LinearSVC_QUERY = matthews_corrcoef(LinearSVC_cellType_prediction_query_df[y_true_col], \n",
    "                                        LinearSVC_cellType_prediction_query_df.majority_pred,)\n",
    "print(f\"QUERY: F1 = {f1_LinearSVC_QUERY}, BAS = {BAS_LinearSVC_QUERY}, MCC: {MCC_LinearSVC_QUERY}\")"
   ]
  },
  {
   "cell_type": "code",
   "execution_count": 26,
   "id": "839e6ed1-00df-4f31-9b6a-11650ed3f1dc",
   "metadata": {
    "execution": {
     "iopub.execute_input": "2024-07-14T15:02:42.319644Z",
     "iopub.status.busy": "2024-07-14T15:02:42.319294Z",
     "iopub.status.idle": "2024-07-14T15:02:42.322323Z",
     "shell.execute_reply": "2024-07-14T15:02:42.321892Z"
    },
    "papermill": {
     "duration": 0.013215,
     "end_time": "2024-07-14T15:02:42.323152",
     "exception": false,
     "start_time": "2024-07-14T15:02:42.309937",
     "status": "completed"
    },
    "tags": []
   },
   "outputs": [],
   "source": [
    "### Add results to dataframe\n",
    "METRICdf.loc[METRICdf.shape[0],:] = [integration_method,embSpace,n_embedded,n_Patient_embedded,batch,annotation,'LinearSVC',\n",
    "                                     f1_LinearSVC_QUERY, BAS_LinearSVC_QUERY,MCC_LinearSVC_QUERY,f1_LinearSVC_REFERENCE]"
   ]
  },
  {
   "cell_type": "code",
   "execution_count": 27,
   "id": "e7ab9f0e-46d5-45e3-b44b-5bff0748b28c",
   "metadata": {
    "execution": {
     "iopub.execute_input": "2024-07-14T15:02:42.341815Z",
     "iopub.status.busy": "2024-07-14T15:02:42.341410Z",
     "iopub.status.idle": "2024-07-14T15:02:42.385834Z",
     "shell.execute_reply": "2024-07-14T15:02:42.385378Z"
    },
    "papermill": {
     "duration": 0.054394,
     "end_time": "2024-07-14T15:02:42.386660",
     "exception": false,
     "start_time": "2024-07-14T15:02:42.332266",
     "status": "completed"
    },
    "tags": []
   },
   "outputs": [],
   "source": [
    "#### SAVE STUDY and FINAL MODEL AS PICKLE\n",
    "joblib.dump(LinearSVC_cell_type_studies, os.path.join(mainDir, f\"study_objects/BestParams_{integration_method}_{embSpace}_{n_embedded}nEmb_{n_Patient_embedded}nPEmb_{batch}_{annotation}_opt{optimization_metric}_{query_dataset}_LinearSVC.pkl\"))\n",
    "joblib.dump(clf_LinearSVC_TRAINED, os.path.join(mainDir, f\"best_models/{integration_method}_{embSpace}_{n_embedded}nEmb_{n_Patient_embedded}nPEmb_{batch}_{annotation}_opt{optimization_metric}_{query_dataset}_LinearSVC.pkl\"))\n",
    "\n",
    "LinearSVC_cellType_prediction_query_df.to_pickle(os.path.join(mainDir, f\"label_predicted_dataframes/{integration_method}_{embSpace}_{n_embedded}nEmb_{n_Patient_embedded}nPEmb_{batch}_{annotation}_opt{optimization_metric}_{query_dataset}_LinearSVC.pkl\"))"
   ]
  },
  {
   "cell_type": "markdown",
   "id": "e8394cdf-d636-4499-89a6-1731d577d3f7",
   "metadata": {
    "papermill": {
     "duration": 0.0093,
     "end_time": "2024-07-14T15:02:42.405075",
     "exception": false,
     "start_time": "2024-07-14T15:02:42.395775",
     "status": "completed"
    },
    "tags": []
   },
   "source": [
    "#### SVC"
   ]
  },
  {
   "cell_type": "code",
   "execution_count": 28,
   "id": "48e39d89",
   "metadata": {
    "execution": {
     "iopub.execute_input": "2024-07-14T15:02:42.425492Z",
     "iopub.status.busy": "2024-07-14T15:02:42.425218Z",
     "iopub.status.idle": "2024-07-14T15:02:59.402790Z",
     "shell.execute_reply": "2024-07-14T15:02:59.402269Z"
    },
    "papermill": {
     "duration": 16.988151,
     "end_time": "2024-07-14T15:02:59.403786",
     "exception": false,
     "start_time": "2024-07-14T15:02:42.415635",
     "status": "completed"
    },
    "scrolled": true,
    "tags": []
   },
   "outputs": [
    {
     "name": "stdout",
     "output_type": "stream",
     "text": [
      "\n",
      "sample\n"
     ]
    },
    {
     "data": {
      "application/vnd.jupyter.widget-view+json": {
       "model_id": "af7b3078006d4e96ac9ec5ccebe6b834",
       "version_major": 2,
       "version_minor": 0
      },
      "text/plain": [
       "  0%|          | 0/300 [00:00<?, ?it/s]"
      ]
     },
     "metadata": {},
     "output_type": "display_data"
    }
   ],
   "source": [
    "fixed_parameter_SVC = ({\n",
    "    'max_iter': -1,\n",
    "})\n",
    "\n",
    "\n",
    "def SVC_cellTypeOptimization(adataTrain = None, \n",
    "                         KfoldPatientSplit = None,\n",
    "                         y_true_col = 'disease',\n",
    "                         sample_id_col = 'sampleID',\n",
    "                         cell_type_col = 'Level1',\n",
    "                         random_seed = 42,\n",
    "                         optimization = 'F1', \n",
    "                         n_trials = 300,\n",
    "                         n_job = -1):\n",
    "\n",
    "    SVC_cell_type_studies = {}\n",
    "\n",
    "    for ct_i in adataTrain.obs[cell_type_col].unique().tolist():\n",
    "\n",
    "        print(f\"\\n{ct_i}\")\n",
    "        \n",
    "        adataTrain_ct_i = adataTrain[adataTrain.obs[cell_type_col] == ct_i].copy()\n",
    "        \n",
    "        def objective_CT(trial):\n",
    "            class_params = {\n",
    "                'scaler': trial.suggest_categorical('scaler', [True, False]),\n",
    "                'kernel': trial.suggest_categorical(\"kernel\", ['sigmoid','rbf','poly']),\n",
    "                'class_weight': trial.suggest_categorical(\"class_weight\", ['balanced',None]),\n",
    "                'C': trial.suggest_float('C', 1e-3, 1e5, log=True),\n",
    "            }\n",
    "\n",
    "            class_params |= fixed_parameter_SVC\n",
    "            if class_params['kernel'] == 'poly':\n",
    "                class_params.update({'degree': trial.suggest_int('degree', 2,6)})    \n",
    "                \n",
    "            # for ct_ in adataTrain.obs.Level1.unique().tolist():\n",
    "            #     class_params.update({\n",
    "            #         f\"{ct_}_C\": trial.suggest_float(f\"{ct_}_C\", 1e-3, 1e5, log=True),\n",
    "            #     })\n",
    "        \n",
    "            metric_list = []\n",
    "            \n",
    "            for foldK in KfoldPatientSplit:\n",
    "                \n",
    "                pListTrain = Pdata.iloc[foldK[0]][sample_id_col].tolist()\n",
    "                pListTest = Pdata.iloc[foldK[1]][sample_id_col].tolist()\n",
    "                \n",
    "                clf = CellTypeDiseasePrediction(clf_params=class_params.copy(),classifier=SVC, cell_type = ct_i).fit(adataTrain_ct_i[adataTrain_ct_i.obs[sample_id_col].isin(pListTrain)])\n",
    "            \n",
    "                y_pred_df = clf.predict(adataTrain_ct_i[adataTrain_ct_i.obs[sample_id_col].isin(pListTest)], y_true_col = y_true_col)\n",
    "        \n",
    "                if optimization_metric == 'BAS':\n",
    "                    M = balanced_accuracy_score(y_pred_df[y_true_col], y_pred_df.disease_pred)\n",
    "                else:\n",
    "                    M = f1_score(y_pred_df[y_true_col], y_pred_df[f\"disease_pred_{ct_i}\"], average='weighted')\n",
    "        \n",
    "                metric_list.append(M)\n",
    "            \n",
    "            return sum(metric_list)/5\n",
    "                \n",
    "        # Optimize hyperparameters with Optuna\n",
    "        SVC_cell_type_studies[ct_i] = op.create_study(direction='maximize', study_name=ct_i,sampler=TPESampler(seed=random_seed))\n",
    "        SVC_cell_type_studies[ct_i].optimize(objective_CT, n_trials=n_trials, show_progress_bar=True, n_jobs=n_job)#catch = ValueError)\n",
    "\n",
    "    return SVC_cell_type_studies\n",
    "\n",
    "### EXECUTE THE FUNCTION ###\n",
    "SVC_cell_type_studies = SVC_cellTypeOptimization(adataTrain = REFERENCEpseudobulkFilt, \n",
    "                                                   KfoldPatientSplit = KfoldPatientSplit,\n",
    "                                                   y_true_col = 'disease',\n",
    "                                                   sample_id_col = 'sampleID',\n",
    "                                                   cell_type_col = 'Level1',\n",
    "                                                   optimization = 'F1',\n",
    "                                                   n_trials = 300, n_job = n_job, random_seed = 42)"
   ]
  },
  {
   "cell_type": "code",
   "execution_count": 29,
   "id": "df1d3bd9-ca7f-4621-a37a-50faacb2c3da",
   "metadata": {
    "execution": {
     "iopub.execute_input": "2024-07-14T15:02:59.433518Z",
     "iopub.status.busy": "2024-07-14T15:02:59.433045Z",
     "iopub.status.idle": "2024-07-14T15:02:59.475348Z",
     "shell.execute_reply": "2024-07-14T15:02:59.474901Z"
    },
    "papermill": {
     "duration": 0.059819,
     "end_time": "2024-07-14T15:02:59.476210",
     "exception": false,
     "start_time": "2024-07-14T15:02:59.416391",
     "status": "completed"
    },
    "tags": []
   },
   "outputs": [],
   "source": [
    "clf_SVC_TRAINED = (VotingDisease(classifier = SVC, \n",
    "                                         cell_type_studies = SVC_cell_type_studies, \n",
    "                                         fixed_params = fixed_parameter_SVC, \n",
    "                                         cell_type_col = 'Level1', sample_id_col = 'sampleID', y_true_col = 'disease')\n",
    "                           .fit(REFERENCEpseudobulkFilt))"
   ]
  },
  {
   "cell_type": "code",
   "execution_count": 30,
   "id": "1738fab9-3ffe-4649-8b75-4ede4c821328",
   "metadata": {
    "execution": {
     "iopub.execute_input": "2024-07-14T15:02:59.570449Z",
     "iopub.status.busy": "2024-07-14T15:02:59.570051Z",
     "iopub.status.idle": "2024-07-14T15:02:59.574057Z",
     "shell.execute_reply": "2024-07-14T15:02:59.573566Z"
    },
    "papermill": {
     "duration": 0.084048,
     "end_time": "2024-07-14T15:02:59.574897",
     "exception": false,
     "start_time": "2024-07-14T15:02:59.490849",
     "status": "completed"
    },
    "tags": []
   },
   "outputs": [
    {
     "name": "stdout",
     "output_type": "stream",
     "text": [
      "F1 on reference = 0.768847405477096\n"
     ]
    }
   ],
   "source": [
    "### Extracting the average performance on train data\n",
    "optMetric = 0\n",
    "for ct_i in SVC_cell_type_studies.keys():\n",
    "    optMetric += SVC_cell_type_studies[ct_i].best_value\n",
    "f1_SVC_REFERENCE = optMetric / len(SVC_cell_type_studies)\n",
    "print(f\"F1 on reference = {f1_SVC_REFERENCE}\")"
   ]
  },
  {
   "cell_type": "code",
   "execution_count": 31,
   "id": "047f51ad-f323-483c-96ff-4b7cfdcd9ba7",
   "metadata": {
    "execution": {
     "iopub.execute_input": "2024-07-14T15:02:59.606431Z",
     "iopub.status.busy": "2024-07-14T15:02:59.606069Z",
     "iopub.status.idle": "2024-07-14T15:02:59.637060Z",
     "shell.execute_reply": "2024-07-14T15:02:59.636573Z"
    },
    "papermill": {
     "duration": 0.043555,
     "end_time": "2024-07-14T15:02:59.637866",
     "exception": false,
     "start_time": "2024-07-14T15:02:59.594311",
     "status": "completed"
    },
    "tags": []
   },
   "outputs": [
    {
     "name": "stdout",
     "output_type": "stream",
     "text": [
      "QUERY: F1 = 0.7991876793307937, BAS = 0.6956018518518519, MCC: 0.7394852630591562\n"
     ]
    },
    {
     "name": "stderr",
     "output_type": "stream",
     "text": [
      "/scratch_isilon/groups/singlecell/shared/conda_env/optuna/lib/python3.12/site-packages/sklearn/metrics/_classification.py:2458: UserWarning: y_pred contains classes not in y_true\n",
      "  warnings.warn(\"y_pred contains classes not in y_true\")\n"
     ]
    }
   ],
   "source": [
    "### Predict query dataset\n",
    "SVC_cellType_prediction_query_df = clf_SVC_TRAINED.predict(QUERYpseudobulkFilt)\n",
    "\n",
    "f1_SVC_QUERY = f1_score(SVC_cellType_prediction_query_df[y_true_col], \n",
    "                              SVC_cellType_prediction_query_df.majority_pred, average='weighted')\n",
    "BAS_SVC_QUERY = balanced_accuracy_score(SVC_cellType_prediction_query_df[y_true_col], \n",
    "                                              SVC_cellType_prediction_query_df.majority_pred,)\n",
    "MCC_SVC_QUERY = matthews_corrcoef(SVC_cellType_prediction_query_df[y_true_col], \n",
    "                                        SVC_cellType_prediction_query_df.majority_pred,)\n",
    "print(f\"QUERY: F1 = {f1_SVC_QUERY}, BAS = {BAS_SVC_QUERY}, MCC: {MCC_SVC_QUERY}\")"
   ]
  },
  {
   "cell_type": "code",
   "execution_count": 32,
   "id": "4e68ccc1-e6a3-4ceb-a3ae-b8761de54025",
   "metadata": {
    "execution": {
     "iopub.execute_input": "2024-07-14T15:02:59.666283Z",
     "iopub.status.busy": "2024-07-14T15:02:59.665864Z",
     "iopub.status.idle": "2024-07-14T15:02:59.669298Z",
     "shell.execute_reply": "2024-07-14T15:02:59.668855Z"
    },
    "papermill": {
     "duration": 0.017804,
     "end_time": "2024-07-14T15:02:59.670089",
     "exception": false,
     "start_time": "2024-07-14T15:02:59.652285",
     "status": "completed"
    },
    "tags": []
   },
   "outputs": [],
   "source": [
    "### Add results to dataframe\n",
    "METRICdf.loc[METRICdf.shape[0],:] = [integration_method,embSpace,n_embedded,n_Patient_embedded,batch,annotation,'SVC',\n",
    "                                     f1_SVC_QUERY, BAS_SVC_QUERY,MCC_SVC_QUERY,f1_SVC_REFERENCE]"
   ]
  },
  {
   "cell_type": "code",
   "execution_count": 33,
   "id": "d17b7639-2450-405d-ab6d-622ce4781196",
   "metadata": {
    "execution": {
     "iopub.execute_input": "2024-07-14T15:02:59.694668Z",
     "iopub.status.busy": "2024-07-14T15:02:59.694281Z",
     "iopub.status.idle": "2024-07-14T15:02:59.809241Z",
     "shell.execute_reply": "2024-07-14T15:02:59.808776Z"
    },
    "papermill": {
     "duration": 0.12587,
     "end_time": "2024-07-14T15:02:59.810183",
     "exception": false,
     "start_time": "2024-07-14T15:02:59.684313",
     "status": "completed"
    },
    "tags": []
   },
   "outputs": [],
   "source": [
    "#### SAVE STUDY and FINAL MODEL AS PICKLE\n",
    "joblib.dump(SVC_cell_type_studies, os.path.join(mainDir, f\"study_objects/BestParams_{integration_method}_{embSpace}_{n_embedded}nEmb_{n_Patient_embedded}nPEmb_{batch}_{annotation}_opt{optimization_metric}_{query_dataset}_SVC.pkl\"))\n",
    "joblib.dump(clf_SVC_TRAINED, os.path.join(mainDir, f\"best_models/{integration_method}_{embSpace}_{n_embedded}nEmb_{n_Patient_embedded}nPEmb_{batch}_{annotation}_opt{optimization_metric}_{query_dataset}_SVC.pkl\"))\n",
    "\n",
    "SVC_cellType_prediction_query_df.to_pickle(os.path.join(mainDir, f\"label_predicted_dataframes/{integration_method}_{embSpace}_{n_embedded}nEmb_{n_Patient_embedded}nPEmb_{batch}_{annotation}_opt{optimization_metric}_{query_dataset}_SVC.pkl\"))"
   ]
  },
  {
   "cell_type": "markdown",
   "id": "f06fd6e1-90a1-4fc2-a9fd-6a35fb3ab0ed",
   "metadata": {
    "papermill": {
     "duration": 0.009421,
     "end_time": "2024-07-14T15:02:59.836613",
     "exception": false,
     "start_time": "2024-07-14T15:02:59.827192",
     "status": "completed"
    },
    "tags": []
   },
   "source": [
    "#### kNN"
   ]
  },
  {
   "cell_type": "code",
   "execution_count": 34,
   "id": "4b5a4d44-3d52-45ec-85d5-cdee0e1754f1",
   "metadata": {
    "execution": {
     "iopub.execute_input": "2024-07-14T15:02:59.857160Z",
     "iopub.status.busy": "2024-07-14T15:02:59.856780Z",
     "iopub.status.idle": "2024-07-14T15:03:03.125891Z",
     "shell.execute_reply": "2024-07-14T15:03:03.125202Z"
    },
    "papermill": {
     "duration": 3.280753,
     "end_time": "2024-07-14T15:03:03.127404",
     "exception": false,
     "start_time": "2024-07-14T15:02:59.846651",
     "status": "completed"
    },
    "scrolled": true,
    "tags": []
   },
   "outputs": [
    {
     "name": "stdout",
     "output_type": "stream",
     "text": [
      "\n",
      "sample\n"
     ]
    },
    {
     "name": "stderr",
     "output_type": "stream",
     "text": [
      "/scratch_tmp/26171340/ipykernel_145793/494070876.py:52: ExperimentalWarning: BruteForceSampler is experimental (supported from v3.1.0). The interface can change in the future.\n",
      "  kNN_cell_type_studies[ct_i] = op.create_study(direction='maximize', study_name=ct_i, sampler=BruteForceSampler())\n"
     ]
    }
   ],
   "source": [
    "fixed_parameter_kNN = ({\n",
    "    'n_jobs': 1\n",
    "})\n",
    "\n",
    "def kNN_cellTypeOptimization(adataTrain = None, \n",
    "                         KfoldPatientSplit = None,\n",
    "                         y_true_col = 'disease',\n",
    "                         sample_id_col = 'sampleID',\n",
    "                         cell_type_col = 'Level1',\n",
    "                         optimization = 'F1', \n",
    "                         n_job = 40):\n",
    "\n",
    "    kNN_cell_type_studies = {}\n",
    "\n",
    "    for ct_i in adataTrain.obs[cell_type_col].unique().tolist():\n",
    "\n",
    "        print(f\"\\n{ct_i}\")\n",
    "        \n",
    "        adataTrain_ct_i = adataTrain[adataTrain.obs[cell_type_col] == ct_i].copy()\n",
    "        \n",
    "        def objective_CT(trial):\n",
    "            class_params = {\n",
    "                'scaler': trial.suggest_categorical('scaler', [True, False]),\n",
    "                'metric': trial.suggest_categorical(\"metric\", ['cosine','euclidean']),\n",
    "                'weights': trial.suggest_categorical(\"weights\", ['uniform','distance']),\n",
    "                'n_neighbors': trial.suggest_int('n_neighbors', 1, 5, log=False),\n",
    "            }\n",
    "\n",
    "            class_params |= fixed_parameter_kNN\n",
    "\n",
    "            metric_list = []\n",
    "            \n",
    "            for foldK in KfoldPatientSplit:\n",
    "                \n",
    "                pListTrain = Pdata.iloc[foldK[0]][sample_id_col].tolist()\n",
    "                pListTest = Pdata.iloc[foldK[1]][sample_id_col].tolist()\n",
    "                \n",
    "                clf = CellTypeDiseasePrediction(clf_params=class_params.copy(),classifier=KNeighborsClassifier, cell_type = ct_i).fit(adataTrain_ct_i[adataTrain_ct_i.obs[sample_id_col].isin(pListTrain)])\n",
    "            \n",
    "                y_pred_df = clf.predict(adataTrain_ct_i[adataTrain_ct_i.obs[sample_id_col].isin(pListTest)], y_true_col = y_true_col)\n",
    "        \n",
    "                if optimization_metric == 'BAS':\n",
    "                    M = balanced_accuracy_score(y_pred_df[y_true_col], y_pred_df.disease_pred)\n",
    "                else:\n",
    "                    M = f1_score(y_pred_df[y_true_col], y_pred_df[f\"disease_pred_{ct_i}\"], average='weighted')\n",
    "        \n",
    "                metric_list.append(M)\n",
    "            \n",
    "            return sum(metric_list)/5\n",
    "                \n",
    "        # Optimize hyperparameters with Optuna\n",
    "        kNN_cell_type_studies[ct_i] = op.create_study(direction='maximize', study_name=ct_i, sampler=BruteForceSampler())\n",
    "        kNN_cell_type_studies[ct_i].optimize(objective_CT, show_progress_bar=False, n_jobs=40)#catch = ValueError)\n",
    "\n",
    "    return kNN_cell_type_studies\n",
    "\n",
    "### EXECUTE THE FUNCTION ###\n",
    "kNN_cell_type_studies = kNN_cellTypeOptimization(adataTrain = REFERENCEpseudobulkFilt, \n",
    "                                                 KfoldPatientSplit = KfoldPatientSplit,\n",
    "                                                 y_true_col = 'disease',\n",
    "                                                 sample_id_col = 'sampleID',\n",
    "                                                 cell_type_col = 'Level1',\n",
    "                                                 optimization = 'F1',\n",
    "                                                 n_job = min(n_job,40))"
   ]
  },
  {
   "cell_type": "code",
   "execution_count": 35,
   "id": "efa94193-3498-4552-9ce9-281ca55cb795",
   "metadata": {
    "execution": {
     "iopub.execute_input": "2024-07-14T15:03:03.149206Z",
     "iopub.status.busy": "2024-07-14T15:03:03.149042Z",
     "iopub.status.idle": "2024-07-14T15:03:03.154720Z",
     "shell.execute_reply": "2024-07-14T15:03:03.154348Z"
    },
    "papermill": {
     "duration": 0.017242,
     "end_time": "2024-07-14T15:03:03.155552",
     "exception": false,
     "start_time": "2024-07-14T15:03:03.138310",
     "status": "completed"
    },
    "tags": []
   },
   "outputs": [],
   "source": [
    "clf_kNN_TRAINED = (VotingDisease(classifier = KNeighborsClassifier, \n",
    "                                         cell_type_studies = kNN_cell_type_studies, \n",
    "                                         fixed_params = fixed_parameter_kNN, \n",
    "                                         cell_type_col = 'Level1', sample_id_col = 'sampleID', y_true_col = 'disease')\n",
    "                           .fit(REFERENCEpseudobulkFilt))"
   ]
  },
  {
   "cell_type": "code",
   "execution_count": 36,
   "id": "93d992ed-9cd1-4aab-8c6b-3ba520ee2fee",
   "metadata": {
    "execution": {
     "iopub.execute_input": "2024-07-14T15:03:03.175725Z",
     "iopub.status.busy": "2024-07-14T15:03:03.175265Z",
     "iopub.status.idle": "2024-07-14T15:03:03.178324Z",
     "shell.execute_reply": "2024-07-14T15:03:03.177957Z"
    },
    "papermill": {
     "duration": 0.013909,
     "end_time": "2024-07-14T15:03:03.179105",
     "exception": false,
     "start_time": "2024-07-14T15:03:03.165196",
     "status": "completed"
    },
    "tags": []
   },
   "outputs": [
    {
     "name": "stdout",
     "output_type": "stream",
     "text": [
      "F1 on reference = 0.72624315101478\n"
     ]
    }
   ],
   "source": [
    "### Extracting the average performance on train data\n",
    "optMetric = 0\n",
    "for ct_i in kNN_cell_type_studies.keys():\n",
    "    optMetric += kNN_cell_type_studies[ct_i].best_value\n",
    "f1_kNN_REFERENCE = optMetric / len(kNN_cell_type_studies)\n",
    "print(f\"F1 on reference = {f1_kNN_REFERENCE}\")"
   ]
  },
  {
   "cell_type": "code",
   "execution_count": 37,
   "id": "7fb64646-7479-488b-b356-bcce128453dc",
   "metadata": {
    "execution": {
     "iopub.execute_input": "2024-07-14T15:03:03.199834Z",
     "iopub.status.busy": "2024-07-14T15:03:03.199507Z",
     "iopub.status.idle": "2024-07-14T15:03:03.224222Z",
     "shell.execute_reply": "2024-07-14T15:03:03.223868Z"
    },
    "papermill": {
     "duration": 0.03557,
     "end_time": "2024-07-14T15:03:03.225000",
     "exception": false,
     "start_time": "2024-07-14T15:03:03.189430",
     "status": "completed"
    },
    "tags": []
   },
   "outputs": [
    {
     "name": "stdout",
     "output_type": "stream",
     "text": [
      "QUERY: F1 = 0.7597796062869592, BAS = 0.6522194989106753, MCC: 0.6930793014396536\n"
     ]
    },
    {
     "name": "stderr",
     "output_type": "stream",
     "text": [
      "/scratch_isilon/groups/singlecell/shared/conda_env/optuna/lib/python3.12/site-packages/sklearn/metrics/_classification.py:2458: UserWarning: y_pred contains classes not in y_true\n",
      "  warnings.warn(\"y_pred contains classes not in y_true\")\n"
     ]
    }
   ],
   "source": [
    "### Predict query dataset\n",
    "kNN_cellType_prediction_query_df = clf_kNN_TRAINED.predict(QUERYpseudobulkFilt)\n",
    "\n",
    "f1_kNN_QUERY = f1_score(kNN_cellType_prediction_query_df[y_true_col], \n",
    "                              kNN_cellType_prediction_query_df.majority_pred, average='weighted')\n",
    "BAS_kNN_QUERY = balanced_accuracy_score(kNN_cellType_prediction_query_df[y_true_col], \n",
    "                                              kNN_cellType_prediction_query_df.majority_pred,)\n",
    "MCC_kNN_QUERY = matthews_corrcoef(kNN_cellType_prediction_query_df[y_true_col], \n",
    "                                        kNN_cellType_prediction_query_df.majority_pred,)\n",
    "print(f\"QUERY: F1 = {f1_kNN_QUERY}, BAS = {BAS_kNN_QUERY}, MCC: {MCC_kNN_QUERY}\")"
   ]
  },
  {
   "cell_type": "code",
   "execution_count": 38,
   "id": "a6b5a17f-9bc8-49e0-992d-3a73cbb73af1",
   "metadata": {
    "execution": {
     "iopub.execute_input": "2024-07-14T15:03:03.245758Z",
     "iopub.status.busy": "2024-07-14T15:03:03.245552Z",
     "iopub.status.idle": "2024-07-14T15:03:03.248338Z",
     "shell.execute_reply": "2024-07-14T15:03:03.248042Z"
    },
    "papermill": {
     "duration": 0.014006,
     "end_time": "2024-07-14T15:03:03.249104",
     "exception": false,
     "start_time": "2024-07-14T15:03:03.235098",
     "status": "completed"
    },
    "tags": []
   },
   "outputs": [],
   "source": [
    "### Add results to dataframe\n",
    "METRICdf.loc[METRICdf.shape[0],:] = [integration_method,embSpace,n_embedded,n_Patient_embedded,batch,annotation,'kNN',\n",
    "                                     f1_kNN_QUERY, BAS_kNN_QUERY,MCC_kNN_QUERY,f1_kNN_REFERENCE]"
   ]
  },
  {
   "cell_type": "code",
   "execution_count": 39,
   "id": "571de3ba-0358-48c6-b67f-fb247d2f7938",
   "metadata": {
    "execution": {
     "iopub.execute_input": "2024-07-14T15:03:03.269291Z",
     "iopub.status.busy": "2024-07-14T15:03:03.269024Z",
     "iopub.status.idle": "2024-07-14T15:03:03.291704Z",
     "shell.execute_reply": "2024-07-14T15:03:03.291369Z"
    },
    "papermill": {
     "duration": 0.033857,
     "end_time": "2024-07-14T15:03:03.292756",
     "exception": false,
     "start_time": "2024-07-14T15:03:03.258899",
     "status": "completed"
    },
    "tags": []
   },
   "outputs": [],
   "source": [
    "#### SAVE STUDY and FINAL MODEL AS PICKLE\n",
    "joblib.dump(kNN_cell_type_studies, os.path.join(mainDir, f\"study_objects/BestParams_{integration_method}_{embSpace}_{n_embedded}nEmb_{n_Patient_embedded}nPEmb_{batch}_{annotation}_opt{optimization_metric}_{query_dataset}_kNN.pkl\"))\n",
    "joblib.dump(clf_kNN_TRAINED, os.path.join(mainDir, f\"best_models/{integration_method}_{embSpace}_{n_embedded}nEmb_{n_Patient_embedded}nPEmb_{batch}_{annotation}_opt{optimization_metric}_{query_dataset}_kNN.pkl\"))\n",
    "\n",
    "kNN_cellType_prediction_query_df.to_pickle(os.path.join(mainDir, f\"label_predicted_dataframes/{integration_method}_{embSpace}_{n_embedded}nEmb_{n_Patient_embedded}nPEmb_{batch}_{annotation}_opt{optimization_metric}_{query_dataset}_kNN.pkl\"))"
   ]
  },
  {
   "cell_type": "markdown",
   "id": "ca686a7e-4f31-421e-8615-6c61274fa806",
   "metadata": {
    "papermill": {
     "duration": 0.010233,
     "end_time": "2024-07-14T15:03:03.313287",
     "exception": false,
     "start_time": "2024-07-14T15:03:03.303054",
     "status": "completed"
    },
    "tags": []
   },
   "source": [
    "### Saving metrics dataframe"
   ]
  },
  {
   "cell_type": "code",
   "execution_count": 40,
   "id": "20274e0e-5efd-4626-88b8-19bf6184bff0",
   "metadata": {
    "execution": {
     "iopub.execute_input": "2024-07-14T15:03:03.333622Z",
     "iopub.status.busy": "2024-07-14T15:03:03.333336Z",
     "iopub.status.idle": "2024-07-14T15:03:03.338651Z",
     "shell.execute_reply": "2024-07-14T15:03:03.338287Z"
    },
    "papermill": {
     "duration": 0.016247,
     "end_time": "2024-07-14T15:03:03.339413",
     "exception": false,
     "start_time": "2024-07-14T15:03:03.323166",
     "status": "completed"
    },
    "tags": []
   },
   "outputs": [],
   "source": [
    "METRICdf.to_pickle(os.path.join(mainDir, f\"metrics_dataframes/METRICdf_{integration_method}_{embSpace}_{n_embedded}nEmb_{n_Patient_embedded}nPEmb_{batch}_{annotation}_opt{optimization_metric}_{query_dataset}.pkl\"))"
   ]
  },
  {
   "cell_type": "code",
   "execution_count": 41,
   "id": "17be377b-b0b3-44f7-94a0-2c5b0f67e378",
   "metadata": {
    "execution": {
     "iopub.execute_input": "2024-07-14T15:03:03.360001Z",
     "iopub.status.busy": "2024-07-14T15:03:03.359807Z",
     "iopub.status.idle": "2024-07-14T15:03:03.366596Z",
     "shell.execute_reply": "2024-07-14T15:03:03.366306Z"
    },
    "papermill": {
     "duration": 0.017866,
     "end_time": "2024-07-14T15:03:03.367372",
     "exception": false,
     "start_time": "2024-07-14T15:03:03.349506",
     "status": "completed"
    },
    "tags": []
   },
   "outputs": [
    {
     "data": {
      "text/html": [
       "<div>\n",
       "<style scoped>\n",
       "    .dataframe tbody tr th:only-of-type {\n",
       "        vertical-align: middle;\n",
       "    }\n",
       "\n",
       "    .dataframe tbody tr th {\n",
       "        vertical-align: top;\n",
       "    }\n",
       "\n",
       "    .dataframe thead th {\n",
       "        text-align: right;\n",
       "    }\n",
       "</style>\n",
       "<table border=\"1\" class=\"dataframe\">\n",
       "  <thead>\n",
       "    <tr style=\"text-align: right;\">\n",
       "      <th></th>\n",
       "      <th>integration_method</th>\n",
       "      <th>embedded_space</th>\n",
       "      <th>n_embedded</th>\n",
       "      <th>n_Patient_embedded</th>\n",
       "      <th>batchKeys</th>\n",
       "      <th>annotation</th>\n",
       "      <th>classification_method</th>\n",
       "      <th>VALIDATION_F1</th>\n",
       "      <th>VALIDATION_BAS</th>\n",
       "      <th>VALIDATION_MCC</th>\n",
       "      <th>VALIDATION_TRAIN_F1</th>\n",
       "    </tr>\n",
       "  </thead>\n",
       "  <tbody>\n",
       "    <tr>\n",
       "      <th>0</th>\n",
       "      <td>scPoli</td>\n",
       "      <td>sample</td>\n",
       "      <td>50</td>\n",
       "      <td>20</td>\n",
       "      <td>chemistry</td>\n",
       "      <td>Level1n2</td>\n",
       "      <td>LinearSVC</td>\n",
       "      <td>0.730782</td>\n",
       "      <td>0.611411</td>\n",
       "      <td>0.625818</td>\n",
       "      <td>0.713915</td>\n",
       "    </tr>\n",
       "    <tr>\n",
       "      <th>1</th>\n",
       "      <td>scPoli</td>\n",
       "      <td>sample</td>\n",
       "      <td>50</td>\n",
       "      <td>20</td>\n",
       "      <td>chemistry</td>\n",
       "      <td>Level1n2</td>\n",
       "      <td>SVC</td>\n",
       "      <td>0.799188</td>\n",
       "      <td>0.695602</td>\n",
       "      <td>0.739485</td>\n",
       "      <td>0.768847</td>\n",
       "    </tr>\n",
       "    <tr>\n",
       "      <th>2</th>\n",
       "      <td>scPoli</td>\n",
       "      <td>sample</td>\n",
       "      <td>50</td>\n",
       "      <td>20</td>\n",
       "      <td>chemistry</td>\n",
       "      <td>Level1n2</td>\n",
       "      <td>kNN</td>\n",
       "      <td>0.75978</td>\n",
       "      <td>0.652219</td>\n",
       "      <td>0.693079</td>\n",
       "      <td>0.726243</td>\n",
       "    </tr>\n",
       "  </tbody>\n",
       "</table>\n",
       "</div>"
      ],
      "text/plain": [
       "  integration_method embedded_space n_embedded n_Patient_embedded  batchKeys  \\\n",
       "0             scPoli         sample         50                 20  chemistry   \n",
       "1             scPoli         sample         50                 20  chemistry   \n",
       "2             scPoli         sample         50                 20  chemistry   \n",
       "\n",
       "  annotation classification_method VALIDATION_F1 VALIDATION_BAS  \\\n",
       "0   Level1n2             LinearSVC      0.730782       0.611411   \n",
       "1   Level1n2                   SVC      0.799188       0.695602   \n",
       "2   Level1n2                   kNN       0.75978       0.652219   \n",
       "\n",
       "  VALIDATION_MCC VALIDATION_TRAIN_F1  \n",
       "0       0.625818            0.713915  \n",
       "1       0.739485            0.768847  \n",
       "2       0.693079            0.726243  "
      ]
     },
     "execution_count": 41,
     "metadata": {},
     "output_type": "execute_result"
    }
   ],
   "source": [
    "METRICdf"
   ]
  },
  {
   "cell_type": "code",
   "execution_count": null,
   "id": "dcac8762-9816-47ad-898f-ca8e3fbd90db",
   "metadata": {
    "papermill": {
     "duration": 0.010169,
     "end_time": "2024-07-14T15:03:03.387734",
     "exception": false,
     "start_time": "2024-07-14T15:03:03.377565",
     "status": "completed"
    },
    "tags": []
   },
   "outputs": [],
   "source": []
  }
 ],
 "metadata": {
  "kernelspec": {
   "display_name": "Python 3 (ipykernel)",
   "language": "python",
   "name": "python3"
  },
  "language_info": {
   "codemirror_mode": {
    "name": "ipython",
    "version": 3
   },
   "file_extension": ".py",
   "mimetype": "text/x-python",
   "name": "python",
   "nbconvert_exporter": "python",
   "pygments_lexer": "ipython3",
   "version": "3.12.3"
  },
  "papermill": {
   "default_parameters": {},
   "duration": 57.532465,
   "end_time": "2024-07-14T15:03:04.114004",
   "environment_variables": {},
   "exception": null,
   "input_path": "01_Hyperparameters_search_scPoli_scANVI.ipynb",
   "output_path": "results_CT_studies/executed_notebooks/01_Hyperparameters_search_scPoli_VALIDATIONsample_50nLat_20pEmb_chemistry_Level1n2_optF1.ipynb",
   "parameters": {
    "QUERYNadata_path": "03_downstream_analysis/08_PatientClassifier/scPoli/results/PSEUDOBULKs/scPoli_PSEUDOBULKsample_VALIDATION_2_50_20_*.h5ad",
    "REFERENCEadata_path": "03_downstream_analysis/08_PatientClassifier/scPoli/results/PSEUDOBULKs/scPoli_PSEUDOBULKsample_ref_latents_VALIDATION_2_50_20_*.h5ad",
    "annotation": "Level1n2",
    "batch": "chemistry",
    "embSpace": "sample",
    "integration_method": "scPoli",
    "n_Patient_embedded": 20,
    "n_embedded": 50,
    "n_job": 32,
    "optimization_metric": "F1",
    "query_dataset": "VALIDATION"
   },
   "start_time": "2024-07-14T15:02:06.581539",
   "version": "2.6.0"
  },
  "widgets": {
   "application/vnd.jupyter.widget-state+json": {
    "state": {
     "0ddb520da7bc46019514716c07015cfb": {
      "model_module": "@jupyter-widgets/base",
      "model_module_version": "2.0.0",
      "model_name": "LayoutModel",
      "state": {
       "_model_module": "@jupyter-widgets/base",
       "_model_module_version": "2.0.0",
       "_model_name": "LayoutModel",
       "_view_count": null,
       "_view_module": "@jupyter-widgets/base",
       "_view_module_version": "2.0.0",
       "_view_name": "LayoutView",
       "align_content": null,
       "align_items": null,
       "align_self": null,
       "border_bottom": null,
       "border_left": null,
       "border_right": null,
       "border_top": null,
       "bottom": null,
       "display": null,
       "flex": null,
       "flex_flow": null,
       "grid_area": null,
       "grid_auto_columns": null,
       "grid_auto_flow": null,
       "grid_auto_rows": null,
       "grid_column": null,
       "grid_gap": null,
       "grid_row": null,
       "grid_template_areas": null,
       "grid_template_columns": null,
       "grid_template_rows": null,
       "height": null,
       "justify_content": null,
       "justify_items": null,
       "left": null,
       "margin": null,
       "max_height": null,
       "max_width": null,
       "min_height": null,
       "min_width": null,
       "object_fit": null,
       "object_position": null,
       "order": null,
       "overflow": null,
       "padding": null,
       "right": null,
       "top": null,
       "visibility": null,
       "width": null
      }
     },
     "1e6fcc91fa8943afa87ea6f7d65aae7a": {
      "model_module": "@jupyter-widgets/base",
      "model_module_version": "2.0.0",
      "model_name": "LayoutModel",
      "state": {
       "_model_module": "@jupyter-widgets/base",
       "_model_module_version": "2.0.0",
       "_model_name": "LayoutModel",
       "_view_count": null,
       "_view_module": "@jupyter-widgets/base",
       "_view_module_version": "2.0.0",
       "_view_name": "LayoutView",
       "align_content": null,
       "align_items": null,
       "align_self": null,
       "border_bottom": null,
       "border_left": null,
       "border_right": null,
       "border_top": null,
       "bottom": null,
       "display": null,
       "flex": null,
       "flex_flow": null,
       "grid_area": null,
       "grid_auto_columns": null,
       "grid_auto_flow": null,
       "grid_auto_rows": null,
       "grid_column": null,
       "grid_gap": null,
       "grid_row": null,
       "grid_template_areas": null,
       "grid_template_columns": null,
       "grid_template_rows": null,
       "height": null,
       "justify_content": null,
       "justify_items": null,
       "left": null,
       "margin": null,
       "max_height": null,
       "max_width": null,
       "min_height": null,
       "min_width": null,
       "object_fit": null,
       "object_position": null,
       "order": null,
       "overflow": null,
       "padding": null,
       "right": null,
       "top": null,
       "visibility": null,
       "width": null
      }
     },
     "2187d0d16c0348838f41ccaf1346cc85": {
      "model_module": "@jupyter-widgets/base",
      "model_module_version": "2.0.0",
      "model_name": "LayoutModel",
      "state": {
       "_model_module": "@jupyter-widgets/base",
       "_model_module_version": "2.0.0",
       "_model_name": "LayoutModel",
       "_view_count": null,
       "_view_module": "@jupyter-widgets/base",
       "_view_module_version": "2.0.0",
       "_view_name": "LayoutView",
       "align_content": null,
       "align_items": null,
       "align_self": null,
       "border_bottom": null,
       "border_left": null,
       "border_right": null,
       "border_top": null,
       "bottom": null,
       "display": null,
       "flex": null,
       "flex_flow": null,
       "grid_area": null,
       "grid_auto_columns": null,
       "grid_auto_flow": null,
       "grid_auto_rows": null,
       "grid_column": null,
       "grid_gap": null,
       "grid_row": null,
       "grid_template_areas": null,
       "grid_template_columns": null,
       "grid_template_rows": null,
       "height": null,
       "justify_content": null,
       "justify_items": null,
       "left": null,
       "margin": null,
       "max_height": null,
       "max_width": null,
       "min_height": null,
       "min_width": null,
       "object_fit": null,
       "object_position": null,
       "order": null,
       "overflow": null,
       "padding": null,
       "right": null,
       "top": null,
       "visibility": null,
       "width": null
      }
     },
     "36d94bb40b02412eb2cdb9ecb037932d": {
      "model_module": "@jupyter-widgets/controls",
      "model_module_version": "2.0.0",
      "model_name": "HTMLStyleModel",
      "state": {
       "_model_module": "@jupyter-widgets/controls",
       "_model_module_version": "2.0.0",
       "_model_name": "HTMLStyleModel",
       "_view_count": null,
       "_view_module": "@jupyter-widgets/base",
       "_view_module_version": "2.0.0",
       "_view_name": "StyleView",
       "background": null,
       "description_width": "",
       "font_size": null,
       "text_color": null
      }
     },
     "370956e1922045b08fc6f7b3c4f26d18": {
      "model_module": "@jupyter-widgets/controls",
      "model_module_version": "2.0.0",
      "model_name": "HTMLModel",
      "state": {
       "_dom_classes": [],
       "_model_module": "@jupyter-widgets/controls",
       "_model_module_version": "2.0.0",
       "_model_name": "HTMLModel",
       "_view_count": null,
       "_view_module": "@jupyter-widgets/controls",
       "_view_module_version": "2.0.0",
       "_view_name": "HTMLView",
       "description": "",
       "description_allow_html": false,
       "layout": "IPY_MODEL_9eec36be0c254da19f7345a2e2bc47e9",
       "placeholder": "​",
       "style": "IPY_MODEL_f4b0f4f42e2b4b2d9dc2e3a39d0df8fa",
       "tabbable": null,
       "tooltip": null,
       "value": "Best trial: 88. Best value: 0.713915: 100%"
      }
     },
     "3890aed5c7ab4f679b145035ac922c83": {
      "model_module": "@jupyter-widgets/controls",
      "model_module_version": "2.0.0",
      "model_name": "HTMLModel",
      "state": {
       "_dom_classes": [],
       "_model_module": "@jupyter-widgets/controls",
       "_model_module_version": "2.0.0",
       "_model_name": "HTMLModel",
       "_view_count": null,
       "_view_module": "@jupyter-widgets/controls",
       "_view_module_version": "2.0.0",
       "_view_name": "HTMLView",
       "description": "",
       "description_allow_html": false,
       "layout": "IPY_MODEL_b52409b949624c0b803badc724a0566e",
       "placeholder": "​",
       "style": "IPY_MODEL_36d94bb40b02412eb2cdb9ecb037932d",
       "tabbable": null,
       "tooltip": null,
       "value": "Best trial: 112. Best value: 0.768847: 100%"
      }
     },
     "481b5af9480b471a9b0c77f24fcc9715": {
      "model_module": "@jupyter-widgets/controls",
      "model_module_version": "2.0.0",
      "model_name": "ProgressStyleModel",
      "state": {
       "_model_module": "@jupyter-widgets/controls",
       "_model_module_version": "2.0.0",
       "_model_name": "ProgressStyleModel",
       "_view_count": null,
       "_view_module": "@jupyter-widgets/base",
       "_view_module_version": "2.0.0",
       "_view_name": "StyleView",
       "bar_color": null,
       "description_width": ""
      }
     },
     "6a38655e2738422d8448a27145ff3da7": {
      "model_module": "@jupyter-widgets/controls",
      "model_module_version": "2.0.0",
      "model_name": "HTMLStyleModel",
      "state": {
       "_model_module": "@jupyter-widgets/controls",
       "_model_module_version": "2.0.0",
       "_model_name": "HTMLStyleModel",
       "_view_count": null,
       "_view_module": "@jupyter-widgets/base",
       "_view_module_version": "2.0.0",
       "_view_name": "StyleView",
       "background": null,
       "description_width": "",
       "font_size": null,
       "text_color": null
      }
     },
     "72e2b87b6017408abdbf497903b03025": {
      "model_module": "@jupyter-widgets/base",
      "model_module_version": "2.0.0",
      "model_name": "LayoutModel",
      "state": {
       "_model_module": "@jupyter-widgets/base",
       "_model_module_version": "2.0.0",
       "_model_name": "LayoutModel",
       "_view_count": null,
       "_view_module": "@jupyter-widgets/base",
       "_view_module_version": "2.0.0",
       "_view_name": "LayoutView",
       "align_content": null,
       "align_items": null,
       "align_self": null,
       "border_bottom": null,
       "border_left": null,
       "border_right": null,
       "border_top": null,
       "bottom": null,
       "display": null,
       "flex": null,
       "flex_flow": null,
       "grid_area": null,
       "grid_auto_columns": null,
       "grid_auto_flow": null,
       "grid_auto_rows": null,
       "grid_column": null,
       "grid_gap": null,
       "grid_row": null,
       "grid_template_areas": null,
       "grid_template_columns": null,
       "grid_template_rows": null,
       "height": null,
       "justify_content": null,
       "justify_items": null,
       "left": null,
       "margin": null,
       "max_height": null,
       "max_width": null,
       "min_height": null,
       "min_width": null,
       "object_fit": null,
       "object_position": null,
       "order": null,
       "overflow": null,
       "padding": null,
       "right": null,
       "top": null,
       "visibility": null,
       "width": null
      }
     },
     "983a2541d7d540b5a33deb95ddff9d6f": {
      "model_module": "@jupyter-widgets/controls",
      "model_module_version": "2.0.0",
      "model_name": "HTMLStyleModel",
      "state": {
       "_model_module": "@jupyter-widgets/controls",
       "_model_module_version": "2.0.0",
       "_model_name": "HTMLStyleModel",
       "_view_count": null,
       "_view_module": "@jupyter-widgets/base",
       "_view_module_version": "2.0.0",
       "_view_name": "StyleView",
       "background": null,
       "description_width": "",
       "font_size": null,
       "text_color": null
      }
     },
     "9eec36be0c254da19f7345a2e2bc47e9": {
      "model_module": "@jupyter-widgets/base",
      "model_module_version": "2.0.0",
      "model_name": "LayoutModel",
      "state": {
       "_model_module": "@jupyter-widgets/base",
       "_model_module_version": "2.0.0",
       "_model_name": "LayoutModel",
       "_view_count": null,
       "_view_module": "@jupyter-widgets/base",
       "_view_module_version": "2.0.0",
       "_view_name": "LayoutView",
       "align_content": null,
       "align_items": null,
       "align_self": null,
       "border_bottom": null,
       "border_left": null,
       "border_right": null,
       "border_top": null,
       "bottom": null,
       "display": null,
       "flex": null,
       "flex_flow": null,
       "grid_area": null,
       "grid_auto_columns": null,
       "grid_auto_flow": null,
       "grid_auto_rows": null,
       "grid_column": null,
       "grid_gap": null,
       "grid_row": null,
       "grid_template_areas": null,
       "grid_template_columns": null,
       "grid_template_rows": null,
       "height": null,
       "justify_content": null,
       "justify_items": null,
       "left": null,
       "margin": null,
       "max_height": null,
       "max_width": null,
       "min_height": null,
       "min_width": null,
       "object_fit": null,
       "object_position": null,
       "order": null,
       "overflow": null,
       "padding": null,
       "right": null,
       "top": null,
       "visibility": null,
       "width": null
      }
     },
     "af7b3078006d4e96ac9ec5ccebe6b834": {
      "model_module": "@jupyter-widgets/controls",
      "model_module_version": "2.0.0",
      "model_name": "HBoxModel",
      "state": {
       "_dom_classes": [],
       "_model_module": "@jupyter-widgets/controls",
       "_model_module_version": "2.0.0",
       "_model_name": "HBoxModel",
       "_view_count": null,
       "_view_module": "@jupyter-widgets/controls",
       "_view_module_version": "2.0.0",
       "_view_name": "HBoxView",
       "box_style": "",
       "children": [
        "IPY_MODEL_3890aed5c7ab4f679b145035ac922c83",
        "IPY_MODEL_dd3e6de14b9d4b8abf349bef29813200",
        "IPY_MODEL_f86e7dca4ff147d2b3676414e53458b6"
       ],
       "layout": "IPY_MODEL_dfc8bff23fa849a7bdd244d732e616fb",
       "tabbable": null,
       "tooltip": null
      }
     },
     "b52409b949624c0b803badc724a0566e": {
      "model_module": "@jupyter-widgets/base",
      "model_module_version": "2.0.0",
      "model_name": "LayoutModel",
      "state": {
       "_model_module": "@jupyter-widgets/base",
       "_model_module_version": "2.0.0",
       "_model_name": "LayoutModel",
       "_view_count": null,
       "_view_module": "@jupyter-widgets/base",
       "_view_module_version": "2.0.0",
       "_view_name": "LayoutView",
       "align_content": null,
       "align_items": null,
       "align_self": null,
       "border_bottom": null,
       "border_left": null,
       "border_right": null,
       "border_top": null,
       "bottom": null,
       "display": null,
       "flex": null,
       "flex_flow": null,
       "grid_area": null,
       "grid_auto_columns": null,
       "grid_auto_flow": null,
       "grid_auto_rows": null,
       "grid_column": null,
       "grid_gap": null,
       "grid_row": null,
       "grid_template_areas": null,
       "grid_template_columns": null,
       "grid_template_rows": null,
       "height": null,
       "justify_content": null,
       "justify_items": null,
       "left": null,
       "margin": null,
       "max_height": null,
       "max_width": null,
       "min_height": null,
       "min_width": null,
       "object_fit": null,
       "object_position": null,
       "order": null,
       "overflow": null,
       "padding": null,
       "right": null,
       "top": null,
       "visibility": null,
       "width": null
      }
     },
     "b7143cfe3c3a466e93376a3d5ab0b9ac": {
      "model_module": "@jupyter-widgets/base",
      "model_module_version": "2.0.0",
      "model_name": "LayoutModel",
      "state": {
       "_model_module": "@jupyter-widgets/base",
       "_model_module_version": "2.0.0",
       "_model_name": "LayoutModel",
       "_view_count": null,
       "_view_module": "@jupyter-widgets/base",
       "_view_module_version": "2.0.0",
       "_view_name": "LayoutView",
       "align_content": null,
       "align_items": null,
       "align_self": null,
       "border_bottom": null,
       "border_left": null,
       "border_right": null,
       "border_top": null,
       "bottom": null,
       "display": null,
       "flex": null,
       "flex_flow": null,
       "grid_area": null,
       "grid_auto_columns": null,
       "grid_auto_flow": null,
       "grid_auto_rows": null,
       "grid_column": null,
       "grid_gap": null,
       "grid_row": null,
       "grid_template_areas": null,
       "grid_template_columns": null,
       "grid_template_rows": null,
       "height": null,
       "justify_content": null,
       "justify_items": null,
       "left": null,
       "margin": null,
       "max_height": null,
       "max_width": null,
       "min_height": null,
       "min_width": null,
       "object_fit": null,
       "object_position": null,
       "order": null,
       "overflow": null,
       "padding": null,
       "right": null,
       "top": null,
       "visibility": null,
       "width": null
      }
     },
     "bac462a883924a219188d5ee3ad2071c": {
      "model_module": "@jupyter-widgets/controls",
      "model_module_version": "2.0.0",
      "model_name": "HTMLModel",
      "state": {
       "_dom_classes": [],
       "_model_module": "@jupyter-widgets/controls",
       "_model_module_version": "2.0.0",
       "_model_name": "HTMLModel",
       "_view_count": null,
       "_view_module": "@jupyter-widgets/controls",
       "_view_module_version": "2.0.0",
       "_view_name": "HTMLView",
       "description": "",
       "description_allow_html": false,
       "layout": "IPY_MODEL_2187d0d16c0348838f41ccaf1346cc85",
       "placeholder": "​",
       "style": "IPY_MODEL_983a2541d7d540b5a33deb95ddff9d6f",
       "tabbable": null,
       "tooltip": null,
       "value": " 100/100 [00:04&lt;00:00, 21.25it/s]"
      }
     },
     "c20e10c8c79248c5bce3e8d651c6fe9f": {
      "model_module": "@jupyter-widgets/controls",
      "model_module_version": "2.0.0",
      "model_name": "HBoxModel",
      "state": {
       "_dom_classes": [],
       "_model_module": "@jupyter-widgets/controls",
       "_model_module_version": "2.0.0",
       "_model_name": "HBoxModel",
       "_view_count": null,
       "_view_module": "@jupyter-widgets/controls",
       "_view_module_version": "2.0.0",
       "_view_name": "HBoxView",
       "box_style": "",
       "children": [
        "IPY_MODEL_370956e1922045b08fc6f7b3c4f26d18",
        "IPY_MODEL_d42f20f5d9384145a845b6f89763c617",
        "IPY_MODEL_bac462a883924a219188d5ee3ad2071c"
       ],
       "layout": "IPY_MODEL_b7143cfe3c3a466e93376a3d5ab0b9ac",
       "tabbable": null,
       "tooltip": null
      }
     },
     "d42f20f5d9384145a845b6f89763c617": {
      "model_module": "@jupyter-widgets/controls",
      "model_module_version": "2.0.0",
      "model_name": "FloatProgressModel",
      "state": {
       "_dom_classes": [],
       "_model_module": "@jupyter-widgets/controls",
       "_model_module_version": "2.0.0",
       "_model_name": "FloatProgressModel",
       "_view_count": null,
       "_view_module": "@jupyter-widgets/controls",
       "_view_module_version": "2.0.0",
       "_view_name": "ProgressView",
       "bar_style": "success",
       "description": "",
       "description_allow_html": false,
       "layout": "IPY_MODEL_72e2b87b6017408abdbf497903b03025",
       "max": 100.0,
       "min": 0.0,
       "orientation": "horizontal",
       "style": "IPY_MODEL_481b5af9480b471a9b0c77f24fcc9715",
       "tabbable": null,
       "tooltip": null,
       "value": 100.0
      }
     },
     "dd3e6de14b9d4b8abf349bef29813200": {
      "model_module": "@jupyter-widgets/controls",
      "model_module_version": "2.0.0",
      "model_name": "FloatProgressModel",
      "state": {
       "_dom_classes": [],
       "_model_module": "@jupyter-widgets/controls",
       "_model_module_version": "2.0.0",
       "_model_name": "FloatProgressModel",
       "_view_count": null,
       "_view_module": "@jupyter-widgets/controls",
       "_view_module_version": "2.0.0",
       "_view_name": "ProgressView",
       "bar_style": "success",
       "description": "",
       "description_allow_html": false,
       "layout": "IPY_MODEL_1e6fcc91fa8943afa87ea6f7d65aae7a",
       "max": 300.0,
       "min": 0.0,
       "orientation": "horizontal",
       "style": "IPY_MODEL_fd2c1ade37144108957ce1efba5661b7",
       "tabbable": null,
       "tooltip": null,
       "value": 300.0
      }
     },
     "dfc8bff23fa849a7bdd244d732e616fb": {
      "model_module": "@jupyter-widgets/base",
      "model_module_version": "2.0.0",
      "model_name": "LayoutModel",
      "state": {
       "_model_module": "@jupyter-widgets/base",
       "_model_module_version": "2.0.0",
       "_model_name": "LayoutModel",
       "_view_count": null,
       "_view_module": "@jupyter-widgets/base",
       "_view_module_version": "2.0.0",
       "_view_name": "LayoutView",
       "align_content": null,
       "align_items": null,
       "align_self": null,
       "border_bottom": null,
       "border_left": null,
       "border_right": null,
       "border_top": null,
       "bottom": null,
       "display": null,
       "flex": null,
       "flex_flow": null,
       "grid_area": null,
       "grid_auto_columns": null,
       "grid_auto_flow": null,
       "grid_auto_rows": null,
       "grid_column": null,
       "grid_gap": null,
       "grid_row": null,
       "grid_template_areas": null,
       "grid_template_columns": null,
       "grid_template_rows": null,
       "height": null,
       "justify_content": null,
       "justify_items": null,
       "left": null,
       "margin": null,
       "max_height": null,
       "max_width": null,
       "min_height": null,
       "min_width": null,
       "object_fit": null,
       "object_position": null,
       "order": null,
       "overflow": null,
       "padding": null,
       "right": null,
       "top": null,
       "visibility": null,
       "width": null
      }
     },
     "f4b0f4f42e2b4b2d9dc2e3a39d0df8fa": {
      "model_module": "@jupyter-widgets/controls",
      "model_module_version": "2.0.0",
      "model_name": "HTMLStyleModel",
      "state": {
       "_model_module": "@jupyter-widgets/controls",
       "_model_module_version": "2.0.0",
       "_model_name": "HTMLStyleModel",
       "_view_count": null,
       "_view_module": "@jupyter-widgets/base",
       "_view_module_version": "2.0.0",
       "_view_name": "StyleView",
       "background": null,
       "description_width": "",
       "font_size": null,
       "text_color": null
      }
     },
     "f86e7dca4ff147d2b3676414e53458b6": {
      "model_module": "@jupyter-widgets/controls",
      "model_module_version": "2.0.0",
      "model_name": "HTMLModel",
      "state": {
       "_dom_classes": [],
       "_model_module": "@jupyter-widgets/controls",
       "_model_module_version": "2.0.0",
       "_model_name": "HTMLModel",
       "_view_count": null,
       "_view_module": "@jupyter-widgets/controls",
       "_view_module_version": "2.0.0",
       "_view_name": "HTMLView",
       "description": "",
       "description_allow_html": false,
       "layout": "IPY_MODEL_0ddb520da7bc46019514716c07015cfb",
       "placeholder": "​",
       "style": "IPY_MODEL_6a38655e2738422d8448a27145ff3da7",
       "tabbable": null,
       "tooltip": null,
       "value": " 300/300 [00:16&lt;00:00, 34.55it/s]"
      }
     },
     "fd2c1ade37144108957ce1efba5661b7": {
      "model_module": "@jupyter-widgets/controls",
      "model_module_version": "2.0.0",
      "model_name": "ProgressStyleModel",
      "state": {
       "_model_module": "@jupyter-widgets/controls",
       "_model_module_version": "2.0.0",
       "_model_name": "ProgressStyleModel",
       "_view_count": null,
       "_view_module": "@jupyter-widgets/base",
       "_view_module_version": "2.0.0",
       "_view_name": "StyleView",
       "bar_color": null,
       "description_width": ""
      }
     }
    },
    "version_major": 2,
    "version_minor": 0
   }
  }
 },
 "nbformat": 4,
 "nbformat_minor": 5
}