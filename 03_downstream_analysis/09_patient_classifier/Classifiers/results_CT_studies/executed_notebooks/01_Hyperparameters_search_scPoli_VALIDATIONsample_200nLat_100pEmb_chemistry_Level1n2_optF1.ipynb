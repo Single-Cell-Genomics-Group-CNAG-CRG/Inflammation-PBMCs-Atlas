{
 "cells": [
  {
   "cell_type": "code",
   "execution_count": 1,
   "id": "bdddbb9e",
   "metadata": {
    "execution": {
     "iopub.execute_input": "2024-07-07T13:50:22.465392Z",
     "iopub.status.busy": "2024-07-07T13:50:22.465243Z",
     "iopub.status.idle": "2024-07-07T13:50:22.468426Z",
     "shell.execute_reply": "2024-07-07T13:50:22.468122Z"
    },
    "papermill": {
     "duration": 0.014076,
     "end_time": "2024-07-07T13:50:22.469236",
     "exception": false,
     "start_time": "2024-07-07T13:50:22.455160",
     "status": "completed"
    },
    "tags": [
     "injected-parameters"
    ]
   },
   "outputs": [],
   "source": [
    "# Parameters\n",
    "query_dataset = \"VALIDATION\"\n",
    "n_embedded = 200\n",
    "n_Patient_embedded = 100\n",
    "embSpace = \"sample\"\n",
    "integration_method = \"scPoli\"\n",
    "batch = \"chemistry\"\n",
    "annotation = \"Level1n2\"\n",
    "REFERENCEadata_path = \"03_downstream_analysis/08_PatientClassifier/scPoli/results/PSEUDOBULKs/scPoli_PSEUDOBULKsample_ref_latents_VALIDATION_2_200_100_*.h5ad\"\n",
    "QUERYNadata_path = \"03_downstream_analysis/08_PatientClassifier/scPoli/results/PSEUDOBULKs/scPoli_PSEUDOBULKsample_VALIDATION_2_200_100_*.h5ad\"\n",
    "optimization_metric = \"F1\"\n",
    "n_job = 32\n"
   ]
  },
  {
   "cell_type": "raw",
   "id": "8006df31-f699-4d7c-be82-be75bd4e65b5",
   "metadata": {
    "execution": {
     "iopub.execute_input": "2024-07-07T12:47:25.237809Z",
     "iopub.status.busy": "2024-07-07T12:47:25.237662Z",
     "iopub.status.idle": "2024-07-07T12:47:25.241185Z",
     "shell.execute_reply": "2024-07-07T12:47:25.240733Z",
     "shell.execute_reply.started": "2024-07-07T12:47:25.237792Z"
    },
    "papermill": {
     "duration": 0.010365,
     "end_time": "2024-07-07T13:50:22.487790",
     "exception": false,
     "start_time": "2024-07-07T13:50:22.477425",
     "status": "completed"
    },
    "tags": []
   },
   "source": [
    "query_dataset = 'VALIDATION'\n",
    "\n",
    "integration_method = \"scANVIkNN\"\n",
    "\n",
    "n_embedded = 30\n",
    "batch = \"chemistry\"\n",
    "annotation = \"Level2\"\n",
    "n_Patient_embedded = 0\n",
    "embSpace = 'cell'\n",
    "\n",
    "REFERENCEadata_path = \"03_downstream_analysis/08_PatientClassifier/scANVI/results/PSEUDOBULKs/scANVI_PSEUDOBULK_reference_EXTERNAL_256_30_Level2_*.h5ad\"\n",
    "QUERYNadata_path = \"03_downstream_analysis/08_PatientClassifier/scANVI/results/PSEUDOBULKs/scANVI_PSEUDOBULK_kNN_query_VALIDATION_256_30_Level2_*.h5ad\"\n",
    "\n",
    "optimization_metric = 'F1'\n",
    "\n",
    "n_job = 50"
   ]
  },
  {
   "cell_type": "code",
   "execution_count": 2,
   "id": "0fcb96fe-1ddc-4da2-95ac-e91752904818",
   "metadata": {
    "execution": {
     "iopub.execute_input": "2024-07-07T13:50:22.507078Z",
     "iopub.status.busy": "2024-07-07T13:50:22.506572Z",
     "iopub.status.idle": "2024-07-07T13:50:22.510593Z",
     "shell.execute_reply": "2024-07-07T13:50:22.510170Z"
    },
    "papermill": {
     "duration": 0.01403,
     "end_time": "2024-07-07T13:50:22.511459",
     "exception": false,
     "start_time": "2024-07-07T13:50:22.497429",
     "status": "completed"
    },
    "tags": []
   },
   "outputs": [
    {
     "name": "stdout",
     "output_type": "stream",
     "text": [
      "REFERENCEadata_path = 03_downstream_analysis/08_PatientClassifier/scPoli/results/PSEUDOBULKs/scPoli_PSEUDOBULKsample_ref_latents_VALIDATION_2_200_100_*.h5ad\n",
      "QUERYNadata_path = 03_downstream_analysis/08_PatientClassifier/scPoli/results/PSEUDOBULKs/scPoli_PSEUDOBULKsample_VALIDATION_2_200_100_*.h5ad\n",
      "query_dataset = VALIDATION\n",
      "integration_method = scPoli\n",
      "embSpace = sample\n",
      "n_embedded = 200\n",
      "n_Patient_embedded = 100\n",
      "batch = chemistry\n",
      "annotation = Level1n2\n",
      "optimization_metric = F1\n",
      "n_job = 32\n"
     ]
    }
   ],
   "source": [
    "for v in ['REFERENCEadata_path','QUERYNadata_path','query_dataset','integration_method',\n",
    "          'embSpace','n_embedded','n_Patient_embedded','batch','annotation','optimization_metric','n_job']:\n",
    "    if v in locals() or v in globals():\n",
    "        print(f\"{v} = {eval(v)}\", end='\\n')\n",
    "    else:\n",
    "        raise ValueError(f\"{v} is not defined\")"
   ]
  },
  {
   "cell_type": "code",
   "execution_count": 3,
   "id": "758cad27-6850-48ef-a1a2-31b4515a2452",
   "metadata": {
    "execution": {
     "iopub.execute_input": "2024-07-07T13:50:22.528038Z",
     "iopub.status.busy": "2024-07-07T13:50:22.527861Z",
     "iopub.status.idle": "2024-07-07T13:50:24.873237Z",
     "shell.execute_reply": "2024-07-07T13:50:24.872828Z"
    },
    "papermill": {
     "duration": 2.355449,
     "end_time": "2024-07-07T13:50:24.874660",
     "exception": false,
     "start_time": "2024-07-07T13:50:22.519211",
     "status": "completed"
    },
    "tags": []
   },
   "outputs": [],
   "source": [
    "import os\n",
    "\n",
    "from glob import glob\n",
    "\n",
    "import optuna as op\n",
    "\n",
    "from optuna.samplers import TPESampler, BruteForceSampler\n",
    "\n",
    "import scanpy as sc\n",
    "import pandas as pd\n",
    "import matplotlib.pyplot as plt\n",
    "\n",
    "import joblib\n",
    "\n",
    "\n",
    "from sklearn.svm import LinearSVC, SVC\n",
    "from sklearn.neighbors import KNeighborsClassifier\n",
    "\n",
    "from sklearn.preprocessing import StandardScaler\n",
    "from sklearn.metrics import f1_score, balanced_accuracy_score, matthews_corrcoef\n",
    "\n",
    "from pyprojroot import here\n",
    "\n",
    "from tqdm import tqdm"
   ]
  },
  {
   "cell_type": "code",
   "execution_count": 4,
   "id": "c201d383-ff56-4311-a9bf-f2486358f2ec",
   "metadata": {
    "execution": {
     "iopub.execute_input": "2024-07-07T13:50:24.892570Z",
     "iopub.status.busy": "2024-07-07T13:50:24.891839Z",
     "iopub.status.idle": "2024-07-07T13:50:24.894819Z",
     "shell.execute_reply": "2024-07-07T13:50:24.894498Z"
    },
    "papermill": {
     "duration": 0.011683,
     "end_time": "2024-07-07T13:50:24.895571",
     "exception": false,
     "start_time": "2024-07-07T13:50:24.883888",
     "status": "completed"
    },
    "tags": []
   },
   "outputs": [],
   "source": [
    "op.logging.set_verbosity(op.logging.WARNING)"
   ]
  },
  {
   "cell_type": "code",
   "execution_count": 5,
   "id": "3d348e24-3245-402c-9e8d-cf79ab5c3fa8",
   "metadata": {
    "execution": {
     "iopub.execute_input": "2024-07-07T13:50:24.912698Z",
     "iopub.status.busy": "2024-07-07T13:50:24.912272Z",
     "iopub.status.idle": "2024-07-07T13:50:24.914287Z",
     "shell.execute_reply": "2024-07-07T13:50:24.913993Z"
    },
    "papermill": {
     "duration": 0.010782,
     "end_time": "2024-07-07T13:50:24.915044",
     "exception": false,
     "start_time": "2024-07-07T13:50:24.904262",
     "status": "completed"
    },
    "tags": []
   },
   "outputs": [],
   "source": [
    "random_seed = 42"
   ]
  },
  {
   "cell_type": "code",
   "execution_count": 6,
   "id": "baee6c9e-adc2-48ad-9bce-cb0ed1b9fb74",
   "metadata": {
    "execution": {
     "iopub.execute_input": "2024-07-07T13:50:24.932063Z",
     "iopub.status.busy": "2024-07-07T13:50:24.931629Z",
     "iopub.status.idle": "2024-07-07T13:50:24.941483Z",
     "shell.execute_reply": "2024-07-07T13:50:24.941186Z"
    },
    "papermill": {
     "duration": 0.018425,
     "end_time": "2024-07-07T13:50:24.942252",
     "exception": false,
     "start_time": "2024-07-07T13:50:24.923827",
     "status": "completed"
    },
    "tags": []
   },
   "outputs": [],
   "source": [
    "mainDir=here('03_downstream_analysis/08_PatientClassifier/Classifiers/results_CT_studies/')"
   ]
  },
  {
   "cell_type": "markdown",
   "id": "b4709398-98b6-4f04-be56-d70e5dd0a7a0",
   "metadata": {
    "papermill": {
     "duration": 0.008078,
     "end_time": "2024-07-07T13:50:24.961003",
     "exception": false,
     "start_time": "2024-07-07T13:50:24.952925",
     "status": "completed"
    },
    "tags": []
   },
   "source": [
    "### Defining functions"
   ]
  },
  {
   "cell_type": "code",
   "execution_count": 7,
   "id": "81d6ddc9-2554-463a-84db-b7e9cf9c98da",
   "metadata": {
    "execution": {
     "iopub.execute_input": "2024-07-07T13:50:24.981410Z",
     "iopub.status.busy": "2024-07-07T13:50:24.981136Z",
     "iopub.status.idle": "2024-07-07T13:50:24.988727Z",
     "shell.execute_reply": "2024-07-07T13:50:24.988424Z"
    },
    "papermill": {
     "duration": 0.01726,
     "end_time": "2024-07-07T13:50:24.989485",
     "exception": false,
     "start_time": "2024-07-07T13:50:24.972225",
     "status": "completed"
    },
    "tags": []
   },
   "outputs": [],
   "source": [
    "def _most_frequent_or_na(row):\n",
    "    mode = row.mode()\n",
    "    if len(mode) > 1:\n",
    "        return 'nan'\n",
    "    else:\n",
    "        return mode.iloc[0]\n",
    "            \n",
    "class CellTypeDiseasePrediction():\n",
    "        \n",
    "    def __init__(self, clf_params, classifier, cell_type, y_true_col='disease', sample_id_col='sampleID'):\n",
    "        self.clf_params = clf_params\n",
    "        self.classifier = classifier\n",
    "        self.ct = cell_type\n",
    "        self.y_true_col = y_true_col\n",
    "        self.sample_id_col = sample_id_col\n",
    "        self.clfs = {}\n",
    "        self.use_scaler = self.clf_params.pop('scaler')\n",
    "        #self.le = LabelEncoder()\n",
    "        \n",
    "    def fit(self, adataTrain):\n",
    "\n",
    "    \n",
    "        #adataTrain.obs.loc[:,self.y_true_col] = self.le.fit_transform(adataTrain.obs[self.y_true_col])\n",
    "        \n",
    "        X_train = adataTrain.X\n",
    "        y_train = adataTrain.obs[self.y_true_col]\n",
    "\n",
    "        if self.use_scaler:\n",
    "            self.scaler = StandardScaler().fit(X_train)\n",
    "            X_train = self.scaler.transform(X_train)\n",
    "   \n",
    "        self.clfs = self.classifier(**self.clf_params).fit(X_train, y_train)\n",
    "\n",
    "        return self\n",
    "\n",
    "    def predict(self, adataVal, y_true_col='disease'):\n",
    "\n",
    "        #adataVal.obs.loc[:,y_true_col] = self.le.transform(adataVal.obs[y_true_col])\n",
    "        \n",
    "        cell_type_pred = []\n",
    "        \n",
    "        X_val = adataVal.X\n",
    "\n",
    "        if self.use_scaler:\n",
    "            X_val = self.scaler.transform(X_val)\n",
    "        \n",
    "        y_pred = self.clfs.predict(X_val)\n",
    "\n",
    "        cell_type_pred = pd.DataFrame({self.sample_id_col: adataVal.obs[self.sample_id_col],\n",
    "                                       self.y_true_col: adataVal.obs[self.y_true_col],\n",
    "                                       f'disease_pred_{self.ct}': y_pred}).set_index(self.sample_id_col)\n",
    "\n",
    "        \n",
    "        # cell_type_pred['disease_pred'] = cell_type_pred.apply(_most_frequent_or_na, axis=1)\n",
    "\n",
    "        # cell_type_pred_merged = cell_type_pred.merge(adataVal.obs.groupby([self.sample_id_col], observed=True).agg({y_true_col:'first'}), \n",
    "        #                                              left_index=True, \n",
    "        #                                              right_index=True)\n",
    "        \n",
    "\n",
    "        return cell_type_pred\n",
    "\n",
    "class VotingDisease():\n",
    "    \n",
    "    def __init__(self, classifier = None, cell_type_studies = None, fixed_params = None, \n",
    "                 cell_type_col = 'Level1', sample_id_col = 'sampleID', y_true_col = 'disease'):\n",
    "        \n",
    "        self.fixed_params = fixed_params\n",
    "        self.classifier = classifier\n",
    "        self.ct_studies = cell_type_studies\n",
    "        self.cell_type_col = cell_type_col \n",
    "        self.y_true_col = y_true_col\n",
    "        self.sample_id_col = sample_id_col\n",
    "        self.clfs = {}\n",
    "\n",
    "    def fit(self, adataR = None):\n",
    "        \n",
    "        for ct_i in self.ct_studies.keys(): \n",
    "    \n",
    "            adataR_ct = adataR[adataR.obs[cell_type_col] == ct_i]\n",
    "            # adataQ_ct = adataQ[adataQ.obs[cell_type_col] == ct_i]\n",
    "        \n",
    "            clf_params = self.fixed_params | self.ct_studies[ct_i].best_trial.params\n",
    "        \n",
    "            self.clfs[ct_i] = (CellTypeDiseasePrediction(clf_params=clf_params, \n",
    "                                                         classifier=self.classifier, \n",
    "                                                         cell_type = ct_i, \n",
    "                                                         sample_id_col=self.sample_id_col, \n",
    "                                                         y_true_col = self.y_true_col)\n",
    "                                .fit(adataR_ct))\n",
    "        return self\n",
    "            \n",
    "    def predict(self, adataQ = None):\n",
    "        \n",
    "        y_pred_query_list = []\n",
    "        \n",
    "        for ct_i in self.ct_studies.keys(): \n",
    "    \n",
    "            adataQ_ct = adataQ[adataQ.obs[self.cell_type_col] == ct_i]\n",
    "        \n",
    "            y_pred_query_list.append(self.clfs[ct_i].predict(adataQ_ct, y_true_col = self.y_true_col).iloc[:,1])\n",
    "        \n",
    "        cellType_prediction_df = pd.concat(y_pred_query_list, axis=1, ignore_index=False, join='outer')\n",
    "        cellType_prediction_df['majority_pred'] = cellType_prediction_df.apply(_most_frequent_or_na, axis=1)\n",
    "\n",
    "        cellType_prediction_df = (cellType_prediction_df.merge(adataQ.obs[[self.sample_id_col, self.y_true_col]].drop_duplicates(), \n",
    "                                                               left_index = True, right_on = self.sample_id_col)\n",
    "                                  .set_index(self.sample_id_col))\n",
    "\n",
    "        return cellType_prediction_df"
   ]
  },
  {
   "cell_type": "markdown",
   "id": "54b0d7a6-9bc6-4ffe-b86d-475a6b391906",
   "metadata": {
    "papermill": {
     "duration": 0.00768,
     "end_time": "2024-07-07T13:50:25.005877",
     "exception": false,
     "start_time": "2024-07-07T13:50:24.998197",
     "status": "completed"
    },
    "tags": []
   },
   "source": [
    "### Loading data"
   ]
  },
  {
   "cell_type": "code",
   "execution_count": 8,
   "id": "8fa540e1-0656-4287-a0eb-0d4110e3a3bf",
   "metadata": {
    "execution": {
     "iopub.execute_input": "2024-07-07T13:50:25.022356Z",
     "iopub.status.busy": "2024-07-07T13:50:25.021930Z",
     "iopub.status.idle": "2024-07-07T13:50:25.147225Z",
     "shell.execute_reply": "2024-07-07T13:50:25.146820Z"
    },
    "papermill": {
     "duration": 0.134562,
     "end_time": "2024-07-07T13:50:25.148099",
     "exception": false,
     "start_time": "2024-07-07T13:50:25.013537",
     "status": "completed"
    },
    "tags": []
   },
   "outputs": [
    {
     "name": "stdout",
     "output_type": "stream",
     "text": [
      "scPoli_PSEUDOBULKsample_ref_latents_VALIDATION_2_200_100_run2_0k28gnqw.h5ad\n",
      "scPoli_PSEUDOBULKsample_VALIDATION_2_200_100_run2_0k28gnqw.h5ad\n"
     ]
    }
   ],
   "source": [
    "adataPathList = glob(str(here(REFERENCEadata_path)))\n",
    "if len(adataPathList) != 1:\n",
    "    print(adataPathList)\n",
    "    raise ValueError(f\"{adataPathList} adata not found\")\n",
    "else:\n",
    "    print(os.path.basename(adataPathList[0]))\n",
    "    REFERENCEpseudobulk = sc.read_h5ad(adataPathList[0])\n",
    "\n",
    "adataPathList = glob(str(here(QUERYNadata_path)))\n",
    "if len(adataPathList) != 1:\n",
    "    print(adataPathList)\n",
    "    raise ValueError(f\"adata not found\")\n",
    "else:\n",
    "    print(os.path.basename(adataPathList[0]))\n",
    "    QUERYpseudobulk = sc.read_h5ad(adataPathList[0])"
   ]
  },
  {
   "cell_type": "code",
   "execution_count": 9,
   "id": "34f17857-6896-4ec0-b8df-f349a0f4b563",
   "metadata": {
    "execution": {
     "iopub.execute_input": "2024-07-07T13:50:25.165369Z",
     "iopub.status.busy": "2024-07-07T13:50:25.165160Z",
     "iopub.status.idle": "2024-07-07T13:50:25.168737Z",
     "shell.execute_reply": "2024-07-07T13:50:25.168326Z"
    },
    "papermill": {
     "duration": 0.013002,
     "end_time": "2024-07-07T13:50:25.169482",
     "exception": false,
     "start_time": "2024-07-07T13:50:25.156480",
     "status": "completed"
    },
    "tags": []
   },
   "outputs": [],
   "source": [
    "# Renaiming 'Level1_pred' in scGen query datasets for consistency\n",
    "# and assert that 'disease' is in obs\n",
    "for ad_i in [REFERENCEpseudobulk,QUERYpseudobulk]:\n",
    "    ad_i.obs.rename({'Level1_pred':'Level1'},axis=1,inplace=True)\n",
    "    assert('disease' in ad_i.obs.columns)"
   ]
  },
  {
   "cell_type": "code",
   "execution_count": 10,
   "id": "dedd1921-9e34-40a4-aa1e-e1936b7f6ec8",
   "metadata": {
    "execution": {
     "iopub.execute_input": "2024-07-07T13:50:25.189638Z",
     "iopub.status.busy": "2024-07-07T13:50:25.189151Z",
     "iopub.status.idle": "2024-07-07T13:50:25.194219Z",
     "shell.execute_reply": "2024-07-07T13:50:25.193877Z"
    },
    "papermill": {
     "duration": 0.017133,
     "end_time": "2024-07-07T13:50:25.194989",
     "exception": false,
     "start_time": "2024-07-07T13:50:25.177856",
     "status": "completed"
    },
    "tags": []
   },
   "outputs": [
    {
     "data": {
      "text/plain": [
       "(AnnData object with n_obs × n_vars = 817 × 100\n",
       "     obs: 'sampleID', 'disease', 'Level1',\n",
       " AnnData object with n_obs × n_vars = 144 × 100\n",
       "     obs: 'sampleID', 'disease', 'Level1')"
      ]
     },
     "execution_count": 10,
     "metadata": {},
     "output_type": "execute_result"
    }
   ],
   "source": [
    "REFERENCEpseudobulk, QUERYpseudobulk"
   ]
  },
  {
   "cell_type": "code",
   "execution_count": 11,
   "id": "8b0a8658-f139-4b55-8da0-bd8fe7459e43",
   "metadata": {
    "execution": {
     "iopub.execute_input": "2024-07-07T13:50:25.214514Z",
     "iopub.status.busy": "2024-07-07T13:50:25.214319Z",
     "iopub.status.idle": "2024-07-07T13:50:25.217942Z",
     "shell.execute_reply": "2024-07-07T13:50:25.217641Z"
    },
    "papermill": {
     "duration": 0.015451,
     "end_time": "2024-07-07T13:50:25.218697",
     "exception": false,
     "start_time": "2024-07-07T13:50:25.203246",
     "status": "completed"
    },
    "tags": []
   },
   "outputs": [
    {
     "data": {
      "text/plain": [
       "['RA', 'PSA', 'CD', 'PS', 'HNSCC', 'healthy', 'SLE', 'COVID', 'sepsis']"
      ]
     },
     "execution_count": 11,
     "metadata": {},
     "output_type": "execute_result"
    }
   ],
   "source": [
    "QUERYpseudobulk.obs.disease.unique().tolist()"
   ]
  },
  {
   "cell_type": "code",
   "execution_count": 12,
   "id": "921bbbc6-1c59-4e41-8460-6f4b51fe5367",
   "metadata": {
    "execution": {
     "iopub.execute_input": "2024-07-07T13:50:25.235514Z",
     "iopub.status.busy": "2024-07-07T13:50:25.235320Z",
     "iopub.status.idle": "2024-07-07T13:50:25.238099Z",
     "shell.execute_reply": "2024-07-07T13:50:25.237803Z"
    },
    "papermill": {
     "duration": 0.012067,
     "end_time": "2024-07-07T13:50:25.238856",
     "exception": false,
     "start_time": "2024-07-07T13:50:25.226789",
     "status": "completed"
    },
    "tags": []
   },
   "outputs": [
    {
     "data": {
      "text/plain": [
       "(144,)"
      ]
     },
     "execution_count": 12,
     "metadata": {},
     "output_type": "execute_result"
    }
   ],
   "source": [
    "QUERYpseudobulk.obs.sampleID.unique().shape"
   ]
  },
  {
   "cell_type": "markdown",
   "id": "47a24343-38f0-4d9b-85e5-96b191b9d493",
   "metadata": {
    "papermill": {
     "duration": 0.00889,
     "end_time": "2024-07-07T13:50:25.255850",
     "exception": false,
     "start_time": "2024-07-07T13:50:25.246960",
     "status": "completed"
    },
    "tags": []
   },
   "source": [
    "### Removing unwanted cell-types"
   ]
  },
  {
   "cell_type": "code",
   "execution_count": 13,
   "id": "33d021b8-257a-4a18-b995-fe93a2ef1563",
   "metadata": {
    "execution": {
     "iopub.execute_input": "2024-07-07T13:50:25.272529Z",
     "iopub.status.busy": "2024-07-07T13:50:25.272251Z",
     "iopub.status.idle": "2024-07-07T13:50:25.279385Z",
     "shell.execute_reply": "2024-07-07T13:50:25.279081Z"
    },
    "papermill": {
     "duration": 0.016201,
     "end_time": "2024-07-07T13:50:25.280153",
     "exception": false,
     "start_time": "2024-07-07T13:50:25.263952",
     "status": "completed"
    },
    "tags": []
   },
   "outputs": [],
   "source": [
    "REFERENCEpseudobulkFilt = REFERENCEpseudobulk[~REFERENCEpseudobulk.obs['Level1'].isin(['Progenitors','Cycling_cells','Platelets','RBC'])].copy()\n",
    "QUERYpseudobulkFilt = QUERYpseudobulk[~QUERYpseudobulk.obs['Level1'].isin(['Progenitors','Cycling_cells','Platelets','RBC'])].copy()"
   ]
  },
  {
   "cell_type": "code",
   "execution_count": 14,
   "id": "aed927b0-478b-470d-9ed1-af7312f7ed63",
   "metadata": {
    "execution": {
     "iopub.execute_input": "2024-07-07T13:50:25.299876Z",
     "iopub.status.busy": "2024-07-07T13:50:25.299463Z",
     "iopub.status.idle": "2024-07-07T13:50:25.302235Z",
     "shell.execute_reply": "2024-07-07T13:50:25.301942Z"
    },
    "papermill": {
     "duration": 0.012122,
     "end_time": "2024-07-07T13:50:25.302980",
     "exception": false,
     "start_time": "2024-07-07T13:50:25.290858",
     "status": "completed"
    },
    "tags": []
   },
   "outputs": [
    {
     "data": {
      "text/plain": [
       "(AnnData object with n_obs × n_vars = 817 × 100\n",
       "     obs: 'sampleID', 'disease', 'Level1',\n",
       " AnnData object with n_obs × n_vars = 144 × 100\n",
       "     obs: 'sampleID', 'disease', 'Level1')"
      ]
     },
     "execution_count": 14,
     "metadata": {},
     "output_type": "execute_result"
    }
   ],
   "source": [
    "REFERENCEpseudobulkFilt, QUERYpseudobulk"
   ]
  },
  {
   "cell_type": "code",
   "execution_count": 15,
   "id": "d8c4be96-7453-42c7-97a7-f96114bf4675",
   "metadata": {
    "execution": {
     "iopub.execute_input": "2024-07-07T13:50:25.320802Z",
     "iopub.status.busy": "2024-07-07T13:50:25.320425Z",
     "iopub.status.idle": "2024-07-07T13:50:25.323190Z",
     "shell.execute_reply": "2024-07-07T13:50:25.322900Z"
    },
    "papermill": {
     "duration": 0.012839,
     "end_time": "2024-07-07T13:50:25.323935",
     "exception": false,
     "start_time": "2024-07-07T13:50:25.311096",
     "status": "completed"
    },
    "tags": []
   },
   "outputs": [],
   "source": [
    "REFERENCEpseudobulkFilt.obs['disease'] = REFERENCEpseudobulkFilt.obs['disease'].astype(str)"
   ]
  },
  {
   "cell_type": "markdown",
   "id": "4a7d77e0-16f6-47e7-affd-a93d5d242126",
   "metadata": {
    "papermill": {
     "duration": 0.008483,
     "end_time": "2024-07-07T13:50:25.341013",
     "exception": false,
     "start_time": "2024-07-07T13:50:25.332530",
     "status": "completed"
    },
    "tags": []
   },
   "source": [
    "## Input data and main parameters"
   ]
  },
  {
   "cell_type": "code",
   "execution_count": 16,
   "id": "5c42d3fb-0517-448d-a180-8d7033bb5066",
   "metadata": {
    "execution": {
     "iopub.execute_input": "2024-07-07T13:50:25.358159Z",
     "iopub.status.busy": "2024-07-07T13:50:25.357901Z",
     "iopub.status.idle": "2024-07-07T13:50:25.359962Z",
     "shell.execute_reply": "2024-07-07T13:50:25.359642Z"
    },
    "papermill": {
     "duration": 0.011372,
     "end_time": "2024-07-07T13:50:25.360714",
     "exception": false,
     "start_time": "2024-07-07T13:50:25.349342",
     "status": "completed"
    },
    "tags": []
   },
   "outputs": [],
   "source": [
    "cell_type_col='Level1'\n",
    "y_true_col='disease'\n",
    "sample_id_col='sampleID'"
   ]
  },
  {
   "cell_type": "markdown",
   "id": "86308030-1270-4cc8-8a92-1fbeb9f85e1e",
   "metadata": {
    "papermill": {
     "duration": 0.008272,
     "end_time": "2024-07-07T13:50:25.378599",
     "exception": false,
     "start_time": "2024-07-07T13:50:25.370327",
     "status": "completed"
    },
    "tags": []
   },
   "source": [
    "**Initialize pandas dataframe to collect results**"
   ]
  },
  {
   "cell_type": "code",
   "execution_count": 17,
   "id": "530355ab-1443-460c-a977-2e8e91225953",
   "metadata": {
    "execution": {
     "iopub.execute_input": "2024-07-07T13:50:25.396429Z",
     "iopub.status.busy": "2024-07-07T13:50:25.396223Z",
     "iopub.status.idle": "2024-07-07T13:50:25.404040Z",
     "shell.execute_reply": "2024-07-07T13:50:25.403746Z"
    },
    "papermill": {
     "duration": 0.017297,
     "end_time": "2024-07-07T13:50:25.404791",
     "exception": false,
     "start_time": "2024-07-07T13:50:25.387494",
     "status": "completed"
    },
    "tags": []
   },
   "outputs": [
    {
     "data": {
      "text/html": [
       "<div>\n",
       "<style scoped>\n",
       "    .dataframe tbody tr th:only-of-type {\n",
       "        vertical-align: middle;\n",
       "    }\n",
       "\n",
       "    .dataframe tbody tr th {\n",
       "        vertical-align: top;\n",
       "    }\n",
       "\n",
       "    .dataframe thead th {\n",
       "        text-align: right;\n",
       "    }\n",
       "</style>\n",
       "<table border=\"1\" class=\"dataframe\">\n",
       "  <thead>\n",
       "    <tr style=\"text-align: right;\">\n",
       "      <th></th>\n",
       "      <th>integration_method</th>\n",
       "      <th>embedded_space</th>\n",
       "      <th>n_embedded</th>\n",
       "      <th>n_Patient_embedded</th>\n",
       "      <th>batchKeys</th>\n",
       "      <th>annotation</th>\n",
       "      <th>classification_method</th>\n",
       "      <th>VALIDATION_F1</th>\n",
       "      <th>VALIDATION_BAS</th>\n",
       "      <th>VALIDATION_MCC</th>\n",
       "      <th>VALIDATION_TRAIN_F1</th>\n",
       "    </tr>\n",
       "  </thead>\n",
       "  <tbody>\n",
       "  </tbody>\n",
       "</table>\n",
       "</div>"
      ],
      "text/plain": [
       "Empty DataFrame\n",
       "Columns: [integration_method, embedded_space, n_embedded, n_Patient_embedded, batchKeys, annotation, classification_method, VALIDATION_F1, VALIDATION_BAS, VALIDATION_MCC, VALIDATION_TRAIN_F1]\n",
       "Index: []"
      ]
     },
     "execution_count": 17,
     "metadata": {},
     "output_type": "execute_result"
    }
   ],
   "source": [
    "METRICdf = pd.DataFrame(columns=['integration_method','embedded_space','n_embedded','n_Patient_embedded','batchKeys','annotation',\n",
    "                      'classification_method',f'{query_dataset}_F1',f'{query_dataset}_BAS',f'{query_dataset}_MCC', f'{query_dataset}_TRAIN_F1'])\n",
    "METRICdf"
   ]
  },
  {
   "cell_type": "markdown",
   "id": "bf4ebdcc-4895-4f1f-8f4c-721603c909c2",
   "metadata": {
    "papermill": {
     "duration": 0.00851,
     "end_time": "2024-07-07T13:50:25.422022",
     "exception": false,
     "start_time": "2024-07-07T13:50:25.413512",
     "status": "completed"
    },
    "tags": []
   },
   "source": [
    "### Hyper parameter tuning and classification\n",
    "\n",
    "The aim is to define the best classifier and its corresponding hyper-parameters using **MAIN adata** as train dataset and **VALIDATION adata** as validation.\n",
    "\n",
    "Then, with the best model/setting for each model family (i.e., SVC, kNN, NN, GBM) we will classify samples in VALIDATION, EXCLUDED and EXTERNAL datasets"
   ]
  },
  {
   "cell_type": "code",
   "execution_count": 18,
   "id": "5e79071a-6f5e-4b72-8650-3cb97d0de1d1",
   "metadata": {
    "execution": {
     "iopub.execute_input": "2024-07-07T13:50:25.439578Z",
     "iopub.status.busy": "2024-07-07T13:50:25.439378Z",
     "iopub.status.idle": "2024-07-07T13:50:25.441398Z",
     "shell.execute_reply": "2024-07-07T13:50:25.441110Z"
    },
    "papermill": {
     "duration": 0.011657,
     "end_time": "2024-07-07T13:50:25.442134",
     "exception": false,
     "start_time": "2024-07-07T13:50:25.430477",
     "status": "completed"
    },
    "tags": []
   },
   "outputs": [],
   "source": [
    "from sklearn.model_selection import StratifiedKFold"
   ]
  },
  {
   "cell_type": "code",
   "execution_count": 19,
   "id": "814840dd-0c10-4f56-9ea7-242d0ce92ccf",
   "metadata": {
    "execution": {
     "iopub.execute_input": "2024-07-07T13:50:25.463271Z",
     "iopub.status.busy": "2024-07-07T13:50:25.462921Z",
     "iopub.status.idle": "2024-07-07T13:50:25.465112Z",
     "shell.execute_reply": "2024-07-07T13:50:25.464828Z"
    },
    "papermill": {
     "duration": 0.01525,
     "end_time": "2024-07-07T13:50:25.465859",
     "exception": false,
     "start_time": "2024-07-07T13:50:25.450609",
     "status": "completed"
    },
    "tags": []
   },
   "outputs": [],
   "source": [
    "sKf = StratifiedKFold(n_splits = 5)"
   ]
  },
  {
   "cell_type": "code",
   "execution_count": 20,
   "id": "6e8b2c94-b76f-4100-8d44-2f9e8accf709",
   "metadata": {
    "execution": {
     "iopub.execute_input": "2024-07-07T13:50:25.484487Z",
     "iopub.status.busy": "2024-07-07T13:50:25.484082Z",
     "iopub.status.idle": "2024-07-07T13:50:25.488439Z",
     "shell.execute_reply": "2024-07-07T13:50:25.488153Z"
    },
    "papermill": {
     "duration": 0.014519,
     "end_time": "2024-07-07T13:50:25.489182",
     "exception": false,
     "start_time": "2024-07-07T13:50:25.474663",
     "status": "completed"
    },
    "tags": []
   },
   "outputs": [],
   "source": [
    "Pdata = REFERENCEpseudobulkFilt.obs.groupby(sample_id_col, observed=True).agg({y_true_col:'first'}).reset_index()"
   ]
  },
  {
   "cell_type": "code",
   "execution_count": 21,
   "id": "2a76174e-7528-422b-9143-728110106081",
   "metadata": {
    "execution": {
     "iopub.execute_input": "2024-07-07T13:50:25.507055Z",
     "iopub.status.busy": "2024-07-07T13:50:25.506885Z",
     "iopub.status.idle": "2024-07-07T13:50:25.510181Z",
     "shell.execute_reply": "2024-07-07T13:50:25.509891Z"
    },
    "papermill": {
     "duration": 0.013366,
     "end_time": "2024-07-07T13:50:25.510957",
     "exception": false,
     "start_time": "2024-07-07T13:50:25.497591",
     "status": "completed"
    },
    "tags": []
   },
   "outputs": [],
   "source": [
    "KfoldPatientSplit = list(sKf.split(X = Pdata[sample_id_col], y=Pdata[y_true_col]))"
   ]
  },
  {
   "cell_type": "markdown",
   "id": "ad885d57-52eb-4db4-9043-23de6a1a9094",
   "metadata": {
    "papermill": {
     "duration": 0.008662,
     "end_time": "2024-07-07T13:50:25.528443",
     "exception": false,
     "start_time": "2024-07-07T13:50:25.519781",
     "status": "completed"
    },
    "tags": []
   },
   "source": [
    "#### LinearSVC"
   ]
  },
  {
   "cell_type": "code",
   "execution_count": 22,
   "id": "1aa57011-6514-47e0-bd14-25aafcb675a3",
   "metadata": {
    "execution": {
     "iopub.execute_input": "2024-07-07T13:50:25.546325Z",
     "iopub.status.busy": "2024-07-07T13:50:25.546192Z",
     "iopub.status.idle": "2024-07-07T13:51:55.939152Z",
     "shell.execute_reply": "2024-07-07T13:51:55.938668Z"
    },
    "papermill": {
     "duration": 90.402976,
     "end_time": "2024-07-07T13:51:55.940102",
     "exception": false,
     "start_time": "2024-07-07T13:50:25.537126",
     "status": "completed"
    },
    "tags": []
   },
   "outputs": [
    {
     "name": "stdout",
     "output_type": "stream",
     "text": [
      "\n",
      "sample\n"
     ]
    },
    {
     "data": {
      "application/vnd.jupyter.widget-view+json": {
       "model_id": "0907ba577e5242f7a85d40e9f33f07a9",
       "version_major": 2,
       "version_minor": 0
      },
      "text/plain": [
       "  0%|          | 0/100 [00:00<?, ?it/s]"
      ]
     },
     "metadata": {},
     "output_type": "display_data"
    },
    {
     "name": "stderr",
     "output_type": "stream",
     "text": [
      "/scratch_isilon/groups/singlecell/shared/conda_env/optuna/lib/python3.12/site-packages/anndata/_core/anndata.py:1096: SettingWithCopyWarning: \n",
      "A value is trying to be set on a copy of a slice from a DataFrame.\n",
      "Try using .loc[row_indexer,col_indexer] = value instead\n",
      "\n",
      "See the caveats in the documentation: https://pandas.pydata.org/pandas-docs/stable/user_guide/indexing.html#returning-a-view-versus-a-copy\n",
      "  df_sub[k] = df_sub[k].cat.remove_unused_categories()\n"
     ]
    }
   ],
   "source": [
    "fixed_parameter_LinearSVC = ({\n",
    "    'max_iter': 1000000,\n",
    "    'dual': 'auto',\n",
    "})\n",
    "\n",
    "def LinearSVC_cellTypeOptimization(adataTrain = None, \n",
    "                         KfoldPatientSplit = None,\n",
    "                         y_true_col = 'disease',\n",
    "                         sample_id_col = 'sampleID',\n",
    "                         cell_type_col = 'Level1',\n",
    "                         random_seed = 42,\n",
    "                         optimization = 'F1', \n",
    "                         n_trials = 50,\n",
    "                         n_job = 50):\n",
    "\n",
    "    LinearSVC_cell_type_studies = {}\n",
    "\n",
    "    for ct_i in adataTrain.obs[cell_type_col].unique().tolist():\n",
    "\n",
    "        print(f\"\\n{ct_i}\")\n",
    "        \n",
    "        adataTrain_ct_i = adataTrain[adataTrain.obs[cell_type_col] == ct_i].copy()\n",
    "        \n",
    "        def objective_CT(trial):\n",
    "            class_params = {\n",
    "                'scaler': trial.suggest_categorical('scaler', [True, False]),\n",
    "                'fit_intercept': trial.suggest_categorical('fit_intercept', [True, False]),\n",
    "                'class_weight': trial.suggest_categorical('class_weight', ['balanced', None]),\n",
    "                'C': trial.suggest_float('C', 1e-3, 1e5, log=True)\n",
    "            }\n",
    "        \n",
    "            class_params |= fixed_parameter_LinearSVC\n",
    "        \n",
    "            # for ct_ in adataTrain.obs.Level1.unique().tolist():\n",
    "            #     class_params.update({\n",
    "            #         f\"{ct_}_C\": trial.suggest_float(f\"{ct_}_C\", 1e-3, 1e5, log=True),\n",
    "            #     })\n",
    "        \n",
    "            metric_list = []\n",
    "            \n",
    "            for foldK in KfoldPatientSplit:\n",
    "                \n",
    "                pListTrain = Pdata.iloc[foldK[0]][sample_id_col].tolist()\n",
    "                pListTest = Pdata.iloc[foldK[1]][sample_id_col].tolist()\n",
    "                \n",
    "                clf = CellTypeDiseasePrediction(clf_params=class_params.copy(),classifier=LinearSVC, cell_type = ct_i).fit(adataTrain_ct_i[adataTrain_ct_i.obs[sample_id_col].isin(pListTrain)])\n",
    "            \n",
    "                y_pred_df = clf.predict(adataTrain_ct_i[adataTrain_ct_i.obs[sample_id_col].isin(pListTest)], y_true_col = y_true_col)\n",
    "        \n",
    "                if optimization_metric == 'BAS':\n",
    "                    M = balanced_accuracy_score(y_pred_df[y_true_col], y_pred_df.disease_pred)\n",
    "                else:\n",
    "                    M = f1_score(y_pred_df[y_true_col], y_pred_df[f\"disease_pred_{ct_i}\"], average='weighted')\n",
    "        \n",
    "                metric_list.append(M)\n",
    "            \n",
    "            return sum(metric_list)/5\n",
    "                \n",
    "        # Optimize hyperparameters with Optuna\n",
    "        LinearSVC_cell_type_studies[ct_i] = op.create_study(direction='maximize', study_name=ct_i,sampler=TPESampler(seed=random_seed))\n",
    "        LinearSVC_cell_type_studies[ct_i].optimize(objective_CT, n_trials=n_trials, show_progress_bar=True, n_jobs=n_job)#catch = ValueError)\n",
    "\n",
    "    return LinearSVC_cell_type_studies\n",
    "\n",
    "### EXECUTE THE FUNCTION ###\n",
    "LinearSVC_cell_type_studies = LinearSVC_cellTypeOptimization(adataTrain = REFERENCEpseudobulkFilt, \n",
    "                                                               KfoldPatientSplit = KfoldPatientSplit,\n",
    "                                                               y_true_col = 'disease',\n",
    "                                                               sample_id_col = 'sampleID',\n",
    "                                                               cell_type_col = 'Level1',\n",
    "                                                               optimization = 'F1',\n",
    "                                                               n_trials = 100, n_job = n_job, random_seed = 42)"
   ]
  },
  {
   "cell_type": "code",
   "execution_count": 23,
   "id": "8ae42ec5-145a-4fd3-a0c8-f96a1f4bf005",
   "metadata": {
    "execution": {
     "iopub.execute_input": "2024-07-07T13:51:55.959615Z",
     "iopub.status.busy": "2024-07-07T13:51:55.959254Z",
     "iopub.status.idle": "2024-07-07T13:51:56.087836Z",
     "shell.execute_reply": "2024-07-07T13:51:56.087416Z"
    },
    "papermill": {
     "duration": 0.138957,
     "end_time": "2024-07-07T13:51:56.088663",
     "exception": false,
     "start_time": "2024-07-07T13:51:55.949706",
     "status": "completed"
    },
    "tags": []
   },
   "outputs": [],
   "source": [
    "clf_LinearSVC_TRAINED = (VotingDisease(classifier = LinearSVC, \n",
    "                                         cell_type_studies = LinearSVC_cell_type_studies, \n",
    "                                         fixed_params = fixed_parameter_LinearSVC, \n",
    "                                         cell_type_col = 'Level1', sample_id_col = 'sampleID', y_true_col = 'disease')\n",
    "                           .fit(REFERENCEpseudobulkFilt))"
   ]
  },
  {
   "cell_type": "code",
   "execution_count": 24,
   "id": "45847d4c-a3b8-403c-b2aa-c828efe92125",
   "metadata": {
    "execution": {
     "iopub.execute_input": "2024-07-07T13:51:56.107811Z",
     "iopub.status.busy": "2024-07-07T13:51:56.107483Z",
     "iopub.status.idle": "2024-07-07T13:51:56.110375Z",
     "shell.execute_reply": "2024-07-07T13:51:56.110073Z"
    },
    "papermill": {
     "duration": 0.013058,
     "end_time": "2024-07-07T13:51:56.111141",
     "exception": false,
     "start_time": "2024-07-07T13:51:56.098083",
     "status": "completed"
    },
    "tags": []
   },
   "outputs": [
    {
     "name": "stdout",
     "output_type": "stream",
     "text": [
      "F1 on reference = 0.7704729972501776\n"
     ]
    }
   ],
   "source": [
    "### Extracting the average performance on train data\n",
    "optMetric = 0\n",
    "for ct_i in LinearSVC_cell_type_studies.keys():\n",
    "    optMetric += LinearSVC_cell_type_studies[ct_i].best_value\n",
    "f1_LinearSVC_REFERENCE = optMetric / len(LinearSVC_cell_type_studies)\n",
    "print(f\"F1 on reference = {f1_LinearSVC_REFERENCE}\")"
   ]
  },
  {
   "cell_type": "code",
   "execution_count": 25,
   "id": "1bfc286d-a233-48d0-bd01-42d8c7761172",
   "metadata": {
    "execution": {
     "iopub.execute_input": "2024-07-07T13:51:56.129819Z",
     "iopub.status.busy": "2024-07-07T13:51:56.129484Z",
     "iopub.status.idle": "2024-07-07T13:51:56.154682Z",
     "shell.execute_reply": "2024-07-07T13:51:56.154350Z"
    },
    "papermill": {
     "duration": 0.035282,
     "end_time": "2024-07-07T13:51:56.155439",
     "exception": false,
     "start_time": "2024-07-07T13:51:56.120157",
     "status": "completed"
    },
    "tags": []
   },
   "outputs": [
    {
     "name": "stdout",
     "output_type": "stream",
     "text": [
      "QUERY: F1 = 0.668572045108062, BAS = 0.41971677559912857, MCC: 0.5984964042117564\n"
     ]
    },
    {
     "name": "stderr",
     "output_type": "stream",
     "text": [
      "/scratch_isilon/groups/singlecell/shared/conda_env/optuna/lib/python3.12/site-packages/sklearn/metrics/_classification.py:2458: UserWarning: y_pred contains classes not in y_true\n",
      "  warnings.warn(\"y_pred contains classes not in y_true\")\n"
     ]
    }
   ],
   "source": [
    "### Predict query dataset\n",
    "LinearSVC_cellType_prediction_query_df = clf_LinearSVC_TRAINED.predict(QUERYpseudobulkFilt)\n",
    "\n",
    "f1_LinearSVC_QUERY = f1_score(LinearSVC_cellType_prediction_query_df[y_true_col], \n",
    "                              LinearSVC_cellType_prediction_query_df.majority_pred, average='weighted')\n",
    "BAS_LinearSVC_QUERY = balanced_accuracy_score(LinearSVC_cellType_prediction_query_df[y_true_col], \n",
    "                                              LinearSVC_cellType_prediction_query_df.majority_pred,)\n",
    "MCC_LinearSVC_QUERY = matthews_corrcoef(LinearSVC_cellType_prediction_query_df[y_true_col], \n",
    "                                        LinearSVC_cellType_prediction_query_df.majority_pred,)\n",
    "print(f\"QUERY: F1 = {f1_LinearSVC_QUERY}, BAS = {BAS_LinearSVC_QUERY}, MCC: {MCC_LinearSVC_QUERY}\")"
   ]
  },
  {
   "cell_type": "code",
   "execution_count": 26,
   "id": "839e6ed1-00df-4f31-9b6a-11650ed3f1dc",
   "metadata": {
    "execution": {
     "iopub.execute_input": "2024-07-07T13:51:56.174639Z",
     "iopub.status.busy": "2024-07-07T13:51:56.174224Z",
     "iopub.status.idle": "2024-07-07T13:51:56.177047Z",
     "shell.execute_reply": "2024-07-07T13:51:56.176748Z"
    },
    "papermill": {
     "duration": 0.013251,
     "end_time": "2024-07-07T13:51:56.177845",
     "exception": false,
     "start_time": "2024-07-07T13:51:56.164594",
     "status": "completed"
    },
    "tags": []
   },
   "outputs": [],
   "source": [
    "### Add results to dataframe\n",
    "METRICdf.loc[METRICdf.shape[0],:] = [integration_method,embSpace,n_embedded,n_Patient_embedded,batch,annotation,'LinearSVC',\n",
    "                                     f1_LinearSVC_QUERY, BAS_LinearSVC_QUERY,MCC_LinearSVC_QUERY,f1_LinearSVC_REFERENCE]"
   ]
  },
  {
   "cell_type": "code",
   "execution_count": 27,
   "id": "e7ab9f0e-46d5-45e3-b44b-5bff0748b28c",
   "metadata": {
    "execution": {
     "iopub.execute_input": "2024-07-07T13:51:56.206454Z",
     "iopub.status.busy": "2024-07-07T13:51:56.206265Z",
     "iopub.status.idle": "2024-07-07T13:51:56.251165Z",
     "shell.execute_reply": "2024-07-07T13:51:56.250765Z"
    },
    "papermill": {
     "duration": 0.061703,
     "end_time": "2024-07-07T13:51:56.252356",
     "exception": false,
     "start_time": "2024-07-07T13:51:56.190653",
     "status": "completed"
    },
    "tags": []
   },
   "outputs": [],
   "source": [
    "#### SAVE STUDY and FINAL MODEL AS PICKLE\n",
    "joblib.dump(LinearSVC_cell_type_studies, os.path.join(mainDir, f\"study_objects/BestParams_{integration_method}_{embSpace}_{n_embedded}nEmb_{n_Patient_embedded}nPEmb_{batch}_{annotation}_opt{optimization_metric}_{query_dataset}_LinearSVC.pkl\"))\n",
    "joblib.dump(clf_LinearSVC_TRAINED, os.path.join(mainDir, f\"best_models/{integration_method}_{embSpace}_{n_embedded}nEmb_{n_Patient_embedded}nPEmb_{batch}_{annotation}_opt{optimization_metric}_{query_dataset}_LinearSVC.pkl\"))\n",
    "\n",
    "LinearSVC_cellType_prediction_query_df.to_pickle(os.path.join(mainDir, f\"label_predicted_dataframes/{integration_method}_{embSpace}_{n_embedded}nEmb_{n_Patient_embedded}nPEmb_{batch}_{annotation}_opt{optimization_metric}_{query_dataset}_LinearSVC.pkl\"))"
   ]
  },
  {
   "cell_type": "markdown",
   "id": "e8394cdf-d636-4499-89a6-1731d577d3f7",
   "metadata": {
    "papermill": {
     "duration": 0.009031,
     "end_time": "2024-07-07T13:51:56.271240",
     "exception": false,
     "start_time": "2024-07-07T13:51:56.262209",
     "status": "completed"
    },
    "tags": []
   },
   "source": [
    "#### SVC"
   ]
  },
  {
   "cell_type": "code",
   "execution_count": 28,
   "id": "48e39d89",
   "metadata": {
    "execution": {
     "iopub.execute_input": "2024-07-07T13:51:56.290426Z",
     "iopub.status.busy": "2024-07-07T13:51:56.290111Z",
     "iopub.status.idle": "2024-07-07T13:52:14.867453Z",
     "shell.execute_reply": "2024-07-07T13:52:14.866963Z"
    },
    "papermill": {
     "duration": 18.587725,
     "end_time": "2024-07-07T13:52:14.868467",
     "exception": false,
     "start_time": "2024-07-07T13:51:56.280742",
     "status": "completed"
    },
    "scrolled": true,
    "tags": []
   },
   "outputs": [
    {
     "name": "stdout",
     "output_type": "stream",
     "text": [
      "\n",
      "sample\n"
     ]
    },
    {
     "data": {
      "application/vnd.jupyter.widget-view+json": {
       "model_id": "98286ea0c264436981e9aba5474e891c",
       "version_major": 2,
       "version_minor": 0
      },
      "text/plain": [
       "  0%|          | 0/300 [00:00<?, ?it/s]"
      ]
     },
     "metadata": {},
     "output_type": "display_data"
    }
   ],
   "source": [
    "fixed_parameter_SVC = ({\n",
    "    'max_iter': -1,\n",
    "})\n",
    "\n",
    "\n",
    "def SVC_cellTypeOptimization(adataTrain = None, \n",
    "                         KfoldPatientSplit = None,\n",
    "                         y_true_col = 'disease',\n",
    "                         sample_id_col = 'sampleID',\n",
    "                         cell_type_col = 'Level1',\n",
    "                         random_seed = 42,\n",
    "                         optimization = 'F1', \n",
    "                         n_trials = 300,\n",
    "                         n_job = -1):\n",
    "\n",
    "    SVC_cell_type_studies = {}\n",
    "\n",
    "    for ct_i in adataTrain.obs[cell_type_col].unique().tolist():\n",
    "\n",
    "        print(f\"\\n{ct_i}\")\n",
    "        \n",
    "        adataTrain_ct_i = adataTrain[adataTrain.obs[cell_type_col] == ct_i].copy()\n",
    "        \n",
    "        def objective_CT(trial):\n",
    "            class_params = {\n",
    "                'scaler': trial.suggest_categorical('scaler', [True, False]),\n",
    "                'kernel': trial.suggest_categorical(\"kernel\", ['sigmoid','rbf','poly']),\n",
    "                'class_weight': trial.suggest_categorical(\"class_weight\", ['balanced',None]),\n",
    "                'C': trial.suggest_float('C', 1e-3, 1e5, log=True),\n",
    "            }\n",
    "\n",
    "            class_params |= fixed_parameter_SVC\n",
    "            if class_params['kernel'] == 'poly':\n",
    "                class_params.update({'degree': trial.suggest_int('degree', 2,6)})    \n",
    "                \n",
    "            # for ct_ in adataTrain.obs.Level1.unique().tolist():\n",
    "            #     class_params.update({\n",
    "            #         f\"{ct_}_C\": trial.suggest_float(f\"{ct_}_C\", 1e-3, 1e5, log=True),\n",
    "            #     })\n",
    "        \n",
    "            metric_list = []\n",
    "            \n",
    "            for foldK in KfoldPatientSplit:\n",
    "                \n",
    "                pListTrain = Pdata.iloc[foldK[0]][sample_id_col].tolist()\n",
    "                pListTest = Pdata.iloc[foldK[1]][sample_id_col].tolist()\n",
    "                \n",
    "                clf = CellTypeDiseasePrediction(clf_params=class_params.copy(),classifier=SVC, cell_type = ct_i).fit(adataTrain_ct_i[adataTrain_ct_i.obs[sample_id_col].isin(pListTrain)])\n",
    "            \n",
    "                y_pred_df = clf.predict(adataTrain_ct_i[adataTrain_ct_i.obs[sample_id_col].isin(pListTest)], y_true_col = y_true_col)\n",
    "        \n",
    "                if optimization_metric == 'BAS':\n",
    "                    M = balanced_accuracy_score(y_pred_df[y_true_col], y_pred_df.disease_pred)\n",
    "                else:\n",
    "                    M = f1_score(y_pred_df[y_true_col], y_pred_df[f\"disease_pred_{ct_i}\"], average='weighted')\n",
    "        \n",
    "                metric_list.append(M)\n",
    "            \n",
    "            return sum(metric_list)/5\n",
    "                \n",
    "        # Optimize hyperparameters with Optuna\n",
    "        SVC_cell_type_studies[ct_i] = op.create_study(direction='maximize', study_name=ct_i,sampler=TPESampler(seed=random_seed))\n",
    "        SVC_cell_type_studies[ct_i].optimize(objective_CT, n_trials=n_trials, show_progress_bar=True, n_jobs=n_job)#catch = ValueError)\n",
    "\n",
    "    return SVC_cell_type_studies\n",
    "\n",
    "### EXECUTE THE FUNCTION ###\n",
    "SVC_cell_type_studies = SVC_cellTypeOptimization(adataTrain = REFERENCEpseudobulkFilt, \n",
    "                                                   KfoldPatientSplit = KfoldPatientSplit,\n",
    "                                                   y_true_col = 'disease',\n",
    "                                                   sample_id_col = 'sampleID',\n",
    "                                                   cell_type_col = 'Level1',\n",
    "                                                   optimization = 'F1',\n",
    "                                                   n_trials = 300, n_job = n_job, random_seed = 42)"
   ]
  },
  {
   "cell_type": "code",
   "execution_count": 29,
   "id": "df1d3bd9-ca7f-4621-a37a-50faacb2c3da",
   "metadata": {
    "execution": {
     "iopub.execute_input": "2024-07-07T13:52:14.889592Z",
     "iopub.status.busy": "2024-07-07T13:52:14.889423Z",
     "iopub.status.idle": "2024-07-07T13:52:14.963922Z",
     "shell.execute_reply": "2024-07-07T13:52:14.963503Z"
    },
    "papermill": {
     "duration": 0.086753,
     "end_time": "2024-07-07T13:52:14.965388",
     "exception": false,
     "start_time": "2024-07-07T13:52:14.878635",
     "status": "completed"
    },
    "tags": []
   },
   "outputs": [],
   "source": [
    "clf_SVC_TRAINED = (VotingDisease(classifier = SVC, \n",
    "                                         cell_type_studies = SVC_cell_type_studies, \n",
    "                                         fixed_params = fixed_parameter_SVC, \n",
    "                                         cell_type_col = 'Level1', sample_id_col = 'sampleID', y_true_col = 'disease')\n",
    "                           .fit(REFERENCEpseudobulkFilt))"
   ]
  },
  {
   "cell_type": "code",
   "execution_count": 30,
   "id": "1738fab9-3ffe-4649-8b75-4ede4c821328",
   "metadata": {
    "execution": {
     "iopub.execute_input": "2024-07-07T13:52:15.034605Z",
     "iopub.status.busy": "2024-07-07T13:52:15.034367Z",
     "iopub.status.idle": "2024-07-07T13:52:15.037739Z",
     "shell.execute_reply": "2024-07-07T13:52:15.037333Z"
    },
    "papermill": {
     "duration": 0.015155,
     "end_time": "2024-07-07T13:52:15.038569",
     "exception": false,
     "start_time": "2024-07-07T13:52:15.023414",
     "status": "completed"
    },
    "tags": []
   },
   "outputs": [
    {
     "name": "stdout",
     "output_type": "stream",
     "text": [
      "F1 on reference = 0.7915905586284555\n"
     ]
    }
   ],
   "source": [
    "### Extracting the average performance on train data\n",
    "optMetric = 0\n",
    "for ct_i in SVC_cell_type_studies.keys():\n",
    "    optMetric += SVC_cell_type_studies[ct_i].best_value\n",
    "f1_SVC_REFERENCE = optMetric / len(SVC_cell_type_studies)\n",
    "print(f\"F1 on reference = {f1_SVC_REFERENCE}\")"
   ]
  },
  {
   "cell_type": "code",
   "execution_count": 31,
   "id": "047f51ad-f323-483c-96ff-4b7cfdcd9ba7",
   "metadata": {
    "execution": {
     "iopub.execute_input": "2024-07-07T13:52:15.059039Z",
     "iopub.status.busy": "2024-07-07T13:52:15.058748Z",
     "iopub.status.idle": "2024-07-07T13:52:15.094545Z",
     "shell.execute_reply": "2024-07-07T13:52:15.094131Z"
    },
    "papermill": {
     "duration": 0.047114,
     "end_time": "2024-07-07T13:52:15.095415",
     "exception": false,
     "start_time": "2024-07-07T13:52:15.048301",
     "status": "completed"
    },
    "tags": []
   },
   "outputs": [
    {
     "name": "stdout",
     "output_type": "stream",
     "text": [
      "QUERY: F1 = 0.5969911750399555, BAS = 0.3652777777777778, MCC: 0.552531597936024\n"
     ]
    }
   ],
   "source": [
    "### Predict query dataset\n",
    "SVC_cellType_prediction_query_df = clf_SVC_TRAINED.predict(QUERYpseudobulkFilt)\n",
    "\n",
    "f1_SVC_QUERY = f1_score(SVC_cellType_prediction_query_df[y_true_col], \n",
    "                              SVC_cellType_prediction_query_df.majority_pred, average='weighted')\n",
    "BAS_SVC_QUERY = balanced_accuracy_score(SVC_cellType_prediction_query_df[y_true_col], \n",
    "                                              SVC_cellType_prediction_query_df.majority_pred,)\n",
    "MCC_SVC_QUERY = matthews_corrcoef(SVC_cellType_prediction_query_df[y_true_col], \n",
    "                                        SVC_cellType_prediction_query_df.majority_pred,)\n",
    "print(f\"QUERY: F1 = {f1_SVC_QUERY}, BAS = {BAS_SVC_QUERY}, MCC: {MCC_SVC_QUERY}\")"
   ]
  },
  {
   "cell_type": "code",
   "execution_count": 32,
   "id": "4e68ccc1-e6a3-4ceb-a3ae-b8761de54025",
   "metadata": {
    "execution": {
     "iopub.execute_input": "2024-07-07T13:52:15.119276Z",
     "iopub.status.busy": "2024-07-07T13:52:15.118829Z",
     "iopub.status.idle": "2024-07-07T13:52:15.122190Z",
     "shell.execute_reply": "2024-07-07T13:52:15.121820Z"
    },
    "papermill": {
     "duration": 0.015136,
     "end_time": "2024-07-07T13:52:15.122987",
     "exception": false,
     "start_time": "2024-07-07T13:52:15.107851",
     "status": "completed"
    },
    "tags": []
   },
   "outputs": [],
   "source": [
    "### Add results to dataframe\n",
    "METRICdf.loc[METRICdf.shape[0],:] = [integration_method,embSpace,n_embedded,n_Patient_embedded,batch,annotation,'SVC',\n",
    "                                     f1_SVC_QUERY, BAS_SVC_QUERY,MCC_SVC_QUERY,f1_SVC_REFERENCE]"
   ]
  },
  {
   "cell_type": "code",
   "execution_count": 33,
   "id": "d17b7639-2450-405d-ab6d-622ce4781196",
   "metadata": {
    "execution": {
     "iopub.execute_input": "2024-07-07T13:52:15.143167Z",
     "iopub.status.busy": "2024-07-07T13:52:15.142848Z",
     "iopub.status.idle": "2024-07-07T13:52:15.251556Z",
     "shell.execute_reply": "2024-07-07T13:52:15.251112Z"
    },
    "papermill": {
     "duration": 0.119796,
     "end_time": "2024-07-07T13:52:15.252450",
     "exception": false,
     "start_time": "2024-07-07T13:52:15.132654",
     "status": "completed"
    },
    "tags": []
   },
   "outputs": [],
   "source": [
    "#### SAVE STUDY and FINAL MODEL AS PICKLE\n",
    "joblib.dump(SVC_cell_type_studies, os.path.join(mainDir, f\"study_objects/BestParams_{integration_method}_{embSpace}_{n_embedded}nEmb_{n_Patient_embedded}nPEmb_{batch}_{annotation}_opt{optimization_metric}_{query_dataset}_SVC.pkl\"))\n",
    "joblib.dump(clf_SVC_TRAINED, os.path.join(mainDir, f\"best_models/{integration_method}_{embSpace}_{n_embedded}nEmb_{n_Patient_embedded}nPEmb_{batch}_{annotation}_opt{optimization_metric}_{query_dataset}_SVC.pkl\"))\n",
    "\n",
    "SVC_cellType_prediction_query_df.to_pickle(os.path.join(mainDir, f\"label_predicted_dataframes/{integration_method}_{embSpace}_{n_embedded}nEmb_{n_Patient_embedded}nPEmb_{batch}_{annotation}_opt{optimization_metric}_{query_dataset}_SVC.pkl\"))"
   ]
  },
  {
   "cell_type": "markdown",
   "id": "f06fd6e1-90a1-4fc2-a9fd-6a35fb3ab0ed",
   "metadata": {
    "papermill": {
     "duration": 0.009844,
     "end_time": "2024-07-07T13:52:15.272338",
     "exception": false,
     "start_time": "2024-07-07T13:52:15.262494",
     "status": "completed"
    },
    "tags": []
   },
   "source": [
    "#### kNN"
   ]
  },
  {
   "cell_type": "code",
   "execution_count": 34,
   "id": "4b5a4d44-3d52-45ec-85d5-cdee0e1754f1",
   "metadata": {
    "execution": {
     "iopub.execute_input": "2024-07-07T13:52:15.292257Z",
     "iopub.status.busy": "2024-07-07T13:52:15.292021Z",
     "iopub.status.idle": "2024-07-07T13:52:19.714348Z",
     "shell.execute_reply": "2024-07-07T13:52:19.713756Z"
    },
    "papermill": {
     "duration": 4.434055,
     "end_time": "2024-07-07T13:52:19.715924",
     "exception": false,
     "start_time": "2024-07-07T13:52:15.281869",
     "status": "completed"
    },
    "scrolled": true,
    "tags": []
   },
   "outputs": [
    {
     "name": "stdout",
     "output_type": "stream",
     "text": [
      "\n",
      "sample\n"
     ]
    },
    {
     "name": "stderr",
     "output_type": "stream",
     "text": [
      "/scratch_tmp/25709256/ipykernel_87058/494070876.py:52: ExperimentalWarning: BruteForceSampler is experimental (supported from v3.1.0). The interface can change in the future.\n",
      "  kNN_cell_type_studies[ct_i] = op.create_study(direction='maximize', study_name=ct_i, sampler=BruteForceSampler())\n"
     ]
    }
   ],
   "source": [
    "fixed_parameter_kNN = ({\n",
    "    'n_jobs': 1\n",
    "})\n",
    "\n",
    "def kNN_cellTypeOptimization(adataTrain = None, \n",
    "                         KfoldPatientSplit = None,\n",
    "                         y_true_col = 'disease',\n",
    "                         sample_id_col = 'sampleID',\n",
    "                         cell_type_col = 'Level1',\n",
    "                         optimization = 'F1', \n",
    "                         n_job = 40):\n",
    "\n",
    "    kNN_cell_type_studies = {}\n",
    "\n",
    "    for ct_i in adataTrain.obs[cell_type_col].unique().tolist():\n",
    "\n",
    "        print(f\"\\n{ct_i}\")\n",
    "        \n",
    "        adataTrain_ct_i = adataTrain[adataTrain.obs[cell_type_col] == ct_i].copy()\n",
    "        \n",
    "        def objective_CT(trial):\n",
    "            class_params = {\n",
    "                'scaler': trial.suggest_categorical('scaler', [True, False]),\n",
    "                'metric': trial.suggest_categorical(\"metric\", ['cosine','euclidean']),\n",
    "                'weights': trial.suggest_categorical(\"weights\", ['uniform','distance']),\n",
    "                'n_neighbors': trial.suggest_int('n_neighbors', 1, 5, log=False),\n",
    "            }\n",
    "\n",
    "            class_params |= fixed_parameter_kNN\n",
    "\n",
    "            metric_list = []\n",
    "            \n",
    "            for foldK in KfoldPatientSplit:\n",
    "                \n",
    "                pListTrain = Pdata.iloc[foldK[0]][sample_id_col].tolist()\n",
    "                pListTest = Pdata.iloc[foldK[1]][sample_id_col].tolist()\n",
    "                \n",
    "                clf = CellTypeDiseasePrediction(clf_params=class_params.copy(),classifier=KNeighborsClassifier, cell_type = ct_i).fit(adataTrain_ct_i[adataTrain_ct_i.obs[sample_id_col].isin(pListTrain)])\n",
    "            \n",
    "                y_pred_df = clf.predict(adataTrain_ct_i[adataTrain_ct_i.obs[sample_id_col].isin(pListTest)], y_true_col = y_true_col)\n",
    "        \n",
    "                if optimization_metric == 'BAS':\n",
    "                    M = balanced_accuracy_score(y_pred_df[y_true_col], y_pred_df.disease_pred)\n",
    "                else:\n",
    "                    M = f1_score(y_pred_df[y_true_col], y_pred_df[f\"disease_pred_{ct_i}\"], average='weighted')\n",
    "        \n",
    "                metric_list.append(M)\n",
    "            \n",
    "            return sum(metric_list)/5\n",
    "                \n",
    "        # Optimize hyperparameters with Optuna\n",
    "        kNN_cell_type_studies[ct_i] = op.create_study(direction='maximize', study_name=ct_i, sampler=BruteForceSampler())\n",
    "        kNN_cell_type_studies[ct_i].optimize(objective_CT, show_progress_bar=False, n_jobs=40)#catch = ValueError)\n",
    "\n",
    "    return kNN_cell_type_studies\n",
    "\n",
    "### EXECUTE THE FUNCTION ###\n",
    "kNN_cell_type_studies = kNN_cellTypeOptimization(adataTrain = REFERENCEpseudobulkFilt, \n",
    "                                                 KfoldPatientSplit = KfoldPatientSplit,\n",
    "                                                 y_true_col = 'disease',\n",
    "                                                 sample_id_col = 'sampleID',\n",
    "                                                 cell_type_col = 'Level1',\n",
    "                                                 optimization = 'F1',\n",
    "                                                 n_job = min(n_job,40))"
   ]
  },
  {
   "cell_type": "code",
   "execution_count": 35,
   "id": "efa94193-3498-4552-9ce9-281ca55cb795",
   "metadata": {
    "execution": {
     "iopub.execute_input": "2024-07-07T13:52:19.741137Z",
     "iopub.status.busy": "2024-07-07T13:52:19.740935Z",
     "iopub.status.idle": "2024-07-07T13:52:19.745974Z",
     "shell.execute_reply": "2024-07-07T13:52:19.745592Z"
    },
    "papermill": {
     "duration": 0.018063,
     "end_time": "2024-07-07T13:52:19.746793",
     "exception": false,
     "start_time": "2024-07-07T13:52:19.728730",
     "status": "completed"
    },
    "tags": []
   },
   "outputs": [],
   "source": [
    "clf_kNN_TRAINED = (VotingDisease(classifier = KNeighborsClassifier, \n",
    "                                         cell_type_studies = kNN_cell_type_studies, \n",
    "                                         fixed_params = fixed_parameter_kNN, \n",
    "                                         cell_type_col = 'Level1', sample_id_col = 'sampleID', y_true_col = 'disease')\n",
    "                           .fit(REFERENCEpseudobulkFilt))"
   ]
  },
  {
   "cell_type": "code",
   "execution_count": 36,
   "id": "93d992ed-9cd1-4aab-8c6b-3ba520ee2fee",
   "metadata": {
    "execution": {
     "iopub.execute_input": "2024-07-07T13:52:19.766799Z",
     "iopub.status.busy": "2024-07-07T13:52:19.766605Z",
     "iopub.status.idle": "2024-07-07T13:52:19.769875Z",
     "shell.execute_reply": "2024-07-07T13:52:19.769430Z"
    },
    "papermill": {
     "duration": 0.014097,
     "end_time": "2024-07-07T13:52:19.770676",
     "exception": false,
     "start_time": "2024-07-07T13:52:19.756579",
     "status": "completed"
    },
    "tags": []
   },
   "outputs": [
    {
     "name": "stdout",
     "output_type": "stream",
     "text": [
      "F1 on reference = 0.7503450814715602\n"
     ]
    }
   ],
   "source": [
    "### Extracting the average performance on train data\n",
    "optMetric = 0\n",
    "for ct_i in kNN_cell_type_studies.keys():\n",
    "    optMetric += kNN_cell_type_studies[ct_i].best_value\n",
    "f1_kNN_REFERENCE = optMetric / len(kNN_cell_type_studies)\n",
    "print(f\"F1 on reference = {f1_kNN_REFERENCE}\")"
   ]
  },
  {
   "cell_type": "code",
   "execution_count": 37,
   "id": "7fb64646-7479-488b-b356-bcce128453dc",
   "metadata": {
    "execution": {
     "iopub.execute_input": "2024-07-07T13:52:19.790714Z",
     "iopub.status.busy": "2024-07-07T13:52:19.790492Z",
     "iopub.status.idle": "2024-07-07T13:52:20.058453Z",
     "shell.execute_reply": "2024-07-07T13:52:20.057919Z"
    },
    "papermill": {
     "duration": 0.279001,
     "end_time": "2024-07-07T13:52:20.059396",
     "exception": false,
     "start_time": "2024-07-07T13:52:19.780395",
     "status": "completed"
    },
    "tags": []
   },
   "outputs": [
    {
     "name": "stdout",
     "output_type": "stream",
     "text": [
      "QUERY: F1 = 0.676857915550888, BAS = 0.5078703703703703, MCC: 0.6382775947101706\n"
     ]
    },
    {
     "name": "stderr",
     "output_type": "stream",
     "text": [
      "/scratch_isilon/groups/singlecell/shared/conda_env/optuna/lib/python3.12/site-packages/sklearn/metrics/_classification.py:2458: UserWarning: y_pred contains classes not in y_true\n",
      "  warnings.warn(\"y_pred contains classes not in y_true\")\n"
     ]
    }
   ],
   "source": [
    "### Predict query dataset\n",
    "kNN_cellType_prediction_query_df = clf_kNN_TRAINED.predict(QUERYpseudobulkFilt)\n",
    "\n",
    "f1_kNN_QUERY = f1_score(kNN_cellType_prediction_query_df[y_true_col], \n",
    "                              kNN_cellType_prediction_query_df.majority_pred, average='weighted')\n",
    "BAS_kNN_QUERY = balanced_accuracy_score(kNN_cellType_prediction_query_df[y_true_col], \n",
    "                                              kNN_cellType_prediction_query_df.majority_pred,)\n",
    "MCC_kNN_QUERY = matthews_corrcoef(kNN_cellType_prediction_query_df[y_true_col], \n",
    "                                        kNN_cellType_prediction_query_df.majority_pred,)\n",
    "print(f\"QUERY: F1 = {f1_kNN_QUERY}, BAS = {BAS_kNN_QUERY}, MCC: {MCC_kNN_QUERY}\")"
   ]
  },
  {
   "cell_type": "code",
   "execution_count": 38,
   "id": "a6b5a17f-9bc8-49e0-992d-3a73cbb73af1",
   "metadata": {
    "execution": {
     "iopub.execute_input": "2024-07-07T13:52:20.084825Z",
     "iopub.status.busy": "2024-07-07T13:52:20.084616Z",
     "iopub.status.idle": "2024-07-07T13:52:20.087808Z",
     "shell.execute_reply": "2024-07-07T13:52:20.087395Z"
    },
    "papermill": {
     "duration": 0.014801,
     "end_time": "2024-07-07T13:52:20.088624",
     "exception": false,
     "start_time": "2024-07-07T13:52:20.073823",
     "status": "completed"
    },
    "tags": []
   },
   "outputs": [],
   "source": [
    "### Add results to dataframe\n",
    "METRICdf.loc[METRICdf.shape[0],:] = [integration_method,embSpace,n_embedded,n_Patient_embedded,batch,annotation,'kNN',\n",
    "                                     f1_kNN_QUERY, BAS_kNN_QUERY,MCC_kNN_QUERY,f1_kNN_REFERENCE]"
   ]
  },
  {
   "cell_type": "code",
   "execution_count": 39,
   "id": "571de3ba-0358-48c6-b67f-fb247d2f7938",
   "metadata": {
    "execution": {
     "iopub.execute_input": "2024-07-07T13:52:20.115072Z",
     "iopub.status.busy": "2024-07-07T13:52:20.114761Z",
     "iopub.status.idle": "2024-07-07T13:52:20.141165Z",
     "shell.execute_reply": "2024-07-07T13:52:20.140753Z"
    },
    "papermill": {
     "duration": 0.043145,
     "end_time": "2024-07-07T13:52:20.142015",
     "exception": false,
     "start_time": "2024-07-07T13:52:20.098870",
     "status": "completed"
    },
    "tags": []
   },
   "outputs": [],
   "source": [
    "#### SAVE STUDY and FINAL MODEL AS PICKLE\n",
    "joblib.dump(kNN_cell_type_studies, os.path.join(mainDir, f\"study_objects/BestParams_{integration_method}_{embSpace}_{n_embedded}nEmb_{n_Patient_embedded}nPEmb_{batch}_{annotation}_opt{optimization_metric}_{query_dataset}_kNN.pkl\"))\n",
    "joblib.dump(clf_kNN_TRAINED, os.path.join(mainDir, f\"best_models/{integration_method}_{embSpace}_{n_embedded}nEmb_{n_Patient_embedded}nPEmb_{batch}_{annotation}_opt{optimization_metric}_{query_dataset}_kNN.pkl\"))\n",
    "\n",
    "kNN_cellType_prediction_query_df.to_pickle(os.path.join(mainDir, f\"label_predicted_dataframes/{integration_method}_{embSpace}_{n_embedded}nEmb_{n_Patient_embedded}nPEmb_{batch}_{annotation}_opt{optimization_metric}_{query_dataset}_kNN.pkl\"))"
   ]
  },
  {
   "cell_type": "markdown",
   "id": "ca686a7e-4f31-421e-8615-6c61274fa806",
   "metadata": {
    "papermill": {
     "duration": 0.009693,
     "end_time": "2024-07-07T13:52:20.161455",
     "exception": false,
     "start_time": "2024-07-07T13:52:20.151762",
     "status": "completed"
    },
    "tags": []
   },
   "source": [
    "### Saving metrics dataframe"
   ]
  },
  {
   "cell_type": "code",
   "execution_count": 40,
   "id": "20274e0e-5efd-4626-88b8-19bf6184bff0",
   "metadata": {
    "execution": {
     "iopub.execute_input": "2024-07-07T13:52:20.182988Z",
     "iopub.status.busy": "2024-07-07T13:52:20.182596Z",
     "iopub.status.idle": "2024-07-07T13:52:20.189091Z",
     "shell.execute_reply": "2024-07-07T13:52:20.188639Z"
    },
    "papermill": {
     "duration": 0.018187,
     "end_time": "2024-07-07T13:52:20.189905",
     "exception": false,
     "start_time": "2024-07-07T13:52:20.171718",
     "status": "completed"
    },
    "tags": []
   },
   "outputs": [],
   "source": [
    "METRICdf.to_pickle(os.path.join(mainDir, f\"metrics_dataframes/METRICdf_{integration_method}_{embSpace}_{n_embedded}nEmb_{n_Patient_embedded}nPEmb_{batch}_{annotation}_opt{optimization_metric}_{query_dataset}.pkl\"))"
   ]
  },
  {
   "cell_type": "code",
   "execution_count": 41,
   "id": "17be377b-b0b3-44f7-94a0-2c5b0f67e378",
   "metadata": {
    "execution": {
     "iopub.execute_input": "2024-07-07T13:52:20.210177Z",
     "iopub.status.busy": "2024-07-07T13:52:20.209967Z",
     "iopub.status.idle": "2024-07-07T13:52:20.217347Z",
     "shell.execute_reply": "2024-07-07T13:52:20.216953Z"
    },
    "papermill": {
     "duration": 0.018568,
     "end_time": "2024-07-07T13:52:20.218321",
     "exception": false,
     "start_time": "2024-07-07T13:52:20.199753",
     "status": "completed"
    },
    "tags": []
   },
   "outputs": [
    {
     "data": {
      "text/html": [
       "<div>\n",
       "<style scoped>\n",
       "    .dataframe tbody tr th:only-of-type {\n",
       "        vertical-align: middle;\n",
       "    }\n",
       "\n",
       "    .dataframe tbody tr th {\n",
       "        vertical-align: top;\n",
       "    }\n",
       "\n",
       "    .dataframe thead th {\n",
       "        text-align: right;\n",
       "    }\n",
       "</style>\n",
       "<table border=\"1\" class=\"dataframe\">\n",
       "  <thead>\n",
       "    <tr style=\"text-align: right;\">\n",
       "      <th></th>\n",
       "      <th>integration_method</th>\n",
       "      <th>embedded_space</th>\n",
       "      <th>n_embedded</th>\n",
       "      <th>n_Patient_embedded</th>\n",
       "      <th>batchKeys</th>\n",
       "      <th>annotation</th>\n",
       "      <th>classification_method</th>\n",
       "      <th>VALIDATION_F1</th>\n",
       "      <th>VALIDATION_BAS</th>\n",
       "      <th>VALIDATION_MCC</th>\n",
       "      <th>VALIDATION_TRAIN_F1</th>\n",
       "    </tr>\n",
       "  </thead>\n",
       "  <tbody>\n",
       "    <tr>\n",
       "      <th>0</th>\n",
       "      <td>scPoli</td>\n",
       "      <td>sample</td>\n",
       "      <td>200</td>\n",
       "      <td>100</td>\n",
       "      <td>chemistry</td>\n",
       "      <td>Level1n2</td>\n",
       "      <td>LinearSVC</td>\n",
       "      <td>0.668572</td>\n",
       "      <td>0.419717</td>\n",
       "      <td>0.598496</td>\n",
       "      <td>0.770473</td>\n",
       "    </tr>\n",
       "    <tr>\n",
       "      <th>1</th>\n",
       "      <td>scPoli</td>\n",
       "      <td>sample</td>\n",
       "      <td>200</td>\n",
       "      <td>100</td>\n",
       "      <td>chemistry</td>\n",
       "      <td>Level1n2</td>\n",
       "      <td>SVC</td>\n",
       "      <td>0.596991</td>\n",
       "      <td>0.365278</td>\n",
       "      <td>0.552532</td>\n",
       "      <td>0.791591</td>\n",
       "    </tr>\n",
       "    <tr>\n",
       "      <th>2</th>\n",
       "      <td>scPoli</td>\n",
       "      <td>sample</td>\n",
       "      <td>200</td>\n",
       "      <td>100</td>\n",
       "      <td>chemistry</td>\n",
       "      <td>Level1n2</td>\n",
       "      <td>kNN</td>\n",
       "      <td>0.676858</td>\n",
       "      <td>0.50787</td>\n",
       "      <td>0.638278</td>\n",
       "      <td>0.750345</td>\n",
       "    </tr>\n",
       "  </tbody>\n",
       "</table>\n",
       "</div>"
      ],
      "text/plain": [
       "  integration_method embedded_space n_embedded n_Patient_embedded  batchKeys  \\\n",
       "0             scPoli         sample        200                100  chemistry   \n",
       "1             scPoli         sample        200                100  chemistry   \n",
       "2             scPoli         sample        200                100  chemistry   \n",
       "\n",
       "  annotation classification_method VALIDATION_F1 VALIDATION_BAS  \\\n",
       "0   Level1n2             LinearSVC      0.668572       0.419717   \n",
       "1   Level1n2                   SVC      0.596991       0.365278   \n",
       "2   Level1n2                   kNN      0.676858        0.50787   \n",
       "\n",
       "  VALIDATION_MCC VALIDATION_TRAIN_F1  \n",
       "0       0.598496            0.770473  \n",
       "1       0.552532            0.791591  \n",
       "2       0.638278            0.750345  "
      ]
     },
     "execution_count": 41,
     "metadata": {},
     "output_type": "execute_result"
    }
   ],
   "source": [
    "METRICdf"
   ]
  },
  {
   "cell_type": "code",
   "execution_count": null,
   "id": "dcac8762-9816-47ad-898f-ca8e3fbd90db",
   "metadata": {
    "papermill": {
     "duration": 0.010203,
     "end_time": "2024-07-07T13:52:20.247749",
     "exception": false,
     "start_time": "2024-07-07T13:52:20.237546",
     "status": "completed"
    },
    "tags": []
   },
   "outputs": [],
   "source": []
  }
 ],
 "metadata": {
  "kernelspec": {
   "display_name": "Python 3 (ipykernel)",
   "language": "python",
   "name": "python3"
  },
  "language_info": {
   "codemirror_mode": {
    "name": "ipython",
    "version": 3
   },
   "file_extension": ".py",
   "mimetype": "text/x-python",
   "name": "python",
   "nbconvert_exporter": "python",
   "pygments_lexer": "ipython3",
   "version": "3.12.3"
  },
  "papermill": {
   "default_parameters": {},
   "duration": 120.244362,
   "end_time": "2024-07-07T13:52:21.374496",
   "environment_variables": {},
   "exception": null,
   "input_path": "01_Hyperparameters_search_scPoli_scANVI.ipynb",
   "output_path": "results_CT_studies/executed_notebooks/01_Hyperparameters_search_scPoli_VALIDATIONsample_200nLat_100pEmb_chemistry_Level1n2_optF1.ipynb",
   "parameters": {
    "QUERYNadata_path": "03_downstream_analysis/08_PatientClassifier/scPoli/results/PSEUDOBULKs/scPoli_PSEUDOBULKsample_VALIDATION_2_200_100_*.h5ad",
    "REFERENCEadata_path": "03_downstream_analysis/08_PatientClassifier/scPoli/results/PSEUDOBULKs/scPoli_PSEUDOBULKsample_ref_latents_VALIDATION_2_200_100_*.h5ad",
    "annotation": "Level1n2",
    "batch": "chemistry",
    "embSpace": "sample",
    "integration_method": "scPoli",
    "n_Patient_embedded": 100,
    "n_embedded": 200,
    "n_job": 32,
    "optimization_metric": "F1",
    "query_dataset": "VALIDATION"
   },
   "start_time": "2024-07-07T13:50:21.130134",
   "version": "2.6.0"
  },
  "widgets": {
   "application/vnd.jupyter.widget-state+json": {
    "state": {
     "01c83daa9d044da6869a820741ad0753": {
      "model_module": "@jupyter-widgets/base",
      "model_module_version": "2.0.0",
      "model_name": "LayoutModel",
      "state": {
       "_model_module": "@jupyter-widgets/base",
       "_model_module_version": "2.0.0",
       "_model_name": "LayoutModel",
       "_view_count": null,
       "_view_module": "@jupyter-widgets/base",
       "_view_module_version": "2.0.0",
       "_view_name": "LayoutView",
       "align_content": null,
       "align_items": null,
       "align_self": null,
       "border_bottom": null,
       "border_left": null,
       "border_right": null,
       "border_top": null,
       "bottom": null,
       "display": null,
       "flex": null,
       "flex_flow": null,
       "grid_area": null,
       "grid_auto_columns": null,
       "grid_auto_flow": null,
       "grid_auto_rows": null,
       "grid_column": null,
       "grid_gap": null,
       "grid_row": null,
       "grid_template_areas": null,
       "grid_template_columns": null,
       "grid_template_rows": null,
       "height": null,
       "justify_content": null,
       "justify_items": null,
       "left": null,
       "margin": null,
       "max_height": null,
       "max_width": null,
       "min_height": null,
       "min_width": null,
       "object_fit": null,
       "object_position": null,
       "order": null,
       "overflow": null,
       "padding": null,
       "right": null,
       "top": null,
       "visibility": null,
       "width": null
      }
     },
     "0907ba577e5242f7a85d40e9f33f07a9": {
      "model_module": "@jupyter-widgets/controls",
      "model_module_version": "2.0.0",
      "model_name": "HBoxModel",
      "state": {
       "_dom_classes": [],
       "_model_module": "@jupyter-widgets/controls",
       "_model_module_version": "2.0.0",
       "_model_name": "HBoxModel",
       "_view_count": null,
       "_view_module": "@jupyter-widgets/controls",
       "_view_module_version": "2.0.0",
       "_view_name": "HBoxView",
       "box_style": "",
       "children": [
        "IPY_MODEL_ebc0ee8c8c064085bd86bed5fba56e24",
        "IPY_MODEL_f3c6332b64064927b247efbf72945127",
        "IPY_MODEL_a3c7c11392754416b9dd7de3e3f827bd"
       ],
       "layout": "IPY_MODEL_8dd89d588a1a40e5901db289b7e0b080",
       "tabbable": null,
       "tooltip": null
      }
     },
     "0ce34d9a49cb486eb29cda3d541ab8d7": {
      "model_module": "@jupyter-widgets/base",
      "model_module_version": "2.0.0",
      "model_name": "LayoutModel",
      "state": {
       "_model_module": "@jupyter-widgets/base",
       "_model_module_version": "2.0.0",
       "_model_name": "LayoutModel",
       "_view_count": null,
       "_view_module": "@jupyter-widgets/base",
       "_view_module_version": "2.0.0",
       "_view_name": "LayoutView",
       "align_content": null,
       "align_items": null,
       "align_self": null,
       "border_bottom": null,
       "border_left": null,
       "border_right": null,
       "border_top": null,
       "bottom": null,
       "display": null,
       "flex": null,
       "flex_flow": null,
       "grid_area": null,
       "grid_auto_columns": null,
       "grid_auto_flow": null,
       "grid_auto_rows": null,
       "grid_column": null,
       "grid_gap": null,
       "grid_row": null,
       "grid_template_areas": null,
       "grid_template_columns": null,
       "grid_template_rows": null,
       "height": null,
       "justify_content": null,
       "justify_items": null,
       "left": null,
       "margin": null,
       "max_height": null,
       "max_width": null,
       "min_height": null,
       "min_width": null,
       "object_fit": null,
       "object_position": null,
       "order": null,
       "overflow": null,
       "padding": null,
       "right": null,
       "top": null,
       "visibility": null,
       "width": null
      }
     },
     "1288c4705cec4209908d83761c32a26c": {
      "model_module": "@jupyter-widgets/controls",
      "model_module_version": "2.0.0",
      "model_name": "HTMLStyleModel",
      "state": {
       "_model_module": "@jupyter-widgets/controls",
       "_model_module_version": "2.0.0",
       "_model_name": "HTMLStyleModel",
       "_view_count": null,
       "_view_module": "@jupyter-widgets/base",
       "_view_module_version": "2.0.0",
       "_view_name": "StyleView",
       "background": null,
       "description_width": "",
       "font_size": null,
       "text_color": null
      }
     },
     "28107bd3f01443ccb062ac7fb7b1775f": {
      "model_module": "@jupyter-widgets/base",
      "model_module_version": "2.0.0",
      "model_name": "LayoutModel",
      "state": {
       "_model_module": "@jupyter-widgets/base",
       "_model_module_version": "2.0.0",
       "_model_name": "LayoutModel",
       "_view_count": null,
       "_view_module": "@jupyter-widgets/base",
       "_view_module_version": "2.0.0",
       "_view_name": "LayoutView",
       "align_content": null,
       "align_items": null,
       "align_self": null,
       "border_bottom": null,
       "border_left": null,
       "border_right": null,
       "border_top": null,
       "bottom": null,
       "display": null,
       "flex": null,
       "flex_flow": null,
       "grid_area": null,
       "grid_auto_columns": null,
       "grid_auto_flow": null,
       "grid_auto_rows": null,
       "grid_column": null,
       "grid_gap": null,
       "grid_row": null,
       "grid_template_areas": null,
       "grid_template_columns": null,
       "grid_template_rows": null,
       "height": null,
       "justify_content": null,
       "justify_items": null,
       "left": null,
       "margin": null,
       "max_height": null,
       "max_width": null,
       "min_height": null,
       "min_width": null,
       "object_fit": null,
       "object_position": null,
       "order": null,
       "overflow": null,
       "padding": null,
       "right": null,
       "top": null,
       "visibility": null,
       "width": null
      }
     },
     "34561d7208f1431ba1d5f1094c80a6cb": {
      "model_module": "@jupyter-widgets/base",
      "model_module_version": "2.0.0",
      "model_name": "LayoutModel",
      "state": {
       "_model_module": "@jupyter-widgets/base",
       "_model_module_version": "2.0.0",
       "_model_name": "LayoutModel",
       "_view_count": null,
       "_view_module": "@jupyter-widgets/base",
       "_view_module_version": "2.0.0",
       "_view_name": "LayoutView",
       "align_content": null,
       "align_items": null,
       "align_self": null,
       "border_bottom": null,
       "border_left": null,
       "border_right": null,
       "border_top": null,
       "bottom": null,
       "display": null,
       "flex": null,
       "flex_flow": null,
       "grid_area": null,
       "grid_auto_columns": null,
       "grid_auto_flow": null,
       "grid_auto_rows": null,
       "grid_column": null,
       "grid_gap": null,
       "grid_row": null,
       "grid_template_areas": null,
       "grid_template_columns": null,
       "grid_template_rows": null,
       "height": null,
       "justify_content": null,
       "justify_items": null,
       "left": null,
       "margin": null,
       "max_height": null,
       "max_width": null,
       "min_height": null,
       "min_width": null,
       "object_fit": null,
       "object_position": null,
       "order": null,
       "overflow": null,
       "padding": null,
       "right": null,
       "top": null,
       "visibility": null,
       "width": null
      }
     },
     "3b4d6c0fff3e4aff9447645902f5f1d4": {
      "model_module": "@jupyter-widgets/controls",
      "model_module_version": "2.0.0",
      "model_name": "HTMLStyleModel",
      "state": {
       "_model_module": "@jupyter-widgets/controls",
       "_model_module_version": "2.0.0",
       "_model_name": "HTMLStyleModel",
       "_view_count": null,
       "_view_module": "@jupyter-widgets/base",
       "_view_module_version": "2.0.0",
       "_view_name": "StyleView",
       "background": null,
       "description_width": "",
       "font_size": null,
       "text_color": null
      }
     },
     "6b68e9d11e3f4f57a5cd79aaeeea4808": {
      "model_module": "@jupyter-widgets/controls",
      "model_module_version": "2.0.0",
      "model_name": "ProgressStyleModel",
      "state": {
       "_model_module": "@jupyter-widgets/controls",
       "_model_module_version": "2.0.0",
       "_model_name": "ProgressStyleModel",
       "_view_count": null,
       "_view_module": "@jupyter-widgets/base",
       "_view_module_version": "2.0.0",
       "_view_name": "StyleView",
       "bar_color": null,
       "description_width": ""
      }
     },
     "83b1ba0cc91948b79761364c68a7eb42": {
      "model_module": "@jupyter-widgets/controls",
      "model_module_version": "2.0.0",
      "model_name": "HTMLStyleModel",
      "state": {
       "_model_module": "@jupyter-widgets/controls",
       "_model_module_version": "2.0.0",
       "_model_name": "HTMLStyleModel",
       "_view_count": null,
       "_view_module": "@jupyter-widgets/base",
       "_view_module_version": "2.0.0",
       "_view_name": "StyleView",
       "background": null,
       "description_width": "",
       "font_size": null,
       "text_color": null
      }
     },
     "8948f2b4e0c046f984220432354f5844": {
      "model_module": "@jupyter-widgets/base",
      "model_module_version": "2.0.0",
      "model_name": "LayoutModel",
      "state": {
       "_model_module": "@jupyter-widgets/base",
       "_model_module_version": "2.0.0",
       "_model_name": "LayoutModel",
       "_view_count": null,
       "_view_module": "@jupyter-widgets/base",
       "_view_module_version": "2.0.0",
       "_view_name": "LayoutView",
       "align_content": null,
       "align_items": null,
       "align_self": null,
       "border_bottom": null,
       "border_left": null,
       "border_right": null,
       "border_top": null,
       "bottom": null,
       "display": null,
       "flex": null,
       "flex_flow": null,
       "grid_area": null,
       "grid_auto_columns": null,
       "grid_auto_flow": null,
       "grid_auto_rows": null,
       "grid_column": null,
       "grid_gap": null,
       "grid_row": null,
       "grid_template_areas": null,
       "grid_template_columns": null,
       "grid_template_rows": null,
       "height": null,
       "justify_content": null,
       "justify_items": null,
       "left": null,
       "margin": null,
       "max_height": null,
       "max_width": null,
       "min_height": null,
       "min_width": null,
       "object_fit": null,
       "object_position": null,
       "order": null,
       "overflow": null,
       "padding": null,
       "right": null,
       "top": null,
       "visibility": null,
       "width": null
      }
     },
     "8dd89d588a1a40e5901db289b7e0b080": {
      "model_module": "@jupyter-widgets/base",
      "model_module_version": "2.0.0",
      "model_name": "LayoutModel",
      "state": {
       "_model_module": "@jupyter-widgets/base",
       "_model_module_version": "2.0.0",
       "_model_name": "LayoutModel",
       "_view_count": null,
       "_view_module": "@jupyter-widgets/base",
       "_view_module_version": "2.0.0",
       "_view_name": "LayoutView",
       "align_content": null,
       "align_items": null,
       "align_self": null,
       "border_bottom": null,
       "border_left": null,
       "border_right": null,
       "border_top": null,
       "bottom": null,
       "display": null,
       "flex": null,
       "flex_flow": null,
       "grid_area": null,
       "grid_auto_columns": null,
       "grid_auto_flow": null,
       "grid_auto_rows": null,
       "grid_column": null,
       "grid_gap": null,
       "grid_row": null,
       "grid_template_areas": null,
       "grid_template_columns": null,
       "grid_template_rows": null,
       "height": null,
       "justify_content": null,
       "justify_items": null,
       "left": null,
       "margin": null,
       "max_height": null,
       "max_width": null,
       "min_height": null,
       "min_width": null,
       "object_fit": null,
       "object_position": null,
       "order": null,
       "overflow": null,
       "padding": null,
       "right": null,
       "top": null,
       "visibility": null,
       "width": null
      }
     },
     "98286ea0c264436981e9aba5474e891c": {
      "model_module": "@jupyter-widgets/controls",
      "model_module_version": "2.0.0",
      "model_name": "HBoxModel",
      "state": {
       "_dom_classes": [],
       "_model_module": "@jupyter-widgets/controls",
       "_model_module_version": "2.0.0",
       "_model_name": "HBoxModel",
       "_view_count": null,
       "_view_module": "@jupyter-widgets/controls",
       "_view_module_version": "2.0.0",
       "_view_name": "HBoxView",
       "box_style": "",
       "children": [
        "IPY_MODEL_a286b9bf8f8144549e39203315db5a3f",
        "IPY_MODEL_a39f0452f40046ee90c008648497cecf",
        "IPY_MODEL_e4c88677e68042e7a61139dd5d4c1d07"
       ],
       "layout": "IPY_MODEL_0ce34d9a49cb486eb29cda3d541ab8d7",
       "tabbable": null,
       "tooltip": null
      }
     },
     "9b7e5cd830ed427188301dd4bfd05cd7": {
      "model_module": "@jupyter-widgets/controls",
      "model_module_version": "2.0.0",
      "model_name": "HTMLStyleModel",
      "state": {
       "_model_module": "@jupyter-widgets/controls",
       "_model_module_version": "2.0.0",
       "_model_name": "HTMLStyleModel",
       "_view_count": null,
       "_view_module": "@jupyter-widgets/base",
       "_view_module_version": "2.0.0",
       "_view_name": "StyleView",
       "background": null,
       "description_width": "",
       "font_size": null,
       "text_color": null
      }
     },
     "a286b9bf8f8144549e39203315db5a3f": {
      "model_module": "@jupyter-widgets/controls",
      "model_module_version": "2.0.0",
      "model_name": "HTMLModel",
      "state": {
       "_dom_classes": [],
       "_model_module": "@jupyter-widgets/controls",
       "_model_module_version": "2.0.0",
       "_model_name": "HTMLModel",
       "_view_count": null,
       "_view_module": "@jupyter-widgets/controls",
       "_view_module_version": "2.0.0",
       "_view_name": "HTMLView",
       "description": "",
       "description_allow_html": false,
       "layout": "IPY_MODEL_a491c0986bea4e59960afda85aa62a4f",
       "placeholder": "​",
       "style": "IPY_MODEL_9b7e5cd830ed427188301dd4bfd05cd7",
       "tabbable": null,
       "tooltip": null,
       "value": "Best trial: 249. Best value: 0.791591: 100%"
      }
     },
     "a39f0452f40046ee90c008648497cecf": {
      "model_module": "@jupyter-widgets/controls",
      "model_module_version": "2.0.0",
      "model_name": "FloatProgressModel",
      "state": {
       "_dom_classes": [],
       "_model_module": "@jupyter-widgets/controls",
       "_model_module_version": "2.0.0",
       "_model_name": "FloatProgressModel",
       "_view_count": null,
       "_view_module": "@jupyter-widgets/controls",
       "_view_module_version": "2.0.0",
       "_view_name": "ProgressView",
       "bar_style": "success",
       "description": "",
       "description_allow_html": false,
       "layout": "IPY_MODEL_b10c7ad039ff4a6fbb62e32fb829bc05",
       "max": 300.0,
       "min": 0.0,
       "orientation": "horizontal",
       "style": "IPY_MODEL_e0495f60245d4f87a6ee2728bf92c2ec",
       "tabbable": null,
       "tooltip": null,
       "value": 300.0
      }
     },
     "a3c7c11392754416b9dd7de3e3f827bd": {
      "model_module": "@jupyter-widgets/controls",
      "model_module_version": "2.0.0",
      "model_name": "HTMLModel",
      "state": {
       "_dom_classes": [],
       "_model_module": "@jupyter-widgets/controls",
       "_model_module_version": "2.0.0",
       "_model_name": "HTMLModel",
       "_view_count": null,
       "_view_module": "@jupyter-widgets/controls",
       "_view_module_version": "2.0.0",
       "_view_name": "HTMLView",
       "description": "",
       "description_allow_html": false,
       "layout": "IPY_MODEL_8948f2b4e0c046f984220432354f5844",
       "placeholder": "​",
       "style": "IPY_MODEL_83b1ba0cc91948b79761364c68a7eb42",
       "tabbable": null,
       "tooltip": null,
       "value": " 100/100 [01:30&lt;00:00, 10.49s/it]"
      }
     },
     "a491c0986bea4e59960afda85aa62a4f": {
      "model_module": "@jupyter-widgets/base",
      "model_module_version": "2.0.0",
      "model_name": "LayoutModel",
      "state": {
       "_model_module": "@jupyter-widgets/base",
       "_model_module_version": "2.0.0",
       "_model_name": "LayoutModel",
       "_view_count": null,
       "_view_module": "@jupyter-widgets/base",
       "_view_module_version": "2.0.0",
       "_view_name": "LayoutView",
       "align_content": null,
       "align_items": null,
       "align_self": null,
       "border_bottom": null,
       "border_left": null,
       "border_right": null,
       "border_top": null,
       "bottom": null,
       "display": null,
       "flex": null,
       "flex_flow": null,
       "grid_area": null,
       "grid_auto_columns": null,
       "grid_auto_flow": null,
       "grid_auto_rows": null,
       "grid_column": null,
       "grid_gap": null,
       "grid_row": null,
       "grid_template_areas": null,
       "grid_template_columns": null,
       "grid_template_rows": null,
       "height": null,
       "justify_content": null,
       "justify_items": null,
       "left": null,
       "margin": null,
       "max_height": null,
       "max_width": null,
       "min_height": null,
       "min_width": null,
       "object_fit": null,
       "object_position": null,
       "order": null,
       "overflow": null,
       "padding": null,
       "right": null,
       "top": null,
       "visibility": null,
       "width": null
      }
     },
     "b10c7ad039ff4a6fbb62e32fb829bc05": {
      "model_module": "@jupyter-widgets/base",
      "model_module_version": "2.0.0",
      "model_name": "LayoutModel",
      "state": {
       "_model_module": "@jupyter-widgets/base",
       "_model_module_version": "2.0.0",
       "_model_name": "LayoutModel",
       "_view_count": null,
       "_view_module": "@jupyter-widgets/base",
       "_view_module_version": "2.0.0",
       "_view_name": "LayoutView",
       "align_content": null,
       "align_items": null,
       "align_self": null,
       "border_bottom": null,
       "border_left": null,
       "border_right": null,
       "border_top": null,
       "bottom": null,
       "display": null,
       "flex": null,
       "flex_flow": null,
       "grid_area": null,
       "grid_auto_columns": null,
       "grid_auto_flow": null,
       "grid_auto_rows": null,
       "grid_column": null,
       "grid_gap": null,
       "grid_row": null,
       "grid_template_areas": null,
       "grid_template_columns": null,
       "grid_template_rows": null,
       "height": null,
       "justify_content": null,
       "justify_items": null,
       "left": null,
       "margin": null,
       "max_height": null,
       "max_width": null,
       "min_height": null,
       "min_width": null,
       "object_fit": null,
       "object_position": null,
       "order": null,
       "overflow": null,
       "padding": null,
       "right": null,
       "top": null,
       "visibility": null,
       "width": null
      }
     },
     "e0495f60245d4f87a6ee2728bf92c2ec": {
      "model_module": "@jupyter-widgets/controls",
      "model_module_version": "2.0.0",
      "model_name": "ProgressStyleModel",
      "state": {
       "_model_module": "@jupyter-widgets/controls",
       "_model_module_version": "2.0.0",
       "_model_name": "ProgressStyleModel",
       "_view_count": null,
       "_view_module": "@jupyter-widgets/base",
       "_view_module_version": "2.0.0",
       "_view_name": "StyleView",
       "bar_color": null,
       "description_width": ""
      }
     },
     "e4c88677e68042e7a61139dd5d4c1d07": {
      "model_module": "@jupyter-widgets/controls",
      "model_module_version": "2.0.0",
      "model_name": "HTMLModel",
      "state": {
       "_dom_classes": [],
       "_model_module": "@jupyter-widgets/controls",
       "_model_module_version": "2.0.0",
       "_model_name": "HTMLModel",
       "_view_count": null,
       "_view_module": "@jupyter-widgets/controls",
       "_view_module_version": "2.0.0",
       "_view_name": "HTMLView",
       "description": "",
       "description_allow_html": false,
       "layout": "IPY_MODEL_01c83daa9d044da6869a820741ad0753",
       "placeholder": "​",
       "style": "IPY_MODEL_1288c4705cec4209908d83761c32a26c",
       "tabbable": null,
       "tooltip": null,
       "value": " 300/300 [00:18&lt;00:00, 33.27it/s]"
      }
     },
     "ebc0ee8c8c064085bd86bed5fba56e24": {
      "model_module": "@jupyter-widgets/controls",
      "model_module_version": "2.0.0",
      "model_name": "HTMLModel",
      "state": {
       "_dom_classes": [],
       "_model_module": "@jupyter-widgets/controls",
       "_model_module_version": "2.0.0",
       "_model_name": "HTMLModel",
       "_view_count": null,
       "_view_module": "@jupyter-widgets/controls",
       "_view_module_version": "2.0.0",
       "_view_name": "HTMLView",
       "description": "",
       "description_allow_html": false,
       "layout": "IPY_MODEL_28107bd3f01443ccb062ac7fb7b1775f",
       "placeholder": "​",
       "style": "IPY_MODEL_3b4d6c0fff3e4aff9447645902f5f1d4",
       "tabbable": null,
       "tooltip": null,
       "value": "Best trial: 22. Best value: 0.770473: 100%"
      }
     },
     "f3c6332b64064927b247efbf72945127": {
      "model_module": "@jupyter-widgets/controls",
      "model_module_version": "2.0.0",
      "model_name": "FloatProgressModel",
      "state": {
       "_dom_classes": [],
       "_model_module": "@jupyter-widgets/controls",
       "_model_module_version": "2.0.0",
       "_model_name": "FloatProgressModel",
       "_view_count": null,
       "_view_module": "@jupyter-widgets/controls",
       "_view_module_version": "2.0.0",
       "_view_name": "ProgressView",
       "bar_style": "success",
       "description": "",
       "description_allow_html": false,
       "layout": "IPY_MODEL_34561d7208f1431ba1d5f1094c80a6cb",
       "max": 100.0,
       "min": 0.0,
       "orientation": "horizontal",
       "style": "IPY_MODEL_6b68e9d11e3f4f57a5cd79aaeeea4808",
       "tabbable": null,
       "tooltip": null,
       "value": 100.0
      }
     }
    },
    "version_major": 2,
    "version_minor": 0
   }
  }
 },
 "nbformat": 4,
 "nbformat_minor": 5
}