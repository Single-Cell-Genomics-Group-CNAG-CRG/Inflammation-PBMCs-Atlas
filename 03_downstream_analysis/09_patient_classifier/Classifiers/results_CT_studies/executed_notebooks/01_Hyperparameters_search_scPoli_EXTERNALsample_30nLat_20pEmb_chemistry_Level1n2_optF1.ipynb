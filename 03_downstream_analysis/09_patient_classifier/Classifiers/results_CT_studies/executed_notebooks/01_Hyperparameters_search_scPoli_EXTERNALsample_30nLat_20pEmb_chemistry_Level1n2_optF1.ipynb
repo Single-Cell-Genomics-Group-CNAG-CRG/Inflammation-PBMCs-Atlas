{
 "cells": [
  {
   "cell_type": "code",
   "execution_count": 1,
   "id": "86e37657",
   "metadata": {
    "execution": {
     "iopub.execute_input": "2024-07-14T16:01:09.358252Z",
     "iopub.status.busy": "2024-07-14T16:01:09.358024Z",
     "iopub.status.idle": "2024-07-14T16:01:09.360981Z",
     "shell.execute_reply": "2024-07-14T16:01:09.360679Z"
    },
    "papermill": {
     "duration": 0.013551,
     "end_time": "2024-07-14T16:01:09.361896",
     "exception": false,
     "start_time": "2024-07-14T16:01:09.348345",
     "status": "completed"
    },
    "tags": [
     "injected-parameters"
    ]
   },
   "outputs": [],
   "source": [
    "# Parameters\n",
    "query_dataset = \"EXTERNAL\"\n",
    "n_embedded = 30\n",
    "n_Patient_embedded = 20\n",
    "embSpace = \"sample\"\n",
    "integration_method = \"scPoli\"\n",
    "batch = \"chemistry\"\n",
    "annotation = \"Level1n2\"\n",
    "REFERENCEadata_path = \"03_downstream_analysis/08_PatientClassifier/scPoli/results/PSEUDOBULKs/scPoli_PSEUDOBULKsample_ref_latents_EXTERNAL_2_30_20_*.h5ad\"\n",
    "QUERYNadata_path = \"03_downstream_analysis/08_PatientClassifier/scPoli/results/PSEUDOBULKs/scPoli_PSEUDOBULKsample_EXTERNAL_2_30_20_*.h5ad\"\n",
    "optimization_metric = \"F1\"\n",
    "n_job = 32\n"
   ]
  },
  {
   "cell_type": "raw",
   "id": "8006df31-f699-4d7c-be82-be75bd4e65b5",
   "metadata": {
    "execution": {
     "iopub.execute_input": "2024-07-07T12:47:25.237809Z",
     "iopub.status.busy": "2024-07-07T12:47:25.237662Z",
     "iopub.status.idle": "2024-07-07T12:47:25.241185Z",
     "shell.execute_reply": "2024-07-07T12:47:25.240733Z",
     "shell.execute_reply.started": "2024-07-07T12:47:25.237792Z"
    },
    "papermill": {
     "duration": 0.008235,
     "end_time": "2024-07-14T16:01:09.377808",
     "exception": false,
     "start_time": "2024-07-14T16:01:09.369573",
     "status": "completed"
    },
    "tags": []
   },
   "source": [
    "query_dataset = 'VALIDATION'\n",
    "\n",
    "integration_method = \"scANVIkNN\"\n",
    "\n",
    "n_embedded = 30\n",
    "batch = \"chemistry\"\n",
    "annotation = \"Level2\"\n",
    "n_Patient_embedded = 0\n",
    "embSpace = 'cell'\n",
    "\n",
    "REFERENCEadata_path = \"03_downstream_analysis/08_PatientClassifier/scANVI/results/PSEUDOBULKs/scANVI_PSEUDOBULK_reference_EXTERNAL_256_30_Level2_*.h5ad\"\n",
    "QUERYNadata_path = \"03_downstream_analysis/08_PatientClassifier/scANVI/results/PSEUDOBULKs/scANVI_PSEUDOBULK_kNN_query_VALIDATION_256_30_Level2_*.h5ad\"\n",
    "\n",
    "optimization_metric = 'F1'\n",
    "\n",
    "n_job = 50"
   ]
  },
  {
   "cell_type": "code",
   "execution_count": 2,
   "id": "0fcb96fe-1ddc-4da2-95ac-e91752904818",
   "metadata": {
    "execution": {
     "iopub.execute_input": "2024-07-14T16:01:09.393981Z",
     "iopub.status.busy": "2024-07-14T16:01:09.393704Z",
     "iopub.status.idle": "2024-07-14T16:01:09.396746Z",
     "shell.execute_reply": "2024-07-14T16:01:09.396443Z"
    },
    "papermill": {
     "duration": 0.011974,
     "end_time": "2024-07-14T16:01:09.397566",
     "exception": false,
     "start_time": "2024-07-14T16:01:09.385592",
     "status": "completed"
    },
    "tags": []
   },
   "outputs": [
    {
     "name": "stdout",
     "output_type": "stream",
     "text": [
      "REFERENCEadata_path = 03_downstream_analysis/08_PatientClassifier/scPoli/results/PSEUDOBULKs/scPoli_PSEUDOBULKsample_ref_latents_EXTERNAL_2_30_20_*.h5ad\n",
      "QUERYNadata_path = 03_downstream_analysis/08_PatientClassifier/scPoli/results/PSEUDOBULKs/scPoli_PSEUDOBULKsample_EXTERNAL_2_30_20_*.h5ad\n",
      "query_dataset = EXTERNAL\n",
      "integration_method = scPoli\n",
      "embSpace = sample\n",
      "n_embedded = 30\n",
      "n_Patient_embedded = 20\n",
      "batch = chemistry\n",
      "annotation = Level1n2\n",
      "optimization_metric = F1\n",
      "n_job = 32\n"
     ]
    }
   ],
   "source": [
    "for v in ['REFERENCEadata_path','QUERYNadata_path','query_dataset','integration_method',\n",
    "          'embSpace','n_embedded','n_Patient_embedded','batch','annotation','optimization_metric','n_job']:\n",
    "    if v in locals() or v in globals():\n",
    "        print(f\"{v} = {eval(v)}\", end='\\n')\n",
    "    else:\n",
    "        raise ValueError(f\"{v} is not defined\")"
   ]
  },
  {
   "cell_type": "code",
   "execution_count": 3,
   "id": "758cad27-6850-48ef-a1a2-31b4515a2452",
   "metadata": {
    "execution": {
     "iopub.execute_input": "2024-07-14T16:01:09.413288Z",
     "iopub.status.busy": "2024-07-14T16:01:09.413072Z",
     "iopub.status.idle": "2024-07-14T16:01:11.650912Z",
     "shell.execute_reply": "2024-07-14T16:01:11.650416Z"
    },
    "papermill": {
     "duration": 2.246984,
     "end_time": "2024-07-14T16:01:11.652072",
     "exception": false,
     "start_time": "2024-07-14T16:01:09.405088",
     "status": "completed"
    },
    "tags": []
   },
   "outputs": [],
   "source": [
    "import os\n",
    "\n",
    "from glob import glob\n",
    "\n",
    "import optuna as op\n",
    "\n",
    "from optuna.samplers import TPESampler, BruteForceSampler\n",
    "\n",
    "import scanpy as sc\n",
    "import pandas as pd\n",
    "import matplotlib.pyplot as plt\n",
    "\n",
    "import joblib\n",
    "\n",
    "\n",
    "from sklearn.svm import LinearSVC, SVC\n",
    "from sklearn.neighbors import KNeighborsClassifier\n",
    "\n",
    "from sklearn.preprocessing import StandardScaler\n",
    "from sklearn.metrics import f1_score, balanced_accuracy_score, matthews_corrcoef\n",
    "\n",
    "from pyprojroot import here\n",
    "\n",
    "from tqdm import tqdm"
   ]
  },
  {
   "cell_type": "code",
   "execution_count": 4,
   "id": "c201d383-ff56-4311-a9bf-f2486358f2ec",
   "metadata": {
    "execution": {
     "iopub.execute_input": "2024-07-14T16:01:11.669112Z",
     "iopub.status.busy": "2024-07-14T16:01:11.668748Z",
     "iopub.status.idle": "2024-07-14T16:01:11.672815Z",
     "shell.execute_reply": "2024-07-14T16:01:11.672494Z"
    },
    "papermill": {
     "duration": 0.012825,
     "end_time": "2024-07-14T16:01:11.673573",
     "exception": false,
     "start_time": "2024-07-14T16:01:11.660748",
     "status": "completed"
    },
    "tags": []
   },
   "outputs": [],
   "source": [
    "op.logging.set_verbosity(op.logging.WARNING)"
   ]
  },
  {
   "cell_type": "code",
   "execution_count": 5,
   "id": "3d348e24-3245-402c-9e8d-cf79ab5c3fa8",
   "metadata": {
    "execution": {
     "iopub.execute_input": "2024-07-14T16:01:11.689116Z",
     "iopub.status.busy": "2024-07-14T16:01:11.688943Z",
     "iopub.status.idle": "2024-07-14T16:01:11.690876Z",
     "shell.execute_reply": "2024-07-14T16:01:11.690566Z"
    },
    "papermill": {
     "duration": 0.010562,
     "end_time": "2024-07-14T16:01:11.691723",
     "exception": false,
     "start_time": "2024-07-14T16:01:11.681161",
     "status": "completed"
    },
    "tags": []
   },
   "outputs": [],
   "source": [
    "random_seed = 42"
   ]
  },
  {
   "cell_type": "code",
   "execution_count": 6,
   "id": "baee6c9e-adc2-48ad-9bce-cb0ed1b9fb74",
   "metadata": {
    "execution": {
     "iopub.execute_input": "2024-07-14T16:01:11.707276Z",
     "iopub.status.busy": "2024-07-14T16:01:11.706979Z",
     "iopub.status.idle": "2024-07-14T16:01:11.713202Z",
     "shell.execute_reply": "2024-07-14T16:01:11.712866Z"
    },
    "papermill": {
     "duration": 0.014858,
     "end_time": "2024-07-14T16:01:11.714017",
     "exception": false,
     "start_time": "2024-07-14T16:01:11.699159",
     "status": "completed"
    },
    "tags": []
   },
   "outputs": [],
   "source": [
    "mainDir=here('03_downstream_analysis/08_PatientClassifier/Classifiers/results_CT_studies/')"
   ]
  },
  {
   "cell_type": "markdown",
   "id": "b4709398-98b6-4f04-be56-d70e5dd0a7a0",
   "metadata": {
    "papermill": {
     "duration": 0.007379,
     "end_time": "2024-07-14T16:01:11.728946",
     "exception": false,
     "start_time": "2024-07-14T16:01:11.721567",
     "status": "completed"
    },
    "tags": []
   },
   "source": [
    "### Defining functions"
   ]
  },
  {
   "cell_type": "code",
   "execution_count": 7,
   "id": "81d6ddc9-2554-463a-84db-b7e9cf9c98da",
   "metadata": {
    "execution": {
     "iopub.execute_input": "2024-07-14T16:01:11.744848Z",
     "iopub.status.busy": "2024-07-14T16:01:11.744606Z",
     "iopub.status.idle": "2024-07-14T16:01:11.752386Z",
     "shell.execute_reply": "2024-07-14T16:01:11.752088Z"
    },
    "papermill": {
     "duration": 0.016837,
     "end_time": "2024-07-14T16:01:11.753192",
     "exception": false,
     "start_time": "2024-07-14T16:01:11.736355",
     "status": "completed"
    },
    "tags": []
   },
   "outputs": [],
   "source": [
    "def _most_frequent_or_na(row):\n",
    "    mode = row.mode()\n",
    "    if len(mode) > 1:\n",
    "        return 'nan'\n",
    "    else:\n",
    "        return mode.iloc[0]\n",
    "            \n",
    "class CellTypeDiseasePrediction():\n",
    "        \n",
    "    def __init__(self, clf_params, classifier, cell_type, y_true_col='disease', sample_id_col='sampleID'):\n",
    "        self.clf_params = clf_params\n",
    "        self.classifier = classifier\n",
    "        self.ct = cell_type\n",
    "        self.y_true_col = y_true_col\n",
    "        self.sample_id_col = sample_id_col\n",
    "        self.clfs = {}\n",
    "        self.use_scaler = self.clf_params.pop('scaler')\n",
    "        #self.le = LabelEncoder()\n",
    "        \n",
    "    def fit(self, adataTrain):\n",
    "\n",
    "    \n",
    "        #adataTrain.obs.loc[:,self.y_true_col] = self.le.fit_transform(adataTrain.obs[self.y_true_col])\n",
    "        \n",
    "        X_train = adataTrain.X\n",
    "        y_train = adataTrain.obs[self.y_true_col]\n",
    "\n",
    "        if self.use_scaler:\n",
    "            self.scaler = StandardScaler().fit(X_train)\n",
    "            X_train = self.scaler.transform(X_train)\n",
    "   \n",
    "        self.clfs = self.classifier(**self.clf_params).fit(X_train, y_train)\n",
    "\n",
    "        return self\n",
    "\n",
    "    def predict(self, adataVal, y_true_col='disease'):\n",
    "\n",
    "        #adataVal.obs.loc[:,y_true_col] = self.le.transform(adataVal.obs[y_true_col])\n",
    "        \n",
    "        cell_type_pred = []\n",
    "        \n",
    "        X_val = adataVal.X\n",
    "\n",
    "        if self.use_scaler:\n",
    "            X_val = self.scaler.transform(X_val)\n",
    "        \n",
    "        y_pred = self.clfs.predict(X_val)\n",
    "\n",
    "        cell_type_pred = pd.DataFrame({self.sample_id_col: adataVal.obs[self.sample_id_col],\n",
    "                                       self.y_true_col: adataVal.obs[self.y_true_col],\n",
    "                                       f'disease_pred_{self.ct}': y_pred}).set_index(self.sample_id_col)\n",
    "\n",
    "        \n",
    "        # cell_type_pred['disease_pred'] = cell_type_pred.apply(_most_frequent_or_na, axis=1)\n",
    "\n",
    "        # cell_type_pred_merged = cell_type_pred.merge(adataVal.obs.groupby([self.sample_id_col], observed=True).agg({y_true_col:'first'}), \n",
    "        #                                              left_index=True, \n",
    "        #                                              right_index=True)\n",
    "        \n",
    "\n",
    "        return cell_type_pred\n",
    "\n",
    "class VotingDisease():\n",
    "    \n",
    "    def __init__(self, classifier = None, cell_type_studies = None, fixed_params = None, \n",
    "                 cell_type_col = 'Level1', sample_id_col = 'sampleID', y_true_col = 'disease'):\n",
    "        \n",
    "        self.fixed_params = fixed_params\n",
    "        self.classifier = classifier\n",
    "        self.ct_studies = cell_type_studies\n",
    "        self.cell_type_col = cell_type_col \n",
    "        self.y_true_col = y_true_col\n",
    "        self.sample_id_col = sample_id_col\n",
    "        self.clfs = {}\n",
    "\n",
    "    def fit(self, adataR = None):\n",
    "        \n",
    "        for ct_i in self.ct_studies.keys(): \n",
    "    \n",
    "            adataR_ct = adataR[adataR.obs[cell_type_col] == ct_i]\n",
    "            # adataQ_ct = adataQ[adataQ.obs[cell_type_col] == ct_i]\n",
    "        \n",
    "            clf_params = self.fixed_params | self.ct_studies[ct_i].best_trial.params\n",
    "        \n",
    "            self.clfs[ct_i] = (CellTypeDiseasePrediction(clf_params=clf_params, \n",
    "                                                         classifier=self.classifier, \n",
    "                                                         cell_type = ct_i, \n",
    "                                                         sample_id_col=self.sample_id_col, \n",
    "                                                         y_true_col = self.y_true_col)\n",
    "                                .fit(adataR_ct))\n",
    "        return self\n",
    "            \n",
    "    def predict(self, adataQ = None):\n",
    "        \n",
    "        y_pred_query_list = []\n",
    "        \n",
    "        for ct_i in self.ct_studies.keys(): \n",
    "    \n",
    "            adataQ_ct = adataQ[adataQ.obs[self.cell_type_col] == ct_i]\n",
    "        \n",
    "            y_pred_query_list.append(self.clfs[ct_i].predict(adataQ_ct, y_true_col = self.y_true_col).iloc[:,1])\n",
    "        \n",
    "        cellType_prediction_df = pd.concat(y_pred_query_list, axis=1, ignore_index=False, join='outer')\n",
    "        cellType_prediction_df['majority_pred'] = cellType_prediction_df.apply(_most_frequent_or_na, axis=1)\n",
    "\n",
    "        cellType_prediction_df = (cellType_prediction_df.merge(adataQ.obs[[self.sample_id_col, self.y_true_col]].drop_duplicates(), \n",
    "                                                               left_index = True, right_on = self.sample_id_col)\n",
    "                                  .set_index(self.sample_id_col))\n",
    "\n",
    "        return cellType_prediction_df"
   ]
  },
  {
   "cell_type": "markdown",
   "id": "54b0d7a6-9bc6-4ffe-b86d-475a6b391906",
   "metadata": {
    "papermill": {
     "duration": 0.007877,
     "end_time": "2024-07-14T16:01:11.769204",
     "exception": false,
     "start_time": "2024-07-14T16:01:11.761327",
     "status": "completed"
    },
    "tags": []
   },
   "source": [
    "### Loading data"
   ]
  },
  {
   "cell_type": "code",
   "execution_count": 8,
   "id": "8fa540e1-0656-4287-a0eb-0d4110e3a3bf",
   "metadata": {
    "execution": {
     "iopub.execute_input": "2024-07-14T16:01:11.785502Z",
     "iopub.status.busy": "2024-07-14T16:01:11.785305Z",
     "iopub.status.idle": "2024-07-14T16:01:11.870572Z",
     "shell.execute_reply": "2024-07-14T16:01:11.870212Z"
    },
    "papermill": {
     "duration": 0.094205,
     "end_time": "2024-07-14T16:01:11.871359",
     "exception": false,
     "start_time": "2024-07-14T16:01:11.777154",
     "status": "completed"
    },
    "tags": []
   },
   "outputs": [
    {
     "name": "stdout",
     "output_type": "stream",
     "text": [
      "scPoli_PSEUDOBULKsample_ref_latents_EXTERNAL_2_30_20_run3_0vvgu480.h5ad\n",
      "scPoli_PSEUDOBULKsample_EXTERNAL_2_30_20_run3_0vvgu480.h5ad\n"
     ]
    }
   ],
   "source": [
    "adataPathList = glob(str(here(REFERENCEadata_path)))\n",
    "if len(adataPathList) != 1:\n",
    "    print(adataPathList)\n",
    "    raise ValueError(f\"{adataPathList} adata not found\")\n",
    "else:\n",
    "    print(os.path.basename(adataPathList[0]))\n",
    "    REFERENCEpseudobulk = sc.read_h5ad(adataPathList[0])\n",
    "\n",
    "adataPathList = glob(str(here(QUERYNadata_path)))\n",
    "if len(adataPathList) != 1:\n",
    "    print(adataPathList)\n",
    "    raise ValueError(f\"adata not found\")\n",
    "else:\n",
    "    print(os.path.basename(adataPathList[0]))\n",
    "    QUERYpseudobulk = sc.read_h5ad(adataPathList[0])"
   ]
  },
  {
   "cell_type": "code",
   "execution_count": 9,
   "id": "34f17857-6896-4ec0-b8df-f349a0f4b563",
   "metadata": {
    "execution": {
     "iopub.execute_input": "2024-07-14T16:01:11.887670Z",
     "iopub.status.busy": "2024-07-14T16:01:11.887360Z",
     "iopub.status.idle": "2024-07-14T16:01:11.890249Z",
     "shell.execute_reply": "2024-07-14T16:01:11.889920Z"
    },
    "papermill": {
     "duration": 0.011604,
     "end_time": "2024-07-14T16:01:11.891008",
     "exception": false,
     "start_time": "2024-07-14T16:01:11.879404",
     "status": "completed"
    },
    "tags": []
   },
   "outputs": [],
   "source": [
    "# Renaiming 'Level1_pred' in scGen query datasets for consistency\n",
    "# and assert that 'disease' is in obs\n",
    "for ad_i in [REFERENCEpseudobulk,QUERYpseudobulk]:\n",
    "    ad_i.obs.rename({'Level1_pred':'Level1'},axis=1,inplace=True)\n",
    "    assert('disease' in ad_i.obs.columns)"
   ]
  },
  {
   "cell_type": "code",
   "execution_count": 10,
   "id": "dedd1921-9e34-40a4-aa1e-e1936b7f6ec8",
   "metadata": {
    "execution": {
     "iopub.execute_input": "2024-07-14T16:01:11.906362Z",
     "iopub.status.busy": "2024-07-14T16:01:11.906225Z",
     "iopub.status.idle": "2024-07-14T16:01:11.910532Z",
     "shell.execute_reply": "2024-07-14T16:01:11.910241Z"
    },
    "papermill": {
     "duration": 0.012771,
     "end_time": "2024-07-14T16:01:11.911300",
     "exception": false,
     "start_time": "2024-07-14T16:01:11.898529",
     "status": "completed"
    },
    "tags": []
   },
   "outputs": [
    {
     "data": {
      "text/plain": [
       "(AnnData object with n_obs × n_vars = 817 × 20\n",
       "     obs: 'sampleID', 'disease', 'Level1',\n",
       " AnnData object with n_obs × n_vars = 86 × 20\n",
       "     obs: 'sampleID', 'disease', 'Level1')"
      ]
     },
     "execution_count": 10,
     "metadata": {},
     "output_type": "execute_result"
    }
   ],
   "source": [
    "REFERENCEpseudobulk, QUERYpseudobulk"
   ]
  },
  {
   "cell_type": "code",
   "execution_count": 11,
   "id": "8b0a8658-f139-4b55-8da0-bd8fe7459e43",
   "metadata": {
    "execution": {
     "iopub.execute_input": "2024-07-14T16:01:11.927148Z",
     "iopub.status.busy": "2024-07-14T16:01:11.926925Z",
     "iopub.status.idle": "2024-07-14T16:01:11.929861Z",
     "shell.execute_reply": "2024-07-14T16:01:11.929564Z"
    },
    "papermill": {
     "duration": 0.011637,
     "end_time": "2024-07-14T16:01:11.930597",
     "exception": false,
     "start_time": "2024-07-14T16:01:11.918960",
     "status": "completed"
    },
    "tags": []
   },
   "outputs": [
    {
     "data": {
      "text/plain": [
       "['RA', 'healthy', 'COVID', 'HIV', 'cirrhosis', 'CD', 'SLE', 'sepsis']"
      ]
     },
     "execution_count": 11,
     "metadata": {},
     "output_type": "execute_result"
    }
   ],
   "source": [
    "QUERYpseudobulk.obs.disease.unique().tolist()"
   ]
  },
  {
   "cell_type": "code",
   "execution_count": 12,
   "id": "921bbbc6-1c59-4e41-8460-6f4b51fe5367",
   "metadata": {
    "execution": {
     "iopub.execute_input": "2024-07-14T16:01:11.947303Z",
     "iopub.status.busy": "2024-07-14T16:01:11.946957Z",
     "iopub.status.idle": "2024-07-14T16:01:11.949626Z",
     "shell.execute_reply": "2024-07-14T16:01:11.949342Z"
    },
    "papermill": {
     "duration": 0.011644,
     "end_time": "2024-07-14T16:01:11.950357",
     "exception": false,
     "start_time": "2024-07-14T16:01:11.938713",
     "status": "completed"
    },
    "tags": []
   },
   "outputs": [
    {
     "data": {
      "text/plain": [
       "(86,)"
      ]
     },
     "execution_count": 12,
     "metadata": {},
     "output_type": "execute_result"
    }
   ],
   "source": [
    "QUERYpseudobulk.obs.sampleID.unique().shape"
   ]
  },
  {
   "cell_type": "markdown",
   "id": "47a24343-38f0-4d9b-85e5-96b191b9d493",
   "metadata": {
    "papermill": {
     "duration": 0.007937,
     "end_time": "2024-07-14T16:01:11.966254",
     "exception": false,
     "start_time": "2024-07-14T16:01:11.958317",
     "status": "completed"
    },
    "tags": []
   },
   "source": [
    "### Removing unwanted cell-types"
   ]
  },
  {
   "cell_type": "code",
   "execution_count": 13,
   "id": "33d021b8-257a-4a18-b995-fe93a2ef1563",
   "metadata": {
    "execution": {
     "iopub.execute_input": "2024-07-14T16:01:11.982854Z",
     "iopub.status.busy": "2024-07-14T16:01:11.982640Z",
     "iopub.status.idle": "2024-07-14T16:01:11.988389Z",
     "shell.execute_reply": "2024-07-14T16:01:11.988097Z"
    },
    "papermill": {
     "duration": 0.014858,
     "end_time": "2024-07-14T16:01:11.989128",
     "exception": false,
     "start_time": "2024-07-14T16:01:11.974270",
     "status": "completed"
    },
    "tags": []
   },
   "outputs": [],
   "source": [
    "REFERENCEpseudobulkFilt = REFERENCEpseudobulk[~REFERENCEpseudobulk.obs['Level1'].isin(['Progenitors','Cycling_cells','Platelets','RBC'])].copy()\n",
    "QUERYpseudobulkFilt = QUERYpseudobulk[~QUERYpseudobulk.obs['Level1'].isin(['Progenitors','Cycling_cells','Platelets','RBC'])].copy()"
   ]
  },
  {
   "cell_type": "code",
   "execution_count": 14,
   "id": "aed927b0-478b-470d-9ed1-af7312f7ed63",
   "metadata": {
    "execution": {
     "iopub.execute_input": "2024-07-14T16:01:12.006145Z",
     "iopub.status.busy": "2024-07-14T16:01:12.005867Z",
     "iopub.status.idle": "2024-07-14T16:01:12.008397Z",
     "shell.execute_reply": "2024-07-14T16:01:12.008116Z"
    },
    "papermill": {
     "duration": 0.011655,
     "end_time": "2024-07-14T16:01:12.009137",
     "exception": false,
     "start_time": "2024-07-14T16:01:11.997482",
     "status": "completed"
    },
    "tags": []
   },
   "outputs": [
    {
     "data": {
      "text/plain": [
       "(AnnData object with n_obs × n_vars = 817 × 20\n",
       "     obs: 'sampleID', 'disease', 'Level1',\n",
       " AnnData object with n_obs × n_vars = 86 × 20\n",
       "     obs: 'sampleID', 'disease', 'Level1')"
      ]
     },
     "execution_count": 14,
     "metadata": {},
     "output_type": "execute_result"
    }
   ],
   "source": [
    "REFERENCEpseudobulkFilt, QUERYpseudobulk"
   ]
  },
  {
   "cell_type": "code",
   "execution_count": 15,
   "id": "d8c4be96-7453-42c7-97a7-f96114bf4675",
   "metadata": {
    "execution": {
     "iopub.execute_input": "2024-07-14T16:01:12.026939Z",
     "iopub.status.busy": "2024-07-14T16:01:12.026615Z",
     "iopub.status.idle": "2024-07-14T16:01:12.028998Z",
     "shell.execute_reply": "2024-07-14T16:01:12.028712Z"
    },
    "papermill": {
     "duration": 0.011945,
     "end_time": "2024-07-14T16:01:12.029721",
     "exception": false,
     "start_time": "2024-07-14T16:01:12.017776",
     "status": "completed"
    },
    "tags": []
   },
   "outputs": [],
   "source": [
    "REFERENCEpseudobulkFilt.obs['disease'] = REFERENCEpseudobulkFilt.obs['disease'].astype(str)"
   ]
  },
  {
   "cell_type": "markdown",
   "id": "4a7d77e0-16f6-47e7-affd-a93d5d242126",
   "metadata": {
    "papermill": {
     "duration": 0.007861,
     "end_time": "2024-07-14T16:01:12.061605",
     "exception": false,
     "start_time": "2024-07-14T16:01:12.053744",
     "status": "completed"
    },
    "tags": []
   },
   "source": [
    "## Input data and main parameters"
   ]
  },
  {
   "cell_type": "code",
   "execution_count": 16,
   "id": "5c42d3fb-0517-448d-a180-8d7033bb5066",
   "metadata": {
    "execution": {
     "iopub.execute_input": "2024-07-14T16:01:12.089959Z",
     "iopub.status.busy": "2024-07-14T16:01:12.089617Z",
     "iopub.status.idle": "2024-07-14T16:01:12.091851Z",
     "shell.execute_reply": "2024-07-14T16:01:12.091551Z"
    },
    "papermill": {
     "duration": 0.01153,
     "end_time": "2024-07-14T16:01:12.092614",
     "exception": false,
     "start_time": "2024-07-14T16:01:12.081084",
     "status": "completed"
    },
    "tags": []
   },
   "outputs": [],
   "source": [
    "cell_type_col='Level1'\n",
    "y_true_col='disease'\n",
    "sample_id_col='sampleID'"
   ]
  },
  {
   "cell_type": "markdown",
   "id": "86308030-1270-4cc8-8a92-1fbeb9f85e1e",
   "metadata": {
    "papermill": {
     "duration": 0.008056,
     "end_time": "2024-07-14T16:01:12.108894",
     "exception": false,
     "start_time": "2024-07-14T16:01:12.100838",
     "status": "completed"
    },
    "tags": []
   },
   "source": [
    "**Initialize pandas dataframe to collect results**"
   ]
  },
  {
   "cell_type": "code",
   "execution_count": 17,
   "id": "530355ab-1443-460c-a977-2e8e91225953",
   "metadata": {
    "execution": {
     "iopub.execute_input": "2024-07-14T16:01:12.126036Z",
     "iopub.status.busy": "2024-07-14T16:01:12.125821Z",
     "iopub.status.idle": "2024-07-14T16:01:12.132938Z",
     "shell.execute_reply": "2024-07-14T16:01:12.132654Z"
    },
    "papermill": {
     "duration": 0.016687,
     "end_time": "2024-07-14T16:01:12.133673",
     "exception": false,
     "start_time": "2024-07-14T16:01:12.116986",
     "status": "completed"
    },
    "tags": []
   },
   "outputs": [
    {
     "data": {
      "text/html": [
       "<div>\n",
       "<style scoped>\n",
       "    .dataframe tbody tr th:only-of-type {\n",
       "        vertical-align: middle;\n",
       "    }\n",
       "\n",
       "    .dataframe tbody tr th {\n",
       "        vertical-align: top;\n",
       "    }\n",
       "\n",
       "    .dataframe thead th {\n",
       "        text-align: right;\n",
       "    }\n",
       "</style>\n",
       "<table border=\"1\" class=\"dataframe\">\n",
       "  <thead>\n",
       "    <tr style=\"text-align: right;\">\n",
       "      <th></th>\n",
       "      <th>integration_method</th>\n",
       "      <th>embedded_space</th>\n",
       "      <th>n_embedded</th>\n",
       "      <th>n_Patient_embedded</th>\n",
       "      <th>batchKeys</th>\n",
       "      <th>annotation</th>\n",
       "      <th>classification_method</th>\n",
       "      <th>EXTERNAL_F1</th>\n",
       "      <th>EXTERNAL_BAS</th>\n",
       "      <th>EXTERNAL_MCC</th>\n",
       "      <th>EXTERNAL_TRAIN_F1</th>\n",
       "    </tr>\n",
       "  </thead>\n",
       "  <tbody>\n",
       "  </tbody>\n",
       "</table>\n",
       "</div>"
      ],
      "text/plain": [
       "Empty DataFrame\n",
       "Columns: [integration_method, embedded_space, n_embedded, n_Patient_embedded, batchKeys, annotation, classification_method, EXTERNAL_F1, EXTERNAL_BAS, EXTERNAL_MCC, EXTERNAL_TRAIN_F1]\n",
       "Index: []"
      ]
     },
     "execution_count": 17,
     "metadata": {},
     "output_type": "execute_result"
    }
   ],
   "source": [
    "METRICdf = pd.DataFrame(columns=['integration_method','embedded_space','n_embedded','n_Patient_embedded','batchKeys','annotation',\n",
    "                      'classification_method',f'{query_dataset}_F1',f'{query_dataset}_BAS',f'{query_dataset}_MCC', f'{query_dataset}_TRAIN_F1'])\n",
    "METRICdf"
   ]
  },
  {
   "cell_type": "markdown",
   "id": "bf4ebdcc-4895-4f1f-8f4c-721603c909c2",
   "metadata": {
    "papermill": {
     "duration": 0.008022,
     "end_time": "2024-07-14T16:01:12.150118",
     "exception": false,
     "start_time": "2024-07-14T16:01:12.142096",
     "status": "completed"
    },
    "tags": []
   },
   "source": [
    "### Hyper parameter tuning and classification\n",
    "\n",
    "The aim is to define the best classifier and its corresponding hyper-parameters using **MAIN adata** as train dataset and **VALIDATION adata** as validation.\n",
    "\n",
    "Then, with the best model/setting for each model family (i.e., SVC, kNN, NN, GBM) we will classify samples in VALIDATION, EXCLUDED and EXTERNAL datasets"
   ]
  },
  {
   "cell_type": "code",
   "execution_count": 18,
   "id": "5e79071a-6f5e-4b72-8650-3cb97d0de1d1",
   "metadata": {
    "execution": {
     "iopub.execute_input": "2024-07-14T16:01:12.167437Z",
     "iopub.status.busy": "2024-07-14T16:01:12.167087Z",
     "iopub.status.idle": "2024-07-14T16:01:12.169028Z",
     "shell.execute_reply": "2024-07-14T16:01:12.168753Z"
    },
    "papermill": {
     "duration": 0.011495,
     "end_time": "2024-07-14T16:01:12.169740",
     "exception": false,
     "start_time": "2024-07-14T16:01:12.158245",
     "status": "completed"
    },
    "tags": []
   },
   "outputs": [],
   "source": [
    "from sklearn.model_selection import StratifiedKFold"
   ]
  },
  {
   "cell_type": "code",
   "execution_count": 19,
   "id": "814840dd-0c10-4f56-9ea7-242d0ce92ccf",
   "metadata": {
    "execution": {
     "iopub.execute_input": "2024-07-14T16:01:12.186819Z",
     "iopub.status.busy": "2024-07-14T16:01:12.186480Z",
     "iopub.status.idle": "2024-07-14T16:01:12.188396Z",
     "shell.execute_reply": "2024-07-14T16:01:12.188116Z"
    },
    "papermill": {
     "duration": 0.011106,
     "end_time": "2024-07-14T16:01:12.189139",
     "exception": false,
     "start_time": "2024-07-14T16:01:12.178033",
     "status": "completed"
    },
    "tags": []
   },
   "outputs": [],
   "source": [
    "sKf = StratifiedKFold(n_splits = 5)"
   ]
  },
  {
   "cell_type": "code",
   "execution_count": 20,
   "id": "6e8b2c94-b76f-4100-8d44-2f9e8accf709",
   "metadata": {
    "execution": {
     "iopub.execute_input": "2024-07-14T16:01:12.207188Z",
     "iopub.status.busy": "2024-07-14T16:01:12.206883Z",
     "iopub.status.idle": "2024-07-14T16:01:12.210917Z",
     "shell.execute_reply": "2024-07-14T16:01:12.210623Z"
    },
    "papermill": {
     "duration": 0.014254,
     "end_time": "2024-07-14T16:01:12.211638",
     "exception": false,
     "start_time": "2024-07-14T16:01:12.197384",
     "status": "completed"
    },
    "tags": []
   },
   "outputs": [],
   "source": [
    "Pdata = REFERENCEpseudobulkFilt.obs.groupby(sample_id_col, observed=True).agg({y_true_col:'first'}).reset_index()"
   ]
  },
  {
   "cell_type": "code",
   "execution_count": 21,
   "id": "2a76174e-7528-422b-9143-728110106081",
   "metadata": {
    "execution": {
     "iopub.execute_input": "2024-07-14T16:01:12.229058Z",
     "iopub.status.busy": "2024-07-14T16:01:12.228748Z",
     "iopub.status.idle": "2024-07-14T16:01:12.232145Z",
     "shell.execute_reply": "2024-07-14T16:01:12.231852Z"
    },
    "papermill": {
     "duration": 0.012872,
     "end_time": "2024-07-14T16:01:12.232895",
     "exception": false,
     "start_time": "2024-07-14T16:01:12.220023",
     "status": "completed"
    },
    "tags": []
   },
   "outputs": [],
   "source": [
    "KfoldPatientSplit = list(sKf.split(X = Pdata[sample_id_col], y=Pdata[y_true_col]))"
   ]
  },
  {
   "cell_type": "markdown",
   "id": "ad885d57-52eb-4db4-9043-23de6a1a9094",
   "metadata": {
    "papermill": {
     "duration": 0.008307,
     "end_time": "2024-07-14T16:01:12.249470",
     "exception": false,
     "start_time": "2024-07-14T16:01:12.241163",
     "status": "completed"
    },
    "tags": []
   },
   "source": [
    "#### LinearSVC"
   ]
  },
  {
   "cell_type": "code",
   "execution_count": 22,
   "id": "1aa57011-6514-47e0-bd14-25aafcb675a3",
   "metadata": {
    "execution": {
     "iopub.execute_input": "2024-07-14T16:01:12.266962Z",
     "iopub.status.busy": "2024-07-14T16:01:12.266697Z",
     "iopub.status.idle": "2024-07-14T16:01:16.926575Z",
     "shell.execute_reply": "2024-07-14T16:01:16.926135Z"
    },
    "papermill": {
     "duration": 4.669733,
     "end_time": "2024-07-14T16:01:16.927478",
     "exception": false,
     "start_time": "2024-07-14T16:01:12.257745",
     "status": "completed"
    },
    "tags": []
   },
   "outputs": [
    {
     "name": "stdout",
     "output_type": "stream",
     "text": [
      "\n",
      "sample\n"
     ]
    },
    {
     "data": {
      "application/vnd.jupyter.widget-view+json": {
       "model_id": "f5c5e002b17e4e77b3973f786a9cdb8d",
       "version_major": 2,
       "version_minor": 0
      },
      "text/plain": [
       "  0%|          | 0/100 [00:00<?, ?it/s]"
      ]
     },
     "metadata": {},
     "output_type": "display_data"
    },
    {
     "name": "stderr",
     "output_type": "stream",
     "text": [
      "/scratch_isilon/groups/singlecell/shared/conda_env/optuna/lib/python3.12/site-packages/anndata/_core/anndata.py:1096: SettingWithCopyWarning: \n",
      "A value is trying to be set on a copy of a slice from a DataFrame.\n",
      "Try using .loc[row_indexer,col_indexer] = value instead\n",
      "\n",
      "See the caveats in the documentation: https://pandas.pydata.org/pandas-docs/stable/user_guide/indexing.html#returning-a-view-versus-a-copy\n",
      "  df_sub[k] = df_sub[k].cat.remove_unused_categories()\n",
      "/scratch_isilon/groups/singlecell/shared/conda_env/optuna/lib/python3.12/site-packages/anndata/_core/anndata.py:1096: SettingWithCopyWarning: \n",
      "A value is trying to be set on a copy of a slice from a DataFrame.\n",
      "Try using .loc[row_indexer,col_indexer] = value instead\n",
      "\n",
      "See the caveats in the documentation: https://pandas.pydata.org/pandas-docs/stable/user_guide/indexing.html#returning-a-view-versus-a-copy\n",
      "  df_sub[k] = df_sub[k].cat.remove_unused_categories()\n"
     ]
    }
   ],
   "source": [
    "fixed_parameter_LinearSVC = ({\n",
    "    'max_iter': 1000000,\n",
    "    'dual': 'auto',\n",
    "})\n",
    "\n",
    "def LinearSVC_cellTypeOptimization(adataTrain = None, \n",
    "                         KfoldPatientSplit = None,\n",
    "                         y_true_col = 'disease',\n",
    "                         sample_id_col = 'sampleID',\n",
    "                         cell_type_col = 'Level1',\n",
    "                         random_seed = 42,\n",
    "                         optimization = 'F1', \n",
    "                         n_trials = 50,\n",
    "                         n_job = 50):\n",
    "\n",
    "    LinearSVC_cell_type_studies = {}\n",
    "\n",
    "    for ct_i in adataTrain.obs[cell_type_col].unique().tolist():\n",
    "\n",
    "        print(f\"\\n{ct_i}\")\n",
    "        \n",
    "        adataTrain_ct_i = adataTrain[adataTrain.obs[cell_type_col] == ct_i].copy()\n",
    "        \n",
    "        def objective_CT(trial):\n",
    "            class_params = {\n",
    "                'scaler': trial.suggest_categorical('scaler', [True, False]),\n",
    "                'fit_intercept': trial.suggest_categorical('fit_intercept', [True, False]),\n",
    "                'class_weight': trial.suggest_categorical('class_weight', ['balanced', None]),\n",
    "                'C': trial.suggest_float('C', 1e-3, 1e5, log=True)\n",
    "            }\n",
    "        \n",
    "            class_params |= fixed_parameter_LinearSVC\n",
    "        \n",
    "            # for ct_ in adataTrain.obs.Level1.unique().tolist():\n",
    "            #     class_params.update({\n",
    "            #         f\"{ct_}_C\": trial.suggest_float(f\"{ct_}_C\", 1e-3, 1e5, log=True),\n",
    "            #     })\n",
    "        \n",
    "            metric_list = []\n",
    "            \n",
    "            for foldK in KfoldPatientSplit:\n",
    "                \n",
    "                pListTrain = Pdata.iloc[foldK[0]][sample_id_col].tolist()\n",
    "                pListTest = Pdata.iloc[foldK[1]][sample_id_col].tolist()\n",
    "                \n",
    "                clf = CellTypeDiseasePrediction(clf_params=class_params.copy(),classifier=LinearSVC, cell_type = ct_i).fit(adataTrain_ct_i[adataTrain_ct_i.obs[sample_id_col].isin(pListTrain)])\n",
    "            \n",
    "                y_pred_df = clf.predict(adataTrain_ct_i[adataTrain_ct_i.obs[sample_id_col].isin(pListTest)], y_true_col = y_true_col)\n",
    "        \n",
    "                if optimization_metric == 'BAS':\n",
    "                    M = balanced_accuracy_score(y_pred_df[y_true_col], y_pred_df.disease_pred)\n",
    "                else:\n",
    "                    M = f1_score(y_pred_df[y_true_col], y_pred_df[f\"disease_pred_{ct_i}\"], average='weighted')\n",
    "        \n",
    "                metric_list.append(M)\n",
    "            \n",
    "            return sum(metric_list)/5\n",
    "                \n",
    "        # Optimize hyperparameters with Optuna\n",
    "        LinearSVC_cell_type_studies[ct_i] = op.create_study(direction='maximize', study_name=ct_i,sampler=TPESampler(seed=random_seed))\n",
    "        LinearSVC_cell_type_studies[ct_i].optimize(objective_CT, n_trials=n_trials, show_progress_bar=True, n_jobs=n_job)#catch = ValueError)\n",
    "\n",
    "    return LinearSVC_cell_type_studies\n",
    "\n",
    "### EXECUTE THE FUNCTION ###\n",
    "LinearSVC_cell_type_studies = LinearSVC_cellTypeOptimization(adataTrain = REFERENCEpseudobulkFilt, \n",
    "                                                               KfoldPatientSplit = KfoldPatientSplit,\n",
    "                                                               y_true_col = 'disease',\n",
    "                                                               sample_id_col = 'sampleID',\n",
    "                                                               cell_type_col = 'Level1',\n",
    "                                                               optimization = 'F1',\n",
    "                                                               n_trials = 100, n_job = n_job, random_seed = 42)"
   ]
  },
  {
   "cell_type": "code",
   "execution_count": 23,
   "id": "8ae42ec5-145a-4fd3-a0c8-f96a1f4bf005",
   "metadata": {
    "execution": {
     "iopub.execute_input": "2024-07-14T16:01:16.951057Z",
     "iopub.status.busy": "2024-07-14T16:01:16.950889Z",
     "iopub.status.idle": "2024-07-14T16:01:16.972369Z",
     "shell.execute_reply": "2024-07-14T16:01:16.971999Z"
    },
    "papermill": {
     "duration": 0.031429,
     "end_time": "2024-07-14T16:01:16.973130",
     "exception": false,
     "start_time": "2024-07-14T16:01:16.941701",
     "status": "completed"
    },
    "tags": []
   },
   "outputs": [],
   "source": [
    "clf_LinearSVC_TRAINED = (VotingDisease(classifier = LinearSVC, \n",
    "                                         cell_type_studies = LinearSVC_cell_type_studies, \n",
    "                                         fixed_params = fixed_parameter_LinearSVC, \n",
    "                                         cell_type_col = 'Level1', sample_id_col = 'sampleID', y_true_col = 'disease')\n",
    "                           .fit(REFERENCEpseudobulkFilt))"
   ]
  },
  {
   "cell_type": "code",
   "execution_count": 24,
   "id": "45847d4c-a3b8-403c-b2aa-c828efe92125",
   "metadata": {
    "execution": {
     "iopub.execute_input": "2024-07-14T16:01:16.991540Z",
     "iopub.status.busy": "2024-07-14T16:01:16.991005Z",
     "iopub.status.idle": "2024-07-14T16:01:16.994196Z",
     "shell.execute_reply": "2024-07-14T16:01:16.993824Z"
    },
    "papermill": {
     "duration": 0.013166,
     "end_time": "2024-07-14T16:01:16.994949",
     "exception": false,
     "start_time": "2024-07-14T16:01:16.981783",
     "status": "completed"
    },
    "tags": []
   },
   "outputs": [
    {
     "name": "stdout",
     "output_type": "stream",
     "text": [
      "F1 on reference = 0.710618583703179\n"
     ]
    }
   ],
   "source": [
    "### Extracting the average performance on train data\n",
    "optMetric = 0\n",
    "for ct_i in LinearSVC_cell_type_studies.keys():\n",
    "    optMetric += LinearSVC_cell_type_studies[ct_i].best_value\n",
    "f1_LinearSVC_REFERENCE = optMetric / len(LinearSVC_cell_type_studies)\n",
    "print(f\"F1 on reference = {f1_LinearSVC_REFERENCE}\")"
   ]
  },
  {
   "cell_type": "code",
   "execution_count": 25,
   "id": "1bfc286d-a233-48d0-bd01-42d8c7761172",
   "metadata": {
    "execution": {
     "iopub.execute_input": "2024-07-14T16:01:17.013356Z",
     "iopub.status.busy": "2024-07-14T16:01:17.013020Z",
     "iopub.status.idle": "2024-07-14T16:01:17.032992Z",
     "shell.execute_reply": "2024-07-14T16:01:17.032599Z"
    },
    "papermill": {
     "duration": 0.02973,
     "end_time": "2024-07-14T16:01:17.033748",
     "exception": false,
     "start_time": "2024-07-14T16:01:17.004018",
     "status": "completed"
    },
    "tags": []
   },
   "outputs": [
    {
     "name": "stdout",
     "output_type": "stream",
     "text": [
      "QUERY: F1 = 0.10291365944934508, BAS = 0.03377757352941177, MCC: 0.021972722607034034\n"
     ]
    },
    {
     "name": "stderr",
     "output_type": "stream",
     "text": [
      "/scratch_isilon/groups/singlecell/shared/conda_env/optuna/lib/python3.12/site-packages/sklearn/metrics/_classification.py:2458: UserWarning: y_pred contains classes not in y_true\n",
      "  warnings.warn(\"y_pred contains classes not in y_true\")\n"
     ]
    }
   ],
   "source": [
    "### Predict query dataset\n",
    "LinearSVC_cellType_prediction_query_df = clf_LinearSVC_TRAINED.predict(QUERYpseudobulkFilt)\n",
    "\n",
    "f1_LinearSVC_QUERY = f1_score(LinearSVC_cellType_prediction_query_df[y_true_col], \n",
    "                              LinearSVC_cellType_prediction_query_df.majority_pred, average='weighted')\n",
    "BAS_LinearSVC_QUERY = balanced_accuracy_score(LinearSVC_cellType_prediction_query_df[y_true_col], \n",
    "                                              LinearSVC_cellType_prediction_query_df.majority_pred,)\n",
    "MCC_LinearSVC_QUERY = matthews_corrcoef(LinearSVC_cellType_prediction_query_df[y_true_col], \n",
    "                                        LinearSVC_cellType_prediction_query_df.majority_pred,)\n",
    "print(f\"QUERY: F1 = {f1_LinearSVC_QUERY}, BAS = {BAS_LinearSVC_QUERY}, MCC: {MCC_LinearSVC_QUERY}\")"
   ]
  },
  {
   "cell_type": "code",
   "execution_count": 26,
   "id": "839e6ed1-00df-4f31-9b6a-11650ed3f1dc",
   "metadata": {
    "execution": {
     "iopub.execute_input": "2024-07-14T16:01:17.052139Z",
     "iopub.status.busy": "2024-07-14T16:01:17.051693Z",
     "iopub.status.idle": "2024-07-14T16:01:17.054555Z",
     "shell.execute_reply": "2024-07-14T16:01:17.054208Z"
    },
    "papermill": {
     "duration": 0.012997,
     "end_time": "2024-07-14T16:01:17.055340",
     "exception": false,
     "start_time": "2024-07-14T16:01:17.042343",
     "status": "completed"
    },
    "tags": []
   },
   "outputs": [],
   "source": [
    "### Add results to dataframe\n",
    "METRICdf.loc[METRICdf.shape[0],:] = [integration_method,embSpace,n_embedded,n_Patient_embedded,batch,annotation,'LinearSVC',\n",
    "                                     f1_LinearSVC_QUERY, BAS_LinearSVC_QUERY,MCC_LinearSVC_QUERY,f1_LinearSVC_REFERENCE]"
   ]
  },
  {
   "cell_type": "code",
   "execution_count": 27,
   "id": "e7ab9f0e-46d5-45e3-b44b-5bff0748b28c",
   "metadata": {
    "execution": {
     "iopub.execute_input": "2024-07-14T16:01:17.083775Z",
     "iopub.status.busy": "2024-07-14T16:01:17.083465Z",
     "iopub.status.idle": "2024-07-14T16:01:17.124459Z",
     "shell.execute_reply": "2024-07-14T16:01:17.124090Z"
    },
    "papermill": {
     "duration": 0.051158,
     "end_time": "2024-07-14T16:01:17.125304",
     "exception": false,
     "start_time": "2024-07-14T16:01:17.074146",
     "status": "completed"
    },
    "tags": []
   },
   "outputs": [],
   "source": [
    "#### SAVE STUDY and FINAL MODEL AS PICKLE\n",
    "joblib.dump(LinearSVC_cell_type_studies, os.path.join(mainDir, f\"study_objects/BestParams_{integration_method}_{embSpace}_{n_embedded}nEmb_{n_Patient_embedded}nPEmb_{batch}_{annotation}_opt{optimization_metric}_{query_dataset}_LinearSVC.pkl\"))\n",
    "joblib.dump(clf_LinearSVC_TRAINED, os.path.join(mainDir, f\"best_models/{integration_method}_{embSpace}_{n_embedded}nEmb_{n_Patient_embedded}nPEmb_{batch}_{annotation}_opt{optimization_metric}_{query_dataset}_LinearSVC.pkl\"))\n",
    "\n",
    "LinearSVC_cellType_prediction_query_df.to_pickle(os.path.join(mainDir, f\"label_predicted_dataframes/{integration_method}_{embSpace}_{n_embedded}nEmb_{n_Patient_embedded}nPEmb_{batch}_{annotation}_opt{optimization_metric}_{query_dataset}_LinearSVC.pkl\"))"
   ]
  },
  {
   "cell_type": "markdown",
   "id": "e8394cdf-d636-4499-89a6-1731d577d3f7",
   "metadata": {
    "papermill": {
     "duration": 0.009208,
     "end_time": "2024-07-14T16:01:17.143427",
     "exception": false,
     "start_time": "2024-07-14T16:01:17.134219",
     "status": "completed"
    },
    "tags": []
   },
   "source": [
    "#### SVC"
   ]
  },
  {
   "cell_type": "code",
   "execution_count": 28,
   "id": "48e39d89",
   "metadata": {
    "execution": {
     "iopub.execute_input": "2024-07-14T16:01:17.161877Z",
     "iopub.status.busy": "2024-07-14T16:01:17.161488Z",
     "iopub.status.idle": "2024-07-14T16:01:32.334429Z",
     "shell.execute_reply": "2024-07-14T16:01:32.334000Z"
    },
    "papermill": {
     "duration": 15.183841,
     "end_time": "2024-07-14T16:01:32.336087",
     "exception": false,
     "start_time": "2024-07-14T16:01:17.152246",
     "status": "completed"
    },
    "scrolled": true,
    "tags": []
   },
   "outputs": [
    {
     "name": "stdout",
     "output_type": "stream",
     "text": [
      "\n",
      "sample\n"
     ]
    },
    {
     "data": {
      "application/vnd.jupyter.widget-view+json": {
       "model_id": "153274568e0a47cab897c5f1811b2a78",
       "version_major": 2,
       "version_minor": 0
      },
      "text/plain": [
       "  0%|          | 0/300 [00:00<?, ?it/s]"
      ]
     },
     "metadata": {},
     "output_type": "display_data"
    }
   ],
   "source": [
    "fixed_parameter_SVC = ({\n",
    "    'max_iter': -1,\n",
    "})\n",
    "\n",
    "\n",
    "def SVC_cellTypeOptimization(adataTrain = None, \n",
    "                         KfoldPatientSplit = None,\n",
    "                         y_true_col = 'disease',\n",
    "                         sample_id_col = 'sampleID',\n",
    "                         cell_type_col = 'Level1',\n",
    "                         random_seed = 42,\n",
    "                         optimization = 'F1', \n",
    "                         n_trials = 300,\n",
    "                         n_job = -1):\n",
    "\n",
    "    SVC_cell_type_studies = {}\n",
    "\n",
    "    for ct_i in adataTrain.obs[cell_type_col].unique().tolist():\n",
    "\n",
    "        print(f\"\\n{ct_i}\")\n",
    "        \n",
    "        adataTrain_ct_i = adataTrain[adataTrain.obs[cell_type_col] == ct_i].copy()\n",
    "        \n",
    "        def objective_CT(trial):\n",
    "            class_params = {\n",
    "                'scaler': trial.suggest_categorical('scaler', [True, False]),\n",
    "                'kernel': trial.suggest_categorical(\"kernel\", ['sigmoid','rbf','poly']),\n",
    "                'class_weight': trial.suggest_categorical(\"class_weight\", ['balanced',None]),\n",
    "                'C': trial.suggest_float('C', 1e-3, 1e5, log=True),\n",
    "            }\n",
    "\n",
    "            class_params |= fixed_parameter_SVC\n",
    "            if class_params['kernel'] == 'poly':\n",
    "                class_params.update({'degree': trial.suggest_int('degree', 2,6)})    \n",
    "                \n",
    "            # for ct_ in adataTrain.obs.Level1.unique().tolist():\n",
    "            #     class_params.update({\n",
    "            #         f\"{ct_}_C\": trial.suggest_float(f\"{ct_}_C\", 1e-3, 1e5, log=True),\n",
    "            #     })\n",
    "        \n",
    "            metric_list = []\n",
    "            \n",
    "            for foldK in KfoldPatientSplit:\n",
    "                \n",
    "                pListTrain = Pdata.iloc[foldK[0]][sample_id_col].tolist()\n",
    "                pListTest = Pdata.iloc[foldK[1]][sample_id_col].tolist()\n",
    "                \n",
    "                clf = CellTypeDiseasePrediction(clf_params=class_params.copy(),classifier=SVC, cell_type = ct_i).fit(adataTrain_ct_i[adataTrain_ct_i.obs[sample_id_col].isin(pListTrain)])\n",
    "            \n",
    "                y_pred_df = clf.predict(adataTrain_ct_i[adataTrain_ct_i.obs[sample_id_col].isin(pListTest)], y_true_col = y_true_col)\n",
    "        \n",
    "                if optimization_metric == 'BAS':\n",
    "                    M = balanced_accuracy_score(y_pred_df[y_true_col], y_pred_df.disease_pred)\n",
    "                else:\n",
    "                    M = f1_score(y_pred_df[y_true_col], y_pred_df[f\"disease_pred_{ct_i}\"], average='weighted')\n",
    "        \n",
    "                metric_list.append(M)\n",
    "            \n",
    "            return sum(metric_list)/5\n",
    "                \n",
    "        # Optimize hyperparameters with Optuna\n",
    "        SVC_cell_type_studies[ct_i] = op.create_study(direction='maximize', study_name=ct_i,sampler=TPESampler(seed=random_seed))\n",
    "        SVC_cell_type_studies[ct_i].optimize(objective_CT, n_trials=n_trials, show_progress_bar=True, n_jobs=n_job)#catch = ValueError)\n",
    "\n",
    "    return SVC_cell_type_studies\n",
    "\n",
    "### EXECUTE THE FUNCTION ###\n",
    "SVC_cell_type_studies = SVC_cellTypeOptimization(adataTrain = REFERENCEpseudobulkFilt, \n",
    "                                                   KfoldPatientSplit = KfoldPatientSplit,\n",
    "                                                   y_true_col = 'disease',\n",
    "                                                   sample_id_col = 'sampleID',\n",
    "                                                   cell_type_col = 'Level1',\n",
    "                                                   optimization = 'F1',\n",
    "                                                   n_trials = 300, n_job = n_job, random_seed = 42)"
   ]
  },
  {
   "cell_type": "code",
   "execution_count": 29,
   "id": "df1d3bd9-ca7f-4621-a37a-50faacb2c3da",
   "metadata": {
    "execution": {
     "iopub.execute_input": "2024-07-14T16:01:32.355657Z",
     "iopub.status.busy": "2024-07-14T16:01:32.355476Z",
     "iopub.status.idle": "2024-07-14T16:01:32.404578Z",
     "shell.execute_reply": "2024-07-14T16:01:32.404218Z"
    },
    "papermill": {
     "duration": 0.059944,
     "end_time": "2024-07-14T16:01:32.405436",
     "exception": false,
     "start_time": "2024-07-14T16:01:32.345492",
     "status": "completed"
    },
    "tags": []
   },
   "outputs": [],
   "source": [
    "clf_SVC_TRAINED = (VotingDisease(classifier = SVC, \n",
    "                                         cell_type_studies = SVC_cell_type_studies, \n",
    "                                         fixed_params = fixed_parameter_SVC, \n",
    "                                         cell_type_col = 'Level1', sample_id_col = 'sampleID', y_true_col = 'disease')\n",
    "                           .fit(REFERENCEpseudobulkFilt))"
   ]
  },
  {
   "cell_type": "code",
   "execution_count": 30,
   "id": "1738fab9-3ffe-4649-8b75-4ede4c821328",
   "metadata": {
    "execution": {
     "iopub.execute_input": "2024-07-14T16:01:32.448561Z",
     "iopub.status.busy": "2024-07-14T16:01:32.448422Z",
     "iopub.status.idle": "2024-07-14T16:01:32.451341Z",
     "shell.execute_reply": "2024-07-14T16:01:32.450975Z"
    },
    "papermill": {
     "duration": 0.037416,
     "end_time": "2024-07-14T16:01:32.452125",
     "exception": false,
     "start_time": "2024-07-14T16:01:32.414709",
     "status": "completed"
    },
    "tags": []
   },
   "outputs": [
    {
     "name": "stdout",
     "output_type": "stream",
     "text": [
      "F1 on reference = 0.7680065392243083\n"
     ]
    }
   ],
   "source": [
    "### Extracting the average performance on train data\n",
    "optMetric = 0\n",
    "for ct_i in SVC_cell_type_studies.keys():\n",
    "    optMetric += SVC_cell_type_studies[ct_i].best_value\n",
    "f1_SVC_REFERENCE = optMetric / len(SVC_cell_type_studies)\n",
    "print(f\"F1 on reference = {f1_SVC_REFERENCE}\")"
   ]
  },
  {
   "cell_type": "code",
   "execution_count": 31,
   "id": "047f51ad-f323-483c-96ff-4b7cfdcd9ba7",
   "metadata": {
    "execution": {
     "iopub.execute_input": "2024-07-14T16:01:32.472331Z",
     "iopub.status.busy": "2024-07-14T16:01:32.471900Z",
     "iopub.status.idle": "2024-07-14T16:01:32.494266Z",
     "shell.execute_reply": "2024-07-14T16:01:32.493886Z"
    },
    "papermill": {
     "duration": 0.032878,
     "end_time": "2024-07-14T16:01:32.495056",
     "exception": false,
     "start_time": "2024-07-14T16:01:32.462178",
     "status": "completed"
    },
    "tags": []
   },
   "outputs": [
    {
     "name": "stdout",
     "output_type": "stream",
     "text": [
      "QUERY: F1 = 0.30179704016913317, BAS = 0.14246323529411764, MCC: 0.19320360708520637\n"
     ]
    },
    {
     "name": "stderr",
     "output_type": "stream",
     "text": [
      "/scratch_isilon/groups/singlecell/shared/conda_env/optuna/lib/python3.12/site-packages/sklearn/metrics/_classification.py:2458: UserWarning: y_pred contains classes not in y_true\n",
      "  warnings.warn(\"y_pred contains classes not in y_true\")\n"
     ]
    }
   ],
   "source": [
    "### Predict query dataset\n",
    "SVC_cellType_prediction_query_df = clf_SVC_TRAINED.predict(QUERYpseudobulkFilt)\n",
    "\n",
    "f1_SVC_QUERY = f1_score(SVC_cellType_prediction_query_df[y_true_col], \n",
    "                              SVC_cellType_prediction_query_df.majority_pred, average='weighted')\n",
    "BAS_SVC_QUERY = balanced_accuracy_score(SVC_cellType_prediction_query_df[y_true_col], \n",
    "                                              SVC_cellType_prediction_query_df.majority_pred,)\n",
    "MCC_SVC_QUERY = matthews_corrcoef(SVC_cellType_prediction_query_df[y_true_col], \n",
    "                                        SVC_cellType_prediction_query_df.majority_pred,)\n",
    "print(f\"QUERY: F1 = {f1_SVC_QUERY}, BAS = {BAS_SVC_QUERY}, MCC: {MCC_SVC_QUERY}\")"
   ]
  },
  {
   "cell_type": "code",
   "execution_count": 32,
   "id": "4e68ccc1-e6a3-4ceb-a3ae-b8761de54025",
   "metadata": {
    "execution": {
     "iopub.execute_input": "2024-07-14T16:01:32.515063Z",
     "iopub.status.busy": "2024-07-14T16:01:32.514813Z",
     "iopub.status.idle": "2024-07-14T16:01:32.517870Z",
     "shell.execute_reply": "2024-07-14T16:01:32.517507Z"
    },
    "papermill": {
     "duration": 0.014202,
     "end_time": "2024-07-14T16:01:32.518694",
     "exception": false,
     "start_time": "2024-07-14T16:01:32.504492",
     "status": "completed"
    },
    "tags": []
   },
   "outputs": [],
   "source": [
    "### Add results to dataframe\n",
    "METRICdf.loc[METRICdf.shape[0],:] = [integration_method,embSpace,n_embedded,n_Patient_embedded,batch,annotation,'SVC',\n",
    "                                     f1_SVC_QUERY, BAS_SVC_QUERY,MCC_SVC_QUERY,f1_SVC_REFERENCE]"
   ]
  },
  {
   "cell_type": "code",
   "execution_count": 33,
   "id": "d17b7639-2450-405d-ab6d-622ce4781196",
   "metadata": {
    "execution": {
     "iopub.execute_input": "2024-07-14T16:01:32.538933Z",
     "iopub.status.busy": "2024-07-14T16:01:32.538492Z",
     "iopub.status.idle": "2024-07-14T16:01:32.638344Z",
     "shell.execute_reply": "2024-07-14T16:01:32.637942Z"
    },
    "papermill": {
     "duration": 0.111002,
     "end_time": "2024-07-14T16:01:32.639160",
     "exception": false,
     "start_time": "2024-07-14T16:01:32.528158",
     "status": "completed"
    },
    "tags": []
   },
   "outputs": [],
   "source": [
    "#### SAVE STUDY and FINAL MODEL AS PICKLE\n",
    "joblib.dump(SVC_cell_type_studies, os.path.join(mainDir, f\"study_objects/BestParams_{integration_method}_{embSpace}_{n_embedded}nEmb_{n_Patient_embedded}nPEmb_{batch}_{annotation}_opt{optimization_metric}_{query_dataset}_SVC.pkl\"))\n",
    "joblib.dump(clf_SVC_TRAINED, os.path.join(mainDir, f\"best_models/{integration_method}_{embSpace}_{n_embedded}nEmb_{n_Patient_embedded}nPEmb_{batch}_{annotation}_opt{optimization_metric}_{query_dataset}_SVC.pkl\"))\n",
    "\n",
    "SVC_cellType_prediction_query_df.to_pickle(os.path.join(mainDir, f\"label_predicted_dataframes/{integration_method}_{embSpace}_{n_embedded}nEmb_{n_Patient_embedded}nPEmb_{batch}_{annotation}_opt{optimization_metric}_{query_dataset}_SVC.pkl\"))"
   ]
  },
  {
   "cell_type": "markdown",
   "id": "f06fd6e1-90a1-4fc2-a9fd-6a35fb3ab0ed",
   "metadata": {
    "papermill": {
     "duration": 0.00984,
     "end_time": "2024-07-14T16:01:32.658661",
     "exception": false,
     "start_time": "2024-07-14T16:01:32.648821",
     "status": "completed"
    },
    "tags": []
   },
   "source": [
    "#### kNN"
   ]
  },
  {
   "cell_type": "code",
   "execution_count": 34,
   "id": "4b5a4d44-3d52-45ec-85d5-cdee0e1754f1",
   "metadata": {
    "execution": {
     "iopub.execute_input": "2024-07-14T16:01:32.678415Z",
     "iopub.status.busy": "2024-07-14T16:01:32.678038Z",
     "iopub.status.idle": "2024-07-14T16:01:35.967000Z",
     "shell.execute_reply": "2024-07-14T16:01:35.966440Z"
    },
    "papermill": {
     "duration": 3.300805,
     "end_time": "2024-07-14T16:01:35.968773",
     "exception": false,
     "start_time": "2024-07-14T16:01:32.667968",
     "status": "completed"
    },
    "scrolled": true,
    "tags": []
   },
   "outputs": [
    {
     "name": "stderr",
     "output_type": "stream",
     "text": [
      "/scratch_tmp/26171350/ipykernel_176979/494070876.py:52: ExperimentalWarning: BruteForceSampler is experimental (supported from v3.1.0). The interface can change in the future.\n",
      "  kNN_cell_type_studies[ct_i] = op.create_study(direction='maximize', study_name=ct_i, sampler=BruteForceSampler())\n"
     ]
    },
    {
     "name": "stdout",
     "output_type": "stream",
     "text": [
      "\n",
      "sample\n"
     ]
    }
   ],
   "source": [
    "fixed_parameter_kNN = ({\n",
    "    'n_jobs': 1\n",
    "})\n",
    "\n",
    "def kNN_cellTypeOptimization(adataTrain = None, \n",
    "                         KfoldPatientSplit = None,\n",
    "                         y_true_col = 'disease',\n",
    "                         sample_id_col = 'sampleID',\n",
    "                         cell_type_col = 'Level1',\n",
    "                         optimization = 'F1', \n",
    "                         n_job = 40):\n",
    "\n",
    "    kNN_cell_type_studies = {}\n",
    "\n",
    "    for ct_i in adataTrain.obs[cell_type_col].unique().tolist():\n",
    "\n",
    "        print(f\"\\n{ct_i}\")\n",
    "        \n",
    "        adataTrain_ct_i = adataTrain[adataTrain.obs[cell_type_col] == ct_i].copy()\n",
    "        \n",
    "        def objective_CT(trial):\n",
    "            class_params = {\n",
    "                'scaler': trial.suggest_categorical('scaler', [True, False]),\n",
    "                'metric': trial.suggest_categorical(\"metric\", ['cosine','euclidean']),\n",
    "                'weights': trial.suggest_categorical(\"weights\", ['uniform','distance']),\n",
    "                'n_neighbors': trial.suggest_int('n_neighbors', 1, 5, log=False),\n",
    "            }\n",
    "\n",
    "            class_params |= fixed_parameter_kNN\n",
    "\n",
    "            metric_list = []\n",
    "            \n",
    "            for foldK in KfoldPatientSplit:\n",
    "                \n",
    "                pListTrain = Pdata.iloc[foldK[0]][sample_id_col].tolist()\n",
    "                pListTest = Pdata.iloc[foldK[1]][sample_id_col].tolist()\n",
    "                \n",
    "                clf = CellTypeDiseasePrediction(clf_params=class_params.copy(),classifier=KNeighborsClassifier, cell_type = ct_i).fit(adataTrain_ct_i[adataTrain_ct_i.obs[sample_id_col].isin(pListTrain)])\n",
    "            \n",
    "                y_pred_df = clf.predict(adataTrain_ct_i[adataTrain_ct_i.obs[sample_id_col].isin(pListTest)], y_true_col = y_true_col)\n",
    "        \n",
    "                if optimization_metric == 'BAS':\n",
    "                    M = balanced_accuracy_score(y_pred_df[y_true_col], y_pred_df.disease_pred)\n",
    "                else:\n",
    "                    M = f1_score(y_pred_df[y_true_col], y_pred_df[f\"disease_pred_{ct_i}\"], average='weighted')\n",
    "        \n",
    "                metric_list.append(M)\n",
    "            \n",
    "            return sum(metric_list)/5\n",
    "                \n",
    "        # Optimize hyperparameters with Optuna\n",
    "        kNN_cell_type_studies[ct_i] = op.create_study(direction='maximize', study_name=ct_i, sampler=BruteForceSampler())\n",
    "        kNN_cell_type_studies[ct_i].optimize(objective_CT, show_progress_bar=False, n_jobs=40)#catch = ValueError)\n",
    "\n",
    "    return kNN_cell_type_studies\n",
    "\n",
    "### EXECUTE THE FUNCTION ###\n",
    "kNN_cell_type_studies = kNN_cellTypeOptimization(adataTrain = REFERENCEpseudobulkFilt, \n",
    "                                                 KfoldPatientSplit = KfoldPatientSplit,\n",
    "                                                 y_true_col = 'disease',\n",
    "                                                 sample_id_col = 'sampleID',\n",
    "                                                 cell_type_col = 'Level1',\n",
    "                                                 optimization = 'F1',\n",
    "                                                 n_job = min(n_job,40))"
   ]
  },
  {
   "cell_type": "code",
   "execution_count": 35,
   "id": "efa94193-3498-4552-9ce9-281ca55cb795",
   "metadata": {
    "execution": {
     "iopub.execute_input": "2024-07-14T16:01:35.990279Z",
     "iopub.status.busy": "2024-07-14T16:01:35.990085Z",
     "iopub.status.idle": "2024-07-14T16:01:35.995322Z",
     "shell.execute_reply": "2024-07-14T16:01:35.994958Z"
    },
    "papermill": {
     "duration": 0.016577,
     "end_time": "2024-07-14T16:01:35.996128",
     "exception": false,
     "start_time": "2024-07-14T16:01:35.979551",
     "status": "completed"
    },
    "tags": []
   },
   "outputs": [],
   "source": [
    "clf_kNN_TRAINED = (VotingDisease(classifier = KNeighborsClassifier, \n",
    "                                         cell_type_studies = kNN_cell_type_studies, \n",
    "                                         fixed_params = fixed_parameter_kNN, \n",
    "                                         cell_type_col = 'Level1', sample_id_col = 'sampleID', y_true_col = 'disease')\n",
    "                           .fit(REFERENCEpseudobulkFilt))"
   ]
  },
  {
   "cell_type": "code",
   "execution_count": 36,
   "id": "93d992ed-9cd1-4aab-8c6b-3ba520ee2fee",
   "metadata": {
    "execution": {
     "iopub.execute_input": "2024-07-14T16:01:36.015973Z",
     "iopub.status.busy": "2024-07-14T16:01:36.015761Z",
     "iopub.status.idle": "2024-07-14T16:01:36.018632Z",
     "shell.execute_reply": "2024-07-14T16:01:36.018244Z"
    },
    "papermill": {
     "duration": 0.013675,
     "end_time": "2024-07-14T16:01:36.019386",
     "exception": false,
     "start_time": "2024-07-14T16:01:36.005711",
     "status": "completed"
    },
    "tags": []
   },
   "outputs": [
    {
     "name": "stdout",
     "output_type": "stream",
     "text": [
      "F1 on reference = 0.7301341074503896\n"
     ]
    }
   ],
   "source": [
    "### Extracting the average performance on train data\n",
    "optMetric = 0\n",
    "for ct_i in kNN_cell_type_studies.keys():\n",
    "    optMetric += kNN_cell_type_studies[ct_i].best_value\n",
    "f1_kNN_REFERENCE = optMetric / len(kNN_cell_type_studies)\n",
    "print(f\"F1 on reference = {f1_kNN_REFERENCE}\")"
   ]
  },
  {
   "cell_type": "code",
   "execution_count": 37,
   "id": "7fb64646-7479-488b-b356-bcce128453dc",
   "metadata": {
    "execution": {
     "iopub.execute_input": "2024-07-14T16:01:36.038972Z",
     "iopub.status.busy": "2024-07-14T16:01:36.038821Z",
     "iopub.status.idle": "2024-07-14T16:01:36.057731Z",
     "shell.execute_reply": "2024-07-14T16:01:36.057337Z"
    },
    "papermill": {
     "duration": 0.029494,
     "end_time": "2024-07-14T16:01:36.058491",
     "exception": false,
     "start_time": "2024-07-14T16:01:36.028997",
     "status": "completed"
    },
    "tags": []
   },
   "outputs": [
    {
     "name": "stdout",
     "output_type": "stream",
     "text": [
      "QUERY: F1 = 0.21260140616549486, BAS = 0.06112132352941177, MCC: 0.07838455433290425\n"
     ]
    },
    {
     "name": "stderr",
     "output_type": "stream",
     "text": [
      "/scratch_isilon/groups/singlecell/shared/conda_env/optuna/lib/python3.12/site-packages/sklearn/metrics/_classification.py:2458: UserWarning: y_pred contains classes not in y_true\n",
      "  warnings.warn(\"y_pred contains classes not in y_true\")\n"
     ]
    }
   ],
   "source": [
    "### Predict query dataset\n",
    "kNN_cellType_prediction_query_df = clf_kNN_TRAINED.predict(QUERYpseudobulkFilt)\n",
    "\n",
    "f1_kNN_QUERY = f1_score(kNN_cellType_prediction_query_df[y_true_col], \n",
    "                              kNN_cellType_prediction_query_df.majority_pred, average='weighted')\n",
    "BAS_kNN_QUERY = balanced_accuracy_score(kNN_cellType_prediction_query_df[y_true_col], \n",
    "                                              kNN_cellType_prediction_query_df.majority_pred,)\n",
    "MCC_kNN_QUERY = matthews_corrcoef(kNN_cellType_prediction_query_df[y_true_col], \n",
    "                                        kNN_cellType_prediction_query_df.majority_pred,)\n",
    "print(f\"QUERY: F1 = {f1_kNN_QUERY}, BAS = {BAS_kNN_QUERY}, MCC: {MCC_kNN_QUERY}\")"
   ]
  },
  {
   "cell_type": "code",
   "execution_count": 38,
   "id": "a6b5a17f-9bc8-49e0-992d-3a73cbb73af1",
   "metadata": {
    "execution": {
     "iopub.execute_input": "2024-07-14T16:01:36.078437Z",
     "iopub.status.busy": "2024-07-14T16:01:36.078112Z",
     "iopub.status.idle": "2024-07-14T16:01:36.080946Z",
     "shell.execute_reply": "2024-07-14T16:01:36.080602Z"
    },
    "papermill": {
     "duration": 0.013864,
     "end_time": "2024-07-14T16:01:36.081722",
     "exception": false,
     "start_time": "2024-07-14T16:01:36.067858",
     "status": "completed"
    },
    "tags": []
   },
   "outputs": [],
   "source": [
    "### Add results to dataframe\n",
    "METRICdf.loc[METRICdf.shape[0],:] = [integration_method,embSpace,n_embedded,n_Patient_embedded,batch,annotation,'kNN',\n",
    "                                     f1_kNN_QUERY, BAS_kNN_QUERY,MCC_kNN_QUERY,f1_kNN_REFERENCE]"
   ]
  },
  {
   "cell_type": "code",
   "execution_count": 39,
   "id": "571de3ba-0358-48c6-b67f-fb247d2f7938",
   "metadata": {
    "execution": {
     "iopub.execute_input": "2024-07-14T16:01:36.101815Z",
     "iopub.status.busy": "2024-07-14T16:01:36.101616Z",
     "iopub.status.idle": "2024-07-14T16:01:36.123809Z",
     "shell.execute_reply": "2024-07-14T16:01:36.123451Z"
    },
    "papermill": {
     "duration": 0.03303,
     "end_time": "2024-07-14T16:01:36.124646",
     "exception": false,
     "start_time": "2024-07-14T16:01:36.091616",
     "status": "completed"
    },
    "tags": []
   },
   "outputs": [],
   "source": [
    "#### SAVE STUDY and FINAL MODEL AS PICKLE\n",
    "joblib.dump(kNN_cell_type_studies, os.path.join(mainDir, f\"study_objects/BestParams_{integration_method}_{embSpace}_{n_embedded}nEmb_{n_Patient_embedded}nPEmb_{batch}_{annotation}_opt{optimization_metric}_{query_dataset}_kNN.pkl\"))\n",
    "joblib.dump(clf_kNN_TRAINED, os.path.join(mainDir, f\"best_models/{integration_method}_{embSpace}_{n_embedded}nEmb_{n_Patient_embedded}nPEmb_{batch}_{annotation}_opt{optimization_metric}_{query_dataset}_kNN.pkl\"))\n",
    "\n",
    "kNN_cellType_prediction_query_df.to_pickle(os.path.join(mainDir, f\"label_predicted_dataframes/{integration_method}_{embSpace}_{n_embedded}nEmb_{n_Patient_embedded}nPEmb_{batch}_{annotation}_opt{optimization_metric}_{query_dataset}_kNN.pkl\"))"
   ]
  },
  {
   "cell_type": "markdown",
   "id": "ca686a7e-4f31-421e-8615-6c61274fa806",
   "metadata": {
    "papermill": {
     "duration": 0.009418,
     "end_time": "2024-07-14T16:01:36.143748",
     "exception": false,
     "start_time": "2024-07-14T16:01:36.134330",
     "status": "completed"
    },
    "tags": []
   },
   "source": [
    "### Saving metrics dataframe"
   ]
  },
  {
   "cell_type": "code",
   "execution_count": 40,
   "id": "20274e0e-5efd-4626-88b8-19bf6184bff0",
   "metadata": {
    "execution": {
     "iopub.execute_input": "2024-07-14T16:01:36.164579Z",
     "iopub.status.busy": "2024-07-14T16:01:36.164099Z",
     "iopub.status.idle": "2024-07-14T16:01:36.169084Z",
     "shell.execute_reply": "2024-07-14T16:01:36.168740Z"
    },
    "papermill": {
     "duration": 0.016517,
     "end_time": "2024-07-14T16:01:36.169901",
     "exception": false,
     "start_time": "2024-07-14T16:01:36.153384",
     "status": "completed"
    },
    "tags": []
   },
   "outputs": [],
   "source": [
    "METRICdf.to_pickle(os.path.join(mainDir, f\"metrics_dataframes/METRICdf_{integration_method}_{embSpace}_{n_embedded}nEmb_{n_Patient_embedded}nPEmb_{batch}_{annotation}_opt{optimization_metric}_{query_dataset}.pkl\"))"
   ]
  },
  {
   "cell_type": "code",
   "execution_count": 41,
   "id": "17be377b-b0b3-44f7-94a0-2c5b0f67e378",
   "metadata": {
    "execution": {
     "iopub.execute_input": "2024-07-14T16:01:36.190246Z",
     "iopub.status.busy": "2024-07-14T16:01:36.189873Z",
     "iopub.status.idle": "2024-07-14T16:01:36.196758Z",
     "shell.execute_reply": "2024-07-14T16:01:36.196411Z"
    },
    "papermill": {
     "duration": 0.017885,
     "end_time": "2024-07-14T16:01:36.197559",
     "exception": false,
     "start_time": "2024-07-14T16:01:36.179674",
     "status": "completed"
    },
    "tags": []
   },
   "outputs": [
    {
     "data": {
      "text/html": [
       "<div>\n",
       "<style scoped>\n",
       "    .dataframe tbody tr th:only-of-type {\n",
       "        vertical-align: middle;\n",
       "    }\n",
       "\n",
       "    .dataframe tbody tr th {\n",
       "        vertical-align: top;\n",
       "    }\n",
       "\n",
       "    .dataframe thead th {\n",
       "        text-align: right;\n",
       "    }\n",
       "</style>\n",
       "<table border=\"1\" class=\"dataframe\">\n",
       "  <thead>\n",
       "    <tr style=\"text-align: right;\">\n",
       "      <th></th>\n",
       "      <th>integration_method</th>\n",
       "      <th>embedded_space</th>\n",
       "      <th>n_embedded</th>\n",
       "      <th>n_Patient_embedded</th>\n",
       "      <th>batchKeys</th>\n",
       "      <th>annotation</th>\n",
       "      <th>classification_method</th>\n",
       "      <th>EXTERNAL_F1</th>\n",
       "      <th>EXTERNAL_BAS</th>\n",
       "      <th>EXTERNAL_MCC</th>\n",
       "      <th>EXTERNAL_TRAIN_F1</th>\n",
       "    </tr>\n",
       "  </thead>\n",
       "  <tbody>\n",
       "    <tr>\n",
       "      <th>0</th>\n",
       "      <td>scPoli</td>\n",
       "      <td>sample</td>\n",
       "      <td>30</td>\n",
       "      <td>20</td>\n",
       "      <td>chemistry</td>\n",
       "      <td>Level1n2</td>\n",
       "      <td>LinearSVC</td>\n",
       "      <td>0.102914</td>\n",
       "      <td>0.033778</td>\n",
       "      <td>0.021973</td>\n",
       "      <td>0.710619</td>\n",
       "    </tr>\n",
       "    <tr>\n",
       "      <th>1</th>\n",
       "      <td>scPoli</td>\n",
       "      <td>sample</td>\n",
       "      <td>30</td>\n",
       "      <td>20</td>\n",
       "      <td>chemistry</td>\n",
       "      <td>Level1n2</td>\n",
       "      <td>SVC</td>\n",
       "      <td>0.301797</td>\n",
       "      <td>0.142463</td>\n",
       "      <td>0.193204</td>\n",
       "      <td>0.768007</td>\n",
       "    </tr>\n",
       "    <tr>\n",
       "      <th>2</th>\n",
       "      <td>scPoli</td>\n",
       "      <td>sample</td>\n",
       "      <td>30</td>\n",
       "      <td>20</td>\n",
       "      <td>chemistry</td>\n",
       "      <td>Level1n2</td>\n",
       "      <td>kNN</td>\n",
       "      <td>0.212601</td>\n",
       "      <td>0.061121</td>\n",
       "      <td>0.078385</td>\n",
       "      <td>0.730134</td>\n",
       "    </tr>\n",
       "  </tbody>\n",
       "</table>\n",
       "</div>"
      ],
      "text/plain": [
       "  integration_method embedded_space n_embedded n_Patient_embedded  batchKeys  \\\n",
       "0             scPoli         sample         30                 20  chemistry   \n",
       "1             scPoli         sample         30                 20  chemistry   \n",
       "2             scPoli         sample         30                 20  chemistry   \n",
       "\n",
       "  annotation classification_method EXTERNAL_F1 EXTERNAL_BAS EXTERNAL_MCC  \\\n",
       "0   Level1n2             LinearSVC    0.102914     0.033778     0.021973   \n",
       "1   Level1n2                   SVC    0.301797     0.142463     0.193204   \n",
       "2   Level1n2                   kNN    0.212601     0.061121     0.078385   \n",
       "\n",
       "  EXTERNAL_TRAIN_F1  \n",
       "0          0.710619  \n",
       "1          0.768007  \n",
       "2          0.730134  "
      ]
     },
     "execution_count": 41,
     "metadata": {},
     "output_type": "execute_result"
    }
   ],
   "source": [
    "METRICdf"
   ]
  },
  {
   "cell_type": "code",
   "execution_count": null,
   "id": "dcac8762-9816-47ad-898f-ca8e3fbd90db",
   "metadata": {
    "papermill": {
     "duration": 0.00989,
     "end_time": "2024-07-14T16:01:36.217395",
     "exception": false,
     "start_time": "2024-07-14T16:01:36.207505",
     "status": "completed"
    },
    "tags": []
   },
   "outputs": [],
   "source": []
  }
 ],
 "metadata": {
  "kernelspec": {
   "display_name": "Python 3 (ipykernel)",
   "language": "python",
   "name": "python3"
  },
  "language_info": {
   "codemirror_mode": {
    "name": "ipython",
    "version": 3
   },
   "file_extension": ".py",
   "mimetype": "text/x-python",
   "name": "python",
   "nbconvert_exporter": "python",
   "pygments_lexer": "ipython3",
   "version": "3.12.3"
  },
  "papermill": {
   "default_parameters": {},
   "duration": 28.949458,
   "end_time": "2024-07-14T16:01:36.942883",
   "environment_variables": {},
   "exception": null,
   "input_path": "01_Hyperparameters_search_scPoli_scANVI.ipynb",
   "output_path": "results_CT_studies/executed_notebooks/01_Hyperparameters_search_scPoli_EXTERNALsample_30nLat_20pEmb_chemistry_Level1n2_optF1.ipynb",
   "parameters": {
    "QUERYNadata_path": "03_downstream_analysis/08_PatientClassifier/scPoli/results/PSEUDOBULKs/scPoli_PSEUDOBULKsample_EXTERNAL_2_30_20_*.h5ad",
    "REFERENCEadata_path": "03_downstream_analysis/08_PatientClassifier/scPoli/results/PSEUDOBULKs/scPoli_PSEUDOBULKsample_ref_latents_EXTERNAL_2_30_20_*.h5ad",
    "annotation": "Level1n2",
    "batch": "chemistry",
    "embSpace": "sample",
    "integration_method": "scPoli",
    "n_Patient_embedded": 20,
    "n_embedded": 30,
    "n_job": 32,
    "optimization_metric": "F1",
    "query_dataset": "EXTERNAL"
   },
   "start_time": "2024-07-14T16:01:07.993425",
   "version": "2.6.0"
  },
  "widgets": {
   "application/vnd.jupyter.widget-state+json": {
    "state": {
     "04296365f921459793dd842a8b2226bd": {
      "model_module": "@jupyter-widgets/controls",
      "model_module_version": "2.0.0",
      "model_name": "HTMLModel",
      "state": {
       "_dom_classes": [],
       "_model_module": "@jupyter-widgets/controls",
       "_model_module_version": "2.0.0",
       "_model_name": "HTMLModel",
       "_view_count": null,
       "_view_module": "@jupyter-widgets/controls",
       "_view_module_version": "2.0.0",
       "_view_name": "HTMLView",
       "description": "",
       "description_allow_html": false,
       "layout": "IPY_MODEL_b47505893ac24dc78d428ea7736b382f",
       "placeholder": "​",
       "style": "IPY_MODEL_498e57aab7fd4bbbb8fa7c49c78be7b9",
       "tabbable": null,
       "tooltip": null,
       "value": "Best trial: 80. Best value: 0.768007: 100%"
      }
     },
     "052ad747ab7a4f9f8f52a0570104e118": {
      "model_module": "@jupyter-widgets/base",
      "model_module_version": "2.0.0",
      "model_name": "LayoutModel",
      "state": {
       "_model_module": "@jupyter-widgets/base",
       "_model_module_version": "2.0.0",
       "_model_name": "LayoutModel",
       "_view_count": null,
       "_view_module": "@jupyter-widgets/base",
       "_view_module_version": "2.0.0",
       "_view_name": "LayoutView",
       "align_content": null,
       "align_items": null,
       "align_self": null,
       "border_bottom": null,
       "border_left": null,
       "border_right": null,
       "border_top": null,
       "bottom": null,
       "display": null,
       "flex": null,
       "flex_flow": null,
       "grid_area": null,
       "grid_auto_columns": null,
       "grid_auto_flow": null,
       "grid_auto_rows": null,
       "grid_column": null,
       "grid_gap": null,
       "grid_row": null,
       "grid_template_areas": null,
       "grid_template_columns": null,
       "grid_template_rows": null,
       "height": null,
       "justify_content": null,
       "justify_items": null,
       "left": null,
       "margin": null,
       "max_height": null,
       "max_width": null,
       "min_height": null,
       "min_width": null,
       "object_fit": null,
       "object_position": null,
       "order": null,
       "overflow": null,
       "padding": null,
       "right": null,
       "top": null,
       "visibility": null,
       "width": null
      }
     },
     "153274568e0a47cab897c5f1811b2a78": {
      "model_module": "@jupyter-widgets/controls",
      "model_module_version": "2.0.0",
      "model_name": "HBoxModel",
      "state": {
       "_dom_classes": [],
       "_model_module": "@jupyter-widgets/controls",
       "_model_module_version": "2.0.0",
       "_model_name": "HBoxModel",
       "_view_count": null,
       "_view_module": "@jupyter-widgets/controls",
       "_view_module_version": "2.0.0",
       "_view_name": "HBoxView",
       "box_style": "",
       "children": [
        "IPY_MODEL_04296365f921459793dd842a8b2226bd",
        "IPY_MODEL_9ca59707215f4cbe88d4e3c8676bf7d7",
        "IPY_MODEL_dea82974dab843d5971712d54a51a9bf"
       ],
       "layout": "IPY_MODEL_e8cdb5f3954145008a23b6696f74b99c",
       "tabbable": null,
       "tooltip": null
      }
     },
     "1ab8a527b5b84ebfb79681c23f188731": {
      "model_module": "@jupyter-widgets/base",
      "model_module_version": "2.0.0",
      "model_name": "LayoutModel",
      "state": {
       "_model_module": "@jupyter-widgets/base",
       "_model_module_version": "2.0.0",
       "_model_name": "LayoutModel",
       "_view_count": null,
       "_view_module": "@jupyter-widgets/base",
       "_view_module_version": "2.0.0",
       "_view_name": "LayoutView",
       "align_content": null,
       "align_items": null,
       "align_self": null,
       "border_bottom": null,
       "border_left": null,
       "border_right": null,
       "border_top": null,
       "bottom": null,
       "display": null,
       "flex": null,
       "flex_flow": null,
       "grid_area": null,
       "grid_auto_columns": null,
       "grid_auto_flow": null,
       "grid_auto_rows": null,
       "grid_column": null,
       "grid_gap": null,
       "grid_row": null,
       "grid_template_areas": null,
       "grid_template_columns": null,
       "grid_template_rows": null,
       "height": null,
       "justify_content": null,
       "justify_items": null,
       "left": null,
       "margin": null,
       "max_height": null,
       "max_width": null,
       "min_height": null,
       "min_width": null,
       "object_fit": null,
       "object_position": null,
       "order": null,
       "overflow": null,
       "padding": null,
       "right": null,
       "top": null,
       "visibility": null,
       "width": null
      }
     },
     "425653ba463a47c49dcf0aba8d71a09a": {
      "model_module": "@jupyter-widgets/controls",
      "model_module_version": "2.0.0",
      "model_name": "ProgressStyleModel",
      "state": {
       "_model_module": "@jupyter-widgets/controls",
       "_model_module_version": "2.0.0",
       "_model_name": "ProgressStyleModel",
       "_view_count": null,
       "_view_module": "@jupyter-widgets/base",
       "_view_module_version": "2.0.0",
       "_view_name": "StyleView",
       "bar_color": null,
       "description_width": ""
      }
     },
     "44485c1ff51146e1a0b0fc4a1bcf8da3": {
      "model_module": "@jupyter-widgets/controls",
      "model_module_version": "2.0.0",
      "model_name": "HTMLModel",
      "state": {
       "_dom_classes": [],
       "_model_module": "@jupyter-widgets/controls",
       "_model_module_version": "2.0.0",
       "_model_name": "HTMLModel",
       "_view_count": null,
       "_view_module": "@jupyter-widgets/controls",
       "_view_module_version": "2.0.0",
       "_view_name": "HTMLView",
       "description": "",
       "description_allow_html": false,
       "layout": "IPY_MODEL_9d26227517344540917788e5bc7e6f4a",
       "placeholder": "​",
       "style": "IPY_MODEL_4663335285ec41deb9a740ec288c18b8",
       "tabbable": null,
       "tooltip": null,
       "value": " 100/100 [00:04&lt;00:00, 30.18it/s]"
      }
     },
     "4663335285ec41deb9a740ec288c18b8": {
      "model_module": "@jupyter-widgets/controls",
      "model_module_version": "2.0.0",
      "model_name": "HTMLStyleModel",
      "state": {
       "_model_module": "@jupyter-widgets/controls",
       "_model_module_version": "2.0.0",
       "_model_name": "HTMLStyleModel",
       "_view_count": null,
       "_view_module": "@jupyter-widgets/base",
       "_view_module_version": "2.0.0",
       "_view_name": "StyleView",
       "background": null,
       "description_width": "",
       "font_size": null,
       "text_color": null
      }
     },
     "4720c69a20964e33b29850cb8294545d": {
      "model_module": "@jupyter-widgets/controls",
      "model_module_version": "2.0.0",
      "model_name": "ProgressStyleModel",
      "state": {
       "_model_module": "@jupyter-widgets/controls",
       "_model_module_version": "2.0.0",
       "_model_name": "ProgressStyleModel",
       "_view_count": null,
       "_view_module": "@jupyter-widgets/base",
       "_view_module_version": "2.0.0",
       "_view_name": "StyleView",
       "bar_color": null,
       "description_width": ""
      }
     },
     "498e57aab7fd4bbbb8fa7c49c78be7b9": {
      "model_module": "@jupyter-widgets/controls",
      "model_module_version": "2.0.0",
      "model_name": "HTMLStyleModel",
      "state": {
       "_model_module": "@jupyter-widgets/controls",
       "_model_module_version": "2.0.0",
       "_model_name": "HTMLStyleModel",
       "_view_count": null,
       "_view_module": "@jupyter-widgets/base",
       "_view_module_version": "2.0.0",
       "_view_name": "StyleView",
       "background": null,
       "description_width": "",
       "font_size": null,
       "text_color": null
      }
     },
     "661ee951457c4bce9b07d0a102645bf9": {
      "model_module": "@jupyter-widgets/controls",
      "model_module_version": "2.0.0",
      "model_name": "HTMLStyleModel",
      "state": {
       "_model_module": "@jupyter-widgets/controls",
       "_model_module_version": "2.0.0",
       "_model_name": "HTMLStyleModel",
       "_view_count": null,
       "_view_module": "@jupyter-widgets/base",
       "_view_module_version": "2.0.0",
       "_view_name": "StyleView",
       "background": null,
       "description_width": "",
       "font_size": null,
       "text_color": null
      }
     },
     "7f1b6f9571b143c8b9e951a96e4f6fcd": {
      "model_module": "@jupyter-widgets/base",
      "model_module_version": "2.0.0",
      "model_name": "LayoutModel",
      "state": {
       "_model_module": "@jupyter-widgets/base",
       "_model_module_version": "2.0.0",
       "_model_name": "LayoutModel",
       "_view_count": null,
       "_view_module": "@jupyter-widgets/base",
       "_view_module_version": "2.0.0",
       "_view_name": "LayoutView",
       "align_content": null,
       "align_items": null,
       "align_self": null,
       "border_bottom": null,
       "border_left": null,
       "border_right": null,
       "border_top": null,
       "bottom": null,
       "display": null,
       "flex": null,
       "flex_flow": null,
       "grid_area": null,
       "grid_auto_columns": null,
       "grid_auto_flow": null,
       "grid_auto_rows": null,
       "grid_column": null,
       "grid_gap": null,
       "grid_row": null,
       "grid_template_areas": null,
       "grid_template_columns": null,
       "grid_template_rows": null,
       "height": null,
       "justify_content": null,
       "justify_items": null,
       "left": null,
       "margin": null,
       "max_height": null,
       "max_width": null,
       "min_height": null,
       "min_width": null,
       "object_fit": null,
       "object_position": null,
       "order": null,
       "overflow": null,
       "padding": null,
       "right": null,
       "top": null,
       "visibility": null,
       "width": null
      }
     },
     "9ca59707215f4cbe88d4e3c8676bf7d7": {
      "model_module": "@jupyter-widgets/controls",
      "model_module_version": "2.0.0",
      "model_name": "FloatProgressModel",
      "state": {
       "_dom_classes": [],
       "_model_module": "@jupyter-widgets/controls",
       "_model_module_version": "2.0.0",
       "_model_name": "FloatProgressModel",
       "_view_count": null,
       "_view_module": "@jupyter-widgets/controls",
       "_view_module_version": "2.0.0",
       "_view_name": "ProgressView",
       "bar_style": "success",
       "description": "",
       "description_allow_html": false,
       "layout": "IPY_MODEL_cdef3a4c93234f8db5c056f73960245c",
       "max": 300.0,
       "min": 0.0,
       "orientation": "horizontal",
       "style": "IPY_MODEL_4720c69a20964e33b29850cb8294545d",
       "tabbable": null,
       "tooltip": null,
       "value": 300.0
      }
     },
     "9d26227517344540917788e5bc7e6f4a": {
      "model_module": "@jupyter-widgets/base",
      "model_module_version": "2.0.0",
      "model_name": "LayoutModel",
      "state": {
       "_model_module": "@jupyter-widgets/base",
       "_model_module_version": "2.0.0",
       "_model_name": "LayoutModel",
       "_view_count": null,
       "_view_module": "@jupyter-widgets/base",
       "_view_module_version": "2.0.0",
       "_view_name": "LayoutView",
       "align_content": null,
       "align_items": null,
       "align_self": null,
       "border_bottom": null,
       "border_left": null,
       "border_right": null,
       "border_top": null,
       "bottom": null,
       "display": null,
       "flex": null,
       "flex_flow": null,
       "grid_area": null,
       "grid_auto_columns": null,
       "grid_auto_flow": null,
       "grid_auto_rows": null,
       "grid_column": null,
       "grid_gap": null,
       "grid_row": null,
       "grid_template_areas": null,
       "grid_template_columns": null,
       "grid_template_rows": null,
       "height": null,
       "justify_content": null,
       "justify_items": null,
       "left": null,
       "margin": null,
       "max_height": null,
       "max_width": null,
       "min_height": null,
       "min_width": null,
       "object_fit": null,
       "object_position": null,
       "order": null,
       "overflow": null,
       "padding": null,
       "right": null,
       "top": null,
       "visibility": null,
       "width": null
      }
     },
     "b47505893ac24dc78d428ea7736b382f": {
      "model_module": "@jupyter-widgets/base",
      "model_module_version": "2.0.0",
      "model_name": "LayoutModel",
      "state": {
       "_model_module": "@jupyter-widgets/base",
       "_model_module_version": "2.0.0",
       "_model_name": "LayoutModel",
       "_view_count": null,
       "_view_module": "@jupyter-widgets/base",
       "_view_module_version": "2.0.0",
       "_view_name": "LayoutView",
       "align_content": null,
       "align_items": null,
       "align_self": null,
       "border_bottom": null,
       "border_left": null,
       "border_right": null,
       "border_top": null,
       "bottom": null,
       "display": null,
       "flex": null,
       "flex_flow": null,
       "grid_area": null,
       "grid_auto_columns": null,
       "grid_auto_flow": null,
       "grid_auto_rows": null,
       "grid_column": null,
       "grid_gap": null,
       "grid_row": null,
       "grid_template_areas": null,
       "grid_template_columns": null,
       "grid_template_rows": null,
       "height": null,
       "justify_content": null,
       "justify_items": null,
       "left": null,
       "margin": null,
       "max_height": null,
       "max_width": null,
       "min_height": null,
       "min_width": null,
       "object_fit": null,
       "object_position": null,
       "order": null,
       "overflow": null,
       "padding": null,
       "right": null,
       "top": null,
       "visibility": null,
       "width": null
      }
     },
     "b760896a3e544375b203fa5c77f423ac": {
      "model_module": "@jupyter-widgets/controls",
      "model_module_version": "2.0.0",
      "model_name": "HTMLStyleModel",
      "state": {
       "_model_module": "@jupyter-widgets/controls",
       "_model_module_version": "2.0.0",
       "_model_name": "HTMLStyleModel",
       "_view_count": null,
       "_view_module": "@jupyter-widgets/base",
       "_view_module_version": "2.0.0",
       "_view_name": "StyleView",
       "background": null,
       "description_width": "",
       "font_size": null,
       "text_color": null
      }
     },
     "c0f4783da6c9449e8e8618eb977c6502": {
      "model_module": "@jupyter-widgets/controls",
      "model_module_version": "2.0.0",
      "model_name": "HTMLModel",
      "state": {
       "_dom_classes": [],
       "_model_module": "@jupyter-widgets/controls",
       "_model_module_version": "2.0.0",
       "_model_name": "HTMLModel",
       "_view_count": null,
       "_view_module": "@jupyter-widgets/controls",
       "_view_module_version": "2.0.0",
       "_view_name": "HTMLView",
       "description": "",
       "description_allow_html": false,
       "layout": "IPY_MODEL_1ab8a527b5b84ebfb79681c23f188731",
       "placeholder": "​",
       "style": "IPY_MODEL_b760896a3e544375b203fa5c77f423ac",
       "tabbable": null,
       "tooltip": null,
       "value": "Best trial: 86. Best value: 0.710619: 100%"
      }
     },
     "cdef3a4c93234f8db5c056f73960245c": {
      "model_module": "@jupyter-widgets/base",
      "model_module_version": "2.0.0",
      "model_name": "LayoutModel",
      "state": {
       "_model_module": "@jupyter-widgets/base",
       "_model_module_version": "2.0.0",
       "_model_name": "LayoutModel",
       "_view_count": null,
       "_view_module": "@jupyter-widgets/base",
       "_view_module_version": "2.0.0",
       "_view_name": "LayoutView",
       "align_content": null,
       "align_items": null,
       "align_self": null,
       "border_bottom": null,
       "border_left": null,
       "border_right": null,
       "border_top": null,
       "bottom": null,
       "display": null,
       "flex": null,
       "flex_flow": null,
       "grid_area": null,
       "grid_auto_columns": null,
       "grid_auto_flow": null,
       "grid_auto_rows": null,
       "grid_column": null,
       "grid_gap": null,
       "grid_row": null,
       "grid_template_areas": null,
       "grid_template_columns": null,
       "grid_template_rows": null,
       "height": null,
       "justify_content": null,
       "justify_items": null,
       "left": null,
       "margin": null,
       "max_height": null,
       "max_width": null,
       "min_height": null,
       "min_width": null,
       "object_fit": null,
       "object_position": null,
       "order": null,
       "overflow": null,
       "padding": null,
       "right": null,
       "top": null,
       "visibility": null,
       "width": null
      }
     },
     "d1ad4c18a7ca491f90da3ee6e2e7a89f": {
      "model_module": "@jupyter-widgets/controls",
      "model_module_version": "2.0.0",
      "model_name": "FloatProgressModel",
      "state": {
       "_dom_classes": [],
       "_model_module": "@jupyter-widgets/controls",
       "_model_module_version": "2.0.0",
       "_model_name": "FloatProgressModel",
       "_view_count": null,
       "_view_module": "@jupyter-widgets/controls",
       "_view_module_version": "2.0.0",
       "_view_name": "ProgressView",
       "bar_style": "success",
       "description": "",
       "description_allow_html": false,
       "layout": "IPY_MODEL_e1d8a1d16b3b45d6a06bf609f5aaddd7",
       "max": 100.0,
       "min": 0.0,
       "orientation": "horizontal",
       "style": "IPY_MODEL_425653ba463a47c49dcf0aba8d71a09a",
       "tabbable": null,
       "tooltip": null,
       "value": 100.0
      }
     },
     "dea82974dab843d5971712d54a51a9bf": {
      "model_module": "@jupyter-widgets/controls",
      "model_module_version": "2.0.0",
      "model_name": "HTMLModel",
      "state": {
       "_dom_classes": [],
       "_model_module": "@jupyter-widgets/controls",
       "_model_module_version": "2.0.0",
       "_model_name": "HTMLModel",
       "_view_count": null,
       "_view_module": "@jupyter-widgets/controls",
       "_view_module_version": "2.0.0",
       "_view_name": "HTMLView",
       "description": "",
       "description_allow_html": false,
       "layout": "IPY_MODEL_7f1b6f9571b143c8b9e951a96e4f6fcd",
       "placeholder": "​",
       "style": "IPY_MODEL_661ee951457c4bce9b07d0a102645bf9",
       "tabbable": null,
       "tooltip": null,
       "value": " 300/300 [00:15&lt;00:00, 30.73it/s]"
      }
     },
     "e1d8a1d16b3b45d6a06bf609f5aaddd7": {
      "model_module": "@jupyter-widgets/base",
      "model_module_version": "2.0.0",
      "model_name": "LayoutModel",
      "state": {
       "_model_module": "@jupyter-widgets/base",
       "_model_module_version": "2.0.0",
       "_model_name": "LayoutModel",
       "_view_count": null,
       "_view_module": "@jupyter-widgets/base",
       "_view_module_version": "2.0.0",
       "_view_name": "LayoutView",
       "align_content": null,
       "align_items": null,
       "align_self": null,
       "border_bottom": null,
       "border_left": null,
       "border_right": null,
       "border_top": null,
       "bottom": null,
       "display": null,
       "flex": null,
       "flex_flow": null,
       "grid_area": null,
       "grid_auto_columns": null,
       "grid_auto_flow": null,
       "grid_auto_rows": null,
       "grid_column": null,
       "grid_gap": null,
       "grid_row": null,
       "grid_template_areas": null,
       "grid_template_columns": null,
       "grid_template_rows": null,
       "height": null,
       "justify_content": null,
       "justify_items": null,
       "left": null,
       "margin": null,
       "max_height": null,
       "max_width": null,
       "min_height": null,
       "min_width": null,
       "object_fit": null,
       "object_position": null,
       "order": null,
       "overflow": null,
       "padding": null,
       "right": null,
       "top": null,
       "visibility": null,
       "width": null
      }
     },
     "e8cdb5f3954145008a23b6696f74b99c": {
      "model_module": "@jupyter-widgets/base",
      "model_module_version": "2.0.0",
      "model_name": "LayoutModel",
      "state": {
       "_model_module": "@jupyter-widgets/base",
       "_model_module_version": "2.0.0",
       "_model_name": "LayoutModel",
       "_view_count": null,
       "_view_module": "@jupyter-widgets/base",
       "_view_module_version": "2.0.0",
       "_view_name": "LayoutView",
       "align_content": null,
       "align_items": null,
       "align_self": null,
       "border_bottom": null,
       "border_left": null,
       "border_right": null,
       "border_top": null,
       "bottom": null,
       "display": null,
       "flex": null,
       "flex_flow": null,
       "grid_area": null,
       "grid_auto_columns": null,
       "grid_auto_flow": null,
       "grid_auto_rows": null,
       "grid_column": null,
       "grid_gap": null,
       "grid_row": null,
       "grid_template_areas": null,
       "grid_template_columns": null,
       "grid_template_rows": null,
       "height": null,
       "justify_content": null,
       "justify_items": null,
       "left": null,
       "margin": null,
       "max_height": null,
       "max_width": null,
       "min_height": null,
       "min_width": null,
       "object_fit": null,
       "object_position": null,
       "order": null,
       "overflow": null,
       "padding": null,
       "right": null,
       "top": null,
       "visibility": null,
       "width": null
      }
     },
     "f5c5e002b17e4e77b3973f786a9cdb8d": {
      "model_module": "@jupyter-widgets/controls",
      "model_module_version": "2.0.0",
      "model_name": "HBoxModel",
      "state": {
       "_dom_classes": [],
       "_model_module": "@jupyter-widgets/controls",
       "_model_module_version": "2.0.0",
       "_model_name": "HBoxModel",
       "_view_count": null,
       "_view_module": "@jupyter-widgets/controls",
       "_view_module_version": "2.0.0",
       "_view_name": "HBoxView",
       "box_style": "",
       "children": [
        "IPY_MODEL_c0f4783da6c9449e8e8618eb977c6502",
        "IPY_MODEL_d1ad4c18a7ca491f90da3ee6e2e7a89f",
        "IPY_MODEL_44485c1ff51146e1a0b0fc4a1bcf8da3"
       ],
       "layout": "IPY_MODEL_052ad747ab7a4f9f8f52a0570104e118",
       "tabbable": null,
       "tooltip": null
      }
     }
    },
    "version_major": 2,
    "version_minor": 0
   }
  }
 },
 "nbformat": 4,
 "nbformat_minor": 5
}