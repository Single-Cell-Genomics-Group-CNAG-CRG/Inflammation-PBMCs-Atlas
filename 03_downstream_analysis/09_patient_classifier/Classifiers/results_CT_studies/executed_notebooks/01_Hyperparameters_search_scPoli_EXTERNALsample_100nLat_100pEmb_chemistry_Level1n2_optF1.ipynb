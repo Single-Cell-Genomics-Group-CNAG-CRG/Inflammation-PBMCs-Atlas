{
 "cells": [
  {
   "cell_type": "code",
   "execution_count": 1,
   "id": "48414814",
   "metadata": {
    "execution": {
     "iopub.execute_input": "2024-07-07T14:19:43.186203Z",
     "iopub.status.busy": "2024-07-07T14:19:43.185902Z",
     "iopub.status.idle": "2024-07-07T14:19:43.189186Z",
     "shell.execute_reply": "2024-07-07T14:19:43.188898Z"
    },
    "papermill": {
     "duration": 0.047385,
     "end_time": "2024-07-07T14:19:43.189980",
     "exception": false,
     "start_time": "2024-07-07T14:19:43.142595",
     "status": "completed"
    },
    "tags": [
     "injected-parameters"
    ]
   },
   "outputs": [],
   "source": [
    "# Parameters\n",
    "query_dataset = \"EXTERNAL\"\n",
    "n_embedded = 100\n",
    "n_Patient_embedded = 100\n",
    "embSpace = \"sample\"\n",
    "integration_method = \"scPoli\"\n",
    "batch = \"chemistry\"\n",
    "annotation = \"Level1n2\"\n",
    "REFERENCEadata_path = \"03_downstream_analysis/08_PatientClassifier/scPoli/results/PSEUDOBULKs/scPoli_PSEUDOBULKsample_ref_latents_EXTERNAL_2_100_100_*.h5ad\"\n",
    "QUERYNadata_path = \"03_downstream_analysis/08_PatientClassifier/scPoli/results/PSEUDOBULKs/scPoli_PSEUDOBULKsample_EXTERNAL_2_100_100_*.h5ad\"\n",
    "optimization_metric = \"F1\"\n",
    "n_job = 32\n"
   ]
  },
  {
   "cell_type": "raw",
   "id": "8006df31-f699-4d7c-be82-be75bd4e65b5",
   "metadata": {
    "execution": {
     "iopub.execute_input": "2024-07-07T12:47:25.237809Z",
     "iopub.status.busy": "2024-07-07T12:47:25.237662Z",
     "iopub.status.idle": "2024-07-07T12:47:25.241185Z",
     "shell.execute_reply": "2024-07-07T12:47:25.240733Z",
     "shell.execute_reply.started": "2024-07-07T12:47:25.237792Z"
    },
    "papermill": {
     "duration": 0.036375,
     "end_time": "2024-07-07T14:19:43.242783",
     "exception": false,
     "start_time": "2024-07-07T14:19:43.206408",
     "status": "completed"
    },
    "tags": []
   },
   "source": [
    "query_dataset = 'VALIDATION'\n",
    "\n",
    "integration_method = \"scANVIkNN\"\n",
    "\n",
    "n_embedded = 30\n",
    "batch = \"chemistry\"\n",
    "annotation = \"Level2\"\n",
    "n_Patient_embedded = 0\n",
    "embSpace = 'cell'\n",
    "\n",
    "REFERENCEadata_path = \"03_downstream_analysis/08_PatientClassifier/scANVI/results/PSEUDOBULKs/scANVI_PSEUDOBULK_reference_EXTERNAL_256_30_Level2_*.h5ad\"\n",
    "QUERYNadata_path = \"03_downstream_analysis/08_PatientClassifier/scANVI/results/PSEUDOBULKs/scANVI_PSEUDOBULK_kNN_query_VALIDATION_256_30_Level2_*.h5ad\"\n",
    "\n",
    "optimization_metric = 'F1'\n",
    "\n",
    "n_job = 50"
   ]
  },
  {
   "cell_type": "code",
   "execution_count": 2,
   "id": "0fcb96fe-1ddc-4da2-95ac-e91752904818",
   "metadata": {
    "execution": {
     "iopub.execute_input": "2024-07-07T14:19:43.297209Z",
     "iopub.status.busy": "2024-07-07T14:19:43.296984Z",
     "iopub.status.idle": "2024-07-07T14:19:43.300210Z",
     "shell.execute_reply": "2024-07-07T14:19:43.299908Z"
    },
    "papermill": {
     "duration": 0.02257,
     "end_time": "2024-07-07T14:19:43.300997",
     "exception": false,
     "start_time": "2024-07-07T14:19:43.278427",
     "status": "completed"
    },
    "tags": []
   },
   "outputs": [
    {
     "name": "stdout",
     "output_type": "stream",
     "text": [
      "REFERENCEadata_path = 03_downstream_analysis/08_PatientClassifier/scPoli/results/PSEUDOBULKs/scPoli_PSEUDOBULKsample_ref_latents_EXTERNAL_2_100_100_*.h5ad\n",
      "QUERYNadata_path = 03_downstream_analysis/08_PatientClassifier/scPoli/results/PSEUDOBULKs/scPoli_PSEUDOBULKsample_EXTERNAL_2_100_100_*.h5ad\n",
      "query_dataset = EXTERNAL\n",
      "integration_method = scPoli\n",
      "embSpace = sample\n",
      "n_embedded = 100\n",
      "n_Patient_embedded = 100\n",
      "batch = chemistry\n",
      "annotation = Level1n2\n",
      "optimization_metric = F1\n",
      "n_job = 32\n"
     ]
    }
   ],
   "source": [
    "for v in ['REFERENCEadata_path','QUERYNadata_path','query_dataset','integration_method',\n",
    "          'embSpace','n_embedded','n_Patient_embedded','batch','annotation','optimization_metric','n_job']:\n",
    "    if v in locals() or v in globals():\n",
    "        print(f\"{v} = {eval(v)}\", end='\\n')\n",
    "    else:\n",
    "        raise ValueError(f\"{v} is not defined\")"
   ]
  },
  {
   "cell_type": "code",
   "execution_count": 3,
   "id": "758cad27-6850-48ef-a1a2-31b4515a2452",
   "metadata": {
    "execution": {
     "iopub.execute_input": "2024-07-07T14:19:43.353246Z",
     "iopub.status.busy": "2024-07-07T14:19:43.352975Z",
     "iopub.status.idle": "2024-07-07T14:19:46.645372Z",
     "shell.execute_reply": "2024-07-07T14:19:46.644729Z"
    },
    "papermill": {
     "duration": 3.321142,
     "end_time": "2024-07-07T14:19:46.647060",
     "exception": false,
     "start_time": "2024-07-07T14:19:43.325918",
     "status": "completed"
    },
    "tags": []
   },
   "outputs": [],
   "source": [
    "import os\n",
    "\n",
    "from glob import glob\n",
    "\n",
    "import optuna as op\n",
    "\n",
    "from optuna.samplers import TPESampler, BruteForceSampler\n",
    "\n",
    "import scanpy as sc\n",
    "import pandas as pd\n",
    "import matplotlib.pyplot as plt\n",
    "\n",
    "import joblib\n",
    "\n",
    "\n",
    "from sklearn.svm import LinearSVC, SVC\n",
    "from sklearn.neighbors import KNeighborsClassifier\n",
    "\n",
    "from sklearn.preprocessing import StandardScaler\n",
    "from sklearn.metrics import f1_score, balanced_accuracy_score, matthews_corrcoef\n",
    "\n",
    "from pyprojroot import here\n",
    "\n",
    "from tqdm import tqdm"
   ]
  },
  {
   "cell_type": "code",
   "execution_count": 4,
   "id": "c201d383-ff56-4311-a9bf-f2486358f2ec",
   "metadata": {
    "execution": {
     "iopub.execute_input": "2024-07-07T14:19:46.664334Z",
     "iopub.status.busy": "2024-07-07T14:19:46.663875Z",
     "iopub.status.idle": "2024-07-07T14:19:46.669832Z",
     "shell.execute_reply": "2024-07-07T14:19:46.669511Z"
    },
    "papermill": {
     "duration": 0.015441,
     "end_time": "2024-07-07T14:19:46.670611",
     "exception": false,
     "start_time": "2024-07-07T14:19:46.655170",
     "status": "completed"
    },
    "tags": []
   },
   "outputs": [],
   "source": [
    "op.logging.set_verbosity(op.logging.WARNING)"
   ]
  },
  {
   "cell_type": "code",
   "execution_count": 5,
   "id": "3d348e24-3245-402c-9e8d-cf79ab5c3fa8",
   "metadata": {
    "execution": {
     "iopub.execute_input": "2024-07-07T14:19:46.686968Z",
     "iopub.status.busy": "2024-07-07T14:19:46.686727Z",
     "iopub.status.idle": "2024-07-07T14:19:46.688951Z",
     "shell.execute_reply": "2024-07-07T14:19:46.688640Z"
    },
    "papermill": {
     "duration": 0.010971,
     "end_time": "2024-07-07T14:19:46.689716",
     "exception": false,
     "start_time": "2024-07-07T14:19:46.678745",
     "status": "completed"
    },
    "tags": []
   },
   "outputs": [],
   "source": [
    "random_seed = 42"
   ]
  },
  {
   "cell_type": "code",
   "execution_count": 6,
   "id": "baee6c9e-adc2-48ad-9bce-cb0ed1b9fb74",
   "metadata": {
    "execution": {
     "iopub.execute_input": "2024-07-07T14:19:46.706325Z",
     "iopub.status.busy": "2024-07-07T14:19:46.706082Z",
     "iopub.status.idle": "2024-07-07T14:19:46.713348Z",
     "shell.execute_reply": "2024-07-07T14:19:46.712983Z"
    },
    "papermill": {
     "duration": 0.016703,
     "end_time": "2024-07-07T14:19:46.714122",
     "exception": false,
     "start_time": "2024-07-07T14:19:46.697419",
     "status": "completed"
    },
    "tags": []
   },
   "outputs": [],
   "source": [
    "mainDir=here('03_downstream_analysis/08_PatientClassifier/Classifiers/results_CT_studies/')"
   ]
  },
  {
   "cell_type": "markdown",
   "id": "b4709398-98b6-4f04-be56-d70e5dd0a7a0",
   "metadata": {
    "papermill": {
     "duration": 0.009043,
     "end_time": "2024-07-07T14:19:46.731180",
     "exception": false,
     "start_time": "2024-07-07T14:19:46.722137",
     "status": "completed"
    },
    "tags": []
   },
   "source": [
    "### Defining functions"
   ]
  },
  {
   "cell_type": "code",
   "execution_count": 7,
   "id": "81d6ddc9-2554-463a-84db-b7e9cf9c98da",
   "metadata": {
    "execution": {
     "iopub.execute_input": "2024-07-07T14:19:46.750315Z",
     "iopub.status.busy": "2024-07-07T14:19:46.750082Z",
     "iopub.status.idle": "2024-07-07T14:19:46.758518Z",
     "shell.execute_reply": "2024-07-07T14:19:46.758117Z"
    },
    "papermill": {
     "duration": 0.020293,
     "end_time": "2024-07-07T14:19:46.759284",
     "exception": false,
     "start_time": "2024-07-07T14:19:46.738991",
     "status": "completed"
    },
    "tags": []
   },
   "outputs": [],
   "source": [
    "def _most_frequent_or_na(row):\n",
    "    mode = row.mode()\n",
    "    if len(mode) > 1:\n",
    "        return 'nan'\n",
    "    else:\n",
    "        return mode.iloc[0]\n",
    "            \n",
    "class CellTypeDiseasePrediction():\n",
    "        \n",
    "    def __init__(self, clf_params, classifier, cell_type, y_true_col='disease', sample_id_col='sampleID'):\n",
    "        self.clf_params = clf_params\n",
    "        self.classifier = classifier\n",
    "        self.ct = cell_type\n",
    "        self.y_true_col = y_true_col\n",
    "        self.sample_id_col = sample_id_col\n",
    "        self.clfs = {}\n",
    "        self.use_scaler = self.clf_params.pop('scaler')\n",
    "        #self.le = LabelEncoder()\n",
    "        \n",
    "    def fit(self, adataTrain):\n",
    "\n",
    "    \n",
    "        #adataTrain.obs.loc[:,self.y_true_col] = self.le.fit_transform(adataTrain.obs[self.y_true_col])\n",
    "        \n",
    "        X_train = adataTrain.X\n",
    "        y_train = adataTrain.obs[self.y_true_col]\n",
    "\n",
    "        if self.use_scaler:\n",
    "            self.scaler = StandardScaler().fit(X_train)\n",
    "            X_train = self.scaler.transform(X_train)\n",
    "   \n",
    "        self.clfs = self.classifier(**self.clf_params).fit(X_train, y_train)\n",
    "\n",
    "        return self\n",
    "\n",
    "    def predict(self, adataVal, y_true_col='disease'):\n",
    "\n",
    "        #adataVal.obs.loc[:,y_true_col] = self.le.transform(adataVal.obs[y_true_col])\n",
    "        \n",
    "        cell_type_pred = []\n",
    "        \n",
    "        X_val = adataVal.X\n",
    "\n",
    "        if self.use_scaler:\n",
    "            X_val = self.scaler.transform(X_val)\n",
    "        \n",
    "        y_pred = self.clfs.predict(X_val)\n",
    "\n",
    "        cell_type_pred = pd.DataFrame({self.sample_id_col: adataVal.obs[self.sample_id_col],\n",
    "                                       self.y_true_col: adataVal.obs[self.y_true_col],\n",
    "                                       f'disease_pred_{self.ct}': y_pred}).set_index(self.sample_id_col)\n",
    "\n",
    "        \n",
    "        # cell_type_pred['disease_pred'] = cell_type_pred.apply(_most_frequent_or_na, axis=1)\n",
    "\n",
    "        # cell_type_pred_merged = cell_type_pred.merge(adataVal.obs.groupby([self.sample_id_col], observed=True).agg({y_true_col:'first'}), \n",
    "        #                                              left_index=True, \n",
    "        #                                              right_index=True)\n",
    "        \n",
    "\n",
    "        return cell_type_pred\n",
    "\n",
    "class VotingDisease():\n",
    "    \n",
    "    def __init__(self, classifier = None, cell_type_studies = None, fixed_params = None, \n",
    "                 cell_type_col = 'Level1', sample_id_col = 'sampleID', y_true_col = 'disease'):\n",
    "        \n",
    "        self.fixed_params = fixed_params\n",
    "        self.classifier = classifier\n",
    "        self.ct_studies = cell_type_studies\n",
    "        self.cell_type_col = cell_type_col \n",
    "        self.y_true_col = y_true_col\n",
    "        self.sample_id_col = sample_id_col\n",
    "        self.clfs = {}\n",
    "\n",
    "    def fit(self, adataR = None):\n",
    "        \n",
    "        for ct_i in self.ct_studies.keys(): \n",
    "    \n",
    "            adataR_ct = adataR[adataR.obs[cell_type_col] == ct_i]\n",
    "            # adataQ_ct = adataQ[adataQ.obs[cell_type_col] == ct_i]\n",
    "        \n",
    "            clf_params = self.fixed_params | self.ct_studies[ct_i].best_trial.params\n",
    "        \n",
    "            self.clfs[ct_i] = (CellTypeDiseasePrediction(clf_params=clf_params, \n",
    "                                                         classifier=self.classifier, \n",
    "                                                         cell_type = ct_i, \n",
    "                                                         sample_id_col=self.sample_id_col, \n",
    "                                                         y_true_col = self.y_true_col)\n",
    "                                .fit(adataR_ct))\n",
    "        return self\n",
    "            \n",
    "    def predict(self, adataQ = None):\n",
    "        \n",
    "        y_pred_query_list = []\n",
    "        \n",
    "        for ct_i in self.ct_studies.keys(): \n",
    "    \n",
    "            adataQ_ct = adataQ[adataQ.obs[self.cell_type_col] == ct_i]\n",
    "        \n",
    "            y_pred_query_list.append(self.clfs[ct_i].predict(adataQ_ct, y_true_col = self.y_true_col).iloc[:,1])\n",
    "        \n",
    "        cellType_prediction_df = pd.concat(y_pred_query_list, axis=1, ignore_index=False, join='outer')\n",
    "        cellType_prediction_df['majority_pred'] = cellType_prediction_df.apply(_most_frequent_or_na, axis=1)\n",
    "\n",
    "        cellType_prediction_df = (cellType_prediction_df.merge(adataQ.obs[[self.sample_id_col, self.y_true_col]].drop_duplicates(), \n",
    "                                                               left_index = True, right_on = self.sample_id_col)\n",
    "                                  .set_index(self.sample_id_col))\n",
    "\n",
    "        return cellType_prediction_df"
   ]
  },
  {
   "cell_type": "markdown",
   "id": "54b0d7a6-9bc6-4ffe-b86d-475a6b391906",
   "metadata": {
    "papermill": {
     "duration": 0.007975,
     "end_time": "2024-07-07T14:19:46.775319",
     "exception": false,
     "start_time": "2024-07-07T14:19:46.767344",
     "status": "completed"
    },
    "tags": []
   },
   "source": [
    "### Loading data"
   ]
  },
  {
   "cell_type": "code",
   "execution_count": 8,
   "id": "8fa540e1-0656-4287-a0eb-0d4110e3a3bf",
   "metadata": {
    "execution": {
     "iopub.execute_input": "2024-07-07T14:19:46.794022Z",
     "iopub.status.busy": "2024-07-07T14:19:46.793621Z",
     "iopub.status.idle": "2024-07-07T14:19:46.910242Z",
     "shell.execute_reply": "2024-07-07T14:19:46.909850Z"
    },
    "papermill": {
     "duration": 0.127134,
     "end_time": "2024-07-07T14:19:46.911013",
     "exception": false,
     "start_time": "2024-07-07T14:19:46.783879",
     "status": "completed"
    },
    "tags": []
   },
   "outputs": [
    {
     "name": "stdout",
     "output_type": "stream",
     "text": [
      "scPoli_PSEUDOBULKsample_ref_latents_EXTERNAL_2_100_100_run2_gubrri7h.h5ad\n",
      "scPoli_PSEUDOBULKsample_EXTERNAL_2_100_100_run2_gubrri7h.h5ad\n"
     ]
    }
   ],
   "source": [
    "adataPathList = glob(str(here(REFERENCEadata_path)))\n",
    "if len(adataPathList) != 1:\n",
    "    print(adataPathList)\n",
    "    raise ValueError(f\"{adataPathList} adata not found\")\n",
    "else:\n",
    "    print(os.path.basename(adataPathList[0]))\n",
    "    REFERENCEpseudobulk = sc.read_h5ad(adataPathList[0])\n",
    "\n",
    "adataPathList = glob(str(here(QUERYNadata_path)))\n",
    "if len(adataPathList) != 1:\n",
    "    print(adataPathList)\n",
    "    raise ValueError(f\"adata not found\")\n",
    "else:\n",
    "    print(os.path.basename(adataPathList[0]))\n",
    "    QUERYpseudobulk = sc.read_h5ad(adataPathList[0])"
   ]
  },
  {
   "cell_type": "code",
   "execution_count": 9,
   "id": "34f17857-6896-4ec0-b8df-f349a0f4b563",
   "metadata": {
    "execution": {
     "iopub.execute_input": "2024-07-07T14:19:46.927438Z",
     "iopub.status.busy": "2024-07-07T14:19:46.927257Z",
     "iopub.status.idle": "2024-07-07T14:19:46.930371Z",
     "shell.execute_reply": "2024-07-07T14:19:46.930072Z"
    },
    "papermill": {
     "duration": 0.012027,
     "end_time": "2024-07-07T14:19:46.931110",
     "exception": false,
     "start_time": "2024-07-07T14:19:46.919083",
     "status": "completed"
    },
    "tags": []
   },
   "outputs": [],
   "source": [
    "# Renaiming 'Level1_pred' in scGen query datasets for consistency\n",
    "# and assert that 'disease' is in obs\n",
    "for ad_i in [REFERENCEpseudobulk,QUERYpseudobulk]:\n",
    "    ad_i.obs.rename({'Level1_pred':'Level1'},axis=1,inplace=True)\n",
    "    assert('disease' in ad_i.obs.columns)"
   ]
  },
  {
   "cell_type": "code",
   "execution_count": 10,
   "id": "dedd1921-9e34-40a4-aa1e-e1936b7f6ec8",
   "metadata": {
    "execution": {
     "iopub.execute_input": "2024-07-07T14:19:46.948363Z",
     "iopub.status.busy": "2024-07-07T14:19:46.948136Z",
     "iopub.status.idle": "2024-07-07T14:19:46.952838Z",
     "shell.execute_reply": "2024-07-07T14:19:46.952528Z"
    },
    "papermill": {
     "duration": 0.014305,
     "end_time": "2024-07-07T14:19:46.953591",
     "exception": false,
     "start_time": "2024-07-07T14:19:46.939286",
     "status": "completed"
    },
    "tags": []
   },
   "outputs": [
    {
     "data": {
      "text/plain": [
       "(AnnData object with n_obs × n_vars = 817 × 100\n",
       "     obs: 'sampleID', 'disease', 'Level1',\n",
       " AnnData object with n_obs × n_vars = 86 × 100\n",
       "     obs: 'sampleID', 'disease', 'Level1')"
      ]
     },
     "execution_count": 10,
     "metadata": {},
     "output_type": "execute_result"
    }
   ],
   "source": [
    "REFERENCEpseudobulk, QUERYpseudobulk"
   ]
  },
  {
   "cell_type": "code",
   "execution_count": 11,
   "id": "8b0a8658-f139-4b55-8da0-bd8fe7459e43",
   "metadata": {
    "execution": {
     "iopub.execute_input": "2024-07-07T14:19:46.971011Z",
     "iopub.status.busy": "2024-07-07T14:19:46.970547Z",
     "iopub.status.idle": "2024-07-07T14:19:46.973858Z",
     "shell.execute_reply": "2024-07-07T14:19:46.973561Z"
    },
    "papermill": {
     "duration": 0.012893,
     "end_time": "2024-07-07T14:19:46.974606",
     "exception": false,
     "start_time": "2024-07-07T14:19:46.961713",
     "status": "completed"
    },
    "tags": []
   },
   "outputs": [
    {
     "data": {
      "text/plain": [
       "['RA', 'healthy', 'COVID', 'HIV', 'cirrhosis', 'CD', 'SLE', 'sepsis']"
      ]
     },
     "execution_count": 11,
     "metadata": {},
     "output_type": "execute_result"
    }
   ],
   "source": [
    "QUERYpseudobulk.obs.disease.unique().tolist()"
   ]
  },
  {
   "cell_type": "code",
   "execution_count": 12,
   "id": "921bbbc6-1c59-4e41-8460-6f4b51fe5367",
   "metadata": {
    "execution": {
     "iopub.execute_input": "2024-07-07T14:19:46.992076Z",
     "iopub.status.busy": "2024-07-07T14:19:46.991717Z",
     "iopub.status.idle": "2024-07-07T14:19:46.994490Z",
     "shell.execute_reply": "2024-07-07T14:19:46.994204Z"
    },
    "papermill": {
     "duration": 0.012295,
     "end_time": "2024-07-07T14:19:46.995250",
     "exception": false,
     "start_time": "2024-07-07T14:19:46.982955",
     "status": "completed"
    },
    "tags": []
   },
   "outputs": [
    {
     "data": {
      "text/plain": [
       "(86,)"
      ]
     },
     "execution_count": 12,
     "metadata": {},
     "output_type": "execute_result"
    }
   ],
   "source": [
    "QUERYpseudobulk.obs.sampleID.unique().shape"
   ]
  },
  {
   "cell_type": "markdown",
   "id": "47a24343-38f0-4d9b-85e5-96b191b9d493",
   "metadata": {
    "papermill": {
     "duration": 0.007968,
     "end_time": "2024-07-07T14:19:47.012092",
     "exception": false,
     "start_time": "2024-07-07T14:19:47.004124",
     "status": "completed"
    },
    "tags": []
   },
   "source": [
    "### Removing unwanted cell-types"
   ]
  },
  {
   "cell_type": "code",
   "execution_count": 13,
   "id": "33d021b8-257a-4a18-b995-fe93a2ef1563",
   "metadata": {
    "execution": {
     "iopub.execute_input": "2024-07-07T14:19:47.029828Z",
     "iopub.status.busy": "2024-07-07T14:19:47.029192Z",
     "iopub.status.idle": "2024-07-07T14:19:47.035813Z",
     "shell.execute_reply": "2024-07-07T14:19:47.035501Z"
    },
    "papermill": {
     "duration": 0.016222,
     "end_time": "2024-07-07T14:19:47.036563",
     "exception": false,
     "start_time": "2024-07-07T14:19:47.020341",
     "status": "completed"
    },
    "tags": []
   },
   "outputs": [],
   "source": [
    "REFERENCEpseudobulkFilt = REFERENCEpseudobulk[~REFERENCEpseudobulk.obs['Level1'].isin(['Progenitors','Cycling_cells','Platelets','RBC'])].copy()\n",
    "QUERYpseudobulkFilt = QUERYpseudobulk[~QUERYpseudobulk.obs['Level1'].isin(['Progenitors','Cycling_cells','Platelets','RBC'])].copy()"
   ]
  },
  {
   "cell_type": "code",
   "execution_count": 14,
   "id": "aed927b0-478b-470d-9ed1-af7312f7ed63",
   "metadata": {
    "execution": {
     "iopub.execute_input": "2024-07-07T14:19:47.054175Z",
     "iopub.status.busy": "2024-07-07T14:19:47.053892Z",
     "iopub.status.idle": "2024-07-07T14:19:47.056476Z",
     "shell.execute_reply": "2024-07-07T14:19:47.056194Z"
    },
    "papermill": {
     "duration": 0.012089,
     "end_time": "2024-07-07T14:19:47.057228",
     "exception": false,
     "start_time": "2024-07-07T14:19:47.045139",
     "status": "completed"
    },
    "tags": []
   },
   "outputs": [
    {
     "data": {
      "text/plain": [
       "(AnnData object with n_obs × n_vars = 817 × 100\n",
       "     obs: 'sampleID', 'disease', 'Level1',\n",
       " AnnData object with n_obs × n_vars = 86 × 100\n",
       "     obs: 'sampleID', 'disease', 'Level1')"
      ]
     },
     "execution_count": 14,
     "metadata": {},
     "output_type": "execute_result"
    }
   ],
   "source": [
    "REFERENCEpseudobulkFilt, QUERYpseudobulk"
   ]
  },
  {
   "cell_type": "code",
   "execution_count": 15,
   "id": "d8c4be96-7453-42c7-97a7-f96114bf4675",
   "metadata": {
    "execution": {
     "iopub.execute_input": "2024-07-07T14:19:47.074405Z",
     "iopub.status.busy": "2024-07-07T14:19:47.073985Z",
     "iopub.status.idle": "2024-07-07T14:19:47.076640Z",
     "shell.execute_reply": "2024-07-07T14:19:47.076338Z"
    },
    "papermill": {
     "duration": 0.011967,
     "end_time": "2024-07-07T14:19:47.077391",
     "exception": false,
     "start_time": "2024-07-07T14:19:47.065424",
     "status": "completed"
    },
    "tags": []
   },
   "outputs": [],
   "source": [
    "REFERENCEpseudobulkFilt.obs['disease'] = REFERENCEpseudobulkFilt.obs['disease'].astype(str)"
   ]
  },
  {
   "cell_type": "markdown",
   "id": "4a7d77e0-16f6-47e7-affd-a93d5d242126",
   "metadata": {
    "papermill": {
     "duration": 0.007944,
     "end_time": "2024-07-07T14:19:47.094089",
     "exception": false,
     "start_time": "2024-07-07T14:19:47.086145",
     "status": "completed"
    },
    "tags": []
   },
   "source": [
    "## Input data and main parameters"
   ]
  },
  {
   "cell_type": "code",
   "execution_count": 16,
   "id": "5c42d3fb-0517-448d-a180-8d7033bb5066",
   "metadata": {
    "execution": {
     "iopub.execute_input": "2024-07-07T14:19:47.111415Z",
     "iopub.status.busy": "2024-07-07T14:19:47.111021Z",
     "iopub.status.idle": "2024-07-07T14:19:47.113054Z",
     "shell.execute_reply": "2024-07-07T14:19:47.112763Z"
    },
    "papermill": {
     "duration": 0.011335,
     "end_time": "2024-07-07T14:19:47.113796",
     "exception": false,
     "start_time": "2024-07-07T14:19:47.102461",
     "status": "completed"
    },
    "tags": []
   },
   "outputs": [],
   "source": [
    "cell_type_col='Level1'\n",
    "y_true_col='disease'\n",
    "sample_id_col='sampleID'"
   ]
  },
  {
   "cell_type": "markdown",
   "id": "86308030-1270-4cc8-8a92-1fbeb9f85e1e",
   "metadata": {
    "papermill": {
     "duration": 0.009417,
     "end_time": "2024-07-07T14:19:47.131831",
     "exception": false,
     "start_time": "2024-07-07T14:19:47.122414",
     "status": "completed"
    },
    "tags": []
   },
   "source": [
    "**Initialize pandas dataframe to collect results**"
   ]
  },
  {
   "cell_type": "code",
   "execution_count": 17,
   "id": "530355ab-1443-460c-a977-2e8e91225953",
   "metadata": {
    "execution": {
     "iopub.execute_input": "2024-07-07T14:19:47.149396Z",
     "iopub.status.busy": "2024-07-07T14:19:47.148986Z",
     "iopub.status.idle": "2024-07-07T14:19:47.162401Z",
     "shell.execute_reply": "2024-07-07T14:19:47.162108Z"
    },
    "papermill": {
     "duration": 0.02303,
     "end_time": "2024-07-07T14:19:47.163163",
     "exception": false,
     "start_time": "2024-07-07T14:19:47.140133",
     "status": "completed"
    },
    "tags": []
   },
   "outputs": [
    {
     "data": {
      "text/html": [
       "<div>\n",
       "<style scoped>\n",
       "    .dataframe tbody tr th:only-of-type {\n",
       "        vertical-align: middle;\n",
       "    }\n",
       "\n",
       "    .dataframe tbody tr th {\n",
       "        vertical-align: top;\n",
       "    }\n",
       "\n",
       "    .dataframe thead th {\n",
       "        text-align: right;\n",
       "    }\n",
       "</style>\n",
       "<table border=\"1\" class=\"dataframe\">\n",
       "  <thead>\n",
       "    <tr style=\"text-align: right;\">\n",
       "      <th></th>\n",
       "      <th>integration_method</th>\n",
       "      <th>embedded_space</th>\n",
       "      <th>n_embedded</th>\n",
       "      <th>n_Patient_embedded</th>\n",
       "      <th>batchKeys</th>\n",
       "      <th>annotation</th>\n",
       "      <th>classification_method</th>\n",
       "      <th>EXTERNAL_F1</th>\n",
       "      <th>EXTERNAL_BAS</th>\n",
       "      <th>EXTERNAL_MCC</th>\n",
       "      <th>EXTERNAL_TRAIN_F1</th>\n",
       "    </tr>\n",
       "  </thead>\n",
       "  <tbody>\n",
       "  </tbody>\n",
       "</table>\n",
       "</div>"
      ],
      "text/plain": [
       "Empty DataFrame\n",
       "Columns: [integration_method, embedded_space, n_embedded, n_Patient_embedded, batchKeys, annotation, classification_method, EXTERNAL_F1, EXTERNAL_BAS, EXTERNAL_MCC, EXTERNAL_TRAIN_F1]\n",
       "Index: []"
      ]
     },
     "execution_count": 17,
     "metadata": {},
     "output_type": "execute_result"
    }
   ],
   "source": [
    "METRICdf = pd.DataFrame(columns=['integration_method','embedded_space','n_embedded','n_Patient_embedded','batchKeys','annotation',\n",
    "                      'classification_method',f'{query_dataset}_F1',f'{query_dataset}_BAS',f'{query_dataset}_MCC', f'{query_dataset}_TRAIN_F1'])\n",
    "METRICdf"
   ]
  },
  {
   "cell_type": "markdown",
   "id": "bf4ebdcc-4895-4f1f-8f4c-721603c909c2",
   "metadata": {
    "papermill": {
     "duration": 0.008706,
     "end_time": "2024-07-07T14:19:47.185551",
     "exception": false,
     "start_time": "2024-07-07T14:19:47.176845",
     "status": "completed"
    },
    "tags": []
   },
   "source": [
    "### Hyper parameter tuning and classification\n",
    "\n",
    "The aim is to define the best classifier and its corresponding hyper-parameters using **MAIN adata** as train dataset and **VALIDATION adata** as validation.\n",
    "\n",
    "Then, with the best model/setting for each model family (i.e., SVC, kNN, NN, GBM) we will classify samples in VALIDATION, EXCLUDED and EXTERNAL datasets"
   ]
  },
  {
   "cell_type": "code",
   "execution_count": 18,
   "id": "5e79071a-6f5e-4b72-8650-3cb97d0de1d1",
   "metadata": {
    "execution": {
     "iopub.execute_input": "2024-07-07T14:19:47.203261Z",
     "iopub.status.busy": "2024-07-07T14:19:47.202878Z",
     "iopub.status.idle": "2024-07-07T14:19:47.204967Z",
     "shell.execute_reply": "2024-07-07T14:19:47.204676Z"
    },
    "papermill": {
     "duration": 0.011713,
     "end_time": "2024-07-07T14:19:47.205717",
     "exception": false,
     "start_time": "2024-07-07T14:19:47.194004",
     "status": "completed"
    },
    "tags": []
   },
   "outputs": [],
   "source": [
    "from sklearn.model_selection import StratifiedKFold"
   ]
  },
  {
   "cell_type": "code",
   "execution_count": 19,
   "id": "814840dd-0c10-4f56-9ea7-242d0ce92ccf",
   "metadata": {
    "execution": {
     "iopub.execute_input": "2024-07-07T14:19:47.223450Z",
     "iopub.status.busy": "2024-07-07T14:19:47.223105Z",
     "iopub.status.idle": "2024-07-07T14:19:47.225157Z",
     "shell.execute_reply": "2024-07-07T14:19:47.224863Z"
    },
    "papermill": {
     "duration": 0.011717,
     "end_time": "2024-07-07T14:19:47.225888",
     "exception": false,
     "start_time": "2024-07-07T14:19:47.214171",
     "status": "completed"
    },
    "tags": []
   },
   "outputs": [],
   "source": [
    "sKf = StratifiedKFold(n_splits = 5)"
   ]
  },
  {
   "cell_type": "code",
   "execution_count": 20,
   "id": "6e8b2c94-b76f-4100-8d44-2f9e8accf709",
   "metadata": {
    "execution": {
     "iopub.execute_input": "2024-07-07T14:19:47.244540Z",
     "iopub.status.busy": "2024-07-07T14:19:47.244016Z",
     "iopub.status.idle": "2024-07-07T14:19:47.248567Z",
     "shell.execute_reply": "2024-07-07T14:19:47.248268Z"
    },
    "papermill": {
     "duration": 0.014593,
     "end_time": "2024-07-07T14:19:47.249332",
     "exception": false,
     "start_time": "2024-07-07T14:19:47.234739",
     "status": "completed"
    },
    "tags": []
   },
   "outputs": [],
   "source": [
    "Pdata = REFERENCEpseudobulkFilt.obs.groupby(sample_id_col, observed=True).agg({y_true_col:'first'}).reset_index()"
   ]
  },
  {
   "cell_type": "code",
   "execution_count": 21,
   "id": "2a76174e-7528-422b-9143-728110106081",
   "metadata": {
    "execution": {
     "iopub.execute_input": "2024-07-07T14:19:47.266987Z",
     "iopub.status.busy": "2024-07-07T14:19:47.266775Z",
     "iopub.status.idle": "2024-07-07T14:19:47.270135Z",
     "shell.execute_reply": "2024-07-07T14:19:47.269834Z"
    },
    "papermill": {
     "duration": 0.012946,
     "end_time": "2024-07-07T14:19:47.270871",
     "exception": false,
     "start_time": "2024-07-07T14:19:47.257925",
     "status": "completed"
    },
    "tags": []
   },
   "outputs": [],
   "source": [
    "KfoldPatientSplit = list(sKf.split(X = Pdata[sample_id_col], y=Pdata[y_true_col]))"
   ]
  },
  {
   "cell_type": "markdown",
   "id": "ad885d57-52eb-4db4-9043-23de6a1a9094",
   "metadata": {
    "papermill": {
     "duration": 0.233659,
     "end_time": "2024-07-07T14:19:47.513079",
     "exception": false,
     "start_time": "2024-07-07T14:19:47.279420",
     "status": "completed"
    },
    "tags": []
   },
   "source": [
    "#### LinearSVC"
   ]
  },
  {
   "cell_type": "code",
   "execution_count": 22,
   "id": "1aa57011-6514-47e0-bd14-25aafcb675a3",
   "metadata": {
    "execution": {
     "iopub.execute_input": "2024-07-07T14:19:47.532162Z",
     "iopub.status.busy": "2024-07-07T14:19:47.531528Z",
     "iopub.status.idle": "2024-07-07T14:20:26.328095Z",
     "shell.execute_reply": "2024-07-07T14:20:26.327160Z"
    },
    "papermill": {
     "duration": 38.807096,
     "end_time": "2024-07-07T14:20:26.329266",
     "exception": false,
     "start_time": "2024-07-07T14:19:47.522170",
     "status": "completed"
    },
    "tags": []
   },
   "outputs": [
    {
     "name": "stdout",
     "output_type": "stream",
     "text": [
      "\n",
      "sample\n"
     ]
    },
    {
     "data": {
      "application/vnd.jupyter.widget-view+json": {
       "model_id": "e9af8066028e4ded96238f3019ceedce",
       "version_major": 2,
       "version_minor": 0
      },
      "text/plain": [
       "  0%|          | 0/100 [00:00<?, ?it/s]"
      ]
     },
     "metadata": {},
     "output_type": "display_data"
    },
    {
     "name": "stderr",
     "output_type": "stream",
     "text": [
      "/scratch_isilon/groups/singlecell/shared/conda_env/optuna/lib/python3.12/site-packages/anndata/_core/anndata.py:1096: SettingWithCopyWarning: \n",
      "A value is trying to be set on a copy of a slice from a DataFrame.\n",
      "Try using .loc[row_indexer,col_indexer] = value instead\n",
      "\n",
      "See the caveats in the documentation: https://pandas.pydata.org/pandas-docs/stable/user_guide/indexing.html#returning-a-view-versus-a-copy\n",
      "  df_sub[k] = df_sub[k].cat.remove_unused_categories()\n"
     ]
    }
   ],
   "source": [
    "fixed_parameter_LinearSVC = ({\n",
    "    'max_iter': 1000000,\n",
    "    'dual': 'auto',\n",
    "})\n",
    "\n",
    "def LinearSVC_cellTypeOptimization(adataTrain = None, \n",
    "                         KfoldPatientSplit = None,\n",
    "                         y_true_col = 'disease',\n",
    "                         sample_id_col = 'sampleID',\n",
    "                         cell_type_col = 'Level1',\n",
    "                         random_seed = 42,\n",
    "                         optimization = 'F1', \n",
    "                         n_trials = 50,\n",
    "                         n_job = 50):\n",
    "\n",
    "    LinearSVC_cell_type_studies = {}\n",
    "\n",
    "    for ct_i in adataTrain.obs[cell_type_col].unique().tolist():\n",
    "\n",
    "        print(f\"\\n{ct_i}\")\n",
    "        \n",
    "        adataTrain_ct_i = adataTrain[adataTrain.obs[cell_type_col] == ct_i].copy()\n",
    "        \n",
    "        def objective_CT(trial):\n",
    "            class_params = {\n",
    "                'scaler': trial.suggest_categorical('scaler', [True, False]),\n",
    "                'fit_intercept': trial.suggest_categorical('fit_intercept', [True, False]),\n",
    "                'class_weight': trial.suggest_categorical('class_weight', ['balanced', None]),\n",
    "                'C': trial.suggest_float('C', 1e-3, 1e5, log=True)\n",
    "            }\n",
    "        \n",
    "            class_params |= fixed_parameter_LinearSVC\n",
    "        \n",
    "            # for ct_ in adataTrain.obs.Level1.unique().tolist():\n",
    "            #     class_params.update({\n",
    "            #         f\"{ct_}_C\": trial.suggest_float(f\"{ct_}_C\", 1e-3, 1e5, log=True),\n",
    "            #     })\n",
    "        \n",
    "            metric_list = []\n",
    "            \n",
    "            for foldK in KfoldPatientSplit:\n",
    "                \n",
    "                pListTrain = Pdata.iloc[foldK[0]][sample_id_col].tolist()\n",
    "                pListTest = Pdata.iloc[foldK[1]][sample_id_col].tolist()\n",
    "                \n",
    "                clf = CellTypeDiseasePrediction(clf_params=class_params.copy(),classifier=LinearSVC, cell_type = ct_i).fit(adataTrain_ct_i[adataTrain_ct_i.obs[sample_id_col].isin(pListTrain)])\n",
    "            \n",
    "                y_pred_df = clf.predict(adataTrain_ct_i[adataTrain_ct_i.obs[sample_id_col].isin(pListTest)], y_true_col = y_true_col)\n",
    "        \n",
    "                if optimization_metric == 'BAS':\n",
    "                    M = balanced_accuracy_score(y_pred_df[y_true_col], y_pred_df.disease_pred)\n",
    "                else:\n",
    "                    M = f1_score(y_pred_df[y_true_col], y_pred_df[f\"disease_pred_{ct_i}\"], average='weighted')\n",
    "        \n",
    "                metric_list.append(M)\n",
    "            \n",
    "            return sum(metric_list)/5\n",
    "                \n",
    "        # Optimize hyperparameters with Optuna\n",
    "        LinearSVC_cell_type_studies[ct_i] = op.create_study(direction='maximize', study_name=ct_i,sampler=TPESampler(seed=random_seed))\n",
    "        LinearSVC_cell_type_studies[ct_i].optimize(objective_CT, n_trials=n_trials, show_progress_bar=True, n_jobs=n_job)#catch = ValueError)\n",
    "\n",
    "    return LinearSVC_cell_type_studies\n",
    "\n",
    "### EXECUTE THE FUNCTION ###\n",
    "LinearSVC_cell_type_studies = LinearSVC_cellTypeOptimization(adataTrain = REFERENCEpseudobulkFilt, \n",
    "                                                               KfoldPatientSplit = KfoldPatientSplit,\n",
    "                                                               y_true_col = 'disease',\n",
    "                                                               sample_id_col = 'sampleID',\n",
    "                                                               cell_type_col = 'Level1',\n",
    "                                                               optimization = 'F1',\n",
    "                                                               n_trials = 100, n_job = n_job, random_seed = 42)"
   ]
  },
  {
   "cell_type": "code",
   "execution_count": 23,
   "id": "8ae42ec5-145a-4fd3-a0c8-f96a1f4bf005",
   "metadata": {
    "execution": {
     "iopub.execute_input": "2024-07-07T14:20:26.353453Z",
     "iopub.status.busy": "2024-07-07T14:20:26.352967Z",
     "iopub.status.idle": "2024-07-07T14:20:26.432293Z",
     "shell.execute_reply": "2024-07-07T14:20:26.431450Z"
    },
    "papermill": {
     "duration": 0.091026,
     "end_time": "2024-07-07T14:20:26.433347",
     "exception": false,
     "start_time": "2024-07-07T14:20:26.342321",
     "status": "completed"
    },
    "tags": []
   },
   "outputs": [],
   "source": [
    "clf_LinearSVC_TRAINED = (VotingDisease(classifier = LinearSVC, \n",
    "                                         cell_type_studies = LinearSVC_cell_type_studies, \n",
    "                                         fixed_params = fixed_parameter_LinearSVC, \n",
    "                                         cell_type_col = 'Level1', sample_id_col = 'sampleID', y_true_col = 'disease')\n",
    "                           .fit(REFERENCEpseudobulkFilt))"
   ]
  },
  {
   "cell_type": "code",
   "execution_count": 24,
   "id": "45847d4c-a3b8-403c-b2aa-c828efe92125",
   "metadata": {
    "execution": {
     "iopub.execute_input": "2024-07-07T14:20:26.453465Z",
     "iopub.status.busy": "2024-07-07T14:20:26.453073Z",
     "iopub.status.idle": "2024-07-07T14:20:26.457138Z",
     "shell.execute_reply": "2024-07-07T14:20:26.456760Z"
    },
    "papermill": {
     "duration": 0.015364,
     "end_time": "2024-07-07T14:20:26.457990",
     "exception": false,
     "start_time": "2024-07-07T14:20:26.442626",
     "status": "completed"
    },
    "tags": []
   },
   "outputs": [
    {
     "name": "stdout",
     "output_type": "stream",
     "text": [
      "F1 on reference = 0.7567827470174995\n"
     ]
    }
   ],
   "source": [
    "### Extracting the average performance on train data\n",
    "optMetric = 0\n",
    "for ct_i in LinearSVC_cell_type_studies.keys():\n",
    "    optMetric += LinearSVC_cell_type_studies[ct_i].best_value\n",
    "f1_LinearSVC_REFERENCE = optMetric / len(LinearSVC_cell_type_studies)\n",
    "print(f\"F1 on reference = {f1_LinearSVC_REFERENCE}\")"
   ]
  },
  {
   "cell_type": "code",
   "execution_count": 25,
   "id": "1bfc286d-a233-48d0-bd01-42d8c7761172",
   "metadata": {
    "execution": {
     "iopub.execute_input": "2024-07-07T14:20:26.476600Z",
     "iopub.status.busy": "2024-07-07T14:20:26.476190Z",
     "iopub.status.idle": "2024-07-07T14:20:26.499524Z",
     "shell.execute_reply": "2024-07-07T14:20:26.499207Z"
    },
    "papermill": {
     "duration": 0.03337,
     "end_time": "2024-07-07T14:20:26.500375",
     "exception": false,
     "start_time": "2024-07-07T14:20:26.467005",
     "status": "completed"
    },
    "tags": []
   },
   "outputs": [
    {
     "name": "stdout",
     "output_type": "stream",
     "text": [
      "QUERY: F1 = 0.17118834427259894, BAS = 0.11856617647058823, MCC: 0.12045600596679987\n"
     ]
    },
    {
     "name": "stderr",
     "output_type": "stream",
     "text": [
      "/scratch_isilon/groups/singlecell/shared/conda_env/optuna/lib/python3.12/site-packages/sklearn/metrics/_classification.py:2458: UserWarning: y_pred contains classes not in y_true\n",
      "  warnings.warn(\"y_pred contains classes not in y_true\")\n"
     ]
    }
   ],
   "source": [
    "### Predict query dataset\n",
    "LinearSVC_cellType_prediction_query_df = clf_LinearSVC_TRAINED.predict(QUERYpseudobulkFilt)\n",
    "\n",
    "f1_LinearSVC_QUERY = f1_score(LinearSVC_cellType_prediction_query_df[y_true_col], \n",
    "                              LinearSVC_cellType_prediction_query_df.majority_pred, average='weighted')\n",
    "BAS_LinearSVC_QUERY = balanced_accuracy_score(LinearSVC_cellType_prediction_query_df[y_true_col], \n",
    "                                              LinearSVC_cellType_prediction_query_df.majority_pred,)\n",
    "MCC_LinearSVC_QUERY = matthews_corrcoef(LinearSVC_cellType_prediction_query_df[y_true_col], \n",
    "                                        LinearSVC_cellType_prediction_query_df.majority_pred,)\n",
    "print(f\"QUERY: F1 = {f1_LinearSVC_QUERY}, BAS = {BAS_LinearSVC_QUERY}, MCC: {MCC_LinearSVC_QUERY}\")"
   ]
  },
  {
   "cell_type": "code",
   "execution_count": 26,
   "id": "839e6ed1-00df-4f31-9b6a-11650ed3f1dc",
   "metadata": {
    "execution": {
     "iopub.execute_input": "2024-07-07T14:20:26.520216Z",
     "iopub.status.busy": "2024-07-07T14:20:26.519919Z",
     "iopub.status.idle": "2024-07-07T14:20:26.522977Z",
     "shell.execute_reply": "2024-07-07T14:20:26.522675Z"
    },
    "papermill": {
     "duration": 0.013667,
     "end_time": "2024-07-07T14:20:26.523806",
     "exception": false,
     "start_time": "2024-07-07T14:20:26.510139",
     "status": "completed"
    },
    "tags": []
   },
   "outputs": [],
   "source": [
    "### Add results to dataframe\n",
    "METRICdf.loc[METRICdf.shape[0],:] = [integration_method,embSpace,n_embedded,n_Patient_embedded,batch,annotation,'LinearSVC',\n",
    "                                     f1_LinearSVC_QUERY, BAS_LinearSVC_QUERY,MCC_LinearSVC_QUERY,f1_LinearSVC_REFERENCE]"
   ]
  },
  {
   "cell_type": "code",
   "execution_count": 27,
   "id": "e7ab9f0e-46d5-45e3-b44b-5bff0748b28c",
   "metadata": {
    "execution": {
     "iopub.execute_input": "2024-07-07T14:20:26.542966Z",
     "iopub.status.busy": "2024-07-07T14:20:26.542719Z",
     "iopub.status.idle": "2024-07-07T14:20:26.591317Z",
     "shell.execute_reply": "2024-07-07T14:20:26.590906Z"
    },
    "papermill": {
     "duration": 0.059578,
     "end_time": "2024-07-07T14:20:26.592434",
     "exception": false,
     "start_time": "2024-07-07T14:20:26.532856",
     "status": "completed"
    },
    "tags": []
   },
   "outputs": [],
   "source": [
    "#### SAVE STUDY and FINAL MODEL AS PICKLE\n",
    "joblib.dump(LinearSVC_cell_type_studies, os.path.join(mainDir, f\"study_objects/BestParams_{integration_method}_{embSpace}_{n_embedded}nEmb_{n_Patient_embedded}nPEmb_{batch}_{annotation}_opt{optimization_metric}_{query_dataset}_LinearSVC.pkl\"))\n",
    "joblib.dump(clf_LinearSVC_TRAINED, os.path.join(mainDir, f\"best_models/{integration_method}_{embSpace}_{n_embedded}nEmb_{n_Patient_embedded}nPEmb_{batch}_{annotation}_opt{optimization_metric}_{query_dataset}_LinearSVC.pkl\"))\n",
    "\n",
    "LinearSVC_cellType_prediction_query_df.to_pickle(os.path.join(mainDir, f\"label_predicted_dataframes/{integration_method}_{embSpace}_{n_embedded}nEmb_{n_Patient_embedded}nPEmb_{batch}_{annotation}_opt{optimization_metric}_{query_dataset}_LinearSVC.pkl\"))"
   ]
  },
  {
   "cell_type": "markdown",
   "id": "e8394cdf-d636-4499-89a6-1731d577d3f7",
   "metadata": {
    "papermill": {
     "duration": 0.009304,
     "end_time": "2024-07-07T14:20:26.612503",
     "exception": false,
     "start_time": "2024-07-07T14:20:26.603199",
     "status": "completed"
    },
    "tags": []
   },
   "source": [
    "#### SVC"
   ]
  },
  {
   "cell_type": "code",
   "execution_count": 28,
   "id": "48e39d89",
   "metadata": {
    "execution": {
     "iopub.execute_input": "2024-07-07T14:20:26.632349Z",
     "iopub.status.busy": "2024-07-07T14:20:26.632098Z",
     "iopub.status.idle": "2024-07-07T14:20:44.883993Z",
     "shell.execute_reply": "2024-07-07T14:20:44.883311Z"
    },
    "papermill": {
     "duration": 18.263174,
     "end_time": "2024-07-07T14:20:44.885048",
     "exception": false,
     "start_time": "2024-07-07T14:20:26.621874",
     "status": "completed"
    },
    "scrolled": true,
    "tags": []
   },
   "outputs": [
    {
     "name": "stdout",
     "output_type": "stream",
     "text": [
      "\n",
      "sample\n"
     ]
    },
    {
     "data": {
      "application/vnd.jupyter.widget-view+json": {
       "model_id": "99c4864b9b4f4d07aea128ab36acbef5",
       "version_major": 2,
       "version_minor": 0
      },
      "text/plain": [
       "  0%|          | 0/300 [00:00<?, ?it/s]"
      ]
     },
     "metadata": {},
     "output_type": "display_data"
    }
   ],
   "source": [
    "fixed_parameter_SVC = ({\n",
    "    'max_iter': -1,\n",
    "})\n",
    "\n",
    "\n",
    "def SVC_cellTypeOptimization(adataTrain = None, \n",
    "                         KfoldPatientSplit = None,\n",
    "                         y_true_col = 'disease',\n",
    "                         sample_id_col = 'sampleID',\n",
    "                         cell_type_col = 'Level1',\n",
    "                         random_seed = 42,\n",
    "                         optimization = 'F1', \n",
    "                         n_trials = 300,\n",
    "                         n_job = -1):\n",
    "\n",
    "    SVC_cell_type_studies = {}\n",
    "\n",
    "    for ct_i in adataTrain.obs[cell_type_col].unique().tolist():\n",
    "\n",
    "        print(f\"\\n{ct_i}\")\n",
    "        \n",
    "        adataTrain_ct_i = adataTrain[adataTrain.obs[cell_type_col] == ct_i].copy()\n",
    "        \n",
    "        def objective_CT(trial):\n",
    "            class_params = {\n",
    "                'scaler': trial.suggest_categorical('scaler', [True, False]),\n",
    "                'kernel': trial.suggest_categorical(\"kernel\", ['sigmoid','rbf','poly']),\n",
    "                'class_weight': trial.suggest_categorical(\"class_weight\", ['balanced',None]),\n",
    "                'C': trial.suggest_float('C', 1e-3, 1e5, log=True),\n",
    "            }\n",
    "\n",
    "            class_params |= fixed_parameter_SVC\n",
    "            if class_params['kernel'] == 'poly':\n",
    "                class_params.update({'degree': trial.suggest_int('degree', 2,6)})    \n",
    "                \n",
    "            # for ct_ in adataTrain.obs.Level1.unique().tolist():\n",
    "            #     class_params.update({\n",
    "            #         f\"{ct_}_C\": trial.suggest_float(f\"{ct_}_C\", 1e-3, 1e5, log=True),\n",
    "            #     })\n",
    "        \n",
    "            metric_list = []\n",
    "            \n",
    "            for foldK in KfoldPatientSplit:\n",
    "                \n",
    "                pListTrain = Pdata.iloc[foldK[0]][sample_id_col].tolist()\n",
    "                pListTest = Pdata.iloc[foldK[1]][sample_id_col].tolist()\n",
    "                \n",
    "                clf = CellTypeDiseasePrediction(clf_params=class_params.copy(),classifier=SVC, cell_type = ct_i).fit(adataTrain_ct_i[adataTrain_ct_i.obs[sample_id_col].isin(pListTrain)])\n",
    "            \n",
    "                y_pred_df = clf.predict(adataTrain_ct_i[adataTrain_ct_i.obs[sample_id_col].isin(pListTest)], y_true_col = y_true_col)\n",
    "        \n",
    "                if optimization_metric == 'BAS':\n",
    "                    M = balanced_accuracy_score(y_pred_df[y_true_col], y_pred_df.disease_pred)\n",
    "                else:\n",
    "                    M = f1_score(y_pred_df[y_true_col], y_pred_df[f\"disease_pred_{ct_i}\"], average='weighted')\n",
    "        \n",
    "                metric_list.append(M)\n",
    "            \n",
    "            return sum(metric_list)/5\n",
    "                \n",
    "        # Optimize hyperparameters with Optuna\n",
    "        SVC_cell_type_studies[ct_i] = op.create_study(direction='maximize', study_name=ct_i,sampler=TPESampler(seed=random_seed))\n",
    "        SVC_cell_type_studies[ct_i].optimize(objective_CT, n_trials=n_trials, show_progress_bar=True, n_jobs=n_job)#catch = ValueError)\n",
    "\n",
    "    return SVC_cell_type_studies\n",
    "\n",
    "### EXECUTE THE FUNCTION ###\n",
    "SVC_cell_type_studies = SVC_cellTypeOptimization(adataTrain = REFERENCEpseudobulkFilt, \n",
    "                                                   KfoldPatientSplit = KfoldPatientSplit,\n",
    "                                                   y_true_col = 'disease',\n",
    "                                                   sample_id_col = 'sampleID',\n",
    "                                                   cell_type_col = 'Level1',\n",
    "                                                   optimization = 'F1',\n",
    "                                                   n_trials = 300, n_job = n_job, random_seed = 42)"
   ]
  },
  {
   "cell_type": "code",
   "execution_count": 29,
   "id": "df1d3bd9-ca7f-4621-a37a-50faacb2c3da",
   "metadata": {
    "execution": {
     "iopub.execute_input": "2024-07-07T14:20:44.944263Z",
     "iopub.status.busy": "2024-07-07T14:20:44.943926Z",
     "iopub.status.idle": "2024-07-07T14:20:45.017597Z",
     "shell.execute_reply": "2024-07-07T14:20:45.017111Z"
    },
    "papermill": {
     "duration": 0.086604,
     "end_time": "2024-07-07T14:20:45.018479",
     "exception": false,
     "start_time": "2024-07-07T14:20:44.931875",
     "status": "completed"
    },
    "tags": []
   },
   "outputs": [],
   "source": [
    "clf_SVC_TRAINED = (VotingDisease(classifier = SVC, \n",
    "                                         cell_type_studies = SVC_cell_type_studies, \n",
    "                                         fixed_params = fixed_parameter_SVC, \n",
    "                                         cell_type_col = 'Level1', sample_id_col = 'sampleID', y_true_col = 'disease')\n",
    "                           .fit(REFERENCEpseudobulkFilt))"
   ]
  },
  {
   "cell_type": "code",
   "execution_count": 30,
   "id": "1738fab9-3ffe-4649-8b75-4ede4c821328",
   "metadata": {
    "execution": {
     "iopub.execute_input": "2024-07-07T14:20:45.067689Z",
     "iopub.status.busy": "2024-07-07T14:20:45.067396Z",
     "iopub.status.idle": "2024-07-07T14:20:45.070971Z",
     "shell.execute_reply": "2024-07-07T14:20:45.070493Z"
    },
    "papermill": {
     "duration": 0.014855,
     "end_time": "2024-07-07T14:20:45.071904",
     "exception": false,
     "start_time": "2024-07-07T14:20:45.057049",
     "status": "completed"
    },
    "tags": []
   },
   "outputs": [
    {
     "name": "stdout",
     "output_type": "stream",
     "text": [
      "F1 on reference = 0.77649023595156\n"
     ]
    }
   ],
   "source": [
    "### Extracting the average performance on train data\n",
    "optMetric = 0\n",
    "for ct_i in SVC_cell_type_studies.keys():\n",
    "    optMetric += SVC_cell_type_studies[ct_i].best_value\n",
    "f1_SVC_REFERENCE = optMetric / len(SVC_cell_type_studies)\n",
    "print(f\"F1 on reference = {f1_SVC_REFERENCE}\")"
   ]
  },
  {
   "cell_type": "code",
   "execution_count": 31,
   "id": "047f51ad-f323-483c-96ff-4b7cfdcd9ba7",
   "metadata": {
    "execution": {
     "iopub.execute_input": "2024-07-07T14:20:45.092282Z",
     "iopub.status.busy": "2024-07-07T14:20:45.091845Z",
     "iopub.status.idle": "2024-07-07T14:20:45.118852Z",
     "shell.execute_reply": "2024-07-07T14:20:45.118367Z"
    },
    "papermill": {
     "duration": 0.037928,
     "end_time": "2024-07-07T14:20:45.119782",
     "exception": false,
     "start_time": "2024-07-07T14:20:45.081854",
     "status": "completed"
    },
    "tags": []
   },
   "outputs": [
    {
     "name": "stdout",
     "output_type": "stream",
     "text": [
      "QUERY: F1 = 0.3525986583456708, BAS = 0.1840533088235294, MCC: 0.27947647999194664\n"
     ]
    },
    {
     "name": "stderr",
     "output_type": "stream",
     "text": [
      "/scratch_isilon/groups/singlecell/shared/conda_env/optuna/lib/python3.12/site-packages/sklearn/metrics/_classification.py:2458: UserWarning: y_pred contains classes not in y_true\n",
      "  warnings.warn(\"y_pred contains classes not in y_true\")\n"
     ]
    }
   ],
   "source": [
    "### Predict query dataset\n",
    "SVC_cellType_prediction_query_df = clf_SVC_TRAINED.predict(QUERYpseudobulkFilt)\n",
    "\n",
    "f1_SVC_QUERY = f1_score(SVC_cellType_prediction_query_df[y_true_col], \n",
    "                              SVC_cellType_prediction_query_df.majority_pred, average='weighted')\n",
    "BAS_SVC_QUERY = balanced_accuracy_score(SVC_cellType_prediction_query_df[y_true_col], \n",
    "                                              SVC_cellType_prediction_query_df.majority_pred,)\n",
    "MCC_SVC_QUERY = matthews_corrcoef(SVC_cellType_prediction_query_df[y_true_col], \n",
    "                                        SVC_cellType_prediction_query_df.majority_pred,)\n",
    "print(f\"QUERY: F1 = {f1_SVC_QUERY}, BAS = {BAS_SVC_QUERY}, MCC: {MCC_SVC_QUERY}\")"
   ]
  },
  {
   "cell_type": "code",
   "execution_count": 32,
   "id": "4e68ccc1-e6a3-4ceb-a3ae-b8761de54025",
   "metadata": {
    "execution": {
     "iopub.execute_input": "2024-07-07T14:20:45.139893Z",
     "iopub.status.busy": "2024-07-07T14:20:45.139599Z",
     "iopub.status.idle": "2024-07-07T14:20:45.143733Z",
     "shell.execute_reply": "2024-07-07T14:20:45.143288Z"
    },
    "papermill": {
     "duration": 0.015191,
     "end_time": "2024-07-07T14:20:45.144598",
     "exception": false,
     "start_time": "2024-07-07T14:20:45.129407",
     "status": "completed"
    },
    "tags": []
   },
   "outputs": [],
   "source": [
    "### Add results to dataframe\n",
    "METRICdf.loc[METRICdf.shape[0],:] = [integration_method,embSpace,n_embedded,n_Patient_embedded,batch,annotation,'SVC',\n",
    "                                     f1_SVC_QUERY, BAS_SVC_QUERY,MCC_SVC_QUERY,f1_SVC_REFERENCE]"
   ]
  },
  {
   "cell_type": "code",
   "execution_count": 33,
   "id": "d17b7639-2450-405d-ab6d-622ce4781196",
   "metadata": {
    "execution": {
     "iopub.execute_input": "2024-07-07T14:20:45.169264Z",
     "iopub.status.busy": "2024-07-07T14:20:45.168966Z",
     "iopub.status.idle": "2024-07-07T14:20:45.278948Z",
     "shell.execute_reply": "2024-07-07T14:20:45.278429Z"
    },
    "papermill": {
     "duration": 0.126214,
     "end_time": "2024-07-07T14:20:45.280069",
     "exception": false,
     "start_time": "2024-07-07T14:20:45.153855",
     "status": "completed"
    },
    "tags": []
   },
   "outputs": [],
   "source": [
    "#### SAVE STUDY and FINAL MODEL AS PICKLE\n",
    "joblib.dump(SVC_cell_type_studies, os.path.join(mainDir, f\"study_objects/BestParams_{integration_method}_{embSpace}_{n_embedded}nEmb_{n_Patient_embedded}nPEmb_{batch}_{annotation}_opt{optimization_metric}_{query_dataset}_SVC.pkl\"))\n",
    "joblib.dump(clf_SVC_TRAINED, os.path.join(mainDir, f\"best_models/{integration_method}_{embSpace}_{n_embedded}nEmb_{n_Patient_embedded}nPEmb_{batch}_{annotation}_opt{optimization_metric}_{query_dataset}_SVC.pkl\"))\n",
    "\n",
    "SVC_cellType_prediction_query_df.to_pickle(os.path.join(mainDir, f\"label_predicted_dataframes/{integration_method}_{embSpace}_{n_embedded}nEmb_{n_Patient_embedded}nPEmb_{batch}_{annotation}_opt{optimization_metric}_{query_dataset}_SVC.pkl\"))"
   ]
  },
  {
   "cell_type": "markdown",
   "id": "f06fd6e1-90a1-4fc2-a9fd-6a35fb3ab0ed",
   "metadata": {
    "papermill": {
     "duration": 0.012246,
     "end_time": "2024-07-07T14:20:45.302043",
     "exception": false,
     "start_time": "2024-07-07T14:20:45.289797",
     "status": "completed"
    },
    "tags": []
   },
   "source": [
    "#### kNN"
   ]
  },
  {
   "cell_type": "code",
   "execution_count": 34,
   "id": "4b5a4d44-3d52-45ec-85d5-cdee0e1754f1",
   "metadata": {
    "execution": {
     "iopub.execute_input": "2024-07-07T14:20:45.325759Z",
     "iopub.status.busy": "2024-07-07T14:20:45.325324Z",
     "iopub.status.idle": "2024-07-07T14:20:49.542553Z",
     "shell.execute_reply": "2024-07-07T14:20:49.542000Z"
    },
    "papermill": {
     "duration": 4.228885,
     "end_time": "2024-07-07T14:20:49.544089",
     "exception": false,
     "start_time": "2024-07-07T14:20:45.315204",
     "status": "completed"
    },
    "scrolled": true,
    "tags": []
   },
   "outputs": [
    {
     "name": "stdout",
     "output_type": "stream",
     "text": [
      "\n",
      "sample\n"
     ]
    },
    {
     "name": "stderr",
     "output_type": "stream",
     "text": [
      "/scratch_tmp/25709279/ipykernel_125317/494070876.py:52: ExperimentalWarning: BruteForceSampler is experimental (supported from v3.1.0). The interface can change in the future.\n",
      "  kNN_cell_type_studies[ct_i] = op.create_study(direction='maximize', study_name=ct_i, sampler=BruteForceSampler())\n"
     ]
    }
   ],
   "source": [
    "fixed_parameter_kNN = ({\n",
    "    'n_jobs': 1\n",
    "})\n",
    "\n",
    "def kNN_cellTypeOptimization(adataTrain = None, \n",
    "                         KfoldPatientSplit = None,\n",
    "                         y_true_col = 'disease',\n",
    "                         sample_id_col = 'sampleID',\n",
    "                         cell_type_col = 'Level1',\n",
    "                         optimization = 'F1', \n",
    "                         n_job = 40):\n",
    "\n",
    "    kNN_cell_type_studies = {}\n",
    "\n",
    "    for ct_i in adataTrain.obs[cell_type_col].unique().tolist():\n",
    "\n",
    "        print(f\"\\n{ct_i}\")\n",
    "        \n",
    "        adataTrain_ct_i = adataTrain[adataTrain.obs[cell_type_col] == ct_i].copy()\n",
    "        \n",
    "        def objective_CT(trial):\n",
    "            class_params = {\n",
    "                'scaler': trial.suggest_categorical('scaler', [True, False]),\n",
    "                'metric': trial.suggest_categorical(\"metric\", ['cosine','euclidean']),\n",
    "                'weights': trial.suggest_categorical(\"weights\", ['uniform','distance']),\n",
    "                'n_neighbors': trial.suggest_int('n_neighbors', 1, 5, log=False),\n",
    "            }\n",
    "\n",
    "            class_params |= fixed_parameter_kNN\n",
    "\n",
    "            metric_list = []\n",
    "            \n",
    "            for foldK in KfoldPatientSplit:\n",
    "                \n",
    "                pListTrain = Pdata.iloc[foldK[0]][sample_id_col].tolist()\n",
    "                pListTest = Pdata.iloc[foldK[1]][sample_id_col].tolist()\n",
    "                \n",
    "                clf = CellTypeDiseasePrediction(clf_params=class_params.copy(),classifier=KNeighborsClassifier, cell_type = ct_i).fit(adataTrain_ct_i[adataTrain_ct_i.obs[sample_id_col].isin(pListTrain)])\n",
    "            \n",
    "                y_pred_df = clf.predict(adataTrain_ct_i[adataTrain_ct_i.obs[sample_id_col].isin(pListTest)], y_true_col = y_true_col)\n",
    "        \n",
    "                if optimization_metric == 'BAS':\n",
    "                    M = balanced_accuracy_score(y_pred_df[y_true_col], y_pred_df.disease_pred)\n",
    "                else:\n",
    "                    M = f1_score(y_pred_df[y_true_col], y_pred_df[f\"disease_pred_{ct_i}\"], average='weighted')\n",
    "        \n",
    "                metric_list.append(M)\n",
    "            \n",
    "            return sum(metric_list)/5\n",
    "                \n",
    "        # Optimize hyperparameters with Optuna\n",
    "        kNN_cell_type_studies[ct_i] = op.create_study(direction='maximize', study_name=ct_i, sampler=BruteForceSampler())\n",
    "        kNN_cell_type_studies[ct_i].optimize(objective_CT, show_progress_bar=False, n_jobs=40)#catch = ValueError)\n",
    "\n",
    "    return kNN_cell_type_studies\n",
    "\n",
    "### EXECUTE THE FUNCTION ###\n",
    "kNN_cell_type_studies = kNN_cellTypeOptimization(adataTrain = REFERENCEpseudobulkFilt, \n",
    "                                                 KfoldPatientSplit = KfoldPatientSplit,\n",
    "                                                 y_true_col = 'disease',\n",
    "                                                 sample_id_col = 'sampleID',\n",
    "                                                 cell_type_col = 'Level1',\n",
    "                                                 optimization = 'F1',\n",
    "                                                 n_job = min(n_job,40))"
   ]
  },
  {
   "cell_type": "code",
   "execution_count": 35,
   "id": "efa94193-3498-4552-9ce9-281ca55cb795",
   "metadata": {
    "execution": {
     "iopub.execute_input": "2024-07-07T14:20:49.566928Z",
     "iopub.status.busy": "2024-07-07T14:20:49.566761Z",
     "iopub.status.idle": "2024-07-07T14:20:49.572449Z",
     "shell.execute_reply": "2024-07-07T14:20:49.572140Z"
    },
    "papermill": {
     "duration": 0.017398,
     "end_time": "2024-07-07T14:20:49.573254",
     "exception": false,
     "start_time": "2024-07-07T14:20:49.555856",
     "status": "completed"
    },
    "tags": []
   },
   "outputs": [],
   "source": [
    "clf_kNN_TRAINED = (VotingDisease(classifier = KNeighborsClassifier, \n",
    "                                         cell_type_studies = kNN_cell_type_studies, \n",
    "                                         fixed_params = fixed_parameter_kNN, \n",
    "                                         cell_type_col = 'Level1', sample_id_col = 'sampleID', y_true_col = 'disease')\n",
    "                           .fit(REFERENCEpseudobulkFilt))"
   ]
  },
  {
   "cell_type": "code",
   "execution_count": 36,
   "id": "93d992ed-9cd1-4aab-8c6b-3ba520ee2fee",
   "metadata": {
    "execution": {
     "iopub.execute_input": "2024-07-07T14:20:49.594404Z",
     "iopub.status.busy": "2024-07-07T14:20:49.594254Z",
     "iopub.status.idle": "2024-07-07T14:20:49.597237Z",
     "shell.execute_reply": "2024-07-07T14:20:49.596926Z"
    },
    "papermill": {
     "duration": 0.014525,
     "end_time": "2024-07-07T14:20:49.598037",
     "exception": false,
     "start_time": "2024-07-07T14:20:49.583512",
     "status": "completed"
    },
    "tags": []
   },
   "outputs": [
    {
     "name": "stdout",
     "output_type": "stream",
     "text": [
      "F1 on reference = 0.7427847251287225\n"
     ]
    }
   ],
   "source": [
    "### Extracting the average performance on train data\n",
    "optMetric = 0\n",
    "for ct_i in kNN_cell_type_studies.keys():\n",
    "    optMetric += kNN_cell_type_studies[ct_i].best_value\n",
    "f1_kNN_REFERENCE = optMetric / len(kNN_cell_type_studies)\n",
    "print(f\"F1 on reference = {f1_kNN_REFERENCE}\")"
   ]
  },
  {
   "cell_type": "code",
   "execution_count": 37,
   "id": "7fb64646-7479-488b-b356-bcce128453dc",
   "metadata": {
    "execution": {
     "iopub.execute_input": "2024-07-07T14:20:49.618079Z",
     "iopub.status.busy": "2024-07-07T14:20:49.617938Z",
     "iopub.status.idle": "2024-07-07T14:20:49.927413Z",
     "shell.execute_reply": "2024-07-07T14:20:49.927028Z"
    },
    "papermill": {
     "duration": 0.320664,
     "end_time": "2024-07-07T14:20:49.928568",
     "exception": false,
     "start_time": "2024-07-07T14:20:49.607904",
     "status": "completed"
    },
    "tags": []
   },
   "outputs": [
    {
     "name": "stdout",
     "output_type": "stream",
     "text": [
      "QUERY: F1 = 0.4040848503374546, BAS = 0.17853860294117646, MCC: 0.29169740925483\n"
     ]
    },
    {
     "name": "stderr",
     "output_type": "stream",
     "text": [
      "/scratch_isilon/groups/singlecell/shared/conda_env/optuna/lib/python3.12/site-packages/sklearn/metrics/_classification.py:2458: UserWarning: y_pred contains classes not in y_true\n",
      "  warnings.warn(\"y_pred contains classes not in y_true\")\n"
     ]
    }
   ],
   "source": [
    "### Predict query dataset\n",
    "kNN_cellType_prediction_query_df = clf_kNN_TRAINED.predict(QUERYpseudobulkFilt)\n",
    "\n",
    "f1_kNN_QUERY = f1_score(kNN_cellType_prediction_query_df[y_true_col], \n",
    "                              kNN_cellType_prediction_query_df.majority_pred, average='weighted')\n",
    "BAS_kNN_QUERY = balanced_accuracy_score(kNN_cellType_prediction_query_df[y_true_col], \n",
    "                                              kNN_cellType_prediction_query_df.majority_pred,)\n",
    "MCC_kNN_QUERY = matthews_corrcoef(kNN_cellType_prediction_query_df[y_true_col], \n",
    "                                        kNN_cellType_prediction_query_df.majority_pred,)\n",
    "print(f\"QUERY: F1 = {f1_kNN_QUERY}, BAS = {BAS_kNN_QUERY}, MCC: {MCC_kNN_QUERY}\")"
   ]
  },
  {
   "cell_type": "code",
   "execution_count": 38,
   "id": "a6b5a17f-9bc8-49e0-992d-3a73cbb73af1",
   "metadata": {
    "execution": {
     "iopub.execute_input": "2024-07-07T14:20:49.952313Z",
     "iopub.status.busy": "2024-07-07T14:20:49.952006Z",
     "iopub.status.idle": "2024-07-07T14:20:49.955011Z",
     "shell.execute_reply": "2024-07-07T14:20:49.954704Z"
    },
    "papermill": {
     "duration": 0.014495,
     "end_time": "2024-07-07T14:20:49.955798",
     "exception": false,
     "start_time": "2024-07-07T14:20:49.941303",
     "status": "completed"
    },
    "tags": []
   },
   "outputs": [],
   "source": [
    "### Add results to dataframe\n",
    "METRICdf.loc[METRICdf.shape[0],:] = [integration_method,embSpace,n_embedded,n_Patient_embedded,batch,annotation,'kNN',\n",
    "                                     f1_kNN_QUERY, BAS_kNN_QUERY,MCC_kNN_QUERY,f1_kNN_REFERENCE]"
   ]
  },
  {
   "cell_type": "code",
   "execution_count": 39,
   "id": "571de3ba-0358-48c6-b67f-fb247d2f7938",
   "metadata": {
    "execution": {
     "iopub.execute_input": "2024-07-07T14:20:49.977406Z",
     "iopub.status.busy": "2024-07-07T14:20:49.977098Z",
     "iopub.status.idle": "2024-07-07T14:20:50.007225Z",
     "shell.execute_reply": "2024-07-07T14:20:50.006869Z"
    },
    "papermill": {
     "duration": 0.041796,
     "end_time": "2024-07-07T14:20:50.007996",
     "exception": false,
     "start_time": "2024-07-07T14:20:49.966200",
     "status": "completed"
    },
    "tags": []
   },
   "outputs": [],
   "source": [
    "#### SAVE STUDY and FINAL MODEL AS PICKLE\n",
    "joblib.dump(kNN_cell_type_studies, os.path.join(mainDir, f\"study_objects/BestParams_{integration_method}_{embSpace}_{n_embedded}nEmb_{n_Patient_embedded}nPEmb_{batch}_{annotation}_opt{optimization_metric}_{query_dataset}_kNN.pkl\"))\n",
    "joblib.dump(clf_kNN_TRAINED, os.path.join(mainDir, f\"best_models/{integration_method}_{embSpace}_{n_embedded}nEmb_{n_Patient_embedded}nPEmb_{batch}_{annotation}_opt{optimization_metric}_{query_dataset}_kNN.pkl\"))\n",
    "\n",
    "kNN_cellType_prediction_query_df.to_pickle(os.path.join(mainDir, f\"label_predicted_dataframes/{integration_method}_{embSpace}_{n_embedded}nEmb_{n_Patient_embedded}nPEmb_{batch}_{annotation}_opt{optimization_metric}_{query_dataset}_kNN.pkl\"))"
   ]
  },
  {
   "cell_type": "markdown",
   "id": "ca686a7e-4f31-421e-8615-6c61274fa806",
   "metadata": {
    "papermill": {
     "duration": 0.010862,
     "end_time": "2024-07-07T14:20:50.029578",
     "exception": false,
     "start_time": "2024-07-07T14:20:50.018716",
     "status": "completed"
    },
    "tags": []
   },
   "source": [
    "### Saving metrics dataframe"
   ]
  },
  {
   "cell_type": "code",
   "execution_count": 40,
   "id": "20274e0e-5efd-4626-88b8-19bf6184bff0",
   "metadata": {
    "execution": {
     "iopub.execute_input": "2024-07-07T14:20:50.050679Z",
     "iopub.status.busy": "2024-07-07T14:20:50.050323Z",
     "iopub.status.idle": "2024-07-07T14:20:50.056256Z",
     "shell.execute_reply": "2024-07-07T14:20:50.055948Z"
    },
    "papermill": {
     "duration": 0.01759,
     "end_time": "2024-07-07T14:20:50.057024",
     "exception": false,
     "start_time": "2024-07-07T14:20:50.039434",
     "status": "completed"
    },
    "tags": []
   },
   "outputs": [],
   "source": [
    "METRICdf.to_pickle(os.path.join(mainDir, f\"metrics_dataframes/METRICdf_{integration_method}_{embSpace}_{n_embedded}nEmb_{n_Patient_embedded}nPEmb_{batch}_{annotation}_opt{optimization_metric}_{query_dataset}.pkl\"))"
   ]
  },
  {
   "cell_type": "code",
   "execution_count": 41,
   "id": "17be377b-b0b3-44f7-94a0-2c5b0f67e378",
   "metadata": {
    "execution": {
     "iopub.execute_input": "2024-07-07T14:20:50.078048Z",
     "iopub.status.busy": "2024-07-07T14:20:50.077905Z",
     "iopub.status.idle": "2024-07-07T14:20:50.085260Z",
     "shell.execute_reply": "2024-07-07T14:20:50.084970Z"
    },
    "papermill": {
     "duration": 0.018572,
     "end_time": "2024-07-07T14:20:50.086029",
     "exception": false,
     "start_time": "2024-07-07T14:20:50.067457",
     "status": "completed"
    },
    "tags": []
   },
   "outputs": [
    {
     "data": {
      "text/html": [
       "<div>\n",
       "<style scoped>\n",
       "    .dataframe tbody tr th:only-of-type {\n",
       "        vertical-align: middle;\n",
       "    }\n",
       "\n",
       "    .dataframe tbody tr th {\n",
       "        vertical-align: top;\n",
       "    }\n",
       "\n",
       "    .dataframe thead th {\n",
       "        text-align: right;\n",
       "    }\n",
       "</style>\n",
       "<table border=\"1\" class=\"dataframe\">\n",
       "  <thead>\n",
       "    <tr style=\"text-align: right;\">\n",
       "      <th></th>\n",
       "      <th>integration_method</th>\n",
       "      <th>embedded_space</th>\n",
       "      <th>n_embedded</th>\n",
       "      <th>n_Patient_embedded</th>\n",
       "      <th>batchKeys</th>\n",
       "      <th>annotation</th>\n",
       "      <th>classification_method</th>\n",
       "      <th>EXTERNAL_F1</th>\n",
       "      <th>EXTERNAL_BAS</th>\n",
       "      <th>EXTERNAL_MCC</th>\n",
       "      <th>EXTERNAL_TRAIN_F1</th>\n",
       "    </tr>\n",
       "  </thead>\n",
       "  <tbody>\n",
       "    <tr>\n",
       "      <th>0</th>\n",
       "      <td>scPoli</td>\n",
       "      <td>sample</td>\n",
       "      <td>100</td>\n",
       "      <td>100</td>\n",
       "      <td>chemistry</td>\n",
       "      <td>Level1n2</td>\n",
       "      <td>LinearSVC</td>\n",
       "      <td>0.171188</td>\n",
       "      <td>0.118566</td>\n",
       "      <td>0.120456</td>\n",
       "      <td>0.756783</td>\n",
       "    </tr>\n",
       "    <tr>\n",
       "      <th>1</th>\n",
       "      <td>scPoli</td>\n",
       "      <td>sample</td>\n",
       "      <td>100</td>\n",
       "      <td>100</td>\n",
       "      <td>chemistry</td>\n",
       "      <td>Level1n2</td>\n",
       "      <td>SVC</td>\n",
       "      <td>0.352599</td>\n",
       "      <td>0.184053</td>\n",
       "      <td>0.279476</td>\n",
       "      <td>0.77649</td>\n",
       "    </tr>\n",
       "    <tr>\n",
       "      <th>2</th>\n",
       "      <td>scPoli</td>\n",
       "      <td>sample</td>\n",
       "      <td>100</td>\n",
       "      <td>100</td>\n",
       "      <td>chemistry</td>\n",
       "      <td>Level1n2</td>\n",
       "      <td>kNN</td>\n",
       "      <td>0.404085</td>\n",
       "      <td>0.178539</td>\n",
       "      <td>0.291697</td>\n",
       "      <td>0.742785</td>\n",
       "    </tr>\n",
       "  </tbody>\n",
       "</table>\n",
       "</div>"
      ],
      "text/plain": [
       "  integration_method embedded_space n_embedded n_Patient_embedded  batchKeys  \\\n",
       "0             scPoli         sample        100                100  chemistry   \n",
       "1             scPoli         sample        100                100  chemistry   \n",
       "2             scPoli         sample        100                100  chemistry   \n",
       "\n",
       "  annotation classification_method EXTERNAL_F1 EXTERNAL_BAS EXTERNAL_MCC  \\\n",
       "0   Level1n2             LinearSVC    0.171188     0.118566     0.120456   \n",
       "1   Level1n2                   SVC    0.352599     0.184053     0.279476   \n",
       "2   Level1n2                   kNN    0.404085     0.178539     0.291697   \n",
       "\n",
       "  EXTERNAL_TRAIN_F1  \n",
       "0          0.756783  \n",
       "1           0.77649  \n",
       "2          0.742785  "
      ]
     },
     "execution_count": 41,
     "metadata": {},
     "output_type": "execute_result"
    }
   ],
   "source": [
    "METRICdf"
   ]
  },
  {
   "cell_type": "code",
   "execution_count": null,
   "id": "dcac8762-9816-47ad-898f-ca8e3fbd90db",
   "metadata": {
    "papermill": {
     "duration": 0.010092,
     "end_time": "2024-07-07T14:20:50.106344",
     "exception": false,
     "start_time": "2024-07-07T14:20:50.096252",
     "status": "completed"
    },
    "tags": []
   },
   "outputs": [],
   "source": []
  }
 ],
 "metadata": {
  "kernelspec": {
   "display_name": "Python 3 (ipykernel)",
   "language": "python",
   "name": "python3"
  },
  "language_info": {
   "codemirror_mode": {
    "name": "ipython",
    "version": 3
   },
   "file_extension": ".py",
   "mimetype": "text/x-python",
   "name": "python",
   "nbconvert_exporter": "python",
   "pygments_lexer": "ipython3",
   "version": "3.12.3"
  },
  "papermill": {
   "default_parameters": {},
   "duration": 70.765283,
   "end_time": "2024-07-07T14:20:51.034240",
   "environment_variables": {},
   "exception": null,
   "input_path": "01_Hyperparameters_search_scPoli_scANVI.ipynb",
   "output_path": "results_CT_studies/executed_notebooks/01_Hyperparameters_search_scPoli_EXTERNALsample_100nLat_100pEmb_chemistry_Level1n2_optF1.ipynb",
   "parameters": {
    "QUERYNadata_path": "03_downstream_analysis/08_PatientClassifier/scPoli/results/PSEUDOBULKs/scPoli_PSEUDOBULKsample_EXTERNAL_2_100_100_*.h5ad",
    "REFERENCEadata_path": "03_downstream_analysis/08_PatientClassifier/scPoli/results/PSEUDOBULKs/scPoli_PSEUDOBULKsample_ref_latents_EXTERNAL_2_100_100_*.h5ad",
    "annotation": "Level1n2",
    "batch": "chemistry",
    "embSpace": "sample",
    "integration_method": "scPoli",
    "n_Patient_embedded": 100,
    "n_embedded": 100,
    "n_job": 32,
    "optimization_metric": "F1",
    "query_dataset": "EXTERNAL"
   },
   "start_time": "2024-07-07T14:19:40.268957",
   "version": "2.6.0"
  },
  "widgets": {
   "application/vnd.jupyter.widget-state+json": {
    "state": {
     "08cb481a321747b0a447ef133f976cbb": {
      "model_module": "@jupyter-widgets/base",
      "model_module_version": "2.0.0",
      "model_name": "LayoutModel",
      "state": {
       "_model_module": "@jupyter-widgets/base",
       "_model_module_version": "2.0.0",
       "_model_name": "LayoutModel",
       "_view_count": null,
       "_view_module": "@jupyter-widgets/base",
       "_view_module_version": "2.0.0",
       "_view_name": "LayoutView",
       "align_content": null,
       "align_items": null,
       "align_self": null,
       "border_bottom": null,
       "border_left": null,
       "border_right": null,
       "border_top": null,
       "bottom": null,
       "display": null,
       "flex": null,
       "flex_flow": null,
       "grid_area": null,
       "grid_auto_columns": null,
       "grid_auto_flow": null,
       "grid_auto_rows": null,
       "grid_column": null,
       "grid_gap": null,
       "grid_row": null,
       "grid_template_areas": null,
       "grid_template_columns": null,
       "grid_template_rows": null,
       "height": null,
       "justify_content": null,
       "justify_items": null,
       "left": null,
       "margin": null,
       "max_height": null,
       "max_width": null,
       "min_height": null,
       "min_width": null,
       "object_fit": null,
       "object_position": null,
       "order": null,
       "overflow": null,
       "padding": null,
       "right": null,
       "top": null,
       "visibility": null,
       "width": null
      }
     },
     "11866f21c13c472ab5e80bf370df3c0b": {
      "model_module": "@jupyter-widgets/controls",
      "model_module_version": "2.0.0",
      "model_name": "HTMLModel",
      "state": {
       "_dom_classes": [],
       "_model_module": "@jupyter-widgets/controls",
       "_model_module_version": "2.0.0",
       "_model_name": "HTMLModel",
       "_view_count": null,
       "_view_module": "@jupyter-widgets/controls",
       "_view_module_version": "2.0.0",
       "_view_name": "HTMLView",
       "description": "",
       "description_allow_html": false,
       "layout": "IPY_MODEL_18eeb997b97e42b0b76ea3f0d3cc982f",
       "placeholder": "​",
       "style": "IPY_MODEL_b61dc75c08cd426480e4854a3825d33d",
       "tabbable": null,
       "tooltip": null,
       "value": " 300/300 [00:18&lt;00:00, 30.70it/s]"
      }
     },
     "13947dbba8ab4bc3af9b5f680328a2e1": {
      "model_module": "@jupyter-widgets/controls",
      "model_module_version": "2.0.0",
      "model_name": "FloatProgressModel",
      "state": {
       "_dom_classes": [],
       "_model_module": "@jupyter-widgets/controls",
       "_model_module_version": "2.0.0",
       "_model_name": "FloatProgressModel",
       "_view_count": null,
       "_view_module": "@jupyter-widgets/controls",
       "_view_module_version": "2.0.0",
       "_view_name": "ProgressView",
       "bar_style": "success",
       "description": "",
       "description_allow_html": false,
       "layout": "IPY_MODEL_3eec09b2cd54434590061be3e47ec98c",
       "max": 300.0,
       "min": 0.0,
       "orientation": "horizontal",
       "style": "IPY_MODEL_1deeae1898e34b9d9036ff85c573cf57",
       "tabbable": null,
       "tooltip": null,
       "value": 300.0
      }
     },
     "147b09ff97264f93bd96fdf0462aeb5f": {
      "model_module": "@jupyter-widgets/controls",
      "model_module_version": "2.0.0",
      "model_name": "HTMLStyleModel",
      "state": {
       "_model_module": "@jupyter-widgets/controls",
       "_model_module_version": "2.0.0",
       "_model_name": "HTMLStyleModel",
       "_view_count": null,
       "_view_module": "@jupyter-widgets/base",
       "_view_module_version": "2.0.0",
       "_view_name": "StyleView",
       "background": null,
       "description_width": "",
       "font_size": null,
       "text_color": null
      }
     },
     "18eeb997b97e42b0b76ea3f0d3cc982f": {
      "model_module": "@jupyter-widgets/base",
      "model_module_version": "2.0.0",
      "model_name": "LayoutModel",
      "state": {
       "_model_module": "@jupyter-widgets/base",
       "_model_module_version": "2.0.0",
       "_model_name": "LayoutModel",
       "_view_count": null,
       "_view_module": "@jupyter-widgets/base",
       "_view_module_version": "2.0.0",
       "_view_name": "LayoutView",
       "align_content": null,
       "align_items": null,
       "align_self": null,
       "border_bottom": null,
       "border_left": null,
       "border_right": null,
       "border_top": null,
       "bottom": null,
       "display": null,
       "flex": null,
       "flex_flow": null,
       "grid_area": null,
       "grid_auto_columns": null,
       "grid_auto_flow": null,
       "grid_auto_rows": null,
       "grid_column": null,
       "grid_gap": null,
       "grid_row": null,
       "grid_template_areas": null,
       "grid_template_columns": null,
       "grid_template_rows": null,
       "height": null,
       "justify_content": null,
       "justify_items": null,
       "left": null,
       "margin": null,
       "max_height": null,
       "max_width": null,
       "min_height": null,
       "min_width": null,
       "object_fit": null,
       "object_position": null,
       "order": null,
       "overflow": null,
       "padding": null,
       "right": null,
       "top": null,
       "visibility": null,
       "width": null
      }
     },
     "1d1cc0f990914eb4a397110967971547": {
      "model_module": "@jupyter-widgets/base",
      "model_module_version": "2.0.0",
      "model_name": "LayoutModel",
      "state": {
       "_model_module": "@jupyter-widgets/base",
       "_model_module_version": "2.0.0",
       "_model_name": "LayoutModel",
       "_view_count": null,
       "_view_module": "@jupyter-widgets/base",
       "_view_module_version": "2.0.0",
       "_view_name": "LayoutView",
       "align_content": null,
       "align_items": null,
       "align_self": null,
       "border_bottom": null,
       "border_left": null,
       "border_right": null,
       "border_top": null,
       "bottom": null,
       "display": null,
       "flex": null,
       "flex_flow": null,
       "grid_area": null,
       "grid_auto_columns": null,
       "grid_auto_flow": null,
       "grid_auto_rows": null,
       "grid_column": null,
       "grid_gap": null,
       "grid_row": null,
       "grid_template_areas": null,
       "grid_template_columns": null,
       "grid_template_rows": null,
       "height": null,
       "justify_content": null,
       "justify_items": null,
       "left": null,
       "margin": null,
       "max_height": null,
       "max_width": null,
       "min_height": null,
       "min_width": null,
       "object_fit": null,
       "object_position": null,
       "order": null,
       "overflow": null,
       "padding": null,
       "right": null,
       "top": null,
       "visibility": null,
       "width": null
      }
     },
     "1deeae1898e34b9d9036ff85c573cf57": {
      "model_module": "@jupyter-widgets/controls",
      "model_module_version": "2.0.0",
      "model_name": "ProgressStyleModel",
      "state": {
       "_model_module": "@jupyter-widgets/controls",
       "_model_module_version": "2.0.0",
       "_model_name": "ProgressStyleModel",
       "_view_count": null,
       "_view_module": "@jupyter-widgets/base",
       "_view_module_version": "2.0.0",
       "_view_name": "StyleView",
       "bar_color": null,
       "description_width": ""
      }
     },
     "2b892d43a0bd4cedac3fe82538466872": {
      "model_module": "@jupyter-widgets/base",
      "model_module_version": "2.0.0",
      "model_name": "LayoutModel",
      "state": {
       "_model_module": "@jupyter-widgets/base",
       "_model_module_version": "2.0.0",
       "_model_name": "LayoutModel",
       "_view_count": null,
       "_view_module": "@jupyter-widgets/base",
       "_view_module_version": "2.0.0",
       "_view_name": "LayoutView",
       "align_content": null,
       "align_items": null,
       "align_self": null,
       "border_bottom": null,
       "border_left": null,
       "border_right": null,
       "border_top": null,
       "bottom": null,
       "display": null,
       "flex": null,
       "flex_flow": null,
       "grid_area": null,
       "grid_auto_columns": null,
       "grid_auto_flow": null,
       "grid_auto_rows": null,
       "grid_column": null,
       "grid_gap": null,
       "grid_row": null,
       "grid_template_areas": null,
       "grid_template_columns": null,
       "grid_template_rows": null,
       "height": null,
       "justify_content": null,
       "justify_items": null,
       "left": null,
       "margin": null,
       "max_height": null,
       "max_width": null,
       "min_height": null,
       "min_width": null,
       "object_fit": null,
       "object_position": null,
       "order": null,
       "overflow": null,
       "padding": null,
       "right": null,
       "top": null,
       "visibility": null,
       "width": null
      }
     },
     "3eec09b2cd54434590061be3e47ec98c": {
      "model_module": "@jupyter-widgets/base",
      "model_module_version": "2.0.0",
      "model_name": "LayoutModel",
      "state": {
       "_model_module": "@jupyter-widgets/base",
       "_model_module_version": "2.0.0",
       "_model_name": "LayoutModel",
       "_view_count": null,
       "_view_module": "@jupyter-widgets/base",
       "_view_module_version": "2.0.0",
       "_view_name": "LayoutView",
       "align_content": null,
       "align_items": null,
       "align_self": null,
       "border_bottom": null,
       "border_left": null,
       "border_right": null,
       "border_top": null,
       "bottom": null,
       "display": null,
       "flex": null,
       "flex_flow": null,
       "grid_area": null,
       "grid_auto_columns": null,
       "grid_auto_flow": null,
       "grid_auto_rows": null,
       "grid_column": null,
       "grid_gap": null,
       "grid_row": null,
       "grid_template_areas": null,
       "grid_template_columns": null,
       "grid_template_rows": null,
       "height": null,
       "justify_content": null,
       "justify_items": null,
       "left": null,
       "margin": null,
       "max_height": null,
       "max_width": null,
       "min_height": null,
       "min_width": null,
       "object_fit": null,
       "object_position": null,
       "order": null,
       "overflow": null,
       "padding": null,
       "right": null,
       "top": null,
       "visibility": null,
       "width": null
      }
     },
     "3f57ea503ca54a42831532d7d0b2f4db": {
      "model_module": "@jupyter-widgets/controls",
      "model_module_version": "2.0.0",
      "model_name": "FloatProgressModel",
      "state": {
       "_dom_classes": [],
       "_model_module": "@jupyter-widgets/controls",
       "_model_module_version": "2.0.0",
       "_model_name": "FloatProgressModel",
       "_view_count": null,
       "_view_module": "@jupyter-widgets/controls",
       "_view_module_version": "2.0.0",
       "_view_name": "ProgressView",
       "bar_style": "success",
       "description": "",
       "description_allow_html": false,
       "layout": "IPY_MODEL_e689739e6f2646c8b0d6405b7f172809",
       "max": 100.0,
       "min": 0.0,
       "orientation": "horizontal",
       "style": "IPY_MODEL_f878d50b16e246c899c6fb11269ca3ae",
       "tabbable": null,
       "tooltip": null,
       "value": 100.0
      }
     },
     "5c7643c98ede4c1d8da5ab75897c75f1": {
      "model_module": "@jupyter-widgets/controls",
      "model_module_version": "2.0.0",
      "model_name": "HTMLModel",
      "state": {
       "_dom_classes": [],
       "_model_module": "@jupyter-widgets/controls",
       "_model_module_version": "2.0.0",
       "_model_name": "HTMLModel",
       "_view_count": null,
       "_view_module": "@jupyter-widgets/controls",
       "_view_module_version": "2.0.0",
       "_view_name": "HTMLView",
       "description": "",
       "description_allow_html": false,
       "layout": "IPY_MODEL_ab503c9b430d41f59964791d2a4f93bf",
       "placeholder": "​",
       "style": "IPY_MODEL_99517cc322fb45f09f7115668ee4cf1c",
       "tabbable": null,
       "tooltip": null,
       "value": "Best trial: 65. Best value: 0.756783: 100%"
      }
     },
     "7a51a9d384cd44ed94449e11def15b8b": {
      "model_module": "@jupyter-widgets/controls",
      "model_module_version": "2.0.0",
      "model_name": "HTMLStyleModel",
      "state": {
       "_model_module": "@jupyter-widgets/controls",
       "_model_module_version": "2.0.0",
       "_model_name": "HTMLStyleModel",
       "_view_count": null,
       "_view_module": "@jupyter-widgets/base",
       "_view_module_version": "2.0.0",
       "_view_name": "StyleView",
       "background": null,
       "description_width": "",
       "font_size": null,
       "text_color": null
      }
     },
     "953fcd160810475aac018d75335ac704": {
      "model_module": "@jupyter-widgets/base",
      "model_module_version": "2.0.0",
      "model_name": "LayoutModel",
      "state": {
       "_model_module": "@jupyter-widgets/base",
       "_model_module_version": "2.0.0",
       "_model_name": "LayoutModel",
       "_view_count": null,
       "_view_module": "@jupyter-widgets/base",
       "_view_module_version": "2.0.0",
       "_view_name": "LayoutView",
       "align_content": null,
       "align_items": null,
       "align_self": null,
       "border_bottom": null,
       "border_left": null,
       "border_right": null,
       "border_top": null,
       "bottom": null,
       "display": null,
       "flex": null,
       "flex_flow": null,
       "grid_area": null,
       "grid_auto_columns": null,
       "grid_auto_flow": null,
       "grid_auto_rows": null,
       "grid_column": null,
       "grid_gap": null,
       "grid_row": null,
       "grid_template_areas": null,
       "grid_template_columns": null,
       "grid_template_rows": null,
       "height": null,
       "justify_content": null,
       "justify_items": null,
       "left": null,
       "margin": null,
       "max_height": null,
       "max_width": null,
       "min_height": null,
       "min_width": null,
       "object_fit": null,
       "object_position": null,
       "order": null,
       "overflow": null,
       "padding": null,
       "right": null,
       "top": null,
       "visibility": null,
       "width": null
      }
     },
     "98184010590342faad836d601b061dd4": {
      "model_module": "@jupyter-widgets/controls",
      "model_module_version": "2.0.0",
      "model_name": "HTMLModel",
      "state": {
       "_dom_classes": [],
       "_model_module": "@jupyter-widgets/controls",
       "_model_module_version": "2.0.0",
       "_model_name": "HTMLModel",
       "_view_count": null,
       "_view_module": "@jupyter-widgets/controls",
       "_view_module_version": "2.0.0",
       "_view_name": "HTMLView",
       "description": "",
       "description_allow_html": false,
       "layout": "IPY_MODEL_08cb481a321747b0a447ef133f976cbb",
       "placeholder": "​",
       "style": "IPY_MODEL_147b09ff97264f93bd96fdf0462aeb5f",
       "tabbable": null,
       "tooltip": null,
       "value": " 100/100 [00:38&lt;00:00,  2.14s/it]"
      }
     },
     "99517cc322fb45f09f7115668ee4cf1c": {
      "model_module": "@jupyter-widgets/controls",
      "model_module_version": "2.0.0",
      "model_name": "HTMLStyleModel",
      "state": {
       "_model_module": "@jupyter-widgets/controls",
       "_model_module_version": "2.0.0",
       "_model_name": "HTMLStyleModel",
       "_view_count": null,
       "_view_module": "@jupyter-widgets/base",
       "_view_module_version": "2.0.0",
       "_view_name": "StyleView",
       "background": null,
       "description_width": "",
       "font_size": null,
       "text_color": null
      }
     },
     "99c4864b9b4f4d07aea128ab36acbef5": {
      "model_module": "@jupyter-widgets/controls",
      "model_module_version": "2.0.0",
      "model_name": "HBoxModel",
      "state": {
       "_dom_classes": [],
       "_model_module": "@jupyter-widgets/controls",
       "_model_module_version": "2.0.0",
       "_model_name": "HBoxModel",
       "_view_count": null,
       "_view_module": "@jupyter-widgets/controls",
       "_view_module_version": "2.0.0",
       "_view_name": "HBoxView",
       "box_style": "",
       "children": [
        "IPY_MODEL_e56f355ea14f4df2a3b3bd74d8f460d5",
        "IPY_MODEL_13947dbba8ab4bc3af9b5f680328a2e1",
        "IPY_MODEL_11866f21c13c472ab5e80bf370df3c0b"
       ],
       "layout": "IPY_MODEL_2b892d43a0bd4cedac3fe82538466872",
       "tabbable": null,
       "tooltip": null
      }
     },
     "ab503c9b430d41f59964791d2a4f93bf": {
      "model_module": "@jupyter-widgets/base",
      "model_module_version": "2.0.0",
      "model_name": "LayoutModel",
      "state": {
       "_model_module": "@jupyter-widgets/base",
       "_model_module_version": "2.0.0",
       "_model_name": "LayoutModel",
       "_view_count": null,
       "_view_module": "@jupyter-widgets/base",
       "_view_module_version": "2.0.0",
       "_view_name": "LayoutView",
       "align_content": null,
       "align_items": null,
       "align_self": null,
       "border_bottom": null,
       "border_left": null,
       "border_right": null,
       "border_top": null,
       "bottom": null,
       "display": null,
       "flex": null,
       "flex_flow": null,
       "grid_area": null,
       "grid_auto_columns": null,
       "grid_auto_flow": null,
       "grid_auto_rows": null,
       "grid_column": null,
       "grid_gap": null,
       "grid_row": null,
       "grid_template_areas": null,
       "grid_template_columns": null,
       "grid_template_rows": null,
       "height": null,
       "justify_content": null,
       "justify_items": null,
       "left": null,
       "margin": null,
       "max_height": null,
       "max_width": null,
       "min_height": null,
       "min_width": null,
       "object_fit": null,
       "object_position": null,
       "order": null,
       "overflow": null,
       "padding": null,
       "right": null,
       "top": null,
       "visibility": null,
       "width": null
      }
     },
     "b61dc75c08cd426480e4854a3825d33d": {
      "model_module": "@jupyter-widgets/controls",
      "model_module_version": "2.0.0",
      "model_name": "HTMLStyleModel",
      "state": {
       "_model_module": "@jupyter-widgets/controls",
       "_model_module_version": "2.0.0",
       "_model_name": "HTMLStyleModel",
       "_view_count": null,
       "_view_module": "@jupyter-widgets/base",
       "_view_module_version": "2.0.0",
       "_view_name": "StyleView",
       "background": null,
       "description_width": "",
       "font_size": null,
       "text_color": null
      }
     },
     "e56f355ea14f4df2a3b3bd74d8f460d5": {
      "model_module": "@jupyter-widgets/controls",
      "model_module_version": "2.0.0",
      "model_name": "HTMLModel",
      "state": {
       "_dom_classes": [],
       "_model_module": "@jupyter-widgets/controls",
       "_model_module_version": "2.0.0",
       "_model_name": "HTMLModel",
       "_view_count": null,
       "_view_module": "@jupyter-widgets/controls",
       "_view_module_version": "2.0.0",
       "_view_name": "HTMLView",
       "description": "",
       "description_allow_html": false,
       "layout": "IPY_MODEL_953fcd160810475aac018d75335ac704",
       "placeholder": "​",
       "style": "IPY_MODEL_7a51a9d384cd44ed94449e11def15b8b",
       "tabbable": null,
       "tooltip": null,
       "value": "Best trial: 283. Best value: 0.77649: 100%"
      }
     },
     "e689739e6f2646c8b0d6405b7f172809": {
      "model_module": "@jupyter-widgets/base",
      "model_module_version": "2.0.0",
      "model_name": "LayoutModel",
      "state": {
       "_model_module": "@jupyter-widgets/base",
       "_model_module_version": "2.0.0",
       "_model_name": "LayoutModel",
       "_view_count": null,
       "_view_module": "@jupyter-widgets/base",
       "_view_module_version": "2.0.0",
       "_view_name": "LayoutView",
       "align_content": null,
       "align_items": null,
       "align_self": null,
       "border_bottom": null,
       "border_left": null,
       "border_right": null,
       "border_top": null,
       "bottom": null,
       "display": null,
       "flex": null,
       "flex_flow": null,
       "grid_area": null,
       "grid_auto_columns": null,
       "grid_auto_flow": null,
       "grid_auto_rows": null,
       "grid_column": null,
       "grid_gap": null,
       "grid_row": null,
       "grid_template_areas": null,
       "grid_template_columns": null,
       "grid_template_rows": null,
       "height": null,
       "justify_content": null,
       "justify_items": null,
       "left": null,
       "margin": null,
       "max_height": null,
       "max_width": null,
       "min_height": null,
       "min_width": null,
       "object_fit": null,
       "object_position": null,
       "order": null,
       "overflow": null,
       "padding": null,
       "right": null,
       "top": null,
       "visibility": null,
       "width": null
      }
     },
     "e9af8066028e4ded96238f3019ceedce": {
      "model_module": "@jupyter-widgets/controls",
      "model_module_version": "2.0.0",
      "model_name": "HBoxModel",
      "state": {
       "_dom_classes": [],
       "_model_module": "@jupyter-widgets/controls",
       "_model_module_version": "2.0.0",
       "_model_name": "HBoxModel",
       "_view_count": null,
       "_view_module": "@jupyter-widgets/controls",
       "_view_module_version": "2.0.0",
       "_view_name": "HBoxView",
       "box_style": "",
       "children": [
        "IPY_MODEL_5c7643c98ede4c1d8da5ab75897c75f1",
        "IPY_MODEL_3f57ea503ca54a42831532d7d0b2f4db",
        "IPY_MODEL_98184010590342faad836d601b061dd4"
       ],
       "layout": "IPY_MODEL_1d1cc0f990914eb4a397110967971547",
       "tabbable": null,
       "tooltip": null
      }
     },
     "f878d50b16e246c899c6fb11269ca3ae": {
      "model_module": "@jupyter-widgets/controls",
      "model_module_version": "2.0.0",
      "model_name": "ProgressStyleModel",
      "state": {
       "_model_module": "@jupyter-widgets/controls",
       "_model_module_version": "2.0.0",
       "_model_name": "ProgressStyleModel",
       "_view_count": null,
       "_view_module": "@jupyter-widgets/base",
       "_view_module_version": "2.0.0",
       "_view_name": "StyleView",
       "bar_color": null,
       "description_width": ""
      }
     }
    },
    "version_major": 2,
    "version_minor": 0
   }
  }
 },
 "nbformat": 4,
 "nbformat_minor": 5
}