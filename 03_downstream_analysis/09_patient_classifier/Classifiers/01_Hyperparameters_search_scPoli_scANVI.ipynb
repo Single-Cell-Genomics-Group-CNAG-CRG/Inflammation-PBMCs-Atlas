{
 "cells": [
  {
   "cell_type": "raw",
   "id": "8006df31-f699-4d7c-be82-be75bd4e65b5",
   "metadata": {
    "execution": {
     "iopub.execute_input": "2024-07-07T12:47:25.237809Z",
     "iopub.status.busy": "2024-07-07T12:47:25.237662Z",
     "iopub.status.idle": "2024-07-07T12:47:25.241185Z",
     "shell.execute_reply": "2024-07-07T12:47:25.240733Z",
     "shell.execute_reply.started": "2024-07-07T12:47:25.237792Z"
    }
   },
   "source": [
    "query_dataset = 'VALIDATION'\n",
    "\n",
    "integration_method = \"scANVIkNN\"\n",
    "\n",
    "n_embedded = 30\n",
    "batch = \"chemistry\"\n",
    "annotation = \"Level2\"\n",
    "n_Patient_embedded = 0\n",
    "embSpace = 'cell'\n",
    "\n",
    "REFERENCEadata_path = \"03_downstream_analysis/08_PatientClassifier/scANVI/results/PSEUDOBULKs/scANVI_PSEUDOBULK_reference_EXTERNAL_256_30_Level2_*.h5ad\"\n",
    "QUERYNadata_path = \"03_downstream_analysis/08_PatientClassifier/scANVI/results/PSEUDOBULKs/scANVI_PSEUDOBULK_kNN_query_VALIDATION_256_30_Level2_*.h5ad\"\n",
    "\n",
    "optimization_metric = 'F1'\n",
    "\n",
    "n_job = 50"
   ]
  },
  {
   "cell_type": "code",
   "execution_count": null,
   "id": "0fcb96fe-1ddc-4da2-95ac-e91752904818",
   "metadata": {},
   "outputs": [],
   "source": [
    "for v in ['REFERENCEadata_path','QUERYNadata_path','query_dataset','integration_method',\n",
    "          'embSpace','n_embedded','n_Patient_embedded','batch','annotation','optimization_metric','n_job']:\n",
    "    if v in locals() or v in globals():\n",
    "        print(f\"{v} = {eval(v)}\", end='\\n')\n",
    "    else:\n",
    "        raise ValueError(f\"{v} is not defined\")"
   ]
  },
  {
   "cell_type": "code",
   "execution_count": null,
   "id": "758cad27-6850-48ef-a1a2-31b4515a2452",
   "metadata": {},
   "outputs": [],
   "source": [
    "import os\n",
    "\n",
    "from glob import glob\n",
    "\n",
    "import optuna as op\n",
    "\n",
    "from optuna.samplers import TPESampler, BruteForceSampler\n",
    "\n",
    "import scanpy as sc\n",
    "import pandas as pd\n",
    "import matplotlib.pyplot as plt\n",
    "\n",
    "import joblib\n",
    "\n",
    "\n",
    "from sklearn.svm import LinearSVC, SVC\n",
    "from sklearn.neighbors import KNeighborsClassifier\n",
    "\n",
    "from sklearn.preprocessing import StandardScaler\n",
    "from sklearn.metrics import f1_score, balanced_accuracy_score, matthews_corrcoef\n",
    "\n",
    "from pyprojroot import here\n",
    "\n",
    "from tqdm import tqdm"
   ]
  },
  {
   "cell_type": "code",
   "execution_count": null,
   "id": "c201d383-ff56-4311-a9bf-f2486358f2ec",
   "metadata": {},
   "outputs": [],
   "source": [
    "op.logging.set_verbosity(op.logging.WARNING)"
   ]
  },
  {
   "cell_type": "code",
   "execution_count": null,
   "id": "3d348e24-3245-402c-9e8d-cf79ab5c3fa8",
   "metadata": {},
   "outputs": [],
   "source": [
    "random_seed = 42"
   ]
  },
  {
   "cell_type": "code",
   "execution_count": null,
   "id": "baee6c9e-adc2-48ad-9bce-cb0ed1b9fb74",
   "metadata": {},
   "outputs": [],
   "source": [
    "mainDir=here('03_downstream_analysis/08_PatientClassifier/Classifiers/results_CT_studies/')"
   ]
  },
  {
   "cell_type": "markdown",
   "id": "b4709398-98b6-4f04-be56-d70e5dd0a7a0",
   "metadata": {},
   "source": [
    "### Defining functions"
   ]
  },
  {
   "cell_type": "code",
   "execution_count": null,
   "id": "81d6ddc9-2554-463a-84db-b7e9cf9c98da",
   "metadata": {},
   "outputs": [],
   "source": [
    "def _most_frequent_or_na(row):\n",
    "    mode = row.mode()\n",
    "    if len(mode) > 1:\n",
    "        return 'nan'\n",
    "    else:\n",
    "        return mode.iloc[0]\n",
    "            \n",
    "class CellTypeDiseasePrediction():\n",
    "        \n",
    "    def __init__(self, clf_params, classifier, cell_type, y_true_col='disease', sample_id_col='sampleID'):\n",
    "        self.clf_params = clf_params\n",
    "        self.classifier = classifier\n",
    "        self.ct = cell_type\n",
    "        self.y_true_col = y_true_col\n",
    "        self.sample_id_col = sample_id_col\n",
    "        self.clfs = {}\n",
    "        self.use_scaler = self.clf_params.pop('scaler')\n",
    "        #self.le = LabelEncoder()\n",
    "        \n",
    "    def fit(self, adataTrain):\n",
    "\n",
    "    \n",
    "        #adataTrain.obs.loc[:,self.y_true_col] = self.le.fit_transform(adataTrain.obs[self.y_true_col])\n",
    "        \n",
    "        X_train = adataTrain.X\n",
    "        y_train = adataTrain.obs[self.y_true_col]\n",
    "\n",
    "        if self.use_scaler:\n",
    "            self.scaler = StandardScaler().fit(X_train)\n",
    "            X_train = self.scaler.transform(X_train)\n",
    "   \n",
    "        self.clfs = self.classifier(**self.clf_params).fit(X_train, y_train)\n",
    "\n",
    "        return self\n",
    "\n",
    "    def predict(self, adataVal, y_true_col='disease'):\n",
    "\n",
    "        #adataVal.obs.loc[:,y_true_col] = self.le.transform(adataVal.obs[y_true_col])\n",
    "        \n",
    "        cell_type_pred = []\n",
    "        \n",
    "        X_val = adataVal.X\n",
    "\n",
    "        if self.use_scaler:\n",
    "            X_val = self.scaler.transform(X_val)\n",
    "        \n",
    "        y_pred = self.clfs.predict(X_val)\n",
    "\n",
    "        cell_type_pred = pd.DataFrame({self.sample_id_col: adataVal.obs[self.sample_id_col],\n",
    "                                       self.y_true_col: adataVal.obs[self.y_true_col],\n",
    "                                       f'disease_pred_{self.ct}': y_pred}).set_index(self.sample_id_col)\n",
    "\n",
    "        \n",
    "        # cell_type_pred['disease_pred'] = cell_type_pred.apply(_most_frequent_or_na, axis=1)\n",
    "\n",
    "        # cell_type_pred_merged = cell_type_pred.merge(adataVal.obs.groupby([self.sample_id_col], observed=True).agg({y_true_col:'first'}), \n",
    "        #                                              left_index=True, \n",
    "        #                                              right_index=True)\n",
    "        \n",
    "\n",
    "        return cell_type_pred\n",
    "\n",
    "class VotingDisease():\n",
    "    \n",
    "    def __init__(self, classifier = None, cell_type_studies = None, fixed_params = None, \n",
    "                 cell_type_col = 'Level1', sample_id_col = 'sampleID', y_true_col = 'disease'):\n",
    "        \n",
    "        self.fixed_params = fixed_params\n",
    "        self.classifier = classifier\n",
    "        self.ct_studies = cell_type_studies\n",
    "        self.cell_type_col = cell_type_col \n",
    "        self.y_true_col = y_true_col\n",
    "        self.sample_id_col = sample_id_col\n",
    "        self.clfs = {}\n",
    "\n",
    "    def fit(self, adataR = None):\n",
    "        \n",
    "        for ct_i in self.ct_studies.keys(): \n",
    "    \n",
    "            adataR_ct = adataR[adataR.obs[cell_type_col] == ct_i]\n",
    "            # adataQ_ct = adataQ[adataQ.obs[cell_type_col] == ct_i]\n",
    "        \n",
    "            clf_params = self.fixed_params | self.ct_studies[ct_i].best_trial.params\n",
    "        \n",
    "            self.clfs[ct_i] = (CellTypeDiseasePrediction(clf_params=clf_params, \n",
    "                                                         classifier=self.classifier, \n",
    "                                                         cell_type = ct_i, \n",
    "                                                         sample_id_col=self.sample_id_col, \n",
    "                                                         y_true_col = self.y_true_col)\n",
    "                                .fit(adataR_ct))\n",
    "        return self\n",
    "            \n",
    "    def predict(self, adataQ = None):\n",
    "        \n",
    "        y_pred_query_list = []\n",
    "        \n",
    "        for ct_i in self.ct_studies.keys(): \n",
    "    \n",
    "            adataQ_ct = adataQ[adataQ.obs[self.cell_type_col] == ct_i]\n",
    "        \n",
    "            y_pred_query_list.append(self.clfs[ct_i].predict(adataQ_ct, y_true_col = self.y_true_col).iloc[:,1])\n",
    "        \n",
    "        cellType_prediction_df = pd.concat(y_pred_query_list, axis=1, ignore_index=False, join='outer')\n",
    "        cellType_prediction_df['majority_pred'] = cellType_prediction_df.apply(_most_frequent_or_na, axis=1)\n",
    "\n",
    "        cellType_prediction_df = (cellType_prediction_df.merge(adataQ.obs[[self.sample_id_col, self.y_true_col]].drop_duplicates(), \n",
    "                                                               left_index = True, right_on = self.sample_id_col)\n",
    "                                  .set_index(self.sample_id_col))\n",
    "\n",
    "        return cellType_prediction_df"
   ]
  },
  {
   "cell_type": "markdown",
   "id": "54b0d7a6-9bc6-4ffe-b86d-475a6b391906",
   "metadata": {},
   "source": [
    "### Loading data"
   ]
  },
  {
   "cell_type": "code",
   "execution_count": null,
   "id": "8fa540e1-0656-4287-a0eb-0d4110e3a3bf",
   "metadata": {},
   "outputs": [],
   "source": [
    "adataPathList = glob(str(here(REFERENCEadata_path)))\n",
    "if len(adataPathList) != 1:\n",
    "    print(adataPathList)\n",
    "    raise ValueError(f\"{adataPathList} adata not found\")\n",
    "else:\n",
    "    print(os.path.basename(adataPathList[0]))\n",
    "    REFERENCEpseudobulk = sc.read_h5ad(adataPathList[0])\n",
    "\n",
    "adataPathList = glob(str(here(QUERYNadata_path)))\n",
    "if len(adataPathList) != 1:\n",
    "    print(adataPathList)\n",
    "    raise ValueError(f\"adata not found\")\n",
    "else:\n",
    "    print(os.path.basename(adataPathList[0]))\n",
    "    QUERYpseudobulk = sc.read_h5ad(adataPathList[0])"
   ]
  },
  {
   "cell_type": "code",
   "execution_count": null,
   "id": "34f17857-6896-4ec0-b8df-f349a0f4b563",
   "metadata": {},
   "outputs": [],
   "source": [
    "# Renaiming 'Level1_pred' in scGen query datasets for consistency\n",
    "# and assert that 'disease' is in obs\n",
    "for ad_i in [REFERENCEpseudobulk,QUERYpseudobulk]:\n",
    "    ad_i.obs.rename({'Level1_pred':'Level1'},axis=1,inplace=True)\n",
    "    assert('disease' in ad_i.obs.columns)"
   ]
  },
  {
   "cell_type": "code",
   "execution_count": null,
   "id": "dedd1921-9e34-40a4-aa1e-e1936b7f6ec8",
   "metadata": {},
   "outputs": [],
   "source": [
    "REFERENCEpseudobulk, QUERYpseudobulk"
   ]
  },
  {
   "cell_type": "code",
   "execution_count": null,
   "id": "8b0a8658-f139-4b55-8da0-bd8fe7459e43",
   "metadata": {},
   "outputs": [],
   "source": [
    "QUERYpseudobulk.obs.disease.unique().tolist()"
   ]
  },
  {
   "cell_type": "code",
   "execution_count": null,
   "id": "921bbbc6-1c59-4e41-8460-6f4b51fe5367",
   "metadata": {},
   "outputs": [],
   "source": [
    "QUERYpseudobulk.obs.sampleID.unique().shape"
   ]
  },
  {
   "cell_type": "markdown",
   "id": "47a24343-38f0-4d9b-85e5-96b191b9d493",
   "metadata": {},
   "source": [
    "### Removing unwanted cell-types"
   ]
  },
  {
   "cell_type": "code",
   "execution_count": null,
   "id": "33d021b8-257a-4a18-b995-fe93a2ef1563",
   "metadata": {},
   "outputs": [],
   "source": [
    "REFERENCEpseudobulkFilt = REFERENCEpseudobulk[~REFERENCEpseudobulk.obs['Level1'].isin(['Progenitors','Cycling_cells','Platelets','RBC'])].copy()\n",
    "QUERYpseudobulkFilt = QUERYpseudobulk[~QUERYpseudobulk.obs['Level1'].isin(['Progenitors','Cycling_cells','Platelets','RBC'])].copy()"
   ]
  },
  {
   "cell_type": "code",
   "execution_count": null,
   "id": "aed927b0-478b-470d-9ed1-af7312f7ed63",
   "metadata": {},
   "outputs": [],
   "source": [
    "REFERENCEpseudobulkFilt, QUERYpseudobulk"
   ]
  },
  {
   "cell_type": "code",
   "execution_count": null,
   "id": "d8c4be96-7453-42c7-97a7-f96114bf4675",
   "metadata": {},
   "outputs": [],
   "source": [
    "REFERENCEpseudobulkFilt.obs['disease'] = REFERENCEpseudobulkFilt.obs['disease'].astype(str)"
   ]
  },
  {
   "cell_type": "markdown",
   "id": "4a7d77e0-16f6-47e7-affd-a93d5d242126",
   "metadata": {},
   "source": [
    "## Input data and main parameters"
   ]
  },
  {
   "cell_type": "code",
   "execution_count": null,
   "id": "5c42d3fb-0517-448d-a180-8d7033bb5066",
   "metadata": {},
   "outputs": [],
   "source": [
    "cell_type_col='Level1'\n",
    "y_true_col='disease'\n",
    "sample_id_col='sampleID'"
   ]
  },
  {
   "cell_type": "markdown",
   "id": "86308030-1270-4cc8-8a92-1fbeb9f85e1e",
   "metadata": {},
   "source": [
    "**Initialize pandas dataframe to collect results**"
   ]
  },
  {
   "cell_type": "code",
   "execution_count": null,
   "id": "530355ab-1443-460c-a977-2e8e91225953",
   "metadata": {},
   "outputs": [],
   "source": [
    "METRICdf = pd.DataFrame(columns=['integration_method','embedded_space','n_embedded','n_Patient_embedded','batchKeys','annotation',\n",
    "                      'classification_method',f'{query_dataset}_F1',f'{query_dataset}_BAS',f'{query_dataset}_MCC', f'{query_dataset}_TRAIN_F1'])\n",
    "METRICdf"
   ]
  },
  {
   "cell_type": "markdown",
   "id": "bf4ebdcc-4895-4f1f-8f4c-721603c909c2",
   "metadata": {},
   "source": [
    "### Hyper parameter tuning and classification\n",
    "\n",
    "The aim is to define the best classifier and its corresponding hyper-parameters using **MAIN adata** as train dataset and **VALIDATION adata** as validation.\n",
    "\n",
    "Then, with the best model/setting for each model family (i.e., SVC, kNN, NN, GBM) we will classify samples in VALIDATION, EXCLUDED and EXTERNAL datasets"
   ]
  },
  {
   "cell_type": "code",
   "execution_count": null,
   "id": "5e79071a-6f5e-4b72-8650-3cb97d0de1d1",
   "metadata": {},
   "outputs": [],
   "source": [
    "from sklearn.model_selection import StratifiedKFold"
   ]
  },
  {
   "cell_type": "code",
   "execution_count": null,
   "id": "814840dd-0c10-4f56-9ea7-242d0ce92ccf",
   "metadata": {},
   "outputs": [],
   "source": [
    "sKf = StratifiedKFold(n_splits = 5)"
   ]
  },
  {
   "cell_type": "code",
   "execution_count": null,
   "id": "6e8b2c94-b76f-4100-8d44-2f9e8accf709",
   "metadata": {},
   "outputs": [],
   "source": [
    "Pdata = REFERENCEpseudobulkFilt.obs.groupby(sample_id_col, observed=True).agg({y_true_col:'first'}).reset_index()"
   ]
  },
  {
   "cell_type": "code",
   "execution_count": null,
   "id": "2a76174e-7528-422b-9143-728110106081",
   "metadata": {},
   "outputs": [],
   "source": [
    "KfoldPatientSplit = list(sKf.split(X = Pdata[sample_id_col], y=Pdata[y_true_col]))"
   ]
  },
  {
   "cell_type": "markdown",
   "id": "ad885d57-52eb-4db4-9043-23de6a1a9094",
   "metadata": {},
   "source": [
    "#### LinearSVC"
   ]
  },
  {
   "cell_type": "code",
   "execution_count": null,
   "id": "1aa57011-6514-47e0-bd14-25aafcb675a3",
   "metadata": {},
   "outputs": [],
   "source": [
    "fixed_parameter_LinearSVC = ({\n",
    "    'max_iter': 1000000,\n",
    "    'dual': 'auto',\n",
    "})\n",
    "\n",
    "def LinearSVC_cellTypeOptimization(adataTrain = None, \n",
    "                         KfoldPatientSplit = None,\n",
    "                         y_true_col = 'disease',\n",
    "                         sample_id_col = 'sampleID',\n",
    "                         cell_type_col = 'Level1',\n",
    "                         random_seed = 42,\n",
    "                         optimization = 'F1', \n",
    "                         n_trials = 50,\n",
    "                         n_job = 50):\n",
    "\n",
    "    LinearSVC_cell_type_studies = {}\n",
    "\n",
    "    for ct_i in adataTrain.obs[cell_type_col].unique().tolist():\n",
    "\n",
    "        print(f\"\\n{ct_i}\")\n",
    "        \n",
    "        adataTrain_ct_i = adataTrain[adataTrain.obs[cell_type_col] == ct_i].copy()\n",
    "        \n",
    "        def objective_CT(trial):\n",
    "            class_params = {\n",
    "                'scaler': trial.suggest_categorical('scaler', [True, False]),\n",
    "                'fit_intercept': trial.suggest_categorical('fit_intercept', [True, False]),\n",
    "                'class_weight': trial.suggest_categorical('class_weight', ['balanced', None]),\n",
    "                'C': trial.suggest_float('C', 1e-3, 1e5, log=True)\n",
    "            }\n",
    "        \n",
    "            class_params |= fixed_parameter_LinearSVC\n",
    "        \n",
    "            # for ct_ in adataTrain.obs.Level1.unique().tolist():\n",
    "            #     class_params.update({\n",
    "            #         f\"{ct_}_C\": trial.suggest_float(f\"{ct_}_C\", 1e-3, 1e5, log=True),\n",
    "            #     })\n",
    "        \n",
    "            metric_list = []\n",
    "            \n",
    "            for foldK in KfoldPatientSplit:\n",
    "                \n",
    "                pListTrain = Pdata.iloc[foldK[0]][sample_id_col].tolist()\n",
    "                pListTest = Pdata.iloc[foldK[1]][sample_id_col].tolist()\n",
    "                \n",
    "                clf = CellTypeDiseasePrediction(clf_params=class_params.copy(),classifier=LinearSVC, cell_type = ct_i).fit(adataTrain_ct_i[adataTrain_ct_i.obs[sample_id_col].isin(pListTrain)])\n",
    "            \n",
    "                y_pred_df = clf.predict(adataTrain_ct_i[adataTrain_ct_i.obs[sample_id_col].isin(pListTest)], y_true_col = y_true_col)\n",
    "        \n",
    "                if optimization_metric == 'BAS':\n",
    "                    M = balanced_accuracy_score(y_pred_df[y_true_col], y_pred_df.disease_pred)\n",
    "                else:\n",
    "                    M = f1_score(y_pred_df[y_true_col], y_pred_df[f\"disease_pred_{ct_i}\"], average='weighted')\n",
    "        \n",
    "                metric_list.append(M)\n",
    "            \n",
    "            return sum(metric_list)/5\n",
    "                \n",
    "        # Optimize hyperparameters with Optuna\n",
    "        LinearSVC_cell_type_studies[ct_i] = op.create_study(direction='maximize', study_name=ct_i,sampler=TPESampler(seed=random_seed))\n",
    "        LinearSVC_cell_type_studies[ct_i].optimize(objective_CT, n_trials=n_trials, show_progress_bar=True, n_jobs=n_job)#catch = ValueError)\n",
    "\n",
    "    return LinearSVC_cell_type_studies\n",
    "\n",
    "### EXECUTE THE FUNCTION ###\n",
    "LinearSVC_cell_type_studies = LinearSVC_cellTypeOptimization(adataTrain = REFERENCEpseudobulkFilt, \n",
    "                                                               KfoldPatientSplit = KfoldPatientSplit,\n",
    "                                                               y_true_col = 'disease',\n",
    "                                                               sample_id_col = 'sampleID',\n",
    "                                                               cell_type_col = 'Level1',\n",
    "                                                               optimization = 'F1',\n",
    "                                                               n_trials = 100, n_job = n_job, random_seed = 42)"
   ]
  },
  {
   "cell_type": "code",
   "execution_count": null,
   "id": "8ae42ec5-145a-4fd3-a0c8-f96a1f4bf005",
   "metadata": {},
   "outputs": [],
   "source": [
    "clf_LinearSVC_TRAINED = (VotingDisease(classifier = LinearSVC, \n",
    "                                         cell_type_studies = LinearSVC_cell_type_studies, \n",
    "                                         fixed_params = fixed_parameter_LinearSVC, \n",
    "                                         cell_type_col = 'Level1', sample_id_col = 'sampleID', y_true_col = 'disease')\n",
    "                           .fit(REFERENCEpseudobulkFilt))"
   ]
  },
  {
   "cell_type": "code",
   "execution_count": null,
   "id": "45847d4c-a3b8-403c-b2aa-c828efe92125",
   "metadata": {},
   "outputs": [],
   "source": [
    "### Extracting the average performance on train data\n",
    "optMetric = 0\n",
    "for ct_i in LinearSVC_cell_type_studies.keys():\n",
    "    optMetric += LinearSVC_cell_type_studies[ct_i].best_value\n",
    "f1_LinearSVC_REFERENCE = optMetric / len(LinearSVC_cell_type_studies)\n",
    "print(f\"F1 on reference = {f1_LinearSVC_REFERENCE}\")"
   ]
  },
  {
   "cell_type": "code",
   "execution_count": null,
   "id": "1bfc286d-a233-48d0-bd01-42d8c7761172",
   "metadata": {},
   "outputs": [],
   "source": [
    "### Predict query dataset\n",
    "LinearSVC_cellType_prediction_query_df = clf_LinearSVC_TRAINED.predict(QUERYpseudobulkFilt)\n",
    "\n",
    "f1_LinearSVC_QUERY = f1_score(LinearSVC_cellType_prediction_query_df[y_true_col], \n",
    "                              LinearSVC_cellType_prediction_query_df.majority_pred, average='weighted')\n",
    "BAS_LinearSVC_QUERY = balanced_accuracy_score(LinearSVC_cellType_prediction_query_df[y_true_col], \n",
    "                                              LinearSVC_cellType_prediction_query_df.majority_pred,)\n",
    "MCC_LinearSVC_QUERY = matthews_corrcoef(LinearSVC_cellType_prediction_query_df[y_true_col], \n",
    "                                        LinearSVC_cellType_prediction_query_df.majority_pred,)\n",
    "print(f\"QUERY: F1 = {f1_LinearSVC_QUERY}, BAS = {BAS_LinearSVC_QUERY}, MCC: {MCC_LinearSVC_QUERY}\")"
   ]
  },
  {
   "cell_type": "code",
   "execution_count": null,
   "id": "839e6ed1-00df-4f31-9b6a-11650ed3f1dc",
   "metadata": {},
   "outputs": [],
   "source": [
    "### Add results to dataframe\n",
    "METRICdf.loc[METRICdf.shape[0],:] = [integration_method,embSpace,n_embedded,n_Patient_embedded,batch,annotation,'LinearSVC',\n",
    "                                     f1_LinearSVC_QUERY, BAS_LinearSVC_QUERY,MCC_LinearSVC_QUERY,f1_LinearSVC_REFERENCE]"
   ]
  },
  {
   "cell_type": "code",
   "execution_count": null,
   "id": "e7ab9f0e-46d5-45e3-b44b-5bff0748b28c",
   "metadata": {},
   "outputs": [],
   "source": [
    "#### SAVE STUDY and FINAL MODEL AS PICKLE\n",
    "joblib.dump(LinearSVC_cell_type_studies, os.path.join(mainDir, f\"study_objects/BestParams_{integration_method}_{embSpace}_{n_embedded}nEmb_{n_Patient_embedded}nPEmb_{batch}_{annotation}_opt{optimization_metric}_{query_dataset}_LinearSVC.pkl\"))\n",
    "joblib.dump(clf_LinearSVC_TRAINED, os.path.join(mainDir, f\"best_models/{integration_method}_{embSpace}_{n_embedded}nEmb_{n_Patient_embedded}nPEmb_{batch}_{annotation}_opt{optimization_metric}_{query_dataset}_LinearSVC.pkl\"))\n",
    "\n",
    "LinearSVC_cellType_prediction_query_df.to_pickle(os.path.join(mainDir, f\"label_predicted_dataframes/{integration_method}_{embSpace}_{n_embedded}nEmb_{n_Patient_embedded}nPEmb_{batch}_{annotation}_opt{optimization_metric}_{query_dataset}_LinearSVC.pkl\"))"
   ]
  },
  {
   "cell_type": "markdown",
   "id": "e8394cdf-d636-4499-89a6-1731d577d3f7",
   "metadata": {},
   "source": [
    "#### SVC"
   ]
  },
  {
   "cell_type": "code",
   "execution_count": null,
   "id": "48e39d89",
   "metadata": {
    "scrolled": true
   },
   "outputs": [],
   "source": [
    "fixed_parameter_SVC = ({\n",
    "    'max_iter': -1,\n",
    "})\n",
    "\n",
    "\n",
    "def SVC_cellTypeOptimization(adataTrain = None, \n",
    "                         KfoldPatientSplit = None,\n",
    "                         y_true_col = 'disease',\n",
    "                         sample_id_col = 'sampleID',\n",
    "                         cell_type_col = 'Level1',\n",
    "                         random_seed = 42,\n",
    "                         optimization = 'F1', \n",
    "                         n_trials = 300,\n",
    "                         n_job = -1):\n",
    "\n",
    "    SVC_cell_type_studies = {}\n",
    "\n",
    "    for ct_i in adataTrain.obs[cell_type_col].unique().tolist():\n",
    "\n",
    "        print(f\"\\n{ct_i}\")\n",
    "        \n",
    "        adataTrain_ct_i = adataTrain[adataTrain.obs[cell_type_col] == ct_i].copy()\n",
    "        \n",
    "        def objective_CT(trial):\n",
    "            class_params = {\n",
    "                'scaler': trial.suggest_categorical('scaler', [True, False]),\n",
    "                'kernel': trial.suggest_categorical(\"kernel\", ['sigmoid','rbf','poly']),\n",
    "                'class_weight': trial.suggest_categorical(\"class_weight\", ['balanced',None]),\n",
    "                'C': trial.suggest_float('C', 1e-3, 1e5, log=True),\n",
    "            }\n",
    "\n",
    "            class_params |= fixed_parameter_SVC\n",
    "            if class_params['kernel'] == 'poly':\n",
    "                class_params.update({'degree': trial.suggest_int('degree', 2,6)})    \n",
    "                \n",
    "            # for ct_ in adataTrain.obs.Level1.unique().tolist():\n",
    "            #     class_params.update({\n",
    "            #         f\"{ct_}_C\": trial.suggest_float(f\"{ct_}_C\", 1e-3, 1e5, log=True),\n",
    "            #     })\n",
    "        \n",
    "            metric_list = []\n",
    "            \n",
    "            for foldK in KfoldPatientSplit:\n",
    "                \n",
    "                pListTrain = Pdata.iloc[foldK[0]][sample_id_col].tolist()\n",
    "                pListTest = Pdata.iloc[foldK[1]][sample_id_col].tolist()\n",
    "                \n",
    "                clf = CellTypeDiseasePrediction(clf_params=class_params.copy(),classifier=SVC, cell_type = ct_i).fit(adataTrain_ct_i[adataTrain_ct_i.obs[sample_id_col].isin(pListTrain)])\n",
    "            \n",
    "                y_pred_df = clf.predict(adataTrain_ct_i[adataTrain_ct_i.obs[sample_id_col].isin(pListTest)], y_true_col = y_true_col)\n",
    "        \n",
    "                if optimization_metric == 'BAS':\n",
    "                    M = balanced_accuracy_score(y_pred_df[y_true_col], y_pred_df.disease_pred)\n",
    "                else:\n",
    "                    M = f1_score(y_pred_df[y_true_col], y_pred_df[f\"disease_pred_{ct_i}\"], average='weighted')\n",
    "        \n",
    "                metric_list.append(M)\n",
    "            \n",
    "            return sum(metric_list)/5\n",
    "                \n",
    "        # Optimize hyperparameters with Optuna\n",
    "        SVC_cell_type_studies[ct_i] = op.create_study(direction='maximize', study_name=ct_i,sampler=TPESampler(seed=random_seed))\n",
    "        SVC_cell_type_studies[ct_i].optimize(objective_CT, n_trials=n_trials, show_progress_bar=True, n_jobs=n_job)#catch = ValueError)\n",
    "\n",
    "    return SVC_cell_type_studies\n",
    "\n",
    "### EXECUTE THE FUNCTION ###\n",
    "SVC_cell_type_studies = SVC_cellTypeOptimization(adataTrain = REFERENCEpseudobulkFilt, \n",
    "                                                   KfoldPatientSplit = KfoldPatientSplit,\n",
    "                                                   y_true_col = 'disease',\n",
    "                                                   sample_id_col = 'sampleID',\n",
    "                                                   cell_type_col = 'Level1',\n",
    "                                                   optimization = 'F1',\n",
    "                                                   n_trials = 300, n_job = n_job, random_seed = 42)"
   ]
  },
  {
   "cell_type": "code",
   "execution_count": null,
   "id": "df1d3bd9-ca7f-4621-a37a-50faacb2c3da",
   "metadata": {},
   "outputs": [],
   "source": [
    "clf_SVC_TRAINED = (VotingDisease(classifier = SVC, \n",
    "                                         cell_type_studies = SVC_cell_type_studies, \n",
    "                                         fixed_params = fixed_parameter_SVC, \n",
    "                                         cell_type_col = 'Level1', sample_id_col = 'sampleID', y_true_col = 'disease')\n",
    "                           .fit(REFERENCEpseudobulkFilt))"
   ]
  },
  {
   "cell_type": "code",
   "execution_count": null,
   "id": "1738fab9-3ffe-4649-8b75-4ede4c821328",
   "metadata": {},
   "outputs": [],
   "source": [
    "### Extracting the average performance on train data\n",
    "optMetric = 0\n",
    "for ct_i in SVC_cell_type_studies.keys():\n",
    "    optMetric += SVC_cell_type_studies[ct_i].best_value\n",
    "f1_SVC_REFERENCE = optMetric / len(SVC_cell_type_studies)\n",
    "print(f\"F1 on reference = {f1_SVC_REFERENCE}\")"
   ]
  },
  {
   "cell_type": "code",
   "execution_count": null,
   "id": "047f51ad-f323-483c-96ff-4b7cfdcd9ba7",
   "metadata": {},
   "outputs": [],
   "source": [
    "### Predict query dataset\n",
    "SVC_cellType_prediction_query_df = clf_SVC_TRAINED.predict(QUERYpseudobulkFilt)\n",
    "\n",
    "f1_SVC_QUERY = f1_score(SVC_cellType_prediction_query_df[y_true_col], \n",
    "                              SVC_cellType_prediction_query_df.majority_pred, average='weighted')\n",
    "BAS_SVC_QUERY = balanced_accuracy_score(SVC_cellType_prediction_query_df[y_true_col], \n",
    "                                              SVC_cellType_prediction_query_df.majority_pred,)\n",
    "MCC_SVC_QUERY = matthews_corrcoef(SVC_cellType_prediction_query_df[y_true_col], \n",
    "                                        SVC_cellType_prediction_query_df.majority_pred,)\n",
    "print(f\"QUERY: F1 = {f1_SVC_QUERY}, BAS = {BAS_SVC_QUERY}, MCC: {MCC_SVC_QUERY}\")"
   ]
  },
  {
   "cell_type": "code",
   "execution_count": null,
   "id": "4e68ccc1-e6a3-4ceb-a3ae-b8761de54025",
   "metadata": {},
   "outputs": [],
   "source": [
    "### Add results to dataframe\n",
    "METRICdf.loc[METRICdf.shape[0],:] = [integration_method,embSpace,n_embedded,n_Patient_embedded,batch,annotation,'SVC',\n",
    "                                     f1_SVC_QUERY, BAS_SVC_QUERY,MCC_SVC_QUERY,f1_SVC_REFERENCE]"
   ]
  },
  {
   "cell_type": "code",
   "execution_count": null,
   "id": "d17b7639-2450-405d-ab6d-622ce4781196",
   "metadata": {},
   "outputs": [],
   "source": [
    "#### SAVE STUDY and FINAL MODEL AS PICKLE\n",
    "joblib.dump(SVC_cell_type_studies, os.path.join(mainDir, f\"study_objects/BestParams_{integration_method}_{embSpace}_{n_embedded}nEmb_{n_Patient_embedded}nPEmb_{batch}_{annotation}_opt{optimization_metric}_{query_dataset}_SVC.pkl\"))\n",
    "joblib.dump(clf_SVC_TRAINED, os.path.join(mainDir, f\"best_models/{integration_method}_{embSpace}_{n_embedded}nEmb_{n_Patient_embedded}nPEmb_{batch}_{annotation}_opt{optimization_metric}_{query_dataset}_SVC.pkl\"))\n",
    "\n",
    "SVC_cellType_prediction_query_df.to_pickle(os.path.join(mainDir, f\"label_predicted_dataframes/{integration_method}_{embSpace}_{n_embedded}nEmb_{n_Patient_embedded}nPEmb_{batch}_{annotation}_opt{optimization_metric}_{query_dataset}_SVC.pkl\"))"
   ]
  },
  {
   "cell_type": "markdown",
   "id": "f06fd6e1-90a1-4fc2-a9fd-6a35fb3ab0ed",
   "metadata": {},
   "source": [
    "#### kNN"
   ]
  },
  {
   "cell_type": "code",
   "execution_count": null,
   "id": "4b5a4d44-3d52-45ec-85d5-cdee0e1754f1",
   "metadata": {
    "scrolled": true
   },
   "outputs": [],
   "source": [
    "fixed_parameter_kNN = ({\n",
    "    'n_jobs': 1\n",
    "})\n",
    "\n",
    "def kNN_cellTypeOptimization(adataTrain = None, \n",
    "                         KfoldPatientSplit = None,\n",
    "                         y_true_col = 'disease',\n",
    "                         sample_id_col = 'sampleID',\n",
    "                         cell_type_col = 'Level1',\n",
    "                         optimization = 'F1', \n",
    "                         n_job = 40):\n",
    "\n",
    "    kNN_cell_type_studies = {}\n",
    "\n",
    "    for ct_i in adataTrain.obs[cell_type_col].unique().tolist():\n",
    "\n",
    "        print(f\"\\n{ct_i}\")\n",
    "        \n",
    "        adataTrain_ct_i = adataTrain[adataTrain.obs[cell_type_col] == ct_i].copy()\n",
    "        \n",
    "        def objective_CT(trial):\n",
    "            class_params = {\n",
    "                'scaler': trial.suggest_categorical('scaler', [True, False]),\n",
    "                'metric': trial.suggest_categorical(\"metric\", ['cosine','euclidean']),\n",
    "                'weights': trial.suggest_categorical(\"weights\", ['uniform','distance']),\n",
    "                'n_neighbors': trial.suggest_int('n_neighbors', 1, 5, log=False),\n",
    "            }\n",
    "\n",
    "            class_params |= fixed_parameter_kNN\n",
    "\n",
    "            metric_list = []\n",
    "            \n",
    "            for foldK in KfoldPatientSplit:\n",
    "                \n",
    "                pListTrain = Pdata.iloc[foldK[0]][sample_id_col].tolist()\n",
    "                pListTest = Pdata.iloc[foldK[1]][sample_id_col].tolist()\n",
    "                \n",
    "                clf = CellTypeDiseasePrediction(clf_params=class_params.copy(),classifier=KNeighborsClassifier, cell_type = ct_i).fit(adataTrain_ct_i[adataTrain_ct_i.obs[sample_id_col].isin(pListTrain)])\n",
    "            \n",
    "                y_pred_df = clf.predict(adataTrain_ct_i[adataTrain_ct_i.obs[sample_id_col].isin(pListTest)], y_true_col = y_true_col)\n",
    "        \n",
    "                if optimization_metric == 'BAS':\n",
    "                    M = balanced_accuracy_score(y_pred_df[y_true_col], y_pred_df.disease_pred)\n",
    "                else:\n",
    "                    M = f1_score(y_pred_df[y_true_col], y_pred_df[f\"disease_pred_{ct_i}\"], average='weighted')\n",
    "        \n",
    "                metric_list.append(M)\n",
    "            \n",
    "            return sum(metric_list)/5\n",
    "                \n",
    "        # Optimize hyperparameters with Optuna\n",
    "        kNN_cell_type_studies[ct_i] = op.create_study(direction='maximize', study_name=ct_i, sampler=BruteForceSampler())\n",
    "        kNN_cell_type_studies[ct_i].optimize(objective_CT, show_progress_bar=False, n_jobs=40)#catch = ValueError)\n",
    "\n",
    "    return kNN_cell_type_studies\n",
    "\n",
    "### EXECUTE THE FUNCTION ###\n",
    "kNN_cell_type_studies = kNN_cellTypeOptimization(adataTrain = REFERENCEpseudobulkFilt, \n",
    "                                                 KfoldPatientSplit = KfoldPatientSplit,\n",
    "                                                 y_true_col = 'disease',\n",
    "                                                 sample_id_col = 'sampleID',\n",
    "                                                 cell_type_col = 'Level1',\n",
    "                                                 optimization = 'F1',\n",
    "                                                 n_job = min(n_job,40))"
   ]
  },
  {
   "cell_type": "code",
   "execution_count": null,
   "id": "efa94193-3498-4552-9ce9-281ca55cb795",
   "metadata": {},
   "outputs": [],
   "source": [
    "clf_kNN_TRAINED = (VotingDisease(classifier = KNeighborsClassifier, \n",
    "                                         cell_type_studies = kNN_cell_type_studies, \n",
    "                                         fixed_params = fixed_parameter_kNN, \n",
    "                                         cell_type_col = 'Level1', sample_id_col = 'sampleID', y_true_col = 'disease')\n",
    "                           .fit(REFERENCEpseudobulkFilt))"
   ]
  },
  {
   "cell_type": "code",
   "execution_count": null,
   "id": "93d992ed-9cd1-4aab-8c6b-3ba520ee2fee",
   "metadata": {},
   "outputs": [],
   "source": [
    "### Extracting the average performance on train data\n",
    "optMetric = 0\n",
    "for ct_i in kNN_cell_type_studies.keys():\n",
    "    optMetric += kNN_cell_type_studies[ct_i].best_value\n",
    "f1_kNN_REFERENCE = optMetric / len(kNN_cell_type_studies)\n",
    "print(f\"F1 on reference = {f1_kNN_REFERENCE}\")"
   ]
  },
  {
   "cell_type": "code",
   "execution_count": null,
   "id": "7fb64646-7479-488b-b356-bcce128453dc",
   "metadata": {},
   "outputs": [],
   "source": [
    "### Predict query dataset\n",
    "kNN_cellType_prediction_query_df = clf_kNN_TRAINED.predict(QUERYpseudobulkFilt)\n",
    "\n",
    "f1_kNN_QUERY = f1_score(kNN_cellType_prediction_query_df[y_true_col], \n",
    "                              kNN_cellType_prediction_query_df.majority_pred, average='weighted')\n",
    "BAS_kNN_QUERY = balanced_accuracy_score(kNN_cellType_prediction_query_df[y_true_col], \n",
    "                                              kNN_cellType_prediction_query_df.majority_pred,)\n",
    "MCC_kNN_QUERY = matthews_corrcoef(kNN_cellType_prediction_query_df[y_true_col], \n",
    "                                        kNN_cellType_prediction_query_df.majority_pred,)\n",
    "print(f\"QUERY: F1 = {f1_kNN_QUERY}, BAS = {BAS_kNN_QUERY}, MCC: {MCC_kNN_QUERY}\")"
   ]
  },
  {
   "cell_type": "code",
   "execution_count": null,
   "id": "a6b5a17f-9bc8-49e0-992d-3a73cbb73af1",
   "metadata": {},
   "outputs": [],
   "source": [
    "### Add results to dataframe\n",
    "METRICdf.loc[METRICdf.shape[0],:] = [integration_method,embSpace,n_embedded,n_Patient_embedded,batch,annotation,'kNN',\n",
    "                                     f1_kNN_QUERY, BAS_kNN_QUERY,MCC_kNN_QUERY,f1_kNN_REFERENCE]"
   ]
  },
  {
   "cell_type": "code",
   "execution_count": null,
   "id": "571de3ba-0358-48c6-b67f-fb247d2f7938",
   "metadata": {},
   "outputs": [],
   "source": [
    "#### SAVE STUDY and FINAL MODEL AS PICKLE\n",
    "joblib.dump(kNN_cell_type_studies, os.path.join(mainDir, f\"study_objects/BestParams_{integration_method}_{embSpace}_{n_embedded}nEmb_{n_Patient_embedded}nPEmb_{batch}_{annotation}_opt{optimization_metric}_{query_dataset}_kNN.pkl\"))\n",
    "joblib.dump(clf_kNN_TRAINED, os.path.join(mainDir, f\"best_models/{integration_method}_{embSpace}_{n_embedded}nEmb_{n_Patient_embedded}nPEmb_{batch}_{annotation}_opt{optimization_metric}_{query_dataset}_kNN.pkl\"))\n",
    "\n",
    "kNN_cellType_prediction_query_df.to_pickle(os.path.join(mainDir, f\"label_predicted_dataframes/{integration_method}_{embSpace}_{n_embedded}nEmb_{n_Patient_embedded}nPEmb_{batch}_{annotation}_opt{optimization_metric}_{query_dataset}_kNN.pkl\"))"
   ]
  },
  {
   "cell_type": "markdown",
   "id": "ca686a7e-4f31-421e-8615-6c61274fa806",
   "metadata": {},
   "source": [
    "### Saving metrics dataframe"
   ]
  },
  {
   "cell_type": "code",
   "execution_count": null,
   "id": "20274e0e-5efd-4626-88b8-19bf6184bff0",
   "metadata": {},
   "outputs": [],
   "source": [
    "METRICdf.to_pickle(os.path.join(mainDir, f\"metrics_dataframes/METRICdf_{integration_method}_{embSpace}_{n_embedded}nEmb_{n_Patient_embedded}nPEmb_{batch}_{annotation}_opt{optimization_metric}_{query_dataset}.pkl\"))"
   ]
  },
  {
   "cell_type": "code",
   "execution_count": null,
   "id": "17be377b-b0b3-44f7-94a0-2c5b0f67e378",
   "metadata": {},
   "outputs": [],
   "source": [
    "METRICdf"
   ]
  },
  {
   "cell_type": "code",
   "execution_count": null,
   "id": "dcac8762-9816-47ad-898f-ca8e3fbd90db",
   "metadata": {},
   "outputs": [],
   "source": []
  }
 ],
 "metadata": {
  "kernelspec": {
   "display_name": "Python 3 (ipykernel)",
   "language": "python",
   "name": "python3"
  },
  "language_info": {
   "codemirror_mode": {
    "name": "ipython",
    "version": 3
   },
   "file_extension": ".py",
   "mimetype": "text/x-python",
   "name": "python",
   "nbconvert_exporter": "python",
   "pygments_lexer": "ipython3",
   "version": "3.12.3"
  }
 },
 "nbformat": 4,
 "nbformat_minor": 5
}
