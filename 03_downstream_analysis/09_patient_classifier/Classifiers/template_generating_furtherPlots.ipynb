{
 "cells": [
  {
   "cell_type": "code",
   "execution_count": 5,
   "id": "08398765-324f-43d3-9b53-bf9955894aea",
   "metadata": {
    "execution": {
     "iopub.execute_input": "2025-05-12T17:52:13.990374Z",
     "iopub.status.busy": "2025-05-12T17:52:13.990096Z",
     "iopub.status.idle": "2025-05-12T17:52:14.011915Z",
     "shell.execute_reply": "2025-05-12T17:52:14.011573Z",
     "shell.execute_reply.started": "2025-05-12T17:52:13.990357Z"
    }
   },
   "outputs": [],
   "source": [
    "import sys\n",
    "import os\n",
    "from glob import glob\n",
    "\n",
    "import scanpy as sc\n",
    "\n",
    "import seaborn as sns\n",
    "\n",
    "import pandas as pd\n",
    "import numpy as np\n",
    "\n",
    "import PyComplexHeatmap as ch\n",
    "\n",
    "import matplotlib.pylab as plt\n",
    "\n",
    "from sklearn.metrics import balanced_accuracy_score, f1_score, matthews_corrcoef, recall_score, precision_score\n",
    "\n",
    "from pyprojroot import here\n",
    "\n",
    "import warnings\n",
    "warnings.filterwarnings(\"ignore\")\n",
    "\n",
    "sys.path.insert(1, str(here('bin')))\n",
    "from customPythonFunctions import getClassMetricsDF\n",
    "\n",
    "from customPalette import annotation_Level1_palette, annotation_Level1_LowQFilt_sortednames\n",
    "\n",
    "from PyComplexHeatmap import *\n",
    "import warnings\n",
    "\n",
    "from customPalette import diseases_palette, diseaseCategories, diseasesGroup_palette\n"
   ]
  },
  {
   "cell_type": "code",
   "execution_count": 6,
   "id": "e0451d41-b91e-410b-a05f-760f7ff0366c",
   "metadata": {
    "execution": {
     "iopub.execute_input": "2025-05-12T17:52:23.716940Z",
     "iopub.status.busy": "2025-05-12T17:52:23.716531Z",
     "iopub.status.idle": "2025-05-12T17:52:23.719868Z",
     "shell.execute_reply": "2025-05-12T17:52:23.719555Z",
     "shell.execute_reply.started": "2025-05-12T17:52:23.716921Z"
    }
   },
   "outputs": [],
   "source": [
    "cell_type_order = [c for c in annotation_Level1_LowQFilt_sortednames if c not in ['Cycling_cells','Progenitors','Platelets','RBC']]"
   ]
  },
  {
   "cell_type": "code",
   "execution_count": 7,
   "id": "5fbf02a4-ad49-4998-aeb9-4126d181a9c4",
   "metadata": {
    "execution": {
     "iopub.execute_input": "2025-05-12T17:52:24.384416Z",
     "iopub.status.busy": "2025-05-12T17:52:24.384197Z",
     "iopub.status.idle": "2025-05-12T17:52:24.386457Z",
     "shell.execute_reply": "2025-05-12T17:52:24.386108Z",
     "shell.execute_reply.started": "2025-05-12T17:52:24.384402Z"
    }
   },
   "outputs": [],
   "source": [
    "optimization_metric = 'F1'"
   ]
  },
  {
   "cell_type": "code",
   "execution_count": 8,
   "id": "45ed7d90-f97e-4d5a-9b6e-3267839da9cc",
   "metadata": {
    "execution": {
     "iopub.execute_input": "2025-05-12T17:52:24.652532Z",
     "iopub.status.busy": "2025-05-12T17:52:24.652292Z",
     "iopub.status.idle": "2025-05-12T17:52:24.654380Z",
     "shell.execute_reply": "2025-05-12T17:52:24.654054Z",
     "shell.execute_reply.started": "2025-05-12T17:52:24.652519Z"
    }
   },
   "outputs": [],
   "source": [
    "diseaseCategories['Na'] = 'Na'\n",
    "diseasesGroup_palette['Na'] = '#ffffff'"
   ]
  },
  {
   "cell_type": "markdown",
   "id": "a635078c-8a52-491a-981e-5a9d8de640c2",
   "metadata": {},
   "source": [
    "### Computing additional metrics"
   ]
  },
  {
   "cell_type": "code",
   "execution_count": 9,
   "id": "ed2ac724-0c32-49f2-8962-34a815b6f1a2",
   "metadata": {
    "execution": {
     "iopub.execute_input": "2025-05-12T17:52:28.964279Z",
     "iopub.status.busy": "2025-05-12T17:52:28.964048Z",
     "iopub.status.idle": "2025-05-12T17:52:28.968014Z",
     "shell.execute_reply": "2025-05-12T17:52:28.967654Z",
     "shell.execute_reply.started": "2025-05-12T17:52:28.964263Z"
    }
   },
   "outputs": [],
   "source": [
    "def get_add_metric(disease_true, disease_pred):\n",
    "    from sklearn.metrics import confusion_matrix\n",
    "    \n",
    "    disease_true = np.array(disease_true)\n",
    "    disease_pred = np.array(disease_pred)\n",
    "    res = []\n",
    "    for d in np.unique(disease_true):\n",
    "        support = (disease_true==d).sum()\n",
    "        \n",
    "        tn, fp, fn, tp = confusion_matrix(disease_true==d, disease_pred==d).ravel()\n",
    "    \n",
    "    \n",
    "        prec = (tp / (tp+fp))\n",
    "        recall = (tp / (tp+fn))\n",
    "        specificity = (tn / (tn+fp))\n",
    "        \n",
    "        res.append([d, prec, recall, specificity, support])\n",
    "    \n",
    "    res = pd.DataFrame(res).fillna(0).set_index(0)\n",
    "    Wprecision = np.average(res.loc[:,1], weights= res.loc[:,4])\n",
    "    Wrecall = np.average(res.loc[:,2], weights= res.loc[:,4])\n",
    "    Wspecifitity = np.average(res.loc[:,3], weights= res.loc[:,4])\n",
    "    return (Wprecision,Wrecall,Wspecifitity)"
   ]
  },
  {
   "cell_type": "markdown",
   "id": "351c40c8-378b-43bb-ba03-6715b2e1dafa",
   "metadata": {},
   "source": [
    "### Defining integration parameters"
   ]
  },
  {
   "cell_type": "code",
   "execution_count": 39,
   "id": "4146c977-fd29-4c40-8b65-d8d3b67ed300",
   "metadata": {
    "execution": {
     "iopub.execute_input": "2025-05-12T18:20:41.916562Z",
     "iopub.status.busy": "2025-05-12T18:20:41.916318Z",
     "iopub.status.idle": "2025-05-12T18:20:41.918931Z",
     "shell.execute_reply": "2025-05-12T18:20:41.918607Z",
     "shell.execute_reply.started": "2025-05-12T18:20:41.916546Z"
    }
   },
   "outputs": [],
   "source": [
    "integration_method = 'HS'\n",
    "query_dataset = 'EXTERNAL'\n",
    "embedded_space = 'cell'\n",
    "n_embedded = 20\n",
    "n_Patient_embedded = 0\n",
    "batch_key = 'chemistry'\n",
    "annotation = 'notUsed'\n",
    "bestClf_family = 'SVC'"
   ]
  },
  {
   "cell_type": "code",
   "execution_count": 40,
   "id": "7ef8d6b5-3365-4eea-98d2-92af55989c52",
   "metadata": {
    "execution": {
     "iopub.execute_input": "2025-05-12T18:20:45.194115Z",
     "iopub.status.busy": "2025-05-12T18:20:45.193877Z",
     "iopub.status.idle": "2025-05-12T18:20:45.198493Z",
     "shell.execute_reply": "2025-05-12T18:20:45.198188Z",
     "shell.execute_reply.started": "2025-05-12T18:20:45.194099Z"
    }
   },
   "outputs": [],
   "source": [
    "M_dir= f\"03_downstream_analysis/09_patient_classifier/Classifiers/furtherPlots/{query_dataset}_{integration_method}_{n_embedded}_{n_Patient_embedded}\"\n",
    "os.makedirs(here(M_dir), exist_ok=True)"
   ]
  },
  {
   "cell_type": "code",
   "execution_count": 41,
   "id": "eca7bfdd-f678-457d-9750-3833741c500b",
   "metadata": {
    "execution": {
     "iopub.execute_input": "2025-05-12T18:20:51.457540Z",
     "iopub.status.busy": "2025-05-12T18:20:51.457302Z",
     "iopub.status.idle": "2025-05-12T18:20:51.464941Z",
     "shell.execute_reply": "2025-05-12T18:20:51.464623Z",
     "shell.execute_reply.started": "2025-05-12T18:20:51.457524Z"
    }
   },
   "outputs": [],
   "source": [
    "with open(here(f\"{M_dir}/info.txt\"), 'w') as f:\n",
    "    f.writelines(f\"integration_method = {integration_method}\\n\")\n",
    "    f.writelines(f\"query_dataset = {query_dataset}\\n\")\n",
    "    f.writelines(f\"embedded_space = {embedded_space}\\n\")\n",
    "    f.writelines(f\"n_embedded = {n_embedded}\\n\")\n",
    "    f.writelines(f\"n_Patient_embedded = {n_Patient_embedded}\\n\")\n",
    "    f.writelines(f\"batch_key = {batch_key}\\n\")\n",
    "    f.writelines(f\"annotation = {annotation}\\n\")\n",
    "    f.writelines(f\"bestClf_family = {bestClf_family}\\n\")\n",
    "    f.writelines(\"\\n\")"
   ]
  },
  {
   "cell_type": "markdown",
   "id": "719878eb-03b4-4728-8206-cdc7ed79df42",
   "metadata": {},
   "source": [
    "### Loading results"
   ]
  },
  {
   "cell_type": "markdown",
   "id": "d622b389-44f4-47d8-9017-63e78e986933",
   "metadata": {},
   "source": [
    "#### Loading true and predicted labels"
   ]
  },
  {
   "cell_type": "code",
   "execution_count": 42,
   "id": "72bb6fb6-a7c7-4b7e-9b22-5a51151d00e6",
   "metadata": {
    "execution": {
     "iopub.execute_input": "2025-05-12T18:20:51.955014Z",
     "iopub.status.busy": "2025-05-12T18:20:51.954848Z",
     "iopub.status.idle": "2025-05-12T18:20:51.958935Z",
     "shell.execute_reply": "2025-05-12T18:20:51.958624Z",
     "shell.execute_reply.started": "2025-05-12T18:20:51.955001Z"
    }
   },
   "outputs": [],
   "source": [
    "labels_df_dir= here(f'03_downstream_analysis/09_patient_classifier/Classifiers/results_CT_studies/label_predicted_dataframes/')\n",
    "if integration_method in ['HS', 'scGen']:\n",
    "    pt_i = os.path.join(labels_df_dir,f\"{integration_method}_{embedded_space}_{n_embedded}nEmb_{n_Patient_embedded}nPEmb_{batch_key}_{annotation}_optF1_{bestClf_family}_{query_dataset}.pkl\")\n",
    "else:\n",
    "    pt_i = os.path.join(labels_df_dir,f\"{integration_method}_{embedded_space}_{n_embedded}nEmb_{n_Patient_embedded}nPEmb_{batch_key}_{annotation}_optF1_{query_dataset}_{bestClf_family}.pkl\")"
   ]
  },
  {
   "cell_type": "code",
   "execution_count": 43,
   "id": "bec85b4a-acf4-40cf-9022-bc1926db8f1c",
   "metadata": {
    "execution": {
     "iopub.execute_input": "2025-05-12T18:20:52.115550Z",
     "iopub.status.busy": "2025-05-12T18:20:52.115245Z",
     "iopub.status.idle": "2025-05-12T18:20:52.126087Z",
     "shell.execute_reply": "2025-05-12T18:20:52.125775Z",
     "shell.execute_reply.started": "2025-05-12T18:20:52.115536Z"
    }
   },
   "outputs": [
    {
     "data": {
      "text/html": [
       "<div>\n",
       "<style scoped>\n",
       "    .dataframe tbody tr th:only-of-type {\n",
       "        vertical-align: middle;\n",
       "    }\n",
       "\n",
       "    .dataframe tbody tr th {\n",
       "        vertical-align: top;\n",
       "    }\n",
       "\n",
       "    .dataframe thead th {\n",
       "        text-align: right;\n",
       "    }\n",
       "</style>\n",
       "<table border=\"1\" class=\"dataframe\">\n",
       "  <thead>\n",
       "    <tr style=\"text-align: right;\">\n",
       "      <th></th>\n",
       "      <th>B</th>\n",
       "      <th>DC</th>\n",
       "      <th>ILC</th>\n",
       "      <th>Mono</th>\n",
       "      <th>Plasma</th>\n",
       "      <th>T_CD4_Naive</th>\n",
       "      <th>T_CD4_NonNaive</th>\n",
       "      <th>T_CD8_Naive</th>\n",
       "      <th>T_CD8_NonNaive</th>\n",
       "      <th>UTC</th>\n",
       "      <th>pDC</th>\n",
       "      <th>Majority vote</th>\n",
       "      <th>disease_true</th>\n",
       "    </tr>\n",
       "    <tr>\n",
       "      <th>sampleID</th>\n",
       "      <th></th>\n",
       "      <th></th>\n",
       "      <th></th>\n",
       "      <th></th>\n",
       "      <th></th>\n",
       "      <th></th>\n",
       "      <th></th>\n",
       "      <th></th>\n",
       "      <th></th>\n",
       "      <th></th>\n",
       "      <th></th>\n",
       "      <th></th>\n",
       "      <th></th>\n",
       "    </tr>\n",
       "  </thead>\n",
       "  <tbody>\n",
       "    <tr>\n",
       "      <th>10XGenomics_10XHC1_T0</th>\n",
       "      <td>NPC</td>\n",
       "      <td>HNSCC</td>\n",
       "      <td>HNSCC</td>\n",
       "      <td>healthy</td>\n",
       "      <td>NPC</td>\n",
       "      <td>healthy</td>\n",
       "      <td>healthy</td>\n",
       "      <td>healthy</td>\n",
       "      <td>healthy</td>\n",
       "      <td>healthy</td>\n",
       "      <td>healthy</td>\n",
       "      <td>healthy</td>\n",
       "      <td>healthy</td>\n",
       "    </tr>\n",
       "    <tr>\n",
       "      <th>10XGenomics_10XHC2_T0</th>\n",
       "      <td>NPC</td>\n",
       "      <td>HNSCC</td>\n",
       "      <td>HNSCC</td>\n",
       "      <td>healthy</td>\n",
       "      <td>SLE</td>\n",
       "      <td>healthy</td>\n",
       "      <td>NPC</td>\n",
       "      <td>healthy</td>\n",
       "      <td>healthy</td>\n",
       "      <td>healthy</td>\n",
       "      <td>healthy</td>\n",
       "      <td>healthy</td>\n",
       "      <td>healthy</td>\n",
       "    </tr>\n",
       "    <tr>\n",
       "      <th>10XGenomics_10XHC3_T0</th>\n",
       "      <td>NPC</td>\n",
       "      <td>healthy</td>\n",
       "      <td>healthy</td>\n",
       "      <td>healthy</td>\n",
       "      <td>SLE</td>\n",
       "      <td>NPC</td>\n",
       "      <td>NPC</td>\n",
       "      <td>NPC</td>\n",
       "      <td>HBV</td>\n",
       "      <td>NPC</td>\n",
       "      <td>HNSCC</td>\n",
       "      <td>NPC</td>\n",
       "      <td>healthy</td>\n",
       "    </tr>\n",
       "    <tr>\n",
       "      <th>10XGenomics_10XHC4_T0</th>\n",
       "      <td>NPC</td>\n",
       "      <td>healthy</td>\n",
       "      <td>healthy</td>\n",
       "      <td>healthy</td>\n",
       "      <td>healthy</td>\n",
       "      <td>healthy</td>\n",
       "      <td>healthy</td>\n",
       "      <td>healthy</td>\n",
       "      <td>healthy</td>\n",
       "      <td>NPC</td>\n",
       "      <td>healthy</td>\n",
       "      <td>healthy</td>\n",
       "      <td>healthy</td>\n",
       "    </tr>\n",
       "    <tr>\n",
       "      <th>10XGenomics_10XHC5_T0</th>\n",
       "      <td>HNSCC</td>\n",
       "      <td>healthy</td>\n",
       "      <td>HNSCC</td>\n",
       "      <td>healthy</td>\n",
       "      <td>SLE</td>\n",
       "      <td>healthy</td>\n",
       "      <td>healthy</td>\n",
       "      <td>healthy</td>\n",
       "      <td>healthy</td>\n",
       "      <td>healthy</td>\n",
       "      <td>healthy</td>\n",
       "      <td>healthy</td>\n",
       "      <td>healthy</td>\n",
       "    </tr>\n",
       "    <tr>\n",
       "      <th>...</th>\n",
       "      <td>...</td>\n",
       "      <td>...</td>\n",
       "      <td>...</td>\n",
       "      <td>...</td>\n",
       "      <td>...</td>\n",
       "      <td>...</td>\n",
       "      <td>...</td>\n",
       "      <td>...</td>\n",
       "      <td>...</td>\n",
       "      <td>...</td>\n",
       "      <td>...</td>\n",
       "      <td>...</td>\n",
       "      <td>...</td>\n",
       "    </tr>\n",
       "    <tr>\n",
       "      <th>Savage2021_BRISL5_T0</th>\n",
       "      <td>HNSCC</td>\n",
       "      <td>HNSCC</td>\n",
       "      <td>HNSCC</td>\n",
       "      <td>COVID</td>\n",
       "      <td>HNSCC</td>\n",
       "      <td>HNSCC</td>\n",
       "      <td>COVID</td>\n",
       "      <td>COVID</td>\n",
       "      <td>COVID</td>\n",
       "      <td>COVID</td>\n",
       "      <td>HNSCC</td>\n",
       "      <td>HNSCC</td>\n",
       "      <td>SLE</td>\n",
       "    </tr>\n",
       "    <tr>\n",
       "      <th>Savage2021_BRISL6_T0</th>\n",
       "      <td>HNSCC</td>\n",
       "      <td>HNSCC</td>\n",
       "      <td>HNSCC</td>\n",
       "      <td>healthy</td>\n",
       "      <td>HNSCC</td>\n",
       "      <td>healthy</td>\n",
       "      <td>HNSCC</td>\n",
       "      <td>healthy</td>\n",
       "      <td>HNSCC</td>\n",
       "      <td>HNSCC</td>\n",
       "      <td>healthy</td>\n",
       "      <td>HNSCC</td>\n",
       "      <td>SLE</td>\n",
       "    </tr>\n",
       "    <tr>\n",
       "      <th>Savage2021_BRISL7_T0</th>\n",
       "      <td>HNSCC</td>\n",
       "      <td>HNSCC</td>\n",
       "      <td>HNSCC</td>\n",
       "      <td>HNSCC</td>\n",
       "      <td>HNSCC</td>\n",
       "      <td>healthy</td>\n",
       "      <td>NPC</td>\n",
       "      <td>healthy</td>\n",
       "      <td>healthy</td>\n",
       "      <td>HBV</td>\n",
       "      <td>healthy</td>\n",
       "      <td>HNSCC</td>\n",
       "      <td>SLE</td>\n",
       "    </tr>\n",
       "    <tr>\n",
       "      <th>Savage2021_PIDA_T0</th>\n",
       "      <td>HIV</td>\n",
       "      <td>HIV</td>\n",
       "      <td>healthy</td>\n",
       "      <td>healthy</td>\n",
       "      <td>healthy</td>\n",
       "      <td>healthy</td>\n",
       "      <td>HIV</td>\n",
       "      <td>healthy</td>\n",
       "      <td>HIV</td>\n",
       "      <td>healthy</td>\n",
       "      <td>healthy</td>\n",
       "      <td>healthy</td>\n",
       "      <td>healthy</td>\n",
       "    </tr>\n",
       "    <tr>\n",
       "      <th>Savage2021_PIDB_T0</th>\n",
       "      <td>healthy</td>\n",
       "      <td>HIV</td>\n",
       "      <td>healthy</td>\n",
       "      <td>HIV</td>\n",
       "      <td>healthy</td>\n",
       "      <td>healthy</td>\n",
       "      <td>healthy</td>\n",
       "      <td>healthy</td>\n",
       "      <td>HIV</td>\n",
       "      <td>healthy</td>\n",
       "      <td>healthy</td>\n",
       "      <td>healthy</td>\n",
       "      <td>healthy</td>\n",
       "    </tr>\n",
       "  </tbody>\n",
       "</table>\n",
       "<p>86 rows × 13 columns</p>\n",
       "</div>"
      ],
      "text/plain": [
       "                             B       DC      ILC     Mono   Plasma  \\\n",
       "sampleID                                                             \n",
       "10XGenomics_10XHC1_T0      NPC    HNSCC    HNSCC  healthy      NPC   \n",
       "10XGenomics_10XHC2_T0      NPC    HNSCC    HNSCC  healthy      SLE   \n",
       "10XGenomics_10XHC3_T0      NPC  healthy  healthy  healthy      SLE   \n",
       "10XGenomics_10XHC4_T0      NPC  healthy  healthy  healthy  healthy   \n",
       "10XGenomics_10XHC5_T0    HNSCC  healthy    HNSCC  healthy      SLE   \n",
       "...                        ...      ...      ...      ...      ...   \n",
       "Savage2021_BRISL5_T0     HNSCC    HNSCC    HNSCC    COVID    HNSCC   \n",
       "Savage2021_BRISL6_T0     HNSCC    HNSCC    HNSCC  healthy    HNSCC   \n",
       "Savage2021_BRISL7_T0     HNSCC    HNSCC    HNSCC    HNSCC    HNSCC   \n",
       "Savage2021_PIDA_T0         HIV      HIV  healthy  healthy  healthy   \n",
       "Savage2021_PIDB_T0     healthy      HIV  healthy      HIV  healthy   \n",
       "\n",
       "                      T_CD4_Naive T_CD4_NonNaive T_CD8_Naive T_CD8_NonNaive  \\\n",
       "sampleID                                                                      \n",
       "10XGenomics_10XHC1_T0     healthy        healthy     healthy        healthy   \n",
       "10XGenomics_10XHC2_T0     healthy            NPC     healthy        healthy   \n",
       "10XGenomics_10XHC3_T0         NPC            NPC         NPC            HBV   \n",
       "10XGenomics_10XHC4_T0     healthy        healthy     healthy        healthy   \n",
       "10XGenomics_10XHC5_T0     healthy        healthy     healthy        healthy   \n",
       "...                           ...            ...         ...            ...   \n",
       "Savage2021_BRISL5_T0        HNSCC          COVID       COVID          COVID   \n",
       "Savage2021_BRISL6_T0      healthy          HNSCC     healthy          HNSCC   \n",
       "Savage2021_BRISL7_T0      healthy            NPC     healthy        healthy   \n",
       "Savage2021_PIDA_T0        healthy            HIV     healthy            HIV   \n",
       "Savage2021_PIDB_T0        healthy        healthy     healthy            HIV   \n",
       "\n",
       "                           UTC      pDC Majority vote disease_true  \n",
       "sampleID                                                            \n",
       "10XGenomics_10XHC1_T0  healthy  healthy       healthy      healthy  \n",
       "10XGenomics_10XHC2_T0  healthy  healthy       healthy      healthy  \n",
       "10XGenomics_10XHC3_T0      NPC    HNSCC           NPC      healthy  \n",
       "10XGenomics_10XHC4_T0      NPC  healthy       healthy      healthy  \n",
       "10XGenomics_10XHC5_T0  healthy  healthy       healthy      healthy  \n",
       "...                        ...      ...           ...          ...  \n",
       "Savage2021_BRISL5_T0     COVID    HNSCC         HNSCC          SLE  \n",
       "Savage2021_BRISL6_T0     HNSCC  healthy         HNSCC          SLE  \n",
       "Savage2021_BRISL7_T0       HBV  healthy         HNSCC          SLE  \n",
       "Savage2021_PIDA_T0     healthy  healthy       healthy      healthy  \n",
       "Savage2021_PIDB_T0     healthy  healthy       healthy      healthy  \n",
       "\n",
       "[86 rows x 13 columns]"
      ]
     },
     "execution_count": 43,
     "metadata": {},
     "output_type": "execute_result"
    }
   ],
   "source": [
    "labels_df = pd.read_pickle(pt_i)\n",
    "labels_df.rename({'majority_pred':'Majority vote', 'disease':'disease_true'}, axis=1, inplace=True)\n",
    "labels_df.columns = [c.replace('disease_pred_','') for c in labels_df.columns]\n",
    "labels_df"
   ]
  },
  {
   "cell_type": "markdown",
   "id": "5f81c4c4-29a6-4167-ac7d-da89941cb3e3",
   "metadata": {},
   "source": [
    "**Considering all samples**"
   ]
  },
  {
   "cell_type": "code",
   "execution_count": 44,
   "id": "37959365-acb1-4bac-b504-a03ae1d154dc",
   "metadata": {
    "execution": {
     "iopub.execute_input": "2025-05-12T18:20:52.447650Z",
     "iopub.status.busy": "2025-05-12T18:20:52.447274Z",
     "iopub.status.idle": "2025-05-12T18:20:52.460570Z",
     "shell.execute_reply": "2025-05-12T18:20:52.460250Z",
     "shell.execute_reply.started": "2025-05-12T18:20:52.447634Z"
    }
   },
   "outputs": [
    {
     "name": "stdout",
     "output_type": "stream",
     "text": [
      "Majority Voting BAS: 0.24318321078431374\n",
      "Majority Voting Weighetd F1: 0.4700724361418223\n",
      "Majority Voting MCC: 0.3808385832209832\n",
      "Majority Voting Weighet precision: 0.4625656414103526\n",
      "Majority Voting Weighet recall: 0.5\n",
      "Majority Voting Weighet specificity: 0.9333117070767813\n"
     ]
    }
   ],
   "source": [
    "print(f\"Majority Voting BAS: {balanced_accuracy_score(y_pred=labels_df['Majority vote'], y_true=labels_df.disease_true)}\")\n",
    "print(f\"Majority Voting Weighetd F1: {f1_score(y_pred=labels_df['Majority vote'], y_true=labels_df.disease_true, average='weighted')}\")\n",
    "print(f\"Majority Voting MCC: {matthews_corrcoef(y_pred=labels_df['Majority vote'], y_true=labels_df.disease_true)}\")\n",
    "\n",
    "# Additional metrics\n",
    "Wprecision,Wrecall,Wspecifitity = get_add_metric(disease_pred=labels_df['Majority vote'], disease_true= labels_df.disease_true)\n",
    "\n",
    "print(f\"Majority Voting Weighet precision: {Wprecision}\")\n",
    "print(f\"Majority Voting Weighet recall: {Wrecall}\")\n",
    "print(f\"Majority Voting Weighet specificity: {Wspecifitity}\")"
   ]
  },
  {
   "cell_type": "code",
   "execution_count": 45,
   "id": "25a85343-d731-4361-9a83-c4bf6fc79d90",
   "metadata": {
    "execution": {
     "iopub.execute_input": "2025-05-12T18:20:52.617217Z",
     "iopub.status.busy": "2025-05-12T18:20:52.616923Z",
     "iopub.status.idle": "2025-05-12T18:20:52.624693Z",
     "shell.execute_reply": "2025-05-12T18:20:52.624381Z",
     "shell.execute_reply.started": "2025-05-12T18:20:52.617203Z"
    }
   },
   "outputs": [],
   "source": [
    "with open(here(f\"{M_dir}/info.txt\"), 'a') as f:\n",
    "    f.writelines(f\"Majority Voting BAS: {balanced_accuracy_score(y_pred=labels_df['Majority vote'], y_true=labels_df.disease_true)}\\n\")\n",
    "    f.writelines(f\"Majority Voting Weighetd F1: {f1_score(y_pred=labels_df['Majority vote'], y_true=labels_df.disease_true, average='weighted')}\\n\")\n"
   ]
  },
  {
   "cell_type": "code",
   "execution_count": 46,
   "id": "715b20e9-077f-4e95-a8d9-f3965b018610",
   "metadata": {
    "execution": {
     "iopub.execute_input": "2025-05-12T18:20:53.047607Z",
     "iopub.status.busy": "2025-05-12T18:20:53.047393Z",
     "iopub.status.idle": "2025-05-12T18:20:53.051195Z",
     "shell.execute_reply": "2025-05-12T18:20:53.050904Z",
     "shell.execute_reply.started": "2025-05-12T18:20:53.047593Z"
    }
   },
   "outputs": [
    {
     "data": {
      "text/plain": [
       "B                 0\n",
       "DC                0\n",
       "ILC               0\n",
       "Mono              0\n",
       "Plasma            5\n",
       "T_CD4_Naive       0\n",
       "T_CD4_NonNaive    0\n",
       "T_CD8_Naive       0\n",
       "T_CD8_NonNaive    0\n",
       "UTC               0\n",
       "pDC               9\n",
       "Majority vote     0\n",
       "disease_true      0\n",
       "dtype: int64"
      ]
     },
     "execution_count": 46,
     "metadata": {},
     "output_type": "execute_result"
    }
   ],
   "source": [
    "labels_df.isna().sum()"
   ]
  },
  {
   "cell_type": "code",
   "execution_count": 47,
   "id": "74b9ed79-dfbd-47b4-8472-b485c0f05ca6",
   "metadata": {
    "execution": {
     "iopub.execute_input": "2025-05-12T18:20:53.384641Z",
     "iopub.status.busy": "2025-05-12T18:20:53.384419Z",
     "iopub.status.idle": "2025-05-12T18:20:53.394214Z",
     "shell.execute_reply": "2025-05-12T18:20:53.393895Z",
     "shell.execute_reply.started": "2025-05-12T18:20:53.384626Z"
    }
   },
   "outputs": [
    {
     "data": {
      "text/html": [
       "<div>\n",
       "<style scoped>\n",
       "    .dataframe tbody tr th:only-of-type {\n",
       "        vertical-align: middle;\n",
       "    }\n",
       "\n",
       "    .dataframe tbody tr th {\n",
       "        vertical-align: top;\n",
       "    }\n",
       "\n",
       "    .dataframe thead th {\n",
       "        text-align: right;\n",
       "    }\n",
       "</style>\n",
       "<table border=\"1\" class=\"dataframe\">\n",
       "  <thead>\n",
       "    <tr style=\"text-align: right;\">\n",
       "      <th></th>\n",
       "      <th>sampleID</th>\n",
       "      <th>disease_true</th>\n",
       "      <th>cell_type</th>\n",
       "      <th>disease_pred</th>\n",
       "    </tr>\n",
       "  </thead>\n",
       "  <tbody>\n",
       "    <tr>\n",
       "      <th>0</th>\n",
       "      <td>10XGenomics_10XHC1_T0</td>\n",
       "      <td>healthy</td>\n",
       "      <td>B</td>\n",
       "      <td>NPC</td>\n",
       "    </tr>\n",
       "    <tr>\n",
       "      <th>1</th>\n",
       "      <td>10XGenomics_10XHC2_T0</td>\n",
       "      <td>healthy</td>\n",
       "      <td>B</td>\n",
       "      <td>NPC</td>\n",
       "    </tr>\n",
       "    <tr>\n",
       "      <th>2</th>\n",
       "      <td>10XGenomics_10XHC3_T0</td>\n",
       "      <td>healthy</td>\n",
       "      <td>B</td>\n",
       "      <td>NPC</td>\n",
       "    </tr>\n",
       "    <tr>\n",
       "      <th>3</th>\n",
       "      <td>10XGenomics_10XHC4_T0</td>\n",
       "      <td>healthy</td>\n",
       "      <td>B</td>\n",
       "      <td>NPC</td>\n",
       "    </tr>\n",
       "    <tr>\n",
       "      <th>4</th>\n",
       "      <td>10XGenomics_10XHC5_T0</td>\n",
       "      <td>healthy</td>\n",
       "      <td>B</td>\n",
       "      <td>HNSCC</td>\n",
       "    </tr>\n",
       "    <tr>\n",
       "      <th>...</th>\n",
       "      <td>...</td>\n",
       "      <td>...</td>\n",
       "      <td>...</td>\n",
       "      <td>...</td>\n",
       "    </tr>\n",
       "    <tr>\n",
       "      <th>1027</th>\n",
       "      <td>Savage2021_BRISL5_T0</td>\n",
       "      <td>SLE</td>\n",
       "      <td>Majority vote</td>\n",
       "      <td>HNSCC</td>\n",
       "    </tr>\n",
       "    <tr>\n",
       "      <th>1028</th>\n",
       "      <td>Savage2021_BRISL6_T0</td>\n",
       "      <td>SLE</td>\n",
       "      <td>Majority vote</td>\n",
       "      <td>HNSCC</td>\n",
       "    </tr>\n",
       "    <tr>\n",
       "      <th>1029</th>\n",
       "      <td>Savage2021_BRISL7_T0</td>\n",
       "      <td>SLE</td>\n",
       "      <td>Majority vote</td>\n",
       "      <td>HNSCC</td>\n",
       "    </tr>\n",
       "    <tr>\n",
       "      <th>1030</th>\n",
       "      <td>Savage2021_PIDA_T0</td>\n",
       "      <td>healthy</td>\n",
       "      <td>Majority vote</td>\n",
       "      <td>healthy</td>\n",
       "    </tr>\n",
       "    <tr>\n",
       "      <th>1031</th>\n",
       "      <td>Savage2021_PIDB_T0</td>\n",
       "      <td>healthy</td>\n",
       "      <td>Majority vote</td>\n",
       "      <td>healthy</td>\n",
       "    </tr>\n",
       "  </tbody>\n",
       "</table>\n",
       "<p>1032 rows × 4 columns</p>\n",
       "</div>"
      ],
      "text/plain": [
       "                   sampleID disease_true      cell_type disease_pred\n",
       "0     10XGenomics_10XHC1_T0      healthy              B          NPC\n",
       "1     10XGenomics_10XHC2_T0      healthy              B          NPC\n",
       "2     10XGenomics_10XHC3_T0      healthy              B          NPC\n",
       "3     10XGenomics_10XHC4_T0      healthy              B          NPC\n",
       "4     10XGenomics_10XHC5_T0      healthy              B        HNSCC\n",
       "...                     ...          ...            ...          ...\n",
       "1027   Savage2021_BRISL5_T0          SLE  Majority vote        HNSCC\n",
       "1028   Savage2021_BRISL6_T0          SLE  Majority vote        HNSCC\n",
       "1029   Savage2021_BRISL7_T0          SLE  Majority vote        HNSCC\n",
       "1030     Savage2021_PIDA_T0      healthy  Majority vote      healthy\n",
       "1031     Savage2021_PIDB_T0      healthy  Majority vote      healthy\n",
       "\n",
       "[1032 rows x 4 columns]"
      ]
     },
     "execution_count": 47,
     "metadata": {},
     "output_type": "execute_result"
    }
   ],
   "source": [
    "if embedded_space == 'sample':\n",
    "    labelsMelt = labels_df.melt(value_vars = ['sample', 'Majority vote'], \n",
    "                                id_vars = ['disease_true'], \n",
    "                                var_name = 'cell_type', value_name= 'disease_pred', ignore_index=False).reset_index()\n",
    "    labelsMelt['disease_true'] = labelsMelt['disease_true'].astype(str)\n",
    "    labelsMelt\n",
    "else:\n",
    "    labelsMelt = labels_df.melt(value_vars = ['B', 'DC', 'ILC', 'Mono', 'Plasma', 'T_CD4_Naive', 'T_CD4_NonNaive',\n",
    "                                              'T_CD8_Naive', 'T_CD8_NonNaive', 'UTC', 'pDC', 'Majority vote'], \n",
    "                                id_vars = ['disease_true'], \n",
    "                                var_name = 'cell_type', value_name= 'disease_pred', ignore_index=False).reset_index()\n",
    "    labelsMelt['disease_true'] = labelsMelt['disease_true'].astype(str)\n",
    "labelsMelt   "
   ]
  },
  {
   "cell_type": "markdown",
   "id": "4d59f95e-a428-4018-9b6b-d74827224188",
   "metadata": {},
   "source": [
    "### Table with F1, precision, recall, and accuracy score per class"
   ]
  },
  {
   "cell_type": "code",
   "execution_count": 48,
   "id": "72e07f7e-a41d-49a0-a353-baa284d39751",
   "metadata": {
    "execution": {
     "iopub.execute_input": "2025-05-12T18:20:54.091226Z",
     "iopub.status.busy": "2025-05-12T18:20:54.090692Z",
     "iopub.status.idle": "2025-05-12T18:20:54.439363Z",
     "shell.execute_reply": "2025-05-12T18:20:54.439031Z",
     "shell.execute_reply.started": "2025-05-12T18:20:54.091210Z"
    }
   },
   "outputs": [
    {
     "data": {
      "text/html": [
       "<div>\n",
       "<style scoped>\n",
       "    .dataframe tbody tr th:only-of-type {\n",
       "        vertical-align: middle;\n",
       "    }\n",
       "\n",
       "    .dataframe tbody tr th {\n",
       "        vertical-align: top;\n",
       "    }\n",
       "\n",
       "    .dataframe thead th {\n",
       "        text-align: right;\n",
       "    }\n",
       "</style>\n",
       "<table border=\"1\" class=\"dataframe\">\n",
       "  <thead>\n",
       "    <tr style=\"text-align: right;\">\n",
       "      <th></th>\n",
       "      <th>metric</th>\n",
       "      <th>stratification</th>\n",
       "      <th>healthy</th>\n",
       "      <th>RA</th>\n",
       "      <th>CD</th>\n",
       "      <th>SLE</th>\n",
       "      <th>cirrhosis</th>\n",
       "      <th>sepsis</th>\n",
       "      <th>HIV</th>\n",
       "      <th>COVID</th>\n",
       "    </tr>\n",
       "  </thead>\n",
       "  <tbody>\n",
       "    <tr>\n",
       "      <th>0</th>\n",
       "      <td>recall_score</td>\n",
       "      <td>B</td>\n",
       "      <td>0.235294</td>\n",
       "      <td>0.75000</td>\n",
       "      <td>0.0</td>\n",
       "      <td>0.166667</td>\n",
       "      <td>0.0</td>\n",
       "      <td>0.0</td>\n",
       "      <td>0.0</td>\n",
       "      <td>0.00</td>\n",
       "    </tr>\n",
       "    <tr>\n",
       "      <th>1</th>\n",
       "      <td>recall_score</td>\n",
       "      <td>DC</td>\n",
       "      <td>0.529412</td>\n",
       "      <td>0.90625</td>\n",
       "      <td>0.0</td>\n",
       "      <td>0.166667</td>\n",
       "      <td>0.0</td>\n",
       "      <td>0.0</td>\n",
       "      <td>0.0</td>\n",
       "      <td>0.00</td>\n",
       "    </tr>\n",
       "    <tr>\n",
       "      <th>2</th>\n",
       "      <td>recall_score</td>\n",
       "      <td>ILC</td>\n",
       "      <td>0.470588</td>\n",
       "      <td>0.37500</td>\n",
       "      <td>0.0</td>\n",
       "      <td>0.333333</td>\n",
       "      <td>0.0</td>\n",
       "      <td>0.0</td>\n",
       "      <td>0.0</td>\n",
       "      <td>0.00</td>\n",
       "    </tr>\n",
       "    <tr>\n",
       "      <th>3</th>\n",
       "      <td>recall_score</td>\n",
       "      <td>Mono</td>\n",
       "      <td>0.823529</td>\n",
       "      <td>0.43750</td>\n",
       "      <td>0.0</td>\n",
       "      <td>0.166667</td>\n",
       "      <td>0.0</td>\n",
       "      <td>0.0</td>\n",
       "      <td>0.0</td>\n",
       "      <td>0.25</td>\n",
       "    </tr>\n",
       "    <tr>\n",
       "      <th>4</th>\n",
       "      <td>recall_score</td>\n",
       "      <td>Plasma</td>\n",
       "      <td>0.352941</td>\n",
       "      <td>0.40625</td>\n",
       "      <td>0.0</td>\n",
       "      <td>0.000000</td>\n",
       "      <td>0.0</td>\n",
       "      <td>0.0</td>\n",
       "      <td>0.0</td>\n",
       "      <td>0.25</td>\n",
       "    </tr>\n",
       "  </tbody>\n",
       "</table>\n",
       "</div>"
      ],
      "text/plain": [
       "         metric stratification   healthy       RA   CD       SLE  cirrhosis  \\\n",
       "0  recall_score              B  0.235294  0.75000  0.0  0.166667        0.0   \n",
       "1  recall_score             DC  0.529412  0.90625  0.0  0.166667        0.0   \n",
       "2  recall_score            ILC  0.470588  0.37500  0.0  0.333333        0.0   \n",
       "3  recall_score           Mono  0.823529  0.43750  0.0  0.166667        0.0   \n",
       "4  recall_score         Plasma  0.352941  0.40625  0.0  0.000000        0.0   \n",
       "\n",
       "   sepsis  HIV  COVID  \n",
       "0     0.0  0.0   0.00  \n",
       "1     0.0  0.0   0.00  \n",
       "2     0.0  0.0   0.00  \n",
       "3     0.0  0.0   0.25  \n",
       "4     0.0  0.0   0.25  "
      ]
     },
     "execution_count": 48,
     "metadata": {},
     "output_type": "execute_result"
    }
   ],
   "source": [
    "MetricsDF = getClassMetricsDF(data = labelsMelt.fillna('na'), \n",
    "                              y_true_cn='disease_true', y_pred_cn='disease_pred', cell_type_cn='cell_type', \n",
    "                              disease_list=[d for d in diseases_palette.keys() if (d in labelsMelt.disease_true.unique())], \n",
    "                              include_aggregated=False)\n",
    "MetricsDF.head()"
   ]
  },
  {
   "cell_type": "code",
   "execution_count": 49,
   "id": "464e2b4a-7db2-43ee-ac5c-a17176655407",
   "metadata": {
    "execution": {
     "iopub.execute_input": "2025-05-12T18:20:54.440238Z",
     "iopub.status.busy": "2025-05-12T18:20:54.440040Z",
     "iopub.status.idle": "2025-05-12T18:20:54.546091Z",
     "shell.execute_reply": "2025-05-12T18:20:54.545739Z",
     "shell.execute_reply.started": "2025-05-12T18:20:54.440223Z"
    }
   },
   "outputs": [],
   "source": [
    "if query_dataset == 'EXTERNAL':\n",
    "    experiment = 'unseenStudies'\n",
    "else:\n",
    "    experiment = 'unseenPatients'\n",
    "\n",
    "if integration_method == 'scPoli':\n",
    "    with pd.ExcelWriter(here('03_downstream_analysis/metricXdisease.xlsx'), mode = 'a', if_sheet_exists = 'replace') as writer:  \n",
    "        MetricsDF.to_excel(writer, sheet_name=f'PatCl_{experiment}_{integration_method}_{embedded_space}_cellEmbDim{n_embedded}_patEmbDim{n_Patient_embedded}', index_label=None, index=False)\n",
    "else:\n",
    "    with pd.ExcelWriter(here('03_downstream_analysis/metricXdisease.xlsx'), mode = 'a', if_sheet_exists = 'replace') as writer:  \n",
    "        MetricsDF.to_excel(writer, sheet_name=f'PatCl_{experiment}_{integration_method}_embDim{n_embedded}', index_label=None, index=False)"
   ]
  },
  {
   "cell_type": "code",
   "execution_count": 52,
   "id": "3a0e8fd0-ca6a-49d0-8a32-7931d05b5327",
   "metadata": {
    "execution": {
     "iopub.execute_input": "2025-05-12T18:21:54.906235Z",
     "iopub.status.busy": "2025-05-12T18:21:54.905927Z",
     "iopub.status.idle": "2025-05-12T18:21:54.915231Z",
     "shell.execute_reply": "2025-05-12T18:21:54.914919Z",
     "shell.execute_reply.started": "2025-05-12T18:21:54.906219Z"
    }
   },
   "outputs": [],
   "source": [
    "MetricsDF.to_csv(os.path.join(here(M_dir), 'metricsXdisease.csv'))"
   ]
  },
  {
   "cell_type": "code",
   "execution_count": null,
   "id": "efbe473b-a266-432c-8503-aedb724a29eb",
   "metadata": {},
   "outputs": [],
   "source": []
  },
  {
   "cell_type": "code",
   "execution_count": 21,
   "id": "c4c379e6-0616-4fb9-a69b-0763de57d5b6",
   "metadata": {
    "execution": {
     "iopub.execute_input": "2025-05-12T17:55:15.407637Z",
     "iopub.status.busy": "2025-05-12T17:55:15.407401Z",
     "iopub.status.idle": "2025-05-12T17:55:15.423451Z",
     "shell.execute_reply": "2025-05-12T17:55:15.423129Z",
     "shell.execute_reply.started": "2025-05-12T17:55:15.407622Z"
    }
   },
   "outputs": [
    {
     "name": "stdout",
     "output_type": "stream",
     "text": [
      "overall BAS for cell-type: 0.17175662878787878\n",
      "overall W F1 for cell-type: 0.3602553607103618\n",
      "overall MCC for cell-type: 0.21609670344521173\n"
     ]
    }
   ],
   "source": [
    "print(f\"overall BAS for cell-type: {balanced_accuracy_score(labelsMelt.loc[labelsMelt['cell_type'] != 'Majority vote','disease_true'].astype(str),labelsMelt.loc[labelsMelt['cell_type'] != 'Majority vote','disease_pred'].astype(str))}\")\n",
    "\n",
    "print(f\"overall W F1 for cell-type: {f1_score(labelsMelt.loc[labelsMelt['cell_type'] != 'Majority vote','disease_true'].astype(str), labelsMelt.loc[labelsMelt['cell_type'] != 'Majority vote','disease_pred'].astype(str), average='weighted')}\")\n",
    "\n",
    "print(f\"overall MCC for cell-type: {matthews_corrcoef(labelsMelt.loc[labelsMelt['cell_type'] != 'Majority vote','disease_true'].astype(str),labelsMelt.loc[labelsMelt['cell_type'] != 'Majority vote','disease_pred'].astype(str))}\")\n",
    "\n"
   ]
  },
  {
   "cell_type": "code",
   "execution_count": 22,
   "id": "384a58c4-6b56-4487-992a-30fd502d9783",
   "metadata": {
    "execution": {
     "iopub.execute_input": "2025-05-12T17:55:17.292494Z",
     "iopub.status.busy": "2025-05-12T17:55:17.292270Z",
     "iopub.status.idle": "2025-05-12T17:55:17.295278Z",
     "shell.execute_reply": "2025-05-12T17:55:17.294965Z",
     "shell.execute_reply.started": "2025-05-12T17:55:17.292478Z"
    }
   },
   "outputs": [
    {
     "name": "stdout",
     "output_type": "stream",
     "text": [
      " Number of patients that were not classified due to undetermined majority vote result: 2\n"
     ]
    }
   ],
   "source": [
    "print(f\" Number of patients that were not classified due to undetermined majority vote result: {(labels_df['Majority vote'] == 'nan').sum()}\")"
   ]
  },
  {
   "cell_type": "markdown",
   "id": "f91a92f8-fe2f-414d-b5dd-e9871388ce71",
   "metadata": {},
   "source": [
    "### Weighted F1, Balanced Accuracy Score, Matthew coefficent score\n",
    "\n",
    "We compute those metrics for each cell-type, balacing the conditions"
   ]
  },
  {
   "cell_type": "code",
   "execution_count": 23,
   "id": "affd1c1d-bb7e-42c8-a321-40e5460047bb",
   "metadata": {
    "execution": {
     "iopub.execute_input": "2025-05-12T17:55:22.901079Z",
     "iopub.status.busy": "2025-05-12T17:55:22.900838Z",
     "iopub.status.idle": "2025-05-12T17:55:22.927473Z",
     "shell.execute_reply": "2025-05-12T17:55:22.927156Z",
     "shell.execute_reply.started": "2025-05-12T17:55:22.901063Z"
    }
   },
   "outputs": [],
   "source": [
    "cell_type_WF1 = (labelsMelt.groupby(['cell_type'])[['disease_true','disease_pred']]\n",
    "                 .apply(lambda x: (f1_score(x.disease_true.astype(str),\n",
    "                                           x.disease_pred.astype(str), average='weighted')))\n",
    "                ).reset_index()\n",
    "cell_type_WF1.rename({0:'W_F1'}, axis = 1, inplace=True)"
   ]
  },
  {
   "cell_type": "code",
   "execution_count": 24,
   "id": "c977aaf5-fc4a-4db0-81f3-57e801dd6ea6",
   "metadata": {
    "execution": {
     "iopub.execute_input": "2025-05-12T17:55:23.454037Z",
     "iopub.status.busy": "2025-05-12T17:55:23.453625Z",
     "iopub.status.idle": "2025-05-12T17:55:23.471348Z",
     "shell.execute_reply": "2025-05-12T17:55:23.471031Z",
     "shell.execute_reply.started": "2025-05-12T17:55:23.454022Z"
    }
   },
   "outputs": [],
   "source": [
    "cell_type_bas = (labelsMelt.groupby(['cell_type'])[['disease_true','disease_pred']]\n",
    "                 .apply(lambda x: (balanced_accuracy_score(x.disease_true.astype(str), \n",
    "                                                           x.disease_pred.astype(str))))\n",
    "                ).reset_index()\n",
    "cell_type_bas.rename({0:'BAS'}, axis = 1, inplace=True)\n"
   ]
  },
  {
   "cell_type": "markdown",
   "id": "90af994d-9b9e-4860-9bfc-80147793a034",
   "metadata": {
    "execution": {
     "iopub.execute_input": "2024-07-11T08:40:03.454440Z",
     "iopub.status.busy": "2024-07-11T08:40:03.454170Z",
     "iopub.status.idle": "2024-07-11T08:40:03.456775Z",
     "shell.execute_reply": "2024-07-11T08:40:03.456384Z",
     "shell.execute_reply.started": "2024-07-11T08:40:03.454426Z"
    }
   },
   "source": [
    "### F1, Precision, Recall\n",
    "\n",
    "We compute those metrics for each cell-type and each condition "
   ]
  },
  {
   "cell_type": "code",
   "execution_count": 25,
   "id": "582fa982-b179-47a3-a6b4-71538559c49a",
   "metadata": {
    "execution": {
     "iopub.execute_input": "2025-05-12T17:55:39.030802Z",
     "iopub.status.busy": "2025-05-12T17:55:39.030572Z",
     "iopub.status.idle": "2025-05-12T17:55:39.059571Z",
     "shell.execute_reply": "2025-05-12T17:55:39.059200Z",
     "shell.execute_reply.started": "2025-05-12T17:55:39.030787Z"
    }
   },
   "outputs": [],
   "source": [
    "cell_type_F1 = (labelsMelt.groupby(['cell_type'])[['disease_true','disease_pred']]\n",
    "                 .apply(lambda x: (f1_score(y_true = x.disease_true.astype(str), \n",
    "                                            y_pred = x.disease_pred.astype(str), labels=x.disease_true.unique(), average=None)))\n",
    "                ).reset_index()\n",
    "cell_type_F1.columns = ['cell_type','F1']\n",
    "cell_type_F1['disease_true'] = [labelsMelt.disease_true.unique().tolist()]*cell_type_F1.shape[0]\n",
    "cell_type_F1 = cell_type_F1.explode(['F1','disease_true'])"
   ]
  },
  {
   "cell_type": "markdown",
   "id": "cf325f8e-7cf0-4277-b915-3214dba24135",
   "metadata": {},
   "source": [
    "## Visualization"
   ]
  },
  {
   "cell_type": "code",
   "execution_count": 26,
   "id": "e41ba802-aafe-428f-b4c1-97633c95ee44",
   "metadata": {
    "execution": {
     "iopub.execute_input": "2025-05-12T17:55:43.212599Z",
     "iopub.status.busy": "2025-05-12T17:55:43.212192Z",
     "iopub.status.idle": "2025-05-12T17:55:43.220521Z",
     "shell.execute_reply": "2025-05-12T17:55:43.220209Z",
     "shell.execute_reply.started": "2025-05-12T17:55:43.212583Z"
    }
   },
   "outputs": [],
   "source": [
    "# ordering elements\n",
    "labelsMelt.disease_pred = labelsMelt.disease_pred.astype(str)\n",
    "labelsMelt.disease_pred[labelsMelt.disease_pred == 'nan'] = 'Na'\n",
    "\n",
    "elementList =  [d for d in set(labelsMelt.disease_true.tolist() + labelsMelt.disease_pred.tolist()) if (d != 'healthy' and d!='Na')]\n",
    "diseaseCatOrd = [diseaseCategories[d] for d in elementList]\n",
    "\n",
    "sortedIdx = sorted(range(len(diseaseCatOrd)), key=lambda index: diseaseCatOrd[index])\n",
    "\n",
    "disease_cat_ordDF = pd.DataFrame.from_dict({'elementList':elementList,'diseaseCatOrd':[diseaseCategories[d] for d in elementList]})\n",
    "disease_cat_ordDF = pd.concat((pd.DataFrame.from_dict({'elementList':['healthy'], 'diseaseCatOrd':['healthy']}), \n",
    "                               disease_cat_ordDF.iloc[sortedIdx,:].groupby('diseaseCatOrd').apply(lambda x: x.sort_values('elementList')).reset_index(drop=True),\n",
    "                              pd.DataFrame.from_dict({'elementList':['Na'], 'diseaseCatOrd':['Na']})),\n",
    "                              axis=0)"
   ]
  },
  {
   "cell_type": "markdown",
   "id": "fc8d680d-f763-45f6-9e21-9d3672466cfc",
   "metadata": {},
   "source": [
    "**Scatterplot over cell types**"
   ]
  },
  {
   "cell_type": "code",
   "execution_count": 28,
   "id": "a9459988-c178-4aa7-98d4-aa54a3514724",
   "metadata": {
    "execution": {
     "iopub.execute_input": "2025-05-12T17:55:55.909273Z",
     "iopub.status.busy": "2025-05-12T17:55:55.909027Z",
     "iopub.status.idle": "2025-05-12T17:55:57.724981Z",
     "shell.execute_reply": "2025-05-12T17:55:57.724643Z",
     "shell.execute_reply.started": "2025-05-12T17:55:55.909257Z"
    }
   },
   "outputs": [
    {
     "data": {
      "image/png": "[encoded data removed]",
      "text/plain": [
       "<Figure size 300x300 with 1 Axes>"
      ]
     },
     "metadata": {},
     "output_type": "display_data"
    }
   ],
   "source": [
    "if embedded_space !='sample':\n",
    "    plt.figure(figsize=(3,3))\n",
    "    g = sns.pointplot(cell_type_WF1, \n",
    "                x = 'cell_type', \n",
    "                hue = 'cell_type', \n",
    "                y = 'W_F1', \n",
    "                palette  = annotation_Level1_palette | {'Majority vote':'#535353'},\n",
    "                   order=['Majority vote'] + cell_type_order)\n",
    "\n",
    "    g.axvline(x=0.5, ymin=0, ymax=1, c=\"black\", ls='-', linewidth=0.8, zorder=0, clip_on=False)\n",
    "\n",
    "    g.set_xticks([], [])\n",
    "    \n",
    "    plt.ylabel('Weighted F1 score')\n",
    "    plt.xlabel('Cell types')\n",
    "    # plt.legend(loc='center left', bbox_to_anchor=(1.0, 0.5), ncol=2, fancybox=True)\n",
    "    plt.xticks(rotation=90)\n",
    "    \n",
    "    plt.savefig(here(f\"{M_dir}/referencebalanced_WF1_CTxDisease.pdf\"),\n",
    "    dpi=300,\n",
    "    bbox_inches='tight',\n",
    "    pad_inches=0.1\n",
    "    )\n",
    "    plt.show()"
   ]
  },
  {
   "cell_type": "markdown",
   "id": "c068b334-a005-43f6-84ea-7711f457411b",
   "metadata": {},
   "source": [
    "**Score for each cell-type and disease**\n",
    "\n",
    "after aggregating the prediction on each left-out split "
   ]
  },
  {
   "cell_type": "code",
   "execution_count": 29,
   "id": "ec9fd87f-4b00-4646-ae18-7197f64f64aa",
   "metadata": {
    "execution": {
     "iopub.execute_input": "2025-05-12T17:56:02.582355Z",
     "iopub.status.busy": "2025-05-12T17:56:02.581935Z",
     "iopub.status.idle": "2025-05-12T17:56:02.584344Z",
     "shell.execute_reply": "2025-05-12T17:56:02.584029Z",
     "shell.execute_reply.started": "2025-05-12T17:56:02.582337Z"
    }
   },
   "outputs": [],
   "source": [
    "import string"
   ]
  },
  {
   "cell_type": "code",
   "execution_count": 30,
   "id": "830de887-bc69-4c7a-86b0-ab2d65f79564",
   "metadata": {
    "execution": {
     "iopub.execute_input": "2025-05-12T17:56:04.951512Z",
     "iopub.status.busy": "2025-05-12T17:56:04.951267Z",
     "iopub.status.idle": "2025-05-12T17:56:05.420527Z",
     "shell.execute_reply": "2025-05-12T17:56:05.420170Z",
     "shell.execute_reply.started": "2025-05-12T17:56:04.951496Z"
    }
   },
   "outputs": [
    {
     "data": {
      "image/png": "[encoded data removed]",
      "text/plain": [
       "<Figure size 300x200 with 2 Axes>"
      ]
     },
     "metadata": {},
     "output_type": "display_data"
    }
   ],
   "source": [
    "data = cell_type_F1.query(\"cell_type != 'Majority vote'\").pivot(columns='disease_true', index = 'cell_type', values = 'F1').T.fillna(0)\n",
    "if embedded_space !='sample':\n",
    "\n",
    "    plt.figure(figsize=(3,2))\n",
    "    \n",
    "    g = sns.heatmap(data.loc[disease_cat_ordDF.elementList[disease_cat_ordDF.elementList.isin(data.index.tolist())],\n",
    "                    cell_type_order],square=False,vmin=0,vmax=1,cmap='inferno')\n",
    "\n",
    "    g.set_xticks(g.get_xticks(), [t.get_text().replace('_',' ') for t in g.get_xticklabels()])\n",
    "    g.set_yticks(g.get_yticks(), [[l[0].upper() + l[1:] for l in t.get_text().split()][0] for t in g.get_yticklabels()])\n",
    "\n",
    "    g.set_title('F1 score')\n",
    "    g.set_xlabel(\"\")\n",
    "    g.set_ylabel(\"\")\n",
    "    \n",
    "    plt.savefig(here(f\"{M_dir}/clusterMap_F1_CTxDisease_noMV.pdf\"),\n",
    "    dpi=300,\n",
    "    bbox_inches='tight',\n",
    "    pad_inches=0.1\n",
    "    )"
   ]
  },
  {
   "cell_type": "markdown",
   "id": "a0ae77cd-f6a8-4bab-be34-b3d80b98cc70",
   "metadata": {},
   "source": [
    "### Confusion Matrix"
   ]
  },
  {
   "cell_type": "markdown",
   "id": "8e863a5f-a5bb-41c6-854c-acb67e2aafca",
   "metadata": {},
   "source": [
    "#### Functions"
   ]
  },
  {
   "cell_type": "code",
   "execution_count": 26,
   "id": "63e4ab79-0bb2-4dab-981e-f1d605076c6c",
   "metadata": {
    "execution": {
     "iopub.execute_input": "2024-10-29T21:42:22.429442Z",
     "iopub.status.busy": "2024-10-29T21:42:22.429191Z",
     "iopub.status.idle": "2024-10-29T21:42:22.432966Z",
     "shell.execute_reply": "2024-10-29T21:42:22.432661Z",
     "shell.execute_reply.started": "2024-10-29T21:42:22.429427Z"
    }
   },
   "outputs": [],
   "source": [
    "# Computing the confusion matrix\n",
    "def getConfusionMatrix(predTestDF = None, predCol = 'y_pred', gtCol = 'y_test', normalize='columns'):\n",
    "\n",
    "    # normalize could be False, 'rows', or 'columns' (default).\n",
    "    \n",
    "    import pandas as pd\n",
    "\n",
    "    if normalize == False:\n",
    "        confusionMatrix = pd.crosstab(predTestDF[predCol], predTestDF[gtCol], dropna=False)\n",
    "    else:\n",
    "        confusionMatrix = pd.crosstab(predTestDF[predCol], predTestDF[gtCol], normalize=normalize, dropna=False)\n",
    "\n",
    "    if confusionMatrix.shape[0] < confusionMatrix.shape[1]:\n",
    "        for d in np.setdiff1d(confusionMatrix.columns.tolist(), confusionMatrix.index.tolist()):\n",
    "            confusionMatrix.loc[d,:] = 0\n",
    "    elif confusionMatrix.shape[0] > confusionMatrix.shape[1]:\n",
    "        for d in np.setdiff1d(confusionMatrix.index.tolist(),confusionMatrix.columns.tolist()):\n",
    "            confusionMatrix[d] = 0   \n",
    "\n",
    "    return(confusionMatrix)"
   ]
  },
  {
   "cell_type": "code",
   "execution_count": 27,
   "id": "4b2a2334-7000-45d7-929b-c08e9529aac1",
   "metadata": {
    "execution": {
     "iopub.execute_input": "2024-10-29T21:42:22.581267Z",
     "iopub.status.busy": "2024-10-29T21:42:22.581035Z",
     "iopub.status.idle": "2024-10-29T21:42:22.583324Z",
     "shell.execute_reply": "2024-10-29T21:42:22.582984Z",
     "shell.execute_reply.started": "2024-10-29T21:42:22.581253Z"
    }
   },
   "outputs": [],
   "source": [
    "def reorder_ConfMatrix(confusionMatrix=None, elementList = None):\n",
    "\n",
    "    confusionMatrix = confusionMatrix.reindex(elementList, axis=0).reindex(elementList, axis=1)\n",
    "\n",
    "    return(confusionMatrix)"
   ]
  },
  {
   "cell_type": "code",
   "execution_count": 28,
   "id": "1ee74a12-f72e-4632-ac0f-e4a232b1dd7f",
   "metadata": {
    "execution": {
     "iopub.execute_input": "2024-10-29T21:42:22.753438Z",
     "iopub.status.busy": "2024-10-29T21:42:22.753183Z",
     "iopub.status.idle": "2024-10-29T21:42:22.755477Z",
     "shell.execute_reply": "2024-10-29T21:42:22.755180Z",
     "shell.execute_reply.started": "2024-10-29T21:42:22.753425Z"
    }
   },
   "outputs": [],
   "source": [
    "def mask_entries(confusionMatrix=None, lowerThan = 0, cmap='viridis'):\n",
    "    confusionMatrix_nan = confusionMatrix.copy()\n",
    "    confusionMatrix_nan[confusionMatrix_nan <= lowerThan] = np.nan\n",
    "    return(confusionMatrix_nan)\n",
    "    "
   ]
  },
  {
   "cell_type": "markdown",
   "id": "0037f26a-0aab-4b2d-ae26-16ad32db5b29",
   "metadata": {},
   "source": [
    "#### Changing the PyComplexHeatmap code\n",
    "\n",
    "https://dingwb.github.io/PyComplexHeatmap/build/html/notebooks/composite_heatmaps.html#Composite-two-heatmaps-horizontally-for-mouse-DNA-methylation-array-dataset\n",
    "\n",
    "The following change is required to avoid reordering columns and rows. So, disease in the same category are close to each others"
   ]
  },
  {
   "cell_type": "code",
   "execution_count": 29,
   "id": "e70606ca-a1b0-4400-b9cc-0494f3cf54c2",
   "metadata": {
    "execution": {
     "iopub.execute_input": "2024-10-29T21:42:23.102772Z",
     "iopub.status.busy": "2024-10-29T21:42:23.102512Z",
     "iopub.status.idle": "2024-10-29T21:42:23.117359Z",
     "shell.execute_reply": "2024-10-29T21:42:23.117054Z",
     "shell.execute_reply.started": "2024-10-29T21:42:23.102747Z"
    }
   },
   "outputs": [],
   "source": [
    "def _reorder_rows(self):\n",
    "    self.row_split_dendrogram = False\n",
    "    if self.verbose >= 1:\n",
    "        print(\"Reordering rows..\")\n",
    "    if self.row_split is None and self.row_cluster:\n",
    "        self.calculate_row_dendrograms(\n",
    "            self.data2d\n",
    "        )  # xind=self.dendrogram_row.reordered_ind\n",
    "        self.row_order = [\n",
    "            self.dendrogram_row.dendrogram[\"ivl\"]\n",
    "        ]  # self.data2d.iloc[:, xind].columns.tolist()\n",
    "        return None\n",
    "    elif isinstance(self.row_split, int) and self.row_cluster:\n",
    "        self.calculate_row_dendrograms(self.data2d)\n",
    "        self.row_clusters = (\n",
    "            pd.Series(\n",
    "                hierarchy.fcluster(\n",
    "                    self.dendrogram_row.linkage,\n",
    "                    t=self.row_split,\n",
    "                    criterion=\"maxclust\",\n",
    "                ),\n",
    "                index=self.data2d.index.tolist(),\n",
    "            )\n",
    "            .to_frame(name=\"cluster\")\n",
    "            .groupby(\"cluster\")\n",
    "            .apply(lambda x: x.index.tolist())\n",
    "            .to_dict()\n",
    "        )\n",
    "        # index=self.dendrogram_row.dendrogram['ivl']).to_frame(name='cluster')\n",
    "\n",
    "    elif isinstance(self.row_split, (pd.Series, pd.DataFrame)):\n",
    "        if isinstance(self.row_split, pd.Series):\n",
    "            self.row_split = self.row_split.to_frame(name=self.row_split.name)\n",
    "        cols = self.row_split.columns.tolist()\n",
    "        row_clusters = self.row_split.groupby(cols, sort=False).apply(\n",
    "            lambda x: x.index.tolist()\n",
    "        )\n",
    "        if self.row_split_order is None:\n",
    "            self.row_split_order = row_clusters.index.tolist()\n",
    "        elif self.row_split_order == 'cluster_between_groups':\n",
    "            mat=pd.concat([\n",
    "                self.data2d.loc[rows].mean() for rows in row_clusters.tolist()],\n",
    "                          axis=1).T #columns are original columns\n",
    "            mat.index=row_clusters.index.tolist()\n",
    "            sizes=row_clusters.apply(lambda x:len(x)).tolist()\n",
    "            self.calculate_row_dendrograms(mat,sizes=sizes)\n",
    "            self.row_split_order = self.dendrogram_row.dendrogram[\"ivl\"]\n",
    "            self.row_split_dendrogram=self.dendrogram_row\n",
    "        self.row_clusters = row_clusters.loc[self.row_split_order].to_dict()\n",
    "    elif not self.row_cluster:\n",
    "        self.row_order = [self.data2d.index.tolist()]\n",
    "        return None\n",
    "    else:\n",
    "        raise TypeError(\"row_split must be integar or dataframe or series\")\n",
    "\n",
    "    self.row_order = []\n",
    "    self.dendrogram_rows = []\n",
    "    for i, cluster in enumerate(self.row_clusters):\n",
    "        rows = self.row_clusters[cluster]\n",
    "        if len(rows) <= 1:\n",
    "            self.row_order.append(rows)\n",
    "            self.dendrogram_rows.append(None)\n",
    "            continue\n",
    "        if self.row_cluster: #cluster within groups\n",
    "            self.calculate_row_dendrograms(self.data2d.loc[rows])\n",
    "            self.dendrogram_rows.append(self.dendrogram_row)\n",
    "            self.row_order.append(self.dendrogram_row.dendrogram[\"ivl\"])\n",
    "        else:\n",
    "            self.row_order.append(rows)\n",
    "\n",
    "def _reorder_cols(self):\n",
    "    self.col_split_dendrogram=False\n",
    "    if self.verbose >= 1:\n",
    "        print(\"Reordering cols..\")\n",
    "    if self.col_split is None and self.col_cluster:\n",
    "        self.calculate_col_dendrograms(self.data2d)\n",
    "        self.col_order = [\n",
    "            self.dendrogram_col.dendrogram[\"ivl\"]\n",
    "        ]  # self.data2d.iloc[:, xind].columns.tolist()\n",
    "        return None\n",
    "    elif isinstance(self.col_split, int) and self.col_cluster:\n",
    "        self.calculate_col_dendrograms(self.data2d)\n",
    "        self.col_clusters = (\n",
    "            pd.Series(\n",
    "                hierarchy.fcluster(\n",
    "                    self.dendrogram_col.linkage,\n",
    "                    t=self.col_split,\n",
    "                    criterion=\"maxclust\",\n",
    "                ),\n",
    "                index=self.data2d.columns.tolist(),\n",
    "            )\n",
    "            .to_frame(name=\"cluster\")\n",
    "            .groupby(\"cluster\")\n",
    "            .apply(lambda x: x.index.tolist())\n",
    "            .to_dict()\n",
    "        )\n",
    "        # index=self.dendrogram_col.dendrogram['ivl']).to_frame(name='cluster')\n",
    "\n",
    "    elif isinstance(self.col_split, (pd.Series, pd.DataFrame)):\n",
    "        if isinstance(self.col_split, pd.Series):\n",
    "            self.col_split = self.col_split.to_frame(name=self.col_split.name)\n",
    "        cols = self.col_split.columns.tolist()\n",
    "        col_clusters = self.col_split.groupby(cols, sort=False).apply(\n",
    "            lambda x: x.index.tolist()\n",
    "        )\n",
    "        if self.col_split_order is None:\n",
    "            self.col_split_order = col_clusters.index.tolist()\n",
    "        elif self.col_split_order == 'cluster_between_groups':\n",
    "            mat = pd.concat([\n",
    "                self.data2d.loc[:,cols].mean(axis=1) for cols in col_clusters.tolist()],\n",
    "                axis=1)  # index are original rows labels\n",
    "            mat.columns = col_clusters.index.tolist()\n",
    "            sizes = col_clusters.apply(lambda x: len(x)).tolist()\n",
    "            self.calculate_col_dendrograms(mat, sizes=sizes)\n",
    "            self.col_split_order = self.dendrogram_col.dendrogram[\"ivl\"]\n",
    "            self.col_split_dendrogram = self.dendrogram_col\n",
    "        self.col_clusters = col_clusters.loc[self.col_split_order].to_dict()\n",
    "    elif not self.col_cluster:\n",
    "        self.col_order = [self.data2d.columns.tolist()]\n",
    "        return None\n",
    "    else:\n",
    "        raise TypeError(\"row_split must be integar or dataframe or series\")\n",
    "\n",
    "    self.col_order = []\n",
    "    self.dendrogram_cols = []\n",
    "    for i, cluster in enumerate(self.col_clusters):\n",
    "        cols = self.col_clusters[cluster]\n",
    "        if len(cols) <= 1:\n",
    "            self.col_order.append(cols)\n",
    "            self.dendrogram_cols.append(None)\n",
    "            continue\n",
    "        if self.col_cluster:\n",
    "            self.calculate_col_dendrograms(self.data2d.loc[:, cols])\n",
    "            self.dendrogram_cols.append(self.dendrogram_col)\n",
    "            self.col_order.append(self.dendrogram_col.dendrogram[\"ivl\"])\n",
    "        else:\n",
    "            self.col_order.append(cols)\n",
    "\n",
    "def plot_matrix(self, row_order, col_order):\n",
    "    col_order=row_order.copy()\n",
    "    if self.verbose >= 1:\n",
    "        print(\"Plotting matrix..\")\n",
    "    nrows = len(row_order)\n",
    "    ncols = len(col_order)\n",
    "    self.wspace = (\n",
    "        self.col_split_gap\n",
    "        * mm2inch\n",
    "        * self.ax.figure.dpi\n",
    "        / (self.ax_heatmap.get_window_extent().width / ncols)\n",
    "    )  # 1mm=mm2inch inch\n",
    "    self.hspace = (\n",
    "        self.row_split_gap\n",
    "        * mm2inch\n",
    "        * self.ax.figure.dpi\n",
    "        / (self.ax_heatmap.get_window_extent().height / nrows)\n",
    "    )  # height\n",
    "    self.heatmap_gs = matplotlib.gridspec.GridSpecFromSubplotSpec(\n",
    "        nrows,\n",
    "        ncols,\n",
    "        hspace=self.hspace,\n",
    "        wspace=self.wspace,\n",
    "        subplot_spec=self.gs[1, 1],\n",
    "        height_ratios=[len(rows) for rows in row_order],\n",
    "        width_ratios=[len(cols) for cols in col_order],\n",
    "    )\n",
    "\n",
    "    annot = self.kwargs.pop(\"annot\", None)\n",
    "    if annot is None or annot is False:\n",
    "        pass\n",
    "    else:\n",
    "        if isinstance(annot, bool):\n",
    "            annot_data = self.data2d\n",
    "        else:\n",
    "            annot_data = annot.copy()\n",
    "            if annot_data.shape != self.data2d.shape:\n",
    "                err = \"`data` and `annot` must have same shape.\"\n",
    "                raise ValueError(err)\n",
    "\n",
    "    self.heatmap_axes = np.empty(shape=(nrows, ncols), dtype=object)\n",
    "    # if nrows > 1 or ncols > 1:\n",
    "    self.ax_heatmap.set_axis_off()\n",
    "    for i, rows in enumerate(row_order):\n",
    "        for j, cols in enumerate(col_order):\n",
    "            # print(i,j)\n",
    "            ax1 = self.ax_heatmap.figure.add_subplot(\n",
    "                self.heatmap_gs[i, j],\n",
    "                sharex=self.heatmap_axes[0, j],\n",
    "                sharey=self.heatmap_axes[i, 0],\n",
    "            )\n",
    "            ax1.set_xlim([0, len(rows)])\n",
    "            ax1.set_ylim([0, len(cols)])\n",
    "            annot1 = None if annot is None else annot_data.loc[rows, cols]\n",
    "            # heatmap(self.data2d.loc[rows, cols], ax=ax1, cbar=False, cmap=self.cmap,\n",
    "            #         cbar_kws=None, mask=self.mask.loc[rows, cols], rasterized=self.rasterized,\n",
    "            #         xticklabels='auto', yticklabels='auto', annot=annot1, **self.kwargs)\n",
    "            plot_heatmap(\n",
    "                self.data2d.loc[rows, cols],\n",
    "                ax=ax1,\n",
    "                cmap=self.cmap,\n",
    "                mask=self.mask.loc[rows, cols],\n",
    "                rasterized=self.rasterized,\n",
    "                xticklabels=\"auto\",\n",
    "                yticklabels=\"auto\",\n",
    "                annot=True,\n",
    "                **self.kwargs\n",
    "            )\n",
    "            self.heatmap_axes[i, j] = ax1\n",
    "            ax1.yaxis.label.set_visible(False)\n",
    "            ax1.xaxis.label.set_visible(False)\n",
    "            ax1.tick_params(\n",
    "                left=False,\n",
    "                right=False,\n",
    "                labelleft=False,\n",
    "                labelright=False,\n",
    "                top=False,\n",
    "                bottom=False,\n",
    "                labeltop=False,\n",
    "                labelbottom=False,\n",
    "            )\n"
   ]
  },
  {
   "cell_type": "code",
   "execution_count": 30,
   "id": "26833756-9a13-4cb4-ae4c-4f2875a1fd5f",
   "metadata": {
    "execution": {
     "iopub.execute_input": "2024-10-29T21:42:23.493586Z",
     "iopub.status.busy": "2024-10-29T21:42:23.493203Z",
     "iopub.status.idle": "2024-10-29T21:42:23.495516Z",
     "shell.execute_reply": "2024-10-29T21:42:23.495203Z",
     "shell.execute_reply.started": "2024-10-29T21:42:23.493570Z"
    }
   },
   "outputs": [],
   "source": [
    "ClusterMapPlotter._reorder_rows = _reorder_rows\n",
    "ClusterMapPlotter._reorder_cols = _reorder_cols\n",
    "# ClusterMapPlotter.plot_matrix = plot_matrix"
   ]
  },
  {
   "cell_type": "code",
   "execution_count": 31,
   "id": "c584290c-ef6a-45fa-84a2-e66ce6372657",
   "metadata": {
    "execution": {
     "iopub.execute_input": "2024-10-29T21:42:23.649157Z",
     "iopub.status.busy": "2024-10-29T21:42:23.648913Z",
     "iopub.status.idle": "2024-10-29T21:42:23.804100Z",
     "shell.execute_reply": "2024-10-29T21:42:23.803780Z",
     "shell.execute_reply.started": "2024-10-29T21:42:23.649143Z"
    }
   },
   "outputs": [],
   "source": [
    "MajorityVote_confusionMatrix = getConfusionMatrix(predTestDF= labelsMelt.query(\"cell_type == 'Majority vote'\"), predCol = 'disease_pred', gtCol = 'disease_true', normalize='columns')\n",
    "MajorityVote_confusionMatrix_ord = reorder_ConfMatrix(mask_entries(MajorityVote_confusionMatrix, lowerThan = -1), elementList=disease_cat_ordDF.elementList)"
   ]
  },
  {
   "cell_type": "code",
   "execution_count": 32,
   "id": "b6e3fe1b-00a6-4ee4-8394-25ad2a662887",
   "metadata": {
    "execution": {
     "iopub.execute_input": "2024-10-29T21:42:23.820307Z",
     "iopub.status.busy": "2024-10-29T21:42:23.820157Z",
     "iopub.status.idle": "2024-10-29T21:42:23.949289Z",
     "shell.execute_reply": "2024-10-29T21:42:23.948993Z",
     "shell.execute_reply.started": "2024-10-29T21:42:23.820295Z"
    }
   },
   "outputs": [],
   "source": [
    "MajorityVote_confusionMatrix_ord[MajorityVote_confusionMatrix_ord == 0.0] = np.nan\n",
    "MajorityVote_confusionMatrix_ord = MajorityVote_confusionMatrix_ord.dropna(how='all').dropna(how='all', axis=1).fillna(0)"
   ]
  },
  {
   "cell_type": "code",
   "execution_count": 33,
   "id": "8ae8ba3f-3cb7-4fb0-969c-4b32065d3c36",
   "metadata": {
    "execution": {
     "iopub.execute_input": "2024-10-29T21:42:23.987508Z",
     "iopub.status.busy": "2024-10-29T21:42:23.987315Z",
     "iopub.status.idle": "2024-10-29T21:42:23.992207Z",
     "shell.execute_reply": "2024-10-29T21:42:23.991905Z",
     "shell.execute_reply.started": "2024-10-29T21:42:23.987495Z"
    }
   },
   "outputs": [],
   "source": [
    "# rows\n",
    "rowConditions = MajorityVote_confusionMatrix_ord.index.tolist()\n",
    "rowAnnDF = pd.DataFrame.from_dict({'disease_cat' : [diseaseCategories[c] for c in rowConditions], 'disease':rowConditions}).set_index('disease')\n",
    "row_ann = HeatmapAnnotation(disease_group=anno_simple(rowAnnDF.disease_cat, colors=diseasesGroup_palette, rasterized=True, legend_kws={'color_text':False, 'labelcolor':'black'}),#, legend_kws  = {'title': 'Disease\\ngroups'}), \n",
    "                            axis=0,verbose=0, label_kws={'text':None}, plot=False, legend=False)\n",
    "\n",
    "# columns\n",
    "colConditions = MajorityVote_confusionMatrix_ord.columns.tolist()\n",
    "colAnnDF = pd.DataFrame.from_dict({'disease_cat' : [diseaseCategories[c] for c in colConditions], 'disease':colConditions}).set_index('disease')\n",
    "col_ann = HeatmapAnnotation(disease_group=anno_simple(colAnnDF.disease_cat, colors=diseasesGroup_palette, rasterized=True, legend_kws={'color_text':False, 'labelcolor':'black'}),#, legend_kws  = {'title': 'Disease\\ngroups'}), \n",
    "                            axis=1,verbose=0, label_kws={'text':None}, plot=False, legend=False)"
   ]
  },
  {
   "cell_type": "code",
   "execution_count": null,
   "id": "701819da-8f88-4ebe-a100-294f99b66fd1",
   "metadata": {},
   "outputs": [],
   "source": []
  },
  {
   "cell_type": "code",
   "execution_count": 35,
   "id": "dc5c80be-477c-4a8a-ba0f-7db6cd675dd6",
   "metadata": {
    "execution": {
     "iopub.execute_input": "2024-10-29T21:42:30.011082Z",
     "iopub.status.busy": "2024-10-29T21:42:30.010750Z",
     "iopub.status.idle": "2024-10-29T21:42:35.497661Z",
     "shell.execute_reply": "2024-10-29T21:42:35.497312Z",
     "shell.execute_reply.started": "2024-10-29T21:42:30.011067Z"
    }
   },
   "outputs": [
    {
     "name": "stdout",
     "output_type": "stream",
     "text": [
      "Incresing ncol\n"
     ]
    },
    {
     "data": {
      "image/png": "[encoded data removed]",
      "text/plain": [
       "<Figure size 300x350 with 42 Axes>"
      ]
     },
     "metadata": {},
     "output_type": "display_data"
    }
   ],
   "source": [
    "plt.figure(figsize=(3, MajorityVote_confusionMatrix_ord.shape[0] * .35))\n",
    "cm = ClusterMapPlotter(data=MajorityVote_confusionMatrix_ord.fillna(0), \n",
    "                       right_annotation=row_ann, \n",
    "                       top_annotation=col_ann, \n",
    "                       row_split=rowAnnDF.disease_cat, #row_split_order=diseaseCatOrd,\n",
    "                       col_split=colAnnDF.disease_cat, #col_split_order=diseaseCatOrd,\n",
    "                       show_rownames=True,show_colnames=True, xlabel = 'True conditions', ylabel = 'Predicted conditions',\n",
    "                       plot=True, fmt=None,\n",
    "                       row_cluster=False, col_cluster=False, standard_scale = None,\n",
    "                       row_dendrogram=False,col_dendrogram=False, verbose=False,\n",
    "                       cmap='inferno', rasterized=False, \n",
    "                       row_split_gap=1, col_split_gap=1, legend=False, label = 'Proportion\\n(col norm)', legend_vpad=5,\n",
    "                       vmax = 1, vmin = 0)\n",
    "\n",
    "plt.savefig(here(f\"{M_dir}/MajorityVote_confusionMatrix.pdf\"),\n",
    "dpi=300,\n",
    "bbox_inches='tight',\n",
    "pad_inches=0.1\n",
    ")"
   ]
  }
 ],
 "metadata": {
  "kernelspec": {
   "display_name": "Python 3 (ipykernel)",
   "language": "python",
   "name": "python3"
  },
  "language_info": {
   "codemirror_mode": {
    "name": "ipython",
    "version": 3
   },
   "file_extension": ".py",
   "mimetype": "text/x-python",
   "name": "python",
   "nbconvert_exporter": "python",
   "pygments_lexer": "ipython3",
   "version": "3.12.3"
  }
 },
 "nbformat": 4,
 "nbformat_minor": 5
}
