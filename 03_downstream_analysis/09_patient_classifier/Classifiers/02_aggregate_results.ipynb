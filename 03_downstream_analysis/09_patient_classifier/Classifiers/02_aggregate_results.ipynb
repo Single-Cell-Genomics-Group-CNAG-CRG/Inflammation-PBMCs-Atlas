{
 "cells": [
  {
   "cell_type": "code",
   "execution_count": 73,
   "id": "08398765-324f-43d3-9b53-bf9955894aea",
   "metadata": {
    "execution": {
     "iopub.execute_input": "2024-09-01T15:01:04.087258Z",
     "iopub.status.busy": "2024-09-01T15:01:04.086840Z",
     "iopub.status.idle": "2024-09-01T15:01:04.090373Z",
     "shell.execute_reply": "2024-09-01T15:01:04.089987Z",
     "shell.execute_reply.started": "2024-09-01T15:01:04.087241Z"
    }
   },
   "outputs": [],
   "source": [
    "import sys\n",
    "import os\n",
    "from glob import glob\n",
    "\n",
    "from pyprojroot import here\n",
    "\n",
    "import scanpy as sc\n",
    "\n",
    "from sklearn.metrics import balanced_accuracy_score as bas\n",
    "from sklearn.metrics import f1_score as f1\n",
    "from sklearn.metrics import matthews_corrcoef as mcc\n",
    "from sklearn.metrics import confusion_matrix\n",
    "\n",
    "import seaborn as sns\n",
    "\n",
    "import pandas as pd\n",
    "import numpy as np\n",
    "\n",
    "import PyComplexHeatmap as ch\n",
    "\n",
    "import matplotlib.pylab as plt\n",
    "\n",
    "import warnings\n",
    "warnings.filterwarnings(\"ignore\")\n",
    "\n",
    "from plottable import ColumnDefinition, Table\n",
    "from plottable.cmap import normed_cmap\n",
    "import matplotlib.pyplot as plt\n",
    "from matplotlib.colors import LinearSegmentedColormap"
   ]
  },
  {
   "cell_type": "code",
   "execution_count": 74,
   "id": "5fbf02a4-ad49-4998-aeb9-4126d181a9c4",
   "metadata": {
    "execution": {
     "iopub.execute_input": "2024-09-01T15:01:04.091487Z",
     "iopub.status.busy": "2024-09-01T15:01:04.091200Z",
     "iopub.status.idle": "2024-09-01T15:01:04.131713Z",
     "shell.execute_reply": "2024-09-01T15:01:04.131332Z",
     "shell.execute_reply.started": "2024-09-01T15:01:04.091472Z"
    }
   },
   "outputs": [],
   "source": [
    "optimization_metric = 'F1'"
   ]
  },
  {
   "cell_type": "code",
   "execution_count": 75,
   "id": "23a5975e-8f0d-40c2-a1a1-ea7cfea682c9",
   "metadata": {
    "execution": {
     "iopub.execute_input": "2024-09-01T15:01:04.132368Z",
     "iopub.status.busy": "2024-09-01T15:01:04.132235Z",
     "iopub.status.idle": "2024-09-01T15:01:04.150061Z",
     "shell.execute_reply": "2024-09-01T15:01:04.149676Z",
     "shell.execute_reply.started": "2024-09-01T15:01:04.132356Z"
    }
   },
   "outputs": [],
   "source": [
    "method_color_palette = {'HS cell':'#f28f3b',\n",
    "                        'scPoli cell':'#8ecae6',\n",
    "                        'scPoli sample':'#126782',\n",
    "                        'scPoli cellSample':'#219ebc',\n",
    "                        'scGen cell':'#228B22',\n",
    "                        'scANVI cell':'#c8553d',\n",
    "                        'random':'darkgrey'}"
   ]
  },
  {
   "cell_type": "markdown",
   "id": "719878eb-03b4-4728-8206-cdc7ed79df42",
   "metadata": {},
   "source": [
    "### Loading results"
   ]
  },
  {
   "cell_type": "code",
   "execution_count": null,
   "id": "95eca213-87c9-423a-affe-2dcfab5052ae",
   "metadata": {
    "execution": {
     "iopub.execute_input": "2024-09-01T15:01:04.150681Z",
     "iopub.status.busy": "2024-09-01T15:01:04.150550Z",
     "iopub.status.idle": "2024-09-01T15:01:04.168415Z",
     "shell.execute_reply": "2024-09-01T15:01:04.168022Z",
     "shell.execute_reply.started": "2024-09-01T15:01:04.150669Z"
    }
   },
   "outputs": [
    {
     "name": "stdout",
     "output_type": "stream",
     "text": [
      "100\n"
     ]
    }
   ],
   "source": [
    "metrics_df_path_list = glob(str(here(f'03_downstream_analysis/08_PatientClassifier/Classifiers/results_CT_studies/metrics_dataframes/METRICdf_*{optimization_metric}*.pkl')))\n",
    "print(len(metrics_df_path_list))"
   ]
  },
  {
   "cell_type": "code",
   "execution_count": null,
   "id": "e1f89be7-7b32-4ff2-a72c-ae3d2eb01de9",
   "metadata": {
    "execution": {
     "iopub.execute_input": "2024-09-01T15:01:04.169879Z",
     "iopub.status.busy": "2024-09-01T15:01:04.169695Z",
     "iopub.status.idle": "2024-09-01T15:01:04.376045Z",
     "shell.execute_reply": "2024-09-01T15:01:04.375624Z",
     "shell.execute_reply.started": "2024-09-01T15:01:04.169866Z"
    }
   },
   "outputs": [],
   "source": [
    "scPoli_scANVI_metrics_df_VALIDATION_list = []\n",
    "scPoli_scANVI_metrics_df_EXTERNAL_list = []\n",
    "\n",
    "HS_scGen_metrics_df_list = []\n",
    "for p in metrics_df_path_list:\n",
    "    if ('scpoli' in os.path.basename(p).lower()) or ('scanvipredict' in os.path.basename(p).lower()):\n",
    "        if 'VALIDATION' in os.path.basename(p):\n",
    "            scPoli_scANVI_metrics_df_VALIDATION_list.append(pd.read_pickle(p))\n",
    "        elif 'EXTERNAL' in os.path.basename(p):\n",
    "            scPoli_scANVI_metrics_df_EXTERNAL_list.append(pd.read_pickle(p))\n",
    "        \n",
    "    elif ('hs' in os.path.basename(p).lower()) or ('scgen' in os.path.basename(p).lower()):\n",
    "        HS_scGen_metrics_df_list.append(pd.read_pickle(p))"
   ]
  },
  {
   "cell_type": "markdown",
   "id": "86401935-d51d-43b1-8940-ff297635cd34",
   "metadata": {},
   "source": [
    "### Aggregating metrics"
   ]
  },
  {
   "cell_type": "markdown",
   "id": "ef890af5-5ce3-4618-a34c-66aca0362e44",
   "metadata": {},
   "source": [
    "**Harmony/Symphony and scGen**"
   ]
  },
  {
   "cell_type": "code",
   "execution_count": 78,
   "id": "a293c83b-a2e8-4627-87f3-8f13a0291e6c",
   "metadata": {
    "execution": {
     "iopub.execute_input": "2024-09-01T15:01:04.376809Z",
     "iopub.status.busy": "2024-09-01T15:01:04.376651Z",
     "iopub.status.idle": "2024-09-01T15:01:04.379498Z",
     "shell.execute_reply": "2024-09-01T15:01:04.379195Z",
     "shell.execute_reply.started": "2024-09-01T15:01:04.376794Z"
    }
   },
   "outputs": [],
   "source": [
    "HS_scGen_aggr_metric_df = pd.concat(HS_scGen_metrics_df_list, axis=0,ignore_index=True)"
   ]
  },
  {
   "cell_type": "code",
   "execution_count": 79,
   "id": "827228e5-af67-4c84-b37f-efb60913a5cb",
   "metadata": {
    "execution": {
     "iopub.execute_input": "2024-09-01T15:01:04.380085Z",
     "iopub.status.busy": "2024-09-01T15:01:04.379947Z",
     "iopub.status.idle": "2024-09-01T15:01:04.399054Z",
     "shell.execute_reply": "2024-09-01T15:01:04.398757Z",
     "shell.execute_reply.started": "2024-09-01T15:01:04.380072Z"
    }
   },
   "outputs": [
    {
     "data": {
      "text/html": [
       "<div>\n",
       "<style scoped>\n",
       "    .dataframe tbody tr th:only-of-type {\n",
       "        vertical-align: middle;\n",
       "    }\n",
       "\n",
       "    .dataframe tbody tr th {\n",
       "        vertical-align: top;\n",
       "    }\n",
       "\n",
       "    .dataframe thead th {\n",
       "        text-align: right;\n",
       "    }\n",
       "</style>\n",
       "<table border=\"1\" class=\"dataframe\">\n",
       "  <thead>\n",
       "    <tr style=\"text-align: right;\">\n",
       "      <th></th>\n",
       "      <th>integration_method</th>\n",
       "      <th>embedded_space</th>\n",
       "      <th>n_embedded</th>\n",
       "      <th>n_Patient_embedded</th>\n",
       "      <th>batchKeys</th>\n",
       "      <th>annotation</th>\n",
       "      <th>classification_method</th>\n",
       "      <th>VALIDATION_F1</th>\n",
       "      <th>EXTERNAL_F1</th>\n",
       "      <th>VALIDATION_BAS</th>\n",
       "      <th>EXTERNAL_BAS</th>\n",
       "      <th>VALIDATION_MCC</th>\n",
       "      <th>EXTERNAL_MCC</th>\n",
       "      <th>avg_TRAIN_F1</th>\n",
       "    </tr>\n",
       "  </thead>\n",
       "  <tbody>\n",
       "    <tr>\n",
       "      <th>0</th>\n",
       "      <td>HS</td>\n",
       "      <td>cell</td>\n",
       "      <td>100</td>\n",
       "      <td>0</td>\n",
       "      <td>chemistry</td>\n",
       "      <td>notUsed</td>\n",
       "      <td>LinearSVC</td>\n",
       "      <td>0.881348</td>\n",
       "      <td>0.348413</td>\n",
       "      <td>0.881944</td>\n",
       "      <td>0.167662</td>\n",
       "      <td>0.846724</td>\n",
       "      <td>0.229159</td>\n",
       "      <td>0.746869</td>\n",
       "    </tr>\n",
       "    <tr>\n",
       "      <th>1</th>\n",
       "      <td>HS</td>\n",
       "      <td>cell</td>\n",
       "      <td>100</td>\n",
       "      <td>0</td>\n",
       "      <td>chemistry</td>\n",
       "      <td>notUsed</td>\n",
       "      <td>SVC</td>\n",
       "      <td>0.847609</td>\n",
       "      <td>0.333351</td>\n",
       "      <td>0.780787</td>\n",
       "      <td>0.189262</td>\n",
       "      <td>0.802301</td>\n",
       "      <td>0.25407</td>\n",
       "      <td>0.748165</td>\n",
       "    </tr>\n",
       "    <tr>\n",
       "      <th>2</th>\n",
       "      <td>HS</td>\n",
       "      <td>cell</td>\n",
       "      <td>100</td>\n",
       "      <td>0</td>\n",
       "      <td>chemistry</td>\n",
       "      <td>notUsed</td>\n",
       "      <td>kNN</td>\n",
       "      <td>0.926498</td>\n",
       "      <td>0.266432</td>\n",
       "      <td>0.863562</td>\n",
       "      <td>0.224418</td>\n",
       "      <td>0.886569</td>\n",
       "      <td>0.227664</td>\n",
       "      <td>0.689441</td>\n",
       "    </tr>\n",
       "    <tr>\n",
       "      <th>3</th>\n",
       "      <td>scGen</td>\n",
       "      <td>cell</td>\n",
       "      <td>20</td>\n",
       "      <td>0</td>\n",
       "      <td>chemistry</td>\n",
       "      <td>Level2</td>\n",
       "      <td>LinearSVC</td>\n",
       "      <td>0.892821</td>\n",
       "      <td>0.361019</td>\n",
       "      <td>0.849442</td>\n",
       "      <td>0.165441</td>\n",
       "      <td>0.85206</td>\n",
       "      <td>0.252985</td>\n",
       "      <td>0.593346</td>\n",
       "    </tr>\n",
       "    <tr>\n",
       "      <th>4</th>\n",
       "      <td>scGen</td>\n",
       "      <td>cell</td>\n",
       "      <td>20</td>\n",
       "      <td>0</td>\n",
       "      <td>chemistry</td>\n",
       "      <td>Level2</td>\n",
       "      <td>SVC</td>\n",
       "      <td>0.960613</td>\n",
       "      <td>0.338281</td>\n",
       "      <td>0.914352</td>\n",
       "      <td>0.154182</td>\n",
       "      <td>0.938406</td>\n",
       "      <td>0.227306</td>\n",
       "      <td>0.69878</td>\n",
       "    </tr>\n",
       "    <tr>\n",
       "      <th>5</th>\n",
       "      <td>scGen</td>\n",
       "      <td>cell</td>\n",
       "      <td>20</td>\n",
       "      <td>0</td>\n",
       "      <td>chemistry</td>\n",
       "      <td>Level2</td>\n",
       "      <td>kNN</td>\n",
       "      <td>0.888419</td>\n",
       "      <td>0.264162</td>\n",
       "      <td>0.766667</td>\n",
       "      <td>0.125613</td>\n",
       "      <td>0.850408</td>\n",
       "      <td>0.15703</td>\n",
       "      <td>0.64272</td>\n",
       "    </tr>\n",
       "    <tr>\n",
       "      <th>6</th>\n",
       "      <td>scGen</td>\n",
       "      <td>cell</td>\n",
       "      <td>30</td>\n",
       "      <td>0</td>\n",
       "      <td>chemistry</td>\n",
       "      <td>Level2</td>\n",
       "      <td>LinearSVC</td>\n",
       "      <td>0.957913</td>\n",
       "      <td>0.183125</td>\n",
       "      <td>0.957217</td>\n",
       "      <td>0.042509</td>\n",
       "      <td>0.938525</td>\n",
       "      <td>0.072995</td>\n",
       "      <td>0.685738</td>\n",
       "    </tr>\n",
       "    <tr>\n",
       "      <th>7</th>\n",
       "      <td>scGen</td>\n",
       "      <td>cell</td>\n",
       "      <td>30</td>\n",
       "      <td>0</td>\n",
       "      <td>chemistry</td>\n",
       "      <td>Level2</td>\n",
       "      <td>SVC</td>\n",
       "      <td>0.960346</td>\n",
       "      <td>0.297091</td>\n",
       "      <td>0.918423</td>\n",
       "      <td>0.120404</td>\n",
       "      <td>0.930107</td>\n",
       "      <td>0.167402</td>\n",
       "      <td>0.737905</td>\n",
       "    </tr>\n",
       "    <tr>\n",
       "      <th>8</th>\n",
       "      <td>scGen</td>\n",
       "      <td>cell</td>\n",
       "      <td>30</td>\n",
       "      <td>0</td>\n",
       "      <td>chemistry</td>\n",
       "      <td>Level2</td>\n",
       "      <td>kNN</td>\n",
       "      <td>0.936612</td>\n",
       "      <td>0.186231</td>\n",
       "      <td>0.85162</td>\n",
       "      <td>0.096507</td>\n",
       "      <td>0.903588</td>\n",
       "      <td>0.11859</td>\n",
       "      <td>0.670428</td>\n",
       "    </tr>\n",
       "    <tr>\n",
       "      <th>9</th>\n",
       "      <td>HS</td>\n",
       "      <td>cell</td>\n",
       "      <td>30</td>\n",
       "      <td>0</td>\n",
       "      <td>chemistry</td>\n",
       "      <td>notUsed</td>\n",
       "      <td>LinearSVC</td>\n",
       "      <td>0.838311</td>\n",
       "      <td>0.31415</td>\n",
       "      <td>0.81171</td>\n",
       "      <td>0.158624</td>\n",
       "      <td>0.779955</td>\n",
       "      <td>0.184842</td>\n",
       "      <td>0.658097</td>\n",
       "    </tr>\n",
       "    <tr>\n",
       "      <th>10</th>\n",
       "      <td>HS</td>\n",
       "      <td>cell</td>\n",
       "      <td>30</td>\n",
       "      <td>0</td>\n",
       "      <td>chemistry</td>\n",
       "      <td>notUsed</td>\n",
       "      <td>SVC</td>\n",
       "      <td>0.809502</td>\n",
       "      <td>0.45134</td>\n",
       "      <td>0.687731</td>\n",
       "      <td>0.242264</td>\n",
       "      <td>0.765303</td>\n",
       "      <td>0.367789</td>\n",
       "      <td>0.707428</td>\n",
       "    </tr>\n",
       "    <tr>\n",
       "      <th>11</th>\n",
       "      <td>HS</td>\n",
       "      <td>cell</td>\n",
       "      <td>30</td>\n",
       "      <td>0</td>\n",
       "      <td>chemistry</td>\n",
       "      <td>notUsed</td>\n",
       "      <td>kNN</td>\n",
       "      <td>0.765401</td>\n",
       "      <td>0.383627</td>\n",
       "      <td>0.539161</td>\n",
       "      <td>0.1911</td>\n",
       "      <td>0.700884</td>\n",
       "      <td>0.271796</td>\n",
       "      <td>0.643177</td>\n",
       "    </tr>\n",
       "    <tr>\n",
       "      <th>12</th>\n",
       "      <td>scGen</td>\n",
       "      <td>cell</td>\n",
       "      <td>50</td>\n",
       "      <td>0</td>\n",
       "      <td>chemistry</td>\n",
       "      <td>Level2</td>\n",
       "      <td>LinearSVC</td>\n",
       "      <td>0.961036</td>\n",
       "      <td>0.338629</td>\n",
       "      <td>0.929534</td>\n",
       "      <td>0.131204</td>\n",
       "      <td>0.938505</td>\n",
       "      <td>0.215071</td>\n",
       "      <td>0.721601</td>\n",
       "    </tr>\n",
       "    <tr>\n",
       "      <th>13</th>\n",
       "      <td>scGen</td>\n",
       "      <td>cell</td>\n",
       "      <td>50</td>\n",
       "      <td>0</td>\n",
       "      <td>chemistry</td>\n",
       "      <td>Level2</td>\n",
       "      <td>SVC</td>\n",
       "      <td>0.981772</td>\n",
       "      <td>0.245478</td>\n",
       "      <td>0.947454</td>\n",
       "      <td>0.112132</td>\n",
       "      <td>0.964906</td>\n",
       "      <td>0.141684</td>\n",
       "      <td>0.747119</td>\n",
       "    </tr>\n",
       "    <tr>\n",
       "      <th>14</th>\n",
       "      <td>scGen</td>\n",
       "      <td>cell</td>\n",
       "      <td>50</td>\n",
       "      <td>0</td>\n",
       "      <td>chemistry</td>\n",
       "      <td>Level2</td>\n",
       "      <td>kNN</td>\n",
       "      <td>0.931323</td>\n",
       "      <td>0.179927</td>\n",
       "      <td>0.862731</td>\n",
       "      <td>0.067555</td>\n",
       "      <td>0.895651</td>\n",
       "      <td>0.071226</td>\n",
       "      <td>0.685141</td>\n",
       "    </tr>\n",
       "    <tr>\n",
       "      <th>15</th>\n",
       "      <td>HS</td>\n",
       "      <td>cell</td>\n",
       "      <td>20</td>\n",
       "      <td>0</td>\n",
       "      <td>chemistry</td>\n",
       "      <td>notUsed</td>\n",
       "      <td>LinearSVC</td>\n",
       "      <td>0.751043</td>\n",
       "      <td>0.393929</td>\n",
       "      <td>0.662214</td>\n",
       "      <td>0.197227</td>\n",
       "      <td>0.675373</td>\n",
       "      <td>0.268726</td>\n",
       "      <td>0.604592</td>\n",
       "    </tr>\n",
       "    <tr>\n",
       "      <th>16</th>\n",
       "      <td>HS</td>\n",
       "      <td>cell</td>\n",
       "      <td>20</td>\n",
       "      <td>0</td>\n",
       "      <td>chemistry</td>\n",
       "      <td>notUsed</td>\n",
       "      <td>SVC</td>\n",
       "      <td>0.838607</td>\n",
       "      <td>0.470072</td>\n",
       "      <td>0.688657</td>\n",
       "      <td>0.243183</td>\n",
       "      <td>0.798274</td>\n",
       "      <td>0.380839</td>\n",
       "      <td>0.677258</td>\n",
       "    </tr>\n",
       "    <tr>\n",
       "      <th>17</th>\n",
       "      <td>HS</td>\n",
       "      <td>cell</td>\n",
       "      <td>20</td>\n",
       "      <td>0</td>\n",
       "      <td>chemistry</td>\n",
       "      <td>notUsed</td>\n",
       "      <td>kNN</td>\n",
       "      <td>0.79017</td>\n",
       "      <td>0.43714</td>\n",
       "      <td>0.606155</td>\n",
       "      <td>0.251379</td>\n",
       "      <td>0.727584</td>\n",
       "      <td>0.350787</td>\n",
       "      <td>0.624067</td>\n",
       "    </tr>\n",
       "    <tr>\n",
       "      <th>18</th>\n",
       "      <td>HS</td>\n",
       "      <td>cell</td>\n",
       "      <td>50</td>\n",
       "      <td>0</td>\n",
       "      <td>chemistry</td>\n",
       "      <td>notUsed</td>\n",
       "      <td>LinearSVC</td>\n",
       "      <td>0.817936</td>\n",
       "      <td>0.380848</td>\n",
       "      <td>0.766898</td>\n",
       "      <td>0.161229</td>\n",
       "      <td>0.769004</td>\n",
       "      <td>0.24152</td>\n",
       "      <td>0.693437</td>\n",
       "    </tr>\n",
       "    <tr>\n",
       "      <th>19</th>\n",
       "      <td>HS</td>\n",
       "      <td>cell</td>\n",
       "      <td>50</td>\n",
       "      <td>0</td>\n",
       "      <td>chemistry</td>\n",
       "      <td>notUsed</td>\n",
       "      <td>SVC</td>\n",
       "      <td>0.858018</td>\n",
       "      <td>0.414642</td>\n",
       "      <td>0.764583</td>\n",
       "      <td>0.237439</td>\n",
       "      <td>0.825767</td>\n",
       "      <td>0.342401</td>\n",
       "      <td>0.726383</td>\n",
       "    </tr>\n",
       "    <tr>\n",
       "      <th>20</th>\n",
       "      <td>HS</td>\n",
       "      <td>cell</td>\n",
       "      <td>50</td>\n",
       "      <td>0</td>\n",
       "      <td>chemistry</td>\n",
       "      <td>notUsed</td>\n",
       "      <td>kNN</td>\n",
       "      <td>0.872707</td>\n",
       "      <td>0.347971</td>\n",
       "      <td>0.741571</td>\n",
       "      <td>0.189721</td>\n",
       "      <td>0.825469</td>\n",
       "      <td>0.254944</td>\n",
       "      <td>0.665583</td>\n",
       "    </tr>\n",
       "    <tr>\n",
       "      <th>21</th>\n",
       "      <td>scGen</td>\n",
       "      <td>cell</td>\n",
       "      <td>100</td>\n",
       "      <td>0</td>\n",
       "      <td>chemistry</td>\n",
       "      <td>Level2</td>\n",
       "      <td>LinearSVC</td>\n",
       "      <td>0.97176</td>\n",
       "      <td>0.316238</td>\n",
       "      <td>0.961574</td>\n",
       "      <td>0.133425</td>\n",
       "      <td>0.956292</td>\n",
       "      <td>0.190363</td>\n",
       "      <td>0.747971</td>\n",
       "    </tr>\n",
       "    <tr>\n",
       "      <th>22</th>\n",
       "      <td>scGen</td>\n",
       "      <td>cell</td>\n",
       "      <td>100</td>\n",
       "      <td>0</td>\n",
       "      <td>chemistry</td>\n",
       "      <td>Level2</td>\n",
       "      <td>SVC</td>\n",
       "      <td>0.981772</td>\n",
       "      <td>0.268784</td>\n",
       "      <td>0.947454</td>\n",
       "      <td>0.123392</td>\n",
       "      <td>0.964965</td>\n",
       "      <td>0.167701</td>\n",
       "      <td>0.750489</td>\n",
       "    </tr>\n",
       "    <tr>\n",
       "      <th>23</th>\n",
       "      <td>scGen</td>\n",
       "      <td>cell</td>\n",
       "      <td>100</td>\n",
       "      <td>0</td>\n",
       "      <td>chemistry</td>\n",
       "      <td>Level2</td>\n",
       "      <td>kNN</td>\n",
       "      <td>0.971241</td>\n",
       "      <td>0.208249</td>\n",
       "      <td>0.948611</td>\n",
       "      <td>0.107767</td>\n",
       "      <td>0.956216</td>\n",
       "      <td>0.134367</td>\n",
       "      <td>0.692199</td>\n",
       "    </tr>\n",
       "    <tr>\n",
       "      <th>24</th>\n",
       "      <td>HS</td>\n",
       "      <td>cell</td>\n",
       "      <td>200</td>\n",
       "      <td>0</td>\n",
       "      <td>chemistry</td>\n",
       "      <td>notUsed</td>\n",
       "      <td>LinearSVC</td>\n",
       "      <td>0.935327</td>\n",
       "      <td>0.371826</td>\n",
       "      <td>0.918519</td>\n",
       "      <td>0.178922</td>\n",
       "      <td>0.904789</td>\n",
       "      <td>0.253797</td>\n",
       "      <td>0.761469</td>\n",
       "    </tr>\n",
       "    <tr>\n",
       "      <th>25</th>\n",
       "      <td>HS</td>\n",
       "      <td>cell</td>\n",
       "      <td>200</td>\n",
       "      <td>0</td>\n",
       "      <td>chemistry</td>\n",
       "      <td>notUsed</td>\n",
       "      <td>SVC</td>\n",
       "      <td>0.887773</td>\n",
       "      <td>0.35344</td>\n",
       "      <td>0.841667</td>\n",
       "      <td>0.197074</td>\n",
       "      <td>0.853973</td>\n",
       "      <td>0.271363</td>\n",
       "      <td>0.753002</td>\n",
       "    </tr>\n",
       "    <tr>\n",
       "      <th>26</th>\n",
       "      <td>HS</td>\n",
       "      <td>cell</td>\n",
       "      <td>200</td>\n",
       "      <td>0</td>\n",
       "      <td>chemistry</td>\n",
       "      <td>notUsed</td>\n",
       "      <td>kNN</td>\n",
       "      <td>0.921068</td>\n",
       "      <td>0.320487</td>\n",
       "      <td>0.862173</td>\n",
       "      <td>0.23223</td>\n",
       "      <td>0.886019</td>\n",
       "      <td>0.262011</td>\n",
       "      <td>0.698521</td>\n",
       "    </tr>\n",
       "    <tr>\n",
       "      <th>27</th>\n",
       "      <td>scGen</td>\n",
       "      <td>cell</td>\n",
       "      <td>200</td>\n",
       "      <td>0</td>\n",
       "      <td>chemistry</td>\n",
       "      <td>Level2</td>\n",
       "      <td>LinearSVC</td>\n",
       "      <td>0.978707</td>\n",
       "      <td>0.278533</td>\n",
       "      <td>0.967497</td>\n",
       "      <td>0.108226</td>\n",
       "      <td>0.964819</td>\n",
       "      <td>0.168459</td>\n",
       "      <td>0.731175</td>\n",
       "    </tr>\n",
       "    <tr>\n",
       "      <th>28</th>\n",
       "      <td>scGen</td>\n",
       "      <td>cell</td>\n",
       "      <td>200</td>\n",
       "      <td>0</td>\n",
       "      <td>chemistry</td>\n",
       "      <td>Level2</td>\n",
       "      <td>SVC</td>\n",
       "      <td>0.971173</td>\n",
       "      <td>0.247674</td>\n",
       "      <td>0.917824</td>\n",
       "      <td>0.119485</td>\n",
       "      <td>0.947385</td>\n",
       "      <td>0.151932</td>\n",
       "      <td>0.73995</td>\n",
       "    </tr>\n",
       "    <tr>\n",
       "      <th>29</th>\n",
       "      <td>scGen</td>\n",
       "      <td>cell</td>\n",
       "      <td>200</td>\n",
       "      <td>0</td>\n",
       "      <td>chemistry</td>\n",
       "      <td>Level2</td>\n",
       "      <td>kNN</td>\n",
       "      <td>0.93965</td>\n",
       "      <td>0.194357</td>\n",
       "      <td>0.843981</td>\n",
       "      <td>0.102635</td>\n",
       "      <td>0.904335</td>\n",
       "      <td>0.108781</td>\n",
       "      <td>0.683407</td>\n",
       "    </tr>\n",
       "  </tbody>\n",
       "</table>\n",
       "</div>"
      ],
      "text/plain": [
       "   integration_method embedded_space n_embedded n_Patient_embedded  batchKeys  \\\n",
       "0                  HS           cell        100                  0  chemistry   \n",
       "1                  HS           cell        100                  0  chemistry   \n",
       "2                  HS           cell        100                  0  chemistry   \n",
       "3               scGen           cell         20                  0  chemistry   \n",
       "4               scGen           cell         20                  0  chemistry   \n",
       "5               scGen           cell         20                  0  chemistry   \n",
       "6               scGen           cell         30                  0  chemistry   \n",
       "7               scGen           cell         30                  0  chemistry   \n",
       "8               scGen           cell         30                  0  chemistry   \n",
       "9                  HS           cell         30                  0  chemistry   \n",
       "10                 HS           cell         30                  0  chemistry   \n",
       "11                 HS           cell         30                  0  chemistry   \n",
       "12              scGen           cell         50                  0  chemistry   \n",
       "13              scGen           cell         50                  0  chemistry   \n",
       "14              scGen           cell         50                  0  chemistry   \n",
       "15                 HS           cell         20                  0  chemistry   \n",
       "16                 HS           cell         20                  0  chemistry   \n",
       "17                 HS           cell         20                  0  chemistry   \n",
       "18                 HS           cell         50                  0  chemistry   \n",
       "19                 HS           cell         50                  0  chemistry   \n",
       "20                 HS           cell         50                  0  chemistry   \n",
       "21              scGen           cell        100                  0  chemistry   \n",
       "22              scGen           cell        100                  0  chemistry   \n",
       "23              scGen           cell        100                  0  chemistry   \n",
       "24                 HS           cell        200                  0  chemistry   \n",
       "25                 HS           cell        200                  0  chemistry   \n",
       "26                 HS           cell        200                  0  chemistry   \n",
       "27              scGen           cell        200                  0  chemistry   \n",
       "28              scGen           cell        200                  0  chemistry   \n",
       "29              scGen           cell        200                  0  chemistry   \n",
       "\n",
       "   annotation classification_method VALIDATION_F1 EXTERNAL_F1 VALIDATION_BAS  \\\n",
       "0     notUsed             LinearSVC      0.881348    0.348413       0.881944   \n",
       "1     notUsed                   SVC      0.847609    0.333351       0.780787   \n",
       "2     notUsed                   kNN      0.926498    0.266432       0.863562   \n",
       "3      Level2             LinearSVC      0.892821    0.361019       0.849442   \n",
       "4      Level2                   SVC      0.960613    0.338281       0.914352   \n",
       "5      Level2                   kNN      0.888419    0.264162       0.766667   \n",
       "6      Level2             LinearSVC      0.957913    0.183125       0.957217   \n",
       "7      Level2                   SVC      0.960346    0.297091       0.918423   \n",
       "8      Level2                   kNN      0.936612    0.186231        0.85162   \n",
       "9     notUsed             LinearSVC      0.838311     0.31415        0.81171   \n",
       "10    notUsed                   SVC      0.809502     0.45134       0.687731   \n",
       "11    notUsed                   kNN      0.765401    0.383627       0.539161   \n",
       "12     Level2             LinearSVC      0.961036    0.338629       0.929534   \n",
       "13     Level2                   SVC      0.981772    0.245478       0.947454   \n",
       "14     Level2                   kNN      0.931323    0.179927       0.862731   \n",
       "15    notUsed             LinearSVC      0.751043    0.393929       0.662214   \n",
       "16    notUsed                   SVC      0.838607    0.470072       0.688657   \n",
       "17    notUsed                   kNN       0.79017     0.43714       0.606155   \n",
       "18    notUsed             LinearSVC      0.817936    0.380848       0.766898   \n",
       "19    notUsed                   SVC      0.858018    0.414642       0.764583   \n",
       "20    notUsed                   kNN      0.872707    0.347971       0.741571   \n",
       "21     Level2             LinearSVC       0.97176    0.316238       0.961574   \n",
       "22     Level2                   SVC      0.981772    0.268784       0.947454   \n",
       "23     Level2                   kNN      0.971241    0.208249       0.948611   \n",
       "24    notUsed             LinearSVC      0.935327    0.371826       0.918519   \n",
       "25    notUsed                   SVC      0.887773     0.35344       0.841667   \n",
       "26    notUsed                   kNN      0.921068    0.320487       0.862173   \n",
       "27     Level2             LinearSVC      0.978707    0.278533       0.967497   \n",
       "28     Level2                   SVC      0.971173    0.247674       0.917824   \n",
       "29     Level2                   kNN       0.93965    0.194357       0.843981   \n",
       "\n",
       "   EXTERNAL_BAS VALIDATION_MCC EXTERNAL_MCC avg_TRAIN_F1  \n",
       "0      0.167662       0.846724     0.229159     0.746869  \n",
       "1      0.189262       0.802301      0.25407     0.748165  \n",
       "2      0.224418       0.886569     0.227664     0.689441  \n",
       "3      0.165441        0.85206     0.252985     0.593346  \n",
       "4      0.154182       0.938406     0.227306      0.69878  \n",
       "5      0.125613       0.850408      0.15703      0.64272  \n",
       "6      0.042509       0.938525     0.072995     0.685738  \n",
       "7      0.120404       0.930107     0.167402     0.737905  \n",
       "8      0.096507       0.903588      0.11859     0.670428  \n",
       "9      0.158624       0.779955     0.184842     0.658097  \n",
       "10     0.242264       0.765303     0.367789     0.707428  \n",
       "11       0.1911       0.700884     0.271796     0.643177  \n",
       "12     0.131204       0.938505     0.215071     0.721601  \n",
       "13     0.112132       0.964906     0.141684     0.747119  \n",
       "14     0.067555       0.895651     0.071226     0.685141  \n",
       "15     0.197227       0.675373     0.268726     0.604592  \n",
       "16     0.243183       0.798274     0.380839     0.677258  \n",
       "17     0.251379       0.727584     0.350787     0.624067  \n",
       "18     0.161229       0.769004      0.24152     0.693437  \n",
       "19     0.237439       0.825767     0.342401     0.726383  \n",
       "20     0.189721       0.825469     0.254944     0.665583  \n",
       "21     0.133425       0.956292     0.190363     0.747971  \n",
       "22     0.123392       0.964965     0.167701     0.750489  \n",
       "23     0.107767       0.956216     0.134367     0.692199  \n",
       "24     0.178922       0.904789     0.253797     0.761469  \n",
       "25     0.197074       0.853973     0.271363     0.753002  \n",
       "26      0.23223       0.886019     0.262011     0.698521  \n",
       "27     0.108226       0.964819     0.168459     0.731175  \n",
       "28     0.119485       0.947385     0.151932      0.73995  \n",
       "29     0.102635       0.904335     0.108781     0.683407  "
      ]
     },
     "execution_count": 79,
     "metadata": {},
     "output_type": "execute_result"
    }
   ],
   "source": [
    "HS_scGen_aggr_metric_df"
   ]
  },
  {
   "cell_type": "code",
   "execution_count": 80,
   "id": "700da0e0-6798-4ded-8bde-bea76b13b53b",
   "metadata": {
    "execution": {
     "iopub.execute_input": "2024-09-01T15:01:04.399618Z",
     "iopub.status.busy": "2024-09-01T15:01:04.399486Z",
     "iopub.status.idle": "2024-09-01T15:01:04.504153Z",
     "shell.execute_reply": "2024-09-01T15:01:04.503851Z",
     "shell.execute_reply.started": "2024-09-01T15:01:04.399606Z"
    }
   },
   "outputs": [],
   "source": [
    "HS_scGen_aggr_metric_df_BestClf = HS_scGen_aggr_metric_df.loc[(HS_scGen_aggr_metric_df.groupby(['integration_method', 'embedded_space', 'n_embedded',\n",
    "                                                 'n_Patient_embedded', 'batchKeys', 'annotation'])['avg_TRAIN_F1'].idxmax())].drop('avg_TRAIN_F1',axis=1)\n"
   ]
  },
  {
   "cell_type": "code",
   "execution_count": 81,
   "id": "db91dd2c-5bd6-420d-8133-5a4a6373b5c7",
   "metadata": {
    "execution": {
     "iopub.execute_input": "2024-09-01T15:01:04.504722Z",
     "iopub.status.busy": "2024-09-01T15:01:04.504587Z",
     "iopub.status.idle": "2024-09-01T15:01:04.515721Z",
     "shell.execute_reply": "2024-09-01T15:01:04.515429Z",
     "shell.execute_reply.started": "2024-09-01T15:01:04.504710Z"
    }
   },
   "outputs": [],
   "source": [
    "HS_scGen_aggr_metric_df_BestClf['VALIDATION_bestCLF'] = HS_scGen_aggr_metric_df_BestClf['classification_method']\n",
    "HS_scGen_aggr_metric_df_BestClf['EXTERNAL_bestCLF'] = HS_scGen_aggr_metric_df_BestClf['classification_method']\n",
    "HS_scGen_aggr_metric_df_BestClf.drop('classification_method',axis=1,inplace=True)"
   ]
  },
  {
   "cell_type": "markdown",
   "id": "01cba0dc-0556-4df3-ad10-54f50a03afdb",
   "metadata": {},
   "source": [
    "**scPoli and scANVI**"
   ]
  },
  {
   "cell_type": "code",
   "execution_count": 82,
   "id": "b7b5867f-57c4-4afc-bc47-d4cd46cef618",
   "metadata": {
    "execution": {
     "iopub.execute_input": "2024-09-01T15:01:04.516393Z",
     "iopub.status.busy": "2024-09-01T15:01:04.516145Z",
     "iopub.status.idle": "2024-09-01T15:01:04.529934Z",
     "shell.execute_reply": "2024-09-01T15:01:04.529630Z",
     "shell.execute_reply.started": "2024-09-01T15:01:04.516379Z"
    }
   },
   "outputs": [],
   "source": [
    "scPoli_scANVI_aggr_metric_df_VALIDATION = pd.concat(scPoli_scANVI_metrics_df_VALIDATION_list, axis=0, ignore_index=True)\n",
    "scPoli_scANVI_aggr_metric_df_EXTERNAL = pd.concat(scPoli_scANVI_metrics_df_EXTERNAL_list, axis=0, ignore_index=True)"
   ]
  },
  {
   "cell_type": "code",
   "execution_count": 83,
   "id": "12197e10-8c47-48c2-830f-522cf5e19369",
   "metadata": {
    "execution": {
     "iopub.execute_input": "2024-09-01T15:01:04.530489Z",
     "iopub.status.busy": "2024-09-01T15:01:04.530358Z",
     "iopub.status.idle": "2024-09-01T15:01:04.544050Z",
     "shell.execute_reply": "2024-09-01T15:01:04.543749Z",
     "shell.execute_reply.started": "2024-09-01T15:01:04.530477Z"
    }
   },
   "outputs": [
    {
     "data": {
      "text/html": [
       "<div>\n",
       "<style scoped>\n",
       "    .dataframe tbody tr th:only-of-type {\n",
       "        vertical-align: middle;\n",
       "    }\n",
       "\n",
       "    .dataframe tbody tr th {\n",
       "        vertical-align: top;\n",
       "    }\n",
       "\n",
       "    .dataframe thead th {\n",
       "        text-align: right;\n",
       "    }\n",
       "</style>\n",
       "<table border=\"1\" class=\"dataframe\">\n",
       "  <thead>\n",
       "    <tr style=\"text-align: right;\">\n",
       "      <th></th>\n",
       "      <th>integration_method</th>\n",
       "      <th>embedded_space</th>\n",
       "      <th>n_embedded</th>\n",
       "      <th>n_Patient_embedded</th>\n",
       "      <th>batchKeys</th>\n",
       "      <th>annotation</th>\n",
       "      <th>classification_method</th>\n",
       "      <th>VALIDATION_F1</th>\n",
       "      <th>VALIDATION_BAS</th>\n",
       "      <th>VALIDATION_MCC</th>\n",
       "      <th>VALIDATION_TRAIN_F1</th>\n",
       "    </tr>\n",
       "  </thead>\n",
       "  <tbody>\n",
       "    <tr>\n",
       "      <th>0</th>\n",
       "      <td>scPoli</td>\n",
       "      <td>sample</td>\n",
       "      <td>20</td>\n",
       "      <td>20</td>\n",
       "      <td>chemistry</td>\n",
       "      <td>Level1n2</td>\n",
       "      <td>LinearSVC</td>\n",
       "      <td>0.81168</td>\n",
       "      <td>0.755501</td>\n",
       "      <td>0.75607</td>\n",
       "      <td>0.707033</td>\n",
       "    </tr>\n",
       "  </tbody>\n",
       "</table>\n",
       "</div>"
      ],
      "text/plain": [
       "  integration_method embedded_space n_embedded n_Patient_embedded  batchKeys  \\\n",
       "0             scPoli         sample         20                 20  chemistry   \n",
       "\n",
       "  annotation classification_method VALIDATION_F1 VALIDATION_BAS  \\\n",
       "0   Level1n2             LinearSVC       0.81168       0.755501   \n",
       "\n",
       "  VALIDATION_MCC VALIDATION_TRAIN_F1  \n",
       "0        0.75607            0.707033  "
      ]
     },
     "execution_count": 83,
     "metadata": {},
     "output_type": "execute_result"
    }
   ],
   "source": [
    "scPoli_scANVI_aggr_metric_df_VALIDATION.head(1)"
   ]
  },
  {
   "cell_type": "markdown",
   "id": "1557db58-f341-4416-853b-4457a1708cf5",
   "metadata": {},
   "source": [
    "**Selecting best classifier based on REFERENCE F1 (averaged over cell-type)**"
   ]
  },
  {
   "cell_type": "code",
   "execution_count": 84,
   "id": "2a1b8e08-6498-4726-8a53-1af5405ade60",
   "metadata": {
    "execution": {
     "iopub.execute_input": "2024-09-01T15:01:04.544615Z",
     "iopub.status.busy": "2024-09-01T15:01:04.544483Z",
     "iopub.status.idle": "2024-09-01T15:01:04.559103Z",
     "shell.execute_reply": "2024-09-01T15:01:04.558806Z",
     "shell.execute_reply.started": "2024-09-01T15:01:04.544603Z"
    }
   },
   "outputs": [],
   "source": [
    "scPoli_scANVI_aggr_metric_df_VALIDATION_BestClf = scPoli_scANVI_aggr_metric_df_VALIDATION.loc[(scPoli_scANVI_aggr_metric_df_VALIDATION.groupby(['integration_method', 'embedded_space', 'n_embedded',\n",
    "                                                 'n_Patient_embedded', 'batchKeys', 'annotation'])['VALIDATION_TRAIN_F1'].idxmax())].drop('VALIDATION_TRAIN_F1',axis=1)\n",
    "\n",
    "scPoli_scANVI_aggr_metric_df_EXTERNAL_BestClf = scPoli_scANVI_aggr_metric_df_EXTERNAL.loc[(scPoli_scANVI_aggr_metric_df_EXTERNAL.groupby(['integration_method', 'embedded_space', 'n_embedded',\n",
    "                                                 'n_Patient_embedded', 'batchKeys', 'annotation'])['EXTERNAL_TRAIN_F1'].idxmax())].drop('EXTERNAL_TRAIN_F1',axis=1)"
   ]
  },
  {
   "cell_type": "code",
   "execution_count": 85,
   "id": "b01edfcb-d6f6-420d-991e-8d13dceace7e",
   "metadata": {
    "execution": {
     "iopub.execute_input": "2024-09-01T15:01:04.559663Z",
     "iopub.status.busy": "2024-09-01T15:01:04.559530Z",
     "iopub.status.idle": "2024-09-01T15:01:04.572066Z",
     "shell.execute_reply": "2024-09-01T15:01:04.571683Z",
     "shell.execute_reply.started": "2024-09-01T15:01:04.559651Z"
    }
   },
   "outputs": [],
   "source": [
    "scPoli_scANVI_aggr_metric_df_VALIDATION_BestClf.rename({'classification_method':'VALIDATION_bestCLF'},axis=1, inplace=True)\n",
    "scPoli_scANVI_aggr_metric_df_EXTERNAL_BestClf.rename({'classification_method':'EXTERNAL_bestCLF'},axis=1, inplace=True)"
   ]
  },
  {
   "cell_type": "code",
   "execution_count": 86,
   "id": "6be332cd-3701-40f0-b053-1655423da68d",
   "metadata": {
    "execution": {
     "iopub.execute_input": "2024-09-01T15:01:04.574449Z",
     "iopub.status.busy": "2024-09-01T15:01:04.574079Z",
     "iopub.status.idle": "2024-09-01T15:01:04.589498Z",
     "shell.execute_reply": "2024-09-01T15:01:04.589128Z",
     "shell.execute_reply.started": "2024-09-01T15:01:04.574435Z"
    }
   },
   "outputs": [
    {
     "data": {
      "text/html": [
       "<div>\n",
       "<style scoped>\n",
       "    .dataframe tbody tr th:only-of-type {\n",
       "        vertical-align: middle;\n",
       "    }\n",
       "\n",
       "    .dataframe tbody tr th {\n",
       "        vertical-align: top;\n",
       "    }\n",
       "\n",
       "    .dataframe thead th {\n",
       "        text-align: right;\n",
       "    }\n",
       "</style>\n",
       "<table border=\"1\" class=\"dataframe\">\n",
       "  <thead>\n",
       "    <tr style=\"text-align: right;\">\n",
       "      <th></th>\n",
       "      <th>integration_method</th>\n",
       "      <th>embedded_space</th>\n",
       "      <th>n_embedded</th>\n",
       "      <th>n_Patient_embedded</th>\n",
       "      <th>batchKeys</th>\n",
       "      <th>annotation</th>\n",
       "      <th>VALIDATION_bestCLF</th>\n",
       "      <th>VALIDATION_F1</th>\n",
       "      <th>VALIDATION_BAS</th>\n",
       "      <th>VALIDATION_MCC</th>\n",
       "      <th>EXTERNAL_bestCLF</th>\n",
       "      <th>EXTERNAL_F1</th>\n",
       "      <th>EXTERNAL_BAS</th>\n",
       "      <th>EXTERNAL_MCC</th>\n",
       "    </tr>\n",
       "  </thead>\n",
       "  <tbody>\n",
       "    <tr>\n",
       "      <th>0</th>\n",
       "      <td>scANVIpredict</td>\n",
       "      <td>cell</td>\n",
       "      <td>20</td>\n",
       "      <td>0</td>\n",
       "      <td>chemistry</td>\n",
       "      <td>Level2</td>\n",
       "      <td>SVC</td>\n",
       "      <td>0.946409</td>\n",
       "      <td>0.897726</td>\n",
       "      <td>0.91255</td>\n",
       "      <td>SVC</td>\n",
       "      <td>0.286191</td>\n",
       "      <td>0.105699</td>\n",
       "      <td>0.152134</td>\n",
       "    </tr>\n",
       "  </tbody>\n",
       "</table>\n",
       "</div>"
      ],
      "text/plain": [
       "  integration_method embedded_space n_embedded n_Patient_embedded  batchKeys  \\\n",
       "0      scANVIpredict           cell         20                  0  chemistry   \n",
       "\n",
       "  annotation VALIDATION_bestCLF VALIDATION_F1 VALIDATION_BAS VALIDATION_MCC  \\\n",
       "0     Level2                SVC      0.946409       0.897726        0.91255   \n",
       "\n",
       "  EXTERNAL_bestCLF EXTERNAL_F1 EXTERNAL_BAS EXTERNAL_MCC  \n",
       "0              SVC    0.286191     0.105699     0.152134  "
      ]
     },
     "execution_count": 86,
     "metadata": {},
     "output_type": "execute_result"
    }
   ],
   "source": [
    "scPoli_scANVI_aggr_metric_df_BestClf = (scPoli_scANVI_aggr_metric_df_VALIDATION_BestClf\n",
    "                                .merge(scPoli_scANVI_aggr_metric_df_EXTERNAL_BestClf, \n",
    "                                       on=['integration_method','embedded_space','n_embedded',\n",
    "                                           'n_Patient_embedded','batchKeys','annotation'],\n",
    "                                       how='inner'))\n",
    "scPoli_scANVI_aggr_metric_df_BestClf.head(1)"
   ]
  },
  {
   "cell_type": "markdown",
   "id": "4d76b5cf-7439-482e-a27d-673fe01891b5",
   "metadata": {},
   "source": [
    "**Aggregating results from all integration methods**"
   ]
  },
  {
   "cell_type": "code",
   "execution_count": 87,
   "id": "71bfcadd-e70b-4d93-9d69-a6283a2d4a33",
   "metadata": {
    "execution": {
     "iopub.execute_input": "2024-09-01T15:01:04.590117Z",
     "iopub.status.busy": "2024-09-01T15:01:04.589986Z",
     "iopub.status.idle": "2024-09-01T15:01:04.613997Z",
     "shell.execute_reply": "2024-09-01T15:01:04.613608Z",
     "shell.execute_reply.started": "2024-09-01T15:01:04.590105Z"
    },
    "scrolled": true
   },
   "outputs": [
    {
     "data": {
      "text/html": [
       "<div>\n",
       "<style scoped>\n",
       "    .dataframe tbody tr th:only-of-type {\n",
       "        vertical-align: middle;\n",
       "    }\n",
       "\n",
       "    .dataframe tbody tr th {\n",
       "        vertical-align: top;\n",
       "    }\n",
       "\n",
       "    .dataframe thead th {\n",
       "        text-align: right;\n",
       "    }\n",
       "</style>\n",
       "<table border=\"1\" class=\"dataframe\">\n",
       "  <thead>\n",
       "    <tr style=\"text-align: right;\">\n",
       "      <th></th>\n",
       "      <th>integration_method</th>\n",
       "      <th>embedded_space</th>\n",
       "      <th>n_embedded</th>\n",
       "      <th>n_Patient_embedded</th>\n",
       "      <th>batchKeys</th>\n",
       "      <th>annotation</th>\n",
       "      <th>VALIDATION_F1</th>\n",
       "      <th>EXTERNAL_F1</th>\n",
       "      <th>VALIDATION_BAS</th>\n",
       "      <th>EXTERNAL_BAS</th>\n",
       "      <th>VALIDATION_MCC</th>\n",
       "      <th>EXTERNAL_MCC</th>\n",
       "      <th>VALIDATION_bestCLF</th>\n",
       "      <th>EXTERNAL_bestCLF</th>\n",
       "    </tr>\n",
       "  </thead>\n",
       "  <tbody>\n",
       "    <tr>\n",
       "      <th>0</th>\n",
       "      <td>HS</td>\n",
       "      <td>cell</td>\n",
       "      <td>20</td>\n",
       "      <td>0</td>\n",
       "      <td>chemistry</td>\n",
       "      <td>notUsed</td>\n",
       "      <td>0.838607</td>\n",
       "      <td>0.470072</td>\n",
       "      <td>0.688657</td>\n",
       "      <td>0.243183</td>\n",
       "      <td>0.798274</td>\n",
       "      <td>0.380839</td>\n",
       "      <td>SVC</td>\n",
       "      <td>SVC</td>\n",
       "    </tr>\n",
       "    <tr>\n",
       "      <th>1</th>\n",
       "      <td>HS</td>\n",
       "      <td>cell</td>\n",
       "      <td>30</td>\n",
       "      <td>0</td>\n",
       "      <td>chemistry</td>\n",
       "      <td>notUsed</td>\n",
       "      <td>0.809502</td>\n",
       "      <td>0.45134</td>\n",
       "      <td>0.687731</td>\n",
       "      <td>0.242264</td>\n",
       "      <td>0.765303</td>\n",
       "      <td>0.367789</td>\n",
       "      <td>SVC</td>\n",
       "      <td>SVC</td>\n",
       "    </tr>\n",
       "    <tr>\n",
       "      <th>2</th>\n",
       "      <td>HS</td>\n",
       "      <td>cell</td>\n",
       "      <td>50</td>\n",
       "      <td>0</td>\n",
       "      <td>chemistry</td>\n",
       "      <td>notUsed</td>\n",
       "      <td>0.858018</td>\n",
       "      <td>0.414642</td>\n",
       "      <td>0.764583</td>\n",
       "      <td>0.237439</td>\n",
       "      <td>0.825767</td>\n",
       "      <td>0.342401</td>\n",
       "      <td>SVC</td>\n",
       "      <td>SVC</td>\n",
       "    </tr>\n",
       "    <tr>\n",
       "      <th>3</th>\n",
       "      <td>HS</td>\n",
       "      <td>cell</td>\n",
       "      <td>100</td>\n",
       "      <td>0</td>\n",
       "      <td>chemistry</td>\n",
       "      <td>notUsed</td>\n",
       "      <td>0.847609</td>\n",
       "      <td>0.333351</td>\n",
       "      <td>0.780787</td>\n",
       "      <td>0.189262</td>\n",
       "      <td>0.802301</td>\n",
       "      <td>0.25407</td>\n",
       "      <td>SVC</td>\n",
       "      <td>SVC</td>\n",
       "    </tr>\n",
       "    <tr>\n",
       "      <th>4</th>\n",
       "      <td>HS</td>\n",
       "      <td>cell</td>\n",
       "      <td>200</td>\n",
       "      <td>0</td>\n",
       "      <td>chemistry</td>\n",
       "      <td>notUsed</td>\n",
       "      <td>0.935327</td>\n",
       "      <td>0.371826</td>\n",
       "      <td>0.918519</td>\n",
       "      <td>0.178922</td>\n",
       "      <td>0.904789</td>\n",
       "      <td>0.253797</td>\n",
       "      <td>LinearSVC</td>\n",
       "      <td>LinearSVC</td>\n",
       "    </tr>\n",
       "    <tr>\n",
       "      <th>5</th>\n",
       "      <td>scGen</td>\n",
       "      <td>cell</td>\n",
       "      <td>20</td>\n",
       "      <td>0</td>\n",
       "      <td>chemistry</td>\n",
       "      <td>Level2</td>\n",
       "      <td>0.960613</td>\n",
       "      <td>0.338281</td>\n",
       "      <td>0.914352</td>\n",
       "      <td>0.154182</td>\n",
       "      <td>0.938406</td>\n",
       "      <td>0.227306</td>\n",
       "      <td>SVC</td>\n",
       "      <td>SVC</td>\n",
       "    </tr>\n",
       "    <tr>\n",
       "      <th>6</th>\n",
       "      <td>scGen</td>\n",
       "      <td>cell</td>\n",
       "      <td>30</td>\n",
       "      <td>0</td>\n",
       "      <td>chemistry</td>\n",
       "      <td>Level2</td>\n",
       "      <td>0.960346</td>\n",
       "      <td>0.297091</td>\n",
       "      <td>0.918423</td>\n",
       "      <td>0.120404</td>\n",
       "      <td>0.930107</td>\n",
       "      <td>0.167402</td>\n",
       "      <td>SVC</td>\n",
       "      <td>SVC</td>\n",
       "    </tr>\n",
       "    <tr>\n",
       "      <th>7</th>\n",
       "      <td>scGen</td>\n",
       "      <td>cell</td>\n",
       "      <td>50</td>\n",
       "      <td>0</td>\n",
       "      <td>chemistry</td>\n",
       "      <td>Level2</td>\n",
       "      <td>0.981772</td>\n",
       "      <td>0.245478</td>\n",
       "      <td>0.947454</td>\n",
       "      <td>0.112132</td>\n",
       "      <td>0.964906</td>\n",
       "      <td>0.141684</td>\n",
       "      <td>SVC</td>\n",
       "      <td>SVC</td>\n",
       "    </tr>\n",
       "    <tr>\n",
       "      <th>8</th>\n",
       "      <td>scGen</td>\n",
       "      <td>cell</td>\n",
       "      <td>100</td>\n",
       "      <td>0</td>\n",
       "      <td>chemistry</td>\n",
       "      <td>Level2</td>\n",
       "      <td>0.981772</td>\n",
       "      <td>0.268784</td>\n",
       "      <td>0.947454</td>\n",
       "      <td>0.123392</td>\n",
       "      <td>0.964965</td>\n",
       "      <td>0.167701</td>\n",
       "      <td>SVC</td>\n",
       "      <td>SVC</td>\n",
       "    </tr>\n",
       "    <tr>\n",
       "      <th>9</th>\n",
       "      <td>scGen</td>\n",
       "      <td>cell</td>\n",
       "      <td>200</td>\n",
       "      <td>0</td>\n",
       "      <td>chemistry</td>\n",
       "      <td>Level2</td>\n",
       "      <td>0.971173</td>\n",
       "      <td>0.247674</td>\n",
       "      <td>0.917824</td>\n",
       "      <td>0.119485</td>\n",
       "      <td>0.947385</td>\n",
       "      <td>0.151932</td>\n",
       "      <td>SVC</td>\n",
       "      <td>SVC</td>\n",
       "    </tr>\n",
       "    <tr>\n",
       "      <th>10</th>\n",
       "      <td>scANVIpredict</td>\n",
       "      <td>cell</td>\n",
       "      <td>20</td>\n",
       "      <td>0</td>\n",
       "      <td>chemistry</td>\n",
       "      <td>Level2</td>\n",
       "      <td>0.946409</td>\n",
       "      <td>0.286191</td>\n",
       "      <td>0.897726</td>\n",
       "      <td>0.105699</td>\n",
       "      <td>0.91255</td>\n",
       "      <td>0.152134</td>\n",
       "      <td>SVC</td>\n",
       "      <td>SVC</td>\n",
       "    </tr>\n",
       "    <tr>\n",
       "      <th>11</th>\n",
       "      <td>scANVIpredict</td>\n",
       "      <td>cell</td>\n",
       "      <td>30</td>\n",
       "      <td>0</td>\n",
       "      <td>chemistry</td>\n",
       "      <td>Level2</td>\n",
       "      <td>0.975024</td>\n",
       "      <td>0.228342</td>\n",
       "      <td>0.949905</td>\n",
       "      <td>0.118566</td>\n",
       "      <td>0.964669</td>\n",
       "      <td>0.167898</td>\n",
       "      <td>SVC</td>\n",
       "      <td>SVC</td>\n",
       "    </tr>\n",
       "    <tr>\n",
       "      <th>12</th>\n",
       "      <td>scANVIpredict</td>\n",
       "      <td>cell</td>\n",
       "      <td>50</td>\n",
       "      <td>0</td>\n",
       "      <td>chemistry</td>\n",
       "      <td>Level2</td>\n",
       "      <td>0.957178</td>\n",
       "      <td>0.161539</td>\n",
       "      <td>0.907312</td>\n",
       "      <td>0.110754</td>\n",
       "      <td>0.929746</td>\n",
       "      <td>0.12916</td>\n",
       "      <td>SVC</td>\n",
       "      <td>SVC</td>\n",
       "    </tr>\n",
       "    <tr>\n",
       "      <th>13</th>\n",
       "      <td>scANVIpredict</td>\n",
       "      <td>cell</td>\n",
       "      <td>100</td>\n",
       "      <td>0</td>\n",
       "      <td>chemistry</td>\n",
       "      <td>Level2</td>\n",
       "      <td>0.957237</td>\n",
       "      <td>0.205057</td>\n",
       "      <td>0.927356</td>\n",
       "      <td>0.111213</td>\n",
       "      <td>0.929829</td>\n",
       "      <td>0.144109</td>\n",
       "      <td>SVC</td>\n",
       "      <td>SVC</td>\n",
       "    </tr>\n",
       "    <tr>\n",
       "      <th>14</th>\n",
       "      <td>scANVIpredict</td>\n",
       "      <td>cell</td>\n",
       "      <td>200</td>\n",
       "      <td>0</td>\n",
       "      <td>chemistry</td>\n",
       "      <td>Level2</td>\n",
       "      <td>0.968119</td>\n",
       "      <td>0.249284</td>\n",
       "      <td>0.960689</td>\n",
       "      <td>0.115579</td>\n",
       "      <td>0.947486</td>\n",
       "      <td>0.158553</td>\n",
       "      <td>LinearSVC</td>\n",
       "      <td>SVC</td>\n",
       "    </tr>\n",
       "    <tr>\n",
       "      <th>15</th>\n",
       "      <td>scPoli</td>\n",
       "      <td>cell</td>\n",
       "      <td>20</td>\n",
       "      <td>20</td>\n",
       "      <td>chemistry</td>\n",
       "      <td>Level1n2</td>\n",
       "      <td>0.927213</td>\n",
       "      <td>0.119576</td>\n",
       "      <td>0.862908</td>\n",
       "      <td>0.064645</td>\n",
       "      <td>0.904481</td>\n",
       "      <td>0.034966</td>\n",
       "      <td>SVC</td>\n",
       "      <td>SVC</td>\n",
       "    </tr>\n",
       "    <tr>\n",
       "      <th>16</th>\n",
       "      <td>scPoli</td>\n",
       "      <td>cell</td>\n",
       "      <td>20</td>\n",
       "      <td>50</td>\n",
       "      <td>chemistry</td>\n",
       "      <td>Level1n2</td>\n",
       "      <td>0.890831</td>\n",
       "      <td>0.234182</td>\n",
       "      <td>0.735362</td>\n",
       "      <td>0.092754</td>\n",
       "      <td>0.819395</td>\n",
       "      <td>0.11048</td>\n",
       "      <td>SVC</td>\n",
       "      <td>SVC</td>\n",
       "    </tr>\n",
       "    <tr>\n",
       "      <th>17</th>\n",
       "      <td>scPoli</td>\n",
       "      <td>cell</td>\n",
       "      <td>20</td>\n",
       "      <td>100</td>\n",
       "      <td>chemistry</td>\n",
       "      <td>Level1n2</td>\n",
       "      <td>0.920069</td>\n",
       "      <td>0.270986</td>\n",
       "      <td>0.790319</td>\n",
       "      <td>0.117494</td>\n",
       "      <td>0.869864</td>\n",
       "      <td>0.138599</td>\n",
       "      <td>SVC</td>\n",
       "      <td>SVC</td>\n",
       "    </tr>\n",
       "    <tr>\n",
       "      <th>18</th>\n",
       "      <td>scPoli</td>\n",
       "      <td>cell</td>\n",
       "      <td>30</td>\n",
       "      <td>20</td>\n",
       "      <td>chemistry</td>\n",
       "      <td>Level1n2</td>\n",
       "      <td>0.923731</td>\n",
       "      <td>0.317414</td>\n",
       "      <td>0.834763</td>\n",
       "      <td>0.126225</td>\n",
       "      <td>0.88658</td>\n",
       "      <td>0.181714</td>\n",
       "      <td>LinearSVC</td>\n",
       "      <td>LinearSVC</td>\n",
       "    </tr>\n",
       "    <tr>\n",
       "      <th>19</th>\n",
       "      <td>scPoli</td>\n",
       "      <td>cell</td>\n",
       "      <td>30</td>\n",
       "      <td>100</td>\n",
       "      <td>chemistry</td>\n",
       "      <td>Level1n2</td>\n",
       "      <td>0.910344</td>\n",
       "      <td>0.228793</td>\n",
       "      <td>0.828282</td>\n",
       "      <td>0.074602</td>\n",
       "      <td>0.862278</td>\n",
       "      <td>0.106262</td>\n",
       "      <td>LinearSVC</td>\n",
       "      <td>LinearSVC</td>\n",
       "    </tr>\n",
       "    <tr>\n",
       "      <th>20</th>\n",
       "      <td>scPoli</td>\n",
       "      <td>cell</td>\n",
       "      <td>50</td>\n",
       "      <td>20</td>\n",
       "      <td>chemistry</td>\n",
       "      <td>Level1n2</td>\n",
       "      <td>0.942318</td>\n",
       "      <td>0.360866</td>\n",
       "      <td>0.900776</td>\n",
       "      <td>0.148284</td>\n",
       "      <td>0.905178</td>\n",
       "      <td>0.209832</td>\n",
       "      <td>LinearSVC</td>\n",
       "      <td>LinearSVC</td>\n",
       "    </tr>\n",
       "    <tr>\n",
       "      <th>21</th>\n",
       "      <td>scPoli</td>\n",
       "      <td>cell</td>\n",
       "      <td>50</td>\n",
       "      <td>100</td>\n",
       "      <td>chemistry</td>\n",
       "      <td>Level1n2</td>\n",
       "      <td>0.971494</td>\n",
       "      <td>0.325047</td>\n",
       "      <td>0.961846</td>\n",
       "      <td>0.109298</td>\n",
       "      <td>0.947626</td>\n",
       "      <td>0.172203</td>\n",
       "      <td>LinearSVC</td>\n",
       "      <td>LinearSVC</td>\n",
       "    </tr>\n",
       "    <tr>\n",
       "      <th>22</th>\n",
       "      <td>scPoli</td>\n",
       "      <td>cell</td>\n",
       "      <td>100</td>\n",
       "      <td>20</td>\n",
       "      <td>chemistry</td>\n",
       "      <td>Level1n2</td>\n",
       "      <td>0.964604</td>\n",
       "      <td>0.406379</td>\n",
       "      <td>0.945507</td>\n",
       "      <td>0.179381</td>\n",
       "      <td>0.947207</td>\n",
       "      <td>0.27</td>\n",
       "      <td>LinearSVC</td>\n",
       "      <td>LinearSVC</td>\n",
       "    </tr>\n",
       "    <tr>\n",
       "      <th>23</th>\n",
       "      <td>scPoli</td>\n",
       "      <td>cell</td>\n",
       "      <td>100</td>\n",
       "      <td>100</td>\n",
       "      <td>chemistry</td>\n",
       "      <td>Level1n2</td>\n",
       "      <td>0.959551</td>\n",
       "      <td>0.294048</td>\n",
       "      <td>0.899537</td>\n",
       "      <td>0.146906</td>\n",
       "      <td>0.930111</td>\n",
       "      <td>0.170439</td>\n",
       "      <td>LinearSVC</td>\n",
       "      <td>LinearSVC</td>\n",
       "    </tr>\n",
       "    <tr>\n",
       "      <th>24</th>\n",
       "      <td>scPoli</td>\n",
       "      <td>cell</td>\n",
       "      <td>200</td>\n",
       "      <td>100</td>\n",
       "      <td>chemistry</td>\n",
       "      <td>Level1n2</td>\n",
       "      <td>0.936274</td>\n",
       "      <td>0.400094</td>\n",
       "      <td>0.874769</td>\n",
       "      <td>0.155714</td>\n",
       "      <td>0.921835</td>\n",
       "      <td>0.241332</td>\n",
       "      <td>LinearSVC</td>\n",
       "      <td>LinearSVC</td>\n",
       "    </tr>\n",
       "    <tr>\n",
       "      <th>25</th>\n",
       "      <td>scPoli</td>\n",
       "      <td>cellSample</td>\n",
       "      <td>20</td>\n",
       "      <td>20</td>\n",
       "      <td>chemistry</td>\n",
       "      <td>Level1n2</td>\n",
       "      <td>0.886084</td>\n",
       "      <td>0.214255</td>\n",
       "      <td>0.842729</td>\n",
       "      <td>0.100873</td>\n",
       "      <td>0.843908</td>\n",
       "      <td>0.106129</td>\n",
       "      <td>SVC</td>\n",
       "      <td>SVC</td>\n",
       "    </tr>\n",
       "    <tr>\n",
       "      <th>26</th>\n",
       "      <td>scPoli</td>\n",
       "      <td>cellSample</td>\n",
       "      <td>20</td>\n",
       "      <td>50</td>\n",
       "      <td>chemistry</td>\n",
       "      <td>Level1n2</td>\n",
       "      <td>0.825826</td>\n",
       "      <td>0.142613</td>\n",
       "      <td>0.766204</td>\n",
       "      <td>0.110754</td>\n",
       "      <td>0.77473</td>\n",
       "      <td>0.107572</td>\n",
       "      <td>SVC</td>\n",
       "      <td>SVC</td>\n",
       "    </tr>\n",
       "    <tr>\n",
       "      <th>27</th>\n",
       "      <td>scPoli</td>\n",
       "      <td>cellSample</td>\n",
       "      <td>20</td>\n",
       "      <td>100</td>\n",
       "      <td>chemistry</td>\n",
       "      <td>Level1n2</td>\n",
       "      <td>0.634552</td>\n",
       "      <td>0.309723</td>\n",
       "      <td>0.49375</td>\n",
       "      <td>0.142923</td>\n",
       "      <td>0.571365</td>\n",
       "      <td>0.18767</td>\n",
       "      <td>SVC</td>\n",
       "      <td>SVC</td>\n",
       "    </tr>\n",
       "    <tr>\n",
       "      <th>28</th>\n",
       "      <td>scPoli</td>\n",
       "      <td>cellSample</td>\n",
       "      <td>30</td>\n",
       "      <td>20</td>\n",
       "      <td>chemistry</td>\n",
       "      <td>Level1n2</td>\n",
       "      <td>0.905926</td>\n",
       "      <td>0.234708</td>\n",
       "      <td>0.913426</td>\n",
       "      <td>0.108226</td>\n",
       "      <td>0.879981</td>\n",
       "      <td>0.136028</td>\n",
       "      <td>SVC</td>\n",
       "      <td>SVC</td>\n",
       "    </tr>\n",
       "    <tr>\n",
       "      <th>29</th>\n",
       "      <td>scPoli</td>\n",
       "      <td>cellSample</td>\n",
       "      <td>30</td>\n",
       "      <td>100</td>\n",
       "      <td>chemistry</td>\n",
       "      <td>Level1n2</td>\n",
       "      <td>0.742913</td>\n",
       "      <td>0.28054</td>\n",
       "      <td>0.580324</td>\n",
       "      <td>0.138557</td>\n",
       "      <td>0.6912</td>\n",
       "      <td>0.172944</td>\n",
       "      <td>SVC</td>\n",
       "      <td>SVC</td>\n",
       "    </tr>\n",
       "    <tr>\n",
       "      <th>30</th>\n",
       "      <td>scPoli</td>\n",
       "      <td>cellSample</td>\n",
       "      <td>50</td>\n",
       "      <td>20</td>\n",
       "      <td>chemistry</td>\n",
       "      <td>Level1n2</td>\n",
       "      <td>0.832642</td>\n",
       "      <td>0.160428</td>\n",
       "      <td>0.741898</td>\n",
       "      <td>0.092601</td>\n",
       "      <td>0.774883</td>\n",
       "      <td>0.099638</td>\n",
       "      <td>SVC</td>\n",
       "      <td>SVC</td>\n",
       "    </tr>\n",
       "    <tr>\n",
       "      <th>31</th>\n",
       "      <td>scPoli</td>\n",
       "      <td>cellSample</td>\n",
       "      <td>50</td>\n",
       "      <td>100</td>\n",
       "      <td>chemistry</td>\n",
       "      <td>Level1n2</td>\n",
       "      <td>0.709538</td>\n",
       "      <td>0.162625</td>\n",
       "      <td>0.520602</td>\n",
       "      <td>0.107307</td>\n",
       "      <td>0.643363</td>\n",
       "      <td>0.107641</td>\n",
       "      <td>SVC</td>\n",
       "      <td>SVC</td>\n",
       "    </tr>\n",
       "    <tr>\n",
       "      <th>32</th>\n",
       "      <td>scPoli</td>\n",
       "      <td>cellSample</td>\n",
       "      <td>100</td>\n",
       "      <td>20</td>\n",
       "      <td>chemistry</td>\n",
       "      <td>Level1n2</td>\n",
       "      <td>0.862565</td>\n",
       "      <td>0.102298</td>\n",
       "      <td>0.871991</td>\n",
       "      <td>0.092142</td>\n",
       "      <td>0.826395</td>\n",
       "      <td>0.049492</td>\n",
       "      <td>SVC</td>\n",
       "      <td>SVC</td>\n",
       "    </tr>\n",
       "    <tr>\n",
       "      <th>33</th>\n",
       "      <td>scPoli</td>\n",
       "      <td>cellSample</td>\n",
       "      <td>100</td>\n",
       "      <td>100</td>\n",
       "      <td>chemistry</td>\n",
       "      <td>Level1n2</td>\n",
       "      <td>0.674562</td>\n",
       "      <td>0.196408</td>\n",
       "      <td>0.617593</td>\n",
       "      <td>0.137178</td>\n",
       "      <td>0.613301</td>\n",
       "      <td>0.155701</td>\n",
       "      <td>SVC</td>\n",
       "      <td>SVC</td>\n",
       "    </tr>\n",
       "    <tr>\n",
       "      <th>34</th>\n",
       "      <td>scPoli</td>\n",
       "      <td>cellSample</td>\n",
       "      <td>200</td>\n",
       "      <td>100</td>\n",
       "      <td>chemistry</td>\n",
       "      <td>Level1n2</td>\n",
       "      <td>0.65742</td>\n",
       "      <td>0.456221</td>\n",
       "      <td>0.416435</td>\n",
       "      <td>0.235294</td>\n",
       "      <td>0.625259</td>\n",
       "      <td>0.448433</td>\n",
       "      <td>SVC</td>\n",
       "      <td>SVC</td>\n",
       "    </tr>\n",
       "    <tr>\n",
       "      <th>35</th>\n",
       "      <td>scPoli</td>\n",
       "      <td>sample</td>\n",
       "      <td>20</td>\n",
       "      <td>20</td>\n",
       "      <td>chemistry</td>\n",
       "      <td>Level1n2</td>\n",
       "      <td>0.913266</td>\n",
       "      <td>0.259812</td>\n",
       "      <td>0.86875</td>\n",
       "      <td>0.148897</td>\n",
       "      <td>0.886625</td>\n",
       "      <td>0.192001</td>\n",
       "      <td>SVC</td>\n",
       "      <td>SVC</td>\n",
       "    </tr>\n",
       "    <tr>\n",
       "      <th>36</th>\n",
       "      <td>scPoli</td>\n",
       "      <td>sample</td>\n",
       "      <td>20</td>\n",
       "      <td>50</td>\n",
       "      <td>chemistry</td>\n",
       "      <td>Level1n2</td>\n",
       "      <td>0.637684</td>\n",
       "      <td>0.134376</td>\n",
       "      <td>0.401852</td>\n",
       "      <td>0.088695</td>\n",
       "      <td>0.567283</td>\n",
       "      <td>0.084814</td>\n",
       "      <td>LinearSVC</td>\n",
       "      <td>LinearSVC</td>\n",
       "    </tr>\n",
       "    <tr>\n",
       "      <th>37</th>\n",
       "      <td>scPoli</td>\n",
       "      <td>sample</td>\n",
       "      <td>20</td>\n",
       "      <td>100</td>\n",
       "      <td>chemistry</td>\n",
       "      <td>Level1n2</td>\n",
       "      <td>0.594224</td>\n",
       "      <td>0.363728</td>\n",
       "      <td>0.435648</td>\n",
       "      <td>0.17716</td>\n",
       "      <td>0.531864</td>\n",
       "      <td>0.264662</td>\n",
       "      <td>SVC</td>\n",
       "      <td>SVC</td>\n",
       "    </tr>\n",
       "    <tr>\n",
       "      <th>38</th>\n",
       "      <td>scPoli</td>\n",
       "      <td>sample</td>\n",
       "      <td>30</td>\n",
       "      <td>20</td>\n",
       "      <td>chemistry</td>\n",
       "      <td>Level1n2</td>\n",
       "      <td>0.840896</td>\n",
       "      <td>0.301797</td>\n",
       "      <td>0.768056</td>\n",
       "      <td>0.142463</td>\n",
       "      <td>0.800168</td>\n",
       "      <td>0.193204</td>\n",
       "      <td>SVC</td>\n",
       "      <td>SVC</td>\n",
       "    </tr>\n",
       "    <tr>\n",
       "      <th>39</th>\n",
       "      <td>scPoli</td>\n",
       "      <td>sample</td>\n",
       "      <td>30</td>\n",
       "      <td>100</td>\n",
       "      <td>chemistry</td>\n",
       "      <td>Level1n2</td>\n",
       "      <td>0.695736</td>\n",
       "      <td>0.272836</td>\n",
       "      <td>0.557176</td>\n",
       "      <td>0.149357</td>\n",
       "      <td>0.646242</td>\n",
       "      <td>0.19075</td>\n",
       "      <td>SVC</td>\n",
       "      <td>SVC</td>\n",
       "    </tr>\n",
       "    <tr>\n",
       "      <th>40</th>\n",
       "      <td>scPoli</td>\n",
       "      <td>sample</td>\n",
       "      <td>50</td>\n",
       "      <td>20</td>\n",
       "      <td>chemistry</td>\n",
       "      <td>Level1n2</td>\n",
       "      <td>0.799188</td>\n",
       "      <td>0.179181</td>\n",
       "      <td>0.695602</td>\n",
       "      <td>0.120787</td>\n",
       "      <td>0.739485</td>\n",
       "      <td>0.123198</td>\n",
       "      <td>SVC</td>\n",
       "      <td>SVC</td>\n",
       "    </tr>\n",
       "    <tr>\n",
       "      <th>41</th>\n",
       "      <td>scPoli</td>\n",
       "      <td>sample</td>\n",
       "      <td>50</td>\n",
       "      <td>100</td>\n",
       "      <td>chemistry</td>\n",
       "      <td>Level1n2</td>\n",
       "      <td>0.688811</td>\n",
       "      <td>0.157599</td>\n",
       "      <td>0.544907</td>\n",
       "      <td>0.11466</td>\n",
       "      <td>0.632426</td>\n",
       "      <td>0.113898</td>\n",
       "      <td>SVC</td>\n",
       "      <td>SVC</td>\n",
       "    </tr>\n",
       "    <tr>\n",
       "      <th>42</th>\n",
       "      <td>scPoli</td>\n",
       "      <td>sample</td>\n",
       "      <td>100</td>\n",
       "      <td>20</td>\n",
       "      <td>chemistry</td>\n",
       "      <td>Level1n2</td>\n",
       "      <td>0.826094</td>\n",
       "      <td>0.121388</td>\n",
       "      <td>0.793287</td>\n",
       "      <td>0.1142</td>\n",
       "      <td>0.781962</td>\n",
       "      <td>0.101494</td>\n",
       "      <td>SVC</td>\n",
       "      <td>SVC</td>\n",
       "    </tr>\n",
       "    <tr>\n",
       "      <th>43</th>\n",
       "      <td>scPoli</td>\n",
       "      <td>sample</td>\n",
       "      <td>100</td>\n",
       "      <td>100</td>\n",
       "      <td>chemistry</td>\n",
       "      <td>Level1n2</td>\n",
       "      <td>0.63142</td>\n",
       "      <td>0.352599</td>\n",
       "      <td>0.502778</td>\n",
       "      <td>0.184053</td>\n",
       "      <td>0.563343</td>\n",
       "      <td>0.279476</td>\n",
       "      <td>SVC</td>\n",
       "      <td>SVC</td>\n",
       "    </tr>\n",
       "    <tr>\n",
       "      <th>44</th>\n",
       "      <td>scPoli</td>\n",
       "      <td>sample</td>\n",
       "      <td>200</td>\n",
       "      <td>100</td>\n",
       "      <td>chemistry</td>\n",
       "      <td>Level1n2</td>\n",
       "      <td>0.596991</td>\n",
       "      <td>0.461224</td>\n",
       "      <td>0.365278</td>\n",
       "      <td>0.242647</td>\n",
       "      <td>0.552532</td>\n",
       "      <td>0.455269</td>\n",
       "      <td>SVC</td>\n",
       "      <td>SVC</td>\n",
       "    </tr>\n",
       "  </tbody>\n",
       "</table>\n",
       "</div>"
      ],
      "text/plain": [
       "   integration_method embedded_space n_embedded n_Patient_embedded  batchKeys  \\\n",
       "0                  HS           cell         20                  0  chemistry   \n",
       "1                  HS           cell         30                  0  chemistry   \n",
       "2                  HS           cell         50                  0  chemistry   \n",
       "3                  HS           cell        100                  0  chemistry   \n",
       "4                  HS           cell        200                  0  chemistry   \n",
       "5               scGen           cell         20                  0  chemistry   \n",
       "6               scGen           cell         30                  0  chemistry   \n",
       "7               scGen           cell         50                  0  chemistry   \n",
       "8               scGen           cell        100                  0  chemistry   \n",
       "9               scGen           cell        200                  0  chemistry   \n",
       "10      scANVIpredict           cell         20                  0  chemistry   \n",
       "11      scANVIpredict           cell         30                  0  chemistry   \n",
       "12      scANVIpredict           cell         50                  0  chemistry   \n",
       "13      scANVIpredict           cell        100                  0  chemistry   \n",
       "14      scANVIpredict           cell        200                  0  chemistry   \n",
       "15             scPoli           cell         20                 20  chemistry   \n",
       "16             scPoli           cell         20                 50  chemistry   \n",
       "17             scPoli           cell         20                100  chemistry   \n",
       "18             scPoli           cell         30                 20  chemistry   \n",
       "19             scPoli           cell         30                100  chemistry   \n",
       "20             scPoli           cell         50                 20  chemistry   \n",
       "21             scPoli           cell         50                100  chemistry   \n",
       "22             scPoli           cell        100                 20  chemistry   \n",
       "23             scPoli           cell        100                100  chemistry   \n",
       "24             scPoli           cell        200                100  chemistry   \n",
       "25             scPoli     cellSample         20                 20  chemistry   \n",
       "26             scPoli     cellSample         20                 50  chemistry   \n",
       "27             scPoli     cellSample         20                100  chemistry   \n",
       "28             scPoli     cellSample         30                 20  chemistry   \n",
       "29             scPoli     cellSample         30                100  chemistry   \n",
       "30             scPoli     cellSample         50                 20  chemistry   \n",
       "31             scPoli     cellSample         50                100  chemistry   \n",
       "32             scPoli     cellSample        100                 20  chemistry   \n",
       "33             scPoli     cellSample        100                100  chemistry   \n",
       "34             scPoli     cellSample        200                100  chemistry   \n",
       "35             scPoli         sample         20                 20  chemistry   \n",
       "36             scPoli         sample         20                 50  chemistry   \n",
       "37             scPoli         sample         20                100  chemistry   \n",
       "38             scPoli         sample         30                 20  chemistry   \n",
       "39             scPoli         sample         30                100  chemistry   \n",
       "40             scPoli         sample         50                 20  chemistry   \n",
       "41             scPoli         sample         50                100  chemistry   \n",
       "42             scPoli         sample        100                 20  chemistry   \n",
       "43             scPoli         sample        100                100  chemistry   \n",
       "44             scPoli         sample        200                100  chemistry   \n",
       "\n",
       "   annotation VALIDATION_F1 EXTERNAL_F1 VALIDATION_BAS EXTERNAL_BAS  \\\n",
       "0     notUsed      0.838607    0.470072       0.688657     0.243183   \n",
       "1     notUsed      0.809502     0.45134       0.687731     0.242264   \n",
       "2     notUsed      0.858018    0.414642       0.764583     0.237439   \n",
       "3     notUsed      0.847609    0.333351       0.780787     0.189262   \n",
       "4     notUsed      0.935327    0.371826       0.918519     0.178922   \n",
       "5      Level2      0.960613    0.338281       0.914352     0.154182   \n",
       "6      Level2      0.960346    0.297091       0.918423     0.120404   \n",
       "7      Level2      0.981772    0.245478       0.947454     0.112132   \n",
       "8      Level2      0.981772    0.268784       0.947454     0.123392   \n",
       "9      Level2      0.971173    0.247674       0.917824     0.119485   \n",
       "10     Level2      0.946409    0.286191       0.897726     0.105699   \n",
       "11     Level2      0.975024    0.228342       0.949905     0.118566   \n",
       "12     Level2      0.957178    0.161539       0.907312     0.110754   \n",
       "13     Level2      0.957237    0.205057       0.927356     0.111213   \n",
       "14     Level2      0.968119    0.249284       0.960689     0.115579   \n",
       "15   Level1n2      0.927213    0.119576       0.862908     0.064645   \n",
       "16   Level1n2      0.890831    0.234182       0.735362     0.092754   \n",
       "17   Level1n2      0.920069    0.270986       0.790319     0.117494   \n",
       "18   Level1n2      0.923731    0.317414       0.834763     0.126225   \n",
       "19   Level1n2      0.910344    0.228793       0.828282     0.074602   \n",
       "20   Level1n2      0.942318    0.360866       0.900776     0.148284   \n",
       "21   Level1n2      0.971494    0.325047       0.961846     0.109298   \n",
       "22   Level1n2      0.964604    0.406379       0.945507     0.179381   \n",
       "23   Level1n2      0.959551    0.294048       0.899537     0.146906   \n",
       "24   Level1n2      0.936274    0.400094       0.874769     0.155714   \n",
       "25   Level1n2      0.886084    0.214255       0.842729     0.100873   \n",
       "26   Level1n2      0.825826    0.142613       0.766204     0.110754   \n",
       "27   Level1n2      0.634552    0.309723        0.49375     0.142923   \n",
       "28   Level1n2      0.905926    0.234708       0.913426     0.108226   \n",
       "29   Level1n2      0.742913     0.28054       0.580324     0.138557   \n",
       "30   Level1n2      0.832642    0.160428       0.741898     0.092601   \n",
       "31   Level1n2      0.709538    0.162625       0.520602     0.107307   \n",
       "32   Level1n2      0.862565    0.102298       0.871991     0.092142   \n",
       "33   Level1n2      0.674562    0.196408       0.617593     0.137178   \n",
       "34   Level1n2       0.65742    0.456221       0.416435     0.235294   \n",
       "35   Level1n2      0.913266    0.259812        0.86875     0.148897   \n",
       "36   Level1n2      0.637684    0.134376       0.401852     0.088695   \n",
       "37   Level1n2      0.594224    0.363728       0.435648      0.17716   \n",
       "38   Level1n2      0.840896    0.301797       0.768056     0.142463   \n",
       "39   Level1n2      0.695736    0.272836       0.557176     0.149357   \n",
       "40   Level1n2      0.799188    0.179181       0.695602     0.120787   \n",
       "41   Level1n2      0.688811    0.157599       0.544907      0.11466   \n",
       "42   Level1n2      0.826094    0.121388       0.793287       0.1142   \n",
       "43   Level1n2       0.63142    0.352599       0.502778     0.184053   \n",
       "44   Level1n2      0.596991    0.461224       0.365278     0.242647   \n",
       "\n",
       "   VALIDATION_MCC EXTERNAL_MCC VALIDATION_bestCLF EXTERNAL_bestCLF  \n",
       "0        0.798274     0.380839                SVC              SVC  \n",
       "1        0.765303     0.367789                SVC              SVC  \n",
       "2        0.825767     0.342401                SVC              SVC  \n",
       "3        0.802301      0.25407                SVC              SVC  \n",
       "4        0.904789     0.253797          LinearSVC        LinearSVC  \n",
       "5        0.938406     0.227306                SVC              SVC  \n",
       "6        0.930107     0.167402                SVC              SVC  \n",
       "7        0.964906     0.141684                SVC              SVC  \n",
       "8        0.964965     0.167701                SVC              SVC  \n",
       "9        0.947385     0.151932                SVC              SVC  \n",
       "10        0.91255     0.152134                SVC              SVC  \n",
       "11       0.964669     0.167898                SVC              SVC  \n",
       "12       0.929746      0.12916                SVC              SVC  \n",
       "13       0.929829     0.144109                SVC              SVC  \n",
       "14       0.947486     0.158553          LinearSVC              SVC  \n",
       "15       0.904481     0.034966                SVC              SVC  \n",
       "16       0.819395      0.11048                SVC              SVC  \n",
       "17       0.869864     0.138599                SVC              SVC  \n",
       "18        0.88658     0.181714          LinearSVC        LinearSVC  \n",
       "19       0.862278     0.106262          LinearSVC        LinearSVC  \n",
       "20       0.905178     0.209832          LinearSVC        LinearSVC  \n",
       "21       0.947626     0.172203          LinearSVC        LinearSVC  \n",
       "22       0.947207         0.27          LinearSVC        LinearSVC  \n",
       "23       0.930111     0.170439          LinearSVC        LinearSVC  \n",
       "24       0.921835     0.241332          LinearSVC        LinearSVC  \n",
       "25       0.843908     0.106129                SVC              SVC  \n",
       "26        0.77473     0.107572                SVC              SVC  \n",
       "27       0.571365      0.18767                SVC              SVC  \n",
       "28       0.879981     0.136028                SVC              SVC  \n",
       "29         0.6912     0.172944                SVC              SVC  \n",
       "30       0.774883     0.099638                SVC              SVC  \n",
       "31       0.643363     0.107641                SVC              SVC  \n",
       "32       0.826395     0.049492                SVC              SVC  \n",
       "33       0.613301     0.155701                SVC              SVC  \n",
       "34       0.625259     0.448433                SVC              SVC  \n",
       "35       0.886625     0.192001                SVC              SVC  \n",
       "36       0.567283     0.084814          LinearSVC        LinearSVC  \n",
       "37       0.531864     0.264662                SVC              SVC  \n",
       "38       0.800168     0.193204                SVC              SVC  \n",
       "39       0.646242      0.19075                SVC              SVC  \n",
       "40       0.739485     0.123198                SVC              SVC  \n",
       "41       0.632426     0.113898                SVC              SVC  \n",
       "42       0.781962     0.101494                SVC              SVC  \n",
       "43       0.563343     0.279476                SVC              SVC  \n",
       "44       0.552532     0.455269                SVC              SVC  "
      ]
     },
     "execution_count": 87,
     "metadata": {},
     "output_type": "execute_result"
    }
   ],
   "source": [
    "aggr_metric_df = pd.concat([HS_scGen_aggr_metric_df_BestClf, scPoli_scANVI_aggr_metric_df_BestClf], axis=0, ignore_index=True)\n",
    "aggr_metric_df"
   ]
  },
  {
   "cell_type": "code",
   "execution_count": 88,
   "id": "379f92ad-91e0-4052-85c2-ffbba39abed7",
   "metadata": {
    "execution": {
     "iopub.execute_input": "2024-09-01T15:01:04.614864Z",
     "iopub.status.busy": "2024-09-01T15:01:04.614598Z",
     "iopub.status.idle": "2024-09-01T15:01:04.701766Z",
     "shell.execute_reply": "2024-09-01T15:01:04.701403Z",
     "shell.execute_reply.started": "2024-09-01T15:01:04.614850Z"
    }
   },
   "outputs": [
    {
     "data": {
      "text/plain": [
       "integration_method\n",
       "scPoli           30\n",
       "HS                5\n",
       "scGen             5\n",
       "scANVIpredict     5\n",
       "Name: count, dtype: int64"
      ]
     },
     "execution_count": 88,
     "metadata": {},
     "output_type": "execute_result"
    }
   ],
   "source": [
    "aggr_metric_df.integration_method.value_counts()"
   ]
  },
  {
   "cell_type": "code",
   "execution_count": 89,
   "id": "4cacca96-88ce-4714-8c9d-407dca8b86a9",
   "metadata": {
    "execution": {
     "iopub.execute_input": "2024-09-01T15:01:04.702355Z",
     "iopub.status.busy": "2024-09-01T15:01:04.702229Z",
     "iopub.status.idle": "2024-09-01T15:01:04.715086Z",
     "shell.execute_reply": "2024-09-01T15:01:04.714717Z",
     "shell.execute_reply.started": "2024-09-01T15:01:04.702344Z"
    }
   },
   "outputs": [],
   "source": [
    "for col in aggr_metric_df.columns:\n",
    "    try:\n",
    "        aggr_metric_df[col] = pd.to_numeric(aggr_metric_df[col]).round(decimals=3)\n",
    "    except ValueError:\n",
    "        aggr_metric_df[col] = aggr_metric_df[col].astype('category')"
   ]
  },
  {
   "cell_type": "code",
   "execution_count": 90,
   "id": "73968851-5603-423b-b86a-6e92d5d230c0",
   "metadata": {
    "execution": {
     "iopub.execute_input": "2024-09-01T15:01:04.715670Z",
     "iopub.status.busy": "2024-09-01T15:01:04.715541Z",
     "iopub.status.idle": "2024-09-01T15:01:04.726759Z",
     "shell.execute_reply": "2024-09-01T15:01:04.726396Z",
     "shell.execute_reply.started": "2024-09-01T15:01:04.715657Z"
    }
   },
   "outputs": [],
   "source": [
    "for col in ['n_embedded','n_Patient_embedded']:\n",
    "    aggr_metric_df[col] = aggr_metric_df[col].astype(int).astype(str).astype('category')"
   ]
  },
  {
   "cell_type": "markdown",
   "id": "96f470b4-b336-4bb0-8bd9-ad445892c52b",
   "metadata": {},
   "source": [
    "### Computing additional metrics"
   ]
  },
  {
   "cell_type": "code",
   "execution_count": 91,
   "id": "2e178fb9-66c1-4cb0-8467-e8393dd66873",
   "metadata": {
    "execution": {
     "iopub.execute_input": "2024-09-01T15:01:04.727429Z",
     "iopub.status.busy": "2024-09-01T15:01:04.727298Z",
     "iopub.status.idle": "2024-09-01T15:01:04.737416Z",
     "shell.execute_reply": "2024-09-01T15:01:04.737062Z",
     "shell.execute_reply.started": "2024-09-01T15:01:04.727416Z"
    }
   },
   "outputs": [],
   "source": [
    "def get_add_metric(disease_true, disease_pred):\n",
    "    from sklearn.metrics import confusion_matrix\n",
    "    \n",
    "    disease_true = np.array(disease_true)\n",
    "    disease_pred = np.array(disease_pred)\n",
    "    res = []\n",
    "    for d in np.unique(disease_true):\n",
    "        support = (disease_true==d).sum()\n",
    "        \n",
    "        tn, fp, fn, tp = confusion_matrix(disease_true==d, disease_pred==d).ravel()\n",
    "    \n",
    "    \n",
    "        prec = (tp / (tp+fp))\n",
    "        recall = (tp / (tp+fn))\n",
    "        specificity = (tn / (tn+fp))\n",
    "        \n",
    "        res.append([d, prec, recall, specificity, support])\n",
    "    \n",
    "    res = pd.DataFrame(res).fillna(0).set_index(0)\n",
    "    Wprecision = np.average(res.loc[:,1], weights= res.loc[:,4])\n",
    "    Wrecall = np.average(res.loc[:,2], weights= res.loc[:,4])\n",
    "    Wspecifitity = np.average(res.loc[:,3], weights= res.loc[:,4])\n",
    "    return (Wprecision,Wrecall,Wspecifitity)"
   ]
  },
  {
   "cell_type": "code",
   "execution_count": null,
   "id": "581896cc-50f6-42c1-b956-43016530df06",
   "metadata": {
    "execution": {
     "iopub.execute_input": "2024-09-01T15:01:04.738084Z",
     "iopub.status.busy": "2024-09-01T15:01:04.737956Z",
     "iopub.status.idle": "2024-09-01T15:01:04.753956Z",
     "shell.execute_reply": "2024-09-01T15:01:04.753577Z",
     "shell.execute_reply.started": "2024-09-01T15:01:04.738072Z"
    }
   },
   "outputs": [],
   "source": [
    "labelDF_dir = here(f'03_downstream_analysis/08_PatientClassifier/Classifiers/results_CT_studies/label_predicted_dataframes/')"
   ]
  },
  {
   "cell_type": "code",
   "execution_count": 93,
   "id": "b89c2ad3-80c3-4482-bea2-f1a19bd82df5",
   "metadata": {
    "execution": {
     "iopub.execute_input": "2024-09-01T15:01:04.754725Z",
     "iopub.status.busy": "2024-09-01T15:01:04.754487Z",
     "iopub.status.idle": "2024-09-01T15:01:05.300046Z",
     "shell.execute_reply": "2024-09-01T15:01:05.299585Z",
     "shell.execute_reply.started": "2024-09-01T15:01:04.754712Z"
    }
   },
   "outputs": [],
   "source": [
    "Wprec_EXT_list = []\n",
    "Wrec_EXT_list = []\n",
    "Wspec_EXT_list = []\n",
    "\n",
    "Wprec_VAL_list = []\n",
    "Wrec_VAL_list = []\n",
    "Wspec_VAL_list = []\n",
    "\n",
    "\n",
    "for i, row in aggr_metric_df.iterrows():\n",
    "    if row['integration_method'] == 'HS':\n",
    "        path_EXT_i = os.path.join(labelDF_dir, f\"HS_cell_{row['n_embedded']}nEmb_0nPEmb_chemistry_notUsed_optF1_{row['EXTERNAL_bestCLF']}_EXTERNAL.pkl\")\n",
    "        path_VAL_i = os.path.join(labelDF_dir, f\"HS_cell_{row['n_embedded']}nEmb_0nPEmb_chemistry_notUsed_optF1_{row['VALIDATION_bestCLF']}_VALIDATION.pkl\")\n",
    "        df_EXT_i = pd.read_pickle(path_EXT_i)\n",
    "        df_VAL_i = pd.read_pickle(path_VAL_i)\n",
    "        Wprec_EXT_i, Wrec_EXT_i, Wspec_EXT_i = get_add_metric(df_EXT_i.disease, df_EXT_i.majority_pred)\n",
    "        Wprec_VAL_i, Wrec_VAL_i, Wspec_VAL_i = get_add_metric(df_VAL_i.disease, df_VAL_i.majority_pred)\n",
    "    elif row['integration_method'] == 'scANVIpredict':\n",
    "        path_EXT_i = os.path.join(labelDF_dir, f\"scANVIpredict_cell_{row['n_embedded']}nEmb_0nPEmb_chemistry_Level2_optF1_EXTERNAL_{row['EXTERNAL_bestCLF']}.pkl\")\n",
    "        path_VAL_i = os.path.join(labelDF_dir, f\"scANVIpredict_cell_{row['n_embedded']}nEmb_0nPEmb_chemistry_Level2_optF1_VALIDATION_{row['VALIDATION_bestCLF']}.pkl\")\n",
    "        df_EXT_i = pd.read_pickle(path_EXT_i)\n",
    "        df_VAL_i = pd.read_pickle(path_VAL_i)\n",
    "        Wprec_EXT_i, Wrec_EXT_i, Wspec_EXT_i = get_add_metric(df_EXT_i.disease, df_EXT_i.majority_pred)\n",
    "        Wprec_VAL_i, Wrec_VAL_i, Wspec_VAL_i = get_add_metric(df_VAL_i.disease, df_VAL_i.majority_pred)\n",
    "    elif row['integration_method'] == 'scGen':\n",
    "        path_EXT_i = os.path.join(labelDF_dir, f\"scGen_cell_{row['n_embedded']}nEmb_0nPEmb_chemistry_Level2_optF1_{row['EXTERNAL_bestCLF']}_EXTERNAL.pkl\")\n",
    "        path_VAL_i = os.path.join(labelDF_dir, f\"scGen_cell_{row['n_embedded']}nEmb_0nPEmb_chemistry_Level2_optF1_{row['VALIDATION_bestCLF']}_VALIDATION.pkl\")\n",
    "        df_EXT_i = pd.read_pickle(path_EXT_i)\n",
    "        df_VAL_i = pd.read_pickle(path_VAL_i)\n",
    "        Wprec_EXT_i, Wrec_EXT_i, Wspec_EXT_i = get_add_metric(df_EXT_i.disease, df_EXT_i.majority_pred)\n",
    "        Wprec_VAL_i, Wrec_VAL_i, Wspec_VAL_i = get_add_metric(df_VAL_i.disease, df_VAL_i.majority_pred)\n",
    "    elif row['integration_method'] == 'scPoli':\n",
    "        path_EXT_i = os.path.join(labelDF_dir, f\"scPoli_{row['embedded_space']}_{row['n_embedded']}nEmb_{row['n_Patient_embedded']}nPEmb_chemistry_Level1n2_optF1_EXTERNAL_{row['EXTERNAL_bestCLF']}.pkl\")\n",
    "        path_VAL_i = os.path.join(labelDF_dir, f\"scPoli_{row['embedded_space']}_{row['n_embedded']}nEmb_{row['n_Patient_embedded']}nPEmb_chemistry_Level1n2_optF1_VALIDATION_{row['VALIDATION_bestCLF']}.pkl\")\n",
    "        df_EXT_i = pd.read_pickle(path_EXT_i)\n",
    "        df_VAL_i = pd.read_pickle(path_VAL_i)\n",
    "        Wprec_EXT_i, Wrec_EXT_i, Wspec_EXT_i = get_add_metric(df_EXT_i.disease, df_EXT_i.majority_pred)\n",
    "        Wprec_VAL_i, Wrec_VAL_i, Wspec_VAL_i = get_add_metric(df_VAL_i.disease, df_VAL_i.majority_pred)\n",
    "    else:\n",
    "        print(\"CORRESPONDING LABELS NOT FOUND!!\")\n",
    "        print(row)\n",
    "        raise ValueError()\n",
    "        \n",
    "    Wprec_EXT_list.append(Wprec_EXT_i)\n",
    "    Wrec_EXT_list.append(Wrec_EXT_i)\n",
    "    Wspec_EXT_list.append(Wspec_EXT_i)\n",
    "    \n",
    "    Wprec_VAL_list.append(Wprec_VAL_i)\n",
    "    Wrec_VAL_list.append(Wrec_VAL_i)\n",
    "    Wspec_VAL_list.append(Wspec_VAL_i)\n",
    "    "
   ]
  },
  {
   "cell_type": "code",
   "execution_count": 94,
   "id": "fdff0cb3-6479-4c23-bc94-61020333685e",
   "metadata": {
    "execution": {
     "iopub.execute_input": "2024-09-01T15:01:05.300969Z",
     "iopub.status.busy": "2024-09-01T15:01:05.300692Z",
     "iopub.status.idle": "2024-09-01T15:01:05.304359Z",
     "shell.execute_reply": "2024-09-01T15:01:05.304001Z",
     "shell.execute_reply.started": "2024-09-01T15:01:05.300953Z"
    }
   },
   "outputs": [],
   "source": [
    "aggr_metric_df['VALIDATION_WPrecision'] = Wprec_VAL_list\n",
    "aggr_metric_df['VALIDATION_WRecall'] = Wrec_VAL_list\n",
    "aggr_metric_df['VALIDATION_WSpecificity'] = Wspec_VAL_list\n",
    "aggr_metric_df['EXTERNAL_WPrecision'] = Wprec_EXT_list\n",
    "aggr_metric_df['EXTERNAL_WRecall'] = Wrec_EXT_list\n",
    "aggr_metric_df['EXTERNAL_WSpecificity'] = Wspec_EXT_list"
   ]
  },
  {
   "cell_type": "code",
   "execution_count": 95,
   "id": "df4c6958-0026-4d01-b332-d761dcb7302a",
   "metadata": {
    "execution": {
     "iopub.execute_input": "2024-09-01T15:01:05.304953Z",
     "iopub.status.busy": "2024-09-01T15:01:05.304825Z",
     "iopub.status.idle": "2024-09-01T15:01:05.317196Z",
     "shell.execute_reply": "2024-09-01T15:01:05.316833Z",
     "shell.execute_reply.started": "2024-09-01T15:01:05.304942Z"
    }
   },
   "outputs": [],
   "source": [
    "aggr_metric_df['integration_method'] = aggr_metric_df['integration_method'].replace({'scANVIpredict':'scANVI'})"
   ]
  },
  {
   "cell_type": "markdown",
   "id": "b4e57fe5-687f-4570-81df-c9248abf0cca",
   "metadata": {},
   "source": [
    "# Random assignment"
   ]
  },
  {
   "cell_type": "code",
   "execution_count": 96,
   "id": "bbb570a9-ccbf-4cfe-9734-2bd2b4e73318",
   "metadata": {
    "execution": {
     "iopub.execute_input": "2024-09-01T15:01:05.317803Z",
     "iopub.status.busy": "2024-09-01T15:01:05.317664Z",
     "iopub.status.idle": "2024-09-01T15:01:05.329206Z",
     "shell.execute_reply": "2024-09-01T15:01:05.328809Z",
     "shell.execute_reply.started": "2024-09-01T15:01:05.317791Z"
    }
   },
   "outputs": [],
   "source": [
    "import random\n",
    "from tqdm import tqdm"
   ]
  },
  {
   "cell_type": "markdown",
   "id": "a70b827c-a370-46f9-a540-910c426b884c",
   "metadata": {
    "execution": {
     "iopub.execute_input": "2024-06-25T11:02:39.988309Z",
     "iopub.status.busy": "2024-06-25T11:02:39.987928Z",
     "iopub.status.idle": "2024-06-25T11:02:39.991962Z",
     "shell.execute_reply": "2024-06-25T11:02:39.991204Z",
     "shell.execute_reply.started": "2024-06-25T11:02:39.988287Z"
    }
   },
   "source": [
    "#### Loading a set of datasets\n",
    "\n",
    "It's needed only for retrieving sampleID metadata"
   ]
  },
  {
   "cell_type": "code",
   "execution_count": 97,
   "id": "21094d51-266f-4727-b1e1-8ea7db3e328a",
   "metadata": {
    "execution": {
     "iopub.execute_input": "2024-09-01T15:01:05.329804Z",
     "iopub.status.busy": "2024-09-01T15:01:05.329668Z",
     "iopub.status.idle": "2024-09-01T15:01:05.406831Z",
     "shell.execute_reply": "2024-09-01T15:01:05.406339Z",
     "shell.execute_reply.started": "2024-09-01T15:01:05.329792Z"
    }
   },
   "outputs": [],
   "source": [
    "MAINadata_path = \"03_downstream_analysis/08_PatientClassifier/Harmony_Symphony/results/01_MAIN_HarmonyIntegrated_PSEUDOBULK_30nPC_Batch_chemistry.h5ad\"\n",
    "VALIDATIONadata_path = \"03_downstream_analysis/08_PatientClassifier/Harmony_Symphony/results/02_VALIDATION_SymphonyProjected_PSEUDOBULK30nPC_Batch_chemistry.h5ad\"\n",
    "EXTERNALadata_path = \"03_downstream_analysis/08_PatientClassifier/Harmony_Symphony/results/02_EXTERNAL_SymphonyProjected_PSEUDOBULK30nPC_Batch_chemistry.h5ad\"\n",
    "MAINpseudobulk = sc.read_h5ad(here(MAINadata_path))\n",
    "VALIDATIONpseudobulk = sc.read_h5ad(here(VALIDATIONadata_path))\n",
    "EXTERNALpseudobulk = sc.read_h5ad(here(EXTERNALadata_path))"
   ]
  },
  {
   "cell_type": "code",
   "execution_count": 98,
   "id": "4ad3f13a-9fe4-4b0f-84cb-2d69bee9d582",
   "metadata": {
    "execution": {
     "iopub.execute_input": "2024-09-01T15:01:05.407775Z",
     "iopub.status.busy": "2024-09-01T15:01:05.407501Z",
     "iopub.status.idle": "2024-09-01T15:01:05.412163Z",
     "shell.execute_reply": "2024-09-01T15:01:05.411781Z",
     "shell.execute_reply.started": "2024-09-01T15:01:05.407759Z"
    }
   },
   "outputs": [],
   "source": [
    "TRAINdiseaseLabels = MAINpseudobulk.obs.groupby('sampleID',observed=True).agg({'disease':'first'}).disease.tolist()"
   ]
  },
  {
   "cell_type": "code",
   "execution_count": 99,
   "id": "447d17c2-e775-4cd2-b288-75058a4754ae",
   "metadata": {
    "execution": {
     "iopub.execute_input": "2024-09-01T15:01:05.412800Z",
     "iopub.status.busy": "2024-09-01T15:01:05.412662Z",
     "iopub.status.idle": "2024-09-01T15:01:05.435281Z",
     "shell.execute_reply": "2024-09-01T15:01:05.434896Z",
     "shell.execute_reply.started": "2024-09-01T15:01:05.412787Z"
    }
   },
   "outputs": [],
   "source": [
    "VALIDATION_true = VALIDATIONpseudobulk.obs.groupby('sampleID',observed=True).agg({'disease_true':'first'}).disease_true.tolist()\n",
    "EXTERNAL_true = EXTERNALpseudobulk.obs.groupby('sampleID',observed=True).agg({'disease_true':'first'}).disease_true.tolist()"
   ]
  },
  {
   "cell_type": "code",
   "execution_count": 100,
   "id": "221df2f1-50b6-4c22-85f9-d41d78cf897e",
   "metadata": {
    "execution": {
     "iopub.execute_input": "2024-09-01T15:01:05.436108Z",
     "iopub.status.busy": "2024-09-01T15:01:05.435844Z",
     "iopub.status.idle": "2024-09-01T15:01:13.307917Z",
     "shell.execute_reply": "2024-09-01T15:01:13.306269Z",
     "shell.execute_reply.started": "2024-09-01T15:01:05.436094Z"
    }
   },
   "outputs": [
    {
     "name": "stderr",
     "output_type": "stream",
     "text": [
      " 50%|█████████████████████████████████████████████████████████                                                          | 496/1000 [00:07<00:07, 64.93it/s]\n",
      "\n",
      "KeyboardInterrupt\n",
      "\n"
     ]
    }
   ],
   "source": [
    "RandMetricDFlist = []\n",
    "for i in tqdm(range(1000)):\n",
    "    VALIDATION_pred = random.choices(TRAINdiseaseLabels, k=len(VALIDATION_true))\n",
    "    EXTERNAL_pred = random.choices(TRAINdiseaseLabels, k=len(EXTERNAL_true))\n",
    "\n",
    "    Wprec_EXT_i, Wrec_EXT_i, Wspec_EXT_i = get_add_metric(EXTERNAL_true, EXTERNAL_pred)\n",
    "    Wprec_VAL_i, Wrec_VAL_i, Wspec_VAL_i = get_add_metric(VALIDATION_true, VALIDATION_pred)\n",
    "    \n",
    "    RandMetricDFlist.append(pd.DataFrame({'VALIDATION_BAS':bas(VALIDATION_true,VALIDATION_pred),\n",
    "                                          'VALIDATION_F1':f1(VALIDATION_true,VALIDATION_pred, average='weighted'),\n",
    "                                          'VALIDATION_MCC':mcc(VALIDATION_true,VALIDATION_pred),\n",
    "                                          'EXTERNAL_BAS':bas(EXTERNAL_true,EXTERNAL_pred),\n",
    "                                          'EXTERNAL_F1':f1(EXTERNAL_true,EXTERNAL_pred, average='weighted'),\n",
    "                                          'EXTERNAL_MCC':mcc(EXTERNAL_true,EXTERNAL_pred),\n",
    "                                            'VALIDATION_WPrecision': Wprec_VAL_i,\n",
    "                                            'VALIDATION_WRecall':Wrec_VAL_i,\n",
    "                                            'VALIDATION_WSpecificity': Wspec_VAL_i,\n",
    "                                            'EXTERNAL_WPrecision': Wprec_EXT_i,\n",
    "                                            'EXTERNAL_WRecall': Wrec_EXT_i,\n",
    "                                            'EXTERNAL_WSpecificity': Wspec_EXT_i}, index=[0])\n",
    "                           )\n",
    "RandMetricDF = pd.concat(RandMetricDFlist, axis=0,ignore_index=True)\n",
    "RandAssingMetrics = RandMetricDF.mean(axis=0)\n",
    "RandAssingMetrics = RandAssingMetrics.round(decimals=3)"
   ]
  },
  {
   "cell_type": "code",
   "execution_count": null,
   "id": "591d607e-5d37-4822-a2c8-316507c7727a",
   "metadata": {
    "execution": {
     "iopub.status.busy": "2024-09-01T15:01:13.308472Z",
     "iopub.status.idle": "2024-09-01T15:01:13.308656Z",
     "shell.execute_reply": "2024-09-01T15:01:13.308574Z",
     "shell.execute_reply.started": "2024-09-01T15:01:13.308566Z"
    }
   },
   "outputs": [],
   "source": [
    "### Mean random score\n",
    "RandomMean = RandMetricDF.mean(axis=0)\n",
    "RandomStd = RandMetricDF.std(axis=0)"
   ]
  },
  {
   "cell_type": "code",
   "execution_count": null,
   "id": "b566161c-0d52-4f86-87af-bb5670dcd575",
   "metadata": {
    "execution": {
     "iopub.status.busy": "2024-09-01T15:01:13.309219Z",
     "iopub.status.idle": "2024-09-01T15:01:13.309435Z",
     "shell.execute_reply": "2024-09-01T15:01:13.309353Z",
     "shell.execute_reply.started": "2024-09-01T15:01:13.309345Z"
    }
   },
   "outputs": [],
   "source": [
    "RandomMean, RandomStd"
   ]
  },
  {
   "cell_type": "markdown",
   "id": "c0f57109-7614-4930-9216-99ffe91da5d7",
   "metadata": {},
   "source": [
    "### Visualization"
   ]
  },
  {
   "cell_type": "markdown",
   "id": "c0dd6cd4-be58-4d50-a767-5305f7d78b13",
   "metadata": {},
   "source": [
    "##### Defining IDs"
   ]
  },
  {
   "cell_type": "code",
   "execution_count": null,
   "id": "18053944-6a1b-49bd-9c4b-63a82b5f1c11",
   "metadata": {
    "execution": {
     "iopub.status.busy": "2024-09-01T15:01:13.309954Z",
     "iopub.status.idle": "2024-09-01T15:01:13.310158Z",
     "shell.execute_reply": "2024-09-01T15:01:13.310079Z",
     "shell.execute_reply.started": "2024-09-01T15:01:13.310072Z"
    }
   },
   "outputs": [],
   "source": [
    "aggr_metric_df.head(1)"
   ]
  },
  {
   "cell_type": "code",
   "execution_count": null,
   "id": "b06a2a7e-874d-469b-928a-23b3b0cb7360",
   "metadata": {
    "execution": {
     "iopub.status.busy": "2024-09-01T15:01:13.310714Z",
     "iopub.status.idle": "2024-09-01T15:01:13.310926Z",
     "shell.execute_reply": "2024-09-01T15:01:13.310846Z",
     "shell.execute_reply.started": "2024-09-01T15:01:13.310838Z"
    }
   },
   "outputs": [],
   "source": [
    "aggr_metric_df_bestClf= pd.concat([aggr_metric_df, pd.DataFrame({'integration_method':'random', 'embedded_space':'na', 'n_embedded':pd.NA, \n",
    "                       'batchKeys':'na', 'annotation':'na', 'VALIDATION_bestCLF':'random','EXTERNAL_bestCLF':'random',\n",
    "                       'VALIDATION_F1':RandAssingMetrics.VALIDATION_F1, \n",
    "                       'EXTERNAL_F1':RandAssingMetrics.EXTERNAL_F1,\n",
    "                       'VALIDATION_BAS':RandAssingMetrics.VALIDATION_BAS, \n",
    "                       'EXTERNAL_BAS':RandAssingMetrics.EXTERNAL_BAS,\n",
    "                       'VALIDATION_MCC':RandAssingMetrics.VALIDATION_MCC,\n",
    "                       'EXTERNAL_MCC':RandAssingMetrics.EXTERNAL_MCC,\n",
    "                'VALIDATION_WPrecision': RandAssingMetrics.VALIDATION_WPrecision,\n",
    "                'VALIDATION_WRecall':RandAssingMetrics.VALIDATION_WRecall,\n",
    "                'VALIDATION_WSpecificity': RandAssingMetrics.VALIDATION_WSpecificity,\n",
    "                'EXTERNAL_WPrecision': RandAssingMetrics.EXTERNAL_WPrecision,\n",
    "                'EXTERNAL_WRecall': RandAssingMetrics.EXTERNAL_WRecall,\n",
    "                'EXTERNAL_WSpecificity': RandAssingMetrics.EXTERNAL_WSpecificity,\n",
    "                       'n_Patient_embedded':pd.NA},index=[0])], ignore_index=True\n",
    "                     )\n",
    "aggr_metric_df_bestClf"
   ]
  },
  {
   "cell_type": "code",
   "execution_count": null,
   "id": "77087674-faf2-4f59-8cb4-1440846a11ee",
   "metadata": {
    "execution": {
     "iopub.status.busy": "2024-09-01T15:01:13.311524Z",
     "iopub.status.idle": "2024-09-01T15:01:13.311731Z",
     "shell.execute_reply": "2024-09-01T15:01:13.311652Z",
     "shell.execute_reply.started": "2024-09-01T15:01:13.311644Z"
    }
   },
   "outputs": [],
   "source": [
    "aggr_metric_df_bestClf = aggr_metric_df_bestClf.sort_values(['EXTERNAL_F1','VALIDATION_F1'], ascending=False)\n",
    "# aggr_metric_df.loc[aggr_metric_df.annotation == 'notUsed','annotation'] = pd.NA\n",
    "# aggr_metric_df['combID'] = [f\"comb{i:03d}\" for i in range(aggr_metric_df.shape[0])]"
   ]
  },
  {
   "cell_type": "code",
   "execution_count": null,
   "id": "fa62cd12-c110-4c1d-8813-241e123ec901",
   "metadata": {
    "execution": {
     "iopub.status.busy": "2024-09-01T15:01:13.312284Z",
     "iopub.status.idle": "2024-09-01T15:01:13.312510Z",
     "shell.execute_reply": "2024-09-01T15:01:13.312430Z",
     "shell.execute_reply.started": "2024-09-01T15:01:13.312422Z"
    }
   },
   "outputs": [],
   "source": [
    "aggr_metric_df_bestClf.query(\"integration_method == 'scPoli'\")[['n_embedded','n_Patient_embedded']].drop_duplicates()"
   ]
  },
  {
   "cell_type": "code",
   "execution_count": null,
   "id": "10b5d13c-5e2c-49b0-96c7-e71740a4efd4",
   "metadata": {
    "execution": {
     "iopub.status.busy": "2024-09-01T15:01:13.312936Z",
     "iopub.status.idle": "2024-09-01T15:01:13.313104Z",
     "shell.execute_reply": "2024-09-01T15:01:13.313026Z",
     "shell.execute_reply.started": "2024-09-01T15:01:13.313019Z"
    }
   },
   "outputs": [],
   "source": [
    "aggr_metric_df_bestClf.query(\"integration_method == 'scPoli'\")[['integration_method', 'n_embedded',\n",
    "                                                                'VALIDATION_F1', 'VALIDATION_BAS',\n",
    "                                                                'EXTERNAL_F1', 'EXTERNAL_BAS']].sort_values('EXTERNAL_F1', ascending=False)"
   ]
  },
  {
   "cell_type": "code",
   "execution_count": null,
   "id": "782a2152-5a98-422e-a98f-b3ee3406c9a5",
   "metadata": {
    "execution": {
     "iopub.status.busy": "2024-09-01T15:01:13.313679Z",
     "iopub.status.idle": "2024-09-01T15:01:13.313888Z",
     "shell.execute_reply": "2024-09-01T15:01:13.313809Z",
     "shell.execute_reply.started": "2024-09-01T15:01:13.313801Z"
    }
   },
   "outputs": [],
   "source": [
    "aggr_metric_df_bestClf.query(\"integration_method == 'scANVI'\").sort_values('EXTERNAL_F1', ascending=False)"
   ]
  },
  {
   "cell_type": "code",
   "execution_count": null,
   "id": "b4e1e7e1-d6e6-499b-aada-4577d67b4e8c",
   "metadata": {
    "execution": {
     "iopub.status.busy": "2024-09-01T15:01:13.314401Z",
     "iopub.status.idle": "2024-09-01T15:01:13.314562Z",
     "shell.execute_reply": "2024-09-01T15:01:13.314487Z",
     "shell.execute_reply.started": "2024-09-01T15:01:13.314480Z"
    }
   },
   "outputs": [],
   "source": [
    "aggr_metric_df_bestClf.columns"
   ]
  },
  {
   "cell_type": "code",
   "execution_count": null,
   "id": "a59170eb-a652-4dd7-a38a-daf816877379",
   "metadata": {},
   "outputs": [],
   "source": []
  },
  {
   "cell_type": "code",
   "execution_count": null,
   "id": "067a9f59-f4dc-41af-8c66-32f7b25daa33",
   "metadata": {},
   "outputs": [],
   "source": []
  },
  {
   "cell_type": "code",
   "execution_count": null,
   "id": "d52d095d-0a73-4bcd-8635-933bb4fff844",
   "metadata": {},
   "outputs": [],
   "source": []
  },
  {
   "cell_type": "code",
   "execution_count": null,
   "id": "7662fda9-c9f7-4ff3-9b8d-809992f08abe",
   "metadata": {
    "execution": {
     "iopub.status.busy": "2024-09-01T15:01:13.315057Z",
     "iopub.status.idle": "2024-09-01T15:01:13.315255Z",
     "shell.execute_reply": "2024-09-01T15:01:13.315178Z",
     "shell.execute_reply.started": "2024-09-01T15:01:13.315171Z"
    }
   },
   "outputs": [],
   "source": [
    "aggr_metric_df_bestClf.index = range(aggr_metric_df_bestClf.shape[0])"
   ]
  },
  {
   "cell_type": "code",
   "execution_count": null,
   "id": "a5234009-5cbb-47f8-a7d6-d18a41e2e689",
   "metadata": {
    "execution": {
     "iopub.status.busy": "2024-09-01T15:01:13.315773Z",
     "iopub.status.idle": "2024-09-01T15:01:13.315948Z",
     "shell.execute_reply": "2024-09-01T15:01:13.315871Z",
     "shell.execute_reply.started": "2024-09-01T15:01:13.315864Z"
    }
   },
   "outputs": [],
   "source": [
    "aggr_metric_df_bestClf['combID'] = [f\"comb{i:03d}\" for i in range(aggr_metric_df_bestClf.shape[0])]\n",
    "aggr_metric_df_bestClf.to_csv(here(f\"03_downstream_analysis/08_PatientClassifier/Classifiers/results_CT_studies/FinalMetric_dataframe.csv\"))"
   ]
  },
  {
   "cell_type": "code",
   "execution_count": null,
   "id": "fdbffa19-cd46-4f56-be8b-a78c0d75b6aa",
   "metadata": {
    "execution": {
     "iopub.status.busy": "2024-09-01T15:01:13.316441Z",
     "iopub.status.idle": "2024-09-01T15:01:13.316646Z",
     "shell.execute_reply": "2024-09-01T15:01:13.316565Z",
     "shell.execute_reply.started": "2024-09-01T15:01:13.316557Z"
    }
   },
   "outputs": [],
   "source": [
    "aggr_metric_mlt_df = aggr_metric_df_bestClf.melt(value_vars = aggr_metric_df_bestClf.columns[aggr_metric_df_bestClf.columns.str.endswith(('_F1','_BAS','_MCC','_WPrecision','_WRecall','_WSpecificity'))],\n",
    "                   id_vars = aggr_metric_df_bestClf.columns[~aggr_metric_df_bestClf.columns.str.endswith(('_F1','_BAS','_MCC','_WPrecision','_WRecall','_WSpecificity'))], value_name = 'score', var_name = 'ID')\n",
    "aggr_metric_mlt_df[['dataset','metric']] = aggr_metric_mlt_df['ID'].str.split('_', expand=True)\n",
    "aggr_metric_mlt_df.index = aggr_metric_mlt_df['combID']+aggr_metric_mlt_df['ID']\n",
    "aggr_metric_mlt_df"
   ]
  },
  {
   "cell_type": "code",
   "execution_count": null,
   "id": "cac95add-6d62-4ac3-831c-f98088675371",
   "metadata": {
    "execution": {
     "iopub.status.busy": "2024-09-01T15:01:13.317200Z",
     "iopub.status.idle": "2024-09-01T15:01:13.317394Z",
     "shell.execute_reply": "2024-09-01T15:01:13.317316Z",
     "shell.execute_reply.started": "2024-09-01T15:01:13.317309Z"
    }
   },
   "outputs": [],
   "source": [
    "aggr_metric_df_bestClf = aggr_metric_df_bestClf.set_index('combID')"
   ]
  },
  {
   "cell_type": "code",
   "execution_count": null,
   "id": "e6aec0d0-2830-4c46-9683-80308f3c5dac",
   "metadata": {
    "execution": {
     "iopub.status.busy": "2024-09-01T15:01:13.317803Z",
     "iopub.status.idle": "2024-09-01T15:01:13.317964Z",
     "shell.execute_reply": "2024-09-01T15:01:13.317890Z",
     "shell.execute_reply.started": "2024-09-01T15:01:13.317883Z"
    }
   },
   "outputs": [],
   "source": [
    "aggr_metric_mlt_df = aggr_metric_mlt_df.sort_values('score', ascending=False)"
   ]
  },
  {
   "cell_type": "code",
   "execution_count": null,
   "id": "01387e9d-e537-4073-9c91-7aad6328aa90",
   "metadata": {
    "execution": {
     "iopub.status.busy": "2024-09-01T15:01:13.318597Z",
     "iopub.status.idle": "2024-09-01T15:01:13.318771Z",
     "shell.execute_reply": "2024-09-01T15:01:13.318694Z",
     "shell.execute_reply.started": "2024-09-01T15:01:13.318686Z"
    }
   },
   "outputs": [],
   "source": [
    "aggr_metric_mlt_df.head()"
   ]
  },
  {
   "cell_type": "code",
   "execution_count": null,
   "id": "8993e0df-8095-453f-a80a-d467012faef1",
   "metadata": {},
   "outputs": [],
   "source": []
  },
  {
   "cell_type": "code",
   "execution_count": null,
   "id": "0fb9a3ec-1976-4c9a-8daf-76d73414b671",
   "metadata": {},
   "outputs": [],
   "source": []
  },
  {
   "cell_type": "markdown",
   "id": "487d80ff-0687-4071-a54f-1323899ecb03",
   "metadata": {},
   "source": [
    "### Averaging metrics for each integration method for both EXTERNAL and VALIDATION"
   ]
  },
  {
   "cell_type": "code",
   "execution_count": null,
   "id": "d064412a-d3b6-4b49-a4bc-7c894e7ef239",
   "metadata": {
    "execution": {
     "iopub.status.busy": "2024-09-01T15:01:13.319078Z",
     "iopub.status.idle": "2024-09-01T15:01:13.319302Z",
     "shell.execute_reply": "2024-09-01T15:01:13.319226Z",
     "shell.execute_reply.started": "2024-09-01T15:01:13.319218Z"
    }
   },
   "outputs": [],
   "source": [
    "aggr_metric_mlt_df['integration_method_embedding'] = aggr_metric_mlt_df['integration_method'] + ' ' + aggr_metric_mlt_df['embedded_space']"
   ]
  },
  {
   "cell_type": "code",
   "execution_count": null,
   "id": "55b5f9c5-49f8-46b1-92de-c0152faa616f",
   "metadata": {
    "execution": {
     "iopub.status.busy": "2024-09-01T15:01:13.319954Z",
     "iopub.status.idle": "2024-09-01T15:01:13.320119Z",
     "shell.execute_reply": "2024-09-01T15:01:13.320043Z",
     "shell.execute_reply.started": "2024-09-01T15:01:13.320036Z"
    }
   },
   "outputs": [],
   "source": [
    "BASaggVAL = aggr_metric_mlt_df.query(\"metric == 'BAS' and dataset == 'VALIDATION'\").groupby('integration_method_embedding', dropna=True).agg({'score':['mean','std']})\n",
    "BASaggVAL.columns = ['BAS_mean','BAS_std']\n",
    "\n",
    "WF1aggVAL = aggr_metric_mlt_df.query(\"metric == 'F1' and dataset == 'VALIDATION'\").groupby('integration_method_embedding', dropna=True).agg({'score':['mean','std']})\n",
    "WF1aggVAL.columns = ['F1_mean','F1_std']\n",
    "\n",
    "WPrecaggVAL = aggr_metric_mlt_df.query(\"metric == 'WPrecision' and dataset == 'VALIDATION'\").groupby('integration_method_embedding', dropna=True).agg({'score':['mean','std']})\n",
    "WPrecaggVAL.columns = ['WPrecision_mean','WPrecision_std']\n",
    "\n",
    "WRecaggVAL = aggr_metric_mlt_df.query(\"metric == 'WRecall' and dataset == 'VALIDATION'\").groupby('integration_method_embedding', dropna=True).agg({'score':['mean','std']})\n",
    "WRecaggVAL.columns = ['WRecall_mean','WRecall_std']"
   ]
  },
  {
   "cell_type": "code",
   "execution_count": null,
   "id": "bddea773-efd2-4283-bfe6-752e52afa73c",
   "metadata": {
    "execution": {
     "iopub.status.busy": "2024-09-01T15:01:13.320527Z",
     "iopub.status.idle": "2024-09-01T15:01:13.320725Z",
     "shell.execute_reply": "2024-09-01T15:01:13.320649Z",
     "shell.execute_reply.started": "2024-09-01T15:01:13.320641Z"
    }
   },
   "outputs": [],
   "source": [
    "BASaggEXT = aggr_metric_mlt_df.query(\"metric == 'BAS' and dataset == 'EXTERNAL'\").groupby('integration_method_embedding', dropna=True).agg({'score':['mean','std']})\n",
    "BASaggEXT.columns = ['BAS_mean','BAS_std']\n",
    "\n",
    "WF1aggEXT = aggr_metric_mlt_df.query(\"metric == 'F1' and dataset == 'EXTERNAL'\").groupby('integration_method_embedding', dropna=True).agg({'score':['mean','std']})\n",
    "WF1aggEXT.columns = ['F1_mean','F1_std']\n",
    "\n",
    "WPrecaggEXT = aggr_metric_mlt_df.query(\"metric == 'WPrecision' and dataset == 'EXTERNAL'\").groupby('integration_method_embedding', dropna=True).agg({'score':['mean','std']})\n",
    "WPrecaggEXT.columns = ['WPrecision_mean','WPrecision_std']\n",
    "\n",
    "WRecaggEXT = aggr_metric_mlt_df.query(\"metric == 'WRecall' and dataset == 'EXTERNAL'\").groupby('integration_method_embedding', dropna=True).agg({'score':['mean','std']})\n",
    "WRecaggEXT.columns = ['WRecall_mean','WRecall_std']"
   ]
  },
  {
   "cell_type": "markdown",
   "id": "a563c43c-5c5b-4d72-84db-05e0f08961c7",
   "metadata": {},
   "source": [
    "### External"
   ]
  },
  {
   "cell_type": "code",
   "execution_count": null,
   "id": "3e67772a-5c57-477a-b5d6-cee1ebcd1127",
   "metadata": {
    "execution": {
     "iopub.status.busy": "2024-09-01T15:01:13.321195Z",
     "iopub.status.idle": "2024-09-01T15:01:13.321358Z",
     "shell.execute_reply": "2024-09-01T15:01:13.321282Z",
     "shell.execute_reply.started": "2024-09-01T15:01:13.321275Z"
    }
   },
   "outputs": [],
   "source": [
    "### BEST performances for each integration method\n",
    "aggr_metric_df_bestClf.loc[(aggr_metric_df_bestClf.groupby(['integration_method'])['EXTERNAL_F1'].idxmax())]"
   ]
  },
  {
   "cell_type": "code",
   "execution_count": null,
   "id": "30409982-c616-457e-8d64-179c02b679a2",
   "metadata": {
    "execution": {
     "iopub.status.busy": "2024-09-01T15:01:13.321995Z",
     "iopub.status.idle": "2024-09-01T15:01:13.322190Z",
     "shell.execute_reply": "2024-09-01T15:01:13.322113Z",
     "shell.execute_reply.started": "2024-09-01T15:01:13.322105Z"
    }
   },
   "outputs": [],
   "source": [
    "F1_BAS_EXT = BASaggEXT.merge(WF1aggEXT, left_index=True, right_index=True).reset_index().dropna()\n",
    "F1_BAS_EXT.loc[F1_BAS_EXT.shape[0]+1,:] = ['random', RandomMean['EXTERNAL_BAS'], RandomStd['EXTERNAL_BAS'], RandomMean['EXTERNAL_F1'], RandomStd['EXTERNAL_F1']]"
   ]
  },
  {
   "cell_type": "code",
   "execution_count": null,
   "id": "1bd517e4-1985-4c14-8f19-2ec0d05f16be",
   "metadata": {
    "execution": {
     "iopub.status.busy": "2024-09-01T15:01:13.322587Z",
     "iopub.status.idle": "2024-09-01T15:01:13.322746Z",
     "shell.execute_reply": "2024-09-01T15:01:13.322671Z",
     "shell.execute_reply.started": "2024-09-01T15:01:13.322664Z"
    }
   },
   "outputs": [],
   "source": [
    "F1_BAS_EXT"
   ]
  },
  {
   "cell_type": "code",
   "execution_count": null,
   "id": "e24d1f1e-5150-457a-bb6c-87f41800cd81",
   "metadata": {
    "execution": {
     "iopub.status.busy": "2024-09-01T15:01:13.323374Z",
     "iopub.status.idle": "2024-09-01T15:01:13.323538Z",
     "shell.execute_reply": "2024-09-01T15:01:13.323463Z",
     "shell.execute_reply.started": "2024-09-01T15:01:13.323455Z"
    }
   },
   "outputs": [],
   "source": [
    "Prec_Rec_EXT = WPrecaggEXT.merge(WRecaggEXT, left_index=True, right_index=True).reset_index().dropna()\n",
    "Prec_Rec_EXT.loc[Prec_Rec_EXT.shape[0]+1,:] = ['random', RandomMean['EXTERNAL_WPrecision'], RandomStd['EXTERNAL_WPrecision'], RandomMean['EXTERNAL_WRecall'], RandomStd['EXTERNAL_WRecall']]"
   ]
  },
  {
   "cell_type": "code",
   "execution_count": null,
   "id": "f5e79679-97c9-4960-8b33-cf539f540dbe",
   "metadata": {
    "execution": {
     "iopub.status.busy": "2024-09-01T15:01:13.323949Z",
     "iopub.status.idle": "2024-09-01T15:01:13.324111Z",
     "shell.execute_reply": "2024-09-01T15:01:13.324035Z",
     "shell.execute_reply.started": "2024-09-01T15:01:13.324028Z"
    }
   },
   "outputs": [],
   "source": [
    "Prec_Rec_EXT"
   ]
  },
  {
   "cell_type": "markdown",
   "id": "3d7a356e-55a9-4f67-af55-92c581fd2b14",
   "metadata": {},
   "source": [
    "### Validation"
   ]
  },
  {
   "cell_type": "code",
   "execution_count": null,
   "id": "fd9298d5-c2e0-453e-86f1-aa4ddb589a43",
   "metadata": {
    "execution": {
     "iopub.status.busy": "2024-09-01T15:01:13.324701Z",
     "iopub.status.idle": "2024-09-01T15:01:13.324882Z",
     "shell.execute_reply": "2024-09-01T15:01:13.324805Z",
     "shell.execute_reply.started": "2024-09-01T15:01:13.324797Z"
    }
   },
   "outputs": [],
   "source": [
    "### BEST performances for each integration method\n",
    "aggr_metric_df_bestClf.loc[(aggr_metric_df_bestClf.groupby(['integration_method'])['VALIDATION_F1'].idxmax())]"
   ]
  },
  {
   "cell_type": "code",
   "execution_count": null,
   "id": "48218d67-0e18-444c-b67d-d9319cbb29d4",
   "metadata": {},
   "outputs": [],
   "source": []
  },
  {
   "cell_type": "code",
   "execution_count": null,
   "id": "317e2644-33f9-40fd-aac6-28dbf983db3f",
   "metadata": {
    "execution": {
     "iopub.status.busy": "2024-09-01T15:01:13.325405Z",
     "iopub.status.idle": "2024-09-01T15:01:13.325562Z",
     "shell.execute_reply": "2024-09-01T15:01:13.325489Z",
     "shell.execute_reply.started": "2024-09-01T15:01:13.325482Z"
    }
   },
   "outputs": [],
   "source": [
    "F1_BAS_VAL = BASaggVAL.merge(WF1aggVAL, left_index=True, right_index=True).reset_index().dropna()\n",
    "F1_BAS_VAL.loc[F1_BAS_VAL.shape[0]+1,:] = ['random', RandomMean['VALIDATION_BAS'], RandomStd['VALIDATION_BAS'], RandomMean['VALIDATION_F1'], RandomStd['VALIDATION_F1']]"
   ]
  },
  {
   "cell_type": "code",
   "execution_count": null,
   "id": "fc5174a4-04a1-435d-8ada-3ebb619ace57",
   "metadata": {
    "execution": {
     "iopub.status.busy": "2024-09-01T15:01:13.326005Z",
     "iopub.status.idle": "2024-09-01T15:01:13.326217Z",
     "shell.execute_reply": "2024-09-01T15:01:13.326142Z",
     "shell.execute_reply.started": "2024-09-01T15:01:13.326134Z"
    }
   },
   "outputs": [],
   "source": [
    "F1_BAS_VAL"
   ]
  },
  {
   "cell_type": "code",
   "execution_count": null,
   "id": "a5e1d5e8-00c3-4e98-badf-c9c61364305e",
   "metadata": {
    "execution": {
     "iopub.status.busy": "2024-09-01T15:01:13.326692Z",
     "iopub.status.idle": "2024-09-01T15:01:13.326928Z",
     "shell.execute_reply": "2024-09-01T15:01:13.326852Z",
     "shell.execute_reply.started": "2024-09-01T15:01:13.326844Z"
    }
   },
   "outputs": [],
   "source": [
    "Prec_Rec_VAL = WPrecaggVAL.merge(WRecaggVAL, left_index=True, right_index=True).reset_index().dropna()\n",
    "Prec_Rec_VAL.loc[Prec_Rec_VAL.shape[0]+1,:] = ['random', RandomMean['VALIDATION_WPrecision'], RandomStd['VALIDATION_WPrecision'], RandomMean['VALIDATION_WRecall'], RandomStd['VALIDATION_WRecall']]"
   ]
  },
  {
   "cell_type": "code",
   "execution_count": null,
   "id": "0a3d8c63-b89d-4fab-815f-74593a173962",
   "metadata": {
    "execution": {
     "iopub.status.busy": "2024-09-01T15:01:13.327381Z",
     "iopub.status.idle": "2024-09-01T15:01:13.327576Z",
     "shell.execute_reply": "2024-09-01T15:01:13.327500Z",
     "shell.execute_reply.started": "2024-09-01T15:01:13.327493Z"
    }
   },
   "outputs": [],
   "source": [
    "Prec_Rec_VAL"
   ]
  },
  {
   "cell_type": "markdown",
   "id": "f0ea6587-ac28-4523-8c73-c46eef418b34",
   "metadata": {},
   "source": [
    "## Visualization"
   ]
  },
  {
   "cell_type": "code",
   "execution_count": null,
   "id": "d57abbf8-af36-4e0b-9d6e-624b08862f2d",
   "metadata": {
    "execution": {
     "iopub.status.busy": "2024-09-01T15:01:13.328140Z",
     "iopub.status.idle": "2024-09-01T15:01:13.328301Z",
     "shell.execute_reply": "2024-09-01T15:01:13.328226Z",
     "shell.execute_reply.started": "2024-09-01T15:01:13.328219Z"
    }
   },
   "outputs": [],
   "source": [
    "plt.figure(figsize=(5, 5))\n",
    "for name, group in F1_BAS_EXT.groupby('integration_method_embedding'):\n",
    "    plt.errorbar(x = group.BAS_mean, color = method_color_palette[name],\n",
    "                 xerr = group.BAS_std, \n",
    "                 y = group.F1_mean, \n",
    "                 yerr = group.F1_std,\n",
    "                 label = name, capsize=3)\n",
    "plt.title('EXTERNAL')\n",
    "plt.xlabel('balance accuracy score')\n",
    "plt.ylabel('Weighted F1 score')\n",
    "plt.xlim(0, 0.3)\n",
    "plt.ylim(0, 0.5)\n",
    "plt.legend()\n",
    "plt.savefig(here(f\"03_downstream_analysis/08_PatientClassifier/Classifiers/results_CT_studies/WF1_BAS_EXTERNAL_errorbar.pdf\"))\n",
    "plt.show()"
   ]
  },
  {
   "cell_type": "code",
   "execution_count": null,
   "id": "a2929be3-b2f4-4ed5-b165-a15775df7d65",
   "metadata": {
    "execution": {
     "iopub.status.busy": "2024-09-01T15:01:13.328827Z",
     "iopub.status.idle": "2024-09-01T15:01:13.329046Z",
     "shell.execute_reply": "2024-09-01T15:01:13.328970Z",
     "shell.execute_reply.started": "2024-09-01T15:01:13.328963Z"
    }
   },
   "outputs": [],
   "source": [
    "plt.figure(figsize=(5, 5))\n",
    "for name, group in Prec_Rec_EXT.groupby('integration_method_embedding'):\n",
    "    plt.errorbar(x = group.WPrecision_mean, color = method_color_palette[name],\n",
    "                 xerr = group.WPrecision_std, \n",
    "                 y = group.WRecall_mean, \n",
    "                 yerr = group.WRecall_std,\n",
    "                 label = name, capsize=3)\n",
    "plt.title('EXTERNAL')\n",
    "plt.xlabel('Weighted Precision')\n",
    "plt.ylabel('Weighted Recall')\n",
    "plt.legend()\n",
    "plt.savefig(here(f\"03_downstream_analysis/08_PatientClassifier/Classifiers/results_CT_studies/WPrec_WRec_EXTERNAL_errorbar.pdf\"))\n",
    "plt.show()"
   ]
  },
  {
   "cell_type": "code",
   "execution_count": null,
   "id": "351e8061-579b-4498-8fc5-2d963e944c3b",
   "metadata": {
    "execution": {
     "iopub.status.busy": "2024-09-01T15:01:13.329500Z",
     "iopub.status.idle": "2024-09-01T15:01:13.329721Z",
     "shell.execute_reply": "2024-09-01T15:01:13.329644Z",
     "shell.execute_reply.started": "2024-09-01T15:01:13.329637Z"
    }
   },
   "outputs": [],
   "source": [
    "plt.figure(figsize=(5, 5))\n",
    "for name, group in F1_BAS_VAL.groupby('integration_method_embedding'):\n",
    "    plt.errorbar(x = group.BAS_mean, color = method_color_palette[name],\n",
    "                 xerr = group.BAS_std, \n",
    "                 y = group.F1_mean, \n",
    "                 yerr = group.F1_std,\n",
    "                 label = name, capsize=3)\n",
    "plt.title('VALIDATION')\n",
    "plt.xlabel('average balance accuracy score')\n",
    "plt.ylabel('avarage Weighted F1 score')\n",
    "plt.xlim(0, 1)\n",
    "plt.ylim(0, 1)\n",
    "plt.legend()\n",
    "plt.savefig(here(f\"03_downstream_analysis/08_PatientClassifier/Classifiers/results_CT_studies/WF1_BAS_VALIDATION_errorbar.pdf\"))\n",
    "plt.show()"
   ]
  },
  {
   "cell_type": "code",
   "execution_count": null,
   "id": "4dafaf5a-9977-4f28-97ec-37ef690c460d",
   "metadata": {
    "execution": {
     "iopub.status.busy": "2024-09-01T15:01:13.330140Z",
     "iopub.status.idle": "2024-09-01T15:01:13.330342Z",
     "shell.execute_reply": "2024-09-01T15:01:13.330266Z",
     "shell.execute_reply.started": "2024-09-01T15:01:13.330259Z"
    }
   },
   "outputs": [],
   "source": [
    "plt.figure(figsize=(5, 5))\n",
    "for name, group in Prec_Rec_VAL.groupby('integration_method_embedding'):\n",
    "    plt.errorbar(x = group.WPrecision_mean, color = method_color_palette[name],\n",
    "                 xerr = group.WPrecision_std, \n",
    "                 y = group.WRecall_mean, \n",
    "                 yerr = group.WRecall_std,\n",
    "                 label = name, capsize=3)\n",
    "plt.title('VALIDATION')\n",
    "plt.xlabel('avarage Weighted Precision')\n",
    "plt.ylabel('average Weighted Recall')\n",
    "plt.legend()\n",
    "plt.savefig(here(f\"03_downstream_analysis/08_PatientClassifier/Classifiers/results_CT_studies/WPrec_WRec_VALIDATION_errorbar.pdf\"))\n",
    "plt.show()"
   ]
  },
  {
   "cell_type": "code",
   "execution_count": null,
   "id": "0611a88d-b9b6-4f86-a32f-d297fe84d8f2",
   "metadata": {},
   "outputs": [],
   "source": []
  },
  {
   "cell_type": "code",
   "execution_count": null,
   "id": "493f7381-b362-4d56-be62-09beb941dfb6",
   "metadata": {
    "execution": {
     "iopub.status.busy": "2024-09-01T15:01:13.330771Z",
     "iopub.status.idle": "2024-09-01T15:01:13.330935Z",
     "shell.execute_reply": "2024-09-01T15:01:13.330862Z",
     "shell.execute_reply.started": "2024-09-01T15:01:13.330855Z"
    }
   },
   "outputs": [],
   "source": [
    "pivotDF = aggr_metric_mlt_df.pivot(index=['combID','integration_method_embedding','dataset','embedded_space'], columns = 'metric', values = 'score').reset_index()\n",
    "pivotDF.integration_method_embedding.replace({'random na':'random'},inplace=True)\n",
    "pivotDF.rename({'F1':'W_F1'},axis=1,inplace=True)\n",
    "pivotDF = pivotDF[pivotDF.integration_method_embedding!='random']\n",
    "pivotDF.head(1)"
   ]
  },
  {
   "cell_type": "code",
   "execution_count": null,
   "id": "f6eab6a2-cc16-472c-9bc8-c486480967f3",
   "metadata": {
    "execution": {
     "iopub.status.busy": "2024-09-01T15:01:13.331450Z",
     "iopub.status.idle": "2024-09-01T15:01:13.331617Z",
     "shell.execute_reply": "2024-09-01T15:01:13.331538Z",
     "shell.execute_reply.started": "2024-09-01T15:01:13.331531Z"
    }
   },
   "outputs": [],
   "source": [
    "plt.figure(figsize=(5, 5))\n",
    "sns.scatterplot(x='BAS', y='W_F1', \n",
    "                hue='integration_method_embedding', \n",
    "                data=pivotDF.query(\"dataset == 'EXTERNAL'\"), s=75, \n",
    "                alpha=0.67, edgecolor=\"black\", palette=method_color_palette)\n",
    "plt.xlim(0, 0.3)\n",
    "plt.ylim(0, 0.5)\n",
    "plt.savefig(here(f\"03_downstream_analysis/08_PatientClassifier/Classifiers/results_CT_studies/SCATTER_EXTERNAL_WF1_BAS.pdf\"))\n",
    "plt.show()"
   ]
  },
  {
   "cell_type": "code",
   "execution_count": null,
   "id": "58feba33-dc24-4ccb-a29c-b3ddc1866912",
   "metadata": {
    "execution": {
     "iopub.status.busy": "2024-09-01T15:01:13.332096Z",
     "iopub.status.idle": "2024-09-01T15:01:13.332255Z",
     "shell.execute_reply": "2024-09-01T15:01:13.332181Z",
     "shell.execute_reply.started": "2024-09-01T15:01:13.332174Z"
    }
   },
   "outputs": [],
   "source": [
    "plt.figure(figsize=(5, 5))\n",
    "sns.scatterplot(x='BAS', y='W_F1', \n",
    "                hue='integration_method_embedding', \n",
    "                data=pivotDF.query(\"dataset == 'VALIDATION'\"), s=75, \n",
    "                alpha=0.67, edgecolor=\"black\", palette=method_color_palette)\n",
    "plt.xlim(0, 1)\n",
    "plt.ylim(0, 1)\n",
    "plt.savefig(here(f\"03_downstream_analysis/08_PatientClassifier/Classifiers/results_CT_studies/SCATTER_VALIDATION_WF1_BAS.pdf\"))\n",
    "plt.show()"
   ]
  },
  {
   "cell_type": "code",
   "execution_count": null,
   "id": "37c6df3f-c036-4ac4-9886-d70ab96f0b8d",
   "metadata": {
    "execution": {
     "iopub.status.busy": "2024-09-01T15:01:13.332756Z",
     "iopub.status.idle": "2024-09-01T15:01:13.332938Z",
     "shell.execute_reply": "2024-09-01T15:01:13.332862Z",
     "shell.execute_reply.started": "2024-09-01T15:01:13.332855Z"
    }
   },
   "outputs": [],
   "source": [
    "plt.figure(figsize=(5, 5))\n",
    "sns.scatterplot(x='WPrecision', y='WRecall', \n",
    "                hue='integration_method_embedding', \n",
    "                data=pivotDF.query(\"dataset == 'EXTERNAL'\"), s=75, \n",
    "                alpha=0.67, edgecolor=\"black\", palette=method_color_palette)\n",
    "plt.xlim(0.4, 0.6)\n",
    "plt.ylim(0.0, 0.6)\n",
    "plt.savefig(here(f\"03_downstream_analysis/08_PatientClassifier/Classifiers/results_CT_studies/SCATTER_EXTERNAL_WPrec_WRec.pdf\"))\n",
    "plt.show()"
   ]
  },
  {
   "cell_type": "code",
   "execution_count": null,
   "id": "0e1062ac-5e9d-4973-9f31-9fe069e09bf3",
   "metadata": {
    "execution": {
     "iopub.status.busy": "2024-09-01T15:01:13.333425Z",
     "iopub.status.idle": "2024-09-01T15:01:13.333583Z",
     "shell.execute_reply": "2024-09-01T15:01:13.333509Z",
     "shell.execute_reply.started": "2024-09-01T15:01:13.333502Z"
    }
   },
   "outputs": [],
   "source": [
    "plt.figure(figsize=(5, 5))\n",
    "sns.scatterplot(x='WPrecision', y='WRecall', \n",
    "                hue='integration_method_embedding', \n",
    "                data=pivotDF.query(\"dataset == 'VALIDATION'\"), s=75, \n",
    "                alpha=0.67, edgecolor=\"black\", palette=method_color_palette)\n",
    "plt.xlim(0.5, 1)\n",
    "plt.ylim(0.5, 1)\n",
    "plt.savefig(here(f\"03_downstream_analysis/08_PatientClassifier/Classifiers/results_CT_studies/SCATTER_VALIDATION_WPrec_WRec.pdf\"))\n",
    "plt.show()"
   ]
  },
  {
   "cell_type": "code",
   "execution_count": null,
   "id": "6c3dec6c-3bf6-4842-85c0-c1ccbbf0eed3",
   "metadata": {},
   "outputs": [],
   "source": []
  },
  {
   "cell_type": "code",
   "execution_count": null,
   "id": "b3975b5e-6650-424b-83be-92c8ee51f102",
   "metadata": {},
   "outputs": [],
   "source": []
  },
  {
   "cell_type": "code",
   "execution_count": null,
   "id": "7f046909-c7f0-4538-9530-053d63ee6266",
   "metadata": {},
   "outputs": [],
   "source": []
  },
  {
   "cell_type": "markdown",
   "id": "4fc7322f-e1cb-464d-8bad-9e90dcd60074",
   "metadata": {},
   "source": [
    "### Plotting full metric table"
   ]
  },
  {
   "cell_type": "code",
   "execution_count": null,
   "id": "eeb44b8d-f4a2-4d71-9e07-a1d4310aaa94",
   "metadata": {
    "execution": {
     "iopub.status.busy": "2024-09-01T15:01:13.334279Z",
     "iopub.status.idle": "2024-09-01T15:01:13.334442Z",
     "shell.execute_reply": "2024-09-01T15:01:13.334368Z",
     "shell.execute_reply.started": "2024-09-01T15:01:13.334361Z"
    }
   },
   "outputs": [],
   "source": [
    "df = (\n",
    "    aggr_metric_df_bestClf\n",
    "    .round(2)\n",
    "    .rename(dict(integration_method= 'Method', embedded_space= 'Emb Space', n_embedded= 'Emb Dim', n_Patient_embedded= 'PEmb Dim', annotation='annot'), axis=1)\n",
    "    .sort_values('EXTERNAL_F1', ascending=False)\n",
    ")\n",
    "df = df.reindex(columns=[\n",
    "    'Method', \n",
    "    'Emb Space', \n",
    "    'Emb Dim', \n",
    "    'PEmb Dim', \n",
    "    'annot', \n",
    "    'VALIDATION_F1',\n",
    "    'EXTERNAL_F1', \n",
    "    'VALIDATION_BAS', \n",
    "    'EXTERNAL_BAS', \n",
    "    'VALIDATION_MCC',\n",
    "    'EXTERNAL_MCC', \n",
    "    'VALIDATION_WPrecision', \n",
    "    'EXTERNAL_WPrecision',\n",
    "    'VALIDATION_WRecall', \n",
    "    'EXTERNAL_WRecall',\n",
    "    'VALIDATION_WSpecificity',\n",
    "    'EXTERNAL_WSpecificity',\n",
    "    'VALIDATION_bestCLF', \n",
    "    'EXTERNAL_bestCLF'])\n",
    "\n",
    "cmap = LinearSegmentedColormap.from_list(\n",
    "    name=\"bugw\", colors=[\"#ffffff\", \"#f2fbd2\", \"#c9ecb4\", \"#93d3ab\", \"#35b0ab\"], N=256\n",
    ")\n",
    "col_defs = []\n",
    "\n",
    "new_title = {\n",
    "    'EXTERNAL': 'EXT',\n",
    "    'VALIDATION': 'VAL'\n",
    "}\n",
    "new_val_name = {\n",
    "    'WSpecificity': 'wSPE',\n",
    "    'MCC': 'MCC',\n",
    "    'BAS': 'BAS',\n",
    "    'F1': 'wF1',\n",
    "    'WPrecision': 'wPRE',\n",
    "    'WRecall': 'wREC',\n",
    "    'bestCLF': 'bestClf'\n",
    "}\n",
    "for col in df.columns:\n",
    "    if not (col.startswith('EXTERNAL') or col.startswith('VALIDATION')):\n",
    "        col_defs.append(ColumnDefinition(\n",
    "            name=col,\n",
    "            textprops={\"ha\": \"center\", \"weight\": \"bold\"},\n",
    "        ))\n",
    "    else:\n",
    "        query_name, value = col.split('_')\n",
    "\n",
    "        col_defs.append(\n",
    "            ColumnDefinition(\n",
    "                name=col,\n",
    "                title=new_title[query_name],\n",
    "                textprops={\"ha\": \"center\"},\n",
    "                width=0.5,\n",
    "                group=new_val_name[value],\n",
    "                cmap=cmap\n",
    "            )\n",
    "        )\n",
    "\n",
    "df = df.set_index(['Method'])\n",
    "\n",
    "df['Emb Dim'] = df['Emb Dim'].replace({20.0: '20', 200.0: '200', 100.0: '100', 50.0: '50', 30.0: '30'})\n",
    "df['PEmb Dim'] = df['PEmb Dim'].replace({100.0: '100', 50.0: '50', 0: 'NU'})\n",
    "df['annot'] = df['annot'].replace({'Level1n2': '1&2', 'Level2': '2', 'Level1': '1', 'notUsed': 'NU', 'na': 'NaN'})\n",
    "df['VALIDATION_bestCLF'] = df['VALIDATION_bestCLF'].replace({'LinearSVC': 'LSVC', 'random': 'rand'})\n",
    "df['EXTERNAL_bestCLF'] = df['EXTERNAL_bestCLF'].replace({'LinearSVC': 'LSVC', 'random': 'rand'})"
   ]
  },
  {
   "cell_type": "code",
   "execution_count": null,
   "id": "e94894cb-b4ce-42e2-9b19-5f5b284a85d3",
   "metadata": {
    "execution": {
     "iopub.status.busy": "2024-09-01T15:01:13.334894Z",
     "iopub.status.idle": "2024-09-01T15:01:13.335119Z",
     "shell.execute_reply": "2024-09-01T15:01:13.335043Z",
     "shell.execute_reply.started": "2024-09-01T15:01:13.335036Z"
    }
   },
   "outputs": [],
   "source": [
    "df.head()"
   ]
  },
  {
   "cell_type": "code",
   "execution_count": null,
   "id": "20261155-8bf0-4654-a69c-62d589c3bfde",
   "metadata": {
    "execution": {
     "iopub.status.busy": "2024-09-01T15:01:13.335560Z",
     "iopub.status.idle": "2024-09-01T15:01:13.335789Z",
     "shell.execute_reply": "2024-09-01T15:01:13.335704Z",
     "shell.execute_reply.started": "2024-09-01T15:01:13.335697Z"
    }
   },
   "outputs": [],
   "source": [
    "fig, ax = plt.subplots(figsize=(20, 22))\n",
    "\n",
    "table = Table(\n",
    "    df,\n",
    "    column_definitions=col_defs,\n",
    "    row_dividers=True,\n",
    "    footer_divider=True,\n",
    "    ax=ax,\n",
    "    textprops={\"fontsize\": 14},\n",
    "    row_divider_kw={\"linewidth\": 1, \"linestyle\": (0, (1, 5))},\n",
    "    col_label_divider_kw={\"linewidth\": 1, \"linestyle\": \"-\"},\n",
    "    column_border_kw={\"linewidth\": 1, \"linestyle\": \"-\"},\n",
    ")"
   ]
  },
  {
   "cell_type": "code",
   "execution_count": null,
   "id": "41e1c238-2425-41a2-bf11-730b37c1f2f6",
   "metadata": {
    "execution": {
     "iopub.status.busy": "2024-09-01T15:01:13.336490Z",
     "iopub.status.idle": "2024-09-01T15:01:13.336648Z",
     "shell.execute_reply": "2024-09-01T15:01:13.336573Z",
     "shell.execute_reply.started": "2024-09-01T15:01:13.336566Z"
    }
   },
   "outputs": [],
   "source": [
    "fig.savefig(here(f\"03_downstream_analysis/08_PatientClassifier/Classifiers/results_CT_studies/patient_classifier_scen2_3_metric_table.pdf\"), dpi=400, bbox_inches='tight')"
   ]
  },
  {
   "cell_type": "code",
   "execution_count": null,
   "id": "0d0263d4-a5cc-4bbf-830a-6d6c59bc6167",
   "metadata": {},
   "outputs": [],
   "source": []
  },
  {
   "cell_type": "markdown",
   "id": "c4839fed-210d-48df-a679-b1d857d0b1bf",
   "metadata": {},
   "source": [
    "**VALIDATION**"
   ]
  },
  {
   "cell_type": "code",
   "execution_count": 125,
   "id": "fdd0ac41-6f65-428a-941c-76b05b92cedc",
   "metadata": {
    "execution": {
     "iopub.execute_input": "2024-09-01T15:28:46.500499Z",
     "iopub.status.busy": "2024-09-01T15:28:46.499902Z",
     "iopub.status.idle": "2024-09-01T15:28:46.506396Z",
     "shell.execute_reply": "2024-09-01T15:28:46.506082Z",
     "shell.execute_reply.started": "2024-09-01T15:28:46.500468Z"
    }
   },
   "outputs": [
    {
     "data": {
      "text/plain": [
       "integration_method            scPoli\n",
       "embedded_space                  cell\n",
       "n_embedded                        50\n",
       "n_Patient_embedded               100\n",
       "batchKeys                  chemistry\n",
       "annotation                  Level1n2\n",
       "VALIDATION_F1                  0.971\n",
       "EXTERNAL_F1                    0.325\n",
       "VALIDATION_BAS                 0.962\n",
       "EXTERNAL_BAS                   0.109\n",
       "VALIDATION_MCC                 0.948\n",
       "EXTERNAL_MCC                   0.172\n",
       "VALIDATION_bestCLF         LinearSVC\n",
       "EXTERNAL_bestCLF           LinearSVC\n",
       "VALIDATION_WPrecision       0.985748\n",
       "VALIDATION_WRecall          0.958333\n",
       "VALIDATION_WSpecificity     0.994208\n",
       "EXTERNAL_WPrecision         0.491694\n",
       "EXTERNAL_WRecall            0.244186\n",
       "EXTERNAL_WSpecificity       0.978047\n",
       "Name: comb013, dtype: object"
      ]
     },
     "execution_count": 125,
     "metadata": {},
     "output_type": "execute_result"
    }
   ],
   "source": [
    "aggr_metric_df_bestClf.query(\"integration_method == 'scPoli'\").sort_values(['VALIDATION_F1'], ascending=False).iloc[0,:]"
   ]
  },
  {
   "cell_type": "markdown",
   "id": "410b7cf3-455a-4195-bd09-3192a41da425",
   "metadata": {},
   "source": [
    "**EXTERNAL**"
   ]
  },
  {
   "cell_type": "code",
   "execution_count": 128,
   "id": "202f4605-84f2-4480-98bb-566f9e726374",
   "metadata": {
    "execution": {
     "iopub.execute_input": "2024-09-01T15:38:51.623327Z",
     "iopub.status.busy": "2024-09-01T15:38:51.623115Z",
     "iopub.status.idle": "2024-09-01T15:38:51.630630Z",
     "shell.execute_reply": "2024-09-01T15:38:51.630199Z",
     "shell.execute_reply.started": "2024-09-01T15:38:51.623312Z"
    }
   },
   "outputs": [
    {
     "data": {
      "text/plain": [
       "integration_method             scPoli\n",
       "embedded_space             cellSample\n",
       "n_embedded                        200\n",
       "n_Patient_embedded                100\n",
       "batchKeys                   chemistry\n",
       "annotation                   Level1n2\n",
       "VALIDATION_F1                   0.657\n",
       "EXTERNAL_F1                     0.456\n",
       "VALIDATION_BAS                  0.416\n",
       "EXTERNAL_BAS                    0.235\n",
       "VALIDATION_MCC                  0.625\n",
       "EXTERNAL_MCC                    0.448\n",
       "VALIDATION_bestCLF                SVC\n",
       "EXTERNAL_bestCLF                  SVC\n",
       "VALIDATION_WPrecision        0.641863\n",
       "VALIDATION_WRecall           0.708333\n",
       "VALIDATION_WSpecificity      0.890606\n",
       "EXTERNAL_WPrecision           0.42133\n",
       "EXTERNAL_WRecall             0.546512\n",
       "EXTERNAL_WSpecificity        0.893436\n",
       "Name: comb002, dtype: object"
      ]
     },
     "execution_count": 128,
     "metadata": {},
     "output_type": "execute_result"
    }
   ],
   "source": [
    "aggr_metric_df_bestClf.query(\"integration_method == 'scPoli'\").sort_values(['EXTERNAL_F1'], ascending=False).iloc[1,:]"
   ]
  }
 ],
 "metadata": {
  "kernelspec": {
   "display_name": "Python 3 (ipykernel)",
   "language": "python",
   "name": "python3"
  },
  "language_info": {
   "codemirror_mode": {
    "name": "ipython",
    "version": 3
   },
   "file_extension": ".py",
   "mimetype": "text/x-python",
   "name": "python",
   "nbconvert_exporter": "python",
   "pygments_lexer": "ipython3",
   "version": "3.12.3"
  }
 },
 "nbformat": 4,
 "nbformat_minor": 5
}
