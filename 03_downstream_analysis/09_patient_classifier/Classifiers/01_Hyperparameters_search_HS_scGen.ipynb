{
 "cells": [
  {
   "cell_type": "raw",
   "id": "1f727198-9fb7-448d-b8bb-63066021ec44",
   "metadata": {
    "vscode": {
     "languageId": "raw"
    }
   },
   "source": [
    "integration_method = \"HS\"\n",
    "n_embedded = 50\n",
    "batch = \"chemistry\"\n",
    "annotation = \"notUsed\"\n",
    "n_Patient_embedded = 0\n",
    "embSpace = 'cell'\n",
    "\n",
    "MAINadata_path = \"03_downstream_analysis/08_PatientClassifier/Harmony_Symphony/results/01_MAIN_HarmonyIntegrated_PSEUDOBULK_50nPC_Batch_chemistry.h5ad\"\n",
    "VALIDATIONadata_path = \"03_downstream_analysis/08_PatientClassifier/Harmony_Symphony/results/02_VALIDATION_SymphonyProjected_PSEUDOBULK50nPC_Batch_chemistry.h5ad\"\n",
    "EXCLUDEDadata_path = \"03_downstream_analysis/08_PatientClassifier/Harmony_Symphony/results/02_EXCLUDED_SymphonyProjected_PSEUDOBULK50nPC_Batch_chemistry.h5ad\"\n",
    "EXTERNALadata_path = \"03_downstream_analysis/08_PatientClassifier/Harmony_Symphony/results/02_EXTERNAL_SymphonyProjected_PSEUDOBULK50nPC_Batch_chemistry.h5ad\"\n",
    "optimization_metric = \"F1\"\n",
    "n_job = 50"
   ]
  },
  {
   "cell_type": "code",
   "execution_count": null,
   "id": "0fcb96fe-1ddc-4da2-95ac-e91752904818",
   "metadata": {},
   "outputs": [],
   "source": [
    "for v in ['MAINadata_path','VALIDATIONadata_path','EXCLUDEDadata_path','EXTERNALadata_path','integration_method',\n",
    "          'embSpace','n_embedded','n_Patient_embedded','batch','annotation','optimization_metric', 'n_job']:\n",
    "    if v in locals() or v in globals():\n",
    "        print(f\"{v} = {eval(v)}\", end='\\n')\n",
    "    else:\n",
    "        raise ValueError(f\"{v} is not defined\")"
   ]
  },
  {
   "cell_type": "code",
   "execution_count": null,
   "id": "758cad27-6850-48ef-a1a2-31b4515a2452",
   "metadata": {},
   "outputs": [],
   "source": [
    "import os\n",
    "\n",
    "from glob import glob\n",
    "\n",
    "import optuna as op\n",
    "\n",
    "from optuna.samplers import TPESampler, BruteForceSampler\n",
    "\n",
    "import scanpy as sc\n",
    "import pandas as pd\n",
    "import matplotlib.pyplot as plt\n",
    "\n",
    "import joblib\n",
    "\n",
    "\n",
    "from sklearn.svm import LinearSVC, SVC\n",
    "from sklearn.neighbors import KNeighborsClassifier\n",
    "\n",
    "from sklearn.preprocessing import StandardScaler\n",
    "from sklearn.metrics import f1_score, balanced_accuracy_score, matthews_corrcoef\n",
    "\n",
    "from pyprojroot import here\n",
    "\n",
    "import session_info\n",
    "\n",
    "from tqdm import tqdm"
   ]
  },
  {
   "cell_type": "code",
   "execution_count": null,
   "id": "5f7236a2-7a9f-4b40-885f-c28469baa68d",
   "metadata": {},
   "outputs": [],
   "source": [
    "op.logging.set_verbosity(op.logging.WARNING)"
   ]
  },
  {
   "cell_type": "code",
   "execution_count": null,
   "id": "a2d397c9-ab8e-4a2e-ab12-7458e637090a",
   "metadata": {},
   "outputs": [],
   "source": [
    "random_seed = 42"
   ]
  },
  {
   "cell_type": "code",
   "execution_count": null,
   "id": "2ce02c10-d676-43e5-941d-80b22e243031",
   "metadata": {},
   "outputs": [],
   "source": [
    "mainDir=here('03_downstream_analysis/08_PatientClassifier/Classifiers/results_CT_studies/')"
   ]
  },
  {
   "cell_type": "markdown",
   "id": "b4709398-98b6-4f04-be56-d70e5dd0a7a0",
   "metadata": {},
   "source": [
    "### Defining functions"
   ]
  },
  {
   "cell_type": "code",
   "execution_count": null,
   "id": "81d6ddc9-2554-463a-84db-b7e9cf9c98da",
   "metadata": {},
   "outputs": [],
   "source": [
    "def _most_frequent_or_na(row):\n",
    "    mode = row.mode()\n",
    "    if len(mode) > 1:\n",
    "        return 'nan'\n",
    "    else:\n",
    "        return mode.iloc[0]\n",
    "            \n",
    "class CellTypeDiseasePrediction():\n",
    "        \n",
    "    def __init__(self, clf_params, classifier, cell_type, y_true_col='disease', sample_id_col='sampleID'):\n",
    "        self.clf_params = clf_params\n",
    "        self.classifier = classifier\n",
    "        self.ct = cell_type\n",
    "        self.y_true_col = y_true_col\n",
    "        self.sample_id_col = sample_id_col\n",
    "        self.clfs = {}\n",
    "        self.use_scaler = self.clf_params.pop('scaler')\n",
    "        #self.le = LabelEncoder()\n",
    "        \n",
    "    def fit(self, adataTrain):\n",
    "\n",
    "    \n",
    "        #adataTrain.obs.loc[:,self.y_true_col] = self.le.fit_transform(adataTrain.obs[self.y_true_col])\n",
    "        \n",
    "        X_train = adataTrain.X\n",
    "        y_train = adataTrain.obs[self.y_true_col]\n",
    "\n",
    "        if self.use_scaler:\n",
    "            self.scaler = StandardScaler().fit(X_train)\n",
    "            X_train = self.scaler.transform(X_train)\n",
    "   \n",
    "        self.clfs = self.classifier(**self.clf_params).fit(X_train, y_train)\n",
    "\n",
    "        return self\n",
    "\n",
    "    def predict(self, adataVal, y_true_col='disease'):\n",
    "\n",
    "        #adataVal.obs.loc[:,y_true_col] = self.le.transform(adataVal.obs[y_true_col])\n",
    "        \n",
    "        cell_type_pred = []\n",
    "        \n",
    "        X_val = adataVal.X\n",
    "\n",
    "        if self.use_scaler:\n",
    "            X_val = self.scaler.transform(X_val)\n",
    "        \n",
    "        y_pred = self.clfs.predict(X_val)\n",
    "\n",
    "        cell_type_pred = pd.DataFrame({self.sample_id_col: adataVal.obs[self.sample_id_col],\n",
    "                                       self.y_true_col: adataVal.obs[self.y_true_col],\n",
    "                                       f'disease_pred_{self.ct}': y_pred}).set_index(self.sample_id_col)\n",
    "\n",
    "        \n",
    "        # cell_type_pred['disease_pred'] = cell_type_pred.apply(_most_frequent_or_na, axis=1)\n",
    "\n",
    "        # cell_type_pred_merged = cell_type_pred.merge(adataVal.obs.groupby([self.sample_id_col], observed=True).agg({y_true_col:'first'}), \n",
    "        #                                              left_index=True, \n",
    "        #                                              right_index=True)\n",
    "        \n",
    "\n",
    "        return cell_type_pred\n",
    "\n",
    "class VotingDisease():\n",
    "    \n",
    "    def __init__(self, classifier = None, cell_type_studies = None, fixed_params = None, \n",
    "                 cell_type_col = 'Level1', sample_id_col = 'sampleID', y_true_col = 'disease'):\n",
    "        \n",
    "        self.fixed_params = fixed_params\n",
    "        self.classifier = classifier\n",
    "        self.ct_studies = cell_type_studies\n",
    "        self.cell_type_col = cell_type_col \n",
    "        self.y_true_col = y_true_col\n",
    "        self.sample_id_col = sample_id_col\n",
    "        self.clfs = {}\n",
    "\n",
    "    def fit(self, adataR = None):\n",
    "        \n",
    "        for ct_i in self.ct_studies.keys(): \n",
    "    \n",
    "            adataR_ct = adataR[adataR.obs[cell_type_col] == ct_i]\n",
    "            # adataQ_ct = adataQ[adataQ.obs[cell_type_col] == ct_i]\n",
    "        \n",
    "            clf_params = self.fixed_params | self.ct_studies[ct_i].best_trial.params\n",
    "        \n",
    "            self.clfs[ct_i] = (CellTypeDiseasePrediction(clf_params=clf_params, \n",
    "                                                         classifier=self.classifier, \n",
    "                                                         cell_type = ct_i, \n",
    "                                                         sample_id_col=self.sample_id_col, \n",
    "                                                         y_true_col = self.y_true_col)\n",
    "                                .fit(adataR_ct))\n",
    "        return self\n",
    "            \n",
    "    def predict(self, adataQ = None):\n",
    "        \n",
    "        y_pred_query_list = []\n",
    "        \n",
    "        for ct_i in self.ct_studies.keys(): \n",
    "    \n",
    "            adataQ_ct = adataQ[adataQ.obs[self.cell_type_col] == ct_i]\n",
    "        \n",
    "            y_pred_query_list.append(self.clfs[ct_i].predict(adataQ_ct, y_true_col = self.y_true_col).iloc[:,1])\n",
    "        \n",
    "        cellType_prediction_df = pd.concat(y_pred_query_list, axis=1, ignore_index=False, join='outer')\n",
    "        cellType_prediction_df['majority_pred'] = cellType_prediction_df.apply(_most_frequent_or_na, axis=1)\n",
    "\n",
    "        cellType_prediction_df = (cellType_prediction_df.merge(adataQ.obs[[self.sample_id_col, self.y_true_col]].drop_duplicates(), \n",
    "                                                               left_index = True, right_on = self.sample_id_col)\n",
    "                                  .set_index(self.sample_id_col))\n",
    "\n",
    "        return cellType_prediction_df"
   ]
  },
  {
   "cell_type": "markdown",
   "id": "d716da43-cebb-4f67-bea8-b4dca0071e63",
   "metadata": {},
   "source": [
    "### Genereting output directories"
   ]
  },
  {
   "cell_type": "code",
   "execution_count": null,
   "id": "1e7d1502-abad-4f18-be76-bd4e2a78d8a8",
   "metadata": {},
   "outputs": [],
   "source": [
    "dir_name_list = ['best_models', 'label_predicted_dataframes','metrics_dataframes','study_objects']\n",
    "for dn in dir_name_list:\n",
    "    os.makedirs(os.path.join(mainDir, dn), exist_ok=True)"
   ]
  },
  {
   "cell_type": "markdown",
   "id": "54b0d7a6-9bc6-4ffe-b86d-475a6b391906",
   "metadata": {},
   "source": [
    "### Loading data"
   ]
  },
  {
   "cell_type": "code",
   "execution_count": null,
   "id": "8fa540e1-0656-4287-a0eb-0d4110e3a3bf",
   "metadata": {},
   "outputs": [],
   "source": [
    "adataPathList = glob(str(here(MAINadata_path)))\n",
    "if len(adataPathList) != 1:\n",
    "    print(adataPathList)\n",
    "    raise ValueError(f\"adata not found\")\n",
    "else:\n",
    "    print(os.path.basename(adataPathList[0]))\n",
    "    MAINpseudobulk = sc.read_h5ad(adataPathList[0])\n",
    "\n",
    "adataPathList = glob(str(here(VALIDATIONadata_path)))\n",
    "if len(adataPathList) != 1:\n",
    "    print(adataPathList)\n",
    "    raise ValueError(f\"adata not found\")\n",
    "else:\n",
    "    print(os.path.basename(adataPathList[0]))\n",
    "    VALIDATIONpseudobulk = sc.read_h5ad(adataPathList[0])\n",
    "\n",
    "adataPathList = glob(str(here(EXCLUDEDadata_path)))\n",
    "if len(adataPathList) != 1:\n",
    "    print(adataPathList)\n",
    "    raise ValueError(f\"adata not found\")\n",
    "else:\n",
    "    print(os.path.basename(adataPathList[0]))\n",
    "    EXCLUDEDpseudobulk = sc.read_h5ad(adataPathList[0])\n",
    "\n",
    "adataPathList = glob(str(here(EXTERNALadata_path)))\n",
    "if len(adataPathList) != 1:\n",
    "    print(adataPathList)\n",
    "    raise ValueError(f\"adata not found\")\n",
    "else:\n",
    "    print(os.path.basename(adataPathList[0]))\n",
    "    EXTERNALpseudobulk = sc.read_h5ad(adataPathList[0])"
   ]
  },
  {
   "cell_type": "code",
   "execution_count": null,
   "id": "34f17857-6896-4ec0-b8df-f349a0f4b563",
   "metadata": {},
   "outputs": [],
   "source": [
    "# Renaiming obs col names for consistency\n",
    "for ad_i in [VALIDATIONpseudobulk,EXCLUDEDpseudobulk,EXTERNALpseudobulk]:\n",
    "    ad_i.obs.rename({'Level1_pred':'Level1', 'disease_true':'disease'},axis=1,inplace=True)\n",
    "    ad_i.obs['disease'] = ad_i.obs['disease'].astype('str')"
   ]
  },
  {
   "cell_type": "code",
   "execution_count": null,
   "id": "dedd1921-9e34-40a4-aa1e-e1936b7f6ec8",
   "metadata": {},
   "outputs": [],
   "source": [
    "MAINpseudobulk"
   ]
  },
  {
   "cell_type": "code",
   "execution_count": null,
   "id": "921bbbc6-1c59-4e41-8460-6f4b51fe5367",
   "metadata": {},
   "outputs": [],
   "source": [
    "VALIDATIONpseudobulk"
   ]
  },
  {
   "cell_type": "markdown",
   "id": "47a24343-38f0-4d9b-85e5-96b191b9d493",
   "metadata": {},
   "source": [
    "### Removing unwanted cell-types"
   ]
  },
  {
   "cell_type": "code",
   "execution_count": null,
   "id": "33d021b8-257a-4a18-b995-fe93a2ef1563",
   "metadata": {},
   "outputs": [],
   "source": [
    "MAINpseudobulkFilt = MAINpseudobulk[~MAINpseudobulk.obs['Level1'].isin(['Progenitors','Cycling_cells','Platelets','RBC'])].copy()\n",
    "VALIDATIONpseudobulkFilt = VALIDATIONpseudobulk[~VALIDATIONpseudobulk.obs['Level1'].isin(['Progenitors','Cycling_cells','Platelets','RBC'])].copy()\n",
    "EXCLUDEDpseudobulkFilt = EXCLUDEDpseudobulk[~EXCLUDEDpseudobulk.obs['Level1'].isin(['Progenitors','Cycling_cells','Platelets','RBC'])].copy()\n",
    "EXTERNALpseudobulkFilt = EXTERNALpseudobulk[~EXTERNALpseudobulk.obs['Level1'].isin(['Progenitors','Cycling_cells','Platelets','RBC'])].copy()"
   ]
  },
  {
   "cell_type": "code",
   "execution_count": null,
   "id": "aed927b0-478b-470d-9ed1-af7312f7ed63",
   "metadata": {},
   "outputs": [],
   "source": [
    "MAINpseudobulkFilt"
   ]
  },
  {
   "cell_type": "code",
   "execution_count": null,
   "id": "1d07252a-e761-4743-8158-31564b28d61c",
   "metadata": {},
   "outputs": [],
   "source": [
    "VALIDATIONpseudobulkFilt.obs.Level1.unique().tolist()"
   ]
  },
  {
   "cell_type": "code",
   "execution_count": null,
   "id": "d8c4be96-7453-42c7-97a7-f96114bf4675",
   "metadata": {},
   "outputs": [],
   "source": [
    "MAINpseudobulkFilt.obs['disease'] = MAINpseudobulkFilt.obs['disease'].astype(str)"
   ]
  },
  {
   "cell_type": "markdown",
   "id": "4a7d77e0-16f6-47e7-affd-a93d5d242126",
   "metadata": {},
   "source": [
    "## Input data and main parameters"
   ]
  },
  {
   "cell_type": "code",
   "execution_count": null,
   "id": "5c42d3fb-0517-448d-a180-8d7033bb5066",
   "metadata": {},
   "outputs": [],
   "source": [
    "cell_type_col='Level1'\n",
    "y_true_col='disease'\n",
    "sample_id_col='sampleID'"
   ]
  },
  {
   "cell_type": "markdown",
   "id": "86308030-1270-4cc8-8a92-1fbeb9f85e1e",
   "metadata": {},
   "source": [
    "**Initialize pandas dataframe to collect results**"
   ]
  },
  {
   "cell_type": "code",
   "execution_count": null,
   "id": "530355ab-1443-460c-a977-2e8e91225953",
   "metadata": {},
   "outputs": [],
   "source": [
    "METRICdf = pd.DataFrame(columns=['integration_method','embedded_space','n_embedded','n_Patient_embedded','batchKeys','annotation',\n",
    "                      'classification_method','VALIDATION_F1','EXTERNAL_F1','VALIDATION_BAS','EXTERNAL_BAS','VALIDATION_MCC','EXTERNAL_MCC','avg_TRAIN_F1'])\n",
    "METRICdf"
   ]
  },
  {
   "cell_type": "markdown",
   "id": "bf4ebdcc-4895-4f1f-8f4c-721603c909c2",
   "metadata": {},
   "source": [
    "### Hyper parameter tuning and classification\n",
    "\n",
    "The aim is to define the best classifier and its corresponding hyper-parameters using **MAIN adata** as train dataset and **VALIDATION adata** as validation.\n",
    "\n",
    "Then, with the best model/setting for each model family (i.e., SVC, kNN, NN, GBM) we will classify samples in VALIDATION, EXCLUDED and EXTERNAL datasets"
   ]
  },
  {
   "cell_type": "code",
   "execution_count": null,
   "id": "5e79071a-6f5e-4b72-8650-3cb97d0de1d1",
   "metadata": {},
   "outputs": [],
   "source": [
    "from sklearn.model_selection import StratifiedKFold"
   ]
  },
  {
   "cell_type": "code",
   "execution_count": null,
   "id": "814840dd-0c10-4f56-9ea7-242d0ce92ccf",
   "metadata": {},
   "outputs": [],
   "source": [
    "sKf = StratifiedKFold(n_splits = 5)"
   ]
  },
  {
   "cell_type": "code",
   "execution_count": null,
   "id": "6e8b2c94-b76f-4100-8d44-2f9e8accf709",
   "metadata": {},
   "outputs": [],
   "source": [
    "Pdata = MAINpseudobulkFilt.obs.groupby(sample_id_col, observed=True).agg({y_true_col:'first'}).reset_index()"
   ]
  },
  {
   "cell_type": "code",
   "execution_count": null,
   "id": "2a76174e-7528-422b-9143-728110106081",
   "metadata": {},
   "outputs": [],
   "source": [
    "KfoldPatientSplit = list(sKf.split(X = Pdata[sample_id_col], y=Pdata[y_true_col]))"
   ]
  },
  {
   "cell_type": "markdown",
   "id": "ad885d57-52eb-4db4-9043-23de6a1a9094",
   "metadata": {},
   "source": [
    "#### LinearSVC"
   ]
  },
  {
   "cell_type": "code",
   "execution_count": null,
   "id": "1aa57011-6514-47e0-bd14-25aafcb675a3",
   "metadata": {
    "scrolled": true
   },
   "outputs": [],
   "source": [
    "fixed_parameter_LinearSVC = ({\n",
    "    'max_iter': 1000000,\n",
    "    'dual': 'auto',\n",
    "})\n",
    "\n",
    "def LinearSVC_cellTypeOptimization(adataTrain = None, \n",
    "                         KfoldPatientSplit = None,\n",
    "                         y_true_col = 'disease',\n",
    "                         sample_id_col = 'sampleID',\n",
    "                         cell_type_col = 'Level1',\n",
    "                         random_seed = 42,\n",
    "                         optimization = 'F1', \n",
    "                         n_trials = 50,\n",
    "                         n_job = 50):\n",
    "\n",
    "    LinearSVC_cell_type_studies = {}\n",
    "\n",
    "    for ct_i in adataTrain.obs[cell_type_col].unique().tolist():\n",
    "\n",
    "        print(f\"\\n{ct_i}\")\n",
    "        \n",
    "        adataTrain_ct_i = adataTrain[adataTrain.obs[cell_type_col] == ct_i].copy()\n",
    "        \n",
    "        def objective_CT(trial):\n",
    "            class_params = {\n",
    "                'scaler': trial.suggest_categorical('scaler', [True, False]),\n",
    "                'fit_intercept': trial.suggest_categorical('fit_intercept', [True, False]),\n",
    "                'class_weight': trial.suggest_categorical('class_weight', ['balanced', None]),\n",
    "                'C': trial.suggest_float('C', 1e-3, 1e5, log=True)\n",
    "            }\n",
    "        \n",
    "            class_params |= fixed_parameter_LinearSVC\n",
    "        \n",
    "            # for ct_ in adataTrain.obs.Level1.unique().tolist():\n",
    "            #     class_params.update({\n",
    "            #         f\"{ct_}_C\": trial.suggest_float(f\"{ct_}_C\", 1e-3, 1e5, log=True),\n",
    "            #     })\n",
    "        \n",
    "            metric_list = []\n",
    "            \n",
    "            for foldK in KfoldPatientSplit:\n",
    "                \n",
    "                pListTrain = Pdata.iloc[foldK[0]][sample_id_col].tolist()\n",
    "                pListTest = Pdata.iloc[foldK[1]][sample_id_col].tolist()\n",
    "                \n",
    "                clf = CellTypeDiseasePrediction(clf_params=class_params.copy(),classifier=LinearSVC, cell_type = ct_i).fit(adataTrain_ct_i[adataTrain_ct_i.obs[sample_id_col].isin(pListTrain)])\n",
    "            \n",
    "                y_pred_df = clf.predict(adataTrain_ct_i[adataTrain_ct_i.obs[sample_id_col].isin(pListTest)], y_true_col = y_true_col)\n",
    "        \n",
    "                if optimization_metric == 'BAS':\n",
    "                    M = balanced_accuracy_score(y_pred_df[y_true_col], y_pred_df.disease_pred)\n",
    "                else:\n",
    "                    M = f1_score(y_pred_df[y_true_col], y_pred_df[f\"disease_pred_{ct_i}\"], average='weighted')\n",
    "        \n",
    "                metric_list.append(M)\n",
    "            \n",
    "            return sum(metric_list)/5\n",
    "                \n",
    "        # Optimize hyperparameters with Optuna\n",
    "        LinearSVC_cell_type_studies[ct_i] = op.create_study(direction='maximize', study_name=ct_i,sampler=TPESampler(seed=random_seed))\n",
    "        LinearSVC_cell_type_studies[ct_i].optimize(objective_CT, n_trials=n_trials, show_progress_bar=True, n_jobs=n_job)#catch = ValueError)\n",
    "\n",
    "    return LinearSVC_cell_type_studies\n",
    "\n",
    "### EXECUTE THE FUNCTION ###\n",
    "LinearSVC_cell_type_studies = LinearSVC_cellTypeOptimization(adataTrain = MAINpseudobulkFilt, \n",
    "                                                               KfoldPatientSplit = KfoldPatientSplit,\n",
    "                                                               y_true_col = 'disease',\n",
    "                                                               sample_id_col = 'sampleID',\n",
    "                                                               cell_type_col = 'Level1',\n",
    "                                                               optimization = 'F1',\n",
    "                                                               n_trials = 100, n_job = n_job, random_seed = 42)"
   ]
  },
  {
   "cell_type": "code",
   "execution_count": null,
   "id": "da9a3969-5493-4757-a18f-749edd72079b",
   "metadata": {},
   "outputs": [],
   "source": [
    "# Training classifier with parameters optimized for each cell-type\n",
    "clf_LinearSVC_TRAINED = (VotingDisease(classifier = LinearSVC, \n",
    "                                         cell_type_studies = LinearSVC_cell_type_studies, \n",
    "                                         fixed_params = fixed_parameter_LinearSVC, \n",
    "                                         cell_type_col = 'Level1', sample_id_col = 'sampleID', y_true_col = 'disease')\n",
    "                           .fit(MAINpseudobulkFilt))"
   ]
  },
  {
   "cell_type": "code",
   "execution_count": null,
   "id": "d00e7e9e-1904-4442-aa95-7dd1738e9ac0",
   "metadata": {},
   "outputs": [],
   "source": [
    "### Extracting the average performance on train data\n",
    "optMetric = 0\n",
    "for ct_i in LinearSVC_cell_type_studies.keys():\n",
    "    optMetric += LinearSVC_cell_type_studies[ct_i].best_value\n",
    "f1_LinearSVC_REFERENCE = optMetric / len(LinearSVC_cell_type_studies)\n",
    "print(f\"F1 on reference = {f1_LinearSVC_REFERENCE}\")"
   ]
  },
  {
   "cell_type": "markdown",
   "id": "fecc28e8-edab-4408-bdef-49560bded5ff",
   "metadata": {
    "execution": {
     "iopub.execute_input": "2024-07-07T10:28:54.771063Z",
     "iopub.status.busy": "2024-07-07T10:28:54.770611Z",
     "iopub.status.idle": "2024-07-07T10:28:54.773072Z",
     "shell.execute_reply": "2024-07-07T10:28:54.772769Z",
     "shell.execute_reply.started": "2024-07-07T10:28:54.771044Z"
    }
   },
   "source": [
    "**predicting disease in VALIDATION and EXTERNAL datasets**"
   ]
  },
  {
   "cell_type": "code",
   "execution_count": null,
   "id": "c1802889-7c37-4146-baed-919094fe4341",
   "metadata": {},
   "outputs": [],
   "source": [
    "# VALIDATION\n",
    "LinearSVC_cellType_prediction_VALIDATION_df = clf_LinearSVC_TRAINED.predict(VALIDATIONpseudobulkFilt)\n",
    "\n",
    "f1_LinearSVC_VAL = f1_score(LinearSVC_cellType_prediction_VALIDATION_df[y_true_col], \n",
    "                              LinearSVC_cellType_prediction_VALIDATION_df.majority_pred, average='weighted')\n",
    "BAS_LinearSVC_VAL = balanced_accuracy_score(LinearSVC_cellType_prediction_VALIDATION_df[y_true_col], \n",
    "                                              LinearSVC_cellType_prediction_VALIDATION_df.majority_pred,)\n",
    "MCC_LinearSVC_VAL = matthews_corrcoef(LinearSVC_cellType_prediction_VALIDATION_df[y_true_col], \n",
    "                                        LinearSVC_cellType_prediction_VALIDATION_df.majority_pred,)\n",
    "print(f\"QUERY: F1 = {f1_LinearSVC_VAL}, BAS = {BAS_LinearSVC_VAL}, MCC: {MCC_LinearSVC_VAL}\")\n",
    "\n",
    "\n",
    "# EXTERNAL\n",
    "LinearSVC_cellType_prediction_EXTERNAL_df = clf_LinearSVC_TRAINED.predict(EXTERNALpseudobulkFilt)\n",
    "\n",
    "f1_LinearSVC_EXT = f1_score(LinearSVC_cellType_prediction_EXTERNAL_df[y_true_col], \n",
    "                              LinearSVC_cellType_prediction_EXTERNAL_df.majority_pred, average='weighted')\n",
    "BAS_LinearSVC_EXT = balanced_accuracy_score(LinearSVC_cellType_prediction_EXTERNAL_df[y_true_col], \n",
    "                                              LinearSVC_cellType_prediction_EXTERNAL_df.majority_pred,)\n",
    "MCC_LinearSVC_EXT = matthews_corrcoef(LinearSVC_cellType_prediction_EXTERNAL_df[y_true_col], \n",
    "                                        LinearSVC_cellType_prediction_EXTERNAL_df.majority_pred,)\n",
    "print(f\"QUERY: F1 = {f1_LinearSVC_EXT}, BAS = {BAS_LinearSVC_EXT}, MCC: {MCC_LinearSVC_EXT}\")\n"
   ]
  },
  {
   "cell_type": "code",
   "execution_count": null,
   "id": "1084aa38-8e52-4e66-845e-b4641685b534",
   "metadata": {},
   "outputs": [],
   "source": [
    "#### SAVE STUDY and FINAL MODEL AS PICKLE\n",
    "joblib.dump(LinearSVC_cell_type_studies, os.path.join(mainDir, f\"study_objects/BestParams_{integration_method}_{embSpace}_{n_embedded}nEmb_{n_Patient_embedded}nPEmb_{batch}_{annotation}_opt{optimization_metric}_LinearSVC.pkl\"))\n",
    "joblib.dump(clf_LinearSVC_TRAINED, os.path.join(mainDir, f\"best_models/{integration_method}_{embSpace}_{n_embedded}nEmb_{n_Patient_embedded}nPEmb_{batch}_{annotation}_opt{optimization_metric}_LinearSVC.pkl\"))\n",
    "# LinearSVC_labelPred_df.to_pickle(os.path.join(mainDir, f\"label_predicted_dataframes/LinearSVC_SPLIT_{SPLIT}.pkl\"))\n",
    "LinearSVC_cellType_prediction_VALIDATION_df.to_pickle(os.path.join(mainDir, f\"label_predicted_dataframes/{integration_method}_{embSpace}_{n_embedded}nEmb_{n_Patient_embedded}nPEmb_{batch}_{annotation}_opt{optimization_metric}_LinearSVC_VALIDATION.pkl\"))\n",
    "LinearSVC_cellType_prediction_EXTERNAL_df.to_pickle(os.path.join(mainDir, f\"label_predicted_dataframes/{integration_method}_{embSpace}_{n_embedded}nEmb_{n_Patient_embedded}nPEmb_{batch}_{annotation}_opt{optimization_metric}_LinearSVC_EXTERNAL.pkl\"))"
   ]
  },
  {
   "cell_type": "code",
   "execution_count": null,
   "id": "839e6ed1-00df-4f31-9b6a-11650ed3f1dc",
   "metadata": {},
   "outputs": [],
   "source": [
    "### Add results to dataframe\n",
    "METRICdf.loc[METRICdf.shape[0],:] = [integration_method,embSpace,n_embedded,n_Patient_embedded,batch,annotation,'LinearSVC',\n",
    "                                     f1_LinearSVC_VAL,f1_LinearSVC_EXT,\n",
    "                                     BAS_LinearSVC_VAL,BAS_LinearSVC_EXT,\n",
    "                                     MCC_LinearSVC_VAL,MCC_LinearSVC_EXT,\n",
    "                                    f1_LinearSVC_REFERENCE]"
   ]
  },
  {
   "cell_type": "markdown",
   "id": "e8394cdf-d636-4499-89a6-1731d577d3f7",
   "metadata": {},
   "source": [
    "#### SVC"
   ]
  },
  {
   "cell_type": "code",
   "execution_count": null,
   "id": "48e39d89",
   "metadata": {
    "scrolled": true
   },
   "outputs": [],
   "source": [
    "fixed_parameter_SVC = ({\n",
    "    'max_iter': -1,\n",
    "})\n",
    "\n",
    "\n",
    "def SVC_cellTypeOptimization(adataTrain = None, \n",
    "                         KfoldPatientSplit = None,\n",
    "                         y_true_col = 'disease',\n",
    "                         sample_id_col = 'sampleID',\n",
    "                         cell_type_col = 'Level1',\n",
    "                         random_seed = 42,\n",
    "                         optimization = 'F1', \n",
    "                         n_trials = 300,\n",
    "                         n_job = -1):\n",
    "\n",
    "    SVC_cell_type_studies = {}\n",
    "\n",
    "    for ct_i in adataTrain.obs[cell_type_col].unique().tolist():\n",
    "\n",
    "        print(f\"\\n{ct_i}\")\n",
    "        \n",
    "        adataTrain_ct_i = adataTrain[adataTrain.obs[cell_type_col] == ct_i].copy()\n",
    "        \n",
    "        def objective_CT(trial):\n",
    "            class_params = {\n",
    "                'scaler': trial.suggest_categorical('scaler', [True, False]),\n",
    "                'kernel': trial.suggest_categorical(\"kernel\", ['sigmoid','rbf','poly']),\n",
    "                'class_weight': trial.suggest_categorical(\"class_weight\", ['balanced',None]),\n",
    "                'C': trial.suggest_float('C', 1e-3, 1e5, log=True),\n",
    "            }\n",
    "\n",
    "            class_params |= fixed_parameter_SVC\n",
    "            if class_params['kernel'] == 'poly':\n",
    "                class_params.update({'degree': trial.suggest_int('degree', 2,6)})    \n",
    "                \n",
    "            # for ct_ in adataTrain.obs.Level1.unique().tolist():\n",
    "            #     class_params.update({\n",
    "            #         f\"{ct_}_C\": trial.suggest_float(f\"{ct_}_C\", 1e-3, 1e5, log=True),\n",
    "            #     })\n",
    "        \n",
    "            metric_list = []\n",
    "            \n",
    "            for foldK in KfoldPatientSplit:\n",
    "                \n",
    "                pListTrain = Pdata.iloc[foldK[0]][sample_id_col].tolist()\n",
    "                pListTest = Pdata.iloc[foldK[1]][sample_id_col].tolist()\n",
    "                \n",
    "                clf = CellTypeDiseasePrediction(clf_params=class_params.copy(),classifier=SVC, cell_type = ct_i).fit(adataTrain_ct_i[adataTrain_ct_i.obs[sample_id_col].isin(pListTrain)])\n",
    "            \n",
    "                y_pred_df = clf.predict(adataTrain_ct_i[adataTrain_ct_i.obs[sample_id_col].isin(pListTest)], y_true_col = y_true_col)\n",
    "        \n",
    "                if optimization_metric == 'BAS':\n",
    "                    M = balanced_accuracy_score(y_pred_df[y_true_col], y_pred_df.disease_pred)\n",
    "                else:\n",
    "                    M = f1_score(y_pred_df[y_true_col], y_pred_df[f\"disease_pred_{ct_i}\"], average='weighted')\n",
    "        \n",
    "                metric_list.append(M)\n",
    "            \n",
    "            return sum(metric_list)/5\n",
    "                \n",
    "        # Optimize hyperparameters with Optuna\n",
    "        SVC_cell_type_studies[ct_i] = op.create_study(direction='maximize', study_name=ct_i,sampler=TPESampler(seed=random_seed))\n",
    "        SVC_cell_type_studies[ct_i].optimize(objective_CT, n_trials=n_trials, show_progress_bar=True, n_jobs=n_job)#catch = ValueError)\n",
    "\n",
    "    return SVC_cell_type_studies\n",
    "\n",
    "### EXECUTE THE FUNCTION ###\n",
    "SVC_cell_type_studies = SVC_cellTypeOptimization(adataTrain = MAINpseudobulkFilt, \n",
    "                                                   KfoldPatientSplit = KfoldPatientSplit,\n",
    "                                                   y_true_col = 'disease',\n",
    "                                                   sample_id_col = 'sampleID',\n",
    "                                                   cell_type_col = 'Level1',\n",
    "                                                   optimization = 'F1',\n",
    "                                                   n_trials = 300, n_job = n_job, random_seed = 42)"
   ]
  },
  {
   "cell_type": "code",
   "execution_count": null,
   "id": "d0e30442-5295-4288-9746-d5236e397bc6",
   "metadata": {},
   "outputs": [],
   "source": [
    "# Training classifier with parameters optimized for each cell-type\n",
    "clf_SVC_TRAINED = (VotingDisease(classifier = SVC, \n",
    "                                         cell_type_studies = SVC_cell_type_studies, \n",
    "                                         fixed_params = fixed_parameter_SVC, \n",
    "                                         cell_type_col = 'Level1', sample_id_col = 'sampleID', y_true_col = 'disease')\n",
    "                           .fit(MAINpseudobulkFilt))"
   ]
  },
  {
   "cell_type": "code",
   "execution_count": null,
   "id": "66d3a2ad-88e4-4027-91da-d080504835fd",
   "metadata": {},
   "outputs": [],
   "source": [
    "### Extracting the average performance on train data\n",
    "optMetric = 0\n",
    "for ct_i in SVC_cell_type_studies.keys():\n",
    "    optMetric += SVC_cell_type_studies[ct_i].best_value\n",
    "f1_SVC_REFERENCE = optMetric / len(SVC_cell_type_studies)\n",
    "print(f\"F1 on reference = {f1_SVC_REFERENCE}\")"
   ]
  },
  {
   "cell_type": "markdown",
   "id": "a5d82146-d40f-416e-871d-ca5ac70961f3",
   "metadata": {
    "execution": {
     "iopub.execute_input": "2024-07-07T10:28:54.771063Z",
     "iopub.status.busy": "2024-07-07T10:28:54.770611Z",
     "iopub.status.idle": "2024-07-07T10:28:54.773072Z",
     "shell.execute_reply": "2024-07-07T10:28:54.772769Z",
     "shell.execute_reply.started": "2024-07-07T10:28:54.771044Z"
    }
   },
   "source": [
    "**predicting disease in VALIDATION and EXTERNAL datasets**"
   ]
  },
  {
   "cell_type": "code",
   "execution_count": null,
   "id": "6939bed1-c8a5-41dc-9f3b-3fa8f7beae86",
   "metadata": {},
   "outputs": [],
   "source": [
    "# VALIDATION\n",
    "SVC_cellType_prediction_VALIDATION_df = clf_SVC_TRAINED.predict(VALIDATIONpseudobulkFilt)\n",
    "\n",
    "f1_SVC_VAL = f1_score(SVC_cellType_prediction_VALIDATION_df[y_true_col], \n",
    "                              SVC_cellType_prediction_VALIDATION_df.majority_pred, average='weighted')\n",
    "BAS_SVC_VAL = balanced_accuracy_score(SVC_cellType_prediction_VALIDATION_df[y_true_col], \n",
    "                                              SVC_cellType_prediction_VALIDATION_df.majority_pred,)\n",
    "MCC_SVC_VAL = matthews_corrcoef(SVC_cellType_prediction_VALIDATION_df[y_true_col], \n",
    "                                        SVC_cellType_prediction_VALIDATION_df.majority_pred,)\n",
    "print(f\"QUERY: F1 = {f1_SVC_VAL}, BAS = {BAS_SVC_VAL}, MCC: {MCC_SVC_VAL}\")\n",
    "\n",
    "\n",
    "# EXTERNAL\n",
    "SVC_cellType_prediction_EXTERNAL_df = clf_SVC_TRAINED.predict(EXTERNALpseudobulkFilt)\n",
    "\n",
    "f1_SVC_EXT = f1_score(SVC_cellType_prediction_EXTERNAL_df[y_true_col], \n",
    "                              SVC_cellType_prediction_EXTERNAL_df.majority_pred, average='weighted')\n",
    "BAS_SVC_EXT = balanced_accuracy_score(SVC_cellType_prediction_EXTERNAL_df[y_true_col], \n",
    "                                              SVC_cellType_prediction_EXTERNAL_df.majority_pred,)\n",
    "MCC_SVC_EXT = matthews_corrcoef(SVC_cellType_prediction_EXTERNAL_df[y_true_col], \n",
    "                                        SVC_cellType_prediction_EXTERNAL_df.majority_pred,)\n",
    "print(f\"QUERY: F1 = {f1_SVC_EXT}, BAS = {BAS_SVC_EXT}, MCC: {MCC_SVC_EXT}\")\n"
   ]
  },
  {
   "cell_type": "code",
   "execution_count": null,
   "id": "a416e701-6f60-4eb1-8b16-59c953756d7d",
   "metadata": {},
   "outputs": [],
   "source": [
    "#### SAVE STUDY and FINAL MODEL AS PICKLE\n",
    "joblib.dump(SVC_cell_type_studies, os.path.join(mainDir, f\"study_objects/BestParams_{integration_method}_{embSpace}_{n_embedded}nEmb_{n_Patient_embedded}nPEmb_{batch}_{annotation}_opt{optimization_metric}_SVC.pkl\"))\n",
    "joblib.dump(clf_SVC_TRAINED, os.path.join(mainDir, f\"best_models/{integration_method}_{embSpace}_{n_embedded}nEmb_{n_Patient_embedded}nPEmb_{batch}_{annotation}_opt{optimization_metric}_SVC.pkl\"))\n",
    "# SVC_labelPred_df.to_pickle(os.path.join(mainDir, f\"label_predicted_dataframes/SVC_SPLIT_{SPLIT}.pkl\"))\n",
    "SVC_cellType_prediction_VALIDATION_df.to_pickle(os.path.join(mainDir, f\"label_predicted_dataframes/{integration_method}_{embSpace}_{n_embedded}nEmb_{n_Patient_embedded}nPEmb_{batch}_{annotation}_opt{optimization_metric}_SVC_VALIDATION.pkl\"))\n",
    "SVC_cellType_prediction_EXTERNAL_df.to_pickle(os.path.join(mainDir, f\"label_predicted_dataframes/{integration_method}_{embSpace}_{n_embedded}nEmb_{n_Patient_embedded}nPEmb_{batch}_{annotation}_opt{optimization_metric}_SVC_EXTERNAL.pkl\"))"
   ]
  },
  {
   "cell_type": "code",
   "execution_count": null,
   "id": "304dd646-6ae2-4ee6-9d3c-20f913f23923",
   "metadata": {},
   "outputs": [],
   "source": [
    "### Add results to dataframe\n",
    "METRICdf.loc[METRICdf.shape[0],:] = [integration_method,embSpace,n_embedded,n_Patient_embedded,batch,annotation,'SVC',\n",
    "                                     f1_SVC_VAL,f1_SVC_EXT,\n",
    "                                     BAS_SVC_VAL,BAS_SVC_EXT,\n",
    "                                     MCC_SVC_VAL,MCC_SVC_EXT,\n",
    "                                    f1_SVC_REFERENCE]"
   ]
  },
  {
   "cell_type": "markdown",
   "id": "f06fd6e1-90a1-4fc2-a9fd-6a35fb3ab0ed",
   "metadata": {},
   "source": [
    "#### kNN"
   ]
  },
  {
   "cell_type": "code",
   "execution_count": null,
   "id": "4b5a4d44-3d52-45ec-85d5-cdee0e1754f1",
   "metadata": {
    "scrolled": true
   },
   "outputs": [],
   "source": [
    "fixed_parameter_kNN = ({\n",
    "    'n_jobs': 1\n",
    "})\n",
    "\n",
    "def kNN_cellTypeOptimization(adataTrain = None, \n",
    "                         KfoldPatientSplit = None,\n",
    "                         y_true_col = 'disease',\n",
    "                         sample_id_col = 'sampleID',\n",
    "                         cell_type_col = 'Level1',\n",
    "                         optimization = 'F1', \n",
    "                         n_job = 40):\n",
    "\n",
    "    kNN_cell_type_studies = {}\n",
    "\n",
    "    for ct_i in adataTrain.obs[cell_type_col].unique().tolist():\n",
    "\n",
    "        print(f\"\\n{ct_i}\")\n",
    "        \n",
    "        adataTrain_ct_i = adataTrain[adataTrain.obs[cell_type_col] == ct_i].copy()\n",
    "        \n",
    "        def objective_CT(trial):\n",
    "            class_params = {\n",
    "                'scaler': trial.suggest_categorical('scaler', [True, False]),\n",
    "                'metric': trial.suggest_categorical(\"metric\", ['cosine','euclidean']),\n",
    "                'weights': trial.suggest_categorical(\"weights\", ['uniform','distance']),\n",
    "                'n_neighbors': trial.suggest_int('n_neighbors', 1, 5, log=False),\n",
    "            }\n",
    "\n",
    "            class_params |= fixed_parameter_kNN\n",
    "\n",
    "            metric_list = []\n",
    "            \n",
    "            for foldK in KfoldPatientSplit:\n",
    "                \n",
    "                pListTrain = Pdata.iloc[foldK[0]][sample_id_col].tolist()\n",
    "                pListTest = Pdata.iloc[foldK[1]][sample_id_col].tolist()\n",
    "                \n",
    "                clf = CellTypeDiseasePrediction(clf_params=class_params.copy(),classifier=KNeighborsClassifier, cell_type = ct_i).fit(adataTrain_ct_i[adataTrain_ct_i.obs[sample_id_col].isin(pListTrain)])\n",
    "            \n",
    "                y_pred_df = clf.predict(adataTrain_ct_i[adataTrain_ct_i.obs[sample_id_col].isin(pListTest)], y_true_col = y_true_col)\n",
    "        \n",
    "                if optimization_metric == 'BAS':\n",
    "                    M = balanced_accuracy_score(y_pred_df[y_true_col], y_pred_df.disease_pred)\n",
    "                else:\n",
    "                    M = f1_score(y_pred_df[y_true_col], y_pred_df[f\"disease_pred_{ct_i}\"], average='weighted')\n",
    "        \n",
    "                metric_list.append(M)\n",
    "            \n",
    "            return sum(metric_list)/5\n",
    "                \n",
    "        # Optimize hyperparameters with Optuna\n",
    "        kNN_cell_type_studies[ct_i] = op.create_study(direction='maximize', study_name=ct_i, sampler=BruteForceSampler())\n",
    "        kNN_cell_type_studies[ct_i].optimize(objective_CT, show_progress_bar=False, n_jobs=40)#catch = ValueError)\n",
    "\n",
    "    return kNN_cell_type_studies\n",
    "\n",
    "### EXECUTE THE FUNCTION ###\n",
    "kNN_cell_type_studies = kNN_cellTypeOptimization(adataTrain = MAINpseudobulkFilt, \n",
    "                                                 KfoldPatientSplit = KfoldPatientSplit,\n",
    "                                                 y_true_col = 'disease',\n",
    "                                                 sample_id_col = 'sampleID',\n",
    "                                                 cell_type_col = 'Level1',\n",
    "                                                 optimization = 'F1',\n",
    "                                                 n_job = min(40,n_job))"
   ]
  },
  {
   "cell_type": "code",
   "execution_count": null,
   "id": "475af425-98e0-4433-852c-ce201381f336",
   "metadata": {},
   "outputs": [],
   "source": [
    "# Training classifier with parameters optimized for each cell-type\n",
    "clf_kNN_TRAINED = (VotingDisease(classifier = KNeighborsClassifier, \n",
    "                                         cell_type_studies = kNN_cell_type_studies, \n",
    "                                         fixed_params = fixed_parameter_kNN, \n",
    "                                         cell_type_col = 'Level1', sample_id_col = 'sampleID', y_true_col = 'disease')\n",
    "                           .fit(MAINpseudobulkFilt))"
   ]
  },
  {
   "cell_type": "code",
   "execution_count": null,
   "id": "49e85d8f-d4aa-463c-8b89-50fd67e71edd",
   "metadata": {},
   "outputs": [],
   "source": [
    "### Extracting the average performance on train data\n",
    "optMetric = 0\n",
    "for ct_i in kNN_cell_type_studies.keys():\n",
    "    optMetric += kNN_cell_type_studies[ct_i].best_value\n",
    "f1_kNN_REFERENCE = optMetric / len(kNN_cell_type_studies)\n",
    "print(f\"F1 on reference = {f1_kNN_REFERENCE}\")"
   ]
  },
  {
   "cell_type": "markdown",
   "id": "dff0eb8e-3316-4f24-8733-17446d49cc94",
   "metadata": {
    "execution": {
     "iopub.execute_input": "2024-07-07T10:28:54.771063Z",
     "iopub.status.busy": "2024-07-07T10:28:54.770611Z",
     "iopub.status.idle": "2024-07-07T10:28:54.773072Z",
     "shell.execute_reply": "2024-07-07T10:28:54.772769Z",
     "shell.execute_reply.started": "2024-07-07T10:28:54.771044Z"
    }
   },
   "source": [
    "**predicting disease in VALIDATION and EXTERNAL datasets**"
   ]
  },
  {
   "cell_type": "code",
   "execution_count": null,
   "id": "97851277-01b4-4651-bb8a-e2e91286bee3",
   "metadata": {},
   "outputs": [],
   "source": [
    "# VALIDATION\n",
    "kNN_cellType_prediction_VALIDATION_df = clf_kNN_TRAINED.predict(VALIDATIONpseudobulkFilt)\n",
    "\n",
    "f1_kNN_VAL = f1_score(kNN_cellType_prediction_VALIDATION_df[y_true_col], \n",
    "                              kNN_cellType_prediction_VALIDATION_df.majority_pred, average='weighted')\n",
    "BAS_kNN_VAL = balanced_accuracy_score(kNN_cellType_prediction_VALIDATION_df[y_true_col], \n",
    "                                              kNN_cellType_prediction_VALIDATION_df.majority_pred,)\n",
    "MCC_kNN_VAL = matthews_corrcoef(kNN_cellType_prediction_VALIDATION_df[y_true_col], \n",
    "                                        kNN_cellType_prediction_VALIDATION_df.majority_pred,)\n",
    "print(f\"QUERY: F1 = {f1_kNN_VAL}, BAS = {BAS_kNN_VAL}, MCC: {MCC_kNN_VAL}\")\n",
    "\n",
    "\n",
    "# EXTERNAL\n",
    "kNN_cellType_prediction_EXTERNAL_df = clf_kNN_TRAINED.predict(EXTERNALpseudobulkFilt)\n",
    "\n",
    "f1_kNN_EXT = f1_score(kNN_cellType_prediction_EXTERNAL_df[y_true_col], \n",
    "                              kNN_cellType_prediction_EXTERNAL_df.majority_pred, average='weighted')\n",
    "BAS_kNN_EXT = balanced_accuracy_score(kNN_cellType_prediction_EXTERNAL_df[y_true_col], \n",
    "                                              kNN_cellType_prediction_EXTERNAL_df.majority_pred,)\n",
    "MCC_kNN_EXT = matthews_corrcoef(kNN_cellType_prediction_EXTERNAL_df[y_true_col], \n",
    "                                        kNN_cellType_prediction_EXTERNAL_df.majority_pred,)\n",
    "print(f\"QUERY: F1 = {f1_kNN_EXT}, BAS = {BAS_kNN_EXT}, MCC: {MCC_kNN_EXT}\")\n"
   ]
  },
  {
   "cell_type": "code",
   "execution_count": null,
   "id": "fe577bdc-455d-4050-9c4a-7474de052b5e",
   "metadata": {},
   "outputs": [],
   "source": [
    "#### SAVE STUDY and FINAL MODEL AS PICKLE\n",
    "joblib.dump(kNN_cell_type_studies, os.path.join(mainDir, f\"study_objects/BestParams_{integration_method}_{embSpace}_{n_embedded}nEmb_{n_Patient_embedded}nPEmb_{batch}_{annotation}_opt{optimization_metric}_kNN.pkl\"))\n",
    "joblib.dump(clf_kNN_TRAINED, os.path.join(mainDir, f\"best_models/{integration_method}_{embSpace}_{n_embedded}nEmb_{n_Patient_embedded}nPEmb_{batch}_{annotation}_opt{optimization_metric}_kNN.pkl\"))\n",
    "# kNN_labelPred_df.to_pickle(os.path.join(mainDir, f\"label_predicted_dataframes/kNN_SPLIT_{SPLIT}.pkl\"))\n",
    "kNN_cellType_prediction_VALIDATION_df.to_pickle(os.path.join(mainDir, f\"label_predicted_dataframes/{integration_method}_{embSpace}_{n_embedded}nEmb_{n_Patient_embedded}nPEmb_{batch}_{annotation}_opt{optimization_metric}_kNN_VALIDATION.pkl\"))\n",
    "kNN_cellType_prediction_EXTERNAL_df.to_pickle(os.path.join(mainDir, f\"label_predicted_dataframes/{integration_method}_{embSpace}_{n_embedded}nEmb_{n_Patient_embedded}nPEmb_{batch}_{annotation}_opt{optimization_metric}_kNN_EXTERNAL.pkl\"))"
   ]
  },
  {
   "cell_type": "code",
   "execution_count": null,
   "id": "3dc1e3c9-63ea-41dc-b8d7-5f7d4733bf3a",
   "metadata": {},
   "outputs": [],
   "source": [
    "### Add results to dataframe\n",
    "METRICdf.loc[METRICdf.shape[0],:] = [integration_method,embSpace,n_embedded,n_Patient_embedded,batch,annotation,'kNN',\n",
    "                                     f1_kNN_VAL,f1_kNN_EXT,\n",
    "                                     BAS_kNN_VAL,BAS_kNN_EXT,\n",
    "                                     MCC_kNN_VAL,MCC_kNN_EXT,\n",
    "                                    f1_kNN_REFERENCE]"
   ]
  },
  {
   "cell_type": "markdown",
   "id": "cba2cfe8-117f-441e-8738-813a7a669031",
   "metadata": {},
   "source": [
    "### Saving dataframe with results"
   ]
  },
  {
   "cell_type": "code",
   "execution_count": null,
   "id": "20274e0e-5efd-4626-88b8-19bf6184bff0",
   "metadata": {},
   "outputs": [],
   "source": [
    "METRICdf.to_pickle(os.path.join(mainDir, f\"metrics_dataframes/METRICdf_{integration_method}_{embSpace}_{n_embedded}nEmb_{n_Patient_embedded}nPEmb_{batch}_{annotation}_opt{optimization_metric}.pkl\"))"
   ]
  },
  {
   "cell_type": "code",
   "execution_count": null,
   "id": "17be377b-b0b3-44f7-94a0-2c5b0f67e378",
   "metadata": {},
   "outputs": [],
   "source": [
    "METRICdf"
   ]
  },
  {
   "cell_type": "code",
   "execution_count": null,
   "id": "39a624c7-0d89-47d4-9442-57a0b03959f0",
   "metadata": {},
   "outputs": [],
   "source": [
    "session_info.show()"
   ]
  },
  {
   "cell_type": "code",
   "execution_count": null,
   "id": "ad264bfa-1ae1-422e-8d65-0619489e83ac",
   "metadata": {},
   "outputs": [],
   "source": []
  }
 ],
 "metadata": {
  "kernelspec": {
   "display_name": "Python 3 (ipykernel)",
   "language": "python",
   "name": "python3"
  },
  "language_info": {
   "codemirror_mode": {
    "name": "ipython",
    "version": 3
   },
   "file_extension": ".py",
   "mimetype": "text/x-python",
   "name": "python",
   "nbconvert_exporter": "python",
   "pygments_lexer": "ipython3",
   "version": "3.10.13"
  }
 },
 "nbformat": 4,
 "nbformat_minor": 5
}
