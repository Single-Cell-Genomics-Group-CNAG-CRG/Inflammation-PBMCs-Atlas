{
 "cells": [
  {
   "cell_type": "code",
   "execution_count": 60,
   "id": "ea56ba7a-6f7b-4a53-90ba-26eeec7c4e88",
   "metadata": {
    "execution": {
     "iopub.execute_input": "2024-06-30T14:31:14.923996Z",
     "iopub.status.busy": "2024-06-30T14:31:14.923690Z",
     "iopub.status.idle": "2024-06-30T14:31:14.926177Z",
     "shell.execute_reply": "2024-06-30T14:31:14.925881Z",
     "shell.execute_reply.started": "2024-06-30T14:31:14.923981Z"
    }
   },
   "outputs": [],
   "source": [
    "import os\n",
    "\n",
    "import pickle\n",
    "\n",
    "import scanpy as sc\n",
    "import pandas as pd\n",
    "\n",
    "import numpy as np\n",
    "\n",
    "from sklearn.model_selection import StratifiedGroupKFold \n",
    "\n",
    "from pyprojroot import here"
   ]
  },
  {
   "cell_type": "markdown",
   "id": "d066c7cf-a2a3-4a10-8a98-bc8661dae51b",
   "metadata": {},
   "source": [
    "### Load MAIN adata"
   ]
  },
  {
   "cell_type": "code",
   "execution_count": 4,
   "id": "ee505ed6-3123-47d1-bb1b-ee9b8c45542f",
   "metadata": {
    "execution": {
     "iopub.execute_input": "2024-06-30T14:14:34.635543Z",
     "iopub.status.busy": "2024-06-30T14:14:34.635280Z",
     "iopub.status.idle": "2024-06-30T14:14:39.095582Z",
     "shell.execute_reply": "2024-06-30T14:14:39.095239Z",
     "shell.execute_reply.started": "2024-06-30T14:14:34.635528Z"
    }
   },
   "outputs": [
    {
     "data": {
      "text/plain": [
       "AnnData object with n_obs × n_vars = 4435922 × 8253 backed at '/scratch_isilon/groups/singlecell/shared/projects/Inflammation-PBMCs-Atlas/03_downstream_analysis/02_gene_universe_definition/results/04_MAIN_geneUniverse.h5ad'\n",
       "    obs: 'studyID', 'libraryID', 'sampleID', 'chemistry', 'disease', 'sex', 'binned_age', 'Level1', 'Level2'\n",
       "    var: 'hgnc_id', 'symbol', 'locus_group', 'HUGO_status', 'highly_variable'"
      ]
     },
     "execution_count": 4,
     "metadata": {},
     "output_type": "execute_result"
    }
   ],
   "source": [
    "adata = sc.read_h5ad(here(\"03_downstream_analysis/02_gene_universe_definition/results/04_MAIN_geneUniverse.h5ad\"), backed='r')\n",
    "adata"
   ]
  },
  {
   "cell_type": "markdown",
   "id": "370bf783-7bba-4338-b7d2-72c8b938a245",
   "metadata": {},
   "source": [
    "### Defining splits"
   ]
  },
  {
   "cell_type": "code",
   "execution_count": 39,
   "id": "551ebe80-81e4-4b39-bc2b-530f64f1a393",
   "metadata": {
    "execution": {
     "iopub.execute_input": "2024-06-30T14:24:53.613468Z",
     "iopub.status.busy": "2024-06-30T14:24:53.613050Z",
     "iopub.status.idle": "2024-06-30T14:24:53.615464Z",
     "shell.execute_reply": "2024-06-30T14:24:53.615159Z",
     "shell.execute_reply.started": "2024-06-30T14:24:53.613452Z"
    }
   },
   "outputs": [],
   "source": [
    "sKf = StratifiedGroupKFold(n_splits = 5, shuffle=False)"
   ]
  },
  {
   "cell_type": "code",
   "execution_count": 40,
   "id": "7b727eeb-d877-47d4-b45b-a30346d48d09",
   "metadata": {
    "execution": {
     "iopub.execute_input": "2024-06-30T14:24:53.750397Z",
     "iopub.status.busy": "2024-06-30T14:24:53.750045Z",
     "iopub.status.idle": "2024-06-30T14:25:05.311846Z",
     "shell.execute_reply": "2024-06-30T14:25:05.311337Z",
     "shell.execute_reply.started": "2024-06-30T14:24:53.750384Z"
    }
   },
   "outputs": [],
   "source": [
    "KfoldPatientSplit = list(sKf.split(X = adata.obs.index,\n",
    "                                   y=adata.obs.disease,\n",
    "                                   groups=adata.obs.sampleID))"
   ]
  },
  {
   "cell_type": "code",
   "execution_count": 43,
   "id": "360f7c2f-1ccf-41da-b20b-310b05479027",
   "metadata": {
    "execution": {
     "iopub.execute_input": "2024-06-30T14:25:21.304009Z",
     "iopub.status.busy": "2024-06-30T14:25:21.303766Z",
     "iopub.status.idle": "2024-06-30T14:25:22.025192Z",
     "shell.execute_reply": "2024-06-30T14:25:22.024744Z",
     "shell.execute_reply.started": "2024-06-30T14:25:21.303994Z"
    }
   },
   "outputs": [],
   "source": [
    "KfoldcellID = []\n",
    "for i in range(5):\n",
    "    KfoldcellID.append((np.array(adata.obs_names[KfoldPatientSplit[i][0]]), \n",
    "                          np.array(adata.obs_names[KfoldPatientSplit[i][1]])))"
   ]
  },
  {
   "cell_type": "code",
   "execution_count": 61,
   "id": "0b4e8d2c-277b-4a71-8e0c-2aa320694341",
   "metadata": {
    "execution": {
     "iopub.execute_input": "2024-06-30T14:31:52.369616Z",
     "iopub.status.busy": "2024-06-30T14:31:52.369220Z",
     "iopub.status.idle": "2024-06-30T14:31:57.053025Z",
     "shell.execute_reply": "2024-06-30T14:31:57.052494Z",
     "shell.execute_reply.started": "2024-06-30T14:31:52.369601Z"
    }
   },
   "outputs": [],
   "source": [
    "with open(str(here('03_downstream_analysis/08_PatientClassifier/5foldCV/results/K_FOLD_cellID.pkl')), 'wb') as handle:\n",
    "    pickle.dump(KfoldcellID, handle, protocol=4)"
   ]
  },
  {
   "cell_type": "code",
   "execution_count": null,
   "id": "3640cf13-7938-4dbc-9215-ab1e7eddaeae",
   "metadata": {},
   "outputs": [],
   "source": []
  }
 ],
 "metadata": {
  "kernelspec": {
   "display_name": "Python 3 (ipykernel)",
   "language": "python",
   "name": "python3"
  },
  "language_info": {
   "codemirror_mode": {
    "name": "ipython",
    "version": 3
   },
   "file_extension": ".py",
   "mimetype": "text/x-python",
   "name": "python",
   "nbconvert_exporter": "python",
   "pygments_lexer": "ipython3",
   "version": "3.12.3"
  }
 },
 "nbformat": 4,
 "nbformat_minor": 5
}
