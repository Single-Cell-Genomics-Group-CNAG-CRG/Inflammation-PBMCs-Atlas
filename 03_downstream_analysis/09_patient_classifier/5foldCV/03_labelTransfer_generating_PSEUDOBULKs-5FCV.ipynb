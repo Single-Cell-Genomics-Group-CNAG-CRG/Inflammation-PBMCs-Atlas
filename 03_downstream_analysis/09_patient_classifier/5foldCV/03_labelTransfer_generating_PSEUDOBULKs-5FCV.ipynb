{
 "cells": [
  {
   "cell_type": "code",
   "execution_count": null,
   "id": "d3ccb10a-7201-43d0-a593-2b4650ff3451",
   "metadata": {},
   "outputs": [],
   "source": [
    "for v in ['adataPATH_ref','adataPATH_query']:\n",
    "    if v in locals() or v in globals():\n",
    "        print(f\"{v} = {eval(v)}\")\n",
    "    else:\n",
    "        raise Exception(f\"{v} not specified\")"
   ]
  },
  {
   "cell_type": "code",
   "execution_count": null,
   "id": "888fb5f4-9ab7-4196-a282-7a7e92a43971",
   "metadata": {},
   "outputs": [],
   "source": [
    "import os\n",
    "import sys\n",
    "from glob import glob\n",
    "\n",
    "import scanpy as sc\n",
    "import pandas as pd\n",
    "\n",
    "import pynndescent\n",
    "import numpy as np\n",
    "import numba\n",
    "\n",
    "from sklearn.metrics import balanced_accuracy_score as bas\n",
    "\n",
    "from pyprojroot import here\n",
    "\n",
    "sys.path.insert(1, str(here('bin')))\n",
    "# Import custom functions\n",
    "from customPythonFunctions import aggregating_features"
   ]
  },
  {
   "cell_type": "markdown",
   "id": "ba4905ae-4546-4ef4-b57b-950441ab079d",
   "metadata": {},
   "source": [
    "### Loading data"
   ]
  },
  {
   "cell_type": "code",
   "execution_count": null,
   "id": "539cbbbb-3503-4f51-bf04-f007f928ebd1",
   "metadata": {},
   "outputs": [],
   "source": [
    "adataPATH_ref\n",
    "adataPATH_ref_list = glob(str(here(adataPATH_ref)))\n",
    "assert(len(adataPATH_ref_list) == 1)\n",
    "\n",
    "adataPATH_query\n",
    "adataPATH_query_list = glob(str(here(adataPATH_query)))\n",
    "assert(len(adataPATH_query_list) == 1)"
   ]
  },
  {
   "cell_type": "code",
   "execution_count": null,
   "id": "0fcfce0a-896b-4dc0-8e5e-46749205c84f",
   "metadata": {},
   "outputs": [],
   "source": [
    "adataR = sc.read_h5ad(adataPATH_ref_list[0])\n",
    "adataQ = sc.read_h5ad(adataPATH_query_list[0])\n",
    "adataR, adataQ"
   ]
  },
  {
   "cell_type": "code",
   "execution_count": null,
   "id": "72c82d20-11e1-437f-912a-62544ec9ac09",
   "metadata": {},
   "outputs": [],
   "source": [
    "Level1_dict = adataR.obs[['Level1','Level2']].set_index('Level2').to_dict()['Level1']"
   ]
  },
  {
   "cell_type": "code",
   "execution_count": null,
   "id": "2b91c1e0-50fb-46f9-a98b-ebadafc90897",
   "metadata": {},
   "outputs": [],
   "source": [
    "adataQ.obs['Level2_scANVI_pred'] = adataQ.obs['labels']"
   ]
  },
  {
   "cell_type": "code",
   "execution_count": null,
   "id": "940d5cae-ca8d-4456-affd-0d03e9bbda55",
   "metadata": {},
   "outputs": [],
   "source": [
    "adataQ.obs['Level1_scANVI_pred'] = adataQ.obs['Level2_scANVI_pred'].map(Level1_dict)"
   ]
  },
  {
   "cell_type": "code",
   "execution_count": null,
   "id": "59ccf510-3c8d-4ab7-b80c-e413fa6dbba1",
   "metadata": {},
   "outputs": [],
   "source": [
    "print(f\"Label transfer with scANVI predict obtain a BAS ={bas(adataQ.obs['Level2'], adataQ.obs['Level2_scANVI_pred'])}, considering Level2\")\n"
   ]
  },
  {
   "cell_type": "code",
   "execution_count": null,
   "id": "887ed8a2-7206-4f8b-9efc-1a79645b5cff",
   "metadata": {},
   "outputs": [],
   "source": [
    "print(f\"Label transfer with scANVI predict obtain a BAS ={bas(adataQ.obs['Level1'], adataQ.obs['Level1_scANVI_pred'])}, considering Level1\")"
   ]
  },
  {
   "cell_type": "markdown",
   "id": "44e868b3-0771-4225-bd79-a4b179bc672b",
   "metadata": {},
   "source": [
    "#### Generating PSEUDOBULKs"
   ]
  },
  {
   "cell_type": "code",
   "execution_count": null,
   "id": "81223976-fcf6-4354-8964-b12d76468636",
   "metadata": {},
   "outputs": [],
   "source": [
    "adataPB_R = aggregating_features(Z = adataR.X, \n",
    "                             obsDF = adataR.obs[['sampleID','Level1','disease']], \n",
    "                             mode = 'mean', \n",
    "                             obs_names_col=['sampleID','Level1'], \n",
    "                             min_observation=0)\n",
    "adataPB_R"
   ]
  },
  {
   "cell_type": "markdown",
   "id": "97d09fc5-d05c-471e-87fa-fe58ccbe47ac",
   "metadata": {},
   "source": [
    "**Considering scANVI predicted labels**"
   ]
  },
  {
   "cell_type": "code",
   "execution_count": null,
   "id": "8a64ad2e-561b-48a2-a48f-5fc1b9f567aa",
   "metadata": {},
   "outputs": [],
   "source": [
    "adataPB_Q_scANVI = aggregating_features(Z = adataQ.X, \n",
    "                             obsDF = adataQ.obs[['sampleID','Level1_scANVI_pred','disease']], \n",
    "                             mode = 'mean', \n",
    "                             obs_names_col=['sampleID','Level1_scANVI_pred'], \n",
    "                             min_observation=0)\n",
    "\n",
    "adataPB_Q_scANVI.obs.rename({'Level1_scANVI_pred':'Level1'}, axis=1, inplace=True)\n",
    "adataPB_Q_scANVI"
   ]
  },
  {
   "cell_type": "markdown",
   "id": "c62ce3c8-2614-4fcf-9d79-13968c9cb4f7",
   "metadata": {},
   "source": [
    "### Saving pseudobulk adata objects"
   ]
  },
  {
   "cell_type": "code",
   "execution_count": null,
   "id": "d5eab9af-9d74-4a9b-b620-f7f98bd68791",
   "metadata": {
    "papermill": {
     "duration": 0.085307,
     "end_time": "2024-07-04T13:15:56.673260",
     "exception": false,
     "start_time": "2024-07-04T13:15:56.587953",
     "status": "completed"
    },
    "tags": []
   },
   "outputs": [],
   "source": [
    "adataPB_R.write(here(re.sub(r'/reference/scANVI_SPLIT_\\d+_',\n",
    "                            '/PSEUDOBULKs/scANVI_PSEUDOBULK_reference_', \n",
    "                            adataPATH_ref_list[0])), compression='gzip')"
   ]
  },
  {
   "cell_type": "code",
   "execution_count": null,
   "id": "657d1212-54cd-417e-bce4-c8d8970ccf0e",
   "metadata": {
    "papermill": {
     "duration": 0.057265,
     "end_time": "2024-07-04T13:15:56.736855",
     "exception": false,
     "start_time": "2024-07-04T13:15:56.679590",
     "status": "completed"
    },
    "tags": []
   },
   "outputs": [],
   "source": [
    "adataPB_Q_scANVI.write(here(re.sub(r'/query/scANVI_SPLIT_\\d+_',\n",
    "                                   '/PSEUDOBULKs/scANVI_PSEUDOBULK_query_',\n",
    "                                   adataPATH_query_list[0])), compression='gzip')"
   ]
  }
 ],
 "metadata": {
  "kernelspec": {
   "display_name": "Python 3 (ipykernel)",
   "language": "python",
   "name": "python3"
  },
  "language_info": {
   "codemirror_mode": {
    "name": "ipython",
    "version": 3
   },
   "file_extension": ".py",
   "mimetype": "text/x-python",
   "name": "python",
   "nbconvert_exporter": "python",
   "pygments_lexer": "ipython3",
   "version": "3.10.13"
  }
 },
 "nbformat": 4,
 "nbformat_minor": 5
}
