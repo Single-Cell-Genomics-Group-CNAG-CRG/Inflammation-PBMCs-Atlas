{
 "cells": [
  {
   "cell_type": "code",
   "execution_count": 1,
   "id": "08398765-324f-43d3-9b53-bf9955894aea",
   "metadata": {
    "execution": {
     "iopub.execute_input": "2025-06-04T15:00:04.505699Z",
     "iopub.status.busy": "2025-06-04T15:00:04.505200Z",
     "iopub.status.idle": "2025-06-04T15:00:09.907199Z",
     "shell.execute_reply": "2025-06-04T15:00:09.906729Z",
     "shell.execute_reply.started": "2025-06-04T15:00:04.505681Z"
    }
   },
   "outputs": [],
   "source": [
    "import sys\n",
    "import os\n",
    "from glob import glob\n",
    "\n",
    "import scanpy as sc\n",
    "\n",
    "import seaborn as sns\n",
    "\n",
    "import pandas as pd\n",
    "import numpy as np\n",
    "\n",
    "import PyComplexHeatmap as ch\n",
    "\n",
    "import matplotlib.pylab as plt\n",
    "\n",
    "from sklearn.metrics import balanced_accuracy_score, f1_score, matthews_corrcoef, recall_score, precision_score\n",
    "\n",
    "from pyprojroot import here\n",
    "\n",
    "import warnings\n",
    "warnings.filterwarnings(\"ignore\")\n",
    "\n",
    "sys.path.insert(1, str(here('bin')))\n",
    "\n",
    "from customPythonFunctions import getClassMetricsDF\n",
    "\n",
    "from customPalette import annotation_Level1_palette, annotation_Level1_LowQFilt_sortednames\n",
    "\n",
    "from PyComplexHeatmap import *\n",
    "import warnings\n",
    "\n",
    "from customPalette import diseases_palette, diseaseCategories, diseasesGroup_palette\n"
   ]
  },
  {
   "cell_type": "code",
   "execution_count": 2,
   "id": "a442fece-a4d9-426f-8b4b-e23519df089f",
   "metadata": {
    "execution": {
     "iopub.execute_input": "2025-06-04T15:00:11.667416Z",
     "iopub.status.busy": "2025-06-04T15:00:11.666796Z",
     "iopub.status.idle": "2025-06-04T15:00:11.672168Z",
     "shell.execute_reply": "2025-06-04T15:00:11.671692Z",
     "shell.execute_reply.started": "2025-06-04T15:00:11.667398Z"
    }
   },
   "outputs": [
    {
     "data": {
      "text/plain": [
       "['B',\n",
       " 'Plasma',\n",
       " 'pDC',\n",
       " 'DC',\n",
       " 'Mono',\n",
       " 'T_CD4_Naive',\n",
       " 'T_CD4_NonNaive',\n",
       " 'T_CD8_Naive',\n",
       " 'T_CD8_NonNaive',\n",
       " 'UTC',\n",
       " 'ILC',\n",
       " 'Cycling_cells',\n",
       " 'Progenitors',\n",
       " 'Platelets',\n",
       " 'RBC']"
      ]
     },
     "execution_count": 2,
     "metadata": {},
     "output_type": "execute_result"
    }
   ],
   "source": [
    "annotation_Level1_LowQFilt_sortednames"
   ]
  },
  {
   "cell_type": "code",
   "execution_count": 3,
   "id": "e0451d41-b91e-410b-a05f-760f7ff0366c",
   "metadata": {
    "execution": {
     "iopub.execute_input": "2025-06-04T15:00:13.266058Z",
     "iopub.status.busy": "2025-06-04T15:00:13.265781Z",
     "iopub.status.idle": "2025-06-04T15:00:13.268428Z",
     "shell.execute_reply": "2025-06-04T15:00:13.268115Z",
     "shell.execute_reply.started": "2025-06-04T15:00:13.266042Z"
    }
   },
   "outputs": [],
   "source": [
    "cell_type_order = [c for c in annotation_Level1_LowQFilt_sortednames if c not in ['Cycling_cells','Progenitors','Platelets','RBC']]"
   ]
  },
  {
   "cell_type": "code",
   "execution_count": 4,
   "id": "5fbf02a4-ad49-4998-aeb9-4126d181a9c4",
   "metadata": {
    "execution": {
     "iopub.execute_input": "2025-06-04T15:00:13.433570Z",
     "iopub.status.busy": "2025-06-04T15:00:13.433127Z",
     "iopub.status.idle": "2025-06-04T15:00:13.435492Z",
     "shell.execute_reply": "2025-06-04T15:00:13.435161Z",
     "shell.execute_reply.started": "2025-06-04T15:00:13.433553Z"
    }
   },
   "outputs": [],
   "source": [
    "optimization_metric = 'F1'"
   ]
  },
  {
   "cell_type": "code",
   "execution_count": 5,
   "id": "271b80f3-e8d3-45f8-9954-c5a7f881a75a",
   "metadata": {
    "execution": {
     "iopub.execute_input": "2025-06-04T15:00:13.585062Z",
     "iopub.status.busy": "2025-06-04T15:00:13.584917Z",
     "iopub.status.idle": "2025-06-04T15:00:13.586982Z",
     "shell.execute_reply": "2025-06-04T15:00:13.586673Z",
     "shell.execute_reply.started": "2025-06-04T15:00:13.585048Z"
    }
   },
   "outputs": [],
   "source": [
    "diseaseCategories['Na'] = 'Na'\n",
    "diseasesGroup_palette['Na'] = '#ffffff'"
   ]
  },
  {
   "cell_type": "markdown",
   "id": "a635078c-8a52-491a-981e-5a9d8de640c2",
   "metadata": {},
   "source": [
    "### Computing additional metrics"
   ]
  },
  {
   "cell_type": "code",
   "execution_count": 6,
   "id": "ed2ac724-0c32-49f2-8962-34a815b6f1a2",
   "metadata": {
    "execution": {
     "iopub.execute_input": "2025-06-04T15:00:15.601859Z",
     "iopub.status.busy": "2025-06-04T15:00:15.601418Z",
     "iopub.status.idle": "2025-06-04T15:00:15.605575Z",
     "shell.execute_reply": "2025-06-04T15:00:15.605257Z",
     "shell.execute_reply.started": "2025-06-04T15:00:15.601838Z"
    }
   },
   "outputs": [],
   "source": [
    "def get_add_metric(disease_true, disease_pred):\n",
    "    from sklearn.metrics import confusion_matrix\n",
    "    \n",
    "    disease_true = np.array(disease_true)\n",
    "    disease_pred = np.array(disease_pred)\n",
    "    res = []\n",
    "    for d in np.unique(disease_true):\n",
    "        support = (disease_true==d).sum()\n",
    "        \n",
    "        tn, fp, fn, tp = confusion_matrix(disease_true==d, disease_pred==d).ravel()\n",
    "    \n",
    "    \n",
    "        prec = (tp / (tp+fp))\n",
    "        recall = (tp / (tp+fn))\n",
    "        specificity = (tn / (tn+fp))\n",
    "        \n",
    "        res.append([d, prec, recall, specificity, support])\n",
    "    \n",
    "    res = pd.DataFrame(res).fillna(0).set_index(0)\n",
    "    Wprecision = np.average(res.loc[:,1], weights= res.loc[:,4])\n",
    "    Wrecall = np.average(res.loc[:,2], weights= res.loc[:,4])\n",
    "    Wspecifitity = np.average(res.loc[:,3], weights= res.loc[:,4])\n",
    "    return (Wprecision,Wrecall,Wspecifitity)"
   ]
  },
  {
   "cell_type": "markdown",
   "id": "719878eb-03b4-4728-8206-cdc7ed79df42",
   "metadata": {},
   "source": [
    "### Loading results"
   ]
  },
  {
   "cell_type": "code",
   "execution_count": 7,
   "id": "95eca213-87c9-423a-affe-2dcfab5052ae",
   "metadata": {
    "execution": {
     "iopub.execute_input": "2025-06-04T15:00:16.401533Z",
     "iopub.status.busy": "2025-06-04T15:00:16.401336Z",
     "iopub.status.idle": "2025-06-04T15:00:16.410932Z",
     "shell.execute_reply": "2025-06-04T15:00:16.410608Z",
     "shell.execute_reply.started": "2025-06-04T15:00:16.401518Z"
    }
   },
   "outputs": [
    {
     "name": "stdout",
     "output_type": "stream",
     "text": [
      "5\n"
     ]
    }
   ],
   "source": [
    "metrics_df_path_list = glob(str(here(f'03_downstream_analysis/09_patient_classifier/5foldCV/results/CT_studies_predict/metrics_dataframes/METRICdf_SPLIT_*_opt{optimization_metric}.pkl')))\n",
    "print(len(metrics_df_path_list))"
   ]
  },
  {
   "cell_type": "code",
   "execution_count": 8,
   "id": "e1f89be7-7b32-4ff2-a72c-ae3d2eb01de9",
   "metadata": {
    "execution": {
     "iopub.execute_input": "2025-06-04T15:00:18.040746Z",
     "iopub.status.busy": "2025-06-04T15:00:18.040412Z",
     "iopub.status.idle": "2025-06-04T15:00:18.048108Z",
     "shell.execute_reply": "2025-06-04T15:00:18.047800Z",
     "shell.execute_reply.started": "2025-06-04T15:00:18.040731Z"
    }
   },
   "outputs": [],
   "source": [
    "scANVI_metrics_df_list = []\n",
    "\n",
    "for p in metrics_df_path_list:\n",
    "    scANVI_metrics_df_list.append(pd.read_pickle(p).rename({'F1':'W_F1'},axis=1))"
   ]
  },
  {
   "cell_type": "markdown",
   "id": "b14a41b1-233d-4b39-9ebe-a396b3ca9437",
   "metadata": {},
   "source": [
    "*Keeping only the classifier that obtained the higher F1 score during the 5fold cross-validation*\n",
    "\n"
   ]
  },
  {
   "cell_type": "code",
   "execution_count": 9,
   "id": "d1bdadc8-f3a4-4fc6-9792-ff27ec6b4f35",
   "metadata": {
    "execution": {
     "iopub.execute_input": "2025-06-04T15:00:19.761377Z",
     "iopub.status.busy": "2025-06-04T15:00:19.760958Z",
     "iopub.status.idle": "2025-06-04T15:00:19.764410Z",
     "shell.execute_reply": "2025-06-04T15:00:19.764110Z",
     "shell.execute_reply.started": "2025-06-04T15:00:19.761361Z"
    }
   },
   "outputs": [],
   "source": [
    "scANVI_metrics__MajVote_df = pd.concat(scANVI_metrics_df_list, axis=0, ignore_index=True)"
   ]
  },
  {
   "cell_type": "code",
   "execution_count": 10,
   "id": "e4c46a61-bd63-4835-bf7a-0a51e28e3f5f",
   "metadata": {
    "execution": {
     "iopub.execute_input": "2025-06-04T15:00:19.928929Z",
     "iopub.status.busy": "2025-06-04T15:00:19.928635Z",
     "iopub.status.idle": "2025-06-04T15:00:19.937902Z",
     "shell.execute_reply": "2025-06-04T15:00:19.937597Z",
     "shell.execute_reply.started": "2025-06-04T15:00:19.928916Z"
    }
   },
   "outputs": [
    {
     "data": {
      "text/html": [
       "<div>\n",
       "<style scoped>\n",
       "    .dataframe tbody tr th:only-of-type {\n",
       "        vertical-align: middle;\n",
       "    }\n",
       "\n",
       "    .dataframe tbody tr th {\n",
       "        vertical-align: top;\n",
       "    }\n",
       "\n",
       "    .dataframe thead th {\n",
       "        text-align: right;\n",
       "    }\n",
       "</style>\n",
       "<table border=\"1\" class=\"dataframe\">\n",
       "  <thead>\n",
       "    <tr style=\"text-align: right;\">\n",
       "      <th></th>\n",
       "      <th>SPLIT</th>\n",
       "      <th>classification_method</th>\n",
       "      <th>W_F1</th>\n",
       "      <th>BAS</th>\n",
       "      <th>MCC</th>\n",
       "      <th>TRAIN_F1</th>\n",
       "    </tr>\n",
       "  </thead>\n",
       "  <tbody>\n",
       "    <tr>\n",
       "      <th>0</th>\n",
       "      <td>1</td>\n",
       "      <td>LinearSVC</td>\n",
       "      <td>0.891012</td>\n",
       "      <td>0.882407</td>\n",
       "      <td>0.872455</td>\n",
       "      <td>0.684146</td>\n",
       "    </tr>\n",
       "    <tr>\n",
       "      <th>1</th>\n",
       "      <td>1</td>\n",
       "      <td>SVC</td>\n",
       "      <td>0.918005</td>\n",
       "      <td>0.851151</td>\n",
       "      <td>0.898244</td>\n",
       "      <td>0.714609</td>\n",
       "    </tr>\n",
       "    <tr>\n",
       "      <th>2</th>\n",
       "      <td>1</td>\n",
       "      <td>kNN</td>\n",
       "      <td>0.855961</td>\n",
       "      <td>0.819709</td>\n",
       "      <td>0.823917</td>\n",
       "      <td>0.652609</td>\n",
       "    </tr>\n",
       "    <tr>\n",
       "      <th>3</th>\n",
       "      <td>0</td>\n",
       "      <td>LinearSVC</td>\n",
       "      <td>0.878299</td>\n",
       "      <td>0.817546</td>\n",
       "      <td>0.844829</td>\n",
       "      <td>0.682622</td>\n",
       "    </tr>\n",
       "    <tr>\n",
       "      <th>4</th>\n",
       "      <td>0</td>\n",
       "      <td>SVC</td>\n",
       "      <td>0.890689</td>\n",
       "      <td>0.7908</td>\n",
       "      <td>0.879728</td>\n",
       "      <td>0.716603</td>\n",
       "    </tr>\n",
       "  </tbody>\n",
       "</table>\n",
       "</div>"
      ],
      "text/plain": [
       "  SPLIT classification_method      W_F1       BAS       MCC  TRAIN_F1\n",
       "0     1             LinearSVC  0.891012  0.882407  0.872455  0.684146\n",
       "1     1                   SVC  0.918005  0.851151  0.898244  0.714609\n",
       "2     1                   kNN  0.855961  0.819709  0.823917  0.652609\n",
       "3     0             LinearSVC  0.878299  0.817546  0.844829  0.682622\n",
       "4     0                   SVC  0.890689    0.7908  0.879728  0.716603"
      ]
     },
     "execution_count": 10,
     "metadata": {},
     "output_type": "execute_result"
    }
   ],
   "source": [
    "scANVI_metrics__MajVote_df.head()"
   ]
  },
  {
   "cell_type": "code",
   "execution_count": 11,
   "id": "4a06d4e7-1525-42b5-b9c8-9d9077620f9c",
   "metadata": {
    "execution": {
     "iopub.execute_input": "2025-06-04T15:00:20.909920Z",
     "iopub.status.busy": "2025-06-04T15:00:20.909582Z",
     "iopub.status.idle": "2025-06-04T15:00:20.914065Z",
     "shell.execute_reply": "2025-06-04T15:00:20.913742Z",
     "shell.execute_reply.started": "2025-06-04T15:00:20.909906Z"
    }
   },
   "outputs": [],
   "source": [
    "scANVI_metrics__MajVote_df = scANVI_metrics__MajVote_df.loc[(scANVI_metrics__MajVote_df\n",
    "                                             .groupby(['SPLIT',])['TRAIN_F1'].idxmax())]\n",
    "scANVI_metrics__MajVote_df.drop('TRAIN_F1', axis=1,inplace=True)"
   ]
  },
  {
   "cell_type": "markdown",
   "id": "d622b389-44f4-47d8-9017-63e78e986933",
   "metadata": {},
   "source": [
    "#### Loading true and predicted labels"
   ]
  },
  {
   "cell_type": "code",
   "execution_count": 12,
   "id": "dfb5017f-1e74-40cd-8da7-8799e9d4457a",
   "metadata": {
    "execution": {
     "iopub.execute_input": "2025-06-04T15:00:28.827704Z",
     "iopub.status.busy": "2025-06-04T15:00:28.827299Z",
     "iopub.status.idle": "2025-06-04T15:00:28.895401Z",
     "shell.execute_reply": "2025-06-04T15:00:28.895081Z",
     "shell.execute_reply.started": "2025-06-04T15:00:28.827688Z"
    }
   },
   "outputs": [
    {
     "data": {
      "text/html": [
       "<div>\n",
       "<style scoped>\n",
       "    .dataframe tbody tr th:only-of-type {\n",
       "        vertical-align: middle;\n",
       "    }\n",
       "\n",
       "    .dataframe tbody tr th {\n",
       "        vertical-align: top;\n",
       "    }\n",
       "\n",
       "    .dataframe thead th {\n",
       "        text-align: right;\n",
       "    }\n",
       "</style>\n",
       "<table border=\"1\" class=\"dataframe\">\n",
       "  <thead>\n",
       "    <tr style=\"text-align: right;\">\n",
       "      <th></th>\n",
       "      <th>B</th>\n",
       "      <th>DC</th>\n",
       "      <th>ILC</th>\n",
       "      <th>Mono</th>\n",
       "      <th>Plasma</th>\n",
       "      <th>T_CD4_Naive</th>\n",
       "      <th>T_CD4_NonNaive</th>\n",
       "      <th>T_CD8_Naive</th>\n",
       "      <th>T_CD8_NonNaive</th>\n",
       "      <th>UTC</th>\n",
       "      <th>pDC</th>\n",
       "      <th>Majority vote</th>\n",
       "      <th>disease_true</th>\n",
       "      <th>SPLIT</th>\n",
       "    </tr>\n",
       "    <tr>\n",
       "      <th>sampleID</th>\n",
       "      <th></th>\n",
       "      <th></th>\n",
       "      <th></th>\n",
       "      <th></th>\n",
       "      <th></th>\n",
       "      <th></th>\n",
       "      <th></th>\n",
       "      <th></th>\n",
       "      <th></th>\n",
       "      <th></th>\n",
       "      <th></th>\n",
       "      <th></th>\n",
       "      <th></th>\n",
       "      <th></th>\n",
       "    </tr>\n",
       "  </thead>\n",
       "  <tbody>\n",
       "    <tr>\n",
       "      <th>COMBAT2022_G05078_T0</th>\n",
       "      <td>COVID</td>\n",
       "      <td>COVID</td>\n",
       "      <td>COVID</td>\n",
       "      <td>COVID</td>\n",
       "      <td>COVID</td>\n",
       "      <td>COVID</td>\n",
       "      <td>COVID</td>\n",
       "      <td>COVID</td>\n",
       "      <td>COVID</td>\n",
       "      <td>COVID</td>\n",
       "      <td>COVID</td>\n",
       "      <td>COVID</td>\n",
       "      <td>COVID</td>\n",
       "      <td>0</td>\n",
       "    </tr>\n",
       "    <tr>\n",
       "      <th>COMBAT2022_G05105_T0</th>\n",
       "      <td>COVID</td>\n",
       "      <td>COVID</td>\n",
       "      <td>COVID</td>\n",
       "      <td>COVID</td>\n",
       "      <td>COVID</td>\n",
       "      <td>COVID</td>\n",
       "      <td>COVID</td>\n",
       "      <td>COVID</td>\n",
       "      <td>COVID</td>\n",
       "      <td>COVID</td>\n",
       "      <td>COVID</td>\n",
       "      <td>COVID</td>\n",
       "      <td>COVID</td>\n",
       "      <td>0</td>\n",
       "    </tr>\n",
       "    <tr>\n",
       "      <th>COMBAT2022_G05112_T0</th>\n",
       "      <td>COVID</td>\n",
       "      <td>COVID</td>\n",
       "      <td>COVID</td>\n",
       "      <td>COVID</td>\n",
       "      <td>COVID</td>\n",
       "      <td>COVID</td>\n",
       "      <td>COVID</td>\n",
       "      <td>COVID</td>\n",
       "      <td>COVID</td>\n",
       "      <td>COVID</td>\n",
       "      <td>COVID</td>\n",
       "      <td>COVID</td>\n",
       "      <td>COVID</td>\n",
       "      <td>0</td>\n",
       "    </tr>\n",
       "    <tr>\n",
       "      <th>COMBAT2022_G05171_T0</th>\n",
       "      <td>COVID</td>\n",
       "      <td>COVID</td>\n",
       "      <td>COVID</td>\n",
       "      <td>COVID</td>\n",
       "      <td>COVID</td>\n",
       "      <td>COVID</td>\n",
       "      <td>COVID</td>\n",
       "      <td>COVID</td>\n",
       "      <td>COVID</td>\n",
       "      <td>COVID</td>\n",
       "      <td>COVID</td>\n",
       "      <td>COVID</td>\n",
       "      <td>COVID</td>\n",
       "      <td>0</td>\n",
       "    </tr>\n",
       "    <tr>\n",
       "      <th>COMBAT2022_H00052_T0</th>\n",
       "      <td>sepsis</td>\n",
       "      <td>healthy</td>\n",
       "      <td>healthy</td>\n",
       "      <td>healthy</td>\n",
       "      <td>COVID</td>\n",
       "      <td>healthy</td>\n",
       "      <td>healthy</td>\n",
       "      <td>healthy</td>\n",
       "      <td>healthy</td>\n",
       "      <td>healthy</td>\n",
       "      <td>healthy</td>\n",
       "      <td>healthy</td>\n",
       "      <td>healthy</td>\n",
       "      <td>0</td>\n",
       "    </tr>\n",
       "    <tr>\n",
       "      <th>...</th>\n",
       "      <td>...</td>\n",
       "      <td>...</td>\n",
       "      <td>...</td>\n",
       "      <td>...</td>\n",
       "      <td>...</td>\n",
       "      <td>...</td>\n",
       "      <td>...</td>\n",
       "      <td>...</td>\n",
       "      <td>...</td>\n",
       "      <td>...</td>\n",
       "      <td>...</td>\n",
       "      <td>...</td>\n",
       "      <td>...</td>\n",
       "      <td>...</td>\n",
       "    </tr>\n",
       "    <tr>\n",
       "      <th>Terekhova2023_FD04_T1</th>\n",
       "      <td>healthy</td>\n",
       "      <td>healthy</td>\n",
       "      <td>healthy</td>\n",
       "      <td>healthy</td>\n",
       "      <td>healthy</td>\n",
       "      <td>healthy</td>\n",
       "      <td>healthy</td>\n",
       "      <td>healthy</td>\n",
       "      <td>healthy</td>\n",
       "      <td>healthy</td>\n",
       "      <td>healthy</td>\n",
       "      <td>healthy</td>\n",
       "      <td>healthy</td>\n",
       "      <td>4</td>\n",
       "    </tr>\n",
       "    <tr>\n",
       "      <th>Wang2020_PID471_T0</th>\n",
       "      <td>HIV</td>\n",
       "      <td>healthy</td>\n",
       "      <td>healthy</td>\n",
       "      <td>healthy</td>\n",
       "      <td>SLE</td>\n",
       "      <td>healthy</td>\n",
       "      <td>healthy</td>\n",
       "      <td>healthy</td>\n",
       "      <td>healthy</td>\n",
       "      <td>healthy</td>\n",
       "      <td>cirrhosis</td>\n",
       "      <td>healthy</td>\n",
       "      <td>HIV</td>\n",
       "      <td>4</td>\n",
       "    </tr>\n",
       "    <tr>\n",
       "      <th>Zhang2023_P190808_T0</th>\n",
       "      <td>HBV</td>\n",
       "      <td>healthy</td>\n",
       "      <td>healthy</td>\n",
       "      <td>HBV</td>\n",
       "      <td>HBV</td>\n",
       "      <td>healthy</td>\n",
       "      <td>HBV</td>\n",
       "      <td>HBV</td>\n",
       "      <td>healthy</td>\n",
       "      <td>healthy</td>\n",
       "      <td>healthy</td>\n",
       "      <td>healthy</td>\n",
       "      <td>HBV</td>\n",
       "      <td>4</td>\n",
       "    </tr>\n",
       "    <tr>\n",
       "      <th>Zhang2023_P191028_T0</th>\n",
       "      <td>healthy</td>\n",
       "      <td>HBV</td>\n",
       "      <td>HBV</td>\n",
       "      <td>HBV</td>\n",
       "      <td>HBV</td>\n",
       "      <td>HBV</td>\n",
       "      <td>HBV</td>\n",
       "      <td>HBV</td>\n",
       "      <td>HBV</td>\n",
       "      <td>healthy</td>\n",
       "      <td>HBV</td>\n",
       "      <td>HBV</td>\n",
       "      <td>HBV</td>\n",
       "      <td>4</td>\n",
       "    </tr>\n",
       "    <tr>\n",
       "      <th>Zhang2023_P191217_T0</th>\n",
       "      <td>healthy</td>\n",
       "      <td>HBV</td>\n",
       "      <td>HBV</td>\n",
       "      <td>HBV</td>\n",
       "      <td>HBV</td>\n",
       "      <td>healthy</td>\n",
       "      <td>healthy</td>\n",
       "      <td>HBV</td>\n",
       "      <td>healthy</td>\n",
       "      <td>healthy</td>\n",
       "      <td>NPC</td>\n",
       "      <td>Na</td>\n",
       "      <td>HBV</td>\n",
       "      <td>4</td>\n",
       "    </tr>\n",
       "  </tbody>\n",
       "</table>\n",
       "<p>817 rows × 14 columns</p>\n",
       "</div>"
      ],
      "text/plain": [
       "                             B       DC      ILC     Mono   Plasma  \\\n",
       "sampleID                                                             \n",
       "COMBAT2022_G05078_T0     COVID    COVID    COVID    COVID    COVID   \n",
       "COMBAT2022_G05105_T0     COVID    COVID    COVID    COVID    COVID   \n",
       "COMBAT2022_G05112_T0     COVID    COVID    COVID    COVID    COVID   \n",
       "COMBAT2022_G05171_T0     COVID    COVID    COVID    COVID    COVID   \n",
       "COMBAT2022_H00052_T0    sepsis  healthy  healthy  healthy    COVID   \n",
       "...                        ...      ...      ...      ...      ...   \n",
       "Terekhova2023_FD04_T1  healthy  healthy  healthy  healthy  healthy   \n",
       "Wang2020_PID471_T0         HIV  healthy  healthy  healthy      SLE   \n",
       "Zhang2023_P190808_T0       HBV  healthy  healthy      HBV      HBV   \n",
       "Zhang2023_P191028_T0   healthy      HBV      HBV      HBV      HBV   \n",
       "Zhang2023_P191217_T0   healthy      HBV      HBV      HBV      HBV   \n",
       "\n",
       "                      T_CD4_Naive T_CD4_NonNaive T_CD8_Naive T_CD8_NonNaive  \\\n",
       "sampleID                                                                      \n",
       "COMBAT2022_G05078_T0        COVID          COVID       COVID          COVID   \n",
       "COMBAT2022_G05105_T0        COVID          COVID       COVID          COVID   \n",
       "COMBAT2022_G05112_T0        COVID          COVID       COVID          COVID   \n",
       "COMBAT2022_G05171_T0        COVID          COVID       COVID          COVID   \n",
       "COMBAT2022_H00052_T0      healthy        healthy     healthy        healthy   \n",
       "...                           ...            ...         ...            ...   \n",
       "Terekhova2023_FD04_T1     healthy        healthy     healthy        healthy   \n",
       "Wang2020_PID471_T0        healthy        healthy     healthy        healthy   \n",
       "Zhang2023_P190808_T0      healthy            HBV         HBV        healthy   \n",
       "Zhang2023_P191028_T0          HBV            HBV         HBV            HBV   \n",
       "Zhang2023_P191217_T0      healthy        healthy         HBV        healthy   \n",
       "\n",
       "                           UTC        pDC Majority vote disease_true  SPLIT  \n",
       "sampleID                                                                     \n",
       "COMBAT2022_G05078_T0     COVID      COVID         COVID        COVID      0  \n",
       "COMBAT2022_G05105_T0     COVID      COVID         COVID        COVID      0  \n",
       "COMBAT2022_G05112_T0     COVID      COVID         COVID        COVID      0  \n",
       "COMBAT2022_G05171_T0     COVID      COVID         COVID        COVID      0  \n",
       "COMBAT2022_H00052_T0   healthy    healthy       healthy      healthy      0  \n",
       "...                        ...        ...           ...          ...    ...  \n",
       "Terekhova2023_FD04_T1  healthy    healthy       healthy      healthy      4  \n",
       "Wang2020_PID471_T0     healthy  cirrhosis       healthy          HIV      4  \n",
       "Zhang2023_P190808_T0   healthy    healthy       healthy          HBV      4  \n",
       "Zhang2023_P191028_T0   healthy        HBV           HBV          HBV      4  \n",
       "Zhang2023_P191217_T0   healthy        NPC            Na          HBV      4  \n",
       "\n",
       "[817 rows x 14 columns]"
      ]
     },
     "execution_count": 12,
     "metadata": {},
     "output_type": "execute_result"
    }
   ],
   "source": [
    "labels_df_dir= here(f'03_downstream_analysis/09_patient_classifier/5foldCV/results/CT_studies_predict/label_predicted_dataframes/')\n",
    "label_df_path_list = []\n",
    "for index, splt_i in scANVI_metrics__MajVote_df.iterrows():\n",
    "    pt_i = os.path.join(labels_df_dir,f\"{splt_i['classification_method']}_allCellType_SPLIT_{splt_i['SPLIT']}.pkl\")\n",
    "    lbl_df_i = pd.read_pickle(pt_i)\n",
    "    lbl_df_i['SPLIT'] = splt_i['SPLIT']\n",
    "    lbl_df_i.rename({'majority_pred':'Majority vote', 'disease':'disease_true'}, axis=1, inplace=True)\n",
    "    \n",
    "    lbl_df_i.columns = [c.replace('disease_pred_','') for c in lbl_df_i.columns]\n",
    "    label_df_path_list.append(lbl_df_i)\n",
    "\n",
    "labels_df = pd.concat(label_df_path_list, axis=0, ignore_index=False)\n",
    "\n",
    "labels_df[labels_df.isna()] = 'Na'\n",
    "labels_df[labels_df == 'nan'] = 'Na'\n",
    "\n",
    "labels_df"
   ]
  },
  {
   "cell_type": "code",
   "execution_count": 13,
   "id": "fe172125-93de-41ad-b913-d84178da5363",
   "metadata": {
    "execution": {
     "iopub.execute_input": "2025-06-04T15:00:30.090953Z",
     "iopub.status.busy": "2025-06-04T15:00:30.090684Z",
     "iopub.status.idle": "2025-06-04T15:00:30.093990Z",
     "shell.execute_reply": "2025-06-04T15:00:30.093674Z",
     "shell.execute_reply.started": "2025-06-04T15:00:30.090937Z"
    }
   },
   "outputs": [
    {
     "data": {
      "text/plain": [
       "(817,)"
      ]
     },
     "execution_count": 13,
     "metadata": {},
     "output_type": "execute_result"
    }
   ],
   "source": [
    "labels_df.index.unique().shape"
   ]
  },
  {
   "cell_type": "markdown",
   "id": "0f567f01-eada-4332-a498-b2e6b17a5d2e",
   "metadata": {},
   "source": [
    "### Computing the number of pseudobulk for disease stratified by cell-types and split"
   ]
  },
  {
   "cell_type": "code",
   "execution_count": 14,
   "id": "cb5eef5d-e26c-4bd8-8a67-660826e417ee",
   "metadata": {
    "execution": {
     "iopub.execute_input": "2025-06-04T15:00:31.067431Z",
     "iopub.status.busy": "2025-06-04T15:00:31.067037Z",
     "iopub.status.idle": "2025-06-04T15:00:31.077576Z",
     "shell.execute_reply": "2025-06-04T15:00:31.077269Z",
     "shell.execute_reply.started": "2025-06-04T15:00:31.067415Z"
    }
   },
   "outputs": [
    {
     "data": {
      "text/html": [
       "<div>\n",
       "<style scoped>\n",
       "    .dataframe tbody tr th:only-of-type {\n",
       "        vertical-align: middle;\n",
       "    }\n",
       "\n",
       "    .dataframe tbody tr th {\n",
       "        vertical-align: top;\n",
       "    }\n",
       "\n",
       "    .dataframe thead th {\n",
       "        text-align: right;\n",
       "    }\n",
       "</style>\n",
       "<table border=\"1\" class=\"dataframe\">\n",
       "  <thead>\n",
       "    <tr style=\"text-align: right;\">\n",
       "      <th></th>\n",
       "      <th>B</th>\n",
       "      <th>DC</th>\n",
       "      <th>ILC</th>\n",
       "      <th>Mono</th>\n",
       "      <th>Plasma</th>\n",
       "      <th>T_CD4_Naive</th>\n",
       "      <th>T_CD4_NonNaive</th>\n",
       "      <th>T_CD8_Naive</th>\n",
       "      <th>T_CD8_NonNaive</th>\n",
       "      <th>UTC</th>\n",
       "      <th>pDC</th>\n",
       "      <th>disease_true</th>\n",
       "      <th>SPLIT</th>\n",
       "    </tr>\n",
       "    <tr>\n",
       "      <th>sampleID</th>\n",
       "      <th></th>\n",
       "      <th></th>\n",
       "      <th></th>\n",
       "      <th></th>\n",
       "      <th></th>\n",
       "      <th></th>\n",
       "      <th></th>\n",
       "      <th></th>\n",
       "      <th></th>\n",
       "      <th></th>\n",
       "      <th></th>\n",
       "      <th></th>\n",
       "      <th></th>\n",
       "    </tr>\n",
       "  </thead>\n",
       "  <tbody>\n",
       "    <tr>\n",
       "      <th>COMBAT2022_G05078_T0</th>\n",
       "      <td>COVID</td>\n",
       "      <td>COVID</td>\n",
       "      <td>COVID</td>\n",
       "      <td>COVID</td>\n",
       "      <td>COVID</td>\n",
       "      <td>COVID</td>\n",
       "      <td>COVID</td>\n",
       "      <td>COVID</td>\n",
       "      <td>COVID</td>\n",
       "      <td>COVID</td>\n",
       "      <td>COVID</td>\n",
       "      <td>COVID</td>\n",
       "      <td>0</td>\n",
       "    </tr>\n",
       "    <tr>\n",
       "      <th>COMBAT2022_G05105_T0</th>\n",
       "      <td>COVID</td>\n",
       "      <td>COVID</td>\n",
       "      <td>COVID</td>\n",
       "      <td>COVID</td>\n",
       "      <td>COVID</td>\n",
       "      <td>COVID</td>\n",
       "      <td>COVID</td>\n",
       "      <td>COVID</td>\n",
       "      <td>COVID</td>\n",
       "      <td>COVID</td>\n",
       "      <td>COVID</td>\n",
       "      <td>COVID</td>\n",
       "      <td>0</td>\n",
       "    </tr>\n",
       "    <tr>\n",
       "      <th>COMBAT2022_G05112_T0</th>\n",
       "      <td>COVID</td>\n",
       "      <td>COVID</td>\n",
       "      <td>COVID</td>\n",
       "      <td>COVID</td>\n",
       "      <td>COVID</td>\n",
       "      <td>COVID</td>\n",
       "      <td>COVID</td>\n",
       "      <td>COVID</td>\n",
       "      <td>COVID</td>\n",
       "      <td>COVID</td>\n",
       "      <td>COVID</td>\n",
       "      <td>COVID</td>\n",
       "      <td>0</td>\n",
       "    </tr>\n",
       "    <tr>\n",
       "      <th>COMBAT2022_G05171_T0</th>\n",
       "      <td>COVID</td>\n",
       "      <td>COVID</td>\n",
       "      <td>COVID</td>\n",
       "      <td>COVID</td>\n",
       "      <td>COVID</td>\n",
       "      <td>COVID</td>\n",
       "      <td>COVID</td>\n",
       "      <td>COVID</td>\n",
       "      <td>COVID</td>\n",
       "      <td>COVID</td>\n",
       "      <td>COVID</td>\n",
       "      <td>COVID</td>\n",
       "      <td>0</td>\n",
       "    </tr>\n",
       "    <tr>\n",
       "      <th>COMBAT2022_H00052_T0</th>\n",
       "      <td>sepsis</td>\n",
       "      <td>healthy</td>\n",
       "      <td>healthy</td>\n",
       "      <td>healthy</td>\n",
       "      <td>COVID</td>\n",
       "      <td>healthy</td>\n",
       "      <td>healthy</td>\n",
       "      <td>healthy</td>\n",
       "      <td>healthy</td>\n",
       "      <td>healthy</td>\n",
       "      <td>healthy</td>\n",
       "      <td>healthy</td>\n",
       "      <td>0</td>\n",
       "    </tr>\n",
       "    <tr>\n",
       "      <th>...</th>\n",
       "      <td>...</td>\n",
       "      <td>...</td>\n",
       "      <td>...</td>\n",
       "      <td>...</td>\n",
       "      <td>...</td>\n",
       "      <td>...</td>\n",
       "      <td>...</td>\n",
       "      <td>...</td>\n",
       "      <td>...</td>\n",
       "      <td>...</td>\n",
       "      <td>...</td>\n",
       "      <td>...</td>\n",
       "      <td>...</td>\n",
       "    </tr>\n",
       "    <tr>\n",
       "      <th>Terekhova2023_FD04_T1</th>\n",
       "      <td>healthy</td>\n",
       "      <td>healthy</td>\n",
       "      <td>healthy</td>\n",
       "      <td>healthy</td>\n",
       "      <td>healthy</td>\n",
       "      <td>healthy</td>\n",
       "      <td>healthy</td>\n",
       "      <td>healthy</td>\n",
       "      <td>healthy</td>\n",
       "      <td>healthy</td>\n",
       "      <td>healthy</td>\n",
       "      <td>healthy</td>\n",
       "      <td>4</td>\n",
       "    </tr>\n",
       "    <tr>\n",
       "      <th>Wang2020_PID471_T0</th>\n",
       "      <td>HIV</td>\n",
       "      <td>healthy</td>\n",
       "      <td>healthy</td>\n",
       "      <td>healthy</td>\n",
       "      <td>SLE</td>\n",
       "      <td>healthy</td>\n",
       "      <td>healthy</td>\n",
       "      <td>healthy</td>\n",
       "      <td>healthy</td>\n",
       "      <td>healthy</td>\n",
       "      <td>cirrhosis</td>\n",
       "      <td>HIV</td>\n",
       "      <td>4</td>\n",
       "    </tr>\n",
       "    <tr>\n",
       "      <th>Zhang2023_P190808_T0</th>\n",
       "      <td>HBV</td>\n",
       "      <td>healthy</td>\n",
       "      <td>healthy</td>\n",
       "      <td>HBV</td>\n",
       "      <td>HBV</td>\n",
       "      <td>healthy</td>\n",
       "      <td>HBV</td>\n",
       "      <td>HBV</td>\n",
       "      <td>healthy</td>\n",
       "      <td>healthy</td>\n",
       "      <td>healthy</td>\n",
       "      <td>HBV</td>\n",
       "      <td>4</td>\n",
       "    </tr>\n",
       "    <tr>\n",
       "      <th>Zhang2023_P191028_T0</th>\n",
       "      <td>healthy</td>\n",
       "      <td>HBV</td>\n",
       "      <td>HBV</td>\n",
       "      <td>HBV</td>\n",
       "      <td>HBV</td>\n",
       "      <td>HBV</td>\n",
       "      <td>HBV</td>\n",
       "      <td>HBV</td>\n",
       "      <td>HBV</td>\n",
       "      <td>healthy</td>\n",
       "      <td>HBV</td>\n",
       "      <td>HBV</td>\n",
       "      <td>4</td>\n",
       "    </tr>\n",
       "    <tr>\n",
       "      <th>Zhang2023_P191217_T0</th>\n",
       "      <td>healthy</td>\n",
       "      <td>HBV</td>\n",
       "      <td>HBV</td>\n",
       "      <td>HBV</td>\n",
       "      <td>HBV</td>\n",
       "      <td>healthy</td>\n",
       "      <td>healthy</td>\n",
       "      <td>HBV</td>\n",
       "      <td>healthy</td>\n",
       "      <td>healthy</td>\n",
       "      <td>NPC</td>\n",
       "      <td>HBV</td>\n",
       "      <td>4</td>\n",
       "    </tr>\n",
       "  </tbody>\n",
       "</table>\n",
       "<p>817 rows × 13 columns</p>\n",
       "</div>"
      ],
      "text/plain": [
       "                             B       DC      ILC     Mono   Plasma  \\\n",
       "sampleID                                                             \n",
       "COMBAT2022_G05078_T0     COVID    COVID    COVID    COVID    COVID   \n",
       "COMBAT2022_G05105_T0     COVID    COVID    COVID    COVID    COVID   \n",
       "COMBAT2022_G05112_T0     COVID    COVID    COVID    COVID    COVID   \n",
       "COMBAT2022_G05171_T0     COVID    COVID    COVID    COVID    COVID   \n",
       "COMBAT2022_H00052_T0    sepsis  healthy  healthy  healthy    COVID   \n",
       "...                        ...      ...      ...      ...      ...   \n",
       "Terekhova2023_FD04_T1  healthy  healthy  healthy  healthy  healthy   \n",
       "Wang2020_PID471_T0         HIV  healthy  healthy  healthy      SLE   \n",
       "Zhang2023_P190808_T0       HBV  healthy  healthy      HBV      HBV   \n",
       "Zhang2023_P191028_T0   healthy      HBV      HBV      HBV      HBV   \n",
       "Zhang2023_P191217_T0   healthy      HBV      HBV      HBV      HBV   \n",
       "\n",
       "                      T_CD4_Naive T_CD4_NonNaive T_CD8_Naive T_CD8_NonNaive  \\\n",
       "sampleID                                                                      \n",
       "COMBAT2022_G05078_T0        COVID          COVID       COVID          COVID   \n",
       "COMBAT2022_G05105_T0        COVID          COVID       COVID          COVID   \n",
       "COMBAT2022_G05112_T0        COVID          COVID       COVID          COVID   \n",
       "COMBAT2022_G05171_T0        COVID          COVID       COVID          COVID   \n",
       "COMBAT2022_H00052_T0      healthy        healthy     healthy        healthy   \n",
       "...                           ...            ...         ...            ...   \n",
       "Terekhova2023_FD04_T1     healthy        healthy     healthy        healthy   \n",
       "Wang2020_PID471_T0        healthy        healthy     healthy        healthy   \n",
       "Zhang2023_P190808_T0      healthy            HBV         HBV        healthy   \n",
       "Zhang2023_P191028_T0          HBV            HBV         HBV            HBV   \n",
       "Zhang2023_P191217_T0      healthy        healthy         HBV        healthy   \n",
       "\n",
       "                           UTC        pDC disease_true  SPLIT  \n",
       "sampleID                                                       \n",
       "COMBAT2022_G05078_T0     COVID      COVID        COVID      0  \n",
       "COMBAT2022_G05105_T0     COVID      COVID        COVID      0  \n",
       "COMBAT2022_G05112_T0     COVID      COVID        COVID      0  \n",
       "COMBAT2022_G05171_T0     COVID      COVID        COVID      0  \n",
       "COMBAT2022_H00052_T0   healthy    healthy      healthy      0  \n",
       "...                        ...        ...          ...    ...  \n",
       "Terekhova2023_FD04_T1  healthy    healthy      healthy      4  \n",
       "Wang2020_PID471_T0     healthy  cirrhosis          HIV      4  \n",
       "Zhang2023_P190808_T0   healthy    healthy          HBV      4  \n",
       "Zhang2023_P191028_T0   healthy        HBV          HBV      4  \n",
       "Zhang2023_P191217_T0   healthy        NPC          HBV      4  \n",
       "\n",
       "[817 rows x 13 columns]"
      ]
     },
     "execution_count": 14,
     "metadata": {},
     "output_type": "execute_result"
    }
   ],
   "source": [
    "cell_classification_df = pd.concat(label_df_path_list, axis=0, ignore_index=False).drop(['Majority vote'], axis=1)\n",
    "cell_classification_df"
   ]
  },
  {
   "cell_type": "code",
   "execution_count": 15,
   "id": "7ed77dad-3472-441b-9b47-01e58d1a5d5e",
   "metadata": {
    "execution": {
     "iopub.execute_input": "2025-06-04T15:00:33.450667Z",
     "iopub.status.busy": "2025-06-04T15:00:33.450345Z",
     "iopub.status.idle": "2025-06-04T15:00:33.453212Z",
     "shell.execute_reply": "2025-06-04T15:00:33.452903Z",
     "shell.execute_reply.started": "2025-06-04T15:00:33.450654Z"
    }
   },
   "outputs": [
    {
     "data": {
      "text/plain": [
       "Index(['B', 'DC', 'ILC', 'Mono', 'Plasma', 'T_CD4_Naive', 'T_CD4_NonNaive',\n",
       "       'T_CD8_Naive', 'T_CD8_NonNaive', 'UTC', 'pDC', 'disease_true', 'SPLIT'],\n",
       "      dtype='object')"
      ]
     },
     "execution_count": 15,
     "metadata": {},
     "output_type": "execute_result"
    }
   ],
   "source": [
    "cell_classification_df.columns"
   ]
  },
  {
   "cell_type": "code",
   "execution_count": 16,
   "id": "b0e5a115-40a0-4ac6-9f09-246496a3c7c4",
   "metadata": {
    "execution": {
     "iopub.execute_input": "2025-06-04T15:00:33.774388Z",
     "iopub.status.busy": "2025-06-04T15:00:33.774140Z",
     "iopub.status.idle": "2025-06-04T15:00:33.796902Z",
     "shell.execute_reply": "2025-06-04T15:00:33.796565Z",
     "shell.execute_reply.started": "2025-06-04T15:00:33.774373Z"
    }
   },
   "outputs": [
    {
     "data": {
      "text/html": [
       "<div>\n",
       "<style scoped>\n",
       "    .dataframe tbody tr th:only-of-type {\n",
       "        vertical-align: middle;\n",
       "    }\n",
       "\n",
       "    .dataframe tbody tr th {\n",
       "        vertical-align: top;\n",
       "    }\n",
       "\n",
       "    .dataframe thead tr th {\n",
       "        text-align: left;\n",
       "    }\n",
       "\n",
       "    .dataframe thead tr:last-of-type th {\n",
       "        text-align: right;\n",
       "    }\n",
       "</style>\n",
       "<table border=\"1\" class=\"dataframe\">\n",
       "  <thead>\n",
       "    <tr>\n",
       "      <th></th>\n",
       "      <th colspan=\"11\" halign=\"left\">sampleID</th>\n",
       "    </tr>\n",
       "    <tr>\n",
       "      <th>cell-type</th>\n",
       "      <th>B</th>\n",
       "      <th>DC</th>\n",
       "      <th>ILC</th>\n",
       "      <th>Mono</th>\n",
       "      <th>Plasma</th>\n",
       "      <th>T_CD4_Naive</th>\n",
       "      <th>T_CD4_NonNaive</th>\n",
       "      <th>T_CD8_Naive</th>\n",
       "      <th>T_CD8_NonNaive</th>\n",
       "      <th>UTC</th>\n",
       "      <th>pDC</th>\n",
       "    </tr>\n",
       "    <tr>\n",
       "      <th>disease_true</th>\n",
       "      <th></th>\n",
       "      <th></th>\n",
       "      <th></th>\n",
       "      <th></th>\n",
       "      <th></th>\n",
       "      <th></th>\n",
       "      <th></th>\n",
       "      <th></th>\n",
       "      <th></th>\n",
       "      <th></th>\n",
       "      <th></th>\n",
       "    </tr>\n",
       "  </thead>\n",
       "  <tbody>\n",
       "    <tr>\n",
       "      <th>BRCA</th>\n",
       "      <td>6</td>\n",
       "      <td>6</td>\n",
       "      <td>6</td>\n",
       "      <td>6</td>\n",
       "      <td>6</td>\n",
       "      <td>6</td>\n",
       "      <td>6</td>\n",
       "      <td>6</td>\n",
       "      <td>6</td>\n",
       "      <td>6</td>\n",
       "      <td>6</td>\n",
       "    </tr>\n",
       "    <tr>\n",
       "      <th>CD</th>\n",
       "      <td>21</td>\n",
       "      <td>21</td>\n",
       "      <td>21</td>\n",
       "      <td>21</td>\n",
       "      <td>18</td>\n",
       "      <td>21</td>\n",
       "      <td>21</td>\n",
       "      <td>21</td>\n",
       "      <td>21</td>\n",
       "      <td>21</td>\n",
       "      <td>21</td>\n",
       "    </tr>\n",
       "    <tr>\n",
       "      <th>COPD</th>\n",
       "      <td>12</td>\n",
       "      <td>12</td>\n",
       "      <td>12</td>\n",
       "      <td>12</td>\n",
       "      <td>11</td>\n",
       "      <td>12</td>\n",
       "      <td>12</td>\n",
       "      <td>12</td>\n",
       "      <td>12</td>\n",
       "      <td>12</td>\n",
       "      <td>12</td>\n",
       "    </tr>\n",
       "    <tr>\n",
       "      <th>COVID</th>\n",
       "      <td>117</td>\n",
       "      <td>111</td>\n",
       "      <td>117</td>\n",
       "      <td>117</td>\n",
       "      <td>112</td>\n",
       "      <td>117</td>\n",
       "      <td>117</td>\n",
       "      <td>117</td>\n",
       "      <td>117</td>\n",
       "      <td>116</td>\n",
       "      <td>99</td>\n",
       "    </tr>\n",
       "    <tr>\n",
       "      <th>CRC</th>\n",
       "      <td>14</td>\n",
       "      <td>14</td>\n",
       "      <td>14</td>\n",
       "      <td>14</td>\n",
       "      <td>14</td>\n",
       "      <td>14</td>\n",
       "      <td>14</td>\n",
       "      <td>14</td>\n",
       "      <td>14</td>\n",
       "      <td>14</td>\n",
       "      <td>14</td>\n",
       "    </tr>\n",
       "    <tr>\n",
       "      <th>HBV</th>\n",
       "      <td>15</td>\n",
       "      <td>14</td>\n",
       "      <td>15</td>\n",
       "      <td>15</td>\n",
       "      <td>15</td>\n",
       "      <td>15</td>\n",
       "      <td>15</td>\n",
       "      <td>15</td>\n",
       "      <td>15</td>\n",
       "      <td>15</td>\n",
       "      <td>14</td>\n",
       "    </tr>\n",
       "    <tr>\n",
       "      <th>HIV</th>\n",
       "      <td>6</td>\n",
       "      <td>6</td>\n",
       "      <td>6</td>\n",
       "      <td>6</td>\n",
       "      <td>6</td>\n",
       "      <td>6</td>\n",
       "      <td>6</td>\n",
       "      <td>6</td>\n",
       "      <td>6</td>\n",
       "      <td>6</td>\n",
       "      <td>3</td>\n",
       "    </tr>\n",
       "    <tr>\n",
       "      <th>HNSCC</th>\n",
       "      <td>21</td>\n",
       "      <td>21</td>\n",
       "      <td>21</td>\n",
       "      <td>21</td>\n",
       "      <td>16</td>\n",
       "      <td>21</td>\n",
       "      <td>21</td>\n",
       "      <td>21</td>\n",
       "      <td>21</td>\n",
       "      <td>21</td>\n",
       "      <td>20</td>\n",
       "    </tr>\n",
       "    <tr>\n",
       "      <th>MS</th>\n",
       "      <td>5</td>\n",
       "      <td>5</td>\n",
       "      <td>5</td>\n",
       "      <td>5</td>\n",
       "      <td>5</td>\n",
       "      <td>5</td>\n",
       "      <td>5</td>\n",
       "      <td>5</td>\n",
       "      <td>5</td>\n",
       "      <td>5</td>\n",
       "      <td>5</td>\n",
       "    </tr>\n",
       "    <tr>\n",
       "      <th>NPC</th>\n",
       "      <td>10</td>\n",
       "      <td>10</td>\n",
       "      <td>10</td>\n",
       "      <td>10</td>\n",
       "      <td>10</td>\n",
       "      <td>10</td>\n",
       "      <td>10</td>\n",
       "      <td>10</td>\n",
       "      <td>10</td>\n",
       "      <td>10</td>\n",
       "      <td>10</td>\n",
       "    </tr>\n",
       "    <tr>\n",
       "      <th>PS</th>\n",
       "      <td>26</td>\n",
       "      <td>26</td>\n",
       "      <td>26</td>\n",
       "      <td>26</td>\n",
       "      <td>21</td>\n",
       "      <td>26</td>\n",
       "      <td>26</td>\n",
       "      <td>26</td>\n",
       "      <td>26</td>\n",
       "      <td>24</td>\n",
       "      <td>26</td>\n",
       "    </tr>\n",
       "    <tr>\n",
       "      <th>PSA</th>\n",
       "      <td>26</td>\n",
       "      <td>26</td>\n",
       "      <td>26</td>\n",
       "      <td>26</td>\n",
       "      <td>23</td>\n",
       "      <td>26</td>\n",
       "      <td>26</td>\n",
       "      <td>26</td>\n",
       "      <td>26</td>\n",
       "      <td>24</td>\n",
       "      <td>26</td>\n",
       "    </tr>\n",
       "    <tr>\n",
       "      <th>RA</th>\n",
       "      <td>38</td>\n",
       "      <td>38</td>\n",
       "      <td>38</td>\n",
       "      <td>38</td>\n",
       "      <td>37</td>\n",
       "      <td>38</td>\n",
       "      <td>38</td>\n",
       "      <td>38</td>\n",
       "      <td>38</td>\n",
       "      <td>37</td>\n",
       "      <td>38</td>\n",
       "    </tr>\n",
       "    <tr>\n",
       "      <th>SLE</th>\n",
       "      <td>140</td>\n",
       "      <td>140</td>\n",
       "      <td>142</td>\n",
       "      <td>142</td>\n",
       "      <td>111</td>\n",
       "      <td>142</td>\n",
       "      <td>142</td>\n",
       "      <td>142</td>\n",
       "      <td>142</td>\n",
       "      <td>142</td>\n",
       "      <td>139</td>\n",
       "    </tr>\n",
       "    <tr>\n",
       "      <th>UC</th>\n",
       "      <td>22</td>\n",
       "      <td>22</td>\n",
       "      <td>22</td>\n",
       "      <td>22</td>\n",
       "      <td>21</td>\n",
       "      <td>22</td>\n",
       "      <td>22</td>\n",
       "      <td>22</td>\n",
       "      <td>22</td>\n",
       "      <td>21</td>\n",
       "      <td>20</td>\n",
       "    </tr>\n",
       "    <tr>\n",
       "      <th>asthma</th>\n",
       "      <td>12</td>\n",
       "      <td>12</td>\n",
       "      <td>12</td>\n",
       "      <td>12</td>\n",
       "      <td>12</td>\n",
       "      <td>12</td>\n",
       "      <td>12</td>\n",
       "      <td>12</td>\n",
       "      <td>12</td>\n",
       "      <td>12</td>\n",
       "      <td>12</td>\n",
       "    </tr>\n",
       "    <tr>\n",
       "      <th>cirrhosis</th>\n",
       "      <td>8</td>\n",
       "      <td>8</td>\n",
       "      <td>8</td>\n",
       "      <td>8</td>\n",
       "      <td>8</td>\n",
       "      <td>8</td>\n",
       "      <td>8</td>\n",
       "      <td>8</td>\n",
       "      <td>8</td>\n",
       "      <td>8</td>\n",
       "      <td>8</td>\n",
       "    </tr>\n",
       "    <tr>\n",
       "      <th>flu</th>\n",
       "      <td>11</td>\n",
       "      <td>8</td>\n",
       "      <td>11</td>\n",
       "      <td>11</td>\n",
       "      <td>10</td>\n",
       "      <td>10</td>\n",
       "      <td>11</td>\n",
       "      <td>9</td>\n",
       "      <td>11</td>\n",
       "      <td>9</td>\n",
       "      <td>9</td>\n",
       "    </tr>\n",
       "    <tr>\n",
       "      <th>healthy</th>\n",
       "      <td>270</td>\n",
       "      <td>270</td>\n",
       "      <td>270</td>\n",
       "      <td>270</td>\n",
       "      <td>248</td>\n",
       "      <td>270</td>\n",
       "      <td>270</td>\n",
       "      <td>268</td>\n",
       "      <td>270</td>\n",
       "      <td>270</td>\n",
       "      <td>268</td>\n",
       "    </tr>\n",
       "    <tr>\n",
       "      <th>sepsis</th>\n",
       "      <td>34</td>\n",
       "      <td>29</td>\n",
       "      <td>35</td>\n",
       "      <td>35</td>\n",
       "      <td>24</td>\n",
       "      <td>30</td>\n",
       "      <td>34</td>\n",
       "      <td>24</td>\n",
       "      <td>35</td>\n",
       "      <td>34</td>\n",
       "      <td>25</td>\n",
       "    </tr>\n",
       "  </tbody>\n",
       "</table>\n",
       "</div>"
      ],
      "text/plain": [
       "             sampleID                                                   \\\n",
       "cell-type           B   DC  ILC Mono Plasma T_CD4_Naive T_CD4_NonNaive   \n",
       "disease_true                                                             \n",
       "BRCA                6    6    6    6      6           6              6   \n",
       "CD                 21   21   21   21     18          21             21   \n",
       "COPD               12   12   12   12     11          12             12   \n",
       "COVID             117  111  117  117    112         117            117   \n",
       "CRC                14   14   14   14     14          14             14   \n",
       "HBV                15   14   15   15     15          15             15   \n",
       "HIV                 6    6    6    6      6           6              6   \n",
       "HNSCC              21   21   21   21     16          21             21   \n",
       "MS                  5    5    5    5      5           5              5   \n",
       "NPC                10   10   10   10     10          10             10   \n",
       "PS                 26   26   26   26     21          26             26   \n",
       "PSA                26   26   26   26     23          26             26   \n",
       "RA                 38   38   38   38     37          38             38   \n",
       "SLE               140  140  142  142    111         142            142   \n",
       "UC                 22   22   22   22     21          22             22   \n",
       "asthma             12   12   12   12     12          12             12   \n",
       "cirrhosis           8    8    8    8      8           8              8   \n",
       "flu                11    8   11   11     10          10             11   \n",
       "healthy           270  270  270  270    248         270            270   \n",
       "sepsis             34   29   35   35     24          30             34   \n",
       "\n",
       "                                                   \n",
       "cell-type    T_CD8_Naive T_CD8_NonNaive  UTC  pDC  \n",
       "disease_true                                       \n",
       "BRCA                   6              6    6    6  \n",
       "CD                    21             21   21   21  \n",
       "COPD                  12             12   12   12  \n",
       "COVID                117            117  116   99  \n",
       "CRC                   14             14   14   14  \n",
       "HBV                   15             15   15   14  \n",
       "HIV                    6              6    6    3  \n",
       "HNSCC                 21             21   21   20  \n",
       "MS                     5              5    5    5  \n",
       "NPC                   10             10   10   10  \n",
       "PS                    26             26   24   26  \n",
       "PSA                   26             26   24   26  \n",
       "RA                    38             38   37   38  \n",
       "SLE                  142            142  142  139  \n",
       "UC                    22             22   21   20  \n",
       "asthma                12             12   12   12  \n",
       "cirrhosis              8              8    8    8  \n",
       "flu                    9             11    9    9  \n",
       "healthy              268            270  270  268  \n",
       "sepsis                24             35   34   25  "
      ]
     },
     "execution_count": 16,
     "metadata": {},
     "output_type": "execute_result"
    }
   ],
   "source": [
    "pseudobulk_disease_mtx  = (cell_classification_df.reset_index()\n",
    "                          .melt(id_vars = ['sampleID','disease_true'], \n",
    "                                value_vars=['B', 'DC', 'ILC', 'Mono', 'Plasma', 'T_CD4_Naive', 'T_CD4_NonNaive','T_CD8_Naive', 'T_CD8_NonNaive', 'UTC', 'pDC'], \n",
    "                                var_name='cell-type')\n",
    "                          .dropna(axis=0, how='any').drop(['value'], axis=1)\n",
    "                          .groupby(['disease_true','cell-type'])\n",
    "                          .count().reset_index()\n",
    "                          .pivot(index=['disease_true'], columns='cell-type')\n",
    "                         )\n",
    "\n",
    "pseudobulk_disease_mtx"
   ]
  },
  {
   "cell_type": "code",
   "execution_count": 17,
   "id": "1fa02af3-68a2-4e59-8bc7-bcc9c017faab",
   "metadata": {
    "execution": {
     "iopub.execute_input": "2025-06-04T15:00:34.843136Z",
     "iopub.status.busy": "2025-06-04T15:00:34.842886Z",
     "iopub.status.idle": "2025-06-04T15:00:34.858222Z",
     "shell.execute_reply": "2025-06-04T15:00:34.857919Z",
     "shell.execute_reply.started": "2025-06-04T15:00:34.843121Z"
    }
   },
   "outputs": [
    {
     "data": {
      "text/html": [
       "<div>\n",
       "<style scoped>\n",
       "    .dataframe tbody tr th:only-of-type {\n",
       "        vertical-align: middle;\n",
       "    }\n",
       "\n",
       "    .dataframe tbody tr th {\n",
       "        vertical-align: top;\n",
       "    }\n",
       "\n",
       "    .dataframe thead tr th {\n",
       "        text-align: left;\n",
       "    }\n",
       "\n",
       "    .dataframe thead tr:last-of-type th {\n",
       "        text-align: right;\n",
       "    }\n",
       "</style>\n",
       "<table border=\"1\" class=\"dataframe\">\n",
       "  <thead>\n",
       "    <tr>\n",
       "      <th></th>\n",
       "      <th colspan=\"11\" halign=\"left\">sampleID</th>\n",
       "    </tr>\n",
       "    <tr>\n",
       "      <th>cell-type</th>\n",
       "      <th>B</th>\n",
       "      <th>DC</th>\n",
       "      <th>ILC</th>\n",
       "      <th>Mono</th>\n",
       "      <th>Plasma</th>\n",
       "      <th>T_CD4_Naive</th>\n",
       "      <th>T_CD4_NonNaive</th>\n",
       "      <th>T_CD8_Naive</th>\n",
       "      <th>T_CD8_NonNaive</th>\n",
       "      <th>UTC</th>\n",
       "      <th>pDC</th>\n",
       "    </tr>\n",
       "    <tr>\n",
       "      <th>disease_true</th>\n",
       "      <th></th>\n",
       "      <th></th>\n",
       "      <th></th>\n",
       "      <th></th>\n",
       "      <th></th>\n",
       "      <th></th>\n",
       "      <th></th>\n",
       "      <th></th>\n",
       "      <th></th>\n",
       "      <th></th>\n",
       "      <th></th>\n",
       "    </tr>\n",
       "  </thead>\n",
       "  <tbody>\n",
       "    <tr>\n",
       "      <th>BRCA</th>\n",
       "      <td>1.000000</td>\n",
       "      <td>1.000000</td>\n",
       "      <td>1.0</td>\n",
       "      <td>1.0</td>\n",
       "      <td>1.000000</td>\n",
       "      <td>1.000000</td>\n",
       "      <td>1.000000</td>\n",
       "      <td>1.000000</td>\n",
       "      <td>1.0</td>\n",
       "      <td>1.000000</td>\n",
       "      <td>1.000000</td>\n",
       "    </tr>\n",
       "    <tr>\n",
       "      <th>CD</th>\n",
       "      <td>1.000000</td>\n",
       "      <td>1.000000</td>\n",
       "      <td>1.0</td>\n",
       "      <td>1.0</td>\n",
       "      <td>0.857143</td>\n",
       "      <td>1.000000</td>\n",
       "      <td>1.000000</td>\n",
       "      <td>1.000000</td>\n",
       "      <td>1.0</td>\n",
       "      <td>1.000000</td>\n",
       "      <td>1.000000</td>\n",
       "    </tr>\n",
       "    <tr>\n",
       "      <th>COPD</th>\n",
       "      <td>1.000000</td>\n",
       "      <td>1.000000</td>\n",
       "      <td>1.0</td>\n",
       "      <td>1.0</td>\n",
       "      <td>0.916667</td>\n",
       "      <td>1.000000</td>\n",
       "      <td>1.000000</td>\n",
       "      <td>1.000000</td>\n",
       "      <td>1.0</td>\n",
       "      <td>1.000000</td>\n",
       "      <td>1.000000</td>\n",
       "    </tr>\n",
       "    <tr>\n",
       "      <th>COVID</th>\n",
       "      <td>1.000000</td>\n",
       "      <td>0.948718</td>\n",
       "      <td>1.0</td>\n",
       "      <td>1.0</td>\n",
       "      <td>0.957265</td>\n",
       "      <td>1.000000</td>\n",
       "      <td>1.000000</td>\n",
       "      <td>1.000000</td>\n",
       "      <td>1.0</td>\n",
       "      <td>0.991453</td>\n",
       "      <td>0.846154</td>\n",
       "    </tr>\n",
       "    <tr>\n",
       "      <th>CRC</th>\n",
       "      <td>1.000000</td>\n",
       "      <td>1.000000</td>\n",
       "      <td>1.0</td>\n",
       "      <td>1.0</td>\n",
       "      <td>1.000000</td>\n",
       "      <td>1.000000</td>\n",
       "      <td>1.000000</td>\n",
       "      <td>1.000000</td>\n",
       "      <td>1.0</td>\n",
       "      <td>1.000000</td>\n",
       "      <td>1.000000</td>\n",
       "    </tr>\n",
       "    <tr>\n",
       "      <th>HBV</th>\n",
       "      <td>1.000000</td>\n",
       "      <td>0.933333</td>\n",
       "      <td>1.0</td>\n",
       "      <td>1.0</td>\n",
       "      <td>1.000000</td>\n",
       "      <td>1.000000</td>\n",
       "      <td>1.000000</td>\n",
       "      <td>1.000000</td>\n",
       "      <td>1.0</td>\n",
       "      <td>1.000000</td>\n",
       "      <td>0.933333</td>\n",
       "    </tr>\n",
       "    <tr>\n",
       "      <th>HIV</th>\n",
       "      <td>1.000000</td>\n",
       "      <td>1.000000</td>\n",
       "      <td>1.0</td>\n",
       "      <td>1.0</td>\n",
       "      <td>1.000000</td>\n",
       "      <td>1.000000</td>\n",
       "      <td>1.000000</td>\n",
       "      <td>1.000000</td>\n",
       "      <td>1.0</td>\n",
       "      <td>1.000000</td>\n",
       "      <td>0.500000</td>\n",
       "    </tr>\n",
       "    <tr>\n",
       "      <th>HNSCC</th>\n",
       "      <td>1.000000</td>\n",
       "      <td>1.000000</td>\n",
       "      <td>1.0</td>\n",
       "      <td>1.0</td>\n",
       "      <td>0.761905</td>\n",
       "      <td>1.000000</td>\n",
       "      <td>1.000000</td>\n",
       "      <td>1.000000</td>\n",
       "      <td>1.0</td>\n",
       "      <td>1.000000</td>\n",
       "      <td>0.952381</td>\n",
       "    </tr>\n",
       "    <tr>\n",
       "      <th>MS</th>\n",
       "      <td>1.000000</td>\n",
       "      <td>1.000000</td>\n",
       "      <td>1.0</td>\n",
       "      <td>1.0</td>\n",
       "      <td>1.000000</td>\n",
       "      <td>1.000000</td>\n",
       "      <td>1.000000</td>\n",
       "      <td>1.000000</td>\n",
       "      <td>1.0</td>\n",
       "      <td>1.000000</td>\n",
       "      <td>1.000000</td>\n",
       "    </tr>\n",
       "    <tr>\n",
       "      <th>NPC</th>\n",
       "      <td>1.000000</td>\n",
       "      <td>1.000000</td>\n",
       "      <td>1.0</td>\n",
       "      <td>1.0</td>\n",
       "      <td>1.000000</td>\n",
       "      <td>1.000000</td>\n",
       "      <td>1.000000</td>\n",
       "      <td>1.000000</td>\n",
       "      <td>1.0</td>\n",
       "      <td>1.000000</td>\n",
       "      <td>1.000000</td>\n",
       "    </tr>\n",
       "    <tr>\n",
       "      <th>PS</th>\n",
       "      <td>1.000000</td>\n",
       "      <td>1.000000</td>\n",
       "      <td>1.0</td>\n",
       "      <td>1.0</td>\n",
       "      <td>0.807692</td>\n",
       "      <td>1.000000</td>\n",
       "      <td>1.000000</td>\n",
       "      <td>1.000000</td>\n",
       "      <td>1.0</td>\n",
       "      <td>0.923077</td>\n",
       "      <td>1.000000</td>\n",
       "    </tr>\n",
       "    <tr>\n",
       "      <th>PSA</th>\n",
       "      <td>1.000000</td>\n",
       "      <td>1.000000</td>\n",
       "      <td>1.0</td>\n",
       "      <td>1.0</td>\n",
       "      <td>0.884615</td>\n",
       "      <td>1.000000</td>\n",
       "      <td>1.000000</td>\n",
       "      <td>1.000000</td>\n",
       "      <td>1.0</td>\n",
       "      <td>0.923077</td>\n",
       "      <td>1.000000</td>\n",
       "    </tr>\n",
       "    <tr>\n",
       "      <th>RA</th>\n",
       "      <td>1.000000</td>\n",
       "      <td>1.000000</td>\n",
       "      <td>1.0</td>\n",
       "      <td>1.0</td>\n",
       "      <td>0.973684</td>\n",
       "      <td>1.000000</td>\n",
       "      <td>1.000000</td>\n",
       "      <td>1.000000</td>\n",
       "      <td>1.0</td>\n",
       "      <td>0.973684</td>\n",
       "      <td>1.000000</td>\n",
       "    </tr>\n",
       "    <tr>\n",
       "      <th>SLE</th>\n",
       "      <td>0.985915</td>\n",
       "      <td>0.985915</td>\n",
       "      <td>1.0</td>\n",
       "      <td>1.0</td>\n",
       "      <td>0.781690</td>\n",
       "      <td>1.000000</td>\n",
       "      <td>1.000000</td>\n",
       "      <td>1.000000</td>\n",
       "      <td>1.0</td>\n",
       "      <td>1.000000</td>\n",
       "      <td>0.978873</td>\n",
       "    </tr>\n",
       "    <tr>\n",
       "      <th>UC</th>\n",
       "      <td>1.000000</td>\n",
       "      <td>1.000000</td>\n",
       "      <td>1.0</td>\n",
       "      <td>1.0</td>\n",
       "      <td>0.954545</td>\n",
       "      <td>1.000000</td>\n",
       "      <td>1.000000</td>\n",
       "      <td>1.000000</td>\n",
       "      <td>1.0</td>\n",
       "      <td>0.954545</td>\n",
       "      <td>0.909091</td>\n",
       "    </tr>\n",
       "    <tr>\n",
       "      <th>asthma</th>\n",
       "      <td>1.000000</td>\n",
       "      <td>1.000000</td>\n",
       "      <td>1.0</td>\n",
       "      <td>1.0</td>\n",
       "      <td>1.000000</td>\n",
       "      <td>1.000000</td>\n",
       "      <td>1.000000</td>\n",
       "      <td>1.000000</td>\n",
       "      <td>1.0</td>\n",
       "      <td>1.000000</td>\n",
       "      <td>1.000000</td>\n",
       "    </tr>\n",
       "    <tr>\n",
       "      <th>cirrhosis</th>\n",
       "      <td>1.000000</td>\n",
       "      <td>1.000000</td>\n",
       "      <td>1.0</td>\n",
       "      <td>1.0</td>\n",
       "      <td>1.000000</td>\n",
       "      <td>1.000000</td>\n",
       "      <td>1.000000</td>\n",
       "      <td>1.000000</td>\n",
       "      <td>1.0</td>\n",
       "      <td>1.000000</td>\n",
       "      <td>1.000000</td>\n",
       "    </tr>\n",
       "    <tr>\n",
       "      <th>flu</th>\n",
       "      <td>1.000000</td>\n",
       "      <td>0.727273</td>\n",
       "      <td>1.0</td>\n",
       "      <td>1.0</td>\n",
       "      <td>0.909091</td>\n",
       "      <td>0.909091</td>\n",
       "      <td>1.000000</td>\n",
       "      <td>0.818182</td>\n",
       "      <td>1.0</td>\n",
       "      <td>0.818182</td>\n",
       "      <td>0.818182</td>\n",
       "    </tr>\n",
       "    <tr>\n",
       "      <th>healthy</th>\n",
       "      <td>1.000000</td>\n",
       "      <td>1.000000</td>\n",
       "      <td>1.0</td>\n",
       "      <td>1.0</td>\n",
       "      <td>0.918519</td>\n",
       "      <td>1.000000</td>\n",
       "      <td>1.000000</td>\n",
       "      <td>0.992593</td>\n",
       "      <td>1.0</td>\n",
       "      <td>1.000000</td>\n",
       "      <td>0.992593</td>\n",
       "    </tr>\n",
       "    <tr>\n",
       "      <th>sepsis</th>\n",
       "      <td>0.971429</td>\n",
       "      <td>0.828571</td>\n",
       "      <td>1.0</td>\n",
       "      <td>1.0</td>\n",
       "      <td>0.685714</td>\n",
       "      <td>0.857143</td>\n",
       "      <td>0.971429</td>\n",
       "      <td>0.685714</td>\n",
       "      <td>1.0</td>\n",
       "      <td>0.971429</td>\n",
       "      <td>0.714286</td>\n",
       "    </tr>\n",
       "  </tbody>\n",
       "</table>\n",
       "</div>"
      ],
      "text/plain": [
       "              sampleID                                            \\\n",
       "cell-type            B        DC  ILC Mono    Plasma T_CD4_Naive   \n",
       "disease_true                                                       \n",
       "BRCA          1.000000  1.000000  1.0  1.0  1.000000    1.000000   \n",
       "CD            1.000000  1.000000  1.0  1.0  0.857143    1.000000   \n",
       "COPD          1.000000  1.000000  1.0  1.0  0.916667    1.000000   \n",
       "COVID         1.000000  0.948718  1.0  1.0  0.957265    1.000000   \n",
       "CRC           1.000000  1.000000  1.0  1.0  1.000000    1.000000   \n",
       "HBV           1.000000  0.933333  1.0  1.0  1.000000    1.000000   \n",
       "HIV           1.000000  1.000000  1.0  1.0  1.000000    1.000000   \n",
       "HNSCC         1.000000  1.000000  1.0  1.0  0.761905    1.000000   \n",
       "MS            1.000000  1.000000  1.0  1.0  1.000000    1.000000   \n",
       "NPC           1.000000  1.000000  1.0  1.0  1.000000    1.000000   \n",
       "PS            1.000000  1.000000  1.0  1.0  0.807692    1.000000   \n",
       "PSA           1.000000  1.000000  1.0  1.0  0.884615    1.000000   \n",
       "RA            1.000000  1.000000  1.0  1.0  0.973684    1.000000   \n",
       "SLE           0.985915  0.985915  1.0  1.0  0.781690    1.000000   \n",
       "UC            1.000000  1.000000  1.0  1.0  0.954545    1.000000   \n",
       "asthma        1.000000  1.000000  1.0  1.0  1.000000    1.000000   \n",
       "cirrhosis     1.000000  1.000000  1.0  1.0  1.000000    1.000000   \n",
       "flu           1.000000  0.727273  1.0  1.0  0.909091    0.909091   \n",
       "healthy       1.000000  1.000000  1.0  1.0  0.918519    1.000000   \n",
       "sepsis        0.971429  0.828571  1.0  1.0  0.685714    0.857143   \n",
       "\n",
       "                                                                            \n",
       "cell-type    T_CD4_NonNaive T_CD8_Naive T_CD8_NonNaive       UTC       pDC  \n",
       "disease_true                                                                \n",
       "BRCA               1.000000    1.000000            1.0  1.000000  1.000000  \n",
       "CD                 1.000000    1.000000            1.0  1.000000  1.000000  \n",
       "COPD               1.000000    1.000000            1.0  1.000000  1.000000  \n",
       "COVID              1.000000    1.000000            1.0  0.991453  0.846154  \n",
       "CRC                1.000000    1.000000            1.0  1.000000  1.000000  \n",
       "HBV                1.000000    1.000000            1.0  1.000000  0.933333  \n",
       "HIV                1.000000    1.000000            1.0  1.000000  0.500000  \n",
       "HNSCC              1.000000    1.000000            1.0  1.000000  0.952381  \n",
       "MS                 1.000000    1.000000            1.0  1.000000  1.000000  \n",
       "NPC                1.000000    1.000000            1.0  1.000000  1.000000  \n",
       "PS                 1.000000    1.000000            1.0  0.923077  1.000000  \n",
       "PSA                1.000000    1.000000            1.0  0.923077  1.000000  \n",
       "RA                 1.000000    1.000000            1.0  0.973684  1.000000  \n",
       "SLE                1.000000    1.000000            1.0  1.000000  0.978873  \n",
       "UC                 1.000000    1.000000            1.0  0.954545  0.909091  \n",
       "asthma             1.000000    1.000000            1.0  1.000000  1.000000  \n",
       "cirrhosis          1.000000    1.000000            1.0  1.000000  1.000000  \n",
       "flu                1.000000    0.818182            1.0  0.818182  0.818182  \n",
       "healthy            1.000000    0.992593            1.0  1.000000  0.992593  \n",
       "sepsis             0.971429    0.685714            1.0  0.971429  0.714286  "
      ]
     },
     "execution_count": 17,
     "metadata": {},
     "output_type": "execute_result"
    }
   ],
   "source": [
    "pseudobulk_disease_mtx.div(pseudobulk_disease_mtx.max(axis=1), axis='rows')"
   ]
  },
  {
   "cell_type": "code",
   "execution_count": 18,
   "id": "244e9bf5-0c38-43c1-8c13-97858d9cb7c1",
   "metadata": {
    "execution": {
     "iopub.execute_input": "2025-06-04T15:00:35.364019Z",
     "iopub.status.busy": "2025-06-04T15:00:35.363585Z",
     "iopub.status.idle": "2025-06-04T15:00:35.369647Z",
     "shell.execute_reply": "2025-06-04T15:00:35.369342Z",
     "shell.execute_reply.started": "2025-06-04T15:00:35.364004Z"
    }
   },
   "outputs": [
    {
     "data": {
      "text/html": [
       "<div>\n",
       "<style scoped>\n",
       "    .dataframe tbody tr th:only-of-type {\n",
       "        vertical-align: middle;\n",
       "    }\n",
       "\n",
       "    .dataframe tbody tr th {\n",
       "        vertical-align: top;\n",
       "    }\n",
       "\n",
       "    .dataframe thead th {\n",
       "        text-align: right;\n",
       "    }\n",
       "</style>\n",
       "<table border=\"1\" class=\"dataframe\">\n",
       "  <thead>\n",
       "    <tr style=\"text-align: right;\">\n",
       "      <th></th>\n",
       "      <th>SPLIT</th>\n",
       "      <th>classification_method</th>\n",
       "      <th>W_F1</th>\n",
       "      <th>BAS</th>\n",
       "      <th>MCC</th>\n",
       "    </tr>\n",
       "  </thead>\n",
       "  <tbody>\n",
       "    <tr>\n",
       "      <th>4</th>\n",
       "      <td>0</td>\n",
       "      <td>SVC</td>\n",
       "      <td>0.890689</td>\n",
       "      <td>0.7908</td>\n",
       "      <td>0.879728</td>\n",
       "    </tr>\n",
       "    <tr>\n",
       "      <th>1</th>\n",
       "      <td>1</td>\n",
       "      <td>SVC</td>\n",
       "      <td>0.918005</td>\n",
       "      <td>0.851151</td>\n",
       "      <td>0.898244</td>\n",
       "    </tr>\n",
       "    <tr>\n",
       "      <th>7</th>\n",
       "      <td>2</td>\n",
       "      <td>SVC</td>\n",
       "      <td>0.95559</td>\n",
       "      <td>0.966204</td>\n",
       "      <td>0.94172</td>\n",
       "    </tr>\n",
       "    <tr>\n",
       "      <th>10</th>\n",
       "      <td>3</td>\n",
       "      <td>SVC</td>\n",
       "      <td>0.887765</td>\n",
       "      <td>0.836052</td>\n",
       "      <td>0.857983</td>\n",
       "    </tr>\n",
       "    <tr>\n",
       "      <th>13</th>\n",
       "      <td>4</td>\n",
       "      <td>SVC</td>\n",
       "      <td>0.868233</td>\n",
       "      <td>0.799735</td>\n",
       "      <td>0.847812</td>\n",
       "    </tr>\n",
       "  </tbody>\n",
       "</table>\n",
       "</div>"
      ],
      "text/plain": [
       "   SPLIT classification_method      W_F1       BAS       MCC\n",
       "4      0                   SVC  0.890689    0.7908  0.879728\n",
       "1      1                   SVC  0.918005  0.851151  0.898244\n",
       "7      2                   SVC   0.95559  0.966204   0.94172\n",
       "10     3                   SVC  0.887765  0.836052  0.857983\n",
       "13     4                   SVC  0.868233  0.799735  0.847812"
      ]
     },
     "execution_count": 18,
     "metadata": {},
     "output_type": "execute_result"
    }
   ],
   "source": [
    "scANVI_metrics__MajVote_df"
   ]
  },
  {
   "cell_type": "code",
   "execution_count": 19,
   "id": "15f5051a-bb26-4731-aae1-f3cbdfaab480",
   "metadata": {
    "execution": {
     "iopub.execute_input": "2025-06-04T15:00:36.795399Z",
     "iopub.status.busy": "2025-06-04T15:00:36.795089Z",
     "iopub.status.idle": "2025-06-04T15:00:36.798117Z",
     "shell.execute_reply": "2025-06-04T15:00:36.797788Z",
     "shell.execute_reply.started": "2025-06-04T15:00:36.795384Z"
    }
   },
   "outputs": [],
   "source": [
    "scANVI_metrics__MajVote_df[['W_precision','W_recall','W_specificity']] = 0"
   ]
  },
  {
   "cell_type": "code",
   "execution_count": 20,
   "id": "84192812-2e95-4207-987a-f1c1e469548a",
   "metadata": {
    "execution": {
     "iopub.execute_input": "2025-06-04T15:00:37.370047Z",
     "iopub.status.busy": "2025-06-04T15:00:37.369684Z",
     "iopub.status.idle": "2025-06-04T15:00:37.434657Z",
     "shell.execute_reply": "2025-06-04T15:00:37.434331Z",
     "shell.execute_reply.started": "2025-06-04T15:00:37.370032Z"
    }
   },
   "outputs": [],
   "source": [
    "for s in labels_df.SPLIT.unique():\n",
    "    S_i = labels_df.query(\"SPLIT == @s\")\n",
    "    Wprecision_i, Wrecall_i, Wspecifitity_i = get_add_metric(disease_pred=S_i['Majority vote'], disease_true= S_i.disease_true)\n",
    "    scANVI_metrics__MajVote_df.loc[scANVI_metrics__MajVote_df['SPLIT'] == s,'W_precision']=Wprecision_i\n",
    "    scANVI_metrics__MajVote_df.loc[scANVI_metrics__MajVote_df['SPLIT'] == s,'W_recall']=Wrecall_i\n",
    "    scANVI_metrics__MajVote_df.loc[scANVI_metrics__MajVote_df['SPLIT'] == s,'W_specificity']=Wspecifitity_i"
   ]
  },
  {
   "cell_type": "code",
   "execution_count": 21,
   "id": "9062f84c-23e9-42ef-8a1f-74d5b00da1fd",
   "metadata": {
    "execution": {
     "iopub.execute_input": "2025-06-04T15:00:37.962397Z",
     "iopub.status.busy": "2025-06-04T15:00:37.962221Z",
     "iopub.status.idle": "2025-06-04T15:00:37.968448Z",
     "shell.execute_reply": "2025-06-04T15:00:37.968150Z",
     "shell.execute_reply.started": "2025-06-04T15:00:37.962383Z"
    }
   },
   "outputs": [
    {
     "data": {
      "text/html": [
       "<div>\n",
       "<style scoped>\n",
       "    .dataframe tbody tr th:only-of-type {\n",
       "        vertical-align: middle;\n",
       "    }\n",
       "\n",
       "    .dataframe tbody tr th {\n",
       "        vertical-align: top;\n",
       "    }\n",
       "\n",
       "    .dataframe thead th {\n",
       "        text-align: right;\n",
       "    }\n",
       "</style>\n",
       "<table border=\"1\" class=\"dataframe\">\n",
       "  <thead>\n",
       "    <tr style=\"text-align: right;\">\n",
       "      <th></th>\n",
       "      <th>SPLIT</th>\n",
       "      <th>classification_method</th>\n",
       "      <th>W_F1</th>\n",
       "      <th>BAS</th>\n",
       "      <th>MCC</th>\n",
       "      <th>W_precision</th>\n",
       "      <th>W_recall</th>\n",
       "      <th>W_specificity</th>\n",
       "    </tr>\n",
       "  </thead>\n",
       "  <tbody>\n",
       "    <tr>\n",
       "      <th>4</th>\n",
       "      <td>0</td>\n",
       "      <td>SVC</td>\n",
       "      <td>0.890689</td>\n",
       "      <td>0.7908</td>\n",
       "      <td>0.879728</td>\n",
       "      <td>0.898510</td>\n",
       "      <td>0.898810</td>\n",
       "      <td>0.982625</td>\n",
       "    </tr>\n",
       "    <tr>\n",
       "      <th>1</th>\n",
       "      <td>1</td>\n",
       "      <td>SVC</td>\n",
       "      <td>0.918005</td>\n",
       "      <td>0.851151</td>\n",
       "      <td>0.898244</td>\n",
       "      <td>0.934678</td>\n",
       "      <td>0.914634</td>\n",
       "      <td>0.992141</td>\n",
       "    </tr>\n",
       "    <tr>\n",
       "      <th>7</th>\n",
       "      <td>2</td>\n",
       "      <td>SVC</td>\n",
       "      <td>0.95559</td>\n",
       "      <td>0.966204</td>\n",
       "      <td>0.94172</td>\n",
       "      <td>0.967052</td>\n",
       "      <td>0.950617</td>\n",
       "      <td>0.996803</td>\n",
       "    </tr>\n",
       "    <tr>\n",
       "      <th>10</th>\n",
       "      <td>3</td>\n",
       "      <td>SVC</td>\n",
       "      <td>0.887765</td>\n",
       "      <td>0.836052</td>\n",
       "      <td>0.857983</td>\n",
       "      <td>0.909754</td>\n",
       "      <td>0.881250</td>\n",
       "      <td>0.985865</td>\n",
       "    </tr>\n",
       "    <tr>\n",
       "      <th>13</th>\n",
       "      <td>4</td>\n",
       "      <td>SVC</td>\n",
       "      <td>0.868233</td>\n",
       "      <td>0.799735</td>\n",
       "      <td>0.847812</td>\n",
       "      <td>0.888099</td>\n",
       "      <td>0.871166</td>\n",
       "      <td>0.983031</td>\n",
       "    </tr>\n",
       "  </tbody>\n",
       "</table>\n",
       "</div>"
      ],
      "text/plain": [
       "   SPLIT classification_method      W_F1       BAS       MCC  W_precision  \\\n",
       "4      0                   SVC  0.890689    0.7908  0.879728     0.898510   \n",
       "1      1                   SVC  0.918005  0.851151  0.898244     0.934678   \n",
       "7      2                   SVC   0.95559  0.966204   0.94172     0.967052   \n",
       "10     3                   SVC  0.887765  0.836052  0.857983     0.909754   \n",
       "13     4                   SVC  0.868233  0.799735  0.847812     0.888099   \n",
       "\n",
       "    W_recall  W_specificity  \n",
       "4   0.898810       0.982625  \n",
       "1   0.914634       0.992141  \n",
       "7   0.950617       0.996803  \n",
       "10  0.881250       0.985865  \n",
       "13  0.871166       0.983031  "
      ]
     },
     "execution_count": 21,
     "metadata": {},
     "output_type": "execute_result"
    }
   ],
   "source": [
    "scANVI_metrics__MajVote_df"
   ]
  },
  {
   "cell_type": "markdown",
   "id": "542db44c-73cc-4b84-8201-e758953f13f0",
   "metadata": {
    "execution": {
     "iopub.execute_input": "2024-07-10T08:09:49.053428Z",
     "iopub.status.busy": "2024-07-10T08:09:49.053080Z",
     "iopub.status.idle": "2024-07-10T08:09:49.055297Z",
     "shell.execute_reply": "2024-07-10T08:09:49.054939Z",
     "shell.execute_reply.started": "2024-07-10T08:09:49.053414Z"
    }
   },
   "source": [
    "**Metrics averaged over 5 splits**"
   ]
  },
  {
   "cell_type": "code",
   "execution_count": 22,
   "id": "8a4dfabd-7345-4b5f-8fa0-af08564b9f7b",
   "metadata": {
    "execution": {
     "iopub.execute_input": "2025-06-04T15:00:39.907767Z",
     "iopub.status.busy": "2025-06-04T15:00:39.907526Z",
     "iopub.status.idle": "2025-06-04T15:00:39.912302Z",
     "shell.execute_reply": "2025-06-04T15:00:39.911994Z",
     "shell.execute_reply.started": "2025-06-04T15:00:39.907752Z"
    }
   },
   "outputs": [
    {
     "data": {
      "text/plain": [
       "W_F1             0.904056\n",
       "BAS              0.848788\n",
       "MCC              0.885098\n",
       "W_precision      0.919618\n",
       "W_recall         0.903295\n",
       "W_specificity    0.988093\n",
       "dtype: object"
      ]
     },
     "execution_count": 22,
     "metadata": {},
     "output_type": "execute_result"
    }
   ],
   "source": [
    "scANVI_metrics__MajVote_df[['W_F1','BAS','MCC','W_precision','W_recall','W_specificity']].mean()"
   ]
  },
  {
   "cell_type": "code",
   "execution_count": 23,
   "id": "04d9217c-8f3a-4f75-b3b1-20a001cfb20e",
   "metadata": {
    "execution": {
     "iopub.execute_input": "2025-06-04T15:00:40.538427Z",
     "iopub.status.busy": "2025-06-04T15:00:40.538197Z",
     "iopub.status.idle": "2025-06-04T15:00:40.543914Z",
     "shell.execute_reply": "2025-06-04T15:00:40.543599Z",
     "shell.execute_reply.started": "2025-06-04T15:00:40.538412Z"
    }
   },
   "outputs": [
    {
     "data": {
      "text/plain": [
       "W_F1             0.033829\n",
       "BAS              0.070219\n",
       "MCC              0.037193\n",
       "W_precision      0.031674\n",
       "W_recall          0.03125\n",
       "W_specificity    0.006179\n",
       "dtype: object"
      ]
     },
     "execution_count": 23,
     "metadata": {},
     "output_type": "execute_result"
    }
   ],
   "source": [
    "scANVI_metrics__MajVote_df[['W_F1','BAS','MCC','W_precision','W_recall','W_specificity']].std()"
   ]
  },
  {
   "cell_type": "markdown",
   "id": "5f81c4c4-29a6-4167-ac7d-da89941cb3e3",
   "metadata": {},
   "source": [
    "**Considering 817 samples**"
   ]
  },
  {
   "cell_type": "code",
   "execution_count": 24,
   "id": "37959365-acb1-4bac-b504-a03ae1d154dc",
   "metadata": {
    "execution": {
     "iopub.execute_input": "2025-06-04T15:00:41.756208Z",
     "iopub.status.busy": "2025-06-04T15:00:41.755970Z",
     "iopub.status.idle": "2025-06-04T15:00:41.781365Z",
     "shell.execute_reply": "2025-06-04T15:00:41.781046Z",
     "shell.execute_reply.started": "2025-06-04T15:00:41.756193Z"
    }
   },
   "outputs": [
    {
     "name": "stdout",
     "output_type": "stream",
     "text": [
      "Majority Voting BAS: 0.845201895097188\n",
      "Majority Voting Weighetd F1: 0.906559967873813\n",
      "Majority Voting MCC: 0.8845469649593592\n",
      "Majority Voting Weighet precision: 0.9155731110934868\n",
      "Majority Voting Weighet recall: 0.9033047735618115\n",
      "Majority Voting Weighet specificity: 0.9879633924402473\n"
     ]
    }
   ],
   "source": [
    "print(f\"Majority Voting BAS: {balanced_accuracy_score(y_pred=labels_df['Majority vote'], y_true=labels_df.disease_true)}\")\n",
    "print(f\"Majority Voting Weighetd F1: {f1_score(y_pred=labels_df['Majority vote'], y_true=labels_df.disease_true, average='weighted')}\")\n",
    "print(f\"Majority Voting MCC: {matthews_corrcoef(y_pred=labels_df['Majority vote'], y_true=labels_df.disease_true)}\")\n",
    "\n",
    "# Additional metrics\n",
    "Wprecision,Wrecall,Wspecifitity = get_add_metric(disease_pred=labels_df['Majority vote'], disease_true= labels_df.disease_true)\n",
    "\n",
    "print(f\"Majority Voting Weighet precision: {Wprecision}\")\n",
    "print(f\"Majority Voting Weighet recall: {Wrecall}\")\n",
    "print(f\"Majority Voting Weighet specificity: {Wspecifitity}\")"
   ]
  },
  {
   "cell_type": "markdown",
   "id": "e4b0b499-920a-4265-994d-b33d7f4fa635",
   "metadata": {},
   "source": [
    "**Plasma and UTC**"
   ]
  },
  {
   "cell_type": "code",
   "execution_count": 25,
   "id": "fb87d7af-eb61-4c8a-8f31-5a9edb25b546",
   "metadata": {
    "execution": {
     "iopub.execute_input": "2025-06-04T15:00:42.851274Z",
     "iopub.status.busy": "2025-06-04T15:00:42.851038Z",
     "iopub.status.idle": "2025-06-04T15:00:42.871350Z",
     "shell.execute_reply": "2025-06-04T15:00:42.871048Z",
     "shell.execute_reply.started": "2025-06-04T15:00:42.851259Z"
    }
   },
   "outputs": [
    {
     "name": "stdout",
     "output_type": "stream",
     "text": [
      "Plasma BAS: 0.5316835363453227\n",
      "Plasma Weighetd F1: 0.6444055825644621\n",
      "UTC BAS: 0.6668780642112739\n",
      "UTC Weighetd F1: 0.7843318035647588\n"
     ]
    }
   ],
   "source": [
    "print(f\"Plasma BAS: {balanced_accuracy_score(y_pred=labels_df['Plasma'].astype(str), y_true=labels_df.disease_true.astype(str))}\")\n",
    "print(f\"Plasma Weighetd F1: {f1_score(y_pred=labels_df['Plasma'].astype(str), y_true=labels_df.disease_true.astype(str), average='weighted')}\")\n",
    "\n",
    "print(f\"UTC BAS: {balanced_accuracy_score(y_pred=labels_df['UTC'].astype(str), y_true=labels_df.disease_true.astype(str))}\")\n",
    "print(f\"UTC Weighetd F1: {f1_score(y_pred=labels_df['UTC'].astype(str), y_true=labels_df.disease_true.astype(str), average='weighted')}\")"
   ]
  },
  {
   "cell_type": "code",
   "execution_count": 26,
   "id": "28ca064b-8f21-43f7-a4eb-446d623db895",
   "metadata": {
    "execution": {
     "iopub.execute_input": "2025-06-04T15:00:43.362448Z",
     "iopub.status.busy": "2025-06-04T15:00:43.362214Z",
     "iopub.status.idle": "2025-06-04T15:00:43.366143Z",
     "shell.execute_reply": "2025-06-04T15:00:43.365826Z",
     "shell.execute_reply.started": "2025-06-04T15:00:43.362433Z"
    }
   },
   "outputs": [
    {
     "data": {
      "text/plain": [
       "B                  sepsis\n",
       "DC                 sepsis\n",
       "ILC               healthy\n",
       "Mono               sepsis\n",
       "Plasma                 Na\n",
       "T_CD4_Naive       healthy\n",
       "T_CD4_NonNaive     sepsis\n",
       "T_CD8_Naive            Na\n",
       "T_CD8_NonNaive    healthy\n",
       "UTC               healthy\n",
       "pDC                sepsis\n",
       "Majority vote      sepsis\n",
       "disease_true       sepsis\n",
       "SPLIT                   2\n",
       "Name: Reyes2020_C2P16_T0, dtype: object"
      ]
     },
     "execution_count": 26,
     "metadata": {},
     "output_type": "execute_result"
    }
   ],
   "source": [
    "labels_df.loc['Reyes2020_C2P16_T0']"
   ]
  },
  {
   "cell_type": "code",
   "execution_count": 27,
   "id": "a09d703e-dec5-4fc4-ba7a-b3f23a1b5fcd",
   "metadata": {
    "execution": {
     "iopub.execute_input": "2025-06-04T15:00:44.380083Z",
     "iopub.status.busy": "2025-06-04T15:00:44.379792Z",
     "iopub.status.idle": "2025-06-04T15:00:44.383120Z",
     "shell.execute_reply": "2025-06-04T15:00:44.382818Z",
     "shell.execute_reply.started": "2025-06-04T15:00:44.380067Z"
    }
   },
   "outputs": [
    {
     "data": {
      "text/plain": [
       "array(['COVID', 'healthy', 'sepsis', 'HNSCC', 'NPC', 'SLE', 'Na', 'UC',\n",
       "       'CD', 'PS', 'RA', 'PSA', 'asthma', 'COPD', 'BRCA', 'CRC',\n",
       "       'cirrhosis', 'MS', 'HIV', 'HBV', 'flu'], dtype=object)"
      ]
     },
     "execution_count": 27,
     "metadata": {},
     "output_type": "execute_result"
    }
   ],
   "source": [
    "labels_df['Majority vote'].unique()"
   ]
  },
  {
   "cell_type": "code",
   "execution_count": 28,
   "id": "708f9997-98e1-4501-9e3e-bc032a62d137",
   "metadata": {
    "execution": {
     "iopub.execute_input": "2025-06-04T15:00:44.554019Z",
     "iopub.status.busy": "2025-06-04T15:00:44.553716Z",
     "iopub.status.idle": "2025-06-04T15:00:44.561303Z",
     "shell.execute_reply": "2025-06-04T15:00:44.561019Z",
     "shell.execute_reply.started": "2025-06-04T15:00:44.554005Z"
    }
   },
   "outputs": [
    {
     "data": {
      "text/html": [
       "<div>\n",
       "<style scoped>\n",
       "    .dataframe tbody tr th:only-of-type {\n",
       "        vertical-align: middle;\n",
       "    }\n",
       "\n",
       "    .dataframe tbody tr th {\n",
       "        vertical-align: top;\n",
       "    }\n",
       "\n",
       "    .dataframe thead th {\n",
       "        text-align: right;\n",
       "    }\n",
       "</style>\n",
       "<table border=\"1\" class=\"dataframe\">\n",
       "  <thead>\n",
       "    <tr style=\"text-align: right;\">\n",
       "      <th></th>\n",
       "      <th>B</th>\n",
       "      <th>DC</th>\n",
       "      <th>ILC</th>\n",
       "      <th>Mono</th>\n",
       "      <th>Plasma</th>\n",
       "      <th>T_CD4_Naive</th>\n",
       "      <th>T_CD4_NonNaive</th>\n",
       "      <th>T_CD8_Naive</th>\n",
       "      <th>T_CD8_NonNaive</th>\n",
       "      <th>UTC</th>\n",
       "      <th>pDC</th>\n",
       "      <th>Majority vote</th>\n",
       "      <th>disease_true</th>\n",
       "      <th>SPLIT</th>\n",
       "    </tr>\n",
       "    <tr>\n",
       "      <th>sampleID</th>\n",
       "      <th></th>\n",
       "      <th></th>\n",
       "      <th></th>\n",
       "      <th></th>\n",
       "      <th></th>\n",
       "      <th></th>\n",
       "      <th></th>\n",
       "      <th></th>\n",
       "      <th></th>\n",
       "      <th></th>\n",
       "      <th></th>\n",
       "      <th></th>\n",
       "      <th></th>\n",
       "      <th></th>\n",
       "    </tr>\n",
       "  </thead>\n",
       "  <tbody>\n",
       "    <tr>\n",
       "      <th>COMBAT2022_G05078_T0</th>\n",
       "      <td>COVID</td>\n",
       "      <td>COVID</td>\n",
       "      <td>COVID</td>\n",
       "      <td>COVID</td>\n",
       "      <td>COVID</td>\n",
       "      <td>COVID</td>\n",
       "      <td>COVID</td>\n",
       "      <td>COVID</td>\n",
       "      <td>COVID</td>\n",
       "      <td>COVID</td>\n",
       "      <td>COVID</td>\n",
       "      <td>COVID</td>\n",
       "      <td>COVID</td>\n",
       "      <td>0</td>\n",
       "    </tr>\n",
       "    <tr>\n",
       "      <th>COMBAT2022_G05105_T0</th>\n",
       "      <td>COVID</td>\n",
       "      <td>COVID</td>\n",
       "      <td>COVID</td>\n",
       "      <td>COVID</td>\n",
       "      <td>COVID</td>\n",
       "      <td>COVID</td>\n",
       "      <td>COVID</td>\n",
       "      <td>COVID</td>\n",
       "      <td>COVID</td>\n",
       "      <td>COVID</td>\n",
       "      <td>COVID</td>\n",
       "      <td>COVID</td>\n",
       "      <td>COVID</td>\n",
       "      <td>0</td>\n",
       "    </tr>\n",
       "    <tr>\n",
       "      <th>COMBAT2022_G05112_T0</th>\n",
       "      <td>COVID</td>\n",
       "      <td>COVID</td>\n",
       "      <td>COVID</td>\n",
       "      <td>COVID</td>\n",
       "      <td>COVID</td>\n",
       "      <td>COVID</td>\n",
       "      <td>COVID</td>\n",
       "      <td>COVID</td>\n",
       "      <td>COVID</td>\n",
       "      <td>COVID</td>\n",
       "      <td>COVID</td>\n",
       "      <td>COVID</td>\n",
       "      <td>COVID</td>\n",
       "      <td>0</td>\n",
       "    </tr>\n",
       "  </tbody>\n",
       "</table>\n",
       "</div>"
      ],
      "text/plain": [
       "                          B     DC    ILC   Mono Plasma T_CD4_Naive  \\\n",
       "sampleID                                                              \n",
       "COMBAT2022_G05078_T0  COVID  COVID  COVID  COVID  COVID       COVID   \n",
       "COMBAT2022_G05105_T0  COVID  COVID  COVID  COVID  COVID       COVID   \n",
       "COMBAT2022_G05112_T0  COVID  COVID  COVID  COVID  COVID       COVID   \n",
       "\n",
       "                     T_CD4_NonNaive T_CD8_Naive T_CD8_NonNaive    UTC    pDC  \\\n",
       "sampleID                                                                       \n",
       "COMBAT2022_G05078_T0          COVID       COVID          COVID  COVID  COVID   \n",
       "COMBAT2022_G05105_T0          COVID       COVID          COVID  COVID  COVID   \n",
       "COMBAT2022_G05112_T0          COVID       COVID          COVID  COVID  COVID   \n",
       "\n",
       "                     Majority vote disease_true  SPLIT  \n",
       "sampleID                                                \n",
       "COMBAT2022_G05078_T0         COVID        COVID      0  \n",
       "COMBAT2022_G05105_T0         COVID        COVID      0  \n",
       "COMBAT2022_G05112_T0         COVID        COVID      0  "
      ]
     },
     "execution_count": 28,
     "metadata": {},
     "output_type": "execute_result"
    }
   ],
   "source": [
    "labels_df.head(3)"
   ]
  },
  {
   "cell_type": "code",
   "execution_count": 29,
   "id": "0b3b0bdb-183e-466d-8727-a2ef128e6346",
   "metadata": {
    "execution": {
     "iopub.execute_input": "2025-06-04T15:00:45.148887Z",
     "iopub.status.busy": "2025-06-04T15:00:45.148569Z",
     "iopub.status.idle": "2025-06-04T15:00:45.152293Z",
     "shell.execute_reply": "2025-06-04T15:00:45.152001Z",
     "shell.execute_reply.started": "2025-06-04T15:00:45.148840Z"
    }
   },
   "outputs": [
    {
     "data": {
      "text/plain": [
       "Index(['B', 'DC', 'ILC', 'Mono', 'Plasma', 'T_CD4_Naive', 'T_CD4_NonNaive',\n",
       "       'T_CD8_Naive', 'T_CD8_NonNaive', 'UTC', 'pDC', 'Majority vote',\n",
       "       'disease_true', 'SPLIT'],\n",
       "      dtype='object')"
      ]
     },
     "execution_count": 29,
     "metadata": {},
     "output_type": "execute_result"
    }
   ],
   "source": [
    "labels_df.columns"
   ]
  },
  {
   "cell_type": "code",
   "execution_count": 30,
   "id": "74b9ed79-dfbd-47b4-8472-b485c0f05ca6",
   "metadata": {
    "execution": {
     "iopub.execute_input": "2025-06-04T15:00:50.753103Z",
     "iopub.status.busy": "2025-06-04T15:00:50.752808Z",
     "iopub.status.idle": "2025-06-04T15:00:50.763963Z",
     "shell.execute_reply": "2025-06-04T15:00:50.763641Z",
     "shell.execute_reply.started": "2025-06-04T15:00:50.753088Z"
    }
   },
   "outputs": [
    {
     "data": {
      "text/html": [
       "<div>\n",
       "<style scoped>\n",
       "    .dataframe tbody tr th:only-of-type {\n",
       "        vertical-align: middle;\n",
       "    }\n",
       "\n",
       "    .dataframe tbody tr th {\n",
       "        vertical-align: top;\n",
       "    }\n",
       "\n",
       "    .dataframe thead th {\n",
       "        text-align: right;\n",
       "    }\n",
       "</style>\n",
       "<table border=\"1\" class=\"dataframe\">\n",
       "  <thead>\n",
       "    <tr style=\"text-align: right;\">\n",
       "      <th></th>\n",
       "      <th>sampleID</th>\n",
       "      <th>SPLIT</th>\n",
       "      <th>disease_true</th>\n",
       "      <th>cell_type</th>\n",
       "      <th>disease_pred</th>\n",
       "    </tr>\n",
       "  </thead>\n",
       "  <tbody>\n",
       "    <tr>\n",
       "      <th>0</th>\n",
       "      <td>COMBAT2022_G05078_T0</td>\n",
       "      <td>0</td>\n",
       "      <td>COVID</td>\n",
       "      <td>B</td>\n",
       "      <td>COVID</td>\n",
       "    </tr>\n",
       "    <tr>\n",
       "      <th>1</th>\n",
       "      <td>COMBAT2022_G05105_T0</td>\n",
       "      <td>0</td>\n",
       "      <td>COVID</td>\n",
       "      <td>B</td>\n",
       "      <td>COVID</td>\n",
       "    </tr>\n",
       "    <tr>\n",
       "      <th>2</th>\n",
       "      <td>COMBAT2022_G05112_T0</td>\n",
       "      <td>0</td>\n",
       "      <td>COVID</td>\n",
       "      <td>B</td>\n",
       "      <td>COVID</td>\n",
       "    </tr>\n",
       "    <tr>\n",
       "      <th>3</th>\n",
       "      <td>COMBAT2022_G05171_T0</td>\n",
       "      <td>0</td>\n",
       "      <td>COVID</td>\n",
       "      <td>B</td>\n",
       "      <td>COVID</td>\n",
       "    </tr>\n",
       "    <tr>\n",
       "      <th>4</th>\n",
       "      <td>COMBAT2022_H00052_T0</td>\n",
       "      <td>0</td>\n",
       "      <td>healthy</td>\n",
       "      <td>B</td>\n",
       "      <td>sepsis</td>\n",
       "    </tr>\n",
       "    <tr>\n",
       "      <th>...</th>\n",
       "      <td>...</td>\n",
       "      <td>...</td>\n",
       "      <td>...</td>\n",
       "      <td>...</td>\n",
       "      <td>...</td>\n",
       "    </tr>\n",
       "    <tr>\n",
       "      <th>9799</th>\n",
       "      <td>Terekhova2023_FD04_T1</td>\n",
       "      <td>4</td>\n",
       "      <td>healthy</td>\n",
       "      <td>Majority vote</td>\n",
       "      <td>healthy</td>\n",
       "    </tr>\n",
       "    <tr>\n",
       "      <th>9800</th>\n",
       "      <td>Wang2020_PID471_T0</td>\n",
       "      <td>4</td>\n",
       "      <td>HIV</td>\n",
       "      <td>Majority vote</td>\n",
       "      <td>healthy</td>\n",
       "    </tr>\n",
       "    <tr>\n",
       "      <th>9801</th>\n",
       "      <td>Zhang2023_P190808_T0</td>\n",
       "      <td>4</td>\n",
       "      <td>HBV</td>\n",
       "      <td>Majority vote</td>\n",
       "      <td>healthy</td>\n",
       "    </tr>\n",
       "    <tr>\n",
       "      <th>9802</th>\n",
       "      <td>Zhang2023_P191028_T0</td>\n",
       "      <td>4</td>\n",
       "      <td>HBV</td>\n",
       "      <td>Majority vote</td>\n",
       "      <td>HBV</td>\n",
       "    </tr>\n",
       "    <tr>\n",
       "      <th>9803</th>\n",
       "      <td>Zhang2023_P191217_T0</td>\n",
       "      <td>4</td>\n",
       "      <td>HBV</td>\n",
       "      <td>Majority vote</td>\n",
       "      <td>Na</td>\n",
       "    </tr>\n",
       "  </tbody>\n",
       "</table>\n",
       "<p>9804 rows × 5 columns</p>\n",
       "</div>"
      ],
      "text/plain": [
       "                   sampleID  SPLIT disease_true      cell_type disease_pred\n",
       "0      COMBAT2022_G05078_T0      0        COVID              B        COVID\n",
       "1      COMBAT2022_G05105_T0      0        COVID              B        COVID\n",
       "2      COMBAT2022_G05112_T0      0        COVID              B        COVID\n",
       "3      COMBAT2022_G05171_T0      0        COVID              B        COVID\n",
       "4      COMBAT2022_H00052_T0      0      healthy              B       sepsis\n",
       "...                     ...    ...          ...            ...          ...\n",
       "9799  Terekhova2023_FD04_T1      4      healthy  Majority vote      healthy\n",
       "9800     Wang2020_PID471_T0      4          HIV  Majority vote      healthy\n",
       "9801   Zhang2023_P190808_T0      4          HBV  Majority vote      healthy\n",
       "9802   Zhang2023_P191028_T0      4          HBV  Majority vote          HBV\n",
       "9803   Zhang2023_P191217_T0      4          HBV  Majority vote           Na\n",
       "\n",
       "[9804 rows x 5 columns]"
      ]
     },
     "execution_count": 30,
     "metadata": {},
     "output_type": "execute_result"
    }
   ],
   "source": [
    "labelsMelt = labels_df.melt(value_vars = ['B', 'DC', 'ILC', 'Mono', 'Plasma', 'T_CD4_Naive', 'T_CD4_NonNaive',\n",
    "                                          'T_CD8_Naive', 'T_CD8_NonNaive', 'UTC', 'pDC', 'Majority vote'], \n",
    "                            id_vars = ['SPLIT','disease_true'], \n",
    "                            var_name = 'cell_type', value_name= 'disease_pred', ignore_index=False).reset_index()\n",
    "labelsMelt['disease_true'] = labelsMelt['disease_true'].astype(str)\n",
    "labelsMelt"
   ]
  },
  {
   "cell_type": "code",
   "execution_count": 31,
   "id": "c4c379e6-0616-4fb9-a69b-0763de57d5b6",
   "metadata": {
    "execution": {
     "iopub.execute_input": "2025-06-04T15:00:52.762534Z",
     "iopub.status.busy": "2025-06-04T15:00:52.762285Z",
     "iopub.status.idle": "2025-06-04T15:00:52.852095Z",
     "shell.execute_reply": "2025-06-04T15:00:52.851768Z",
     "shell.execute_reply.started": "2025-06-04T15:00:52.762519Z"
    }
   },
   "outputs": [
    {
     "name": "stdout",
     "output_type": "stream",
     "text": [
      "overall BAS for cell-type: 0.7391927107318981\n",
      "overall W F1 for cell-type: 0.8218406346025086\n",
      "overall MCC for cell-type: 0.7792018046511165\n"
     ]
    }
   ],
   "source": [
    "print(f\"overall BAS for cell-type: {balanced_accuracy_score(labelsMelt.loc[labelsMelt['cell_type'] != 'Majority vote','disease_true'].astype(str),labelsMelt.loc[labelsMelt['cell_type'] != 'Majority vote','disease_pred'].astype(str))}\")\n",
    "\n",
    "print(f\"overall W F1 for cell-type: {f1_score(labelsMelt.loc[labelsMelt['cell_type'] != 'Majority vote','disease_true'].astype(str), labelsMelt.loc[labelsMelt['cell_type'] != 'Majority vote','disease_pred'].astype(str), average='weighted')}\")\n",
    "\n",
    "print(f\"overall MCC for cell-type: {matthews_corrcoef(labelsMelt.loc[labelsMelt['cell_type'] != 'Majority vote','disease_true'].astype(str),labelsMelt.loc[labelsMelt['cell_type'] != 'Majority vote','disease_pred'].astype(str))}\")\n",
    "\n"
   ]
  },
  {
   "cell_type": "code",
   "execution_count": 32,
   "id": "384a58c4-6b56-4487-992a-30fd502d9783",
   "metadata": {
    "execution": {
     "iopub.execute_input": "2025-06-04T15:00:54.482887Z",
     "iopub.status.busy": "2025-06-04T15:00:54.482306Z",
     "iopub.status.idle": "2025-06-04T15:00:54.485490Z",
     "shell.execute_reply": "2025-06-04T15:00:54.485185Z",
     "shell.execute_reply.started": "2025-06-04T15:00:54.482871Z"
    }
   },
   "outputs": [
    {
     "name": "stdout",
     "output_type": "stream",
     "text": [
      " Number of patients that were not classified due to undetermined majority vote result: 10\n"
     ]
    }
   ],
   "source": [
    "print(f\" Number of patients that were not classified due to undetermined majority vote result: {(labels_df['Majority vote'] == 'Na').sum()}\")"
   ]
  },
  {
   "cell_type": "markdown",
   "id": "f91a92f8-fe2f-414d-b5dd-e9871388ce71",
   "metadata": {},
   "source": [
    "### Weighted F1, Balanced Accuracy Score, Matthew coefficent score\n",
    "\n",
    "We compute those metrics for each cell-type, balacing the conditions"
   ]
  },
  {
   "cell_type": "code",
   "execution_count": 33,
   "id": "affd1c1d-bb7e-42c8-a321-40e5460047bb",
   "metadata": {
    "execution": {
     "iopub.execute_input": "2025-06-04T15:00:56.577525Z",
     "iopub.status.busy": "2025-06-04T15:00:56.577298Z",
     "iopub.status.idle": "2025-06-04T15:00:56.702551Z",
     "shell.execute_reply": "2025-06-04T15:00:56.702219Z",
     "shell.execute_reply.started": "2025-06-04T15:00:56.577510Z"
    }
   },
   "outputs": [],
   "source": [
    "cell_type_WF1 = (labelsMelt.groupby(['SPLIT','cell_type'])[['disease_true','disease_pred']]\n",
    "                 .apply(lambda x: (f1_score(x.disease_true.astype(str),\n",
    "                                           x.disease_pred.astype(str), average='weighted')))\n",
    "                ).reset_index()\n",
    "cell_type_WF1.rename({0:'W_F1'}, axis = 1, inplace=True)"
   ]
  },
  {
   "cell_type": "code",
   "execution_count": 34,
   "id": "c977aaf5-fc4a-4db0-81f3-57e801dd6ea6",
   "metadata": {
    "execution": {
     "iopub.execute_input": "2025-06-04T15:00:56.761446Z",
     "iopub.status.busy": "2025-06-04T15:00:56.761248Z",
     "iopub.status.idle": "2025-06-04T15:00:56.833191Z",
     "shell.execute_reply": "2025-06-04T15:00:56.832868Z",
     "shell.execute_reply.started": "2025-06-04T15:00:56.761431Z"
    }
   },
   "outputs": [],
   "source": [
    "cell_type_bas = (labelsMelt.groupby(['SPLIT','cell_type'])[['disease_true','disease_pred']]\n",
    "                 .apply(lambda x: (balanced_accuracy_score(x.disease_true.astype(str), \n",
    "                                                           x.disease_pred.astype(str))))\n",
    "                ).reset_index()\n",
    "cell_type_bas.rename({0:'BAS'}, axis = 1, inplace=True)\n"
   ]
  },
  {
   "cell_type": "code",
   "execution_count": 35,
   "id": "99402bec-f828-4f9c-9dbc-48c005ed1983",
   "metadata": {
    "execution": {
     "iopub.execute_input": "2025-06-04T15:00:57.299438Z",
     "iopub.status.busy": "2025-06-04T15:00:57.299270Z",
     "iopub.status.idle": "2025-06-04T15:00:57.378128Z",
     "shell.execute_reply": "2025-06-04T15:00:57.377717Z",
     "shell.execute_reply.started": "2025-06-04T15:00:57.299425Z"
    }
   },
   "outputs": [],
   "source": [
    "cell_type_mcc = (labelsMelt.groupby(['SPLIT','cell_type'])[['disease_true','disease_pred']]\n",
    "                 .apply(lambda x: (matthews_corrcoef(x.disease_true.astype(str), \n",
    "                                                           x.disease_pred.astype(str))))\n",
    "                ).reset_index()\n",
    "cell_type_mcc.rename({0:'MCC'}, axis = 1, inplace=True)"
   ]
  },
  {
   "cell_type": "markdown",
   "id": "9743be20-76f5-4400-bda0-12f97de6f26f",
   "metadata": {
    "execution": {
     "iopub.execute_input": "2024-07-11T08:40:03.454440Z",
     "iopub.status.busy": "2024-07-11T08:40:03.454170Z",
     "iopub.status.idle": "2024-07-11T08:40:03.456775Z",
     "shell.execute_reply": "2024-07-11T08:40:03.456384Z",
     "shell.execute_reply.started": "2024-07-11T08:40:03.454426Z"
    }
   },
   "source": [
    "### F1, Precision, Recall\n",
    "\n",
    "We compute those metrics for each cell-type and each condition "
   ]
  },
  {
   "cell_type": "code",
   "execution_count": 36,
   "id": "8e3863bf-88e4-48d6-9cda-cecae1265da7",
   "metadata": {
    "execution": {
     "iopub.execute_input": "2025-06-04T15:00:58.970973Z",
     "iopub.status.busy": "2025-06-04T15:00:58.970609Z",
     "iopub.status.idle": "2025-06-04T15:00:59.031426Z",
     "shell.execute_reply": "2025-06-04T15:00:59.031087Z",
     "shell.execute_reply.started": "2025-06-04T15:00:58.970958Z"
    }
   },
   "outputs": [],
   "source": [
    "cell_type_F1 = (labelsMelt.groupby(['cell_type'])[['disease_true','disease_pred']]\n",
    "                 .apply(lambda x: (f1_score(y_true = x.disease_true.astype(str), \n",
    "                                            y_pred = x.disease_pred.astype(str), \n",
    "                                            labels=x.disease_true.unique(), average=None)))\n",
    "                ).reset_index()\n",
    "cell_type_F1.columns = ['cell_type','F1']\n",
    "cell_type_F1['disease_true'] = [labelsMelt.disease_true.unique().tolist()]*cell_type_F1.shape[0]\n",
    "cell_type_F1 = cell_type_F1.explode(['F1','disease_true'])"
   ]
  },
  {
   "cell_type": "code",
   "execution_count": 37,
   "id": "b7430800-d44e-4790-9127-6b759b9cead4",
   "metadata": {
    "execution": {
     "iopub.execute_input": "2025-06-04T15:00:59.138392Z",
     "iopub.status.busy": "2025-06-04T15:00:59.138219Z",
     "iopub.status.idle": "2025-06-04T15:00:59.198426Z",
     "shell.execute_reply": "2025-06-04T15:00:59.198050Z",
     "shell.execute_reply.started": "2025-06-04T15:00:59.138378Z"
    }
   },
   "outputs": [],
   "source": [
    "cell_type_recall = (labelsMelt.groupby(['cell_type'])[['disease_true','disease_pred']]\n",
    "                 .apply(lambda x: (recall_score(y_true = x.disease_true.astype(str), \n",
    "                                            y_pred = x.disease_pred.astype(str), labels=x.disease_true.unique(), average=None)))\n",
    "                ).reset_index()\n",
    "cell_type_recall.columns = ['cell_type','recall']\n",
    "cell_type_recall['disease_true'] = [labelsMelt.disease_true.unique().tolist()]*cell_type_recall.shape[0]\n",
    "cell_type_recall = cell_type_recall.explode(['recall','disease_true'])"
   ]
  },
  {
   "cell_type": "code",
   "execution_count": 38,
   "id": "0d08127d-523f-4ae4-b369-db16c3c5c6ec",
   "metadata": {
    "execution": {
     "iopub.execute_input": "2025-06-04T15:00:59.310400Z",
     "iopub.status.busy": "2025-06-04T15:00:59.310145Z",
     "iopub.status.idle": "2025-06-04T15:00:59.371814Z",
     "shell.execute_reply": "2025-06-04T15:00:59.371434Z",
     "shell.execute_reply.started": "2025-06-04T15:00:59.310385Z"
    }
   },
   "outputs": [],
   "source": [
    "cell_type_precision = (labelsMelt.groupby(['cell_type'])[['disease_true','disease_pred']]\n",
    "                 .apply(lambda x: (precision_score(y_true = x.disease_true.astype(str), \n",
    "                                                   y_pred = x.disease_pred.astype(str), labels=x.disease_true.unique(), average=None)))\n",
    "                ).reset_index()\n",
    "cell_type_precision.columns = ['cell_type','precision']\n",
    "cell_type_precision['disease_true'] = [labelsMelt.disease_true.unique().tolist()]*cell_type_precision.shape[0]\n",
    "cell_type_precision = cell_type_precision.explode(['precision','disease_true'])"
   ]
  },
  {
   "cell_type": "markdown",
   "id": "cf325f8e-7cf0-4277-b915-3214dba24135",
   "metadata": {},
   "source": [
    "## Visualization"
   ]
  },
  {
   "cell_type": "code",
   "execution_count": 39,
   "id": "4c3ec665-960b-4ed4-916b-4219713d9c52",
   "metadata": {
    "execution": {
     "iopub.execute_input": "2025-06-04T15:01:08.345624Z",
     "iopub.status.busy": "2025-06-04T15:01:08.345391Z",
     "iopub.status.idle": "2025-06-04T15:01:08.355155Z",
     "shell.execute_reply": "2025-06-04T15:01:08.354792Z",
     "shell.execute_reply.started": "2025-06-04T15:01:08.345609Z"
    }
   },
   "outputs": [],
   "source": [
    "# ordering elements\n",
    "labelsMelt.disease_pred = labelsMelt.disease_pred.astype(str)\n",
    "labelsMelt.disease_pred[labelsMelt.disease_pred == 'nan'] = 'Na'\n",
    "\n",
    "# labelsMelt = labelsMelt.query(\"disease_pred != 'Na'\")\n",
    "\n",
    "elementList =  [d for d in set(labelsMelt.disease_true.tolist() + labelsMelt.disease_pred.tolist()) if (d != 'healthy' and d!='Na')]\n",
    "diseaseCatOrd = [diseaseCategories[d] for d in elementList]\n",
    "\n",
    "sortedIdx = sorted(range(len(diseaseCatOrd)), key=lambda index: diseaseCatOrd[index])\n",
    "# elementList = ['healthy'] + [elementList[i] for i in sortedIdx] #+ ['NA']\n",
    "# diseaseCatOrd = ['healthy'] + [diseaseCatOrd[i] for i in sortedIdx] #+ ['NA']\n",
    "\n",
    "disease_cat_ordDF = pd.DataFrame.from_dict({'elementList':elementList,'diseaseCatOrd':[diseaseCategories[d] for d in elementList]})\n",
    "disease_cat_ordDF = pd.concat((pd.DataFrame.from_dict({'elementList':['healthy'], 'diseaseCatOrd':['healthy']}), \n",
    "                               disease_cat_ordDF.iloc[sortedIdx,:].groupby('diseaseCatOrd').apply(lambda x: x.sort_values('elementList')).reset_index(drop=True),\n",
    "                              pd.DataFrame.from_dict({'elementList':['Na'], 'diseaseCatOrd':['Na']})),\n",
    "                              axis=0)"
   ]
  },
  {
   "cell_type": "markdown",
   "id": "fc8d680d-f763-45f6-9e21-9d3672466cfc",
   "metadata": {},
   "source": [
    "**Distribution over 5 splits**"
   ]
  },
  {
   "cell_type": "code",
   "execution_count": 40,
   "id": "a9459988-c178-4aa7-98d4-aa54a3514724",
   "metadata": {
    "execution": {
     "iopub.execute_input": "2025-06-04T15:01:15.281212Z",
     "iopub.status.busy": "2025-06-04T15:01:15.280977Z",
     "iopub.status.idle": "2025-06-04T15:01:17.480524Z",
     "shell.execute_reply": "2025-06-04T15:01:17.480182Z",
     "shell.execute_reply.started": "2025-06-04T15:01:15.281198Z"
    }
   },
   "outputs": [
    {
     "data": {
      "image/png": "[encoded data removed]",
      "text/plain": [
       "<Figure size 600x600 with 1 Axes>"
      ]
     },
     "metadata": {},
     "output_type": "display_data"
    }
   ],
   "source": [
    "plt.figure(figsize=(6,6))\n",
    "g = sns.boxplot(cell_type_WF1, \n",
    "            x = 'cell_type', \n",
    "            hue = 'cell_type', \n",
    "            y = 'W_F1', \n",
    "            palette  = annotation_Level1_palette | {'Majority vote':'#535353'},\n",
    "               order=['Majority vote'] + cell_type_order)\n",
    "plt.ylabel('Weighted F1 score')\n",
    "\n",
    "g.set_xticks(g.get_xticks(), [t.get_text().replace('_',' ') for t in g.get_xticklabels()])\n",
    "\n",
    "# plt.legend(loc='center left', bbox_to_anchor=(1.0, 0.5), ncol=2, fancybox=True)\n",
    "plt.xticks(rotation=90)\n",
    "\n",
    "plt.savefig(here(\"03_downstream_analysis/09_patient_classifier/5foldCV/results/figures/referencebalanced_WF1_CTxDisease.pdf\"),\n",
    "dpi=300,\n",
    "bbox_inches='tight',\n",
    "pad_inches=0.1\n",
    ")\n",
    "plt.show()"
   ]
  },
  {
   "cell_type": "code",
   "execution_count": 41,
   "id": "b0acea44-d11d-4358-8952-f877815426d8",
   "metadata": {
    "execution": {
     "iopub.execute_input": "2025-06-04T15:01:21.026741Z",
     "iopub.status.busy": "2025-06-04T15:01:21.026482Z",
     "iopub.status.idle": "2025-06-04T15:01:25.857821Z",
     "shell.execute_reply": "2025-06-04T15:01:25.857478Z",
     "shell.execute_reply.started": "2025-06-04T15:01:21.026726Z"
    }
   },
   "outputs": [
    {
     "data": {
      "text/plain": [
       "Level1\n",
       "B                 0.878075\n",
       "DC                0.904717\n",
       "ILC               0.875045\n",
       "Mono              0.923040\n",
       "Plasma            0.803823\n",
       "T_CD4_Naive       0.894848\n",
       "T_CD4_NonNaive    0.917895\n",
       "T_CD8_Naive       0.912580\n",
       "T_CD8_NonNaive    0.881929\n",
       "UTC               0.901246\n",
       "pDC               0.914586\n",
       "dtype: float64"
      ]
     },
     "execution_count": 41,
     "metadata": {},
     "output_type": "execute_result"
    }
   ],
   "source": [
    "from sklearn.metrics import balanced_accuracy_score, f1_score, confusion_matrix\n",
    "corrData = pd.read_pickle(here('03_downstream_analysis/08_gene_importance/results/xgboost_aggregated_predictions.pkl'))\n",
    "corrData = corrData.rename({'y_true':'disease', 'y_pred':'disease_pred','cell_type':'Level1'}, axis=1)\n",
    "corrData\n",
    "WF1_CT = corrData.groupby(['Level1'])[['disease','disease_pred']].apply(lambda x: (f1_score(y_true = x.disease.astype(str),\n",
    "                                                                                   y_pred = x.disease_pred.astype(str),\n",
    "                                                                                   average='weighted')))\n",
    "WF1_CT"
   ]
  },
  {
   "cell_type": "code",
   "execution_count": null,
   "id": "3bb9211c-b8e4-4238-8777-9a6c9d35f40a",
   "metadata": {},
   "outputs": [],
   "source": []
  },
  {
   "cell_type": "code",
   "execution_count": null,
   "id": "e2a8f155-7c69-41d4-a236-4a2cf44f56ba",
   "metadata": {},
   "outputs": [],
   "source": []
  },
  {
   "cell_type": "code",
   "execution_count": null,
   "id": "7e5c950b-2832-4785-8773-77c0acdee5ed",
   "metadata": {},
   "outputs": [],
   "source": []
  },
  {
   "cell_type": "code",
   "execution_count": 42,
   "id": "f6efda01-ac87-4a7e-b3f3-abcef7f9c66b",
   "metadata": {
    "execution": {
     "iopub.execute_input": "2025-06-04T15:01:59.205689Z",
     "iopub.status.busy": "2025-06-04T15:01:59.205444Z",
     "iopub.status.idle": "2025-06-04T15:01:59.699428Z",
     "shell.execute_reply": "2025-06-04T15:01:59.699069Z",
     "shell.execute_reply.started": "2025-06-04T15:01:59.205674Z"
    }
   },
   "outputs": [
    {
     "data": {
      "image/png": "[encoded data removed]",
      "text/plain": [
       "<Figure size 500x300 with 1 Axes>"
      ]
     },
     "metadata": {},
     "output_type": "display_data"
    }
   ],
   "source": [
    "plt.figure(figsize=(5,3))\n",
    "g = sns.boxplot(cell_type_bas, \n",
    "            x = 'cell_type', \n",
    "            hue = 'cell_type', \n",
    "            y = 'BAS', \n",
    "            palette  = annotation_Level1_palette | {'Majority vote':'#535353'},\n",
    "               order=['Majority vote'] + cell_type_order)\n",
    "plt.ylabel('Balanced Accuracy Score')\n",
    "g.set_xticks(g.get_xticks(), [t.get_text().replace('_',' ') for t in g.get_xticklabels()])\n",
    "\n",
    "# plt.legend(loc='center left', bbox_to_anchor=(1.0, 0.5), ncol=2, fancybox=True)\n",
    "plt.xticks(rotation=90)\n",
    "\n",
    "plt.savefig(here(\"03_downstream_analysis/09_patient_classifier/5foldCV/results/figures/referencebalanced_BAS_CTxDisease.pdf\"),\n",
    "dpi=300,\n",
    "bbox_inches='tight',\n",
    "pad_inches=0.1\n",
    ")\n",
    "plt.show()"
   ]
  },
  {
   "cell_type": "code",
   "execution_count": 112,
   "id": "109e3f24-b1d6-4289-a578-9c5b9b7b35de",
   "metadata": {
    "execution": {
     "iopub.execute_input": "2025-05-22T16:00:47.717390Z",
     "iopub.status.busy": "2025-05-22T16:00:47.717150Z",
     "iopub.status.idle": "2025-05-22T16:00:48.181414Z",
     "shell.execute_reply": "2025-05-22T16:00:48.181087Z",
     "shell.execute_reply.started": "2025-05-22T16:00:47.717375Z"
    }
   },
   "outputs": [
    {
     "data": {
      "image/png": "[encoded data removed]",
      "text/plain": [
       "<Figure size 500x300 with 1 Axes>"
      ]
     },
     "metadata": {},
     "output_type": "display_data"
    }
   ],
   "source": [
    "plt.figure(figsize=(5,3))\n",
    "g = sns.boxplot(cell_type_mcc, \n",
    "            x = 'cell_type', \n",
    "            hue = 'cell_type', \n",
    "            y = 'MCC', \n",
    "            palette  = annotation_Level1_palette | {'Majority vote':'#535353'},\n",
    "               order=['Majority vote'] + cell_type_order)\n",
    "\n",
    "g.set_xticks(g.get_xticks(), [t.get_text().replace('_',' ') for t in g.get_xticklabels()])\n",
    "\n",
    "plt.ylabel('Matthew Correlation Coefficient')\n",
    "# plt.legend(loc='center left', bbox_to_anchor=(1.0, 0.5), ncol=2, fancybox=True)\n",
    "plt.xticks(rotation=90)\n",
    "\n",
    "plt.savefig(here(\"03_downstream_analysis/09_patient_classifier/5foldCV/results/figures/referencebalanced_MCC_CTxDisease.pdf\"),\n",
    "dpi=300,\n",
    "bbox_inches='tight',\n",
    "pad_inches=0.1\n",
    ")\n",
    "plt.show()"
   ]
  },
  {
   "cell_type": "markdown",
   "id": "c068b334-a005-43f6-84ea-7711f457411b",
   "metadata": {},
   "source": [
    "**Score for each cell-type and disease**\n",
    "\n",
    "after aggregating the prediction on each left-out split "
   ]
  },
  {
   "cell_type": "code",
   "execution_count": 43,
   "id": "e5d1c442-54c7-476d-aad6-aa1f49e322da",
   "metadata": {
    "execution": {
     "iopub.execute_input": "2025-06-04T15:02:11.444528Z",
     "iopub.status.busy": "2025-06-04T15:02:11.444155Z",
     "iopub.status.idle": "2025-06-04T15:02:11.449969Z",
     "shell.execute_reply": "2025-06-04T15:02:11.449651Z",
     "shell.execute_reply.started": "2025-06-04T15:02:11.444513Z"
    }
   },
   "outputs": [
    {
     "data": {
      "text/html": [
       "<div>\n",
       "<style scoped>\n",
       "    .dataframe tbody tr th:only-of-type {\n",
       "        vertical-align: middle;\n",
       "    }\n",
       "\n",
       "    .dataframe tbody tr th {\n",
       "        vertical-align: top;\n",
       "    }\n",
       "\n",
       "    .dataframe thead th {\n",
       "        text-align: right;\n",
       "    }\n",
       "</style>\n",
       "<table border=\"1\" class=\"dataframe\">\n",
       "  <thead>\n",
       "    <tr style=\"text-align: right;\">\n",
       "      <th></th>\n",
       "      <th>cell_type</th>\n",
       "      <th>F1</th>\n",
       "      <th>disease_true</th>\n",
       "    </tr>\n",
       "  </thead>\n",
       "  <tbody>\n",
       "    <tr>\n",
       "      <th>0</th>\n",
       "      <td>B</td>\n",
       "      <td>0.954357</td>\n",
       "      <td>COVID</td>\n",
       "    </tr>\n",
       "    <tr>\n",
       "      <th>0</th>\n",
       "      <td>B</td>\n",
       "      <td>0.859287</td>\n",
       "      <td>healthy</td>\n",
       "    </tr>\n",
       "    <tr>\n",
       "      <th>0</th>\n",
       "      <td>B</td>\n",
       "      <td>0.676056</td>\n",
       "      <td>sepsis</td>\n",
       "    </tr>\n",
       "    <tr>\n",
       "      <th>0</th>\n",
       "      <td>B</td>\n",
       "      <td>0.47619</td>\n",
       "      <td>flu</td>\n",
       "    </tr>\n",
       "    <tr>\n",
       "      <th>0</th>\n",
       "      <td>B</td>\n",
       "      <td>0.926829</td>\n",
       "      <td>HNSCC</td>\n",
       "    </tr>\n",
       "    <tr>\n",
       "      <th>...</th>\n",
       "      <td>...</td>\n",
       "      <td>...</td>\n",
       "      <td>...</td>\n",
       "    </tr>\n",
       "    <tr>\n",
       "      <th>11</th>\n",
       "      <td>pDC</td>\n",
       "      <td>0.666667</td>\n",
       "      <td>cirrhosis</td>\n",
       "    </tr>\n",
       "    <tr>\n",
       "      <th>11</th>\n",
       "      <td>pDC</td>\n",
       "      <td>0.846154</td>\n",
       "      <td>CRC</td>\n",
       "    </tr>\n",
       "    <tr>\n",
       "      <th>11</th>\n",
       "      <td>pDC</td>\n",
       "      <td>0.5</td>\n",
       "      <td>MS</td>\n",
       "    </tr>\n",
       "    <tr>\n",
       "      <th>11</th>\n",
       "      <td>pDC</td>\n",
       "      <td>0.285714</td>\n",
       "      <td>HIV</td>\n",
       "    </tr>\n",
       "    <tr>\n",
       "      <th>11</th>\n",
       "      <td>pDC</td>\n",
       "      <td>0.666667</td>\n",
       "      <td>HBV</td>\n",
       "    </tr>\n",
       "  </tbody>\n",
       "</table>\n",
       "<p>240 rows × 3 columns</p>\n",
       "</div>"
      ],
      "text/plain": [
       "   cell_type        F1 disease_true\n",
       "0          B  0.954357        COVID\n",
       "0          B  0.859287      healthy\n",
       "0          B  0.676056       sepsis\n",
       "0          B   0.47619          flu\n",
       "0          B  0.926829        HNSCC\n",
       "..       ...       ...          ...\n",
       "11       pDC  0.666667    cirrhosis\n",
       "11       pDC  0.846154          CRC\n",
       "11       pDC       0.5           MS\n",
       "11       pDC  0.285714          HIV\n",
       "11       pDC  0.666667          HBV\n",
       "\n",
       "[240 rows x 3 columns]"
      ]
     },
     "execution_count": 43,
     "metadata": {},
     "output_type": "execute_result"
    }
   ],
   "source": [
    "cell_type_F1"
   ]
  },
  {
   "cell_type": "code",
   "execution_count": 45,
   "id": "4dfd5607-b13d-486d-a684-a9e2c7043ecf",
   "metadata": {
    "execution": {
     "iopub.execute_input": "2025-06-04T15:03:33.600237Z",
     "iopub.status.busy": "2025-06-04T15:03:33.599846Z",
     "iopub.status.idle": "2025-06-04T15:03:33.606084Z",
     "shell.execute_reply": "2025-06-04T15:03:33.605740Z",
     "shell.execute_reply.started": "2025-06-04T15:03:33.600222Z"
    }
   },
   "outputs": [
    {
     "data": {
      "text/html": [
       "<div>\n",
       "<style scoped>\n",
       "    .dataframe tbody tr th:only-of-type {\n",
       "        vertical-align: middle;\n",
       "    }\n",
       "\n",
       "    .dataframe tbody tr th {\n",
       "        vertical-align: top;\n",
       "    }\n",
       "\n",
       "    .dataframe thead th {\n",
       "        text-align: right;\n",
       "    }\n",
       "</style>\n",
       "<table border=\"1\" class=\"dataframe\">\n",
       "  <thead>\n",
       "    <tr style=\"text-align: right;\">\n",
       "      <th></th>\n",
       "      <th>cell_type</th>\n",
       "      <th>F1</th>\n",
       "      <th>disease_true</th>\n",
       "    </tr>\n",
       "  </thead>\n",
       "  <tbody>\n",
       "    <tr>\n",
       "      <th>1</th>\n",
       "      <td>DC</td>\n",
       "      <td>0.285714</td>\n",
       "      <td>HIV</td>\n",
       "    </tr>\n",
       "    <tr>\n",
       "      <th>11</th>\n",
       "      <td>pDC</td>\n",
       "      <td>0.285714</td>\n",
       "      <td>HIV</td>\n",
       "    </tr>\n",
       "  </tbody>\n",
       "</table>\n",
       "</div>"
      ],
      "text/plain": [
       "   cell_type        F1 disease_true\n",
       "1         DC  0.285714          HIV\n",
       "11       pDC  0.285714          HIV"
      ]
     },
     "execution_count": 45,
     "metadata": {},
     "output_type": "execute_result"
    }
   ],
   "source": [
    "cell_type_F1.query(\"cell_type.isin(['DC','pDC']) & disease_true == 'HIV'\")"
   ]
  },
  {
   "cell_type": "code",
   "execution_count": 114,
   "id": "2357dc65-d9da-4d76-a298-61e316e326b0",
   "metadata": {
    "execution": {
     "iopub.execute_input": "2025-05-22T16:00:49.719037Z",
     "iopub.status.busy": "2025-05-22T16:00:49.718795Z",
     "iopub.status.idle": "2025-05-22T16:00:50.279984Z",
     "shell.execute_reply": "2025-05-22T16:00:50.279648Z",
     "shell.execute_reply.started": "2025-05-22T16:00:49.719022Z"
    }
   },
   "outputs": [
    {
     "data": {
      "image/png": "[encoded data removed]",
      "text/plain": [
       "<Figure size 350x500 with 2 Axes>"
      ]
     },
     "metadata": {},
     "output_type": "display_data"
    }
   ],
   "source": [
    "data = cell_type_F1.query(\"cell_type != 'Majority vote'\").pivot(columns='disease_true', index = 'cell_type', values = 'F1').T.fillna(0)\n",
    "\n",
    "plt.figure(figsize=(3.5,5))\n",
    "\n",
    "g = sns.heatmap(data.loc[disease_cat_ordDF.elementList[disease_cat_ordDF.elementList.isin(data.index.tolist())],\n",
    "                cell_type_order],vmin=0,vmax=1,cmap='inferno')\n",
    "\n",
    "g.set_xticks(g.get_xticks(), [t.get_text().replace('_',' ') for t in g.get_xticklabels()])\n",
    "\n",
    "g.set_title('F1 score')\n",
    "g.set_xlabel(\"\")\n",
    "g.set_ylabel(\"\")\n",
    "\n",
    "plt.savefig(here(f\"03_downstream_analysis/09_patient_classifier/5foldCV/results/figures/clusterMap_F1_CTxDisease_noMV.pdf\"),\n",
    "dpi=300,\n",
    "bbox_inches='tight',\n",
    "pad_inches=0.1\n",
    ")"
   ]
  },
  {
   "cell_type": "code",
   "execution_count": 152,
   "id": "8c0dcb5a-155b-475c-83a7-d041ef1affe9",
   "metadata": {
    "execution": {
     "iopub.execute_input": "2025-05-22T16:15:36.291651Z",
     "iopub.status.busy": "2025-05-22T16:15:36.291250Z",
     "iopub.status.idle": "2025-05-22T16:15:36.840992Z",
     "shell.execute_reply": "2025-05-22T16:15:36.840597Z",
     "shell.execute_reply.started": "2025-05-22T16:15:36.291636Z"
    }
   },
   "outputs": [
    {
     "data": {
      "image/png": "[encoded data removed]",
      "text/plain": [
       "<Figure size 350x500 with 2 Axes>"
      ]
     },
     "metadata": {},
     "output_type": "display_data"
    }
   ],
   "source": [
    "data_nPB_D = pseudobulk_disease_mtx.div(pseudobulk_disease_mtx.max(axis=1), axis='rows')\n",
    "data_nPB_D = 1 - data_nPB_D.T.reset_index().drop(['level_0'], axis=1).set_index('cell-type').T\n",
    "plt.figure(figsize=(3.5,5))\n",
    "\n",
    "g = sns.heatmap(data_nPB_D.loc[disease_cat_ordDF.elementList[disease_cat_ordDF.elementList.isin(data_nPB_D.index.tolist())],\n",
    "                cell_type_order],vmin=0,vmax=1,cmap='inferno')\n",
    "\n",
    "g.set_xticks(g.get_xticks(), [t.get_text().replace('_',' ') for t in g.get_xticklabels()])\n",
    "\n",
    "g.set_title('Prop. pseudobulk missing')\n",
    "g.set_xlabel(\"\")\n",
    "g.set_ylabel(\"\")\n",
    "\n",
    "plt.savefig(here(f\"03_downstream_analysis/09_patient_classifier/5foldCV/results/figures/prop_num_pseudobulk_disease.pdf\"),\n",
    "dpi=300,\n",
    "bbox_inches='tight',\n",
    "pad_inches=0.1\n",
    ")\n",
    "\n"
   ]
  },
  {
   "cell_type": "code",
   "execution_count": 151,
   "id": "1fb1f058-e90f-4686-9d6d-43cd40887e84",
   "metadata": {
    "execution": {
     "iopub.execute_input": "2025-05-22T16:15:26.405601Z",
     "iopub.status.busy": "2025-05-22T16:15:26.405182Z",
     "iopub.status.idle": "2025-05-22T16:15:26.410398Z",
     "shell.execute_reply": "2025-05-22T16:15:26.410097Z",
     "shell.execute_reply.started": "2025-05-22T16:15:26.405584Z"
    }
   },
   "outputs": [
    {
     "data": {
      "text/plain": [
       "PearsonRResult(statistic=-0.8359279843276451, pvalue=0.0013483360051036095)"
      ]
     },
     "execution_count": 151,
     "metadata": {},
     "output_type": "execute_result"
    }
   ],
   "source": [
    "from scipy.stats import spearmanr, pearsonr\n",
    "\n",
    "pearsonr(cell_type_WF1.groupby('cell_type')['W_F1'].mean().drop('Majority vote',axis=0), \n",
    "         data_nPB_D.mean(axis=0))"
   ]
  },
  {
   "cell_type": "code",
   "execution_count": 42,
   "id": "88ebb899-8adc-4de0-ae11-862a93ac6dc5",
   "metadata": {
    "execution": {
     "iopub.execute_input": "2024-11-04T14:52:52.953132Z",
     "iopub.status.busy": "2024-11-04T14:52:52.952850Z",
     "iopub.status.idle": "2024-11-04T14:52:52.960247Z",
     "shell.execute_reply": "2024-11-04T14:52:52.959831Z",
     "shell.execute_reply.started": "2024-11-04T14:52:52.953116Z"
    }
   },
   "outputs": [
    {
     "data": {
      "text/html": [
       "<div>\n",
       "<style scoped>\n",
       "    .dataframe tbody tr th:only-of-type {\n",
       "        vertical-align: middle;\n",
       "    }\n",
       "\n",
       "    .dataframe tbody tr th {\n",
       "        vertical-align: top;\n",
       "    }\n",
       "\n",
       "    .dataframe thead th {\n",
       "        text-align: right;\n",
       "    }\n",
       "</style>\n",
       "<table border=\"1\" class=\"dataframe\">\n",
       "  <thead>\n",
       "    <tr style=\"text-align: right;\">\n",
       "      <th></th>\n",
       "      <th>cell_type</th>\n",
       "      <th>F1</th>\n",
       "      <th>disease_true</th>\n",
       "    </tr>\n",
       "  </thead>\n",
       "  <tbody>\n",
       "    <tr>\n",
       "      <th>0</th>\n",
       "      <td>B</td>\n",
       "      <td>0.833333</td>\n",
       "      <td>HIV</td>\n",
       "    </tr>\n",
       "    <tr>\n",
       "      <th>6</th>\n",
       "      <td>T_CD4_Naive</td>\n",
       "      <td>0.833333</td>\n",
       "      <td>HIV</td>\n",
       "    </tr>\n",
       "    <tr>\n",
       "      <th>8</th>\n",
       "      <td>T_CD8_Naive</td>\n",
       "      <td>0.833333</td>\n",
       "      <td>HIV</td>\n",
       "    </tr>\n",
       "  </tbody>\n",
       "</table>\n",
       "</div>"
      ],
      "text/plain": [
       "     cell_type        F1 disease_true\n",
       "0            B  0.833333          HIV\n",
       "6  T_CD4_Naive  0.833333          HIV\n",
       "8  T_CD8_Naive  0.833333          HIV"
      ]
     },
     "execution_count": 42,
     "metadata": {},
     "output_type": "execute_result"
    }
   ],
   "source": [
    "cell_type_F1.query(\"cell_type in ['T_CD4_Naive','T_CD8_Naive','B'] and disease_true in ['HIV']\")"
   ]
  },
  {
   "cell_type": "code",
   "execution_count": 43,
   "id": "b31aa4c5-33c7-4b3c-8f4a-04be0679c7f4",
   "metadata": {
    "execution": {
     "iopub.execute_input": "2024-11-04T14:52:53.347933Z",
     "iopub.status.busy": "2024-11-04T14:52:53.347620Z",
     "iopub.status.idle": "2024-11-04T14:52:53.354357Z",
     "shell.execute_reply": "2024-11-04T14:52:53.354055Z",
     "shell.execute_reply.started": "2024-11-04T14:52:53.347909Z"
    }
   },
   "outputs": [
    {
     "data": {
      "text/html": [
       "<div>\n",
       "<style scoped>\n",
       "    .dataframe tbody tr th:only-of-type {\n",
       "        vertical-align: middle;\n",
       "    }\n",
       "\n",
       "    .dataframe tbody tr th {\n",
       "        vertical-align: top;\n",
       "    }\n",
       "\n",
       "    .dataframe thead th {\n",
       "        text-align: right;\n",
       "    }\n",
       "</style>\n",
       "<table border=\"1\" class=\"dataframe\">\n",
       "  <thead>\n",
       "    <tr style=\"text-align: right;\">\n",
       "      <th></th>\n",
       "      <th>cell_type</th>\n",
       "      <th>F1</th>\n",
       "      <th>disease_true</th>\n",
       "    </tr>\n",
       "  </thead>\n",
       "  <tbody>\n",
       "    <tr>\n",
       "      <th>1</th>\n",
       "      <td>DC</td>\n",
       "      <td>0.285714</td>\n",
       "      <td>HIV</td>\n",
       "    </tr>\n",
       "    <tr>\n",
       "      <th>11</th>\n",
       "      <td>pDC</td>\n",
       "      <td>0.285714</td>\n",
       "      <td>HIV</td>\n",
       "    </tr>\n",
       "  </tbody>\n",
       "</table>\n",
       "</div>"
      ],
      "text/plain": [
       "   cell_type        F1 disease_true\n",
       "1         DC  0.285714          HIV\n",
       "11       pDC  0.285714          HIV"
      ]
     },
     "execution_count": 43,
     "metadata": {},
     "output_type": "execute_result"
    }
   ],
   "source": [
    "cell_type_F1.query(\"cell_type in ['DC','pDC'] and disease_true in ['HIV']\")"
   ]
  },
  {
   "cell_type": "code",
   "execution_count": 44,
   "id": "1bbe452b-6db4-47ce-a1fe-68cc489ac39b",
   "metadata": {
    "execution": {
     "iopub.execute_input": "2024-11-04T14:52:53.795101Z",
     "iopub.status.busy": "2024-11-04T14:52:53.794865Z",
     "iopub.status.idle": "2024-11-04T14:52:53.801133Z",
     "shell.execute_reply": "2024-11-04T14:52:53.800794Z",
     "shell.execute_reply.started": "2024-11-04T14:52:53.795085Z"
    }
   },
   "outputs": [
    {
     "data": {
      "text/html": [
       "<div>\n",
       "<style scoped>\n",
       "    .dataframe tbody tr th:only-of-type {\n",
       "        vertical-align: middle;\n",
       "    }\n",
       "\n",
       "    .dataframe tbody tr th {\n",
       "        vertical-align: top;\n",
       "    }\n",
       "\n",
       "    .dataframe thead th {\n",
       "        text-align: right;\n",
       "    }\n",
       "</style>\n",
       "<table border=\"1\" class=\"dataframe\">\n",
       "  <thead>\n",
       "    <tr style=\"text-align: right;\">\n",
       "      <th></th>\n",
       "      <th>cell_type</th>\n",
       "      <th>precision</th>\n",
       "      <th>disease_true</th>\n",
       "    </tr>\n",
       "  </thead>\n",
       "  <tbody>\n",
       "    <tr>\n",
       "      <th>1</th>\n",
       "      <td>DC</td>\n",
       "      <td>1.0</td>\n",
       "      <td>HIV</td>\n",
       "    </tr>\n",
       "    <tr>\n",
       "      <th>11</th>\n",
       "      <td>pDC</td>\n",
       "      <td>1.0</td>\n",
       "      <td>HIV</td>\n",
       "    </tr>\n",
       "  </tbody>\n",
       "</table>\n",
       "</div>"
      ],
      "text/plain": [
       "   cell_type precision disease_true\n",
       "1         DC       1.0          HIV\n",
       "11       pDC       1.0          HIV"
      ]
     },
     "execution_count": 44,
     "metadata": {},
     "output_type": "execute_result"
    }
   ],
   "source": [
    "cell_type_precision.query(\"cell_type in ['DC','pDC'] and disease_true in ['HIV']\")"
   ]
  },
  {
   "cell_type": "code",
   "execution_count": 45,
   "id": "82dd0165-7ed6-4ccf-aa82-6c558bba85b5",
   "metadata": {
    "execution": {
     "iopub.execute_input": "2024-11-04T14:52:54.742143Z",
     "iopub.status.busy": "2024-11-04T14:52:54.741880Z",
     "iopub.status.idle": "2024-11-04T14:52:54.749454Z",
     "shell.execute_reply": "2024-11-04T14:52:54.749149Z",
     "shell.execute_reply.started": "2024-11-04T14:52:54.742128Z"
    }
   },
   "outputs": [
    {
     "data": {
      "text/html": [
       "<div>\n",
       "<style scoped>\n",
       "    .dataframe tbody tr th:only-of-type {\n",
       "        vertical-align: middle;\n",
       "    }\n",
       "\n",
       "    .dataframe tbody tr th {\n",
       "        vertical-align: top;\n",
       "    }\n",
       "\n",
       "    .dataframe thead th {\n",
       "        text-align: right;\n",
       "    }\n",
       "</style>\n",
       "<table border=\"1\" class=\"dataframe\">\n",
       "  <thead>\n",
       "    <tr style=\"text-align: right;\">\n",
       "      <th></th>\n",
       "      <th>cell_type</th>\n",
       "      <th>recall</th>\n",
       "      <th>disease_true</th>\n",
       "    </tr>\n",
       "  </thead>\n",
       "  <tbody>\n",
       "    <tr>\n",
       "      <th>1</th>\n",
       "      <td>DC</td>\n",
       "      <td>0.166667</td>\n",
       "      <td>HIV</td>\n",
       "    </tr>\n",
       "    <tr>\n",
       "      <th>11</th>\n",
       "      <td>pDC</td>\n",
       "      <td>0.166667</td>\n",
       "      <td>HIV</td>\n",
       "    </tr>\n",
       "  </tbody>\n",
       "</table>\n",
       "</div>"
      ],
      "text/plain": [
       "   cell_type    recall disease_true\n",
       "1         DC  0.166667          HIV\n",
       "11       pDC  0.166667          HIV"
      ]
     },
     "execution_count": 45,
     "metadata": {},
     "output_type": "execute_result"
    }
   ],
   "source": [
    "cell_type_recall.query(\"cell_type in ['DC','pDC'] and disease_true in ['HIV']\")"
   ]
  },
  {
   "cell_type": "code",
   "execution_count": null,
   "id": "bf62b6d7-5c7f-4a91-8997-0f0e58ee591c",
   "metadata": {
    "execution": {
     "iopub.execute_input": "2024-11-04T14:52:55.222383Z",
     "iopub.status.busy": "2024-11-04T14:52:55.222128Z",
     "iopub.status.idle": "2024-11-04T14:52:55.791705Z",
     "shell.execute_reply": "2024-11-04T14:52:55.791327Z",
     "shell.execute_reply.started": "2024-11-04T14:52:55.222367Z"
    }
   },
   "outputs": [
    {
     "data": {
      "image/png": "[encoded data removed]",
      "text/plain": [
       "<Figure size 350x500 with 2 Axes>"
      ]
     },
     "metadata": {},
     "output_type": "display_data"
    }
   ],
   "source": [
    "data = cell_type_precision.query(\"cell_type != 'Majority vote'\").pivot(columns='disease_true', index = 'cell_type', values = 'precision').T.fillna(0)\n",
    "\n",
    "plt.figure(figsize=(3.5,5))\n",
    "\n",
    "g = sns.heatmap(data.loc[disease_cat_ordDF.elementList[disease_cat_ordDF.elementList.isin(data.index.tolist())],\n",
    "                cell_type_order],square=False,vmin=0,vmax=1,cmap='inferno')\n",
    "\n",
    "g.set_xticks(g.get_xticks(), [t.get_text().replace('_',' ') for t in g.get_xticklabels()])\n",
    "\n",
    "g.set_title('Precision')\n",
    "g.set_xlabel(\"\")\n",
    "g.set_ylabel(\"\")\n",
    "\n",
    "plt.savefig(here(f\"03_downstream_analysis/09_patient_classifier/5foldCV/results/figures/clusterMap_PRECISION_CTxDisease_noMV.pdf\"),\n",
    "dpi=300,\n",
    "bbox_inches='tight',\n",
    "pad_inches=0.1\n",
    ")"
   ]
  },
  {
   "cell_type": "code",
   "execution_count": null,
   "id": "442fc070-104b-4e0e-9a1d-65fbd1bcfeed",
   "metadata": {
    "execution": {
     "iopub.execute_input": "2024-11-04T14:52:56.577925Z",
     "iopub.status.busy": "2024-11-04T14:52:56.577673Z",
     "iopub.status.idle": "2024-11-04T14:52:57.245644Z",
     "shell.execute_reply": "2024-11-04T14:52:57.245288Z",
     "shell.execute_reply.started": "2024-11-04T14:52:56.577910Z"
    }
   },
   "outputs": [
    {
     "data": {
      "image/png": "[encoded data removed]",
      "text/plain": [
       "<Figure size 350x500 with 2 Axes>"
      ]
     },
     "metadata": {},
     "output_type": "display_data"
    }
   ],
   "source": [
    "data = cell_type_recall.query(\"cell_type != 'Majority vote'\").pivot(columns='disease_true', index = 'cell_type', values = 'recall').T.fillna(0)\n",
    "\n",
    "plt.figure(figsize=(3.5,5))\n",
    "\n",
    "g = sns.heatmap(data.loc[disease_cat_ordDF.elementList[disease_cat_ordDF.elementList.isin(data.index.tolist())],\n",
    "                cell_type_order],square=False,vmin=0,vmax=1,cmap='inferno')\n",
    "\n",
    "g.set_xticks(g.get_xticks(), [t.get_text().replace('_',' ') for t in g.get_xticklabels()])\n",
    "\n",
    "g.set_title('Recall')\n",
    "g.set_xlabel(\"\")\n",
    "g.set_ylabel(\"\")\n",
    "\n",
    "plt.savefig(here(f\"03_downstream_analysis/09_patient_classifier/5foldCV/results/figures/clusterMap_RECALL_CTxDisease_noMV.pdf\"),\n",
    "dpi=300,\n",
    "bbox_inches='tight',\n",
    "pad_inches=0.1\n",
    ")"
   ]
  },
  {
   "cell_type": "markdown",
   "id": "b1758065-8876-4fa8-a91a-9e77fc06ea92",
   "metadata": {},
   "source": [
    "### Table with F1, precision, recall, and accuracy score per class"
   ]
  },
  {
   "cell_type": "code",
   "execution_count": 40,
   "id": "67d240d2-e4a1-47f2-a735-1c95d1a4acf6",
   "metadata": {
    "execution": {
     "iopub.execute_input": "2025-05-12T13:48:54.224798Z",
     "iopub.status.busy": "2025-05-12T13:48:54.224560Z",
     "iopub.status.idle": "2025-05-12T13:48:55.142284Z",
     "shell.execute_reply": "2025-05-12T13:48:55.141913Z",
     "shell.execute_reply.started": "2025-05-12T13:48:54.224783Z"
    }
   },
   "outputs": [],
   "source": [
    "MetricsDF = getClassMetricsDF(data = labelsMelt, \n",
    "                              y_true_cn='disease_true', y_pred_cn='disease_pred', cell_type_cn='cell_type', \n",
    "                              disease_list=list(diseases_palette.keys()), \n",
    "                              include_aggregated=False)"
   ]
  },
  {
   "cell_type": "code",
   "execution_count": null,
   "id": "e40a0a3c-3cdb-4eef-865b-374d462e3e02",
   "metadata": {},
   "outputs": [],
   "source": [
    "with pd.ExcelWriter(here('03_downstream_analysis/metricXdisease.xlsx'), mode = 'a') as writer:  \n",
    "    MetricsDF.to_excel(writer, sheet_name='patientClassifier_5FCV', index_label=None, index=False)"
   ]
  },
  {
   "cell_type": "markdown",
   "id": "a0ae77cd-f6a8-4bab-be34-b3d80b98cc70",
   "metadata": {},
   "source": [
    "### Confusion Matrix"
   ]
  },
  {
   "cell_type": "markdown",
   "id": "8e863a5f-a5bb-41c6-854c-acb67e2aafca",
   "metadata": {},
   "source": [
    "#### Functions"
   ]
  },
  {
   "cell_type": "code",
   "execution_count": 48,
   "id": "63e4ab79-0bb2-4dab-981e-f1d605076c6c",
   "metadata": {
    "execution": {
     "iopub.execute_input": "2024-11-04T14:53:02.487395Z",
     "iopub.status.busy": "2024-11-04T14:53:02.486967Z",
     "iopub.status.idle": "2024-11-04T14:53:02.490958Z",
     "shell.execute_reply": "2024-11-04T14:53:02.490649Z",
     "shell.execute_reply.started": "2024-11-04T14:53:02.487379Z"
    }
   },
   "outputs": [],
   "source": [
    "# Computing the confusion matrix\n",
    "def getConfusionMatrix(predTestDF = None, predCol = 'y_pred', gtCol = 'y_test', normalize='columns'):\n",
    "\n",
    "    # normalize could be False, 'rows', or 'columns' (default).\n",
    "    \n",
    "    import pandas as pd\n",
    "\n",
    "    if normalize == False:\n",
    "        confusionMatrix = pd.crosstab(predTestDF[predCol], predTestDF[gtCol], dropna=False)\n",
    "    else:\n",
    "        confusionMatrix = pd.crosstab(predTestDF[predCol], predTestDF[gtCol], normalize=normalize, dropna=False)\n",
    "\n",
    "    if confusionMatrix.shape[0] < confusionMatrix.shape[1]:\n",
    "        for d in np.setdiff1d(confusionMatrix.columns.tolist(), confusionMatrix.index.tolist()):\n",
    "            confusionMatrix.loc[d,:] = 0\n",
    "    elif confusionMatrix.shape[0] > confusionMatrix.shape[1]:\n",
    "        for d in np.setdiff1d(confusionMatrix.index.tolist(),confusionMatrix.columns.tolist()):\n",
    "            confusionMatrix[d] = 0   \n",
    "\n",
    "    return(confusionMatrix)"
   ]
  },
  {
   "cell_type": "code",
   "execution_count": 49,
   "id": "4b2a2334-7000-45d7-929b-c08e9529aac1",
   "metadata": {
    "execution": {
     "iopub.execute_input": "2024-11-04T14:53:02.642725Z",
     "iopub.status.busy": "2024-11-04T14:53:02.642494Z",
     "iopub.status.idle": "2024-11-04T14:53:02.645047Z",
     "shell.execute_reply": "2024-11-04T14:53:02.644741Z",
     "shell.execute_reply.started": "2024-11-04T14:53:02.642711Z"
    }
   },
   "outputs": [],
   "source": [
    "def reorder_ConfMatrix(confusionMatrix=None, elementList = None):\n",
    "\n",
    "    confusionMatrix = confusionMatrix.reindex(elementList, axis=0).reindex(elementList, axis=1)\n",
    "\n",
    "    return(confusionMatrix)"
   ]
  },
  {
   "cell_type": "code",
   "execution_count": 50,
   "id": "1ee74a12-f72e-4632-ac0f-e4a232b1dd7f",
   "metadata": {
    "execution": {
     "iopub.execute_input": "2024-11-04T14:53:03.236936Z",
     "iopub.status.busy": "2024-11-04T14:53:03.236763Z",
     "iopub.status.idle": "2024-11-04T14:53:03.239158Z",
     "shell.execute_reply": "2024-11-04T14:53:03.238858Z",
     "shell.execute_reply.started": "2024-11-04T14:53:03.236922Z"
    }
   },
   "outputs": [],
   "source": [
    "def mask_entries(confusionMatrix=None, lowerThan = 0, cmap='viridis'):\n",
    "    confusionMatrix_nan = confusionMatrix.copy()\n",
    "    confusionMatrix_nan[confusionMatrix_nan <= lowerThan] = np.nan\n",
    "    return(confusionMatrix_nan)\n",
    "    "
   ]
  },
  {
   "cell_type": "markdown",
   "id": "0037f26a-0aab-4b2d-ae26-16ad32db5b29",
   "metadata": {},
   "source": [
    "#### Changing the PyComplexHeatmap code\n",
    "\n",
    "https://dingwb.github.io/PyComplexHeatmap/build/html/notebooks/composite_heatmaps.html#Composite-two-heatmaps-horizontally-for-mouse-DNA-methylation-array-dataset\n",
    "\n",
    "The following change is required to avoid reordering columns and rows. So, disease in the same category are close to each others"
   ]
  },
  {
   "cell_type": "code",
   "execution_count": 51,
   "id": "e70606ca-a1b0-4400-b9cc-0494f3cf54c2",
   "metadata": {
    "execution": {
     "iopub.execute_input": "2024-11-04T14:53:03.959616Z",
     "iopub.status.busy": "2024-11-04T14:53:03.959411Z",
     "iopub.status.idle": "2024-11-04T14:53:03.975954Z",
     "shell.execute_reply": "2024-11-04T14:53:03.975496Z",
     "shell.execute_reply.started": "2024-11-04T14:53:03.959601Z"
    }
   },
   "outputs": [],
   "source": [
    "def _reorder_rows(self):\n",
    "    self.row_split_dendrogram = False\n",
    "    if self.verbose >= 1:\n",
    "        print(\"Reordering rows..\")\n",
    "    if self.row_split is None and self.row_cluster:\n",
    "        self.calculate_row_dendrograms(\n",
    "            self.data2d\n",
    "        )  # xind=self.dendrogram_row.reordered_ind\n",
    "        self.row_order = [\n",
    "            self.dendrogram_row.dendrogram[\"ivl\"]\n",
    "        ]  # self.data2d.iloc[:, xind].columns.tolist()\n",
    "        return None\n",
    "    elif isinstance(self.row_split, int) and self.row_cluster:\n",
    "        self.calculate_row_dendrograms(self.data2d)\n",
    "        self.row_clusters = (\n",
    "            pd.Series(\n",
    "                hierarchy.fcluster(\n",
    "                    self.dendrogram_row.linkage,\n",
    "                    t=self.row_split,\n",
    "                    criterion=\"maxclust\",\n",
    "                ),\n",
    "                index=self.data2d.index.tolist(),\n",
    "            )\n",
    "            .to_frame(name=\"cluster\")\n",
    "            .groupby(\"cluster\")\n",
    "            .apply(lambda x: x.index.tolist())\n",
    "            .to_dict()\n",
    "        )\n",
    "        # index=self.dendrogram_row.dendrogram['ivl']).to_frame(name='cluster')\n",
    "\n",
    "    elif isinstance(self.row_split, (pd.Series, pd.DataFrame)):\n",
    "        if isinstance(self.row_split, pd.Series):\n",
    "            self.row_split = self.row_split.to_frame(name=self.row_split.name)\n",
    "        cols = self.row_split.columns.tolist()\n",
    "        row_clusters = self.row_split.groupby(cols, sort=False).apply(\n",
    "            lambda x: x.index.tolist()\n",
    "        )\n",
    "        if self.row_split_order is None:\n",
    "            self.row_split_order = row_clusters.index.tolist()\n",
    "        elif self.row_split_order == 'cluster_between_groups':\n",
    "            mat=pd.concat([\n",
    "                self.data2d.loc[rows].mean() for rows in row_clusters.tolist()],\n",
    "                          axis=1).T #columns are original columns\n",
    "            mat.index=row_clusters.index.tolist()\n",
    "            sizes=row_clusters.apply(lambda x:len(x)).tolist()\n",
    "            self.calculate_row_dendrograms(mat,sizes=sizes)\n",
    "            self.row_split_order = self.dendrogram_row.dendrogram[\"ivl\"]\n",
    "            self.row_split_dendrogram=self.dendrogram_row\n",
    "        self.row_clusters = row_clusters.loc[self.row_split_order].to_dict()\n",
    "    elif not self.row_cluster:\n",
    "        self.row_order = [self.data2d.index.tolist()]\n",
    "        return None\n",
    "    else:\n",
    "        raise TypeError(\"row_split must be integar or dataframe or series\")\n",
    "\n",
    "    self.row_order = []\n",
    "    self.dendrogram_rows = []\n",
    "    for i, cluster in enumerate(self.row_clusters):\n",
    "        rows = self.row_clusters[cluster]\n",
    "        if len(rows) <= 1:\n",
    "            self.row_order.append(rows)\n",
    "            self.dendrogram_rows.append(None)\n",
    "            continue\n",
    "        if self.row_cluster: #cluster within groups\n",
    "            self.calculate_row_dendrograms(self.data2d.loc[rows])\n",
    "            self.dendrogram_rows.append(self.dendrogram_row)\n",
    "            self.row_order.append(self.dendrogram_row.dendrogram[\"ivl\"])\n",
    "        else:\n",
    "            self.row_order.append(rows)\n",
    "\n",
    "def _reorder_cols(self):\n",
    "    self.col_split_dendrogram=False\n",
    "    if self.verbose >= 1:\n",
    "        print(\"Reordering cols..\")\n",
    "    if self.col_split is None and self.col_cluster:\n",
    "        self.calculate_col_dendrograms(self.data2d)\n",
    "        self.col_order = [\n",
    "            self.dendrogram_col.dendrogram[\"ivl\"]\n",
    "        ]  # self.data2d.iloc[:, xind].columns.tolist()\n",
    "        return None\n",
    "    elif isinstance(self.col_split, int) and self.col_cluster:\n",
    "        self.calculate_col_dendrograms(self.data2d)\n",
    "        self.col_clusters = (\n",
    "            pd.Series(\n",
    "                hierarchy.fcluster(\n",
    "                    self.dendrogram_col.linkage,\n",
    "                    t=self.col_split,\n",
    "                    criterion=\"maxclust\",\n",
    "                ),\n",
    "                index=self.data2d.columns.tolist(),\n",
    "            )\n",
    "            .to_frame(name=\"cluster\")\n",
    "            .groupby(\"cluster\")\n",
    "            .apply(lambda x: x.index.tolist())\n",
    "            .to_dict()\n",
    "        )\n",
    "        # index=self.dendrogram_col.dendrogram['ivl']).to_frame(name='cluster')\n",
    "\n",
    "    elif isinstance(self.col_split, (pd.Series, pd.DataFrame)):\n",
    "        if isinstance(self.col_split, pd.Series):\n",
    "            self.col_split = self.col_split.to_frame(name=self.col_split.name)\n",
    "        cols = self.col_split.columns.tolist()\n",
    "        col_clusters = self.col_split.groupby(cols, sort=False).apply(\n",
    "            lambda x: x.index.tolist()\n",
    "        )\n",
    "        if self.col_split_order is None:\n",
    "            self.col_split_order = col_clusters.index.tolist()\n",
    "        elif self.col_split_order == 'cluster_between_groups':\n",
    "            mat = pd.concat([\n",
    "                self.data2d.loc[:,cols].mean(axis=1) for cols in col_clusters.tolist()],\n",
    "                axis=1)  # index are original rows labels\n",
    "            mat.columns = col_clusters.index.tolist()\n",
    "            sizes = col_clusters.apply(lambda x: len(x)).tolist()\n",
    "            self.calculate_col_dendrograms(mat, sizes=sizes)\n",
    "            self.col_split_order = self.dendrogram_col.dendrogram[\"ivl\"]\n",
    "            self.col_split_dendrogram = self.dendrogram_col\n",
    "        self.col_clusters = col_clusters.loc[self.col_split_order].to_dict()\n",
    "    elif not self.col_cluster:\n",
    "        self.col_order = [self.data2d.columns.tolist()]\n",
    "        return None\n",
    "    else:\n",
    "        raise TypeError(\"row_split must be integar or dataframe or series\")\n",
    "\n",
    "    self.col_order = []\n",
    "    self.dendrogram_cols = []\n",
    "    for i, cluster in enumerate(self.col_clusters):\n",
    "        cols = self.col_clusters[cluster]\n",
    "        if len(cols) <= 1:\n",
    "            self.col_order.append(cols)\n",
    "            self.dendrogram_cols.append(None)\n",
    "            continue\n",
    "        if self.col_cluster:\n",
    "            self.calculate_col_dendrograms(self.data2d.loc[:, cols])\n",
    "            self.dendrogram_cols.append(self.dendrogram_col)\n",
    "            self.col_order.append(self.dendrogram_col.dendrogram[\"ivl\"])\n",
    "        else:\n",
    "            self.col_order.append(cols)\n",
    "\n",
    "def plot_matrix(self, row_order, col_order):\n",
    "    col_order=row_order.copy()\n",
    "    if self.verbose >= 1:\n",
    "        print(\"Plotting matrix..\")\n",
    "    nrows = len(row_order)\n",
    "    ncols = len(col_order)\n",
    "    self.wspace = (\n",
    "        self.col_split_gap\n",
    "        * mm2inch\n",
    "        * self.ax.figure.dpi\n",
    "        / (self.ax_heatmap.get_window_extent().width / ncols)\n",
    "    )  # 1mm=mm2inch inch\n",
    "    self.hspace = (\n",
    "        self.row_split_gap\n",
    "        * mm2inch\n",
    "        * self.ax.figure.dpi\n",
    "        / (self.ax_heatmap.get_window_extent().height / nrows)\n",
    "    )  # height\n",
    "    self.heatmap_gs = matplotlib.gridspec.GridSpecFromSubplotSpec(\n",
    "        nrows,\n",
    "        ncols,\n",
    "        hspace=self.hspace,\n",
    "        wspace=self.wspace,\n",
    "        subplot_spec=self.gs[1, 1],\n",
    "        height_ratios=[len(rows) for rows in row_order],\n",
    "        width_ratios=[len(cols) for cols in col_order],\n",
    "    )\n",
    "\n",
    "    annot = self.kwargs.pop(\"annot\", None)\n",
    "    if annot is None or annot is False:\n",
    "        pass\n",
    "    else:\n",
    "        if isinstance(annot, bool):\n",
    "            annot_data = self.data2d\n",
    "        else:\n",
    "            annot_data = annot.copy()\n",
    "            if annot_data.shape != self.data2d.shape:\n",
    "                err = \"`data` and `annot` must have same shape.\"\n",
    "                raise ValueError(err)\n",
    "\n",
    "    self.heatmap_axes = np.empty(shape=(nrows, ncols), dtype=object)\n",
    "    # if nrows > 1 or ncols > 1:\n",
    "    self.ax_heatmap.set_axis_off()\n",
    "    for i, rows in enumerate(row_order):\n",
    "        for j, cols in enumerate(col_order):\n",
    "            # print(i,j)\n",
    "            ax1 = self.ax_heatmap.figure.add_subplot(\n",
    "                self.heatmap_gs[i, j],\n",
    "                sharex=self.heatmap_axes[0, j],\n",
    "                sharey=self.heatmap_axes[i, 0],\n",
    "            )\n",
    "            ax1.set_xlim([0, len(rows)])\n",
    "            ax1.set_ylim([0, len(cols)])\n",
    "            annot1 = None if annot is None else annot_data.loc[rows, cols]\n",
    "            # heatmap(self.data2d.loc[rows, cols], ax=ax1, cbar=False, cmap=self.cmap,\n",
    "            #         cbar_kws=None, mask=self.mask.loc[rows, cols], rasterized=self.rasterized,\n",
    "            #         xticklabels='auto', yticklabels='auto', annot=annot1, **self.kwargs)\n",
    "            plot_heatmap(\n",
    "                self.data2d.loc[rows, cols],\n",
    "                ax=ax1,\n",
    "                cmap=self.cmap,\n",
    "                mask=self.mask.loc[rows, cols],\n",
    "                rasterized=self.rasterized,\n",
    "                xticklabels=\"auto\",\n",
    "                yticklabels=\"auto\",\n",
    "                annot=True,\n",
    "                **self.kwargs\n",
    "            )\n",
    "            self.heatmap_axes[i, j] = ax1\n",
    "            ax1.yaxis.label.set_visible(False)\n",
    "            ax1.xaxis.label.set_visible(False)\n",
    "            ax1.tick_params(\n",
    "                left=False,\n",
    "                right=False,\n",
    "                labelleft=False,\n",
    "                labelright=False,\n",
    "                top=False,\n",
    "                bottom=False,\n",
    "                labeltop=False,\n",
    "                labelbottom=False,\n",
    "            )\n"
   ]
  },
  {
   "cell_type": "code",
   "execution_count": 52,
   "id": "26833756-9a13-4cb4-ae4c-4f2875a1fd5f",
   "metadata": {
    "execution": {
     "iopub.execute_input": "2024-11-04T14:53:04.429531Z",
     "iopub.status.busy": "2024-11-04T14:53:04.429241Z",
     "iopub.status.idle": "2024-11-04T14:53:04.431499Z",
     "shell.execute_reply": "2024-11-04T14:53:04.431206Z",
     "shell.execute_reply.started": "2024-11-04T14:53:04.429517Z"
    }
   },
   "outputs": [],
   "source": [
    "ClusterMapPlotter._reorder_rows = _reorder_rows\n",
    "ClusterMapPlotter._reorder_cols = _reorder_cols\n",
    "# ClusterMapPlotter.plot_matrix = plot_matrix"
   ]
  },
  {
   "cell_type": "code",
   "execution_count": 53,
   "id": "982c34c4-216c-4352-92d4-03ff920122c0",
   "metadata": {
    "execution": {
     "iopub.execute_input": "2024-11-04T14:53:04.524177Z",
     "iopub.status.busy": "2024-11-04T14:53:04.523895Z",
     "iopub.status.idle": "2024-11-04T14:53:04.696597Z",
     "shell.execute_reply": "2024-11-04T14:53:04.696205Z",
     "shell.execute_reply.started": "2024-11-04T14:53:04.524164Z"
    }
   },
   "outputs": [],
   "source": [
    "MajorityVote_confusionMatrix = getConfusionMatrix(predTestDF= labelsMelt.query(\"cell_type == 'Majority vote'\"), predCol = 'disease_pred', gtCol = 'disease_true', normalize='columns')\n",
    "MajorityVote_confusionMatrix_ord = reorder_ConfMatrix(mask_entries(MajorityVote_confusionMatrix, lowerThan = -1), elementList=disease_cat_ordDF.elementList)"
   ]
  },
  {
   "cell_type": "code",
   "execution_count": 54,
   "id": "26367dce-3e41-4f3d-b748-f59ef7d5b652",
   "metadata": {
    "execution": {
     "iopub.execute_input": "2024-11-04T14:53:04.779754Z",
     "iopub.status.busy": "2024-11-04T14:53:04.779606Z",
     "iopub.status.idle": "2024-11-04T14:53:04.783662Z",
     "shell.execute_reply": "2024-11-04T14:53:04.783322Z",
     "shell.execute_reply.started": "2024-11-04T14:53:04.779740Z"
    }
   },
   "outputs": [],
   "source": [
    "MajorityVote_confusionMatrix_ord[MajorityVote_confusionMatrix_ord == 0.0] = np.nan\n",
    "MajorityVote_confusionMatrix_ord = MajorityVote_confusionMatrix_ord.dropna(how='all').dropna(how='all', axis=1).fillna(0)"
   ]
  },
  {
   "cell_type": "code",
   "execution_count": 55,
   "id": "07804829-cb11-4801-824a-3f74438634f9",
   "metadata": {
    "execution": {
     "iopub.execute_input": "2024-11-04T14:53:05.627559Z",
     "iopub.status.busy": "2024-11-04T14:53:05.627009Z",
     "iopub.status.idle": "2024-11-04T14:53:05.633034Z",
     "shell.execute_reply": "2024-11-04T14:53:05.632728Z",
     "shell.execute_reply.started": "2024-11-04T14:53:05.627529Z"
    }
   },
   "outputs": [],
   "source": [
    "# rows\n",
    "rowConditions = MajorityVote_confusionMatrix_ord.index.tolist()\n",
    "rowAnnDF = pd.DataFrame.from_dict({'disease_cat' : [diseaseCategories[c] for c in rowConditions], 'disease':rowConditions}).set_index('disease')\n",
    "row_ann = HeatmapAnnotation(disease_group=anno_simple(rowAnnDF.disease_cat, colors=diseasesGroup_palette, rasterized=True, legend_kws={'color_text':False, 'labelcolor':'black'}),#, legend_kws  = {'title': 'Disease\\ngroups'}), \n",
    "                            axis=0,verbose=0, label_kws={'text':None}, plot=False, legend=True)\n",
    "\n",
    "# columns\n",
    "colConditions = MajorityVote_confusionMatrix_ord.columns.tolist()\n",
    "colAnnDF = pd.DataFrame.from_dict({'disease_cat' : [diseaseCategories[c] for c in colConditions], 'disease':colConditions}).set_index('disease')\n",
    "col_ann = HeatmapAnnotation(disease_group=anno_simple(colAnnDF.disease_cat, colors=diseasesGroup_palette, rasterized=True, legend_kws={'color_text':False, 'labelcolor':'black'}),#, legend_kws  = {'title': 'Disease\\ngroups'}), \n",
    "                            axis=1,verbose=0, label_kws={'text':None}, plot=False, legend=False)"
   ]
  },
  {
   "cell_type": "code",
   "execution_count": null,
   "id": "a057b90a-aa02-4e37-9e80-f42eb77926b2",
   "metadata": {
    "execution": {
     "iopub.execute_input": "2024-11-04T14:53:06.847335Z",
     "iopub.status.busy": "2024-11-04T14:53:06.847083Z",
     "iopub.status.idle": "2024-11-04T14:53:17.319742Z",
     "shell.execute_reply": "2024-11-04T14:53:17.319369Z",
     "shell.execute_reply.started": "2024-11-04T14:53:06.847321Z"
    }
   },
   "outputs": [
    {
     "data": {
      "image/png": "[encoded data removed]",
      "text/plain": [
       "<Figure size 600x600 with 63 Axes>"
      ]
     },
     "metadata": {},
     "output_type": "display_data"
    }
   ],
   "source": [
    "plt.figure(figsize=(6,6))\n",
    "cm = ClusterMapPlotter(data=MajorityVote_confusionMatrix_ord, \n",
    "                       right_annotation=row_ann, \n",
    "                       top_annotation=col_ann, \n",
    "                       row_split=rowAnnDF.disease_cat, #row_split_order=diseaseCatOrd,\n",
    "                       col_split=colAnnDF.disease_cat, #col_split_order=diseaseCatOrd,\n",
    "                       show_rownames=True,show_colnames=True, xlabel = 'Real conditions', ylabel = 'Predicted conditions',\n",
    "                       plot=True, fmt=None,\n",
    "                       row_cluster=False, col_cluster=False, standard_scale = None,\n",
    "                       row_dendrogram=False,col_dendrogram=False, verbose=False,\n",
    "                       cmap='inferno', rasterized=False, row_split_gap=1, col_split_gap=1, legend=True, label = 'Proportion\\n(col norm)', legend_vpad=5,\n",
    "                       vmax = 1, vmin = 0)\n",
    "\n",
    "\n",
    "plt.savefig(here(f\"03_downstream_analysis/09_patient_classifier/5foldCV/results/figures/MajorityVote_confusionMatrix.pdf\"),\n",
    "dpi=300,\n",
    "bbox_inches='tight',\n",
    "pad_inches=0.1\n",
    ")"
   ]
  },
  {
   "cell_type": "code",
   "execution_count": 57,
   "id": "4605cb21-19c0-4a51-99ba-b27eccc96e19",
   "metadata": {
    "execution": {
     "iopub.execute_input": "2024-11-04T14:53:17.320830Z",
     "iopub.status.busy": "2024-11-04T14:53:17.320500Z",
     "iopub.status.idle": "2024-11-04T14:53:17.323682Z",
     "shell.execute_reply": "2024-11-04T14:53:17.323398Z",
     "shell.execute_reply.started": "2024-11-04T14:53:17.320814Z"
    }
   },
   "outputs": [
    {
     "data": {
      "text/plain": [
       "0.18181818181818182"
      ]
     },
     "execution_count": 57,
     "metadata": {},
     "output_type": "execute_result"
    }
   ],
   "source": [
    "MajorityVote_confusionMatrix_ord.loc['flu','flu']"
   ]
  },
  {
   "cell_type": "code",
   "execution_count": 58,
   "id": "1c009965-b45f-4b8c-a203-e7ea64f1cc1c",
   "metadata": {
    "execution": {
     "iopub.execute_input": "2024-11-04T14:53:17.324206Z",
     "iopub.status.busy": "2024-11-04T14:53:17.324077Z",
     "iopub.status.idle": "2024-11-04T14:53:17.349894Z",
     "shell.execute_reply": "2024-11-04T14:53:17.349613Z",
     "shell.execute_reply.started": "2024-11-04T14:53:17.324193Z"
    }
   },
   "outputs": [],
   "source": [
    "from sklearn.metrics import accuracy_score"
   ]
  },
  {
   "cell_type": "code",
   "execution_count": 59,
   "id": "47450411-f07a-4cbd-a7bb-86ac738ea845",
   "metadata": {
    "execution": {
     "iopub.execute_input": "2024-11-04T14:53:17.350855Z",
     "iopub.status.busy": "2024-11-04T14:53:17.350604Z",
     "iopub.status.idle": "2024-11-04T14:53:18.616200Z",
     "shell.execute_reply": "2024-11-04T14:53:18.615829Z",
     "shell.execute_reply.started": "2024-11-04T14:53:17.350843Z"
    }
   },
   "outputs": [],
   "source": [
    "MVdf = labelsMelt.query(\"cell_type == 'Majority vote'\")\n",
    "\n",
    "WAcc_MVxDisease = {}\n",
    "F1_MVxDisease = {}\n",
    "Precision_MVxDisease = {}\n",
    "Recall_MVxDisease = {}\n",
    "\n",
    "\n",
    "for s in MVdf.SPLIT.unique():\n",
    "    WAcc_MVxDisease[s] = {}\n",
    "    Precision_MVxDisease[s] = {}\n",
    "    Recall_MVxDisease[s] = {}\n",
    "    \n",
    "    for d in MVdf.disease_true.unique():\n",
    "        #BAS over binarized data \n",
    "        WAcc_MVxDisease[s][d] = balanced_accuracy_score(y_true=MVdf.query(\"SPLIT == @s\").disease_true == d,\n",
    "                                                       y_pred=MVdf.query(\"SPLIT == @s\").disease_pred == d)\n",
    "        \n",
    "        F1_MVxDisease[s] = f1_score(y_true=MVdf.query(\"SPLIT == @s\").disease_true,\n",
    "                                     y_pred=MVdf.query(\"SPLIT == @s\").disease_pred,\n",
    "                                     labels = MVdf.disease_true.unique(),average=None)\n",
    "        \n",
    "        Precision_MVxDisease[s] = precision_score(y_true=MVdf.query(\"SPLIT == @s\").disease_true,\n",
    "                                                     y_pred=MVdf.query(\"SPLIT == @s\").disease_pred, \n",
    "                                                  labels = MVdf.disease_true.unique(), average=None)\n",
    "\n",
    "        Recall_MVxDisease[s] = recall_score(y_true=MVdf.query(\"SPLIT == @s\").disease_true,\n",
    "                                                     y_pred=MVdf.query(\"SPLIT == @s\").disease_pred, \n",
    "                                                  labels = MVdf.disease_true.unique(), average=None)"
   ]
  },
  {
   "cell_type": "code",
   "execution_count": 60,
   "id": "ed83e50d-2114-4044-97fe-74827418b6bf",
   "metadata": {
    "execution": {
     "iopub.execute_input": "2024-11-04T14:53:18.616862Z",
     "iopub.status.busy": "2024-11-04T14:53:18.616726Z",
     "iopub.status.idle": "2024-11-04T14:53:18.633605Z",
     "shell.execute_reply": "2024-11-04T14:53:18.633289Z",
     "shell.execute_reply.started": "2024-11-04T14:53:18.616849Z"
    }
   },
   "outputs": [
    {
     "data": {
      "text/html": [
       "<div>\n",
       "<style scoped>\n",
       "    .dataframe tbody tr th:only-of-type {\n",
       "        vertical-align: middle;\n",
       "    }\n",
       "\n",
       "    .dataframe tbody tr th {\n",
       "        vertical-align: top;\n",
       "    }\n",
       "\n",
       "    .dataframe thead th {\n",
       "        text-align: right;\n",
       "    }\n",
       "</style>\n",
       "<table border=\"1\" class=\"dataframe\">\n",
       "  <thead>\n",
       "    <tr style=\"text-align: right;\">\n",
       "      <th></th>\n",
       "      <th>disease</th>\n",
       "      <th>SPLIT</th>\n",
       "      <th>score</th>\n",
       "      <th>metric</th>\n",
       "    </tr>\n",
       "  </thead>\n",
       "  <tbody>\n",
       "    <tr>\n",
       "      <th>0</th>\n",
       "      <td>COVID</td>\n",
       "      <td>0</td>\n",
       "      <td>0.993103</td>\n",
       "      <td>B_Acc</td>\n",
       "    </tr>\n",
       "    <tr>\n",
       "      <th>1</th>\n",
       "      <td>healthy</td>\n",
       "      <td>0</td>\n",
       "      <td>0.950292</td>\n",
       "      <td>B_Acc</td>\n",
       "    </tr>\n",
       "    <tr>\n",
       "      <th>2</th>\n",
       "      <td>sepsis</td>\n",
       "      <td>0</td>\n",
       "      <td>0.993789</td>\n",
       "      <td>B_Acc</td>\n",
       "    </tr>\n",
       "    <tr>\n",
       "      <th>3</th>\n",
       "      <td>flu</td>\n",
       "      <td>0</td>\n",
       "      <td>0.500000</td>\n",
       "      <td>B_Acc</td>\n",
       "    </tr>\n",
       "    <tr>\n",
       "      <th>4</th>\n",
       "      <td>HNSCC</td>\n",
       "      <td>0</td>\n",
       "      <td>1.000000</td>\n",
       "      <td>B_Acc</td>\n",
       "    </tr>\n",
       "    <tr>\n",
       "      <th>...</th>\n",
       "      <td>...</td>\n",
       "      <td>...</td>\n",
       "      <td>...</td>\n",
       "      <td>...</td>\n",
       "    </tr>\n",
       "    <tr>\n",
       "      <th>395</th>\n",
       "      <td>cirrhosis</td>\n",
       "      <td>4</td>\n",
       "      <td>1.000000</td>\n",
       "      <td>Recall</td>\n",
       "    </tr>\n",
       "    <tr>\n",
       "      <th>396</th>\n",
       "      <td>CRC</td>\n",
       "      <td>4</td>\n",
       "      <td>0.666667</td>\n",
       "      <td>Recall</td>\n",
       "    </tr>\n",
       "    <tr>\n",
       "      <th>397</th>\n",
       "      <td>MS</td>\n",
       "      <td>4</td>\n",
       "      <td>1.000000</td>\n",
       "      <td>Recall</td>\n",
       "    </tr>\n",
       "    <tr>\n",
       "      <th>398</th>\n",
       "      <td>HIV</td>\n",
       "      <td>4</td>\n",
       "      <td>0.000000</td>\n",
       "      <td>Recall</td>\n",
       "    </tr>\n",
       "    <tr>\n",
       "      <th>399</th>\n",
       "      <td>HBV</td>\n",
       "      <td>4</td>\n",
       "      <td>0.333333</td>\n",
       "      <td>Recall</td>\n",
       "    </tr>\n",
       "  </tbody>\n",
       "</table>\n",
       "<p>400 rows × 4 columns</p>\n",
       "</div>"
      ],
      "text/plain": [
       "       disease SPLIT     score  metric\n",
       "0        COVID     0  0.993103   B_Acc\n",
       "1      healthy     0  0.950292   B_Acc\n",
       "2       sepsis     0  0.993789   B_Acc\n",
       "3          flu     0  0.500000   B_Acc\n",
       "4        HNSCC     0  1.000000   B_Acc\n",
       "..         ...   ...       ...     ...\n",
       "395  cirrhosis     4  1.000000  Recall\n",
       "396        CRC     4  0.666667  Recall\n",
       "397         MS     4  1.000000  Recall\n",
       "398        HIV     4  0.000000  Recall\n",
       "399        HBV     4  0.333333  Recall\n",
       "\n",
       "[400 rows x 4 columns]"
      ]
     },
     "execution_count": 60,
     "metadata": {},
     "output_type": "execute_result"
    }
   ],
   "source": [
    "WAcc_MVxDisease_DF = pd.DataFrame(WAcc_MVxDisease)\n",
    "WAcc_MVxDisease_DF = WAcc_MVxDisease_DF.reset_index().melt(id_vars='index',value_name='score', var_name='SPLIT')\n",
    "WAcc_MVxDisease_DF['metric'] = 'B_Acc'\n",
    "\n",
    "F1_MVxDisease_DF = pd.DataFrame(F1_MVxDisease)\n",
    "F1_MVxDisease_DF.index = MVdf.disease_true.unique()\n",
    "F1_MVxDisease_DF = F1_MVxDisease_DF.reset_index().melt(id_vars='index',value_name='score', var_name='SPLIT')\n",
    "F1_MVxDisease_DF['metric'] = 'F1'\n",
    "\n",
    "\n",
    "Precision_MVxDisease_DF = pd.DataFrame(Precision_MVxDisease)\n",
    "Precision_MVxDisease_DF.index = MVdf.disease_true.unique()\n",
    "Precision_MVxDisease_DF = Precision_MVxDisease_DF.reset_index().melt(id_vars='index',value_name='score', var_name='SPLIT')\n",
    "Precision_MVxDisease_DF['metric'] = 'Precision'\n",
    "\n",
    "\n",
    "Recall_MVxDisease_DF = pd.DataFrame(Recall_MVxDisease)\n",
    "Recall_MVxDisease_DF.index = MVdf.disease_true.unique()\n",
    "Recall_MVxDisease_DF = Recall_MVxDisease_DF.reset_index().melt(id_vars='index',value_name='score', var_name='SPLIT')\n",
    "Recall_MVxDisease_DF['metric'] = 'Recall'\n",
    "\n",
    "MVxDisease_DF =pd.concat([WAcc_MVxDisease_DF,F1_MVxDisease_DF,Precision_MVxDisease_DF,Recall_MVxDisease_DF], axis=0, ignore_index=True)\n",
    "MVxDisease_DF.rename({'index':'disease'}, axis=1, inplace=True)\n",
    "MVxDisease_DF"
   ]
  },
  {
   "cell_type": "code",
   "execution_count": 61,
   "id": "0830c24f-9764-4446-97cc-4b733c604abe",
   "metadata": {
    "execution": {
     "iopub.execute_input": "2024-11-04T14:53:20.767237Z",
     "iopub.status.busy": "2024-11-04T14:53:20.766986Z",
     "iopub.status.idle": "2024-11-04T14:53:20.773736Z",
     "shell.execute_reply": "2024-11-04T14:53:20.773425Z",
     "shell.execute_reply.started": "2024-11-04T14:53:20.767222Z"
    }
   },
   "outputs": [
    {
     "data": {
      "text/html": [
       "<div>\n",
       "<style scoped>\n",
       "    .dataframe tbody tr th:only-of-type {\n",
       "        vertical-align: middle;\n",
       "    }\n",
       "\n",
       "    .dataframe tbody tr th {\n",
       "        vertical-align: top;\n",
       "    }\n",
       "\n",
       "    .dataframe thead th {\n",
       "        text-align: right;\n",
       "    }\n",
       "</style>\n",
       "<table border=\"1\" class=\"dataframe\">\n",
       "  <thead>\n",
       "    <tr style=\"text-align: right;\">\n",
       "      <th></th>\n",
       "      <th>index</th>\n",
       "      <th>SPLIT</th>\n",
       "      <th>score</th>\n",
       "      <th>metric</th>\n",
       "    </tr>\n",
       "  </thead>\n",
       "  <tbody>\n",
       "    <tr>\n",
       "      <th>1</th>\n",
       "      <td>healthy</td>\n",
       "      <td>0</td>\n",
       "      <td>0.944444</td>\n",
       "      <td>Recall</td>\n",
       "    </tr>\n",
       "    <tr>\n",
       "      <th>21</th>\n",
       "      <td>healthy</td>\n",
       "      <td>1</td>\n",
       "      <td>0.944444</td>\n",
       "      <td>Recall</td>\n",
       "    </tr>\n",
       "    <tr>\n",
       "      <th>41</th>\n",
       "      <td>healthy</td>\n",
       "      <td>2</td>\n",
       "      <td>0.907407</td>\n",
       "      <td>Recall</td>\n",
       "    </tr>\n",
       "    <tr>\n",
       "      <th>61</th>\n",
       "      <td>healthy</td>\n",
       "      <td>3</td>\n",
       "      <td>0.888889</td>\n",
       "      <td>Recall</td>\n",
       "    </tr>\n",
       "    <tr>\n",
       "      <th>81</th>\n",
       "      <td>healthy</td>\n",
       "      <td>4</td>\n",
       "      <td>0.851852</td>\n",
       "      <td>Recall</td>\n",
       "    </tr>\n",
       "  </tbody>\n",
       "</table>\n",
       "</div>"
      ],
      "text/plain": [
       "      index SPLIT     score  metric\n",
       "1   healthy     0  0.944444  Recall\n",
       "21  healthy     1  0.944444  Recall\n",
       "41  healthy     2  0.907407  Recall\n",
       "61  healthy     3  0.888889  Recall\n",
       "81  healthy     4  0.851852  Recall"
      ]
     },
     "execution_count": 61,
     "metadata": {},
     "output_type": "execute_result"
    }
   ],
   "source": [
    "Recall_MVxDisease_DF.query(\"index == 'healthy'\")"
   ]
  },
  {
   "cell_type": "code",
   "execution_count": 62,
   "id": "0f66c149-a6c2-41c1-a8b7-5372a2488e3c",
   "metadata": {
    "execution": {
     "iopub.execute_input": "2024-11-04T14:53:22.581375Z",
     "iopub.status.busy": "2024-11-04T14:53:22.581033Z",
     "iopub.status.idle": "2024-11-04T14:53:22.587595Z",
     "shell.execute_reply": "2024-11-04T14:53:22.587287Z",
     "shell.execute_reply.started": "2024-11-04T14:53:22.581359Z"
    }
   },
   "outputs": [
    {
     "data": {
      "text/html": [
       "<div>\n",
       "<style scoped>\n",
       "    .dataframe tbody tr th:only-of-type {\n",
       "        vertical-align: middle;\n",
       "    }\n",
       "\n",
       "    .dataframe tbody tr th {\n",
       "        vertical-align: top;\n",
       "    }\n",
       "\n",
       "    .dataframe thead th {\n",
       "        text-align: right;\n",
       "    }\n",
       "</style>\n",
       "<table border=\"1\" class=\"dataframe\">\n",
       "  <thead>\n",
       "    <tr style=\"text-align: right;\">\n",
       "      <th></th>\n",
       "      <th>index</th>\n",
       "      <th>SPLIT</th>\n",
       "      <th>score</th>\n",
       "      <th>metric</th>\n",
       "    </tr>\n",
       "  </thead>\n",
       "  <tbody>\n",
       "    <tr>\n",
       "      <th>1</th>\n",
       "      <td>healthy</td>\n",
       "      <td>0</td>\n",
       "      <td>0.910714</td>\n",
       "      <td>Precision</td>\n",
       "    </tr>\n",
       "    <tr>\n",
       "      <th>21</th>\n",
       "      <td>healthy</td>\n",
       "      <td>1</td>\n",
       "      <td>0.980769</td>\n",
       "      <td>Precision</td>\n",
       "    </tr>\n",
       "    <tr>\n",
       "      <th>41</th>\n",
       "      <td>healthy</td>\n",
       "      <td>2</td>\n",
       "      <td>1.000000</td>\n",
       "      <td>Precision</td>\n",
       "    </tr>\n",
       "    <tr>\n",
       "      <th>61</th>\n",
       "      <td>healthy</td>\n",
       "      <td>3</td>\n",
       "      <td>0.941176</td>\n",
       "      <td>Precision</td>\n",
       "    </tr>\n",
       "    <tr>\n",
       "      <th>81</th>\n",
       "      <td>healthy</td>\n",
       "      <td>4</td>\n",
       "      <td>0.938776</td>\n",
       "      <td>Precision</td>\n",
       "    </tr>\n",
       "  </tbody>\n",
       "</table>\n",
       "</div>"
      ],
      "text/plain": [
       "      index SPLIT     score     metric\n",
       "1   healthy     0  0.910714  Precision\n",
       "21  healthy     1  0.980769  Precision\n",
       "41  healthy     2  1.000000  Precision\n",
       "61  healthy     3  0.941176  Precision\n",
       "81  healthy     4  0.938776  Precision"
      ]
     },
     "execution_count": 62,
     "metadata": {},
     "output_type": "execute_result"
    }
   ],
   "source": [
    "Precision_MVxDisease_DF.query(\"index == 'healthy'\")"
   ]
  },
  {
   "cell_type": "code",
   "execution_count": 64,
   "id": "ca3a95a4-3e89-4715-9459-7822c5d166a1",
   "metadata": {
    "execution": {
     "iopub.execute_input": "2024-11-04T14:53:24.249803Z",
     "iopub.status.busy": "2024-11-04T14:53:24.249552Z",
     "iopub.status.idle": "2024-11-04T14:53:24.257799Z",
     "shell.execute_reply": "2024-11-04T14:53:24.257484Z",
     "shell.execute_reply.started": "2024-11-04T14:53:24.249789Z"
    }
   },
   "outputs": [
    {
     "data": {
      "text/plain": [
       "array([0.94354839, 0.95330739, 0.86111111, 0.5       , 0.86363636,\n",
       "       0.9       , 0.94366197, 0.86363636, 0.95      , 0.77419355,\n",
       "       1.        , 0.81481481, 0.75      , 0.73333333, 1.        ,\n",
       "       1.        , 0.92857143, 0.57142857, 1.        , 0.76923077])"
      ]
     },
     "execution_count": 64,
     "metadata": {},
     "output_type": "execute_result"
    }
   ],
   "source": [
    "precision_score(y_true=MVdf.disease_true,y_pred=MVdf.disease_pred, labels = MVdf.disease_true.unique(), average=None)"
   ]
  },
  {
   "cell_type": "code",
   "execution_count": 65,
   "id": "26688a47-b51b-4aca-a53b-63679949f4aa",
   "metadata": {
    "execution": {
     "iopub.execute_input": "2024-11-04T14:53:25.144573Z",
     "iopub.status.busy": "2024-11-04T14:53:25.144341Z",
     "iopub.status.idle": "2024-11-04T14:53:25.147543Z",
     "shell.execute_reply": "2024-11-04T14:53:25.147231Z",
     "shell.execute_reply.started": "2024-11-04T14:53:25.144558Z"
    }
   },
   "outputs": [
    {
     "data": {
      "text/plain": [
       "array(['COVID', 'healthy', 'sepsis', 'flu', 'HNSCC', 'NPC', 'SLE', 'UC',\n",
       "       'CD', 'PS', 'RA', 'PSA', 'asthma', 'COPD', 'BRCA', 'cirrhosis',\n",
       "       'CRC', 'MS', 'HIV', 'HBV'], dtype=object)"
      ]
     },
     "execution_count": 65,
     "metadata": {},
     "output_type": "execute_result"
    }
   ],
   "source": [
    "MVdf.disease_true.unique()"
   ]
  },
  {
   "cell_type": "code",
   "execution_count": 66,
   "id": "a1595324-323e-4c8c-acd0-6ba12cbed2f6",
   "metadata": {
    "execution": {
     "iopub.execute_input": "2024-11-04T14:53:25.372631Z",
     "iopub.status.busy": "2024-11-04T14:53:25.372255Z",
     "iopub.status.idle": "2024-11-04T14:53:25.380148Z",
     "shell.execute_reply": "2024-11-04T14:53:25.379805Z",
     "shell.execute_reply.started": "2024-11-04T14:53:25.372618Z"
    }
   },
   "outputs": [
    {
     "data": {
      "text/plain": [
       "array([1.        , 0.90740741, 0.88571429, 0.18181818, 0.9047619 ,\n",
       "       0.9       , 0.94366197, 0.86363636, 0.9047619 , 0.92307692,\n",
       "       0.78947368, 0.84615385, 1.        , 0.91666667, 0.83333333,\n",
       "       0.875     , 0.92857143, 0.8       , 0.83333333, 0.66666667])"
      ]
     },
     "execution_count": 66,
     "metadata": {},
     "output_type": "execute_result"
    }
   ],
   "source": [
    "recall_score(y_true=MVdf.disease_true,y_pred=MVdf.disease_pred, labels = MVdf.disease_true.unique(), average=None)"
   ]
  },
  {
   "cell_type": "code",
   "execution_count": 67,
   "id": "3d913c9d-aab1-49d8-8a01-06274f9f046b",
   "metadata": {
    "execution": {
     "iopub.execute_input": "2024-11-04T14:53:26.900718Z",
     "iopub.status.busy": "2024-11-04T14:53:26.900458Z",
     "iopub.status.idle": "2024-11-04T14:53:26.905550Z",
     "shell.execute_reply": "2024-11-04T14:53:26.905243Z",
     "shell.execute_reply.started": "2024-11-04T14:53:26.900703Z"
    }
   },
   "outputs": [],
   "source": [
    "countObs = (MVdf.groupby(['SPLIT','disease_true']).size().reset_index()\n",
    "            .groupby(['disease_true']).mean()\n",
    "            .drop('SPLIT',axis=1))"
   ]
  },
  {
   "cell_type": "code",
   "execution_count": 68,
   "id": "5bfdeabf-12f2-44dd-9a34-4bb769b592a6",
   "metadata": {
    "execution": {
     "iopub.execute_input": "2024-11-04T14:53:27.059371Z",
     "iopub.status.busy": "2024-11-04T14:53:27.059142Z",
     "iopub.status.idle": "2024-11-04T14:53:27.061111Z",
     "shell.execute_reply": "2024-11-04T14:53:27.060814Z",
     "shell.execute_reply.started": "2024-11-04T14:53:27.059358Z"
    }
   },
   "outputs": [],
   "source": [
    "from customPalette import diseases_palette"
   ]
  },
  {
   "cell_type": "code",
   "execution_count": null,
   "id": "0c81c70f-41ab-4e11-9ad2-16f84549a754",
   "metadata": {
    "execution": {
     "iopub.execute_input": "2024-11-04T15:07:56.290445Z",
     "iopub.status.busy": "2024-11-04T15:07:56.290022Z",
     "iopub.status.idle": "2024-11-04T15:07:58.529492Z",
     "shell.execute_reply": "2024-11-04T15:07:58.529125Z",
     "shell.execute_reply.started": "2024-11-04T15:07:56.290429Z"
    }
   },
   "outputs": [
    {
     "data": {
      "image/png": "[encoded data removed]",
      "text/plain": [
       "<Figure size 1500x700 with 4 Axes>"
      ]
     },
     "metadata": {},
     "output_type": "display_data"
    }
   ],
   "source": [
    "import matplotlib.pyplot as plt\n",
    "import seaborn as sns\n",
    "\n",
    "# Assuming MVxDisease_DF, elementList, and countObs are defined earlier in the code.\n",
    "# MVxDisease_DF = pd.DataFrame(...)\n",
    "# elementList = [...]\n",
    "# countObs = pd.DataFrame(...)\n",
    "\n",
    "# Get unique metrics\n",
    "metrics = MVxDisease_DF['metric'].unique()\n",
    "\n",
    "# Create a subplot for each metric\n",
    "fig, axs = plt.subplots(nrows=2, ncols=2, figsize=(15, 7), sharex=True, sharey=True)\n",
    "\n",
    "c=0\n",
    "for ax, metric in zip(axs.flatten(), metrics):\n",
    "    # Filter the DataFrame for the current metric\n",
    "    df = MVxDisease_DF[MVxDisease_DF['metric'] == metric]\n",
    "    \n",
    "    # Create a boxplot\n",
    "    g = sns.boxplot(x=\"disease\", y=\"score\", order=disease_cat_ordDF.query(\"elementList != 'Na'\").elementList,\n",
    "                    data=df, ax=ax, hue='disease', palette = diseases_palette)\n",
    "    \n",
    "    # Set title\n",
    "    ax.set_title(f'{metric}')\n",
    "    tickLabels = [[l for l in t.get_text().split()][0] for t in ax.get_xticklabels()]\n",
    "    if len(tickLabels) > 0:\n",
    "        ax.set_xticks(ax.get_xticks(), [l[0].upper() + l[1:] for l in tickLabels])\n",
    "\n",
    "    ax.tick_params(axis='x',labelrotation=90)\n",
    "    \n",
    "    # Add the number of observations on top of the boxplots\n",
    "    # ax.text(-1.4, 1.06, \"mean(# sample)\", horizontalalignment='center')\n",
    "    if c<2:\n",
    "        for i, d in enumerate(elementList):\n",
    "            ax.text(i, 1.06, f'{countObs.loc[d,0]}', horizontalalignment='center')\n",
    "    c += 1\n",
    "\n",
    "# Adjust the layout\n",
    "plt.tight_layout()\n",
    "plt.savefig(here(f\"03_downstream_analysis/09_patient_classifier/5foldCV/results/figures/MajorityVoting_boxplot_Waccuracy_F1_Precision_Recall.pdf\"))\n",
    "# Show the plot\n",
    "plt.show()\n",
    "\n"
   ]
  },
  {
   "cell_type": "code",
   "execution_count": null,
   "id": "a29d1226-a43b-42f2-9767-354d0943403d",
   "metadata": {},
   "outputs": [],
   "source": []
  }
 ],
 "metadata": {
  "kernelspec": {
   "display_name": "Python 3 (ipykernel)",
   "language": "python",
   "name": "python3"
  },
  "language_info": {
   "codemirror_mode": {
    "name": "ipython",
    "version": 3
   },
   "file_extension": ".py",
   "mimetype": "text/x-python",
   "name": "python",
   "nbconvert_exporter": "python",
   "pygments_lexer": "ipython3",
   "version": "3.12.3"
  }
 },
 "nbformat": 4,
 "nbformat_minor": 5
}
